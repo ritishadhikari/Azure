{
 "cells": [
  {
   "cell_type": "code",
   "execution_count": 0,
   "metadata": {
    "application/vnd.databricks.v1+cell": {
     "cellMetadata": {
      "byteLimit": 2048000,
      "rowLimit": 10000
     },
     "inputWidgets": {},
     "nuid": "1e3953fa-3ade-458b-a28d-9fe9cbd7964b",
     "showTitle": false,
     "title": ""
    }
   },
   "outputs": [],
   "source": [
    "from pyspark.sql.types import (StringType,StructField,\n",
    "                               StructType,IntegerType,DateType,FloatType)\n",
    "from pyspark.sql.functions import year\n",
    "\n",
    "from matplotlib import pyplot as plt\n",
    "import seaborn as sns"
   ]
  },
  {
   "cell_type": "code",
   "execution_count": 0,
   "metadata": {
    "application/vnd.databricks.v1+cell": {
     "cellMetadata": {
      "byteLimit": 2048000,
      "rowLimit": 10000
     },
     "inputWidgets": {},
     "nuid": "149b9497-451e-4d71-b43c-2b8ef47827f4",
     "showTitle": false,
     "title": ""
    }
   },
   "outputs": [
    {
     "output_type": "stream",
     "name": "stderr",
     "output_type": "stream",
     "text": [
      "rm: cannot remove '/dbfs/spark_lab': No such file or directory\n--2024-06-24 06:18:06--  https://raw.githubusercontent.com/MicrosoftLearning/mslearn-databricks/main/data/2019.csv\nResolving raw.githubusercontent.com (raw.githubusercontent.com)... 185.199.110.133, 185.199.111.133, 185.199.109.133, ...\nConnecting to raw.githubusercontent.com (raw.githubusercontent.com)|185.199.110.133|:443... connected.\nHTTP request sent, awaiting response... 200 OK\nLength: 122681 (120K) [text/plain]\nSaving to: ‘/dbfs/spark_lab/2019.csv’\n\n     0K .......... .......... .......... .......... .......... 41% 4.08M 0s\n    50K .......... .......... .......... .......... .......... 83% 19.9M 0s\n   100K .......... .........                                  100% 67.3M=0.01s\n\n2024-06-24 06:18:06 (7.96 MB/s) - ‘/dbfs/spark_lab/2019.csv’ saved [122681/122681]\n\n--2024-06-24 06:18:06--  https://raw.githubusercontent.com/MicrosoftLearning/mslearn-databricks/main/data/2020.csv\nResolving raw.githubusercontent.com (raw.githubusercontent.com)... 185.199.111.133, 185.199.109.133, 185.199.108.133, ...\nConnecting to raw.githubusercontent.com (raw.githubusercontent.com)|185.199.111.133|:443... connected.\nHTTP request sent, awaiting response... 200 OK\nLength: 283396 (277K) [text/plain]\nSaving to: ‘/dbfs/spark_lab/2020.csv’\n\n     0K .......... .......... .......... .......... .......... 18% 13.4M 0s\n    50K .......... .......... .......... .......... .......... 36% 27.2M 0s\n   100K .......... .......... .......... .......... .......... 54% 26.9M 0s\n   150K .......... .......... .......... .......... .......... 72% 22.0M 0s\n   200K .......... .......... .......... .......... .......... 90% 21.3M 0s\n   250K .......... .......... ......                          100% 30.9M=0.01s\n\n2024-06-24 06:18:06 (21.4 MB/s) - ‘/dbfs/spark_lab/2020.csv’ saved [283396/283396]\n\n--2024-06-24 06:18:06--  https://raw.githubusercontent.com/MicrosoftLearning/mslearn-databricks/main/data/2021.csv\nResolving raw.githubusercontent.com (raw.githubusercontent.com)... 185.199.110.133, 185.199.111.133, 185.199.108.133, ...\nConnecting to raw.githubusercontent.com (raw.githubusercontent.com)|185.199.110.133|:443... connected.\nHTTP request sent, awaiting response... 200 OK\nLength: 2869399 (2.7M) [text/plain]\nSaving to: ‘/dbfs/spark_lab/2021.csv’\n\n     0K .......... .......... .......... .......... ..........  1% 5.84M 0s\n    50K .......... .......... .......... .......... ..........  3% 21.1M 0s\n   100K .......... .......... .......... .......... ..........  5% 18.0M 0s\n   150K .......... .......... .......... .......... ..........  7% 8.23M 0s\n   200K .......... .......... .......... .......... ..........  8% 16.2M 0s\n   250K .......... .......... .......... .......... .......... 10% 31.2M 0s\n   300K .......... .......... .......... .......... .......... 12% 29.4M 0s\n   350K .......... .......... .......... .......... .......... 14% 29.7M 0s\n   400K .......... .......... .......... .......... .......... 16% 27.9M 0s\n   450K .......... .......... .......... .......... .......... 17% 30.7M 0s\n   500K .......... .......... .......... .......... .......... 19% 25.6M 0s\n   550K .......... .......... .......... .......... .......... 21% 28.6M 0s\n   600K .......... .......... .......... .......... .......... 23% 22.5M 0s\n   650K .......... .......... .......... .......... .......... 24% 20.8M 0s\n   700K .......... .......... .......... .......... .......... 26% 24.1M 0s\n   750K .......... .......... .......... .......... .......... 28% 24.0M 0s\n   800K .......... .......... .......... .......... .......... 30% 26.1M 0s\n   850K .......... .......... .......... .......... .......... 32% 16.2M 0s\n   900K .......... .......... .......... .......... .......... 33% 19.6M 0s\n   950K .......... .......... .......... .......... .......... 35% 16.3M 0s\n  1000K .......... .......... .......... .......... .......... 37% 24.3M 0s\n  1050K .......... .......... .......... .......... .......... 39% 8.97M 0s\n  1100K .......... .......... .......... .......... .......... 41% 25.8M 0s\n  1150K .......... .......... .......... .......... .......... 42% 17.7M 0s\n  1200K .......... .......... .......... .......... .......... 44% 21.9M 0s\n  1250K .......... .......... .......... .......... .......... 46% 20.9M 0s\n  1300K .......... .......... .......... .......... .......... 48% 24.2M 0s\n  1350K .......... .......... .......... .......... .......... 49% 17.3M 0s\n  1400K .......... .......... .......... .......... .......... 51% 22.5M 0s\n  1450K .......... .......... .......... .......... .......... 53% 16.0M 0s\n  1500K .......... .......... .......... .......... .......... 55% 23.3M 0s\n  1550K .......... .......... .......... .......... .......... 57% 22.1M 0s\n  1600K .......... .......... .......... .......... .......... 58% 22.6M 0s\n  1650K .......... .......... .......... .......... .......... 60% 19.0M 0s\n  1700K .......... .......... .......... .......... .......... 62% 21.1M 0s\n  1750K .......... .......... .......... .......... .......... 64% 28.4M 0s\n  1800K .......... .......... .......... .......... .......... 66% 24.3M 0s\n  1850K .......... .......... .......... .......... .......... 67% 17.7M 0s\n  1900K .......... .......... .......... .......... .......... 69% 22.5M 0s\n  1950K .......... .......... .......... .......... .......... 71% 22.5M 0s\n  2000K .......... .......... .......... .......... .......... 73% 27.0M 0s\n  2050K .......... .......... .......... .......... .......... 74% 19.1M 0s\n  2100K .......... .......... .......... .......... .......... 76% 27.3M 0s\n  2150K .......... .......... .......... .......... .......... 78% 23.7M 0s\n  2200K .......... .......... .......... .......... .......... 80% 25.3M 0s\n  2250K .......... .......... .......... .......... .......... 82% 21.6M 0s\n  2300K .......... .......... .......... .......... .......... 83% 22.4M 0s\n  2350K .......... .......... .......... .......... .......... 85% 9.02M 0s\n  2400K .......... .......... .......... .......... .......... 87% 17.0M 0s\n  2450K .......... .......... .......... .......... .......... 89% 19.9M 0s\n  2500K .......... .......... .......... .......... .......... 91% 22.2M 0s\n  2550K .......... .......... .......... .......... .......... 92% 18.6M 0s\n  2600K .......... .......... .......... .......... .......... 94% 19.6M 0s\n  2650K .......... .......... .......... .......... .......... 96% 16.6M 0s\n  2700K .......... .......... .......... .......... .......... 98% 30.7M 0s\n  2750K .......... .......... .......... .......... .......... 99% 42.2M 0s\n  2800K ..                                                    100% 11.4M=0.1s\n\n2024-06-24 06:18:07 (19.5 MB/s) - ‘/dbfs/spark_lab/2021.csv’ saved [2869399/2869399]\n\n"
     ]
    }
   ],
   "source": [
    "%sh\n",
    "rm -r /dbfs/spark_lab\n",
    "mkdir /dbfs/spark_lab\n",
    "wget -O /dbfs/spark_lab/2019.csv https://raw.githubusercontent.com/MicrosoftLearning/mslearn-databricks/main/data/2019.csv\n",
    "wget -O /dbfs/spark_lab/2020.csv https://raw.githubusercontent.com/MicrosoftLearning/mslearn-databricks/main/data/2020.csv\n",
    "wget -O /dbfs/spark_lab/2021.csv https://raw.githubusercontent.com/MicrosoftLearning/mslearn-databricks/main/data/2021.csv"
   ]
  },
  {
   "cell_type": "code",
   "execution_count": 0,
   "metadata": {
    "application/vnd.databricks.v1+cell": {
     "cellMetadata": {
      "byteLimit": 2048000,
      "rowLimit": 10000
     },
     "inputWidgets": {},
     "nuid": "0d64cf27-ed37-4b35-b36b-f52ee43cd783",
     "showTitle": false,
     "title": ""
    }
   },
   "outputs": [
    {
     "output_type": "execute_result",
     "data": {
      "text/plain": [
       "[FileInfo(path='dbfs:/spark_lab/2019.csv', name='2019.csv', size=122681, modificationTime=1719209886000),\n",
       " FileInfo(path='dbfs:/spark_lab/2020.csv', name='2020.csv', size=283396, modificationTime=1719209886000),\n",
       " FileInfo(path='dbfs:/spark_lab/2021.csv', name='2021.csv', size=2869399, modificationTime=1719209887000)]"
      ]
     },
     "execution_count": 2,
     "metadata": {},
     "output_type": "execute_result"
    }
   ],
   "source": [
    "# Check whether the file is downloaded\n",
    "dbutils.fs.ls(\"/spark_lab\")"
   ]
  },
  {
   "cell_type": "code",
   "execution_count": 0,
   "metadata": {
    "application/vnd.databricks.v1+cell": {
     "cellMetadata": {
      "byteLimit": 2048000,
      "rowLimit": 10000
     },
     "inputWidgets": {},
     "nuid": "cc396aab-ebc0-415c-9ab5-21fae025313f",
     "showTitle": false,
     "title": ""
    }
   },
   "outputs": [],
   "source": [
    "# Loading a single dataframe\n",
    "df=spark.read.load(\"/spark_lab/2020.csv\",format=\"csv\")"
   ]
  },
  {
   "cell_type": "code",
   "execution_count": 0,
   "metadata": {
    "application/vnd.databricks.v1+cell": {
     "cellMetadata": {
      "byteLimit": 2048000,
      "rowLimit": 10000
     },
     "inputWidgets": {},
     "nuid": "8032b752-28fb-4057-8ab6-10a743e52397",
     "showTitle": false,
     "title": ""
    }
   },
   "outputs": [
    {
     "output_type": "display_data",
     "data": {
      "text/html": [
       "<style scoped>\n",
       "  .table-result-container {\n",
       "    max-height: 300px;\n",
       "    overflow: auto;\n",
       "  }\n",
       "  table, th, td {\n",
       "    border: 1px solid black;\n",
       "    border-collapse: collapse;\n",
       "  }\n",
       "  th, td {\n",
       "    padding: 5px;\n",
       "  }\n",
       "  th {\n",
       "    text-align: left;\n",
       "  }\n",
       "</style><div class='table-result-container'><table class='table-result'><thead style='background-color: white'><tr><th>_c0</th><th>_c1</th><th>_c2</th><th>_c3</th><th>_c4</th><th>_c5</th><th>_c6</th><th>_c7</th><th>_c8</th></tr></thead><tbody><tr><td>SO45347</td><td>1</td><td>2020-01-01</td><td>Clarence Raji</td><td>clarence35@adventure-works.com</td><td>Road-650 Black, 52</td><td>1</td><td>699.0982</td><td>55.9279</td></tr><tr><td>SO45345</td><td>1</td><td>2020-01-01</td><td>Bonnie Yuan</td><td>bonnie12@adventure-works.com</td><td>Road-150 Red, 52</td><td>1</td><td>3578.27</td><td>286.2616</td></tr><tr><td>SO45348</td><td>1</td><td>2020-01-01</td><td>Leah Guo</td><td>leah14@adventure-works.com</td><td>Road-150 Red, 44</td><td>1</td><td>3578.27</td><td>286.2616</td></tr><tr><td>SO45349</td><td>1</td><td>2020-01-01</td><td>Candice Sun</td><td>candice19@adventure-works.com</td><td>Road-150 Red, 48</td><td>1</td><td>3578.27</td><td>286.2616</td></tr><tr><td>SO45350</td><td>1</td><td>2020-01-01</td><td>Ruben Garcia</td><td>ruben16@adventure-works.com</td><td>Road-150 Red, 44</td><td>1</td><td>3578.27</td><td>286.2616</td></tr><tr><td>SO45346</td><td>1</td><td>2020-01-01</td><td>Dylan Harris</td><td>dylan43@adventure-works.com</td><td>Road-150 Red, 48</td><td>1</td><td>3578.27</td><td>286.2616</td></tr><tr><td>SO45353</td><td>1</td><td>2020-01-02</td><td>Jack Zimmerman</td><td>jack24@adventure-works.com</td><td>Road-150 Red, 62</td><td>1</td><td>3578.27</td><td>286.2616</td></tr><tr><td>SO45355</td><td>1</td><td>2020-01-02</td><td>Maurice Sharma</td><td>maurice10@adventure-works.com</td><td>Road-150 Red, 48</td><td>1</td><td>3578.27</td><td>286.2616</td></tr><tr><td>SO45354</td><td>1</td><td>2020-01-02</td><td>Armando Dominguez</td><td>armando13@adventure-works.com</td><td>Road-650 Black, 48</td><td>1</td><td>699.0982</td><td>55.9279</td></tr><tr><td>SO45356</td><td>1</td><td>2020-01-02</td><td>Douglas Suri</td><td>douglas4@adventure-works.com</td><td>Road-150 Red, 52</td><td>1</td><td>3578.27</td><td>286.2616</td></tr></tbody></table></div>"
      ]
     },
     "metadata": {
      "application/vnd.databricks.v1+output": {
       "addedWidgets": {},
       "aggData": [],
       "aggError": "",
       "aggOverflow": false,
       "aggSchema": [],
       "aggSeriesLimitReached": false,
       "aggType": "",
       "arguments": {},
       "columnCustomDisplayInfos": {},
       "data": [
        [
         "SO45347",
         "1",
         "2020-01-01",
         "Clarence Raji",
         "clarence35@adventure-works.com",
         "Road-650 Black, 52",
         "1",
         "699.0982",
         "55.9279"
        ],
        [
         "SO45345",
         "1",
         "2020-01-01",
         "Bonnie Yuan",
         "bonnie12@adventure-works.com",
         "Road-150 Red, 52",
         "1",
         "3578.27",
         "286.2616"
        ],
        [
         "SO45348",
         "1",
         "2020-01-01",
         "Leah Guo",
         "leah14@adventure-works.com",
         "Road-150 Red, 44",
         "1",
         "3578.27",
         "286.2616"
        ],
        [
         "SO45349",
         "1",
         "2020-01-01",
         "Candice Sun",
         "candice19@adventure-works.com",
         "Road-150 Red, 48",
         "1",
         "3578.27",
         "286.2616"
        ],
        [
         "SO45350",
         "1",
         "2020-01-01",
         "Ruben Garcia",
         "ruben16@adventure-works.com",
         "Road-150 Red, 44",
         "1",
         "3578.27",
         "286.2616"
        ],
        [
         "SO45346",
         "1",
         "2020-01-01",
         "Dylan Harris",
         "dylan43@adventure-works.com",
         "Road-150 Red, 48",
         "1",
         "3578.27",
         "286.2616"
        ],
        [
         "SO45353",
         "1",
         "2020-01-02",
         "Jack Zimmerman",
         "jack24@adventure-works.com",
         "Road-150 Red, 62",
         "1",
         "3578.27",
         "286.2616"
        ],
        [
         "SO45355",
         "1",
         "2020-01-02",
         "Maurice Sharma",
         "maurice10@adventure-works.com",
         "Road-150 Red, 48",
         "1",
         "3578.27",
         "286.2616"
        ],
        [
         "SO45354",
         "1",
         "2020-01-02",
         "Armando Dominguez",
         "armando13@adventure-works.com",
         "Road-650 Black, 48",
         "1",
         "699.0982",
         "55.9279"
        ],
        [
         "SO45356",
         "1",
         "2020-01-02",
         "Douglas Suri",
         "douglas4@adventure-works.com",
         "Road-150 Red, 52",
         "1",
         "3578.27",
         "286.2616"
        ]
       ],
       "datasetInfos": [],
       "dbfsResultPath": null,
       "isJsonSchema": true,
       "metadata": {},
       "overflow": false,
       "plotOptions": {
        "customPlotOptions": {},
        "displayType": "table",
        "pivotAggregation": null,
        "pivotColumns": null,
        "xColumns": null,
        "yColumns": null
       },
       "removedWidgets": [],
       "schema": [
        {
         "metadata": "{}",
         "name": "_c0",
         "type": "\"string\""
        },
        {
         "metadata": "{}",
         "name": "_c1",
         "type": "\"string\""
        },
        {
         "metadata": "{}",
         "name": "_c2",
         "type": "\"string\""
        },
        {
         "metadata": "{}",
         "name": "_c3",
         "type": "\"string\""
        },
        {
         "metadata": "{}",
         "name": "_c4",
         "type": "\"string\""
        },
        {
         "metadata": "{}",
         "name": "_c5",
         "type": "\"string\""
        },
        {
         "metadata": "{}",
         "name": "_c6",
         "type": "\"string\""
        },
        {
         "metadata": "{}",
         "name": "_c7",
         "type": "\"string\""
        },
        {
         "metadata": "{}",
         "name": "_c8",
         "type": "\"string\""
        }
       ],
       "type": "table"
      }
     },
     "output_type": "display_data"
    }
   ],
   "source": [
    "display(df.limit(num=10))"
   ]
  },
  {
   "cell_type": "code",
   "execution_count": 0,
   "metadata": {
    "application/vnd.databricks.v1+cell": {
     "cellMetadata": {
      "byteLimit": 2048000,
      "rowLimit": 10000
     },
     "inputWidgets": {},
     "nuid": "7500a257-2f13-4117-882b-9d015fa63767",
     "showTitle": false,
     "title": ""
    }
   },
   "outputs": [],
   "source": [
    "# Loading Multiple DataFrame at once\n",
    "dfall=spark.read.load(path=\"dbfs:/spark_lab/*.csv\",format=\"csv\")"
   ]
  },
  {
   "cell_type": "code",
   "execution_count": 0,
   "metadata": {
    "application/vnd.databricks.v1+cell": {
     "cellMetadata": {
      "byteLimit": 2048000,
      "rowLimit": 10000
     },
     "inputWidgets": {},
     "nuid": "5a32760d-3add-42d1-a23c-daf390bfbc3e",
     "showTitle": false,
     "title": ""
    }
   },
   "outputs": [
    {
     "output_type": "display_data",
     "data": {
      "text/html": [
       "<style scoped>\n",
       "  .table-result-container {\n",
       "    max-height: 300px;\n",
       "    overflow: auto;\n",
       "  }\n",
       "  table, th, td {\n",
       "    border: 1px solid black;\n",
       "    border-collapse: collapse;\n",
       "  }\n",
       "  th, td {\n",
       "    padding: 5px;\n",
       "  }\n",
       "  th {\n",
       "    text-align: left;\n",
       "  }\n",
       "</style><div class='table-result-container'><table class='table-result'><thead style='background-color: white'><tr><th>_c0</th><th>_c1</th><th>_c2</th><th>_c3</th><th>_c4</th><th>_c5</th><th>_c6</th><th>_c7</th><th>_c8</th></tr></thead><tbody><tr><td>SO49171</td><td>1</td><td>2021-01-01</td><td>Mariah Foster</td><td>mariah21@adventure-works.com</td><td>Road-250 Black, 48</td><td>1</td><td>2181.5625</td><td>174.525</td></tr><tr><td>SO49172</td><td>1</td><td>2021-01-01</td><td>Brian Howard</td><td>brian23@adventure-works.com</td><td>Road-250 Red, 44</td><td>1</td><td>2443.35</td><td>195.468</td></tr><tr><td>SO49173</td><td>1</td><td>2021-01-01</td><td>Linda Alvarez</td><td>linda19@adventure-works.com</td><td>Mountain-200 Silver, 38</td><td>1</td><td>2071.4196</td><td>165.7136</td></tr><tr><td>SO49174</td><td>1</td><td>2021-01-01</td><td>Gina Hernandez</td><td>gina4@adventure-works.com</td><td>Mountain-200 Silver, 42</td><td>1</td><td>2071.4196</td><td>165.7136</td></tr><tr><td>SO49178</td><td>1</td><td>2021-01-01</td><td>Beth Ruiz</td><td>beth4@adventure-works.com</td><td>Road-550-W Yellow, 44</td><td>1</td><td>1000.4375</td><td>80.035</td></tr><tr><td>SO49179</td><td>1</td><td>2021-01-01</td><td>Evan Ward</td><td>evan13@adventure-works.com</td><td>Road-550-W Yellow, 38</td><td>1</td><td>1000.4375</td><td>80.035</td></tr><tr><td>SO49175</td><td>1</td><td>2021-01-01</td><td>Margaret Guo</td><td>margaret24@adventure-works.com</td><td>Road-250 Red, 52</td><td>1</td><td>2443.35</td><td>195.468</td></tr><tr><td>SO49180</td><td>1</td><td>2021-01-01</td><td>Mitchell Yuan</td><td>mitchell6@adventure-works.com</td><td>Road-650 Black, 58</td><td>1</td><td>782.99</td><td>62.6392</td></tr><tr><td>SO49176</td><td>1</td><td>2021-01-01</td><td>Shawn Sharma</td><td>shawn11@adventure-works.com</td><td>Mountain-200 Silver, 46</td><td>1</td><td>2071.4196</td><td>165.7136</td></tr><tr><td>SO49177</td><td>1</td><td>2021-01-01</td><td>Barbara Chande</td><td>barbara44@adventure-works.com</td><td>Mountain-200 Silver, 42</td><td>1</td><td>2071.4196</td><td>165.7136</td></tr></tbody></table></div>"
      ]
     },
     "metadata": {
      "application/vnd.databricks.v1+output": {
       "addedWidgets": {},
       "aggData": [],
       "aggError": "",
       "aggOverflow": false,
       "aggSchema": [],
       "aggSeriesLimitReached": false,
       "aggType": "",
       "arguments": {},
       "columnCustomDisplayInfos": {},
       "data": [
        [
         "SO49171",
         "1",
         "2021-01-01",
         "Mariah Foster",
         "mariah21@adventure-works.com",
         "Road-250 Black, 48",
         "1",
         "2181.5625",
         "174.525"
        ],
        [
         "SO49172",
         "1",
         "2021-01-01",
         "Brian Howard",
         "brian23@adventure-works.com",
         "Road-250 Red, 44",
         "1",
         "2443.35",
         "195.468"
        ],
        [
         "SO49173",
         "1",
         "2021-01-01",
         "Linda Alvarez",
         "linda19@adventure-works.com",
         "Mountain-200 Silver, 38",
         "1",
         "2071.4196",
         "165.7136"
        ],
        [
         "SO49174",
         "1",
         "2021-01-01",
         "Gina Hernandez",
         "gina4@adventure-works.com",
         "Mountain-200 Silver, 42",
         "1",
         "2071.4196",
         "165.7136"
        ],
        [
         "SO49178",
         "1",
         "2021-01-01",
         "Beth Ruiz",
         "beth4@adventure-works.com",
         "Road-550-W Yellow, 44",
         "1",
         "1000.4375",
         "80.035"
        ],
        [
         "SO49179",
         "1",
         "2021-01-01",
         "Evan Ward",
         "evan13@adventure-works.com",
         "Road-550-W Yellow, 38",
         "1",
         "1000.4375",
         "80.035"
        ],
        [
         "SO49175",
         "1",
         "2021-01-01",
         "Margaret Guo",
         "margaret24@adventure-works.com",
         "Road-250 Red, 52",
         "1",
         "2443.35",
         "195.468"
        ],
        [
         "SO49180",
         "1",
         "2021-01-01",
         "Mitchell Yuan",
         "mitchell6@adventure-works.com",
         "Road-650 Black, 58",
         "1",
         "782.99",
         "62.6392"
        ],
        [
         "SO49176",
         "1",
         "2021-01-01",
         "Shawn Sharma",
         "shawn11@adventure-works.com",
         "Mountain-200 Silver, 46",
         "1",
         "2071.4196",
         "165.7136"
        ],
        [
         "SO49177",
         "1",
         "2021-01-01",
         "Barbara Chande",
         "barbara44@adventure-works.com",
         "Mountain-200 Silver, 42",
         "1",
         "2071.4196",
         "165.7136"
        ]
       ],
       "datasetInfos": [],
       "dbfsResultPath": null,
       "isJsonSchema": true,
       "metadata": {},
       "overflow": false,
       "plotOptions": {
        "customPlotOptions": {},
        "displayType": "table",
        "pivotAggregation": null,
        "pivotColumns": null,
        "xColumns": null,
        "yColumns": null
       },
       "removedWidgets": [],
       "schema": [
        {
         "metadata": "{}",
         "name": "_c0",
         "type": "\"string\""
        },
        {
         "metadata": "{}",
         "name": "_c1",
         "type": "\"string\""
        },
        {
         "metadata": "{}",
         "name": "_c2",
         "type": "\"string\""
        },
        {
         "metadata": "{}",
         "name": "_c3",
         "type": "\"string\""
        },
        {
         "metadata": "{}",
         "name": "_c4",
         "type": "\"string\""
        },
        {
         "metadata": "{}",
         "name": "_c5",
         "type": "\"string\""
        },
        {
         "metadata": "{}",
         "name": "_c6",
         "type": "\"string\""
        },
        {
         "metadata": "{}",
         "name": "_c7",
         "type": "\"string\""
        },
        {
         "metadata": "{}",
         "name": "_c8",
         "type": "\"string\""
        }
       ],
       "type": "table"
      }
     },
     "output_type": "display_data"
    }
   ],
   "source": [
    "display(dfall.limit(num=10))"
   ]
  },
  {
   "cell_type": "code",
   "execution_count": 0,
   "metadata": {
    "application/vnd.databricks.v1+cell": {
     "cellMetadata": {
      "byteLimit": 2048000,
      "rowLimit": 10000
     },
     "inputWidgets": {},
     "nuid": "deed0c06-506b-463e-96b8-39bd4df11634",
     "showTitle": false,
     "title": ""
    }
   },
   "outputs": [],
   "source": [
    "orderSchema = StructType([\n",
    "     StructField(\"SalesOrderNumber\", StringType()),\n",
    "     StructField(\"SalesOrderLineNumber\", IntegerType()),\n",
    "     StructField(\"OrderDate\", DateType()),\n",
    "     StructField(\"CustomerName\", StringType()),\n",
    "     StructField(\"Email\", StringType()),\n",
    "     StructField(\"Item\", StringType()),\n",
    "     StructField(\"Quantity\", IntegerType()),\n",
    "     StructField(\"UnitPrice\", FloatType()),\n",
    "     StructField(\"Tax\", FloatType())\n",
    "])"
   ]
  },
  {
   "cell_type": "code",
   "execution_count": 0,
   "metadata": {
    "application/vnd.databricks.v1+cell": {
     "cellMetadata": {
      "byteLimit": 2048000,
      "rowLimit": 10000
     },
     "inputWidgets": {},
     "nuid": "b0afbe53-2dc3-4c04-a82a-c3b7c11712bd",
     "showTitle": false,
     "title": ""
    }
   },
   "outputs": [],
   "source": [
    "df=spark.read.load(path=\"dbfs:/spark_lab/*.csv\",format=\"csv\",schema=orderSchema,header=False)"
   ]
  },
  {
   "cell_type": "code",
   "execution_count": 0,
   "metadata": {
    "application/vnd.databricks.v1+cell": {
     "cellMetadata": {
      "byteLimit": 2048000,
      "rowLimit": 10000
     },
     "inputWidgets": {},
     "nuid": "a25f253f-d122-4400-bb64-6c0d469c7456",
     "showTitle": false,
     "title": ""
    }
   },
   "outputs": [
    {
     "output_type": "stream",
     "name": "stdout",
     "output_type": "stream",
     "text": [
      "+----------------+--------------------+----------+-------------------+--------------------+--------------------+--------+---------+--------+\n|SalesOrderNumber|SalesOrderLineNumber| OrderDate|       CustomerName|               Email|                Item|Quantity|UnitPrice|     Tax|\n+----------------+--------------------+----------+-------------------+--------------------+--------------------+--------+---------+--------+\n|         SO49171|                   1|2021-01-01|      Mariah Foster|mariah21@adventur...|  Road-250 Black, 48|       1|2181.5625| 174.525|\n|         SO49172|                   1|2021-01-01|       Brian Howard|brian23@adventure...|    Road-250 Red, 44|       1|  2443.35| 195.468|\n|         SO49173|                   1|2021-01-01|      Linda Alvarez|linda19@adventure...|Mountain-200 Silv...|       1|2071.4197|165.7136|\n|         SO49174|                   1|2021-01-01|     Gina Hernandez|gina4@adventure-w...|Mountain-200 Silv...|       1|2071.4197|165.7136|\n|         SO49178|                   1|2021-01-01|          Beth Ruiz|beth4@adventure-w...|Road-550-W Yellow...|       1|1000.4375|  80.035|\n|         SO49179|                   1|2021-01-01|          Evan Ward|evan13@adventure-...|Road-550-W Yellow...|       1|1000.4375|  80.035|\n|         SO49175|                   1|2021-01-01|       Margaret Guo|margaret24@advent...|    Road-250 Red, 52|       1|  2443.35| 195.468|\n|         SO49180|                   1|2021-01-01|      Mitchell Yuan|mitchell6@adventu...|  Road-650 Black, 58|       1|   782.99| 62.6392|\n|         SO49176|                   1|2021-01-01|       Shawn Sharma|shawn11@adventure...|Mountain-200 Silv...|       1|2071.4197|165.7136|\n|         SO49177|                   1|2021-01-01|     Barbara Chande|barbara44@adventu...|Mountain-200 Silv...|       1|2071.4197|165.7136|\n|         SO49186|                   1|2021-01-02|            Cara Xu|cara8@adventure-w...|    Road-250 Red, 52|       1|  2443.35| 195.468|\n|         SO49187|                   1|2021-01-02|          Lacey Liu|lacey16@adventure...|  Road-250 Black, 58|       1|2181.5625| 174.525|\n|         SO49190|                   1|2021-01-02|           Omar Zhu|omar13@adventure-...|Road-550-W Yellow...|       1|1000.4375|  80.035|\n|         SO49185|                   1|2021-01-02|Cassandra Fernandez|cassandra17@adven...|Mountain-200 Blac...|       1|2049.0981|163.9279|\n|         SO49184|                   1|2021-01-02|    Monica Martinez|monica17@adventur...|Mountain-200 Blac...|       1|2049.0981|163.9279|\n|         SO49189|                   1|2021-01-02|     Marie Gonzalez|marie20@adventure...|  Road-650 Black, 48|       1|   782.99| 62.6392|\n|         SO49182|                   1|2021-01-02|     Alexandra Hall|alexandra89@adven...|    Road-250 Red, 48|       1|  2443.35| 195.468|\n|         SO49183|                   1|2021-01-02|     Alejandro Raji|alejandro46@adven...|    Road-250 Red, 52|       1|  2443.35| 195.468|\n|         SO49181|                   1|2021-01-02|    Derrick Jim�nez|derrick5@adventur...|  Road-250 Black, 48|       1|2181.5625| 174.525|\n|         SO49188|                   1|2021-01-02|           Erin Cox|erin15@adventure-...|Mountain-200 Blac...|       1|2049.0981|163.9279|\n+----------------+--------------------+----------+-------------------+--------------------+--------------------+--------+---------+--------+\nonly showing top 20 rows\n\n"
     ]
    }
   ],
   "source": [
    "df.show(n=20)"
   ]
  },
  {
   "cell_type": "code",
   "execution_count": 0,
   "metadata": {
    "application/vnd.databricks.v1+cell": {
     "cellMetadata": {
      "byteLimit": 2048000,
      "rowLimit": 10000
     },
     "inputWidgets": {},
     "nuid": "7cf06145-4c05-4444-864d-5e1e90c52904",
     "showTitle": false,
     "title": ""
    }
   },
   "outputs": [
    {
     "output_type": "display_data",
     "data": {
      "text/html": [
       "<style scoped>\n",
       "  .table-result-container {\n",
       "    max-height: 300px;\n",
       "    overflow: auto;\n",
       "  }\n",
       "  table, th, td {\n",
       "    border: 1px solid black;\n",
       "    border-collapse: collapse;\n",
       "  }\n",
       "  th, td {\n",
       "    padding: 5px;\n",
       "  }\n",
       "  th {\n",
       "    text-align: left;\n",
       "  }\n",
       "</style><div class='table-result-container'><table class='table-result'><thead style='background-color: white'><tr><th>SalesOrderNumber</th><th>SalesOrderLineNumber</th><th>OrderDate</th><th>CustomerName</th><th>Email</th><th>Item</th><th>Quantity</th><th>UnitPrice</th><th>Tax</th></tr></thead><tbody><tr><td>SO49171</td><td>1</td><td>2021-01-01</td><td>Mariah Foster</td><td>mariah21@adventure-works.com</td><td>Road-250 Black, 48</td><td>1</td><td>2181.5625</td><td>174.525</td></tr><tr><td>SO49172</td><td>1</td><td>2021-01-01</td><td>Brian Howard</td><td>brian23@adventure-works.com</td><td>Road-250 Red, 44</td><td>1</td><td>2443.35</td><td>195.468</td></tr><tr><td>SO49173</td><td>1</td><td>2021-01-01</td><td>Linda Alvarez</td><td>linda19@adventure-works.com</td><td>Mountain-200 Silver, 38</td><td>1</td><td>2071.4197</td><td>165.7136</td></tr><tr><td>SO49174</td><td>1</td><td>2021-01-01</td><td>Gina Hernandez</td><td>gina4@adventure-works.com</td><td>Mountain-200 Silver, 42</td><td>1</td><td>2071.4197</td><td>165.7136</td></tr><tr><td>SO49178</td><td>1</td><td>2021-01-01</td><td>Beth Ruiz</td><td>beth4@adventure-works.com</td><td>Road-550-W Yellow, 44</td><td>1</td><td>1000.4375</td><td>80.035</td></tr><tr><td>SO49179</td><td>1</td><td>2021-01-01</td><td>Evan Ward</td><td>evan13@adventure-works.com</td><td>Road-550-W Yellow, 38</td><td>1</td><td>1000.4375</td><td>80.035</td></tr><tr><td>SO49175</td><td>1</td><td>2021-01-01</td><td>Margaret Guo</td><td>margaret24@adventure-works.com</td><td>Road-250 Red, 52</td><td>1</td><td>2443.35</td><td>195.468</td></tr><tr><td>SO49180</td><td>1</td><td>2021-01-01</td><td>Mitchell Yuan</td><td>mitchell6@adventure-works.com</td><td>Road-650 Black, 58</td><td>1</td><td>782.99</td><td>62.6392</td></tr><tr><td>SO49176</td><td>1</td><td>2021-01-01</td><td>Shawn Sharma</td><td>shawn11@adventure-works.com</td><td>Mountain-200 Silver, 46</td><td>1</td><td>2071.4197</td><td>165.7136</td></tr><tr><td>SO49177</td><td>1</td><td>2021-01-01</td><td>Barbara Chande</td><td>barbara44@adventure-works.com</td><td>Mountain-200 Silver, 42</td><td>1</td><td>2071.4197</td><td>165.7136</td></tr><tr><td>SO49186</td><td>1</td><td>2021-01-02</td><td>Cara Xu</td><td>cara8@adventure-works.com</td><td>Road-250 Red, 52</td><td>1</td><td>2443.35</td><td>195.468</td></tr><tr><td>SO49187</td><td>1</td><td>2021-01-02</td><td>Lacey Liu</td><td>lacey16@adventure-works.com</td><td>Road-250 Black, 58</td><td>1</td><td>2181.5625</td><td>174.525</td></tr><tr><td>SO49190</td><td>1</td><td>2021-01-02</td><td>Omar Zhu</td><td>omar13@adventure-works.com</td><td>Road-550-W Yellow, 40</td><td>1</td><td>1000.4375</td><td>80.035</td></tr><tr><td>SO49185</td><td>1</td><td>2021-01-02</td><td>Cassandra Fernandez</td><td>cassandra17@adventure-works.com</td><td>Mountain-200 Black, 46</td><td>1</td><td>2049.0981</td><td>163.9279</td></tr><tr><td>SO49184</td><td>1</td><td>2021-01-02</td><td>Monica Martinez</td><td>monica17@adventure-works.com</td><td>Mountain-200 Black, 46</td><td>1</td><td>2049.0981</td><td>163.9279</td></tr><tr><td>SO49189</td><td>1</td><td>2021-01-02</td><td>Marie Gonzalez</td><td>marie20@adventure-works.com</td><td>Road-650 Black, 48</td><td>1</td><td>782.99</td><td>62.6392</td></tr><tr><td>SO49182</td><td>1</td><td>2021-01-02</td><td>Alexandra Hall</td><td>alexandra89@adventure-works.com</td><td>Road-250 Red, 48</td><td>1</td><td>2443.35</td><td>195.468</td></tr><tr><td>SO49183</td><td>1</td><td>2021-01-02</td><td>Alejandro Raji</td><td>alejandro46@adventure-works.com</td><td>Road-250 Red, 52</td><td>1</td><td>2443.35</td><td>195.468</td></tr><tr><td>SO49181</td><td>1</td><td>2021-01-02</td><td>Derrick Jim�nez</td><td>derrick5@adventure-works.com</td><td>Road-250 Black, 48</td><td>1</td><td>2181.5625</td><td>174.525</td></tr><tr><td>SO49188</td><td>1</td><td>2021-01-02</td><td>Erin Cox</td><td>erin15@adventure-works.com</td><td>Mountain-200 Black, 38</td><td>1</td><td>2049.0981</td><td>163.9279</td></tr></tbody></table></div>"
      ]
     },
     "metadata": {
      "application/vnd.databricks.v1+output": {
       "addedWidgets": {},
       "aggData": [],
       "aggError": "",
       "aggOverflow": false,
       "aggSchema": [],
       "aggSeriesLimitReached": false,
       "aggType": "",
       "arguments": {},
       "columnCustomDisplayInfos": {},
       "data": [
        [
         "SO49171",
         1,
         "2021-01-01",
         "Mariah Foster",
         "mariah21@adventure-works.com",
         "Road-250 Black, 48",
         1,
         2181.5625,
         174.525
        ],
        [
         "SO49172",
         1,
         "2021-01-01",
         "Brian Howard",
         "brian23@adventure-works.com",
         "Road-250 Red, 44",
         1,
         2443.35,
         195.468
        ],
        [
         "SO49173",
         1,
         "2021-01-01",
         "Linda Alvarez",
         "linda19@adventure-works.com",
         "Mountain-200 Silver, 38",
         1,
         2071.4197,
         165.7136
        ],
        [
         "SO49174",
         1,
         "2021-01-01",
         "Gina Hernandez",
         "gina4@adventure-works.com",
         "Mountain-200 Silver, 42",
         1,
         2071.4197,
         165.7136
        ],
        [
         "SO49178",
         1,
         "2021-01-01",
         "Beth Ruiz",
         "beth4@adventure-works.com",
         "Road-550-W Yellow, 44",
         1,
         1000.4375,
         80.035
        ],
        [
         "SO49179",
         1,
         "2021-01-01",
         "Evan Ward",
         "evan13@adventure-works.com",
         "Road-550-W Yellow, 38",
         1,
         1000.4375,
         80.035
        ],
        [
         "SO49175",
         1,
         "2021-01-01",
         "Margaret Guo",
         "margaret24@adventure-works.com",
         "Road-250 Red, 52",
         1,
         2443.35,
         195.468
        ],
        [
         "SO49180",
         1,
         "2021-01-01",
         "Mitchell Yuan",
         "mitchell6@adventure-works.com",
         "Road-650 Black, 58",
         1,
         782.99,
         62.6392
        ],
        [
         "SO49176",
         1,
         "2021-01-01",
         "Shawn Sharma",
         "shawn11@adventure-works.com",
         "Mountain-200 Silver, 46",
         1,
         2071.4197,
         165.7136
        ],
        [
         "SO49177",
         1,
         "2021-01-01",
         "Barbara Chande",
         "barbara44@adventure-works.com",
         "Mountain-200 Silver, 42",
         1,
         2071.4197,
         165.7136
        ],
        [
         "SO49186",
         1,
         "2021-01-02",
         "Cara Xu",
         "cara8@adventure-works.com",
         "Road-250 Red, 52",
         1,
         2443.35,
         195.468
        ],
        [
         "SO49187",
         1,
         "2021-01-02",
         "Lacey Liu",
         "lacey16@adventure-works.com",
         "Road-250 Black, 58",
         1,
         2181.5625,
         174.525
        ],
        [
         "SO49190",
         1,
         "2021-01-02",
         "Omar Zhu",
         "omar13@adventure-works.com",
         "Road-550-W Yellow, 40",
         1,
         1000.4375,
         80.035
        ],
        [
         "SO49185",
         1,
         "2021-01-02",
         "Cassandra Fernandez",
         "cassandra17@adventure-works.com",
         "Mountain-200 Black, 46",
         1,
         2049.0981,
         163.9279
        ],
        [
         "SO49184",
         1,
         "2021-01-02",
         "Monica Martinez",
         "monica17@adventure-works.com",
         "Mountain-200 Black, 46",
         1,
         2049.0981,
         163.9279
        ],
        [
         "SO49189",
         1,
         "2021-01-02",
         "Marie Gonzalez",
         "marie20@adventure-works.com",
         "Road-650 Black, 48",
         1,
         782.99,
         62.6392
        ],
        [
         "SO49182",
         1,
         "2021-01-02",
         "Alexandra Hall",
         "alexandra89@adventure-works.com",
         "Road-250 Red, 48",
         1,
         2443.35,
         195.468
        ],
        [
         "SO49183",
         1,
         "2021-01-02",
         "Alejandro Raji",
         "alejandro46@adventure-works.com",
         "Road-250 Red, 52",
         1,
         2443.35,
         195.468
        ],
        [
         "SO49181",
         1,
         "2021-01-02",
         "Derrick Jim�nez",
         "derrick5@adventure-works.com",
         "Road-250 Black, 48",
         1,
         2181.5625,
         174.525
        ],
        [
         "SO49188",
         1,
         "2021-01-02",
         "Erin Cox",
         "erin15@adventure-works.com",
         "Mountain-200 Black, 38",
         1,
         2049.0981,
         163.9279
        ]
       ],
       "datasetInfos": [],
       "dbfsResultPath": null,
       "isJsonSchema": true,
       "metadata": {},
       "overflow": false,
       "plotOptions": {
        "customPlotOptions": {},
        "displayType": "table",
        "pivotAggregation": null,
        "pivotColumns": null,
        "xColumns": null,
        "yColumns": null
       },
       "removedWidgets": [],
       "schema": [
        {
         "metadata": "{}",
         "name": "SalesOrderNumber",
         "type": "\"string\""
        },
        {
         "metadata": "{}",
         "name": "SalesOrderLineNumber",
         "type": "\"integer\""
        },
        {
         "metadata": "{}",
         "name": "OrderDate",
         "type": "\"date\""
        },
        {
         "metadata": "{}",
         "name": "CustomerName",
         "type": "\"string\""
        },
        {
         "metadata": "{}",
         "name": "Email",
         "type": "\"string\""
        },
        {
         "metadata": "{}",
         "name": "Item",
         "type": "\"string\""
        },
        {
         "metadata": "{}",
         "name": "Quantity",
         "type": "\"integer\""
        },
        {
         "metadata": "{}",
         "name": "UnitPrice",
         "type": "\"float\""
        },
        {
         "metadata": "{}",
         "name": "Tax",
         "type": "\"float\""
        }
       ],
       "type": "table"
      }
     },
     "output_type": "display_data"
    }
   ],
   "source": [
    "display(df.limit(num=20))"
   ]
  },
  {
   "cell_type": "code",
   "execution_count": 0,
   "metadata": {
    "application/vnd.databricks.v1+cell": {
     "cellMetadata": {
      "byteLimit": 2048000,
      "rowLimit": 10000
     },
     "inputWidgets": {},
     "nuid": "73e0bfd7-221b-4f58-ad53-4799d79ee242",
     "showTitle": false,
     "title": ""
    }
   },
   "outputs": [
    {
     "output_type": "stream",
     "name": "stdout",
     "output_type": "stream",
     "text": [
      "root\n |-- SalesOrderNumber: string (nullable = true)\n |-- SalesOrderLineNumber: integer (nullable = true)\n |-- OrderDate: date (nullable = true)\n |-- CustomerName: string (nullable = true)\n |-- Email: string (nullable = true)\n |-- Item: string (nullable = true)\n |-- Quantity: integer (nullable = true)\n |-- UnitPrice: float (nullable = true)\n |-- Tax: float (nullable = true)\n\n"
     ]
    }
   ],
   "source": [
    "df.printSchema()"
   ]
  },
  {
   "cell_type": "code",
   "execution_count": 0,
   "metadata": {
    "application/vnd.databricks.v1+cell": {
     "cellMetadata": {
      "byteLimit": 2048000,
      "rowLimit": 10000
     },
     "inputWidgets": {},
     "nuid": "95e9f3a2-dec0-4580-b4ec-ba6ed5db9d61",
     "showTitle": false,
     "title": ""
    }
   },
   "outputs": [],
   "source": [
    "customers=df['CustomerName','Email']"
   ]
  },
  {
   "cell_type": "code",
   "execution_count": 0,
   "metadata": {
    "application/vnd.databricks.v1+cell": {
     "cellMetadata": {
      "byteLimit": 2048000,
      "rowLimit": 10000
     },
     "inputWidgets": {},
     "nuid": "dbd749db-1f50-4f3c-8b52-5d680bffc339",
     "showTitle": false,
     "title": ""
    }
   },
   "outputs": [
    {
     "output_type": "stream",
     "name": "stdout",
     "output_type": "stream",
     "text": [
      "Count of Customers: 32718\nCount of Distinct Customers: 12427\n"
     ]
    }
   ],
   "source": [
    "print(f\"Count of Customers: {customers.count()}\")\n",
    "print(f\"Count of Distinct Customers: {customers.distinct().count()}\")"
   ]
  },
  {
   "cell_type": "code",
   "execution_count": 0,
   "metadata": {
    "application/vnd.databricks.v1+cell": {
     "cellMetadata": {
      "byteLimit": 2048000,
      "rowLimit": 10000
     },
     "inputWidgets": {},
     "nuid": "a3f6afa1-76dd-4f90-a315-48aebb9d6e65",
     "showTitle": false,
     "title": ""
    }
   },
   "outputs": [
    {
     "output_type": "stream",
     "name": "stdout",
     "output_type": "stream",
     "text": [
      "DataFrame[CustomerName: string, Email: string]\n"
     ]
    }
   ],
   "source": [
    "print(customers.distinct())"
   ]
  },
  {
   "cell_type": "code",
   "execution_count": 0,
   "metadata": {
    "application/vnd.databricks.v1+cell": {
     "cellMetadata": {
      "byteLimit": 2048000,
      "rowLimit": 10000
     },
     "inputWidgets": {},
     "nuid": "06ef7406-b0a4-487c-a5cb-7e1d81b4922a",
     "showTitle": false,
     "title": ""
    }
   },
   "outputs": [
    {
     "output_type": "stream",
     "name": "stdout",
     "output_type": "stream",
     "text": [
      "Count of Customers: 133\nCount of Distinct Customers: 133\nDistinct Customers: DataFrame[CustomerName: string, Email: string]\n"
     ]
    }
   ],
   "source": [
    "customers=df['CustomerName','Email'].where(df['Item']==\"Road-250 Red, 52\")\n",
    "print(f\"Count of Customers: {customers.count()}\")\n",
    "print(f\"Count of Distinct Customers: {customers.distinct().count()}\")\n",
    "print(f\"Distinct Customers: {customers.distinct()}\")"
   ]
  },
  {
   "cell_type": "code",
   "execution_count": 0,
   "metadata": {
    "application/vnd.databricks.v1+cell": {
     "cellMetadata": {
      "byteLimit": 2048000,
      "rowLimit": 10000
     },
     "inputWidgets": {},
     "nuid": "61b14aed-a895-4aa4-8010-5ae952755b24",
     "showTitle": false,
     "title": ""
    }
   },
   "outputs": [
    {
     "output_type": "display_data",
     "data": {
      "text/html": [
       "<style scoped>\n",
       "  .table-result-container {\n",
       "    max-height: 300px;\n",
       "    overflow: auto;\n",
       "  }\n",
       "  table, th, td {\n",
       "    border: 1px solid black;\n",
       "    border-collapse: collapse;\n",
       "  }\n",
       "  th, td {\n",
       "    padding: 5px;\n",
       "  }\n",
       "  th {\n",
       "    text-align: left;\n",
       "  }\n",
       "</style><div class='table-result-container'><table class='table-result'><thead style='background-color: white'><tr><th>Item</th><th>sum(Quantity)</th></tr></thead><tbody><tr><td>Mountain-200 Black, 42</td><td>388</td></tr><tr><td>Touring-1000 Yellow, 46</td><td>74</td></tr><tr><td>Touring-1000 Blue, 54</td><td>67</td></tr><tr><td>Short-Sleeve Classic Jersey, S</td><td>216</td></tr><tr><td>Women's Mountain Shorts, S</td><td>146</td></tr><tr><td>Long-Sleeve Logo Jersey, L</td><td>234</td></tr><tr><td>Mountain-400-W Silver, 42</td><td>59</td></tr><tr><td>Racing Socks, M</td><td>165</td></tr><tr><td>Mountain-200 Silver, 42</td><td>359</td></tr><tr><td>Road-750 Black, 58</td><td>170</td></tr><tr><td>Half-Finger Gloves, L</td><td>209</td></tr><tr><td>Road-350-W Yellow, 44</td><td>81</td></tr><tr><td>Mountain-400-W Silver, 38</td><td>68</td></tr><tr><td>Mountain Bottle Cage</td><td>1000</td></tr><tr><td>Touring-1000 Blue, 46</td><td>75</td></tr><tr><td>Mountain-500 Silver, 42</td><td>22</td></tr><tr><td>HL Mountain Tire</td><td>702</td></tr><tr><td>Mountain-400-W Silver, 40</td><td>61</td></tr><tr><td>Bike Wash - Dissolver</td><td>473</td></tr><tr><td>Road-550-W Yellow, 40</td><td>156</td></tr><tr><td>Short-Sleeve Classic Jersey, XL</td><td>185</td></tr><tr><td>Mountain-500 Black, 52</td><td>16</td></tr><tr><td>Road-250 Red, 48</td><td>162</td></tr><tr><td>Mountain-400-W Silver, 46</td><td>62</td></tr><tr><td>Touring-3000 Blue, 50</td><td>30</td></tr><tr><td>Road-250 Red, 52</td><td>133</td></tr><tr><td>Water Bottle - 30 oz.</td><td>2097</td></tr><tr><td>Road-650 Red, 52</td><td>61</td></tr><tr><td>Road-250 Black, 52</td><td>276</td></tr><tr><td>Touring-3000 Blue, 44</td><td>31</td></tr><tr><td>Mountain-500 Silver, 52</td><td>27</td></tr><tr><td>Touring Tire</td><td>437</td></tr><tr><td>Classic Vest, L</td><td>84</td></tr><tr><td>Road-550-W Yellow, 48</td><td>158</td></tr><tr><td>AWC Logo Cap</td><td>1063</td></tr><tr><td>Touring-2000 Blue, 60</td><td>40</td></tr><tr><td>Patch Kit/8 Patches</td><td>1621</td></tr><tr><td>Mountain-500 Black, 42</td><td>26</td></tr><tr><td>ML Mountain Tire</td><td>608</td></tr><tr><td>HL Road Tire</td><td>470</td></tr><tr><td>Touring Tire Tube</td><td>708</td></tr><tr><td>Mountain-500 Silver, 44</td><td>19</td></tr><tr><td>Road-350-W Yellow, 48</td><td>98</td></tr><tr><td>Half-Finger Gloves, M</td><td>231</td></tr><tr><td>Short-Sleeve Classic Jersey, L</td><td>193</td></tr><tr><td>Women's Mountain Shorts, L</td><td>182</td></tr><tr><td>Road-650 Black, 60</td><td>76</td></tr><tr><td>Women's Mountain Shorts, M</td><td>186</td></tr><tr><td>Touring-3000 Blue, 58</td><td>30</td></tr><tr><td>ML Road Tire</td><td>460</td></tr><tr><td>Touring-3000 Blue, 62</td><td>24</td></tr><tr><td>Road-650 Red, 48</td><td>88</td></tr><tr><td>Road-650 Black, 44</td><td>63</td></tr><tr><td>Road-250 Black, 44</td><td>223</td></tr><tr><td>All-Purpose Bike Stand</td><td>135</td></tr><tr><td>Touring-2000 Blue, 54</td><td>44</td></tr><tr><td>Half-Finger Gloves, S</td><td>258</td></tr><tr><td>Road-250 Red, 58</td><td>256</td></tr><tr><td>Mountain-500 Black, 48</td><td>22</td></tr><tr><td>Classic Vest, M</td><td>92</td></tr><tr><td>Mountain-200 Silver, 38</td><td>370</td></tr><tr><td>Long-Sleeve Logo Jersey, M</td><td>202</td></tr><tr><td>Road-350-W Yellow, 40</td><td>110</td></tr><tr><td>Road-650 Red, 58</td><td>74</td></tr><tr><td>Long-Sleeve Logo Jersey, S</td><td>186</td></tr><tr><td>Sport-100 Helmet, Blue</td><td>1015</td></tr><tr><td>Touring-1000 Blue, 50</td><td>73</td></tr><tr><td>Road-250 Red, 44</td><td>144</td></tr><tr><td>Road-650 Black, 62</td><td>65</td></tr><tr><td>Road-250 Black, 58</td><td>226</td></tr><tr><td>Racing Socks, L</td><td>135</td></tr><tr><td>Touring-3000 Yellow, 58</td><td>21</td></tr><tr><td>Road-550-W Yellow, 44</td><td>183</td></tr><tr><td>Sport-100 Helmet, Black</td><td>1041</td></tr><tr><td>Touring-1000 Blue, 60</td><td>66</td></tr><tr><td>Touring-3000 Yellow, 62</td><td>22</td></tr><tr><td>Mountain-200 Black, 38</td><td>366</td></tr><tr><td>Mountain-200 Silver, 46</td><td>371</td></tr><tr><td>LL Mountain Tire</td><td>429</td></tr><tr><td>Mountain-500 Black, 44</td><td>31</td></tr><tr><td>Road Bottle Cage</td><td>848</td></tr><tr><td>Touring-1000 Yellow, 60</td><td>67</td></tr><tr><td>Road-650 Red, 60</td><td>53</td></tr><tr><td>Touring-3000 Blue, 54</td><td>28</td></tr><tr><td>Touring-3000 Yellow, 54</td><td>26</td></tr><tr><td>Road-650 Black, 48</td><td>60</td></tr><tr><td>Road-650 Red, 62</td><td>75</td></tr><tr><td>Road-650 Black, 52</td><td>89</td></tr><tr><td>Touring-2000 Blue, 50</td><td>50</td></tr><tr><td>Short-Sleeve Classic Jersey, M</td><td>220</td></tr><tr><td>Touring-1000 Yellow, 50</td><td>70</td></tr><tr><td>Road-750 Black, 48</td><td>182</td></tr><tr><td>Touring-2000 Blue, 46</td><td>55</td></tr><tr><td>Mountain-500 Silver, 48</td><td>27</td></tr><tr><td>Classic Vest, S</td><td>80</td></tr><tr><td>LL Road Tire</td><td>522</td></tr><tr><td>Road-750 Black, 52</td><td>181</td></tr><tr><td>Mountain Tire Tube</td><td>1581</td></tr><tr><td>Touring-1000 Yellow, 54</td><td>66</td></tr><tr><td>Touring-3000 Yellow, 44</td><td>24</td></tr><tr><td>Road-650 Black, 58</td><td>76</td></tr><tr><td>Road-350-W Yellow, 42</td><td>96</td></tr><tr><td>Mountain-500 Silver, 40</td><td>16</td></tr><tr><td>Mountain-200 Black, 46</td><td>425</td></tr><tr><td>Road-550-W Yellow, 42</td><td>180</td></tr><tr><td>Road-750 Black, 44</td><td>181</td></tr><tr><td>Mountain-500 Black, 40</td><td>28</td></tr><tr><td>Fender Set - Mountain</td><td>1081</td></tr><tr><td>Road-650 Red, 44</td><td>72</td></tr><tr><td>Touring-3000 Yellow, 50</td><td>27</td></tr><tr><td>Road-550-W Yellow, 38</td><td>171</td></tr><tr><td>Road Tire Tube</td><td>1212</td></tr><tr><td>Sport-100 Helmet, Red</td><td>1096</td></tr><tr><td>Hydration Pack - 70 oz.</td><td>364</td></tr><tr><td>Road-250 Black, 48</td><td>240</td></tr><tr><td>Hitch Rack - 4-Bike</td><td>155</td></tr><tr><td>Long-Sleeve Logo Jersey, XL</td><td>217</td></tr><tr><td>Mountain-100 Silver, 42</td><td>42</td></tr><tr><td>Mountain-100 Silver, 44</td><td>49</td></tr><tr><td>Mountain-100 Silver, 38</td><td>58</td></tr><tr><td>Mountain-100 Black, 44</td><td>60</td></tr><tr><td>Mountain-100 Black, 38</td><td>49</td></tr><tr><td>Road-150 Red, 62</td><td>336</td></tr><tr><td>Road-150 Red, 44</td><td>281</td></tr><tr><td>Mountain-100 Black, 48</td><td>57</td></tr><tr><td>Road-150 Red, 48</td><td>337</td></tr><tr><td>Road-150 Red, 52</td><td>302</td></tr><tr><td>Road-150 Red, 56</td><td>295</td></tr><tr><td>Mountain-100 Silver, 48</td><td>36</td></tr><tr><td>Mountain-100 Black, 42</td><td>45</td></tr></tbody></table></div>"
      ]
     },
     "metadata": {
      "application/vnd.databricks.v1+output": {
       "addedWidgets": {},
       "aggData": [],
       "aggError": "",
       "aggOverflow": false,
       "aggSchema": [],
       "aggSeriesLimitReached": false,
       "aggType": "",
       "arguments": {},
       "columnCustomDisplayInfos": {},
       "data": [
        [
         "Mountain-200 Black, 42",
         388
        ],
        [
         "Touring-1000 Yellow, 46",
         74
        ],
        [
         "Touring-1000 Blue, 54",
         67
        ],
        [
         "Short-Sleeve Classic Jersey, S",
         216
        ],
        [
         "Women's Mountain Shorts, S",
         146
        ],
        [
         "Long-Sleeve Logo Jersey, L",
         234
        ],
        [
         "Mountain-400-W Silver, 42",
         59
        ],
        [
         "Racing Socks, M",
         165
        ],
        [
         "Mountain-200 Silver, 42",
         359
        ],
        [
         "Road-750 Black, 58",
         170
        ],
        [
         "Half-Finger Gloves, L",
         209
        ],
        [
         "Road-350-W Yellow, 44",
         81
        ],
        [
         "Mountain-400-W Silver, 38",
         68
        ],
        [
         "Mountain Bottle Cage",
         1000
        ],
        [
         "Touring-1000 Blue, 46",
         75
        ],
        [
         "Mountain-500 Silver, 42",
         22
        ],
        [
         "HL Mountain Tire",
         702
        ],
        [
         "Mountain-400-W Silver, 40",
         61
        ],
        [
         "Bike Wash - Dissolver",
         473
        ],
        [
         "Road-550-W Yellow, 40",
         156
        ],
        [
         "Short-Sleeve Classic Jersey, XL",
         185
        ],
        [
         "Mountain-500 Black, 52",
         16
        ],
        [
         "Road-250 Red, 48",
         162
        ],
        [
         "Mountain-400-W Silver, 46",
         62
        ],
        [
         "Touring-3000 Blue, 50",
         30
        ],
        [
         "Road-250 Red, 52",
         133
        ],
        [
         "Water Bottle - 30 oz.",
         2097
        ],
        [
         "Road-650 Red, 52",
         61
        ],
        [
         "Road-250 Black, 52",
         276
        ],
        [
         "Touring-3000 Blue, 44",
         31
        ],
        [
         "Mountain-500 Silver, 52",
         27
        ],
        [
         "Touring Tire",
         437
        ],
        [
         "Classic Vest, L",
         84
        ],
        [
         "Road-550-W Yellow, 48",
         158
        ],
        [
         "AWC Logo Cap",
         1063
        ],
        [
         "Touring-2000 Blue, 60",
         40
        ],
        [
         "Patch Kit/8 Patches",
         1621
        ],
        [
         "Mountain-500 Black, 42",
         26
        ],
        [
         "ML Mountain Tire",
         608
        ],
        [
         "HL Road Tire",
         470
        ],
        [
         "Touring Tire Tube",
         708
        ],
        [
         "Mountain-500 Silver, 44",
         19
        ],
        [
         "Road-350-W Yellow, 48",
         98
        ],
        [
         "Half-Finger Gloves, M",
         231
        ],
        [
         "Short-Sleeve Classic Jersey, L",
         193
        ],
        [
         "Women's Mountain Shorts, L",
         182
        ],
        [
         "Road-650 Black, 60",
         76
        ],
        [
         "Women's Mountain Shorts, M",
         186
        ],
        [
         "Touring-3000 Blue, 58",
         30
        ],
        [
         "ML Road Tire",
         460
        ],
        [
         "Touring-3000 Blue, 62",
         24
        ],
        [
         "Road-650 Red, 48",
         88
        ],
        [
         "Road-650 Black, 44",
         63
        ],
        [
         "Road-250 Black, 44",
         223
        ],
        [
         "All-Purpose Bike Stand",
         135
        ],
        [
         "Touring-2000 Blue, 54",
         44
        ],
        [
         "Half-Finger Gloves, S",
         258
        ],
        [
         "Road-250 Red, 58",
         256
        ],
        [
         "Mountain-500 Black, 48",
         22
        ],
        [
         "Classic Vest, M",
         92
        ],
        [
         "Mountain-200 Silver, 38",
         370
        ],
        [
         "Long-Sleeve Logo Jersey, M",
         202
        ],
        [
         "Road-350-W Yellow, 40",
         110
        ],
        [
         "Road-650 Red, 58",
         74
        ],
        [
         "Long-Sleeve Logo Jersey, S",
         186
        ],
        [
         "Sport-100 Helmet, Blue",
         1015
        ],
        [
         "Touring-1000 Blue, 50",
         73
        ],
        [
         "Road-250 Red, 44",
         144
        ],
        [
         "Road-650 Black, 62",
         65
        ],
        [
         "Road-250 Black, 58",
         226
        ],
        [
         "Racing Socks, L",
         135
        ],
        [
         "Touring-3000 Yellow, 58",
         21
        ],
        [
         "Road-550-W Yellow, 44",
         183
        ],
        [
         "Sport-100 Helmet, Black",
         1041
        ],
        [
         "Touring-1000 Blue, 60",
         66
        ],
        [
         "Touring-3000 Yellow, 62",
         22
        ],
        [
         "Mountain-200 Black, 38",
         366
        ],
        [
         "Mountain-200 Silver, 46",
         371
        ],
        [
         "LL Mountain Tire",
         429
        ],
        [
         "Mountain-500 Black, 44",
         31
        ],
        [
         "Road Bottle Cage",
         848
        ],
        [
         "Touring-1000 Yellow, 60",
         67
        ],
        [
         "Road-650 Red, 60",
         53
        ],
        [
         "Touring-3000 Blue, 54",
         28
        ],
        [
         "Touring-3000 Yellow, 54",
         26
        ],
        [
         "Road-650 Black, 48",
         60
        ],
        [
         "Road-650 Red, 62",
         75
        ],
        [
         "Road-650 Black, 52",
         89
        ],
        [
         "Touring-2000 Blue, 50",
         50
        ],
        [
         "Short-Sleeve Classic Jersey, M",
         220
        ],
        [
         "Touring-1000 Yellow, 50",
         70
        ],
        [
         "Road-750 Black, 48",
         182
        ],
        [
         "Touring-2000 Blue, 46",
         55
        ],
        [
         "Mountain-500 Silver, 48",
         27
        ],
        [
         "Classic Vest, S",
         80
        ],
        [
         "LL Road Tire",
         522
        ],
        [
         "Road-750 Black, 52",
         181
        ],
        [
         "Mountain Tire Tube",
         1581
        ],
        [
         "Touring-1000 Yellow, 54",
         66
        ],
        [
         "Touring-3000 Yellow, 44",
         24
        ],
        [
         "Road-650 Black, 58",
         76
        ],
        [
         "Road-350-W Yellow, 42",
         96
        ],
        [
         "Mountain-500 Silver, 40",
         16
        ],
        [
         "Mountain-200 Black, 46",
         425
        ],
        [
         "Road-550-W Yellow, 42",
         180
        ],
        [
         "Road-750 Black, 44",
         181
        ],
        [
         "Mountain-500 Black, 40",
         28
        ],
        [
         "Fender Set - Mountain",
         1081
        ],
        [
         "Road-650 Red, 44",
         72
        ],
        [
         "Touring-3000 Yellow, 50",
         27
        ],
        [
         "Road-550-W Yellow, 38",
         171
        ],
        [
         "Road Tire Tube",
         1212
        ],
        [
         "Sport-100 Helmet, Red",
         1096
        ],
        [
         "Hydration Pack - 70 oz.",
         364
        ],
        [
         "Road-250 Black, 48",
         240
        ],
        [
         "Hitch Rack - 4-Bike",
         155
        ],
        [
         "Long-Sleeve Logo Jersey, XL",
         217
        ],
        [
         "Mountain-100 Silver, 42",
         42
        ],
        [
         "Mountain-100 Silver, 44",
         49
        ],
        [
         "Mountain-100 Silver, 38",
         58
        ],
        [
         "Mountain-100 Black, 44",
         60
        ],
        [
         "Mountain-100 Black, 38",
         49
        ],
        [
         "Road-150 Red, 62",
         336
        ],
        [
         "Road-150 Red, 44",
         281
        ],
        [
         "Mountain-100 Black, 48",
         57
        ],
        [
         "Road-150 Red, 48",
         337
        ],
        [
         "Road-150 Red, 52",
         302
        ],
        [
         "Road-150 Red, 56",
         295
        ],
        [
         "Mountain-100 Silver, 48",
         36
        ],
        [
         "Mountain-100 Black, 42",
         45
        ]
       ],
       "datasetInfos": [],
       "dbfsResultPath": null,
       "isJsonSchema": true,
       "metadata": {},
       "overflow": false,
       "plotOptions": {
        "customPlotOptions": {},
        "displayType": "table",
        "pivotAggregation": null,
        "pivotColumns": null,
        "xColumns": null,
        "yColumns": null
       },
       "removedWidgets": [],
       "schema": [
        {
         "metadata": "{}",
         "name": "Item",
         "type": "\"string\""
        },
        {
         "metadata": "{}",
         "name": "sum(Quantity)",
         "type": "\"long\""
        }
       ],
       "type": "table"
      }
     },
     "output_type": "display_data"
    }
   ],
   "source": [
    "productSales=df['Item','Quantity'].groupBy(\"Item\").sum()\n",
    "display(productSales)"
   ]
  },
  {
   "cell_type": "code",
   "execution_count": 0,
   "metadata": {
    "application/vnd.databricks.v1+cell": {
     "cellMetadata": {
      "byteLimit": 2048000,
      "rowLimit": 10000
     },
     "inputWidgets": {},
     "nuid": "3db82256-4dd1-4a61-ace4-69fe70d834d0",
     "showTitle": false,
     "title": ""
    }
   },
   "outputs": [
    {
     "output_type": "display_data",
     "data": {
      "text/html": [
       "<style scoped>\n",
       "  .table-result-container {\n",
       "    max-height: 300px;\n",
       "    overflow: auto;\n",
       "  }\n",
       "  table, th, td {\n",
       "    border: 1px solid black;\n",
       "    border-collapse: collapse;\n",
       "  }\n",
       "  th, td {\n",
       "    padding: 5px;\n",
       "  }\n",
       "  th {\n",
       "    text-align: left;\n",
       "  }\n",
       "</style><div class='table-result-container'><table class='table-result'><thead style='background-color: white'><tr><th>Year</th><th>count</th></tr></thead><tbody><tr><td>2019</td><td>1201</td></tr><tr><td>2020</td><td>2733</td></tr><tr><td>2021</td><td>28784</td></tr></tbody></table></div>"
      ]
     },
     "metadata": {
      "application/vnd.databricks.v1+output": {
       "addedWidgets": {},
       "aggData": [],
       "aggError": "",
       "aggOverflow": false,
       "aggSchema": [],
       "aggSeriesLimitReached": false,
       "aggType": "",
       "arguments": {},
       "columnCustomDisplayInfos": {},
       "data": [
        [
         2019,
         1201
        ],
        [
         2020,
         2733
        ],
        [
         2021,
         28784
        ]
       ],
       "datasetInfos": [],
       "dbfsResultPath": null,
       "isJsonSchema": true,
       "metadata": {},
       "overflow": false,
       "plotOptions": {
        "customPlotOptions": {},
        "displayType": "table",
        "pivotAggregation": null,
        "pivotColumns": null,
        "xColumns": null,
        "yColumns": null
       },
       "removedWidgets": [],
       "schema": [
        {
         "metadata": "{}",
         "name": "Year",
         "type": "\"integer\""
        },
        {
         "metadata": "{}",
         "name": "count",
         "type": "\"long\""
        }
       ],
       "type": "table"
      }
     },
     "output_type": "display_data"
    }
   ],
   "source": [
    "yearBySales=df[year('OrderDate').alias(\"Year\"),].groupBy(\"Year\").count().orderBy(\"Year\")\n",
    "display(yearBySales.limit(10))"
   ]
  },
  {
   "cell_type": "code",
   "execution_count": 0,
   "metadata": {
    "application/vnd.databricks.v1+cell": {
     "cellMetadata": {
      "byteLimit": 2048000,
      "rowLimit": 10000
     },
     "inputWidgets": {},
     "nuid": "e64a0e80-6549-4582-abd1-488b91c83ae4",
     "showTitle": false,
     "title": ""
    }
   },
   "outputs": [],
   "source": [
    "df.createOrReplaceTempView(name=\"salesorders\")"
   ]
  },
  {
   "cell_type": "code",
   "execution_count": 0,
   "metadata": {
    "application/vnd.databricks.v1+cell": {
     "cellMetadata": {
      "byteLimit": 2048000,
      "rowLimit": 10000
     },
     "inputWidgets": {},
     "nuid": "642885cb-9704-491a-8e31-70a448c0cffd",
     "showTitle": false,
     "title": ""
    }
   },
   "outputs": [],
   "source": [
    "command=\"\"\"\n",
    "SELECT\n",
    "    *\n",
    "FROM \n",
    "    salesorders;\n",
    "\"\"\"\n",
    "\n",
    "sparkDF=spark.sql(sqlQuery=command)"
   ]
  },
  {
   "cell_type": "code",
   "execution_count": 0,
   "metadata": {
    "application/vnd.databricks.v1+cell": {
     "cellMetadata": {
      "byteLimit": 2048000,
      "rowLimit": 10000
     },
     "inputWidgets": {},
     "nuid": "f9befb6c-9876-4217-8763-88058539aaf6",
     "showTitle": false,
     "title": ""
    }
   },
   "outputs": [
    {
     "output_type": "display_data",
     "data": {
      "text/html": [
       "<style scoped>\n",
       "  .table-result-container {\n",
       "    max-height: 300px;\n",
       "    overflow: auto;\n",
       "  }\n",
       "  table, th, td {\n",
       "    border: 1px solid black;\n",
       "    border-collapse: collapse;\n",
       "  }\n",
       "  th, td {\n",
       "    padding: 5px;\n",
       "  }\n",
       "  th {\n",
       "    text-align: left;\n",
       "  }\n",
       "</style><div class='table-result-container'><table class='table-result'><thead style='background-color: white'><tr><th>SalesOrderNumber</th><th>SalesOrderLineNumber</th><th>OrderDate</th><th>CustomerName</th><th>Email</th><th>Item</th><th>Quantity</th><th>UnitPrice</th><th>Tax</th></tr></thead><tbody><tr><td>SO49171</td><td>1</td><td>2021-01-01</td><td>Mariah Foster</td><td>mariah21@adventure-works.com</td><td>Road-250 Black, 48</td><td>1</td><td>2181.5625</td><td>174.525</td></tr><tr><td>SO49172</td><td>1</td><td>2021-01-01</td><td>Brian Howard</td><td>brian23@adventure-works.com</td><td>Road-250 Red, 44</td><td>1</td><td>2443.35</td><td>195.468</td></tr><tr><td>SO49173</td><td>1</td><td>2021-01-01</td><td>Linda Alvarez</td><td>linda19@adventure-works.com</td><td>Mountain-200 Silver, 38</td><td>1</td><td>2071.4197</td><td>165.7136</td></tr><tr><td>SO49174</td><td>1</td><td>2021-01-01</td><td>Gina Hernandez</td><td>gina4@adventure-works.com</td><td>Mountain-200 Silver, 42</td><td>1</td><td>2071.4197</td><td>165.7136</td></tr><tr><td>SO49178</td><td>1</td><td>2021-01-01</td><td>Beth Ruiz</td><td>beth4@adventure-works.com</td><td>Road-550-W Yellow, 44</td><td>1</td><td>1000.4375</td><td>80.035</td></tr><tr><td>SO49179</td><td>1</td><td>2021-01-01</td><td>Evan Ward</td><td>evan13@adventure-works.com</td><td>Road-550-W Yellow, 38</td><td>1</td><td>1000.4375</td><td>80.035</td></tr><tr><td>SO49175</td><td>1</td><td>2021-01-01</td><td>Margaret Guo</td><td>margaret24@adventure-works.com</td><td>Road-250 Red, 52</td><td>1</td><td>2443.35</td><td>195.468</td></tr><tr><td>SO49180</td><td>1</td><td>2021-01-01</td><td>Mitchell Yuan</td><td>mitchell6@adventure-works.com</td><td>Road-650 Black, 58</td><td>1</td><td>782.99</td><td>62.6392</td></tr><tr><td>SO49176</td><td>1</td><td>2021-01-01</td><td>Shawn Sharma</td><td>shawn11@adventure-works.com</td><td>Mountain-200 Silver, 46</td><td>1</td><td>2071.4197</td><td>165.7136</td></tr><tr><td>SO49177</td><td>1</td><td>2021-01-01</td><td>Barbara Chande</td><td>barbara44@adventure-works.com</td><td>Mountain-200 Silver, 42</td><td>1</td><td>2071.4197</td><td>165.7136</td></tr></tbody></table></div>"
      ]
     },
     "metadata": {
      "application/vnd.databricks.v1+output": {
       "addedWidgets": {},
       "aggData": [],
       "aggError": "",
       "aggOverflow": false,
       "aggSchema": [],
       "aggSeriesLimitReached": false,
       "aggType": "",
       "arguments": {},
       "columnCustomDisplayInfos": {},
       "data": [
        [
         "SO49171",
         1,
         "2021-01-01",
         "Mariah Foster",
         "mariah21@adventure-works.com",
         "Road-250 Black, 48",
         1,
         2181.5625,
         174.525
        ],
        [
         "SO49172",
         1,
         "2021-01-01",
         "Brian Howard",
         "brian23@adventure-works.com",
         "Road-250 Red, 44",
         1,
         2443.35,
         195.468
        ],
        [
         "SO49173",
         1,
         "2021-01-01",
         "Linda Alvarez",
         "linda19@adventure-works.com",
         "Mountain-200 Silver, 38",
         1,
         2071.4197,
         165.7136
        ],
        [
         "SO49174",
         1,
         "2021-01-01",
         "Gina Hernandez",
         "gina4@adventure-works.com",
         "Mountain-200 Silver, 42",
         1,
         2071.4197,
         165.7136
        ],
        [
         "SO49178",
         1,
         "2021-01-01",
         "Beth Ruiz",
         "beth4@adventure-works.com",
         "Road-550-W Yellow, 44",
         1,
         1000.4375,
         80.035
        ],
        [
         "SO49179",
         1,
         "2021-01-01",
         "Evan Ward",
         "evan13@adventure-works.com",
         "Road-550-W Yellow, 38",
         1,
         1000.4375,
         80.035
        ],
        [
         "SO49175",
         1,
         "2021-01-01",
         "Margaret Guo",
         "margaret24@adventure-works.com",
         "Road-250 Red, 52",
         1,
         2443.35,
         195.468
        ],
        [
         "SO49180",
         1,
         "2021-01-01",
         "Mitchell Yuan",
         "mitchell6@adventure-works.com",
         "Road-650 Black, 58",
         1,
         782.99,
         62.6392
        ],
        [
         "SO49176",
         1,
         "2021-01-01",
         "Shawn Sharma",
         "shawn11@adventure-works.com",
         "Mountain-200 Silver, 46",
         1,
         2071.4197,
         165.7136
        ],
        [
         "SO49177",
         1,
         "2021-01-01",
         "Barbara Chande",
         "barbara44@adventure-works.com",
         "Mountain-200 Silver, 42",
         1,
         2071.4197,
         165.7136
        ]
       ],
       "datasetInfos": [],
       "dbfsResultPath": null,
       "isJsonSchema": true,
       "metadata": {},
       "overflow": false,
       "plotOptions": {
        "customPlotOptions": {},
        "displayType": "table",
        "pivotAggregation": null,
        "pivotColumns": null,
        "xColumns": null,
        "yColumns": null
       },
       "removedWidgets": [],
       "schema": [
        {
         "metadata": "{}",
         "name": "SalesOrderNumber",
         "type": "\"string\""
        },
        {
         "metadata": "{}",
         "name": "SalesOrderLineNumber",
         "type": "\"integer\""
        },
        {
         "metadata": "{}",
         "name": "OrderDate",
         "type": "\"date\""
        },
        {
         "metadata": "{}",
         "name": "CustomerName",
         "type": "\"string\""
        },
        {
         "metadata": "{}",
         "name": "Email",
         "type": "\"string\""
        },
        {
         "metadata": "{}",
         "name": "Item",
         "type": "\"string\""
        },
        {
         "metadata": "{}",
         "name": "Quantity",
         "type": "\"integer\""
        },
        {
         "metadata": "{}",
         "name": "UnitPrice",
         "type": "\"float\""
        },
        {
         "metadata": "{}",
         "name": "Tax",
         "type": "\"float\""
        }
       ],
       "type": "table"
      }
     },
     "output_type": "display_data"
    }
   ],
   "source": [
    "display(sparkDF.limit(num=10))"
   ]
  },
  {
   "cell_type": "code",
   "execution_count": 0,
   "metadata": {
    "application/vnd.databricks.v1+cell": {
     "cellMetadata": {
      "byteLimit": 2048000,
      "implicitDf": true,
      "rowLimit": 10000
     },
     "inputWidgets": {},
     "nuid": "22ea96ff-c0ba-4033-b2e2-3ecd386a8250",
     "showTitle": false,
     "title": ""
    }
   },
   "outputs": [
    {
     "output_type": "display_data",
     "data": {
      "text/html": [
       "<style scoped>\n",
       "  .table-result-container {\n",
       "    max-height: 300px;\n",
       "    overflow: auto;\n",
       "  }\n",
       "  table, th, td {\n",
       "    border: 1px solid black;\n",
       "    border-collapse: collapse;\n",
       "  }\n",
       "  th, td {\n",
       "    padding: 5px;\n",
       "  }\n",
       "  th {\n",
       "    text-align: left;\n",
       "  }\n",
       "</style><div class='table-result-container'><table class='table-result'><thead style='background-color: white'><tr><th>OrderYear</th><th>GrossRevenue</th></tr></thead><tbody><tr><td>2019</td><td>4172169.969970703</td></tr><tr><td>2020</td><td>6882259.268127441</td></tr><tr><td>2021</td><td>1.1547835291696548E7</td></tr></tbody></table></div>"
      ]
     },
     "metadata": {
      "application/vnd.databricks.v1+output": {
       "addedWidgets": {},
       "aggData": [],
       "aggError": "",
       "aggOverflow": false,
       "aggSchema": [],
       "aggSeriesLimitReached": false,
       "aggType": "",
       "arguments": {},
       "columnCustomDisplayInfos": {},
       "data": [
        [
         2019,
         4172169.969970703
        ],
        [
         2020,
         6882259.268127441
        ],
        [
         2021,
         1.1547835291696548E7
        ]
       ],
       "datasetInfos": [],
       "dbfsResultPath": null,
       "isJsonSchema": true,
       "metadata": {
        "dataframeName": "_sqldf",
        "executionCount": 26
       },
       "overflow": false,
       "plotOptions": {
        "customPlotOptions": {},
        "displayType": "table",
        "pivotAggregation": null,
        "pivotColumns": null,
        "xColumns": null,
        "yColumns": null
       },
       "removedWidgets": [],
       "schema": [
        {
         "metadata": "{}",
         "name": "OrderYear",
         "type": "\"integer\""
        },
        {
         "metadata": "{}",
         "name": "GrossRevenue",
         "type": "\"double\""
        }
       ],
       "type": "table"
      }
     },
     "output_type": "display_data"
    }
   ],
   "source": [
    "%sql\n",
    "\n",
    "SELECT \n",
    "  YEAR(OrderDate) AS OrderYear,\n",
    "  SUM((UnitPrice*Quantity) +  Tax) AS GrossRevenue\n",
    "FROM\n",
    "  salesorders\n",
    "GROUP BY\n",
    "  YEAR(OrderDate)\n",
    "ORDER BY\n",
    "  YEAR(OrderDate);"
   ]
  },
  {
   "cell_type": "markdown",
   "metadata": {
    "application/vnd.databricks.v1+cell": {
     "cellMetadata": {},
     "inputWidgets": {},
     "nuid": "5dec755e-3bef-46fd-8656-2ac0ad911820",
     "showTitle": false,
     "title": ""
    }
   },
   "source": [
    "## Visualization"
   ]
  },
  {
   "cell_type": "code",
   "execution_count": 0,
   "metadata": {
    "application/vnd.databricks.v1+cell": {
     "cellMetadata": {
      "byteLimit": 2048000,
      "rowLimit": 10000
     },
     "inputWidgets": {},
     "nuid": "3a658e1c-d24a-471f-9fb8-6dc1ca187c81",
     "showTitle": false,
     "title": ""
    }
   },
   "outputs": [],
   "source": [
    "query=\"\"\"\n",
    "  SELECT \n",
    "    YEAR(OrderDate) AS OrderYear,\n",
    "    SUM((UnitPrice*Quantity) +  Tax) AS GrossRevenue\n",
    "  FROM\n",
    "    salesorders\n",
    "  GROUP BY\n",
    "    YEAR(OrderDate)\n",
    "  ORDER BY\n",
    "    YEAR(OrderDate);\n",
    "\"\"\"\n",
    "\n",
    "dfSpark=spark.sql(sqlQuery=query)"
   ]
  },
  {
   "cell_type": "code",
   "execution_count": 0,
   "metadata": {
    "application/vnd.databricks.v1+cell": {
     "cellMetadata": {
      "byteLimit": 2048000,
      "rowLimit": 10000
     },
     "inputWidgets": {},
     "nuid": "065d226c-df45-44ff-a3d8-65850b423794",
     "showTitle": false,
     "title": ""
    }
   },
   "outputs": [
    {
     "output_type": "stream",
     "name": "stdout",
     "output_type": "stream",
     "text": [
      "+---------+--------------------+\n|OrderYear|        GrossRevenue|\n+---------+--------------------+\n|     2019|   4172169.969970703|\n|     2020|   6882259.268127441|\n|     2021|1.1547835291696548E7|\n+---------+--------------------+\n\n"
     ]
    }
   ],
   "source": [
    "dfSpark.show()"
   ]
  },
  {
   "cell_type": "code",
   "execution_count": 0,
   "metadata": {
    "application/vnd.databricks.v1+cell": {
     "cellMetadata": {
      "byteLimit": 2048000,
      "rowLimit": 10000
     },
     "inputWidgets": {},
     "nuid": "febe1e34-c9c1-44fd-a68c-febf667c77cb",
     "showTitle": false,
     "title": ""
    }
   },
   "outputs": [
    {
     "output_type": "display_data",
     "data": {
      "image/png": "[encoded data removed]",
      "text/plain": [
       "<Figure size 640x480 with 1 Axes>"
      ]
     },
     "metadata": {},
     "output_type": "display_data"
    }
   ],
   "source": [
    "dfSales=dfSpark.toPandas()\n",
    "plt.bar(x=dfSales['OrderYear'],height=dfSales['GrossRevenue'])\n",
    "plt.show()"
   ]
  },
  {
   "cell_type": "code",
   "execution_count": 0,
   "metadata": {
    "application/vnd.databricks.v1+cell": {
     "cellMetadata": {
      "byteLimit": 2048000,
      "rowLimit": 10000
     },
     "inputWidgets": {},
     "nuid": "7b2a5c00-10e2-4c38-a422-167a12df1b10",
     "showTitle": false,
     "title": ""
    }
   },
   "outputs": [
    {
     "output_type": "display_data",
     "data": {
      "text/plain": [
       "<Figure size 640x480 with 0 Axes>"
      ]
     },
     "metadata": {},
     "output_type": "display_data"
    },
    {
     "output_type": "display_data",
     "data": {
      "image/png": "[encoded data removed]",
      "text/plain": [
       "<Figure size 1000x700 with 1 Axes>"
      ]
     },
     "metadata": {},
     "output_type": "display_data"
    }
   ],
   "source": [
    "plt.clf()  # Clear Plot Area\n",
    "plt.figure(figsize=(10,7))\n",
    "plt.bar(x=dfSales['OrderYear'],height=dfSales['GrossRevenue'],color=\"orange\")\n",
    "plt.title(label=\"Revenue by Year\")\n",
    "plt.xlabel(xlabel=\"Year\")\n",
    "plt.ylabel(ylabel=\"Revenue\")\n",
    "plt.grid(color=\"green\",linestyle=\"--\",linewidth=1, axis='y', alpha=0.7)\n",
    "plt.xticks(rotation=45)\n",
    "plt.show()"
   ]
  },
  {
   "cell_type": "code",
   "execution_count": 0,
   "metadata": {
    "application/vnd.databricks.v1+cell": {
     "cellMetadata": {
      "byteLimit": 2048000,
      "rowLimit": 10000
     },
     "inputWidgets": {},
     "nuid": "437bfae6-3343-4ed4-8961-c92a14f6186b",
     "showTitle": false,
     "title": ""
    }
   },
   "outputs": [
    {
     "output_type": "display_data",
     "data": {
      "text/plain": [
       "<Figure size 640x480 with 0 Axes>"
      ]
     },
     "metadata": {},
     "output_type": "display_data"
    },
    {
     "output_type": "display_data",
     "data": {
      "image/png": "[encoded data removed]",
      "text/plain": [
       "<Figure size 1000x400 with 2 Axes>"
      ]
     },
     "metadata": {},
     "output_type": "display_data"
    }
   ],
   "source": [
    "plt.clf()\n",
    "\n",
    "fig, ax=plt.subplots(1,2,figsize=(10,4))\n",
    "\n",
    "ax[0].bar(x=dfSales['OrderYear'],height=dfSales['GrossRevenue'],color=\"orange\")\n",
    "ax[0].set_title(label=\"Revenue by Year\")\n",
    "\n",
    "yearlyCounts=dfSales['OrderYear'].value_counts()\n",
    "ax[1].pie(yearlyCounts,labels=yearlyCounts.index,autopct='%1.1f%%')\n",
    "ax[1].set_title(label=\"Orders Per Year\")\n",
    "ax[1].legend(yearlyCounts.keys().tolist())\n",
    "\n",
    "fig.suptitle('Sales Data')\n",
    "plt.show()"
   ]
  },
  {
   "cell_type": "code",
   "execution_count": 0,
   "metadata": {
    "application/vnd.databricks.v1+cell": {
     "cellMetadata": {
      "byteLimit": 2048000,
      "rowLimit": 10000
     },
     "inputWidgets": {},
     "nuid": "df77d759-9a1d-45c9-b659-3a3005fbae81",
     "showTitle": false,
     "title": ""
    }
   },
   "outputs": [
    {
     "output_type": "display_data",
     "data": {
      "image/png": "[encoded data removed]",
      "text/plain": [
       "<Figure size 640x480 with 1 Axes>"
      ]
     },
     "metadata": {},
     "output_type": "display_data"
    }
   ],
   "source": [
    "ax=sns.barplot(data=dfSales,x=\"OrderYear\",y=\"GrossRevenue\")\n",
    "plt.show()"
   ]
  },
  {
   "cell_type": "code",
   "execution_count": 0,
   "metadata": {
    "application/vnd.databricks.v1+cell": {
     "cellMetadata": {
      "byteLimit": 2048000,
      "rowLimit": 10000
     },
     "inputWidgets": {},
     "nuid": "e6eb84c4-222d-4966-9fa1-4ae603650edc",
     "showTitle": false,
     "title": ""
    }
   },
   "outputs": [
    {
     "output_type": "display_data",
     "data": {
      "image/png": "[encoded data removed]",
      "text/plain": [
       "<Figure size 640x480 with 1 Axes>"
      ]
     },
     "metadata": {},
     "output_type": "display_data"
    }
   ],
   "source": [
    "plt.clf()\n",
    "sns.set_theme(style=\"whitegrid\")\n",
    "ax=sns.barplot(data=dfSales,x=\"OrderYear\",y=\"GrossRevenue\")\n",
    "plt.show()"
   ]
  },
  {
   "cell_type": "code",
   "execution_count": 0,
   "metadata": {
    "application/vnd.databricks.v1+cell": {
     "cellMetadata": {
      "byteLimit": 2048000,
      "rowLimit": 10000
     },
     "inputWidgets": {},
     "nuid": "25e73c9f-e79c-4a19-ae48-f2918fbc786e",
     "showTitle": false,
     "title": ""
    }
   },
   "outputs": [
    {
     "output_type": "display_data",
     "data": {
      "image/png": "[encoded data removed]",
      "text/plain": [
       "<Figure size 640x480 with 1 Axes>"
      ]
     },
     "metadata": {},
     "output_type": "display_data"
    }
   ],
   "source": [
    "plt.clf()\n",
    "sns.set_theme(style=\"whitegrid\")\n",
    "ax=sns.lineplot(data=dfSales,x=\"OrderYear\",y=\"GrossRevenue\")\n",
    "plt.show()"
   ]
  },
  {
   "cell_type": "code",
   "execution_count": 0,
   "metadata": {
    "application/vnd.databricks.v1+cell": {
     "cellMetadata": {},
     "inputWidgets": {},
     "nuid": "4d84cb19-7bef-4863-a784-d9b6cd669636",
     "showTitle": false,
     "title": ""
    }
   },
   "outputs": [],
   "source": []
  }
 ],
 "metadata": {
  "application/vnd.databricks.v1+notebook": {
   "dashboards": [],
   "environmentMetadata": null,
   "language": "python",
   "notebookMetadata": {
    "mostRecentlyExecutedCommandWithImplicitDF": {
     "commandId": 2850922729364580,
     "dataframes": [
      "_sqldf"
     ]
    },
    "pythonIndentUnit": 4
   },
   "notebookName": "Use Apache Spark in Azure Databricks",
   "widgets": {}
  }
 },
 "nbformat": 4,
 "nbformat_minor": 0
}
