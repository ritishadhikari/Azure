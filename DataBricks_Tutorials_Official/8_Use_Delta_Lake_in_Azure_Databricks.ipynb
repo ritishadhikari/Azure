{
 "cells": [
  {
   "cell_type": "code",
   "execution_count": 0,
   "metadata": {
    "application/vnd.databricks.v1+cell": {
     "cellMetadata": {
      "byteLimit": 2048000,
      "rowLimit": 10000
     },
     "inputWidgets": {},
     "nuid": "3b05b748-3499-490f-97a8-63d741cb5b8a",
     "showTitle": false,
     "title": ""
    }
   },
   "outputs": [],
   "source": [
    "from delta.tables import DeltaTable\n",
    "from pyspark.sql.functions import col\n",
    "from pyspark.sql.types import StructField,StructType,StringType"
   ]
  },
  {
   "cell_type": "code",
   "execution_count": 0,
   "metadata": {
    "application/vnd.databricks.v1+cell": {
     "cellMetadata": {
      "byteLimit": 2048000,
      "rowLimit": 10000
     },
     "inputWidgets": {},
     "nuid": "3489a49c-a900-4838-86b7-0a5ab91eefd5",
     "showTitle": false,
     "title": ""
    }
   },
   "outputs": [
    {
     "output_type": "stream",
     "name": "stderr",
     "output_type": "stream",
     "text": [
      "--2024-07-03 13:04:23--  https://raw.githubusercontent.com/MicrosoftLearning/mslearn-databricks/main/data/products.csv\nResolving raw.githubusercontent.com (raw.githubusercontent.com)... 185.199.110.133, 185.199.111.133, 185.199.108.133, ...\nConnecting to raw.githubusercontent.com (raw.githubusercontent.com)|185.199.110.133|:443... connected.\nHTTP request sent, awaiting response... 200 OK\nLength: 14372 (14K) [text/plain]\nSaving to: ‘/dbfs/delta_lab/products.csv’\n\n     0K .......... ....                                       100% 2.69M=0.005s\n\n2024-07-03 13:04:24 (2.69 MB/s) - ‘/dbfs/delta_lab/products.csv’ saved [14372/14372]\n\n"
     ]
    }
   ],
   "source": [
    " %sh\n",
    " rm -r /dbfs/delta_lab\n",
    " mkdir /dbfs/delta_lab\n",
    " wget -O /dbfs/delta_lab/products.csv https://raw.githubusercontent.com/MicrosoftLearning/mslearn-databricks/main/data/products.csv"
   ]
  },
  {
   "cell_type": "code",
   "execution_count": 0,
   "metadata": {
    "application/vnd.databricks.v1+cell": {
     "cellMetadata": {
      "byteLimit": 2048000,
      "rowLimit": 10000
     },
     "inputWidgets": {},
     "nuid": "dcdb1a5d-5520-42d3-9310-c43af08c4bd9",
     "showTitle": false,
     "title": ""
    }
   },
   "outputs": [
    {
     "output_type": "display_data",
     "data": {
      "text/html": [
       "<style scoped>\n",
       "  .table-result-container {\n",
       "    max-height: 300px;\n",
       "    overflow: auto;\n",
       "  }\n",
       "  table, th, td {\n",
       "    border: 1px solid black;\n",
       "    border-collapse: collapse;\n",
       "  }\n",
       "  th, td {\n",
       "    padding: 5px;\n",
       "  }\n",
       "  th {\n",
       "    text-align: left;\n",
       "  }\n",
       "</style><div class='table-result-container'><table class='table-result'><thead style='background-color: white'><tr><th>ProductID</th><th>ProductName</th><th>Category</th><th>ListPrice</th></tr></thead><tbody><tr><td>771</td><td>Mountain-100 Silver, 38</td><td>Mountain Bikes</td><td>3399.9900</td></tr><tr><td>772</td><td>Mountain-100 Silver, 42</td><td>Mountain Bikes</td><td>3399.9900</td></tr><tr><td>773</td><td>Mountain-100 Silver, 44</td><td>Mountain Bikes</td><td>3399.9900</td></tr><tr><td>774</td><td>Mountain-100 Silver, 48</td><td>Mountain Bikes</td><td>3399.9900</td></tr><tr><td>775</td><td>Mountain-100 Black, 38</td><td>Mountain Bikes</td><td>3374.9900</td></tr><tr><td>776</td><td>Mountain-100 Black, 42</td><td>Mountain Bikes</td><td>3374.9900</td></tr><tr><td>777</td><td>Mountain-100 Black, 44</td><td>Mountain Bikes</td><td>3374.9900</td></tr><tr><td>778</td><td>Mountain-100 Black, 48</td><td>Mountain Bikes</td><td>3374.9900</td></tr><tr><td>779</td><td>Mountain-200 Silver, 38</td><td>Mountain Bikes</td><td>2319.9900</td></tr><tr><td>780</td><td>Mountain-200 Silver, 42</td><td>Mountain Bikes</td><td>2319.9900</td></tr></tbody></table></div>"
      ]
     },
     "metadata": {
      "application/vnd.databricks.v1+output": {
       "addedWidgets": {},
       "aggData": [],
       "aggError": "",
       "aggOverflow": false,
       "aggSchema": [],
       "aggSeriesLimitReached": false,
       "aggType": "",
       "arguments": {},
       "columnCustomDisplayInfos": {},
       "data": [
        [
         "771",
         "Mountain-100 Silver, 38",
         "Mountain Bikes",
         "3399.9900"
        ],
        [
         "772",
         "Mountain-100 Silver, 42",
         "Mountain Bikes",
         "3399.9900"
        ],
        [
         "773",
         "Mountain-100 Silver, 44",
         "Mountain Bikes",
         "3399.9900"
        ],
        [
         "774",
         "Mountain-100 Silver, 48",
         "Mountain Bikes",
         "3399.9900"
        ],
        [
         "775",
         "Mountain-100 Black, 38",
         "Mountain Bikes",
         "3374.9900"
        ],
        [
         "776",
         "Mountain-100 Black, 42",
         "Mountain Bikes",
         "3374.9900"
        ],
        [
         "777",
         "Mountain-100 Black, 44",
         "Mountain Bikes",
         "3374.9900"
        ],
        [
         "778",
         "Mountain-100 Black, 48",
         "Mountain Bikes",
         "3374.9900"
        ],
        [
         "779",
         "Mountain-200 Silver, 38",
         "Mountain Bikes",
         "2319.9900"
        ],
        [
         "780",
         "Mountain-200 Silver, 42",
         "Mountain Bikes",
         "2319.9900"
        ]
       ],
       "datasetInfos": [],
       "dbfsResultPath": null,
       "isJsonSchema": true,
       "metadata": {},
       "overflow": false,
       "plotOptions": {
        "customPlotOptions": {},
        "displayType": "table",
        "pivotAggregation": null,
        "pivotColumns": null,
        "xColumns": null,
        "yColumns": null
       },
       "removedWidgets": [],
       "schema": [
        {
         "metadata": "{}",
         "name": "ProductID",
         "type": "\"string\""
        },
        {
         "metadata": "{}",
         "name": "ProductName",
         "type": "\"string\""
        },
        {
         "metadata": "{}",
         "name": "Category",
         "type": "\"string\""
        },
        {
         "metadata": "{}",
         "name": "ListPrice",
         "type": "\"string\""
        }
       ],
       "type": "table"
      }
     },
     "output_type": "display_data"
    }
   ],
   "source": [
    "df = spark.read.load('dbfs:/delta_lab/products.csv', format='csv', header=True)\n",
    "display(df.limit(num=10))"
   ]
  },
  {
   "cell_type": "code",
   "execution_count": 0,
   "metadata": {
    "application/vnd.databricks.v1+cell": {
     "cellMetadata": {
      "byteLimit": 2048000,
      "rowLimit": 10000
     },
     "inputWidgets": {},
     "nuid": "ce05eec3-ae41-45c5-8edf-2127260efdbe",
     "showTitle": false,
     "title": ""
    }
   },
   "outputs": [],
   "source": [
    "%sh\n",
    "rm -rf $deltaTablePath"
   ]
  },
  {
   "cell_type": "code",
   "execution_count": 0,
   "metadata": {
    "application/vnd.databricks.v1+cell": {
     "cellMetadata": {
      "byteLimit": 2048000,
      "rowLimit": 10000
     },
     "inputWidgets": {},
     "nuid": "96df635d-0745-4f8e-958c-8af623a62bcf",
     "showTitle": false,
     "title": ""
    }
   },
   "outputs": [],
   "source": [
    "deltaTablePath=\"/delta1/products-delta\"\n",
    "\n",
    "df.write.format(source=\"delta\").save(path=deltaTablePath)"
   ]
  },
  {
   "cell_type": "code",
   "execution_count": 0,
   "metadata": {
    "application/vnd.databricks.v1+cell": {
     "cellMetadata": {
      "byteLimit": 2048000,
      "rowLimit": 10000
     },
     "inputWidgets": {},
     "nuid": "b4383a11-d32d-4111-bd43-93f6fe977568",
     "showTitle": false,
     "title": ""
    }
   },
   "outputs": [
    {
     "output_type": "display_data",
     "data": {
      "text/plain": [
       "com.databricks.backend.common.rpc.CommandCancelledException\n",
       "\tat com.databricks.spark.chauffeur.SequenceExecutionState.$anonfun$cancel$3(SequenceExecutionState.scala:103)\n",
       "\tat scala.Option.getOrElse(Option.scala:189)\n",
       "\tat com.databricks.spark.chauffeur.SequenceExecutionState.$anonfun$cancel$2(SequenceExecutionState.scala:103)\n",
       "\tat com.databricks.spark.chauffeur.SequenceExecutionState.$anonfun$cancel$2$adapted(SequenceExecutionState.scala:100)\n",
       "\tat scala.collection.immutable.Range.foreach(Range.scala:158)\n",
       "\tat com.databricks.spark.chauffeur.SequenceExecutionState.cancel(SequenceExecutionState.scala:100)\n",
       "\tat com.databricks.spark.chauffeur.ExecContextState.cancelRunningSequence(ExecContextState.scala:718)\n",
       "\tat com.databricks.spark.chauffeur.ExecContextState.$anonfun$cancel$1(ExecContextState.scala:437)\n",
       "\tat scala.Option.getOrElse(Option.scala:189)\n",
       "\tat com.databricks.spark.chauffeur.ExecContextState.cancel(ExecContextState.scala:437)\n",
       "\tat com.databricks.spark.chauffeur.ChauffeurState.cancelExecution(ChauffeurState.scala:1266)\n",
       "\tat com.databricks.spark.chauffeur.ChauffeurState.$anonfun$process$1(ChauffeurState.scala:983)\n",
       "\tat com.databricks.logging.UsageLogging.$anonfun$recordOperation$1(UsageLogging.scala:573)\n",
       "\tat com.databricks.logging.UsageLogging.executeThunkAndCaptureResultTags$1(UsageLogging.scala:669)\n",
       "\tat com.databricks.logging.UsageLogging.$anonfun$recordOperationWithResultTags$4(UsageLogging.scala:687)\n",
       "\tat com.databricks.logging.UsageLogging.$anonfun$withAttributionContext$1(UsageLogging.scala:426)\n",
       "\tat scala.util.DynamicVariable.withValue(DynamicVariable.scala:62)\n",
       "\tat com.databricks.logging.AttributionContext$.withValue(AttributionContext.scala:216)\n",
       "\tat com.databricks.logging.UsageLogging.withAttributionContext(UsageLogging.scala:424)\n",
       "\tat com.databricks.logging.UsageLogging.withAttributionContext$(UsageLogging.scala:418)\n",
       "\tat com.databricks.spark.chauffeur.ChauffeurState.withAttributionContext(ChauffeurState.scala:68)\n",
       "\tat com.databricks.logging.UsageLogging.withAttributionTags(UsageLogging.scala:472)\n",
       "\tat com.databricks.logging.UsageLogging.withAttributionTags$(UsageLogging.scala:455)\n",
       "\tat com.databricks.spark.chauffeur.ChauffeurState.withAttributionTags(ChauffeurState.scala:68)\n",
       "\tat com.databricks.logging.UsageLogging.recordOperationWithResultTags(UsageLogging.scala:664)\n",
       "\tat com.databricks.logging.UsageLogging.recordOperationWithResultTags$(UsageLogging.scala:582)\n",
       "\tat com.databricks.spark.chauffeur.ChauffeurState.recordOperationWithResultTags(ChauffeurState.scala:68)\n",
       "\tat com.databricks.logging.UsageLogging.recordOperation(UsageLogging.scala:573)\n",
       "\tat com.databricks.logging.UsageLogging.recordOperation$(UsageLogging.scala:542)\n",
       "\tat com.databricks.spark.chauffeur.ChauffeurState.recordOperation(ChauffeurState.scala:68)\n",
       "\tat com.databricks.spark.chauffeur.ChauffeurState.process(ChauffeurState.scala:944)\n",
       "\tat com.databricks.spark.chauffeur.Chauffeur$$anon$1$$anonfun$receive$1.handleDriverRequest$1(Chauffeur.scala:682)\n",
       "\tat com.databricks.spark.chauffeur.Chauffeur$$anon$1$$anonfun$receive$1.$anonfun$applyOrElse$5(Chauffeur.scala:708)\n",
       "\tat com.databricks.logging.UsageLogging.executeThunkAndCaptureResultTags$1(UsageLogging.scala:669)\n",
       "\tat com.databricks.logging.UsageLogging.$anonfun$recordOperationWithResultTags$4(UsageLogging.scala:687)\n",
       "\tat com.databricks.logging.UsageLogging.$anonfun$withAttributionContext$1(UsageLogging.scala:426)\n",
       "\tat scala.util.DynamicVariable.withValue(DynamicVariable.scala:62)\n",
       "\tat com.databricks.logging.AttributionContext$.withValue(AttributionContext.scala:216)\n",
       "\tat com.databricks.logging.UsageLogging.withAttributionContext(UsageLogging.scala:424)\n",
       "\tat com.databricks.logging.UsageLogging.withAttributionContext$(UsageLogging.scala:418)\n",
       "\tat com.databricks.rpc.ServerBackend.withAttributionContext(ServerBackend.scala:22)\n",
       "\tat com.databricks.logging.UsageLogging.withAttributionTags(UsageLogging.scala:472)\n",
       "\tat com.databricks.logging.UsageLogging.withAttributionTags$(UsageLogging.scala:455)\n",
       "\tat com.databricks.rpc.ServerBackend.withAttributionTags(ServerBackend.scala:22)\n",
       "\tat com.databricks.logging.UsageLogging.recordOperationWithResultTags(UsageLogging.scala:664)\n",
       "\tat com.databricks.logging.UsageLogging.recordOperationWithResultTags$(UsageLogging.scala:582)\n",
       "\tat com.databricks.rpc.ServerBackend.recordOperationWithResultTags(ServerBackend.scala:22)\n",
       "\tat com.databricks.spark.chauffeur.Chauffeur$$anon$1$$anonfun$receive$1.handleDriverRequestWithUsageLogging$1(Chauffeur.scala:707)\n",
       "\tat com.databricks.spark.chauffeur.Chauffeur$$anon$1$$anonfun$receive$1.applyOrElse(Chauffeur.scala:762)\n",
       "\tat com.databricks.spark.chauffeur.Chauffeur$$anon$1$$anonfun$receive$1.applyOrElse(Chauffeur.scala:555)\n",
       "\tat com.databricks.rpc.ServerBackend.$anonfun$internalReceive0$2(ServerBackend.scala:174)\n",
       "\tat com.databricks.rpc.ServerBackend$$anonfun$commonReceive$1.applyOrElse(ServerBackend.scala:200)\n",
       "\tat com.databricks.rpc.ServerBackend$$anonfun$commonReceive$1.applyOrElse(ServerBackend.scala:200)\n",
       "\tat com.databricks.rpc.ServerBackend.internalReceive0(ServerBackend.scala:171)\n",
       "\tat com.databricks.rpc.ServerBackend.$anonfun$internalReceive$1(ServerBackend.scala:147)\n",
       "\tat com.databricks.logging.UsageLogging.$anonfun$recordOperation$1(UsageLogging.scala:573)\n",
       "\tat com.databricks.logging.UsageLogging.executeThunkAndCaptureResultTags$1(UsageLogging.scala:669)\n",
       "\tat com.databricks.logging.UsageLogging.$anonfun$recordOperationWithResultTags$4(UsageLogging.scala:687)\n",
       "\tat com.databricks.logging.UsageLogging.$anonfun$withAttributionContext$1(UsageLogging.scala:426)\n",
       "\tat scala.util.DynamicVariable.withValue(DynamicVariable.scala:62)\n",
       "\tat com.databricks.logging.AttributionContext$.withValue(AttributionContext.scala:216)\n",
       "\tat com.databricks.logging.UsageLogging.withAttributionContext(UsageLogging.scala:424)\n",
       "\tat com.databricks.logging.UsageLogging.withAttributionContext$(UsageLogging.scala:418)\n",
       "\tat com.databricks.rpc.ServerBackend.withAttributionContext(ServerBackend.scala:22)\n",
       "\tat com.databricks.logging.UsageLogging.withAttributionTags(UsageLogging.scala:472)\n",
       "\tat com.databricks.logging.UsageLogging.withAttributionTags$(UsageLogging.scala:455)\n",
       "\tat com.databricks.rpc.ServerBackend.withAttributionTags(ServerBackend.scala:22)\n",
       "\tat com.databricks.logging.UsageLogging.recordOperationWithResultTags(UsageLogging.scala:664)\n",
       "\tat com.databricks.logging.UsageLogging.recordOperationWithResultTags$(UsageLogging.scala:582)\n",
       "\tat com.databricks.rpc.ServerBackend.recordOperationWithResultTags(ServerBackend.scala:22)\n",
       "\tat com.databricks.logging.UsageLogging.recordOperation(UsageLogging.scala:573)\n",
       "\tat com.databricks.logging.UsageLogging.recordOperation$(UsageLogging.scala:542)\n",
       "\tat com.databricks.rpc.ServerBackend.recordOperation(ServerBackend.scala:22)\n",
       "\tat com.databricks.rpc.ServerBackend.internalReceive(ServerBackend.scala:147)\n",
       "\tat com.databricks.rpc.JettyServer$RequestManager.handleRPC(JettyServer.scala:1020)\n",
       "\tat com.databricks.rpc.JettyServer$RequestManager.handleRequestAndRespond(JettyServer.scala:941)\n",
       "\tat com.databricks.rpc.JettyServer$RequestManager.$anonfun$handleHttp$6(JettyServer.scala:545)\n",
       "\tat com.databricks.rpc.JettyServer$RequestManager.$anonfun$handleHttp$6$adapted(JettyServer.scala:514)\n",
       "\tat com.databricks.logging.activity.ActivityContextFactory$.$anonfun$withActivityInternal$4(ActivityContextFactory.scala:405)\n",
       "\tat com.databricks.logging.UsageLogging.$anonfun$withAttributionContext$1(UsageLogging.scala:426)\n",
       "\tat scala.util.DynamicVariable.withValue(DynamicVariable.scala:62)\n",
       "\tat com.databricks.logging.AttributionContext$.withValue(AttributionContext.scala:216)\n",
       "\tat com.databricks.logging.UsageLogging.withAttributionContext(UsageLogging.scala:424)\n",
       "\tat com.databricks.logging.UsageLogging.withAttributionContext$(UsageLogging.scala:418)\n",
       "\tat com.databricks.logging.activity.ActivityContextFactory$.withAttributionContext(ActivityContextFactory.scala:58)\n",
       "\tat com.databricks.logging.activity.ActivityContextFactory$.$anonfun$withActivityInternal$1(ActivityContextFactory.scala:405)\n",
       "\tat com.databricks.context.integrity.IntegrityCheckContext$ThreadLocalStorage$.withValue(IntegrityCheckContext.scala:44)\n",
       "\tat com.databricks.logging.activity.ActivityContextFactory$.withActivityInternal(ActivityContextFactory.scala:380)\n",
       "\tat com.databricks.logging.activity.ActivityContextFactory$.withServiceRequestActivity(ActivityContextFactory.scala:159)\n",
       "\tat com.databricks.rpc.JettyServer$RequestManager.handleHttp(JettyServer.scala:514)\n",
       "\tat com.databricks.rpc.JettyServer$RequestManager.doPost(JettyServer.scala:404)\n",
       "\tat javax.servlet.http.HttpServlet.service(HttpServlet.java:665)\n",
       "\tat com.databricks.rpc.HttpServletWithPatch.service(HttpServletWithPatch.scala:33)\n",
       "\tat javax.servlet.http.HttpServlet.service(HttpServlet.java:750)\n",
       "\tat org.eclipse.jetty.servlet.ServletHolder.handle(ServletHolder.java:799)\n",
       "\tat org.eclipse.jetty.servlet.ServletHandler.doHandle(ServletHandler.java:554)\n",
       "\tat org.eclipse.jetty.server.handler.ScopedHandler.nextScope(ScopedHandler.java:190)\n",
       "\tat org.eclipse.jetty.servlet.ServletHandler.doScope(ServletHandler.java:505)\n",
       "\tat org.eclipse.jetty.server.handler.ScopedHandler.handle(ScopedHandler.java:141)\n",
       "\tat org.eclipse.jetty.server.handler.HandlerWrapper.handle(HandlerWrapper.java:127)\n",
       "\tat org.eclipse.jetty.server.Server.handle(Server.java:516)\n",
       "\tat org.eclipse.jetty.server.HttpChannel.lambda$handle$1(HttpChannel.java:487)\n",
       "\tat org.eclipse.jetty.server.HttpChannel.dispatch(HttpChannel.java:732)\n",
       "\tat org.eclipse.jetty.server.HttpChannel.handle(HttpChannel.java:479)\n",
       "\tat org.eclipse.jetty.server.HttpConnection.onFillable(HttpConnection.java:277)\n",
       "\tat org.eclipse.jetty.io.AbstractConnection$ReadCallback.succeeded(AbstractConnection.java:311)\n",
       "\tat org.eclipse.jetty.io.FillInterest.fillable(FillInterest.java:105)\n",
       "\tat org.eclipse.jetty.io.ssl.SslConnection$DecryptedEndPoint.onFillable(SslConnection.java:555)\n",
       "\tat org.eclipse.jetty.io.ssl.SslConnection.onFillable(SslConnection.java:410)\n",
       "\tat org.eclipse.jetty.io.ssl.SslConnection$2.succeeded(SslConnection.java:164)\n",
       "\tat org.eclipse.jetty.io.FillInterest.fillable(FillInterest.java:105)\n",
       "\tat org.eclipse.jetty.io.ChannelEndPoint$1.run(ChannelEndPoint.java:104)\n",
       "\tat org.eclipse.jetty.util.thread.strategy.EatWhatYouKill.runTask(EatWhatYouKill.java:338)\n",
       "\tat org.eclipse.jetty.util.thread.strategy.EatWhatYouKill.doProduce(EatWhatYouKill.java:315)\n",
       "\tat org.eclipse.jetty.util.thread.strategy.EatWhatYouKill.tryProduce(EatWhatYouKill.java:173)\n",
       "\tat org.eclipse.jetty.util.thread.strategy.EatWhatYouKill.run(EatWhatYouKill.java:131)\n",
       "\tat org.eclipse.jetty.util.thread.ReservedThreadExecutor$ReservedThread.run(ReservedThreadExecutor.java:409)\n",
       "\tat com.databricks.rpc.InstrumentedQueuedThreadPool$$anon$1.$anonfun$run$4(InstrumentedQueuedThreadPool.scala:104)\n",
       "\tat scala.runtime.java8.JFunction0$mcV$sp.apply(JFunction0$mcV$sp.java:23)\n",
       "\tat com.databricks.logging.UsageLogging.$anonfun$withAttributionContext$1(UsageLogging.scala:426)\n",
       "\tat scala.util.DynamicVariable.withValue(DynamicVariable.scala:62)\n",
       "\tat com.databricks.logging.AttributionContext$.withValue(AttributionContext.scala:216)\n",
       "\tat com.databricks.logging.UsageLogging.withAttributionContext(UsageLogging.scala:424)\n",
       "\tat com.databricks.logging.UsageLogging.withAttributionContext$(UsageLogging.scala:418)\n",
       "\tat com.databricks.rpc.InstrumentedQueuedThreadPool.withAttributionContext(InstrumentedQueuedThreadPool.scala:47)\n",
       "\tat com.databricks.rpc.InstrumentedQueuedThreadPool$$anon$1.$anonfun$run$1(InstrumentedQueuedThreadPool.scala:104)\n",
       "\tat scala.runtime.java8.JFunction0$mcV$sp.apply(JFunction0$mcV$sp.java:23)\n",
       "\tat com.databricks.instrumentation.QueuedThreadPoolInstrumenter.trackActiveThreads(QueuedThreadPoolInstrumenter.scala:66)\n",
       "\tat com.databricks.instrumentation.QueuedThreadPoolInstrumenter.trackActiveThreads$(QueuedThreadPoolInstrumenter.scala:63)\n",
       "\tat com.databricks.rpc.InstrumentedQueuedThreadPool.trackActiveThreads(InstrumentedQueuedThreadPool.scala:47)\n",
       "\tat com.databricks.rpc.InstrumentedQueuedThreadPool$$anon$1.run(InstrumentedQueuedThreadPool.scala:86)\n",
       "\tat org.eclipse.jetty.util.thread.QueuedThreadPool.runJob(QueuedThreadPool.java:883)\n",
       "\tat org.eclipse.jetty.util.thread.QueuedThreadPool$Runner.run(QueuedThreadPool.java:1034)\n",
       "\tat java.lang.Thread.run(Thread.java:750)"
      ]
     },
     "metadata": {
      "application/vnd.databricks.v1+output": {
       "addedWidgets": {},
       "arguments": {},
       "datasetInfos": [],
       "jupyterProps": null,
       "metadata": {
        "errorSummary": "Cancelled"
       },
       "removedWidgets": [],
       "sqlProps": null,
       "stackFrames": [
        "com.databricks.backend.common.rpc.CommandCancelledException",
        "\tat com.databricks.spark.chauffeur.SequenceExecutionState.$anonfun$cancel$3(SequenceExecutionState.scala:103)",
        "\tat scala.Option.getOrElse(Option.scala:189)",
        "\tat com.databricks.spark.chauffeur.SequenceExecutionState.$anonfun$cancel$2(SequenceExecutionState.scala:103)",
        "\tat com.databricks.spark.chauffeur.SequenceExecutionState.$anonfun$cancel$2$adapted(SequenceExecutionState.scala:100)",
        "\tat scala.collection.immutable.Range.foreach(Range.scala:158)",
        "\tat com.databricks.spark.chauffeur.SequenceExecutionState.cancel(SequenceExecutionState.scala:100)",
        "\tat com.databricks.spark.chauffeur.ExecContextState.cancelRunningSequence(ExecContextState.scala:718)",
        "\tat com.databricks.spark.chauffeur.ExecContextState.$anonfun$cancel$1(ExecContextState.scala:437)",
        "\tat scala.Option.getOrElse(Option.scala:189)",
        "\tat com.databricks.spark.chauffeur.ExecContextState.cancel(ExecContextState.scala:437)",
        "\tat com.databricks.spark.chauffeur.ChauffeurState.cancelExecution(ChauffeurState.scala:1266)",
        "\tat com.databricks.spark.chauffeur.ChauffeurState.$anonfun$process$1(ChauffeurState.scala:983)",
        "\tat com.databricks.logging.UsageLogging.$anonfun$recordOperation$1(UsageLogging.scala:573)",
        "\tat com.databricks.logging.UsageLogging.executeThunkAndCaptureResultTags$1(UsageLogging.scala:669)",
        "\tat com.databricks.logging.UsageLogging.$anonfun$recordOperationWithResultTags$4(UsageLogging.scala:687)",
        "\tat com.databricks.logging.UsageLogging.$anonfun$withAttributionContext$1(UsageLogging.scala:426)",
        "\tat scala.util.DynamicVariable.withValue(DynamicVariable.scala:62)",
        "\tat com.databricks.logging.AttributionContext$.withValue(AttributionContext.scala:216)",
        "\tat com.databricks.logging.UsageLogging.withAttributionContext(UsageLogging.scala:424)",
        "\tat com.databricks.logging.UsageLogging.withAttributionContext$(UsageLogging.scala:418)",
        "\tat com.databricks.spark.chauffeur.ChauffeurState.withAttributionContext(ChauffeurState.scala:68)",
        "\tat com.databricks.logging.UsageLogging.withAttributionTags(UsageLogging.scala:472)",
        "\tat com.databricks.logging.UsageLogging.withAttributionTags$(UsageLogging.scala:455)",
        "\tat com.databricks.spark.chauffeur.ChauffeurState.withAttributionTags(ChauffeurState.scala:68)",
        "\tat com.databricks.logging.UsageLogging.recordOperationWithResultTags(UsageLogging.scala:664)",
        "\tat com.databricks.logging.UsageLogging.recordOperationWithResultTags$(UsageLogging.scala:582)",
        "\tat com.databricks.spark.chauffeur.ChauffeurState.recordOperationWithResultTags(ChauffeurState.scala:68)",
        "\tat com.databricks.logging.UsageLogging.recordOperation(UsageLogging.scala:573)",
        "\tat com.databricks.logging.UsageLogging.recordOperation$(UsageLogging.scala:542)",
        "\tat com.databricks.spark.chauffeur.ChauffeurState.recordOperation(ChauffeurState.scala:68)",
        "\tat com.databricks.spark.chauffeur.ChauffeurState.process(ChauffeurState.scala:944)",
        "\tat com.databricks.spark.chauffeur.Chauffeur$$anon$1$$anonfun$receive$1.handleDriverRequest$1(Chauffeur.scala:682)",
        "\tat com.databricks.spark.chauffeur.Chauffeur$$anon$1$$anonfun$receive$1.$anonfun$applyOrElse$5(Chauffeur.scala:708)",
        "\tat com.databricks.logging.UsageLogging.executeThunkAndCaptureResultTags$1(UsageLogging.scala:669)",
        "\tat com.databricks.logging.UsageLogging.$anonfun$recordOperationWithResultTags$4(UsageLogging.scala:687)",
        "\tat com.databricks.logging.UsageLogging.$anonfun$withAttributionContext$1(UsageLogging.scala:426)",
        "\tat scala.util.DynamicVariable.withValue(DynamicVariable.scala:62)",
        "\tat com.databricks.logging.AttributionContext$.withValue(AttributionContext.scala:216)",
        "\tat com.databricks.logging.UsageLogging.withAttributionContext(UsageLogging.scala:424)",
        "\tat com.databricks.logging.UsageLogging.withAttributionContext$(UsageLogging.scala:418)",
        "\tat com.databricks.rpc.ServerBackend.withAttributionContext(ServerBackend.scala:22)",
        "\tat com.databricks.logging.UsageLogging.withAttributionTags(UsageLogging.scala:472)",
        "\tat com.databricks.logging.UsageLogging.withAttributionTags$(UsageLogging.scala:455)",
        "\tat com.databricks.rpc.ServerBackend.withAttributionTags(ServerBackend.scala:22)",
        "\tat com.databricks.logging.UsageLogging.recordOperationWithResultTags(UsageLogging.scala:664)",
        "\tat com.databricks.logging.UsageLogging.recordOperationWithResultTags$(UsageLogging.scala:582)",
        "\tat com.databricks.rpc.ServerBackend.recordOperationWithResultTags(ServerBackend.scala:22)",
        "\tat com.databricks.spark.chauffeur.Chauffeur$$anon$1$$anonfun$receive$1.handleDriverRequestWithUsageLogging$1(Chauffeur.scala:707)",
        "\tat com.databricks.spark.chauffeur.Chauffeur$$anon$1$$anonfun$receive$1.applyOrElse(Chauffeur.scala:762)",
        "\tat com.databricks.spark.chauffeur.Chauffeur$$anon$1$$anonfun$receive$1.applyOrElse(Chauffeur.scala:555)",
        "\tat com.databricks.rpc.ServerBackend.$anonfun$internalReceive0$2(ServerBackend.scala:174)",
        "\tat com.databricks.rpc.ServerBackend$$anonfun$commonReceive$1.applyOrElse(ServerBackend.scala:200)",
        "\tat com.databricks.rpc.ServerBackend$$anonfun$commonReceive$1.applyOrElse(ServerBackend.scala:200)",
        "\tat com.databricks.rpc.ServerBackend.internalReceive0(ServerBackend.scala:171)",
        "\tat com.databricks.rpc.ServerBackend.$anonfun$internalReceive$1(ServerBackend.scala:147)",
        "\tat com.databricks.logging.UsageLogging.$anonfun$recordOperation$1(UsageLogging.scala:573)",
        "\tat com.databricks.logging.UsageLogging.executeThunkAndCaptureResultTags$1(UsageLogging.scala:669)",
        "\tat com.databricks.logging.UsageLogging.$anonfun$recordOperationWithResultTags$4(UsageLogging.scala:687)",
        "\tat com.databricks.logging.UsageLogging.$anonfun$withAttributionContext$1(UsageLogging.scala:426)",
        "\tat scala.util.DynamicVariable.withValue(DynamicVariable.scala:62)",
        "\tat com.databricks.logging.AttributionContext$.withValue(AttributionContext.scala:216)",
        "\tat com.databricks.logging.UsageLogging.withAttributionContext(UsageLogging.scala:424)",
        "\tat com.databricks.logging.UsageLogging.withAttributionContext$(UsageLogging.scala:418)",
        "\tat com.databricks.rpc.ServerBackend.withAttributionContext(ServerBackend.scala:22)",
        "\tat com.databricks.logging.UsageLogging.withAttributionTags(UsageLogging.scala:472)",
        "\tat com.databricks.logging.UsageLogging.withAttributionTags$(UsageLogging.scala:455)",
        "\tat com.databricks.rpc.ServerBackend.withAttributionTags(ServerBackend.scala:22)",
        "\tat com.databricks.logging.UsageLogging.recordOperationWithResultTags(UsageLogging.scala:664)",
        "\tat com.databricks.logging.UsageLogging.recordOperationWithResultTags$(UsageLogging.scala:582)",
        "\tat com.databricks.rpc.ServerBackend.recordOperationWithResultTags(ServerBackend.scala:22)",
        "\tat com.databricks.logging.UsageLogging.recordOperation(UsageLogging.scala:573)",
        "\tat com.databricks.logging.UsageLogging.recordOperation$(UsageLogging.scala:542)",
        "\tat com.databricks.rpc.ServerBackend.recordOperation(ServerBackend.scala:22)",
        "\tat com.databricks.rpc.ServerBackend.internalReceive(ServerBackend.scala:147)",
        "\tat com.databricks.rpc.JettyServer$RequestManager.handleRPC(JettyServer.scala:1020)",
        "\tat com.databricks.rpc.JettyServer$RequestManager.handleRequestAndRespond(JettyServer.scala:941)",
        "\tat com.databricks.rpc.JettyServer$RequestManager.$anonfun$handleHttp$6(JettyServer.scala:545)",
        "\tat com.databricks.rpc.JettyServer$RequestManager.$anonfun$handleHttp$6$adapted(JettyServer.scala:514)",
        "\tat com.databricks.logging.activity.ActivityContextFactory$.$anonfun$withActivityInternal$4(ActivityContextFactory.scala:405)",
        "\tat com.databricks.logging.UsageLogging.$anonfun$withAttributionContext$1(UsageLogging.scala:426)",
        "\tat scala.util.DynamicVariable.withValue(DynamicVariable.scala:62)",
        "\tat com.databricks.logging.AttributionContext$.withValue(AttributionContext.scala:216)",
        "\tat com.databricks.logging.UsageLogging.withAttributionContext(UsageLogging.scala:424)",
        "\tat com.databricks.logging.UsageLogging.withAttributionContext$(UsageLogging.scala:418)",
        "\tat com.databricks.logging.activity.ActivityContextFactory$.withAttributionContext(ActivityContextFactory.scala:58)",
        "\tat com.databricks.logging.activity.ActivityContextFactory$.$anonfun$withActivityInternal$1(ActivityContextFactory.scala:405)",
        "\tat com.databricks.context.integrity.IntegrityCheckContext$ThreadLocalStorage$.withValue(IntegrityCheckContext.scala:44)",
        "\tat com.databricks.logging.activity.ActivityContextFactory$.withActivityInternal(ActivityContextFactory.scala:380)",
        "\tat com.databricks.logging.activity.ActivityContextFactory$.withServiceRequestActivity(ActivityContextFactory.scala:159)",
        "\tat com.databricks.rpc.JettyServer$RequestManager.handleHttp(JettyServer.scala:514)",
        "\tat com.databricks.rpc.JettyServer$RequestManager.doPost(JettyServer.scala:404)",
        "\tat javax.servlet.http.HttpServlet.service(HttpServlet.java:665)",
        "\tat com.databricks.rpc.HttpServletWithPatch.service(HttpServletWithPatch.scala:33)",
        "\tat javax.servlet.http.HttpServlet.service(HttpServlet.java:750)",
        "\tat org.eclipse.jetty.servlet.ServletHolder.handle(ServletHolder.java:799)",
        "\tat org.eclipse.jetty.servlet.ServletHandler.doHandle(ServletHandler.java:554)",
        "\tat org.eclipse.jetty.server.handler.ScopedHandler.nextScope(ScopedHandler.java:190)",
        "\tat org.eclipse.jetty.servlet.ServletHandler.doScope(ServletHandler.java:505)",
        "\tat org.eclipse.jetty.server.handler.ScopedHandler.handle(ScopedHandler.java:141)",
        "\tat org.eclipse.jetty.server.handler.HandlerWrapper.handle(HandlerWrapper.java:127)",
        "\tat org.eclipse.jetty.server.Server.handle(Server.java:516)",
        "\tat org.eclipse.jetty.server.HttpChannel.lambda$handle$1(HttpChannel.java:487)",
        "\tat org.eclipse.jetty.server.HttpChannel.dispatch(HttpChannel.java:732)",
        "\tat org.eclipse.jetty.server.HttpChannel.handle(HttpChannel.java:479)",
        "\tat org.eclipse.jetty.server.HttpConnection.onFillable(HttpConnection.java:277)",
        "\tat org.eclipse.jetty.io.AbstractConnection$ReadCallback.succeeded(AbstractConnection.java:311)",
        "\tat org.eclipse.jetty.io.FillInterest.fillable(FillInterest.java:105)",
        "\tat org.eclipse.jetty.io.ssl.SslConnection$DecryptedEndPoint.onFillable(SslConnection.java:555)",
        "\tat org.eclipse.jetty.io.ssl.SslConnection.onFillable(SslConnection.java:410)",
        "\tat org.eclipse.jetty.io.ssl.SslConnection$2.succeeded(SslConnection.java:164)",
        "\tat org.eclipse.jetty.io.FillInterest.fillable(FillInterest.java:105)",
        "\tat org.eclipse.jetty.io.ChannelEndPoint$1.run(ChannelEndPoint.java:104)",
        "\tat org.eclipse.jetty.util.thread.strategy.EatWhatYouKill.runTask(EatWhatYouKill.java:338)",
        "\tat org.eclipse.jetty.util.thread.strategy.EatWhatYouKill.doProduce(EatWhatYouKill.java:315)",
        "\tat org.eclipse.jetty.util.thread.strategy.EatWhatYouKill.tryProduce(EatWhatYouKill.java:173)",
        "\tat org.eclipse.jetty.util.thread.strategy.EatWhatYouKill.run(EatWhatYouKill.java:131)",
        "\tat org.eclipse.jetty.util.thread.ReservedThreadExecutor$ReservedThread.run(ReservedThreadExecutor.java:409)",
        "\tat com.databricks.rpc.InstrumentedQueuedThreadPool$$anon$1.$anonfun$run$4(InstrumentedQueuedThreadPool.scala:104)",
        "\tat scala.runtime.java8.JFunction0$mcV$sp.apply(JFunction0$mcV$sp.java:23)",
        "\tat com.databricks.logging.UsageLogging.$anonfun$withAttributionContext$1(UsageLogging.scala:426)",
        "\tat scala.util.DynamicVariable.withValue(DynamicVariable.scala:62)",
        "\tat com.databricks.logging.AttributionContext$.withValue(AttributionContext.scala:216)",
        "\tat com.databricks.logging.UsageLogging.withAttributionContext(UsageLogging.scala:424)",
        "\tat com.databricks.logging.UsageLogging.withAttributionContext$(UsageLogging.scala:418)",
        "\tat com.databricks.rpc.InstrumentedQueuedThreadPool.withAttributionContext(InstrumentedQueuedThreadPool.scala:47)",
        "\tat com.databricks.rpc.InstrumentedQueuedThreadPool$$anon$1.$anonfun$run$1(InstrumentedQueuedThreadPool.scala:104)",
        "\tat scala.runtime.java8.JFunction0$mcV$sp.apply(JFunction0$mcV$sp.java:23)",
        "\tat com.databricks.instrumentation.QueuedThreadPoolInstrumenter.trackActiveThreads(QueuedThreadPoolInstrumenter.scala:66)",
        "\tat com.databricks.instrumentation.QueuedThreadPoolInstrumenter.trackActiveThreads$(QueuedThreadPoolInstrumenter.scala:63)",
        "\tat com.databricks.rpc.InstrumentedQueuedThreadPool.trackActiveThreads(InstrumentedQueuedThreadPool.scala:47)",
        "\tat com.databricks.rpc.InstrumentedQueuedThreadPool$$anon$1.run(InstrumentedQueuedThreadPool.scala:86)",
        "\tat org.eclipse.jetty.util.thread.QueuedThreadPool.runJob(QueuedThreadPool.java:883)",
        "\tat org.eclipse.jetty.util.thread.QueuedThreadPool$Runner.run(QueuedThreadPool.java:1034)",
        "\tat java.lang.Thread.run(Thread.java:750)"
       ],
       "type": "baseError"
      }
     },
     "output_type": "display_data"
    }
   ],
   "source": [
    "dbutils.fs.ls(\"dbfs:/delta\")"
   ]
  },
  {
   "cell_type": "code",
   "execution_count": 0,
   "metadata": {
    "application/vnd.databricks.v1+cell": {
     "cellMetadata": {
      "byteLimit": 2048000,
      "rowLimit": 10000
     },
     "inputWidgets": {},
     "nuid": "30e1ddd0-f159-4a5b-a87d-c3eda33bc3c5",
     "showTitle": false,
     "title": ""
    }
   },
   "outputs": [
    {
     "output_type": "display_data",
     "data": {
      "text/plain": [
       "com.databricks.backend.common.rpc.CommandCancelledException\n",
       "\tat com.databricks.spark.chauffeur.SequenceExecutionState.$anonfun$cancel$3(SequenceExecutionState.scala:103)\n",
       "\tat scala.Option.getOrElse(Option.scala:189)\n",
       "\tat com.databricks.spark.chauffeur.SequenceExecutionState.$anonfun$cancel$2(SequenceExecutionState.scala:103)\n",
       "\tat com.databricks.spark.chauffeur.SequenceExecutionState.$anonfun$cancel$2$adapted(SequenceExecutionState.scala:100)\n",
       "\tat scala.collection.immutable.Range.foreach(Range.scala:158)\n",
       "\tat com.databricks.spark.chauffeur.SequenceExecutionState.cancel(SequenceExecutionState.scala:100)\n",
       "\tat com.databricks.spark.chauffeur.ExecContextState.cancelRunningSequence(ExecContextState.scala:718)\n",
       "\tat com.databricks.spark.chauffeur.ExecContextState.$anonfun$cancel$1(ExecContextState.scala:437)\n",
       "\tat scala.Option.getOrElse(Option.scala:189)\n",
       "\tat com.databricks.spark.chauffeur.ExecContextState.cancel(ExecContextState.scala:437)\n",
       "\tat com.databricks.spark.chauffeur.ChauffeurState.cancelExecution(ChauffeurState.scala:1266)\n",
       "\tat com.databricks.spark.chauffeur.ChauffeurState.$anonfun$process$1(ChauffeurState.scala:983)\n",
       "\tat com.databricks.logging.UsageLogging.$anonfun$recordOperation$1(UsageLogging.scala:573)\n",
       "\tat com.databricks.logging.UsageLogging.executeThunkAndCaptureResultTags$1(UsageLogging.scala:669)\n",
       "\tat com.databricks.logging.UsageLogging.$anonfun$recordOperationWithResultTags$4(UsageLogging.scala:687)\n",
       "\tat com.databricks.logging.UsageLogging.$anonfun$withAttributionContext$1(UsageLogging.scala:426)\n",
       "\tat scala.util.DynamicVariable.withValue(DynamicVariable.scala:62)\n",
       "\tat com.databricks.logging.AttributionContext$.withValue(AttributionContext.scala:216)\n",
       "\tat com.databricks.logging.UsageLogging.withAttributionContext(UsageLogging.scala:424)\n",
       "\tat com.databricks.logging.UsageLogging.withAttributionContext$(UsageLogging.scala:418)\n",
       "\tat com.databricks.spark.chauffeur.ChauffeurState.withAttributionContext(ChauffeurState.scala:68)\n",
       "\tat com.databricks.logging.UsageLogging.withAttributionTags(UsageLogging.scala:472)\n",
       "\tat com.databricks.logging.UsageLogging.withAttributionTags$(UsageLogging.scala:455)\n",
       "\tat com.databricks.spark.chauffeur.ChauffeurState.withAttributionTags(ChauffeurState.scala:68)\n",
       "\tat com.databricks.logging.UsageLogging.recordOperationWithResultTags(UsageLogging.scala:664)\n",
       "\tat com.databricks.logging.UsageLogging.recordOperationWithResultTags$(UsageLogging.scala:582)\n",
       "\tat com.databricks.spark.chauffeur.ChauffeurState.recordOperationWithResultTags(ChauffeurState.scala:68)\n",
       "\tat com.databricks.logging.UsageLogging.recordOperation(UsageLogging.scala:573)\n",
       "\tat com.databricks.logging.UsageLogging.recordOperation$(UsageLogging.scala:542)\n",
       "\tat com.databricks.spark.chauffeur.ChauffeurState.recordOperation(ChauffeurState.scala:68)\n",
       "\tat com.databricks.spark.chauffeur.ChauffeurState.process(ChauffeurState.scala:944)\n",
       "\tat com.databricks.spark.chauffeur.Chauffeur$$anon$1$$anonfun$receive$1.handleDriverRequest$1(Chauffeur.scala:682)\n",
       "\tat com.databricks.spark.chauffeur.Chauffeur$$anon$1$$anonfun$receive$1.$anonfun$applyOrElse$5(Chauffeur.scala:708)\n",
       "\tat com.databricks.logging.UsageLogging.executeThunkAndCaptureResultTags$1(UsageLogging.scala:669)\n",
       "\tat com.databricks.logging.UsageLogging.$anonfun$recordOperationWithResultTags$4(UsageLogging.scala:687)\n",
       "\tat com.databricks.logging.UsageLogging.$anonfun$withAttributionContext$1(UsageLogging.scala:426)\n",
       "\tat scala.util.DynamicVariable.withValue(DynamicVariable.scala:62)\n",
       "\tat com.databricks.logging.AttributionContext$.withValue(AttributionContext.scala:216)\n",
       "\tat com.databricks.logging.UsageLogging.withAttributionContext(UsageLogging.scala:424)\n",
       "\tat com.databricks.logging.UsageLogging.withAttributionContext$(UsageLogging.scala:418)\n",
       "\tat com.databricks.rpc.ServerBackend.withAttributionContext(ServerBackend.scala:22)\n",
       "\tat com.databricks.logging.UsageLogging.withAttributionTags(UsageLogging.scala:472)\n",
       "\tat com.databricks.logging.UsageLogging.withAttributionTags$(UsageLogging.scala:455)\n",
       "\tat com.databricks.rpc.ServerBackend.withAttributionTags(ServerBackend.scala:22)\n",
       "\tat com.databricks.logging.UsageLogging.recordOperationWithResultTags(UsageLogging.scala:664)\n",
       "\tat com.databricks.logging.UsageLogging.recordOperationWithResultTags$(UsageLogging.scala:582)\n",
       "\tat com.databricks.rpc.ServerBackend.recordOperationWithResultTags(ServerBackend.scala:22)\n",
       "\tat com.databricks.spark.chauffeur.Chauffeur$$anon$1$$anonfun$receive$1.handleDriverRequestWithUsageLogging$1(Chauffeur.scala:707)\n",
       "\tat com.databricks.spark.chauffeur.Chauffeur$$anon$1$$anonfun$receive$1.applyOrElse(Chauffeur.scala:762)\n",
       "\tat com.databricks.spark.chauffeur.Chauffeur$$anon$1$$anonfun$receive$1.applyOrElse(Chauffeur.scala:555)\n",
       "\tat com.databricks.rpc.ServerBackend.$anonfun$internalReceive0$2(ServerBackend.scala:174)\n",
       "\tat com.databricks.rpc.ServerBackend$$anonfun$commonReceive$1.applyOrElse(ServerBackend.scala:200)\n",
       "\tat com.databricks.rpc.ServerBackend$$anonfun$commonReceive$1.applyOrElse(ServerBackend.scala:200)\n",
       "\tat com.databricks.rpc.ServerBackend.internalReceive0(ServerBackend.scala:171)\n",
       "\tat com.databricks.rpc.ServerBackend.$anonfun$internalReceive$1(ServerBackend.scala:147)\n",
       "\tat com.databricks.logging.UsageLogging.$anonfun$recordOperation$1(UsageLogging.scala:573)\n",
       "\tat com.databricks.logging.UsageLogging.executeThunkAndCaptureResultTags$1(UsageLogging.scala:669)\n",
       "\tat com.databricks.logging.UsageLogging.$anonfun$recordOperationWithResultTags$4(UsageLogging.scala:687)\n",
       "\tat com.databricks.logging.UsageLogging.$anonfun$withAttributionContext$1(UsageLogging.scala:426)\n",
       "\tat scala.util.DynamicVariable.withValue(DynamicVariable.scala:62)\n",
       "\tat com.databricks.logging.AttributionContext$.withValue(AttributionContext.scala:216)\n",
       "\tat com.databricks.logging.UsageLogging.withAttributionContext(UsageLogging.scala:424)\n",
       "\tat com.databricks.logging.UsageLogging.withAttributionContext$(UsageLogging.scala:418)\n",
       "\tat com.databricks.rpc.ServerBackend.withAttributionContext(ServerBackend.scala:22)\n",
       "\tat com.databricks.logging.UsageLogging.withAttributionTags(UsageLogging.scala:472)\n",
       "\tat com.databricks.logging.UsageLogging.withAttributionTags$(UsageLogging.scala:455)\n",
       "\tat com.databricks.rpc.ServerBackend.withAttributionTags(ServerBackend.scala:22)\n",
       "\tat com.databricks.logging.UsageLogging.recordOperationWithResultTags(UsageLogging.scala:664)\n",
       "\tat com.databricks.logging.UsageLogging.recordOperationWithResultTags$(UsageLogging.scala:582)\n",
       "\tat com.databricks.rpc.ServerBackend.recordOperationWithResultTags(ServerBackend.scala:22)\n",
       "\tat com.databricks.logging.UsageLogging.recordOperation(UsageLogging.scala:573)\n",
       "\tat com.databricks.logging.UsageLogging.recordOperation$(UsageLogging.scala:542)\n",
       "\tat com.databricks.rpc.ServerBackend.recordOperation(ServerBackend.scala:22)\n",
       "\tat com.databricks.rpc.ServerBackend.internalReceive(ServerBackend.scala:147)\n",
       "\tat com.databricks.rpc.JettyServer$RequestManager.handleRPC(JettyServer.scala:1020)\n",
       "\tat com.databricks.rpc.JettyServer$RequestManager.handleRequestAndRespond(JettyServer.scala:941)\n",
       "\tat com.databricks.rpc.JettyServer$RequestManager.$anonfun$handleHttp$6(JettyServer.scala:545)\n",
       "\tat com.databricks.rpc.JettyServer$RequestManager.$anonfun$handleHttp$6$adapted(JettyServer.scala:514)\n",
       "\tat com.databricks.logging.activity.ActivityContextFactory$.$anonfun$withActivityInternal$4(ActivityContextFactory.scala:405)\n",
       "\tat com.databricks.logging.UsageLogging.$anonfun$withAttributionContext$1(UsageLogging.scala:426)\n",
       "\tat scala.util.DynamicVariable.withValue(DynamicVariable.scala:62)\n",
       "\tat com.databricks.logging.AttributionContext$.withValue(AttributionContext.scala:216)\n",
       "\tat com.databricks.logging.UsageLogging.withAttributionContext(UsageLogging.scala:424)\n",
       "\tat com.databricks.logging.UsageLogging.withAttributionContext$(UsageLogging.scala:418)\n",
       "\tat com.databricks.logging.activity.ActivityContextFactory$.withAttributionContext(ActivityContextFactory.scala:58)\n",
       "\tat com.databricks.logging.activity.ActivityContextFactory$.$anonfun$withActivityInternal$1(ActivityContextFactory.scala:405)\n",
       "\tat com.databricks.context.integrity.IntegrityCheckContext$ThreadLocalStorage$.withValue(IntegrityCheckContext.scala:44)\n",
       "\tat com.databricks.logging.activity.ActivityContextFactory$.withActivityInternal(ActivityContextFactory.scala:380)\n",
       "\tat com.databricks.logging.activity.ActivityContextFactory$.withServiceRequestActivity(ActivityContextFactory.scala:159)\n",
       "\tat com.databricks.rpc.JettyServer$RequestManager.handleHttp(JettyServer.scala:514)\n",
       "\tat com.databricks.rpc.JettyServer$RequestManager.doPost(JettyServer.scala:404)\n",
       "\tat javax.servlet.http.HttpServlet.service(HttpServlet.java:665)\n",
       "\tat com.databricks.rpc.HttpServletWithPatch.service(HttpServletWithPatch.scala:33)\n",
       "\tat javax.servlet.http.HttpServlet.service(HttpServlet.java:750)\n",
       "\tat org.eclipse.jetty.servlet.ServletHolder.handle(ServletHolder.java:799)\n",
       "\tat org.eclipse.jetty.servlet.ServletHandler.doHandle(ServletHandler.java:554)\n",
       "\tat org.eclipse.jetty.server.handler.ScopedHandler.nextScope(ScopedHandler.java:190)\n",
       "\tat org.eclipse.jetty.servlet.ServletHandler.doScope(ServletHandler.java:505)\n",
       "\tat org.eclipse.jetty.server.handler.ScopedHandler.handle(ScopedHandler.java:141)\n",
       "\tat org.eclipse.jetty.server.handler.HandlerWrapper.handle(HandlerWrapper.java:127)\n",
       "\tat org.eclipse.jetty.server.Server.handle(Server.java:516)\n",
       "\tat org.eclipse.jetty.server.HttpChannel.lambda$handle$1(HttpChannel.java:487)\n",
       "\tat org.eclipse.jetty.server.HttpChannel.dispatch(HttpChannel.java:732)\n",
       "\tat org.eclipse.jetty.server.HttpChannel.handle(HttpChannel.java:479)\n",
       "\tat org.eclipse.jetty.server.HttpConnection.onFillable(HttpConnection.java:277)\n",
       "\tat org.eclipse.jetty.io.AbstractConnection$ReadCallback.succeeded(AbstractConnection.java:311)\n",
       "\tat org.eclipse.jetty.io.FillInterest.fillable(FillInterest.java:105)\n",
       "\tat org.eclipse.jetty.io.ssl.SslConnection$DecryptedEndPoint.onFillable(SslConnection.java:555)\n",
       "\tat org.eclipse.jetty.io.ssl.SslConnection.onFillable(SslConnection.java:410)\n",
       "\tat org.eclipse.jetty.io.ssl.SslConnection$2.succeeded(SslConnection.java:164)\n",
       "\tat org.eclipse.jetty.io.FillInterest.fillable(FillInterest.java:105)\n",
       "\tat org.eclipse.jetty.io.ChannelEndPoint$1.run(ChannelEndPoint.java:104)\n",
       "\tat org.eclipse.jetty.util.thread.strategy.EatWhatYouKill.runTask(EatWhatYouKill.java:338)\n",
       "\tat org.eclipse.jetty.util.thread.strategy.EatWhatYouKill.doProduce(EatWhatYouKill.java:315)\n",
       "\tat org.eclipse.jetty.util.thread.strategy.EatWhatYouKill.tryProduce(EatWhatYouKill.java:173)\n",
       "\tat org.eclipse.jetty.util.thread.strategy.EatWhatYouKill.run(EatWhatYouKill.java:131)\n",
       "\tat org.eclipse.jetty.util.thread.ReservedThreadExecutor$ReservedThread.run(ReservedThreadExecutor.java:409)\n",
       "\tat com.databricks.rpc.InstrumentedQueuedThreadPool$$anon$1.$anonfun$run$4(InstrumentedQueuedThreadPool.scala:104)\n",
       "\tat scala.runtime.java8.JFunction0$mcV$sp.apply(JFunction0$mcV$sp.java:23)\n",
       "\tat com.databricks.logging.UsageLogging.$anonfun$withAttributionContext$1(UsageLogging.scala:426)\n",
       "\tat scala.util.DynamicVariable.withValue(DynamicVariable.scala:62)\n",
       "\tat com.databricks.logging.AttributionContext$.withValue(AttributionContext.scala:216)\n",
       "\tat com.databricks.logging.UsageLogging.withAttributionContext(UsageLogging.scala:424)\n",
       "\tat com.databricks.logging.UsageLogging.withAttributionContext$(UsageLogging.scala:418)\n",
       "\tat com.databricks.rpc.InstrumentedQueuedThreadPool.withAttributionContext(InstrumentedQueuedThreadPool.scala:47)\n",
       "\tat com.databricks.rpc.InstrumentedQueuedThreadPool$$anon$1.$anonfun$run$1(InstrumentedQueuedThreadPool.scala:104)\n",
       "\tat scala.runtime.java8.JFunction0$mcV$sp.apply(JFunction0$mcV$sp.java:23)\n",
       "\tat com.databricks.instrumentation.QueuedThreadPoolInstrumenter.trackActiveThreads(QueuedThreadPoolInstrumenter.scala:66)\n",
       "\tat com.databricks.instrumentation.QueuedThreadPoolInstrumenter.trackActiveThreads$(QueuedThreadPoolInstrumenter.scala:63)\n",
       "\tat com.databricks.rpc.InstrumentedQueuedThreadPool.trackActiveThreads(InstrumentedQueuedThreadPool.scala:47)\n",
       "\tat com.databricks.rpc.InstrumentedQueuedThreadPool$$anon$1.run(InstrumentedQueuedThreadPool.scala:86)\n",
       "\tat org.eclipse.jetty.util.thread.QueuedThreadPool.runJob(QueuedThreadPool.java:883)\n",
       "\tat org.eclipse.jetty.util.thread.QueuedThreadPool$Runner.run(QueuedThreadPool.java:1034)\n",
       "\tat java.lang.Thread.run(Thread.java:750)"
      ]
     },
     "metadata": {
      "application/vnd.databricks.v1+output": {
       "addedWidgets": {},
       "arguments": {},
       "datasetInfos": [],
       "jupyterProps": null,
       "metadata": {
        "errorSummary": "Cancelled"
       },
       "removedWidgets": [],
       "sqlProps": null,
       "stackFrames": [
        "com.databricks.backend.common.rpc.CommandCancelledException",
        "\tat com.databricks.spark.chauffeur.SequenceExecutionState.$anonfun$cancel$3(SequenceExecutionState.scala:103)",
        "\tat scala.Option.getOrElse(Option.scala:189)",
        "\tat com.databricks.spark.chauffeur.SequenceExecutionState.$anonfun$cancel$2(SequenceExecutionState.scala:103)",
        "\tat com.databricks.spark.chauffeur.SequenceExecutionState.$anonfun$cancel$2$adapted(SequenceExecutionState.scala:100)",
        "\tat scala.collection.immutable.Range.foreach(Range.scala:158)",
        "\tat com.databricks.spark.chauffeur.SequenceExecutionState.cancel(SequenceExecutionState.scala:100)",
        "\tat com.databricks.spark.chauffeur.ExecContextState.cancelRunningSequence(ExecContextState.scala:718)",
        "\tat com.databricks.spark.chauffeur.ExecContextState.$anonfun$cancel$1(ExecContextState.scala:437)",
        "\tat scala.Option.getOrElse(Option.scala:189)",
        "\tat com.databricks.spark.chauffeur.ExecContextState.cancel(ExecContextState.scala:437)",
        "\tat com.databricks.spark.chauffeur.ChauffeurState.cancelExecution(ChauffeurState.scala:1266)",
        "\tat com.databricks.spark.chauffeur.ChauffeurState.$anonfun$process$1(ChauffeurState.scala:983)",
        "\tat com.databricks.logging.UsageLogging.$anonfun$recordOperation$1(UsageLogging.scala:573)",
        "\tat com.databricks.logging.UsageLogging.executeThunkAndCaptureResultTags$1(UsageLogging.scala:669)",
        "\tat com.databricks.logging.UsageLogging.$anonfun$recordOperationWithResultTags$4(UsageLogging.scala:687)",
        "\tat com.databricks.logging.UsageLogging.$anonfun$withAttributionContext$1(UsageLogging.scala:426)",
        "\tat scala.util.DynamicVariable.withValue(DynamicVariable.scala:62)",
        "\tat com.databricks.logging.AttributionContext$.withValue(AttributionContext.scala:216)",
        "\tat com.databricks.logging.UsageLogging.withAttributionContext(UsageLogging.scala:424)",
        "\tat com.databricks.logging.UsageLogging.withAttributionContext$(UsageLogging.scala:418)",
        "\tat com.databricks.spark.chauffeur.ChauffeurState.withAttributionContext(ChauffeurState.scala:68)",
        "\tat com.databricks.logging.UsageLogging.withAttributionTags(UsageLogging.scala:472)",
        "\tat com.databricks.logging.UsageLogging.withAttributionTags$(UsageLogging.scala:455)",
        "\tat com.databricks.spark.chauffeur.ChauffeurState.withAttributionTags(ChauffeurState.scala:68)",
        "\tat com.databricks.logging.UsageLogging.recordOperationWithResultTags(UsageLogging.scala:664)",
        "\tat com.databricks.logging.UsageLogging.recordOperationWithResultTags$(UsageLogging.scala:582)",
        "\tat com.databricks.spark.chauffeur.ChauffeurState.recordOperationWithResultTags(ChauffeurState.scala:68)",
        "\tat com.databricks.logging.UsageLogging.recordOperation(UsageLogging.scala:573)",
        "\tat com.databricks.logging.UsageLogging.recordOperation$(UsageLogging.scala:542)",
        "\tat com.databricks.spark.chauffeur.ChauffeurState.recordOperation(ChauffeurState.scala:68)",
        "\tat com.databricks.spark.chauffeur.ChauffeurState.process(ChauffeurState.scala:944)",
        "\tat com.databricks.spark.chauffeur.Chauffeur$$anon$1$$anonfun$receive$1.handleDriverRequest$1(Chauffeur.scala:682)",
        "\tat com.databricks.spark.chauffeur.Chauffeur$$anon$1$$anonfun$receive$1.$anonfun$applyOrElse$5(Chauffeur.scala:708)",
        "\tat com.databricks.logging.UsageLogging.executeThunkAndCaptureResultTags$1(UsageLogging.scala:669)",
        "\tat com.databricks.logging.UsageLogging.$anonfun$recordOperationWithResultTags$4(UsageLogging.scala:687)",
        "\tat com.databricks.logging.UsageLogging.$anonfun$withAttributionContext$1(UsageLogging.scala:426)",
        "\tat scala.util.DynamicVariable.withValue(DynamicVariable.scala:62)",
        "\tat com.databricks.logging.AttributionContext$.withValue(AttributionContext.scala:216)",
        "\tat com.databricks.logging.UsageLogging.withAttributionContext(UsageLogging.scala:424)",
        "\tat com.databricks.logging.UsageLogging.withAttributionContext$(UsageLogging.scala:418)",
        "\tat com.databricks.rpc.ServerBackend.withAttributionContext(ServerBackend.scala:22)",
        "\tat com.databricks.logging.UsageLogging.withAttributionTags(UsageLogging.scala:472)",
        "\tat com.databricks.logging.UsageLogging.withAttributionTags$(UsageLogging.scala:455)",
        "\tat com.databricks.rpc.ServerBackend.withAttributionTags(ServerBackend.scala:22)",
        "\tat com.databricks.logging.UsageLogging.recordOperationWithResultTags(UsageLogging.scala:664)",
        "\tat com.databricks.logging.UsageLogging.recordOperationWithResultTags$(UsageLogging.scala:582)",
        "\tat com.databricks.rpc.ServerBackend.recordOperationWithResultTags(ServerBackend.scala:22)",
        "\tat com.databricks.spark.chauffeur.Chauffeur$$anon$1$$anonfun$receive$1.handleDriverRequestWithUsageLogging$1(Chauffeur.scala:707)",
        "\tat com.databricks.spark.chauffeur.Chauffeur$$anon$1$$anonfun$receive$1.applyOrElse(Chauffeur.scala:762)",
        "\tat com.databricks.spark.chauffeur.Chauffeur$$anon$1$$anonfun$receive$1.applyOrElse(Chauffeur.scala:555)",
        "\tat com.databricks.rpc.ServerBackend.$anonfun$internalReceive0$2(ServerBackend.scala:174)",
        "\tat com.databricks.rpc.ServerBackend$$anonfun$commonReceive$1.applyOrElse(ServerBackend.scala:200)",
        "\tat com.databricks.rpc.ServerBackend$$anonfun$commonReceive$1.applyOrElse(ServerBackend.scala:200)",
        "\tat com.databricks.rpc.ServerBackend.internalReceive0(ServerBackend.scala:171)",
        "\tat com.databricks.rpc.ServerBackend.$anonfun$internalReceive$1(ServerBackend.scala:147)",
        "\tat com.databricks.logging.UsageLogging.$anonfun$recordOperation$1(UsageLogging.scala:573)",
        "\tat com.databricks.logging.UsageLogging.executeThunkAndCaptureResultTags$1(UsageLogging.scala:669)",
        "\tat com.databricks.logging.UsageLogging.$anonfun$recordOperationWithResultTags$4(UsageLogging.scala:687)",
        "\tat com.databricks.logging.UsageLogging.$anonfun$withAttributionContext$1(UsageLogging.scala:426)",
        "\tat scala.util.DynamicVariable.withValue(DynamicVariable.scala:62)",
        "\tat com.databricks.logging.AttributionContext$.withValue(AttributionContext.scala:216)",
        "\tat com.databricks.logging.UsageLogging.withAttributionContext(UsageLogging.scala:424)",
        "\tat com.databricks.logging.UsageLogging.withAttributionContext$(UsageLogging.scala:418)",
        "\tat com.databricks.rpc.ServerBackend.withAttributionContext(ServerBackend.scala:22)",
        "\tat com.databricks.logging.UsageLogging.withAttributionTags(UsageLogging.scala:472)",
        "\tat com.databricks.logging.UsageLogging.withAttributionTags$(UsageLogging.scala:455)",
        "\tat com.databricks.rpc.ServerBackend.withAttributionTags(ServerBackend.scala:22)",
        "\tat com.databricks.logging.UsageLogging.recordOperationWithResultTags(UsageLogging.scala:664)",
        "\tat com.databricks.logging.UsageLogging.recordOperationWithResultTags$(UsageLogging.scala:582)",
        "\tat com.databricks.rpc.ServerBackend.recordOperationWithResultTags(ServerBackend.scala:22)",
        "\tat com.databricks.logging.UsageLogging.recordOperation(UsageLogging.scala:573)",
        "\tat com.databricks.logging.UsageLogging.recordOperation$(UsageLogging.scala:542)",
        "\tat com.databricks.rpc.ServerBackend.recordOperation(ServerBackend.scala:22)",
        "\tat com.databricks.rpc.ServerBackend.internalReceive(ServerBackend.scala:147)",
        "\tat com.databricks.rpc.JettyServer$RequestManager.handleRPC(JettyServer.scala:1020)",
        "\tat com.databricks.rpc.JettyServer$RequestManager.handleRequestAndRespond(JettyServer.scala:941)",
        "\tat com.databricks.rpc.JettyServer$RequestManager.$anonfun$handleHttp$6(JettyServer.scala:545)",
        "\tat com.databricks.rpc.JettyServer$RequestManager.$anonfun$handleHttp$6$adapted(JettyServer.scala:514)",
        "\tat com.databricks.logging.activity.ActivityContextFactory$.$anonfun$withActivityInternal$4(ActivityContextFactory.scala:405)",
        "\tat com.databricks.logging.UsageLogging.$anonfun$withAttributionContext$1(UsageLogging.scala:426)",
        "\tat scala.util.DynamicVariable.withValue(DynamicVariable.scala:62)",
        "\tat com.databricks.logging.AttributionContext$.withValue(AttributionContext.scala:216)",
        "\tat com.databricks.logging.UsageLogging.withAttributionContext(UsageLogging.scala:424)",
        "\tat com.databricks.logging.UsageLogging.withAttributionContext$(UsageLogging.scala:418)",
        "\tat com.databricks.logging.activity.ActivityContextFactory$.withAttributionContext(ActivityContextFactory.scala:58)",
        "\tat com.databricks.logging.activity.ActivityContextFactory$.$anonfun$withActivityInternal$1(ActivityContextFactory.scala:405)",
        "\tat com.databricks.context.integrity.IntegrityCheckContext$ThreadLocalStorage$.withValue(IntegrityCheckContext.scala:44)",
        "\tat com.databricks.logging.activity.ActivityContextFactory$.withActivityInternal(ActivityContextFactory.scala:380)",
        "\tat com.databricks.logging.activity.ActivityContextFactory$.withServiceRequestActivity(ActivityContextFactory.scala:159)",
        "\tat com.databricks.rpc.JettyServer$RequestManager.handleHttp(JettyServer.scala:514)",
        "\tat com.databricks.rpc.JettyServer$RequestManager.doPost(JettyServer.scala:404)",
        "\tat javax.servlet.http.HttpServlet.service(HttpServlet.java:665)",
        "\tat com.databricks.rpc.HttpServletWithPatch.service(HttpServletWithPatch.scala:33)",
        "\tat javax.servlet.http.HttpServlet.service(HttpServlet.java:750)",
        "\tat org.eclipse.jetty.servlet.ServletHolder.handle(ServletHolder.java:799)",
        "\tat org.eclipse.jetty.servlet.ServletHandler.doHandle(ServletHandler.java:554)",
        "\tat org.eclipse.jetty.server.handler.ScopedHandler.nextScope(ScopedHandler.java:190)",
        "\tat org.eclipse.jetty.servlet.ServletHandler.doScope(ServletHandler.java:505)",
        "\tat org.eclipse.jetty.server.handler.ScopedHandler.handle(ScopedHandler.java:141)",
        "\tat org.eclipse.jetty.server.handler.HandlerWrapper.handle(HandlerWrapper.java:127)",
        "\tat org.eclipse.jetty.server.Server.handle(Server.java:516)",
        "\tat org.eclipse.jetty.server.HttpChannel.lambda$handle$1(HttpChannel.java:487)",
        "\tat org.eclipse.jetty.server.HttpChannel.dispatch(HttpChannel.java:732)",
        "\tat org.eclipse.jetty.server.HttpChannel.handle(HttpChannel.java:479)",
        "\tat org.eclipse.jetty.server.HttpConnection.onFillable(HttpConnection.java:277)",
        "\tat org.eclipse.jetty.io.AbstractConnection$ReadCallback.succeeded(AbstractConnection.java:311)",
        "\tat org.eclipse.jetty.io.FillInterest.fillable(FillInterest.java:105)",
        "\tat org.eclipse.jetty.io.ssl.SslConnection$DecryptedEndPoint.onFillable(SslConnection.java:555)",
        "\tat org.eclipse.jetty.io.ssl.SslConnection.onFillable(SslConnection.java:410)",
        "\tat org.eclipse.jetty.io.ssl.SslConnection$2.succeeded(SslConnection.java:164)",
        "\tat org.eclipse.jetty.io.FillInterest.fillable(FillInterest.java:105)",
        "\tat org.eclipse.jetty.io.ChannelEndPoint$1.run(ChannelEndPoint.java:104)",
        "\tat org.eclipse.jetty.util.thread.strategy.EatWhatYouKill.runTask(EatWhatYouKill.java:338)",
        "\tat org.eclipse.jetty.util.thread.strategy.EatWhatYouKill.doProduce(EatWhatYouKill.java:315)",
        "\tat org.eclipse.jetty.util.thread.strategy.EatWhatYouKill.tryProduce(EatWhatYouKill.java:173)",
        "\tat org.eclipse.jetty.util.thread.strategy.EatWhatYouKill.run(EatWhatYouKill.java:131)",
        "\tat org.eclipse.jetty.util.thread.ReservedThreadExecutor$ReservedThread.run(ReservedThreadExecutor.java:409)",
        "\tat com.databricks.rpc.InstrumentedQueuedThreadPool$$anon$1.$anonfun$run$4(InstrumentedQueuedThreadPool.scala:104)",
        "\tat scala.runtime.java8.JFunction0$mcV$sp.apply(JFunction0$mcV$sp.java:23)",
        "\tat com.databricks.logging.UsageLogging.$anonfun$withAttributionContext$1(UsageLogging.scala:426)",
        "\tat scala.util.DynamicVariable.withValue(DynamicVariable.scala:62)",
        "\tat com.databricks.logging.AttributionContext$.withValue(AttributionContext.scala:216)",
        "\tat com.databricks.logging.UsageLogging.withAttributionContext(UsageLogging.scala:424)",
        "\tat com.databricks.logging.UsageLogging.withAttributionContext$(UsageLogging.scala:418)",
        "\tat com.databricks.rpc.InstrumentedQueuedThreadPool.withAttributionContext(InstrumentedQueuedThreadPool.scala:47)",
        "\tat com.databricks.rpc.InstrumentedQueuedThreadPool$$anon$1.$anonfun$run$1(InstrumentedQueuedThreadPool.scala:104)",
        "\tat scala.runtime.java8.JFunction0$mcV$sp.apply(JFunction0$mcV$sp.java:23)",
        "\tat com.databricks.instrumentation.QueuedThreadPoolInstrumenter.trackActiveThreads(QueuedThreadPoolInstrumenter.scala:66)",
        "\tat com.databricks.instrumentation.QueuedThreadPoolInstrumenter.trackActiveThreads$(QueuedThreadPoolInstrumenter.scala:63)",
        "\tat com.databricks.rpc.InstrumentedQueuedThreadPool.trackActiveThreads(InstrumentedQueuedThreadPool.scala:47)",
        "\tat com.databricks.rpc.InstrumentedQueuedThreadPool$$anon$1.run(InstrumentedQueuedThreadPool.scala:86)",
        "\tat org.eclipse.jetty.util.thread.QueuedThreadPool.runJob(QueuedThreadPool.java:883)",
        "\tat org.eclipse.jetty.util.thread.QueuedThreadPool$Runner.run(QueuedThreadPool.java:1034)",
        "\tat java.lang.Thread.run(Thread.java:750)"
       ],
       "type": "baseError"
      }
     },
     "output_type": "display_data"
    }
   ],
   "source": [
    "%sh\n",
    "ls /dbfs/delta/products-delta"
   ]
  },
  {
   "cell_type": "code",
   "execution_count": 0,
   "metadata": {
    "application/vnd.databricks.v1+cell": {
     "cellMetadata": {
      "byteLimit": 2048000,
      "rowLimit": 10000
     },
     "inputWidgets": {},
     "nuid": "9ac5b9f6-f0f0-474a-9fc4-b9ff5c857e20",
     "showTitle": false,
     "title": ""
    }
   },
   "outputs": [],
   "source": [
    "deltaTable=DeltaTable.forPath(sparkSession=spark,path=deltaTablePath)"
   ]
  },
  {
   "cell_type": "code",
   "execution_count": 0,
   "metadata": {
    "application/vnd.databricks.v1+cell": {
     "cellMetadata": {
      "byteLimit": 2048000,
      "rowLimit": 10000
     },
     "inputWidgets": {},
     "nuid": "e914f338-142a-4a78-99ca-575d6bcb3ffa",
     "showTitle": false,
     "title": ""
    }
   },
   "outputs": [],
   "source": [
    "deltaTable.update(\n",
    "    condition=\"ProductID == 771\",\n",
    "    set={\"ListPrice\":\"ListPrice * 0.9\" }\n",
    ")"
   ]
  },
  {
   "cell_type": "code",
   "execution_count": 0,
   "metadata": {
    "application/vnd.databricks.v1+cell": {
     "cellMetadata": {
      "byteLimit": 2048000,
      "rowLimit": 10000
     },
     "inputWidgets": {},
     "nuid": "ca888c52-e25c-421e-ae7f-f0950af08056",
     "showTitle": false,
     "title": ""
    }
   },
   "outputs": [
    {
     "output_type": "stream",
     "name": "stdout",
     "output_type": "stream",
     "text": [
      "+---------+--------------------+--------------+---------+\n|ProductID|         ProductName|      Category|ListPrice|\n+---------+--------------------+--------------+---------+\n|      772|Mountain-100 Silv...|Mountain Bikes|3399.9900|\n|      773|Mountain-100 Silv...|Mountain Bikes|3399.9900|\n|      774|Mountain-100 Silv...|Mountain Bikes|3399.9900|\n|      775|Mountain-100 Blac...|Mountain Bikes|3374.9900|\n|      776|Mountain-100 Blac...|Mountain Bikes|3374.9900|\n|      777|Mountain-100 Blac...|Mountain Bikes|3374.9900|\n|      778|Mountain-100 Blac...|Mountain Bikes|3374.9900|\n|      779|Mountain-200 Silv...|Mountain Bikes|2319.9900|\n|      780|Mountain-200 Silv...|Mountain Bikes|2319.9900|\n|      781|Mountain-200 Silv...|Mountain Bikes|2319.9900|\n+---------+--------------------+--------------+---------+\nonly showing top 10 rows\n\n"
     ]
    }
   ],
   "source": [
    "deltaTable.toDF().show(n=10)"
   ]
  },
  {
   "cell_type": "markdown",
   "metadata": {
    "application/vnd.databricks.v1+cell": {
     "cellMetadata": {},
     "inputWidgets": {},
     "nuid": "e4bcdc95-58cd-47ae-bd1c-accb44c6ee43",
     "showTitle": false,
     "title": ""
    }
   },
   "source": [
    "### See the Original Version of Delta Table"
   ]
  },
  {
   "cell_type": "code",
   "execution_count": 0,
   "metadata": {
    "application/vnd.databricks.v1+cell": {
     "cellMetadata": {
      "byteLimit": 2048000,
      "rowLimit": 10000
     },
     "inputWidgets": {},
     "nuid": "906f473d-23f3-4708-b8ba-968721b6e213",
     "showTitle": false,
     "title": ""
    }
   },
   "outputs": [],
   "source": [
    "newDF=spark.read.format(\"delta\").option(\"versionAsOf\",0).load(path=deltaTablePath)"
   ]
  },
  {
   "cell_type": "code",
   "execution_count": 0,
   "metadata": {
    "application/vnd.databricks.v1+cell": {
     "cellMetadata": {
      "byteLimit": 2048000,
      "rowLimit": 10000
     },
     "inputWidgets": {},
     "nuid": "6a430d3f-e246-4846-a199-7a2a14a06dd7",
     "showTitle": false,
     "title": ""
    }
   },
   "outputs": [
    {
     "output_type": "stream",
     "name": "stdout",
     "output_type": "stream",
     "text": [
      "+---------+--------------------+--------------+---------+\n|ProductID|         ProductName|      Category|ListPrice|\n+---------+--------------------+--------------+---------+\n|      771|Mountain-100 Silv...|Mountain Bikes|3399.9900|\n|      772|Mountain-100 Silv...|Mountain Bikes|3399.9900|\n|      773|Mountain-100 Silv...|Mountain Bikes|3399.9900|\n|      774|Mountain-100 Silv...|Mountain Bikes|3399.9900|\n|      775|Mountain-100 Blac...|Mountain Bikes|3374.9900|\n|      776|Mountain-100 Blac...|Mountain Bikes|3374.9900|\n|      777|Mountain-100 Blac...|Mountain Bikes|3374.9900|\n|      778|Mountain-100 Blac...|Mountain Bikes|3374.9900|\n|      779|Mountain-200 Silv...|Mountain Bikes|2319.9900|\n|      780|Mountain-200 Silv...|Mountain Bikes|2319.9900|\n+---------+--------------------+--------------+---------+\nonly showing top 10 rows\n\n"
     ]
    }
   ],
   "source": [
    "newDF.show(n=10)"
   ]
  },
  {
   "cell_type": "code",
   "execution_count": 0,
   "metadata": {
    "application/vnd.databricks.v1+cell": {
     "cellMetadata": {
      "byteLimit": 2048000,
      "rowLimit": 10000
     },
     "inputWidgets": {},
     "nuid": "22faa6cf-0e9e-4900-8c97-28ffa0a05688",
     "showTitle": false,
     "title": ""
    }
   },
   "outputs": [
    {
     "output_type": "stream",
     "name": "stdout",
     "output_type": "stream",
     "text": [
      "-RECORD 0----------------------------------------------------------------------------------------------------------------------------------------------------------------------------------------------------------------------------------------------------------------------------------------------------------------------------------------------\n version             | 2                                                                                                                                                                                                                                                                                                                               \n timestamp           | 2024-07-03 13:06:03                                                                                                                                                                                                                                                                                                             \n userId              | 2028463242543030                                                                                                                                                                                                                                                                                                                \n userName            | ritishadhikari@gmail.com                                                                                                                                                                                                                                                                                                        \n operation           | UPDATE                                                                                                                                                                                                                                                                                                                          \n operationParameters | {predicate -> [\"(cast(ProductID#70 as int) = 771)\"]}                                                                                                                                                                                                                                                                            \n job                 | NULL                                                                                                                                                                                                                                                                                                                            \n notebook            | {1028551750004977}                                                                                                                                                                                                                                                                                                              \n clusterId           | 0703-115138-1dp3luym                                                                                                                                                                                                                                                                                                            \n readVersion         | 1                                                                                                                                                                                                                                                                                                                               \n isolationLevel      | WriteSerializable                                                                                                                                                                                                                                                                                                               \n isBlindAppend       | false                                                                                                                                                                                                                                                                                                                           \n operationMetrics    | {numRemovedFiles -> 1, numRemovedBytes -> 1153, numCopiedRows -> 0, numDeletionVectorsAdded -> 0, numDeletionVectorsRemoved -> 0, numAddedChangeFiles -> 0, executionTimeMs -> 7516, numDeletionVectorsUpdated -> 0, scanTimeMs -> 5084, numAddedFiles -> 1, numUpdatedRows -> 1, numAddedBytes -> 1158, rewriteTimeMs -> 2383} \n userMetadata        | NULL                                                                                                                                                                                                                                                                                                                            \n engineInfo          | Databricks-Runtime/14.3.x-photon-scala2.12                                                                                                                                                                                                                                                                                      \n-RECORD 1----------------------------------------------------------------------------------------------------------------------------------------------------------------------------------------------------------------------------------------------------------------------------------------------------------------------------------------------\n version             | 1                                                                                                                                                                                                                                                                                                                               \n timestamp           | 2024-07-03 12:15:02                                                                                                                                                                                                                                                                                                             \n userId              | 2028463242543030                                                                                                                                                                                                                                                                                                                \n userName            | ritishadhikari@gmail.com                                                                                                                                                                                                                                                                                                        \n operation           | UPDATE                                                                                                                                                                                                                                                                                                                          \n operationParameters | {predicate -> [\"(cast(ProductID#640 as int) = 771)\"]}                                                                                                                                                                                                                                                                           \n job                 | NULL                                                                                                                                                                                                                                                                                                                            \n notebook            | {1028551750004977}                                                                                                                                                                                                                                                                                                              \n clusterId           | 0703-115138-1dp3luym                                                                                                                                                                                                                                                                                                            \n readVersion         | 0                                                                                                                                                                                                                                                                                                                               \n isolationLevel      | WriteSerializable                                                                                                                                                                                                                                                                                                               \n isBlindAppend       | false                                                                                                                                                                                                                                                                                                                           \n operationMetrics    | {numRemovedFiles -> 0, numRemovedBytes -> 0, numCopiedRows -> 0, numDeletionVectorsAdded -> 1, numDeletionVectorsRemoved -> 0, numAddedChangeFiles -> 0, executionTimeMs -> 5781, numDeletionVectorsUpdated -> 0, scanTimeMs -> 3551, numAddedFiles -> 1, numUpdatedRows -> 1, numAddedBytes -> 1153, rewriteTimeMs -> 2122}    \n userMetadata        | NULL                                                                                                                                                                                                                                                                                                                            \n engineInfo          | Databricks-Runtime/14.3.x-photon-scala2.12                                                                                                                                                                                                                                                                                      \n-RECORD 2----------------------------------------------------------------------------------------------------------------------------------------------------------------------------------------------------------------------------------------------------------------------------------------------------------------------------------------------\n version             | 0                                                                                                                                                                                                                                                                                                                               \n timestamp           | 2024-07-03 12:00:23                                                                                                                                                                                                                                                                                                             \n userId              | 2028463242543030                                                                                                                                                                                                                                                                                                                \n userName            | ritishadhikari@gmail.com                                                                                                                                                                                                                                                                                                        \n operation           | WRITE                                                                                                                                                                                                                                                                                                                           \n operationParameters | {mode -> ErrorIfExists, statsOnLoad -> false, partitionBy -> []}                                                                                                                                                                                                                                                                \n job                 | NULL                                                                                                                                                                                                                                                                                                                            \n notebook            | {1028551750004977}                                                                                                                                                                                                                                                                                                              \n clusterId           | 0703-115138-1dp3luym                                                                                                                                                                                                                                                                                                            \n readVersion         | NULL                                                                                                                                                                                                                                                                                                                            \n isolationLevel      | WriteSerializable                                                                                                                                                                                                                                                                                                               \n isBlindAppend       | true                                                                                                                                                                                                                                                                                                                            \n operationMetrics    | {numFiles -> 1, numOutputRows -> 295, numOutputBytes -> 6020}                                                                                                                                                                                                                                                                   \n userMetadata        | NULL                                                                                                                                                                                                                                                                                                                            \n engineInfo          | Databricks-Runtime/14.3.x-photon-scala2.12                                                                                                                                                                                                                                                                                      \n\n"
     ]
    }
   ],
   "source": [
    "deltaTable.history(limit=10).show(n=10,truncate=False, vertical=True)"
   ]
  },
  {
   "cell_type": "markdown",
   "metadata": {
    "application/vnd.databricks.v1+cell": {
     "cellMetadata": {},
     "inputWidgets": {},
     "nuid": "60faa7d5-57c3-427d-9895-3dcd158042cd",
     "showTitle": false,
     "title": ""
    }
   },
   "source": [
    "### Create an External Table"
   ]
  },
  {
   "cell_type": "code",
   "execution_count": 0,
   "metadata": {
    "application/vnd.databricks.v1+cell": {
     "cellMetadata": {
      "byteLimit": 2048000,
      "rowLimit": 10000
     },
     "inputWidgets": {},
     "nuid": "2bb0db4b-2e0a-429c-b2d0-e04df28a3d95",
     "showTitle": false,
     "title": ""
    }
   },
   "outputs": [
    {
     "output_type": "execute_result",
     "data": {
      "text/plain": [
       "DataFrame[]"
      ]
     },
     "execution_count": 12,
     "metadata": {},
     "output_type": "execute_result"
    }
   ],
   "source": [
    "spark.sql(\n",
    "  sqlQuery=\"\"\"\n",
    "  CREATE DATABASE \n",
    "    Adventureworks\n",
    "  \"\"\"\n",
    ")"
   ]
  },
  {
   "cell_type": "code",
   "execution_count": 0,
   "metadata": {
    "application/vnd.databricks.v1+cell": {
     "cellMetadata": {
      "byteLimit": 2048000,
      "rowLimit": 10000
     },
     "inputWidgets": {},
     "nuid": "a47c38ab-33df-4c9e-b1f5-015f632b1115",
     "showTitle": false,
     "title": ""
    }
   },
   "outputs": [
    {
     "output_type": "execute_result",
     "data": {
      "text/plain": [
       "DataFrame[]"
      ]
     },
     "execution_count": 14,
     "metadata": {},
     "output_type": "execute_result"
    }
   ],
   "source": [
    "spark.sql(\n",
    "    sqlQuery=\"\"\"\n",
    "    CREATE TABLE \n",
    "        AdventureWorks.ProductsExternal\n",
    "    USING\n",
    "        delta\n",
    "    LOCATION\n",
    "        '{0}'\n",
    "        \"\"\".format(deltaTablePath))"
   ]
  },
  {
   "cell_type": "code",
   "execution_count": 0,
   "metadata": {
    "application/vnd.databricks.v1+cell": {
     "cellMetadata": {
      "byteLimit": 2048000,
      "rowLimit": 10000
     },
     "inputWidgets": {},
     "nuid": "43d80ef6-5cee-43d8-b2cd-9dcc298354f2",
     "showTitle": false,
     "title": ""
    }
   },
   "outputs": [
    {
     "output_type": "stream",
     "name": "stdout",
     "output_type": "stream",
     "text": [
      "+----------------------------+-------------------------------------------+-------+\n|col_name                    |data_type                                  |comment|\n+----------------------------+-------------------------------------------+-------+\n|ProductID                   |string                                     |NULL   |\n|ProductName                 |string                                     |NULL   |\n|Category                    |string                                     |NULL   |\n|ListPrice                   |string                                     |NULL   |\n|                            |                                           |       |\n|# Delta Statistics Columns  |                                           |       |\n|Column Names                |ProductID, ProductName, Category, ListPrice|       |\n|Column Selection Method     |first-32                                   |       |\n|                            |                                           |       |\n|# Detailed Table Information|                                           |       |\n|Catalog                     |hive_metastore                             |       |\n|Database                    |AdventureWorks                             |       |\n|Table                       |ProductsExternal                           |       |\n|Created Time                |Wed Jul 03 13:14:39 UTC 2024               |       |\n|Last Access                 |UNKNOWN                                    |       |\n|Created By                  |Spark 3.5.0                                |       |\n|Type                        |EXTERNAL                                   |       |\n|Location                    |dbfs:/delta/products-delta                 |       |\n|Provider                    |delta                                      |       |\n|Owner                       |root                                       |       |\n+----------------------------+-------------------------------------------+-------+\nonly showing top 20 rows\n\n"
     ]
    }
   ],
   "source": [
    "spark.sql(sqlQuery=\"\"\"\n",
    "          DESCRIBE EXTENDED \n",
    "            AdventureWorks.ProductsExternal\n",
    "          \"\"\").show(truncate=False)"
   ]
  },
  {
   "cell_type": "code",
   "execution_count": 0,
   "metadata": {
    "application/vnd.databricks.v1+cell": {
     "cellMetadata": {
      "byteLimit": 2048000,
      "rowLimit": 10000
     },
     "inputWidgets": {},
     "nuid": "2b935978-f12b-42fa-a0cc-e707e6715e12",
     "showTitle": false,
     "title": ""
    }
   },
   "outputs": [
    {
     "output_type": "execute_result",
     "data": {
      "text/plain": [
       "[FileInfo(path='dbfs:/delta/products-delta/_delta_log/', name='_delta_log/', size=0, modificationTime=1720008020000),\n",
       " FileInfo(path='dbfs:/delta/products-delta/deletion_vector_9b12f505-1a2f-4cfc-847f-e0e317da1b00.bin', name='deletion_vector_9b12f505-1a2f-4cfc-847f-e0e317da1b00.bin', size=43, modificationTime=1720008900000),\n",
       " FileInfo(path='dbfs:/delta/products-delta/deletion_vector_b6659ece-8ddd-4697-b7a8-13f66ac6b6e6.bin', name='deletion_vector_b6659ece-8ddd-4697-b7a8-13f66ac6b6e6.bin', size=43, modificationTime=1720011960000),\n",
       " FileInfo(path='dbfs:/delta/products-delta/part-00000-2050bf2c-d4a6-440d-9fb9-65e66117bcdc.c000.snappy.parquet', name='part-00000-2050bf2c-d4a6-440d-9fb9-65e66117bcdc.c000.snappy.parquet', size=1153, modificationTime=1720008901000),\n",
       " FileInfo(path='dbfs:/delta/products-delta/part-00000-23faeef8-d6fe-4a8c-a3d7-182db2a3f3de.c000.snappy.parquet', name='part-00000-23faeef8-d6fe-4a8c-a3d7-182db2a3f3de.c000.snappy.parquet', size=1158, modificationTime=1720011962000),\n",
       " FileInfo(path='dbfs:/delta/products-delta/part-00000-a7ece34d-3d32-4368-8fbe-5a8bcaab6c84.c000.snappy.parquet', name='part-00000-a7ece34d-3d32-4368-8fbe-5a8bcaab6c84.c000.snappy.parquet', size=6020, modificationTime=1720008022000)]"
      ]
     },
     "execution_count": 22,
     "metadata": {},
     "output_type": "execute_result"
    }
   ],
   "source": [
    "dbutils.fs.ls(path=\"dbfs:/delta/products-delta\")"
   ]
  },
  {
   "cell_type": "code",
   "execution_count": 0,
   "metadata": {
    "application/vnd.databricks.v1+cell": {
     "cellMetadata": {
      "byteLimit": 2048000,
      "implicitDf": true,
      "rowLimit": 10000
     },
     "inputWidgets": {},
     "nuid": "b3853fc9-22f2-4e79-beba-7a9504d37706",
     "showTitle": false,
     "title": ""
    }
   },
   "outputs": [
    {
     "output_type": "display_data",
     "data": {
      "text/html": [
       "<style scoped>\n",
       "  .table-result-container {\n",
       "    max-height: 300px;\n",
       "    overflow: auto;\n",
       "  }\n",
       "  table, th, td {\n",
       "    border: 1px solid black;\n",
       "    border-collapse: collapse;\n",
       "  }\n",
       "  th, td {\n",
       "    padding: 5px;\n",
       "  }\n",
       "  th {\n",
       "    text-align: left;\n",
       "  }\n",
       "</style><div class='table-result-container'><table class='table-result'><thead style='background-color: white'><tr><th>ProductID</th><th>ProductName</th><th>Category</th><th>ListPrice</th></tr></thead><tbody><tr><td>772</td><td>Mountain-100 Silver, 42</td><td>Mountain Bikes</td><td>3399.9900</td></tr><tr><td>773</td><td>Mountain-100 Silver, 44</td><td>Mountain Bikes</td><td>3399.9900</td></tr><tr><td>774</td><td>Mountain-100 Silver, 48</td><td>Mountain Bikes</td><td>3399.9900</td></tr><tr><td>775</td><td>Mountain-100 Black, 38</td><td>Mountain Bikes</td><td>3374.9900</td></tr><tr><td>776</td><td>Mountain-100 Black, 42</td><td>Mountain Bikes</td><td>3374.9900</td></tr><tr><td>777</td><td>Mountain-100 Black, 44</td><td>Mountain Bikes</td><td>3374.9900</td></tr><tr><td>778</td><td>Mountain-100 Black, 48</td><td>Mountain Bikes</td><td>3374.9900</td></tr><tr><td>779</td><td>Mountain-200 Silver, 38</td><td>Mountain Bikes</td><td>2319.9900</td></tr><tr><td>780</td><td>Mountain-200 Silver, 42</td><td>Mountain Bikes</td><td>2319.9900</td></tr><tr><td>781</td><td>Mountain-200 Silver, 46</td><td>Mountain Bikes</td><td>2319.9900</td></tr><tr><td>782</td><td>Mountain-200 Black, 38</td><td>Mountain Bikes</td><td>2294.9900</td></tr><tr><td>783</td><td>Mountain-200 Black, 42</td><td>Mountain Bikes</td><td>2294.9900</td></tr><tr><td>784</td><td>Mountain-200 Black, 46</td><td>Mountain Bikes</td><td>2294.9900</td></tr><tr><td>785</td><td>Mountain-300 Black, 38</td><td>Mountain Bikes</td><td>1079.9900</td></tr><tr><td>786</td><td>Mountain-300 Black, 40</td><td>Mountain Bikes</td><td>1079.9900</td></tr><tr><td>787</td><td>Mountain-300 Black, 44</td><td>Mountain Bikes</td><td>1079.9900</td></tr><tr><td>788</td><td>Mountain-300 Black, 48</td><td>Mountain Bikes</td><td>1079.9900</td></tr><tr><td>980</td><td>Mountain-400-W Silver, 38</td><td>Mountain Bikes</td><td>769.4900</td></tr><tr><td>981</td><td>Mountain-400-W Silver, 40</td><td>Mountain Bikes</td><td>769.4900</td></tr><tr><td>982</td><td>Mountain-400-W Silver, 42</td><td>Mountain Bikes</td><td>769.4900</td></tr><tr><td>983</td><td>Mountain-400-W Silver, 46</td><td>Mountain Bikes</td><td>769.4900</td></tr><tr><td>984</td><td>Mountain-500 Silver, 40</td><td>Mountain Bikes</td><td>564.9900</td></tr><tr><td>985</td><td>Mountain-500 Silver, 42</td><td>Mountain Bikes</td><td>564.9900</td></tr><tr><td>986</td><td>Mountain-500 Silver, 44</td><td>Mountain Bikes</td><td>564.9900</td></tr><tr><td>987</td><td>Mountain-500 Silver, 48</td><td>Mountain Bikes</td><td>564.9900</td></tr><tr><td>988</td><td>Mountain-500 Silver, 52</td><td>Mountain Bikes</td><td>564.9900</td></tr><tr><td>989</td><td>Mountain-500 Black, 40</td><td>Mountain Bikes</td><td>539.9900</td></tr><tr><td>990</td><td>Mountain-500 Black, 42</td><td>Mountain Bikes</td><td>539.9900</td></tr><tr><td>991</td><td>Mountain-500 Black, 44</td><td>Mountain Bikes</td><td>539.9900</td></tr><tr><td>992</td><td>Mountain-500 Black, 48</td><td>Mountain Bikes</td><td>539.9900</td></tr><tr><td>993</td><td>Mountain-500 Black, 52</td><td>Mountain Bikes</td><td>539.9900</td></tr><tr><td>973</td><td>Road-350-W Yellow, 40</td><td>Road Bikes</td><td>1700.9900</td></tr><tr><td>974</td><td>Road-350-W Yellow, 42</td><td>Road Bikes</td><td>1700.9900</td></tr><tr><td>975</td><td>Road-350-W Yellow, 44</td><td>Road Bikes</td><td>1700.9900</td></tr><tr><td>976</td><td>Road-350-W Yellow, 48</td><td>Road Bikes</td><td>1700.9900</td></tr><tr><td>977</td><td>Road-750 Black, 58</td><td>Road Bikes</td><td>539.9900</td></tr><tr><td>997</td><td>Road-750 Black, 44</td><td>Road Bikes</td><td>539.9900</td></tr><tr><td>998</td><td>Road-750 Black, 48</td><td>Road Bikes</td><td>539.9900</td></tr><tr><td>999</td><td>Road-750 Black, 52</td><td>Road Bikes</td><td>539.9900</td></tr><tr><td>789</td><td>Road-250 Red, 44</td><td>Road Bikes</td><td>2443.3500</td></tr><tr><td>790</td><td>Road-250 Red, 48</td><td>Road Bikes</td><td>2443.3500</td></tr><tr><td>791</td><td>Road-250 Red, 52</td><td>Road Bikes</td><td>2443.3500</td></tr><tr><td>792</td><td>Road-250 Red, 58</td><td>Road Bikes</td><td>2443.3500</td></tr><tr><td>793</td><td>Road-250 Black, 44</td><td>Road Bikes</td><td>2443.3500</td></tr><tr><td>794</td><td>Road-250 Black, 48</td><td>Road Bikes</td><td>2443.3500</td></tr><tr><td>795</td><td>Road-250 Black, 52</td><td>Road Bikes</td><td>2443.3500</td></tr><tr><td>796</td><td>Road-250 Black, 58</td><td>Road Bikes</td><td>2443.3500</td></tr><tr><td>797</td><td>Road-550-W Yellow, 38</td><td>Road Bikes</td><td>1120.4900</td></tr><tr><td>798</td><td>Road-550-W Yellow, 40</td><td>Road Bikes</td><td>1120.4900</td></tr><tr><td>799</td><td>Road-550-W Yellow, 42</td><td>Road Bikes</td><td>1120.4900</td></tr><tr><td>800</td><td>Road-550-W Yellow, 44</td><td>Road Bikes</td><td>1120.4900</td></tr><tr><td>801</td><td>Road-550-W Yellow, 48</td><td>Road Bikes</td><td>1120.4900</td></tr><tr><td>749</td><td>Road-150 Red, 62</td><td>Road Bikes</td><td>3578.2700</td></tr><tr><td>750</td><td>Road-150 Red, 44</td><td>Road Bikes</td><td>3578.2700</td></tr><tr><td>751</td><td>Road-150 Red, 48</td><td>Road Bikes</td><td>3578.2700</td></tr><tr><td>752</td><td>Road-150 Red, 52</td><td>Road Bikes</td><td>3578.2700</td></tr><tr><td>753</td><td>Road-150 Red, 56</td><td>Road Bikes</td><td>3578.2700</td></tr><tr><td>754</td><td>Road-450 Red, 58</td><td>Road Bikes</td><td>1457.9900</td></tr><tr><td>755</td><td>Road-450 Red, 60</td><td>Road Bikes</td><td>1457.9900</td></tr><tr><td>756</td><td>Road-450 Red, 44</td><td>Road Bikes</td><td>1457.9900</td></tr><tr><td>757</td><td>Road-450 Red, 48</td><td>Road Bikes</td><td>1457.9900</td></tr><tr><td>758</td><td>Road-450 Red, 52</td><td>Road Bikes</td><td>1457.9900</td></tr><tr><td>759</td><td>Road-650 Red, 58</td><td>Road Bikes</td><td>782.9900</td></tr><tr><td>760</td><td>Road-650 Red, 60</td><td>Road Bikes</td><td>782.9900</td></tr><tr><td>761</td><td>Road-650 Red, 62</td><td>Road Bikes</td><td>782.9900</td></tr><tr><td>762</td><td>Road-650 Red, 44</td><td>Road Bikes</td><td>782.9900</td></tr><tr><td>763</td><td>Road-650 Red, 48</td><td>Road Bikes</td><td>782.9900</td></tr><tr><td>764</td><td>Road-650 Red, 52</td><td>Road Bikes</td><td>782.9900</td></tr><tr><td>765</td><td>Road-650 Black, 58</td><td>Road Bikes</td><td>782.9900</td></tr><tr><td>766</td><td>Road-650 Black, 60</td><td>Road Bikes</td><td>782.9900</td></tr><tr><td>767</td><td>Road-650 Black, 62</td><td>Road Bikes</td><td>782.9900</td></tr><tr><td>768</td><td>Road-650 Black, 44</td><td>Road Bikes</td><td>782.9900</td></tr><tr><td>769</td><td>Road-650 Black, 48</td><td>Road Bikes</td><td>782.9900</td></tr><tr><td>770</td><td>Road-650 Black, 52</td><td>Road Bikes</td><td>782.9900</td></tr><tr><td>978</td><td>Touring-3000 Blue, 44</td><td>Touring Bikes</td><td>742.3500</td></tr><tr><td>979</td><td>Touring-3000 Blue, 50</td><td>Touring Bikes</td><td>742.3500</td></tr><tr><td>953</td><td>Touring-2000 Blue, 60</td><td>Touring Bikes</td><td>1214.8500</td></tr><tr><td>954</td><td>Touring-1000 Yellow, 46</td><td>Touring Bikes</td><td>2384.0700</td></tr><tr><td>955</td><td>Touring-1000 Yellow, 50</td><td>Touring Bikes</td><td>2384.0700</td></tr><tr><td>956</td><td>Touring-1000 Yellow, 54</td><td>Touring Bikes</td><td>2384.0700</td></tr><tr><td>957</td><td>Touring-1000 Yellow, 60</td><td>Touring Bikes</td><td>2384.0700</td></tr><tr><td>958</td><td>Touring-3000 Blue, 54</td><td>Touring Bikes</td><td>742.3500</td></tr><tr><td>959</td><td>Touring-3000 Blue, 58</td><td>Touring Bikes</td><td>742.3500</td></tr><tr><td>960</td><td>Touring-3000 Blue, 62</td><td>Touring Bikes</td><td>742.3500</td></tr><tr><td>961</td><td>Touring-3000 Yellow, 44</td><td>Touring Bikes</td><td>742.3500</td></tr><tr><td>962</td><td>Touring-3000 Yellow, 50</td><td>Touring Bikes</td><td>742.3500</td></tr><tr><td>963</td><td>Touring-3000 Yellow, 54</td><td>Touring Bikes</td><td>742.3500</td></tr><tr><td>964</td><td>Touring-3000 Yellow, 58</td><td>Touring Bikes</td><td>742.3500</td></tr><tr><td>965</td><td>Touring-3000 Yellow, 62</td><td>Touring Bikes</td><td>742.3500</td></tr><tr><td>966</td><td>Touring-1000 Blue, 46</td><td>Touring Bikes</td><td>2384.0700</td></tr><tr><td>967</td><td>Touring-1000 Blue, 50</td><td>Touring Bikes</td><td>2384.0700</td></tr><tr><td>968</td><td>Touring-1000 Blue, 54</td><td>Touring Bikes</td><td>2384.0700</td></tr><tr><td>969</td><td>Touring-1000 Blue, 60</td><td>Touring Bikes</td><td>2384.0700</td></tr><tr><td>970</td><td>Touring-2000 Blue, 46</td><td>Touring Bikes</td><td>1214.8500</td></tr><tr><td>971</td><td>Touring-2000 Blue, 50</td><td>Touring Bikes</td><td>1214.8500</td></tr><tr><td>972</td><td>Touring-2000 Blue, 54</td><td>Touring Bikes</td><td>1214.8500</td></tr><tr><td>946</td><td>LL Touring Handlebars</td><td>Handlebars</td><td>46.0900</td></tr><tr><td>947</td><td>HL Touring Handlebars</td><td>Handlebars</td><td>91.5700</td></tr><tr><td>808</td><td>LL Mountain Handlebars</td><td>Handlebars</td><td>44.5400</td></tr><tr><td>809</td><td>ML Mountain Handlebars</td><td>Handlebars</td><td>61.9200</td></tr><tr><td>810</td><td>HL Mountain Handlebars</td><td>Handlebars</td><td>120.2700</td></tr><tr><td>811</td><td>LL Road Handlebars</td><td>Handlebars</td><td>44.5400</td></tr><tr><td>812</td><td>ML Road Handlebars</td><td>Handlebars</td><td>61.9200</td></tr><tr><td>813</td><td>HL Road Handlebars</td><td>Handlebars</td><td>120.2700</td></tr><tr><td>994</td><td>LL Bottom Bracket</td><td>Bottom Brackets</td><td>53.9900</td></tr><tr><td>995</td><td>ML Bottom Bracket</td><td>Bottom Brackets</td><td>101.2400</td></tr><tr><td>996</td><td>HL Bottom Bracket</td><td>Bottom Brackets</td><td>121.4900</td></tr><tr><td>948</td><td>Front Brakes</td><td>Brakes</td><td>106.5000</td></tr><tr><td>907</td><td>Rear Brakes</td><td>Brakes</td><td>106.5000</td></tr><tr><td>952</td><td>Chain</td><td>Chains</td><td>20.2400</td></tr><tr><td>949</td><td>LL Crankset</td><td>Cranksets</td><td>175.4900</td></tr><tr><td>950</td><td>ML Crankset</td><td>Cranksets</td><td>256.4900</td></tr><tr><td>951</td><td>HL Crankset</td><td>Cranksets</td><td>404.9900</td></tr><tr><td>945</td><td>Front Derailleur</td><td>Derailleurs</td><td>91.4900</td></tr><tr><td>894</td><td>Rear Derailleur</td><td>Derailleurs</td><td>121.4600</td></tr><tr><td>802</td><td>LL Fork</td><td>Forks</td><td>148.2200</td></tr><tr><td>803</td><td>ML Fork</td><td>Forks</td><td>175.4900</td></tr><tr><td>804</td><td>HL Fork</td><td>Forks</td><td>229.4900</td></tr><tr><td>805</td><td>LL Headset</td><td>Headsets</td><td>34.2000</td></tr><tr><td>806</td><td>ML Headset</td><td>Headsets</td><td>102.2900</td></tr><tr><td>807</td><td>HL Headset</td><td>Headsets</td><td>124.7300</td></tr><tr><td>739</td><td>HL Mountain Frame - Silver, 42</td><td>Mountain Frames</td><td>1364.5000</td></tr><tr><td>740</td><td>HL Mountain Frame - Silver, 44</td><td>Mountain Frames</td><td>1364.5000</td></tr><tr><td>741</td><td>HL Mountain Frame - Silver, 48</td><td>Mountain Frames</td><td>1364.5000</td></tr><tr><td>742</td><td>HL Mountain Frame - Silver, 46</td><td>Mountain Frames</td><td>1364.5000</td></tr><tr><td>743</td><td>HL Mountain Frame - Black, 42</td><td>Mountain Frames</td><td>1349.6000</td></tr><tr><td>744</td><td>HL Mountain Frame - Black, 44</td><td>Mountain Frames</td><td>1349.6000</td></tr><tr><td>745</td><td>HL Mountain Frame - Black, 48</td><td>Mountain Frames</td><td>1349.6000</td></tr><tr><td>746</td><td>HL Mountain Frame - Black, 46</td><td>Mountain Frames</td><td>1349.6000</td></tr><tr><td>747</td><td>HL Mountain Frame - Black, 38</td><td>Mountain Frames</td><td>1349.6000</td></tr><tr><td>748</td><td>HL Mountain Frame - Silver, 38</td><td>Mountain Frames</td><td>1364.5000</td></tr><tr><td>814</td><td>ML Mountain Frame - Black, 38</td><td>Mountain Frames</td><td>348.7600</td></tr><tr><td>830</td><td>ML Mountain Frame - Black, 40</td><td>Mountain Frames</td><td>348.7600</td></tr><tr><td>831</td><td>ML Mountain Frame - Black, 44</td><td>Mountain Frames</td><td>348.7600</td></tr><tr><td>832</td><td>ML Mountain Frame - Black, 48</td><td>Mountain Frames</td><td>348.7600</td></tr><tr><td>924</td><td>LL Mountain Frame - Black, 42</td><td>Mountain Frames</td><td>249.7900</td></tr><tr><td>925</td><td>LL Mountain Frame - Black, 44</td><td>Mountain Frames</td><td>249.7900</td></tr><tr><td>926</td><td>LL Mountain Frame - Black, 48</td><td>Mountain Frames</td><td>249.7900</td></tr><tr><td>927</td><td>LL Mountain Frame - Black, 52</td><td>Mountain Frames</td><td>249.7900</td></tr><tr><td>917</td><td>LL Mountain Frame - Silver, 42</td><td>Mountain Frames</td><td>264.0500</td></tr><tr><td>918</td><td>LL Mountain Frame - Silver, 44</td><td>Mountain Frames</td><td>264.0500</td></tr><tr><td>919</td><td>LL Mountain Frame - Silver, 48</td><td>Mountain Frames</td><td>264.0500</td></tr><tr><td>920</td><td>LL Mountain Frame - Silver, 52</td><td>Mountain Frames</td><td>264.0500</td></tr><tr><td>904</td><td>ML Mountain Frame-W - Silver, 40</td><td>Mountain Frames</td><td>364.0900</td></tr><tr><td>905</td><td>ML Mountain Frame-W - Silver, 42</td><td>Mountain Frames</td><td>364.0900</td></tr><tr><td>906</td><td>ML Mountain Frame-W - Silver, 46</td><td>Mountain Frames</td><td>364.0900</td></tr><tr><td>942</td><td>ML Mountain Frame-W - Silver, 38</td><td>Mountain Frames</td><td>364.0900</td></tr><tr><td>943</td><td>LL Mountain Frame - Black, 40</td><td>Mountain Frames</td><td>249.7900</td></tr><tr><td>944</td><td>LL Mountain Frame - Silver, 40</td><td>Mountain Frames</td><td>264.0500</td></tr><tr><td>935</td><td>LL Mountain Pedal</td><td>Pedals</td><td>40.4900</td></tr><tr><td>936</td><td>ML Mountain Pedal</td><td>Pedals</td><td>62.0900</td></tr><tr><td>937</td><td>HL Mountain Pedal</td><td>Pedals</td><td>80.9900</td></tr><tr><td>938</td><td>LL Road Pedal</td><td>Pedals</td><td>40.4900</td></tr><tr><td>939</td><td>ML Road Pedal</td><td>Pedals</td><td>62.0900</td></tr><tr><td>940</td><td>HL Road Pedal</td><td>Pedals</td><td>80.9900</td></tr><tr><td>941</td><td>Touring Pedal</td><td>Pedals</td><td>80.9900</td></tr><tr><td>833</td><td>ML Road Frame-W - Yellow, 40</td><td>Road Frames</td><td>594.8300</td></tr><tr><td>834</td><td>ML Road Frame-W - Yellow, 42</td><td>Road Frames</td><td>594.8300</td></tr><tr><td>835</td><td>ML Road Frame-W - Yellow, 44</td><td>Road Frames</td><td>594.8300</td></tr><tr><td>836</td><td>ML Road Frame-W - Yellow, 48</td><td>Road Frames</td><td>594.8300</td></tr><tr><td>837</td><td>HL Road Frame - Black, 62</td><td>Road Frames</td><td>1431.5000</td></tr><tr><td>838</td><td>HL Road Frame - Black, 44</td><td>Road Frames</td><td>1431.5000</td></tr><tr><td>839</td><td>HL Road Frame - Black, 48</td><td>Road Frames</td><td>1431.5000</td></tr><tr><td>840</td><td>HL Road Frame - Black, 52</td><td>Road Frames</td><td>1431.5000</td></tr><tr><td>822</td><td>ML Road Frame-W - Yellow, 38</td><td>Road Frames</td><td>594.8300</td></tr><tr><td>680</td><td>HL Road Frame - Black, 58</td><td>Road Frames</td><td>1431.5000</td></tr><tr><td>706</td><td>HL Road Frame - Red, 58</td><td>Road Frames</td><td>1431.5000</td></tr><tr><td>717</td><td>HL Road Frame - Red, 62</td><td>Road Frames</td><td>1431.5000</td></tr><tr><td>718</td><td>HL Road Frame - Red, 44</td><td>Road Frames</td><td>1431.5000</td></tr><tr><td>719</td><td>HL Road Frame - Red, 48</td><td>Road Frames</td><td>1431.5000</td></tr><tr><td>720</td><td>HL Road Frame - Red, 52</td><td>Road Frames</td><td>1431.5000</td></tr><tr><td>721</td><td>HL Road Frame - Red, 56</td><td>Road Frames</td><td>1431.5000</td></tr><tr><td>722</td><td>LL Road Frame - Black, 58</td><td>Road Frames</td><td>337.2200</td></tr><tr><td>723</td><td>LL Road Frame - Black, 60</td><td>Road Frames</td><td>337.2200</td></tr><tr><td>724</td><td>LL Road Frame - Black, 62</td><td>Road Frames</td><td>337.2200</td></tr><tr><td>725</td><td>LL Road Frame - Red, 44</td><td>Road Frames</td><td>337.2200</td></tr><tr><td>726</td><td>LL Road Frame - Red, 48</td><td>Road Frames</td><td>337.2200</td></tr><tr><td>727</td><td>LL Road Frame - Red, 52</td><td>Road Frames</td><td>337.2200</td></tr><tr><td>728</td><td>LL Road Frame - Red, 58</td><td>Road Frames</td><td>337.2200</td></tr><tr><td>729</td><td>LL Road Frame - Red, 60</td><td>Road Frames</td><td>337.2200</td></tr><tr><td>730</td><td>LL Road Frame - Red, 62</td><td>Road Frames</td><td>337.2200</td></tr><tr><td>731</td><td>ML Road Frame - Red, 44</td><td>Road Frames</td><td>594.8300</td></tr><tr><td>732</td><td>ML Road Frame - Red, 48</td><td>Road Frames</td><td>594.8300</td></tr><tr><td>733</td><td>ML Road Frame - Red, 52</td><td>Road Frames</td><td>594.8300</td></tr><tr><td>734</td><td>ML Road Frame - Red, 58</td><td>Road Frames</td><td>594.8300</td></tr><tr><td>735</td><td>ML Road Frame - Red, 60</td><td>Road Frames</td><td>594.8300</td></tr><tr><td>736</td><td>LL Road Frame - Black, 44</td><td>Road Frames</td><td>337.2200</td></tr><tr><td>737</td><td>LL Road Frame - Black, 48</td><td>Road Frames</td><td>337.2200</td></tr><tr><td>738</td><td>LL Road Frame - Black, 52</td><td>Road Frames</td><td>337.2200</td></tr><tr><td>908</td><td>LL Mountain Seat/Saddle</td><td>Saddles</td><td>27.1200</td></tr><tr><td>909</td><td>ML Mountain Seat/Saddle</td><td>Saddles</td><td>39.1400</td></tr><tr><td>910</td><td>HL Mountain Seat/Saddle</td><td>Saddles</td><td>52.6400</td></tr><tr><td>911</td><td>LL Road Seat/Saddle</td><td>Saddles</td><td>27.1200</td></tr><tr><td>912</td><td>ML Road Seat/Saddle</td><td>Saddles</td><td>39.1400</td></tr><tr><td>913</td><td>HL Road Seat/Saddle</td><td>Saddles</td><td>52.6400</td></tr><tr><td>914</td><td>LL Touring Seat/Saddle</td><td>Saddles</td><td>27.1200</td></tr><tr><td>915</td><td>ML Touring Seat/Saddle</td><td>Saddles</td><td>39.1400</td></tr><tr><td>916</td><td>HL Touring Seat/Saddle</td><td>Saddles</td><td>52.6400</td></tr><tr><td>895</td><td>LL Touring Frame - Blue, 50</td><td>Touring Frames</td><td>333.4200</td></tr><tr><td>896</td><td>LL Touring Frame - Blue, 54</td><td>Touring Frames</td><td>333.4200</td></tr><tr><td>897</td><td>LL Touring Frame - Blue, 58</td><td>Touring Frames</td><td>333.4200</td></tr><tr><td>898</td><td>LL Touring Frame - Blue, 62</td><td>Touring Frames</td><td>333.4200</td></tr><tr><td>899</td><td>LL Touring Frame - Yellow, 44</td><td>Touring Frames</td><td>333.4200</td></tr><tr><td>900</td><td>LL Touring Frame - Yellow, 50</td><td>Touring Frames</td><td>333.4200</td></tr><tr><td>901</td><td>LL Touring Frame - Yellow, 54</td><td>Touring Frames</td><td>333.4200</td></tr><tr><td>902</td><td>LL Touring Frame - Yellow, 58</td><td>Touring Frames</td><td>333.4200</td></tr><tr><td>903</td><td>LL Touring Frame - Blue, 44</td><td>Touring Frames</td><td>333.4200</td></tr><tr><td>885</td><td>HL Touring Frame - Yellow, 60</td><td>Touring Frames</td><td>1003.9100</td></tr><tr><td>886</td><td>LL Touring Frame - Yellow, 62</td><td>Touring Frames</td><td>333.4200</td></tr><tr><td>887</td><td>HL Touring Frame - Yellow, 46</td><td>Touring Frames</td><td>1003.9100</td></tr><tr><td>888</td><td>HL Touring Frame - Yellow, 50</td><td>Touring Frames</td><td>1003.9100</td></tr><tr><td>889</td><td>HL Touring Frame - Yellow, 54</td><td>Touring Frames</td><td>1003.9100</td></tr><tr><td>890</td><td>HL Touring Frame - Blue, 46</td><td>Touring Frames</td><td>1003.9100</td></tr><tr><td>891</td><td>HL Touring Frame - Blue, 50</td><td>Touring Frames</td><td>1003.9100</td></tr><tr><td>892</td><td>HL Touring Frame - Blue, 54</td><td>Touring Frames</td><td>1003.9100</td></tr><tr><td>893</td><td>HL Touring Frame - Blue, 60</td><td>Touring Frames</td><td>1003.9100</td></tr><tr><td>823</td><td>LL Mountain Rear Wheel</td><td>Wheels</td><td>87.7450</td></tr><tr><td>824</td><td>ML Mountain Rear Wheel</td><td>Wheels</td><td>236.0250</td></tr><tr><td>825</td><td>HL Mountain Rear Wheel</td><td>Wheels</td><td>327.2150</td></tr><tr><td>826</td><td>LL Road Rear Wheel</td><td>Wheels</td><td>112.5650</td></tr><tr><td>827</td><td>ML Road Rear Wheel</td><td>Wheels</td><td>275.3850</td></tr><tr><td>828</td><td>HL Road Rear Wheel</td><td>Wheels</td><td>357.0600</td></tr><tr><td>829</td><td>Touring Rear Wheel</td><td>Wheels</td><td>245.0100</td></tr><tr><td>815</td><td>LL Mountain Front Wheel</td><td>Wheels</td><td>60.7450</td></tr><tr><td>816</td><td>ML Mountain Front Wheel</td><td>Wheels</td><td>209.0250</td></tr><tr><td>817</td><td>HL Mountain Front Wheel</td><td>Wheels</td><td>300.2150</td></tr><tr><td>818</td><td>LL Road Front Wheel</td><td>Wheels</td><td>85.5650</td></tr><tr><td>819</td><td>ML Road Front Wheel</td><td>Wheels</td><td>248.3850</td></tr><tr><td>820</td><td>HL Road Front Wheel</td><td>Wheels</td><td>330.0600</td></tr><tr><td>821</td><td>Touring Front Wheel</td><td>Wheels</td><td>218.0100</td></tr><tr><td>855</td><td>Men's Bib-Shorts, S</td><td>Bib-Shorts</td><td>89.9900</td></tr><tr><td>856</td><td>Men's Bib-Shorts, M</td><td>Bib-Shorts</td><td>89.9900</td></tr><tr><td>857</td><td>Men's Bib-Shorts, L</td><td>Bib-Shorts</td><td>89.9900</td></tr><tr><td>712</td><td>AWC Logo Cap</td><td>Caps</td><td>8.9900</td></tr><tr><td>858</td><td>Half-Finger Gloves, S</td><td>Gloves</td><td>24.4900</td></tr><tr><td>859</td><td>Half-Finger Gloves, M</td><td>Gloves</td><td>24.4900</td></tr><tr><td>860</td><td>Half-Finger Gloves, L</td><td>Gloves</td><td>24.4900</td></tr><tr><td>861</td><td>Full-Finger Gloves, S</td><td>Gloves</td><td>37.9900</td></tr><tr><td>862</td><td>Full-Finger Gloves, M</td><td>Gloves</td><td>37.9900</td></tr><tr><td>863</td><td>Full-Finger Gloves, L</td><td>Gloves</td><td>37.9900</td></tr><tr><td>713</td><td>Long-Sleeve Logo Jersey, S</td><td>Jerseys</td><td>49.9900</td></tr><tr><td>714</td><td>Long-Sleeve Logo Jersey, M</td><td>Jerseys</td><td>49.9900</td></tr><tr><td>715</td><td>Long-Sleeve Logo Jersey, L</td><td>Jerseys</td><td>49.9900</td></tr><tr><td>716</td><td>Long-Sleeve Logo Jersey, XL</td><td>Jerseys</td><td>49.9900</td></tr><tr><td>881</td><td>Short-Sleeve Classic Jersey, S</td><td>Jerseys</td><td>53.9900</td></tr><tr><td>882</td><td>Short-Sleeve Classic Jersey, M</td><td>Jerseys</td><td>53.9900</td></tr><tr><td>883</td><td>Short-Sleeve Classic Jersey, L</td><td>Jerseys</td><td>53.9900</td></tr><tr><td>884</td><td>Short-Sleeve Classic Jersey, XL</td><td>Jerseys</td><td>53.9900</td></tr><tr><td>867</td><td>Women's Mountain Shorts, S</td><td>Shorts</td><td>69.9900</td></tr><tr><td>868</td><td>Women's Mountain Shorts, M</td><td>Shorts</td><td>69.9900</td></tr><tr><td>869</td><td>Women's Mountain Shorts, L</td><td>Shorts</td><td>69.9900</td></tr><tr><td>841</td><td>Men's Sports Shorts, S</td><td>Shorts</td><td>59.9900</td></tr><tr><td>849</td><td>Men's Sports Shorts, M</td><td>Shorts</td><td>59.9900</td></tr><tr><td>850</td><td>Men's Sports Shorts, L</td><td>Shorts</td><td>59.9900</td></tr><tr><td>851</td><td>Men's Sports Shorts, XL</td><td>Shorts</td><td>59.9900</td></tr><tr><td>709</td><td>Mountain Bike Socks, M</td><td>Socks</td><td>9.5000</td></tr><tr><td>710</td><td>Mountain Bike Socks, L</td><td>Socks</td><td>9.5000</td></tr><tr><td>874</td><td>Racing Socks, M</td><td>Socks</td><td>8.9900</td></tr><tr><td>875</td><td>Racing Socks, L</td><td>Socks</td><td>8.9900</td></tr><tr><td>852</td><td>Women's Tights, S</td><td>Tights</td><td>74.9900</td></tr><tr><td>853</td><td>Women's Tights, M</td><td>Tights</td><td>74.9900</td></tr><tr><td>854</td><td>Women's Tights, L</td><td>Tights</td><td>74.9900</td></tr><tr><td>864</td><td>Classic Vest, S</td><td>Vests</td><td>63.5000</td></tr><tr><td>865</td><td>Classic Vest, M</td><td>Vests</td><td>63.5000</td></tr><tr><td>866</td><td>Classic Vest, L</td><td>Vests</td><td>63.5000</td></tr><tr><td>876</td><td>Hitch Rack - 4-Bike</td><td>Bike Racks</td><td>120.0000</td></tr><tr><td>879</td><td>All-Purpose Bike Stand</td><td>Bike Stands</td><td>159.0000</td></tr><tr><td>870</td><td>Water Bottle - 30 oz.</td><td>Bottles and Cages</td><td>4.9900</td></tr><tr><td>871</td><td>Mountain Bottle Cage</td><td>Bottles and Cages</td><td>9.9900</td></tr><tr><td>872</td><td>Road Bottle Cage</td><td>Bottles and Cages</td><td>8.9900</td></tr><tr><td>877</td><td>Bike Wash - Dissolver</td><td>Cleaners</td><td>7.9500</td></tr><tr><td>878</td><td>Fender Set - Mountain</td><td>Fenders</td><td>21.9800</td></tr><tr><td>711</td><td>Sport-100 Helmet, Blue</td><td>Helmets</td><td>34.9900</td></tr><tr><td>707</td><td>Sport-100 Helmet, Red</td><td>Helmets</td><td>34.9900</td></tr><tr><td>708</td><td>Sport-100 Helmet, Black</td><td>Helmets</td><td>34.9900</td></tr><tr><td>880</td><td>Hydration Pack - 70 oz.</td><td>Hydration Packs</td><td>54.9900</td></tr><tr><td>846</td><td>Taillights - Battery-Powered</td><td>Lights</td><td>13.9900</td></tr><tr><td>847</td><td>Headlights - Dual-Beam</td><td>Lights</td><td>34.9900</td></tr><tr><td>848</td><td>Headlights - Weatherproof</td><td>Lights</td><td>44.9900</td></tr><tr><td>843</td><td>Cable Lock</td><td>Locks</td><td>25.0000</td></tr><tr><td>842</td><td>Touring-Panniers, Large</td><td>Panniers</td><td>125.0000</td></tr><tr><td>844</td><td>Minipump</td><td>Pumps</td><td>19.9900</td></tr><tr><td>845</td><td>Mountain Pump</td><td>Pumps</td><td>24.9900</td></tr><tr><td>873</td><td>Patch Kit/8 Patches</td><td>Tires and Tubes</td><td>2.2900</td></tr><tr><td>921</td><td>Mountain Tire Tube</td><td>Tires and Tubes</td><td>4.9900</td></tr><tr><td>922</td><td>Road Tire Tube</td><td>Tires and Tubes</td><td>3.9900</td></tr><tr><td>923</td><td>Touring Tire Tube</td><td>Tires and Tubes</td><td>4.9900</td></tr><tr><td>928</td><td>LL Mountain Tire</td><td>Tires and Tubes</td><td>24.9900</td></tr><tr><td>929</td><td>ML Mountain Tire</td><td>Tires and Tubes</td><td>29.9900</td></tr><tr><td>930</td><td>HL Mountain Tire</td><td>Tires and Tubes</td><td>35.0000</td></tr><tr><td>931</td><td>LL Road Tire</td><td>Tires and Tubes</td><td>21.4900</td></tr><tr><td>932</td><td>ML Road Tire</td><td>Tires and Tubes</td><td>24.9900</td></tr><tr><td>933</td><td>HL Road Tire</td><td>Tires and Tubes</td><td>32.6000</td></tr><tr><td>934</td><td>Touring Tire</td><td>Tires and Tubes</td><td>28.9900</td></tr><tr><td>771</td><td>Mountain-100 Silver, 38</td><td>Mountain Bikes</td><td>2753.9919</td></tr></tbody></table></div>"
      ]
     },
     "metadata": {
      "application/vnd.databricks.v1+output": {
       "addedWidgets": {},
       "aggData": [],
       "aggError": "",
       "aggOverflow": false,
       "aggSchema": [],
       "aggSeriesLimitReached": false,
       "aggType": "",
       "arguments": {},
       "columnCustomDisplayInfos": {},
       "data": [
        [
         "772",
         "Mountain-100 Silver, 42",
         "Mountain Bikes",
         "3399.9900"
        ],
        [
         "773",
         "Mountain-100 Silver, 44",
         "Mountain Bikes",
         "3399.9900"
        ],
        [
         "774",
         "Mountain-100 Silver, 48",
         "Mountain Bikes",
         "3399.9900"
        ],
        [
         "775",
         "Mountain-100 Black, 38",
         "Mountain Bikes",
         "3374.9900"
        ],
        [
         "776",
         "Mountain-100 Black, 42",
         "Mountain Bikes",
         "3374.9900"
        ],
        [
         "777",
         "Mountain-100 Black, 44",
         "Mountain Bikes",
         "3374.9900"
        ],
        [
         "778",
         "Mountain-100 Black, 48",
         "Mountain Bikes",
         "3374.9900"
        ],
        [
         "779",
         "Mountain-200 Silver, 38",
         "Mountain Bikes",
         "2319.9900"
        ],
        [
         "780",
         "Mountain-200 Silver, 42",
         "Mountain Bikes",
         "2319.9900"
        ],
        [
         "781",
         "Mountain-200 Silver, 46",
         "Mountain Bikes",
         "2319.9900"
        ],
        [
         "782",
         "Mountain-200 Black, 38",
         "Mountain Bikes",
         "2294.9900"
        ],
        [
         "783",
         "Mountain-200 Black, 42",
         "Mountain Bikes",
         "2294.9900"
        ],
        [
         "784",
         "Mountain-200 Black, 46",
         "Mountain Bikes",
         "2294.9900"
        ],
        [
         "785",
         "Mountain-300 Black, 38",
         "Mountain Bikes",
         "1079.9900"
        ],
        [
         "786",
         "Mountain-300 Black, 40",
         "Mountain Bikes",
         "1079.9900"
        ],
        [
         "787",
         "Mountain-300 Black, 44",
         "Mountain Bikes",
         "1079.9900"
        ],
        [
         "788",
         "Mountain-300 Black, 48",
         "Mountain Bikes",
         "1079.9900"
        ],
        [
         "980",
         "Mountain-400-W Silver, 38",
         "Mountain Bikes",
         "769.4900"
        ],
        [
         "981",
         "Mountain-400-W Silver, 40",
         "Mountain Bikes",
         "769.4900"
        ],
        [
         "982",
         "Mountain-400-W Silver, 42",
         "Mountain Bikes",
         "769.4900"
        ],
        [
         "983",
         "Mountain-400-W Silver, 46",
         "Mountain Bikes",
         "769.4900"
        ],
        [
         "984",
         "Mountain-500 Silver, 40",
         "Mountain Bikes",
         "564.9900"
        ],
        [
         "985",
         "Mountain-500 Silver, 42",
         "Mountain Bikes",
         "564.9900"
        ],
        [
         "986",
         "Mountain-500 Silver, 44",
         "Mountain Bikes",
         "564.9900"
        ],
        [
         "987",
         "Mountain-500 Silver, 48",
         "Mountain Bikes",
         "564.9900"
        ],
        [
         "988",
         "Mountain-500 Silver, 52",
         "Mountain Bikes",
         "564.9900"
        ],
        [
         "989",
         "Mountain-500 Black, 40",
         "Mountain Bikes",
         "539.9900"
        ],
        [
         "990",
         "Mountain-500 Black, 42",
         "Mountain Bikes",
         "539.9900"
        ],
        [
         "991",
         "Mountain-500 Black, 44",
         "Mountain Bikes",
         "539.9900"
        ],
        [
         "992",
         "Mountain-500 Black, 48",
         "Mountain Bikes",
         "539.9900"
        ],
        [
         "993",
         "Mountain-500 Black, 52",
         "Mountain Bikes",
         "539.9900"
        ],
        [
         "973",
         "Road-350-W Yellow, 40",
         "Road Bikes",
         "1700.9900"
        ],
        [
         "974",
         "Road-350-W Yellow, 42",
         "Road Bikes",
         "1700.9900"
        ],
        [
         "975",
         "Road-350-W Yellow, 44",
         "Road Bikes",
         "1700.9900"
        ],
        [
         "976",
         "Road-350-W Yellow, 48",
         "Road Bikes",
         "1700.9900"
        ],
        [
         "977",
         "Road-750 Black, 58",
         "Road Bikes",
         "539.9900"
        ],
        [
         "997",
         "Road-750 Black, 44",
         "Road Bikes",
         "539.9900"
        ],
        [
         "998",
         "Road-750 Black, 48",
         "Road Bikes",
         "539.9900"
        ],
        [
         "999",
         "Road-750 Black, 52",
         "Road Bikes",
         "539.9900"
        ],
        [
         "789",
         "Road-250 Red, 44",
         "Road Bikes",
         "2443.3500"
        ],
        [
         "790",
         "Road-250 Red, 48",
         "Road Bikes",
         "2443.3500"
        ],
        [
         "791",
         "Road-250 Red, 52",
         "Road Bikes",
         "2443.3500"
        ],
        [
         "792",
         "Road-250 Red, 58",
         "Road Bikes",
         "2443.3500"
        ],
        [
         "793",
         "Road-250 Black, 44",
         "Road Bikes",
         "2443.3500"
        ],
        [
         "794",
         "Road-250 Black, 48",
         "Road Bikes",
         "2443.3500"
        ],
        [
         "795",
         "Road-250 Black, 52",
         "Road Bikes",
         "2443.3500"
        ],
        [
         "796",
         "Road-250 Black, 58",
         "Road Bikes",
         "2443.3500"
        ],
        [
         "797",
         "Road-550-W Yellow, 38",
         "Road Bikes",
         "1120.4900"
        ],
        [
         "798",
         "Road-550-W Yellow, 40",
         "Road Bikes",
         "1120.4900"
        ],
        [
         "799",
         "Road-550-W Yellow, 42",
         "Road Bikes",
         "1120.4900"
        ],
        [
         "800",
         "Road-550-W Yellow, 44",
         "Road Bikes",
         "1120.4900"
        ],
        [
         "801",
         "Road-550-W Yellow, 48",
         "Road Bikes",
         "1120.4900"
        ],
        [
         "749",
         "Road-150 Red, 62",
         "Road Bikes",
         "3578.2700"
        ],
        [
         "750",
         "Road-150 Red, 44",
         "Road Bikes",
         "3578.2700"
        ],
        [
         "751",
         "Road-150 Red, 48",
         "Road Bikes",
         "3578.2700"
        ],
        [
         "752",
         "Road-150 Red, 52",
         "Road Bikes",
         "3578.2700"
        ],
        [
         "753",
         "Road-150 Red, 56",
         "Road Bikes",
         "3578.2700"
        ],
        [
         "754",
         "Road-450 Red, 58",
         "Road Bikes",
         "1457.9900"
        ],
        [
         "755",
         "Road-450 Red, 60",
         "Road Bikes",
         "1457.9900"
        ],
        [
         "756",
         "Road-450 Red, 44",
         "Road Bikes",
         "1457.9900"
        ],
        [
         "757",
         "Road-450 Red, 48",
         "Road Bikes",
         "1457.9900"
        ],
        [
         "758",
         "Road-450 Red, 52",
         "Road Bikes",
         "1457.9900"
        ],
        [
         "759",
         "Road-650 Red, 58",
         "Road Bikes",
         "782.9900"
        ],
        [
         "760",
         "Road-650 Red, 60",
         "Road Bikes",
         "782.9900"
        ],
        [
         "761",
         "Road-650 Red, 62",
         "Road Bikes",
         "782.9900"
        ],
        [
         "762",
         "Road-650 Red, 44",
         "Road Bikes",
         "782.9900"
        ],
        [
         "763",
         "Road-650 Red, 48",
         "Road Bikes",
         "782.9900"
        ],
        [
         "764",
         "Road-650 Red, 52",
         "Road Bikes",
         "782.9900"
        ],
        [
         "765",
         "Road-650 Black, 58",
         "Road Bikes",
         "782.9900"
        ],
        [
         "766",
         "Road-650 Black, 60",
         "Road Bikes",
         "782.9900"
        ],
        [
         "767",
         "Road-650 Black, 62",
         "Road Bikes",
         "782.9900"
        ],
        [
         "768",
         "Road-650 Black, 44",
         "Road Bikes",
         "782.9900"
        ],
        [
         "769",
         "Road-650 Black, 48",
         "Road Bikes",
         "782.9900"
        ],
        [
         "770",
         "Road-650 Black, 52",
         "Road Bikes",
         "782.9900"
        ],
        [
         "978",
         "Touring-3000 Blue, 44",
         "Touring Bikes",
         "742.3500"
        ],
        [
         "979",
         "Touring-3000 Blue, 50",
         "Touring Bikes",
         "742.3500"
        ],
        [
         "953",
         "Touring-2000 Blue, 60",
         "Touring Bikes",
         "1214.8500"
        ],
        [
         "954",
         "Touring-1000 Yellow, 46",
         "Touring Bikes",
         "2384.0700"
        ],
        [
         "955",
         "Touring-1000 Yellow, 50",
         "Touring Bikes",
         "2384.0700"
        ],
        [
         "956",
         "Touring-1000 Yellow, 54",
         "Touring Bikes",
         "2384.0700"
        ],
        [
         "957",
         "Touring-1000 Yellow, 60",
         "Touring Bikes",
         "2384.0700"
        ],
        [
         "958",
         "Touring-3000 Blue, 54",
         "Touring Bikes",
         "742.3500"
        ],
        [
         "959",
         "Touring-3000 Blue, 58",
         "Touring Bikes",
         "742.3500"
        ],
        [
         "960",
         "Touring-3000 Blue, 62",
         "Touring Bikes",
         "742.3500"
        ],
        [
         "961",
         "Touring-3000 Yellow, 44",
         "Touring Bikes",
         "742.3500"
        ],
        [
         "962",
         "Touring-3000 Yellow, 50",
         "Touring Bikes",
         "742.3500"
        ],
        [
         "963",
         "Touring-3000 Yellow, 54",
         "Touring Bikes",
         "742.3500"
        ],
        [
         "964",
         "Touring-3000 Yellow, 58",
         "Touring Bikes",
         "742.3500"
        ],
        [
         "965",
         "Touring-3000 Yellow, 62",
         "Touring Bikes",
         "742.3500"
        ],
        [
         "966",
         "Touring-1000 Blue, 46",
         "Touring Bikes",
         "2384.0700"
        ],
        [
         "967",
         "Touring-1000 Blue, 50",
         "Touring Bikes",
         "2384.0700"
        ],
        [
         "968",
         "Touring-1000 Blue, 54",
         "Touring Bikes",
         "2384.0700"
        ],
        [
         "969",
         "Touring-1000 Blue, 60",
         "Touring Bikes",
         "2384.0700"
        ],
        [
         "970",
         "Touring-2000 Blue, 46",
         "Touring Bikes",
         "1214.8500"
        ],
        [
         "971",
         "Touring-2000 Blue, 50",
         "Touring Bikes",
         "1214.8500"
        ],
        [
         "972",
         "Touring-2000 Blue, 54",
         "Touring Bikes",
         "1214.8500"
        ],
        [
         "946",
         "LL Touring Handlebars",
         "Handlebars",
         "46.0900"
        ],
        [
         "947",
         "HL Touring Handlebars",
         "Handlebars",
         "91.5700"
        ],
        [
         "808",
         "LL Mountain Handlebars",
         "Handlebars",
         "44.5400"
        ],
        [
         "809",
         "ML Mountain Handlebars",
         "Handlebars",
         "61.9200"
        ],
        [
         "810",
         "HL Mountain Handlebars",
         "Handlebars",
         "120.2700"
        ],
        [
         "811",
         "LL Road Handlebars",
         "Handlebars",
         "44.5400"
        ],
        [
         "812",
         "ML Road Handlebars",
         "Handlebars",
         "61.9200"
        ],
        [
         "813",
         "HL Road Handlebars",
         "Handlebars",
         "120.2700"
        ],
        [
         "994",
         "LL Bottom Bracket",
         "Bottom Brackets",
         "53.9900"
        ],
        [
         "995",
         "ML Bottom Bracket",
         "Bottom Brackets",
         "101.2400"
        ],
        [
         "996",
         "HL Bottom Bracket",
         "Bottom Brackets",
         "121.4900"
        ],
        [
         "948",
         "Front Brakes",
         "Brakes",
         "106.5000"
        ],
        [
         "907",
         "Rear Brakes",
         "Brakes",
         "106.5000"
        ],
        [
         "952",
         "Chain",
         "Chains",
         "20.2400"
        ],
        [
         "949",
         "LL Crankset",
         "Cranksets",
         "175.4900"
        ],
        [
         "950",
         "ML Crankset",
         "Cranksets",
         "256.4900"
        ],
        [
         "951",
         "HL Crankset",
         "Cranksets",
         "404.9900"
        ],
        [
         "945",
         "Front Derailleur",
         "Derailleurs",
         "91.4900"
        ],
        [
         "894",
         "Rear Derailleur",
         "Derailleurs",
         "121.4600"
        ],
        [
         "802",
         "LL Fork",
         "Forks",
         "148.2200"
        ],
        [
         "803",
         "ML Fork",
         "Forks",
         "175.4900"
        ],
        [
         "804",
         "HL Fork",
         "Forks",
         "229.4900"
        ],
        [
         "805",
         "LL Headset",
         "Headsets",
         "34.2000"
        ],
        [
         "806",
         "ML Headset",
         "Headsets",
         "102.2900"
        ],
        [
         "807",
         "HL Headset",
         "Headsets",
         "124.7300"
        ],
        [
         "739",
         "HL Mountain Frame - Silver, 42",
         "Mountain Frames",
         "1364.5000"
        ],
        [
         "740",
         "HL Mountain Frame - Silver, 44",
         "Mountain Frames",
         "1364.5000"
        ],
        [
         "741",
         "HL Mountain Frame - Silver, 48",
         "Mountain Frames",
         "1364.5000"
        ],
        [
         "742",
         "HL Mountain Frame - Silver, 46",
         "Mountain Frames",
         "1364.5000"
        ],
        [
         "743",
         "HL Mountain Frame - Black, 42",
         "Mountain Frames",
         "1349.6000"
        ],
        [
         "744",
         "HL Mountain Frame - Black, 44",
         "Mountain Frames",
         "1349.6000"
        ],
        [
         "745",
         "HL Mountain Frame - Black, 48",
         "Mountain Frames",
         "1349.6000"
        ],
        [
         "746",
         "HL Mountain Frame - Black, 46",
         "Mountain Frames",
         "1349.6000"
        ],
        [
         "747",
         "HL Mountain Frame - Black, 38",
         "Mountain Frames",
         "1349.6000"
        ],
        [
         "748",
         "HL Mountain Frame - Silver, 38",
         "Mountain Frames",
         "1364.5000"
        ],
        [
         "814",
         "ML Mountain Frame - Black, 38",
         "Mountain Frames",
         "348.7600"
        ],
        [
         "830",
         "ML Mountain Frame - Black, 40",
         "Mountain Frames",
         "348.7600"
        ],
        [
         "831",
         "ML Mountain Frame - Black, 44",
         "Mountain Frames",
         "348.7600"
        ],
        [
         "832",
         "ML Mountain Frame - Black, 48",
         "Mountain Frames",
         "348.7600"
        ],
        [
         "924",
         "LL Mountain Frame - Black, 42",
         "Mountain Frames",
         "249.7900"
        ],
        [
         "925",
         "LL Mountain Frame - Black, 44",
         "Mountain Frames",
         "249.7900"
        ],
        [
         "926",
         "LL Mountain Frame - Black, 48",
         "Mountain Frames",
         "249.7900"
        ],
        [
         "927",
         "LL Mountain Frame - Black, 52",
         "Mountain Frames",
         "249.7900"
        ],
        [
         "917",
         "LL Mountain Frame - Silver, 42",
         "Mountain Frames",
         "264.0500"
        ],
        [
         "918",
         "LL Mountain Frame - Silver, 44",
         "Mountain Frames",
         "264.0500"
        ],
        [
         "919",
         "LL Mountain Frame - Silver, 48",
         "Mountain Frames",
         "264.0500"
        ],
        [
         "920",
         "LL Mountain Frame - Silver, 52",
         "Mountain Frames",
         "264.0500"
        ],
        [
         "904",
         "ML Mountain Frame-W - Silver, 40",
         "Mountain Frames",
         "364.0900"
        ],
        [
         "905",
         "ML Mountain Frame-W - Silver, 42",
         "Mountain Frames",
         "364.0900"
        ],
        [
         "906",
         "ML Mountain Frame-W - Silver, 46",
         "Mountain Frames",
         "364.0900"
        ],
        [
         "942",
         "ML Mountain Frame-W - Silver, 38",
         "Mountain Frames",
         "364.0900"
        ],
        [
         "943",
         "LL Mountain Frame - Black, 40",
         "Mountain Frames",
         "249.7900"
        ],
        [
         "944",
         "LL Mountain Frame - Silver, 40",
         "Mountain Frames",
         "264.0500"
        ],
        [
         "935",
         "LL Mountain Pedal",
         "Pedals",
         "40.4900"
        ],
        [
         "936",
         "ML Mountain Pedal",
         "Pedals",
         "62.0900"
        ],
        [
         "937",
         "HL Mountain Pedal",
         "Pedals",
         "80.9900"
        ],
        [
         "938",
         "LL Road Pedal",
         "Pedals",
         "40.4900"
        ],
        [
         "939",
         "ML Road Pedal",
         "Pedals",
         "62.0900"
        ],
        [
         "940",
         "HL Road Pedal",
         "Pedals",
         "80.9900"
        ],
        [
         "941",
         "Touring Pedal",
         "Pedals",
         "80.9900"
        ],
        [
         "833",
         "ML Road Frame-W - Yellow, 40",
         "Road Frames",
         "594.8300"
        ],
        [
         "834",
         "ML Road Frame-W - Yellow, 42",
         "Road Frames",
         "594.8300"
        ],
        [
         "835",
         "ML Road Frame-W - Yellow, 44",
         "Road Frames",
         "594.8300"
        ],
        [
         "836",
         "ML Road Frame-W - Yellow, 48",
         "Road Frames",
         "594.8300"
        ],
        [
         "837",
         "HL Road Frame - Black, 62",
         "Road Frames",
         "1431.5000"
        ],
        [
         "838",
         "HL Road Frame - Black, 44",
         "Road Frames",
         "1431.5000"
        ],
        [
         "839",
         "HL Road Frame - Black, 48",
         "Road Frames",
         "1431.5000"
        ],
        [
         "840",
         "HL Road Frame - Black, 52",
         "Road Frames",
         "1431.5000"
        ],
        [
         "822",
         "ML Road Frame-W - Yellow, 38",
         "Road Frames",
         "594.8300"
        ],
        [
         "680",
         "HL Road Frame - Black, 58",
         "Road Frames",
         "1431.5000"
        ],
        [
         "706",
         "HL Road Frame - Red, 58",
         "Road Frames",
         "1431.5000"
        ],
        [
         "717",
         "HL Road Frame - Red, 62",
         "Road Frames",
         "1431.5000"
        ],
        [
         "718",
         "HL Road Frame - Red, 44",
         "Road Frames",
         "1431.5000"
        ],
        [
         "719",
         "HL Road Frame - Red, 48",
         "Road Frames",
         "1431.5000"
        ],
        [
         "720",
         "HL Road Frame - Red, 52",
         "Road Frames",
         "1431.5000"
        ],
        [
         "721",
         "HL Road Frame - Red, 56",
         "Road Frames",
         "1431.5000"
        ],
        [
         "722",
         "LL Road Frame - Black, 58",
         "Road Frames",
         "337.2200"
        ],
        [
         "723",
         "LL Road Frame - Black, 60",
         "Road Frames",
         "337.2200"
        ],
        [
         "724",
         "LL Road Frame - Black, 62",
         "Road Frames",
         "337.2200"
        ],
        [
         "725",
         "LL Road Frame - Red, 44",
         "Road Frames",
         "337.2200"
        ],
        [
         "726",
         "LL Road Frame - Red, 48",
         "Road Frames",
         "337.2200"
        ],
        [
         "727",
         "LL Road Frame - Red, 52",
         "Road Frames",
         "337.2200"
        ],
        [
         "728",
         "LL Road Frame - Red, 58",
         "Road Frames",
         "337.2200"
        ],
        [
         "729",
         "LL Road Frame - Red, 60",
         "Road Frames",
         "337.2200"
        ],
        [
         "730",
         "LL Road Frame - Red, 62",
         "Road Frames",
         "337.2200"
        ],
        [
         "731",
         "ML Road Frame - Red, 44",
         "Road Frames",
         "594.8300"
        ],
        [
         "732",
         "ML Road Frame - Red, 48",
         "Road Frames",
         "594.8300"
        ],
        [
         "733",
         "ML Road Frame - Red, 52",
         "Road Frames",
         "594.8300"
        ],
        [
         "734",
         "ML Road Frame - Red, 58",
         "Road Frames",
         "594.8300"
        ],
        [
         "735",
         "ML Road Frame - Red, 60",
         "Road Frames",
         "594.8300"
        ],
        [
         "736",
         "LL Road Frame - Black, 44",
         "Road Frames",
         "337.2200"
        ],
        [
         "737",
         "LL Road Frame - Black, 48",
         "Road Frames",
         "337.2200"
        ],
        [
         "738",
         "LL Road Frame - Black, 52",
         "Road Frames",
         "337.2200"
        ],
        [
         "908",
         "LL Mountain Seat/Saddle",
         "Saddles",
         "27.1200"
        ],
        [
         "909",
         "ML Mountain Seat/Saddle",
         "Saddles",
         "39.1400"
        ],
        [
         "910",
         "HL Mountain Seat/Saddle",
         "Saddles",
         "52.6400"
        ],
        [
         "911",
         "LL Road Seat/Saddle",
         "Saddles",
         "27.1200"
        ],
        [
         "912",
         "ML Road Seat/Saddle",
         "Saddles",
         "39.1400"
        ],
        [
         "913",
         "HL Road Seat/Saddle",
         "Saddles",
         "52.6400"
        ],
        [
         "914",
         "LL Touring Seat/Saddle",
         "Saddles",
         "27.1200"
        ],
        [
         "915",
         "ML Touring Seat/Saddle",
         "Saddles",
         "39.1400"
        ],
        [
         "916",
         "HL Touring Seat/Saddle",
         "Saddles",
         "52.6400"
        ],
        [
         "895",
         "LL Touring Frame - Blue, 50",
         "Touring Frames",
         "333.4200"
        ],
        [
         "896",
         "LL Touring Frame - Blue, 54",
         "Touring Frames",
         "333.4200"
        ],
        [
         "897",
         "LL Touring Frame - Blue, 58",
         "Touring Frames",
         "333.4200"
        ],
        [
         "898",
         "LL Touring Frame - Blue, 62",
         "Touring Frames",
         "333.4200"
        ],
        [
         "899",
         "LL Touring Frame - Yellow, 44",
         "Touring Frames",
         "333.4200"
        ],
        [
         "900",
         "LL Touring Frame - Yellow, 50",
         "Touring Frames",
         "333.4200"
        ],
        [
         "901",
         "LL Touring Frame - Yellow, 54",
         "Touring Frames",
         "333.4200"
        ],
        [
         "902",
         "LL Touring Frame - Yellow, 58",
         "Touring Frames",
         "333.4200"
        ],
        [
         "903",
         "LL Touring Frame - Blue, 44",
         "Touring Frames",
         "333.4200"
        ],
        [
         "885",
         "HL Touring Frame - Yellow, 60",
         "Touring Frames",
         "1003.9100"
        ],
        [
         "886",
         "LL Touring Frame - Yellow, 62",
         "Touring Frames",
         "333.4200"
        ],
        [
         "887",
         "HL Touring Frame - Yellow, 46",
         "Touring Frames",
         "1003.9100"
        ],
        [
         "888",
         "HL Touring Frame - Yellow, 50",
         "Touring Frames",
         "1003.9100"
        ],
        [
         "889",
         "HL Touring Frame - Yellow, 54",
         "Touring Frames",
         "1003.9100"
        ],
        [
         "890",
         "HL Touring Frame - Blue, 46",
         "Touring Frames",
         "1003.9100"
        ],
        [
         "891",
         "HL Touring Frame - Blue, 50",
         "Touring Frames",
         "1003.9100"
        ],
        [
         "892",
         "HL Touring Frame - Blue, 54",
         "Touring Frames",
         "1003.9100"
        ],
        [
         "893",
         "HL Touring Frame - Blue, 60",
         "Touring Frames",
         "1003.9100"
        ],
        [
         "823",
         "LL Mountain Rear Wheel",
         "Wheels",
         "87.7450"
        ],
        [
         "824",
         "ML Mountain Rear Wheel",
         "Wheels",
         "236.0250"
        ],
        [
         "825",
         "HL Mountain Rear Wheel",
         "Wheels",
         "327.2150"
        ],
        [
         "826",
         "LL Road Rear Wheel",
         "Wheels",
         "112.5650"
        ],
        [
         "827",
         "ML Road Rear Wheel",
         "Wheels",
         "275.3850"
        ],
        [
         "828",
         "HL Road Rear Wheel",
         "Wheels",
         "357.0600"
        ],
        [
         "829",
         "Touring Rear Wheel",
         "Wheels",
         "245.0100"
        ],
        [
         "815",
         "LL Mountain Front Wheel",
         "Wheels",
         "60.7450"
        ],
        [
         "816",
         "ML Mountain Front Wheel",
         "Wheels",
         "209.0250"
        ],
        [
         "817",
         "HL Mountain Front Wheel",
         "Wheels",
         "300.2150"
        ],
        [
         "818",
         "LL Road Front Wheel",
         "Wheels",
         "85.5650"
        ],
        [
         "819",
         "ML Road Front Wheel",
         "Wheels",
         "248.3850"
        ],
        [
         "820",
         "HL Road Front Wheel",
         "Wheels",
         "330.0600"
        ],
        [
         "821",
         "Touring Front Wheel",
         "Wheels",
         "218.0100"
        ],
        [
         "855",
         "Men's Bib-Shorts, S",
         "Bib-Shorts",
         "89.9900"
        ],
        [
         "856",
         "Men's Bib-Shorts, M",
         "Bib-Shorts",
         "89.9900"
        ],
        [
         "857",
         "Men's Bib-Shorts, L",
         "Bib-Shorts",
         "89.9900"
        ],
        [
         "712",
         "AWC Logo Cap",
         "Caps",
         "8.9900"
        ],
        [
         "858",
         "Half-Finger Gloves, S",
         "Gloves",
         "24.4900"
        ],
        [
         "859",
         "Half-Finger Gloves, M",
         "Gloves",
         "24.4900"
        ],
        [
         "860",
         "Half-Finger Gloves, L",
         "Gloves",
         "24.4900"
        ],
        [
         "861",
         "Full-Finger Gloves, S",
         "Gloves",
         "37.9900"
        ],
        [
         "862",
         "Full-Finger Gloves, M",
         "Gloves",
         "37.9900"
        ],
        [
         "863",
         "Full-Finger Gloves, L",
         "Gloves",
         "37.9900"
        ],
        [
         "713",
         "Long-Sleeve Logo Jersey, S",
         "Jerseys",
         "49.9900"
        ],
        [
         "714",
         "Long-Sleeve Logo Jersey, M",
         "Jerseys",
         "49.9900"
        ],
        [
         "715",
         "Long-Sleeve Logo Jersey, L",
         "Jerseys",
         "49.9900"
        ],
        [
         "716",
         "Long-Sleeve Logo Jersey, XL",
         "Jerseys",
         "49.9900"
        ],
        [
         "881",
         "Short-Sleeve Classic Jersey, S",
         "Jerseys",
         "53.9900"
        ],
        [
         "882",
         "Short-Sleeve Classic Jersey, M",
         "Jerseys",
         "53.9900"
        ],
        [
         "883",
         "Short-Sleeve Classic Jersey, L",
         "Jerseys",
         "53.9900"
        ],
        [
         "884",
         "Short-Sleeve Classic Jersey, XL",
         "Jerseys",
         "53.9900"
        ],
        [
         "867",
         "Women's Mountain Shorts, S",
         "Shorts",
         "69.9900"
        ],
        [
         "868",
         "Women's Mountain Shorts, M",
         "Shorts",
         "69.9900"
        ],
        [
         "869",
         "Women's Mountain Shorts, L",
         "Shorts",
         "69.9900"
        ],
        [
         "841",
         "Men's Sports Shorts, S",
         "Shorts",
         "59.9900"
        ],
        [
         "849",
         "Men's Sports Shorts, M",
         "Shorts",
         "59.9900"
        ],
        [
         "850",
         "Men's Sports Shorts, L",
         "Shorts",
         "59.9900"
        ],
        [
         "851",
         "Men's Sports Shorts, XL",
         "Shorts",
         "59.9900"
        ],
        [
         "709",
         "Mountain Bike Socks, M",
         "Socks",
         "9.5000"
        ],
        [
         "710",
         "Mountain Bike Socks, L",
         "Socks",
         "9.5000"
        ],
        [
         "874",
         "Racing Socks, M",
         "Socks",
         "8.9900"
        ],
        [
         "875",
         "Racing Socks, L",
         "Socks",
         "8.9900"
        ],
        [
         "852",
         "Women's Tights, S",
         "Tights",
         "74.9900"
        ],
        [
         "853",
         "Women's Tights, M",
         "Tights",
         "74.9900"
        ],
        [
         "854",
         "Women's Tights, L",
         "Tights",
         "74.9900"
        ],
        [
         "864",
         "Classic Vest, S",
         "Vests",
         "63.5000"
        ],
        [
         "865",
         "Classic Vest, M",
         "Vests",
         "63.5000"
        ],
        [
         "866",
         "Classic Vest, L",
         "Vests",
         "63.5000"
        ],
        [
         "876",
         "Hitch Rack - 4-Bike",
         "Bike Racks",
         "120.0000"
        ],
        [
         "879",
         "All-Purpose Bike Stand",
         "Bike Stands",
         "159.0000"
        ],
        [
         "870",
         "Water Bottle - 30 oz.",
         "Bottles and Cages",
         "4.9900"
        ],
        [
         "871",
         "Mountain Bottle Cage",
         "Bottles and Cages",
         "9.9900"
        ],
        [
         "872",
         "Road Bottle Cage",
         "Bottles and Cages",
         "8.9900"
        ],
        [
         "877",
         "Bike Wash - Dissolver",
         "Cleaners",
         "7.9500"
        ],
        [
         "878",
         "Fender Set - Mountain",
         "Fenders",
         "21.9800"
        ],
        [
         "711",
         "Sport-100 Helmet, Blue",
         "Helmets",
         "34.9900"
        ],
        [
         "707",
         "Sport-100 Helmet, Red",
         "Helmets",
         "34.9900"
        ],
        [
         "708",
         "Sport-100 Helmet, Black",
         "Helmets",
         "34.9900"
        ],
        [
         "880",
         "Hydration Pack - 70 oz.",
         "Hydration Packs",
         "54.9900"
        ],
        [
         "846",
         "Taillights - Battery-Powered",
         "Lights",
         "13.9900"
        ],
        [
         "847",
         "Headlights - Dual-Beam",
         "Lights",
         "34.9900"
        ],
        [
         "848",
         "Headlights - Weatherproof",
         "Lights",
         "44.9900"
        ],
        [
         "843",
         "Cable Lock",
         "Locks",
         "25.0000"
        ],
        [
         "842",
         "Touring-Panniers, Large",
         "Panniers",
         "125.0000"
        ],
        [
         "844",
         "Minipump",
         "Pumps",
         "19.9900"
        ],
        [
         "845",
         "Mountain Pump",
         "Pumps",
         "24.9900"
        ],
        [
         "873",
         "Patch Kit/8 Patches",
         "Tires and Tubes",
         "2.2900"
        ],
        [
         "921",
         "Mountain Tire Tube",
         "Tires and Tubes",
         "4.9900"
        ],
        [
         "922",
         "Road Tire Tube",
         "Tires and Tubes",
         "3.9900"
        ],
        [
         "923",
         "Touring Tire Tube",
         "Tires and Tubes",
         "4.9900"
        ],
        [
         "928",
         "LL Mountain Tire",
         "Tires and Tubes",
         "24.9900"
        ],
        [
         "929",
         "ML Mountain Tire",
         "Tires and Tubes",
         "29.9900"
        ],
        [
         "930",
         "HL Mountain Tire",
         "Tires and Tubes",
         "35.0000"
        ],
        [
         "931",
         "LL Road Tire",
         "Tires and Tubes",
         "21.4900"
        ],
        [
         "932",
         "ML Road Tire",
         "Tires and Tubes",
         "24.9900"
        ],
        [
         "933",
         "HL Road Tire",
         "Tires and Tubes",
         "32.6000"
        ],
        [
         "934",
         "Touring Tire",
         "Tires and Tubes",
         "28.9900"
        ],
        [
         "771",
         "Mountain-100 Silver, 38",
         "Mountain Bikes",
         "2753.9919"
        ]
       ],
       "datasetInfos": [],
       "dbfsResultPath": null,
       "isJsonSchema": true,
       "metadata": {
        "dataframeName": "_sqldf",
        "executionCount": 18
       },
       "overflow": false,
       "plotOptions": {
        "customPlotOptions": {},
        "displayType": "table",
        "pivotAggregation": null,
        "pivotColumns": null,
        "xColumns": null,
        "yColumns": null
       },
       "removedWidgets": [],
       "schema": [
        {
         "metadata": "{}",
         "name": "ProductID",
         "type": "\"string\""
        },
        {
         "metadata": "{}",
         "name": "ProductName",
         "type": "\"string\""
        },
        {
         "metadata": "{}",
         "name": "Category",
         "type": "\"string\""
        },
        {
         "metadata": "{}",
         "name": "ListPrice",
         "type": "\"string\""
        }
       ],
       "type": "table"
      }
     },
     "output_type": "display_data"
    }
   ],
   "source": [
    "%sql\n",
    "USE \n",
    "  Adventureworks;\n",
    "SELECT\n",
    "  *\n",
    "FROM \n",
    "  ProductsExternal;"
   ]
  },
  {
   "cell_type": "markdown",
   "metadata": {
    "application/vnd.databricks.v1+cell": {
     "cellMetadata": {},
     "inputWidgets": {},
     "nuid": "379d42ec-d55a-439e-af3a-30eb95363e23",
     "showTitle": false,
     "title": ""
    }
   },
   "source": [
    "### Create a Managed Table"
   ]
  },
  {
   "cell_type": "code",
   "execution_count": 0,
   "metadata": {
    "application/vnd.databricks.v1+cell": {
     "cellMetadata": {
      "byteLimit": 2048000,
      "rowLimit": 10000
     },
     "inputWidgets": {},
     "nuid": "e6affe00-e0de-442d-8556-ea6681377fdc",
     "showTitle": false,
     "title": ""
    }
   },
   "outputs": [],
   "source": [
    "df.write.format(source=\"delta\").saveAsTable(name=\"AdventureWorks.ProductsManaged\")"
   ]
  },
  {
   "cell_type": "code",
   "execution_count": 0,
   "metadata": {
    "application/vnd.databricks.v1+cell": {
     "cellMetadata": {
      "byteLimit": 2048000,
      "rowLimit": 10000
     },
     "inputWidgets": {},
     "nuid": "3588c554-a1e1-4d71-a736-faa0efc267a8",
     "showTitle": false,
     "title": ""
    }
   },
   "outputs": [
    {
     "output_type": "stream",
     "name": "stdout",
     "output_type": "stream",
     "text": [
      "+----------------------------+-----------------------------------------------------------+-------+\n|col_name                    |data_type                                                  |comment|\n+----------------------------+-----------------------------------------------------------+-------+\n|ProductID                   |string                                                     |NULL   |\n|ProductName                 |string                                                     |NULL   |\n|Category                    |string                                                     |NULL   |\n|ListPrice                   |string                                                     |NULL   |\n|                            |                                                           |       |\n|# Delta Statistics Columns  |                                                           |       |\n|Column Names                |ProductID, ProductName, Category, ListPrice                |       |\n|Column Selection Method     |first-32                                                   |       |\n|                            |                                                           |       |\n|# Detailed Table Information|                                                           |       |\n|Catalog                     |hive_metastore                                             |       |\n|Database                    |AdventureWorks                                             |       |\n|Table                       |ProductsManaged                                            |       |\n|Created Time                |Wed Jul 03 13:25:18 UTC 2024                               |       |\n|Last Access                 |UNKNOWN                                                    |       |\n|Created By                  |Spark 3.5.0                                                |       |\n|Type                        |MANAGED                                                    |       |\n|Location                    |dbfs:/user/hive/warehouse/adventureworks.db/productsmanaged|       |\n|Provider                    |delta                                                      |       |\n|Owner                       |root                                                       |       |\n+----------------------------+-----------------------------------------------------------+-------+\nonly showing top 20 rows\n\n"
     ]
    }
   ],
   "source": [
    "spark.sql(sqlQuery=\"\"\"\n",
    "          DESCRIBE EXTENDED \n",
    "            AdventureWorks.ProductsManaged;\n",
    "          \"\"\").show(truncate=False)"
   ]
  },
  {
   "cell_type": "markdown",
   "metadata": {
    "application/vnd.databricks.v1+cell": {
     "cellMetadata": {},
     "inputWidgets": {},
     "nuid": "62413bf6-ca98-4dd3-8e54-6d547d73e2da",
     "showTitle": false,
     "title": ""
    }
   },
   "source": [
    "### Comparing two tables"
   ]
  },
  {
   "cell_type": "code",
   "execution_count": 0,
   "metadata": {
    "application/vnd.databricks.v1+cell": {
     "cellMetadata": {
      "byteLimit": 2048000,
      "implicitDf": true,
      "rowLimit": 10000
     },
     "inputWidgets": {},
     "nuid": "08b1b791-fbdf-42b9-a6ab-ed2cdecc98d2",
     "showTitle": false,
     "title": ""
    }
   },
   "outputs": [
    {
     "output_type": "display_data",
     "data": {
      "text/html": [
       "<style scoped>\n",
       "  .table-result-container {\n",
       "    max-height: 300px;\n",
       "    overflow: auto;\n",
       "  }\n",
       "  table, th, td {\n",
       "    border: 1px solid black;\n",
       "    border-collapse: collapse;\n",
       "  }\n",
       "  th, td {\n",
       "    padding: 5px;\n",
       "  }\n",
       "  th {\n",
       "    text-align: left;\n",
       "  }\n",
       "</style><div class='table-result-container'><table class='table-result'><thead style='background-color: white'><tr><th>database</th><th>tableName</th><th>isTemporary</th></tr></thead><tbody><tr><td>adventureworks</td><td>productsexternal</td><td>false</td></tr><tr><td>adventureworks</td><td>productsmanaged</td><td>false</td></tr></tbody></table></div>"
      ]
     },
     "metadata": {
      "application/vnd.databricks.v1+output": {
       "addedWidgets": {},
       "aggData": [],
       "aggError": "",
       "aggOverflow": false,
       "aggSchema": [],
       "aggSeriesLimitReached": false,
       "aggType": "",
       "arguments": {},
       "columnCustomDisplayInfos": {},
       "data": [
        [
         "adventureworks",
         "productsexternal",
         false
        ],
        [
         "adventureworks",
         "productsmanaged",
         false
        ]
       ],
       "datasetInfos": [],
       "dbfsResultPath": null,
       "isJsonSchema": true,
       "metadata": {
        "dataframeName": "_sqldf",
        "executionCount": 23
       },
       "overflow": false,
       "plotOptions": {
        "customPlotOptions": {},
        "displayType": "table",
        "pivotAggregation": null,
        "pivotColumns": null,
        "xColumns": null,
        "yColumns": null
       },
       "removedWidgets": [],
       "schema": [
        {
         "metadata": "{}",
         "name": "database",
         "type": "\"string\""
        },
        {
         "metadata": "{}",
         "name": "tableName",
         "type": "\"string\""
        },
        {
         "metadata": "{}",
         "name": "isTemporary",
         "type": "\"boolean\""
        }
       ],
       "type": "table"
      }
     },
     "output_type": "display_data"
    }
   ],
   "source": [
    "%sql \n",
    "USE Adventureworks;\n",
    "SHOW TABLES;"
   ]
  },
  {
   "cell_type": "code",
   "execution_count": 0,
   "metadata": {
    "application/vnd.databricks.v1+cell": {
     "cellMetadata": {
      "byteLimit": 2048000,
      "rowLimit": 10000
     },
     "inputWidgets": {},
     "nuid": "e7adc5ef-450e-4cf3-a65f-6f68d06751c5",
     "showTitle": false,
     "title": ""
    }
   },
   "outputs": [
    {
     "output_type": "stream",
     "name": "stdout",
     "output_type": "stream",
     "text": [
      "External Table:\n_delta_log\ndeletion_vector_9b12f505-1a2f-4cfc-847f-e0e317da1b00.bin\ndeletion_vector_b6659ece-8ddd-4697-b7a8-13f66ac6b6e6.bin\npart-00000-2050bf2c-d4a6-440d-9fb9-65e66117bcdc.c000.snappy.parquet\npart-00000-23faeef8-d6fe-4a8c-a3d7-182db2a3f3de.c000.snappy.parquet\npart-00000-a7ece34d-3d32-4368-8fbe-5a8bcaab6c84.c000.snappy.parquet\n\nManaged Table:\n_delta_log\npart-00000-02905c28-6ef6-4d7f-b8b3-6f009ee329a2.c000.snappy.parquet\n"
     ]
    }
   ],
   "source": [
    "%sh \n",
    "echo \"External Table:\"\n",
    "ls /dbfs/delta/products-delta\n",
    "echo\n",
    "echo \"Managed Table:\"\n",
    "ls /dbfs/user/hive/warehouse/adventureworks.db/productsmanaged"
   ]
  },
  {
   "cell_type": "markdown",
   "metadata": {
    "application/vnd.databricks.v1+cell": {
     "cellMetadata": {},
     "inputWidgets": {},
     "nuid": "55347d2f-de6b-4137-96e5-4628c6e1cbad",
     "showTitle": false,
     "title": ""
    }
   },
   "source": [
    "### Delete Both the Tables"
   ]
  },
  {
   "cell_type": "code",
   "execution_count": 0,
   "metadata": {
    "application/vnd.databricks.v1+cell": {
     "cellMetadata": {
      "byteLimit": 2048000,
      "implicitDf": true,
      "rowLimit": 10000
     },
     "inputWidgets": {},
     "nuid": "7c3f8b82-06db-4968-9dd1-aca9ba623c81",
     "showTitle": false,
     "title": ""
    }
   },
   "outputs": [
    {
     "output_type": "display_data",
     "data": {
      "text/html": [
       "<style scoped>\n",
       "  .table-result-container {\n",
       "    max-height: 300px;\n",
       "    overflow: auto;\n",
       "  }\n",
       "  table, th, td {\n",
       "    border: 1px solid black;\n",
       "    border-collapse: collapse;\n",
       "  }\n",
       "  th, td {\n",
       "    padding: 5px;\n",
       "  }\n",
       "  th {\n",
       "    text-align: left;\n",
       "  }\n",
       "</style><div class='table-result-container'><table class='table-result'><thead style='background-color: white'><tr><th>database</th><th>tableName</th><th>isTemporary</th></tr></thead><tbody></tbody></table></div>"
      ]
     },
     "metadata": {
      "application/vnd.databricks.v1+output": {
       "addedWidgets": {},
       "aggData": [],
       "aggError": "",
       "aggOverflow": false,
       "aggSchema": [],
       "aggSeriesLimitReached": false,
       "aggType": "",
       "arguments": {},
       "columnCustomDisplayInfos": {},
       "data": [],
       "datasetInfos": [],
       "dbfsResultPath": null,
       "isJsonSchema": true,
       "metadata": {
        "dataframeName": "_sqldf",
        "executionCount": 25
       },
       "overflow": false,
       "plotOptions": {
        "customPlotOptions": {},
        "displayType": "table",
        "pivotAggregation": null,
        "pivotColumns": null,
        "xColumns": null,
        "yColumns": null
       },
       "removedWidgets": [],
       "schema": [
        {
         "metadata": "{}",
         "name": "database",
         "type": "\"string\""
        },
        {
         "metadata": "{}",
         "name": "tableName",
         "type": "\"string\""
        },
        {
         "metadata": "{}",
         "name": "isTemporary",
         "type": "\"boolean\""
        }
       ],
       "type": "table"
      }
     },
     "output_type": "display_data"
    }
   ],
   "source": [
    "%sql\n",
    "\n",
    "USE Adventureworks;\n",
    "DROP TABLE IF EXISTS\n",
    "  productsexternal;\n",
    "DROP TABLE IF EXISTS\n",
    "  productsmanaged;\n",
    "\n",
    "SHOW TABLES;"
   ]
  },
  {
   "cell_type": "markdown",
   "metadata": {
    "application/vnd.databricks.v1+cell": {
     "cellMetadata": {},
     "inputWidgets": {},
     "nuid": "1e3ab4f3-57de-4b12-bd2e-7a52909d945d",
     "showTitle": false,
     "title": ""
    }
   },
   "source": [
    "### The files for External Tables remains while the file for the managed table are deleted automatically"
   ]
  },
  {
   "cell_type": "code",
   "execution_count": 0,
   "metadata": {
    "application/vnd.databricks.v1+cell": {
     "cellMetadata": {
      "byteLimit": 2048000,
      "rowLimit": 10000
     },
     "inputWidgets": {},
     "nuid": "bbf577bc-9a57-4656-97c0-6d56bce2023a",
     "showTitle": false,
     "title": ""
    }
   },
   "outputs": [
    {
     "output_type": "stream",
     "name": "stdout",
     "output_type": "stream",
     "text": [
      "External Table:\n_delta_log\ndeletion_vector_9b12f505-1a2f-4cfc-847f-e0e317da1b00.bin\ndeletion_vector_b6659ece-8ddd-4697-b7a8-13f66ac6b6e6.bin\npart-00000-2050bf2c-d4a6-440d-9fb9-65e66117bcdc.c000.snappy.parquet\npart-00000-23faeef8-d6fe-4a8c-a3d7-182db2a3f3de.c000.snappy.parquet\npart-00000-a7ece34d-3d32-4368-8fbe-5a8bcaab6c84.c000.snappy.parquet\n\nManaged Table:\n"
     ]
    }
   ],
   "source": [
    "%sh \n",
    "echo \"External Table:\"\n",
    "ls /dbfs/delta/products-delta\n",
    "echo\n",
    "echo \"Managed Table:\"\n",
    "ls /dbfs/user/hive/warehouse/adventureworks.db/productsmanaged"
   ]
  },
  {
   "cell_type": "markdown",
   "metadata": {
    "application/vnd.databricks.v1+cell": {
     "cellMetadata": {},
     "inputWidgets": {},
     "nuid": "240bc726-5abc-4dcf-9f4f-27e32b680c14",
     "showTitle": false,
     "title": ""
    }
   },
   "source": [
    "### Use Delta Tables for Streaming Data"
   ]
  },
  {
   "cell_type": "code",
   "execution_count": 0,
   "metadata": {
    "application/vnd.databricks.v1+cell": {
     "cellMetadata": {
      "byteLimit": 2048000,
      "rowLimit": 10000
     },
     "inputWidgets": {},
     "nuid": "4c91aa6f-ab74-45fc-a08c-dcae3d3478d3",
     "showTitle": false,
     "title": ""
    }
   },
   "outputs": [
    {
     "output_type": "stream",
     "name": "stderr",
     "output_type": "stream",
     "text": [
      "rm: cannot remove '/dbfs/device_stream': No such file or directory\n--2024-07-03 14:08:39--  https://raw.githubusercontent.com/MicrosoftLearning/mslearn-databricks/main/data/devices1.json\nResolving raw.githubusercontent.com (raw.githubusercontent.com)... 185.199.109.133, 185.199.108.133, 185.199.111.133, ...\nConnecting to raw.githubusercontent.com (raw.githubusercontent.com)|185.199.109.133|:443... connected.\nHTTP request sent, awaiting response... 200 OK\nLength: 296 [text/plain]\nSaving to: ‘/dbfs/device_stream/devices1.json’\n\n     0K                                                       100% 3.50M=0s\n\n2024-07-03 14:08:39 (3.50 MB/s) - ‘/dbfs/device_stream/devices1.json’ saved [296/296]\n\n"
     ]
    }
   ],
   "source": [
    " %sh\n",
    " rm -r /dbfs/device_stream\n",
    " mkdir /dbfs/device_stream\n",
    " wget -O /dbfs/device_stream/devices1.json https://raw.githubusercontent.com/MicrosoftLearning/mslearn-databricks/main/data/devices1.json"
   ]
  },
  {
   "cell_type": "code",
   "execution_count": 0,
   "metadata": {
    "application/vnd.databricks.v1+cell": {
     "cellMetadata": {
      "byteLimit": 2048000,
      "rowLimit": 10000
     },
     "inputWidgets": {},
     "nuid": "ff4b33c9-3330-42fe-b8b8-4817f6c005ad",
     "showTitle": false,
     "title": ""
    }
   },
   "outputs": [],
   "source": [
    "inputPath=\"dbfs:/device_stream/\"\n",
    "jsonSchema=StructType(\n",
    "    [\n",
    "        StructField(name=\"device\",dataType=StringType(),nullable=False),\n",
    "        StructField(name=\"status\",dataType=StringType(),nullable=False)\n",
    "    ]\n",
    ")"
   ]
  },
  {
   "cell_type": "code",
   "execution_count": 0,
   "metadata": {
    "application/vnd.databricks.v1+cell": {
     "cellMetadata": {
      "byteLimit": 2048000,
      "rowLimit": 10000
     },
     "inputWidgets": {},
     "nuid": "70decf7d-8512-41ad-b7d2-dd9b613adfd3",
     "showTitle": false,
     "title": ""
    }
   },
   "outputs": [
    {
     "output_type": "stream",
     "name": "stdout",
     "output_type": "stream",
     "text": [
      "Source Stream Created\n"
     ]
    }
   ],
   "source": [
    "iotstream=spark.readStream.schema(schema=jsonSchema).option(\n",
    "    key=\"maxFilesPerTrigger\",value=1).json(path=inputPath)\n",
    "\n",
    "print(\"Source Stream Created\")"
   ]
  },
  {
   "cell_type": "code",
   "execution_count": 0,
   "metadata": {
    "application/vnd.databricks.v1+cell": {
     "cellMetadata": {
      "byteLimit": 2048000,
      "rowLimit": 10000
     },
     "inputWidgets": {},
     "nuid": "a71221ff-f961-4ae9-88a9-14165de51c77",
     "showTitle": false,
     "title": ""
    }
   },
   "outputs": [],
   "source": [
    "deltaStreamTablePath=\"/delta/iotdevicedata\"\n",
    "\n",
    "checkPointPath=\"dbfs/delta/checkpoint\"\n",
    "\n",
    "deltaStream=iotstream.writeStream.format(\"delta\").\\\n",
    "    option(key=\"checkpointLocation\",value=checkPointPath).\\\n",
    "    start(path=deltaStreamTablePath)"
   ]
  },
  {
   "cell_type": "code",
   "execution_count": 0,
   "metadata": {
    "application/vnd.databricks.v1+cell": {
     "cellMetadata": {
      "byteLimit": 2048000,
      "rowLimit": 10000
     },
     "inputWidgets": {},
     "nuid": "c8e89b10-c579-49f5-820c-1ba92b4d77c9",
     "showTitle": false,
     "title": ""
    }
   },
   "outputs": [
    {
     "output_type": "display_data",
     "data": {
      "text/html": [
       "<style scoped>\n",
       "  .table-result-container {\n",
       "    max-height: 300px;\n",
       "    overflow: auto;\n",
       "  }\n",
       "  table, th, td {\n",
       "    border: 1px solid black;\n",
       "    border-collapse: collapse;\n",
       "  }\n",
       "  th, td {\n",
       "    padding: 5px;\n",
       "  }\n",
       "  th {\n",
       "    text-align: left;\n",
       "  }\n",
       "</style><div class='table-result-container'><table class='table-result'><thead style='background-color: white'><tr><th>device</th><th>status</th></tr></thead><tbody><tr><td>Dev1</td><td>ok</td></tr><tr><td>Dev1</td><td>ok</td></tr><tr><td>Dev1</td><td>ok</td></tr><tr><td>Dev2</td><td>error</td></tr><tr><td>Dev1</td><td>ok</td></tr><tr><td>Dev1</td><td>error</td></tr><tr><td>Dev2</td><td>ok</td></tr><tr><td>Dev2</td><td>error</td></tr><tr><td>Dev1</td><td>ok</td></tr></tbody></table></div>"
      ]
     },
     "metadata": {
      "application/vnd.databricks.v1+output": {
       "addedWidgets": {},
       "aggData": [],
       "aggError": "",
       "aggOverflow": false,
       "aggSchema": [],
       "aggSeriesLimitReached": false,
       "aggType": "",
       "arguments": {},
       "columnCustomDisplayInfos": {},
       "data": [
        [
         "Dev1",
         "ok"
        ],
        [
         "Dev1",
         "ok"
        ],
        [
         "Dev1",
         "ok"
        ],
        [
         "Dev2",
         "error"
        ],
        [
         "Dev1",
         "ok"
        ],
        [
         "Dev1",
         "error"
        ],
        [
         "Dev2",
         "ok"
        ],
        [
         "Dev2",
         "error"
        ],
        [
         "Dev1",
         "ok"
        ]
       ],
       "datasetInfos": [],
       "dbfsResultPath": null,
       "isJsonSchema": true,
       "metadata": {},
       "overflow": false,
       "plotOptions": {
        "customPlotOptions": {},
        "displayType": "table",
        "pivotAggregation": null,
        "pivotColumns": null,
        "xColumns": null,
        "yColumns": null
       },
       "removedWidgets": [],
       "schema": [
        {
         "metadata": "{}",
         "name": "device",
         "type": "\"string\""
        },
        {
         "metadata": "{}",
         "name": "status",
         "type": "\"string\""
        }
       ],
       "type": "table"
      }
     },
     "output_type": "display_data"
    }
   ],
   "source": [
    "df=spark.read.format(source=\"delta\").load(deltaStreamTablePath)\n",
    "display(df)"
   ]
  },
  {
   "cell_type": "code",
   "execution_count": 0,
   "metadata": {
    "application/vnd.databricks.v1+cell": {
     "cellMetadata": {
      "byteLimit": 2048000,
      "rowLimit": 10000
     },
     "inputWidgets": {},
     "nuid": "3067fd45-e4b7-49d7-8754-d7498e0cc477",
     "showTitle": false,
     "title": ""
    }
   },
   "outputs": [
    {
     "output_type": "execute_result",
     "data": {
      "text/plain": [
       "DataFrame[]"
      ]
     },
     "execution_count": 16,
     "metadata": {},
     "output_type": "execute_result"
    }
   ],
   "source": [
    "# create a catalog table based on the streaming sink\n",
    "spark.sql(\n",
    "    sqlQuery=\"\"\"\n",
    "            CREATE TABLE \n",
    "                IotDeviceData \n",
    "            USING \n",
    "                delta\n",
    "            LOCATION\n",
    "                '{0}';\n",
    "          \"\"\".format(deltaStreamTablePath))"
   ]
  },
  {
   "cell_type": "code",
   "execution_count": 0,
   "metadata": {
    "application/vnd.databricks.v1+cell": {
     "cellMetadata": {
      "byteLimit": 2048000,
      "implicitDf": true,
      "rowLimit": 10000
     },
     "inputWidgets": {},
     "nuid": "9a68af56-cf05-4e93-acc0-ebddb237bacd",
     "showTitle": false,
     "title": ""
    }
   },
   "outputs": [
    {
     "output_type": "display_data",
     "data": {
      "text/html": [
       "<style scoped>\n",
       "  .table-result-container {\n",
       "    max-height: 300px;\n",
       "    overflow: auto;\n",
       "  }\n",
       "  table, th, td {\n",
       "    border: 1px solid black;\n",
       "    border-collapse: collapse;\n",
       "  }\n",
       "  th, td {\n",
       "    padding: 5px;\n",
       "  }\n",
       "  th {\n",
       "    text-align: left;\n",
       "  }\n",
       "</style><div class='table-result-container'><table class='table-result'><thead style='background-color: white'><tr><th>device</th><th>status</th></tr></thead><tbody><tr><td>Dev1</td><td>ok</td></tr><tr><td>Dev1</td><td>ok</td></tr><tr><td>Dev1</td><td>ok</td></tr><tr><td>Dev2</td><td>error</td></tr><tr><td>Dev1</td><td>ok</td></tr><tr><td>Dev1</td><td>error</td></tr><tr><td>Dev2</td><td>ok</td></tr><tr><td>Dev2</td><td>error</td></tr><tr><td>Dev1</td><td>ok</td></tr></tbody></table></div>"
      ]
     },
     "metadata": {
      "application/vnd.databricks.v1+output": {
       "addedWidgets": {},
       "aggData": [],
       "aggError": "",
       "aggOverflow": false,
       "aggSchema": [],
       "aggSeriesLimitReached": false,
       "aggType": "",
       "arguments": {},
       "columnCustomDisplayInfos": {},
       "data": [
        [
         "Dev1",
         "ok"
        ],
        [
         "Dev1",
         "ok"
        ],
        [
         "Dev1",
         "ok"
        ],
        [
         "Dev2",
         "error"
        ],
        [
         "Dev1",
         "ok"
        ],
        [
         "Dev1",
         "error"
        ],
        [
         "Dev2",
         "ok"
        ],
        [
         "Dev2",
         "error"
        ],
        [
         "Dev1",
         "ok"
        ]
       ],
       "datasetInfos": [],
       "dbfsResultPath": null,
       "isJsonSchema": true,
       "metadata": {
        "dataframeName": "_sqldf",
        "executionCount": 17
       },
       "overflow": false,
       "plotOptions": {
        "customPlotOptions": {},
        "displayType": "table",
        "pivotAggregation": null,
        "pivotColumns": null,
        "xColumns": null,
        "yColumns": null
       },
       "removedWidgets": [],
       "schema": [
        {
         "metadata": "{}",
         "name": "device",
         "type": "\"string\""
        },
        {
         "metadata": "{}",
         "name": "status",
         "type": "\"string\""
        }
       ],
       "type": "table"
      }
     },
     "output_type": "display_data"
    }
   ],
   "source": [
    "%sql\n",
    "SELECT \n",
    "  *\n",
    "FROM \n",
    "  IotDeviceData;"
   ]
  },
  {
   "cell_type": "markdown",
   "metadata": {
    "application/vnd.databricks.v1+cell": {
     "cellMetadata": {},
     "inputWidgets": {},
     "nuid": "6c6539b8-26f1-408d-9536-fcdb6c785ceb",
     "showTitle": false,
     "title": ""
    }
   },
   "source": [
    "#### Adding some Fresh Device to The Stream"
   ]
  },
  {
   "cell_type": "code",
   "execution_count": 0,
   "metadata": {
    "application/vnd.databricks.v1+cell": {
     "cellMetadata": {
      "byteLimit": 2048000,
      "rowLimit": 10000
     },
     "inputWidgets": {},
     "nuid": "624a7ce4-70d6-4c50-a153-de151d9633f3",
     "showTitle": false,
     "title": ""
    }
   },
   "outputs": [
    {
     "output_type": "stream",
     "name": "stderr",
     "output_type": "stream",
     "text": [
      "--2024-07-03 14:29:25--  https://raw.githubusercontent.com/MicrosoftLearning/mslearn-databricks/main/data/devices2.json\nResolving raw.githubusercontent.com (raw.githubusercontent.com)... 185.199.108.133, 185.199.111.133, 185.199.110.133, ...\nConnecting to raw.githubusercontent.com (raw.githubusercontent.com)|185.199.108.133|:443... connected.\nHTTP request sent, awaiting response... 200 OK\nLength: 229 [text/plain]\nSaving to: ‘/dbfs/device_stream/devices2.json’\n\n     0K                                                       100% 2.81M=0s\n\n2024-07-03 14:29:25 (2.81 MB/s) - ‘/dbfs/device_stream/devices2.json’ saved [229/229]\n\n"
     ]
    }
   ],
   "source": [
    " %sh\n",
    " wget -O /dbfs/device_stream/devices2.json https://raw.githubusercontent.com/MicrosoftLearning/mslearn-databricks/main/data/devices2.json"
   ]
  },
  {
   "cell_type": "code",
   "execution_count": 0,
   "metadata": {
    "application/vnd.databricks.v1+cell": {
     "cellMetadata": {
      "byteLimit": 2048000,
      "implicitDf": true,
      "rowLimit": 10000
     },
     "inputWidgets": {},
     "nuid": "8747e292-939e-4146-940d-6650955887d0",
     "showTitle": false,
     "title": ""
    }
   },
   "outputs": [
    {
     "output_type": "display_data",
     "data": {
      "text/html": [
       "<style scoped>\n",
       "  .table-result-container {\n",
       "    max-height: 300px;\n",
       "    overflow: auto;\n",
       "  }\n",
       "  table, th, td {\n",
       "    border: 1px solid black;\n",
       "    border-collapse: collapse;\n",
       "  }\n",
       "  th, td {\n",
       "    padding: 5px;\n",
       "  }\n",
       "  th {\n",
       "    text-align: left;\n",
       "  }\n",
       "</style><div class='table-result-container'><table class='table-result'><thead style='background-color: white'><tr><th>device</th><th>status</th></tr></thead><tbody><tr><td>Dev1</td><td>ok</td></tr><tr><td>Dev1</td><td>ok</td></tr><tr><td>Dev1</td><td>ok</td></tr><tr><td>Dev2</td><td>error</td></tr><tr><td>Dev1</td><td>ok</td></tr><tr><td>Dev1</td><td>error</td></tr><tr><td>Dev2</td><td>ok</td></tr><tr><td>Dev2</td><td>error</td></tr><tr><td>Dev1</td><td>ok</td></tr><tr><td>Dev1</td><td>ok</td></tr><tr><td>Dev1</td><td>ok</td></tr><tr><td>Dev1</td><td>ok</td></tr><tr><td>Dev1</td><td>ok</td></tr><tr><td>Dev1</td><td>error</td></tr><tr><td>Dev2</td><td>error</td></tr><tr><td>Dev1</td><td>ok</td></tr></tbody></table></div>"
      ]
     },
     "metadata": {
      "application/vnd.databricks.v1+output": {
       "addedWidgets": {},
       "aggData": [],
       "aggError": "",
       "aggOverflow": false,
       "aggSchema": [],
       "aggSeriesLimitReached": false,
       "aggType": "",
       "arguments": {},
       "columnCustomDisplayInfos": {},
       "data": [
        [
         "Dev1",
         "ok"
        ],
        [
         "Dev1",
         "ok"
        ],
        [
         "Dev1",
         "ok"
        ],
        [
         "Dev2",
         "error"
        ],
        [
         "Dev1",
         "ok"
        ],
        [
         "Dev1",
         "error"
        ],
        [
         "Dev2",
         "ok"
        ],
        [
         "Dev2",
         "error"
        ],
        [
         "Dev1",
         "ok"
        ],
        [
         "Dev1",
         "ok"
        ],
        [
         "Dev1",
         "ok"
        ],
        [
         "Dev1",
         "ok"
        ],
        [
         "Dev1",
         "ok"
        ],
        [
         "Dev1",
         "error"
        ],
        [
         "Dev2",
         "error"
        ],
        [
         "Dev1",
         "ok"
        ]
       ],
       "datasetInfos": [],
       "dbfsResultPath": null,
       "isJsonSchema": true,
       "metadata": {
        "dataframeName": "_sqldf",
        "executionCount": 19
       },
       "overflow": false,
       "plotOptions": {
        "customPlotOptions": {},
        "displayType": "table",
        "pivotAggregation": null,
        "pivotColumns": null,
        "xColumns": null,
        "yColumns": null
       },
       "removedWidgets": [],
       "schema": [
        {
         "metadata": "{}",
         "name": "device",
         "type": "\"string\""
        },
        {
         "metadata": "{}",
         "name": "status",
         "type": "\"string\""
        }
       ],
       "type": "table"
      }
     },
     "output_type": "display_data"
    }
   ],
   "source": [
    "%sql\n",
    "SELECT \n",
    "  *\n",
    "FROM\n",
    "  IotDeviceData;"
   ]
  },
  {
   "cell_type": "code",
   "execution_count": 0,
   "metadata": {
    "application/vnd.databricks.v1+cell": {
     "cellMetadata": {
      "byteLimit": 2048000,
      "rowLimit": 10000
     },
     "inputWidgets": {},
     "nuid": "61443f5a-8cea-4dcc-9f06-1ec3c2d11f89",
     "showTitle": false,
     "title": ""
    }
   },
   "outputs": [],
   "source": [
    "## Stopping the Stream\n",
    "\n",
    "deltaStream.stop()"
   ]
  },
  {
   "cell_type": "code",
   "execution_count": 0,
   "metadata": {
    "application/vnd.databricks.v1+cell": {
     "cellMetadata": {},
     "inputWidgets": {},
     "nuid": "b6e5a69e-1079-4db3-9316-11bfc2c71d30",
     "showTitle": false,
     "title": ""
    }
   },
   "outputs": [],
   "source": []
  }
 ],
 "metadata": {
  "application/vnd.databricks.v1+notebook": {
   "dashboards": [],
   "environmentMetadata": null,
   "language": "python",
   "notebookMetadata": {
    "mostRecentlyExecutedCommandWithImplicitDF": {
     "commandId": 3038433425346813,
     "dataframes": [
      "_sqldf"
     ]
    },
    "pythonIndentUnit": 4
   },
   "notebookName": "8_Use_Delta_Lake_in_Azure_Databricks",
   "widgets": {}
  }
 },
 "nbformat": 4,
 "nbformat_minor": 0
}
