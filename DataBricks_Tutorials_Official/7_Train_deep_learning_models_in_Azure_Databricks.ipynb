{
 "cells": [
  {
   "cell_type": "code",
   "execution_count": 0,
   "metadata": {
    "application/vnd.databricks.v1+cell": {
     "cellMetadata": {
      "byteLimit": 2048000,
      "rowLimit": 10000
     },
     "inputWidgets": {},
     "nuid": "1ff48cd9-08d8-4ae4-8fdb-d012219232be",
     "showTitle": false,
     "title": ""
    }
   },
   "outputs": [],
   "source": [
    "from pyspark.sql.types import *\n",
    "from pyspark.sql.functions import collect_set,col\n",
    "from sklearn.model_selection import train_test_split\n",
    "\n",
    "import torch\n",
    "import torch.nn as nn\n",
    "import torch.utils.data as td\n",
    "import torch.nn.functional as F"
   ]
  },
  {
   "cell_type": "code",
   "execution_count": 0,
   "metadata": {
    "application/vnd.databricks.v1+cell": {
     "cellMetadata": {
      "byteLimit": 2048000,
      "rowLimit": 10000
     },
     "inputWidgets": {},
     "nuid": "320a9329-f294-4f90-98e4-bc14ad9b9169",
     "showTitle": false,
     "title": ""
    }
   },
   "outputs": [
    {
     "output_type": "stream",
     "name": "stdout",
     "output_type": "stream",
     "text": [
      "\u001B[43mNote: you may need to restart the kernel using dbutils.library.restartPython() to use updated packages.\u001B[0m\nCollecting torch\n  Downloading torch-2.3.1-cp310-cp310-manylinux1_x86_64.whl (779.1 MB)\n     ━━━━━━━━━━━━━━━━━━━━━━━━━━━━━━━━━━━━━ 779.1/779.1 MB 933.9 kB/s eta 0:00:00\nCollecting nvidia-cublas-cu12==12.1.3.1\n  Downloading nvidia_cublas_cu12-12.1.3.1-py3-none-manylinux1_x86_64.whl (410.6 MB)\n     ━━━━━━━━━━━━━━━━━━━━━━━━━━━━━━━━━━━━━━━ 410.6/410.6 MB 1.7 MB/s eta 0:00:00\nCollecting nvidia-nccl-cu12==2.20.5\n  Downloading nvidia_nccl_cu12-2.20.5-py3-none-manylinux2014_x86_64.whl (176.2 MB)\n     ━━━━━━━━━━━━━━━━━━━━━━━━━━━━━━━━━━━━━━━ 176.2/176.2 MB 3.7 MB/s eta 0:00:00\nCollecting nvidia-cudnn-cu12==8.9.2.26\n  Downloading nvidia_cudnn_cu12-8.9.2.26-py3-none-manylinux1_x86_64.whl (731.7 MB)\n     ━━━━━━━━━━━━━━━━━━━━━━━━━━━━━━━━━━━━━ 731.7/731.7 MB 941.8 kB/s eta 0:00:00\nCollecting triton==2.3.1\n  Downloading triton-2.3.1-cp310-cp310-manylinux_2_17_x86_64.manylinux2014_x86_64.whl (168.1 MB)\n     ━━━━━━━━━━━━━━━━━━━━━━━━━━━━━━━━━━━━━━━ 168.1/168.1 MB 4.2 MB/s eta 0:00:00\nCollecting nvidia-cuda-nvrtc-cu12==12.1.105\n  Downloading nvidia_cuda_nvrtc_cu12-12.1.105-py3-none-manylinux1_x86_64.whl (23.7 MB)\n     ━━━━━━━━━━━━━━━━━━━━━━━━━━━━━━━━━━━━━━━━ 23.7/23.7 MB 50.0 MB/s eta 0:00:00\nRequirement already satisfied: filelock in /usr/local/lib/python3.10/dist-packages (from torch) (3.13.1)\nCollecting sympy\n  Downloading sympy-1.12.1-py3-none-any.whl (5.7 MB)\n     ━━━━━━━━━━━━━━━━━━━━━━━━━━━━━━━━━━━━━━━━ 5.7/5.7 MB 75.9 MB/s eta 0:00:00\nCollecting nvidia-cufft-cu12==11.0.2.54\n  Downloading nvidia_cufft_cu12-11.0.2.54-py3-none-manylinux1_x86_64.whl (121.6 MB)\n     ━━━━━━━━━━━━━━━━━━━━━━━━━━━━━━━━━━━━━━━ 121.6/121.6 MB 3.8 MB/s eta 0:00:00\nCollecting nvidia-cusolver-cu12==11.4.5.107\n  Downloading nvidia_cusolver_cu12-11.4.5.107-py3-none-manylinux1_x86_64.whl (124.2 MB)\n     ━━━━━━━━━━━━━━━━━━━━━━━━━━━━━━━━━━━━━━━ 124.2/124.2 MB 4.6 MB/s eta 0:00:00\nCollecting typing-extensions>=4.8.0\n  Downloading typing_extensions-4.12.2-py3-none-any.whl (37 kB)\nCollecting nvidia-nvtx-cu12==12.1.105\n  Downloading nvidia_nvtx_cu12-12.1.105-py3-none-manylinux1_x86_64.whl (99 kB)\n     ━━━━━━━━━━━━━━━━━━━━━━━━━━━━━━━━━━━━━━━━ 99.1/99.1 kB 11.8 MB/s eta 0:00:00\nCollecting networkx\n  Downloading networkx-3.3-py3-none-any.whl (1.7 MB)\n     ━━━━━━━━━━━━━━━━━━━━━━━━━━━━━━━━━━━━━━━━ 1.7/1.7 MB 65.1 MB/s eta 0:00:00\nCollecting nvidia-cusparse-cu12==12.1.0.106\n  Downloading nvidia_cusparse_cu12-12.1.0.106-py3-none-manylinux1_x86_64.whl (196.0 MB)\n     ━━━━━━━━━━━━━━━━━━━━━━━━━━━━━━━━━━━━━━━ 196.0/196.0 MB 2.6 MB/s eta 0:00:00\nRequirement already satisfied: jinja2 in /databricks/python3/lib/python3.10/site-packages (from torch) (3.1.2)\nCollecting fsspec\n  Downloading fsspec-2024.6.1-py3-none-any.whl (177 kB)\n     ━━━━━━━━━━━━━━━━━━━━━━━━━━━━━━━━━━━━━━ 177.6/177.6 kB 19.1 MB/s eta 0:00:00\nCollecting nvidia-curand-cu12==10.3.2.106\n  Downloading nvidia_curand_cu12-10.3.2.106-py3-none-manylinux1_x86_64.whl (56.5 MB)\n     ━━━━━━━━━━━━━━━━━━━━━━━━━━━━━━━━━━━━━━━━ 56.5/56.5 MB 21.0 MB/s eta 0:00:00\nCollecting nvidia-cuda-runtime-cu12==12.1.105\n  Downloading nvidia_cuda_runtime_cu12-12.1.105-py3-none-manylinux1_x86_64.whl (823 kB)\n     ━━━━━━━━━━━━━━━━━━━━━━━━━━━━━━━━━━━━━━ 823.6/823.6 kB 48.8 MB/s eta 0:00:00\nCollecting nvidia-cuda-cupti-cu12==12.1.105\n  Downloading nvidia_cuda_cupti_cu12-12.1.105-py3-none-manylinux1_x86_64.whl (14.1 MB)\n     ━━━━━━━━━━━━━━━━━━━━━━━━━━━━━━━━━━━━━━━━ 14.1/14.1 MB 71.7 MB/s eta 0:00:00\nCollecting nvidia-nvjitlink-cu12\n  Downloading nvidia_nvjitlink_cu12-12.5.40-py3-none-manylinux2014_x86_64.whl (21.3 MB)\n     ━━━━━━━━━━━━━━━━━━━━━━━━━━━━━━━━━━━━━━━━ 21.3/21.3 MB 59.9 MB/s eta 0:00:00\nRequirement already satisfied: MarkupSafe>=2.0 in /databricks/python3/lib/python3.10/site-packages (from jinja2->torch) (2.1.1)\nCollecting mpmath<1.4.0,>=1.1.0\n  Downloading mpmath-1.3.0-py3-none-any.whl (536 kB)\n     ━━━━━━━━━━━━━━━━━━━━━━━━━━━━━━━━━━━━━━ 536.2/536.2 kB 30.7 MB/s eta 0:00:00\nInstalling collected packages: mpmath, typing-extensions, triton, sympy, nvidia-nvtx-cu12, nvidia-nvjitlink-cu12, nvidia-nccl-cu12, nvidia-curand-cu12, nvidia-cufft-cu12, nvidia-cuda-runtime-cu12, nvidia-cuda-nvrtc-cu12, nvidia-cuda-cupti-cu12, nvidia-cublas-cu12, networkx, fsspec, nvidia-cusparse-cu12, nvidia-cudnn-cu12, nvidia-cusolver-cu12, torch\n  Attempting uninstall: typing-extensions\n    Found existing installation: typing_extensions 4.4.0\n    Not uninstalling typing-extensions at /databricks/python3/lib/python3.10/site-packages, outside environment /local_disk0/.ephemeral_nfs/envs/pythonEnv-0889d21d-4636-486c-a41e-ccbd62fdb58e\n    Can't uninstall 'typing_extensions'. No files were found to uninstall.\nSuccessfully installed fsspec-2024.6.1 mpmath-1.3.0 networkx-3.3 nvidia-cublas-cu12-12.1.3.1 nvidia-cuda-cupti-cu12-12.1.105 nvidia-cuda-nvrtc-cu12-12.1.105 nvidia-cuda-runtime-cu12-12.1.105 nvidia-cudnn-cu12-8.9.2.26 nvidia-cufft-cu12-11.0.2.54 nvidia-curand-cu12-10.3.2.106 nvidia-cusolver-cu12-11.4.5.107 nvidia-cusparse-cu12-12.1.0.106 nvidia-nccl-cu12-2.20.5 nvidia-nvjitlink-cu12-12.5.40 nvidia-nvtx-cu12-12.1.105 sympy-1.12.1 torch-2.3.1 triton-2.3.1 typing-extensions-4.12.2\n\u001B[43mNote: you may need to restart the kernel using dbutils.library.restartPython() to use updated packages.\u001B[0m\n"
     ]
    }
   ],
   "source": [
    "!pip install torch"
   ]
  },
  {
   "cell_type": "code",
   "execution_count": 0,
   "metadata": {
    "application/vnd.databricks.v1+cell": {
     "cellMetadata": {
      "byteLimit": 2048000,
      "rowLimit": 10000
     },
     "inputWidgets": {},
     "nuid": "3a63117c-6e2f-4fb2-9f8e-e21142a20bea",
     "showTitle": false,
     "title": ""
    }
   },
   "outputs": [
    {
     "output_type": "stream",
     "name": "stderr",
     "output_type": "stream",
     "text": [
      "rm: cannot remove '/dbfs/deepml_lab': No such file or directory\n--2024-07-01 02:33:52--  https://raw.githubusercontent.com/MicrosoftLearning/mslearn-databricks/main/data/penguins.csv\nResolving raw.githubusercontent.com (raw.githubusercontent.com)... 185.199.109.133, 185.199.110.133, 185.199.111.133, ...\nConnecting to raw.githubusercontent.com (raw.githubusercontent.com)|185.199.109.133|:443... connected.\nHTTP request sent, awaiting response... 200 OK\nLength: 9533 (9.3K) [text/plain]\nSaving to: ‘/dbfs/deepml_lab/penguins.csv’\n\n     0K .........                                             100% 1.67M=0.005s\n\n2024-07-01 02:33:52 (1.67 MB/s) - ‘/dbfs/deepml_lab/penguins.csv’ saved [9533/9533]\n\n"
     ]
    }
   ],
   "source": [
    " %sh\n",
    " rm -r /dbfs/deepml_lab\n",
    " mkdir /dbfs/deepml_lab\n",
    " wget -O /dbfs/deepml_lab/penguins.csv https://raw.githubusercontent.com/MicrosoftLearning/mslearn-databricks/main/data/penguins.csv"
   ]
  },
  {
   "cell_type": "code",
   "execution_count": 0,
   "metadata": {
    "application/vnd.databricks.v1+cell": {
     "cellMetadata": {
      "byteLimit": 2048000,
      "rowLimit": 10000
     },
     "inputWidgets": {},
     "nuid": "c9b4fc82-0e5a-4e1b-b0a8-4f1e2c92cb39",
     "showTitle": false,
     "title": ""
    }
   },
   "outputs": [
    {
     "output_type": "execute_result",
     "data": {
      "text/plain": [
       "[FileInfo(path='dbfs:/deepml_lab/penguins.csv', name='penguins.csv', size=9533, modificationTime=1719801232000)]"
      ]
     },
     "execution_count": 5,
     "metadata": {},
     "output_type": "execute_result"
    }
   ],
   "source": [
    "dbutils.fs.ls(\"dbfs:/deepml_lab/\")"
   ]
  },
  {
   "cell_type": "code",
   "execution_count": 0,
   "metadata": {
    "application/vnd.databricks.v1+cell": {
     "cellMetadata": {
      "byteLimit": 2048000,
      "rowLimit": 10000
     },
     "inputWidgets": {},
     "nuid": "b7d31d2c-0a51-4a3f-9efc-3d297bf0b3b0",
     "showTitle": false,
     "title": ""
    }
   },
   "outputs": [],
   "source": [
    "df = spark.read.format(\"csv\").option(\"header\", \"true\").load(\"/deepml_lab/penguins.csv\").dropna()"
   ]
  },
  {
   "cell_type": "code",
   "execution_count": 0,
   "metadata": {
    "application/vnd.databricks.v1+cell": {
     "cellMetadata": {
      "byteLimit": 2048000,
      "rowLimit": 10000
     },
     "inputWidgets": {},
     "nuid": "0518d24e-6f6c-460a-909e-b3650e440eb1",
     "showTitle": false,
     "title": ""
    }
   },
   "outputs": [
    {
     "output_type": "display_data",
     "data": {
      "text/html": [
       "<style scoped>\n",
       "  .table-result-container {\n",
       "    max-height: 300px;\n",
       "    overflow: auto;\n",
       "  }\n",
       "  table, th, td {\n",
       "    border: 1px solid black;\n",
       "    border-collapse: collapse;\n",
       "  }\n",
       "  th, td {\n",
       "    padding: 5px;\n",
       "  }\n",
       "  th {\n",
       "    text-align: left;\n",
       "  }\n",
       "</style><div class='table-result-container'><table class='table-result'><thead style='background-color: white'><tr><th>Island</th><th>CulmenLength</th><th>CulmenDepth</th><th>FlipperLength</th><th>BodyMass</th><th>Species</th></tr></thead><tbody><tr><td>Torgersen</td><td>39.1</td><td>18.7</td><td>181</td><td>3750</td><td>0</td></tr><tr><td>Torgersen</td><td>39.5</td><td>17.4</td><td>186</td><td>3800</td><td>0</td></tr><tr><td>Torgersen</td><td>40.3</td><td>18</td><td>195</td><td>3250</td><td>0</td></tr><tr><td>Torgersen</td><td>36.7</td><td>19.3</td><td>193</td><td>3450</td><td>0</td></tr><tr><td>Torgersen</td><td>39.3</td><td>20.6</td><td>190</td><td>3650</td><td>0</td></tr><tr><td>Torgersen</td><td>38.9</td><td>17.8</td><td>181</td><td>3625</td><td>0</td></tr><tr><td>Torgersen</td><td>39.2</td><td>19.6</td><td>195</td><td>4675</td><td>0</td></tr><tr><td>Torgersen</td><td>34.1</td><td>18.1</td><td>193</td><td>3475</td><td>0</td></tr><tr><td>Torgersen</td><td>42</td><td>20.2</td><td>190</td><td>4250</td><td>0</td></tr><tr><td>Torgersen</td><td>37.8</td><td>17.1</td><td>186</td><td>3300</td><td>0</td></tr></tbody></table></div>"
      ]
     },
     "metadata": {
      "application/vnd.databricks.v1+output": {
       "addedWidgets": {},
       "aggData": [],
       "aggError": "",
       "aggOverflow": false,
       "aggSchema": [],
       "aggSeriesLimitReached": false,
       "aggType": "",
       "arguments": {},
       "columnCustomDisplayInfos": {},
       "data": [
        [
         "Torgersen",
         "39.1",
         "18.7",
         "181",
         "3750",
         "0"
        ],
        [
         "Torgersen",
         "39.5",
         "17.4",
         "186",
         "3800",
         "0"
        ],
        [
         "Torgersen",
         "40.3",
         "18",
         "195",
         "3250",
         "0"
        ],
        [
         "Torgersen",
         "36.7",
         "19.3",
         "193",
         "3450",
         "0"
        ],
        [
         "Torgersen",
         "39.3",
         "20.6",
         "190",
         "3650",
         "0"
        ],
        [
         "Torgersen",
         "38.9",
         "17.8",
         "181",
         "3625",
         "0"
        ],
        [
         "Torgersen",
         "39.2",
         "19.6",
         "195",
         "4675",
         "0"
        ],
        [
         "Torgersen",
         "34.1",
         "18.1",
         "193",
         "3475",
         "0"
        ],
        [
         "Torgersen",
         "42",
         "20.2",
         "190",
         "4250",
         "0"
        ],
        [
         "Torgersen",
         "37.8",
         "17.1",
         "186",
         "3300",
         "0"
        ]
       ],
       "datasetInfos": [],
       "dbfsResultPath": null,
       "isJsonSchema": true,
       "metadata": {},
       "overflow": false,
       "plotOptions": {
        "customPlotOptions": {},
        "displayType": "table",
        "pivotAggregation": null,
        "pivotColumns": null,
        "xColumns": null,
        "yColumns": null
       },
       "removedWidgets": [],
       "schema": [
        {
         "metadata": "{}",
         "name": "Island",
         "type": "\"string\""
        },
        {
         "metadata": "{}",
         "name": "CulmenLength",
         "type": "\"string\""
        },
        {
         "metadata": "{}",
         "name": "CulmenDepth",
         "type": "\"string\""
        },
        {
         "metadata": "{}",
         "name": "FlipperLength",
         "type": "\"string\""
        },
        {
         "metadata": "{}",
         "name": "BodyMass",
         "type": "\"string\""
        },
        {
         "metadata": "{}",
         "name": "Species",
         "type": "\"string\""
        }
       ],
       "type": "table"
      }
     },
     "output_type": "display_data"
    }
   ],
   "source": [
    "display(df.limit(10))"
   ]
  },
  {
   "cell_type": "code",
   "execution_count": 0,
   "metadata": {
    "application/vnd.databricks.v1+cell": {
     "cellMetadata": {
      "byteLimit": 2048000,
      "rowLimit": 10000
     },
     "inputWidgets": {},
     "nuid": "3af27465-d2a2-4d33-b6a1-cc84da45a705",
     "showTitle": false,
     "title": ""
    }
   },
   "outputs": [],
   "source": [
    "#  Encode the Island with a simple integer index\n",
    "# Scale FlipperLength and BodyMass so they're on a similar scale to the bill measurements\n",
    "\n",
    "islands = df.select(collect_set(\"Island\").alias('Islands')).first()['Islands']\n",
    "island_indexes = [(islands[i], i) for i in range(0, len(islands))]"
   ]
  },
  {
   "cell_type": "code",
   "execution_count": 0,
   "metadata": {
    "application/vnd.databricks.v1+cell": {
     "cellMetadata": {
      "byteLimit": 2048000,
      "rowLimit": 10000
     },
     "inputWidgets": {},
     "nuid": "7571bf24-9893-450f-a6f1-3932763fa4f9",
     "showTitle": false,
     "title": ""
    }
   },
   "outputs": [
    {
     "output_type": "display_data",
     "data": {
      "text/plain": [
       "Row(Islands=['Dream', 'Torgersen', 'Biscoe'])"
      ]
     },
     "metadata": {},
     "output_type": "display_data"
    }
   ],
   "source": [
    "display(df.select(collect_set(\"Island\").alias('Islands')).first())"
   ]
  },
  {
   "cell_type": "code",
   "execution_count": 0,
   "metadata": {
    "application/vnd.databricks.v1+cell": {
     "cellMetadata": {
      "byteLimit": 2048000,
      "rowLimit": 10000
     },
     "inputWidgets": {},
     "nuid": "4cde2580-b411-4b71-be6e-20c8c57686d1",
     "showTitle": false,
     "title": ""
    }
   },
   "outputs": [
    {
     "output_type": "execute_result",
     "data": {
      "text/plain": [
       "['Dream', 'Torgersen', 'Biscoe']"
      ]
     },
     "execution_count": 11,
     "metadata": {},
     "output_type": "execute_result"
    }
   ],
   "source": [
    "islands"
   ]
  },
  {
   "cell_type": "code",
   "execution_count": 0,
   "metadata": {
    "application/vnd.databricks.v1+cell": {
     "cellMetadata": {
      "byteLimit": 2048000,
      "rowLimit": 10000
     },
     "inputWidgets": {},
     "nuid": "3fab0c89-9ffa-47fe-821d-58ed39a87f5e",
     "showTitle": false,
     "title": ""
    }
   },
   "outputs": [
    {
     "output_type": "execute_result",
     "data": {
      "text/plain": [
       "[('Dream', 0), ('Torgersen', 1), ('Biscoe', 2)]"
      ]
     },
     "execution_count": 10,
     "metadata": {},
     "output_type": "execute_result"
    }
   ],
   "source": [
    "island_indexes[:5]"
   ]
  },
  {
   "cell_type": "code",
   "execution_count": 0,
   "metadata": {
    "application/vnd.databricks.v1+cell": {
     "cellMetadata": {
      "byteLimit": 2048000,
      "rowLimit": 10000
     },
     "inputWidgets": {},
     "nuid": "bfda5e04-0b8d-4fa6-a718-acbb64612daa",
     "showTitle": false,
     "title": ""
    }
   },
   "outputs": [],
   "source": [
    "df_indexes = spark.createDataFrame(island_indexes).toDF('Island', 'IslandIdx')"
   ]
  },
  {
   "cell_type": "code",
   "execution_count": 0,
   "metadata": {
    "application/vnd.databricks.v1+cell": {
     "cellMetadata": {
      "byteLimit": 2048000,
      "rowLimit": 10000
     },
     "inputWidgets": {},
     "nuid": "2b7c14a7-431b-4301-be92-0c9974a35657",
     "showTitle": false,
     "title": ""
    }
   },
   "outputs": [
    {
     "output_type": "display_data",
     "data": {
      "text/html": [
       "<style scoped>\n",
       "  .table-result-container {\n",
       "    max-height: 300px;\n",
       "    overflow: auto;\n",
       "  }\n",
       "  table, th, td {\n",
       "    border: 1px solid black;\n",
       "    border-collapse: collapse;\n",
       "  }\n",
       "  th, td {\n",
       "    padding: 5px;\n",
       "  }\n",
       "  th {\n",
       "    text-align: left;\n",
       "  }\n",
       "</style><div class='table-result-container'><table class='table-result'><thead style='background-color: white'><tr><th>Island</th><th>IslandIdx</th></tr></thead><tbody><tr><td>Dream</td><td>0</td></tr><tr><td>Torgersen</td><td>1</td></tr><tr><td>Biscoe</td><td>2</td></tr></tbody></table></div>"
      ]
     },
     "metadata": {
      "application/vnd.databricks.v1+output": {
       "addedWidgets": {},
       "aggData": [],
       "aggError": "",
       "aggOverflow": false,
       "aggSchema": [],
       "aggSeriesLimitReached": false,
       "aggType": "",
       "arguments": {},
       "columnCustomDisplayInfos": {},
       "data": [
        [
         "Dream",
         0
        ],
        [
         "Torgersen",
         1
        ],
        [
         "Biscoe",
         2
        ]
       ],
       "datasetInfos": [],
       "dbfsResultPath": null,
       "isJsonSchema": true,
       "metadata": {},
       "overflow": false,
       "plotOptions": {
        "customPlotOptions": {},
        "displayType": "table",
        "pivotAggregation": null,
        "pivotColumns": null,
        "xColumns": null,
        "yColumns": null
       },
       "removedWidgets": [],
       "schema": [
        {
         "metadata": "{}",
         "name": "Island",
         "type": "\"string\""
        },
        {
         "metadata": "{}",
         "name": "IslandIdx",
         "type": "\"long\""
        }
       ],
       "type": "table"
      }
     },
     "output_type": "display_data"
    }
   ],
   "source": [
    "display(input=df_indexes)"
   ]
  },
  {
   "cell_type": "code",
   "execution_count": 0,
   "metadata": {
    "application/vnd.databricks.v1+cell": {
     "cellMetadata": {
      "byteLimit": 2048000,
      "rowLimit": 10000
     },
     "inputWidgets": {},
     "nuid": "bf6eec1c-5a44-4f4f-bac4-b8cdc57b029b",
     "showTitle": false,
     "title": ""
    }
   },
   "outputs": [],
   "source": [
    "\n",
    "data = df.join(other=df_indexes, on=['Island'], how='left').select(col(\"IslandIdx\"),\n",
    "                   col(\"CulmenLength\").astype(\"float\"),\n",
    "                   col(\"CulmenDepth\").astype(\"float\"),\n",
    "                   (col(\"FlipperLength\").astype(\"float\")/10).alias(\"FlipperScaled\"),\n",
    "                    (col(\"BodyMass\").astype(\"float\")/100).alias(\"MassScaled\"),\n",
    "                   col(\"Species\").astype(\"int\")\n",
    "                    )"
   ]
  },
  {
   "cell_type": "code",
   "execution_count": 0,
   "metadata": {
    "application/vnd.databricks.v1+cell": {
     "cellMetadata": {
      "byteLimit": 2048000,
      "rowLimit": 10000
     },
     "inputWidgets": {},
     "nuid": "cae11bcb-497f-43d6-8dee-3173d295226b",
     "showTitle": false,
     "title": ""
    }
   },
   "outputs": [],
   "source": [
    "# Oversample the dataframe to triple its size\n",
    "# (Deep learning techniques like LOTS of data)\n",
    "for i in range(1,3):\n",
    "    data = data.union(other=data)"
   ]
  },
  {
   "cell_type": "code",
   "execution_count": 0,
   "metadata": {
    "application/vnd.databricks.v1+cell": {
     "cellMetadata": {
      "byteLimit": 2048000,
      "rowLimit": 10000
     },
     "inputWidgets": {},
     "nuid": "58c0d1b3-fca6-4ae4-a271-3602fccf0169",
     "showTitle": false,
     "title": ""
    }
   },
   "outputs": [],
   "source": [
    "# Split the data into training and testing datasets   \n",
    "features = ['IslandIdx','CulmenLength','CulmenDepth','FlipperScaled','MassScaled']\n",
    "label = 'Species'"
   ]
  },
  {
   "cell_type": "code",
   "execution_count": 0,
   "metadata": {
    "application/vnd.databricks.v1+cell": {
     "cellMetadata": {
      "byteLimit": 2048000,
      "rowLimit": 10000
     },
     "inputWidgets": {},
     "nuid": "66f83142-d846-4e79-9bd0-acbd73fca8dc",
     "showTitle": false,
     "title": ""
    }
   },
   "outputs": [],
   "source": [
    "x_train, x_test, y_train, y_test = train_test_split(data.toPandas()[features].values,\n",
    "                                                    data.toPandas()[label].values,\n",
    "                                                    test_size=0.30,\n",
    "                                                    random_state=0)"
   ]
  },
  {
   "cell_type": "code",
   "execution_count": 0,
   "metadata": {
    "application/vnd.databricks.v1+cell": {
     "cellMetadata": {
      "byteLimit": 2048000,
      "rowLimit": 10000
     },
     "inputWidgets": {},
     "nuid": "5eeb0dbb-57dc-4281-8d71-5abb88517af9",
     "showTitle": false,
     "title": ""
    }
   },
   "outputs": [
    {
     "output_type": "stream",
     "name": "stdout",
     "output_type": "stream",
     "text": [
      "Training Set:957 rows, Test Set: 411 rows\n"
     ]
    }
   ],
   "source": [
    "print (f'Training Set:{len(x_train)} rows, Test Set: {len(x_test)} rows' )"
   ]
  },
  {
   "cell_type": "code",
   "execution_count": 0,
   "metadata": {
    "application/vnd.databricks.v1+cell": {
     "cellMetadata": {
      "byteLimit": 2048000,
      "rowLimit": 10000
     },
     "inputWidgets": {},
     "nuid": "c537370a-9f1a-4139-b48a-b13ccd384af5",
     "showTitle": false,
     "title": ""
    }
   },
   "outputs": [
    {
     "output_type": "stream",
     "name": "stdout",
     "output_type": "stream",
     "text": [
      "Libraries imported - ready to use PyTorch 2.3.1+cu121\n"
     ]
    }
   ],
   "source": [
    "# Set random seed for reproducability\n",
    "torch.manual_seed(0)\n",
    "   \n",
    "print(\"Libraries imported - ready to use PyTorch\", torch.__version__)"
   ]
  },
  {
   "cell_type": "code",
   "execution_count": 0,
   "metadata": {
    "application/vnd.databricks.v1+cell": {
     "cellMetadata": {
      "byteLimit": 2048000,
      "rowLimit": 10000
     },
     "inputWidgets": {},
     "nuid": "47665303-9a6c-4118-8b00-deaf6c1288c1",
     "showTitle": false,
     "title": ""
    }
   },
   "outputs": [],
   "source": [
    "# Create a dataset and loader for the training data and labels\n",
    "train_x = torch.Tensor(x_train).float()\n",
    "train_y = torch.Tensor(y_train).long()\n",
    "train_ds = td.TensorDataset(train_x,train_y)\n",
    "train_loader = td.DataLoader(train_ds, batch_size=20,\n",
    "    shuffle=False, num_workers=1)"
   ]
  },
  {
   "cell_type": "code",
   "execution_count": 0,
   "metadata": {
    "application/vnd.databricks.v1+cell": {
     "cellMetadata": {
      "byteLimit": 2048000,
      "rowLimit": 10000
     },
     "inputWidgets": {},
     "nuid": "077a9855-3834-43c3-bc46-baf8bc346bf9",
     "showTitle": false,
     "title": ""
    }
   },
   "outputs": [
    {
     "output_type": "stream",
     "name": "stdout",
     "output_type": "stream",
     "text": [
      "Ready to load data\n"
     ]
    }
   ],
   "source": [
    "# Create a dataset and loader for the test data and labels\n",
    "test_x = torch.Tensor(x_test).float()\n",
    "test_y = torch.Tensor(y_test).long()\n",
    "test_ds = td.TensorDataset(test_x,test_y)\n",
    "test_loader = td.DataLoader(test_ds, batch_size=20,\n",
    "                             shuffle=False, num_workers=1)\n",
    "print('Ready to load data')"
   ]
  },
  {
   "cell_type": "code",
   "execution_count": 0,
   "metadata": {
    "application/vnd.databricks.v1+cell": {
     "cellMetadata": {
      "byteLimit": 2048000,
      "rowLimit": 10000
     },
     "inputWidgets": {},
     "nuid": "61c59265-7639-4332-951d-fb7bb9e41d80",
     "showTitle": false,
     "title": ""
    }
   },
   "outputs": [
    {
     "output_type": "stream",
     "name": "stdout",
     "output_type": "stream",
     "text": [
      "PenguinNet(\n  (fc1): Linear(in_features=5, out_features=10, bias=True)\n  (fc2): Linear(in_features=10, out_features=10, bias=True)\n  (fc3): Linear(in_features=10, out_features=3, bias=True)\n)\n"
     ]
    }
   ],
   "source": [
    "# Number of hidden layer nodes\n",
    "hl = 10\n",
    "   \n",
    "# Define the neural network\n",
    "class PenguinNet(nn.Module):\n",
    "    def __init__(self):\n",
    "        super(PenguinNet, self).__init__()\n",
    "        self.fc1 = nn.Linear(len(features), hl)\n",
    "        self.fc2 = nn.Linear(hl, hl)\n",
    "        self.fc3 = nn.Linear(hl, 3)\n",
    "   \n",
    "    def forward(self, x):\n",
    "        fc1_output = torch.relu(self.fc1(x))\n",
    "        fc2_output = torch.relu(self.fc2(fc1_output))\n",
    "        y = F.log_softmax(self.fc3(fc2_output).float(), dim=1)\n",
    "        return y\n",
    "   \n",
    "# Create a model instance from the network\n",
    "model = PenguinNet()\n",
    "print(model)"
   ]
  },
  {
   "cell_type": "code",
   "execution_count": 0,
   "metadata": {
    "application/vnd.databricks.v1+cell": {
     "cellMetadata": {
      "byteLimit": 2048000,
      "rowLimit": 10000
     },
     "inputWidgets": {},
     "nuid": "98b3d754-e4e6-463a-adc6-44fe72a13a14",
     "showTitle": false,
     "title": ""
    }
   },
   "outputs": [],
   "source": [
    "def train(model, data_loader, optimizer):\n",
    "    device = torch.device('cuda' if torch.cuda.is_available() else 'cpu')\n",
    "    model.to(device)\n",
    "    # Set the model to training mode\n",
    "    model.train()\n",
    "    train_loss = 0\n",
    "       \n",
    "    for batch, tensor in enumerate(data_loader):\n",
    "        data, target = tensor\n",
    "        #feedforward\n",
    "        optimizer.zero_grad()\n",
    "        out = model(data)\n",
    "        loss = loss_criteria(out, target)\n",
    "        train_loss += loss.item()\n",
    "   \n",
    "        # backpropagate adjustments to the weights\n",
    "        loss.backward()\n",
    "        optimizer.step()\n",
    "   \n",
    "    #Return average loss\n",
    "    avg_loss = train_loss / (batch+1)\n",
    "    print('Training set: Average loss: {:.6f}'.format(avg_loss))\n",
    "    return avg_loss"
   ]
  },
  {
   "cell_type": "code",
   "execution_count": 0,
   "metadata": {
    "application/vnd.databricks.v1+cell": {
     "cellMetadata": {
      "byteLimit": 2048000,
      "rowLimit": 10000
     },
     "inputWidgets": {},
     "nuid": "31ab6e42-9bc6-4cd3-b827-91c538078464",
     "showTitle": false,
     "title": ""
    }
   },
   "outputs": [],
   "source": [
    "def test(model, data_loader):\n",
    "    device = torch.device('cuda' if torch.cuda.is_available() else 'cpu')\n",
    "    model.to(device)\n",
    "    # Switch the model to evaluation mode (so we don't backpropagate)\n",
    "    model.eval()\n",
    "    test_loss = 0\n",
    "    correct = 0\n",
    "   \n",
    "    with torch.no_grad():\n",
    "        batch_count = 0\n",
    "        for batch, tensor in enumerate(data_loader):\n",
    "            batch_count += 1\n",
    "            data, target = tensor\n",
    "            # Get the predictions\n",
    "            out = model(data)\n",
    "   \n",
    "            # calculate the loss\n",
    "            test_loss += loss_criteria(out, target).item()\n",
    "   \n",
    "            # Calculate the accuracy\n",
    "            _, predicted = torch.max(out.data, 1)\n",
    "            correct += torch.sum(target==predicted).item()\n",
    "               \n",
    "    # Calculate the average loss and total accuracy for this epoch\n",
    "    avg_loss = test_loss/batch_count\n",
    "    print('Validation set: Average loss: {:.6f}, Accuracy: {}/{} ({:.0f}%)\\n'.format(\n",
    "        avg_loss, correct, len(data_loader.dataset),\n",
    "        100. * correct / len(data_loader.dataset)))\n",
    "       \n",
    "    # return average loss for the epoch\n",
    "    return avg_loss"
   ]
  },
  {
   "cell_type": "markdown",
   "metadata": {
    "application/vnd.databricks.v1+cell": {
     "cellMetadata": {},
     "inputWidgets": {},
     "nuid": "31902aba-2de7-49a8-828c-1df1a186a7fe",
     "showTitle": false,
     "title": ""
    }
   },
   "source": [
    "### Train a Model"
   ]
  },
  {
   "cell_type": "code",
   "execution_count": 0,
   "metadata": {
    "application/vnd.databricks.v1+cell": {
     "cellMetadata": {
      "byteLimit": 2048000,
      "rowLimit": 10000
     },
     "inputWidgets": {},
     "nuid": "7e61ce9b-d006-437d-9719-7feb3a68150e",
     "showTitle": false,
     "title": ""
    }
   },
   "outputs": [
    {
     "output_type": "stream",
     "name": "stdout",
     "output_type": "stream",
     "text": [
      "Epoch: 1\nTraining set: Average loss: 0.887707\nValidation set: Average loss: 0.754690, Accuracy: 377/411 (92%)\n\nEpoch: 2\nTraining set: Average loss: 0.662605\nValidation set: Average loss: 0.615731, Accuracy: 375/411 (91%)\n\nEpoch: 3\nTraining set: Average loss: 0.542340\nValidation set: Average loss: 0.503344, Accuracy: 391/411 (95%)\n\nEpoch: 4\nTraining set: Average loss: 0.427001\nValidation set: Average loss: 0.384497, Accuracy: 398/411 (97%)\n\nEpoch: 5\nTraining set: Average loss: 0.316318\nValidation set: Average loss: 0.276599, Accuracy: 401/411 (98%)\n\nEpoch: 6\nTraining set: Average loss: 0.226592\nValidation set: Average loss: 0.198076, Accuracy: 404/411 (98%)\n\nEpoch: 7\nTraining set: Average loss: 0.164717\nValidation set: Average loss: 0.146443, Accuracy: 404/411 (98%)\n\nEpoch: 8\nTraining set: Average loss: 0.125291\nValidation set: Average loss: 0.114000, Accuracy: 407/411 (99%)\n\nEpoch: 9\nTraining set: Average loss: 0.100009\nValidation set: Average loss: 0.092466, Accuracy: 407/411 (99%)\n\nEpoch: 10\nTraining set: Average loss: 0.083066\nValidation set: Average loss: 0.077537, Accuracy: 408/411 (99%)\n\nEpoch: 11\nTraining set: Average loss: 0.071127\nValidation set: Average loss: 0.066702, Accuracy: 408/411 (99%)\n\nEpoch: 12\nTraining set: Average loss: 0.062356\nValidation set: Average loss: 0.058540, Accuracy: 408/411 (99%)\n\nEpoch: 13\nTraining set: Average loss: 0.055661\nValidation set: Average loss: 0.052197, Accuracy: 408/411 (99%)\n\nEpoch: 14\nTraining set: Average loss: 0.050394\nValidation set: Average loss: 0.047139, Accuracy: 408/411 (99%)\n\nEpoch: 15\nTraining set: Average loss: 0.046154\nValidation set: Average loss: 0.042994, Accuracy: 408/411 (99%)\n\nEpoch: 16\nTraining set: Average loss: 0.042665\nValidation set: Average loss: 0.039559, Accuracy: 408/411 (99%)\n\nEpoch: 17\nTraining set: Average loss: 0.039745\nValidation set: Average loss: 0.036661, Accuracy: 408/411 (99%)\n\nEpoch: 18\nTraining set: Average loss: 0.037263\nValidation set: Average loss: 0.034178, Accuracy: 408/411 (99%)\n\nEpoch: 19\nTraining set: Average loss: 0.035126\nValidation set: Average loss: 0.032028, Accuracy: 408/411 (99%)\n\nEpoch: 20\nTraining set: Average loss: 0.033270\nValidation set: Average loss: 0.030149, Accuracy: 408/411 (99%)\n\nEpoch: 21\nTraining set: Average loss: 0.031644\nValidation set: Average loss: 0.028486, Accuracy: 408/411 (99%)\n\nEpoch: 22\nTraining set: Average loss: 0.030202\nValidation set: Average loss: 0.027002, Accuracy: 408/411 (99%)\n\nEpoch: 23\nTraining set: Average loss: 0.028917\nValidation set: Average loss: 0.025670, Accuracy: 410/411 (100%)\n\nEpoch: 24\nTraining set: Average loss: 0.027761\nValidation set: Average loss: 0.024468, Accuracy: 410/411 (100%)\n\nEpoch: 25\nTraining set: Average loss: 0.026717\nValidation set: Average loss: 0.023406, Accuracy: 410/411 (100%)\n\nEpoch: 26\nTraining set: Average loss: 0.025775\nValidation set: Average loss: 0.022396, Accuracy: 410/411 (100%)\n\nEpoch: 27\nTraining set: Average loss: 0.024920\nValidation set: Average loss: 0.021471, Accuracy: 410/411 (100%)\n\nEpoch: 28\nTraining set: Average loss: 0.024133\nValidation set: Average loss: 0.020620, Accuracy: 410/411 (100%)\n\nEpoch: 29\nTraining set: Average loss: 0.023408\nValidation set: Average loss: 0.019837, Accuracy: 410/411 (100%)\n\nEpoch: 30\nTraining set: Average loss: 0.022740\nValidation set: Average loss: 0.019112, Accuracy: 410/411 (100%)\n\nEpoch: 31\nTraining set: Average loss: 0.022122\nValidation set: Average loss: 0.018440, Accuracy: 410/411 (100%)\n\nEpoch: 32\nTraining set: Average loss: 0.021548\nValidation set: Average loss: 0.017815, Accuracy: 410/411 (100%)\n\nEpoch: 33\nTraining set: Average loss: 0.021012\nValidation set: Average loss: 0.017232, Accuracy: 410/411 (100%)\n\nEpoch: 34\nTraining set: Average loss: 0.020508\nValidation set: Average loss: 0.016688, Accuracy: 410/411 (100%)\n\nEpoch: 35\nTraining set: Average loss: 0.020041\nValidation set: Average loss: 0.016178, Accuracy: 410/411 (100%)\n\nEpoch: 36\nTraining set: Average loss: 0.019602\nValidation set: Average loss: 0.015699, Accuracy: 410/411 (100%)\n\nEpoch: 37\nTraining set: Average loss: 0.019193\nValidation set: Average loss: 0.015249, Accuracy: 410/411 (100%)\n\nEpoch: 38\nTraining set: Average loss: 0.018805\nValidation set: Average loss: 0.014823, Accuracy: 410/411 (100%)\n\nEpoch: 39\nTraining set: Average loss: 0.018437\nValidation set: Average loss: 0.014422, Accuracy: 410/411 (100%)\n\nEpoch: 40\nTraining set: Average loss: 0.018088\nValidation set: Average loss: 0.014044, Accuracy: 410/411 (100%)\n\nEpoch: 41\nTraining set: Average loss: 0.017756\nValidation set: Average loss: 0.013686, Accuracy: 410/411 (100%)\n\nEpoch: 42\nTraining set: Average loss: 0.017441\nValidation set: Average loss: 0.013347, Accuracy: 410/411 (100%)\n\nEpoch: 43\nTraining set: Average loss: 0.017143\nValidation set: Average loss: 0.013025, Accuracy: 410/411 (100%)\n\nEpoch: 44\nTraining set: Average loss: 0.016859\nValidation set: Average loss: 0.012719, Accuracy: 410/411 (100%)\n\nEpoch: 45\nTraining set: Average loss: 0.016591\nValidation set: Average loss: 0.012422, Accuracy: 410/411 (100%)\n\nEpoch: 46\nTraining set: Average loss: 0.016300\nValidation set: Average loss: 0.012146, Accuracy: 410/411 (100%)\n\nEpoch: 47\nTraining set: Average loss: 0.016049\nValidation set: Average loss: 0.011881, Accuracy: 410/411 (100%)\n\nEpoch: 48\nTraining set: Average loss: 0.015815\nValidation set: Average loss: 0.011628, Accuracy: 410/411 (100%)\n\nEpoch: 49\nTraining set: Average loss: 0.015589\nValidation set: Average loss: 0.011386, Accuracy: 410/411 (100%)\n\nEpoch: 50\nTraining set: Average loss: 0.015373\nValidation set: Average loss: 0.011155, Accuracy: 410/411 (100%)\n\nEpoch: 51\nTraining set: Average loss: 0.015164\nValidation set: Average loss: 0.010933, Accuracy: 410/411 (100%)\n\nEpoch: 52\nTraining set: Average loss: 0.014978\nValidation set: Average loss: 0.010714, Accuracy: 410/411 (100%)\n\nEpoch: 53\nTraining set: Average loss: 0.014769\nValidation set: Average loss: 0.010517, Accuracy: 410/411 (100%)\n\nEpoch: 54\nTraining set: Average loss: 0.014582\nValidation set: Average loss: 0.010321, Accuracy: 410/411 (100%)\n\nEpoch: 55\nTraining set: Average loss: 0.014419\nValidation set: Average loss: 0.010128, Accuracy: 410/411 (100%)\n\nEpoch: 56\nTraining set: Average loss: 0.014243\nValidation set: Average loss: 0.009947, Accuracy: 410/411 (100%)\n\nEpoch: 57\nTraining set: Average loss: 0.014059\nValidation set: Average loss: 0.009779, Accuracy: 410/411 (100%)\n\nEpoch: 58\nTraining set: Average loss: 0.013901\nValidation set: Average loss: 0.009610, Accuracy: 410/411 (100%)\n\nEpoch: 59\nTraining set: Average loss: 0.013760\nValidation set: Average loss: 0.009444, Accuracy: 410/411 (100%)\n\nEpoch: 60\nTraining set: Average loss: 0.013606\nValidation set: Average loss: 0.009288, Accuracy: 410/411 (100%)\n\nEpoch: 61\nTraining set: Average loss: 0.013455\nValidation set: Average loss: 0.009137, Accuracy: 410/411 (100%)\n\nEpoch: 62\nTraining set: Average loss: 0.013312\nValidation set: Average loss: 0.008991, Accuracy: 410/411 (100%)\n\nEpoch: 63\nTraining set: Average loss: 0.013172\nValidation set: Average loss: 0.008851, Accuracy: 410/411 (100%)\n\nEpoch: 64\nTraining set: Average loss: 0.013036\nValidation set: Average loss: 0.008715, Accuracy: 411/411 (100%)\n\nEpoch: 65\nTraining set: Average loss: 0.012903\nValidation set: Average loss: 0.008583, Accuracy: 411/411 (100%)\n\nEpoch: 66\nTraining set: Average loss: 0.012774\nValidation set: Average loss: 0.008456, Accuracy: 411/411 (100%)\n\nEpoch: 67\nTraining set: Average loss: 0.012648\nValidation set: Average loss: 0.008332, Accuracy: 411/411 (100%)\n\nEpoch: 68\nTraining set: Average loss: 0.012524\nValidation set: Average loss: 0.008213, Accuracy: 411/411 (100%)\n\nEpoch: 69\nTraining set: Average loss: 0.012404\nValidation set: Average loss: 0.008096, Accuracy: 411/411 (100%)\n\nEpoch: 70\nTraining set: Average loss: 0.012288\nValidation set: Average loss: 0.007983, Accuracy: 411/411 (100%)\n\nEpoch: 71\nTraining set: Average loss: 0.012180\nValidation set: Average loss: 0.007873, Accuracy: 411/411 (100%)\n\nEpoch: 72\nTraining set: Average loss: 0.012070\nValidation set: Average loss: 0.007766, Accuracy: 411/411 (100%)\n\nEpoch: 73\nTraining set: Average loss: 0.011960\nValidation set: Average loss: 0.007663, Accuracy: 411/411 (100%)\n\nEpoch: 74\nTraining set: Average loss: 0.011854\nValidation set: Average loss: 0.007562, Accuracy: 411/411 (100%)\n\nEpoch: 75\nTraining set: Average loss: 0.011749\nValidation set: Average loss: 0.007464, Accuracy: 411/411 (100%)\n\nEpoch: 76\nTraining set: Average loss: 0.011648\nValidation set: Average loss: 0.007369, Accuracy: 411/411 (100%)\n\nEpoch: 77\nTraining set: Average loss: 0.011547\nValidation set: Average loss: 0.007277, Accuracy: 411/411 (100%)\n\nEpoch: 78\nTraining set: Average loss: 0.011450\nValidation set: Average loss: 0.007186, Accuracy: 411/411 (100%)\n\nEpoch: 79\nTraining set: Average loss: 0.011354\nValidation set: Average loss: 0.007100, Accuracy: 411/411 (100%)\n\nEpoch: 80\nTraining set: Average loss: 0.011260\nValidation set: Average loss: 0.007016, Accuracy: 411/411 (100%)\n\nEpoch: 81\nTraining set: Average loss: 0.011168\nValidation set: Average loss: 0.006934, Accuracy: 411/411 (100%)\n\nEpoch: 82\nTraining set: Average loss: 0.011078\nValidation set: Average loss: 0.006854, Accuracy: 411/411 (100%)\n\nEpoch: 83\nTraining set: Average loss: 0.010990\nValidation set: Average loss: 0.006776, Accuracy: 411/411 (100%)\n\nEpoch: 84\nTraining set: Average loss: 0.010903\nValidation set: Average loss: 0.006700, Accuracy: 411/411 (100%)\n\nEpoch: 85\nTraining set: Average loss: 0.010818\nValidation set: Average loss: 0.006626, Accuracy: 411/411 (100%)\n\nEpoch: 86\nTraining set: Average loss: 0.010735\nValidation set: Average loss: 0.006553, Accuracy: 411/411 (100%)\n\nEpoch: 87\nTraining set: Average loss: 0.010696\nValidation set: Average loss: 0.006468, Accuracy: 411/411 (100%)\n\nEpoch: 88\nTraining set: Average loss: 0.010566\nValidation set: Average loss: 0.006412, Accuracy: 411/411 (100%)\n\nEpoch: 89\nTraining set: Average loss: 0.010485\nValidation set: Average loss: 0.006341, Accuracy: 411/411 (100%)\n\nEpoch: 90\nTraining set: Average loss: 0.010452\nValidation set: Average loss: 0.006269, Accuracy: 411/411 (100%)\n\nEpoch: 91\nTraining set: Average loss: 0.010379\nValidation set: Average loss: 0.006201, Accuracy: 411/411 (100%)\n\nEpoch: 92\nTraining set: Average loss: 0.010321\nValidation set: Average loss: 0.006127, Accuracy: 411/411 (100%)\n\nEpoch: 93\nTraining set: Average loss: 0.010193\nValidation set: Average loss: 0.006078, Accuracy: 411/411 (100%)\n\nEpoch: 94\nTraining set: Average loss: 0.010140\nValidation set: Average loss: 0.006009, Accuracy: 411/411 (100%)\n\nEpoch: 95\nTraining set: Average loss: 0.010092\nValidation set: Average loss: 0.005947, Accuracy: 411/411 (100%)\n\nEpoch: 96\nTraining set: Average loss: 0.010019\nValidation set: Average loss: 0.005886, Accuracy: 411/411 (100%)\n\nEpoch: 97\nTraining set: Average loss: 0.009950\nValidation set: Average loss: 0.005827, Accuracy: 411/411 (100%)\n\nEpoch: 98\nTraining set: Average loss: 0.009922\nValidation set: Average loss: 0.005758, Accuracy: 411/411 (100%)\n\nEpoch: 99\nTraining set: Average loss: 0.009830\nValidation set: Average loss: 0.005702, Accuracy: 411/411 (100%)\n\nEpoch: 100\nTraining set: Average loss: 0.009711\nValidation set: Average loss: 0.005660, Accuracy: 411/411 (100%)\n\n"
     ]
    }
   ],
   "source": [
    "loss_criteria = nn.CrossEntropyLoss()\n",
    "   \n",
    "# Use an optimizer to adjust weights and reduce loss\n",
    "learning_rate = 0.001\n",
    "optimizer = torch.optim.Adam(model.parameters(), lr=learning_rate)\n",
    "optimizer.zero_grad()\n",
    "   \n",
    "# We'll track metrics for each epoch in these arrays\n",
    "epoch_nums = []\n",
    "training_loss = []\n",
    "validation_loss = []\n",
    "   \n",
    "# Train over 100 epochs\n",
    "epochs = 100\n",
    "for epoch in range(1, epochs + 1):\n",
    "   \n",
    "    # print the epoch number\n",
    "    print('Epoch: {}'.format(epoch))\n",
    "       \n",
    "    # Feed training data into the model\n",
    "    train_loss = train(model=model,data_loader=train_loader, optimizer=optimizer)\n",
    "       \n",
    "    # Feed the test data into the model to check its performance\n",
    "    test_loss = test(model, test_loader)\n",
    "       \n",
    "    # Log the metrics for this epoch\n",
    "    epoch_nums.append(epoch)\n",
    "    training_loss.append(train_loss)\n",
    "    validation_loss.append(test_loss)"
   ]
  },
  {
   "cell_type": "code",
   "execution_count": 0,
   "metadata": {
    "application/vnd.databricks.v1+cell": {
     "cellMetadata": {
      "byteLimit": 2048000,
      "rowLimit": 10000
     },
     "inputWidgets": {},
     "nuid": "9746b600-e9b2-45cb-bc08-953f46dd5408",
     "showTitle": false,
     "title": ""
    }
   },
   "outputs": [
    {
     "output_type": "display_data",
     "data": {
      "image/png": "[encoded data removed]",
      "text/plain": [
       "<Figure size 640x480 with 1 Axes>"
      ]
     },
     "metadata": {},
     "output_type": "display_data"
    }
   ],
   "source": [
    "%matplotlib inline\n",
    "from matplotlib import pyplot as plt\n",
    "   \n",
    "plt.plot(epoch_nums, training_loss)\n",
    "plt.plot(epoch_nums, validation_loss)\n",
    "plt.xlabel('epoch')\n",
    "plt.ylabel('loss')\n",
    "plt.legend(['training', 'validation'], loc='upper right')\n",
    "plt.show()"
   ]
  },
  {
   "cell_type": "markdown",
   "metadata": {
    "application/vnd.databricks.v1+cell": {
     "cellMetadata": {},
     "inputWidgets": {},
     "nuid": "8e347b66-4da8-494f-886f-49c9a8a0e8be",
     "showTitle": false,
     "title": ""
    }
   },
   "source": [
    "### View the Layers in your trained model"
   ]
  },
  {
   "cell_type": "code",
   "execution_count": 0,
   "metadata": {
    "application/vnd.databricks.v1+cell": {
     "cellMetadata": {
      "byteLimit": 2048000,
      "rowLimit": 10000
     },
     "inputWidgets": {},
     "nuid": "a508476b-7b2e-4ee6-8a1f-d36faa230e3d",
     "showTitle": false,
     "title": ""
    }
   },
   "outputs": [
    {
     "output_type": "stream",
     "name": "stdout",
     "output_type": "stream",
     "text": [
      "fc1.weight \n [[-3.3482078e-03  2.3990487e-01 -3.6807698e-01 -3.2912195e-01\n  -1.7224626e-01]\n [ 9.9546760e-01  1.1457048e-03  4.6966529e-01  7.3087320e-02\n   1.9045591e-01]\n [-1.3515380e-01 -8.7906711e-02 -4.2724484e-01 -2.9618156e-01\n  -1.8435177e-01]\n [-8.6313272e-01  2.6503438e-01  5.4300922e-01 -2.8390503e-01\n  -2.5644311e-01]\n [ 1.1806307e-01  4.6692654e-01 -3.1099689e-01  3.3069286e-01\n   7.5755805e-02]\n [-6.0333019e-01  4.8318246e-01 -5.8499438e-01 -3.0871457e-01\n  -1.1692504e-02]\n [-1.6575671e+00  5.0069135e-01 -2.6158339e-01 -2.0566694e-01\n  -2.7179289e-01]\n [-2.6633182e-01 -3.4475163e-01  6.5402365e-01  2.2123264e-01\n   5.3835653e-02]\n [ 2.3519661e-02 -2.2927903e-01  7.5661689e-02 -4.1756096e-01\n  -3.2314146e-01]\n [-7.7208400e-01  2.1143708e-01  5.8662879e-01 -2.6205343e-01\n  -2.2813219e-01]]\nfc1.bias \n [ 0.28602025  0.66315234  0.1774911   0.14558347  0.09574614 -0.46974316\n -0.02497782 -0.10033753 -0.30995753 -0.07068671]\nfc2.weight \n [[ 0.14308454  0.20768934 -0.18731831  0.88088906  0.14586598 -0.48789158\n   0.27335155  0.45406103  0.1961803   0.6524486 ]\n [-0.24369256 -0.19182247  0.12428064  0.04326943  0.3294199   0.9070307\n   0.6193762  -0.71283686  0.02909058 -0.28729254]\n [-0.29470977  0.42544165  0.24044687 -0.71052355  0.17660111 -0.12995647\n  -0.52155864 -0.1253295   0.12160734 -0.35273838]\n [ 0.11592636  0.15991893  0.22637847  0.11824109 -0.31298175 -0.20513597\n   0.15789728  0.0661869  -0.24668422 -0.1820901 ]\n [ 0.29749104  0.21307991 -0.13788326 -0.07958972 -0.30123797 -0.00568392\n  -0.23813814 -0.24392441 -0.01742402  0.04748004]\n [-0.12950484  0.2757846  -0.19243696  0.30872655  0.19086659 -0.8080225\n  -0.6321081   0.381171    0.04613797  0.09698939]\n [ 0.12409671  0.0189421  -0.15429662  0.1496355  -0.30334112 -0.1874303\n  -0.07916125 -0.15403877 -0.11062703 -0.25918713]\n [-0.06726643 -0.01604483 -0.20601156 -0.15601031  0.26089665  0.490804\n   0.5585587  -0.37355754  0.06399861  0.16389933]\n [ 0.29954556  0.20082231  0.30023092 -0.02287011 -0.2840742  -0.14991638\n   0.21532114 -0.00204994 -0.15717986 -0.24232906]\n [-0.2959424  -0.28368628 -0.06414261  0.15664198  0.15417263 -0.32175684\n   0.18047799 -0.26389804 -0.0668538  -0.14500278]]\nfc2.bias \n [ 0.12202142 -0.27034432 -0.11143112 -0.27304304 -0.04948315  0.19890563\n -0.14365433 -0.07424504 -0.28462344 -0.03798475]\nfc3.weight \n [[ 0.4553535  -0.70178753 -0.02244362  0.11452308 -0.2853832   0.44728303\n  -0.03649094 -0.28498113  0.2528726  -0.27131253]\n [-0.28663     0.2918766   0.7182265   0.08827325  0.15194914 -0.07057807\n  -0.07604478 -0.03316784 -0.26059744  0.15509199]\n [ 0.31560543  0.6245175  -0.7252612   0.01410372 -0.22291975 -0.33366448\n  -0.18426766  0.24421692 -0.18844429  0.00953647]]\nfc3.bias \n [ 0.16463004  0.11846083 -0.3649452 ]\n"
     ]
    }
   ],
   "source": [
    "for paramTensor in model.state_dict():\n",
    "  print(paramTensor,\"\\n\",model.state_dict()[paramTensor].numpy())"
   ]
  },
  {
   "cell_type": "markdown",
   "metadata": {
    "application/vnd.databricks.v1+cell": {
     "cellMetadata": {},
     "inputWidgets": {},
     "nuid": "d050a980-a7b7-4d57-ab39-5135dab590c3",
     "showTitle": false,
     "title": ""
    }
   },
   "source": [
    "### Save the Model"
   ]
  },
  {
   "cell_type": "code",
   "execution_count": 0,
   "metadata": {
    "application/vnd.databricks.v1+cell": {
     "cellMetadata": {
      "byteLimit": 2048000,
      "rowLimit": 10000
     },
     "inputWidgets": {},
     "nuid": "8c417b9d-2859-467f-b544-506e19ce49d9",
     "showTitle": false,
     "title": ""
    }
   },
   "outputs": [],
   "source": [
    "model_file = '/dbfs/penguin_classifier.pt'\n",
    "torch.save(obj=model.state_dict(),f=model_file)"
   ]
  },
  {
   "cell_type": "code",
   "execution_count": 0,
   "metadata": {
    "application/vnd.databricks.v1+cell": {
     "cellMetadata": {
      "byteLimit": 2048000,
      "rowLimit": 10000
     },
     "inputWidgets": {},
     "nuid": "f4f8a590-ef16-4814-ab2e-0dccd203fcf3",
     "showTitle": false,
     "title": ""
    }
   },
   "outputs": [],
   "source": [
    "del model"
   ]
  },
  {
   "cell_type": "code",
   "execution_count": 0,
   "metadata": {
    "application/vnd.databricks.v1+cell": {
     "cellMetadata": {
      "byteLimit": 2048000,
      "rowLimit": 10000
     },
     "inputWidgets": {},
     "nuid": "2a504271-ea14-40a3-bce7-00922fb75d80",
     "showTitle": false,
     "title": ""
    }
   },
   "outputs": [
    {
     "output_type": "execute_result",
     "data": {
      "text/plain": [
       "[FileInfo(path='dbfs:/Volume/', name='Volume/', size=0, modificationTime=0),\n",
       " FileInfo(path='dbfs:/Volumes/', name='Volumes/', size=0, modificationTime=0),\n",
       " FileInfo(path='dbfs:/databricks-datasets/', name='databricks-datasets/', size=0, modificationTime=0),\n",
       " FileInfo(path='dbfs:/databricks-results/', name='databricks-results/', size=0, modificationTime=0),\n",
       " FileInfo(path='dbfs:/deepml_lab/', name='deepml_lab/', size=0, modificationTime=1719801232000),\n",
       " FileInfo(path='dbfs:/penguin_classifier.pt', name='penguin_classifier.pt', size=3382, modificationTime=1719803080000),\n",
       " FileInfo(path='dbfs:/volume/', name='volume/', size=0, modificationTime=0),\n",
       " FileInfo(path='dbfs:/volumes/', name='volumes/', size=0, modificationTime=0)]"
      ]
     },
     "execution_count": 40,
     "metadata": {},
     "output_type": "execute_result"
    }
   ],
   "source": [
    "dbutils.fs.ls(\"dbfs:/\")"
   ]
  },
  {
   "cell_type": "markdown",
   "metadata": {
    "application/vnd.databricks.v1+cell": {
     "cellMetadata": {},
     "inputWidgets": {},
     "nuid": "1aa11e3d-f748-4306-8b24-9f210261baf3",
     "showTitle": false,
     "title": ""
    }
   },
   "source": [
    "### Load Model Weights and predict"
   ]
  },
  {
   "cell_type": "code",
   "execution_count": 0,
   "metadata": {
    "application/vnd.databricks.v1+cell": {
     "cellMetadata": {
      "byteLimit": 2048000,
      "rowLimit": 10000
     },
     "inputWidgets": {},
     "nuid": "b705f4bb-3b93-404b-936c-ed99336e160c",
     "showTitle": false,
     "title": ""
    }
   },
   "outputs": [
    {
     "output_type": "stream",
     "name": "stdout",
     "output_type": "stream",
     "text": [
      "New sample: [[1, 50.4, 15.3, 20, 50]]\n"
     ]
    },
    {
     "output_type": "execute_result",
     "data": {
      "text/plain": [
       "<All keys matched successfully>"
      ]
     },
     "execution_count": 41,
     "metadata": {},
     "output_type": "execute_result"
    }
   ],
   "source": [
    "# New penguin features\n",
    "x_new = [[1, 50.4,15.3,20,50]]\n",
    "print ('New sample: {}'.format(x_new))\n",
    "   \n",
    "# Create a new model class and load weights\n",
    "model = PenguinNet()\n",
    "model.load_state_dict(torch.load(model_file))"
   ]
  },
  {
   "cell_type": "code",
   "execution_count": 0,
   "metadata": {
    "application/vnd.databricks.v1+cell": {
     "cellMetadata": {
      "byteLimit": 2048000,
      "rowLimit": 10000
     },
     "inputWidgets": {},
     "nuid": "419e0c96-19df-412e-979b-635f86b4ec88",
     "showTitle": false,
     "title": ""
    }
   },
   "outputs": [
    {
     "output_type": "execute_result",
     "data": {
      "text/plain": [
       "PenguinNet(\n",
       "  (fc1): Linear(in_features=5, out_features=10, bias=True)\n",
       "  (fc2): Linear(in_features=10, out_features=10, bias=True)\n",
       "  (fc3): Linear(in_features=10, out_features=3, bias=True)\n",
       ")"
      ]
     },
     "execution_count": 42,
     "metadata": {},
     "output_type": "execute_result"
    }
   ],
   "source": [
    "# Set model to evaluation mode\n",
    "model.eval()"
   ]
  },
  {
   "cell_type": "code",
   "execution_count": 0,
   "metadata": {
    "application/vnd.databricks.v1+cell": {
     "cellMetadata": {
      "byteLimit": 2048000,
      "rowLimit": 10000
     },
     "inputWidgets": {},
     "nuid": "5b980826-4693-47b5-86f9-4bc91f34dfd7",
     "showTitle": false,
     "title": ""
    }
   },
   "outputs": [],
   "source": [
    "# Get a prediction for the new data sample\n",
    "x = torch.Tensor(x_new).float()"
   ]
  },
  {
   "cell_type": "code",
   "execution_count": 0,
   "metadata": {
    "application/vnd.databricks.v1+cell": {
     "cellMetadata": {
      "byteLimit": 2048000,
      "rowLimit": 10000
     },
     "inputWidgets": {},
     "nuid": "0e08567a-d363-4a10-816d-a450cff17402",
     "showTitle": false,
     "title": ""
    }
   },
   "outputs": [
    {
     "output_type": "execute_result",
     "data": {
      "text/plain": [
       "tensor([[-13.6867,  -0.1422,  -2.0208]])"
      ]
     },
     "execution_count": 48,
     "metadata": {},
     "output_type": "execute_result"
    }
   ],
   "source": [
    "model(x).data"
   ]
  },
  {
   "cell_type": "code",
   "execution_count": 0,
   "metadata": {
    "application/vnd.databricks.v1+cell": {
     "cellMetadata": {
      "byteLimit": 2048000,
      "rowLimit": 10000
     },
     "inputWidgets": {},
     "nuid": "4016c12b-32e4-48cd-91d7-4c0771b4479a",
     "showTitle": false,
     "title": ""
    }
   },
   "outputs": [
    {
     "output_type": "execute_result",
     "data": {
      "text/plain": [
       "torch.return_types.max(\n",
       "values=tensor([-0.1422]),\n",
       "indices=tensor([1]))"
      ]
     },
     "execution_count": 55,
     "metadata": {},
     "output_type": "execute_result"
    }
   ],
   "source": [
    "# Just like argmax\n",
    "torch.max(model(x).data, 1)"
   ]
  },
  {
   "cell_type": "code",
   "execution_count": 0,
   "metadata": {
    "application/vnd.databricks.v1+cell": {
     "cellMetadata": {
      "byteLimit": 2048000,
      "rowLimit": 10000
     },
     "inputWidgets": {},
     "nuid": "fb7bc0e6-ff68-4624-a5d8-0dee124e50d1",
     "showTitle": false,
     "title": ""
    }
   },
   "outputs": [],
   "source": [
    "_,predicted=torch.max(model(x).data, 1)"
   ]
  },
  {
   "cell_type": "code",
   "execution_count": 0,
   "metadata": {
    "application/vnd.databricks.v1+cell": {
     "cellMetadata": {
      "byteLimit": 2048000,
      "rowLimit": 10000
     },
     "inputWidgets": {},
     "nuid": "9e966281-8d0a-43af-96df-3f220020f313",
     "showTitle": false,
     "title": ""
    }
   },
   "outputs": [
    {
     "output_type": "execute_result",
     "data": {
      "text/plain": [
       "tensor([1])"
      ]
     },
     "execution_count": 57,
     "metadata": {},
     "output_type": "execute_result"
    }
   ],
   "source": [
    "predicted"
   ]
  },
  {
   "cell_type": "code",
   "execution_count": 0,
   "metadata": {
    "application/vnd.databricks.v1+cell": {
     "cellMetadata": {
      "byteLimit": 2048000,
      "rowLimit": 10000
     },
     "inputWidgets": {},
     "nuid": "d59c6bd1-12de-4bc5-8c55-a9833e88c4e5",
     "showTitle": false,
     "title": ""
    }
   },
   "outputs": [
    {
     "output_type": "execute_result",
     "data": {
      "text/plain": [
       "1"
      ]
     },
     "execution_count": 58,
     "metadata": {},
     "output_type": "execute_result"
    }
   ],
   "source": [
    "predicted.item()"
   ]
  },
  {
   "cell_type": "markdown",
   "metadata": {
    "application/vnd.databricks.v1+cell": {
     "cellMetadata": {},
     "inputWidgets": {},
     "nuid": "47a0b4a7-fa96-4cc3-8e38-ae782204537d",
     "showTitle": false,
     "title": ""
    }
   },
   "source": [
    "### Horovod not included"
   ]
  },
  {
   "cell_type": "code",
   "execution_count": 0,
   "metadata": {
    "application/vnd.databricks.v1+cell": {
     "cellMetadata": {},
     "inputWidgets": {},
     "nuid": "bb9077b7-a859-4097-ab72-818513026dff",
     "showTitle": false,
     "title": ""
    }
   },
   "outputs": [],
   "source": []
  }
 ],
 "metadata": {
  "application/vnd.databricks.v1+notebook": {
   "dashboards": [],
   "environmentMetadata": null,
   "language": "python",
   "notebookMetadata": {
    "mostRecentlyExecutedCommandWithImplicitDF": {
     "commandId": 2719596035156920,
     "dataframes": [
      "_sqldf"
     ]
    },
    "pythonIndentUnit": 4
   },
   "notebookName": "7_Train_deep_learning_models_in_Azure_Databricks",
   "widgets": {}
  }
 },
 "nbformat": 4,
 "nbformat_minor": 0
}
