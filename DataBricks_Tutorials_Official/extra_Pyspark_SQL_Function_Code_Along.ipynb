{
 "cells": [
  {
   "cell_type": "code",
   "execution_count": 0,
   "metadata": {
    "application/vnd.databricks.v1+cell": {
     "cellMetadata": {},
     "inputWidgets": {},
     "nuid": "bfc6150c-5b27-40e3-8ddd-4656cf1a102d",
     "showTitle": false,
     "title": ""
    },
    "colab": {},
    "colab_type": "code",
    "id": "JyDSfsqDNyQt"
   },
   "outputs": [],
   "source": [
    "from pyspark.sql import SparkSession"
   ]
  },
  {
   "cell_type": "code",
   "execution_count": 0,
   "metadata": {
    "application/vnd.databricks.v1+cell": {
     "cellMetadata": {},
     "inputWidgets": {},
     "nuid": "ff6ca065-617d-4081-9212-1d5e18012472",
     "showTitle": false,
     "title": ""
    },
    "colab": {},
    "colab_type": "code",
    "id": "dhuoNsl8LNFP"
   },
   "outputs": [],
   "source": [
    "spark = SparkSession.builder.appName(name='Basics').getOrCreate()"
   ]
  },
  {
   "cell_type": "code",
   "execution_count": 0,
   "metadata": {
    "application/vnd.databricks.v1+cell": {
     "cellMetadata": {},
     "inputWidgets": {},
     "nuid": "82822fe4-d764-487d-9726-571d2d533ed2",
     "showTitle": false,
     "title": ""
    }
   },
   "outputs": [],
   "source": [
    "from pyspark.sql.types import *\n",
    "from pyspark.sql.functions import col"
   ]
  },
  {
   "cell_type": "code",
   "execution_count": 0,
   "metadata": {
    "application/vnd.databricks.v1+cell": {
     "cellMetadata": {},
     "inputWidgets": {},
     "nuid": "93b26637-ab7f-4bf0-992e-2ecde25a3a1c",
     "showTitle": false,
     "title": ""
    },
    "colab": {
     "base_uri": "https://localhost:8080/",
     "height": 138
    },
    "colab_type": "code",
    "id": "b2kpZdzhLaxg",
    "outputId": "e76a8301-a9cf-4298-e221-c4be37f5e058"
   },
   "outputs": [
    {
     "output_type": "stream",
     "name": "stdout",
     "output_type": "stream",
     "text": [
      "+------+------+\n|  Name|Gender|\n+------+------+\n|Ritish|     M|\n| Rohit|     F|\n+------+------+\n\n"
     ]
    }
   ],
   "source": [
    "spark.createDataFrame(data = [('Ritish','M'), ('Rohit', 'F')], schema = ['Name', 'Gender']).show()"
   ]
  },
  {
   "cell_type": "code",
   "execution_count": 0,
   "metadata": {
    "application/vnd.databricks.v1+cell": {
     "cellMetadata": {},
     "inputWidgets": {},
     "nuid": "a400d348-9a71-4727-b1a8-ddc1a937e542",
     "showTitle": false,
     "title": ""
    },
    "colab": {},
    "colab_type": "code",
    "id": "wg4e7XYeMecq"
   },
   "outputs": [],
   "source": [
    "df = spark.createDataFrame(data = [('2015-04-08',)], schema = ['dt'])"
   ]
  },
  {
   "cell_type": "code",
   "execution_count": 0,
   "metadata": {
    "application/vnd.databricks.v1+cell": {
     "cellMetadata": {},
     "inputWidgets": {},
     "nuid": "f2ce60fc-31f4-48b7-b53a-a11db509ed41",
     "showTitle": false,
     "title": ""
    },
    "colab": {
     "base_uri": "https://localhost:8080/",
     "height": 121
    },
    "colab_type": "code",
    "id": "Ryab1CnkPnFs",
    "outputId": "9f808fd8-db1a-41ae-d061-453bfc46a0ca"
   },
   "outputs": [
    {
     "output_type": "stream",
     "name": "stdout",
     "output_type": "stream",
     "text": [
      "+----------+\n|        dt|\n+----------+\n|2015-04-08|\n+----------+\n\n"
     ]
    }
   ],
   "source": [
    "df.show()"
   ]
  },
  {
   "cell_type": "code",
   "execution_count": 0,
   "metadata": {
    "application/vnd.databricks.v1+cell": {
     "cellMetadata": {},
     "inputWidgets": {},
     "nuid": "9e2b53e8-db5a-45ac-9397-eaa8fb5c0ad1",
     "showTitle": false,
     "title": ""
    },
    "colab": {},
    "colab_type": "code",
    "id": "3g6KoTwiQMGE"
   },
   "outputs": [],
   "source": [
    "#1. add_months\n",
    "from pyspark.sql.functions import add_months\n",
    "#Returns the date that is months months after start"
   ]
  },
  {
   "cell_type": "code",
   "execution_count": 0,
   "metadata": {
    "application/vnd.databricks.v1+cell": {
     "cellMetadata": {},
     "inputWidgets": {},
     "nuid": "a0b58d80-4de7-44bd-859d-a4715b6cf98b",
     "showTitle": false,
     "title": ""
    },
    "colab": {
     "base_uri": "https://localhost:8080/",
     "height": 121
    },
    "colab_type": "code",
    "id": "8kSrxhBDQDlj",
    "outputId": "7955f3f1-575c-4e58-e3f2-437a3daa12f6"
   },
   "outputs": [
    {
     "output_type": "stream",
     "name": "stdout",
     "output_type": "stream",
     "text": [
      "+-----------------+\n|add_months(dt, 3)|\n+-----------------+\n|       2015-07-08|\n+-----------------+\n\n"
     ]
    }
   ],
   "source": [
    "df.select(add_months(start = df['dt'], months = 3)).show()"
   ]
  },
  {
   "cell_type": "code",
   "execution_count": 0,
   "metadata": {
    "application/vnd.databricks.v1+cell": {
     "cellMetadata": {},
     "inputWidgets": {},
     "nuid": "261f5f43-cbc8-4095-abba-168d468c8106",
     "showTitle": false,
     "title": ""
    },
    "colab": {},
    "colab_type": "code",
    "id": "WU8k11HaQbsb"
   },
   "outputs": [],
   "source": [
    "import seaborn as sns"
   ]
  },
  {
   "cell_type": "code",
   "execution_count": 0,
   "metadata": {
    "application/vnd.databricks.v1+cell": {
     "cellMetadata": {},
     "inputWidgets": {},
     "nuid": "0b772024-83e6-4d67-abb0-87a599f2d6ce",
     "showTitle": false,
     "title": ""
    },
    "colab": {},
    "colab_type": "code",
    "id": "dUOkv15pQ-yS"
   },
   "outputs": [],
   "source": [
    "tips = sns.load_dataset(name= 'tips' )"
   ]
  },
  {
   "cell_type": "code",
   "execution_count": 0,
   "metadata": {
    "application/vnd.databricks.v1+cell": {
     "cellMetadata": {},
     "inputWidgets": {},
     "nuid": "4fd2801b-9010-46c4-a93d-59f532285902",
     "showTitle": false,
     "title": ""
    },
    "colab": {
     "base_uri": "https://localhost:8080/",
     "height": 198
    },
    "colab_type": "code",
    "id": "q3dmzIiqRLRj",
    "outputId": "60fbb667-094c-45b5-920b-173c11e8b1a3"
   },
   "outputs": [
    {
     "output_type": "display_data",
     "data": {
      "text/html": [
       "<div>\n",
       "<style scoped>\n",
       "    .dataframe tbody tr th:only-of-type {\n",
       "        vertical-align: middle;\n",
       "    }\n",
       "\n",
       "    .dataframe tbody tr th {\n",
       "        vertical-align: top;\n",
       "    }\n",
       "\n",
       "    .dataframe thead th {\n",
       "        text-align: right;\n",
       "    }\n",
       "</style>\n",
       "<table border=\"1\" class=\"dataframe\">\n",
       "  <thead>\n",
       "    <tr style=\"text-align: right;\">\n",
       "      <th></th>\n",
       "      <th>total_bill</th>\n",
       "      <th>tip</th>\n",
       "      <th>sex</th>\n",
       "      <th>smoker</th>\n",
       "      <th>day</th>\n",
       "      <th>time</th>\n",
       "      <th>size</th>\n",
       "    </tr>\n",
       "  </thead>\n",
       "  <tbody>\n",
       "    <tr>\n",
       "      <th>0</th>\n",
       "      <td>16.99</td>\n",
       "      <td>1.01</td>\n",
       "      <td>Female</td>\n",
       "      <td>No</td>\n",
       "      <td>Sun</td>\n",
       "      <td>Dinner</td>\n",
       "      <td>2</td>\n",
       "    </tr>\n",
       "    <tr>\n",
       "      <th>1</th>\n",
       "      <td>10.34</td>\n",
       "      <td>1.66</td>\n",
       "      <td>Male</td>\n",
       "      <td>No</td>\n",
       "      <td>Sun</td>\n",
       "      <td>Dinner</td>\n",
       "      <td>3</td>\n",
       "    </tr>\n",
       "    <tr>\n",
       "      <th>2</th>\n",
       "      <td>21.01</td>\n",
       "      <td>3.50</td>\n",
       "      <td>Male</td>\n",
       "      <td>No</td>\n",
       "      <td>Sun</td>\n",
       "      <td>Dinner</td>\n",
       "      <td>3</td>\n",
       "    </tr>\n",
       "    <tr>\n",
       "      <th>3</th>\n",
       "      <td>23.68</td>\n",
       "      <td>3.31</td>\n",
       "      <td>Male</td>\n",
       "      <td>No</td>\n",
       "      <td>Sun</td>\n",
       "      <td>Dinner</td>\n",
       "      <td>2</td>\n",
       "    </tr>\n",
       "    <tr>\n",
       "      <th>4</th>\n",
       "      <td>24.59</td>\n",
       "      <td>3.61</td>\n",
       "      <td>Female</td>\n",
       "      <td>No</td>\n",
       "      <td>Sun</td>\n",
       "      <td>Dinner</td>\n",
       "      <td>4</td>\n",
       "    </tr>\n",
       "  </tbody>\n",
       "</table>\n",
       "</div>"
      ]
     },
     "metadata": {
      "application/vnd.databricks.v1+output": {
       "addedWidgets": {},
       "arguments": {},
       "data": "<div>\n<style scoped>\n    .dataframe tbody tr th:only-of-type {\n        vertical-align: middle;\n    }\n\n    .dataframe tbody tr th {\n        vertical-align: top;\n    }\n\n    .dataframe thead th {\n        text-align: right;\n    }\n</style>\n<table border=\"1\" class=\"dataframe\">\n  <thead>\n    <tr style=\"text-align: right;\">\n      <th></th>\n      <th>total_bill</th>\n      <th>tip</th>\n      <th>sex</th>\n      <th>smoker</th>\n      <th>day</th>\n      <th>time</th>\n      <th>size</th>\n    </tr>\n  </thead>\n  <tbody>\n    <tr>\n      <th>0</th>\n      <td>16.99</td>\n      <td>1.01</td>\n      <td>Female</td>\n      <td>No</td>\n      <td>Sun</td>\n      <td>Dinner</td>\n      <td>2</td>\n    </tr>\n    <tr>\n      <th>1</th>\n      <td>10.34</td>\n      <td>1.66</td>\n      <td>Male</td>\n      <td>No</td>\n      <td>Sun</td>\n      <td>Dinner</td>\n      <td>3</td>\n    </tr>\n    <tr>\n      <th>2</th>\n      <td>21.01</td>\n      <td>3.50</td>\n      <td>Male</td>\n      <td>No</td>\n      <td>Sun</td>\n      <td>Dinner</td>\n      <td>3</td>\n    </tr>\n    <tr>\n      <th>3</th>\n      <td>23.68</td>\n      <td>3.31</td>\n      <td>Male</td>\n      <td>No</td>\n      <td>Sun</td>\n      <td>Dinner</td>\n      <td>2</td>\n    </tr>\n    <tr>\n      <th>4</th>\n      <td>24.59</td>\n      <td>3.61</td>\n      <td>Female</td>\n      <td>No</td>\n      <td>Sun</td>\n      <td>Dinner</td>\n      <td>4</td>\n    </tr>\n  </tbody>\n</table>\n</div>",
       "datasetInfos": [],
       "metadata": {},
       "removedWidgets": [],
       "textData": null,
       "type": "htmlSandbox"
      }
     },
     "output_type": "display_data"
    }
   ],
   "source": [
    "tips.head()"
   ]
  },
  {
   "cell_type": "code",
   "execution_count": 0,
   "metadata": {
    "application/vnd.databricks.v1+cell": {
     "cellMetadata": {},
     "inputWidgets": {},
     "nuid": "b1c02114-b54a-4733-bc7b-40ea1307fac9",
     "showTitle": false,
     "title": ""
    },
    "colab": {},
    "colab_type": "code",
    "id": "NJI8vpRRRd9Z"
   },
   "outputs": [],
   "source": [
    "#2. approx_count_distinct\n",
    "from pyspark.sql.functions import approx_count_distinct\n",
    "#Aggregate function: returns a new :class:`Column` for approximate distinct count of column `col`."
   ]
  },
  {
   "cell_type": "code",
   "execution_count": 0,
   "metadata": {
    "application/vnd.databricks.v1+cell": {
     "cellMetadata": {},
     "inputWidgets": {},
     "nuid": "21a764bb-fe7a-492d-88ff-c5689f4e4793",
     "showTitle": false,
     "title": ""
    },
    "colab": {},
    "colab_type": "code",
    "id": "H5xlQen5SR69"
   },
   "outputs": [],
   "source": [
    "tipss = spark.createDataFrame(data = tips)"
   ]
  },
  {
   "cell_type": "code",
   "execution_count": 0,
   "metadata": {
    "application/vnd.databricks.v1+cell": {
     "cellMetadata": {},
     "inputWidgets": {},
     "nuid": "6f3f695b-17c2-4767-a8c6-3d8820c409d9",
     "showTitle": false,
     "title": ""
    }
   },
   "outputs": [
    {
     "output_type": "stream",
     "name": "stdout",
     "output_type": "stream",
     "text": [
      "+----------+----+------+------+---+------+----+\n|total_bill| tip|   sex|smoker|day|  time|size|\n+----------+----+------+------+---+------+----+\n|     16.99|1.01|Female|    No|Sun|Dinner|   2|\n|     10.34|1.66|  Male|    No|Sun|Dinner|   3|\n|     21.01| 3.5|  Male|    No|Sun|Dinner|   3|\n|     23.68|3.31|  Male|    No|Sun|Dinner|   2|\n|     24.59|3.61|Female|    No|Sun|Dinner|   4|\n|     25.29|4.71|  Male|    No|Sun|Dinner|   4|\n|      8.77| 2.0|  Male|    No|Sun|Dinner|   2|\n|     26.88|3.12|  Male|    No|Sun|Dinner|   4|\n|     15.04|1.96|  Male|    No|Sun|Dinner|   2|\n|     14.78|3.23|  Male|    No|Sun|Dinner|   2|\n|     10.27|1.71|  Male|    No|Sun|Dinner|   2|\n|     35.26| 5.0|Female|    No|Sun|Dinner|   4|\n|     15.42|1.57|  Male|    No|Sun|Dinner|   2|\n|     18.43| 3.0|  Male|    No|Sun|Dinner|   4|\n|     14.83|3.02|Female|    No|Sun|Dinner|   2|\n|     21.58|3.92|  Male|    No|Sun|Dinner|   2|\n|     10.33|1.67|Female|    No|Sun|Dinner|   3|\n|     16.29|3.71|  Male|    No|Sun|Dinner|   3|\n|     16.97| 3.5|Female|    No|Sun|Dinner|   3|\n|     20.65|3.35|  Male|    No|Sat|Dinner|   3|\n+----------+----+------+------+---+------+----+\nonly showing top 20 rows\n\n"
     ]
    }
   ],
   "source": [
    "tipss.show()"
   ]
  },
  {
   "cell_type": "code",
   "execution_count": 0,
   "metadata": {
    "application/vnd.databricks.v1+cell": {
     "cellMetadata": {},
     "inputWidgets": {},
     "nuid": "35e5fdb4-1f39-413b-97c1-4f1e9293211b",
     "showTitle": false,
     "title": ""
    },
    "colab": {
     "base_uri": "https://localhost:8080/",
     "height": 34
    },
    "colab_type": "code",
    "id": "P4u6f64cSnOI",
    "outputId": "6f1c7896-cc18-4385-981a-b40a6de44946"
   },
   "outputs": [
    {
     "output_type": "stream",
     "name": "stdout",
     "output_type": "stream",
     "text": [
      "+-------------------+\n|distinct_count_days|\n+-------------------+\n|                  4|\n+-------------------+\n\n"
     ]
    }
   ],
   "source": [
    "tipss.agg(approx_count_distinct(col = tipss['day']).alias('distinct_count_days')).show()"
   ]
  },
  {
   "cell_type": "code",
   "execution_count": 0,
   "metadata": {
    "application/vnd.databricks.v1+cell": {
     "cellMetadata": {},
     "inputWidgets": {},
     "nuid": "cb6a750b-05e6-4c96-a04e-bf7ba20981c4",
     "showTitle": false,
     "title": ""
    },
    "colab": {},
    "colab_type": "code",
    "id": "EDxLK9L2Tjih"
   },
   "outputs": [],
   "source": [
    "df1 = spark.createDataFrame(data = [(['a','b','c'],),\n",
    "                                    ([],)] , schema= ['data'] )"
   ]
  },
  {
   "cell_type": "code",
   "execution_count": 0,
   "metadata": {
    "application/vnd.databricks.v1+cell": {
     "cellMetadata": {},
     "inputWidgets": {},
     "nuid": "befb8c1d-49b8-43da-9665-0f26d3d56538",
     "showTitle": false,
     "title": ""
    },
    "colab": {
     "base_uri": "https://localhost:8080/",
     "height": 138
    },
    "colab_type": "code",
    "id": "W6DawlSaUWc6",
    "outputId": "6f29e5c3-cced-4320-f2e2-3bb21e0bb4de"
   },
   "outputs": [
    {
     "output_type": "display_data",
     "data": {
      "text/html": [
       "<style scoped>\n",
       "  .ansiout {\n",
       "    display: block;\n",
       "    unicode-bidi: embed;\n",
       "    white-space: pre-wrap;\n",
       "    word-wrap: break-word;\n",
       "    word-break: break-all;\n",
       "    font-family: \"Menlo\", \"Monaco\", \"Consolas\", \"Ubuntu Mono\", \"Source Code Pro\", monospace;\n",
       "    font-size: 13px;\n",
       "    color: #555;\n",
       "    margin-left: 4px;\n",
       "    line-height: 19px;\n",
       "  }\n",
       "</style>\n",
       "<div class=\"ansiout\">+---------+\n",
       "     data|\n",
       "+---------+\n",
       "[a, b, c]|\n",
       "       []|\n",
       "+---------+\n",
       "\n",
       "</div>"
      ]
     },
     "metadata": {
      "application/vnd.databricks.v1+output": {
       "addedWidgets": {},
       "arguments": {},
       "data": "<div class=\"ansiout\">+---------+\n|     data|\n+---------+\n|[a, b, c]|\n|       []|\n+---------+\n\n</div>",
       "datasetInfos": [],
       "metadata": {},
       "removedWidgets": [],
       "type": "html"
      }
     },
     "output_type": "display_data"
    }
   ],
   "source": [
    "df1.show()"
   ]
  },
  {
   "cell_type": "code",
   "execution_count": 0,
   "metadata": {
    "application/vnd.databricks.v1+cell": {
     "cellMetadata": {},
     "inputWidgets": {},
     "nuid": "3dcd5d97-9578-4b06-a835-92ceee386f1e",
     "showTitle": false,
     "title": ""
    },
    "colab": {},
    "colab_type": "code",
    "id": "WfwYIkwyV55s"
   },
   "outputs": [],
   "source": [
    "#3. array_contains\n",
    "from pyspark.sql.functions import array_contains\n",
    "#Collection function: returns null if the array is null, true if the array contains the given value, and false otherwise."
   ]
  },
  {
   "cell_type": "code",
   "execution_count": 0,
   "metadata": {
    "application/vnd.databricks.v1+cell": {
     "cellMetadata": {},
     "inputWidgets": {},
     "nuid": "77a97e5f-816a-4f50-a1af-390aa925cbd5",
     "showTitle": false,
     "title": ""
    },
    "colab": {
     "base_uri": "https://localhost:8080/",
     "height": 138
    },
    "colab_type": "code",
    "id": "2Vsq1qWaWD66",
    "outputId": "9cfd2d61-6859-4cf3-9930-155927f1101e"
   },
   "outputs": [
    {
     "output_type": "display_data",
     "data": {
      "text/html": [
       "<style scoped>\n",
       "  .ansiout {\n",
       "    display: block;\n",
       "    unicode-bidi: embed;\n",
       "    white-space: pre-wrap;\n",
       "    word-wrap: break-word;\n",
       "    word-break: break-all;\n",
       "    font-family: \"Menlo\", \"Monaco\", \"Consolas\", \"Ubuntu Mono\", \"Source Code Pro\", monospace;\n",
       "    font-size: 13px;\n",
       "    color: #555;\n",
       "    margin-left: 4px;\n",
       "    line-height: 19px;\n",
       "  }\n",
       "</style>\n",
       "<div class=\"ansiout\">+-----------------------+\n",
       "array_contains(data, a)|\n",
       "+-----------------------+\n",
       "                   true|\n",
       "                  false|\n",
       "+-----------------------+\n",
       "\n",
       "</div>"
      ]
     },
     "metadata": {
      "application/vnd.databricks.v1+output": {
       "addedWidgets": {},
       "arguments": {},
       "data": "<div class=\"ansiout\">+-----------------------+\n|array_contains(data, a)|\n+-----------------------+\n|                   true|\n|                  false|\n+-----------------------+\n\n</div>",
       "datasetInfos": [],
       "metadata": {},
       "removedWidgets": [],
       "type": "html"
      }
     },
     "output_type": "display_data"
    }
   ],
   "source": [
    "df1.select(array_contains(col = df1['data'], value = 'a')).show()"
   ]
  },
  {
   "cell_type": "code",
   "execution_count": 0,
   "metadata": {
    "application/vnd.databricks.v1+cell": {
     "cellMetadata": {},
     "inputWidgets": {},
     "nuid": "375ce8b8-60bf-4458-91b2-775ceb7e5248",
     "showTitle": false,
     "title": ""
    },
    "colab": {},
    "colab_type": "code",
    "id": "03nFN3_VWQ7L"
   },
   "outputs": [],
   "source": [
    "#4. array_distinct\n",
    "from pyspark.sql.functions import array_distinct\n",
    "#Collection function: removes duplicate values from the array."
   ]
  },
  {
   "cell_type": "code",
   "execution_count": 0,
   "metadata": {
    "application/vnd.databricks.v1+cell": {
     "cellMetadata": {},
     "inputWidgets": {},
     "nuid": "ad3bc8ee-3824-440c-8897-ffeb63c97d64",
     "showTitle": false,
     "title": ""
    },
    "colab": {},
    "colab_type": "code",
    "id": "Og_6ekzWhC5M"
   },
   "outputs": [],
   "source": [
    "df2 = spark.createDataFrame([([1, 2, 3, 2],), ([4, 5, 5, 4],)], ['data'])"
   ]
  },
  {
   "cell_type": "code",
   "execution_count": 0,
   "metadata": {
    "application/vnd.databricks.v1+cell": {
     "cellMetadata": {},
     "inputWidgets": {},
     "nuid": "e5d29c3b-be76-452a-b1b4-ce92766503aa",
     "showTitle": false,
     "title": ""
    },
    "colab": {
     "base_uri": "https://localhost:8080/",
     "height": 138
    },
    "colab_type": "code",
    "id": "nTk30kIFhF7l",
    "outputId": "2598694c-489a-40d6-c9ba-d7114d85840b"
   },
   "outputs": [
    {
     "output_type": "stream",
     "name": "stdout",
     "output_type": "stream",
     "text": [
      "+------------+\n|        data|\n+------------+\n|[1, 2, 3, 2]|\n|[4, 5, 5, 4]|\n+------------+\n\n"
     ]
    }
   ],
   "source": [
    "df2.show()"
   ]
  },
  {
   "cell_type": "code",
   "execution_count": 0,
   "metadata": {
    "application/vnd.databricks.v1+cell": {
     "cellMetadata": {},
     "inputWidgets": {},
     "nuid": "59e90433-7313-4b83-8ebc-53edb3e5ff02",
     "showTitle": false,
     "title": ""
    },
    "colab": {
     "base_uri": "https://localhost:8080/",
     "height": 138
    },
    "colab_type": "code",
    "id": "OqkpI5AMhH98",
    "outputId": "f1173d3e-5ecf-4f41-fbe4-ce8b8cd824fe"
   },
   "outputs": [
    {
     "output_type": "stream",
     "name": "stdout",
     "output_type": "stream",
     "text": [
      "+--------------------+\n|array_distinct(data)|\n+--------------------+\n|           [1, 2, 3]|\n|              [4, 5]|\n+--------------------+\n\n"
     ]
    }
   ],
   "source": [
    "df2.select(array_distinct(df2['data'])).show()"
   ]
  },
  {
   "cell_type": "code",
   "execution_count": 0,
   "metadata": {
    "application/vnd.databricks.v1+cell": {
     "cellMetadata": {},
     "inputWidgets": {},
     "nuid": "6f2bc837-937d-4836-aea0-6e40d1ac1d74",
     "showTitle": false,
     "title": ""
    },
    "colab": {},
    "colab_type": "code",
    "id": "6uAOqMUziZIf"
   },
   "outputs": [],
   "source": [
    "#5. array_except\n",
    "from pyspark.sql.functions import array_except\n",
    "#Collection function: returns an array of the elements in col1 but not in col2, without duplicates."
   ]
  },
  {
   "cell_type": "code",
   "execution_count": 0,
   "metadata": {
    "application/vnd.databricks.v1+cell": {
     "cellMetadata": {},
     "inputWidgets": {},
     "nuid": "14854bfb-f2d3-4260-874f-b1842e9effe4",
     "showTitle": false,
     "title": ""
    },
    "colab": {},
    "colab_type": "code",
    "id": "Xy_sPkq4h8vc"
   },
   "outputs": [],
   "source": [
    "df2 = spark.createDataFrame([([1,2,3,4],[2,4,2,5])], ['data_1', 'data_2'])"
   ]
  },
  {
   "cell_type": "code",
   "execution_count": 0,
   "metadata": {
    "application/vnd.databricks.v1+cell": {
     "cellMetadata": {},
     "inputWidgets": {},
     "nuid": "cd86ea9d-deb6-48fa-a5f1-734aa1642a1f",
     "showTitle": false,
     "title": ""
    },
    "colab": {
     "base_uri": "https://localhost:8080/",
     "height": 121
    },
    "colab_type": "code",
    "id": "-jTFk4qSiW1T",
    "outputId": "5c56235b-f8f7-4c48-d82f-f55378baa083"
   },
   "outputs": [
    {
     "output_type": "stream",
     "name": "stdout",
     "output_type": "stream",
     "text": [
      "+------------+------------+\n|      data_1|      data_2|\n+------------+------------+\n|[1, 2, 3, 4]|[2, 4, 2, 5]|\n+------------+------------+\n\n"
     ]
    }
   ],
   "source": [
    "df2.show()"
   ]
  },
  {
   "cell_type": "code",
   "execution_count": 0,
   "metadata": {
    "application/vnd.databricks.v1+cell": {
     "cellMetadata": {},
     "inputWidgets": {},
     "nuid": "3ea99fec-94b6-421d-aadb-00f8d0739a21",
     "showTitle": false,
     "title": ""
    },
    "colab": {
     "base_uri": "https://localhost:8080/",
     "height": 121
    },
    "colab_type": "code",
    "id": "FG3_nW1SiYkj",
    "outputId": "be072f51-a60c-44bf-b495-03852a90507a"
   },
   "outputs": [
    {
     "output_type": "stream",
     "name": "stdout",
     "output_type": "stream",
     "text": [
      "+----------------------------+\n|array_except(data_1, data_2)|\n+----------------------------+\n|                      [1, 3]|\n+----------------------------+\n\n"
     ]
    }
   ],
   "source": [
    "df2.select(array_except(df2['data_1'], df2['data_2'])).show()"
   ]
  },
  {
   "cell_type": "code",
   "execution_count": 0,
   "metadata": {
    "application/vnd.databricks.v1+cell": {
     "cellMetadata": {},
     "inputWidgets": {},
     "nuid": "f77490a7-ff80-4350-a28f-b6b4cdd1ab00",
     "showTitle": false,
     "title": ""
    },
    "colab": {},
    "colab_type": "code",
    "id": "yf5ffulji4eD"
   },
   "outputs": [],
   "source": [
    "# 6. array_intersect\n",
    "from pyspark.sql.functions import array_intersect\n",
    "#Collection function: returns an array of the elements in the intersection of col1 and col2, without duplicates."
   ]
  },
  {
   "cell_type": "code",
   "execution_count": 0,
   "metadata": {
    "application/vnd.databricks.v1+cell": {
     "cellMetadata": {},
     "inputWidgets": {},
     "nuid": "ebf3076e-89b1-45ac-9808-f3394685ccc5",
     "showTitle": false,
     "title": ""
    },
    "colab": {
     "base_uri": "https://localhost:8080/",
     "height": 121
    },
    "colab_type": "code",
    "id": "XvZvpsUWkm-C",
    "outputId": "27b33ca0-7b55-4e6f-e320-79521f04d1a3"
   },
   "outputs": [
    {
     "output_type": "stream",
     "name": "stdout",
     "output_type": "stream",
     "text": [
      "+-------------------------------+\n|array_intersect(data_1, data_2)|\n+-------------------------------+\n|                         [2, 4]|\n+-------------------------------+\n\n"
     ]
    }
   ],
   "source": [
    "df2.select(array_intersect(col1 = df2['data_1'], col2= df2['data_2'])).show()"
   ]
  },
  {
   "cell_type": "code",
   "execution_count": 0,
   "metadata": {
    "application/vnd.databricks.v1+cell": {
     "cellMetadata": {},
     "inputWidgets": {},
     "nuid": "b75ec61a-2f8e-4d7a-b10d-437a3a7feed8",
     "showTitle": false,
     "title": ""
    },
    "colab": {},
    "colab_type": "code",
    "id": "w_PRUfUrkx05"
   },
   "outputs": [],
   "source": [
    "#7. array_join\n",
    "from pyspark.sql.functions import array_join\n",
    "#Concatenates the elements of column using the delimiter. Null values are replaced with null_replacement if set, otherwise they are ignored."
   ]
  },
  {
   "cell_type": "code",
   "execution_count": 0,
   "metadata": {
    "application/vnd.databricks.v1+cell": {
     "cellMetadata": {},
     "inputWidgets": {},
     "nuid": "09ec49eb-019f-4c59-b6f6-5b9a297dc5f6",
     "showTitle": false,
     "title": ""
    },
    "colab": {},
    "colab_type": "code",
    "id": "rRprunTIlSPY"
   },
   "outputs": [],
   "source": [
    "df3 = spark.createDataFrame(data = [(['a','b','c'],), (['a',None],)], schema = ['data'])"
   ]
  },
  {
   "cell_type": "code",
   "execution_count": 0,
   "metadata": {
    "application/vnd.databricks.v1+cell": {
     "cellMetadata": {},
     "inputWidgets": {},
     "nuid": "3d29440a-13be-4052-9437-f93eb550dc8e",
     "showTitle": false,
     "title": ""
    },
    "colab": {
     "base_uri": "https://localhost:8080/",
     "height": 138
    },
    "colab_type": "code",
    "id": "nWm_jXTrmyow",
    "outputId": "c101bc2d-2ca8-415a-8928-a1c4826e5f41"
   },
   "outputs": [
    {
     "output_type": "stream",
     "name": "stdout",
     "output_type": "stream",
     "text": [
      "+---------+\n|     data|\n+---------+\n|[a, b, c]|\n|[a, null]|\n+---------+\n\n"
     ]
    }
   ],
   "source": [
    "df3.show()"
   ]
  },
  {
   "cell_type": "code",
   "execution_count": 0,
   "metadata": {
    "application/vnd.databricks.v1+cell": {
     "cellMetadata": {},
     "inputWidgets": {},
     "nuid": "8524b1ad-d85d-4cae-a96e-9da863245b14",
     "showTitle": false,
     "title": ""
    },
    "colab": {
     "base_uri": "https://localhost:8080/",
     "height": 138
    },
    "colab_type": "code",
    "id": "N_20v1xvmCkL",
    "outputId": "b29c7ec0-4607-4273-aa6c-0fbc27bb166f"
   },
   "outputs": [
    {
     "output_type": "stream",
     "name": "stdout",
     "output_type": "stream",
     "text": [
      "+-------------------+\n|array_join(data, .)|\n+-------------------+\n|              a.b.c|\n|                  a|\n+-------------------+\n\n"
     ]
    }
   ],
   "source": [
    "df3.select(array_join(col = df3['data'] , delimiter= '.', null_replacement = None)).show()"
   ]
  },
  {
   "cell_type": "code",
   "execution_count": 0,
   "metadata": {
    "application/vnd.databricks.v1+cell": {
     "cellMetadata": {},
     "inputWidgets": {},
     "nuid": "fba6d23d-f69d-4c71-bec0-3a434e93a6b5",
     "showTitle": false,
     "title": ""
    }
   },
   "outputs": [
    {
     "output_type": "stream",
     "name": "stdout",
     "output_type": "stream",
     "text": [
      "+-------------------------+\n|array_join(data, ., Null)|\n+-------------------------+\n|                    a.b.c|\n|                   a.Null|\n+-------------------------+\n\n"
     ]
    }
   ],
   "source": [
    "df3.select(array_join(col = df3['data'] , delimiter= '.', null_replacement = \"Null\")).show()"
   ]
  },
  {
   "cell_type": "code",
   "execution_count": 0,
   "metadata": {
    "application/vnd.databricks.v1+cell": {
     "cellMetadata": {},
     "inputWidgets": {},
     "nuid": "c8c4c401-591b-40ca-b9d1-cc937fa529ff",
     "showTitle": false,
     "title": ""
    },
    "colab": {},
    "colab_type": "code",
    "id": "v0YvN7Kvni5Z"
   },
   "outputs": [],
   "source": [
    "#8. array_max\n",
    "from pyspark.sql.functions import array_max\n",
    "#Collection function: returns the maximum value of the array"
   ]
  },
  {
   "cell_type": "code",
   "execution_count": 0,
   "metadata": {
    "application/vnd.databricks.v1+cell": {
     "cellMetadata": {},
     "inputWidgets": {},
     "nuid": "d3b702b4-34bb-480b-bcb3-846d51edd6b8",
     "showTitle": false,
     "title": ""
    },
    "colab": {},
    "colab_type": "code",
    "id": "fG790MYX4GMg"
   },
   "outputs": [],
   "source": [
    "df4 = spark.createDataFrame(data = [([2,1,3],),([None, 10, -1],)], schema = ['data'])"
   ]
  },
  {
   "cell_type": "code",
   "execution_count": 0,
   "metadata": {
    "application/vnd.databricks.v1+cell": {
     "cellMetadata": {},
     "inputWidgets": {},
     "nuid": "a863f47a-a4a2-4ef1-9921-ffc007bd593c",
     "showTitle": false,
     "title": ""
    },
    "colab": {
     "base_uri": "https://localhost:8080/",
     "height": 138
    },
    "colab_type": "code",
    "id": "UIsCVoRc4H-I",
    "outputId": "de18f982-2584-43d5-e835-b469dac01114"
   },
   "outputs": [
    {
     "output_type": "stream",
     "name": "stdout",
     "output_type": "stream",
     "text": [
      "+--------------+\n|          data|\n+--------------+\n|     [2, 1, 3]|\n|[null, 10, -1]|\n+--------------+\n\n"
     ]
    }
   ],
   "source": [
    "df4.show()"
   ]
  },
  {
   "cell_type": "code",
   "execution_count": 0,
   "metadata": {
    "application/vnd.databricks.v1+cell": {
     "cellMetadata": {},
     "inputWidgets": {},
     "nuid": "555eed19-2f06-4b25-910b-5330c5b0a756",
     "showTitle": false,
     "title": ""
    },
    "colab": {
     "base_uri": "https://localhost:8080/",
     "height": 138
    },
    "colab_type": "code",
    "id": "5Oy0D4J74j9Y",
    "outputId": "23a69a4a-b66b-4546-cf0f-055deddf8c32"
   },
   "outputs": [
    {
     "output_type": "stream",
     "name": "stdout",
     "output_type": "stream",
     "text": [
      "+---------------+\n|array_max(data)|\n+---------------+\n|              3|\n|             10|\n+---------------+\n\n"
     ]
    }
   ],
   "source": [
    "df4.select(array_max(col = df4['data'])).show()"
   ]
  },
  {
   "cell_type": "code",
   "execution_count": 0,
   "metadata": {
    "application/vnd.databricks.v1+cell": {
     "cellMetadata": {},
     "inputWidgets": {},
     "nuid": "a8df70ab-e314-4307-b3db-eea8bd1eba5f",
     "showTitle": false,
     "title": ""
    },
    "colab": {},
    "colab_type": "code",
    "id": "uwGl1kry4nlR"
   },
   "outputs": [],
   "source": [
    "#9. array_min\n",
    "from pyspark.sql.functions import array_min\n",
    "#Collection function: returns the minimum value of the array."
   ]
  },
  {
   "cell_type": "code",
   "execution_count": 0,
   "metadata": {
    "application/vnd.databricks.v1+cell": {
     "cellMetadata": {},
     "inputWidgets": {},
     "nuid": "d2fc7fdc-a908-4840-8b7e-839ffd294d9f",
     "showTitle": false,
     "title": ""
    },
    "colab": {
     "base_uri": "https://localhost:8080/",
     "height": 138
    },
    "colab_type": "code",
    "id": "FSkNPs844_P5",
    "outputId": "6bb21893-5d32-479f-84e6-5de5e83280d9"
   },
   "outputs": [
    {
     "output_type": "stream",
     "name": "stdout",
     "output_type": "stream",
     "text": [
      "+---------------+\n|array_min(data)|\n+---------------+\n|              1|\n|             -1|\n+---------------+\n\n"
     ]
    }
   ],
   "source": [
    "df4.select(array_min(df4['data'])).show()"
   ]
  },
  {
   "cell_type": "code",
   "execution_count": 0,
   "metadata": {
    "application/vnd.databricks.v1+cell": {
     "cellMetadata": {},
     "inputWidgets": {},
     "nuid": "52696995-2751-49f4-92dc-cf299351c812",
     "showTitle": false,
     "title": ""
    },
    "colab": {},
    "colab_type": "code",
    "id": "bxoQzs6u5GEg"
   },
   "outputs": [],
   "source": [
    "#10. array_position\n",
    "from pyspark.sql.functions import array_position\n",
    "#Collection function: Locates the position of the first occurrence of the given value in the given array. Returns null if either of the arguments are null.\n",
    "#The position is not zero based, but 1 based index. Returns 0 if the given value could not be found in the array."
   ]
  },
  {
   "cell_type": "code",
   "execution_count": 0,
   "metadata": {
    "application/vnd.databricks.v1+cell": {
     "cellMetadata": {},
     "inputWidgets": {},
     "nuid": "3712a0d7-e51d-4741-9bce-a12dbfb41df5",
     "showTitle": false,
     "title": ""
    },
    "colab": {
     "base_uri": "https://localhost:8080/",
     "height": 138
    },
    "colab_type": "code",
    "id": "uNdugUDT5X2i",
    "outputId": "d7ca4317-76ff-4dbb-935e-895b2cbf7c21"
   },
   "outputs": [
    {
     "output_type": "stream",
     "name": "stdout",
     "output_type": "stream",
     "text": [
      "+-----------------------+\n|array_position(data, 3)|\n+-----------------------+\n|                      3|\n|                      0|\n+-----------------------+\n\n"
     ]
    }
   ],
   "source": [
    "df4.select(array_position(col=df4['data'], value = 3)).show()"
   ]
  },
  {
   "cell_type": "code",
   "execution_count": 0,
   "metadata": {
    "application/vnd.databricks.v1+cell": {
     "cellMetadata": {},
     "inputWidgets": {},
     "nuid": "b3fde328-30fc-4527-849c-38e74f6c0af8",
     "showTitle": false,
     "title": ""
    },
    "colab": {},
    "colab_type": "code",
    "id": "aWmhbSew5gCy"
   },
   "outputs": [],
   "source": [
    "# 11. array_remove\n",
    "from pyspark.sql.functions import array_remove\n",
    "#Collection function: Remove all elements that equal to element from the given array."
   ]
  },
  {
   "cell_type": "code",
   "execution_count": 0,
   "metadata": {
    "application/vnd.databricks.v1+cell": {
     "cellMetadata": {},
     "inputWidgets": {},
     "nuid": "c3244ed0-6e18-4b90-9f0a-3fb758e5036d",
     "showTitle": false,
     "title": ""
    },
    "colab": {
     "base_uri": "https://localhost:8080/",
     "height": 138
    },
    "colab_type": "code",
    "id": "m7mTJFMq85yQ",
    "outputId": "6b48181b-1280-4b7b-dc9a-a53f09ec8155"
   },
   "outputs": [
    {
     "output_type": "stream",
     "name": "stdout",
     "output_type": "stream",
     "text": [
      "+--------------+\n|          data|\n+--------------+\n|     [2, 1, 3]|\n|[null, 10, -1]|\n+--------------+\n\n"
     ]
    }
   ],
   "source": [
    "df4.show()"
   ]
  },
  {
   "cell_type": "code",
   "execution_count": 0,
   "metadata": {
    "application/vnd.databricks.v1+cell": {
     "cellMetadata": {},
     "inputWidgets": {},
     "nuid": "773eac33-06dc-4d24-a21c-76a9a57a3cf4",
     "showTitle": false,
     "title": ""
    },
    "colab": {
     "base_uri": "https://localhost:8080/",
     "height": 138
    },
    "colab_type": "code",
    "id": "b6S-VfHw87fw",
    "outputId": "18d31d72-370e-49ff-c1a5-38cb9759ebe6"
   },
   "outputs": [
    {
     "output_type": "stream",
     "name": "stdout",
     "output_type": "stream",
     "text": [
      "+---------------------+\n|array_remove(data, 1)|\n+---------------------+\n|               [2, 3]|\n|       [null, 10, -1]|\n+---------------------+\n\n"
     ]
    }
   ],
   "source": [
    "df4.select(array_remove(col = df4['data'], element= 1)).show()"
   ]
  },
  {
   "cell_type": "code",
   "execution_count": 0,
   "metadata": {
    "application/vnd.databricks.v1+cell": {
     "cellMetadata": {},
     "inputWidgets": {},
     "nuid": "371f4957-cc04-4f51-80be-03d9e1bf1642",
     "showTitle": false,
     "title": ""
    },
    "colab": {},
    "colab_type": "code",
    "id": "BTlnwphZ9M86"
   },
   "outputs": [],
   "source": [
    "#12. array_repeat\n",
    "from pyspark.sql.functions import array_repeat\n",
    "#Collection function: creates an array containing a column repeated count times."
   ]
  },
  {
   "cell_type": "code",
   "execution_count": 0,
   "metadata": {
    "application/vnd.databricks.v1+cell": {
     "cellMetadata": {},
     "inputWidgets": {},
     "nuid": "cb458065-558a-4ea1-ae73-78e5a36118e0",
     "showTitle": false,
     "title": ""
    },
    "colab": {},
    "colab_type": "code",
    "id": "hPEFx0Zb9hY8"
   },
   "outputs": [],
   "source": [
    "df5 = spark.createDataFrame(data = [('ab',)], schema=['data'])"
   ]
  },
  {
   "cell_type": "code",
   "execution_count": 0,
   "metadata": {
    "application/vnd.databricks.v1+cell": {
     "cellMetadata": {},
     "inputWidgets": {},
     "nuid": "bc79e82e-a51a-4dd2-801b-85310019e636",
     "showTitle": false,
     "title": ""
    },
    "colab": {
     "base_uri": "https://localhost:8080/",
     "height": 121
    },
    "colab_type": "code",
    "id": "huW3UuWo9wDl",
    "outputId": "862c48fe-9eb5-4cae-9828-d85dda5be78e"
   },
   "outputs": [
    {
     "output_type": "stream",
     "name": "stdout",
     "output_type": "stream",
     "text": [
      "+----+\n|data|\n+----+\n|  ab|\n+----+\n\n"
     ]
    }
   ],
   "source": [
    "df5.show()"
   ]
  },
  {
   "cell_type": "code",
   "execution_count": 0,
   "metadata": {
    "application/vnd.databricks.v1+cell": {
     "cellMetadata": {},
     "inputWidgets": {},
     "nuid": "df30f27c-0300-42b6-a22c-3f4abef3166b",
     "showTitle": false,
     "title": ""
    },
    "colab": {
     "base_uri": "https://localhost:8080/",
     "height": 121
    },
    "colab_type": "code",
    "id": "JzDIbjSb96cE",
    "outputId": "3715df72-a317-4c14-9602-fe4735ce6a6a"
   },
   "outputs": [
    {
     "output_type": "stream",
     "name": "stdout",
     "output_type": "stream",
     "text": [
      "+---------------------+\n|array_repeat(data, 3)|\n+---------------------+\n|         [ab, ab, ab]|\n+---------------------+\n\n"
     ]
    }
   ],
   "source": [
    "df5.select(array_repeat(col = df5['data'], count = 3)).show()"
   ]
  },
  {
   "cell_type": "code",
   "execution_count": 0,
   "metadata": {
    "application/vnd.databricks.v1+cell": {
     "cellMetadata": {},
     "inputWidgets": {},
     "nuid": "ca2edcee-a743-408a-bb4a-c8c63d0e92ee",
     "showTitle": false,
     "title": ""
    },
    "colab": {},
    "colab_type": "code",
    "id": "Uqyzqk6l-UCe"
   },
   "outputs": [],
   "source": [
    "#13. array_sort\n",
    "from pyspark.sql.functions import array_sort\n",
    "#Collection function: sorts the input array in ascending order. The elements of the input array must be orderable. Null elements will be placed at the end of the returned array."
   ]
  },
  {
   "cell_type": "code",
   "execution_count": 0,
   "metadata": {
    "application/vnd.databricks.v1+cell": {
     "cellMetadata": {},
     "inputWidgets": {},
     "nuid": "0d4e6f0b-2300-409b-9dc6-d98013d05286",
     "showTitle": false,
     "title": ""
    },
    "colab": {
     "base_uri": "https://localhost:8080/",
     "height": 138
    },
    "colab_type": "code",
    "id": "7EjFnTlV-mAu",
    "outputId": "1fa28eb0-7356-40a5-ce78-500ff0a7441b"
   },
   "outputs": [
    {
     "output_type": "stream",
     "name": "stdout",
     "output_type": "stream",
     "text": [
      "+--------------+\n|          data|\n+--------------+\n|     [2, 1, 3]|\n|[null, 10, -1]|\n+--------------+\n\n"
     ]
    }
   ],
   "source": [
    "df4.show()"
   ]
  },
  {
   "cell_type": "code",
   "execution_count": 0,
   "metadata": {
    "application/vnd.databricks.v1+cell": {
     "cellMetadata": {},
     "inputWidgets": {},
     "nuid": "3435a57a-da59-483b-b1ab-e5d0f97a1517",
     "showTitle": false,
     "title": ""
    },
    "colab": {
     "base_uri": "https://localhost:8080/",
     "height": 138
    },
    "colab_type": "code",
    "id": "UALx4WVq-nLO",
    "outputId": "4eef9850-4b0b-402e-80ea-3f32691bed2a"
   },
   "outputs": [
    {
     "output_type": "stream",
     "name": "stdout",
     "output_type": "stream",
     "text": [
      "+------------------------------------------------------------------------------------------------------------------------------------------------------------------------------------------------------+\n|array_sort(data, lambdafunction((IF(((left IS NULL) AND (right IS NULL)), 0, (IF((left IS NULL), 1, (IF((right IS NULL), -1, (IF((left < right), -1, (IF((left > right), 1, 0)))))))))), left, right))|\n+------------------------------------------------------------------------------------------------------------------------------------------------------------------------------------------------------+\n|                                                                                                                                                                                             [1, 2, 3]|\n|                                                                                                                                                                                        [-1, 10, null]|\n+------------------------------------------------------------------------------------------------------------------------------------------------------------------------------------------------------+\n\n"
     ]
    }
   ],
   "source": [
    "df4.select(array_sort(col = df4['data'])).show()"
   ]
  },
  {
   "cell_type": "code",
   "execution_count": 0,
   "metadata": {
    "application/vnd.databricks.v1+cell": {
     "cellMetadata": {},
     "inputWidgets": {},
     "nuid": "a01cb5a3-add6-4947-861f-545b09846c46",
     "showTitle": false,
     "title": ""
    },
    "colab": {},
    "colab_type": "code",
    "id": "ien1_1Hb-vRm"
   },
   "outputs": [],
   "source": [
    "#14. array_union\n",
    "from pyspark.sql.functions import array_union\n",
    "#Collection function: returns an array of the elements in the union of col1 and col2, without duplicates."
   ]
  },
  {
   "cell_type": "code",
   "execution_count": 0,
   "metadata": {
    "application/vnd.databricks.v1+cell": {
     "cellMetadata": {},
     "inputWidgets": {},
     "nuid": "61541052-6d63-4a46-89df-2e6dd9480df7",
     "showTitle": false,
     "title": ""
    },
    "colab": {},
    "colab_type": "code",
    "id": "qnOBKKO5APS3"
   },
   "outputs": [],
   "source": [
    "from pyspark.sql import Row\n",
    "df6 = spark.createDataFrame([Row(c1=[\"b\", \"a\", \"c\"], c2=[\"c\", \"d\", \"a\", \"f\"])])"
   ]
  },
  {
   "cell_type": "code",
   "execution_count": 0,
   "metadata": {
    "application/vnd.databricks.v1+cell": {
     "cellMetadata": {},
     "inputWidgets": {},
     "nuid": "4a36153e-b200-49e3-8a81-de4d73725280",
     "showTitle": false,
     "title": ""
    },
    "colab": {
     "base_uri": "https://localhost:8080/",
     "height": 121
    },
    "colab_type": "code",
    "id": "UgEmslirBYKc",
    "outputId": "8595e9ee-714f-489f-c6e6-ff9bedbf0f81"
   },
   "outputs": [
    {
     "output_type": "stream",
     "name": "stdout",
     "output_type": "stream",
     "text": [
      "+---------+------------+\n|       c1|          c2|\n+---------+------------+\n|[b, a, c]|[c, d, a, f]|\n+---------+------------+\n\n"
     ]
    }
   ],
   "source": [
    "df6.show()"
   ]
  },
  {
   "cell_type": "code",
   "execution_count": 0,
   "metadata": {
    "application/vnd.databricks.v1+cell": {
     "cellMetadata": {},
     "inputWidgets": {},
     "nuid": "fc7d0a78-0edf-46a2-9a3c-8e0bdd847fe3",
     "showTitle": false,
     "title": ""
    },
    "colab": {
     "base_uri": "https://localhost:8080/",
     "height": 121
    },
    "colab_type": "code",
    "id": "yuvbAz4jBnxN",
    "outputId": "effdb56e-280e-49fa-fa79-a5f051eed7d7"
   },
   "outputs": [
    {
     "output_type": "stream",
     "name": "stdout",
     "output_type": "stream",
     "text": [
      "+-------------------+\n|array_union(c1, c2)|\n+-------------------+\n|    [b, a, c, d, f]|\n+-------------------+\n\n"
     ]
    }
   ],
   "source": [
    "df6.select(array_union(col1= df6['c1'], col2= df6['c2'])).show()"
   ]
  },
  {
   "cell_type": "code",
   "execution_count": 0,
   "metadata": {
    "application/vnd.databricks.v1+cell": {
     "cellMetadata": {},
     "inputWidgets": {},
     "nuid": "d1fe7dbf-8a75-4489-8e11-c6fa635dfa56",
     "showTitle": false,
     "title": ""
    },
    "colab": {
     "base_uri": "https://localhost:8080/",
     "height": 466
    },
    "colab_type": "code",
    "id": "UA5YnhS4CMLd",
    "outputId": "923c9650-3195-4c0b-c365-9ed5fdd5579a"
   },
   "outputs": [
    {
     "output_type": "stream",
     "name": "stdout",
     "output_type": "stream",
     "text": [
      "+----------+----+------+------+---+------+----+\n|total_bill| tip|   sex|smoker|day|  time|size|\n+----------+----+------+------+---+------+----+\n|     16.99|1.01|Female|    No|Sun|Dinner|   2|\n|     10.34|1.66|  Male|    No|Sun|Dinner|   3|\n|     21.01| 3.5|  Male|    No|Sun|Dinner|   3|\n|     23.68|3.31|  Male|    No|Sun|Dinner|   2|\n|     24.59|3.61|Female|    No|Sun|Dinner|   4|\n|     25.29|4.71|  Male|    No|Sun|Dinner|   4|\n|      8.77| 2.0|  Male|    No|Sun|Dinner|   2|\n|     26.88|3.12|  Male|    No|Sun|Dinner|   4|\n|     15.04|1.96|  Male|    No|Sun|Dinner|   2|\n|     14.78|3.23|  Male|    No|Sun|Dinner|   2|\n|     10.27|1.71|  Male|    No|Sun|Dinner|   2|\n|     35.26| 5.0|Female|    No|Sun|Dinner|   4|\n|     15.42|1.57|  Male|    No|Sun|Dinner|   2|\n|     18.43| 3.0|  Male|    No|Sun|Dinner|   4|\n|     14.83|3.02|Female|    No|Sun|Dinner|   2|\n|     21.58|3.92|  Male|    No|Sun|Dinner|   2|\n|     10.33|1.67|Female|    No|Sun|Dinner|   3|\n|     16.29|3.71|  Male|    No|Sun|Dinner|   3|\n|     16.97| 3.5|Female|    No|Sun|Dinner|   3|\n|     20.65|3.35|  Male|    No|Sat|Dinner|   3|\n+----------+----+------+------+---+------+----+\nonly showing top 20 rows\n\n"
     ]
    }
   ],
   "source": [
    "tipss.show()"
   ]
  },
  {
   "cell_type": "code",
   "execution_count": 0,
   "metadata": {
    "application/vnd.databricks.v1+cell": {
     "cellMetadata": {},
     "inputWidgets": {},
     "nuid": "19c45b25-31f2-4045-bc41-413949e7bbd2",
     "showTitle": false,
     "title": ""
    },
    "colab": {
     "base_uri": "https://localhost:8080/",
     "height": 34
    },
    "colab_type": "code",
    "id": "1AaUjr7DFOAg",
    "outputId": "f7af5ef5-5b4d-44ee-ffa7-da06fd5d5a85"
   },
   "outputs": [
    {
     "output_type": "stream",
     "name": "stdout",
     "output_type": "stream",
     "text": [
      "Out[69]: ['total_bill', 'tip', 'sex', 'smoker', 'day', 'time', 'size']"
     ]
    }
   ],
   "source": [
    "tipss.columns"
   ]
  },
  {
   "cell_type": "code",
   "execution_count": 0,
   "metadata": {
    "application/vnd.databricks.v1+cell": {
     "cellMetadata": {},
     "inputWidgets": {},
     "nuid": "f9a6936f-5261-40f4-a851-9f3cf852ce5c",
     "showTitle": false,
     "title": ""
    },
    "colab": {},
    "colab_type": "code",
    "id": "zzvYulTDyk7z"
   },
   "outputs": [],
   "source": [
    "#15. atan\n",
    "from pyspark.sql.functions import atan\n",
    "# Returns inverse tangent of col, as if computed by java.lang.Math.atan()"
   ]
  },
  {
   "cell_type": "code",
   "execution_count": 0,
   "metadata": {
    "application/vnd.databricks.v1+cell": {
     "cellMetadata": {},
     "inputWidgets": {},
     "nuid": "64e8fdc4-9e6c-436a-a8e5-098fbd77239c",
     "showTitle": false,
     "title": ""
    },
    "colab": {
     "base_uri": "https://localhost:8080/",
     "height": 466
    },
    "colab_type": "code",
    "id": "jwSsq2UPytXZ",
    "outputId": "fbc6a5a9-5fcc-4ce0-e775-e59fce1d1ea7"
   },
   "outputs": [
    {
     "output_type": "stream",
     "name": "stdout",
     "output_type": "stream",
     "text": [
      "+------------------+\n|  ATAN(total_bill)|\n+------------------+\n|1.5120060010946794|\n| 1.474384367770975|\n|1.5232358372082375|\n|1.5285916737022431|\n|1.5301517851212092|\n|1.5312755946336702|\n|1.4572615957349155|\n|1.5336110945154002|\n|1.5044046855238589|\n|1.5032402872739714|\n|1.4737313328368717|\n|1.5424431782235315|\n| 1.506036167936664|\n| 1.516590121124307|\n| 1.503467366567067|\n|1.5244902495532138|\n|1.4742916138899547|\n|1.5094859095570865|\n|1.5119368735569017|\n|1.5224079780920512|\n+------------------+\nonly showing top 20 rows\n\n"
     ]
    }
   ],
   "source": [
    "tipss.select(atan(col = tipss['total_bill'])).show()"
   ]
  },
  {
   "cell_type": "code",
   "execution_count": 0,
   "metadata": {
    "application/vnd.databricks.v1+cell": {
     "cellMetadata": {},
     "inputWidgets": {},
     "nuid": "73126939-aeeb-4cbf-ad85-788576a09545",
     "showTitle": false,
     "title": ""
    },
    "colab": {},
    "colab_type": "code",
    "id": "oEYTe-I1y4-y"
   },
   "outputs": [],
   "source": [
    "#16. avg\n",
    "from pyspark.sql.functions import avg,sum\n",
    "#Aggregate function: returns the average of the values in a group."
   ]
  },
  {
   "cell_type": "code",
   "execution_count": 0,
   "metadata": {
    "application/vnd.databricks.v1+cell": {
     "cellMetadata": {},
     "inputWidgets": {},
     "nuid": "42b3372c-c4ed-4430-896d-5118bc4cc311",
     "showTitle": false,
     "title": ""
    },
    "colab": {
     "base_uri": "https://localhost:8080/",
     "height": 121
    },
    "colab_type": "code",
    "id": "9SJjcxiOzQ0i",
    "outputId": "292df42a-af4a-4d91-8971-b786e495d91b"
   },
   "outputs": [
    {
     "output_type": "stream",
     "name": "stdout",
     "output_type": "stream",
     "text": [
      "+------------------+\n|   avg(total_bill)|\n+------------------+\n|19.785942622950817|\n+------------------+\n\n"
     ]
    }
   ],
   "source": [
    "tipss.select(avg(col = tipss['total_bill'])).show()"
   ]
  },
  {
   "cell_type": "code",
   "execution_count": 0,
   "metadata": {
    "application/vnd.databricks.v1+cell": {
     "cellMetadata": {},
     "inputWidgets": {},
     "nuid": "cb3a959a-7e02-4504-bfe3-84eba0e29500",
     "showTitle": false,
     "title": ""
    }
   },
   "outputs": [
    {
     "output_type": "stream",
     "name": "stdout",
     "output_type": "stream",
     "text": [
      "+------+----+------------------+------------------+\n|   sex| day|Average Total Bill| Sum of Total Bill|\n+------+----+------------------+------------------+\n|Female| Sat|19.680357142857144| 551.0500000000001|\n|Female| Sun| 19.87222222222222|             357.7|\n|  Male| Sun| 21.88724137931035|1269.4600000000003|\n|  Male| Sat|20.802542372881355|           1227.35|\n|Female|Thur|        16.7153125|            534.89|\n|  Male| Fri|            19.857|            198.57|\n|  Male|Thur|18.714666666666666| 561.4399999999999|\n|Female| Fri|14.145555555555555|            127.31|\n+------+----+------------------+------------------+\n\n"
     ]
    }
   ],
   "source": [
    "tipss.groupBy(['sex','day']).agg(avg(col = col('total_bill')).alias(\"Average Total Bill\"), sum(col = col('total_bill')).alias(\"Sum of Total Bill\")).show()"
   ]
  },
  {
   "cell_type": "code",
   "execution_count": 0,
   "metadata": {
    "application/vnd.databricks.v1+cell": {
     "cellMetadata": {},
     "inputWidgets": {},
     "nuid": "8fc630ce-c643-41e3-86c9-74c1d0e28908",
     "showTitle": false,
     "title": ""
    },
    "colab": {},
    "colab_type": "code",
    "id": "0Ei7tOq-157G"
   },
   "outputs": [],
   "source": [
    "#17. bround\n",
    "from pyspark.sql.functions import bround\n",
    "#Round the given value to scale decimal places using HALF_EVEN rounding mode if scale >= 0 or at integral part when scale < 0."
   ]
  },
  {
   "cell_type": "code",
   "execution_count": 0,
   "metadata": {
    "application/vnd.databricks.v1+cell": {
     "cellMetadata": {},
     "inputWidgets": {},
     "nuid": "d1038bb4-8a38-42dc-8a76-bb9ae41acb09",
     "showTitle": false,
     "title": ""
    },
    "colab": {
     "base_uri": "https://localhost:8080/",
     "height": 466
    },
    "colab_type": "code",
    "id": "vqFCVxSJ175H",
    "outputId": "e7376d6d-3ca0-4551-92bd-4e8c366135df"
   },
   "outputs": [
    {
     "output_type": "stream",
     "name": "stdout",
     "output_type": "stream",
     "text": [
      "+---------------------+\n|bround(total_bill, 1)|\n+---------------------+\n|                 17.0|\n|                 10.3|\n|                 21.0|\n|                 23.7|\n|                 24.6|\n|                 25.3|\n|                  8.8|\n|                 26.9|\n|                 15.0|\n|                 14.8|\n|                 10.3|\n|                 35.3|\n|                 15.4|\n|                 18.4|\n|                 14.8|\n|                 21.6|\n|                 10.3|\n|                 16.3|\n|                 17.0|\n|                 20.6|\n+---------------------+\nonly showing top 20 rows\n\n"
     ]
    }
   ],
   "source": [
    "tipss.select(bround(col = tipss['total_bill'], scale = 1)).show()"
   ]
  },
  {
   "cell_type": "code",
   "execution_count": 0,
   "metadata": {
    "application/vnd.databricks.v1+cell": {
     "cellMetadata": {},
     "inputWidgets": {},
     "nuid": "50dfac72-78f5-448c-9ce9-9accca7f4975",
     "showTitle": false,
     "title": ""
    },
    "colab": {},
    "colab_type": "code",
    "id": "Gh3UYAHe1oW2"
   },
   "outputs": [],
   "source": [
    "#18. cbrt\n",
    "from pyspark.sql.functions import cbrt\n",
    "#Computes the cube-root of the given value."
   ]
  },
  {
   "cell_type": "code",
   "execution_count": 0,
   "metadata": {
    "application/vnd.databricks.v1+cell": {
     "cellMetadata": {},
     "inputWidgets": {},
     "nuid": "39c881c8-3d7f-434b-a23b-9ac88433462c",
     "showTitle": false,
     "title": ""
    },
    "colab": {
     "base_uri": "https://localhost:8080/",
     "height": 466
    },
    "colab_type": "code",
    "id": "BYi3ItLf1pf1",
    "outputId": "0ba97b83-4aa5-4351-f225-e7b7573804e2"
   },
   "outputs": [
    {
     "output_type": "stream",
     "name": "stdout",
     "output_type": "stream",
     "text": [
      "+------------------+\n|  CBRT(total_bill)|\n+------------------+\n| 2.570777318907579|\n|2.1785800027816777|\n|2.7593620313601246|\n|2.8716217408273277|\n| 2.907944920301343|\n|2.9352805023932897|\n|2.0622114686677766|\n| 2.995548954887403|\n|2.4684023171106872|\n|2.4540956069652458|\n|2.1736526644666934|\n| 3.279146119192328|\n|2.4890184999585117|\n| 2.641446253783426|\n|2.4568598530584262|\n|2.7840934812491223|\n|2.1778774616162986|\n| 2.534975082326879|\n| 2.569768181485383|\n|2.7435108705516797|\n+------------------+\nonly showing top 20 rows\n\n"
     ]
    }
   ],
   "source": [
    "tipss.select(cbrt(col = tipss['total_bill'])).show()"
   ]
  },
  {
   "cell_type": "code",
   "execution_count": 0,
   "metadata": {
    "application/vnd.databricks.v1+cell": {
     "cellMetadata": {},
     "inputWidgets": {},
     "nuid": "cea085ee-2906-44a1-a601-a45296710278",
     "showTitle": false,
     "title": ""
    },
    "colab": {},
    "colab_type": "code",
    "id": "r09SZxQ9zZay"
   },
   "outputs": [],
   "source": [
    "# 19. ceil\n",
    "from pyspark.sql.functions import ceil\n",
    "#Computes the ceiling of the given value."
   ]
  },
  {
   "cell_type": "code",
   "execution_count": 0,
   "metadata": {
    "application/vnd.databricks.v1+cell": {
     "cellMetadata": {},
     "inputWidgets": {},
     "nuid": "ce34f55a-3763-490f-a183-4273c9d2e258",
     "showTitle": false,
     "title": ""
    },
    "colab": {
     "base_uri": "https://localhost:8080/",
     "height": 466
    },
    "colab_type": "code",
    "id": "9geTjsua0Zjb",
    "outputId": "f447aed4-452d-47b3-ed5a-224b8f393f8e"
   },
   "outputs": [
    {
     "output_type": "stream",
     "name": "stdout",
     "output_type": "stream",
     "text": [
      "+----------------+\n|CEIL(total_bill)|\n+----------------+\n|              17|\n|              11|\n|              22|\n|              24|\n|              25|\n|              26|\n|               9|\n|              27|\n|              16|\n|              15|\n|              11|\n|              36|\n|              16|\n|              19|\n|              15|\n|              22|\n|              11|\n|              17|\n|              17|\n|              21|\n+----------------+\nonly showing top 20 rows\n\n"
     ]
    }
   ],
   "source": [
    "tipss.select(ceil(col = tipss['total_bill'])).show()"
   ]
  },
  {
   "cell_type": "code",
   "execution_count": 0,
   "metadata": {
    "application/vnd.databricks.v1+cell": {
     "cellMetadata": {},
     "inputWidgets": {},
     "nuid": "3c303733-c78a-4b63-b52a-cbafb393231c",
     "showTitle": false,
     "title": ""
    },
    "colab": {},
    "colab_type": "code",
    "id": "pm5czYNV0iJS"
   },
   "outputs": [],
   "source": [
    "df7 = spark.createDataFrame(data=[(None, None),(1, None), (None, 2)] , schema=('a','b') )"
   ]
  },
  {
   "cell_type": "code",
   "execution_count": 0,
   "metadata": {
    "application/vnd.databricks.v1+cell": {
     "cellMetadata": {},
     "inputWidgets": {},
     "nuid": "dcfe2082-fbe6-45dc-99c5-c783b180dc6a",
     "showTitle": false,
     "title": ""
    },
    "colab": {
     "base_uri": "https://localhost:8080/",
     "height": 155
    },
    "colab_type": "code",
    "id": "J5poUlJX3lA6",
    "outputId": "0ea4eafc-a84b-41dd-c2db-fbafd466baad"
   },
   "outputs": [
    {
     "output_type": "stream",
     "name": "stdout",
     "output_type": "stream",
     "text": [
      "+----+----+\n|   a|   b|\n+----+----+\n|null|null|\n|   1|null|\n|null|   2|\n+----+----+\n\n"
     ]
    }
   ],
   "source": [
    "df7.show()"
   ]
  },
  {
   "cell_type": "code",
   "execution_count": 0,
   "metadata": {
    "application/vnd.databricks.v1+cell": {
     "cellMetadata": {},
     "inputWidgets": {},
     "nuid": "a520552d-385c-47a6-a0ca-231ec981d583",
     "showTitle": false,
     "title": ""
    },
    "colab": {},
    "colab_type": "code",
    "id": "GMrLGKEL4zCk"
   },
   "outputs": [],
   "source": [
    "#20. coalesce\n",
    "from pyspark.sql.functions import coalesce\n",
    "#Returns the first column that is not null."
   ]
  },
  {
   "cell_type": "code",
   "execution_count": 0,
   "metadata": {
    "application/vnd.databricks.v1+cell": {
     "cellMetadata": {},
     "inputWidgets": {},
     "nuid": "509c826f-83e1-42cb-b67e-8e23ba5d7ff4",
     "showTitle": false,
     "title": ""
    },
    "colab": {
     "base_uri": "https://localhost:8080/",
     "height": 155
    },
    "colab_type": "code",
    "id": "SiKpcK8044l7",
    "outputId": "c86541b1-a4f1-4d31-c0f9-7274942c0510"
   },
   "outputs": [
    {
     "output_type": "stream",
     "name": "stdout",
     "output_type": "stream",
     "text": [
      "+--------------+\n|coalesce(a, b)|\n+--------------+\n|          null|\n|             1|\n|             2|\n+--------------+\n\n"
     ]
    }
   ],
   "source": [
    "df7.select(coalesce(df7['a'], df7['b'])).show()"
   ]
  },
  {
   "cell_type": "code",
   "execution_count": 0,
   "metadata": {
    "application/vnd.databricks.v1+cell": {
     "cellMetadata": {},
     "inputWidgets": {},
     "nuid": "9eaa821c-646a-4523-bc9b-809526103cee",
     "showTitle": false,
     "title": ""
    },
    "colab": {},
    "colab_type": "code",
    "id": "LH863_7u5IP0"
   },
   "outputs": [],
   "source": [
    "from pyspark.sql.functions import lit\n",
    "#Creates a :class:`Column` of literal value."
   ]
  },
  {
   "cell_type": "code",
   "execution_count": 0,
   "metadata": {
    "application/vnd.databricks.v1+cell": {
     "cellMetadata": {},
     "inputWidgets": {},
     "nuid": "79edd119-e525-4cb7-8290-4ad71a922224",
     "showTitle": false,
     "title": ""
    }
   },
   "outputs": [
    {
     "output_type": "stream",
     "name": "stdout",
     "output_type": "stream",
     "text": [
      "+----+----+-----------------------------+\n|   a|   b|coalesce(a, coalesce(b, 0.0))|\n+----+----+-----------------------------+\n|null|null|                          0.0|\n|   1|null|                          1.0|\n|null|   2|                          2.0|\n+----+----+-----------------------------+\n\n"
     ]
    }
   ],
   "source": [
    "df7.select('*', coalesce(df7['a'] , coalesce(df7['b'],lit(col = 0.0)))).show()"
   ]
  },
  {
   "cell_type": "code",
   "execution_count": 0,
   "metadata": {
    "application/vnd.databricks.v1+cell": {
     "cellMetadata": {},
     "inputWidgets": {},
     "nuid": "ff908ff1-48bd-4995-bce9-5dcf719acdca",
     "showTitle": false,
     "title": ""
    },
    "colab": {
     "base_uri": "https://localhost:8080/",
     "height": 155
    },
    "colab_type": "code",
    "id": "mYcY2frg8A0R",
    "outputId": "b1ff3018-60a2-4dc9-f638-41a42097c193"
   },
   "outputs": [
    {
     "output_type": "stream",
     "name": "stdout",
     "output_type": "stream",
     "text": [
      "+----+----+----------------+\n|   a|   b|coalesce(a, 0.0)|\n+----+----+----------------+\n|null|null|             0.0|\n|   1|null|             1.0|\n|null|   2|             0.0|\n+----+----+----------------+\n\n"
     ]
    }
   ],
   "source": [
    "df7.select('*',coalesce(df7['a'], lit(col = 0.0))).show()"
   ]
  },
  {
   "cell_type": "code",
   "execution_count": 0,
   "metadata": {
    "application/vnd.databricks.v1+cell": {
     "cellMetadata": {},
     "inputWidgets": {},
     "nuid": "aba93ae7-8f7c-49c6-bb0c-a84c112f9c48",
     "showTitle": false,
     "title": ""
    },
    "colab": {},
    "colab_type": "code",
    "id": "-NyhzZlH-6uU"
   },
   "outputs": [],
   "source": [
    "# 21. collect_list\n",
    "from pyspark.sql.functions import collect_list\n",
    "#Aggregate function: returns a list of objects with duplicates."
   ]
  },
  {
   "cell_type": "code",
   "execution_count": 0,
   "metadata": {
    "application/vnd.databricks.v1+cell": {
     "cellMetadata": {},
     "inputWidgets": {},
     "nuid": "9a31428a-0a45-4914-a43b-064fb5f79ed8",
     "showTitle": false,
     "title": ""
    },
    "colab": {
     "base_uri": "https://localhost:8080/",
     "height": 121
    },
    "colab_type": "code",
    "id": "gDp6pauPB9Yl",
    "outputId": "cdddb6ca-376c-4fcb-b780-88774d14e3f8"
   },
   "outputs": [
    {
     "output_type": "stream",
     "name": "stdout",
     "output_type": "stream",
     "text": [
      "Out[91]: [16.99,\n 10.34,\n 21.01,\n 23.68,\n 24.59,\n 25.29,\n 8.77,\n 26.88,\n 15.04,\n 14.78,\n 10.27,\n 35.26,\n 15.42,\n 18.43,\n 14.83,\n 21.58,\n 10.33,\n 16.29,\n 16.97,\n 20.65,\n 17.92,\n 20.29,\n 15.77,\n 39.42,\n 19.82,\n 17.81,\n 13.37,\n 12.69,\n 21.7,\n 19.65,\n 9.55,\n 18.35,\n 15.06,\n 20.69,\n 17.78,\n 24.06,\n 16.31,\n 16.93,\n 18.69,\n 31.27,\n 16.04,\n 17.46,\n 13.94,\n 9.68,\n 30.4,\n 18.29,\n 22.23,\n 32.4,\n 28.55,\n 18.04,\n 12.54,\n 10.29,\n 34.81,\n 9.94,\n 25.56,\n 19.49,\n 38.01,\n 26.41,\n 11.24,\n 48.27,\n 20.29,\n 13.81,\n 11.02,\n 18.29,\n 17.59,\n 20.08,\n 16.45,\n 3.07,\n 20.23,\n 15.01,\n 12.02,\n 17.07,\n 26.86,\n 25.28,\n 14.73,\n 10.51,\n 17.92,\n 27.2,\n 22.76,\n 17.29,\n 19.44,\n 16.66,\n 10.07,\n 32.68,\n 15.98,\n 34.83,\n 13.03,\n 18.28,\n 24.71,\n 21.16,\n 28.97,\n 22.49,\n 5.75,\n 16.32,\n 22.75,\n 40.17,\n 27.28,\n 12.03,\n 21.01,\n 12.46,\n 11.35,\n 15.38,\n 44.3,\n 22.42,\n 20.92,\n 15.36,\n 20.49,\n 25.21,\n 18.24,\n 14.31,\n 14.0,\n 7.25,\n 38.07,\n 23.95,\n 25.71,\n 17.31,\n 29.93,\n 10.65,\n 12.43,\n 24.08,\n 11.69,\n 13.42,\n 14.26,\n 15.95,\n 12.48,\n 29.8,\n 8.52,\n 14.52,\n 11.38,\n 22.82,\n 19.08,\n 20.27,\n 11.17,\n 12.26,\n 18.26,\n 8.51,\n 10.33,\n 14.15,\n 16.0,\n 13.16,\n 17.47,\n 34.3,\n 41.19,\n 27.05,\n 16.43,\n 8.35,\n 18.64,\n 11.87,\n 9.78,\n 7.51,\n 14.07,\n 13.13,\n 17.26,\n 24.55,\n 19.77,\n 29.85,\n 48.17,\n 25.0,\n 13.39,\n 16.49,\n 21.5,\n 12.66,\n 16.21,\n 13.81,\n 17.51,\n 24.52,\n 20.76,\n 31.71,\n 10.59,\n 10.63,\n 50.81,\n 15.81,\n 7.25,\n 31.85,\n 16.82,\n 32.9,\n 17.89,\n 14.48,\n 9.6,\n 34.63,\n 34.65,\n 23.33,\n 45.35,\n 23.17,\n 40.55,\n 20.69,\n 20.9,\n 30.46,\n 18.15,\n 23.1,\n 15.69,\n 19.81,\n 28.44,\n 15.48,\n 16.58,\n 7.56,\n 10.34,\n 43.11,\n 13.0,\n 13.51,\n 18.71,\n 12.74,\n 13.0,\n 16.4,\n 20.53,\n 16.47,\n 26.59,\n 38.73,\n 24.27,\n 12.76,\n 30.06,\n 25.89,\n 48.33,\n 13.27,\n 28.17,\n 12.9,\n 28.15,\n 11.59,\n 7.74,\n 30.14,\n 12.16,\n 13.42,\n 8.58,\n 15.98,\n 13.42,\n 16.27,\n 10.09,\n 20.45,\n 13.28,\n 22.12,\n 24.01,\n 15.69,\n 11.61,\n 10.77,\n 15.53,\n 10.07,\n 12.6,\n 32.83,\n 35.83,\n 29.03,\n 27.18,\n 22.67,\n 17.82,\n 18.78]"
     ]
    }
   ],
   "source": [
    "tipss.select(collect_list(col = tipss['total_bill'])).collect()[0][0]"
   ]
  },
  {
   "cell_type": "code",
   "execution_count": 0,
   "metadata": {
    "application/vnd.databricks.v1+cell": {
     "cellMetadata": {},
     "inputWidgets": {},
     "nuid": "842918bd-9aaa-471e-9459-902bac63132f",
     "showTitle": false,
     "title": ""
    },
    "colab": {},
    "colab_type": "code",
    "id": "LiKDpts4CKVF"
   },
   "outputs": [],
   "source": [
    "#22. collect_set\n",
    "from pyspark.sql.functions import collect_set\n",
    "#Aggregate function: returns a set of objects with duplicate elements eliminated."
   ]
  },
  {
   "cell_type": "code",
   "execution_count": 0,
   "metadata": {
    "application/vnd.databricks.v1+cell": {
     "cellMetadata": {},
     "inputWidgets": {},
     "nuid": "644ef8e1-5b01-4d36-913a-bfa83f3bac52",
     "showTitle": false,
     "title": ""
    },
    "colab": {
     "base_uri": "https://localhost:8080/",
     "height": 121
    },
    "colab_type": "code",
    "id": "oQ5zntfGGzQn",
    "outputId": "7c5bfe11-1c0b-4ce9-bcdd-60d6d84aa89b"
   },
   "outputs": [
    {
     "output_type": "stream",
     "name": "stdout",
     "output_type": "stream",
     "text": [
      "Out[93]: ['Dinner', 'Lunch']"
     ]
    }
   ],
   "source": [
    "tipss.select(collect_set(col = tipss['time'])).collect()[0][0]"
   ]
  },
  {
   "cell_type": "code",
   "execution_count": 0,
   "metadata": {
    "application/vnd.databricks.v1+cell": {
     "cellMetadata": {},
     "inputWidgets": {},
     "nuid": "8fce775b-8504-4ed7-abe7-6d782d0e0874",
     "showTitle": false,
     "title": ""
    },
    "colab": {},
    "colab_type": "code",
    "id": "K24oAECSG2M2"
   },
   "outputs": [],
   "source": [
    "#23. concat\n",
    "from pyspark.sql.functions import concat\n",
    "#Concatenates multiple input columns together into a single column. The function works with strings, binary and compatible array columns."
   ]
  },
  {
   "cell_type": "code",
   "execution_count": 0,
   "metadata": {
    "application/vnd.databricks.v1+cell": {
     "cellMetadata": {},
     "inputWidgets": {},
     "nuid": "a9aa1ea1-b7c0-45d9-a6ae-830f5ba4a338",
     "showTitle": false,
     "title": ""
    },
    "colab": {
     "base_uri": "https://localhost:8080/",
     "height": 466
    },
    "colab_type": "code",
    "id": "VD_0hrUYIhcn",
    "outputId": "404685ec-bc2d-460b-b030-9fad8b68a9da"
   },
   "outputs": [
    {
     "output_type": "stream",
     "name": "stdout",
     "output_type": "stream",
     "text": [
      "+-----------------+\n|concat(sex, time)|\n+-----------------+\n|     FemaleDinner|\n|       MaleDinner|\n|       MaleDinner|\n|       MaleDinner|\n|     FemaleDinner|\n|       MaleDinner|\n|       MaleDinner|\n|       MaleDinner|\n|       MaleDinner|\n|       MaleDinner|\n|       MaleDinner|\n|     FemaleDinner|\n|       MaleDinner|\n|       MaleDinner|\n|     FemaleDinner|\n|       MaleDinner|\n|     FemaleDinner|\n|       MaleDinner|\n|     FemaleDinner|\n|       MaleDinner|\n+-----------------+\nonly showing top 20 rows\n\n"
     ]
    }
   ],
   "source": [
    "tipss.select(concat(tipss['sex'], tipss['time'])).show()"
   ]
  },
  {
   "cell_type": "code",
   "execution_count": 0,
   "metadata": {
    "application/vnd.databricks.v1+cell": {
     "cellMetadata": {},
     "inputWidgets": {},
     "nuid": "97c791cb-cc6b-43d2-b6d1-d96e04e53668",
     "showTitle": false,
     "title": ""
    },
    "colab": {},
    "colab_type": "code",
    "id": "5G6TQpekIjHX"
   },
   "outputs": [],
   "source": [
    "# 24. concat_ws\n",
    "from pyspark.sql.functions import concat_ws\n",
    "#Concatenates multiple input string columns together into a single string column, using the given separator."
   ]
  },
  {
   "cell_type": "code",
   "execution_count": 0,
   "metadata": {
    "application/vnd.databricks.v1+cell": {
     "cellMetadata": {},
     "inputWidgets": {},
     "nuid": "28798545-8503-4bb7-892f-75d14fa64dfa",
     "showTitle": false,
     "title": ""
    },
    "colab": {
     "base_uri": "https://localhost:8080/",
     "height": 466
    },
    "colab_type": "code",
    "id": "J2xAIAHOJI8n",
    "outputId": "44c9450a-0688-450c-a566-95ae2c4be270"
   },
   "outputs": [
    {
     "output_type": "stream",
     "name": "stdout",
     "output_type": "stream",
     "text": [
      "+-------------------------+\n|concat_ws( - , sex, time)|\n+-------------------------+\n|          Female - Dinner|\n|            Male - Dinner|\n|            Male - Dinner|\n|            Male - Dinner|\n|          Female - Dinner|\n|            Male - Dinner|\n|            Male - Dinner|\n|            Male - Dinner|\n|            Male - Dinner|\n|            Male - Dinner|\n|            Male - Dinner|\n|          Female - Dinner|\n|            Male - Dinner|\n|            Male - Dinner|\n|          Female - Dinner|\n|            Male - Dinner|\n|          Female - Dinner|\n|            Male - Dinner|\n|          Female - Dinner|\n|            Male - Dinner|\n+-------------------------+\nonly showing top 20 rows\n\n"
     ]
    }
   ],
   "source": [
    "tipss.select(concat_ws(\" - \", *[tipss['sex'], tipss['time']])).show()"
   ]
  },
  {
   "cell_type": "code",
   "execution_count": 0,
   "metadata": {
    "application/vnd.databricks.v1+cell": {
     "cellMetadata": {},
     "inputWidgets": {},
     "nuid": "ca1e061e-fae4-4d69-bf62-1a915a6b1c7a",
     "showTitle": false,
     "title": ""
    },
    "colab": {},
    "colab_type": "code",
    "id": "kR8EJNYlJVHv"
   },
   "outputs": [],
   "source": [
    "#25. conv\n",
    "from pyspark.sql.functions import conv\n",
    "#Convert a number in a string column from one base to another."
   ]
  },
  {
   "cell_type": "code",
   "execution_count": 0,
   "metadata": {
    "application/vnd.databricks.v1+cell": {
     "cellMetadata": {},
     "inputWidgets": {},
     "nuid": "fe783364-afdf-44e5-a7ec-8f46002c8cc7",
     "showTitle": false,
     "title": ""
    },
    "colab": {
     "base_uri": "https://localhost:8080/",
     "height": 466
    },
    "colab_type": "code",
    "id": "BoBZcyRuKAvP",
    "outputId": "3291b7ef-bb52-484c-8002-c4915eaa4b4e"
   },
   "outputs": [
    {
     "output_type": "stream",
     "name": "stdout",
     "output_type": "stream",
     "text": [
      "+-----------------------+\n|conv(total_bill, 2, 16)|\n+-----------------------+\n|                      1|\n|                      2|\n|                      0|\n|                      0|\n|                      0|\n|                      0|\n|                      0|\n|                      0|\n|                      1|\n|                      1|\n|                      2|\n|                      0|\n|                      1|\n|                      1|\n|                      1|\n|                      0|\n|                      2|\n|                      1|\n|                      1|\n|                      0|\n+-----------------------+\nonly showing top 20 rows\n\n"
     ]
    }
   ],
   "source": [
    "tipss.select(conv(col = tipss['total_bill'], fromBase = 2, toBase = 16)).show()"
   ]
  },
  {
   "cell_type": "code",
   "execution_count": 0,
   "metadata": {
    "application/vnd.databricks.v1+cell": {
     "cellMetadata": {},
     "inputWidgets": {},
     "nuid": "8be0617b-5b36-4d3b-9d1b-2caea4ca0521",
     "showTitle": false,
     "title": ""
    },
    "colab": {},
    "colab_type": "code",
    "id": "vnWclrN7KNc3"
   },
   "outputs": [],
   "source": [
    "#26. corr\n",
    "from pyspark.sql.functions import corr\n",
    "#Returns a new Column for the Pearson Correlation Coefficient for col1 and col2."
   ]
  },
  {
   "cell_type": "code",
   "execution_count": 0,
   "metadata": {
    "application/vnd.databricks.v1+cell": {
     "cellMetadata": {},
     "inputWidgets": {},
     "nuid": "94b1ec50-6868-4f5c-b39b-5478b3090198",
     "showTitle": false,
     "title": ""
    },
    "colab": {
     "base_uri": "https://localhost:8080/",
     "height": 121
    },
    "colab_type": "code",
    "id": "zgUyA2A3dYcU",
    "outputId": "24ba1ee0-8a33-4dfa-df38-5ce99e8abd66"
   },
   "outputs": [
    {
     "output_type": "stream",
     "name": "stdout",
     "output_type": "stream",
     "text": [
      "+---------------------+\n|corr(total_bill, tip)|\n+---------------------+\n|   0.6757341092113646|\n+---------------------+\n\n"
     ]
    }
   ],
   "source": [
    "tipss.select(corr(col1=tipss['total_bill'], col2=tipss['tip'])).show()"
   ]
  },
  {
   "cell_type": "code",
   "execution_count": 0,
   "metadata": {
    "application/vnd.databricks.v1+cell": {
     "cellMetadata": {},
     "inputWidgets": {},
     "nuid": "26ca1a37-04f3-4b1e-8a6d-2deccb8e647c",
     "showTitle": false,
     "title": ""
    },
    "colab": {
     "base_uri": "https://localhost:8080/",
     "height": 34
    },
    "colab_type": "code",
    "id": "g6XweggieFQF",
    "outputId": "235c3f0c-4af7-4b9d-8c26-0e44944eb368"
   },
   "outputs": [
    {
     "output_type": "stream",
     "name": "stdout",
     "output_type": "stream",
     "text": [
      "Out[102]: ['total_bill', 'tip', 'sex', 'smoker', 'day', 'time', 'size']"
     ]
    }
   ],
   "source": [
    "tipss.columns"
   ]
  },
  {
   "cell_type": "code",
   "execution_count": 0,
   "metadata": {
    "application/vnd.databricks.v1+cell": {
     "cellMetadata": {},
     "inputWidgets": {},
     "nuid": "8639a65f-910a-4258-837b-eb0aaa3281c8",
     "showTitle": false,
     "title": ""
    }
   },
   "outputs": [
    {
     "output_type": "stream",
     "name": "stdout",
     "output_type": "stream",
     "text": [
      "+------+---------------------+\n|   sex|corr(total_bill, tip)|\n+------+---------------------+\n|Female|   0.6829992918122417|\n|  Male|   0.6697529858911424|\n+------+---------------------+\n\n"
     ]
    }
   ],
   "source": [
    "tipss.groupBy(['sex']).agg(corr(tipss['total_bill'],tipss['tip'])).show()"
   ]
  },
  {
   "cell_type": "code",
   "execution_count": 0,
   "metadata": {
    "application/vnd.databricks.v1+cell": {
     "cellMetadata": {},
     "inputWidgets": {},
     "nuid": "68b85b90-9f97-4923-b058-814078995540",
     "showTitle": false,
     "title": ""
    },
    "colab": {},
    "colab_type": "code",
    "id": "LQyM7mu5dmoJ"
   },
   "outputs": [],
   "source": [
    "#27. count\n",
    "from pyspark.sql.functions import count\n",
    "#Aggregate function: returns the number of items in a group."
   ]
  },
  {
   "cell_type": "code",
   "execution_count": 0,
   "metadata": {
    "application/vnd.databricks.v1+cell": {
     "cellMetadata": {},
     "inputWidgets": {},
     "nuid": "5e5d57d0-43d7-412c-a150-424cc7516654",
     "showTitle": false,
     "title": ""
    },
    "colab": {
     "base_uri": "https://localhost:8080/",
     "height": 121
    },
    "colab_type": "code",
    "id": "iPlKfxG5eqlX",
    "outputId": "31a8111f-e4f1-4267-b578-65e4d82a2062"
   },
   "outputs": [
    {
     "output_type": "stream",
     "name": "stdout",
     "output_type": "stream",
     "text": [
      "+----------+\n|count(sex)|\n+----------+\n|       244|\n+----------+\n\n"
     ]
    }
   ],
   "source": [
    "tipss.agg(count(col = tipss['sex'])).show()"
   ]
  },
  {
   "cell_type": "code",
   "execution_count": 0,
   "metadata": {
    "application/vnd.databricks.v1+cell": {
     "cellMetadata": {},
     "inputWidgets": {},
     "nuid": "e7897dc9-9c68-4f42-9f29-49ce488adfed",
     "showTitle": false,
     "title": ""
    }
   },
   "outputs": [
    {
     "output_type": "stream",
     "name": "stdout",
     "output_type": "stream",
     "text": [
      "+------+----------+\n|   sex|count(sex)|\n+------+----------+\n|Female|        87|\n|  Male|       157|\n+------+----------+\n\n"
     ]
    }
   ],
   "source": [
    "tipss.groupBy(tipss['sex']).agg(count(col = tipss['sex'])).show()"
   ]
  },
  {
   "cell_type": "code",
   "execution_count": 0,
   "metadata": {
    "application/vnd.databricks.v1+cell": {
     "cellMetadata": {},
     "inputWidgets": {},
     "nuid": "29864884-e128-4264-8e52-f16e591be587",
     "showTitle": false,
     "title": ""
    },
    "colab": {},
    "colab_type": "code",
    "id": "WhA7KhP0e2Hf"
   },
   "outputs": [],
   "source": [
    "# 28. countDistinct\n",
    "from pyspark.sql.functions import countDistinct\n",
    "#Aggregate function: Returns a new Column for distinct count of col or cols."
   ]
  },
  {
   "cell_type": "code",
   "execution_count": 0,
   "metadata": {
    "application/vnd.databricks.v1+cell": {
     "cellMetadata": {},
     "inputWidgets": {},
     "nuid": "7ffb4114-ccb3-42c1-9d8d-381842a26071",
     "showTitle": false,
     "title": ""
    },
    "colab": {
     "base_uri": "https://localhost:8080/",
     "height": 121
    },
    "colab_type": "code",
    "id": "Owi02mEOe_PH",
    "outputId": "7b380b09-a305-434c-a74e-0578deb5cc48"
   },
   "outputs": [
    {
     "output_type": "stream",
     "name": "stdout",
     "output_type": "stream",
     "text": [
      "+----------+\n|count(sex)|\n+----------+\n|         2|\n+----------+\n\n"
     ]
    }
   ],
   "source": [
    "tipss.agg(countDistinct(col = tipss['sex'])).show()"
   ]
  },
  {
   "cell_type": "code",
   "execution_count": 0,
   "metadata": {
    "application/vnd.databricks.v1+cell": {
     "cellMetadata": {},
     "inputWidgets": {},
     "nuid": "39b7ff8b-8894-4239-b66a-91b2d2f7f6df",
     "showTitle": false,
     "title": ""
    },
    "colab": {},
    "colab_type": "code",
    "id": "HFjM7PNzgEaH"
   },
   "outputs": [],
   "source": [
    "# 29. covar_pop\n",
    "from pyspark.sql.functions import covar_pop\n",
    "from pyspark.sql.functions import covar_samp\n",
    "#Returns a new Column for the population covariance of col1 and col2."
   ]
  },
  {
   "cell_type": "code",
   "execution_count": 0,
   "metadata": {
    "application/vnd.databricks.v1+cell": {
     "cellMetadata": {},
     "inputWidgets": {},
     "nuid": "a72cfe6f-3445-4ae9-947e-198d25a72793",
     "showTitle": false,
     "title": ""
    },
    "colab": {
     "base_uri": "https://localhost:8080/",
     "height": 121
    },
    "colab_type": "code",
    "id": "As3UiNM8go4Z",
    "outputId": "494afc1f-c503-41bc-8ec4-52ac3d5aac8e"
   },
   "outputs": [
    {
     "output_type": "stream",
     "name": "stdout",
     "output_type": "stream",
     "text": [
      "+--------------------------+\n|covar_pop(tip, total_bill)|\n+--------------------------+\n|          8.28938891762967|\n+--------------------------+\n\n"
     ]
    }
   ],
   "source": [
    "tipss.agg(covar_pop(col1 = tipss['tip'], col2= tipss['total_bill'])).show()"
   ]
  },
  {
   "cell_type": "code",
   "execution_count": 0,
   "metadata": {
    "application/vnd.databricks.v1+cell": {
     "cellMetadata": {},
     "inputWidgets": {},
     "nuid": "6a1bcf1d-164f-4a3d-a5df-6de195a6febb",
     "showTitle": false,
     "title": ""
    }
   },
   "outputs": [
    {
     "output_type": "stream",
     "name": "stdout",
     "output_type": "stream",
     "text": [
      "+----+------+-----------------+\n| day|   sex|        covar_pop|\n+----+------+-----------------+\n| Sat|  Male|13.28457144498707|\n| Sun|  Male|5.205987158145064|\n| Sat|Female|5.210117219387756|\n| Sun|Female|6.252778395061728|\n|Thur|  Male|7.994911777777778|\n| Fri|  Male|9.419429000000003|\n|Thur|Female|7.259982617187501|\n| Fri|Female|2.867982716049383|\n+----+------+-----------------+\n\n"
     ]
    }
   ],
   "source": [
    "cp = tipss.groupBy(['day','sex']).agg(covar_pop(col1 = tipss['tip'], col2= tipss['total_bill']).alias('covar_pop'))\n",
    "cp.show()"
   ]
  },
  {
   "cell_type": "code",
   "execution_count": 0,
   "metadata": {
    "application/vnd.databricks.v1+cell": {
     "cellMetadata": {},
     "inputWidgets": {},
     "nuid": "7a2ab90f-dc4d-4e2f-b38f-6683e42ea8ae",
     "showTitle": false,
     "title": ""
    }
   },
   "outputs": [
    {
     "output_type": "stream",
     "name": "stdout",
     "output_type": "stream",
     "text": [
      "+----+------+------------------+\n| day|   sex|        covar_samp|\n+----+------+------------------+\n| Sat|  Male| 13.51361578024547|\n| Sun|  Male| 5.297320266182696|\n| Sat|Female| 5.403084523809525|\n| Sun|Female| 6.620588888888888|\n|Thur|  Male| 8.270598390804599|\n| Fri|  Male|10.466032222222225|\n|Thur|Female| 7.494175604838711|\n| Fri|Female| 3.226480555555556|\n+----+------+------------------+\n\n"
     ]
    }
   ],
   "source": [
    "cs = tipss.groupBy(['day','sex']).agg(covar_samp(col1 = tipss['tip'], col2= tipss['total_bill']).alias('covar_samp'))\n",
    "cs.show()"
   ]
  },
  {
   "cell_type": "code",
   "execution_count": 0,
   "metadata": {
    "application/vnd.databricks.v1+cell": {
     "cellMetadata": {},
     "inputWidgets": {},
     "nuid": "1a4bf256-3598-4efe-a9a0-3aeb6f272dcd",
     "showTitle": false,
     "title": ""
    }
   },
   "outputs": [],
   "source": [
    "#joining in pyspark with multiple conditions\n",
    "joined = cp.join(other = cs, on = [cp.day == cs.day ,cp.sex == cs.sex ], how = 'inner').drop(cs.day).drop(cs.sex)"
   ]
  },
  {
   "cell_type": "code",
   "execution_count": 0,
   "metadata": {
    "application/vnd.databricks.v1+cell": {
     "cellMetadata": {},
     "inputWidgets": {},
     "nuid": "a1187ffa-a704-47f2-86db-c6d8367fefc6",
     "showTitle": false,
     "title": ""
    }
   },
   "outputs": [
    {
     "output_type": "stream",
     "name": "stdout",
     "output_type": "stream",
     "text": [
      "+-----------------+----+------+------------------+\n|        covar_pop| day|   sex|        covar_samp|\n+-----------------+----+------+------------------+\n|13.28457144498707| Sat|  Male| 13.51361578024547|\n|5.205987158145064| Sun|  Male| 5.297320266182696|\n|5.210117219387756| Sat|Female| 5.403084523809525|\n|6.252778395061728| Sun|Female| 6.620588888888888|\n|7.994911777777778|Thur|  Male| 8.270598390804599|\n|9.419429000000003| Fri|  Male|10.466032222222225|\n|7.259982617187501|Thur|Female| 7.494175604838711|\n|2.867982716049383| Fri|Female| 3.226480555555556|\n+-----------------+----+------+------------------+\n\n"
     ]
    }
   ],
   "source": [
    "joined.show()"
   ]
  },
  {
   "cell_type": "code",
   "execution_count": 0,
   "metadata": {
    "application/vnd.databricks.v1+cell": {
     "cellMetadata": {},
     "inputWidgets": {},
     "nuid": "038ea26a-d86b-414e-a389-d3c3ad78a358",
     "showTitle": false,
     "title": ""
    },
    "colab": {},
    "colab_type": "code",
    "id": "mglqqCKsg2rY"
   },
   "outputs": [],
   "source": [
    "# 30. covar_samp\n",
    "from pyspark.sql.functions import covar_samp\n",
    "#Returns a new Column for the population covariance of col1 and col2."
   ]
  },
  {
   "cell_type": "code",
   "execution_count": 0,
   "metadata": {
    "application/vnd.databricks.v1+cell": {
     "cellMetadata": {},
     "inputWidgets": {},
     "nuid": "f2f61446-9e24-4edd-9180-b8eb53a0938f",
     "showTitle": false,
     "title": ""
    },
    "colab": {
     "base_uri": "https://localhost:8080/",
     "height": 121
    },
    "colab_type": "code",
    "id": "GF8PF9Axg8YI",
    "outputId": "b11064eb-f83e-482e-a8ea-d7da177ee7ae"
   },
   "outputs": [
    {
     "output_type": "stream",
     "name": "stdout",
     "output_type": "stream",
     "text": [
      "+---------------------------+\n|covar_samp(tip, total_bill)|\n+---------------------------+\n|          8.323501629224854|\n+---------------------------+\n\n"
     ]
    }
   ],
   "source": [
    "tipss.agg(covar_samp(col1 = tipss['tip'], col2= tipss['total_bill'])).show()"
   ]
  },
  {
   "cell_type": "code",
   "execution_count": 0,
   "metadata": {
    "application/vnd.databricks.v1+cell": {
     "cellMetadata": {},
     "inputWidgets": {},
     "nuid": "9a9fd364-fd7e-47b4-be0c-c9b8a1440bae",
     "showTitle": false,
     "title": ""
    },
    "colab": {},
    "colab_type": "code",
    "id": "wfuhoauchMNZ"
   },
   "outputs": [],
   "source": [
    "#31. create_map\n",
    "from pyspark.sql.functions import create_map\n",
    "#Creates a new map column"
   ]
  },
  {
   "cell_type": "code",
   "execution_count": 0,
   "metadata": {
    "application/vnd.databricks.v1+cell": {
     "cellMetadata": {},
     "inputWidgets": {},
     "nuid": "c0564ca8-b7cb-42ca-8a34-490a8d26fbe4",
     "showTitle": false,
     "title": ""
    },
    "colab": {
     "base_uri": "https://localhost:8080/",
     "height": 466
    },
    "colab_type": "code",
    "id": "fP_Y61tfiaVT",
    "outputId": "b01213eb-29da-4654-df79-8911b0a2cb75"
   },
   "outputs": [
    {
     "output_type": "stream",
     "name": "stdout",
     "output_type": "stream",
     "text": [
      "+----------------+\n|map(smoker, sex)|\n+----------------+\n|  {No -> Female}|\n|    {No -> Male}|\n|    {No -> Male}|\n|    {No -> Male}|\n|  {No -> Female}|\n|    {No -> Male}|\n|    {No -> Male}|\n|    {No -> Male}|\n|    {No -> Male}|\n|    {No -> Male}|\n|    {No -> Male}|\n|  {No -> Female}|\n|    {No -> Male}|\n|    {No -> Male}|\n|  {No -> Female}|\n|    {No -> Male}|\n|  {No -> Female}|\n|    {No -> Male}|\n|  {No -> Female}|\n|    {No -> Male}|\n+----------------+\nonly showing top 20 rows\n\n"
     ]
    }
   ],
   "source": [
    "tipss.select(create_map(tipss['smoker'], tipss['sex'])).show()"
   ]
  },
  {
   "cell_type": "code",
   "execution_count": 0,
   "metadata": {
    "application/vnd.databricks.v1+cell": {
     "cellMetadata": {},
     "inputWidgets": {},
     "nuid": "02bec8db-82a1-4eb5-9205-a02c78181728",
     "showTitle": false,
     "title": ""
    },
    "colab": {},
    "colab_type": "code",
    "id": "5ZGkwgXCioTM"
   },
   "outputs": [],
   "source": [
    "# 32. current_date\n",
    "from pyspark.sql.functions import current_date\n",
    "#Returns the current date as a DateType column."
   ]
  },
  {
   "cell_type": "code",
   "execution_count": 0,
   "metadata": {
    "application/vnd.databricks.v1+cell": {
     "cellMetadata": {},
     "inputWidgets": {},
     "nuid": "334b6851-5261-40c9-a065-fa586548c7d8",
     "showTitle": false,
     "title": ""
    },
    "colab": {
     "base_uri": "https://localhost:8080/",
     "height": 466
    },
    "colab_type": "code",
    "id": "mnEX7vhji-r9",
    "outputId": "9022ee63-253e-4d37-d08b-e9e5714ba36c"
   },
   "outputs": [
    {
     "output_type": "stream",
     "name": "stdout",
     "output_type": "stream",
     "text": [
      "+----------+----+------+------+---+------+----+--------------+\n|total_bill| tip|   sex|smoker|day|  time|size|current_date()|\n+----------+----+------+------+---+------+----+--------------+\n|     16.99|1.01|Female|    No|Sun|Dinner|   2|    2022-02-21|\n|     10.34|1.66|  Male|    No|Sun|Dinner|   3|    2022-02-21|\n|     21.01| 3.5|  Male|    No|Sun|Dinner|   3|    2022-02-21|\n|     23.68|3.31|  Male|    No|Sun|Dinner|   2|    2022-02-21|\n|     24.59|3.61|Female|    No|Sun|Dinner|   4|    2022-02-21|\n|     25.29|4.71|  Male|    No|Sun|Dinner|   4|    2022-02-21|\n|      8.77| 2.0|  Male|    No|Sun|Dinner|   2|    2022-02-21|\n|     26.88|3.12|  Male|    No|Sun|Dinner|   4|    2022-02-21|\n|     15.04|1.96|  Male|    No|Sun|Dinner|   2|    2022-02-21|\n|     14.78|3.23|  Male|    No|Sun|Dinner|   2|    2022-02-21|\n|     10.27|1.71|  Male|    No|Sun|Dinner|   2|    2022-02-21|\n|     35.26| 5.0|Female|    No|Sun|Dinner|   4|    2022-02-21|\n|     15.42|1.57|  Male|    No|Sun|Dinner|   2|    2022-02-21|\n|     18.43| 3.0|  Male|    No|Sun|Dinner|   4|    2022-02-21|\n|     14.83|3.02|Female|    No|Sun|Dinner|   2|    2022-02-21|\n|     21.58|3.92|  Male|    No|Sun|Dinner|   2|    2022-02-21|\n|     10.33|1.67|Female|    No|Sun|Dinner|   3|    2022-02-21|\n|     16.29|3.71|  Male|    No|Sun|Dinner|   3|    2022-02-21|\n|     16.97| 3.5|Female|    No|Sun|Dinner|   3|    2022-02-21|\n|     20.65|3.35|  Male|    No|Sat|Dinner|   3|    2022-02-21|\n+----------+----+------+------+---+------+----+--------------+\nonly showing top 20 rows\n\n"
     ]
    }
   ],
   "source": [
    "tipss.select('*',current_date()).show()"
   ]
  },
  {
   "cell_type": "code",
   "execution_count": 0,
   "metadata": {
    "application/vnd.databricks.v1+cell": {
     "cellMetadata": {},
     "inputWidgets": {},
     "nuid": "4106780c-4076-415e-9368-2b86d851ea57",
     "showTitle": false,
     "title": ""
    },
    "colab": {},
    "colab_type": "code",
    "id": "RBGxfSDijBaV"
   },
   "outputs": [],
   "source": [
    "# 33. current_timestamp\n",
    "from pyspark.sql.functions import current_timestamp\n",
    "# Returns the current timestamp as a :class:`TimestampType` column."
   ]
  },
  {
   "cell_type": "code",
   "execution_count": 0,
   "metadata": {
    "application/vnd.databricks.v1+cell": {
     "cellMetadata": {},
     "inputWidgets": {},
     "nuid": "a3a1d832-fdc7-4c55-bd2d-b2d2ca1816b8",
     "showTitle": false,
     "title": ""
    },
    "colab": {
     "base_uri": "https://localhost:8080/",
     "height": 466
    },
    "colab_type": "code",
    "id": "Cz7xtPtpkSJn",
    "outputId": "98a20d32-3ec4-4c04-922a-a5c4668f6b6b"
   },
   "outputs": [
    {
     "output_type": "stream",
     "name": "stdout",
     "output_type": "stream",
     "text": [
      "+----------+----+------+------+---+------+----+-----------------------+\n|total_bill|tip |sex   |smoker|day|time  |size|Today's Date           |\n+----------+----+------+------+---+------+----+-----------------------+\n|16.99     |1.01|Female|No    |Sun|Dinner|2   |2022-02-21 14:48:43.454|\n|10.34     |1.66|Male  |No    |Sun|Dinner|3   |2022-02-21 14:48:43.454|\n|21.01     |3.5 |Male  |No    |Sun|Dinner|3   |2022-02-21 14:48:43.454|\n|23.68     |3.31|Male  |No    |Sun|Dinner|2   |2022-02-21 14:48:43.454|\n|24.59     |3.61|Female|No    |Sun|Dinner|4   |2022-02-21 14:48:43.454|\n|25.29     |4.71|Male  |No    |Sun|Dinner|4   |2022-02-21 14:48:43.454|\n|8.77      |2.0 |Male  |No    |Sun|Dinner|2   |2022-02-21 14:48:43.454|\n|26.88     |3.12|Male  |No    |Sun|Dinner|4   |2022-02-21 14:48:43.454|\n|15.04     |1.96|Male  |No    |Sun|Dinner|2   |2022-02-21 14:48:43.454|\n|14.78     |3.23|Male  |No    |Sun|Dinner|2   |2022-02-21 14:48:43.454|\n|10.27     |1.71|Male  |No    |Sun|Dinner|2   |2022-02-21 14:48:43.454|\n|35.26     |5.0 |Female|No    |Sun|Dinner|4   |2022-02-21 14:48:43.454|\n|15.42     |1.57|Male  |No    |Sun|Dinner|2   |2022-02-21 14:48:43.454|\n|18.43     |3.0 |Male  |No    |Sun|Dinner|4   |2022-02-21 14:48:43.454|\n|14.83     |3.02|Female|No    |Sun|Dinner|2   |2022-02-21 14:48:43.454|\n|21.58     |3.92|Male  |No    |Sun|Dinner|2   |2022-02-21 14:48:43.454|\n|10.33     |1.67|Female|No    |Sun|Dinner|3   |2022-02-21 14:48:43.454|\n|16.29     |3.71|Male  |No    |Sun|Dinner|3   |2022-02-21 14:48:43.454|\n|16.97     |3.5 |Female|No    |Sun|Dinner|3   |2022-02-21 14:48:43.454|\n|20.65     |3.35|Male  |No    |Sat|Dinner|3   |2022-02-21 14:48:43.454|\n+----------+----+------+------+---+------+----+-----------------------+\nonly showing top 20 rows\n\n"
     ]
    }
   ],
   "source": [
    "tipss.select('*', current_timestamp().alias(\"Today's Date\")).show(truncate = False)"
   ]
  },
  {
   "cell_type": "code",
   "execution_count": 0,
   "metadata": {
    "application/vnd.databricks.v1+cell": {
     "cellMetadata": {},
     "inputWidgets": {},
     "nuid": "468407cd-c57d-4361-aeba-c8e36657bfc5",
     "showTitle": false,
     "title": ""
    },
    "colab": {},
    "colab_type": "code",
    "id": "a61MLe59khM4"
   },
   "outputs": [],
   "source": [
    "# 34. date_add\n",
    "from pyspark.sql.functions import date_add\n",
    "#Returns the date that is days days after start"
   ]
  },
  {
   "cell_type": "code",
   "execution_count": 0,
   "metadata": {
    "application/vnd.databricks.v1+cell": {
     "cellMetadata": {},
     "inputWidgets": {},
     "nuid": "af352382-536a-4e45-b10e-c4061d643324",
     "showTitle": false,
     "title": ""
    },
    "colab": {
     "base_uri": "https://localhost:8080/",
     "height": 121
    },
    "colab_type": "code",
    "id": "fcELm9gJvG_3",
    "outputId": "b2f8b60d-fb52-4529-ae81-8e96dd9cba9c"
   },
   "outputs": [
    {
     "output_type": "stream",
     "name": "stdout",
     "output_type": "stream",
     "text": [
      "+--------------------------+\n|date_add(Today's Date, 20)|\n+--------------------------+\n|2022-03-13                |\n|2022-03-13                |\n|2022-03-13                |\n|2022-03-13                |\n|2022-03-13                |\n|2022-03-13                |\n|2022-03-13                |\n|2022-03-13                |\n|2022-03-13                |\n|2022-03-13                |\n|2022-03-13                |\n|2022-03-13                |\n|2022-03-13                |\n|2022-03-13                |\n|2022-03-13                |\n|2022-03-13                |\n|2022-03-13                |\n|2022-03-13                |\n|2022-03-13                |\n|2022-03-13                |\n+--------------------------+\nonly showing top 20 rows\n\n"
     ]
    }
   ],
   "source": [
    "tipss.select('*', current_timestamp().alias(\"Today's Date\")).select(date_add(start = \"Today's Date\", days = 20)).show(truncate = False)\n",
    "#df.select(date_add(start = df['dt'], days = 20)).show()"
   ]
  },
  {
   "cell_type": "code",
   "execution_count": 0,
   "metadata": {
    "application/vnd.databricks.v1+cell": {
     "cellMetadata": {},
     "inputWidgets": {},
     "nuid": "67510090-b902-4ca5-89c1-54740d00067f",
     "showTitle": false,
     "title": ""
    },
    "colab": {},
    "colab_type": "code",
    "id": "IKUTV1tNw3V8"
   },
   "outputs": [],
   "source": [
    "# 35. date_format\n",
    "from pyspark.sql.functions import date_format\n",
    "#Converts a date/timestamp/string to a value of string in the format specified by the date format given by the second argument."
   ]
  },
  {
   "cell_type": "code",
   "execution_count": 0,
   "metadata": {
    "application/vnd.databricks.v1+cell": {
     "cellMetadata": {},
     "inputWidgets": {},
     "nuid": "9723f8ee-826f-4412-b6a9-5621e1b9a4ef",
     "showTitle": false,
     "title": ""
    }
   },
   "outputs": [
    {
     "output_type": "stream",
     "name": "stdout",
     "output_type": "stream",
     "text": [
      "Help on function date_format in module pyspark.sql.functions:\n\ndate_format(date, format)\n    Converts a date/timestamp/string to a value of string in the format specified by the date\n    format given by the second argument.\n    \n    A pattern could be for instance `dd.MM.yyyy` and could return a string like '18.03.1993'. All\n    pattern letters of `datetime pattern`_. can be used.\n    \n    .. _datetime pattern: https://spark.apache.org/docs/latest/sql-ref-datetime-pattern.html\n    \n    .. versionadded:: 1.5.0\n    \n    Notes\n    -----\n    Whenever possible, use specialized functions like `year`.\n    \n    Examples\n    --------\n    >>> df = spark.createDataFrame([('2015-04-08',)], ['dt'])\n    >>> df.select(date_format('dt', 'MM/dd/yyy').alias('date')).collect()\n    [Row(date='04/08/2015')]\n\n"
     ]
    }
   ],
   "source": [
    "help(date_format)"
   ]
  },
  {
   "cell_type": "code",
   "execution_count": 0,
   "metadata": {
    "application/vnd.databricks.v1+cell": {
     "cellMetadata": {},
     "inputWidgets": {},
     "nuid": "d7ce9b64-59df-4824-b4ad-c9b6f868ce2b",
     "showTitle": false,
     "title": ""
    }
   },
   "outputs": [
    {
     "output_type": "stream",
     "name": "stdout",
     "output_type": "stream",
     "text": [
      "+----------+\n|        dt|\n+----------+\n|2015-04-08|\n+----------+\n\n"
     ]
    }
   ],
   "source": [
    "df.show()"
   ]
  },
  {
   "cell_type": "code",
   "execution_count": 0,
   "metadata": {
    "application/vnd.databricks.v1+cell": {
     "cellMetadata": {},
     "inputWidgets": {},
     "nuid": "06a8a20e-ee2f-4dbb-904d-e72c3fe0c3c8",
     "showTitle": false,
     "title": ""
    },
    "colab": {
     "base_uri": "https://localhost:8080/",
     "height": 121
    },
    "colab_type": "code",
    "id": "54qEBco6w5NT",
    "outputId": "8eacb1ea-100e-4301-88d7-1b9a3910f151"
   },
   "outputs": [
    {
     "output_type": "stream",
     "name": "stdout",
     "output_type": "stream",
     "text": [
      "+---------------------------+\n|date_format(dt, dd-MM-yyyy)|\n+---------------------------+\n|                 08-04-2015|\n+---------------------------+\n\n"
     ]
    }
   ],
   "source": [
    "df.select(date_format(date = df['dt'], format = \"dd-MM-yyyy\")).show()"
   ]
  },
  {
   "cell_type": "code",
   "execution_count": 0,
   "metadata": {
    "application/vnd.databricks.v1+cell": {
     "cellMetadata": {},
     "inputWidgets": {},
     "nuid": "af4063b0-9c86-46ad-80c2-0345d7bc1b70",
     "showTitle": false,
     "title": ""
    },
    "colab": {},
    "colab_type": "code",
    "id": "Qen44qOnyn8W"
   },
   "outputs": [],
   "source": [
    "# 36. date_sub\n",
    "from pyspark.sql.functions import date_sub\n",
    "#Returns the date that is days days before start"
   ]
  },
  {
   "cell_type": "code",
   "execution_count": 0,
   "metadata": {
    "application/vnd.databricks.v1+cell": {
     "cellMetadata": {},
     "inputWidgets": {},
     "nuid": "e38bb982-a916-4db8-8620-3893d5428d05",
     "showTitle": false,
     "title": ""
    },
    "colab": {
     "base_uri": "https://localhost:8080/",
     "height": 121
    },
    "colab_type": "code",
    "id": "LREBqxJxzF3t",
    "outputId": "01cfb6a4-b5f7-4c3f-a053-9e40ea351528"
   },
   "outputs": [
    {
     "output_type": "stream",
     "name": "stdout",
     "output_type": "stream",
     "text": [
      "+----------------+\n|date_sub(dt, 20)|\n+----------------+\n|      2015-03-19|\n+----------------+\n\n"
     ]
    }
   ],
   "source": [
    "df.select(date_sub(start = df['dt'], days = 20)).show()"
   ]
  },
  {
   "cell_type": "code",
   "execution_count": 0,
   "metadata": {
    "application/vnd.databricks.v1+cell": {
     "cellMetadata": {},
     "inputWidgets": {},
     "nuid": "685763aa-1f6b-41b2-98da-0b292bdbf2e9",
     "showTitle": false,
     "title": ""
    },
    "colab": {},
    "colab_type": "code",
    "id": "OyR9KAyczan7"
   },
   "outputs": [],
   "source": [
    "#37. date_trunc\n",
    "from pyspark.sql.functions import date_trunc\n",
    "#Returns timestamp truncated to the unit specified by the format. \n",
    "#Parameters format – ‘year’, ‘yyyy’, ‘yy’, ‘month’, ‘mon’, ‘mm’, ‘day’, ‘dd’, ‘hour’, ‘minute’, ‘second’, ‘week’, ‘quarter’"
   ]
  },
  {
   "cell_type": "code",
   "execution_count": 0,
   "metadata": {
    "application/vnd.databricks.v1+cell": {
     "cellMetadata": {},
     "inputWidgets": {},
     "nuid": "eb2f33e5-d58d-449c-abe1-df5e4f9acd11",
     "showTitle": false,
     "title": ""
    },
    "colab": {},
    "colab_type": "code",
    "id": "urtjQ3VYOJ68"
   },
   "outputs": [],
   "source": [
    "df7 = spark.createDataFrame(data = [('1997-02-28 05:02:11',)], schema = ['t'])"
   ]
  },
  {
   "cell_type": "code",
   "execution_count": 0,
   "metadata": {
    "application/vnd.databricks.v1+cell": {
     "cellMetadata": {},
     "inputWidgets": {},
     "nuid": "e515cbec-aba7-47fe-8c32-6a1c62549173",
     "showTitle": false,
     "title": ""
    },
    "colab": {
     "base_uri": "https://localhost:8080/",
     "height": 121
    },
    "colab_type": "code",
    "id": "yffYiTbVOBvH",
    "outputId": "da377ac9-8833-4254-d8c2-a79dc643023d"
   },
   "outputs": [
    {
     "output_type": "stream",
     "name": "stdout",
     "output_type": "stream",
     "text": [
      "+-------------------+\n|                  t|\n+-------------------+\n|1997-02-28 05:02:11|\n+-------------------+\n\n"
     ]
    }
   ],
   "source": [
    "df7.show()"
   ]
  },
  {
   "cell_type": "code",
   "execution_count": 0,
   "metadata": {
    "application/vnd.databricks.v1+cell": {
     "cellMetadata": {},
     "inputWidgets": {},
     "nuid": "faf334fd-002e-47ef-9996-2757a24bd477",
     "showTitle": false,
     "title": ""
    },
    "colab": {
     "base_uri": "https://localhost:8080/",
     "height": 121
    },
    "colab_type": "code",
    "id": "_6i-jOh_OR68",
    "outputId": "8fa0c2cf-1844-44ac-83ee-f5172d1c8a1e"
   },
   "outputs": [
    {
     "output_type": "stream",
     "name": "stdout",
     "output_type": "stream",
     "text": [
      "+-------------------+\n|  date_trunc(dd, t)|\n+-------------------+\n|1997-02-28 00:00:00|\n+-------------------+\n\n"
     ]
    }
   ],
   "source": [
    "df7.select(date_trunc(format = 'dd', timestamp= df7['t'])).show()"
   ]
  },
  {
   "cell_type": "code",
   "execution_count": 0,
   "metadata": {
    "application/vnd.databricks.v1+cell": {
     "cellMetadata": {},
     "inputWidgets": {},
     "nuid": "7ecadf6e-0f07-4d37-a0f2-cf6a7de0cbcd",
     "showTitle": false,
     "title": ""
    },
    "colab": {},
    "colab_type": "code",
    "id": "kx9XzSA5Oc49"
   },
   "outputs": [],
   "source": [
    "# 38. datediff\n",
    "from pyspark.sql.functions import datediff\n",
    "#Returns the number of days from start to end."
   ]
  },
  {
   "cell_type": "code",
   "execution_count": 0,
   "metadata": {
    "application/vnd.databricks.v1+cell": {
     "cellMetadata": {},
     "inputWidgets": {},
     "nuid": "47fb615e-4946-4775-b179-5f7c6bd1579f",
     "showTitle": false,
     "title": ""
    },
    "colab": {},
    "colab_type": "code",
    "id": "8c74VmzBPX_r"
   },
   "outputs": [],
   "source": [
    "df8  = spark.createDataFrame([('2015-04-08','2015-05-10')], ['d1', 'd2'])"
   ]
  },
  {
   "cell_type": "code",
   "execution_count": 0,
   "metadata": {
    "application/vnd.databricks.v1+cell": {
     "cellMetadata": {},
     "inputWidgets": {},
     "nuid": "e589fb49-9724-4e90-8eee-01d4cfa127e8",
     "showTitle": false,
     "title": ""
    },
    "colab": {
     "base_uri": "https://localhost:8080/",
     "height": 121
    },
    "colab_type": "code",
    "id": "nRrKhcpBQibt",
    "outputId": "5b0dad5d-3870-4275-cfa1-98efe2bb6032"
   },
   "outputs": [
    {
     "output_type": "stream",
     "name": "stdout",
     "output_type": "stream",
     "text": [
      "+----------+----------+\n|        d1|        d2|\n+----------+----------+\n|2015-04-08|2015-05-10|\n+----------+----------+\n\n"
     ]
    }
   ],
   "source": [
    "df8.show()"
   ]
  },
  {
   "cell_type": "code",
   "execution_count": 0,
   "metadata": {
    "application/vnd.databricks.v1+cell": {
     "cellMetadata": {},
     "inputWidgets": {},
     "nuid": "4f6ce803-c358-42c6-bc5c-fbce9ca5f670",
     "showTitle": false,
     "title": ""
    },
    "colab": {
     "base_uri": "https://localhost:8080/",
     "height": 121
    },
    "colab_type": "code",
    "id": "-nH4qdWoQj6G",
    "outputId": "9827d740-380b-4228-eb87-e924250a9c4e"
   },
   "outputs": [
    {
     "output_type": "stream",
     "name": "stdout",
     "output_type": "stream",
     "text": [
      "+----------------+\n|datediff(d2, d1)|\n+----------------+\n|              32|\n+----------------+\n\n"
     ]
    }
   ],
   "source": [
    "df8.select(datediff(end = df8['d2'], start = df8['d1'])).show()\n"
   ]
  },
  {
   "cell_type": "code",
   "execution_count": 0,
   "metadata": {
    "application/vnd.databricks.v1+cell": {
     "cellMetadata": {},
     "inputWidgets": {},
     "nuid": "f95423d9-35b4-4e0f-905b-d8031de2dfb6",
     "showTitle": false,
     "title": ""
    },
    "colab": {},
    "colab_type": "code",
    "id": "q5_TDoqeQ0ed"
   },
   "outputs": [],
   "source": [
    "# 39. dayofmonth\n",
    "from pyspark.sql.functions import dayofmonth\n",
    "#Extract the day of the month of a given date as integer."
   ]
  },
  {
   "cell_type": "code",
   "execution_count": 0,
   "metadata": {
    "application/vnd.databricks.v1+cell": {
     "cellMetadata": {},
     "inputWidgets": {},
     "nuid": "6b21888f-fa00-40bf-ab7b-6e84be5a164d",
     "showTitle": false,
     "title": ""
    },
    "colab": {
     "base_uri": "https://localhost:8080/",
     "height": 121
    },
    "colab_type": "code",
    "id": "Xt1RhZKe9Fjo",
    "outputId": "e8475c95-9c14-4758-8d51-d73375902c21"
   },
   "outputs": [
    {
     "output_type": "stream",
     "name": "stdout",
     "output_type": "stream",
     "text": [
      "+-------------------+\n|                  t|\n+-------------------+\n|1997-02-28 05:02:11|\n+-------------------+\n\n"
     ]
    }
   ],
   "source": [
    "df7.show()"
   ]
  },
  {
   "cell_type": "code",
   "execution_count": 0,
   "metadata": {
    "application/vnd.databricks.v1+cell": {
     "cellMetadata": {},
     "inputWidgets": {},
     "nuid": "76f4eeb8-5d20-4939-b596-7efb1c745234",
     "showTitle": false,
     "title": ""
    },
    "colab": {
     "base_uri": "https://localhost:8080/",
     "height": 121
    },
    "colab_type": "code",
    "id": "JmxjLRnR9HWI",
    "outputId": "0e9168d7-99e2-4d7c-8f20-26c105854ae6"
   },
   "outputs": [
    {
     "output_type": "stream",
     "name": "stdout",
     "output_type": "stream",
     "text": [
      "+-------------+\n|dayofmonth(t)|\n+-------------+\n|           28|\n+-------------+\n\n"
     ]
    }
   ],
   "source": [
    "df7.select(dayofmonth(col = df7['t'])).show()"
   ]
  },
  {
   "cell_type": "code",
   "execution_count": 0,
   "metadata": {
    "application/vnd.databricks.v1+cell": {
     "cellMetadata": {},
     "inputWidgets": {},
     "nuid": "698a132f-37eb-4042-8bec-5e81f3d54a38",
     "showTitle": false,
     "title": ""
    },
    "colab": {},
    "colab_type": "code",
    "id": "rZ4eDCNG_lOy"
   },
   "outputs": [],
   "source": [
    "# 40. dayofweek\n",
    "from pyspark.sql.functions import dayofweek\n",
    "#Extract the day of the week of a given date as integer"
   ]
  },
  {
   "cell_type": "code",
   "execution_count": 0,
   "metadata": {
    "application/vnd.databricks.v1+cell": {
     "cellMetadata": {},
     "inputWidgets": {},
     "nuid": "a06adb39-2e2a-484c-9ddb-badbe12c5107",
     "showTitle": false,
     "title": ""
    },
    "colab": {
     "base_uri": "https://localhost:8080/",
     "height": 121
    },
    "colab_type": "code",
    "id": "Ia3OEhCn_rRg",
    "outputId": "cad071e3-deea-476f-828c-8ad95a043eb2"
   },
   "outputs": [
    {
     "output_type": "stream",
     "name": "stdout",
     "output_type": "stream",
     "text": [
      "+------------+\n|dayofweek(t)|\n+------------+\n|           6|\n+------------+\n\n"
     ]
    }
   ],
   "source": [
    "df7.select(dayofweek(col= df7['t'])).show()"
   ]
  },
  {
   "cell_type": "code",
   "execution_count": 0,
   "metadata": {
    "application/vnd.databricks.v1+cell": {
     "cellMetadata": {},
     "inputWidgets": {},
     "nuid": "5693e003-3916-434d-8d39-1732ed8fc3e9",
     "showTitle": false,
     "title": ""
    },
    "colab": {},
    "colab_type": "code",
    "id": "2gCqykKiAPbI"
   },
   "outputs": [],
   "source": [
    "# 41. dayofyear\n",
    "from pyspark.sql.functions import dayofyear\n",
    "#Extract the day of the year of a given date as integer."
   ]
  },
  {
   "cell_type": "code",
   "execution_count": 0,
   "metadata": {
    "application/vnd.databricks.v1+cell": {
     "cellMetadata": {},
     "inputWidgets": {},
     "nuid": "e7849097-c9f4-4293-ad15-1a1a5fbc998b",
     "showTitle": false,
     "title": ""
    },
    "colab": {
     "base_uri": "https://localhost:8080/",
     "height": 121
    },
    "colab_type": "code",
    "id": "fC60zpZ2AZQ4",
    "outputId": "8fc885de-31ef-4eb1-b2b8-4fd54e1fbafd"
   },
   "outputs": [
    {
     "output_type": "stream",
     "name": "stdout",
     "output_type": "stream",
     "text": [
      "+------------+\n|dayofyear(t)|\n+------------+\n|          59|\n+------------+\n\n"
     ]
    }
   ],
   "source": [
    "df7.select(dayofyear(col= df7['t'])).show()"
   ]
  },
  {
   "cell_type": "code",
   "execution_count": 0,
   "metadata": {
    "application/vnd.databricks.v1+cell": {
     "cellMetadata": {},
     "inputWidgets": {},
     "nuid": "0d06c6ad-f0a7-42ca-bbcb-d4e9a81157dd",
     "showTitle": false,
     "title": ""
    },
    "colab": {
     "base_uri": "https://localhost:8080/",
     "height": 466
    },
    "colab_type": "code",
    "id": "Rjs8baKSAgdo",
    "outputId": "32781878-0649-426c-a2e9-3b91b529dcce"
   },
   "outputs": [
    {
     "output_type": "stream",
     "name": "stdout",
     "output_type": "stream",
     "text": [
      "+----------+----+------+------+---+------+----+\n|total_bill| tip|   sex|smoker|day|  time|size|\n+----------+----+------+------+---+------+----+\n|     16.99|1.01|Female|    No|Sun|Dinner|   2|\n|     10.34|1.66|  Male|    No|Sun|Dinner|   3|\n|     21.01| 3.5|  Male|    No|Sun|Dinner|   3|\n|     23.68|3.31|  Male|    No|Sun|Dinner|   2|\n|     24.59|3.61|Female|    No|Sun|Dinner|   4|\n|     25.29|4.71|  Male|    No|Sun|Dinner|   4|\n|      8.77| 2.0|  Male|    No|Sun|Dinner|   2|\n|     26.88|3.12|  Male|    No|Sun|Dinner|   4|\n|     15.04|1.96|  Male|    No|Sun|Dinner|   2|\n|     14.78|3.23|  Male|    No|Sun|Dinner|   2|\n|     10.27|1.71|  Male|    No|Sun|Dinner|   2|\n|     35.26| 5.0|Female|    No|Sun|Dinner|   4|\n|     15.42|1.57|  Male|    No|Sun|Dinner|   2|\n|     18.43| 3.0|  Male|    No|Sun|Dinner|   4|\n|     14.83|3.02|Female|    No|Sun|Dinner|   2|\n|     21.58|3.92|  Male|    No|Sun|Dinner|   2|\n|     10.33|1.67|Female|    No|Sun|Dinner|   3|\n|     16.29|3.71|  Male|    No|Sun|Dinner|   3|\n|     16.97| 3.5|Female|    No|Sun|Dinner|   3|\n|     20.65|3.35|  Male|    No|Sat|Dinner|   3|\n+----------+----+------+------+---+------+----+\nonly showing top 20 rows\n\n"
     ]
    }
   ],
   "source": [
    "tipss.show()"
   ]
  },
  {
   "cell_type": "code",
   "execution_count": 0,
   "metadata": {
    "application/vnd.databricks.v1+cell": {
     "cellMetadata": {},
     "inputWidgets": {},
     "nuid": "7a4674b0-3402-4297-8b02-c0297906a007",
     "showTitle": false,
     "title": ""
    },
    "colab": {},
    "colab_type": "code",
    "id": "fGWvlnc9A24Y"
   },
   "outputs": [],
   "source": [
    "# 42. degrees\n",
    "from pyspark.sql.functions import degrees\n",
    "#Converts an angle measured in radians to an approximately equivalent angle measured in degrees."
   ]
  },
  {
   "cell_type": "code",
   "execution_count": 0,
   "metadata": {
    "application/vnd.databricks.v1+cell": {
     "cellMetadata": {},
     "inputWidgets": {},
     "nuid": "1a02646f-2beb-4e8c-a422-4980df6b8ebd",
     "showTitle": false,
     "title": ""
    },
    "colab": {
     "base_uri": "https://localhost:8080/",
     "height": 466
    },
    "colab_type": "code",
    "id": "_QDFyyixBT_o",
    "outputId": "57c0b71d-6a61-4b80-ed10-ada6fb6474db"
   },
   "outputs": [
    {
     "output_type": "stream",
     "name": "stdout",
     "output_type": "stream",
     "text": [
      "+------------------+\n|      DEGREES(tip)|\n+------------------+\n| 57.86873730821315|\n| 95.11099399171665|\n|200.53522829578813|\n|189.64903018830248|\n|206.83776404222718|\n|269.86312150661774|\n|114.59155902616465|\n|178.76283208081685|\n|112.29972784564136|\n| 185.0653678272559|\n| 97.97578296737078|\n| 286.4788975654116|\n| 89.95437383553926|\n|171.88733853924697|\n|173.03325412950863|\n| 224.5994556912827|\n| 95.68395178684747|\n| 212.5673419935354|\n|200.53522829578813|\n|191.94086136882578|\n+------------------+\nonly showing top 20 rows\n\n"
     ]
    }
   ],
   "source": [
    "tipss.select(degrees(col = tipss['tip'])).show()"
   ]
  },
  {
   "cell_type": "code",
   "execution_count": 0,
   "metadata": {
    "application/vnd.databricks.v1+cell": {
     "cellMetadata": {},
     "inputWidgets": {},
     "nuid": "5b52bf24-2cf3-45cb-a036-329ee97add53",
     "showTitle": false,
     "title": ""
    },
    "colab": {},
    "colab_type": "code",
    "id": "UwPerXDgBbuU"
   },
   "outputs": [],
   "source": [
    "# 43. element_at\n",
    "from pyspark.sql.functions import element_at\n",
    "#Collection function: Returns element of array at given index in extraction if col is array. Returns value for the given key in extraction if col is map\n",
    "# The position is not zero based, but 1 based index."
   ]
  },
  {
   "cell_type": "code",
   "execution_count": 0,
   "metadata": {
    "application/vnd.databricks.v1+cell": {
     "cellMetadata": {},
     "inputWidgets": {},
     "nuid": "a86174be-0886-4139-8e92-2fd5ffbfc3c5",
     "showTitle": false,
     "title": ""
    },
    "colab": {
     "base_uri": "https://localhost:8080/",
     "height": 138
    },
    "colab_type": "code",
    "id": "5rhPqlT8Braw",
    "outputId": "210bdcb0-7341-4981-f2d6-d6185a31fa16"
   },
   "outputs": [
    {
     "output_type": "stream",
     "name": "stdout",
     "output_type": "stream",
     "text": [
      "+--------------+\n|          data|\n+--------------+\n|     [2, 1, 3]|\n|[null, 10, -1]|\n+--------------+\n\n"
     ]
    }
   ],
   "source": [
    "df4.show()"
   ]
  },
  {
   "cell_type": "code",
   "execution_count": 0,
   "metadata": {
    "application/vnd.databricks.v1+cell": {
     "cellMetadata": {},
     "inputWidgets": {},
     "nuid": "041f58ba-6508-4a07-8af0-577a53152de1",
     "showTitle": false,
     "title": ""
    },
    "colab": {
     "base_uri": "https://localhost:8080/",
     "height": 138
    },
    "colab_type": "code",
    "id": "looyh8HOB1sB",
    "outputId": "f46ae1e9-ccc7-45fb-f263-7125906d10ed"
   },
   "outputs": [
    {
     "output_type": "stream",
     "name": "stdout",
     "output_type": "stream",
     "text": [
      "+-------------------+\n|element_at(data, 1)|\n+-------------------+\n|                  2|\n|               null|\n+-------------------+\n\n"
     ]
    }
   ],
   "source": [
    "df4.select(element_at(col = df4['data'], extraction = 1)).show()"
   ]
  },
  {
   "cell_type": "code",
   "execution_count": 0,
   "metadata": {
    "application/vnd.databricks.v1+cell": {
     "cellMetadata": {},
     "inputWidgets": {},
     "nuid": "e78127b6-842a-4083-a5b7-afd873abc1ab",
     "showTitle": false,
     "title": ""
    },
    "colab": {},
    "colab_type": "code",
    "id": "Qp3otqFkESKK"
   },
   "outputs": [],
   "source": [
    "df9 = spark.createDataFrame(data = [({'a' : 4, 'b' : 5, 'c' : 2},),\n",
    "                                    ({'a' : None, 'b' : 2, 'c' : 6 },)], \n",
    "                            schema = ['data'])"
   ]
  },
  {
   "cell_type": "code",
   "execution_count": 0,
   "metadata": {
    "application/vnd.databricks.v1+cell": {
     "cellMetadata": {},
     "inputWidgets": {},
     "nuid": "35f0dab6-6734-4155-9ae4-b0424a488de3",
     "showTitle": false,
     "title": ""
    },
    "colab": {
     "base_uri": "https://localhost:8080/",
     "height": 138
    },
    "colab_type": "code",
    "id": "HWQMhljbFFSR",
    "outputId": "1d5d0080-81ea-4d95-eb35-bb481488bb39"
   },
   "outputs": [
    {
     "output_type": "stream",
     "name": "stdout",
     "output_type": "stream",
     "text": [
      "+--------------------+\n|                data|\n+--------------------+\n|{a -> 4, b -> 5, ...|\n|{a -> null, b -> ...|\n+--------------------+\n\n"
     ]
    }
   ],
   "source": [
    "df9.show()"
   ]
  },
  {
   "cell_type": "code",
   "execution_count": 0,
   "metadata": {
    "application/vnd.databricks.v1+cell": {
     "cellMetadata": {},
     "inputWidgets": {},
     "nuid": "9052d56f-3ca6-4fd5-ac23-9a062285f6b2",
     "showTitle": false,
     "title": ""
    },
    "colab": {
     "base_uri": "https://localhost:8080/",
     "height": 138
    },
    "colab_type": "code",
    "id": "CFRRDGV4FVGo",
    "outputId": "7ae1634d-cb2d-4a81-cddc-5d63de7c3028"
   },
   "outputs": [
    {
     "output_type": "stream",
     "name": "stdout",
     "output_type": "stream",
     "text": [
      "+-------------------+\n|element_at(data, a)|\n+-------------------+\n|                  4|\n|               null|\n+-------------------+\n\n"
     ]
    }
   ],
   "source": [
    "df9.select(element_at(col = df9['data'] , extraction = 'a' )).show()"
   ]
  },
  {
   "cell_type": "code",
   "execution_count": 0,
   "metadata": {
    "application/vnd.databricks.v1+cell": {
     "cellMetadata": {},
     "inputWidgets": {},
     "nuid": "99b82101-a333-4c28-887f-1b0f73d0f33a",
     "showTitle": false,
     "title": ""
    },
    "colab": {},
    "colab_type": "code",
    "id": "FRqNby6vFqb4"
   },
   "outputs": [],
   "source": [
    "# 44. exp\n",
    "from pyspark.sql.functions import exp\n",
    "#Computes the exponential of the given value."
   ]
  },
  {
   "cell_type": "code",
   "execution_count": 0,
   "metadata": {
    "application/vnd.databricks.v1+cell": {
     "cellMetadata": {},
     "inputWidgets": {},
     "nuid": "7b07d012-7ed4-48ed-a121-693bb3486260",
     "showTitle": false,
     "title": ""
    },
    "colab": {
     "base_uri": "https://localhost:8080/",
     "height": 466
    },
    "colab_type": "code",
    "id": "r44iX-wZRh9P",
    "outputId": "fbd9e3e0-ebbb-407f-dd8b-1651de3a33fc"
   },
   "outputs": [
    {
     "output_type": "stream",
     "name": "stdout",
     "output_type": "stream",
     "text": [
      "+----------+----+------+------+---+------+----+--------------------+\n|total_bill| tip|   sex|smoker|day|  time|size|      Exp_Total_Bill|\n+----------+----+------+------+---+------+----+--------------------+\n|     16.99|1.01|Female|    No|Sun|Dinner|   2|2.3914606957896195E7|\n|     10.34|1.66|  Male|    No|Sun|Dinner|   3|  30946.030047045107|\n|     21.01| 3.5|  Male|    No|Sun|Dinner|   3|1.3320700529680028E9|\n|     23.68|3.31|  Male|    No|Sun|Dinner|   2|1.923505052751323E10|\n|     24.59|3.61|Female|    No|Sun|Dinner|   4|4.778606945629662E10|\n|     25.29|4.71|  Male|    No|Sun|Dinner|   4| 9.62293267469895E10|\n|      8.77| 2.0|  Male|    No|Sun|Dinner|   2|  6438.1724643633315|\n|     26.88|3.12|  Male|    No|Sun|Dinner|   4|4.718844579091421E11|\n|     15.04|1.96|  Male|    No|Sun|Dinner|   2|  3402428.5022910614|\n|     14.78|3.23|  Male|    No|Sun|Dinner|   2|  2623447.8922747765|\n|     10.27|1.71|  Male|    No|Sun|Dinner|   2|   28853.88716648863|\n|     35.26| 5.0|Female|    No|Sun|Dinner|   4|2.056948564161933...|\n|     15.42|1.57|  Male|    No|Sun|Dinner|   2|   4975318.765551992|\n|     18.43| 3.0|  Male|    No|Sun|Dinner|   4|1.0093628155230926E8|\n|     14.83|3.02|Female|    No|Sun|Dinner|   2|  2757954.9419970755|\n|     21.58|3.92|  Male|    No|Sun|Dinner|   2| 2.355455584864902E9|\n|     10.33|1.67|Female|    No|Sun|Dinner|   3|  30638.111903273773|\n|     16.29|3.71|  Male|    No|Sun|Dinner|   3|1.1875642361239046E7|\n|     16.97| 3.5|Female|    No|Sun|Dinner|   3| 2.344106601278236E7|\n|     20.65|3.35|  Male|    No|Sat|Dinner|   3| 9.293537406239572E8|\n+----------+----+------+------+---+------+----+--------------------+\nonly showing top 20 rows\n\n"
     ]
    }
   ],
   "source": [
    "tipss.select(\"*\",exp(col = tipss['total_bill']).alias(\"Exp_Total_Bill\")).show()"
   ]
  },
  {
   "cell_type": "code",
   "execution_count": 0,
   "metadata": {
    "application/vnd.databricks.v1+cell": {
     "cellMetadata": {},
     "inputWidgets": {},
     "nuid": "ede4b974-b5d5-4c34-8e2f-2452ed510594",
     "showTitle": false,
     "title": ""
    },
    "colab": {},
    "colab_type": "code",
    "id": "x631-zlRSqbw"
   },
   "outputs": [],
   "source": [
    "df10 = spark.createDataFrame(data= [(1,[1,2,3],{\"a\": \"b\"})], \n",
    "                             schema = ['a','intlist','mapfield'])"
   ]
  },
  {
   "cell_type": "code",
   "execution_count": 0,
   "metadata": {
    "application/vnd.databricks.v1+cell": {
     "cellMetadata": {},
     "inputWidgets": {},
     "nuid": "b9d3f58a-331d-49a2-8467-23dcf2974d56",
     "showTitle": false,
     "title": ""
    },
    "colab": {
     "base_uri": "https://localhost:8080/",
     "height": 121
    },
    "colab_type": "code",
    "id": "1IZG8Cw9TXaw",
    "outputId": "5e48d83f-e2b2-4d74-eb8d-480090212d7c"
   },
   "outputs": [
    {
     "output_type": "stream",
     "name": "stdout",
     "output_type": "stream",
     "text": [
      "+---+---------+--------+\n|  a|  intlist|mapfield|\n+---+---------+--------+\n|  1|[1, 2, 3]|{a -> b}|\n+---+---------+--------+\n\n"
     ]
    }
   ],
   "source": [
    "df10.show()"
   ]
  },
  {
   "cell_type": "code",
   "execution_count": 0,
   "metadata": {
    "application/vnd.databricks.v1+cell": {
     "cellMetadata": {},
     "inputWidgets": {},
     "nuid": "bf96a507-2eb4-4e53-a265-f0a204384962",
     "showTitle": false,
     "title": ""
    },
    "colab": {},
    "colab_type": "code",
    "id": "-V20tScpTuG5"
   },
   "outputs": [],
   "source": [
    "# 45. explode\n",
    "from pyspark.sql.functions import explode\n",
    "#Returns a new row for each element in the given array or map."
   ]
  },
  {
   "cell_type": "code",
   "execution_count": 0,
   "metadata": {
    "application/vnd.databricks.v1+cell": {
     "cellMetadata": {},
     "inputWidgets": {},
     "nuid": "82b96abd-26a2-4163-83cd-1808ae4ced57",
     "showTitle": false,
     "title": ""
    },
    "colab": {
     "base_uri": "https://localhost:8080/",
     "height": 155
    },
    "colab_type": "code",
    "id": "Gj5pLZX8T4d4",
    "outputId": "b1af9b0a-5250-4f71-b8af-33a376ed14ce"
   },
   "outputs": [
    {
     "output_type": "stream",
     "name": "stdout",
     "output_type": "stream",
     "text": [
      "+---+---------+--------+-------------+\n|  a|  intlist|mapfield|Pertaining_to|\n+---+---------+--------+-------------+\n|  1|[1, 2, 3]|{a -> b}|            1|\n|  1|[1, 2, 3]|{a -> b}|            2|\n|  1|[1, 2, 3]|{a -> b}|            3|\n+---+---------+--------+-------------+\n\n"
     ]
    }
   ],
   "source": [
    "df10.select(\"*\",explode(col = df10['intlist']).alias(\"Pertaining_to\")).show()"
   ]
  },
  {
   "cell_type": "code",
   "execution_count": 0,
   "metadata": {
    "application/vnd.databricks.v1+cell": {
     "cellMetadata": {},
     "inputWidgets": {},
     "nuid": "f0b3f984-1083-49f3-aadf-c33014a47dc8",
     "showTitle": false,
     "title": ""
    },
    "colab": {
     "base_uri": "https://localhost:8080/",
     "height": 121
    },
    "colab_type": "code",
    "id": "12BxlJgMUAPY",
    "outputId": "30204acb-ab5d-4bc0-e01d-31790b085a3a"
   },
   "outputs": [
    {
     "output_type": "stream",
     "name": "stdout",
     "output_type": "stream",
     "text": [
      "+---+---------+--------+---+-----+\n|  a|  intlist|mapfield|key|value|\n+---+---------+--------+---+-----+\n|  1|[1, 2, 3]|{a -> b}|  a|    b|\n+---+---------+--------+---+-----+\n\n"
     ]
    }
   ],
   "source": [
    "df10.select(\"*\",explode(col = df10['mapfield'])).show()"
   ]
  },
  {
   "cell_type": "code",
   "execution_count": 0,
   "metadata": {
    "application/vnd.databricks.v1+cell": {
     "cellMetadata": {},
     "inputWidgets": {},
     "nuid": "af9de05d-58af-4a35-9109-eb54949ac8fa",
     "showTitle": false,
     "title": ""
    },
    "colab": {},
    "colab_type": "code",
    "id": "kXYL_K96UE-Q"
   },
   "outputs": [],
   "source": [
    "df11 = spark.createDataFrame(data=[(1, [\"foo\", \"bar\"], {\"x\": 1.0}), \n",
    "                                   (2, [], {}), \n",
    "                                   (3, None, None)], \n",
    "                             schema=(\"id\", \"an_array\", \"a_map\"))"
   ]
  },
  {
   "cell_type": "code",
   "execution_count": 0,
   "metadata": {
    "application/vnd.databricks.v1+cell": {
     "cellMetadata": {},
     "inputWidgets": {},
     "nuid": "28f578b8-08e8-42ce-b8c8-0ece4d585950",
     "showTitle": false,
     "title": ""
    },
    "colab": {
     "base_uri": "https://localhost:8080/",
     "height": 155
    },
    "colab_type": "code",
    "id": "Seue91SqU-Bs",
    "outputId": "9d529934-1287-4728-b88b-41ba13232029"
   },
   "outputs": [
    {
     "output_type": "stream",
     "name": "stdout",
     "output_type": "stream",
     "text": [
      "+---+----------+----------+\n| id|  an_array|     a_map|\n+---+----------+----------+\n|  1|[foo, bar]|{x -> 1.0}|\n|  2|        []|        {}|\n|  3|      null|      null|\n+---+----------+----------+\n\n"
     ]
    }
   ],
   "source": [
    "df11.show()"
   ]
  },
  {
   "cell_type": "code",
   "execution_count": 0,
   "metadata": {
    "application/vnd.databricks.v1+cell": {
     "cellMetadata": {},
     "inputWidgets": {},
     "nuid": "e026de97-ea01-42e5-9ca9-4e1ccf78cd02",
     "showTitle": false,
     "title": ""
    },
    "colab": {},
    "colab_type": "code",
    "id": "QEMfMndNVV4j"
   },
   "outputs": [],
   "source": [
    "# 46. explode_outer\n",
    "from pyspark.sql.functions import explode_outer\n",
    "#Returns a new row for each element in the given array or map. Unlike explode, if the array/map is null or empty then null is produced."
   ]
  },
  {
   "cell_type": "code",
   "execution_count": 0,
   "metadata": {
    "application/vnd.databricks.v1+cell": {
     "cellMetadata": {},
     "inputWidgets": {},
     "nuid": "bcef4345-2d85-466f-b287-3302594867ea",
     "showTitle": false,
     "title": ""
    },
    "colab": {
     "base_uri": "https://localhost:8080/",
     "height": 155
    },
    "colab_type": "code",
    "id": "hxjq0AJ3VCig",
    "outputId": "3a2577a4-dac1-42e4-b14f-f1df2fc149a4"
   },
   "outputs": [
    {
     "output_type": "stream",
     "name": "stdout",
     "output_type": "stream",
     "text": [
      "+----+-----+\n| key|value|\n+----+-----+\n|   x|  1.0|\n|null| null|\n|null| null|\n+----+-----+\n\n"
     ]
    }
   ],
   "source": [
    "df11.select(explode_outer(col = df11['a_map'])).show()"
   ]
  },
  {
   "cell_type": "code",
   "execution_count": 0,
   "metadata": {
    "application/vnd.databricks.v1+cell": {
     "cellMetadata": {},
     "inputWidgets": {},
     "nuid": "859def88-55a6-499c-9838-c0e92846d953",
     "showTitle": false,
     "title": ""
    },
    "colab": {
     "base_uri": "https://localhost:8080/",
     "height": 173
    },
    "colab_type": "code",
    "id": "b5XN8g9IVrYA",
    "outputId": "93bc6224-61bb-4962-dfb8-8cdb04dc4fa4"
   },
   "outputs": [
    {
     "output_type": "stream",
     "name": "stdout",
     "output_type": "stream",
     "text": [
      "+---+----------+----------+----+\n| id|  an_array|     a_map| col|\n+---+----------+----------+----+\n|  1|[foo, bar]|{x -> 1.0}| foo|\n|  1|[foo, bar]|{x -> 1.0}| bar|\n|  2|        []|        {}|null|\n|  3|      null|      null|null|\n+---+----------+----------+----+\n\n"
     ]
    }
   ],
   "source": [
    "df11.select(\"*\",explode_outer(col = df11['an_array'])).show()"
   ]
  },
  {
   "cell_type": "code",
   "execution_count": 0,
   "metadata": {
    "application/vnd.databricks.v1+cell": {
     "cellMetadata": {},
     "inputWidgets": {},
     "nuid": "4c38bb3f-f498-4b29-9e31-94d614066125",
     "showTitle": false,
     "title": ""
    }
   },
   "outputs": [
    {
     "output_type": "stream",
     "name": "stdout",
     "output_type": "stream",
     "text": [
      "+---+----------+----------+---+\n| id|  an_array|     a_map|col|\n+---+----------+----------+---+\n|  1|[foo, bar]|{x -> 1.0}|foo|\n|  1|[foo, bar]|{x -> 1.0}|bar|\n+---+----------+----------+---+\n\n"
     ]
    }
   ],
   "source": [
    "df11.select('*',explode(col=df11['an_array'])).show()"
   ]
  },
  {
   "cell_type": "code",
   "execution_count": 0,
   "metadata": {
    "application/vnd.databricks.v1+cell": {
     "cellMetadata": {},
     "inputWidgets": {},
     "nuid": "bea83283-636e-4a8c-b35f-75d21d6e9fed",
     "showTitle": false,
     "title": ""
    },
    "colab": {},
    "colab_type": "code",
    "id": "dgf2N_z0Vzuo"
   },
   "outputs": [],
   "source": [
    "#47. expm1 \n",
    "from pyspark.sql.functions import expm1\n",
    "#Computes the exponential of the given value minus one."
   ]
  },
  {
   "cell_type": "code",
   "execution_count": 0,
   "metadata": {
    "application/vnd.databricks.v1+cell": {
     "cellMetadata": {},
     "inputWidgets": {},
     "nuid": "30f52f7e-7afe-477b-9fdc-74ce7c993c27",
     "showTitle": false,
     "title": ""
    },
    "colab": {
     "base_uri": "https://localhost:8080/",
     "height": 466
    },
    "colab_type": "code",
    "id": "V2RkZCfDWcqo",
    "outputId": "ce685f77-fd83-4360-8e5d-f3c0aa217479"
   },
   "outputs": [
    {
     "output_type": "stream",
     "name": "stdout",
     "output_type": "stream",
     "text": [
      "+----------+--------------------+\n|total_bill|   EXPM1(total_bill)|\n+----------+--------------------+\n|     16.99|2.3914605957896195E7|\n|     10.34|  30945.030047045107|\n|     21.01|1.3320700519680028E9|\n|     23.68|1.923505052651323E10|\n|     24.59|4.778606945529662E10|\n|     25.29| 9.62293267459895E10|\n|      8.77|  6437.1724643633315|\n|     26.88|4.718844579081421E11|\n|     15.04|  3402427.5022910614|\n|     14.78|  2623446.8922747765|\n|     10.27|   28852.88716648863|\n|     35.26|2.056948564161932...|\n|     15.42|   4975317.765551992|\n|     18.43|1.0093628055230926E8|\n|     14.83|  2757953.9419970755|\n|     21.58| 2.355455583864902E9|\n|     10.33|  30637.111903273773|\n|     16.29|1.1875641361239046E7|\n|     16.97| 2.344106501278236E7|\n|     20.65| 9.293537396239573E8|\n+----------+--------------------+\nonly showing top 20 rows\n\n"
     ]
    }
   ],
   "source": [
    "tipss.select(tipss['total_bill'],expm1(col = tipss['total_bill'])).show()"
   ]
  },
  {
   "cell_type": "code",
   "execution_count": 0,
   "metadata": {
    "application/vnd.databricks.v1+cell": {
     "cellMetadata": {},
     "inputWidgets": {},
     "nuid": "fca190d4-7c9e-4a41-bb1b-7c68616df134",
     "showTitle": false,
     "title": ""
    },
    "colab": {},
    "colab_type": "code",
    "id": "UJS4iJrgWj-I"
   },
   "outputs": [],
   "source": [
    "# 48. expr\n",
    "from pyspark.sql.functions import expr\n",
    "#Parses the expression string into the column that it represents"
   ]
  },
  {
   "cell_type": "code",
   "execution_count": 0,
   "metadata": {
    "application/vnd.databricks.v1+cell": {
     "cellMetadata": {},
     "inputWidgets": {},
     "nuid": "074ee0ee-f93a-4854-bced-af3eff70471c",
     "showTitle": false,
     "title": ""
    },
    "colab": {
     "base_uri": "https://localhost:8080/",
     "height": 466
    },
    "colab_type": "code",
    "id": "nJx-VtooXi3Q",
    "outputId": "fdb4cad9-8cb0-4be9-e975-c293301638b8"
   },
   "outputs": [
    {
     "output_type": "stream",
     "name": "stdout",
     "output_type": "stream",
     "text": [
      "+------+-----------+\n|   sex|length(sex)|\n+------+-----------+\n|Female|          6|\n|  Male|          4|\n|  Male|          4|\n|  Male|          4|\n|Female|          6|\n|  Male|          4|\n|  Male|          4|\n|  Male|          4|\n|  Male|          4|\n|  Male|          4|\n|  Male|          4|\n|Female|          6|\n|  Male|          4|\n|  Male|          4|\n|Female|          6|\n|  Male|          4|\n|Female|          6|\n|  Male|          4|\n|Female|          6|\n|  Male|          4|\n+------+-----------+\nonly showing top 20 rows\n\n"
     ]
    }
   ],
   "source": [
    "tipss.select(tipss['sex'],expr(str=\"length(sex)\")).show()"
   ]
  },
  {
   "cell_type": "code",
   "execution_count": 0,
   "metadata": {
    "application/vnd.databricks.v1+cell": {
     "cellMetadata": {},
     "inputWidgets": {},
     "nuid": "c27c1831-e34d-4447-8642-40ae86ec2ccf",
     "showTitle": false,
     "title": ""
    },
    "colab": {},
    "colab_type": "code",
    "id": "mVERicEYXxIQ"
   },
   "outputs": [],
   "source": [
    "# 49. factorial\n",
    "from pyspark.sql.functions import factorial\n",
    "#Computes the factorial of the given value."
   ]
  },
  {
   "cell_type": "code",
   "execution_count": 0,
   "metadata": {
    "application/vnd.databricks.v1+cell": {
     "cellMetadata": {},
     "inputWidgets": {},
     "nuid": "e934fe72-34bf-4f57-b033-6d7bcb7f3583",
     "showTitle": false,
     "title": ""
    },
    "colab": {
     "base_uri": "https://localhost:8080/",
     "height": 466
    },
    "colab_type": "code",
    "id": "c3gYyHiOzerg",
    "outputId": "f6e6b27b-3d15-4f6a-f1c1-bc838f4746e9"
   },
   "outputs": [
    {
     "output_type": "stream",
     "name": "stdout",
     "output_type": "stream",
     "text": [
      "+------+------+---------+\n|   sex|length|factorial|\n+------+------+---------+\n|Female|     6|      720|\n|  Male|     4|       24|\n|  Male|     4|       24|\n|  Male|     4|       24|\n|Female|     6|      720|\n|  Male|     4|       24|\n|  Male|     4|       24|\n|  Male|     4|       24|\n|  Male|     4|       24|\n|  Male|     4|       24|\n|  Male|     4|       24|\n|Female|     6|      720|\n|  Male|     4|       24|\n|  Male|     4|       24|\n|Female|     6|      720|\n|  Male|     4|       24|\n|Female|     6|      720|\n|  Male|     4|       24|\n|Female|     6|      720|\n|  Male|     4|       24|\n+------+------+---------+\nonly showing top 20 rows\n\n"
     ]
    }
   ],
   "source": [
    "tipss.select(tipss[b'sex'], expr(str = \"length(sex)\").alias(\"length\") ,factorial(col = expr(str= \"length(sex)\")).alias(\"factorial\")).show()"
   ]
  },
  {
   "cell_type": "code",
   "execution_count": 0,
   "metadata": {
    "application/vnd.databricks.v1+cell": {
     "cellMetadata": {},
     "inputWidgets": {},
     "nuid": "9f321e4c-77fe-47ce-955c-d3849f7ae4d3",
     "showTitle": false,
     "title": ""
    },
    "colab": {},
    "colab_type": "code",
    "id": "PD1sRfGZz04A"
   },
   "outputs": [],
   "source": [
    "df12 = spark.createDataFrame(data=[([[1, 2, 3], [4, 5], [6]],), \n",
    "                                   ([[9,7], [4, 5]],)], \n",
    "                             schema=['data'])"
   ]
  },
  {
   "cell_type": "code",
   "execution_count": 0,
   "metadata": {
    "application/vnd.databricks.v1+cell": {
     "cellMetadata": {},
     "inputWidgets": {},
     "nuid": "e082a458-12d3-4328-a7c9-630d38f73519",
     "showTitle": false,
     "title": ""
    },
    "colab": {
     "base_uri": "https://localhost:8080/",
     "height": 138
    },
    "colab_type": "code",
    "id": "tn1LmrHv2PU4",
    "outputId": "4999eade-cebb-4241-e398-81deac32b028"
   },
   "outputs": [
    {
     "output_type": "stream",
     "name": "stdout",
     "output_type": "stream",
     "text": [
      "+------------------------+\n|data                    |\n+------------------------+\n|[[1, 2, 3], [4, 5], [6]]|\n|[[9, 7], [4, 5]]        |\n+------------------------+\n\n"
     ]
    }
   ],
   "source": [
    "df12.show(truncate= False)"
   ]
  },
  {
   "cell_type": "code",
   "execution_count": 0,
   "metadata": {
    "application/vnd.databricks.v1+cell": {
     "cellMetadata": {},
     "inputWidgets": {},
     "nuid": "4c080f0b-ab36-4e81-ab46-3189f92e51d6",
     "showTitle": false,
     "title": ""
    },
    "colab": {},
    "colab_type": "code",
    "id": "00Typ-b72dD4"
   },
   "outputs": [],
   "source": [
    "# 50. flatten\n",
    "from pyspark.sql.functions import flatten\n",
    "#Collection function: creates a single array from an array of arrays. If a structure of nested arrays is deeper than two levels, only one level of nesting is removed."
   ]
  },
  {
   "cell_type": "code",
   "execution_count": 0,
   "metadata": {
    "application/vnd.databricks.v1+cell": {
     "cellMetadata": {},
     "inputWidgets": {},
     "nuid": "bce99ef4-9cbd-43c1-98f4-89ba5699de33",
     "showTitle": false,
     "title": ""
    },
    "colab": {
     "base_uri": "https://localhost:8080/",
     "height": 138
    },
    "colab_type": "code",
    "id": "E5GvQI8-2l4I",
    "outputId": "49be8293-d316-4896-ca9a-a4a244b16f16"
   },
   "outputs": [
    {
     "output_type": "stream",
     "name": "stdout",
     "output_type": "stream",
     "text": [
      "+------------------+\n|     flatten(data)|\n+------------------+\n|[1, 2, 3, 4, 5, 6]|\n|      [9, 7, 4, 5]|\n+------------------+\n\n"
     ]
    }
   ],
   "source": [
    "df12.select(flatten(df12['data'])).show()"
   ]
  },
  {
   "cell_type": "code",
   "execution_count": 0,
   "metadata": {
    "application/vnd.databricks.v1+cell": {
     "cellMetadata": {},
     "inputWidgets": {},
     "nuid": "292465ea-e97b-4821-890e-514783fda89e",
     "showTitle": false,
     "title": ""
    },
    "colab": {},
    "colab_type": "code",
    "id": "HNqsWoWs2tUo"
   },
   "outputs": [],
   "source": [
    "# 51. floor\n",
    "from pyspark.sql.functions import floor\n",
    "#Computes the floor of the given value."
   ]
  },
  {
   "cell_type": "code",
   "execution_count": 0,
   "metadata": {
    "application/vnd.databricks.v1+cell": {
     "cellMetadata": {},
     "inputWidgets": {},
     "nuid": "c0898c50-154f-4c57-a2ee-4856e20fee57",
     "showTitle": false,
     "title": ""
    },
    "colab": {
     "base_uri": "https://localhost:8080/",
     "height": 466
    },
    "colab_type": "code",
    "id": "VX9g3djF3Gnw",
    "outputId": "5ccef909-dc95-42d4-b7d5-93fc63ed371d"
   },
   "outputs": [
    {
     "output_type": "stream",
     "name": "stdout",
     "output_type": "stream",
     "text": [
      "+----+----------+\n| tip|FLOOR(tip)|\n+----+----------+\n|1.01|         1|\n|1.66|         1|\n| 3.5|         3|\n|3.31|         3|\n|3.61|         3|\n|4.71|         4|\n| 2.0|         2|\n|3.12|         3|\n|1.96|         1|\n|3.23|         3|\n|1.71|         1|\n| 5.0|         5|\n|1.57|         1|\n| 3.0|         3|\n|3.02|         3|\n|3.92|         3|\n|1.67|         1|\n|3.71|         3|\n| 3.5|         3|\n|3.35|         3|\n+----+----------+\nonly showing top 20 rows\n\n"
     ]
    }
   ],
   "source": [
    "tipss.select(tipss['tip'],floor(col = tipss['tip'])).show()"
   ]
  },
  {
   "cell_type": "code",
   "execution_count": 0,
   "metadata": {
    "application/vnd.databricks.v1+cell": {
     "cellMetadata": {},
     "inputWidgets": {},
     "nuid": "5b48303c-05e8-45c3-8314-34429fa1527c",
     "showTitle": false,
     "title": ""
    },
    "colab": {},
    "colab_type": "code",
    "id": "Ums8Hem43ZtI"
   },
   "outputs": [],
   "source": [
    "# 52. format_number\n",
    "from pyspark.sql.functions import format_number\n",
    "#Formats the number X to a format like ‘#,–#,–#.–’, rounded to d decimal places with HALF_EVEN round mode, and returns the result as a string."
   ]
  },
  {
   "cell_type": "code",
   "execution_count": 0,
   "metadata": {
    "application/vnd.databricks.v1+cell": {
     "cellMetadata": {},
     "inputWidgets": {},
     "nuid": "2c3a2c61-2201-45c0-a459-6328001e2aec",
     "showTitle": false,
     "title": ""
    }
   },
   "outputs": [
    {
     "output_type": "display_data",
     "data": {
      "text/html": [
       "<style scoped>\n",
       "  .ansiout {\n",
       "    display: block;\n",
       "    unicode-bidi: embed;\n",
       "    white-space: pre-wrap;\n",
       "    word-wrap: break-word;\n",
       "    word-break: break-all;\n",
       "    font-family: \"Menlo\", \"Monaco\", \"Consolas\", \"Ubuntu Mono\", \"Source Code Pro\", monospace;\n",
       "    font-size: 13px;\n",
       "    color: #555;\n",
       "    margin-left: 4px;\n",
       "    line-height: 19px;\n",
       "  }\n",
       "</style>\n",
       "<div class=\"ansiout\">Help on function format_number in module pyspark.sql.functions:\n",
       "\n",
       "format_number(col, d)\n",
       "    Formats the number X to a format like &#39;#,--#,--#.--&#39;, rounded to d decimal places\n",
       "    with HALF_EVEN round mode, and returns the result as a string.\n",
       "    \n",
       "    :param col: the column name of the numeric value to be formatted\n",
       "    :param d: the N decimal places\n",
       "    \n",
       "    &gt;&gt;&gt; spark.createDataFrame([(5,)], [&#39;a&#39;]).select(format_number(&#39;a&#39;, 4).alias(&#39;v&#39;)).collect()\n",
       "    [Row(v=&#39;5.0000&#39;)]\n",
       "    \n",
       "    .. versionadded:: 1.5\n",
       "\n",
       "</div>"
      ]
     },
     "metadata": {
      "application/vnd.databricks.v1+output": {
       "addedWidgets": {},
       "arguments": {},
       "data": "<div class=\"ansiout\">Help on function format_number in module pyspark.sql.functions:\n\nformat_number(col, d)\n    Formats the number X to a format like &#39;#,--#,--#.--&#39;, rounded to d decimal places\n    with HALF_EVEN round mode, and returns the result as a string.\n    \n    :param col: the column name of the numeric value to be formatted\n    :param d: the N decimal places\n    \n    &gt;&gt;&gt; spark.createDataFrame([(5,)], [&#39;a&#39;]).select(format_number(&#39;a&#39;, 4).alias(&#39;v&#39;)).collect()\n    [Row(v=&#39;5.0000&#39;)]\n    \n    .. versionadded:: 1.5\n\n</div>",
       "datasetInfos": [],
       "metadata": {},
       "removedWidgets": [],
       "type": "html"
      }
     },
     "output_type": "display_data"
    }
   ],
   "source": [
    "help(format_number)"
   ]
  },
  {
   "cell_type": "code",
   "execution_count": 0,
   "metadata": {
    "application/vnd.databricks.v1+cell": {
     "cellMetadata": {},
     "inputWidgets": {},
     "nuid": "d4672ae7-d3e9-4855-8e76-d5abd41a5bc8",
     "showTitle": false,
     "title": ""
    },
    "colab": {
     "base_uri": "https://localhost:8080/",
     "height": 466
    },
    "colab_type": "code",
    "id": "7Hrn9HtB4Eug",
    "outputId": "0031e8a6-395a-4042-c3e7-b0a2b69ea844"
   },
   "outputs": [
    {
     "output_type": "stream",
     "name": "stdout",
     "output_type": "stream",
     "text": [
      "+---------------------+\n|format_number(tip, 3)|\n+---------------------+\n|                1.010|\n|                1.660|\n|                3.500|\n|                3.310|\n|                3.610|\n|                4.710|\n|                2.000|\n|                3.120|\n|                1.960|\n|                3.230|\n|                1.710|\n|                5.000|\n|                1.570|\n|                3.000|\n|                3.020|\n|                3.920|\n|                1.670|\n|                3.710|\n|                3.500|\n|                3.350|\n+---------------------+\nonly showing top 20 rows\n\n"
     ]
    }
   ],
   "source": [
    "tipss.select(format_number(col = tipss['tip'], d = 3 )).show()"
   ]
  },
  {
   "cell_type": "code",
   "execution_count": 0,
   "metadata": {
    "application/vnd.databricks.v1+cell": {
     "cellMetadata": {},
     "inputWidgets": {},
     "nuid": "97667896-577e-4a0b-8e29-da84da76e8f9",
     "showTitle": false,
     "title": ""
    },
    "colab": {},
    "colab_type": "code",
    "id": "0-IatU-O4Q1I"
   },
   "outputs": [],
   "source": [
    "df13 = spark.createDataFrame(data = [(\"Ritish\",'Adhikari'),], \n",
    "                             schema = ['Name', 'Surname'] )"
   ]
  },
  {
   "cell_type": "code",
   "execution_count": 0,
   "metadata": {
    "application/vnd.databricks.v1+cell": {
     "cellMetadata": {},
     "inputWidgets": {},
     "nuid": "67004e7d-865b-457b-89f7-36535c526491",
     "showTitle": false,
     "title": ""
    },
    "colab": {
     "base_uri": "https://localhost:8080/",
     "height": 121
    },
    "colab_type": "code",
    "id": "JoKviHqk5eP4",
    "outputId": "16261379-c34a-4022-b4f2-636558a7d900"
   },
   "outputs": [
    {
     "output_type": "stream",
     "name": "stdout",
     "output_type": "stream",
     "text": [
      "+------+--------+\n|  Name| Surname|\n+------+--------+\n|Ritish|Adhikari|\n+------+--------+\n\n"
     ]
    }
   ],
   "source": [
    "df13.show()"
   ]
  },
  {
   "cell_type": "code",
   "execution_count": 0,
   "metadata": {
    "application/vnd.databricks.v1+cell": {
     "cellMetadata": {},
     "inputWidgets": {},
     "nuid": "a705ac0a-3ad9-4613-a930-befb51e81abf",
     "showTitle": false,
     "title": ""
    },
    "colab": {},
    "colab_type": "code",
    "id": "AP5r8Izz5gmA"
   },
   "outputs": [],
   "source": [
    "# 53. format_string\n",
    "from pyspark.sql.functions import format_string\n",
    "#Formats the arguments in printf-style and returns the result as a string column."
   ]
  },
  {
   "cell_type": "code",
   "execution_count": 0,
   "metadata": {
    "application/vnd.databricks.v1+cell": {
     "cellMetadata": {},
     "inputWidgets": {},
     "nuid": "626126c4-2876-42bc-acb8-ef7fea30beab",
     "showTitle": false,
     "title": ""
    }
   },
   "outputs": [
    {
     "output_type": "stream",
     "name": "stdout",
     "output_type": "stream",
     "text": [
      "Help on function format_string in module pyspark.sql.functions:\n\nformat_string(format, *cols)\n    Formats the arguments in printf-style and returns the result as a string column.\n    \n    .. versionadded:: 1.5.0\n    \n    Parameters\n    ----------\n    format : str\n        string that can contain embedded format tags and used as result column's value\n    cols : :class:`~pyspark.sql.Column` or str\n        column names or :class:`~pyspark.sql.Column`\\s to be used in formatting\n    \n    Examples\n    --------\n    >>> df = spark.createDataFrame([(5, \"hello\")], ['a', 'b'])\n    >>> df.select(format_string('%d %s', df.a, df.b).alias('v')).collect()\n    [Row(v='5 hello')]\n\n"
     ]
    }
   ],
   "source": [
    "help(format_string)"
   ]
  },
  {
   "cell_type": "code",
   "execution_count": 0,
   "metadata": {
    "application/vnd.databricks.v1+cell": {
     "cellMetadata": {},
     "inputWidgets": {},
     "nuid": "b812b373-e606-4a69-800a-304cab311700",
     "showTitle": false,
     "title": ""
    },
    "colab": {
     "base_uri": "https://localhost:8080/",
     "height": 121
    },
    "colab_type": "code",
    "id": "ogEf77Aw5pOA",
    "outputId": "64b4b36c-e941-4123-83a3-914d02d3fabf"
   },
   "outputs": [
    {
     "output_type": "stream",
     "name": "stdout",
     "output_type": "stream",
     "text": [
      "+----------------------------------------------------------------+\n|format_string(My name is %s and my Surname is %s, Name, Surname)|\n+----------------------------------------------------------------+\n|My name is Ritish and my Surname is Adhikari                    |\n+----------------------------------------------------------------+\n\n"
     ]
    }
   ],
   "source": [
    "df13.select(format_string('My name is %s and my Surname is %s', *[df13['Name'], df13['Surname']])).show(truncate = False)"
   ]
  },
  {
   "cell_type": "code",
   "execution_count": 0,
   "metadata": {
    "application/vnd.databricks.v1+cell": {
     "cellMetadata": {},
     "inputWidgets": {},
     "nuid": "05189d98-8554-45fe-96ce-b6fcae5d5ee0",
     "showTitle": false,
     "title": ""
    },
    "colab": {},
    "colab_type": "code",
    "id": "CIffP0hd6AYo"
   },
   "outputs": [],
   "source": [
    "# 54. from_unixtime\n",
    "from pyspark.sql.functions import from_unixtime\n",
    "#Converts the number of seconds from unix epoch (1970-01-01 00:00:00 UTC) to a string representing the timestamp of that moment in the current system time zone in the given format."
   ]
  },
  {
   "cell_type": "code",
   "execution_count": 0,
   "metadata": {
    "application/vnd.databricks.v1+cell": {
     "cellMetadata": {},
     "inputWidgets": {},
     "nuid": "d223f1aa-a487-4da6-9fa3-029080967778",
     "showTitle": false,
     "title": ""
    },
    "colab": {},
    "colab_type": "code",
    "id": "b8zRF9iT67-Q"
   },
   "outputs": [],
   "source": [
    "spark.conf.set(key = \"spark.sql.session.timeZone\", value = \"America/Los_Angeles\")"
   ]
  },
  {
   "cell_type": "code",
   "execution_count": 0,
   "metadata": {
    "application/vnd.databricks.v1+cell": {
     "cellMetadata": {},
     "inputWidgets": {},
     "nuid": "f4343f8a-0d86-49fa-85cf-c51f7e1f0ef0",
     "showTitle": false,
     "title": ""
    },
    "colab": {},
    "colab_type": "code",
    "id": "Zw8DB5vO6-rw"
   },
   "outputs": [],
   "source": [
    "time_df = spark.createDataFrame(data = [(1598487542,)], schema = ['unix_time'])"
   ]
  },
  {
   "cell_type": "code",
   "execution_count": 0,
   "metadata": {
    "application/vnd.databricks.v1+cell": {
     "cellMetadata": {},
     "inputWidgets": {},
     "nuid": "32811e2b-fa00-43fd-8960-de641b2fd389",
     "showTitle": false,
     "title": ""
    },
    "colab": {
     "base_uri": "https://localhost:8080/",
     "height": 121
    },
    "colab_type": "code",
    "id": "T86V3HDy7TXY",
    "outputId": "3b63ae62-96eb-440e-ade7-9bb2edc377ab"
   },
   "outputs": [
    {
     "output_type": "stream",
     "name": "stdout",
     "output_type": "stream",
     "text": [
      "+----------+\n| unix_time|\n+----------+\n|1598487542|\n+----------+\n\n"
     ]
    }
   ],
   "source": [
    "time_df.show()"
   ]
  },
  {
   "cell_type": "code",
   "execution_count": 0,
   "metadata": {
    "application/vnd.databricks.v1+cell": {
     "cellMetadata": {},
     "inputWidgets": {},
     "nuid": "c57ba927-3f1b-4a6e-a422-66c2a28a9736",
     "showTitle": false,
     "title": ""
    },
    "colab": {
     "base_uri": "https://localhost:8080/",
     "height": 121
    },
    "colab_type": "code",
    "id": "172JMXQM7VZA",
    "outputId": "c008a6d6-68cb-4deb-df8a-3f09f56f644d"
   },
   "outputs": [
    {
     "output_type": "stream",
     "name": "stdout",
     "output_type": "stream",
     "text": [
      "+---------------------------------------------+\n|from_unixtime(unix_time, yyyy-MM-dd HH:mm:ss)|\n+---------------------------------------------+\n|                          2020-08-26 17:19:02|\n+---------------------------------------------+\n\n"
     ]
    }
   ],
   "source": [
    "time_df.select(from_unixtime(timestamp = time_df['unix_time'], format = 'yyyy-MM-dd HH:mm:ss')).show()"
   ]
  },
  {
   "cell_type": "code",
   "execution_count": 0,
   "metadata": {
    "application/vnd.databricks.v1+cell": {
     "cellMetadata": {},
     "inputWidgets": {},
     "nuid": "10f1c080-152c-4d3a-aa7b-3caca8df416a",
     "showTitle": false,
     "title": ""
    },
    "colab": {},
    "colab_type": "code",
    "id": "QSoq2zXL7lbg"
   },
   "outputs": [],
   "source": [
    "from pyspark.sql.types import StructType, StructField, IntegerType, MapType"
   ]
  },
  {
   "cell_type": "code",
   "execution_count": 0,
   "metadata": {
    "application/vnd.databricks.v1+cell": {
     "cellMetadata": {},
     "inputWidgets": {},
     "nuid": "93734ee8-24e1-4a05-8218-438814dd9f43",
     "showTitle": false,
     "title": ""
    },
    "colab": {},
    "colab_type": "code",
    "id": "HXgoFvZo8zfg"
   },
   "outputs": [],
   "source": [
    "data = [(1, \n",
    "         '''{\"a\": 1,\"b\":3,\"c\":3}''')]"
   ]
  },
  {
   "cell_type": "code",
   "execution_count": 0,
   "metadata": {
    "application/vnd.databricks.v1+cell": {
     "cellMetadata": {},
     "inputWidgets": {},
     "nuid": "6374cc92-0aa7-4156-aa1e-a25630dcf21b",
     "showTitle": false,
     "title": ""
    },
    "colab": {
     "base_uri": "https://localhost:8080/",
     "height": 34
    },
    "colab_type": "code",
    "id": "FJ33HQnq87wA",
    "outputId": "6b2820d3-3af7-4bfe-a804-bd2104333eb9"
   },
   "outputs": [
    {
     "output_type": "stream",
     "name": "stdout",
     "output_type": "stream",
     "text": [
      "Out[217]: [(1, '{\"a\": 1,\"b\":3,\"c\":3}')]"
     ]
    }
   ],
   "source": [
    "data"
   ]
  },
  {
   "cell_type": "code",
   "execution_count": 0,
   "metadata": {
    "application/vnd.databricks.v1+cell": {
     "cellMetadata": {},
     "inputWidgets": {},
     "nuid": "f7cfe139-ea34-4e59-b0e8-97f96e7bd35d",
     "showTitle": false,
     "title": ""
    },
    "colab": {},
    "colab_type": "code",
    "id": "w_ufhmXj88qQ"
   },
   "outputs": [],
   "source": [
    "schema = StructType([StructField(name = \"a\", dataType = IntegerType()),\n",
    "                     StructField(name = \"b\", dataType = IntegerType()) ])"
   ]
  },
  {
   "cell_type": "code",
   "execution_count": 0,
   "metadata": {
    "application/vnd.databricks.v1+cell": {
     "cellMetadata": {},
     "inputWidgets": {},
     "nuid": "7ed6052e-54a9-4820-aced-faba659227df",
     "showTitle": false,
     "title": ""
    },
    "colab": {
     "base_uri": "https://localhost:8080/",
     "height": 34
    },
    "colab_type": "code",
    "id": "LeFKXjva9THw",
    "outputId": "c90b88f3-9725-4384-8ea2-040b6f5b61ce"
   },
   "outputs": [
    {
     "output_type": "stream",
     "name": "stdout",
     "output_type": "stream",
     "text": [
      "Out[219]: pyspark.sql.types.StructType"
     ]
    }
   ],
   "source": [
    "type(schema)"
   ]
  },
  {
   "cell_type": "code",
   "execution_count": 0,
   "metadata": {
    "application/vnd.databricks.v1+cell": {
     "cellMetadata": {},
     "inputWidgets": {},
     "nuid": "7cd10f2e-e75f-457f-8012-b50b140f32cd",
     "showTitle": false,
     "title": ""
    },
    "colab": {},
    "colab_type": "code",
    "id": "MNaV_DP_9Z2Q"
   },
   "outputs": [],
   "source": [
    "df14 = spark.createDataFrame(data = data, schema = (\"key\", \"value\"))"
   ]
  },
  {
   "cell_type": "code",
   "execution_count": 0,
   "metadata": {
    "application/vnd.databricks.v1+cell": {
     "cellMetadata": {},
     "inputWidgets": {},
     "nuid": "72fa8ae2-b72e-4135-9ec2-28b38706b7d1",
     "showTitle": false,
     "title": ""
    },
    "colab": {
     "base_uri": "https://localhost:8080/",
     "height": 121
    },
    "colab_type": "code",
    "id": "13eQGvbD9jlx",
    "outputId": "8da9340b-8f2d-477a-c783-cfb22d0f7cef"
   },
   "outputs": [
    {
     "output_type": "stream",
     "name": "stdout",
     "output_type": "stream",
     "text": [
      "+---+--------------------+\n|key|               value|\n+---+--------------------+\n|  1|{\"a\": 1,\"b\":3,\"c\":3}|\n+---+--------------------+\n\n"
     ]
    }
   ],
   "source": [
    "df14.show()"
   ]
  },
  {
   "cell_type": "code",
   "execution_count": 0,
   "metadata": {
    "application/vnd.databricks.v1+cell": {
     "cellMetadata": {},
     "inputWidgets": {},
     "nuid": "186dbc73-dffe-44d3-9164-ba6fc1cbe3dd",
     "showTitle": false,
     "title": ""
    },
    "colab": {},
    "colab_type": "code",
    "id": "FS3F-H_r_hOh"
   },
   "outputs": [],
   "source": [
    "# 55. from_json\n",
    "from pyspark.sql.functions import from_json\n",
    "#Parses a column containing a JSON string into a MapType with StringType as keys type, StructType or ArrayType with the specified schema"
   ]
  },
  {
   "cell_type": "code",
   "execution_count": 0,
   "metadata": {
    "application/vnd.databricks.v1+cell": {
     "cellMetadata": {},
     "inputWidgets": {},
     "nuid": "00abcc3c-595b-4274-a9bf-d8cffc7f4e4e",
     "showTitle": false,
     "title": ""
    },
    "colab": {
     "base_uri": "https://localhost:8080/",
     "height": 121
    },
    "colab_type": "code",
    "id": "pexVUhK3_wRY",
    "outputId": "ae10c0c2-35b4-4c0d-cea9-56bd5cd73db6"
   },
   "outputs": [
    {
     "output_type": "stream",
     "name": "stdout",
     "output_type": "stream",
     "text": [
      "+---+---+---+\n|key|  a|  b|\n+---+---+---+\n|  1|  1|  3|\n+---+---+---+\n\n"
     ]
    }
   ],
   "source": [
    "df14.select('*',from_json(col = df14['value'], schema = schema).alias('json')).select('key',\"json.*\").show()"
   ]
  },
  {
   "cell_type": "code",
   "execution_count": 0,
   "metadata": {
    "application/vnd.databricks.v1+cell": {
     "cellMetadata": {},
     "inputWidgets": {},
     "nuid": "ed41cad7-7b1a-446b-bf86-44eeb9273545",
     "showTitle": false,
     "title": ""
    }
   },
   "outputs": [
    {
     "output_type": "stream",
     "name": "stdout",
     "output_type": "stream",
     "text": [
      "+---+---+\n|  a|  b|\n+---+---+\n|  1|  3|\n+---+---+\n\n"
     ]
    }
   ],
   "source": [
    "df14.select(from_json(col(\"value\"),schema).alias(\"alphabets\")).select(\"alphabets.*\").show()"
   ]
  },
  {
   "cell_type": "code",
   "execution_count": 0,
   "metadata": {
    "application/vnd.databricks.v1+cell": {
     "cellMetadata": {},
     "inputWidgets": {},
     "nuid": "7f9aa838-a4e1-4089-8620-2c54b4899163",
     "showTitle": false,
     "title": ""
    },
    "colab": {},
    "colab_type": "code",
    "id": "H5WlfKqeAFVI"
   },
   "outputs": [],
   "source": [
    "df15 = spark.createDataFrame(data = [(\"1\", '''{\"f1\": \"value1\", \"f2\": \"value2\"}'''), \n",
    "                                     (\"2\", '''{\"f1\": \"value12\"}''')], \n",
    "                             schema = (\"key\", \"jstring\"))"
   ]
  },
  {
   "cell_type": "code",
   "execution_count": 0,
   "metadata": {
    "application/vnd.databricks.v1+cell": {
     "cellMetadata": {},
     "inputWidgets": {},
     "nuid": "d0c1def9-0654-4415-99f8-0466652e0b97",
     "showTitle": false,
     "title": ""
    },
    "colab": {
     "base_uri": "https://localhost:8080/",
     "height": 138
    },
    "colab_type": "code",
    "id": "b4aI-P0yaWU9",
    "outputId": "3ead818b-abcc-4913-fe9b-0018a9af5b02"
   },
   "outputs": [
    {
     "output_type": "stream",
     "name": "stdout",
     "output_type": "stream",
     "text": [
      "+---+--------------------------------+\n|key|jstring                         |\n+---+--------------------------------+\n|1  |{\"f1\": \"value1\", \"f2\": \"value2\"}|\n|2  |{\"f1\": \"value12\"}               |\n+---+--------------------------------+\n\n"
     ]
    }
   ],
   "source": [
    "df15.show(truncate = False)"
   ]
  },
  {
   "cell_type": "code",
   "execution_count": 0,
   "metadata": {
    "application/vnd.databricks.v1+cell": {
     "cellMetadata": {},
     "inputWidgets": {},
     "nuid": "47e7f544-5053-4fcc-915e-e5eea0c6a60d",
     "showTitle": false,
     "title": ""
    },
    "colab": {},
    "colab_type": "code",
    "id": "hyJhOMM-acW4"
   },
   "outputs": [],
   "source": [
    "# 56. get_json_object\n",
    "from pyspark.sql.functions import get_json_object\n",
    "#Extracts json object from a json string based on json path specified, and returns json string of the extracted json object. It will return null if the input json string is invalid."
   ]
  },
  {
   "cell_type": "code",
   "execution_count": 0,
   "metadata": {
    "application/vnd.databricks.v1+cell": {
     "cellMetadata": {},
     "inputWidgets": {},
     "nuid": "871e0a47-c580-420a-adf7-132a71e6b017",
     "showTitle": false,
     "title": ""
    },
    "colab": {
     "base_uri": "https://localhost:8080/",
     "height": 138
    },
    "colab_type": "code",
    "id": "FqKpyfc9am7x",
    "outputId": "e8938232-02e6-4469-d25b-76a424e7e5bb"
   },
   "outputs": [
    {
     "output_type": "stream",
     "name": "stdout",
     "output_type": "stream",
     "text": [
      "+---------+---------+\n|F1 Values|F2 Values|\n+---------+---------+\n|   value1|   value2|\n|  value12|     null|\n+---------+---------+\n\n"
     ]
    }
   ],
   "source": [
    "df15.select(get_json_object(col = df15['jstring'] , path = '$.f1' ).alias(\"F1 Values\"), \n",
    "            get_json_object(col = df15['jstring'] , path = '$.f2' ).alias(\"F2 Values\")).show()"
   ]
  },
  {
   "cell_type": "code",
   "execution_count": 0,
   "metadata": {
    "application/vnd.databricks.v1+cell": {
     "cellMetadata": {},
     "inputWidgets": {},
     "nuid": "9715bf84-1104-4157-873e-9f46c4ed988c",
     "showTitle": false,
     "title": ""
    }
   },
   "outputs": [
    {
     "output_type": "stream",
     "name": "stdout",
     "output_type": "stream",
     "text": [
      "+---------+\n|F1 Values|\n+---------+\n|        1|\n+---------+\n\n"
     ]
    }
   ],
   "source": [
    "df14.select(get_json_object(col=df14['value'],path='$.a').alias(\"F1 Values\")).show()"
   ]
  },
  {
   "cell_type": "code",
   "execution_count": 0,
   "metadata": {
    "application/vnd.databricks.v1+cell": {
     "cellMetadata": {},
     "inputWidgets": {},
     "nuid": "25cfd1f8-7573-4d0a-8598-1ca969c45ef0",
     "showTitle": false,
     "title": ""
    },
    "colab": {},
    "colab_type": "code",
    "id": "5ouPi_xTcDFE"
   },
   "outputs": [],
   "source": [
    "# 57. greatest\n",
    "from pyspark.sql.functions import greatest\n",
    "#Returns the greatest value of the list of column names, skipping null values. This function takes at least 2 parameters. It will return null if all parameters are null."
   ]
  },
  {
   "cell_type": "code",
   "execution_count": 0,
   "metadata": {
    "application/vnd.databricks.v1+cell": {
     "cellMetadata": {},
     "inputWidgets": {},
     "nuid": "f89d17f0-edce-4527-b3ae-a046f450608b",
     "showTitle": false,
     "title": ""
    },
    "colab": {
     "base_uri": "https://localhost:8080/",
     "height": 466
    },
    "colab_type": "code",
    "id": "KBxjGR0KbHmp",
    "outputId": "47412d3e-881f-41e1-cb49-418e07a31440"
   },
   "outputs": [
    {
     "output_type": "stream",
     "name": "stdout",
     "output_type": "stream",
     "text": [
      "+----------+----+------+------+---+------+----+--------------------------------+\n|total_bill| tip|   sex|smoker|day|  time|size|greatest((total_bill / 12), tip)|\n+----------+----+------+------+---+------+----+--------------------------------+\n|     16.99|1.01|Female|    No|Sun|Dinner|   2|              1.4158333333333333|\n|     10.34|1.66|  Male|    No|Sun|Dinner|   3|                            1.66|\n|     21.01| 3.5|  Male|    No|Sun|Dinner|   3|                             3.5|\n|     23.68|3.31|  Male|    No|Sun|Dinner|   2|                            3.31|\n|     24.59|3.61|Female|    No|Sun|Dinner|   4|                            3.61|\n|     25.29|4.71|  Male|    No|Sun|Dinner|   4|                            4.71|\n|      8.77| 2.0|  Male|    No|Sun|Dinner|   2|                             2.0|\n|     26.88|3.12|  Male|    No|Sun|Dinner|   4|                            3.12|\n|     15.04|1.96|  Male|    No|Sun|Dinner|   2|                            1.96|\n|     14.78|3.23|  Male|    No|Sun|Dinner|   2|                            3.23|\n|     10.27|1.71|  Male|    No|Sun|Dinner|   2|                            1.71|\n|     35.26| 5.0|Female|    No|Sun|Dinner|   4|                             5.0|\n|     15.42|1.57|  Male|    No|Sun|Dinner|   2|                            1.57|\n|     18.43| 3.0|  Male|    No|Sun|Dinner|   4|                             3.0|\n|     14.83|3.02|Female|    No|Sun|Dinner|   2|                            3.02|\n|     21.58|3.92|  Male|    No|Sun|Dinner|   2|                            3.92|\n|     10.33|1.67|Female|    No|Sun|Dinner|   3|                            1.67|\n|     16.29|3.71|  Male|    No|Sun|Dinner|   3|                            3.71|\n|     16.97| 3.5|Female|    No|Sun|Dinner|   3|                             3.5|\n|     20.65|3.35|  Male|    No|Sat|Dinner|   3|                            3.35|\n+----------+----+------+------+---+------+----+--------------------------------+\nonly showing top 20 rows\n\n"
     ]
    }
   ],
   "source": [
    "tipss.select(\"*\", greatest(tipss['total_bill']/12, tipss['tip'])).show()"
   ]
  },
  {
   "cell_type": "code",
   "execution_count": 0,
   "metadata": {
    "application/vnd.databricks.v1+cell": {
     "cellMetadata": {},
     "inputWidgets": {},
     "nuid": "42cb322a-c61f-4492-908d-dbc247400c1a",
     "showTitle": false,
     "title": ""
    },
    "colab": {},
    "colab_type": "code",
    "id": "JaJD-ZlUbv1J"
   },
   "outputs": [],
   "source": [
    "# 58. hex\n",
    "from pyspark.sql.functions import hex\n",
    "#Computes hex value of the given column, which could be pyspark.sql.types.StringType,"
   ]
  },
  {
   "cell_type": "code",
   "execution_count": 0,
   "metadata": {
    "application/vnd.databricks.v1+cell": {
     "cellMetadata": {},
     "inputWidgets": {},
     "nuid": "eb4929cf-9a5a-411e-8680-8abed2fd17ab",
     "showTitle": false,
     "title": ""
    },
    "colab": {
     "base_uri": "https://localhost:8080/",
     "height": 466
    },
    "colab_type": "code",
    "id": "YydrQ1x1dP0L",
    "outputId": "5027bf97-aaca-474b-f7fe-e00863c4d025"
   },
   "outputs": [
    {
     "output_type": "stream",
     "name": "stdout",
     "output_type": "stream",
     "text": [
      "+---------------+\n|hex(total_bill)|\n+---------------+\n|             10|\n|              A|\n|             15|\n|             17|\n|             18|\n|             19|\n|              8|\n|             1A|\n|              F|\n|              E|\n|              A|\n|             23|\n|              F|\n|             12|\n|              E|\n|             15|\n|              A|\n|             10|\n|             10|\n|             14|\n+---------------+\nonly showing top 20 rows\n\n"
     ]
    }
   ],
   "source": [
    "tipss.select(hex(col=tipss['total_bill'])).show()"
   ]
  },
  {
   "cell_type": "code",
   "execution_count": 0,
   "metadata": {
    "application/vnd.databricks.v1+cell": {
     "cellMetadata": {},
     "inputWidgets": {},
     "nuid": "32a8706e-65f4-46ab-a6af-3d5967f474c6",
     "showTitle": false,
     "title": ""
    },
    "colab": {},
    "colab_type": "code",
    "id": "KEeJXk3-d1a5"
   },
   "outputs": [],
   "source": [
    "# 59. hour\n",
    "from pyspark.sql.functions import hour\n",
    "#Extract the hours of a given date as integer"
   ]
  },
  {
   "cell_type": "code",
   "execution_count": 0,
   "metadata": {
    "application/vnd.databricks.v1+cell": {
     "cellMetadata": {},
     "inputWidgets": {},
     "nuid": "2fd537ff-f0d3-466f-9d2a-fbfa07f2fce9",
     "showTitle": false,
     "title": ""
    }
   },
   "outputs": [
    {
     "output_type": "stream",
     "name": "stdout",
     "output_type": "stream",
     "text": [
      "+-------------------+\n|                  t|\n+-------------------+\n|1997-02-28 05:02:11|\n+-------------------+\n\n"
     ]
    }
   ],
   "source": [
    "df7.show()"
   ]
  },
  {
   "cell_type": "code",
   "execution_count": 0,
   "metadata": {
    "application/vnd.databricks.v1+cell": {
     "cellMetadata": {},
     "inputWidgets": {},
     "nuid": "c07740bc-1390-4a62-90af-a309ceefe7ff",
     "showTitle": false,
     "title": ""
    },
    "colab": {
     "base_uri": "https://localhost:8080/",
     "height": 121
    },
    "colab_type": "code",
    "id": "E5YBJSmbe78B",
    "outputId": "b3570bd0-a23f-4920-a415-8fb39ab44611"
   },
   "outputs": [
    {
     "output_type": "stream",
     "name": "stdout",
     "output_type": "stream",
     "text": [
      "+-------+\n|hour(t)|\n+-------+\n|      5|\n+-------+\n\n"
     ]
    }
   ],
   "source": [
    "df7.select(hour(col = df7['t'])).show()"
   ]
  },
  {
   "cell_type": "code",
   "execution_count": 0,
   "metadata": {
    "application/vnd.databricks.v1+cell": {
     "cellMetadata": {},
     "inputWidgets": {},
     "nuid": "7c579a3a-23d4-48ab-b696-805b75d92925",
     "showTitle": false,
     "title": ""
    },
    "colab": {},
    "colab_type": "code",
    "id": "wZuz-LHTe-hZ"
   },
   "outputs": [],
   "source": [
    "#60. hypot\n",
    "from pyspark.sql.functions import hypot\n",
    "#Computes ``sqrt(a^2 + b^2)`` without intermediate overflow or underflow."
   ]
  },
  {
   "cell_type": "code",
   "execution_count": 0,
   "metadata": {
    "application/vnd.databricks.v1+cell": {
     "cellMetadata": {},
     "inputWidgets": {},
     "nuid": "51544ec8-cdfb-4d78-a5cb-6d64f7a3b61a",
     "showTitle": false,
     "title": ""
    },
    "colab": {
     "base_uri": "https://localhost:8080/",
     "height": 466
    },
    "colab_type": "code",
    "id": "8sqIvTN-fdL4",
    "outputId": "68684856-f16e-4d43-9a0c-9ee37ff2a13e"
   },
   "outputs": [
    {
     "output_type": "stream",
     "name": "stdout",
     "output_type": "stream",
     "text": [
      "+----------+----+------+------+---+------+----+----------------------+\n|total_bill| tip|   sex|smoker|day|  time|size|HYPOT(total_bill, tip)|\n+----------+----+------+------+---+------+----+----------------------+\n|     16.99|1.01|Female|    No|Sun|Dinner|   2|    17.019994124558327|\n|     10.34|1.66|  Male|    No|Sun|Dinner|   3|     10.47240182575134|\n|     21.01| 3.5|  Male|    No|Sun|Dinner|   3|    21.299532858727208|\n|     23.68|3.31|  Male|    No|Sun|Dinner|   2|    23.910217481235925|\n|     24.59|3.61|Female|    No|Sun|Dinner|   4|    24.853575195532734|\n|     25.29|4.71|  Male|    No|Sun|Dinner|   4|    25.724855684726396|\n|      8.77| 2.0|  Male|    No|Sun|Dinner|   2|     8.995159809586486|\n|     26.88|3.12|  Male|    No|Sun|Dinner|   4|     27.06046562792296|\n|     15.04|1.96|  Male|    No|Sun|Dinner|   2|    15.167175083053534|\n|     14.78|3.23|  Male|    No|Sun|Dinner|   2|    15.128823483668516|\n|     10.27|1.71|  Male|    No|Sun|Dinner|   2|    10.411387995843782|\n|     35.26| 5.0|Female|    No|Sun|Dinner|   4|    35.612744909652776|\n|     15.42|1.57|  Male|    No|Sun|Dinner|   2|    15.499719352297964|\n|     18.43| 3.0|  Male|    No|Sun|Dinner|   4|    18.672570792475256|\n|     14.83|3.02|Female|    No|Sun|Dinner|   2|    15.134374780611191|\n|     21.58|3.92|  Male|    No|Sun|Dinner|   2|    21.933143869495773|\n|     10.33|1.67|Female|    No|Sun|Dinner|   3|    10.464119647634003|\n|     16.29|3.71|  Male|    No|Sun|Dinner|   3|    16.707130214372544|\n|     16.97| 3.5|Female|    No|Sun|Dinner|   3|    17.327172302484904|\n|     20.65|3.35|  Male|    No|Sat|Dinner|   3|     20.91996653917018|\n+----------+----+------+------+---+------+----+----------------------+\nonly showing top 20 rows\n\n"
     ]
    }
   ],
   "source": [
    "tipss.select(\"*\",hypot(col1 = tipss['total_bill'], col2 = tipss['tip'])).show()"
   ]
  },
  {
   "cell_type": "code",
   "execution_count": 0,
   "metadata": {
    "application/vnd.databricks.v1+cell": {
     "cellMetadata": {},
     "inputWidgets": {},
     "nuid": "517e3f13-73c7-4d0f-9b0d-ff95b831fa30",
     "showTitle": false,
     "title": ""
    },
    "colab": {},
    "colab_type": "code",
    "id": "uFzkupcsfukJ"
   },
   "outputs": [],
   "source": [
    "# 61. initcap\n",
    "from pyspark.sql.functions import initcap\n",
    "#Translate the first letter of each word to upper case in the sentence."
   ]
  },
  {
   "cell_type": "code",
   "execution_count": 0,
   "metadata": {
    "application/vnd.databricks.v1+cell": {
     "cellMetadata": {},
     "inputWidgets": {},
     "nuid": "3b9b2e56-55c3-43c0-84cf-ef02a7e341f0",
     "showTitle": false,
     "title": ""
    },
    "colab": {},
    "colab_type": "code",
    "id": "6a6kxB6XlJKT"
   },
   "outputs": [],
   "source": [
    "df16 = spark.createDataFrame(data = [(\"my name is ritish\",), \n",
    "                                     (\"i am 32 years old\",)], \n",
    "                             schema = ['Details'])"
   ]
  },
  {
   "cell_type": "code",
   "execution_count": 0,
   "metadata": {
    "application/vnd.databricks.v1+cell": {
     "cellMetadata": {},
     "inputWidgets": {},
     "nuid": "95f6cd11-ba31-42ac-b95c-c4c73a935fc7",
     "showTitle": false,
     "title": ""
    },
    "colab": {
     "base_uri": "https://localhost:8080/",
     "height": 138
    },
    "colab_type": "code",
    "id": "sYhJ610tlnor",
    "outputId": "2d2478fa-4e0d-4fc4-de92-950cac484986"
   },
   "outputs": [
    {
     "output_type": "stream",
     "name": "stdout",
     "output_type": "stream",
     "text": [
      "+-----------------+\n|          Details|\n+-----------------+\n|my name is ritish|\n|i am 32 years old|\n+-----------------+\n\n"
     ]
    }
   ],
   "source": [
    "df16.show()"
   ]
  },
  {
   "cell_type": "code",
   "execution_count": 0,
   "metadata": {
    "application/vnd.databricks.v1+cell": {
     "cellMetadata": {},
     "inputWidgets": {},
     "nuid": "6cadb8ec-2867-475d-93e4-cc9c8026237e",
     "showTitle": false,
     "title": ""
    },
    "colab": {
     "base_uri": "https://localhost:8080/",
     "height": 138
    },
    "colab_type": "code",
    "id": "DBrrg3EYl55D",
    "outputId": "db98cad3-2dd8-4744-82ab-8c09721b3e7e"
   },
   "outputs": [
    {
     "output_type": "stream",
     "name": "stdout",
     "output_type": "stream",
     "text": [
      "+-----------------+-----------------+\n|          Details|          InitCap|\n+-----------------+-----------------+\n|my name is ritish|My Name Is Ritish|\n|i am 32 years old|I Am 32 Years Old|\n+-----------------+-----------------+\n\n"
     ]
    }
   ],
   "source": [
    "df16.select(\"*\", initcap(col = df16['Details']).alias(\"InitCap\")).show()"
   ]
  },
  {
   "cell_type": "code",
   "execution_count": 0,
   "metadata": {
    "application/vnd.databricks.v1+cell": {
     "cellMetadata": {},
     "inputWidgets": {},
     "nuid": "84f04ccb-0e7c-45de-83dc-11c213d1c3d7",
     "showTitle": false,
     "title": ""
    },
    "colab": {},
    "colab_type": "code",
    "id": "_9Y4h0KVmFIL"
   },
   "outputs": [],
   "source": [
    "# 61. instr\n",
    "from pyspark.sql.functions import instr \n",
    "#Locate the position of the first occurrence of substr column in the given string. Returns null if either of the arguments are null."
   ]
  },
  {
   "cell_type": "code",
   "execution_count": 0,
   "metadata": {
    "application/vnd.databricks.v1+cell": {
     "cellMetadata": {},
     "inputWidgets": {},
     "nuid": "4090f857-7bdb-4360-9356-2d0f66fcbee8",
     "showTitle": false,
     "title": ""
    },
    "colab": {
     "base_uri": "https://localhost:8080/",
     "height": 138
    },
    "colab_type": "code",
    "id": "zKIW2nCRmkh7",
    "outputId": "2e5752d8-cf0e-4e09-c906-0d307a111305"
   },
   "outputs": [
    {
     "output_type": "stream",
     "name": "stdout",
     "output_type": "stream",
     "text": [
      "+-----------------+------------------+\n|          Details|instr(Details, is)|\n+-----------------+------------------+\n|my name is ritish|                 9|\n|i am 32 years old|                 0|\n+-----------------+------------------+\n\n"
     ]
    }
   ],
   "source": [
    "df16.select(\"*\",instr(str = df16['Details'], substr= 'is')).show()"
   ]
  },
  {
   "cell_type": "code",
   "execution_count": 0,
   "metadata": {
    "application/vnd.databricks.v1+cell": {
     "cellMetadata": {},
     "inputWidgets": {},
     "nuid": "13267642-211d-4177-be21-ae5000f2ad1b",
     "showTitle": false,
     "title": ""
    },
    "colab": {},
    "colab_type": "code",
    "id": "ytGhyhSpmvGK"
   },
   "outputs": [],
   "source": [
    "# 62. isnan\n",
    "from pyspark.sql.functions import isnan\n",
    "#An expression that returns true if the column is NaN."
   ]
  },
  {
   "cell_type": "code",
   "execution_count": 0,
   "metadata": {
    "application/vnd.databricks.v1+cell": {
     "cellMetadata": {},
     "inputWidgets": {},
     "nuid": "f09c986d-29fc-4c5f-87a5-2902487fb8aa",
     "showTitle": false,
     "title": ""
    },
    "colab": {},
    "colab_type": "code",
    "id": "XMni_8aCn_qk"
   },
   "outputs": [],
   "source": [
    "df17 = spark.createDataFrame(data = [(1.0, float('nan')), \n",
    "                                     (float('nan'), 2.0)], \n",
    "                             schema = (\"a\", \"b\"))"
   ]
  },
  {
   "cell_type": "code",
   "execution_count": 0,
   "metadata": {
    "application/vnd.databricks.v1+cell": {
     "cellMetadata": {},
     "inputWidgets": {},
     "nuid": "644a2221-ef79-450e-b2cb-bac47d1cf469",
     "showTitle": false,
     "title": ""
    }
   },
   "outputs": [
    {
     "output_type": "stream",
     "name": "stdout",
     "output_type": "stream",
     "text": [
      "+---+---+\n|  a|  b|\n+---+---+\n|1.0|NaN|\n|NaN|2.0|\n+---+---+\n\n"
     ]
    }
   ],
   "source": [
    "df17.show()"
   ]
  },
  {
   "cell_type": "code",
   "execution_count": 0,
   "metadata": {
    "application/vnd.databricks.v1+cell": {
     "cellMetadata": {},
     "inputWidgets": {},
     "nuid": "aa0fa791-95b2-43e4-9ad7-0716aa4017bb",
     "showTitle": false,
     "title": ""
    },
    "colab": {
     "base_uri": "https://localhost:8080/",
     "height": 138
    },
    "colab_type": "code",
    "id": "YZCkpSxfoDTT",
    "outputId": "eecc6c45-777c-442a-c299-7663f36c7846"
   },
   "outputs": [
    {
     "output_type": "stream",
     "name": "stdout",
     "output_type": "stream",
     "text": [
      "+--------+--------+\n|isnan(a)|isnan(b)|\n+--------+--------+\n|   false|    true|\n|    true|   false|\n+--------+--------+\n\n"
     ]
    }
   ],
   "source": [
    "df17.select(isnan(col = df17['a']), isnan(col = df17['b'])).show()"
   ]
  },
  {
   "cell_type": "code",
   "execution_count": 0,
   "metadata": {
    "application/vnd.databricks.v1+cell": {
     "cellMetadata": {},
     "inputWidgets": {},
     "nuid": "170b879d-fff6-45fa-be0d-012f6fae0c12",
     "showTitle": false,
     "title": ""
    },
    "colab": {},
    "colab_type": "code",
    "id": "1y6-UFLmolNb"
   },
   "outputs": [],
   "source": [
    "# 63. isnull\n",
    "from pyspark.sql.functions import isnull"
   ]
  },
  {
   "cell_type": "code",
   "execution_count": 0,
   "metadata": {
    "application/vnd.databricks.v1+cell": {
     "cellMetadata": {},
     "inputWidgets": {},
     "nuid": "fe15611d-1c77-4159-a655-f813ce0c2bbf",
     "showTitle": false,
     "title": ""
    },
    "colab": {},
    "colab_type": "code",
    "id": "9_AAlxzppMhI"
   },
   "outputs": [],
   "source": [
    "df18 = spark.createDataFrame(data = [(1.0, None), \n",
    "                                     (None, 2.0)], \n",
    "                             schema = (\"a\", \"b\"))"
   ]
  },
  {
   "cell_type": "code",
   "execution_count": 0,
   "metadata": {
    "application/vnd.databricks.v1+cell": {
     "cellMetadata": {},
     "inputWidgets": {},
     "nuid": "9d8df660-5274-4db2-b051-d76393f00761",
     "showTitle": false,
     "title": ""
    },
    "colab": {
     "base_uri": "https://localhost:8080/",
     "height": 138
    },
    "colab_type": "code",
    "id": "gyrH9VCGpbdX",
    "outputId": "733cffe0-a39a-4ee7-b209-0fcebcb23cd6"
   },
   "outputs": [
    {
     "output_type": "stream",
     "name": "stdout",
     "output_type": "stream",
     "text": [
      "+----+----+\n|   a|   b|\n+----+----+\n| 1.0|null|\n|null| 2.0|\n+----+----+\n\n"
     ]
    }
   ],
   "source": [
    "df18.show()"
   ]
  },
  {
   "cell_type": "code",
   "execution_count": 0,
   "metadata": {
    "application/vnd.databricks.v1+cell": {
     "cellMetadata": {},
     "inputWidgets": {},
     "nuid": "25854a4e-8a1e-4ca4-9aa1-c9bf86fff229",
     "showTitle": false,
     "title": ""
    },
    "colab": {
     "base_uri": "https://localhost:8080/",
     "height": 138
    },
    "colab_type": "code",
    "id": "ac3nFlAOo0AT",
    "outputId": "a933d7e0-ea3d-4650-e04c-31ab9eeffb17"
   },
   "outputs": [
    {
     "output_type": "stream",
     "name": "stdout",
     "output_type": "stream",
     "text": [
      "+-----+-----+\n|   r1|   r2|\n+-----+-----+\n|false| true|\n| true|false|\n+-----+-----+\n\n"
     ]
    }
   ],
   "source": [
    "df18.select(isnull(col = df18[\"a\"]).alias(\"r1\"), \n",
    "            isnull(col = df18[\"b\"]).alias(\"r2\"))\\\n",
    "            .show()"
   ]
  },
  {
   "cell_type": "code",
   "execution_count": 0,
   "metadata": {
    "application/vnd.databricks.v1+cell": {
     "cellMetadata": {},
     "inputWidgets": {},
     "nuid": "4a0dc138-2fc7-4c9a-b97a-ea3e91bb52b6",
     "showTitle": false,
     "title": ""
    }
   },
   "outputs": [
    {
     "output_type": "stream",
     "name": "stdout",
     "output_type": "stream",
     "text": [
      "+---+--------------------------------+\n|key|jstring                         |\n+---+--------------------------------+\n|1  |{\"f1\": \"value1\", \"f2\": \"value2\"}|\n|2  |{\"f1\": \"value12\"}               |\n+---+--------------------------------+\n\n"
     ]
    }
   ],
   "source": [
    "df15.show(truncate = False)"
   ]
  },
  {
   "cell_type": "code",
   "execution_count": 0,
   "metadata": {
    "application/vnd.databricks.v1+cell": {
     "cellMetadata": {},
     "inputWidgets": {},
     "nuid": "542ad335-e83f-46cc-a39b-f534faac21ee",
     "showTitle": false,
     "title": ""
    },
    "colab": {
     "base_uri": "https://localhost:8080/",
     "height": 138
    },
    "colab_type": "code",
    "id": "b6Gxbq_Ho25r",
    "outputId": "4251be9e-34e2-4df6-938e-8fe88945579d"
   },
   "outputs": [
    {
     "output_type": "stream",
     "name": "stdout",
     "output_type": "stream",
     "text": [
      "+---------+---------+\n|F1 Values|F2 Values|\n+---------+---------+\n|   value1|   value2|\n|  value12|     null|\n+---------+---------+\n\n"
     ]
    }
   ],
   "source": [
    "df15.select(get_json_object(col = df15['jstring'] , path = '$.f1' ).alias(\"F1 Values\"), \n",
    "            get_json_object(col = df15['jstring'] , path = '$.f2' ).alias(\"F2 Values\")).show()"
   ]
  },
  {
   "cell_type": "code",
   "execution_count": 0,
   "metadata": {
    "application/vnd.databricks.v1+cell": {
     "cellMetadata": {},
     "inputWidgets": {},
     "nuid": "c5d07d82-b727-424f-97a8-96b4451ac836",
     "showTitle": false,
     "title": ""
    },
    "colab": {},
    "colab_type": "code",
    "id": "kypvXpXyqEDx"
   },
   "outputs": [],
   "source": [
    "# 64. json_tuple\n",
    "from pyspark.sql.functions import json_tuple\n",
    "# Creates a new row for a json column according to the given field names."
   ]
  },
  {
   "cell_type": "code",
   "execution_count": 0,
   "metadata": {
    "application/vnd.databricks.v1+cell": {
     "cellMetadata": {},
     "inputWidgets": {},
     "nuid": "b3c893f8-22c8-4147-9d99-91232b4cbb7a",
     "showTitle": false,
     "title": ""
    }
   },
   "outputs": [
    {
     "output_type": "stream",
     "name": "stdout",
     "output_type": "stream",
     "text": [
      "Help on function json_tuple in module pyspark.sql.functions:\n\njson_tuple(col, *fields)\n    Creates a new row for a json column according to the given field names.\n    \n    .. versionadded:: 1.6.0\n    \n    Parameters\n    ----------\n    col : :class:`~pyspark.sql.Column` or str\n        string column in json format\n    fields : str\n        fields to extract\n    \n    Examples\n    --------\n    >>> data = [(\"1\", '''{\"f1\": \"value1\", \"f2\": \"value2\"}'''), (\"2\", '''{\"f1\": \"value12\"}''')]\n    >>> df = spark.createDataFrame(data, (\"key\", \"jstring\"))\n    >>> df.select(df.key, json_tuple(df.jstring, 'f1', 'f2')).collect()\n    [Row(key='1', c0='value1', c1='value2'), Row(key='2', c0='value12', c1=None)]\n\n"
     ]
    }
   ],
   "source": [
    "help(json_tuple)"
   ]
  },
  {
   "cell_type": "code",
   "execution_count": 0,
   "metadata": {
    "application/vnd.databricks.v1+cell": {
     "cellMetadata": {},
     "inputWidgets": {},
     "nuid": "a640d783-1214-48c6-8efc-c01d0e57b43a",
     "showTitle": false,
     "title": ""
    },
    "colab": {
     "base_uri": "https://localhost:8080/",
     "height": 138
    },
    "colab_type": "code",
    "id": "VRrgEhzoqIy7",
    "outputId": "7dc1ec4e-424e-4a5e-c2df-9eb9b322bfaf"
   },
   "outputs": [
    {
     "output_type": "stream",
     "name": "stdout",
     "output_type": "stream",
     "text": [
      "+---+--------------------------------+\n|key|jstring                         |\n+---+--------------------------------+\n|1  |{\"f1\": \"value1\", \"f2\": \"value2\"}|\n|2  |{\"f1\": \"value12\"}               |\n+---+--------------------------------+\n\n"
     ]
    }
   ],
   "source": [
    "df15.show(truncate=False)"
   ]
  },
  {
   "cell_type": "code",
   "execution_count": 0,
   "metadata": {
    "application/vnd.databricks.v1+cell": {
     "cellMetadata": {},
     "inputWidgets": {},
     "nuid": "104a8947-64d9-43c5-9833-ac4bdfdf8445",
     "showTitle": false,
     "title": ""
    },
    "colab": {
     "base_uri": "https://localhost:8080/",
     "height": 138
    },
    "colab_type": "code",
    "id": "TXU25LDLqSYb",
    "outputId": "cc19b0fd-6a63-4659-8337-7670b9cdaa23"
   },
   "outputs": [
    {
     "output_type": "stream",
     "name": "stdout",
     "output_type": "stream",
     "text": [
      "+-------+------+\n|     c0|    c1|\n+-------+------+\n| value1|value2|\n|value12|  null|\n+-------+------+\n\n"
     ]
    }
   ],
   "source": [
    "df15.select(json_tuple(df15['jstring'], *['f1','f2'])).show()"
   ]
  },
  {
   "cell_type": "code",
   "execution_count": 0,
   "metadata": {
    "application/vnd.databricks.v1+cell": {
     "cellMetadata": {},
     "inputWidgets": {},
     "nuid": "5806b4ad-2052-4dc4-9323-0aae1040bb36",
     "showTitle": false,
     "title": ""
    }
   },
   "outputs": [
    {
     "output_type": "stream",
     "name": "stdout",
     "output_type": "stream",
     "text": [
      "+-------+------+\n|     c0|    c1|\n+-------+------+\n| value1|value2|\n|value12|  null|\n+-------+------+\n\n"
     ]
    }
   ],
   "source": [
    "df15.select(json_tuple(df15['jstring'], 'f1','f2')).show()"
   ]
  },
  {
   "cell_type": "code",
   "execution_count": 0,
   "metadata": {
    "application/vnd.databricks.v1+cell": {
     "cellMetadata": {},
     "inputWidgets": {},
     "nuid": "9f05c4a1-13c5-43a9-9071-2c5f00290936",
     "showTitle": false,
     "title": ""
    },
    "colab": {},
    "colab_type": "code",
    "id": "US-y5BlPq9Gr"
   },
   "outputs": [],
   "source": [
    "# 65. lag\n",
    "from pyspark.sql.functions import lag\n",
    "from pyspark.sql.functions import window\n",
    "from pyspark.sql.window import Window\n",
    "\n",
    "#Window function: returns the value that is offset rows before the current row, and defaultValue if there is less than offset rows before the current row."
   ]
  },
  {
   "cell_type": "code",
   "execution_count": 0,
   "metadata": {
    "application/vnd.databricks.v1+cell": {
     "cellMetadata": {},
     "inputWidgets": {},
     "nuid": "fad5b774-78e6-47d8-bed5-2fc38dbd88b9",
     "showTitle": false,
     "title": ""
    },
    "colab": {
     "base_uri": "https://localhost:8080/",
     "height": 34
    },
    "colab_type": "code",
    "id": "58BN_vKv1r9E",
    "outputId": "ffe706d4-292b-4eac-f53d-d393f9feca89"
   },
   "outputs": [
    {
     "output_type": "stream",
     "name": "stdout",
     "output_type": "stream",
     "text": [
      "Out[265]: ['total_bill', 'tip', 'sex', 'smoker', 'day', 'time', 'size']"
     ]
    }
   ],
   "source": [
    "tipss.columns"
   ]
  },
  {
   "cell_type": "code",
   "execution_count": 0,
   "metadata": {
    "application/vnd.databricks.v1+cell": {
     "cellMetadata": {},
     "inputWidgets": {},
     "nuid": "5b2e1e52-4867-43d4-bfc1-7f1eba474a3d",
     "showTitle": false,
     "title": ""
    },
    "colab": {
     "base_uri": "https://localhost:8080/",
     "height": 34
    },
    "colab_type": "code",
    "id": "ETzcTOJ73FRC",
    "outputId": "bbb1f560-104e-493d-e2fd-efa13c894665"
   },
   "outputs": [
    {
     "output_type": "stream",
     "name": "stdout",
     "output_type": "stream",
     "text": [
      "+----------+----+------+------+---+------+----+-------------+\n|total_bill|tip |sex   |smoker|day|time  |size|Lagged Values|\n+----------+----+------+------+---+------+----+-------------+\n|5.75      |1.0 |Female|Yes   |Fri|Dinner|2   |null         |\n|16.32     |4.3 |Female|Yes   |Fri|Dinner|2   |5.75         |\n|22.75     |3.25|Female|No    |Fri|Dinner|2   |16.32        |\n|11.35     |2.5 |Female|Yes   |Fri|Dinner|2   |22.75        |\n|15.38     |3.0 |Female|Yes   |Fri|Dinner|2   |11.35        |\n|28.97     |3.0 |Male  |Yes   |Fri|Dinner|2   |15.38        |\n|22.49     |3.5 |Male  |No    |Fri|Dinner|2   |28.97        |\n|40.17     |4.73|Male  |Yes   |Fri|Dinner|4   |22.49        |\n|27.28     |4.0 |Male  |Yes   |Fri|Dinner|2   |40.17        |\n|12.03     |1.5 |Male  |Yes   |Fri|Dinner|2   |27.28        |\n|21.01     |3.0 |Male  |Yes   |Fri|Dinner|2   |12.03        |\n|12.46     |1.5 |Male  |No    |Fri|Dinner|2   |21.01        |\n|13.42     |3.48|Female|Yes   |Fri|Lunch |2   |null         |\n|15.98     |3.0 |Female|No    |Fri|Lunch |3   |13.42        |\n|16.27     |2.5 |Female|Yes   |Fri|Lunch |2   |15.98        |\n|10.09     |2.0 |Female|Yes   |Fri|Lunch |2   |16.27        |\n|12.16     |2.2 |Male  |Yes   |Fri|Lunch |2   |10.09        |\n|8.58      |1.92|Male  |Yes   |Fri|Lunch |1   |12.16        |\n|13.42     |1.58|Male  |Yes   |Fri|Lunch |2   |8.58         |\n|20.29     |2.75|Female|No    |Sat|Dinner|2   |null         |\n|15.77     |2.23|Female|No    |Sat|Dinner|2   |20.29        |\n|19.65     |3.0 |Female|No    |Sat|Dinner|2   |15.77        |\n|15.06     |3.0 |Female|No    |Sat|Dinner|2   |19.65        |\n|20.69     |2.45|Female|No    |Sat|Dinner|4   |15.06        |\n|16.93     |3.07|Female|No    |Sat|Dinner|3   |20.69        |\n|26.41     |1.5 |Female|No    |Sat|Dinner|2   |16.93        |\n|16.45     |2.47|Female|No    |Sat|Dinner|2   |26.41        |\n|3.07      |1.0 |Female|Yes   |Sat|Dinner|1   |16.45        |\n|17.07     |3.0 |Female|No    |Sat|Dinner|3   |3.07         |\n|26.86     |3.14|Female|Yes   |Sat|Dinner|2   |17.07        |\n|25.28     |5.0 |Female|Yes   |Sat|Dinner|2   |26.86        |\n|14.73     |2.2 |Female|No    |Sat|Dinner|2   |25.28        |\n|44.3      |2.5 |Female|Yes   |Sat|Dinner|3   |14.73        |\n|22.42     |3.48|Female|Yes   |Sat|Dinner|2   |44.3         |\n|20.92     |4.08|Female|No    |Sat|Dinner|2   |22.42        |\n|14.31     |4.0 |Female|Yes   |Sat|Dinner|2   |20.92        |\n|7.25      |1.0 |Female|No    |Sat|Dinner|1   |14.31        |\n|10.59     |1.61|Female|Yes   |Sat|Dinner|2   |7.25         |\n|10.63     |2.0 |Female|Yes   |Sat|Dinner|2   |10.59        |\n|12.76     |2.23|Female|Yes   |Sat|Dinner|2   |10.63        |\n|13.27     |2.5 |Female|Yes   |Sat|Dinner|2   |12.76        |\n|28.17     |6.5 |Female|Yes   |Sat|Dinner|3   |13.27        |\n|12.9      |1.1 |Female|Yes   |Sat|Dinner|2   |28.17        |\n|30.14     |3.09|Female|Yes   |Sat|Dinner|4   |12.9         |\n|22.12     |2.88|Female|Yes   |Sat|Dinner|2   |30.14        |\n|35.83     |4.67|Female|No    |Sat|Dinner|3   |22.12        |\n|27.18     |2.0 |Female|Yes   |Sat|Dinner|2   |35.83        |\n|20.65     |3.35|Male  |No    |Sat|Dinner|3   |27.18        |\n|17.92     |4.08|Male  |No    |Sat|Dinner|2   |20.65        |\n|39.42     |7.58|Male  |No    |Sat|Dinner|4   |17.92        |\n|19.82     |3.18|Male  |No    |Sat|Dinner|2   |39.42        |\n|17.81     |2.34|Male  |No    |Sat|Dinner|4   |19.82        |\n|13.37     |2.0 |Male  |No    |Sat|Dinner|2   |17.81        |\n|12.69     |2.0 |Male  |No    |Sat|Dinner|2   |13.37        |\n|21.7      |4.3 |Male  |No    |Sat|Dinner|2   |12.69        |\n|9.55      |1.45|Male  |No    |Sat|Dinner|2   |21.7         |\n|18.35     |2.5 |Male  |No    |Sat|Dinner|4   |9.55         |\n|17.78     |3.27|Male  |No    |Sat|Dinner|2   |18.35        |\n|24.06     |3.6 |Male  |No    |Sat|Dinner|3   |17.78        |\n|16.31     |2.0 |Male  |No    |Sat|Dinner|3   |24.06        |\n|18.69     |2.31|Male  |No    |Sat|Dinner|3   |16.31        |\n|31.27     |5.0 |Male  |No    |Sat|Dinner|3   |18.69        |\n|16.04     |2.24|Male  |No    |Sat|Dinner|3   |31.27        |\n|38.01     |3.0 |Male  |Yes   |Sat|Dinner|4   |16.04        |\n|11.24     |1.76|Male  |Yes   |Sat|Dinner|2   |38.01        |\n|48.27     |6.73|Male  |No    |Sat|Dinner|4   |11.24        |\n|20.29     |3.21|Male  |Yes   |Sat|Dinner|2   |48.27        |\n|13.81     |2.0 |Male  |Yes   |Sat|Dinner|2   |20.29        |\n|11.02     |1.98|Male  |Yes   |Sat|Dinner|2   |13.81        |\n|18.29     |3.76|Male  |Yes   |Sat|Dinner|4   |11.02        |\n|17.59     |2.64|Male  |No    |Sat|Dinner|3   |18.29        |\n|20.08     |3.15|Male  |No    |Sat|Dinner|3   |17.59        |\n|20.23     |2.01|Male  |No    |Sat|Dinner|2   |20.08        |\n|15.01     |2.09|Male  |Yes   |Sat|Dinner|2   |20.23        |\n|12.02     |1.97|Male  |No    |Sat|Dinner|2   |15.01        |\n|10.51     |1.25|Male  |No    |Sat|Dinner|2   |12.02        |\n|17.92     |3.08|Male  |Yes   |Sat|Dinner|2   |10.51        |\n|15.36     |1.64|Male  |Yes   |Sat|Dinner|2   |17.92        |\n|20.49     |4.06|Male  |Yes   |Sat|Dinner|2   |15.36        |\n|25.21     |4.29|Male  |Yes   |Sat|Dinner|2   |20.49        |\n|18.24     |3.76|Male  |No    |Sat|Dinner|2   |25.21        |\n|14.0      |3.0 |Male  |No    |Sat|Dinner|2   |18.24        |\n|50.81     |10.0|Male  |Yes   |Sat|Dinner|3   |14.0         |\n|15.81     |3.16|Male  |Yes   |Sat|Dinner|2   |50.81        |\n|26.59     |3.41|Male  |Yes   |Sat|Dinner|3   |15.81        |\n|38.73     |3.0 |Male  |Yes   |Sat|Dinner|4   |26.59        |\n|24.27     |2.03|Male  |Yes   |Sat|Dinner|2   |38.73        |\n|30.06     |2.0 |Male  |Yes   |Sat|Dinner|3   |24.27        |\n|25.89     |5.16|Male  |Yes   |Sat|Dinner|4   |30.06        |\n|48.33     |9.0 |Male  |No    |Sat|Dinner|4   |25.89        |\n|28.15     |3.0 |Male  |Yes   |Sat|Dinner|5   |48.33        |\n|11.59     |1.5 |Male  |Yes   |Sat|Dinner|2   |28.15        |\n|7.74      |1.44|Male  |Yes   |Sat|Dinner|2   |11.59        |\n|20.45     |3.0 |Male  |No    |Sat|Dinner|4   |7.74         |\n|13.28     |2.72|Male  |No    |Sat|Dinner|2   |20.45        |\n|24.01     |2.0 |Male  |Yes   |Sat|Dinner|4   |13.28        |\n|15.69     |3.0 |Male  |Yes   |Sat|Dinner|3   |24.01        |\n|11.61     |3.39|Male  |No    |Sat|Dinner|2   |15.69        |\n|10.77     |1.47|Male  |No    |Sat|Dinner|2   |11.61        |\n|15.53     |3.0 |Male  |Yes   |Sat|Dinner|2   |10.77        |\n+----------+----+------+------+---+------+----+-------------+\nonly showing top 100 rows\n\n"
     ]
    }
   ],
   "source": [
    "tipss.select(\"*\",lag(col = tipss['total_bill']).over(Window.partitionBy([\"day\",\"time\"]).orderBy(\"sex\")).alias(\"Lagged Values\")).show(100,False)"
   ]
  },
  {
   "cell_type": "code",
   "execution_count": 0,
   "metadata": {
    "application/vnd.databricks.v1+cell": {
     "cellMetadata": {},
     "inputWidgets": {},
     "nuid": "033d16d3-b493-444a-a6f3-b5bb3cddc269",
     "showTitle": false,
     "title": ""
    },
    "colab": {},
    "colab_type": "code",
    "id": "VIyaQpKi1Bbr"
   },
   "outputs": [],
   "source": [
    "# 66. last\n",
    "from pyspark.sql.functions import last\n",
    " #Aggregate function: returns the last value in a group."
   ]
  },
  {
   "cell_type": "code",
   "execution_count": 0,
   "metadata": {
    "application/vnd.databricks.v1+cell": {
     "cellMetadata": {},
     "inputWidgets": {},
     "nuid": "0e171452-a7a7-4122-8aa4-f269aae0c65e",
     "showTitle": false,
     "title": ""
    },
    "colab": {
     "base_uri": "https://localhost:8080/",
     "height": 121
    },
    "colab_type": "code",
    "id": "srZgNdwa_VzT",
    "outputId": "c5187277-a3af-4c4a-cb4d-98cb93689ec1"
   },
   "outputs": [
    {
     "output_type": "stream",
     "name": "stdout",
     "output_type": "stream",
     "text": [
      "+----------------+\n|last(total_bill)|\n+----------------+\n|           18.78|\n+----------------+\n\n"
     ]
    }
   ],
   "source": [
    "tipss.select(last(col = \"total_bill\", ignorenulls=True)).show()"
   ]
  },
  {
   "cell_type": "code",
   "execution_count": 0,
   "metadata": {
    "application/vnd.databricks.v1+cell": {
     "cellMetadata": {},
     "inputWidgets": {},
     "nuid": "f2f0e006-6e53-4f60-961f-b6a66662406a",
     "showTitle": false,
     "title": ""
    }
   },
   "outputs": [
    {
     "output_type": "stream",
     "name": "stdout",
     "output_type": "stream",
     "text": [
      "+----+----------------+\n| day|last(total_bill)|\n+----+----------------+\n| Sun|           15.69|\n| Sat|           17.82|\n|Thur|           18.78|\n| Fri|           10.09|\n+----+----------------+\n\n"
     ]
    }
   ],
   "source": [
    "tipss.groupBy('day').agg(last(col = \"total_bill\", ignorenulls=True)).show()"
   ]
  },
  {
   "cell_type": "code",
   "execution_count": 0,
   "metadata": {
    "application/vnd.databricks.v1+cell": {
     "cellMetadata": {},
     "inputWidgets": {},
     "nuid": "85e8a301-3fbc-4c68-bfe6-d6932ad10616",
     "showTitle": false,
     "title": ""
    },
    "colab": {},
    "colab_type": "code",
    "id": "BPXpZMEX_60S"
   },
   "outputs": [],
   "source": [
    "# 67. last_day\n",
    "from pyspark.sql.functions import last_day\n",
    "#Returns the last day of the month which the given date belongs to."
   ]
  },
  {
   "cell_type": "code",
   "execution_count": 0,
   "metadata": {
    "application/vnd.databricks.v1+cell": {
     "cellMetadata": {},
     "inputWidgets": {},
     "nuid": "ac1ecfd3-75f7-4011-a312-79bafb1f2474",
     "showTitle": false,
     "title": ""
    }
   },
   "outputs": [
    {
     "output_type": "stream",
     "name": "stdout",
     "output_type": "stream",
     "text": [
      "+-------------------+\n|                  t|\n+-------------------+\n|1997-02-28 05:02:11|\n+-------------------+\n\n"
     ]
    }
   ],
   "source": [
    "df7.show(5)"
   ]
  },
  {
   "cell_type": "code",
   "execution_count": 0,
   "metadata": {
    "application/vnd.databricks.v1+cell": {
     "cellMetadata": {},
     "inputWidgets": {},
     "nuid": "856374b5-f199-4df6-a262-9645782451db",
     "showTitle": false,
     "title": ""
    },
    "colab": {
     "base_uri": "https://localhost:8080/",
     "height": 121
    },
    "colab_type": "code",
    "id": "l3yh1MFm-fn7",
    "outputId": "66040c76-4ebb-4429-c295-855ed1030068"
   },
   "outputs": [
    {
     "output_type": "stream",
     "name": "stdout",
     "output_type": "stream",
     "text": [
      "+-------------------+--------------------------+\n|                  t|last_day(add_months(t, 1))|\n+-------------------+--------------------------+\n|1997-02-28 05:02:11|                1997-03-31|\n+-------------------+--------------------------+\n\n"
     ]
    }
   ],
   "source": [
    "#gives the lastday of the month post one month of the entered date through the add_months function.\n",
    "df7.select(\"*\", last_day(add_months(start = df7['t'], months = 1))).show()"
   ]
  },
  {
   "cell_type": "code",
   "execution_count": 0,
   "metadata": {
    "application/vnd.databricks.v1+cell": {
     "cellMetadata": {},
     "inputWidgets": {},
     "nuid": "bcfc24b2-decb-44ae-94dc-dd291b588c90",
     "showTitle": false,
     "title": ""
    },
    "colab": {},
    "colab_type": "code",
    "id": "pIqrB7X3_yCT"
   },
   "outputs": [],
   "source": [
    "# 68. lead\n",
    "from pyspark.sql.functions import lead\n",
    "#Window function: returns the value that is offset rows after the current row, and defaultValue if there is less than offset rows after the current row. \n",
    "#For example, an offset of one will return the next row at any given point in the window partition."
   ]
  },
  {
   "cell_type": "code",
   "execution_count": 0,
   "metadata": {
    "application/vnd.databricks.v1+cell": {
     "cellMetadata": {},
     "inputWidgets": {},
     "nuid": "ae08e507-febb-4361-8e60-979950262e9c",
     "showTitle": false,
     "title": ""
    },
    "colab": {
     "base_uri": "https://localhost:8080/",
     "height": 34
    },
    "colab_type": "code",
    "id": "EYT4sf1aDKkb",
    "outputId": "24afba1c-621d-4251-e2fa-edc2b261b5d5"
   },
   "outputs": [
    {
     "output_type": "stream",
     "name": "stdout",
     "output_type": "stream",
     "text": [
      "+----------+----+------+------+----+------+----+-----+\n|total_bill| tip|   sex|smoker| day|  time|size| Lead|\n+----------+----+------+------+----+------+----+-----+\n|     16.99|1.01|Female|    No| Sun|Dinner|   2|24.59|\n|     24.59|3.61|Female|    No| Sun|Dinner|   4|35.26|\n|     35.26| 5.0|Female|    No| Sun|Dinner|   4|14.83|\n|     14.83|3.02|Female|    No| Sun|Dinner|   2|10.33|\n|     10.33|1.67|Female|    No| Sun|Dinner|   3|16.97|\n|     16.97| 3.5|Female|    No| Sun|Dinner|   3|20.29|\n|     20.29|2.75|Female|    No| Sat|Dinner|   2|15.77|\n|     15.77|2.23|Female|    No| Sat|Dinner|   2|19.65|\n|     19.65| 3.0|Female|    No| Sat|Dinner|   2|15.06|\n|     15.06| 3.0|Female|    No| Sat|Dinner|   2|20.69|\n|     20.69|2.45|Female|    No| Sat|Dinner|   4|16.93|\n|     16.93|3.07|Female|    No| Sat|Dinner|   3|10.29|\n|     10.29| 2.6|Female|    No| Sun|Dinner|   2|34.81|\n|     34.81| 5.2|Female|    No| Sun|Dinner|   4|26.41|\n|     26.41| 1.5|Female|    No| Sat|Dinner|   2|16.45|\n|     16.45|2.47|Female|    No| Sat|Dinner|   2| 3.07|\n|      3.07| 1.0|Female|   Yes| Sat|Dinner|   1|17.07|\n|     17.07| 3.0|Female|    No| Sat|Dinner|   3|26.86|\n|     26.86|3.14|Female|   Yes| Sat|Dinner|   2|25.28|\n|     25.28| 5.0|Female|   Yes| Sat|Dinner|   2|14.73|\n|     14.73| 2.2|Female|    No| Sat|Dinner|   2|10.07|\n|     10.07|1.83|Female|    No|Thur| Lunch|   1|34.83|\n|     34.83|5.17|Female|    No|Thur| Lunch|   4| 5.75|\n|      5.75| 1.0|Female|   Yes| Fri|Dinner|   2|16.32|\n|     16.32| 4.3|Female|   Yes| Fri|Dinner|   2|22.75|\n|     22.75|3.25|Female|    No| Fri|Dinner|   2|11.35|\n|     11.35| 2.5|Female|   Yes| Fri|Dinner|   2|15.38|\n|     15.38| 3.0|Female|   Yes| Fri|Dinner|   2| 44.3|\n|      44.3| 2.5|Female|   Yes| Sat|Dinner|   3|22.42|\n|     22.42|3.48|Female|   Yes| Sat|Dinner|   2|20.92|\n|     20.92|4.08|Female|    No| Sat|Dinner|   2|14.31|\n|     14.31| 4.0|Female|   Yes| Sat|Dinner|   2| 7.25|\n|      7.25| 1.0|Female|    No| Sat|Dinner|   1|25.71|\n|     25.71| 4.0|Female|    No| Sun|Dinner|   3|17.31|\n|     17.31| 3.5|Female|    No| Sun|Dinner|   2|10.65|\n|     10.65| 1.5|Female|    No|Thur| Lunch|   2|12.43|\n|     12.43| 1.8|Female|    No|Thur| Lunch|   2|24.08|\n|     24.08|2.92|Female|    No|Thur| Lunch|   4|13.42|\n|     13.42|1.68|Female|    No|Thur| Lunch|   2|12.48|\n|     12.48|2.52|Female|    No|Thur| Lunch|   2| 29.8|\n|      29.8| 4.2|Female|    No|Thur| Lunch|   6|14.52|\n|     14.52| 2.0|Female|    No|Thur| Lunch|   2|11.38|\n|     11.38| 2.0|Female|    No|Thur| Lunch|   2|20.27|\n|     20.27|2.83|Female|    No|Thur| Lunch|   2|11.17|\n|     11.17| 1.5|Female|    No|Thur| Lunch|   2|12.26|\n|     12.26| 2.0|Female|    No|Thur| Lunch|   2|18.26|\n|     18.26|3.25|Female|    No|Thur| Lunch|   2| 8.51|\n|      8.51|1.25|Female|    No|Thur| Lunch|   2|10.33|\n|     10.33| 2.0|Female|    No|Thur| Lunch|   2|14.15|\n|     14.15| 2.0|Female|    No|Thur| Lunch|   2|13.16|\n|     13.16|2.75|Female|    No|Thur| Lunch|   2|17.47|\n|     17.47| 3.5|Female|    No|Thur| Lunch|   2|27.05|\n|     27.05| 5.0|Female|    No|Thur| Lunch|   6|16.43|\n|     16.43| 2.3|Female|    No|Thur| Lunch|   2| 8.35|\n|      8.35| 1.5|Female|    No|Thur| Lunch|   2|18.64|\n|     18.64|1.36|Female|    No|Thur| Lunch|   3|11.87|\n|     11.87|1.63|Female|    No|Thur| Lunch|   2|29.85|\n|     29.85|5.14|Female|    No| Sun|Dinner|   5| 25.0|\n|      25.0|3.75|Female|    No| Sun|Dinner|   4|13.39|\n|     13.39|2.61|Female|    No| Sun|Dinner|   2|16.21|\n|     16.21| 2.0|Female|    No| Sun|Dinner|   3|17.51|\n|     17.51| 3.0|Female|   Yes| Sun|Dinner|   2|10.59|\n|     10.59|1.61|Female|   Yes| Sat|Dinner|   2|10.63|\n|     10.63| 2.0|Female|   Yes| Sat|Dinner|   2|  9.6|\n|       9.6| 4.0|Female|   Yes| Sun|Dinner|   2| 20.9|\n|      20.9| 3.5|Female|   Yes| Sun|Dinner|   3|18.15|\n|     18.15| 3.5|Female|   Yes| Sun|Dinner|   3|19.81|\n|     19.81|4.19|Female|   Yes|Thur| Lunch|   2|43.11|\n|     43.11| 5.0|Female|   Yes|Thur| Lunch|   4| 13.0|\n|      13.0| 2.0|Female|   Yes|Thur| Lunch|   2|12.74|\n|     12.74|2.01|Female|   Yes|Thur| Lunch|   2| 13.0|\n|      13.0| 2.0|Female|   Yes|Thur| Lunch|   2| 16.4|\n|      16.4| 2.5|Female|   Yes|Thur| Lunch|   2|16.47|\n|     16.47|3.23|Female|   Yes|Thur| Lunch|   3|12.76|\n|     12.76|2.23|Female|   Yes| Sat|Dinner|   2|13.27|\n|     13.27| 2.5|Female|   Yes| Sat|Dinner|   2|28.17|\n|     28.17| 6.5|Female|   Yes| Sat|Dinner|   3| 12.9|\n|      12.9| 1.1|Female|   Yes| Sat|Dinner|   2|30.14|\n|     30.14|3.09|Female|   Yes| Sat|Dinner|   4|13.42|\n|     13.42|3.48|Female|   Yes| Fri| Lunch|   2|15.98|\n|     15.98| 3.0|Female|    No| Fri| Lunch|   3|16.27|\n|     16.27| 2.5|Female|   Yes| Fri| Lunch|   2|10.09|\n|     10.09| 2.0|Female|   Yes| Fri| Lunch|   2|22.12|\n|     22.12|2.88|Female|   Yes| Sat|Dinner|   2|35.83|\n|     35.83|4.67|Female|    No| Sat|Dinner|   3|27.18|\n|     27.18| 2.0|Female|   Yes| Sat|Dinner|   2|18.78|\n|     18.78| 3.0|Female|    No|Thur|Dinner|   2|10.34|\n|     10.34|1.66|  Male|    No| Sun|Dinner|   3|21.01|\n|     21.01| 3.5|  Male|    No| Sun|Dinner|   3|23.68|\n|     23.68|3.31|  Male|    No| Sun|Dinner|   2|25.29|\n|     25.29|4.71|  Male|    No| Sun|Dinner|   4| 8.77|\n|      8.77| 2.0|  Male|    No| Sun|Dinner|   2|26.88|\n|     26.88|3.12|  Male|    No| Sun|Dinner|   4|15.04|\n|     15.04|1.96|  Male|    No| Sun|Dinner|   2|14.78|\n|     14.78|3.23|  Male|    No| Sun|Dinner|   2|10.27|\n|     10.27|1.71|  Male|    No| Sun|Dinner|   2|15.42|\n|     15.42|1.57|  Male|    No| Sun|Dinner|   2|18.43|\n|     18.43| 3.0|  Male|    No| Sun|Dinner|   4|21.58|\n|     21.58|3.92|  Male|    No| Sun|Dinner|   2|16.29|\n|     16.29|3.71|  Male|    No| Sun|Dinner|   3|20.65|\n|     20.65|3.35|  Male|    No| Sat|Dinner|   3|17.92|\n|     17.92|4.08|  Male|    No| Sat|Dinner|   2|39.42|\n|     39.42|7.58|  Male|    No| Sat|Dinner|   4|19.82|\n|     19.82|3.18|  Male|    No| Sat|Dinner|   2|17.81|\n|     17.81|2.34|  Male|    No| Sat|Dinner|   4|13.37|\n|     13.37| 2.0|  Male|    No| Sat|Dinner|   2|12.69|\n|     12.69| 2.0|  Male|    No| Sat|Dinner|   2| 21.7|\n|      21.7| 4.3|  Male|    No| Sat|Dinner|   2| 9.55|\n|      9.55|1.45|  Male|    No| Sat|Dinner|   2|18.35|\n|     18.35| 2.5|  Male|    No| Sat|Dinner|   4|17.78|\n|     17.78|3.27|  Male|    No| Sat|Dinner|   2|24.06|\n|     24.06| 3.6|  Male|    No| Sat|Dinner|   3|16.31|\n|     16.31| 2.0|  Male|    No| Sat|Dinner|   3|18.69|\n|     18.69|2.31|  Male|    No| Sat|Dinner|   3|31.27|\n|     31.27| 5.0|  Male|    No| Sat|Dinner|   3|16.04|\n|     16.04|2.24|  Male|    No| Sat|Dinner|   3|17.46|\n|     17.46|2.54|  Male|    No| Sun|Dinner|   2|13.94|\n|     13.94|3.06|  Male|    No| Sun|Dinner|   2| 9.68|\n|      9.68|1.32|  Male|    No| Sun|Dinner|   2| 30.4|\n|      30.4| 5.6|  Male|    No| Sun|Dinner|   4|18.29|\n|     18.29| 3.0|  Male|    No| Sun|Dinner|   2|22.23|\n|     22.23| 5.0|  Male|    No| Sun|Dinner|   2| 32.4|\n|      32.4| 6.0|  Male|    No| Sun|Dinner|   4|28.55|\n|     28.55|2.05|  Male|    No| Sun|Dinner|   3|18.04|\n|     18.04| 3.0|  Male|    No| Sun|Dinner|   2|12.54|\n|     12.54| 2.5|  Male|    No| Sun|Dinner|   2| 9.94|\n|      9.94|1.56|  Male|    No| Sun|Dinner|   2|25.56|\n|     25.56|4.34|  Male|    No| Sun|Dinner|   4|19.49|\n|     19.49|3.51|  Male|    No| Sun|Dinner|   2|38.01|\n|     38.01| 3.0|  Male|   Yes| Sat|Dinner|   4|11.24|\n|     11.24|1.76|  Male|   Yes| Sat|Dinner|   2|48.27|\n|     48.27|6.73|  Male|    No| Sat|Dinner|   4|20.29|\n|     20.29|3.21|  Male|   Yes| Sat|Dinner|   2|13.81|\n|     13.81| 2.0|  Male|   Yes| Sat|Dinner|   2|11.02|\n|     11.02|1.98|  Male|   Yes| Sat|Dinner|   2|18.29|\n|     18.29|3.76|  Male|   Yes| Sat|Dinner|   4|17.59|\n|     17.59|2.64|  Male|    No| Sat|Dinner|   3|20.08|\n|     20.08|3.15|  Male|    No| Sat|Dinner|   3|20.23|\n|     20.23|2.01|  Male|    No| Sat|Dinner|   2|15.01|\n|     15.01|2.09|  Male|   Yes| Sat|Dinner|   2|12.02|\n|     12.02|1.97|  Male|    No| Sat|Dinner|   2|10.51|\n|     10.51|1.25|  Male|    No| Sat|Dinner|   2|17.92|\n|     17.92|3.08|  Male|   Yes| Sat|Dinner|   2| 27.2|\n|      27.2| 4.0|  Male|    No|Thur| Lunch|   4|22.76|\n|     22.76| 3.0|  Male|    No|Thur| Lunch|   2|17.29|\n|     17.29|2.71|  Male|    No|Thur| Lunch|   2|19.44|\n|     19.44| 3.0|  Male|   Yes|Thur| Lunch|   2|16.66|\n|     16.66| 3.4|  Male|    No|Thur| Lunch|   2|32.68|\n|     32.68| 5.0|  Male|   Yes|Thur| Lunch|   2|15.98|\n|     15.98|2.03|  Male|    No|Thur| Lunch|   2|13.03|\n|     13.03| 2.0|  Male|    No|Thur| Lunch|   2|18.28|\n|     18.28| 4.0|  Male|    No|Thur| Lunch|   2|24.71|\n|     24.71|5.85|  Male|    No|Thur| Lunch|   2|21.16|\n|     21.16| 3.0|  Male|    No|Thur| Lunch|   2|28.97|\n|     28.97| 3.0|  Male|   Yes| Fri|Dinner|   2|22.49|\n|     22.49| 3.5|  Male|    No| Fri|Dinner|   2|40.17|\n|     40.17|4.73|  Male|   Yes| Fri|Dinner|   4|27.28|\n|     27.28| 4.0|  Male|   Yes| Fri|Dinner|   2|12.03|\n|     12.03| 1.5|  Male|   Yes| Fri|Dinner|   2|21.01|\n|     21.01| 3.0|  Male|   Yes| Fri|Dinner|   2|12.46|\n|     12.46| 1.5|  Male|    No| Fri|Dinner|   2|15.36|\n|     15.36|1.64|  Male|   Yes| Sat|Dinner|   2|20.49|\n|     20.49|4.06|  Male|   Yes| Sat|Dinner|   2|25.21|\n|     25.21|4.29|  Male|   Yes| Sat|Dinner|   2|18.24|\n|     18.24|3.76|  Male|    No| Sat|Dinner|   2| 14.0|\n|      14.0| 3.0|  Male|    No| Sat|Dinner|   2|38.07|\n|     38.07| 4.0|  Male|    No| Sun|Dinner|   3|23.95|\n|     23.95|2.55|  Male|    No| Sun|Dinner|   2|29.93|\n|     29.93|5.07|  Male|    No| Sun|Dinner|   4|11.69|\n|     11.69|2.31|  Male|    No|Thur| Lunch|   2|14.26|\n|     14.26| 2.5|  Male|    No|Thur| Lunch|   2|15.95|\n|     15.95| 2.0|  Male|    No|Thur| Lunch|   2| 8.52|\n|      8.52|1.48|  Male|    No|Thur| Lunch|   2|22.82|\n|     22.82|2.18|  Male|    No|Thur| Lunch|   3|19.08|\n|     19.08| 1.5|  Male|    No|Thur| Lunch|   2| 16.0|\n|      16.0| 2.0|  Male|   Yes|Thur| Lunch|   2| 34.3|\n|      34.3| 6.7|  Male|    No|Thur| Lunch|   6|41.19|\n|     41.19| 5.0|  Male|    No|Thur| Lunch|   5| 9.78|\n|      9.78|1.73|  Male|    No|Thur| Lunch|   2| 7.51|\n|      7.51| 2.0|  Male|    No|Thur| Lunch|   2|14.07|\n|     14.07| 2.5|  Male|    No| Sun|Dinner|   2|13.13|\n|     13.13| 2.0|  Male|    No| Sun|Dinner|   2|17.26|\n|     17.26|2.74|  Male|    No| Sun|Dinner|   3|24.55|\n|     24.55| 2.0|  Male|    No| Sun|Dinner|   4|19.77|\n|     19.77| 2.0|  Male|    No| Sun|Dinner|   4|48.17|\n|     48.17| 5.0|  Male|    No| Sun|Dinner|   6|16.49|\n|     16.49| 2.0|  Male|    No| Sun|Dinner|   4| 21.5|\n|      21.5| 3.5|  Male|    No| Sun|Dinner|   4|12.66|\n|     12.66| 2.5|  Male|    No| Sun|Dinner|   2|13.81|\n|     13.81| 2.0|  Male|    No| Sun|Dinner|   2|24.52|\n|     24.52|3.48|  Male|    No| Sun|Dinner|   3|20.76|\n|     20.76|2.24|  Male|    No| Sun|Dinner|   2|31.71|\n|     31.71| 4.5|  Male|    No| Sun|Dinner|   4|50.81|\n|     50.81|10.0|  Male|   Yes| Sat|Dinner|   3|15.81|\n|     15.81|3.16|  Male|   Yes| Sat|Dinner|   2| 7.25|\n|      7.25|5.15|  Male|   Yes| Sun|Dinner|   2|31.85|\n|     31.85|3.18|  Male|   Yes| Sun|Dinner|   2|16.82|\n|     16.82| 4.0|  Male|   Yes| Sun|Dinner|   2| 32.9|\n|      32.9|3.11|  Male|   Yes| Sun|Dinner|   2|17.89|\n|     17.89| 2.0|  Male|   Yes| Sun|Dinner|   2|14.48|\n|     14.48| 2.0|  Male|   Yes| Sun|Dinner|   2|34.63|\n|     34.63|3.55|  Male|   Yes| Sun|Dinner|   2|34.65|\n|     34.65|3.68|  Male|   Yes| Sun|Dinner|   4|23.33|\n|     23.33|5.65|  Male|   Yes| Sun|Dinner|   2|45.35|\n|     45.35| 3.5|  Male|   Yes| Sun|Dinner|   3|23.17|\n|     23.17| 6.5|  Male|   Yes| Sun|Dinner|   4|40.55|\n|     40.55| 3.0|  Male|   Yes| Sun|Dinner|   2|20.69|\n|     20.69| 5.0|  Male|    No| Sun|Dinner|   5|30.46|\n|     30.46| 2.0|  Male|   Yes| Sun|Dinner|   5| 23.1|\n|      23.1| 4.0|  Male|   Yes| Sun|Dinner|   3|15.69|\n|     15.69| 1.5|  Male|   Yes| Sun|Dinner|   2|28.44|\n|     28.44|2.56|  Male|   Yes|Thur| Lunch|   2|15.48|\n|     15.48|2.02|  Male|   Yes|Thur| Lunch|   2|16.58|\n|     16.58| 4.0|  Male|   Yes|Thur| Lunch|   2| 7.56|\n|      7.56|1.44|  Male|    No|Thur| Lunch|   2|10.34|\n|     10.34| 2.0|  Male|   Yes|Thur| Lunch|   2|13.51|\n|     13.51| 2.0|  Male|   Yes|Thur| Lunch|   2|18.71|\n|     18.71| 4.0|  Male|   Yes|Thur| Lunch|   3|20.53|\n|     20.53| 4.0|  Male|   Yes|Thur| Lunch|   4|26.59|\n|     26.59|3.41|  Male|   Yes| Sat|Dinner|   3|38.73|\n|     38.73| 3.0|  Male|   Yes| Sat|Dinner|   4|24.27|\n|     24.27|2.03|  Male|   Yes| Sat|Dinner|   2|30.06|\n|     30.06| 2.0|  Male|   Yes| Sat|Dinner|   3|25.89|\n|     25.89|5.16|  Male|   Yes| Sat|Dinner|   4|48.33|\n|     48.33| 9.0|  Male|    No| Sat|Dinner|   4|28.15|\n|     28.15| 3.0|  Male|   Yes| Sat|Dinner|   5|11.59|\n|     11.59| 1.5|  Male|   Yes| Sat|Dinner|   2| 7.74|\n|      7.74|1.44|  Male|   Yes| Sat|Dinner|   2|12.16|\n|     12.16| 2.2|  Male|   Yes| Fri| Lunch|   2| 8.58|\n|      8.58|1.92|  Male|   Yes| Fri| Lunch|   1|13.42|\n|     13.42|1.58|  Male|   Yes| Fri| Lunch|   2|20.45|\n|     20.45| 3.0|  Male|    No| Sat|Dinner|   4|13.28|\n|     13.28|2.72|  Male|    No| Sat|Dinner|   2|24.01|\n|     24.01| 2.0|  Male|   Yes| Sat|Dinner|   4|15.69|\n|     15.69| 3.0|  Male|   Yes| Sat|Dinner|   3|11.61|\n|     11.61|3.39|  Male|    No| Sat|Dinner|   2|10.77|\n|     10.77|1.47|  Male|    No| Sat|Dinner|   2|15.53|\n|     15.53| 3.0|  Male|   Yes| Sat|Dinner|   2|10.07|\n|     10.07|1.25|  Male|    No| Sat|Dinner|   2| 12.6|\n|      12.6| 1.0|  Male|   Yes| Sat|Dinner|   2|32.83|\n|     32.83|1.17|  Male|   Yes| Sat|Dinner|   2|29.03|\n|     29.03|5.92|  Male|    No| Sat|Dinner|   3|22.67|\n|     22.67| 2.0|  Male|   Yes| Sat|Dinner|   2|17.82|\n|     17.82|1.75|  Male|    No| Sat|Dinner|   2| null|\n+----------+----+------+------+----+------+----+-----+\n\n"
     ]
    }
   ],
   "source": [
    "tipss.select(\"*\",lead(col = tipss['total_bill'], offset = 1).over(Window.orderBy('sex')).alias(\"Lead\")).show(tipss.count())"
   ]
  },
  {
   "cell_type": "code",
   "execution_count": 0,
   "metadata": {
    "application/vnd.databricks.v1+cell": {
     "cellMetadata": {},
     "inputWidgets": {},
     "nuid": "39282f96-9602-4915-823d-52bfef0ad00c",
     "showTitle": false,
     "title": ""
    },
    "colab": {},
    "colab_type": "code",
    "id": "TXBLYx9mDiPz"
   },
   "outputs": [],
   "source": [
    "# 69. least\n",
    "from pyspark.sql.functions import least\n",
    "#Returns the least value of the list of column names, skipping null values. This function takes at least 2 parameters. It will return null iff all parameters are null."
   ]
  },
  {
   "cell_type": "code",
   "execution_count": 0,
   "metadata": {
    "application/vnd.databricks.v1+cell": {
     "cellMetadata": {},
     "inputWidgets": {},
     "nuid": "7d0750e2-a8a4-4ae0-9e9d-d4c9f32ff735",
     "showTitle": false,
     "title": ""
    },
    "colab": {
     "base_uri": "https://localhost:8080/",
     "height": 466
    },
    "colab_type": "code",
    "id": "Yyg8aXueFq3D",
    "outputId": "d4453554-15de-4b00-ee83-ebc27921780a"
   },
   "outputs": [
    {
     "output_type": "stream",
     "name": "stdout",
     "output_type": "stream",
     "text": [
      "+----------+----+------+------+---+------+----+-----------------------------+\n|total_bill| tip|   sex|smoker|day|  time|size|least((total_bill / 12), tip)|\n+----------+----+------+------+---+------+----+-----------------------------+\n|     16.99|1.01|Female|    No|Sun|Dinner|   2|                         1.01|\n|     10.34|1.66|  Male|    No|Sun|Dinner|   3|           0.8616666666666667|\n|     21.01| 3.5|  Male|    No|Sun|Dinner|   3|           1.7508333333333335|\n|     23.68|3.31|  Male|    No|Sun|Dinner|   2|           1.9733333333333334|\n|     24.59|3.61|Female|    No|Sun|Dinner|   4|            2.049166666666667|\n|     25.29|4.71|  Male|    No|Sun|Dinner|   4|                       2.1075|\n|      8.77| 2.0|  Male|    No|Sun|Dinner|   2|           0.7308333333333333|\n|     26.88|3.12|  Male|    No|Sun|Dinner|   4|           2.2399999999999998|\n|     15.04|1.96|  Male|    No|Sun|Dinner|   2|           1.2533333333333332|\n|     14.78|3.23|  Male|    No|Sun|Dinner|   2|           1.2316666666666667|\n|     10.27|1.71|  Male|    No|Sun|Dinner|   2|           0.8558333333333333|\n|     35.26| 5.0|Female|    No|Sun|Dinner|   4|            2.938333333333333|\n|     15.42|1.57|  Male|    No|Sun|Dinner|   2|                        1.285|\n|     18.43| 3.0|  Male|    No|Sun|Dinner|   4|           1.5358333333333334|\n|     14.83|3.02|Female|    No|Sun|Dinner|   2|           1.2358333333333333|\n|     21.58|3.92|  Male|    No|Sun|Dinner|   2|           1.7983333333333331|\n|     10.33|1.67|Female|    No|Sun|Dinner|   3|           0.8608333333333333|\n|     16.29|3.71|  Male|    No|Sun|Dinner|   3|                       1.3575|\n|     16.97| 3.5|Female|    No|Sun|Dinner|   3|           1.4141666666666666|\n|     20.65|3.35|  Male|    No|Sat|Dinner|   3|           1.7208333333333332|\n+----------+----+------+------+---+------+----+-----------------------------+\nonly showing top 20 rows\n\n"
     ]
    }
   ],
   "source": [
    "tipss.select(\"*\",least(tipss['total_bill']/12, tipss['tip'])).show()"
   ]
  },
  {
   "cell_type": "code",
   "execution_count": 0,
   "metadata": {
    "application/vnd.databricks.v1+cell": {
     "cellMetadata": {},
     "inputWidgets": {},
     "nuid": "bded51fd-c980-4f5b-be4f-fdd1f44b4acb",
     "showTitle": false,
     "title": ""
    }
   },
   "outputs": [
    {
     "output_type": "stream",
     "name": "stdout",
     "output_type": "stream",
     "text": [
      "+----------+----+------+------+---+------+----+\n|total_bill|tip |sex   |smoker|day|time  |size|\n+----------+----+------+------+---+------+----+\n|16.99     |1.01|Female|No    |Sun|Dinner|2   |\n|10.34     |1.66|Male  |No    |Sun|Dinner|3   |\n|21.01     |3.5 |Male  |No    |Sun|Dinner|3   |\n|23.68     |3.31|Male  |No    |Sun|Dinner|2   |\n|24.59     |3.61|Female|No    |Sun|Dinner|4   |\n|25.29     |4.71|Male  |No    |Sun|Dinner|4   |\n|8.77      |2.0 |Male  |No    |Sun|Dinner|2   |\n|26.88     |3.12|Male  |No    |Sun|Dinner|4   |\n|15.04     |1.96|Male  |No    |Sun|Dinner|2   |\n|14.78     |3.23|Male  |No    |Sun|Dinner|2   |\n+----------+----+------+------+---+------+----+\nonly showing top 10 rows\n\n"
     ]
    }
   ],
   "source": [
    "tipss.show(10,False)"
   ]
  },
  {
   "cell_type": "code",
   "execution_count": 0,
   "metadata": {
    "application/vnd.databricks.v1+cell": {
     "cellMetadata": {},
     "inputWidgets": {},
     "nuid": "9d84a7a7-8965-42e1-ad0b-265c1e3bf376",
     "showTitle": false,
     "title": ""
    }
   },
   "outputs": [
    {
     "output_type": "stream",
     "name": "stdout",
     "output_type": "stream",
     "text": [
      "+------+--------+\n|   Sex|max(tip)|\n+------+--------+\n|Female|     6.5|\n|  Male|    10.0|\n+------+--------+\n\n"
     ]
    }
   ],
   "source": [
    "tipss.groupBy('Sex').agg(max(tipss['tip'])).show()"
   ]
  },
  {
   "cell_type": "code",
   "execution_count": 0,
   "metadata": {
    "application/vnd.databricks.v1+cell": {
     "cellMetadata": {},
     "inputWidgets": {},
     "nuid": "0113a723-4dc1-40cf-a957-6a26444d5111",
     "showTitle": false,
     "title": ""
    }
   },
   "outputs": [
    {
     "output_type": "stream",
     "name": "stdout",
     "output_type": "stream",
     "text": [
      "+------+---------------+\n|   sex|max(total_bill)|\n+------+---------------+\n|Female|           44.3|\n|  Male|          50.81|\n+------+---------------+\n\n"
     ]
    }
   ],
   "source": [
    "tipss.groupBy(['sex']).agg(max(tipss['total_bill'])).show()"
   ]
  },
  {
   "cell_type": "code",
   "execution_count": 0,
   "metadata": {
    "application/vnd.databricks.v1+cell": {
     "cellMetadata": {},
     "inputWidgets": {},
     "nuid": "b90d4cec-a60f-49e5-b6e6-655356ed9f00",
     "showTitle": false,
     "title": ""
    },
    "colab": {},
    "colab_type": "code",
    "id": "VlyY4S9ZF89T"
   },
   "outputs": [],
   "source": [
    "# 70. length\n",
    "from pyspark.sql.functions import length\n",
    "#Computes the character length of string data or number of bytes of binary data. The length of character data includes the trailing spaces. \n",
    "#The length of binary data includes binary zeros."
   ]
  },
  {
   "cell_type": "code",
   "execution_count": 0,
   "metadata": {
    "application/vnd.databricks.v1+cell": {
     "cellMetadata": {},
     "inputWidgets": {},
     "nuid": "6754a8fc-1873-46e2-81ce-24709a8dade4",
     "showTitle": false,
     "title": ""
    },
    "colab": {
     "base_uri": "https://localhost:8080/",
     "height": 138
    },
    "colab_type": "code",
    "id": "24GywWm2GYpD",
    "outputId": "d8499887-4564-4eba-8682-ed0ecf6e615b"
   },
   "outputs": [
    {
     "output_type": "stream",
     "name": "stdout",
     "output_type": "stream",
     "text": [
      "+-----------------+---------------+\n|          Details|length(Details)|\n+-----------------+---------------+\n|my name is ritish|             17|\n|i am 32 years old|             17|\n+-----------------+---------------+\n\n"
     ]
    }
   ],
   "source": [
    "df16.select(\"*\",length(df16['Details'])).show()"
   ]
  },
  {
   "cell_type": "code",
   "execution_count": 0,
   "metadata": {
    "application/vnd.databricks.v1+cell": {
     "cellMetadata": {},
     "inputWidgets": {},
     "nuid": "14d57e14-2133-445f-b199-05194121bd6c",
     "showTitle": false,
     "title": ""
    },
    "colab": {},
    "colab_type": "code",
    "id": "ZVWF9E8FGvsT"
   },
   "outputs": [],
   "source": [
    "# 71. levenshtein\n",
    "from pyspark.sql.functions import levenshtein\n",
    "#Computes the Levenshtein distance of the two given strings."
   ]
  },
  {
   "cell_type": "code",
   "execution_count": 0,
   "metadata": {
    "application/vnd.databricks.v1+cell": {
     "cellMetadata": {},
     "inputWidgets": {},
     "nuid": "6bfa7ed3-16fc-42ec-8056-b53e35dde84b",
     "showTitle": false,
     "title": ""
    },
    "colab": {
     "base_uri": "https://localhost:8080/",
     "height": 466
    },
    "colab_type": "code",
    "id": "aElQTbFyICNF",
    "outputId": "68409ae6-043c-4436-99ee-a6d7f94448a1"
   },
   "outputs": [
    {
     "output_type": "stream",
     "name": "stdout",
     "output_type": "stream",
     "text": [
      "+----------+----+------+------+---+------+----+----------------------+\n|total_bill| tip|   sex|smoker|day|  time|size|levenshtein(sex, time)|\n+----------+----+------+------+---+------+----+----------------------+\n|     16.99|1.01|Female|    No|Sun|Dinner|   2|                     6|\n|     10.34|1.66|  Male|    No|Sun|Dinner|   3|                     5|\n|     21.01| 3.5|  Male|    No|Sun|Dinner|   3|                     5|\n|     23.68|3.31|  Male|    No|Sun|Dinner|   2|                     5|\n|     24.59|3.61|Female|    No|Sun|Dinner|   4|                     6|\n|     25.29|4.71|  Male|    No|Sun|Dinner|   4|                     5|\n|      8.77| 2.0|  Male|    No|Sun|Dinner|   2|                     5|\n|     26.88|3.12|  Male|    No|Sun|Dinner|   4|                     5|\n|     15.04|1.96|  Male|    No|Sun|Dinner|   2|                     5|\n|     14.78|3.23|  Male|    No|Sun|Dinner|   2|                     5|\n|     10.27|1.71|  Male|    No|Sun|Dinner|   2|                     5|\n|     35.26| 5.0|Female|    No|Sun|Dinner|   4|                     6|\n|     15.42|1.57|  Male|    No|Sun|Dinner|   2|                     5|\n|     18.43| 3.0|  Male|    No|Sun|Dinner|   4|                     5|\n|     14.83|3.02|Female|    No|Sun|Dinner|   2|                     6|\n|     21.58|3.92|  Male|    No|Sun|Dinner|   2|                     5|\n|     10.33|1.67|Female|    No|Sun|Dinner|   3|                     6|\n|     16.29|3.71|  Male|    No|Sun|Dinner|   3|                     5|\n|     16.97| 3.5|Female|    No|Sun|Dinner|   3|                     6|\n|     20.65|3.35|  Male|    No|Sat|Dinner|   3|                     5|\n+----------+----+------+------+---+------+----+----------------------+\nonly showing top 20 rows\n\n"
     ]
    }
   ],
   "source": [
    "tipss.select(\"*\",levenshtein(left = tipss['sex'], right = tipss['time'])).show()"
   ]
  },
  {
   "cell_type": "code",
   "execution_count": 0,
   "metadata": {
    "application/vnd.databricks.v1+cell": {
     "cellMetadata": {},
     "inputWidgets": {},
     "nuid": "93161b67-dc3e-4007-8cac-991b8a3873c4",
     "showTitle": false,
     "title": ""
    },
    "colab": {},
    "colab_type": "code",
    "id": "xnZtGiVuIDqr"
   },
   "outputs": [],
   "source": [
    "# 72. lit\n",
    "from pyspark.sql.functions import lit\n",
    "# Creates a :class:`Column` of literal value."
   ]
  },
  {
   "cell_type": "code",
   "execution_count": 0,
   "metadata": {
    "application/vnd.databricks.v1+cell": {
     "cellMetadata": {},
     "inputWidgets": {},
     "nuid": "4e0cc839-56c1-4e44-89ea-b4ee9e801234",
     "showTitle": false,
     "title": ""
    },
    "colab": {
     "base_uri": "https://localhost:8080/",
     "height": 466
    },
    "colab_type": "code",
    "id": "67crkxwnJkMK",
    "outputId": "4b310bda-03c6-4ed3-b6c8-52b2ec7f7d9b"
   },
   "outputs": [
    {
     "output_type": "stream",
     "name": "stdout",
     "output_type": "stream",
     "text": [
      "+----------+----+------+------+---+------+----+---+\n|total_bill| tip|   sex|smoker|day|  time|size|  6|\n+----------+----+------+------+---+------+----+---+\n|     16.99|1.01|Female|    No|Sun|Dinner|   2|  6|\n|     10.34|1.66|  Male|    No|Sun|Dinner|   3|  6|\n|     21.01| 3.5|  Male|    No|Sun|Dinner|   3|  6|\n|     23.68|3.31|  Male|    No|Sun|Dinner|   2|  6|\n|     24.59|3.61|Female|    No|Sun|Dinner|   4|  6|\n|     25.29|4.71|  Male|    No|Sun|Dinner|   4|  6|\n|      8.77| 2.0|  Male|    No|Sun|Dinner|   2|  6|\n|     26.88|3.12|  Male|    No|Sun|Dinner|   4|  6|\n|     15.04|1.96|  Male|    No|Sun|Dinner|   2|  6|\n|     14.78|3.23|  Male|    No|Sun|Dinner|   2|  6|\n|     10.27|1.71|  Male|    No|Sun|Dinner|   2|  6|\n|     35.26| 5.0|Female|    No|Sun|Dinner|   4|  6|\n|     15.42|1.57|  Male|    No|Sun|Dinner|   2|  6|\n|     18.43| 3.0|  Male|    No|Sun|Dinner|   4|  6|\n|     14.83|3.02|Female|    No|Sun|Dinner|   2|  6|\n|     21.58|3.92|  Male|    No|Sun|Dinner|   2|  6|\n|     10.33|1.67|Female|    No|Sun|Dinner|   3|  6|\n|     16.29|3.71|  Male|    No|Sun|Dinner|   3|  6|\n|     16.97| 3.5|Female|    No|Sun|Dinner|   3|  6|\n|     20.65|3.35|  Male|    No|Sat|Dinner|   3|  6|\n+----------+----+------+------+---+------+----+---+\nonly showing top 20 rows\n\n"
     ]
    }
   ],
   "source": [
    "tipss.select(\"*\",lit(6)).show()"
   ]
  },
  {
   "cell_type": "code",
   "execution_count": 0,
   "metadata": {
    "application/vnd.databricks.v1+cell": {
     "cellMetadata": {},
     "inputWidgets": {},
     "nuid": "f91e1e7d-b8b8-49bd-99bb-5087f2f12b20",
     "showTitle": false,
     "title": ""
    },
    "colab": {},
    "colab_type": "code",
    "id": "7amZiAWOJnDz"
   },
   "outputs": [],
   "source": [
    "# 73. locate\n",
    "from pyspark.sql.functions import locate\n",
    "#Locate the position of the first occurrence of substr in a string column, after position pos."
   ]
  },
  {
   "cell_type": "code",
   "execution_count": 0,
   "metadata": {
    "application/vnd.databricks.v1+cell": {
     "cellMetadata": {},
     "inputWidgets": {},
     "nuid": "15d5572f-a029-4974-a594-560e10fbaf14",
     "showTitle": false,
     "title": ""
    }
   },
   "outputs": [
    {
     "output_type": "display_data",
     "data": {
      "text/html": [
       "<style scoped>\n",
       "  .ansiout {\n",
       "    display: block;\n",
       "    unicode-bidi: embed;\n",
       "    white-space: pre-wrap;\n",
       "    word-wrap: break-word;\n",
       "    word-break: break-all;\n",
       "    font-family: \"Menlo\", \"Monaco\", \"Consolas\", \"Ubuntu Mono\", \"Source Code Pro\", monospace;\n",
       "    font-size: 13px;\n",
       "    color: #555;\n",
       "    margin-left: 4px;\n",
       "    line-height: 19px;\n",
       "  }\n",
       "</style>\n",
       "<div class=\"ansiout\">Help on function instr in module pyspark.sql.functions:\n",
       "\n",
       "instr(str, substr)\n",
       "    Locate the position of the first occurrence of substr column in the given string.\n",
       "    Returns null if either of the arguments are null.\n",
       "    \n",
       "    .. note:: The position is not zero based, but 1 based index. Returns 0 if substr\n",
       "        could not be found in str.\n",
       "    \n",
       "    &gt;&gt;&gt; df = spark.createDataFrame([(&#39;abcd&#39;,)], [&#39;s&#39;,])\n",
       "    &gt;&gt;&gt; df.select(instr(df.s, &#39;b&#39;).alias(&#39;s&#39;)).collect()\n",
       "    [Row(s=2)]\n",
       "    \n",
       "    .. versionadded:: 1.5\n",
       "\n",
       "</div>"
      ]
     },
     "metadata": {
      "application/vnd.databricks.v1+output": {
       "addedWidgets": {},
       "arguments": {},
       "data": "<div class=\"ansiout\">Help on function instr in module pyspark.sql.functions:\n\ninstr(str, substr)\n    Locate the position of the first occurrence of substr column in the given string.\n    Returns null if either of the arguments are null.\n    \n    .. note:: The position is not zero based, but 1 based index. Returns 0 if substr\n        could not be found in str.\n    \n    &gt;&gt;&gt; df = spark.createDataFrame([(&#39;abcd&#39;,)], [&#39;s&#39;,])\n    &gt;&gt;&gt; df.select(instr(df.s, &#39;b&#39;).alias(&#39;s&#39;)).collect()\n    [Row(s=2)]\n    \n    .. versionadded:: 1.5\n\n</div>",
       "datasetInfos": [],
       "metadata": {},
       "removedWidgets": [],
       "type": "html"
      }
     },
     "output_type": "display_data"
    }
   ],
   "source": [
    "help(instr)"
   ]
  },
  {
   "cell_type": "code",
   "execution_count": 0,
   "metadata": {
    "application/vnd.databricks.v1+cell": {
     "cellMetadata": {},
     "inputWidgets": {},
     "nuid": "90c6c5b2-2cff-4aef-b7b9-61d741c2406a",
     "showTitle": false,
     "title": ""
    }
   },
   "outputs": [
    {
     "output_type": "stream",
     "name": "stdout",
     "output_type": "stream",
     "text": [
      "+-------------+\n|instr(sex, e)|\n+-------------+\n|            2|\n|            4|\n|            4|\n|            4|\n|            2|\n|            4|\n|            4|\n|            4|\n|            4|\n|            4|\n|            4|\n|            2|\n|            4|\n|            4|\n|            2|\n|            4|\n|            2|\n|            4|\n|            2|\n|            4|\n+-------------+\nonly showing top 20 rows\n\n"
     ]
    }
   ],
   "source": [
    "# There is a subtle difference between instr and locate\n",
    "tipss.select(instr(str = tipss['sex'], substr = 'e')).show()"
   ]
  },
  {
   "cell_type": "code",
   "execution_count": 0,
   "metadata": {
    "application/vnd.databricks.v1+cell": {
     "cellMetadata": {},
     "inputWidgets": {},
     "nuid": "c1217652-a351-4ffd-aebc-f87b15489298",
     "showTitle": false,
     "title": ""
    },
    "colab": {
     "base_uri": "https://localhost:8080/",
     "height": 466
    },
    "colab_type": "code",
    "id": "HwM_Y80KKH7D",
    "outputId": "12f2e904-9354-4c35-aadb-74291eeb124b"
   },
   "outputs": [
    {
     "output_type": "stream",
     "name": "stdout",
     "output_type": "stream",
     "text": [
      "+-----------------+\n|locate(e, sex, 3)|\n+-----------------+\n|                6|\n|                4|\n|                4|\n|                4|\n|                6|\n|                4|\n|                4|\n|                4|\n|                4|\n|                4|\n|                4|\n|                6|\n|                4|\n|                4|\n|                6|\n|                4|\n|                6|\n|                4|\n|                6|\n|                4|\n+-----------------+\nonly showing top 20 rows\n\n"
     ]
    }
   ],
   "source": [
    "tipss.select(locate(substr = 'e', str = tipss['sex'] , pos = 3)).show()"
   ]
  },
  {
   "cell_type": "code",
   "execution_count": 0,
   "metadata": {
    "application/vnd.databricks.v1+cell": {
     "cellMetadata": {},
     "inputWidgets": {},
     "nuid": "be1d9911-2d1d-4cb3-9478-c4d82e03892a",
     "showTitle": false,
     "title": ""
    },
    "colab": {},
    "colab_type": "code",
    "id": "JaqFItpvMM77"
   },
   "outputs": [],
   "source": [
    "# 74. log\n",
    "from pyspark.sql.functions import log\n",
    "#Returns the first argument-based logarithm of the second argument."
   ]
  },
  {
   "cell_type": "code",
   "execution_count": 0,
   "metadata": {
    "application/vnd.databricks.v1+cell": {
     "cellMetadata": {},
     "inputWidgets": {},
     "nuid": "fcf2f792-9a45-4876-bb37-d94845cf0e43",
     "showTitle": false,
     "title": ""
    },
    "colab": {
     "base_uri": "https://localhost:8080/",
     "height": 466
    },
    "colab_type": "code",
    "id": "a4gmFZ3oM3AL",
    "outputId": "d19448f8-8754-43f7-9b84-3ac06f8371af"
   },
   "outputs": [
    {
     "output_type": "stream",
     "name": "stdout",
     "output_type": "stream",
     "text": [
      "+--------------------+\n|LOG(5.0, total_bill)|\n+--------------------+\n|  1.7600088290450437|\n|  1.4514507524849507|\n|   1.891963952962733|\n|  1.9662956772465017|\n|   1.989725625007124|\n|  2.0071660023195492|\n|  1.3491274125015362|\n|   2.045050939975118|\n|  1.6842608823735448|\n|  1.6734257933856977|\n|  1.4472301204945295|\n|  2.2136605267247944|\n|  1.6997644624872705|\n|  1.8105574307459014|\n|  1.6755241909713976|\n|  1.9085961229683437|\n|  1.4508495575328122|\n|  1.7338670855550729|\n|  1.7592769856924013|\n|  1.8812252998489087|\n+--------------------+\nonly showing top 20 rows\n\n"
     ]
    }
   ],
   "source": [
    "tipss.select(log(arg1=5.0, arg2=tipss['total_bill'])).show()"
   ]
  },
  {
   "cell_type": "code",
   "execution_count": 0,
   "metadata": {
    "application/vnd.databricks.v1+cell": {
     "cellMetadata": {},
     "inputWidgets": {},
     "nuid": "4741dac2-354e-4a07-a4e7-63a7b141c7ce",
     "showTitle": false,
     "title": ""
    },
    "colab": {},
    "colab_type": "code",
    "id": "_Vm_piAyNR0T"
   },
   "outputs": [],
   "source": [
    "# 75. log10\n",
    "from pyspark.sql.functions import log10\n",
    "#Computes the logarithm of the given value in Base 10."
   ]
  },
  {
   "cell_type": "code",
   "execution_count": 0,
   "metadata": {
    "application/vnd.databricks.v1+cell": {
     "cellMetadata": {},
     "inputWidgets": {},
     "nuid": "73cd4efb-865f-40b0-82a7-446b02de17ae",
     "showTitle": false,
     "title": ""
    },
    "colab": {
     "base_uri": "https://localhost:8080/",
     "height": 466
    },
    "colab_type": "code",
    "id": "481FPpNfNk7W",
    "outputId": "876b538c-8eaf-4e13-db5b-df80a41392f6"
   },
   "outputs": [
    {
     "output_type": "stream",
     "name": "stdout",
     "output_type": "stream",
     "text": [
      "+------------------+\n| LOG10(total_bill)|\n+------------------+\n|1.2301933788690456|\n|1.0145205387579237|\n|1.3224260524059526|\n| 1.374381698050882|\n|1.3907585287387172|\n|1.4029488293444048|\n|0.9429995933660404|\n|1.4294292643817876|\n|1.1772478362556233|\n|1.1696744340588068|\n| 1.011570443597278|\n|1.5472823079633031|\n|1.1880843737149382|\n|1.2655253352190738|\n| 1.171141151028382|\n| 1.334051440346892|\n|1.0141003215196205|\n|1.2119210843085093|\n|1.2296818423176759|\n|  1.31492005599242|\n+------------------+\nonly showing top 20 rows\n\n"
     ]
    }
   ],
   "source": [
    "tipss.select(log10(col = tipss['total_bill'])).show()"
   ]
  },
  {
   "cell_type": "code",
   "execution_count": 0,
   "metadata": {
    "application/vnd.databricks.v1+cell": {
     "cellMetadata": {},
     "inputWidgets": {},
     "nuid": "6ebf5cd8-416b-49be-b8e3-3ff7e7c0177c",
     "showTitle": false,
     "title": ""
    },
    "colab": {},
    "colab_type": "code",
    "id": "azG3R5ZpN6RY"
   },
   "outputs": [],
   "source": [
    "# 76. log1p\n",
    "from pyspark.sql.functions import log1p\n",
    "#Computes the natural logarithm of the given value plus one."
   ]
  },
  {
   "cell_type": "code",
   "execution_count": 0,
   "metadata": {
    "application/vnd.databricks.v1+cell": {
     "cellMetadata": {},
     "inputWidgets": {},
     "nuid": "b419a4b5-5f64-4965-a923-f50e678b6ae7",
     "showTitle": false,
     "title": ""
    },
    "colab": {
     "base_uri": "https://localhost:8080/",
     "height": 466
    },
    "colab_type": "code",
    "id": "0Mm3qmalOJk6",
    "outputId": "93961ccd-1719-44c6-eeca-22a1a2dd8412"
   },
   "outputs": [
    {
     "output_type": "stream",
     "name": "stdout",
     "output_type": "stream",
     "text": [
      "+------------------+\n| LOG1P(total_bill)|\n+------------------+\n|2.8898160479624417|\n| 2.428336298299606|\n|3.0914968955383704|\n| 3.205993199037187|\n|3.2422016501716975|\n|  3.26918863874179|\n|2.2793164660546914|\n| 3.327909585892323|\n|2.7750856024383683|\n|2.7587433154177283|\n| 2.422144328051685|\n| 3.590715205326705|\n|2.7985001040242823|\n|2.9668182633893485|\n| 2.761906873892921|\n|3.1170645587215158|\n|2.4274540750399147|\n| 2.850128299695199|\n|2.8887037007954675|\n| 3.075005454448499|\n+------------------+\nonly showing top 20 rows\n\n"
     ]
    }
   ],
   "source": [
    "tipss.select(log1p(col = tipss['total_bill'])).show()"
   ]
  },
  {
   "cell_type": "code",
   "execution_count": 0,
   "metadata": {
    "application/vnd.databricks.v1+cell": {
     "cellMetadata": {},
     "inputWidgets": {},
     "nuid": "c364acd8-73f8-4df9-aac4-df6680eba587",
     "showTitle": false,
     "title": ""
    },
    "colab": {},
    "colab_type": "code",
    "id": "pm_jYsb2OTRz"
   },
   "outputs": [],
   "source": [
    "# 77. log2\n",
    "from pyspark.sql.functions import log2\n",
    "#Returns the base-2 logarithm of the argument."
   ]
  },
  {
   "cell_type": "code",
   "execution_count": 0,
   "metadata": {
    "application/vnd.databricks.v1+cell": {
     "cellMetadata": {},
     "inputWidgets": {},
     "nuid": "e24cb46b-547b-47b4-bc45-f162202d98b3",
     "showTitle": false,
     "title": ""
    },
    "colab": {
     "base_uri": "https://localhost:8080/",
     "height": 466
    },
    "colab_type": "code",
    "id": "anyLFEsPOd_F",
    "outputId": "c58ccfaa-d205-4f98-8bb7-35ed008d6627"
   },
   "outputs": [
    {
     "output_type": "stream",
     "name": "stdout",
     "output_type": "stream",
     "text": [
      "+------------------+\n|  LOG2(total_bill)|\n+------------------+\n| 4.086613947409496|\n|  3.37016428054021|\n| 4.393004256898322|\n| 4.565597175854225|\n| 4.619999829821357|\n|4.6604951318885135|\n|3.1325768426700082|\n| 4.748461233004035|\n| 3.910732661902913|\n| 3.885574364371426|\n|3.3603642765434705|\n| 5.139960569545456|\n|3.9467308601403093|\n| 4.203984165855989|\n| 3.890446692679906|\n| 4.431622959713293|\n| 3.368768349090335|\n| 4.025914698750793|\n| 4.084914659767938|\n| 4.368069876532084|\n+------------------+\nonly showing top 20 rows\n\n"
     ]
    }
   ],
   "source": [
    "tipss.select(log2(col = tipss['total_bill'])).show()"
   ]
  },
  {
   "cell_type": "code",
   "execution_count": 0,
   "metadata": {
    "application/vnd.databricks.v1+cell": {
     "cellMetadata": {},
     "inputWidgets": {},
     "nuid": "9090f7e5-6d7a-47d9-abf9-c78f8dc6da57",
     "showTitle": false,
     "title": ""
    },
    "colab": {
     "base_uri": "https://localhost:8080/",
     "height": 138
    },
    "colab_type": "code",
    "id": "0_cBTBr3OlPT",
    "outputId": "55e4a206-75a8-4242-ab70-79122b93ab04"
   },
   "outputs": [
    {
     "output_type": "stream",
     "name": "stdout",
     "output_type": "stream",
     "text": [
      "+-----------------+\n|          Details|\n+-----------------+\n|my name is ritish|\n|i am 32 years old|\n+-----------------+\n\n"
     ]
    }
   ],
   "source": [
    "df16.show()"
   ]
  },
  {
   "cell_type": "code",
   "execution_count": 0,
   "metadata": {
    "application/vnd.databricks.v1+cell": {
     "cellMetadata": {},
     "inputWidgets": {},
     "nuid": "80ecef92-d167-467a-8520-17e094b350f9",
     "showTitle": false,
     "title": ""
    },
    "colab": {},
    "colab_type": "code",
    "id": "sScTCGqbOu3T"
   },
   "outputs": [],
   "source": [
    "# 77. lower\n",
    "from pyspark.sql.functions import lower\n",
    "#Converts a string column to lower case."
   ]
  },
  {
   "cell_type": "code",
   "execution_count": 0,
   "metadata": {
    "application/vnd.databricks.v1+cell": {
     "cellMetadata": {},
     "inputWidgets": {},
     "nuid": "4a1d2caf-a146-4951-92d0-755d979e1d29",
     "showTitle": false,
     "title": ""
    },
    "colab": {
     "base_uri": "https://localhost:8080/",
     "height": 138
    },
    "colab_type": "code",
    "id": "3FbtsWhjO1Pz",
    "outputId": "ca777f24-b1c7-47b6-e8dc-015ae75a28db"
   },
   "outputs": [
    {
     "output_type": "stream",
     "name": "stdout",
     "output_type": "stream",
     "text": [
      "+-----------------+\n|   lower(Details)|\n+-----------------+\n|my name is ritish|\n|i am 32 years old|\n+-----------------+\n\n"
     ]
    }
   ],
   "source": [
    "df16.select(lower(col = df16['Details'])).show()"
   ]
  },
  {
   "cell_type": "code",
   "execution_count": 0,
   "metadata": {
    "application/vnd.databricks.v1+cell": {
     "cellMetadata": {},
     "inputWidgets": {},
     "nuid": "2f521501-261e-42ec-9905-3a9c475c4483",
     "showTitle": false,
     "title": ""
    },
    "colab": {},
    "colab_type": "code",
    "id": "jMCrU1U4O8lz"
   },
   "outputs": [],
   "source": [
    "# 78. lpad\n",
    "from pyspark.sql.functions import lpad\n",
    "#Left-pad the string column to width len with pad."
   ]
  },
  {
   "cell_type": "code",
   "execution_count": 0,
   "metadata": {
    "application/vnd.databricks.v1+cell": {
     "cellMetadata": {},
     "inputWidgets": {},
     "nuid": "5df709fb-7d3b-480e-ab6c-e3f3a63e4dfd",
     "showTitle": false,
     "title": ""
    },
    "colab": {
     "base_uri": "https://localhost:8080/",
     "height": 138
    },
    "colab_type": "code",
    "id": "TsNXQQs5PzbL",
    "outputId": "789a26d9-aa36-4e17-a404-3f2bb922bedb"
   },
   "outputs": [
    {
     "output_type": "stream",
     "name": "stdout",
     "output_type": "stream",
     "text": [
      "+----------------------+\n|lpad(Details, 22, *)  |\n+----------------------+\n|*****my name is ritish|\n|*****i am 32 years old|\n+----------------------+\n\n"
     ]
    }
   ],
   "source": [
    "df16.select(lpad(col = df16['Details'], len = 22 , pad = \"*\" )).show(truncate = False)"
   ]
  },
  {
   "cell_type": "code",
   "execution_count": 0,
   "metadata": {
    "application/vnd.databricks.v1+cell": {
     "cellMetadata": {},
     "inputWidgets": {},
     "nuid": "a176489f-c45f-4127-946c-1970a41d6ebd",
     "showTitle": false,
     "title": ""
    },
    "colab": {},
    "colab_type": "code",
    "id": "xastDX1uQBTz"
   },
   "outputs": [],
   "source": [
    "# 79. ltrim\n",
    "from pyspark.sql.functions import ltrim\n",
    "# Trim the spaces from left end for the specified string value."
   ]
  },
  {
   "cell_type": "code",
   "execution_count": 0,
   "metadata": {
    "application/vnd.databricks.v1+cell": {
     "cellMetadata": {},
     "inputWidgets": {},
     "nuid": "7332e4b0-7491-4abf-82b1-9c79d37a84d4",
     "showTitle": false,
     "title": ""
    },
    "colab": {
     "base_uri": "https://localhost:8080/",
     "height": 138
    },
    "colab_type": "code",
    "id": "eClZulPKQNcT",
    "outputId": "8f204b6c-643a-4459-d4bc-3824abefff9f"
   },
   "outputs": [
    {
     "output_type": "stream",
     "name": "stdout",
     "output_type": "stream",
     "text": [
      "+-----------------+\n|   ltrim(Details)|\n+-----------------+\n|my name is ritish|\n|i am 32 years old|\n+-----------------+\n\n"
     ]
    }
   ],
   "source": [
    "df16.select(ltrim(col = df16['Details'])).show()"
   ]
  },
  {
   "cell_type": "code",
   "execution_count": 0,
   "metadata": {
    "application/vnd.databricks.v1+cell": {
     "cellMetadata": {},
     "inputWidgets": {},
     "nuid": "d88dbb9c-b6aa-46ca-9935-0d664b3d9598",
     "showTitle": false,
     "title": ""
    },
    "colab": {},
    "colab_type": "code",
    "id": "oy7aNTJsQXUb"
   },
   "outputs": [],
   "source": [
    "# 80. map_from_arrays\n",
    "from pyspark.sql.functions import map_from_arrays\n",
    "# Creates a new map from two arrays."
   ]
  },
  {
   "cell_type": "code",
   "execution_count": 0,
   "metadata": {
    "application/vnd.databricks.v1+cell": {
     "cellMetadata": {},
     "inputWidgets": {},
     "nuid": "b165a1c5-41c2-4890-b840-fd3cec2e02b6",
     "showTitle": false,
     "title": ""
    }
   },
   "outputs": [
    {
     "output_type": "stream",
     "name": "stdout",
     "output_type": "stream",
     "text": [
      "Help on function map_from_arrays in module pyspark.sql.functions:\n\nmap_from_arrays(col1, col2)\n    Creates a new map from two arrays.\n    \n    .. versionadded:: 2.4.0\n    \n    Parameters\n    ----------\n    col1 : :class:`~pyspark.sql.Column` or str\n        name of column containing a set of keys. All elements should not be null\n    col2 : :class:`~pyspark.sql.Column` or str\n        name of column containing a set of values\n    \n    Examples\n    --------\n    >>> df = spark.createDataFrame([([2, 5], ['a', 'b'])], ['k', 'v'])\n    >>> df.select(map_from_arrays(df.k, df.v).alias(\"map\")).show()\n    +----------------+\n    |             map|\n    +----------------+\n    |{2 -> a, 5 -> b}|\n    +----------------+\n\n"
     ]
    }
   ],
   "source": [
    "help(map_from_arrays)"
   ]
  },
  {
   "cell_type": "code",
   "execution_count": 0,
   "metadata": {
    "application/vnd.databricks.v1+cell": {
     "cellMetadata": {},
     "inputWidgets": {},
     "nuid": "1b810924-362b-4bd2-b587-f941cbada49e",
     "showTitle": false,
     "title": ""
    },
    "colab": {},
    "colab_type": "code",
    "id": "JPGUZx57bdYb"
   },
   "outputs": [],
   "source": [
    "df19 = spark.createDataFrame(data = [([2,5], ['a','b'])], \n",
    "                             schema = ['k','v'])"
   ]
  },
  {
   "cell_type": "code",
   "execution_count": 0,
   "metadata": {
    "application/vnd.databricks.v1+cell": {
     "cellMetadata": {},
     "inputWidgets": {},
     "nuid": "4e83428d-c490-4511-a42b-432a27298b4b",
     "showTitle": false,
     "title": ""
    },
    "colab": {
     "base_uri": "https://localhost:8080/",
     "height": 121
    },
    "colab_type": "code",
    "id": "zyQeZBFlb39o",
    "outputId": "7cf4e6d6-d524-475c-bc8a-a4fab198827e"
   },
   "outputs": [
    {
     "output_type": "stream",
     "name": "stdout",
     "output_type": "stream",
     "text": [
      "+------+------+\n|     k|     v|\n+------+------+\n|[2, 5]|[a, b]|\n+------+------+\n\n"
     ]
    }
   ],
   "source": [
    "df19.show()"
   ]
  },
  {
   "cell_type": "code",
   "execution_count": 0,
   "metadata": {
    "application/vnd.databricks.v1+cell": {
     "cellMetadata": {},
     "inputWidgets": {},
     "nuid": "00c644d7-aa8e-44f4-9768-76a3b5cac0c2",
     "showTitle": false,
     "title": ""
    },
    "colab": {
     "base_uri": "https://localhost:8080/",
     "height": 121
    },
    "colab_type": "code",
    "id": "a43nQq5ib9tg",
    "outputId": "c8b32115-7993-40f9-d2a6-14df781d3e7c"
   },
   "outputs": [
    {
     "output_type": "stream",
     "name": "stdout",
     "output_type": "stream",
     "text": [
      "+---------------------+\n|map_from_arrays(k, v)|\n+---------------------+\n|     {2 -> a, 5 -> b}|\n+---------------------+\n\n"
     ]
    }
   ],
   "source": [
    "df19.select(map_from_arrays(col1 = df19['k'], col2 = df19['v'])).show()"
   ]
  },
  {
   "cell_type": "code",
   "execution_count": 0,
   "metadata": {
    "application/vnd.databricks.v1+cell": {
     "cellMetadata": {},
     "inputWidgets": {},
     "nuid": "8fda96d2-74e6-4636-86b9-5247afc9601a",
     "showTitle": false,
     "title": ""
    }
   },
   "outputs": [
    {
     "output_type": "stream",
     "name": "stdout",
     "output_type": "stream",
     "text": [
      "Out[312]: [Row(mapping={5: 'b', 2: 'a'})]"
     ]
    }
   ],
   "source": [
    "p = df19.select(map_from_arrays(col1 = df19['k'], col2 = df19['v']).alias('mapping'))\n",
    "p.collect()"
   ]
  },
  {
   "cell_type": "code",
   "execution_count": 0,
   "metadata": {
    "application/vnd.databricks.v1+cell": {
     "cellMetadata": {},
     "inputWidgets": {},
     "nuid": "84943cf1-d14a-4258-9b59-2bdc01812f31",
     "showTitle": false,
     "title": ""
    },
    "colab": {},
    "colab_type": "code",
    "id": "onjgYeCQcX2I"
   },
   "outputs": [],
   "source": [
    "# 81. max\n",
    "from pyspark.sql.functions import max\n",
    "#Aggregate function: returns the maximum value of the expression in a group."
   ]
  },
  {
   "cell_type": "code",
   "execution_count": 0,
   "metadata": {
    "application/vnd.databricks.v1+cell": {
     "cellMetadata": {},
     "inputWidgets": {},
     "nuid": "fd86c171-6449-44f6-8023-22b665dbf884",
     "showTitle": false,
     "title": ""
    },
    "colab": {
     "base_uri": "https://localhost:8080/",
     "height": 121
    },
    "colab_type": "code",
    "id": "eH6orNuccycY",
    "outputId": "9acf46ff-4fdf-4524-d0c8-34b3e798109f"
   },
   "outputs": [
    {
     "output_type": "stream",
     "name": "stdout",
     "output_type": "stream",
     "text": [
      "+---------------+\n|max(total_bill)|\n+---------------+\n|          50.81|\n+---------------+\n\n"
     ]
    }
   ],
   "source": [
    "tipss.select(max(tipss['total_bill'])).show()"
   ]
  },
  {
   "cell_type": "code",
   "execution_count": 0,
   "metadata": {
    "application/vnd.databricks.v1+cell": {
     "cellMetadata": {},
     "inputWidgets": {},
     "nuid": "fd603781-ab13-43dc-bde1-180dae370785",
     "showTitle": false,
     "title": ""
    },
    "colab": {
     "base_uri": "https://localhost:8080/",
     "height": 138
    },
    "colab_type": "code",
    "id": "oOfM3xFWdEuA",
    "outputId": "ed4cc119-f991-4a04-a6f6-2fc169987dc4"
   },
   "outputs": [
    {
     "output_type": "stream",
     "name": "stdout",
     "output_type": "stream",
     "text": [
      "+------+---------------+\n|   sex|max(total_bill)|\n+------+---------------+\n|Female|           44.3|\n|  Male|          50.81|\n+------+---------------+\n\n"
     ]
    }
   ],
   "source": [
    "tipss.groupBy(tipss['sex']).agg(max(tipss['total_bill'])).show()"
   ]
  },
  {
   "cell_type": "code",
   "execution_count": 0,
   "metadata": {
    "application/vnd.databricks.v1+cell": {
     "cellMetadata": {},
     "inputWidgets": {},
     "nuid": "4f82007e-36b9-4ec7-b41c-b24532f4369d",
     "showTitle": false,
     "title": ""
    },
    "colab": {
     "base_uri": "https://localhost:8080/",
     "height": 34
    },
    "colab_type": "code",
    "id": "xiKm6rPidVYA",
    "outputId": "f707826c-325b-44db-b021-806a5d898399"
   },
   "outputs": [
    {
     "output_type": "display_data",
     "data": {
      "text/html": [
       "<style scoped>\n",
       "  .ansiout {\n",
       "    display: block;\n",
       "    unicode-bidi: embed;\n",
       "    white-space: pre-wrap;\n",
       "    word-wrap: break-word;\n",
       "    word-break: break-all;\n",
       "    font-family: \"Menlo\", \"Monaco\", \"Consolas\", \"Ubuntu Mono\", \"Source Code Pro\", monospace;\n",
       "    font-size: 13px;\n",
       "    color: #555;\n",
       "    margin-left: 4px;\n",
       "    line-height: 19px;\n",
       "  }\n",
       "</style>\n",
       "<div class=\"ansiout\">+----------+----+------+------+----+------+----+----------------------------------------------------------------------------------------+\n",
       "total_bill| tip|   sex|smoker| day|  time|size|max(total_bill) OVER (PARTITION BY sex ORDER BY sex ASC NULLS FIRST unspecifiedframe$())|\n",
       "+----------+----+------+------+----+------+----+----------------------------------------------------------------------------------------+\n",
       "     16.99|1.01|Female|    No| Sun|Dinner|   2|                                                                                    44.3|\n",
       "     24.59|3.61|Female|    No| Sun|Dinner|   4|                                                                                    44.3|\n",
       "     35.26| 5.0|Female|    No| Sun|Dinner|   4|                                                                                    44.3|\n",
       "     14.83|3.02|Female|    No| Sun|Dinner|   2|                                                                                    44.3|\n",
       "     10.33|1.67|Female|    No| Sun|Dinner|   3|                                                                                    44.3|\n",
       "     16.97| 3.5|Female|    No| Sun|Dinner|   3|                                                                                    44.3|\n",
       "     20.29|2.75|Female|    No| Sat|Dinner|   2|                                                                                    44.3|\n",
       "     15.77|2.23|Female|    No| Sat|Dinner|   2|                                                                                    44.3|\n",
       "     19.65| 3.0|Female|    No| Sat|Dinner|   2|                                                                                    44.3|\n",
       "     15.06| 3.0|Female|    No| Sat|Dinner|   2|                                                                                    44.3|\n",
       "     20.69|2.45|Female|    No| Sat|Dinner|   4|                                                                                    44.3|\n",
       "     16.93|3.07|Female|    No| Sat|Dinner|   3|                                                                                    44.3|\n",
       "     10.29| 2.6|Female|    No| Sun|Dinner|   2|                                                                                    44.3|\n",
       "     34.81| 5.2|Female|    No| Sun|Dinner|   4|                                                                                    44.3|\n",
       "     26.41| 1.5|Female|    No| Sat|Dinner|   2|                                                                                    44.3|\n",
       "     16.45|2.47|Female|    No| Sat|Dinner|   2|                                                                                    44.3|\n",
       "      3.07| 1.0|Female|   Yes| Sat|Dinner|   1|                                                                                    44.3|\n",
       "     17.07| 3.0|Female|    No| Sat|Dinner|   3|                                                                                    44.3|\n",
       "     26.86|3.14|Female|   Yes| Sat|Dinner|   2|                                                                                    44.3|\n",
       "     25.28| 5.0|Female|   Yes| Sat|Dinner|   2|                                                                                    44.3|\n",
       "     14.73| 2.2|Female|    No| Sat|Dinner|   2|                                                                                    44.3|\n",
       "     10.07|1.83|Female|    No|Thur| Lunch|   1|                                                                                    44.3|\n",
       "     34.83|5.17|Female|    No|Thur| Lunch|   4|                                                                                    44.3|\n",
       "      5.75| 1.0|Female|   Yes| Fri|Dinner|   2|                                                                                    44.3|\n",
       "     16.32| 4.3|Female|   Yes| Fri|Dinner|   2|                                                                                    44.3|\n",
       "     22.75|3.25|Female|    No| Fri|Dinner|   2|                                                                                    44.3|\n",
       "     11.35| 2.5|Female|   Yes| Fri|Dinner|   2|                                                                                    44.3|\n",
       "     15.38| 3.0|Female|   Yes| Fri|Dinner|   2|                                                                                    44.3|\n",
       "      44.3| 2.5|Female|   Yes| Sat|Dinner|   3|                                                                                    44.3|\n",
       "     22.42|3.48|Female|   Yes| Sat|Dinner|   2|                                                                                    44.3|\n",
       "     20.92|4.08|Female|    No| Sat|Dinner|   2|                                                                                    44.3|\n",
       "     14.31| 4.0|Female|   Yes| Sat|Dinner|   2|                                                                                    44.3|\n",
       "      7.25| 1.0|Female|    No| Sat|Dinner|   1|                                                                                    44.3|\n",
       "     25.71| 4.0|Female|    No| Sun|Dinner|   3|                                                                                    44.3|\n",
       "     17.31| 3.5|Female|    No| Sun|Dinner|   2|                                                                                    44.3|\n",
       "     10.65| 1.5|Female|    No|Thur| Lunch|   2|                                                                                    44.3|\n",
       "     12.43| 1.8|Female|    No|Thur| Lunch|   2|                                                                                    44.3|\n",
       "     24.08|2.92|Female|    No|Thur| Lunch|   4|                                                                                    44.3|\n",
       "     13.42|1.68|Female|    No|Thur| Lunch|   2|                                                                                    44.3|\n",
       "     12.48|2.52|Female|    No|Thur| Lunch|   2|                                                                                    44.3|\n",
       "      29.8| 4.2|Female|    No|Thur| Lunch|   6|                                                                                    44.3|\n",
       "     14.52| 2.0|Female|    No|Thur| Lunch|   2|                                                                                    44.3|\n",
       "     11.38| 2.0|Female|    No|Thur| Lunch|   2|                                                                                    44.3|\n",
       "     20.27|2.83|Female|    No|Thur| Lunch|   2|                                                                                    44.3|\n",
       "     11.17| 1.5|Female|    No|Thur| Lunch|   2|                                                                                    44.3|\n",
       "     12.26| 2.0|Female|    No|Thur| Lunch|   2|                                                                                    44.3|\n",
       "     18.26|3.25|Female|    No|Thur| Lunch|   2|                                                                                    44.3|\n",
       "      8.51|1.25|Female|    No|Thur| Lunch|   2|                                                                                    44.3|\n",
       "     10.33| 2.0|Female|    No|Thur| Lunch|   2|                                                                                    44.3|\n",
       "     14.15| 2.0|Female|    No|Thur| Lunch|   2|                                                                                    44.3|\n",
       "     13.16|2.75|Female|    No|Thur| Lunch|   2|                                                                                    44.3|\n",
       "     17.47| 3.5|Female|    No|Thur| Lunch|   2|                                                                                    44.3|\n",
       "     27.05| 5.0|Female|    No|Thur| Lunch|   6|                                                                                    44.3|\n",
       "     16.43| 2.3|Female|    No|Thur| Lunch|   2|                                                                                    44.3|\n",
       "      8.35| 1.5|Female|    No|Thur| Lunch|   2|                                                                                    44.3|\n",
       "     18.64|1.36|Female|    No|Thur| Lunch|   3|                                                                                    44.3|\n",
       "     11.87|1.63|Female|    No|Thur| Lunch|   2|                                                                                    44.3|\n",
       "     29.85|5.14|Female|    No| Sun|Dinner|   5|                                                                                    44.3|\n",
       "      25.0|3.75|Female|    No| Sun|Dinner|   4|                                                                                    44.3|\n",
       "     13.39|2.61|Female|    No| Sun|Dinner|   2|                                                                                    44.3|\n",
       "     16.21| 2.0|Female|    No| Sun|Dinner|   3|                                                                                    44.3|\n",
       "     17.51| 3.0|Female|   Yes| Sun|Dinner|   2|                                                                                    44.3|\n",
       "     10.59|1.61|Female|   Yes| Sat|Dinner|   2|                                                                                    44.3|\n",
       "     10.63| 2.0|Female|   Yes| Sat|Dinner|   2|                                                                                    44.3|\n",
       "       9.6| 4.0|Female|   Yes| Sun|Dinner|   2|                                                                                    44.3|\n",
       "      20.9| 3.5|Female|   Yes| Sun|Dinner|   3|                                                                                    44.3|\n",
       "     18.15| 3.5|Female|   Yes| Sun|Dinner|   3|                                                                                    44.3|\n",
       "     19.81|4.19|Female|   Yes|Thur| Lunch|   2|                                                                                    44.3|\n",
       "     43.11| 5.0|Female|   Yes|Thur| Lunch|   4|                                                                                    44.3|\n",
       "      13.0| 2.0|Female|   Yes|Thur| Lunch|   2|                                                                                    44.3|\n",
       "     12.74|2.01|Female|   Yes|Thur| Lunch|   2|                                                                                    44.3|\n",
       "      13.0| 2.0|Female|   Yes|Thur| Lunch|   2|                                                                                    44.3|\n",
       "      16.4| 2.5|Female|   Yes|Thur| Lunch|   2|                                                                                    44.3|\n",
       "     16.47|3.23|Female|   Yes|Thur| Lunch|   3|                                                                                    44.3|\n",
       "     12.76|2.23|Female|   Yes| Sat|Dinner|   2|                                                                                    44.3|\n",
       "     13.27| 2.5|Female|   Yes| Sat|Dinner|   2|                                                                                    44.3|\n",
       "     28.17| 6.5|Female|   Yes| Sat|Dinner|   3|                                                                                    44.3|\n",
       "      12.9| 1.1|Female|   Yes| Sat|Dinner|   2|                                                                                    44.3|\n",
       "     30.14|3.09|Female|   Yes| Sat|Dinner|   4|                                                                                    44.3|\n",
       "     13.42|3.48|Female|   Yes| Fri| Lunch|   2|                                                                                    44.3|\n",
       "     15.98| 3.0|Female|    No| Fri| Lunch|   3|                                                                                    44.3|\n",
       "     16.27| 2.5|Female|   Yes| Fri| Lunch|   2|                                                                                    44.3|\n",
       "     10.09| 2.0|Female|   Yes| Fri| Lunch|   2|                                                                                    44.3|\n",
       "     22.12|2.88|Female|   Yes| Sat|Dinner|   2|                                                                                    44.3|\n",
       "     35.83|4.67|Female|    No| Sat|Dinner|   3|                                                                                    44.3|\n",
       "     27.18| 2.0|Female|   Yes| Sat|Dinner|   2|                                                                                    44.3|\n",
       "     18.78| 3.0|Female|    No|Thur|Dinner|   2|                                                                                    44.3|\n",
       "     10.34|1.66|  Male|    No| Sun|Dinner|   3|                                                                                   50.81|\n",
       "     21.01| 3.5|  Male|    No| Sun|Dinner|   3|                                                                                   50.81|\n",
       "     23.68|3.31|  Male|    No| Sun|Dinner|   2|                                                                                   50.81|\n",
       "     25.29|4.71|  Male|    No| Sun|Dinner|   4|                                                                                   50.81|\n",
       "      8.77| 2.0|  Male|    No| Sun|Dinner|   2|                                                                                   50.81|\n",
       "     26.88|3.12|  Male|    No| Sun|Dinner|   4|                                                                                   50.81|\n",
       "     15.04|1.96|  Male|    No| Sun|Dinner|   2|                                                                                   50.81|\n",
       "     14.78|3.23|  Male|    No| Sun|Dinner|   2|                                                                                   50.81|\n",
       "     10.27|1.71|  Male|    No| Sun|Dinner|   2|                                                                                   50.81|\n",
       "     15.42|1.57|  Male|    No| Sun|Dinner|   2|                                                                                   50.81|\n",
       "     18.43| 3.0|  Male|    No| Sun|Dinner|   4|                                                                                   50.81|\n",
       "     21.58|3.92|  Male|    No| Sun|Dinner|   2|                                                                                   50.81|\n",
       "     16.29|3.71|  Male|    No| Sun|Dinner|   3|                                                                                   50.81|\n",
       "+----------+----+------+------+----+------+----+----------------------------------------------------------------------------------------+\n",
       "only showing top 100 rows\n",
       "\n",
       "</div>"
      ]
     },
     "metadata": {
      "application/vnd.databricks.v1+output": {
       "addedWidgets": {},
       "arguments": {},
       "data": "<div class=\"ansiout\">+----------+----+------+------+----+------+----+----------------------------------------------------------------------------------------+\n|total_bill| tip|   sex|smoker| day|  time|size|max(total_bill) OVER (PARTITION BY sex ORDER BY sex ASC NULLS FIRST unspecifiedframe$())|\n+----------+----+------+------+----+------+----+----------------------------------------------------------------------------------------+\n|     16.99|1.01|Female|    No| Sun|Dinner|   2|                                                                                    44.3|\n|     24.59|3.61|Female|    No| Sun|Dinner|   4|                                                                                    44.3|\n|     35.26| 5.0|Female|    No| Sun|Dinner|   4|                                                                                    44.3|\n|     14.83|3.02|Female|    No| Sun|Dinner|   2|                                                                                    44.3|\n|     10.33|1.67|Female|    No| Sun|Dinner|   3|                                                                                    44.3|\n|     16.97| 3.5|Female|    No| Sun|Dinner|   3|                                                                                    44.3|\n|     20.29|2.75|Female|    No| Sat|Dinner|   2|                                                                                    44.3|\n|     15.77|2.23|Female|    No| Sat|Dinner|   2|                                                                                    44.3|\n|     19.65| 3.0|Female|    No| Sat|Dinner|   2|                                                                                    44.3|\n|     15.06| 3.0|Female|    No| Sat|Dinner|   2|                                                                                    44.3|\n|     20.69|2.45|Female|    No| Sat|Dinner|   4|                                                                                    44.3|\n|     16.93|3.07|Female|    No| Sat|Dinner|   3|                                                                                    44.3|\n|     10.29| 2.6|Female|    No| Sun|Dinner|   2|                                                                                    44.3|\n|     34.81| 5.2|Female|    No| Sun|Dinner|   4|                                                                                    44.3|\n|     26.41| 1.5|Female|    No| Sat|Dinner|   2|                                                                                    44.3|\n|     16.45|2.47|Female|    No| Sat|Dinner|   2|                                                                                    44.3|\n|      3.07| 1.0|Female|   Yes| Sat|Dinner|   1|                                                                                    44.3|\n|     17.07| 3.0|Female|    No| Sat|Dinner|   3|                                                                                    44.3|\n|     26.86|3.14|Female|   Yes| Sat|Dinner|   2|                                                                                    44.3|\n|     25.28| 5.0|Female|   Yes| Sat|Dinner|   2|                                                                                    44.3|\n|     14.73| 2.2|Female|    No| Sat|Dinner|   2|                                                                                    44.3|\n|     10.07|1.83|Female|    No|Thur| Lunch|   1|                                                                                    44.3|\n|     34.83|5.17|Female|    No|Thur| Lunch|   4|                                                                                    44.3|\n|      5.75| 1.0|Female|   Yes| Fri|Dinner|   2|                                                                                    44.3|\n|     16.32| 4.3|Female|   Yes| Fri|Dinner|   2|                                                                                    44.3|\n|     22.75|3.25|Female|    No| Fri|Dinner|   2|                                                                                    44.3|\n|     11.35| 2.5|Female|   Yes| Fri|Dinner|   2|                                                                                    44.3|\n|     15.38| 3.0|Female|   Yes| Fri|Dinner|   2|                                                                                    44.3|\n|      44.3| 2.5|Female|   Yes| Sat|Dinner|   3|                                                                                    44.3|\n|     22.42|3.48|Female|   Yes| Sat|Dinner|   2|                                                                                    44.3|\n|     20.92|4.08|Female|    No| Sat|Dinner|   2|                                                                                    44.3|\n|     14.31| 4.0|Female|   Yes| Sat|Dinner|   2|                                                                                    44.3|\n|      7.25| 1.0|Female|    No| Sat|Dinner|   1|                                                                                    44.3|\n|     25.71| 4.0|Female|    No| Sun|Dinner|   3|                                                                                    44.3|\n|     17.31| 3.5|Female|    No| Sun|Dinner|   2|                                                                                    44.3|\n|     10.65| 1.5|Female|    No|Thur| Lunch|   2|                                                                                    44.3|\n|     12.43| 1.8|Female|    No|Thur| Lunch|   2|                                                                                    44.3|\n|     24.08|2.92|Female|    No|Thur| Lunch|   4|                                                                                    44.3|\n|     13.42|1.68|Female|    No|Thur| Lunch|   2|                                                                                    44.3|\n|     12.48|2.52|Female|    No|Thur| Lunch|   2|                                                                                    44.3|\n|      29.8| 4.2|Female|    No|Thur| Lunch|   6|                                                                                    44.3|\n|     14.52| 2.0|Female|    No|Thur| Lunch|   2|                                                                                    44.3|\n|     11.38| 2.0|Female|    No|Thur| Lunch|   2|                                                                                    44.3|\n|     20.27|2.83|Female|    No|Thur| Lunch|   2|                                                                                    44.3|\n|     11.17| 1.5|Female|    No|Thur| Lunch|   2|                                                                                    44.3|\n|     12.26| 2.0|Female|    No|Thur| Lunch|   2|                                                                                    44.3|\n|     18.26|3.25|Female|    No|Thur| Lunch|   2|                                                                                    44.3|\n|      8.51|1.25|Female|    No|Thur| Lunch|   2|                                                                                    44.3|\n|     10.33| 2.0|Female|    No|Thur| Lunch|   2|                                                                                    44.3|\n|     14.15| 2.0|Female|    No|Thur| Lunch|   2|                                                                                    44.3|\n|     13.16|2.75|Female|    No|Thur| Lunch|   2|                                                                                    44.3|\n|     17.47| 3.5|Female|    No|Thur| Lunch|   2|                                                                                    44.3|\n|     27.05| 5.0|Female|    No|Thur| Lunch|   6|                                                                                    44.3|\n|     16.43| 2.3|Female|    No|Thur| Lunch|   2|                                                                                    44.3|\n|      8.35| 1.5|Female|    No|Thur| Lunch|   2|                                                                                    44.3|\n|     18.64|1.36|Female|    No|Thur| Lunch|   3|                                                                                    44.3|\n|     11.87|1.63|Female|    No|Thur| Lunch|   2|                                                                                    44.3|\n|     29.85|5.14|Female|    No| Sun|Dinner|   5|                                                                                    44.3|\n|      25.0|3.75|Female|    No| Sun|Dinner|   4|                                                                                    44.3|\n|     13.39|2.61|Female|    No| Sun|Dinner|   2|                                                                                    44.3|\n|     16.21| 2.0|Female|    No| Sun|Dinner|   3|                                                                                    44.3|\n|     17.51| 3.0|Female|   Yes| Sun|Dinner|   2|                                                                                    44.3|\n|     10.59|1.61|Female|   Yes| Sat|Dinner|   2|                                                                                    44.3|\n|     10.63| 2.0|Female|   Yes| Sat|Dinner|   2|                                                                                    44.3|\n|       9.6| 4.0|Female|   Yes| Sun|Dinner|   2|                                                                                    44.3|\n|      20.9| 3.5|Female|   Yes| Sun|Dinner|   3|                                                                                    44.3|\n|     18.15| 3.5|Female|   Yes| Sun|Dinner|   3|                                                                                    44.3|\n|     19.81|4.19|Female|   Yes|Thur| Lunch|   2|                                                                                    44.3|\n|     43.11| 5.0|Female|   Yes|Thur| Lunch|   4|                                                                                    44.3|\n|      13.0| 2.0|Female|   Yes|Thur| Lunch|   2|                                                                                    44.3|\n|     12.74|2.01|Female|   Yes|Thur| Lunch|   2|                                                                                    44.3|\n|      13.0| 2.0|Female|   Yes|Thur| Lunch|   2|                                                                                    44.3|\n|      16.4| 2.5|Female|   Yes|Thur| Lunch|   2|                                                                                    44.3|\n|     16.47|3.23|Female|   Yes|Thur| Lunch|   3|                                                                                    44.3|\n|     12.76|2.23|Female|   Yes| Sat|Dinner|   2|                                                                                    44.3|\n|     13.27| 2.5|Female|   Yes| Sat|Dinner|   2|                                                                                    44.3|\n|     28.17| 6.5|Female|   Yes| Sat|Dinner|   3|                                                                                    44.3|\n|      12.9| 1.1|Female|   Yes| Sat|Dinner|   2|                                                                                    44.3|\n|     30.14|3.09|Female|   Yes| Sat|Dinner|   4|                                                                                    44.3|\n|     13.42|3.48|Female|   Yes| Fri| Lunch|   2|                                                                                    44.3|\n|     15.98| 3.0|Female|    No| Fri| Lunch|   3|                                                                                    44.3|\n|     16.27| 2.5|Female|   Yes| Fri| Lunch|   2|                                                                                    44.3|\n|     10.09| 2.0|Female|   Yes| Fri| Lunch|   2|                                                                                    44.3|\n|     22.12|2.88|Female|   Yes| Sat|Dinner|   2|                                                                                    44.3|\n|     35.83|4.67|Female|    No| Sat|Dinner|   3|                                                                                    44.3|\n|     27.18| 2.0|Female|   Yes| Sat|Dinner|   2|                                                                                    44.3|\n|     18.78| 3.0|Female|    No|Thur|Dinner|   2|                                                                                    44.3|\n|     10.34|1.66|  Male|    No| Sun|Dinner|   3|                                                                                   50.81|\n|     21.01| 3.5|  Male|    No| Sun|Dinner|   3|                                                                                   50.81|\n|     23.68|3.31|  Male|    No| Sun|Dinner|   2|                                                                                   50.81|\n|     25.29|4.71|  Male|    No| Sun|Dinner|   4|                                                                                   50.81|\n|      8.77| 2.0|  Male|    No| Sun|Dinner|   2|                                                                                   50.81|\n|     26.88|3.12|  Male|    No| Sun|Dinner|   4|                                                                                   50.81|\n|     15.04|1.96|  Male|    No| Sun|Dinner|   2|                                                                                   50.81|\n|     14.78|3.23|  Male|    No| Sun|Dinner|   2|                                                                                   50.81|\n|     10.27|1.71|  Male|    No| Sun|Dinner|   2|                                                                                   50.81|\n|     15.42|1.57|  Male|    No| Sun|Dinner|   2|                                                                                   50.81|\n|     18.43| 3.0|  Male|    No| Sun|Dinner|   4|                                                                                   50.81|\n|     21.58|3.92|  Male|    No| Sun|Dinner|   2|                                                                                   50.81|\n|     16.29|3.71|  Male|    No| Sun|Dinner|   3|                                                                                   50.81|\n+----------+----+------+------+----+------+----+----------------------------------------------------------------------------------------+\nonly showing top 100 rows\n\n</div>",
       "datasetInfos": [],
       "metadata": {},
       "removedWidgets": [],
       "type": "html"
      }
     },
     "output_type": "display_data"
    }
   ],
   "source": [
    "tipss.select(\"*\",max(col =  tipss['total_bill']).over(Window.partitionBy('sex').orderBy('sex'))).show(100)"
   ]
  },
  {
   "cell_type": "code",
   "execution_count": 0,
   "metadata": {
    "application/vnd.databricks.v1+cell": {
     "cellMetadata": {},
     "inputWidgets": {},
     "nuid": "e3f6baed-e748-4576-bc39-e5ecfcba1bb2",
     "showTitle": false,
     "title": ""
    },
    "colab": {},
    "colab_type": "code",
    "id": "rtRIsEEngFqQ"
   },
   "outputs": [],
   "source": [
    "# 82. mean\n",
    "from pyspark.sql.functions import mean\n",
    "#Aggregate function: returns the average of the values in a group."
   ]
  },
  {
   "cell_type": "code",
   "execution_count": 0,
   "metadata": {
    "application/vnd.databricks.v1+cell": {
     "cellMetadata": {},
     "inputWidgets": {},
     "nuid": "57d5f21e-0ec8-4fa0-9561-37a33563c4e3",
     "showTitle": false,
     "title": ""
    },
    "colab": {
     "base_uri": "https://localhost:8080/",
     "height": 121
    },
    "colab_type": "code",
    "id": "s7QDW-IMg8ah",
    "outputId": "62be2542-ebf2-4b01-ced9-830165deb3c3"
   },
   "outputs": [
    {
     "output_type": "stream",
     "name": "stdout",
     "output_type": "stream",
     "text": [
      "+------------------+\n|   avg(total_bill)|\n+------------------+\n|19.785942622950817|\n+------------------+\n\n"
     ]
    }
   ],
   "source": [
    "tipss.select(mean(tipss['total_bill'])).show()"
   ]
  },
  {
   "cell_type": "code",
   "execution_count": 0,
   "metadata": {
    "application/vnd.databricks.v1+cell": {
     "cellMetadata": {},
     "inputWidgets": {},
     "nuid": "da8feab6-59e4-4c00-8b0c-3fefed8eb433",
     "showTitle": false,
     "title": ""
    },
    "colab": {},
    "colab_type": "code",
    "id": "z7NKq_tThIkQ"
   },
   "outputs": [],
   "source": [
    "# 83. min\n",
    "from pyspark.sql.functions import min\n",
    "#Aggregate function: returns the minimum value of the expression in a group."
   ]
  },
  {
   "cell_type": "code",
   "execution_count": 0,
   "metadata": {
    "application/vnd.databricks.v1+cell": {
     "cellMetadata": {},
     "inputWidgets": {},
     "nuid": "0d0a963d-2019-45d3-926b-1aa8ee9fa13f",
     "showTitle": false,
     "title": ""
    },
    "colab": {
     "base_uri": "https://localhost:8080/",
     "height": 121
    },
    "colab_type": "code",
    "id": "3FadHIEshVVw",
    "outputId": "1171b8b0-483a-4cde-b4d4-81384c6618d9"
   },
   "outputs": [
    {
     "output_type": "display_data",
     "data": {
      "text/html": [
       "<style scoped>\n",
       "  .ansiout {\n",
       "    display: block;\n",
       "    unicode-bidi: embed;\n",
       "    white-space: pre-wrap;\n",
       "    word-wrap: break-word;\n",
       "    word-break: break-all;\n",
       "    font-family: \"Menlo\", \"Monaco\", \"Consolas\", \"Ubuntu Mono\", \"Source Code Pro\", monospace;\n",
       "    font-size: 13px;\n",
       "    color: #555;\n",
       "    margin-left: 4px;\n",
       "    line-height: 19px;\n",
       "  }\n",
       "</style>\n",
       "<div class=\"ansiout\">+---------------+\n",
       "min(total_bill)|\n",
       "+---------------+\n",
       "           3.07|\n",
       "+---------------+\n",
       "\n",
       "</div>"
      ]
     },
     "metadata": {
      "application/vnd.databricks.v1+output": {
       "addedWidgets": {},
       "arguments": {},
       "data": "<div class=\"ansiout\">+---------------+\n|min(total_bill)|\n+---------------+\n|           3.07|\n+---------------+\n\n</div>",
       "datasetInfos": [],
       "metadata": {},
       "removedWidgets": [],
       "type": "html"
      }
     },
     "output_type": "display_data"
    }
   ],
   "source": [
    "tipss.select(min(col = tipss['total_bill'])).show()"
   ]
  },
  {
   "cell_type": "code",
   "execution_count": 0,
   "metadata": {
    "application/vnd.databricks.v1+cell": {
     "cellMetadata": {},
     "inputWidgets": {},
     "nuid": "4d4be242-2979-4f60-a27a-2074b70ffdc0",
     "showTitle": false,
     "title": ""
    },
    "colab": {},
    "colab_type": "code",
    "id": "fMzOgmcJhc4Y"
   },
   "outputs": [
    {
     "output_type": "display_data",
     "data": {
      "text/html": [
       "<style scoped>\n",
       "  .ansiout {\n",
       "    display: block;\n",
       "    unicode-bidi: embed;\n",
       "    white-space: pre-wrap;\n",
       "    word-wrap: break-word;\n",
       "    word-break: break-all;\n",
       "    font-family: \"Menlo\", \"Monaco\", \"Consolas\", \"Ubuntu Mono\", \"Source Code Pro\", monospace;\n",
       "    font-size: 13px;\n",
       "    color: #555;\n",
       "    margin-left: 4px;\n",
       "    line-height: 19px;\n",
       "  }\n",
       "</style>\n",
       "<div class=\"ansiout\"></div>"
      ]
     },
     "metadata": {
      "application/vnd.databricks.v1+output": {
       "addedWidgets": {},
       "arguments": {},
       "data": "<div class=\"ansiout\"></div>",
       "datasetInfos": [],
       "metadata": {},
       "removedWidgets": [],
       "type": "html"
      }
     },
     "output_type": "display_data"
    }
   ],
   "source": [
    "#84. minute\n",
    "from pyspark.sql.functions import minute\n",
    "#Extract the minutes of a given date as integer."
   ]
  },
  {
   "cell_type": "code",
   "execution_count": 0,
   "metadata": {
    "application/vnd.databricks.v1+cell": {
     "cellMetadata": {},
     "inputWidgets": {},
     "nuid": "e0d293b3-223a-4360-a07f-4b52929efef7",
     "showTitle": false,
     "title": ""
    }
   },
   "outputs": [
    {
     "output_type": "display_data",
     "data": {
      "text/html": [
       "<style scoped>\n",
       "  .ansiout {\n",
       "    display: block;\n",
       "    unicode-bidi: embed;\n",
       "    white-space: pre-wrap;\n",
       "    word-wrap: break-word;\n",
       "    word-break: break-all;\n",
       "    font-family: \"Menlo\", \"Monaco\", \"Consolas\", \"Ubuntu Mono\", \"Source Code Pro\", monospace;\n",
       "    font-size: 13px;\n",
       "    color: #555;\n",
       "    margin-left: 4px;\n",
       "    line-height: 19px;\n",
       "  }\n",
       "</style>\n",
       "<div class=\"ansiout\">+-------------------+\n",
       "                  t|\n",
       "+-------------------+\n",
       "1997-02-28 05:02:11|\n",
       "+-------------------+\n",
       "\n",
       "</div>"
      ]
     },
     "metadata": {
      "application/vnd.databricks.v1+output": {
       "addedWidgets": {},
       "arguments": {},
       "data": "<div class=\"ansiout\">+-------------------+\n|                  t|\n+-------------------+\n|1997-02-28 05:02:11|\n+-------------------+\n\n</div>",
       "datasetInfos": [],
       "metadata": {},
       "removedWidgets": [],
       "type": "html"
      }
     },
     "output_type": "display_data"
    }
   ],
   "source": [
    "df7.show()"
   ]
  },
  {
   "cell_type": "code",
   "execution_count": 0,
   "metadata": {
    "application/vnd.databricks.v1+cell": {
     "cellMetadata": {},
     "inputWidgets": {},
     "nuid": "70ea9f56-a62d-4be2-84f8-0bfebb7b12e6",
     "showTitle": false,
     "title": ""
    },
    "colab": {
     "base_uri": "https://localhost:8080/",
     "height": 121
    },
    "colab_type": "code",
    "id": "8noviTZfjg9A",
    "outputId": "2b4e099f-0c49-4784-e0e8-b19123238fea"
   },
   "outputs": [
    {
     "output_type": "display_data",
     "data": {
      "text/html": [
       "<style scoped>\n",
       "  .ansiout {\n",
       "    display: block;\n",
       "    unicode-bidi: embed;\n",
       "    white-space: pre-wrap;\n",
       "    word-wrap: break-word;\n",
       "    word-break: break-all;\n",
       "    font-family: \"Menlo\", \"Monaco\", \"Consolas\", \"Ubuntu Mono\", \"Source Code Pro\", monospace;\n",
       "    font-size: 13px;\n",
       "    color: #555;\n",
       "    margin-left: 4px;\n",
       "    line-height: 19px;\n",
       "  }\n",
       "</style>\n",
       "<div class=\"ansiout\">+---------+\n",
       "minute(t)|\n",
       "+---------+\n",
       "        2|\n",
       "+---------+\n",
       "\n",
       "</div>"
      ]
     },
     "metadata": {
      "application/vnd.databricks.v1+output": {
       "addedWidgets": {},
       "arguments": {},
       "data": "<div class=\"ansiout\">+---------+\n|minute(t)|\n+---------+\n|        2|\n+---------+\n\n</div>",
       "datasetInfos": [],
       "metadata": {},
       "removedWidgets": [],
       "type": "html"
      }
     },
     "output_type": "display_data"
    }
   ],
   "source": [
    "df7.select(minute(col = df7['t'])).show()"
   ]
  },
  {
   "cell_type": "code",
   "execution_count": 0,
   "metadata": {
    "application/vnd.databricks.v1+cell": {
     "cellMetadata": {},
     "inputWidgets": {},
     "nuid": "3314cd43-6534-47e0-889a-0774310e4cbe",
     "showTitle": false,
     "title": ""
    },
    "colab": {},
    "colab_type": "code",
    "id": "E-d2REd9jsqw"
   },
   "outputs": [
    {
     "output_type": "display_data",
     "data": {
      "text/html": [
       "<style scoped>\n",
       "  .ansiout {\n",
       "    display: block;\n",
       "    unicode-bidi: embed;\n",
       "    white-space: pre-wrap;\n",
       "    word-wrap: break-word;\n",
       "    word-break: break-all;\n",
       "    font-family: \"Menlo\", \"Monaco\", \"Consolas\", \"Ubuntu Mono\", \"Source Code Pro\", monospace;\n",
       "    font-size: 13px;\n",
       "    color: #555;\n",
       "    margin-left: 4px;\n",
       "    line-height: 19px;\n",
       "  }\n",
       "</style>\n",
       "<div class=\"ansiout\"></div>"
      ]
     },
     "metadata": {
      "application/vnd.databricks.v1+output": {
       "addedWidgets": {},
       "arguments": {},
       "data": "<div class=\"ansiout\"></div>",
       "datasetInfos": [],
       "metadata": {},
       "removedWidgets": [],
       "type": "html"
      }
     },
     "output_type": "display_data"
    }
   ],
   "source": [
    "# 85. monotonically_increasing_id\n",
    "from pyspark.sql.functions import monotonically_increasing_id\n",
    "#A column that generates monotonically increasing 65-bit integers"
   ]
  },
  {
   "cell_type": "code",
   "execution_count": 0,
   "metadata": {
    "application/vnd.databricks.v1+cell": {
     "cellMetadata": {},
     "inputWidgets": {},
     "nuid": "8a9472d7-1320-4fe0-9e35-383d9bc36746",
     "showTitle": false,
     "title": ""
    },
    "colab": {
     "base_uri": "https://localhost:8080/",
     "height": 466
    },
    "colab_type": "code",
    "id": "_SIQIAudkCwM",
    "outputId": "4df5b141-6486-448c-fa9a-47c4d1e2eefb"
   },
   "outputs": [
    {
     "output_type": "display_data",
     "data": {
      "text/html": [
       "<style scoped>\n",
       "  .ansiout {\n",
       "    display: block;\n",
       "    unicode-bidi: embed;\n",
       "    white-space: pre-wrap;\n",
       "    word-wrap: break-word;\n",
       "    word-break: break-all;\n",
       "    font-family: \"Menlo\", \"Monaco\", \"Consolas\", \"Ubuntu Mono\", \"Source Code Pro\", monospace;\n",
       "    font-size: 13px;\n",
       "    color: #555;\n",
       "    margin-left: 4px;\n",
       "    line-height: 19px;\n",
       "  }\n",
       "</style>\n",
       "<div class=\"ansiout\">+----------+----+------+------+----+------+----+-----------------------------+\n",
       "total_bill| tip|   sex|smoker| day|  time|size|monotonically_increasing_id()|\n",
       "+----------+----+------+------+----+------+----+-----------------------------+\n",
       "     16.99|1.01|Female|    No| Sun|Dinner|   2|                            0|\n",
       "     10.34|1.66|  Male|    No| Sun|Dinner|   3|                            1|\n",
       "     21.01| 3.5|  Male|    No| Sun|Dinner|   3|                            2|\n",
       "     23.68|3.31|  Male|    No| Sun|Dinner|   2|                            3|\n",
       "     24.59|3.61|Female|    No| Sun|Dinner|   4|                            4|\n",
       "     25.29|4.71|  Male|    No| Sun|Dinner|   4|                            5|\n",
       "      8.77| 2.0|  Male|    No| Sun|Dinner|   2|                            6|\n",
       "     26.88|3.12|  Male|    No| Sun|Dinner|   4|                            7|\n",
       "     15.04|1.96|  Male|    No| Sun|Dinner|   2|                            8|\n",
       "     14.78|3.23|  Male|    No| Sun|Dinner|   2|                            9|\n",
       "     10.27|1.71|  Male|    No| Sun|Dinner|   2|                           10|\n",
       "     35.26| 5.0|Female|    No| Sun|Dinner|   4|                           11|\n",
       "     15.42|1.57|  Male|    No| Sun|Dinner|   2|                           12|\n",
       "     18.43| 3.0|  Male|    No| Sun|Dinner|   4|                           13|\n",
       "     14.83|3.02|Female|    No| Sun|Dinner|   2|                           14|\n",
       "     21.58|3.92|  Male|    No| Sun|Dinner|   2|                           15|\n",
       "     10.33|1.67|Female|    No| Sun|Dinner|   3|                           16|\n",
       "     16.29|3.71|  Male|    No| Sun|Dinner|   3|                           17|\n",
       "     16.97| 3.5|Female|    No| Sun|Dinner|   3|                           18|\n",
       "     20.65|3.35|  Male|    No| Sat|Dinner|   3|                           19|\n",
       "     17.92|4.08|  Male|    No| Sat|Dinner|   2|                           20|\n",
       "     20.29|2.75|Female|    No| Sat|Dinner|   2|                           21|\n",
       "     15.77|2.23|Female|    No| Sat|Dinner|   2|                           22|\n",
       "     39.42|7.58|  Male|    No| Sat|Dinner|   4|                           23|\n",
       "     19.82|3.18|  Male|    No| Sat|Dinner|   2|                           24|\n",
       "     17.81|2.34|  Male|    No| Sat|Dinner|   4|                           25|\n",
       "     13.37| 2.0|  Male|    No| Sat|Dinner|   2|                           26|\n",
       "     12.69| 2.0|  Male|    No| Sat|Dinner|   2|                           27|\n",
       "      21.7| 4.3|  Male|    No| Sat|Dinner|   2|                           28|\n",
       "     19.65| 3.0|Female|    No| Sat|Dinner|   2|                           29|\n",
       "      9.55|1.45|  Male|    No| Sat|Dinner|   2|                   8589934592|\n",
       "     18.35| 2.5|  Male|    No| Sat|Dinner|   4|                   8589934593|\n",
       "     15.06| 3.0|Female|    No| Sat|Dinner|   2|                   8589934594|\n",
       "     20.69|2.45|Female|    No| Sat|Dinner|   4|                   8589934595|\n",
       "     17.78|3.27|  Male|    No| Sat|Dinner|   2|                   8589934596|\n",
       "     24.06| 3.6|  Male|    No| Sat|Dinner|   3|                   8589934597|\n",
       "     16.31| 2.0|  Male|    No| Sat|Dinner|   3|                   8589934598|\n",
       "     16.93|3.07|Female|    No| Sat|Dinner|   3|                   8589934599|\n",
       "     18.69|2.31|  Male|    No| Sat|Dinner|   3|                   8589934600|\n",
       "     31.27| 5.0|  Male|    No| Sat|Dinner|   3|                   8589934601|\n",
       "     16.04|2.24|  Male|    No| Sat|Dinner|   3|                   8589934602|\n",
       "     17.46|2.54|  Male|    No| Sun|Dinner|   2|                   8589934603|\n",
       "     13.94|3.06|  Male|    No| Sun|Dinner|   2|                   8589934604|\n",
       "      9.68|1.32|  Male|    No| Sun|Dinner|   2|                   8589934605|\n",
       "      30.4| 5.6|  Male|    No| Sun|Dinner|   4|                   8589934606|\n",
       "     18.29| 3.0|  Male|    No| Sun|Dinner|   2|                   8589934607|\n",
       "     22.23| 5.0|  Male|    No| Sun|Dinner|   2|                   8589934608|\n",
       "      32.4| 6.0|  Male|    No| Sun|Dinner|   4|                   8589934609|\n",
       "     28.55|2.05|  Male|    No| Sun|Dinner|   3|                   8589934610|\n",
       "     18.04| 3.0|  Male|    No| Sun|Dinner|   2|                   8589934611|\n",
       "     12.54| 2.5|  Male|    No| Sun|Dinner|   2|                   8589934612|\n",
       "     10.29| 2.6|Female|    No| Sun|Dinner|   2|                   8589934613|\n",
       "     34.81| 5.2|Female|    No| Sun|Dinner|   4|                   8589934614|\n",
       "      9.94|1.56|  Male|    No| Sun|Dinner|   2|                   8589934615|\n",
       "     25.56|4.34|  Male|    No| Sun|Dinner|   4|                   8589934616|\n",
       "     19.49|3.51|  Male|    No| Sun|Dinner|   2|                   8589934617|\n",
       "     38.01| 3.0|  Male|   Yes| Sat|Dinner|   4|                   8589934618|\n",
       "     26.41| 1.5|Female|    No| Sat|Dinner|   2|                   8589934619|\n",
       "     11.24|1.76|  Male|   Yes| Sat|Dinner|   2|                   8589934620|\n",
       "     48.27|6.73|  Male|    No| Sat|Dinner|   4|                   8589934621|\n",
       "     20.29|3.21|  Male|   Yes| Sat|Dinner|   2|                  17179869184|\n",
       "     13.81| 2.0|  Male|   Yes| Sat|Dinner|   2|                  17179869185|\n",
       "     11.02|1.98|  Male|   Yes| Sat|Dinner|   2|                  17179869186|\n",
       "     18.29|3.76|  Male|   Yes| Sat|Dinner|   4|                  17179869187|\n",
       "     17.59|2.64|  Male|    No| Sat|Dinner|   3|                  17179869188|\n",
       "     20.08|3.15|  Male|    No| Sat|Dinner|   3|                  17179869189|\n",
       "     16.45|2.47|Female|    No| Sat|Dinner|   2|                  17179869190|\n",
       "      3.07| 1.0|Female|   Yes| Sat|Dinner|   1|                  17179869191|\n",
       "     20.23|2.01|  Male|    No| Sat|Dinner|   2|                  17179869192|\n",
       "     15.01|2.09|  Male|   Yes| Sat|Dinner|   2|                  17179869193|\n",
       "     12.02|1.97|  Male|    No| Sat|Dinner|   2|                  17179869194|\n",
       "     17.07| 3.0|Female|    No| Sat|Dinner|   3|                  17179869195|\n",
       "     26.86|3.14|Female|   Yes| Sat|Dinner|   2|                  17179869196|\n",
       "     25.28| 5.0|Female|   Yes| Sat|Dinner|   2|                  17179869197|\n",
       "     14.73| 2.2|Female|    No| Sat|Dinner|   2|                  17179869198|\n",
       "     10.51|1.25|  Male|    No| Sat|Dinner|   2|                  17179869199|\n",
       "     17.92|3.08|  Male|   Yes| Sat|Dinner|   2|                  17179869200|\n",
       "      27.2| 4.0|  Male|    No|Thur| Lunch|   4|                  17179869201|\n",
       "     22.76| 3.0|  Male|    No|Thur| Lunch|   2|                  17179869202|\n",
       "     17.29|2.71|  Male|    No|Thur| Lunch|   2|                  17179869203|\n",
       "     19.44| 3.0|  Male|   Yes|Thur| Lunch|   2|                  17179869204|\n",
       "     16.66| 3.4|  Male|    No|Thur| Lunch|   2|                  17179869205|\n",
       "     10.07|1.83|Female|    No|Thur| Lunch|   1|                  17179869206|\n",
       "     32.68| 5.0|  Male|   Yes|Thur| Lunch|   2|                  17179869207|\n",
       "     15.98|2.03|  Male|    No|Thur| Lunch|   2|                  17179869208|\n",
       "     34.83|5.17|Female|    No|Thur| Lunch|   4|                  17179869209|\n",
       "     13.03| 2.0|  Male|    No|Thur| Lunch|   2|                  17179869210|\n",
       "     18.28| 4.0|  Male|    No|Thur| Lunch|   2|                  17179869211|\n",
       "     24.71|5.85|  Male|    No|Thur| Lunch|   2|                  17179869212|\n",
       "     21.16| 3.0|  Male|    No|Thur| Lunch|   2|                  17179869213|\n",
       "     28.97| 3.0|  Male|   Yes| Fri|Dinner|   2|                  25769803776|\n",
       "     22.49| 3.5|  Male|    No| Fri|Dinner|   2|                  25769803777|\n",
       "      5.75| 1.0|Female|   Yes| Fri|Dinner|   2|                  25769803778|\n",
       "     16.32| 4.3|Female|   Yes| Fri|Dinner|   2|                  25769803779|\n",
       "     22.75|3.25|Female|    No| Fri|Dinner|   2|                  25769803780|\n",
       "     40.17|4.73|  Male|   Yes| Fri|Dinner|   4|                  25769803781|\n",
       "     27.28| 4.0|  Male|   Yes| Fri|Dinner|   2|                  25769803782|\n",
       "     12.03| 1.5|  Male|   Yes| Fri|Dinner|   2|                  25769803783|\n",
       "     21.01| 3.0|  Male|   Yes| Fri|Dinner|   2|                  25769803784|\n",
       "     12.46| 1.5|  Male|    No| Fri|Dinner|   2|                  25769803785|\n",
       "     11.35| 2.5|Female|   Yes| Fri|Dinner|   2|                  25769803786|\n",
       "     15.38| 3.0|Female|   Yes| Fri|Dinner|   2|                  25769803787|\n",
       "      44.3| 2.5|Female|   Yes| Sat|Dinner|   3|                  25769803788|\n",
       "     22.42|3.48|Female|   Yes| Sat|Dinner|   2|                  25769803789|\n",
       "     20.92|4.08|Female|    No| Sat|Dinner|   2|                  25769803790|\n",
       "     15.36|1.64|  Male|   Yes| Sat|Dinner|   2|                  25769803791|\n",
       "     20.49|4.06|  Male|   Yes| Sat|Dinner|   2|                  25769803792|\n",
       "     25.21|4.29|  Male|   Yes| Sat|Dinner|   2|                  25769803793|\n",
       "     18.24|3.76|  Male|    No| Sat|Dinner|   2|                  25769803794|\n",
       "     14.31| 4.0|Female|   Yes| Sat|Dinner|   2|                  25769803795|\n",
       "      14.0| 3.0|  Male|    No| Sat|Dinner|   2|                  25769803796|\n",
       "      7.25| 1.0|Female|    No| Sat|Dinner|   1|                  25769803797|\n",
       "     38.07| 4.0|  Male|    No| Sun|Dinner|   3|                  25769803798|\n",
       "     23.95|2.55|  Male|    No| Sun|Dinner|   2|                  25769803799|\n",
       "     25.71| 4.0|Female|    No| Sun|Dinner|   3|                  25769803800|\n",
       "     17.31| 3.5|Female|    No| Sun|Dinner|   2|                  25769803801|\n",
       "     29.93|5.07|  Male|    No| Sun|Dinner|   4|                  25769803802|\n",
       "     10.65| 1.5|Female|    No|Thur| Lunch|   2|                  25769803803|\n",
       "     12.43| 1.8|Female|    No|Thur| Lunch|   2|                  25769803804|\n",
       "     24.08|2.92|Female|    No|Thur| Lunch|   4|                  25769803805|\n",
       "     11.69|2.31|  Male|    No|Thur| Lunch|   2|                  34359738368|\n",
       "     13.42|1.68|Female|    No|Thur| Lunch|   2|                  34359738369|\n",
       "     14.26| 2.5|  Male|    No|Thur| Lunch|   2|                  34359738370|\n",
       "     15.95| 2.0|  Male|    No|Thur| Lunch|   2|                  34359738371|\n",
       "     12.48|2.52|Female|    No|Thur| Lunch|   2|                  34359738372|\n",
       "      29.8| 4.2|Female|    No|Thur| Lunch|   6|                  34359738373|\n",
       "      8.52|1.48|  Male|    No|Thur| Lunch|   2|                  34359738374|\n",
       "     14.52| 2.0|Female|    No|Thur| Lunch|   2|                  34359738375|\n",
       "     11.38| 2.0|Female|    No|Thur| Lunch|   2|                  34359738376|\n",
       "     22.82|2.18|  Male|    No|Thur| Lunch|   3|                  34359738377|\n",
       "     19.08| 1.5|  Male|    No|Thur| Lunch|   2|                  34359738378|\n",
       "     20.27|2.83|Female|    No|Thur| Lunch|   2|                  34359738379|\n",
       "     11.17| 1.5|Female|    No|Thur| Lunch|   2|                  34359738380|\n",
       "     12.26| 2.0|Female|    No|Thur| Lunch|   2|                  34359738381|\n",
       "     18.26|3.25|Female|    No|Thur| Lunch|   2|                  34359738382|\n",
       "      8.51|1.25|Female|    No|Thur| Lunch|   2|                  34359738383|\n",
       "     10.33| 2.0|Female|    No|Thur| Lunch|   2|                  34359738384|\n",
       "     14.15| 2.0|Female|    No|Thur| Lunch|   2|                  34359738385|\n",
       "      16.0| 2.0|  Male|   Yes|Thur| Lunch|   2|                  34359738386|\n",
       "     13.16|2.75|Female|    No|Thur| Lunch|   2|                  34359738387|\n",
       "     17.47| 3.5|Female|    No|Thur| Lunch|   2|                  34359738388|\n",
       "      34.3| 6.7|  Male|    No|Thur| Lunch|   6|                  34359738389|\n",
       "     41.19| 5.0|  Male|    No|Thur| Lunch|   5|                  34359738390|\n",
       "     27.05| 5.0|Female|    No|Thur| Lunch|   6|                  34359738391|\n",
       "     16.43| 2.3|Female|    No|Thur| Lunch|   2|                  34359738392|\n",
       "      8.35| 1.5|Female|    No|Thur| Lunch|   2|                  34359738393|\n",
       "     18.64|1.36|Female|    No|Thur| Lunch|   3|                  34359738394|\n",
       "     11.87|1.63|Female|    No|Thur| Lunch|   2|                  34359738395|\n",
       "      9.78|1.73|  Male|    No|Thur| Lunch|   2|                  34359738396|\n",
       "      7.51| 2.0|  Male|    No|Thur| Lunch|   2|                  34359738397|\n",
       "     14.07| 2.5|  Male|    No| Sun|Dinner|   2|                  42949672960|\n",
       "     13.13| 2.0|  Male|    No| Sun|Dinner|   2|                  42949672961|\n",
       "     17.26|2.74|  Male|    No| Sun|Dinner|   3|                  42949672962|\n",
       "     24.55| 2.0|  Male|    No| Sun|Dinner|   4|                  42949672963|\n",
       "     19.77| 2.0|  Male|    No| Sun|Dinner|   4|                  42949672964|\n",
       "     29.85|5.14|Female|    No| Sun|Dinner|   5|                  42949672965|\n",
       "     48.17| 5.0|  Male|    No| Sun|Dinner|   6|                  42949672966|\n",
       "      25.0|3.75|Female|    No| Sun|Dinner|   4|                  42949672967|\n",
       "     13.39|2.61|Female|    No| Sun|Dinner|   2|                  42949672968|\n",
       "     16.49| 2.0|  Male|    No| Sun|Dinner|   4|                  42949672969|\n",
       "      21.5| 3.5|  Male|    No| Sun|Dinner|   4|                  42949672970|\n",
       "     12.66| 2.5|  Male|    No| Sun|Dinner|   2|                  42949672971|\n",
       "     16.21| 2.0|Female|    No| Sun|Dinner|   3|                  42949672972|\n",
       "     13.81| 2.0|  Male|    No| Sun|Dinner|   2|                  42949672973|\n",
       "     17.51| 3.0|Female|   Yes| Sun|Dinner|   2|                  42949672974|\n",
       "     24.52|3.48|  Male|    No| Sun|Dinner|   3|                  42949672975|\n",
       "     20.76|2.24|  Male|    No| Sun|Dinner|   2|                  42949672976|\n",
       "     31.71| 4.5|  Male|    No| Sun|Dinner|   4|                  42949672977|\n",
       "     10.59|1.61|Female|   Yes| Sat|Dinner|   2|                  42949672978|\n",
       "     10.63| 2.0|Female|   Yes| Sat|Dinner|   2|                  42949672979|\n",
       "     50.81|10.0|  Male|   Yes| Sat|Dinner|   3|                  42949672980|\n",
       "     15.81|3.16|  Male|   Yes| Sat|Dinner|   2|                  42949672981|\n",
       "      7.25|5.15|  Male|   Yes| Sun|Dinner|   2|                  42949672982|\n",
       "     31.85|3.18|  Male|   Yes| Sun|Dinner|   2|                  42949672983|\n",
       "     16.82| 4.0|  Male|   Yes| Sun|Dinner|   2|                  42949672984|\n",
       "      32.9|3.11|  Male|   Yes| Sun|Dinner|   2|                  42949672985|\n",
       "     17.89| 2.0|  Male|   Yes| Sun|Dinner|   2|                  42949672986|\n",
       "     14.48| 2.0|  Male|   Yes| Sun|Dinner|   2|                  42949672987|\n",
       "       9.6| 4.0|Female|   Yes| Sun|Dinner|   2|                  42949672988|\n",
       "     34.63|3.55|  Male|   Yes| Sun|Dinner|   2|                  42949672989|\n",
       "     34.65|3.68|  Male|   Yes| Sun|Dinner|   4|                  51539607552|\n",
       "     23.33|5.65|  Male|   Yes| Sun|Dinner|   2|                  51539607553|\n",
       "     45.35| 3.5|  Male|   Yes| Sun|Dinner|   3|                  51539607554|\n",
       "     23.17| 6.5|  Male|   Yes| Sun|Dinner|   4|                  51539607555|\n",
       "     40.55| 3.0|  Male|   Yes| Sun|Dinner|   2|                  51539607556|\n",
       "     20.69| 5.0|  Male|    No| Sun|Dinner|   5|                  51539607557|\n",
       "      20.9| 3.5|Female|   Yes| Sun|Dinner|   3|                  51539607558|\n",
       "     30.46| 2.0|  Male|   Yes| Sun|Dinner|   5|                  51539607559|\n",
       "     18.15| 3.5|Female|   Yes| Sun|Dinner|   3|                  51539607560|\n",
       "      23.1| 4.0|  Male|   Yes| Sun|Dinner|   3|                  51539607561|\n",
       "     15.69| 1.5|  Male|   Yes| Sun|Dinner|   2|                  51539607562|\n",
       "     19.81|4.19|Female|   Yes|Thur| Lunch|   2|                  51539607563|\n",
       "     28.44|2.56|  Male|   Yes|Thur| Lunch|   2|                  51539607564|\n",
       "     15.48|2.02|  Male|   Yes|Thur| Lunch|   2|                  51539607565|\n",
       "     16.58| 4.0|  Male|   Yes|Thur| Lunch|   2|                  51539607566|\n",
       "      7.56|1.44|  Male|    No|Thur| Lunch|   2|                  51539607567|\n",
       "     10.34| 2.0|  Male|   Yes|Thur| Lunch|   2|                  51539607568|\n",
       "     43.11| 5.0|Female|   Yes|Thur| Lunch|   4|                  51539607569|\n",
       "      13.0| 2.0|Female|   Yes|Thur| Lunch|   2|                  51539607570|\n",
       "     13.51| 2.0|  Male|   Yes|Thur| Lunch|   2|                  51539607571|\n",
       "     18.71| 4.0|  Male|   Yes|Thur| Lunch|   3|                  51539607572|\n",
       "     12.74|2.01|Female|   Yes|Thur| Lunch|   2|                  51539607573|\n",
       "      13.0| 2.0|Female|   Yes|Thur| Lunch|   2|                  51539607574|\n",
       "      16.4| 2.5|Female|   Yes|Thur| Lunch|   2|                  51539607575|\n",
       "     20.53| 4.0|  Male|   Yes|Thur| Lunch|   4|                  51539607576|\n",
       "     16.47|3.23|Female|   Yes|Thur| Lunch|   3|                  51539607577|\n",
       "     26.59|3.41|  Male|   Yes| Sat|Dinner|   3|                  51539607578|\n",
       "     38.73| 3.0|  Male|   Yes| Sat|Dinner|   4|                  51539607579|\n",
       "     24.27|2.03|  Male|   Yes| Sat|Dinner|   2|                  51539607580|\n",
       "     12.76|2.23|Female|   Yes| Sat|Dinner|   2|                  51539607581|\n",
       "     30.06| 2.0|  Male|   Yes| Sat|Dinner|   3|                  60129542144|\n",
       "     25.89|5.16|  Male|   Yes| Sat|Dinner|   4|                  60129542145|\n",
       "     48.33| 9.0|  Male|    No| Sat|Dinner|   4|                  60129542146|\n",
       "     13.27| 2.5|Female|   Yes| Sat|Dinner|   2|                  60129542147|\n",
       "     28.17| 6.5|Female|   Yes| Sat|Dinner|   3|                  60129542148|\n",
       "      12.9| 1.1|Female|   Yes| Sat|Dinner|   2|                  60129542149|\n",
       "     28.15| 3.0|  Male|   Yes| Sat|Dinner|   5|                  60129542150|\n",
       "     11.59| 1.5|  Male|   Yes| Sat|Dinner|   2|                  60129542151|\n",
       "      7.74|1.44|  Male|   Yes| Sat|Dinner|   2|                  60129542152|\n",
       "     30.14|3.09|Female|   Yes| Sat|Dinner|   4|                  60129542153|\n",
       "     12.16| 2.2|  Male|   Yes| Fri| Lunch|   2|                  60129542154|\n",
       "     13.42|3.48|Female|   Yes| Fri| Lunch|   2|                  60129542155|\n",
       "      8.58|1.92|  Male|   Yes| Fri| Lunch|   1|                  60129542156|\n",
       "     15.98| 3.0|Female|    No| Fri| Lunch|   3|                  60129542157|\n",
       "     13.42|1.58|  Male|   Yes| Fri| Lunch|   2|                  60129542158|\n",
       "     16.27| 2.5|Female|   Yes| Fri| Lunch|   2|                  60129542159|\n",
       "     10.09| 2.0|Female|   Yes| Fri| Lunch|   2|                  60129542160|\n",
       "     20.45| 3.0|  Male|    No| Sat|Dinner|   4|                  60129542161|\n",
       "     13.28|2.72|  Male|    No| Sat|Dinner|   2|                  60129542162|\n",
       "     22.12|2.88|Female|   Yes| Sat|Dinner|   2|                  60129542163|\n",
       "     24.01| 2.0|  Male|   Yes| Sat|Dinner|   4|                  60129542164|\n",
       "     15.69| 3.0|  Male|   Yes| Sat|Dinner|   3|                  60129542165|\n",
       "     11.61|3.39|  Male|    No| Sat|Dinner|   2|                  60129542166|\n",
       "     10.77|1.47|  Male|    No| Sat|Dinner|   2|                  60129542167|\n",
       "     15.53| 3.0|  Male|   Yes| Sat|Dinner|   2|                  60129542168|\n",
       "     10.07|1.25|  Male|    No| Sat|Dinner|   2|                  60129542169|\n",
       "      12.6| 1.0|  Male|   Yes| Sat|Dinner|   2|                  60129542170|\n",
       "     32.83|1.17|  Male|   Yes| Sat|Dinner|   2|                  60129542171|\n",
       "     35.83|4.67|Female|    No| Sat|Dinner|   3|                  60129542172|\n",
       "     29.03|5.92|  Male|    No| Sat|Dinner|   3|                  60129542173|\n",
       "     27.18| 2.0|Female|   Yes| Sat|Dinner|   2|                  60129542174|\n",
       "     22.67| 2.0|  Male|   Yes| Sat|Dinner|   2|                  60129542175|\n",
       "     17.82|1.75|  Male|    No| Sat|Dinner|   2|                  60129542176|\n",
       "     18.78| 3.0|Female|    No|Thur|Dinner|   2|                  60129542177|\n",
       "+----------+----+------+------+----+------+----+-----------------------------+\n",
       "\n",
       "</div>"
      ]
     },
     "metadata": {
      "application/vnd.databricks.v1+output": {
       "addedWidgets": {},
       "arguments": {},
       "data": "<div class=\"ansiout\">+----------+----+------+------+----+------+----+-----------------------------+\n|total_bill| tip|   sex|smoker| day|  time|size|monotonically_increasing_id()|\n+----------+----+------+------+----+------+----+-----------------------------+\n|     16.99|1.01|Female|    No| Sun|Dinner|   2|                            0|\n|     10.34|1.66|  Male|    No| Sun|Dinner|   3|                            1|\n|     21.01| 3.5|  Male|    No| Sun|Dinner|   3|                            2|\n|     23.68|3.31|  Male|    No| Sun|Dinner|   2|                            3|\n|     24.59|3.61|Female|    No| Sun|Dinner|   4|                            4|\n|     25.29|4.71|  Male|    No| Sun|Dinner|   4|                            5|\n|      8.77| 2.0|  Male|    No| Sun|Dinner|   2|                            6|\n|     26.88|3.12|  Male|    No| Sun|Dinner|   4|                            7|\n|     15.04|1.96|  Male|    No| Sun|Dinner|   2|                            8|\n|     14.78|3.23|  Male|    No| Sun|Dinner|   2|                            9|\n|     10.27|1.71|  Male|    No| Sun|Dinner|   2|                           10|\n|     35.26| 5.0|Female|    No| Sun|Dinner|   4|                           11|\n|     15.42|1.57|  Male|    No| Sun|Dinner|   2|                           12|\n|     18.43| 3.0|  Male|    No| Sun|Dinner|   4|                           13|\n|     14.83|3.02|Female|    No| Sun|Dinner|   2|                           14|\n|     21.58|3.92|  Male|    No| Sun|Dinner|   2|                           15|\n|     10.33|1.67|Female|    No| Sun|Dinner|   3|                           16|\n|     16.29|3.71|  Male|    No| Sun|Dinner|   3|                           17|\n|     16.97| 3.5|Female|    No| Sun|Dinner|   3|                           18|\n|     20.65|3.35|  Male|    No| Sat|Dinner|   3|                           19|\n|     17.92|4.08|  Male|    No| Sat|Dinner|   2|                           20|\n|     20.29|2.75|Female|    No| Sat|Dinner|   2|                           21|\n|     15.77|2.23|Female|    No| Sat|Dinner|   2|                           22|\n|     39.42|7.58|  Male|    No| Sat|Dinner|   4|                           23|\n|     19.82|3.18|  Male|    No| Sat|Dinner|   2|                           24|\n|     17.81|2.34|  Male|    No| Sat|Dinner|   4|                           25|\n|     13.37| 2.0|  Male|    No| Sat|Dinner|   2|                           26|\n|     12.69| 2.0|  Male|    No| Sat|Dinner|   2|                           27|\n|      21.7| 4.3|  Male|    No| Sat|Dinner|   2|                           28|\n|     19.65| 3.0|Female|    No| Sat|Dinner|   2|                           29|\n|      9.55|1.45|  Male|    No| Sat|Dinner|   2|                   8589934592|\n|     18.35| 2.5|  Male|    No| Sat|Dinner|   4|                   8589934593|\n|     15.06| 3.0|Female|    No| Sat|Dinner|   2|                   8589934594|\n|     20.69|2.45|Female|    No| Sat|Dinner|   4|                   8589934595|\n|     17.78|3.27|  Male|    No| Sat|Dinner|   2|                   8589934596|\n|     24.06| 3.6|  Male|    No| Sat|Dinner|   3|                   8589934597|\n|     16.31| 2.0|  Male|    No| Sat|Dinner|   3|                   8589934598|\n|     16.93|3.07|Female|    No| Sat|Dinner|   3|                   8589934599|\n|     18.69|2.31|  Male|    No| Sat|Dinner|   3|                   8589934600|\n|     31.27| 5.0|  Male|    No| Sat|Dinner|   3|                   8589934601|\n|     16.04|2.24|  Male|    No| Sat|Dinner|   3|                   8589934602|\n|     17.46|2.54|  Male|    No| Sun|Dinner|   2|                   8589934603|\n|     13.94|3.06|  Male|    No| Sun|Dinner|   2|                   8589934604|\n|      9.68|1.32|  Male|    No| Sun|Dinner|   2|                   8589934605|\n|      30.4| 5.6|  Male|    No| Sun|Dinner|   4|                   8589934606|\n|     18.29| 3.0|  Male|    No| Sun|Dinner|   2|                   8589934607|\n|     22.23| 5.0|  Male|    No| Sun|Dinner|   2|                   8589934608|\n|      32.4| 6.0|  Male|    No| Sun|Dinner|   4|                   8589934609|\n|     28.55|2.05|  Male|    No| Sun|Dinner|   3|                   8589934610|\n|     18.04| 3.0|  Male|    No| Sun|Dinner|   2|                   8589934611|\n|     12.54| 2.5|  Male|    No| Sun|Dinner|   2|                   8589934612|\n|     10.29| 2.6|Female|    No| Sun|Dinner|   2|                   8589934613|\n|     34.81| 5.2|Female|    No| Sun|Dinner|   4|                   8589934614|\n|      9.94|1.56|  Male|    No| Sun|Dinner|   2|                   8589934615|\n|     25.56|4.34|  Male|    No| Sun|Dinner|   4|                   8589934616|\n|     19.49|3.51|  Male|    No| Sun|Dinner|   2|                   8589934617|\n|     38.01| 3.0|  Male|   Yes| Sat|Dinner|   4|                   8589934618|\n|     26.41| 1.5|Female|    No| Sat|Dinner|   2|                   8589934619|\n|     11.24|1.76|  Male|   Yes| Sat|Dinner|   2|                   8589934620|\n|     48.27|6.73|  Male|    No| Sat|Dinner|   4|                   8589934621|\n|     20.29|3.21|  Male|   Yes| Sat|Dinner|   2|                  17179869184|\n|     13.81| 2.0|  Male|   Yes| Sat|Dinner|   2|                  17179869185|\n|     11.02|1.98|  Male|   Yes| Sat|Dinner|   2|                  17179869186|\n|     18.29|3.76|  Male|   Yes| Sat|Dinner|   4|                  17179869187|\n|     17.59|2.64|  Male|    No| Sat|Dinner|   3|                  17179869188|\n|     20.08|3.15|  Male|    No| Sat|Dinner|   3|                  17179869189|\n|     16.45|2.47|Female|    No| Sat|Dinner|   2|                  17179869190|\n|      3.07| 1.0|Female|   Yes| Sat|Dinner|   1|                  17179869191|\n|     20.23|2.01|  Male|    No| Sat|Dinner|   2|                  17179869192|\n|     15.01|2.09|  Male|   Yes| Sat|Dinner|   2|                  17179869193|\n|     12.02|1.97|  Male|    No| Sat|Dinner|   2|                  17179869194|\n|     17.07| 3.0|Female|    No| Sat|Dinner|   3|                  17179869195|\n|     26.86|3.14|Female|   Yes| Sat|Dinner|   2|                  17179869196|\n|     25.28| 5.0|Female|   Yes| Sat|Dinner|   2|                  17179869197|\n|     14.73| 2.2|Female|    No| Sat|Dinner|   2|                  17179869198|\n|     10.51|1.25|  Male|    No| Sat|Dinner|   2|                  17179869199|\n|     17.92|3.08|  Male|   Yes| Sat|Dinner|   2|                  17179869200|\n|      27.2| 4.0|  Male|    No|Thur| Lunch|   4|                  17179869201|\n|     22.76| 3.0|  Male|    No|Thur| Lunch|   2|                  17179869202|\n|     17.29|2.71|  Male|    No|Thur| Lunch|   2|                  17179869203|\n|     19.44| 3.0|  Male|   Yes|Thur| Lunch|   2|                  17179869204|\n|     16.66| 3.4|  Male|    No|Thur| Lunch|   2|                  17179869205|\n|     10.07|1.83|Female|    No|Thur| Lunch|   1|                  17179869206|\n|     32.68| 5.0|  Male|   Yes|Thur| Lunch|   2|                  17179869207|\n|     15.98|2.03|  Male|    No|Thur| Lunch|   2|                  17179869208|\n|     34.83|5.17|Female|    No|Thur| Lunch|   4|                  17179869209|\n|     13.03| 2.0|  Male|    No|Thur| Lunch|   2|                  17179869210|\n|     18.28| 4.0|  Male|    No|Thur| Lunch|   2|                  17179869211|\n|     24.71|5.85|  Male|    No|Thur| Lunch|   2|                  17179869212|\n|     21.16| 3.0|  Male|    No|Thur| Lunch|   2|                  17179869213|\n|     28.97| 3.0|  Male|   Yes| Fri|Dinner|   2|                  25769803776|\n|     22.49| 3.5|  Male|    No| Fri|Dinner|   2|                  25769803777|\n|      5.75| 1.0|Female|   Yes| Fri|Dinner|   2|                  25769803778|\n|     16.32| 4.3|Female|   Yes| Fri|Dinner|   2|                  25769803779|\n|     22.75|3.25|Female|    No| Fri|Dinner|   2|                  25769803780|\n|     40.17|4.73|  Male|   Yes| Fri|Dinner|   4|                  25769803781|\n|     27.28| 4.0|  Male|   Yes| Fri|Dinner|   2|                  25769803782|\n|     12.03| 1.5|  Male|   Yes| Fri|Dinner|   2|                  25769803783|\n|     21.01| 3.0|  Male|   Yes| Fri|Dinner|   2|                  25769803784|\n|     12.46| 1.5|  Male|    No| Fri|Dinner|   2|                  25769803785|\n|     11.35| 2.5|Female|   Yes| Fri|Dinner|   2|                  25769803786|\n|     15.38| 3.0|Female|   Yes| Fri|Dinner|   2|                  25769803787|\n|      44.3| 2.5|Female|   Yes| Sat|Dinner|   3|                  25769803788|\n|     22.42|3.48|Female|   Yes| Sat|Dinner|   2|                  25769803789|\n|     20.92|4.08|Female|    No| Sat|Dinner|   2|                  25769803790|\n|     15.36|1.64|  Male|   Yes| Sat|Dinner|   2|                  25769803791|\n|     20.49|4.06|  Male|   Yes| Sat|Dinner|   2|                  25769803792|\n|     25.21|4.29|  Male|   Yes| Sat|Dinner|   2|                  25769803793|\n|     18.24|3.76|  Male|    No| Sat|Dinner|   2|                  25769803794|\n|     14.31| 4.0|Female|   Yes| Sat|Dinner|   2|                  25769803795|\n|      14.0| 3.0|  Male|    No| Sat|Dinner|   2|                  25769803796|\n|      7.25| 1.0|Female|    No| Sat|Dinner|   1|                  25769803797|\n|     38.07| 4.0|  Male|    No| Sun|Dinner|   3|                  25769803798|\n|     23.95|2.55|  Male|    No| Sun|Dinner|   2|                  25769803799|\n|     25.71| 4.0|Female|    No| Sun|Dinner|   3|                  25769803800|\n|     17.31| 3.5|Female|    No| Sun|Dinner|   2|                  25769803801|\n|     29.93|5.07|  Male|    No| Sun|Dinner|   4|                  25769803802|\n|     10.65| 1.5|Female|    No|Thur| Lunch|   2|                  25769803803|\n|     12.43| 1.8|Female|    No|Thur| Lunch|   2|                  25769803804|\n|     24.08|2.92|Female|    No|Thur| Lunch|   4|                  25769803805|\n|     11.69|2.31|  Male|    No|Thur| Lunch|   2|                  34359738368|\n|     13.42|1.68|Female|    No|Thur| Lunch|   2|                  34359738369|\n|     14.26| 2.5|  Male|    No|Thur| Lunch|   2|                  34359738370|\n|     15.95| 2.0|  Male|    No|Thur| Lunch|   2|                  34359738371|\n|     12.48|2.52|Female|    No|Thur| Lunch|   2|                  34359738372|\n|      29.8| 4.2|Female|    No|Thur| Lunch|   6|                  34359738373|\n|      8.52|1.48|  Male|    No|Thur| Lunch|   2|                  34359738374|\n|     14.52| 2.0|Female|    No|Thur| Lunch|   2|                  34359738375|\n|     11.38| 2.0|Female|    No|Thur| Lunch|   2|                  34359738376|\n|     22.82|2.18|  Male|    No|Thur| Lunch|   3|                  34359738377|\n|     19.08| 1.5|  Male|    No|Thur| Lunch|   2|                  34359738378|\n|     20.27|2.83|Female|    No|Thur| Lunch|   2|                  34359738379|\n|     11.17| 1.5|Female|    No|Thur| Lunch|   2|                  34359738380|\n|     12.26| 2.0|Female|    No|Thur| Lunch|   2|                  34359738381|\n|     18.26|3.25|Female|    No|Thur| Lunch|   2|                  34359738382|\n|      8.51|1.25|Female|    No|Thur| Lunch|   2|                  34359738383|\n|     10.33| 2.0|Female|    No|Thur| Lunch|   2|                  34359738384|\n|     14.15| 2.0|Female|    No|Thur| Lunch|   2|                  34359738385|\n|      16.0| 2.0|  Male|   Yes|Thur| Lunch|   2|                  34359738386|\n|     13.16|2.75|Female|    No|Thur| Lunch|   2|                  34359738387|\n|     17.47| 3.5|Female|    No|Thur| Lunch|   2|                  34359738388|\n|      34.3| 6.7|  Male|    No|Thur| Lunch|   6|                  34359738389|\n|     41.19| 5.0|  Male|    No|Thur| Lunch|   5|                  34359738390|\n|     27.05| 5.0|Female|    No|Thur| Lunch|   6|                  34359738391|\n|     16.43| 2.3|Female|    No|Thur| Lunch|   2|                  34359738392|\n|      8.35| 1.5|Female|    No|Thur| Lunch|   2|                  34359738393|\n|     18.64|1.36|Female|    No|Thur| Lunch|   3|                  34359738394|\n|     11.87|1.63|Female|    No|Thur| Lunch|   2|                  34359738395|\n|      9.78|1.73|  Male|    No|Thur| Lunch|   2|                  34359738396|\n|      7.51| 2.0|  Male|    No|Thur| Lunch|   2|                  34359738397|\n|     14.07| 2.5|  Male|    No| Sun|Dinner|   2|                  42949672960|\n|     13.13| 2.0|  Male|    No| Sun|Dinner|   2|                  42949672961|\n|     17.26|2.74|  Male|    No| Sun|Dinner|   3|                  42949672962|\n|     24.55| 2.0|  Male|    No| Sun|Dinner|   4|                  42949672963|\n|     19.77| 2.0|  Male|    No| Sun|Dinner|   4|                  42949672964|\n|     29.85|5.14|Female|    No| Sun|Dinner|   5|                  42949672965|\n|     48.17| 5.0|  Male|    No| Sun|Dinner|   6|                  42949672966|\n|      25.0|3.75|Female|    No| Sun|Dinner|   4|                  42949672967|\n|     13.39|2.61|Female|    No| Sun|Dinner|   2|                  42949672968|\n|     16.49| 2.0|  Male|    No| Sun|Dinner|   4|                  42949672969|\n|      21.5| 3.5|  Male|    No| Sun|Dinner|   4|                  42949672970|\n|     12.66| 2.5|  Male|    No| Sun|Dinner|   2|                  42949672971|\n|     16.21| 2.0|Female|    No| Sun|Dinner|   3|                  42949672972|\n|     13.81| 2.0|  Male|    No| Sun|Dinner|   2|                  42949672973|\n|     17.51| 3.0|Female|   Yes| Sun|Dinner|   2|                  42949672974|\n|     24.52|3.48|  Male|    No| Sun|Dinner|   3|                  42949672975|\n|     20.76|2.24|  Male|    No| Sun|Dinner|   2|                  42949672976|\n|     31.71| 4.5|  Male|    No| Sun|Dinner|   4|                  42949672977|\n|     10.59|1.61|Female|   Yes| Sat|Dinner|   2|                  42949672978|\n|     10.63| 2.0|Female|   Yes| Sat|Dinner|   2|                  42949672979|\n|     50.81|10.0|  Male|   Yes| Sat|Dinner|   3|                  42949672980|\n|     15.81|3.16|  Male|   Yes| Sat|Dinner|   2|                  42949672981|\n|      7.25|5.15|  Male|   Yes| Sun|Dinner|   2|                  42949672982|\n|     31.85|3.18|  Male|   Yes| Sun|Dinner|   2|                  42949672983|\n|     16.82| 4.0|  Male|   Yes| Sun|Dinner|   2|                  42949672984|\n|      32.9|3.11|  Male|   Yes| Sun|Dinner|   2|                  42949672985|\n|     17.89| 2.0|  Male|   Yes| Sun|Dinner|   2|                  42949672986|\n|     14.48| 2.0|  Male|   Yes| Sun|Dinner|   2|                  42949672987|\n|       9.6| 4.0|Female|   Yes| Sun|Dinner|   2|                  42949672988|\n|     34.63|3.55|  Male|   Yes| Sun|Dinner|   2|                  42949672989|\n|     34.65|3.68|  Male|   Yes| Sun|Dinner|   4|                  51539607552|\n|     23.33|5.65|  Male|   Yes| Sun|Dinner|   2|                  51539607553|\n|     45.35| 3.5|  Male|   Yes| Sun|Dinner|   3|                  51539607554|\n|     23.17| 6.5|  Male|   Yes| Sun|Dinner|   4|                  51539607555|\n|     40.55| 3.0|  Male|   Yes| Sun|Dinner|   2|                  51539607556|\n|     20.69| 5.0|  Male|    No| Sun|Dinner|   5|                  51539607557|\n|      20.9| 3.5|Female|   Yes| Sun|Dinner|   3|                  51539607558|\n|     30.46| 2.0|  Male|   Yes| Sun|Dinner|   5|                  51539607559|\n|     18.15| 3.5|Female|   Yes| Sun|Dinner|   3|                  51539607560|\n|      23.1| 4.0|  Male|   Yes| Sun|Dinner|   3|                  51539607561|\n|     15.69| 1.5|  Male|   Yes| Sun|Dinner|   2|                  51539607562|\n|     19.81|4.19|Female|   Yes|Thur| Lunch|   2|                  51539607563|\n|     28.44|2.56|  Male|   Yes|Thur| Lunch|   2|                  51539607564|\n|     15.48|2.02|  Male|   Yes|Thur| Lunch|   2|                  51539607565|\n|     16.58| 4.0|  Male|   Yes|Thur| Lunch|   2|                  51539607566|\n|      7.56|1.44|  Male|    No|Thur| Lunch|   2|                  51539607567|\n|     10.34| 2.0|  Male|   Yes|Thur| Lunch|   2|                  51539607568|\n|     43.11| 5.0|Female|   Yes|Thur| Lunch|   4|                  51539607569|\n|      13.0| 2.0|Female|   Yes|Thur| Lunch|   2|                  51539607570|\n|     13.51| 2.0|  Male|   Yes|Thur| Lunch|   2|                  51539607571|\n|     18.71| 4.0|  Male|   Yes|Thur| Lunch|   3|                  51539607572|\n|     12.74|2.01|Female|   Yes|Thur| Lunch|   2|                  51539607573|\n|      13.0| 2.0|Female|   Yes|Thur| Lunch|   2|                  51539607574|\n|      16.4| 2.5|Female|   Yes|Thur| Lunch|   2|                  51539607575|\n|     20.53| 4.0|  Male|   Yes|Thur| Lunch|   4|                  51539607576|\n|     16.47|3.23|Female|   Yes|Thur| Lunch|   3|                  51539607577|\n|     26.59|3.41|  Male|   Yes| Sat|Dinner|   3|                  51539607578|\n|     38.73| 3.0|  Male|   Yes| Sat|Dinner|   4|                  51539607579|\n|     24.27|2.03|  Male|   Yes| Sat|Dinner|   2|                  51539607580|\n|     12.76|2.23|Female|   Yes| Sat|Dinner|   2|                  51539607581|\n|     30.06| 2.0|  Male|   Yes| Sat|Dinner|   3|                  60129542144|\n|     25.89|5.16|  Male|   Yes| Sat|Dinner|   4|                  60129542145|\n|     48.33| 9.0|  Male|    No| Sat|Dinner|   4|                  60129542146|\n|     13.27| 2.5|Female|   Yes| Sat|Dinner|   2|                  60129542147|\n|     28.17| 6.5|Female|   Yes| Sat|Dinner|   3|                  60129542148|\n|      12.9| 1.1|Female|   Yes| Sat|Dinner|   2|                  60129542149|\n|     28.15| 3.0|  Male|   Yes| Sat|Dinner|   5|                  60129542150|\n|     11.59| 1.5|  Male|   Yes| Sat|Dinner|   2|                  60129542151|\n|      7.74|1.44|  Male|   Yes| Sat|Dinner|   2|                  60129542152|\n|     30.14|3.09|Female|   Yes| Sat|Dinner|   4|                  60129542153|\n|     12.16| 2.2|  Male|   Yes| Fri| Lunch|   2|                  60129542154|\n|     13.42|3.48|Female|   Yes| Fri| Lunch|   2|                  60129542155|\n|      8.58|1.92|  Male|   Yes| Fri| Lunch|   1|                  60129542156|\n|     15.98| 3.0|Female|    No| Fri| Lunch|   3|                  60129542157|\n|     13.42|1.58|  Male|   Yes| Fri| Lunch|   2|                  60129542158|\n|     16.27| 2.5|Female|   Yes| Fri| Lunch|   2|                  60129542159|\n|     10.09| 2.0|Female|   Yes| Fri| Lunch|   2|                  60129542160|\n|     20.45| 3.0|  Male|    No| Sat|Dinner|   4|                  60129542161|\n|     13.28|2.72|  Male|    No| Sat|Dinner|   2|                  60129542162|\n|     22.12|2.88|Female|   Yes| Sat|Dinner|   2|                  60129542163|\n|     24.01| 2.0|  Male|   Yes| Sat|Dinner|   4|                  60129542164|\n|     15.69| 3.0|  Male|   Yes| Sat|Dinner|   3|                  60129542165|\n|     11.61|3.39|  Male|    No| Sat|Dinner|   2|                  60129542166|\n|     10.77|1.47|  Male|    No| Sat|Dinner|   2|                  60129542167|\n|     15.53| 3.0|  Male|   Yes| Sat|Dinner|   2|                  60129542168|\n|     10.07|1.25|  Male|    No| Sat|Dinner|   2|                  60129542169|\n|      12.6| 1.0|  Male|   Yes| Sat|Dinner|   2|                  60129542170|\n|     32.83|1.17|  Male|   Yes| Sat|Dinner|   2|                  60129542171|\n|     35.83|4.67|Female|    No| Sat|Dinner|   3|                  60129542172|\n|     29.03|5.92|  Male|    No| Sat|Dinner|   3|                  60129542173|\n|     27.18| 2.0|Female|   Yes| Sat|Dinner|   2|                  60129542174|\n|     22.67| 2.0|  Male|   Yes| Sat|Dinner|   2|                  60129542175|\n|     17.82|1.75|  Male|    No| Sat|Dinner|   2|                  60129542176|\n|     18.78| 3.0|Female|    No|Thur|Dinner|   2|                  60129542177|\n+----------+----+------+------+----+------+----+-----------------------------+\n\n</div>",
       "datasetInfos": [],
       "metadata": {},
       "removedWidgets": [],
       "type": "html"
      }
     },
     "output_type": "display_data"
    }
   ],
   "source": [
    "tipss.select(\"*\",monotonically_increasing_id()).show(tipss.count())"
   ]
  },
  {
   "cell_type": "code",
   "execution_count": 0,
   "metadata": {
    "application/vnd.databricks.v1+cell": {
     "cellMetadata": {},
     "inputWidgets": {},
     "nuid": "4581771a-f246-4418-973a-152964ac2d9c",
     "showTitle": false,
     "title": ""
    },
    "colab": {},
    "colab_type": "code",
    "id": "nDdDfRS0kNj4"
   },
   "outputs": [
    {
     "output_type": "display_data",
     "data": {
      "text/html": [
       "<style scoped>\n",
       "  .ansiout {\n",
       "    display: block;\n",
       "    unicode-bidi: embed;\n",
       "    white-space: pre-wrap;\n",
       "    word-wrap: break-word;\n",
       "    word-break: break-all;\n",
       "    font-family: \"Menlo\", \"Monaco\", \"Consolas\", \"Ubuntu Mono\", \"Source Code Pro\", monospace;\n",
       "    font-size: 13px;\n",
       "    color: #555;\n",
       "    margin-left: 4px;\n",
       "    line-height: 19px;\n",
       "  }\n",
       "</style>\n",
       "<div class=\"ansiout\"></div>"
      ]
     },
     "metadata": {
      "application/vnd.databricks.v1+output": {
       "addedWidgets": {},
       "arguments": {},
       "data": "<div class=\"ansiout\"></div>",
       "datasetInfos": [],
       "metadata": {},
       "removedWidgets": [],
       "type": "html"
      }
     },
     "output_type": "display_data"
    }
   ],
   "source": [
    "# 86. month\n",
    "from pyspark.sql.functions import month\n",
    "#Extract the month of a given date as integer."
   ]
  },
  {
   "cell_type": "code",
   "execution_count": 0,
   "metadata": {
    "application/vnd.databricks.v1+cell": {
     "cellMetadata": {},
     "inputWidgets": {},
     "nuid": "6e5355d6-e030-45ed-bc60-24f39896fe90",
     "showTitle": false,
     "title": ""
    },
    "colab": {
     "base_uri": "https://localhost:8080/",
     "height": 121
    },
    "colab_type": "code",
    "id": "VDrzPURxkr9o",
    "outputId": "97bf232a-b04f-4323-f012-8bc7e02fc28d"
   },
   "outputs": [
    {
     "output_type": "display_data",
     "data": {
      "text/html": [
       "<style scoped>\n",
       "  .ansiout {\n",
       "    display: block;\n",
       "    unicode-bidi: embed;\n",
       "    white-space: pre-wrap;\n",
       "    word-wrap: break-word;\n",
       "    word-break: break-all;\n",
       "    font-family: \"Menlo\", \"Monaco\", \"Consolas\", \"Ubuntu Mono\", \"Source Code Pro\", monospace;\n",
       "    font-size: 13px;\n",
       "    color: #555;\n",
       "    margin-left: 4px;\n",
       "    line-height: 19px;\n",
       "  }\n",
       "</style>\n",
       "<div class=\"ansiout\">+-------------------+--------+\n",
       "                  t|month(t)|\n",
       "+-------------------+--------+\n",
       "1997-02-28 05:02:11|       2|\n",
       "+-------------------+--------+\n",
       "\n",
       "</div>"
      ]
     },
     "metadata": {
      "application/vnd.databricks.v1+output": {
       "addedWidgets": {},
       "arguments": {},
       "data": "<div class=\"ansiout\">+-------------------+--------+\n|                  t|month(t)|\n+-------------------+--------+\n|1997-02-28 05:02:11|       2|\n+-------------------+--------+\n\n</div>",
       "datasetInfos": [],
       "metadata": {},
       "removedWidgets": [],
       "type": "html"
      }
     },
     "output_type": "display_data"
    }
   ],
   "source": [
    "df7.select(\"*\",month(col = df7['t'])).show()"
   ]
  },
  {
   "cell_type": "code",
   "execution_count": 0,
   "metadata": {
    "application/vnd.databricks.v1+cell": {
     "cellMetadata": {},
     "inputWidgets": {},
     "nuid": "55c9af6d-3dcb-41e2-b9d0-2d2dc4951c69",
     "showTitle": false,
     "title": ""
    },
    "colab": {
     "base_uri": "https://localhost:8080/",
     "height": 121
    },
    "colab_type": "code",
    "id": "lk1JW4t4kxdo",
    "outputId": "f9b3705e-6cc4-4d20-831a-ece7ed6c724f"
   },
   "outputs": [
    {
     "output_type": "display_data",
     "data": {
      "text/html": [
       "<style scoped>\n",
       "  .ansiout {\n",
       "    display: block;\n",
       "    unicode-bidi: embed;\n",
       "    white-space: pre-wrap;\n",
       "    word-wrap: break-word;\n",
       "    word-break: break-all;\n",
       "    font-family: \"Menlo\", \"Monaco\", \"Consolas\", \"Ubuntu Mono\", \"Source Code Pro\", monospace;\n",
       "    font-size: 13px;\n",
       "    color: #555;\n",
       "    margin-left: 4px;\n",
       "    line-height: 19px;\n",
       "  }\n",
       "</style>\n",
       "<div class=\"ansiout\">+----------+----------+\n",
       "        d1|        d2|\n",
       "+----------+----------+\n",
       "2015-04-08|2015-05-10|\n",
       "+----------+----------+\n",
       "\n",
       "</div>"
      ]
     },
     "metadata": {
      "application/vnd.databricks.v1+output": {
       "addedWidgets": {},
       "arguments": {},
       "data": "<div class=\"ansiout\">+----------+----------+\n|        d1|        d2|\n+----------+----------+\n|2015-04-08|2015-05-10|\n+----------+----------+\n\n</div>",
       "datasetInfos": [],
       "metadata": {},
       "removedWidgets": [],
       "type": "html"
      }
     },
     "output_type": "display_data"
    }
   ],
   "source": [
    "df8.show()"
   ]
  },
  {
   "cell_type": "code",
   "execution_count": 0,
   "metadata": {
    "application/vnd.databricks.v1+cell": {
     "cellMetadata": {},
     "inputWidgets": {},
     "nuid": "10554c9c-9e57-473b-8f11-0bc3ac3bc5d7",
     "showTitle": false,
     "title": ""
    },
    "colab": {},
    "colab_type": "code",
    "id": "EvFyNDtrlEJY"
   },
   "outputs": [
    {
     "output_type": "display_data",
     "data": {
      "text/html": [
       "<style scoped>\n",
       "  .ansiout {\n",
       "    display: block;\n",
       "    unicode-bidi: embed;\n",
       "    white-space: pre-wrap;\n",
       "    word-wrap: break-word;\n",
       "    word-break: break-all;\n",
       "    font-family: \"Menlo\", \"Monaco\", \"Consolas\", \"Ubuntu Mono\", \"Source Code Pro\", monospace;\n",
       "    font-size: 13px;\n",
       "    color: #555;\n",
       "    margin-left: 4px;\n",
       "    line-height: 19px;\n",
       "  }\n",
       "</style>\n",
       "<div class=\"ansiout\"></div>"
      ]
     },
     "metadata": {
      "application/vnd.databricks.v1+output": {
       "addedWidgets": {},
       "arguments": {},
       "data": "<div class=\"ansiout\"></div>",
       "datasetInfos": [],
       "metadata": {},
       "removedWidgets": [],
       "type": "html"
      }
     },
     "output_type": "display_data"
    }
   ],
   "source": [
    "# 87. months_between \n",
    "from pyspark.sql.functions import months_between\n",
    "#Help on function months_between in module pyspark.sql.functions"
   ]
  },
  {
   "cell_type": "code",
   "execution_count": 0,
   "metadata": {
    "application/vnd.databricks.v1+cell": {
     "cellMetadata": {},
     "inputWidgets": {},
     "nuid": "6298ea98-7398-489c-a7d4-9b81d14fa262",
     "showTitle": false,
     "title": ""
    },
    "colab": {
     "base_uri": "https://localhost:8080/",
     "height": 121
    },
    "colab_type": "code",
    "id": "GcaQF7kIlP5m",
    "outputId": "8aec9d3b-801d-4982-e26c-b5e90b4971bc"
   },
   "outputs": [
    {
     "output_type": "display_data",
     "data": {
      "text/html": [
       "<style scoped>\n",
       "  .ansiout {\n",
       "    display: block;\n",
       "    unicode-bidi: embed;\n",
       "    white-space: pre-wrap;\n",
       "    word-wrap: break-word;\n",
       "    word-break: break-all;\n",
       "    font-family: \"Menlo\", \"Monaco\", \"Consolas\", \"Ubuntu Mono\", \"Source Code Pro\", monospace;\n",
       "    font-size: 13px;\n",
       "    color: #555;\n",
       "    margin-left: 4px;\n",
       "    line-height: 19px;\n",
       "  }\n",
       "</style>\n",
       "<div class=\"ansiout\">+----------------------------+\n",
       "months_between(d2, d1, true)|\n",
       "+----------------------------+\n",
       "                  1.06451613|\n",
       "+----------------------------+\n",
       "\n",
       "</div>"
      ]
     },
     "metadata": {
      "application/vnd.databricks.v1+output": {
       "addedWidgets": {},
       "arguments": {},
       "data": "<div class=\"ansiout\">+----------------------------+\n|months_between(d2, d1, true)|\n+----------------------------+\n|                  1.06451613|\n+----------------------------+\n\n</div>",
       "datasetInfos": [],
       "metadata": {},
       "removedWidgets": [],
       "type": "html"
      }
     },
     "output_type": "display_data"
    }
   ],
   "source": [
    "df8.select(months_between(date1 = df8['d2'], date2 = df8['d1'], roundOff=True)).show()"
   ]
  },
  {
   "cell_type": "code",
   "execution_count": 0,
   "metadata": {
    "application/vnd.databricks.v1+cell": {
     "cellMetadata": {},
     "inputWidgets": {},
     "nuid": "b73ac459-62ec-4610-988b-43d32414ad0d",
     "showTitle": false,
     "title": ""
    },
    "colab": {
     "base_uri": "https://localhost:8080/",
     "height": 121
    },
    "colab_type": "code",
    "id": "O1Xslcl_leME",
    "outputId": "3bb2691c-3cea-44c4-ba33-abd25a9a6128"
   },
   "outputs": [
    {
     "output_type": "display_data",
     "data": {
      "text/html": [
       "<style scoped>\n",
       "  .ansiout {\n",
       "    display: block;\n",
       "    unicode-bidi: embed;\n",
       "    white-space: pre-wrap;\n",
       "    word-wrap: break-word;\n",
       "    word-break: break-all;\n",
       "    font-family: \"Menlo\", \"Monaco\", \"Consolas\", \"Ubuntu Mono\", \"Source Code Pro\", monospace;\n",
       "    font-size: 13px;\n",
       "    color: #555;\n",
       "    margin-left: 4px;\n",
       "    line-height: 19px;\n",
       "  }\n",
       "</style>\n",
       "<div class=\"ansiout\">+-------------------+\n",
       "                  t|\n",
       "+-------------------+\n",
       "1997-02-28 05:02:11|\n",
       "+-------------------+\n",
       "\n",
       "</div>"
      ]
     },
     "metadata": {
      "application/vnd.databricks.v1+output": {
       "addedWidgets": {},
       "arguments": {},
       "data": "<div class=\"ansiout\">+-------------------+\n|                  t|\n+-------------------+\n|1997-02-28 05:02:11|\n+-------------------+\n\n</div>",
       "datasetInfos": [],
       "metadata": {},
       "removedWidgets": [],
       "type": "html"
      }
     },
     "output_type": "display_data"
    }
   ],
   "source": [
    "df7.show()"
   ]
  },
  {
   "cell_type": "code",
   "execution_count": 0,
   "metadata": {
    "application/vnd.databricks.v1+cell": {
     "cellMetadata": {},
     "inputWidgets": {},
     "nuid": "d49033ee-aaaf-4b8d-8488-f9186fbaff52",
     "showTitle": false,
     "title": ""
    },
    "colab": {},
    "colab_type": "code",
    "id": "2Vbm6BBFmMNy"
   },
   "outputs": [
    {
     "output_type": "display_data",
     "data": {
      "text/html": [
       "<style scoped>\n",
       "  .ansiout {\n",
       "    display: block;\n",
       "    unicode-bidi: embed;\n",
       "    white-space: pre-wrap;\n",
       "    word-wrap: break-word;\n",
       "    word-break: break-all;\n",
       "    font-family: \"Menlo\", \"Monaco\", \"Consolas\", \"Ubuntu Mono\", \"Source Code Pro\", monospace;\n",
       "    font-size: 13px;\n",
       "    color: #555;\n",
       "    margin-left: 4px;\n",
       "    line-height: 19px;\n",
       "  }\n",
       "</style>\n",
       "<div class=\"ansiout\"></div>"
      ]
     },
     "metadata": {
      "application/vnd.databricks.v1+output": {
       "addedWidgets": {},
       "arguments": {},
       "data": "<div class=\"ansiout\"></div>",
       "datasetInfos": [
        {
         "name": "df20",
         "schema": {
          "fields": [
           {
            "metadata": {},
            "name": "a",
            "nullable": true,
            "type": "long"
           },
           {
            "metadata": {},
            "name": "b",
            "nullable": true,
            "type": "long"
           }
          ],
          "type": "struct"
         },
         "tableIdentifier": null,
         "typeStr": "pyspark.sql.dataframe.DataFrame"
        }
       ],
       "metadata": {},
       "removedWidgets": [],
       "type": "html"
      }
     },
     "output_type": "display_data"
    }
   ],
   "source": [
    "df20 = spark.createDataFrame(data=[[None, None],\n",
    "                                   [1, None], \n",
    "                                   [None, 2]] , \n",
    "                             schema=('a','b') )"
   ]
  },
  {
   "cell_type": "code",
   "execution_count": 0,
   "metadata": {
    "application/vnd.databricks.v1+cell": {
     "cellMetadata": {},
     "inputWidgets": {},
     "nuid": "ee90514c-c07d-48db-9a6a-c72978f408f8",
     "showTitle": false,
     "title": ""
    },
    "colab": {
     "base_uri": "https://localhost:8080/",
     "height": 155
    },
    "colab_type": "code",
    "id": "k12ej1iGmbJA",
    "outputId": "7b57d0ff-b9f8-4805-9f4c-a31e3e6dbb26"
   },
   "outputs": [
    {
     "output_type": "display_data",
     "data": {
      "text/html": [
       "<style scoped>\n",
       "  .ansiout {\n",
       "    display: block;\n",
       "    unicode-bidi: embed;\n",
       "    white-space: pre-wrap;\n",
       "    word-wrap: break-word;\n",
       "    word-break: break-all;\n",
       "    font-family: \"Menlo\", \"Monaco\", \"Consolas\", \"Ubuntu Mono\", \"Source Code Pro\", monospace;\n",
       "    font-size: 13px;\n",
       "    color: #555;\n",
       "    margin-left: 4px;\n",
       "    line-height: 19px;\n",
       "  }\n",
       "</style>\n",
       "<div class=\"ansiout\">+----+----+\n",
       "   a|   b|\n",
       "+----+----+\n",
       "null|null|\n",
       "   1|null|\n",
       "null|   2|\n",
       "+----+----+\n",
       "\n",
       "</div>"
      ]
     },
     "metadata": {
      "application/vnd.databricks.v1+output": {
       "addedWidgets": {},
       "arguments": {},
       "data": "<div class=\"ansiout\">+----+----+\n|   a|   b|\n+----+----+\n|null|null|\n|   1|null|\n|null|   2|\n+----+----+\n\n</div>",
       "datasetInfos": [],
       "metadata": {},
       "removedWidgets": [],
       "type": "html"
      }
     },
     "output_type": "display_data"
    }
   ],
   "source": [
    "df20.show()"
   ]
  },
  {
   "cell_type": "code",
   "execution_count": 0,
   "metadata": {
    "application/vnd.databricks.v1+cell": {
     "cellMetadata": {},
     "inputWidgets": {},
     "nuid": "d492a5c4-0991-4d96-a404-b09cb3d022fc",
     "showTitle": false,
     "title": ""
    },
    "colab": {},
    "colab_type": "code",
    "id": "qAZYmN2SmcLQ"
   },
   "outputs": [
    {
     "output_type": "display_data",
     "data": {
      "text/html": [
       "<style scoped>\n",
       "  .ansiout {\n",
       "    display: block;\n",
       "    unicode-bidi: embed;\n",
       "    white-space: pre-wrap;\n",
       "    word-wrap: break-word;\n",
       "    word-break: break-all;\n",
       "    font-family: \"Menlo\", \"Monaco\", \"Consolas\", \"Ubuntu Mono\", \"Source Code Pro\", monospace;\n",
       "    font-size: 13px;\n",
       "    color: #555;\n",
       "    margin-left: 4px;\n",
       "    line-height: 19px;\n",
       "  }\n",
       "</style>\n",
       "<div class=\"ansiout\"></div>"
      ]
     },
     "metadata": {
      "application/vnd.databricks.v1+output": {
       "addedWidgets": {},
       "arguments": {},
       "data": "<div class=\"ansiout\"></div>",
       "datasetInfos": [],
       "metadata": {},
       "removedWidgets": [],
       "type": "html"
      }
     },
     "output_type": "display_data"
    }
   ],
   "source": [
    "# 88. next_day\n",
    "from pyspark.sql.functions import next_day\n",
    "#Returns the first date which is later than the value of the date column."
   ]
  },
  {
   "cell_type": "code",
   "execution_count": 0,
   "metadata": {
    "application/vnd.databricks.v1+cell": {
     "cellMetadata": {},
     "inputWidgets": {},
     "nuid": "3c2fa7f9-791f-4740-9489-89f115a304dd",
     "showTitle": false,
     "title": ""
    },
    "colab": {
     "base_uri": "https://localhost:8080/",
     "height": 121
    },
    "colab_type": "code",
    "id": "gFdeIwnKmq8w",
    "outputId": "48cd4b1b-b2ab-4164-ae97-4b7e453f2586"
   },
   "outputs": [
    {
     "output_type": "display_data",
     "data": {
      "text/html": [
       "<style scoped>\n",
       "  .ansiout {\n",
       "    display: block;\n",
       "    unicode-bidi: embed;\n",
       "    white-space: pre-wrap;\n",
       "    word-wrap: break-word;\n",
       "    word-break: break-all;\n",
       "    font-family: \"Menlo\", \"Monaco\", \"Consolas\", \"Ubuntu Mono\", \"Source Code Pro\", monospace;\n",
       "    font-size: 13px;\n",
       "    color: #555;\n",
       "    margin-left: 4px;\n",
       "    line-height: 19px;\n",
       "  }\n",
       "</style>\n",
       "<div class=\"ansiout\">+------------+\n",
       "Next Tuesday|\n",
       "+------------+\n",
       "  1997-03-05|\n",
       "+------------+\n",
       "\n",
       "</div>"
      ]
     },
     "metadata": {
      "application/vnd.databricks.v1+output": {
       "addedWidgets": {},
       "arguments": {},
       "data": "<div class=\"ansiout\">+------------+\n|Next Tuesday|\n+------------+\n|  1997-03-05|\n+------------+\n\n</div>",
       "datasetInfos": [],
       "metadata": {},
       "removedWidgets": [],
       "type": "html"
      }
     },
     "output_type": "display_data"
    }
   ],
   "source": [
    "df7.select(next_day(date = df7['t'], dayOfWeek = 'wed').alias(\"Next Tuesday\")).show()"
   ]
  },
  {
   "cell_type": "code",
   "execution_count": 0,
   "metadata": {
    "application/vnd.databricks.v1+cell": {
     "cellMetadata": {},
     "inputWidgets": {},
     "nuid": "e6bf9f9e-8320-4d93-afc1-401c832c5939",
     "showTitle": false,
     "title": ""
    },
    "colab": {},
    "colab_type": "code",
    "id": "4KmIrmWoqqj4"
   },
   "outputs": [
    {
     "output_type": "display_data",
     "data": {
      "text/html": [
       "<style scoped>\n",
       "  .ansiout {\n",
       "    display: block;\n",
       "    unicode-bidi: embed;\n",
       "    white-space: pre-wrap;\n",
       "    word-wrap: break-word;\n",
       "    word-break: break-all;\n",
       "    font-family: \"Menlo\", \"Monaco\", \"Consolas\", \"Ubuntu Mono\", \"Source Code Pro\", monospace;\n",
       "    font-size: 13px;\n",
       "    color: #555;\n",
       "    margin-left: 4px;\n",
       "    line-height: 19px;\n",
       "  }\n",
       "</style>\n",
       "<div class=\"ansiout\"></div>"
      ]
     },
     "metadata": {
      "application/vnd.databricks.v1+output": {
       "addedWidgets": {},
       "arguments": {},
       "data": "<div class=\"ansiout\"></div>",
       "datasetInfos": [],
       "metadata": {},
       "removedWidgets": [],
       "type": "html"
      }
     },
     "output_type": "display_data"
    }
   ],
   "source": [
    "#89. ntile\n",
    "from pyspark.sql.functions import ntile\n",
    "#Window function: returns the ntile group id (from 1 to `n` inclusive) in an ordered window partition."
   ]
  },
  {
   "cell_type": "code",
   "execution_count": 0,
   "metadata": {
    "application/vnd.databricks.v1+cell": {
     "cellMetadata": {},
     "inputWidgets": {},
     "nuid": "7c942feb-7b72-487e-8e06-92898f895f5e",
     "showTitle": false,
     "title": ""
    },
    "colab": {
     "base_uri": "https://localhost:8080/",
     "height": 34
    },
    "colab_type": "code",
    "id": "U1TsE_uKnZPg",
    "outputId": "78e30afa-bc2c-4872-a58e-c75c0a67788f"
   },
   "outputs": [
    {
     "output_type": "display_data",
     "data": {
      "text/html": [
       "<style scoped>\n",
       "  .ansiout {\n",
       "    display: block;\n",
       "    unicode-bidi: embed;\n",
       "    white-space: pre-wrap;\n",
       "    word-wrap: break-word;\n",
       "    word-break: break-all;\n",
       "    font-family: \"Menlo\", \"Monaco\", \"Consolas\", \"Ubuntu Mono\", \"Source Code Pro\", monospace;\n",
       "    font-size: 13px;\n",
       "    color: #555;\n",
       "    margin-left: 4px;\n",
       "    line-height: 19px;\n",
       "  }\n",
       "</style>\n",
       "<div class=\"ansiout\">+----------+----+------+------+----+------+----+---------------------------------------------------------------------------------+\n",
       "total_bill| tip|   sex|smoker| day|  time|size|ntile(5) OVER (PARTITION BY day ORDER BY day ASC NULLS FIRST unspecifiedframe$())|\n",
       "+----------+----+------+------+----+------+----+---------------------------------------------------------------------------------+\n",
       "      27.2| 4.0|  Male|    No|Thur| Lunch|   4|                                                                                1|\n",
       "     22.76| 3.0|  Male|    No|Thur| Lunch|   2|                                                                                1|\n",
       "     17.29|2.71|  Male|    No|Thur| Lunch|   2|                                                                                1|\n",
       "     19.44| 3.0|  Male|   Yes|Thur| Lunch|   2|                                                                                1|\n",
       "     16.66| 3.4|  Male|    No|Thur| Lunch|   2|                                                                                1|\n",
       "     10.07|1.83|Female|    No|Thur| Lunch|   1|                                                                                1|\n",
       "     32.68| 5.0|  Male|   Yes|Thur| Lunch|   2|                                                                                1|\n",
       "     15.98|2.03|  Male|    No|Thur| Lunch|   2|                                                                                1|\n",
       "     34.83|5.17|Female|    No|Thur| Lunch|   4|                                                                                1|\n",
       "     13.03| 2.0|  Male|    No|Thur| Lunch|   2|                                                                                1|\n",
       "     18.28| 4.0|  Male|    No|Thur| Lunch|   2|                                                                                1|\n",
       "     24.71|5.85|  Male|    No|Thur| Lunch|   2|                                                                                1|\n",
       "     21.16| 3.0|  Male|    No|Thur| Lunch|   2|                                                                                1|\n",
       "     10.65| 1.5|Female|    No|Thur| Lunch|   2|                                                                                2|\n",
       "     12.43| 1.8|Female|    No|Thur| Lunch|   2|                                                                                2|\n",
       "     24.08|2.92|Female|    No|Thur| Lunch|   4|                                                                                2|\n",
       "     11.69|2.31|  Male|    No|Thur| Lunch|   2|                                                                                2|\n",
       "     13.42|1.68|Female|    No|Thur| Lunch|   2|                                                                                2|\n",
       "     14.26| 2.5|  Male|    No|Thur| Lunch|   2|                                                                                2|\n",
       "     15.95| 2.0|  Male|    No|Thur| Lunch|   2|                                                                                2|\n",
       "     12.48|2.52|Female|    No|Thur| Lunch|   2|                                                                                2|\n",
       "      29.8| 4.2|Female|    No|Thur| Lunch|   6|                                                                                2|\n",
       "      8.52|1.48|  Male|    No|Thur| Lunch|   2|                                                                                2|\n",
       "     14.52| 2.0|Female|    No|Thur| Lunch|   2|                                                                                2|\n",
       "     11.38| 2.0|Female|    No|Thur| Lunch|   2|                                                                                2|\n",
       "     22.82|2.18|  Male|    No|Thur| Lunch|   3|                                                                                2|\n",
       "     19.08| 1.5|  Male|    No|Thur| Lunch|   2|                                                                                3|\n",
       "     20.27|2.83|Female|    No|Thur| Lunch|   2|                                                                                3|\n",
       "     11.17| 1.5|Female|    No|Thur| Lunch|   2|                                                                                3|\n",
       "     12.26| 2.0|Female|    No|Thur| Lunch|   2|                                                                                3|\n",
       "     18.26|3.25|Female|    No|Thur| Lunch|   2|                                                                                3|\n",
       "      8.51|1.25|Female|    No|Thur| Lunch|   2|                                                                                3|\n",
       "     10.33| 2.0|Female|    No|Thur| Lunch|   2|                                                                                3|\n",
       "     14.15| 2.0|Female|    No|Thur| Lunch|   2|                                                                                3|\n",
       "      16.0| 2.0|  Male|   Yes|Thur| Lunch|   2|                                                                                3|\n",
       "     13.16|2.75|Female|    No|Thur| Lunch|   2|                                                                                3|\n",
       "     17.47| 3.5|Female|    No|Thur| Lunch|   2|                                                                                3|\n",
       "      34.3| 6.7|  Male|    No|Thur| Lunch|   6|                                                                                3|\n",
       "     41.19| 5.0|  Male|    No|Thur| Lunch|   5|                                                                                4|\n",
       "     27.05| 5.0|Female|    No|Thur| Lunch|   6|                                                                                4|\n",
       "     16.43| 2.3|Female|    No|Thur| Lunch|   2|                                                                                4|\n",
       "      8.35| 1.5|Female|    No|Thur| Lunch|   2|                                                                                4|\n",
       "     18.64|1.36|Female|    No|Thur| Lunch|   3|                                                                                4|\n",
       "     11.87|1.63|Female|    No|Thur| Lunch|   2|                                                                                4|\n",
       "      9.78|1.73|  Male|    No|Thur| Lunch|   2|                                                                                4|\n",
       "      7.51| 2.0|  Male|    No|Thur| Lunch|   2|                                                                                4|\n",
       "     19.81|4.19|Female|   Yes|Thur| Lunch|   2|                                                                                4|\n",
       "     28.44|2.56|  Male|   Yes|Thur| Lunch|   2|                                                                                4|\n",
       "     15.48|2.02|  Male|   Yes|Thur| Lunch|   2|                                                                                4|\n",
       "     16.58| 4.0|  Male|   Yes|Thur| Lunch|   2|                                                                                4|\n",
       "      7.56|1.44|  Male|    No|Thur| Lunch|   2|                                                                                5|\n",
       "     10.34| 2.0|  Male|   Yes|Thur| Lunch|   2|                                                                                5|\n",
       "     43.11| 5.0|Female|   Yes|Thur| Lunch|   4|                                                                                5|\n",
       "      13.0| 2.0|Female|   Yes|Thur| Lunch|   2|                                                                                5|\n",
       "     13.51| 2.0|  Male|   Yes|Thur| Lunch|   2|                                                                                5|\n",
       "     18.71| 4.0|  Male|   Yes|Thur| Lunch|   3|                                                                                5|\n",
       "     12.74|2.01|Female|   Yes|Thur| Lunch|   2|                                                                                5|\n",
       "      13.0| 2.0|Female|   Yes|Thur| Lunch|   2|                                                                                5|\n",
       "      16.4| 2.5|Female|   Yes|Thur| Lunch|   2|                                                                                5|\n",
       "     20.53| 4.0|  Male|   Yes|Thur| Lunch|   4|                                                                                5|\n",
       "     16.47|3.23|Female|   Yes|Thur| Lunch|   3|                                                                                5|\n",
       "     18.78| 3.0|Female|    No|Thur|Dinner|   2|                                                                                5|\n",
       "     16.99|1.01|Female|    No| Sun|Dinner|   2|                                                                                1|\n",
       "     10.34|1.66|  Male|    No| Sun|Dinner|   3|                                                                                1|\n",
       "     21.01| 3.5|  Male|    No| Sun|Dinner|   3|                                                                                1|\n",
       "     23.68|3.31|  Male|    No| Sun|Dinner|   2|                                                                                1|\n",
       "     24.59|3.61|Female|    No| Sun|Dinner|   4|                                                                                1|\n",
       "     25.29|4.71|  Male|    No| Sun|Dinner|   4|                                                                                1|\n",
       "      8.77| 2.0|  Male|    No| Sun|Dinner|   2|                                                                                1|\n",
       "     26.88|3.12|  Male|    No| Sun|Dinner|   4|                                                                                1|\n",
       "     15.04|1.96|  Male|    No| Sun|Dinner|   2|                                                                                1|\n",
       "     14.78|3.23|  Male|    No| Sun|Dinner|   2|                                                                                1|\n",
       "     10.27|1.71|  Male|    No| Sun|Dinner|   2|                                                                                1|\n",
       "     35.26| 5.0|Female|    No| Sun|Dinner|   4|                                                                                1|\n",
       "     15.42|1.57|  Male|    No| Sun|Dinner|   2|                                                                                1|\n",
       "     18.43| 3.0|  Male|    No| Sun|Dinner|   4|                                                                                1|\n",
       "     14.83|3.02|Female|    No| Sun|Dinner|   2|                                                                                1|\n",
       "     21.58|3.92|  Male|    No| Sun|Dinner|   2|                                                                                1|\n",
       "     10.33|1.67|Female|    No| Sun|Dinner|   3|                                                                                2|\n",
       "     16.29|3.71|  Male|    No| Sun|Dinner|   3|                                                                                2|\n",
       "     16.97| 3.5|Female|    No| Sun|Dinner|   3|                                                                                2|\n",
       "     17.46|2.54|  Male|    No| Sun|Dinner|   2|                                                                                2|\n",
       "     13.94|3.06|  Male|    No| Sun|Dinner|   2|                                                                                2|\n",
       "      9.68|1.32|  Male|    No| Sun|Dinner|   2|                                                                                2|\n",
       "      30.4| 5.6|  Male|    No| Sun|Dinner|   4|                                                                                2|\n",
       "     18.29| 3.0|  Male|    No| Sun|Dinner|   2|                                                                                2|\n",
       "     22.23| 5.0|  Male|    No| Sun|Dinner|   2|                                                                                2|\n",
       "      32.4| 6.0|  Male|    No| Sun|Dinner|   4|                                                                                2|\n",
       "     28.55|2.05|  Male|    No| Sun|Dinner|   3|                                                                                2|\n",
       "     18.04| 3.0|  Male|    No| Sun|Dinner|   2|                                                                                2|\n",
       "     12.54| 2.5|  Male|    No| Sun|Dinner|   2|                                                                                2|\n",
       "     10.29| 2.6|Female|    No| Sun|Dinner|   2|                                                                                2|\n",
       "     34.81| 5.2|Female|    No| Sun|Dinner|   4|                                                                                2|\n",
       "      9.94|1.56|  Male|    No| Sun|Dinner|   2|                                                                                3|\n",
       "     25.56|4.34|  Male|    No| Sun|Dinner|   4|                                                                                3|\n",
       "     19.49|3.51|  Male|    No| Sun|Dinner|   2|                                                                                3|\n",
       "     38.07| 4.0|  Male|    No| Sun|Dinner|   3|                                                                                3|\n",
       "     23.95|2.55|  Male|    No| Sun|Dinner|   2|                                                                                3|\n",
       "     25.71| 4.0|Female|    No| Sun|Dinner|   3|                                                                                3|\n",
       "     17.31| 3.5|Female|    No| Sun|Dinner|   2|                                                                                3|\n",
       "+----------+----+------+------+----+------+----+---------------------------------------------------------------------------------+\n",
       "only showing top 100 rows\n",
       "\n",
       "</div>"
      ]
     },
     "metadata": {
      "application/vnd.databricks.v1+output": {
       "addedWidgets": {},
       "arguments": {},
       "data": "<div class=\"ansiout\">+----------+----+------+------+----+------+----+---------------------------------------------------------------------------------+\n|total_bill| tip|   sex|smoker| day|  time|size|ntile(5) OVER (PARTITION BY day ORDER BY day ASC NULLS FIRST unspecifiedframe$())|\n+----------+----+------+------+----+------+----+---------------------------------------------------------------------------------+\n|      27.2| 4.0|  Male|    No|Thur| Lunch|   4|                                                                                1|\n|     22.76| 3.0|  Male|    No|Thur| Lunch|   2|                                                                                1|\n|     17.29|2.71|  Male|    No|Thur| Lunch|   2|                                                                                1|\n|     19.44| 3.0|  Male|   Yes|Thur| Lunch|   2|                                                                                1|\n|     16.66| 3.4|  Male|    No|Thur| Lunch|   2|                                                                                1|\n|     10.07|1.83|Female|    No|Thur| Lunch|   1|                                                                                1|\n|     32.68| 5.0|  Male|   Yes|Thur| Lunch|   2|                                                                                1|\n|     15.98|2.03|  Male|    No|Thur| Lunch|   2|                                                                                1|\n|     34.83|5.17|Female|    No|Thur| Lunch|   4|                                                                                1|\n|     13.03| 2.0|  Male|    No|Thur| Lunch|   2|                                                                                1|\n|     18.28| 4.0|  Male|    No|Thur| Lunch|   2|                                                                                1|\n|     24.71|5.85|  Male|    No|Thur| Lunch|   2|                                                                                1|\n|     21.16| 3.0|  Male|    No|Thur| Lunch|   2|                                                                                1|\n|     10.65| 1.5|Female|    No|Thur| Lunch|   2|                                                                                2|\n|     12.43| 1.8|Female|    No|Thur| Lunch|   2|                                                                                2|\n|     24.08|2.92|Female|    No|Thur| Lunch|   4|                                                                                2|\n|     11.69|2.31|  Male|    No|Thur| Lunch|   2|                                                                                2|\n|     13.42|1.68|Female|    No|Thur| Lunch|   2|                                                                                2|\n|     14.26| 2.5|  Male|    No|Thur| Lunch|   2|                                                                                2|\n|     15.95| 2.0|  Male|    No|Thur| Lunch|   2|                                                                                2|\n|     12.48|2.52|Female|    No|Thur| Lunch|   2|                                                                                2|\n|      29.8| 4.2|Female|    No|Thur| Lunch|   6|                                                                                2|\n|      8.52|1.48|  Male|    No|Thur| Lunch|   2|                                                                                2|\n|     14.52| 2.0|Female|    No|Thur| Lunch|   2|                                                                                2|\n|     11.38| 2.0|Female|    No|Thur| Lunch|   2|                                                                                2|\n|     22.82|2.18|  Male|    No|Thur| Lunch|   3|                                                                                2|\n|     19.08| 1.5|  Male|    No|Thur| Lunch|   2|                                                                                3|\n|     20.27|2.83|Female|    No|Thur| Lunch|   2|                                                                                3|\n|     11.17| 1.5|Female|    No|Thur| Lunch|   2|                                                                                3|\n|     12.26| 2.0|Female|    No|Thur| Lunch|   2|                                                                                3|\n|     18.26|3.25|Female|    No|Thur| Lunch|   2|                                                                                3|\n|      8.51|1.25|Female|    No|Thur| Lunch|   2|                                                                                3|\n|     10.33| 2.0|Female|    No|Thur| Lunch|   2|                                                                                3|\n|     14.15| 2.0|Female|    No|Thur| Lunch|   2|                                                                                3|\n|      16.0| 2.0|  Male|   Yes|Thur| Lunch|   2|                                                                                3|\n|     13.16|2.75|Female|    No|Thur| Lunch|   2|                                                                                3|\n|     17.47| 3.5|Female|    No|Thur| Lunch|   2|                                                                                3|\n|      34.3| 6.7|  Male|    No|Thur| Lunch|   6|                                                                                3|\n|     41.19| 5.0|  Male|    No|Thur| Lunch|   5|                                                                                4|\n|     27.05| 5.0|Female|    No|Thur| Lunch|   6|                                                                                4|\n|     16.43| 2.3|Female|    No|Thur| Lunch|   2|                                                                                4|\n|      8.35| 1.5|Female|    No|Thur| Lunch|   2|                                                                                4|\n|     18.64|1.36|Female|    No|Thur| Lunch|   3|                                                                                4|\n|     11.87|1.63|Female|    No|Thur| Lunch|   2|                                                                                4|\n|      9.78|1.73|  Male|    No|Thur| Lunch|   2|                                                                                4|\n|      7.51| 2.0|  Male|    No|Thur| Lunch|   2|                                                                                4|\n|     19.81|4.19|Female|   Yes|Thur| Lunch|   2|                                                                                4|\n|     28.44|2.56|  Male|   Yes|Thur| Lunch|   2|                                                                                4|\n|     15.48|2.02|  Male|   Yes|Thur| Lunch|   2|                                                                                4|\n|     16.58| 4.0|  Male|   Yes|Thur| Lunch|   2|                                                                                4|\n|      7.56|1.44|  Male|    No|Thur| Lunch|   2|                                                                                5|\n|     10.34| 2.0|  Male|   Yes|Thur| Lunch|   2|                                                                                5|\n|     43.11| 5.0|Female|   Yes|Thur| Lunch|   4|                                                                                5|\n|      13.0| 2.0|Female|   Yes|Thur| Lunch|   2|                                                                                5|\n|     13.51| 2.0|  Male|   Yes|Thur| Lunch|   2|                                                                                5|\n|     18.71| 4.0|  Male|   Yes|Thur| Lunch|   3|                                                                                5|\n|     12.74|2.01|Female|   Yes|Thur| Lunch|   2|                                                                                5|\n|      13.0| 2.0|Female|   Yes|Thur| Lunch|   2|                                                                                5|\n|      16.4| 2.5|Female|   Yes|Thur| Lunch|   2|                                                                                5|\n|     20.53| 4.0|  Male|   Yes|Thur| Lunch|   4|                                                                                5|\n|     16.47|3.23|Female|   Yes|Thur| Lunch|   3|                                                                                5|\n|     18.78| 3.0|Female|    No|Thur|Dinner|   2|                                                                                5|\n|     16.99|1.01|Female|    No| Sun|Dinner|   2|                                                                                1|\n|     10.34|1.66|  Male|    No| Sun|Dinner|   3|                                                                                1|\n|     21.01| 3.5|  Male|    No| Sun|Dinner|   3|                                                                                1|\n|     23.68|3.31|  Male|    No| Sun|Dinner|   2|                                                                                1|\n|     24.59|3.61|Female|    No| Sun|Dinner|   4|                                                                                1|\n|     25.29|4.71|  Male|    No| Sun|Dinner|   4|                                                                                1|\n|      8.77| 2.0|  Male|    No| Sun|Dinner|   2|                                                                                1|\n|     26.88|3.12|  Male|    No| Sun|Dinner|   4|                                                                                1|\n|     15.04|1.96|  Male|    No| Sun|Dinner|   2|                                                                                1|\n|     14.78|3.23|  Male|    No| Sun|Dinner|   2|                                                                                1|\n|     10.27|1.71|  Male|    No| Sun|Dinner|   2|                                                                                1|\n|     35.26| 5.0|Female|    No| Sun|Dinner|   4|                                                                                1|\n|     15.42|1.57|  Male|    No| Sun|Dinner|   2|                                                                                1|\n|     18.43| 3.0|  Male|    No| Sun|Dinner|   4|                                                                                1|\n|     14.83|3.02|Female|    No| Sun|Dinner|   2|                                                                                1|\n|     21.58|3.92|  Male|    No| Sun|Dinner|   2|                                                                                1|\n|     10.33|1.67|Female|    No| Sun|Dinner|   3|                                                                                2|\n|     16.29|3.71|  Male|    No| Sun|Dinner|   3|                                                                                2|\n|     16.97| 3.5|Female|    No| Sun|Dinner|   3|                                                                                2|\n|     17.46|2.54|  Male|    No| Sun|Dinner|   2|                                                                                2|\n|     13.94|3.06|  Male|    No| Sun|Dinner|   2|                                                                                2|\n|      9.68|1.32|  Male|    No| Sun|Dinner|   2|                                                                                2|\n|      30.4| 5.6|  Male|    No| Sun|Dinner|   4|                                                                                2|\n|     18.29| 3.0|  Male|    No| Sun|Dinner|   2|                                                                                2|\n|     22.23| 5.0|  Male|    No| Sun|Dinner|   2|                                                                                2|\n|      32.4| 6.0|  Male|    No| Sun|Dinner|   4|                                                                                2|\n|     28.55|2.05|  Male|    No| Sun|Dinner|   3|                                                                                2|\n|     18.04| 3.0|  Male|    No| Sun|Dinner|   2|                                                                                2|\n|     12.54| 2.5|  Male|    No| Sun|Dinner|   2|                                                                                2|\n|     10.29| 2.6|Female|    No| Sun|Dinner|   2|                                                                                2|\n|     34.81| 5.2|Female|    No| Sun|Dinner|   4|                                                                                2|\n|      9.94|1.56|  Male|    No| Sun|Dinner|   2|                                                                                3|\n|     25.56|4.34|  Male|    No| Sun|Dinner|   4|                                                                                3|\n|     19.49|3.51|  Male|    No| Sun|Dinner|   2|                                                                                3|\n|     38.07| 4.0|  Male|    No| Sun|Dinner|   3|                                                                                3|\n|     23.95|2.55|  Male|    No| Sun|Dinner|   2|                                                                                3|\n|     25.71| 4.0|Female|    No| Sun|Dinner|   3|                                                                                3|\n|     17.31| 3.5|Female|    No| Sun|Dinner|   2|                                                                                3|\n+----------+----+------+------+----+------+----+---------------------------------------------------------------------------------+\nonly showing top 100 rows\n\n</div>",
       "datasetInfos": [],
       "metadata": {},
       "removedWidgets": [],
       "type": "html"
      }
     },
     "output_type": "display_data"
    }
   ],
   "source": [
    "tipss.select(\"*\",ntile(n=5).over(Window.partitionBy('day').orderBy('day'))).show(100)"
   ]
  },
  {
   "cell_type": "code",
   "execution_count": 0,
   "metadata": {
    "application/vnd.databricks.v1+cell": {
     "cellMetadata": {},
     "inputWidgets": {},
     "nuid": "292bce0d-123f-40f4-8355-ec4cd5ef5a36",
     "showTitle": false,
     "title": ""
    },
    "colab": {},
    "colab_type": "code",
    "id": "dzCjnziKoO35"
   },
   "outputs": [
    {
     "output_type": "display_data",
     "data": {
      "text/html": [
       "<style scoped>\n",
       "  .ansiout {\n",
       "    display: block;\n",
       "    unicode-bidi: embed;\n",
       "    white-space: pre-wrap;\n",
       "    word-wrap: break-word;\n",
       "    word-break: break-all;\n",
       "    font-family: \"Menlo\", \"Monaco\", \"Consolas\", \"Ubuntu Mono\", \"Source Code Pro\", monospace;\n",
       "    font-size: 13px;\n",
       "    color: #555;\n",
       "    margin-left: 4px;\n",
       "    line-height: 19px;\n",
       "  }\n",
       "</style>\n",
       "<div class=\"ansiout\">+----------+----+------+------+---+------+----+\n",
       "total_bill| tip|   sex|smoker|day|  time|size|\n",
       "+----------+----+------+------+---+------+----+\n",
       "     16.99|1.01|Female|    No|Sun|Dinner|   2|\n",
       "     10.34|1.66|  Male|    No|Sun|Dinner|   3|\n",
       "     21.01| 3.5|  Male|    No|Sun|Dinner|   3|\n",
       "     23.68|3.31|  Male|    No|Sun|Dinner|   2|\n",
       "     24.59|3.61|Female|    No|Sun|Dinner|   4|\n",
       "     25.29|4.71|  Male|    No|Sun|Dinner|   4|\n",
       "      8.77| 2.0|  Male|    No|Sun|Dinner|   2|\n",
       "     26.88|3.12|  Male|    No|Sun|Dinner|   4|\n",
       "     15.04|1.96|  Male|    No|Sun|Dinner|   2|\n",
       "     14.78|3.23|  Male|    No|Sun|Dinner|   2|\n",
       "     10.27|1.71|  Male|    No|Sun|Dinner|   2|\n",
       "     35.26| 5.0|Female|    No|Sun|Dinner|   4|\n",
       "     15.42|1.57|  Male|    No|Sun|Dinner|   2|\n",
       "     18.43| 3.0|  Male|    No|Sun|Dinner|   4|\n",
       "     14.83|3.02|Female|    No|Sun|Dinner|   2|\n",
       "     21.58|3.92|  Male|    No|Sun|Dinner|   2|\n",
       "     10.33|1.67|Female|    No|Sun|Dinner|   3|\n",
       "     16.29|3.71|  Male|    No|Sun|Dinner|   3|\n",
       "     16.97| 3.5|Female|    No|Sun|Dinner|   3|\n",
       "     20.65|3.35|  Male|    No|Sat|Dinner|   3|\n",
       "+----------+----+------+------+---+------+----+\n",
       "only showing top 20 rows\n",
       "\n",
       "</div>"
      ]
     },
     "metadata": {
      "application/vnd.databricks.v1+output": {
       "addedWidgets": {},
       "arguments": {},
       "data": "<div class=\"ansiout\">+----------+----+------+------+---+------+----+\n|total_bill| tip|   sex|smoker|day|  time|size|\n+----------+----+------+------+---+------+----+\n|     16.99|1.01|Female|    No|Sun|Dinner|   2|\n|     10.34|1.66|  Male|    No|Sun|Dinner|   3|\n|     21.01| 3.5|  Male|    No|Sun|Dinner|   3|\n|     23.68|3.31|  Male|    No|Sun|Dinner|   2|\n|     24.59|3.61|Female|    No|Sun|Dinner|   4|\n|     25.29|4.71|  Male|    No|Sun|Dinner|   4|\n|      8.77| 2.0|  Male|    No|Sun|Dinner|   2|\n|     26.88|3.12|  Male|    No|Sun|Dinner|   4|\n|     15.04|1.96|  Male|    No|Sun|Dinner|   2|\n|     14.78|3.23|  Male|    No|Sun|Dinner|   2|\n|     10.27|1.71|  Male|    No|Sun|Dinner|   2|\n|     35.26| 5.0|Female|    No|Sun|Dinner|   4|\n|     15.42|1.57|  Male|    No|Sun|Dinner|   2|\n|     18.43| 3.0|  Male|    No|Sun|Dinner|   4|\n|     14.83|3.02|Female|    No|Sun|Dinner|   2|\n|     21.58|3.92|  Male|    No|Sun|Dinner|   2|\n|     10.33|1.67|Female|    No|Sun|Dinner|   3|\n|     16.29|3.71|  Male|    No|Sun|Dinner|   3|\n|     16.97| 3.5|Female|    No|Sun|Dinner|   3|\n|     20.65|3.35|  Male|    No|Sat|Dinner|   3|\n+----------+----+------+------+---+------+----+\nonly showing top 20 rows\n\n</div>",
       "datasetInfos": [],
       "metadata": {},
       "removedWidgets": [],
       "type": "html"
      }
     },
     "output_type": "display_data"
    }
   ],
   "source": [
    "tipss.show()"
   ]
  },
  {
   "cell_type": "code",
   "execution_count": 0,
   "metadata": {
    "application/vnd.databricks.v1+cell": {
     "cellMetadata": {},
     "inputWidgets": {},
     "nuid": "f52af14b-8989-4928-8b0c-b46aa908f3e7",
     "showTitle": false,
     "title": ""
    },
    "colab": {},
    "colab_type": "code",
    "id": "pvHzoulRnsHY"
   },
   "outputs": [
    {
     "output_type": "display_data",
     "data": {
      "text/html": [
       "<style scoped>\n",
       "  .ansiout {\n",
       "    display: block;\n",
       "    unicode-bidi: embed;\n",
       "    white-space: pre-wrap;\n",
       "    word-wrap: break-word;\n",
       "    word-break: break-all;\n",
       "    font-family: \"Menlo\", \"Monaco\", \"Consolas\", \"Ubuntu Mono\", \"Source Code Pro\", monospace;\n",
       "    font-size: 13px;\n",
       "    color: #555;\n",
       "    margin-left: 4px;\n",
       "    line-height: 19px;\n",
       "  }\n",
       "</style>\n",
       "<div class=\"ansiout\"></div>"
      ]
     },
     "metadata": {
      "application/vnd.databricks.v1+output": {
       "addedWidgets": {},
       "arguments": {},
       "data": "<div class=\"ansiout\"></div>",
       "datasetInfos": [],
       "metadata": {},
       "removedWidgets": [],
       "type": "html"
      }
     },
     "output_type": "display_data"
    }
   ],
   "source": [
    "# 90. pandas_udf\n",
    "from pyspark.sql.functions import pandas_udf, PandasUDFType\n",
    "import pandas as pd\n",
    "import numpy as np\n",
    "from pyspark.sql.types import IntegerType, StringType, FloatType"
   ]
  },
  {
   "cell_type": "code",
   "execution_count": 0,
   "metadata": {
    "application/vnd.databricks.v1+cell": {
     "cellMetadata": {},
     "inputWidgets": {},
     "nuid": "451f0ab4-a07b-4a7b-95d8-5c9a56389726",
     "showTitle": false,
     "title": ""
    }
   },
   "outputs": [
    {
     "output_type": "display_data",
     "data": {
      "text/html": [
       "<style scoped>\n",
       "  .ansiout {\n",
       "    display: block;\n",
       "    unicode-bidi: embed;\n",
       "    white-space: pre-wrap;\n",
       "    word-wrap: break-word;\n",
       "    word-break: break-all;\n",
       "    font-family: \"Menlo\", \"Monaco\", \"Consolas\", \"Ubuntu Mono\", \"Source Code Pro\", monospace;\n",
       "    font-size: 13px;\n",
       "    color: #555;\n",
       "    margin-left: 4px;\n",
       "    line-height: 19px;\n",
       "  }\n",
       "</style>\n",
       "<div class=\"ansiout\"></div>"
      ]
     },
     "metadata": {
      "application/vnd.databricks.v1+output": {
       "addedWidgets": {},
       "arguments": {},
       "data": "<div class=\"ansiout\"></div>",
       "datasetInfos": [],
       "metadata": {},
       "removedWidgets": [],
       "type": "html"
      }
     },
     "output_type": "display_data"
    }
   ],
   "source": [
    "str_lower = pandas_udf(lambda p : p.str.lower(), StringType())"
   ]
  },
  {
   "cell_type": "code",
   "execution_count": 0,
   "metadata": {
    "application/vnd.databricks.v1+cell": {
     "cellMetadata": {},
     "inputWidgets": {},
     "nuid": "f432b09c-b776-4f31-a11f-0d30049aeb07",
     "showTitle": false,
     "title": ""
    }
   },
   "outputs": [
    {
     "output_type": "display_data",
     "data": {
      "text/html": [
       "<style scoped>\n",
       "  .ansiout {\n",
       "    display: block;\n",
       "    unicode-bidi: embed;\n",
       "    white-space: pre-wrap;\n",
       "    word-wrap: break-word;\n",
       "    word-break: break-all;\n",
       "    font-family: \"Menlo\", \"Monaco\", \"Consolas\", \"Ubuntu Mono\", \"Source Code Pro\", monospace;\n",
       "    font-size: 13px;\n",
       "    color: #555;\n",
       "    margin-left: 4px;\n",
       "    line-height: 19px;\n",
       "  }\n",
       "</style>\n",
       "<div class=\"ansiout\">+-------------+\n",
       "&lt;lambda&gt;(sex)|\n",
       "+-------------+\n",
       "       female|\n",
       "         male|\n",
       "         male|\n",
       "         male|\n",
       "       female|\n",
       "         male|\n",
       "         male|\n",
       "         male|\n",
       "         male|\n",
       "         male|\n",
       "         male|\n",
       "       female|\n",
       "         male|\n",
       "         male|\n",
       "       female|\n",
       "         male|\n",
       "       female|\n",
       "         male|\n",
       "       female|\n",
       "         male|\n",
       "+-------------+\n",
       "only showing top 20 rows\n",
       "\n",
       "</div>"
      ]
     },
     "metadata": {
      "application/vnd.databricks.v1+output": {
       "addedWidgets": {},
       "arguments": {},
       "data": "<div class=\"ansiout\">+-------------+\n|&lt;lambda&gt;(sex)|\n+-------------+\n|       female|\n|         male|\n|         male|\n|         male|\n|       female|\n|         male|\n|         male|\n|         male|\n|         male|\n|         male|\n|         male|\n|       female|\n|         male|\n|         male|\n|       female|\n|         male|\n|       female|\n|         male|\n|       female|\n|         male|\n+-------------+\nonly showing top 20 rows\n\n</div>",
       "datasetInfos": [],
       "metadata": {},
       "removedWidgets": [],
       "type": "html"
      }
     },
     "output_type": "display_data"
    }
   ],
   "source": [
    "tipss.select(str_lower(tipss['sex'])).show()"
   ]
  },
  {
   "cell_type": "code",
   "execution_count": 0,
   "metadata": {
    "application/vnd.databricks.v1+cell": {
     "cellMetadata": {},
     "inputWidgets": {},
     "nuid": "2592d145-259f-48bc-8195-91c36009afc4",
     "showTitle": false,
     "title": ""
    }
   },
   "outputs": [
    {
     "output_type": "display_data",
     "data": {
      "text/html": [
       "<style scoped>\n",
       "  .ansiout {\n",
       "    display: block;\n",
       "    unicode-bidi: embed;\n",
       "    white-space: pre-wrap;\n",
       "    word-wrap: break-word;\n",
       "    word-break: break-all;\n",
       "    font-family: \"Menlo\", \"Monaco\", \"Consolas\", \"Ubuntu Mono\", \"Source Code Pro\", monospace;\n",
       "    font-size: 13px;\n",
       "    color: #555;\n",
       "    margin-left: 4px;\n",
       "    line-height: 19px;\n",
       "  }\n",
       "</style>\n",
       "<div class=\"ansiout\"></div>"
      ]
     },
     "metadata": {
      "application/vnd.databricks.v1+output": {
       "addedWidgets": {},
       "arguments": {},
       "data": "<div class=\"ansiout\"></div>",
       "datasetInfos": [],
       "metadata": {},
       "removedWidgets": [],
       "type": "html"
      }
     },
     "output_type": "display_data"
    }
   ],
   "source": [
    "def tip_sex_std(df):\n",
    "  return df.groupby('sex').agg({'tip' : lambda p : np.std(p)})"
   ]
  },
  {
   "cell_type": "code",
   "execution_count": 0,
   "metadata": {
    "application/vnd.databricks.v1+cell": {
     "cellMetadata": {},
     "inputWidgets": {},
     "nuid": "20388b0b-562b-464e-a84c-405238d0351f",
     "showTitle": false,
     "title": ""
    }
   },
   "outputs": [
    {
     "output_type": "display_data",
     "data": {
      "text/html": [
       "<div>\n",
       "<style scoped>\n",
       "    .dataframe tbody tr th:only-of-type {\n",
       "        vertical-align: middle;\n",
       "    }\n",
       "\n",
       "    .dataframe tbody tr th {\n",
       "        vertical-align: top;\n",
       "    }\n",
       "\n",
       "    .dataframe thead th {\n",
       "        text-align: right;\n",
       "    }\n",
       "</style>\n",
       "<table border=\"1\" class=\"dataframe\">\n",
       "  <thead>\n",
       "    <tr style=\"text-align: right;\">\n",
       "      <th></th>\n",
       "      <th>tip</th>\n",
       "    </tr>\n",
       "    <tr>\n",
       "      <th>sex</th>\n",
       "      <th></th>\n",
       "    </tr>\n",
       "  </thead>\n",
       "  <tbody>\n",
       "    <tr>\n",
       "      <th>Male</th>\n",
       "      <td>1.484352</td>\n",
       "    </tr>\n",
       "    <tr>\n",
       "      <th>Female</th>\n",
       "      <td>1.152811</td>\n",
       "    </tr>\n",
       "  </tbody>\n",
       "</table>\n",
       "</div>"
      ]
     },
     "metadata": {
      "application/vnd.databricks.v1+output": {
       "addedWidgets": {},
       "arguments": {},
       "data": "<div>\n<style scoped>\n    .dataframe tbody tr th:only-of-type {\n        vertical-align: middle;\n    }\n\n    .dataframe tbody tr th {\n        vertical-align: top;\n    }\n\n    .dataframe thead th {\n        text-align: right;\n    }\n</style>\n<table border=\"1\" class=\"dataframe\">\n  <thead>\n    <tr style=\"text-align: right;\">\n      <th></th>\n      <th>tip</th>\n    </tr>\n    <tr>\n      <th>sex</th>\n      <th></th>\n    </tr>\n  </thead>\n  <tbody>\n    <tr>\n      <th>Male</th>\n      <td>1.484352</td>\n    </tr>\n    <tr>\n      <th>Female</th>\n      <td>1.152811</td>\n    </tr>\n  </tbody>\n</table>\n</div>",
       "datasetInfos": [],
       "metadata": {},
       "removedWidgets": [],
       "textData": "<div class=\"ansiout\">Out[417]: </div>",
       "type": "htmlSandbox"
      }
     },
     "output_type": "display_data"
    }
   ],
   "source": [
    "tip_sex_std(df = tips)"
   ]
  },
  {
   "cell_type": "code",
   "execution_count": 0,
   "metadata": {
    "application/vnd.databricks.v1+cell": {
     "cellMetadata": {},
     "inputWidgets": {},
     "nuid": "7c0dbfed-328f-4c6b-b925-baacc2386bfa",
     "showTitle": false,
     "title": ""
    }
   },
   "outputs": [
    {
     "output_type": "display_data",
     "data": {
      "text/html": [
       "<style scoped>\n",
       "  .ansiout {\n",
       "    display: block;\n",
       "    unicode-bidi: embed;\n",
       "    white-space: pre-wrap;\n",
       "    word-wrap: break-word;\n",
       "    word-break: break-all;\n",
       "    font-family: \"Menlo\", \"Monaco\", \"Consolas\", \"Ubuntu Mono\", \"Source Code Pro\", monospace;\n",
       "    font-size: 13px;\n",
       "    color: #555;\n",
       "    margin-left: 4px;\n",
       "    line-height: 19px;\n",
       "  }\n",
       "</style>\n",
       "<div class=\"ansiout\"></div>"
      ]
     },
     "metadata": {
      "application/vnd.databricks.v1+output": {
       "addedWidgets": {},
       "arguments": {},
       "data": "<div class=\"ansiout\"></div>",
       "datasetInfos": [
        {
         "name": "df21",
         "schema": {
          "fields": [
           {
            "metadata": {},
            "name": "id",
            "nullable": true,
            "type": "long"
           },
           {
            "metadata": {},
            "name": "v",
            "nullable": true,
            "type": "double"
           }
          ],
          "type": "struct"
         },
         "tableIdentifier": null,
         "typeStr": "pyspark.sql.dataframe.DataFrame"
        }
       ],
       "metadata": {},
       "removedWidgets": [],
       "type": "html"
      }
     },
     "output_type": "display_data"
    }
   ],
   "source": [
    "df21 = spark.createDataFrame(data=[(1, 1.0), \n",
    "                                   (1, 2.0), \n",
    "                                   (2, 3.0), \n",
    "                                   (2, 5.0), \n",
    "                                   (2, 10.0)],\n",
    "                             schema=(\"id\", \"v\"))  "
   ]
  },
  {
   "cell_type": "code",
   "execution_count": 0,
   "metadata": {
    "application/vnd.databricks.v1+cell": {
     "cellMetadata": {},
     "inputWidgets": {},
     "nuid": "3ca7c337-3e53-4499-9db7-c88d11d41595",
     "showTitle": false,
     "title": ""
    }
   },
   "outputs": [
    {
     "output_type": "display_data",
     "data": {
      "text/html": [
       "<style scoped>\n",
       "  .ansiout {\n",
       "    display: block;\n",
       "    unicode-bidi: embed;\n",
       "    white-space: pre-wrap;\n",
       "    word-wrap: break-word;\n",
       "    word-break: break-all;\n",
       "    font-family: \"Menlo\", \"Monaco\", \"Consolas\", \"Ubuntu Mono\", \"Source Code Pro\", monospace;\n",
       "    font-size: 13px;\n",
       "    color: #555;\n",
       "    margin-left: 4px;\n",
       "    line-height: 19px;\n",
       "  }\n",
       "</style>\n",
       "<div class=\"ansiout\">+---+----+\n",
       " id|   v|\n",
       "+---+----+\n",
       "  1| 1.0|\n",
       "  1| 2.0|\n",
       "  2| 3.0|\n",
       "  2| 5.0|\n",
       "  2|10.0|\n",
       "+---+----+\n",
       "\n",
       "</div>"
      ]
     },
     "metadata": {
      "application/vnd.databricks.v1+output": {
       "addedWidgets": {},
       "arguments": {},
       "data": "<div class=\"ansiout\">+---+----+\n| id|   v|\n+---+----+\n|  1| 1.0|\n|  1| 2.0|\n|  2| 3.0|\n|  2| 5.0|\n|  2|10.0|\n+---+----+\n\n</div>",
       "datasetInfos": [],
       "metadata": {},
       "removedWidgets": [],
       "type": "html"
      }
     },
     "output_type": "display_data"
    }
   ],
   "source": [
    "df21.show()"
   ]
  },
  {
   "cell_type": "code",
   "execution_count": 0,
   "metadata": {
    "application/vnd.databricks.v1+cell": {
     "cellMetadata": {},
     "inputWidgets": {},
     "nuid": "2502840b-cc04-46f9-92bb-402facc336ca",
     "showTitle": false,
     "title": ""
    }
   },
   "outputs": [
    {
     "output_type": "display_data",
     "data": {
      "text/html": [
       "<style scoped>\n",
       "  .ansiout {\n",
       "    display: block;\n",
       "    unicode-bidi: embed;\n",
       "    white-space: pre-wrap;\n",
       "    word-wrap: break-word;\n",
       "    word-break: break-all;\n",
       "    font-family: \"Menlo\", \"Monaco\", \"Consolas\", \"Ubuntu Mono\", \"Source Code Pro\", monospace;\n",
       "    font-size: 13px;\n",
       "    color: #555;\n",
       "    margin-left: 4px;\n",
       "    line-height: 19px;\n",
       "  }\n",
       "</style>\n",
       "<div class=\"ansiout\">+------+\n",
       "avg(v)|\n",
       "+------+\n",
       "   4.2|\n",
       "+------+\n",
       "\n",
       "</div>"
      ]
     },
     "metadata": {
      "application/vnd.databricks.v1+output": {
       "addedWidgets": {},
       "arguments": {},
       "data": "<div class=\"ansiout\">+------+\n|avg(v)|\n+------+\n|   4.2|\n+------+\n\n</div>",
       "datasetInfos": [],
       "metadata": {},
       "removedWidgets": [],
       "type": "html"
      }
     },
     "output_type": "display_data"
    }
   ],
   "source": [
    "df21.select(mean(df21['v'])).show()"
   ]
  },
  {
   "cell_type": "code",
   "execution_count": 0,
   "metadata": {
    "application/vnd.databricks.v1+cell": {
     "cellMetadata": {},
     "inputWidgets": {},
     "nuid": "1eebdc4c-b7fd-442f-8376-a4b0abda96ce",
     "showTitle": false,
     "title": ""
    }
   },
   "outputs": [
    {
     "output_type": "display_data",
     "data": {
      "text/html": [
       "<style scoped>\n",
       "  .ansiout {\n",
       "    display: block;\n",
       "    unicode-bidi: embed;\n",
       "    white-space: pre-wrap;\n",
       "    word-wrap: break-word;\n",
       "    word-break: break-all;\n",
       "    font-family: \"Menlo\", \"Monaco\", \"Consolas\", \"Ubuntu Mono\", \"Source Code Pro\", monospace;\n",
       "    font-size: 13px;\n",
       "    color: #555;\n",
       "    margin-left: 4px;\n",
       "    line-height: 19px;\n",
       "  }\n",
       "</style>\n",
       "<div class=\"ansiout\"></div>"
      ]
     },
     "metadata": {
      "application/vnd.databricks.v1+output": {
       "addedWidgets": {},
       "arguments": {},
       "data": "<div class=\"ansiout\"></div>",
       "datasetInfos": [],
       "metadata": {},
       "removedWidgets": [],
       "type": "html"
      }
     },
     "output_type": "display_data"
    }
   ],
   "source": [
    "from pyspark.sql.functions import stddev_samp, stddev, stddev_pop"
   ]
  },
  {
   "cell_type": "code",
   "execution_count": 0,
   "metadata": {
    "application/vnd.databricks.v1+cell": {
     "cellMetadata": {},
     "inputWidgets": {},
     "nuid": "539fab89-15d3-4be4-bb60-9577d1b37ddf",
     "showTitle": false,
     "title": ""
    }
   },
   "outputs": [
    {
     "output_type": "display_data",
     "data": {
      "text/html": [
       "<style scoped>\n",
       "  .ansiout {\n",
       "    display: block;\n",
       "    unicode-bidi: embed;\n",
       "    white-space: pre-wrap;\n",
       "    word-wrap: break-word;\n",
       "    word-break: break-all;\n",
       "    font-family: \"Menlo\", \"Monaco\", \"Consolas\", \"Ubuntu Mono\", \"Source Code Pro\", monospace;\n",
       "    font-size: 13px;\n",
       "    color: #555;\n",
       "    margin-left: 4px;\n",
       "    line-height: 19px;\n",
       "  }\n",
       "</style>\n",
       "<div class=\"ansiout\">+------------------+\n",
       "     stddev_pop(v)|\n",
       "+------------------+\n",
       "3.1874754901018454|\n",
       "+------------------+\n",
       "\n",
       "</div>"
      ]
     },
     "metadata": {
      "application/vnd.databricks.v1+output": {
       "addedWidgets": {},
       "arguments": {},
       "data": "<div class=\"ansiout\">+------------------+\n|     stddev_pop(v)|\n+------------------+\n|3.1874754901018454|\n+------------------+\n\n</div>",
       "datasetInfos": [],
       "metadata": {},
       "removedWidgets": [],
       "type": "html"
      }
     },
     "output_type": "display_data"
    }
   ],
   "source": [
    "df21.select(stddev_pop(df21['v'])).show()"
   ]
  },
  {
   "cell_type": "code",
   "execution_count": 0,
   "metadata": {
    "application/vnd.databricks.v1+cell": {
     "cellMetadata": {},
     "inputWidgets": {},
     "nuid": "fef04a6d-7ff2-4cae-b3cc-9b36f16214c6",
     "showTitle": false,
     "title": ""
    }
   },
   "outputs": [
    {
     "output_type": "display_data",
     "data": {
      "text/html": [
       "<style scoped>\n",
       "  .ansiout {\n",
       "    display: block;\n",
       "    unicode-bidi: embed;\n",
       "    white-space: pre-wrap;\n",
       "    word-wrap: break-word;\n",
       "    word-break: break-all;\n",
       "    font-family: \"Menlo\", \"Monaco\", \"Consolas\", \"Ubuntu Mono\", \"Source Code Pro\", monospace;\n",
       "    font-size: 13px;\n",
       "    color: #555;\n",
       "    margin-left: 4px;\n",
       "    line-height: 19px;\n",
       "  }\n",
       "</style>\n",
       "<div class=\"ansiout\"></div>"
      ]
     },
     "metadata": {
      "application/vnd.databricks.v1+output": {
       "addedWidgets": {},
       "arguments": {},
       "data": "<div class=\"ansiout\"></div>",
       "datasetInfos": [],
       "metadata": {},
       "removedWidgets": [],
       "type": "html"
      }
     },
     "output_type": "display_data"
    }
   ],
   "source": [
    "@pandas_udf(\"id long, v double\", PandasUDFType.GROUPED_MAP)  \n",
    "def normalize(df):\n",
    "  z = df['v']\n",
    "  return df.assign(v=(z - z.mean()) / z.std())"
   ]
  },
  {
   "cell_type": "code",
   "execution_count": 0,
   "metadata": {
    "application/vnd.databricks.v1+cell": {
     "cellMetadata": {},
     "inputWidgets": {},
     "nuid": "3dc64362-5183-490e-8914-573ebfb8fcb6",
     "showTitle": false,
     "title": ""
    }
   },
   "outputs": [
    {
     "output_type": "display_data",
     "data": {
      "text/html": [
       "<style scoped>\n",
       "  .ansiout {\n",
       "    display: block;\n",
       "    unicode-bidi: embed;\n",
       "    white-space: pre-wrap;\n",
       "    word-wrap: break-word;\n",
       "    word-break: break-all;\n",
       "    font-family: \"Menlo\", \"Monaco\", \"Consolas\", \"Ubuntu Mono\", \"Source Code Pro\", monospace;\n",
       "    font-size: 13px;\n",
       "    color: #555;\n",
       "    margin-left: 4px;\n",
       "    line-height: 19px;\n",
       "  }\n",
       "</style>\n",
       "<div class=\"ansiout\"></div>"
      ]
     },
     "metadata": {
      "application/vnd.databricks.v1+output": {
       "addedWidgets": {},
       "arguments": {},
       "data": "<div class=\"ansiout\"></div>",
       "datasetInfos": [],
       "metadata": {},
       "removedWidgets": [],
       "type": "html"
      }
     },
     "output_type": "display_data"
    }
   ],
   "source": [
    "@pandas_udf(\"id long, v double\", PandasUDFType.GROUPED_MAP)  \n",
    "def normalize_apply(df):\n",
    "  #z=df['v']\n",
    "  df['v']=df['v'].apply(lambda x: x-df['v'].mean()/df['v'].std())\n",
    "  return df"
   ]
  },
  {
   "cell_type": "code",
   "execution_count": 0,
   "metadata": {
    "application/vnd.databricks.v1+cell": {
     "cellMetadata": {},
     "inputWidgets": {},
     "nuid": "a41d4244-d0f2-4cda-96e6-8b6b4fb18541",
     "showTitle": false,
     "title": ""
    }
   },
   "outputs": [
    {
     "output_type": "display_data",
     "data": {
      "text/html": [
       "<style scoped>\n",
       "  .ansiout {\n",
       "    display: block;\n",
       "    unicode-bidi: embed;\n",
       "    white-space: pre-wrap;\n",
       "    word-wrap: break-word;\n",
       "    word-break: break-all;\n",
       "    font-family: \"Menlo\", \"Monaco\", \"Consolas\", \"Ubuntu Mono\", \"Source Code Pro\", monospace;\n",
       "    font-size: 13px;\n",
       "    color: #555;\n",
       "    margin-left: 4px;\n",
       "    line-height: 19px;\n",
       "  }\n",
       "</style>\n",
       "<div class=\"ansiout\">+---+--------------------+\n",
       " id|                   v|\n",
       "+---+--------------------+\n",
       "  1| -1.1213203435596424|\n",
       "  1|-0.12132034355964239|\n",
       "  2|  1.3358994113243126|\n",
       "  2|   3.335899411324313|\n",
       "  2|   8.335899411324313|\n",
       "+---+--------------------+\n",
       "\n",
       "</div>"
      ]
     },
     "metadata": {
      "application/vnd.databricks.v1+output": {
       "addedWidgets": {},
       "arguments": {},
       "data": "<div class=\"ansiout\">+---+--------------------+\n| id|                   v|\n+---+--------------------+\n|  1| -1.1213203435596424|\n|  1|-0.12132034355964239|\n|  2|  1.3358994113243126|\n|  2|   3.335899411324313|\n|  2|   8.335899411324313|\n+---+--------------------+\n\n</div>",
       "datasetInfos": [],
       "metadata": {},
       "removedWidgets": [],
       "type": "html"
      }
     },
     "output_type": "display_data"
    }
   ],
   "source": [
    "df21.groupby(\"id\").apply(normalize_apply).show()"
   ]
  },
  {
   "cell_type": "code",
   "execution_count": 0,
   "metadata": {
    "application/vnd.databricks.v1+cell": {
     "cellMetadata": {},
     "inputWidgets": {},
     "nuid": "9aed0bc7-bcbc-40d8-8890-19d0a253394f",
     "showTitle": false,
     "title": ""
    }
   },
   "outputs": [
    {
     "output_type": "display_data",
     "data": {
      "text/html": [
       "<style scoped>\n",
       "  .ansiout {\n",
       "    display: block;\n",
       "    unicode-bidi: embed;\n",
       "    white-space: pre-wrap;\n",
       "    word-wrap: break-word;\n",
       "    word-break: break-all;\n",
       "    font-family: \"Menlo\", \"Monaco\", \"Consolas\", \"Ubuntu Mono\", \"Source Code Pro\", monospace;\n",
       "    font-size: 13px;\n",
       "    color: #555;\n",
       "    margin-left: 4px;\n",
       "    line-height: 19px;\n",
       "  }\n",
       "</style>\n",
       "<div class=\"ansiout\"></div>"
      ]
     },
     "metadata": {
      "application/vnd.databricks.v1+output": {
       "addedWidgets": {},
       "arguments": {},
       "data": "<div class=\"ansiout\"></div>",
       "datasetInfos": [],
       "metadata": {},
       "removedWidgets": [],
       "type": "html"
      }
     },
     "output_type": "display_data"
    }
   ],
   "source": [
    "# def normalize(pdf):\n",
    "#   z = pdf['v']\n",
    "#   #return pdf.assign(v=(v - v.mean()) / v.std())\n",
    "#   return pdf.assign(v= z - z.mean())"
   ]
  },
  {
   "cell_type": "code",
   "execution_count": 0,
   "metadata": {
    "application/vnd.databricks.v1+cell": {
     "cellMetadata": {},
     "inputWidgets": {},
     "nuid": "5e769beb-2c15-47df-ad48-9c110d1b819d",
     "showTitle": false,
     "title": ""
    }
   },
   "outputs": [
    {
     "output_type": "display_data",
     "data": {
      "text/html": [
       "<style scoped>\n",
       "  .ansiout {\n",
       "    display: block;\n",
       "    unicode-bidi: embed;\n",
       "    white-space: pre-wrap;\n",
       "    word-wrap: break-word;\n",
       "    word-break: break-all;\n",
       "    font-family: \"Menlo\", \"Monaco\", \"Consolas\", \"Ubuntu Mono\", \"Source Code Pro\", monospace;\n",
       "    font-size: 13px;\n",
       "    color: #555;\n",
       "    margin-left: 4px;\n",
       "    line-height: 19px;\n",
       "  }\n",
       "</style>\n",
       "<div class=\"ansiout\"></div>"
      ]
     },
     "metadata": {
      "application/vnd.databricks.v1+output": {
       "addedWidgets": {},
       "arguments": {},
       "data": "<div class=\"ansiout\"></div>",
       "datasetInfos": [],
       "metadata": {},
       "removedWidgets": [],
       "type": "html"
      }
     },
     "output_type": "display_data"
    },
    {
     "output_type": "display_data",
     "data": {
      "text/html": [
       "<style scoped>\n",
       "  .ansiout {\n",
       "    display: block;\n",
       "    unicode-bidi: embed;\n",
       "    white-space: pre-wrap;\n",
       "    word-wrap: break-word;\n",
       "    word-break: break-all;\n",
       "    font-family: \"Menlo\", \"Monaco\", \"Consolas\", \"Ubuntu Mono\", \"Source Code Pro\", monospace;\n",
       "    font-size: 13px;\n",
       "    color: #555;\n",
       "    margin-left: 4px;\n",
       "    line-height: 19px;\n",
       "  }\n",
       "</style>\n",
       "<div class=\"ansiout\"><span class=\"ansi-red-fg\">---------------------------------------------------------------------------</span>\n",
       "<span class=\"ansi-red-fg\">ValueError</span>                                Traceback (most recent call last)\n",
       "<span class=\"ansi-green-fg\">&lt;command-2126611277452191&gt;</span> in <span class=\"ansi-cyan-fg\">&lt;module&gt;</span>\n",
       "<span class=\"ansi-green-fg\">----&gt; 1</span><span class=\"ansi-red-fg\"> </span>normalizer <span class=\"ansi-blue-fg\">=</span> pandas_udf<span class=\"ansi-blue-fg\">(</span>normalize<span class=\"ansi-blue-fg\">,</span> <span class=\"ansi-blue-fg\">&#39;id long, v long&#39;</span><span class=\"ansi-blue-fg\">,</span> PandasUDFType<span class=\"ansi-blue-fg\">.</span>GROUPED_MAP <span class=\"ansi-blue-fg\">)</span>\n",
       "\n",
       "<span class=\"ansi-green-fg\">/databricks/spark/python/pyspark/sql/pandas/functions.py</span> in <span class=\"ansi-cyan-fg\">pandas_udf</span><span class=\"ansi-blue-fg\">(f, returnType, functionType)</span>\n",
       "<span class=\"ansi-green-intense-fg ansi-bold\">    368</span>         <span class=\"ansi-green-fg\">return</span> functools<span class=\"ansi-blue-fg\">.</span>partial<span class=\"ansi-blue-fg\">(</span>_create_pandas_udf<span class=\"ansi-blue-fg\">,</span> returnType<span class=\"ansi-blue-fg\">=</span>return_type<span class=\"ansi-blue-fg\">,</span> evalType<span class=\"ansi-blue-fg\">=</span>eval_type<span class=\"ansi-blue-fg\">)</span>\n",
       "<span class=\"ansi-green-intense-fg ansi-bold\">    369</span>     <span class=\"ansi-green-fg\">else</span><span class=\"ansi-blue-fg\">:</span>\n",
       "<span class=\"ansi-green-fg\">--&gt; 370</span><span class=\"ansi-red-fg\">         </span><span class=\"ansi-green-fg\">return</span> _create_pandas_udf<span class=\"ansi-blue-fg\">(</span>f<span class=\"ansi-blue-fg\">=</span>f<span class=\"ansi-blue-fg\">,</span> returnType<span class=\"ansi-blue-fg\">=</span>return_type<span class=\"ansi-blue-fg\">,</span> evalType<span class=\"ansi-blue-fg\">=</span>eval_type<span class=\"ansi-blue-fg\">)</span>\n",
       "<span class=\"ansi-green-intense-fg ansi-bold\">    371</span> \n",
       "<span class=\"ansi-green-intense-fg ansi-bold\">    372</span> \n",
       "\n",
       "<span class=\"ansi-green-fg\">/databricks/spark/python/pyspark/sql/pandas/functions.py</span> in <span class=\"ansi-cyan-fg\">_create_pandas_udf</span><span class=\"ansi-blue-fg\">(f, returnType, evalType)</span>\n",
       "<span class=\"ansi-green-intense-fg ansi-bold\">    413</span>             <span class=\"ansi-green-fg\">and</span> len<span class=\"ansi-blue-fg\">(</span>argspec<span class=\"ansi-blue-fg\">.</span>args<span class=\"ansi-blue-fg\">)</span> <span class=\"ansi-green-fg\">not</span> <span class=\"ansi-green-fg\">in</span> <span class=\"ansi-blue-fg\">(</span><span class=\"ansi-cyan-fg\">1</span><span class=\"ansi-blue-fg\">,</span> <span class=\"ansi-cyan-fg\">2</span><span class=\"ansi-blue-fg\">)</span><span class=\"ansi-blue-fg\">:</span>\n",
       "<span class=\"ansi-green-intense-fg ansi-bold\">    414</span>         raise ValueError(\n",
       "<span class=\"ansi-green-fg\">--&gt; 415</span><span class=\"ansi-red-fg\">             </span><span class=\"ansi-blue-fg\">&#34;Invalid function: pandas_udf with function type GROUPED_MAP or &#34;</span>\n",
       "<span class=\"ansi-green-intense-fg ansi-bold\">    416</span>             <span class=\"ansi-blue-fg\">&#34;the function in groupby.applyInPandas &#34;</span>\n",
       "<span class=\"ansi-green-intense-fg ansi-bold\">    417</span>             &#34;must take either one argument (data) or two arguments (key, data).&#34;)\n",
       "\n",
       "<span class=\"ansi-red-fg\">ValueError</span>: Invalid function: pandas_udf with function type GROUPED_MAP or the function in groupby.applyInPandas must take either one argument (data) or two arguments (key, data).</div>"
      ]
     },
     "metadata": {
      "application/vnd.databricks.v1+output": {
       "arguments": {},
       "data": "<div class=\"ansiout\"><span class=\"ansi-red-fg\">---------------------------------------------------------------------------</span>\n<span class=\"ansi-red-fg\">ValueError</span>                                Traceback (most recent call last)\n<span class=\"ansi-green-fg\">&lt;command-2126611277452191&gt;</span> in <span class=\"ansi-cyan-fg\">&lt;module&gt;</span>\n<span class=\"ansi-green-fg\">----&gt; 1</span><span class=\"ansi-red-fg\"> </span>normalizer <span class=\"ansi-blue-fg\">=</span> pandas_udf<span class=\"ansi-blue-fg\">(</span>normalize<span class=\"ansi-blue-fg\">,</span> <span class=\"ansi-blue-fg\">&#39;id long, v long&#39;</span><span class=\"ansi-blue-fg\">,</span> PandasUDFType<span class=\"ansi-blue-fg\">.</span>GROUPED_MAP <span class=\"ansi-blue-fg\">)</span>\n\n<span class=\"ansi-green-fg\">/databricks/spark/python/pyspark/sql/pandas/functions.py</span> in <span class=\"ansi-cyan-fg\">pandas_udf</span><span class=\"ansi-blue-fg\">(f, returnType, functionType)</span>\n<span class=\"ansi-green-intense-fg ansi-bold\">    368</span>         <span class=\"ansi-green-fg\">return</span> functools<span class=\"ansi-blue-fg\">.</span>partial<span class=\"ansi-blue-fg\">(</span>_create_pandas_udf<span class=\"ansi-blue-fg\">,</span> returnType<span class=\"ansi-blue-fg\">=</span>return_type<span class=\"ansi-blue-fg\">,</span> evalType<span class=\"ansi-blue-fg\">=</span>eval_type<span class=\"ansi-blue-fg\">)</span>\n<span class=\"ansi-green-intense-fg ansi-bold\">    369</span>     <span class=\"ansi-green-fg\">else</span><span class=\"ansi-blue-fg\">:</span>\n<span class=\"ansi-green-fg\">--&gt; 370</span><span class=\"ansi-red-fg\">         </span><span class=\"ansi-green-fg\">return</span> _create_pandas_udf<span class=\"ansi-blue-fg\">(</span>f<span class=\"ansi-blue-fg\">=</span>f<span class=\"ansi-blue-fg\">,</span> returnType<span class=\"ansi-blue-fg\">=</span>return_type<span class=\"ansi-blue-fg\">,</span> evalType<span class=\"ansi-blue-fg\">=</span>eval_type<span class=\"ansi-blue-fg\">)</span>\n<span class=\"ansi-green-intense-fg ansi-bold\">    371</span> \n<span class=\"ansi-green-intense-fg ansi-bold\">    372</span> \n\n<span class=\"ansi-green-fg\">/databricks/spark/python/pyspark/sql/pandas/functions.py</span> in <span class=\"ansi-cyan-fg\">_create_pandas_udf</span><span class=\"ansi-blue-fg\">(f, returnType, evalType)</span>\n<span class=\"ansi-green-intense-fg ansi-bold\">    413</span>             <span class=\"ansi-green-fg\">and</span> len<span class=\"ansi-blue-fg\">(</span>argspec<span class=\"ansi-blue-fg\">.</span>args<span class=\"ansi-blue-fg\">)</span> <span class=\"ansi-green-fg\">not</span> <span class=\"ansi-green-fg\">in</span> <span class=\"ansi-blue-fg\">(</span><span class=\"ansi-cyan-fg\">1</span><span class=\"ansi-blue-fg\">,</span> <span class=\"ansi-cyan-fg\">2</span><span class=\"ansi-blue-fg\">)</span><span class=\"ansi-blue-fg\">:</span>\n<span class=\"ansi-green-intense-fg ansi-bold\">    414</span>         raise ValueError(\n<span class=\"ansi-green-fg\">--&gt; 415</span><span class=\"ansi-red-fg\">             </span><span class=\"ansi-blue-fg\">&#34;Invalid function: pandas_udf with function type GROUPED_MAP or &#34;</span>\n<span class=\"ansi-green-intense-fg ansi-bold\">    416</span>             <span class=\"ansi-blue-fg\">&#34;the function in groupby.applyInPandas &#34;</span>\n<span class=\"ansi-green-intense-fg ansi-bold\">    417</span>             &#34;must take either one argument (data) or two arguments (key, data).&#34;)\n\n<span class=\"ansi-red-fg\">ValueError</span>: Invalid function: pandas_udf with function type GROUPED_MAP or the function in groupby.applyInPandas must take either one argument (data) or two arguments (key, data).</div>",
       "errorSummary": "<span class=\"ansi-red-fg\">ValueError</span>: Invalid function: pandas_udf with function type GROUPED_MAP or the function in groupby.applyInPandas must take either one argument (data) or two arguments (key, data).",
       "errorTraceType": null,
       "metadata": {},
       "type": "ipynbError"
      }
     },
     "output_type": "display_data"
    }
   ],
   "source": [
    "normalizer = pandas_udf(normalize, 'id long, v long', PandasUDFType.GROUPED_MAP )"
   ]
  },
  {
   "cell_type": "code",
   "execution_count": 0,
   "metadata": {
    "application/vnd.databricks.v1+cell": {
     "cellMetadata": {},
     "inputWidgets": {},
     "nuid": "b3525be5-2b6f-493f-a31d-d298ff546466",
     "showTitle": false,
     "title": ""
    }
   },
   "outputs": [
    {
     "output_type": "display_data",
     "data": {
      "text/html": [
       "<style scoped>\n",
       "  .ansiout {\n",
       "    display: block;\n",
       "    unicode-bidi: embed;\n",
       "    white-space: pre-wrap;\n",
       "    word-wrap: break-word;\n",
       "    word-break: break-all;\n",
       "    font-family: \"Menlo\", \"Monaco\", \"Consolas\", \"Ubuntu Mono\", \"Source Code Pro\", monospace;\n",
       "    font-size: 13px;\n",
       "    color: #555;\n",
       "    margin-left: 4px;\n",
       "    line-height: 19px;\n",
       "  }\n",
       "</style>\n",
       "<div class=\"ansiout\">+---+--------------------+\n",
       " id|                   v|\n",
       "+---+--------------------+\n",
       "  1| -1.1213203435596424|\n",
       "  1|-0.12132034355964239|\n",
       "  2|  1.3358994113243126|\n",
       "  2|   3.335899411324313|\n",
       "  2|   8.335899411324313|\n",
       "+---+--------------------+\n",
       "\n",
       "</div>"
      ]
     },
     "metadata": {
      "application/vnd.databricks.v1+output": {
       "addedWidgets": {},
       "arguments": {},
       "data": "<div class=\"ansiout\">+---+--------------------+\n| id|                   v|\n+---+--------------------+\n|  1| -1.1213203435596424|\n|  1|-0.12132034355964239|\n|  2|  1.3358994113243126|\n|  2|   3.335899411324313|\n|  2|   8.335899411324313|\n+---+--------------------+\n\n</div>",
       "datasetInfos": [],
       "metadata": {},
       "removedWidgets": [],
       "type": "html"
      }
     },
     "output_type": "display_data"
    }
   ],
   "source": [
    "df21.groupby(\"id\").apply(normalize_apply).show()"
   ]
  },
  {
   "cell_type": "code",
   "execution_count": 0,
   "metadata": {
    "application/vnd.databricks.v1+cell": {
     "cellMetadata": {},
     "inputWidgets": {},
     "nuid": "2ce7cbcb-e782-460a-a18a-938d7e5ab90d",
     "showTitle": false,
     "title": ""
    }
   },
   "outputs": [
    {
     "output_type": "display_data",
     "data": {
      "text/html": [
       "<style scoped>\n",
       "  .ansiout {\n",
       "    display: block;\n",
       "    unicode-bidi: embed;\n",
       "    white-space: pre-wrap;\n",
       "    word-wrap: break-word;\n",
       "    word-break: break-all;\n",
       "    font-family: \"Menlo\", \"Monaco\", \"Consolas\", \"Ubuntu Mono\", \"Source Code Pro\", monospace;\n",
       "    font-size: 13px;\n",
       "    color: #555;\n",
       "    margin-left: 4px;\n",
       "    line-height: 19px;\n",
       "  }\n",
       "</style>\n",
       "<div class=\"ansiout\"></div>"
      ]
     },
     "metadata": {
      "application/vnd.databricks.v1+output": {
       "addedWidgets": {},
       "arguments": {},
       "data": "<div class=\"ansiout\"></div>",
       "datasetInfos": [],
       "metadata": {},
       "removedWidgets": [],
       "type": "html"
      }
     },
     "output_type": "display_data"
    }
   ],
   "source": [
    "def agg_std(df):\n",
    "  return df.std()"
   ]
  },
  {
   "cell_type": "code",
   "execution_count": 0,
   "metadata": {
    "application/vnd.databricks.v1+cell": {
     "cellMetadata": {},
     "inputWidgets": {},
     "nuid": "385f39fc-ceb1-4b85-9597-831372ce2f86",
     "showTitle": false,
     "title": ""
    }
   },
   "outputs": [
    {
     "output_type": "display_data",
     "data": {
      "text/html": [
       "<style scoped>\n",
       "  .ansiout {\n",
       "    display: block;\n",
       "    unicode-bidi: embed;\n",
       "    white-space: pre-wrap;\n",
       "    word-wrap: break-word;\n",
       "    word-break: break-all;\n",
       "    font-family: \"Menlo\", \"Monaco\", \"Consolas\", \"Ubuntu Mono\", \"Source Code Pro\", monospace;\n",
       "    font-size: 13px;\n",
       "    color: #555;\n",
       "    margin-left: 4px;\n",
       "    line-height: 19px;\n",
       "  }\n",
       "</style>\n",
       "<div class=\"ansiout\">Out[486]: 1.3836381890011822</div>"
      ]
     },
     "metadata": {
      "application/vnd.databricks.v1+output": {
       "addedWidgets": {},
       "arguments": {},
       "data": "<div class=\"ansiout\">Out[486]: 1.3836381890011822</div>",
       "datasetInfos": [],
       "metadata": {},
       "removedWidgets": [],
       "type": "html"
      }
     },
     "output_type": "display_data"
    }
   ],
   "source": [
    "agg_std(df=tips['tip'])"
   ]
  },
  {
   "cell_type": "code",
   "execution_count": 0,
   "metadata": {
    "application/vnd.databricks.v1+cell": {
     "cellMetadata": {},
     "inputWidgets": {},
     "nuid": "9ed16ab7-da32-45e2-83d9-c031f3e6f738",
     "showTitle": false,
     "title": ""
    }
   },
   "outputs": [
    {
     "output_type": "display_data",
     "data": {
      "text/html": [
       "<style scoped>\n",
       "  .ansiout {\n",
       "    display: block;\n",
       "    unicode-bidi: embed;\n",
       "    white-space: pre-wrap;\n",
       "    word-wrap: break-word;\n",
       "    word-break: break-all;\n",
       "    font-family: \"Menlo\", \"Monaco\", \"Consolas\", \"Ubuntu Mono\", \"Source Code Pro\", monospace;\n",
       "    font-size: 13px;\n",
       "    color: #555;\n",
       "    margin-left: 4px;\n",
       "    line-height: 19px;\n",
       "  }\n",
       "</style>\n",
       "<div class=\"ansiout\">Help on function pandas_udf in module pyspark.sql.pandas.functions:\n",
       "\n",
       "pandas_udf(f=None, returnType=None, functionType=None)\n",
       "    Creates a pandas user defined function (a.k.a. vectorized user defined function).\n",
       "    \n",
       "    Pandas UDFs are user defined functions that are executed by Spark using Arrow to transfer\n",
       "    data and Pandas to work with the data, which allows vectorized operations. A Pandas UDF\n",
       "    is defined using the `pandas_udf` as a decorator or to wrap the function, and no\n",
       "    additional configuration is required. A Pandas UDF behaves as a regular PySpark function\n",
       "    API in general.\n",
       "    \n",
       "    :param f: user-defined function. A python function if used as a standalone function\n",
       "    :param returnType: the return type of the user-defined function. The value can be either a\n",
       "        :class:`pyspark.sql.types.DataType` object or a DDL-formatted type string.\n",
       "    :param functionType: an enum value in :class:`pyspark.sql.functions.PandasUDFType`.\n",
       "        Default: SCALAR.\n",
       "    \n",
       "        .. note:: This parameter exists for compatibility. Using Python type hints is encouraged.\n",
       "    \n",
       "    In order to use this API, customarily the below are imported:\n",
       "    \n",
       "    &gt;&gt;&gt; import pandas as pd\n",
       "    &gt;&gt;&gt; from pyspark.sql.functions import pandas_udf\n",
       "    \n",
       "    From Spark 3.0 with Python 3.6+, `Python type hints &lt;https://www.python.org/dev/peps/pep-0484&gt;`_\n",
       "    detect the function types as below:\n",
       "    \n",
       "    &gt;&gt;&gt; @pandas_udf(IntegerType())\n",
       "    ... def slen(s: pd.Series) -&gt; pd.Series:\n",
       "    ...     return s.str.len()\n",
       "    \n",
       "    Prior to Spark 3.0, the pandas UDF used `functionType` to decide the execution type as below:\n",
       "    \n",
       "    &gt;&gt;&gt; from pyspark.sql.functions import PandasUDFType\n",
       "    &gt;&gt;&gt; from pyspark.sql.types import IntegerType\n",
       "    &gt;&gt;&gt; @pandas_udf(IntegerType(), PandasUDFType.SCALAR)\n",
       "    ... def slen(s):\n",
       "    ...     return s.str.len()\n",
       "    \n",
       "    It is preferred to specify type hints for the pandas UDF instead of specifying pandas UDF\n",
       "    type via `functionType` which will be deprecated in the future releases.\n",
       "    \n",
       "    Note that the type hint should use `pandas.Series` in all cases but there is one variant\n",
       "    that `pandas.DataFrame` should be used for its input or output type hint instead when the input\n",
       "    or output column is of :class:`pyspark.sql.types.StructType`. The following example shows\n",
       "    a Pandas UDF which takes long column, string column and struct column, and outputs a struct\n",
       "    column. It requires the function to specify the type hints of `pandas.Series` and\n",
       "    `pandas.DataFrame` as below:\n",
       "    \n",
       "    &gt;&gt;&gt; @pandas_udf(&#34;col1 string, col2 long&#34;)\n",
       "    &gt;&gt;&gt; def func(s1: pd.Series, s2: pd.Series, s3: pd.DataFrame) -&gt; pd.DataFrame:\n",
       "    ...     s3[&#39;col2&#39;] = s1 + s2.str.len()\n",
       "    ...     return s3\n",
       "    ...\n",
       "    &gt;&gt;&gt; # Create a Spark DataFrame that has three columns including a sturct column.\n",
       "    ... df = spark.createDataFrame(\n",
       "    ...     [[1, &#34;a string&#34;, (&#34;a nested string&#34;,)]],\n",
       "    ...     &#34;long_col long, string_col string, struct_col struct&lt;col1:string&gt;&#34;)\n",
       "    &gt;&gt;&gt; df.printSchema()\n",
       "    root\n",
       "-- long_column: long (nullable = true)\n",
       "-- string_column: string (nullable = true)\n",
       "-- struct_column: struct (nullable = true)\n",
       "    |-- col1: string (nullable = true)\n",
       "    &gt;&gt;&gt; df.select(func(&#34;long_col&#34;, &#34;string_col&#34;, &#34;struct_col&#34;)).printSchema()\n",
       "-- func(long_col, string_col, struct_col): struct (nullable = true)\n",
       "    |-- col1: string (nullable = true)\n",
       "    |-- col2: long (nullable = true)\n",
       "    \n",
       "    In the following sections, it describes the cominations of the supported type hints. For\n",
       "    simplicity, `pandas.DataFrame` variant is omitted.\n",
       "    \n",
       "    * Series to Series\n",
       "        `pandas.Series`, ... -&gt; `pandas.Series`\n",
       "    \n",
       "        The function takes one or more `pandas.Series` and outputs one `pandas.Series`.\n",
       "        The output of the function should always be of the same length as the input.\n",
       "    \n",
       "        &gt;&gt;&gt; @pandas_udf(&#34;string&#34;)\n",
       "        ... def to_upper(s: pd.Series) -&gt; pd.Series:\n",
       "        ...     return s.str.upper()\n",
       "        ...\n",
       "        &gt;&gt;&gt; df = spark.createDataFrame([(&#34;John Doe&#34;,)], (&#34;name&#34;,))\n",
       "        &gt;&gt;&gt; df.select(to_upper(&#34;name&#34;)).show()\n",
       "        +--------------+\n",
       "to_upper(name)|\n",
       "        +--------------+\n",
       "      JOHN DOE|\n",
       "        +--------------+\n",
       "    \n",
       "        &gt;&gt;&gt; @pandas_udf(&#34;first string, last string&#34;)\n",
       "        ... def split_expand(s: pd.Series) -&gt; pd.DataFrame:\n",
       "        ...     return s.str.split(expand=True)\n",
       "        ...\n",
       "        &gt;&gt;&gt; df = spark.createDataFrame([(&#34;John Doe&#34;,)], (&#34;name&#34;,))\n",
       "        &gt;&gt;&gt; df.select(split_expand(&#34;name&#34;)).show()\n",
       "        +------------------+\n",
       "split_expand(name)|\n",
       "        +------------------+\n",
       "       [John, Doe]|\n",
       "        +------------------+\n",
       "    \n",
       "        .. note:: The length of the input is not that of the whole input column, but is the\n",
       "            length of an internal batch used for each call to the function.\n",
       "    \n",
       "    * Iterator of Series to Iterator of Series\n",
       "        `Iterator[pandas.Series]` -&gt; `Iterator[pandas.Series]`\n",
       "    \n",
       "        The function takes an iterator of `pandas.Series` and outputs an iterator of\n",
       "        `pandas.Series`. In this case, the created pandas UDF instance requires one input\n",
       "        column when this is called as a PySpark column. The length of the entire output from\n",
       "        the function should be the same length of the entire input; therefore, it can\n",
       "        prefetch the data from the input iterator as long as the lengths are the same.\n",
       "    \n",
       "        It is also useful when the UDF execution\n",
       "        requires initializing some states although internally it works identically as\n",
       "        Series to Series case. The pseudocode below illustrates the example.\n",
       "    \n",
       "        .. highlight:: python\n",
       "        .. code-block:: python\n",
       "    \n",
       "            @pandas_udf(&#34;long&#34;)\n",
       "            def calculate(iterator: Iterator[pd.Series]) -&gt; Iterator[pd.Series]:\n",
       "                # Do some expensive initialization with a state\n",
       "                state = very_expensive_initialization()\n",
       "                for x in iterator:\n",
       "                    # Use that state for whole iterator.\n",
       "                    yield calculate_with_state(x, state)\n",
       "    \n",
       "            df.select(calculate(&#34;value&#34;)).show()\n",
       "    \n",
       "        &gt;&gt;&gt; from typing import Iterator\n",
       "        &gt;&gt;&gt; @pandas_udf(&#34;long&#34;)\n",
       "        ... def plus_one(iterator: Iterator[pd.Series]) -&gt; Iterator[pd.Series]:\n",
       "        ...     for s in iterator:\n",
       "        ...         yield s + 1\n",
       "        ...\n",
       "        &gt;&gt;&gt; df = spark.createDataFrame(pd.DataFrame([1, 2, 3], columns=[&#34;v&#34;]))\n",
       "        &gt;&gt;&gt; df.select(plus_one(df.v)).show()\n",
       "        +-----------+\n",
       "plus_one(v)|\n",
       "        +-----------+\n",
       "          2|\n",
       "          3|\n",
       "          4|\n",
       "        +-----------+\n",
       "    \n",
       "        .. note:: The length of each series is the length of a batch internally used.\n",
       "    \n",
       "    * Iterator of Multiple Series to Iterator of Series\n",
       "        `Iterator[Tuple[pandas.Series, ...]]` -&gt; `Iterator[pandas.Series]`\n",
       "    \n",
       "        The function takes an iterator of a tuple of multiple `pandas.Series` and outputs an\n",
       "        iterator of `pandas.Series`. In this case, the created pandas UDF instance requires\n",
       "        input columns as many as the series when this is called as a PySpark column.\n",
       "        Otherwise, it has the same characteristics and restrictions as Iterator of Series\n",
       "        to Iterator of Series case.\n",
       "    \n",
       "        &gt;&gt;&gt; from typing import Iterator, Tuple\n",
       "        &gt;&gt;&gt; from pyspark.sql.functions import struct, col\n",
       "        &gt;&gt;&gt; @pandas_udf(&#34;long&#34;)\n",
       "        ... def multiply(iterator: Iterator[Tuple[pd.Series, pd.DataFrame]]) -&gt; Iterator[pd.Series]:\n",
       "        ...     for s1, df in iterator:\n",
       "        ...         yield s1 * df.v\n",
       "        ...\n",
       "        &gt;&gt;&gt; df = spark.createDataFrame(pd.DataFrame([1, 2, 3], columns=[&#34;v&#34;]))\n",
       "        &gt;&gt;&gt; df.withColumn(&#39;output&#39;, multiply(col(&#34;v&#34;), struct(col(&#34;v&#34;)))).show()\n",
       "        +---+------+\n",
       "  v|output|\n",
       "        +---+------+\n",
       "  1|     1|\n",
       "  2|     4|\n",
       "  3|     9|\n",
       "        +---+------+\n",
       "    \n",
       "        .. note:: The length of each series is the length of a batch internally used.\n",
       "    \n",
       "    * Series to Scalar\n",
       "        `pandas.Series`, ... -&gt; `Any`\n",
       "    \n",
       "        The function takes `pandas.Series` and returns a scalar value. The `returnType`\n",
       "        should be a primitive data type, and the returned scalar can be either a python primitive\n",
       "        type, e.g., int or float or a numpy data type, e.g., numpy.int64 or numpy.float64.\n",
       "        `Any` should ideally be a specific scalar type accordingly.\n",
       "    \n",
       "        &gt;&gt;&gt; @pandas_udf(&#34;double&#34;)\n",
       "        ... def mean_udf(v: pd.Series) -&gt; float:\n",
       "        ...     return v.mean()\n",
       "        ...\n",
       "        &gt;&gt;&gt; df = spark.createDataFrame(\n",
       "        ...     [(1, 1.0), (1, 2.0), (2, 3.0), (2, 5.0), (2, 10.0)], (&#34;id&#34;, &#34;v&#34;))\n",
       "        &gt;&gt;&gt; df.groupby(&#34;id&#34;).agg(mean_udf(df[&#39;v&#39;])).show()\n",
       "        +---+-----------+\n",
       " id|mean_udf(v)|\n",
       "        +---+-----------+\n",
       "  1|        1.5|\n",
       "  2|        6.0|\n",
       "        +---+-----------+\n",
       "    \n",
       "        This UDF can also be used as window functions as below:\n",
       "    \n",
       "        &gt;&gt;&gt; from pyspark.sql import Window\n",
       "        &gt;&gt;&gt; @pandas_udf(&#34;double&#34;)\n",
       "        ... def mean_udf(v: pd.Series) -&gt; float:\n",
       "        ...     return v.mean()\n",
       "        ...\n",
       "        &gt;&gt;&gt; df = spark.createDataFrame(\n",
       "        ...     [(1, 1.0), (1, 2.0), (2, 3.0), (2, 5.0), (2, 10.0)], (&#34;id&#34;, &#34;v&#34;))\n",
       "        &gt;&gt;&gt; w = Window.partitionBy(&#39;id&#39;).orderBy(&#39;v&#39;).rowsBetween(-1, 0)\n",
       "        &gt;&gt;&gt; df.withColumn(&#39;mean_v&#39;, mean_udf(&#34;v&#34;).over(w)).show()\n",
       "        +---+----+------+\n",
       " id|   v|mean_v|\n",
       "        +---+----+------+\n",
       "  1| 1.0|   1.0|\n",
       "  1| 2.0|   1.5|\n",
       "  2| 3.0|   3.0|\n",
       "  2| 5.0|   4.0|\n",
       "  2|10.0|   7.5|\n",
       "        +---+----+------+\n",
       "    \n",
       "        .. note:: For performance reasons, the input series to window functions are not copied.\n",
       "            Therefore, mutating the input series is not allowed and will cause incorrect results.\n",
       "            For the same reason, users should also not rely on the index of the input series.\n",
       "    \n",
       "        .. seealso:: :meth:`pyspark.sql.GroupedData.agg` and :class:`pyspark.sql.Window`\n",
       "    \n",
       "    .. note:: The user-defined functions do not support conditional expressions or short circuiting\n",
       "        in boolean expressions and it ends up with being executed all internally. If the functions\n",
       "        can fail on special rows, the workaround is to incorporate the condition into the functions.\n",
       "    \n",
       "    .. note:: The user-defined functions do not take keyword arguments on the calling side.\n",
       "    \n",
       "    .. note:: The data type of returned `pandas.Series` from the user-defined functions should be\n",
       "        matched with defined `returnType` (see :meth:`types.to_arrow_type` and\n",
       "        :meth:`types.from_arrow_type`). When there is mismatch between them, Spark might do\n",
       "        conversion on returned data. The conversion is not guaranteed to be correct and results\n",
       "        should be checked for accuracy by users.\n",
       "    \n",
       "    .. note:: Currently,\n",
       "        :class:`pyspark.sql.types.MapType`,\n",
       "        :class:`pyspark.sql.types.ArrayType` of :class:`pyspark.sql.types.TimestampType` and\n",
       "        nested :class:`pyspark.sql.types.StructType`\n",
       "        are currently not supported as output types.\n",
       "    \n",
       "    .. seealso:: :meth:`pyspark.sql.DataFrame.mapInPandas`\n",
       "    .. seealso:: :meth:`pyspark.sql.GroupedData.applyInPandas`\n",
       "    .. seealso:: :meth:`pyspark.sql.PandasCogroupedOps.applyInPandas`\n",
       "    .. seealso:: :meth:`pyspark.sql.UDFRegistration.register`\n",
       "    \n",
       "    .. versionadded:: 2.3\n",
       "\n",
       "</div>"
      ]
     },
     "metadata": {
      "application/vnd.databricks.v1+output": {
       "addedWidgets": {},
       "arguments": {},
       "data": "<div class=\"ansiout\">Help on function pandas_udf in module pyspark.sql.pandas.functions:\n\npandas_udf(f=None, returnType=None, functionType=None)\n    Creates a pandas user defined function (a.k.a. vectorized user defined function).\n    \n    Pandas UDFs are user defined functions that are executed by Spark using Arrow to transfer\n    data and Pandas to work with the data, which allows vectorized operations. A Pandas UDF\n    is defined using the `pandas_udf` as a decorator or to wrap the function, and no\n    additional configuration is required. A Pandas UDF behaves as a regular PySpark function\n    API in general.\n    \n    :param f: user-defined function. A python function if used as a standalone function\n    :param returnType: the return type of the user-defined function. The value can be either a\n        :class:`pyspark.sql.types.DataType` object or a DDL-formatted type string.\n    :param functionType: an enum value in :class:`pyspark.sql.functions.PandasUDFType`.\n        Default: SCALAR.\n    \n        .. note:: This parameter exists for compatibility. Using Python type hints is encouraged.\n    \n    In order to use this API, customarily the below are imported:\n    \n    &gt;&gt;&gt; import pandas as pd\n    &gt;&gt;&gt; from pyspark.sql.functions import pandas_udf\n    \n    From Spark 3.0 with Python 3.6+, `Python type hints &lt;https://www.python.org/dev/peps/pep-0484&gt;`_\n    detect the function types as below:\n    \n    &gt;&gt;&gt; @pandas_udf(IntegerType())\n    ... def slen(s: pd.Series) -&gt; pd.Series:\n    ...     return s.str.len()\n    \n    Prior to Spark 3.0, the pandas UDF used `functionType` to decide the execution type as below:\n    \n    &gt;&gt;&gt; from pyspark.sql.functions import PandasUDFType\n    &gt;&gt;&gt; from pyspark.sql.types import IntegerType\n    &gt;&gt;&gt; @pandas_udf(IntegerType(), PandasUDFType.SCALAR)\n    ... def slen(s):\n    ...     return s.str.len()\n    \n    It is preferred to specify type hints for the pandas UDF instead of specifying pandas UDF\n    type via `functionType` which will be deprecated in the future releases.\n    \n    Note that the type hint should use `pandas.Series` in all cases but there is one variant\n    that `pandas.DataFrame` should be used for its input or output type hint instead when the input\n    or output column is of :class:`pyspark.sql.types.StructType`. The following example shows\n    a Pandas UDF which takes long column, string column and struct column, and outputs a struct\n    column. It requires the function to specify the type hints of `pandas.Series` and\n    `pandas.DataFrame` as below:\n    \n    &gt;&gt;&gt; @pandas_udf(&#34;col1 string, col2 long&#34;)\n    &gt;&gt;&gt; def func(s1: pd.Series, s2: pd.Series, s3: pd.DataFrame) -&gt; pd.DataFrame:\n    ...     s3[&#39;col2&#39;] = s1 + s2.str.len()\n    ...     return s3\n    ...\n    &gt;&gt;&gt; # Create a Spark DataFrame that has three columns including a sturct column.\n    ... df = spark.createDataFrame(\n    ...     [[1, &#34;a string&#34;, (&#34;a nested string&#34;,)]],\n    ...     &#34;long_col long, string_col string, struct_col struct&lt;col1:string&gt;&#34;)\n    &gt;&gt;&gt; df.printSchema()\n    root\n    |-- long_column: long (nullable = true)\n    |-- string_column: string (nullable = true)\n    |-- struct_column: struct (nullable = true)\n    |    |-- col1: string (nullable = true)\n    &gt;&gt;&gt; df.select(func(&#34;long_col&#34;, &#34;string_col&#34;, &#34;struct_col&#34;)).printSchema()\n    |-- func(long_col, string_col, struct_col): struct (nullable = true)\n    |    |-- col1: string (nullable = true)\n    |    |-- col2: long (nullable = true)\n    \n    In the following sections, it describes the cominations of the supported type hints. For\n    simplicity, `pandas.DataFrame` variant is omitted.\n    \n    * Series to Series\n        `pandas.Series`, ... -&gt; `pandas.Series`\n    \n        The function takes one or more `pandas.Series` and outputs one `pandas.Series`.\n        The output of the function should always be of the same length as the input.\n    \n        &gt;&gt;&gt; @pandas_udf(&#34;string&#34;)\n        ... def to_upper(s: pd.Series) -&gt; pd.Series:\n        ...     return s.str.upper()\n        ...\n        &gt;&gt;&gt; df = spark.createDataFrame([(&#34;John Doe&#34;,)], (&#34;name&#34;,))\n        &gt;&gt;&gt; df.select(to_upper(&#34;name&#34;)).show()\n        +--------------+\n        |to_upper(name)|\n        +--------------+\n        |      JOHN DOE|\n        +--------------+\n    \n        &gt;&gt;&gt; @pandas_udf(&#34;first string, last string&#34;)\n        ... def split_expand(s: pd.Series) -&gt; pd.DataFrame:\n        ...     return s.str.split(expand=True)\n        ...\n        &gt;&gt;&gt; df = spark.createDataFrame([(&#34;John Doe&#34;,)], (&#34;name&#34;,))\n        &gt;&gt;&gt; df.select(split_expand(&#34;name&#34;)).show()\n        +------------------+\n        |split_expand(name)|\n        +------------------+\n        |       [John, Doe]|\n        +------------------+\n    \n        .. note:: The length of the input is not that of the whole input column, but is the\n            length of an internal batch used for each call to the function.\n    \n    * Iterator of Series to Iterator of Series\n        `Iterator[pandas.Series]` -&gt; `Iterator[pandas.Series]`\n    \n        The function takes an iterator of `pandas.Series` and outputs an iterator of\n        `pandas.Series`. In this case, the created pandas UDF instance requires one input\n        column when this is called as a PySpark column. The length of the entire output from\n        the function should be the same length of the entire input; therefore, it can\n        prefetch the data from the input iterator as long as the lengths are the same.\n    \n        It is also useful when the UDF execution\n        requires initializing some states although internally it works identically as\n        Series to Series case. The pseudocode below illustrates the example.\n    \n        .. highlight:: python\n        .. code-block:: python\n    \n            @pandas_udf(&#34;long&#34;)\n            def calculate(iterator: Iterator[pd.Series]) -&gt; Iterator[pd.Series]:\n                # Do some expensive initialization with a state\n                state = very_expensive_initialization()\n                for x in iterator:\n                    # Use that state for whole iterator.\n                    yield calculate_with_state(x, state)\n    \n            df.select(calculate(&#34;value&#34;)).show()\n    \n        &gt;&gt;&gt; from typing import Iterator\n        &gt;&gt;&gt; @pandas_udf(&#34;long&#34;)\n        ... def plus_one(iterator: Iterator[pd.Series]) -&gt; Iterator[pd.Series]:\n        ...     for s in iterator:\n        ...         yield s + 1\n        ...\n        &gt;&gt;&gt; df = spark.createDataFrame(pd.DataFrame([1, 2, 3], columns=[&#34;v&#34;]))\n        &gt;&gt;&gt; df.select(plus_one(df.v)).show()\n        +-----------+\n        |plus_one(v)|\n        +-----------+\n        |          2|\n        |          3|\n        |          4|\n        +-----------+\n    \n        .. note:: The length of each series is the length of a batch internally used.\n    \n    * Iterator of Multiple Series to Iterator of Series\n        `Iterator[Tuple[pandas.Series, ...]]` -&gt; `Iterator[pandas.Series]`\n    \n        The function takes an iterator of a tuple of multiple `pandas.Series` and outputs an\n        iterator of `pandas.Series`. In this case, the created pandas UDF instance requires\n        input columns as many as the series when this is called as a PySpark column.\n        Otherwise, it has the same characteristics and restrictions as Iterator of Series\n        to Iterator of Series case.\n    \n        &gt;&gt;&gt; from typing import Iterator, Tuple\n        &gt;&gt;&gt; from pyspark.sql.functions import struct, col\n        &gt;&gt;&gt; @pandas_udf(&#34;long&#34;)\n        ... def multiply(iterator: Iterator[Tuple[pd.Series, pd.DataFrame]]) -&gt; Iterator[pd.Series]:\n        ...     for s1, df in iterator:\n        ...         yield s1 * df.v\n        ...\n        &gt;&gt;&gt; df = spark.createDataFrame(pd.DataFrame([1, 2, 3], columns=[&#34;v&#34;]))\n        &gt;&gt;&gt; df.withColumn(&#39;output&#39;, multiply(col(&#34;v&#34;), struct(col(&#34;v&#34;)))).show()\n        +---+------+\n        |  v|output|\n        +---+------+\n        |  1|     1|\n        |  2|     4|\n        |  3|     9|\n        +---+------+\n    \n        .. note:: The length of each series is the length of a batch internally used.\n    \n    * Series to Scalar\n        `pandas.Series`, ... -&gt; `Any`\n    \n        The function takes `pandas.Series` and returns a scalar value. The `returnType`\n        should be a primitive data type, and the returned scalar can be either a python primitive\n        type, e.g., int or float or a numpy data type, e.g., numpy.int64 or numpy.float64.\n        `Any` should ideally be a specific scalar type accordingly.\n    \n        &gt;&gt;&gt; @pandas_udf(&#34;double&#34;)\n        ... def mean_udf(v: pd.Series) -&gt; float:\n        ...     return v.mean()\n        ...\n        &gt;&gt;&gt; df = spark.createDataFrame(\n        ...     [(1, 1.0), (1, 2.0), (2, 3.0), (2, 5.0), (2, 10.0)], (&#34;id&#34;, &#34;v&#34;))\n        &gt;&gt;&gt; df.groupby(&#34;id&#34;).agg(mean_udf(df[&#39;v&#39;])).show()\n        +---+-----------+\n        | id|mean_udf(v)|\n        +---+-----------+\n        |  1|        1.5|\n        |  2|        6.0|\n        +---+-----------+\n    \n        This UDF can also be used as window functions as below:\n    \n        &gt;&gt;&gt; from pyspark.sql import Window\n        &gt;&gt;&gt; @pandas_udf(&#34;double&#34;)\n        ... def mean_udf(v: pd.Series) -&gt; float:\n        ...     return v.mean()\n        ...\n        &gt;&gt;&gt; df = spark.createDataFrame(\n        ...     [(1, 1.0), (1, 2.0), (2, 3.0), (2, 5.0), (2, 10.0)], (&#34;id&#34;, &#34;v&#34;))\n        &gt;&gt;&gt; w = Window.partitionBy(&#39;id&#39;).orderBy(&#39;v&#39;).rowsBetween(-1, 0)\n        &gt;&gt;&gt; df.withColumn(&#39;mean_v&#39;, mean_udf(&#34;v&#34;).over(w)).show()\n        +---+----+------+\n        | id|   v|mean_v|\n        +---+----+------+\n        |  1| 1.0|   1.0|\n        |  1| 2.0|   1.5|\n        |  2| 3.0|   3.0|\n        |  2| 5.0|   4.0|\n        |  2|10.0|   7.5|\n        +---+----+------+\n    \n        .. note:: For performance reasons, the input series to window functions are not copied.\n            Therefore, mutating the input series is not allowed and will cause incorrect results.\n            For the same reason, users should also not rely on the index of the input series.\n    \n        .. seealso:: :meth:`pyspark.sql.GroupedData.agg` and :class:`pyspark.sql.Window`\n    \n    .. note:: The user-defined functions do not support conditional expressions or short circuiting\n        in boolean expressions and it ends up with being executed all internally. If the functions\n        can fail on special rows, the workaround is to incorporate the condition into the functions.\n    \n    .. note:: The user-defined functions do not take keyword arguments on the calling side.\n    \n    .. note:: The data type of returned `pandas.Series` from the user-defined functions should be\n        matched with defined `returnType` (see :meth:`types.to_arrow_type` and\n        :meth:`types.from_arrow_type`). When there is mismatch between them, Spark might do\n        conversion on returned data. The conversion is not guaranteed to be correct and results\n        should be checked for accuracy by users.\n    \n    .. note:: Currently,\n        :class:`pyspark.sql.types.MapType`,\n        :class:`pyspark.sql.types.ArrayType` of :class:`pyspark.sql.types.TimestampType` and\n        nested :class:`pyspark.sql.types.StructType`\n        are currently not supported as output types.\n    \n    .. seealso:: :meth:`pyspark.sql.DataFrame.mapInPandas`\n    .. seealso:: :meth:`pyspark.sql.GroupedData.applyInPandas`\n    .. seealso:: :meth:`pyspark.sql.PandasCogroupedOps.applyInPandas`\n    .. seealso:: :meth:`pyspark.sql.UDFRegistration.register`\n    \n    .. versionadded:: 2.3\n\n</div>",
       "datasetInfos": [],
       "metadata": {},
       "removedWidgets": [],
       "type": "html"
      }
     },
     "output_type": "display_data"
    }
   ],
   "source": [
    "help(pandas_udf)"
   ]
  },
  {
   "cell_type": "code",
   "execution_count": 0,
   "metadata": {
    "application/vnd.databricks.v1+cell": {
     "cellMetadata": {},
     "inputWidgets": {},
     "nuid": "4f503b68-036a-4c92-8fdf-c4b04dc27b0a",
     "showTitle": false,
     "title": ""
    }
   },
   "outputs": [
    {
     "output_type": "display_data",
     "data": {
      "text/html": [
       "<style scoped>\n",
       "  .ansiout {\n",
       "    display: block;\n",
       "    unicode-bidi: embed;\n",
       "    white-space: pre-wrap;\n",
       "    word-wrap: break-word;\n",
       "    word-break: break-all;\n",
       "    font-family: \"Menlo\", \"Monaco\", \"Consolas\", \"Ubuntu Mono\", \"Source Code Pro\", monospace;\n",
       "    font-size: 13px;\n",
       "    color: #555;\n",
       "    margin-left: 4px;\n",
       "    line-height: 19px;\n",
       "  }\n",
       "</style>\n",
       "<div class=\"ansiout\"></div>"
      ]
     },
     "metadata": {
      "application/vnd.databricks.v1+output": {
       "addedWidgets": {},
       "arguments": {},
       "data": "<div class=\"ansiout\"></div>",
       "datasetInfos": [],
       "metadata": {},
       "removedWidgets": [],
       "type": "html"
      }
     },
     "output_type": "display_data"
    }
   ],
   "source": [
    "agg_std_func = pandas_udf(f = lambda df : df.std()  , returnType = FloatType(), functionType = PandasUDFType.GROUPED_AGG)\n",
    "#can also be written as : \n",
    "#agg_std_func = pandas_udf(f = agg_std, returnType=FloatType(), functionType=PandasUDFType.GROUPED_AGG)"
   ]
  },
  {
   "cell_type": "code",
   "execution_count": 0,
   "metadata": {
    "application/vnd.databricks.v1+cell": {
     "cellMetadata": {},
     "inputWidgets": {},
     "nuid": "2d81e72b-7408-4442-ad4d-cfca80fbe753",
     "showTitle": false,
     "title": ""
    }
   },
   "outputs": [
    {
     "output_type": "display_data",
     "data": {
      "text/html": [
       "<style scoped>\n",
       "  .ansiout {\n",
       "    display: block;\n",
       "    unicode-bidi: embed;\n",
       "    white-space: pre-wrap;\n",
       "    word-wrap: break-word;\n",
       "    word-break: break-all;\n",
       "    font-family: \"Menlo\", \"Monaco\", \"Consolas\", \"Ubuntu Mono\", \"Source Code Pro\", monospace;\n",
       "    font-size: 13px;\n",
       "    color: #555;\n",
       "    margin-left: 4px;\n",
       "    line-height: 19px;\n",
       "  }\n",
       "</style>\n",
       "<div class=\"ansiout\">+------+-------------+\n",
       "   sex|&lt;lambda&gt;(tip)|\n",
       "+------+-------------+\n",
       "Female|    1.1594945|\n",
       "  Male|    1.4891018|\n",
       "+------+-------------+\n",
       "\n",
       "</div>"
      ]
     },
     "metadata": {
      "application/vnd.databricks.v1+output": {
       "addedWidgets": {},
       "arguments": {},
       "data": "<div class=\"ansiout\">+------+-------------+\n|   sex|&lt;lambda&gt;(tip)|\n+------+-------------+\n|Female|    1.1594945|\n|  Male|    1.4891018|\n+------+-------------+\n\n</div>",
       "datasetInfos": [],
       "metadata": {},
       "removedWidgets": [],
       "type": "html"
      }
     },
     "output_type": "display_data"
    }
   ],
   "source": [
    "tipss.groupBy('sex').agg(agg_std_func(tipss['tip'])).show()"
   ]
  },
  {
   "cell_type": "code",
   "execution_count": 0,
   "metadata": {
    "application/vnd.databricks.v1+cell": {
     "cellMetadata": {},
     "inputWidgets": {},
     "nuid": "a63c648b-60e3-4937-9e84-8c5310705e8b",
     "showTitle": false,
     "title": ""
    }
   },
   "outputs": [
    {
     "output_type": "display_data",
     "data": {
      "text/html": [
       "<style scoped>\n",
       "  .ansiout {\n",
       "    display: block;\n",
       "    unicode-bidi: embed;\n",
       "    white-space: pre-wrap;\n",
       "    word-wrap: break-word;\n",
       "    word-break: break-all;\n",
       "    font-family: \"Menlo\", \"Monaco\", \"Consolas\", \"Ubuntu Mono\", \"Source Code Pro\", monospace;\n",
       "    font-size: 13px;\n",
       "    color: #555;\n",
       "    margin-left: 4px;\n",
       "    line-height: 19px;\n",
       "  }\n",
       "</style>\n",
       "<div class=\"ansiout\">+------+-------------+\n",
       "   sex|&lt;lambda&gt;(tip)|\n",
       "+------+-------------+\n",
       "Female|        3.305|\n",
       "  Male|        2.535|\n",
       "+------+-------------+\n",
       "\n",
       "</div>"
      ]
     },
     "metadata": {
      "application/vnd.databricks.v1+output": {
       "addedWidgets": {},
       "arguments": {},
       "data": "<div class=\"ansiout\">+------+-------------+\n|   sex|&lt;lambda&gt;(tip)|\n+------+-------------+\n|Female|        3.305|\n|  Male|        2.535|\n+------+-------------+\n\n</div>",
       "datasetInfos": [],
       "metadata": {},
       "removedWidgets": [],
       "type": "html"
      }
     },
     "output_type": "display_data"
    }
   ],
   "source": [
    "# Returns the mean of the 2nd and the 9th element for each Male and Female Sex group.\n",
    "agg_std_func = pandas_udf(f = lambda df : np.mean([df.iloc[1],df.iloc[9]]), returnType = FloatType(), functionType = PandasUDFType.GROUPED_AGG)\n",
    "\n",
    "tipss.groupBy('sex').agg(agg_std_func(tipss['tip'])).show()"
   ]
  },
  {
   "cell_type": "code",
   "execution_count": 0,
   "metadata": {
    "application/vnd.databricks.v1+cell": {
     "cellMetadata": {},
     "inputWidgets": {},
     "nuid": "394667a6-04f5-47e4-814e-a3f090782e5f",
     "showTitle": false,
     "title": ""
    }
   },
   "outputs": [
    {
     "output_type": "display_data",
     "data": {
      "text/html": [
       "<style scoped>\n",
       "  .ansiout {\n",
       "    display: block;\n",
       "    unicode-bidi: embed;\n",
       "    white-space: pre-wrap;\n",
       "    word-wrap: break-word;\n",
       "    word-break: break-all;\n",
       "    font-family: \"Menlo\", \"Monaco\", \"Consolas\", \"Ubuntu Mono\", \"Source Code Pro\", monospace;\n",
       "    font-size: 13px;\n",
       "    color: #555;\n",
       "    margin-left: 4px;\n",
       "    line-height: 19px;\n",
       "  }\n",
       "</style>\n",
       "<div class=\"ansiout\"></div>"
      ]
     },
     "metadata": {
      "application/vnd.databricks.v1+output": {
       "addedWidgets": {},
       "arguments": {},
       "data": "<div class=\"ansiout\"></div>",
       "datasetInfos": [],
       "metadata": {},
       "removedWidgets": [],
       "type": "html"
      }
     },
     "output_type": "display_data"
    }
   ],
   "source": [
    "# 91. posexplode\n",
    "from pyspark.sql.functions import posexplode\n",
    "#Returns a new row for each element with position in the given array or map."
   ]
  },
  {
   "cell_type": "code",
   "execution_count": 0,
   "metadata": {
    "application/vnd.databricks.v1+cell": {
     "cellMetadata": {},
     "inputWidgets": {},
     "nuid": "77ee2889-2f7e-413c-a9b2-ca9e2633a509",
     "showTitle": false,
     "title": ""
    }
   },
   "outputs": [
    {
     "output_type": "display_data",
     "data": {
      "text/html": [
       "<style scoped>\n",
       "  .ansiout {\n",
       "    display: block;\n",
       "    unicode-bidi: embed;\n",
       "    white-space: pre-wrap;\n",
       "    word-wrap: break-word;\n",
       "    word-break: break-all;\n",
       "    font-family: \"Menlo\", \"Monaco\", \"Consolas\", \"Ubuntu Mono\", \"Source Code Pro\", monospace;\n",
       "    font-size: 13px;\n",
       "    color: #555;\n",
       "    margin-left: 4px;\n",
       "    line-height: 19px;\n",
       "  }\n",
       "</style>\n",
       "<div class=\"ansiout\">+---+---------+--------+\n",
       "a  |intlist  |mapfield|\n",
       "+---+---------+--------+\n",
       "1  |[1, 2, 3]|[a -&gt; b]|\n",
       "+---+---------+--------+\n",
       "\n",
       "</div>"
      ]
     },
     "metadata": {
      "application/vnd.databricks.v1+output": {
       "addedWidgets": {},
       "arguments": {},
       "data": "<div class=\"ansiout\">+---+---------+--------+\n|a  |intlist  |mapfield|\n+---+---------+--------+\n|1  |[1, 2, 3]|[a -&gt; b]|\n+---+---------+--------+\n\n</div>",
       "datasetInfos": [],
       "metadata": {},
       "removedWidgets": [],
       "type": "html"
      }
     },
     "output_type": "display_data"
    }
   ],
   "source": [
    "df10.show(truncate= False)"
   ]
  },
  {
   "cell_type": "code",
   "execution_count": 0,
   "metadata": {
    "application/vnd.databricks.v1+cell": {
     "cellMetadata": {},
     "inputWidgets": {},
     "nuid": "316e0039-4113-4adb-a286-7eb98dbba1f9",
     "showTitle": false,
     "title": ""
    }
   },
   "outputs": [
    {
     "output_type": "display_data",
     "data": {
      "text/html": [
       "<style scoped>\n",
       "  .ansiout {\n",
       "    display: block;\n",
       "    unicode-bidi: embed;\n",
       "    white-space: pre-wrap;\n",
       "    word-wrap: break-word;\n",
       "    word-break: break-all;\n",
       "    font-family: \"Menlo\", \"Monaco\", \"Consolas\", \"Ubuntu Mono\", \"Source Code Pro\", monospace;\n",
       "    font-size: 13px;\n",
       "    color: #555;\n",
       "    margin-left: 4px;\n",
       "    line-height: 19px;\n",
       "  }\n",
       "</style>\n",
       "<div class=\"ansiout\">+---+---------+--------+---+\n",
       "  a|  intlist|mapfield|col|\n",
       "+---+---------+--------+---+\n",
       "  1|[1, 2, 3]|[a -&gt; b]|  1|\n",
       "  1|[1, 2, 3]|[a -&gt; b]|  2|\n",
       "  1|[1, 2, 3]|[a -&gt; b]|  3|\n",
       "+---+---------+--------+---+\n",
       "\n",
       "</div>"
      ]
     },
     "metadata": {
      "application/vnd.databricks.v1+output": {
       "addedWidgets": {},
       "arguments": {},
       "data": "<div class=\"ansiout\">+---+---------+--------+---+\n|  a|  intlist|mapfield|col|\n+---+---------+--------+---+\n|  1|[1, 2, 3]|[a -&gt; b]|  1|\n|  1|[1, 2, 3]|[a -&gt; b]|  2|\n|  1|[1, 2, 3]|[a -&gt; b]|  3|\n+---+---------+--------+---+\n\n</div>",
       "datasetInfos": [],
       "metadata": {},
       "removedWidgets": [],
       "type": "html"
      }
     },
     "output_type": "display_data"
    }
   ],
   "source": [
    "df10.select(\"*\",explode(df10['intlist'])).show()"
   ]
  },
  {
   "cell_type": "code",
   "execution_count": 0,
   "metadata": {
    "application/vnd.databricks.v1+cell": {
     "cellMetadata": {},
     "inputWidgets": {},
     "nuid": "ffc4e25c-c5cd-447a-b793-beedf6aa93ff",
     "showTitle": false,
     "title": ""
    }
   },
   "outputs": [
    {
     "output_type": "display_data",
     "data": {
      "text/html": [
       "<style scoped>\n",
       "  .ansiout {\n",
       "    display: block;\n",
       "    unicode-bidi: embed;\n",
       "    white-space: pre-wrap;\n",
       "    word-wrap: break-word;\n",
       "    word-break: break-all;\n",
       "    font-family: \"Menlo\", \"Monaco\", \"Consolas\", \"Ubuntu Mono\", \"Source Code Pro\", monospace;\n",
       "    font-size: 13px;\n",
       "    color: #555;\n",
       "    margin-left: 4px;\n",
       "    line-height: 19px;\n",
       "  }\n",
       "</style>\n",
       "<div class=\"ansiout\">+---+---------+--------+---+---+\n",
       "  a|  intlist|mapfield|pos|col|\n",
       "+---+---------+--------+---+---+\n",
       "  1|[1, 2, 3]|[a -&gt; b]|  0|  1|\n",
       "  1|[1, 2, 3]|[a -&gt; b]|  1|  2|\n",
       "  1|[1, 2, 3]|[a -&gt; b]|  2|  3|\n",
       "+---+---------+--------+---+---+\n",
       "\n",
       "</div>"
      ]
     },
     "metadata": {
      "application/vnd.databricks.v1+output": {
       "addedWidgets": {},
       "arguments": {},
       "data": "<div class=\"ansiout\">+---+---------+--------+---+---+\n|  a|  intlist|mapfield|pos|col|\n+---+---------+--------+---+---+\n|  1|[1, 2, 3]|[a -&gt; b]|  0|  1|\n|  1|[1, 2, 3]|[a -&gt; b]|  1|  2|\n|  1|[1, 2, 3]|[a -&gt; b]|  2|  3|\n+---+---------+--------+---+---+\n\n</div>",
       "datasetInfos": [],
       "metadata": {},
       "removedWidgets": [],
       "type": "html"
      }
     },
     "output_type": "display_data"
    }
   ],
   "source": [
    "df10.select(\"*\",posexplode(df10['intlist'])).show()"
   ]
  },
  {
   "cell_type": "code",
   "execution_count": 0,
   "metadata": {
    "application/vnd.databricks.v1+cell": {
     "cellMetadata": {},
     "inputWidgets": {},
     "nuid": "6d062267-4596-45b3-be6a-3efd75736ba2",
     "showTitle": false,
     "title": ""
    }
   },
   "outputs": [
    {
     "output_type": "display_data",
     "data": {
      "text/html": [
       "<style scoped>\n",
       "  .ansiout {\n",
       "    display: block;\n",
       "    unicode-bidi: embed;\n",
       "    white-space: pre-wrap;\n",
       "    word-wrap: break-word;\n",
       "    word-break: break-all;\n",
       "    font-family: \"Menlo\", \"Monaco\", \"Consolas\", \"Ubuntu Mono\", \"Source Code Pro\", monospace;\n",
       "    font-size: 13px;\n",
       "    color: #555;\n",
       "    margin-left: 4px;\n",
       "    line-height: 19px;\n",
       "  }\n",
       "</style>\n",
       "<div class=\"ansiout\"></div>"
      ]
     },
     "metadata": {
      "application/vnd.databricks.v1+output": {
       "addedWidgets": {},
       "arguments": {},
       "data": "<div class=\"ansiout\"></div>",
       "datasetInfos": [],
       "metadata": {},
       "removedWidgets": [],
       "type": "html"
      }
     },
     "output_type": "display_data"
    }
   ],
   "source": [
    "# 92. posexplode_outer\n",
    "from pyspark.sql.functions import posexplode_outer\n",
    "#Returns a new row for each element with position in the given array or map. Unlike posexplode, if the array/map is null or empty then the row (null, null) is produced."
   ]
  },
  {
   "cell_type": "code",
   "execution_count": 0,
   "metadata": {
    "application/vnd.databricks.v1+cell": {
     "cellMetadata": {},
     "inputWidgets": {},
     "nuid": "b4c505ae-02da-4d39-85b6-06eeddbd8d58",
     "showTitle": false,
     "title": ""
    }
   },
   "outputs": [
    {
     "output_type": "display_data",
     "data": {
      "text/html": [
       "<style scoped>\n",
       "  .ansiout {\n",
       "    display: block;\n",
       "    unicode-bidi: embed;\n",
       "    white-space: pre-wrap;\n",
       "    word-wrap: break-word;\n",
       "    word-break: break-all;\n",
       "    font-family: \"Menlo\", \"Monaco\", \"Consolas\", \"Ubuntu Mono\", \"Source Code Pro\", monospace;\n",
       "    font-size: 13px;\n",
       "    color: #555;\n",
       "    margin-left: 4px;\n",
       "    line-height: 19px;\n",
       "  }\n",
       "</style>\n",
       "<div class=\"ansiout\"></div>"
      ]
     },
     "metadata": {
      "application/vnd.databricks.v1+output": {
       "addedWidgets": {},
       "arguments": {},
       "data": "<div class=\"ansiout\"></div>",
       "datasetInfos": [
        {
         "name": "df22",
         "schema": {
          "fields": [
           {
            "metadata": {},
            "name": "id",
            "nullable": true,
            "type": "long"
           },
           {
            "metadata": {},
            "name": "an_array",
            "nullable": true,
            "type": {
             "containsNull": true,
             "elementType": "string",
             "type": "array"
            }
           },
           {
            "metadata": {},
            "name": "a_map",
            "nullable": true,
            "type": {
             "keyType": "string",
             "type": "map",
             "valueContainsNull": true,
             "valueType": "double"
            }
           }
          ],
          "type": "struct"
         },
         "tableIdentifier": null,
         "typeStr": "pyspark.sql.dataframe.DataFrame"
        }
       ],
       "metadata": {},
       "removedWidgets": [],
       "type": "html"
      }
     },
     "output_type": "display_data"
    }
   ],
   "source": [
    "df22 = spark.createDataFrame(data = [(1,[\"foo\", \"bar\"], {\"x\":1.0}),\n",
    "                                     (2,[],{}),\n",
    "                                     (3, None, None)\n",
    "                                    ], \n",
    "                             schema = [\"id\", \"an_array\", \"a_map\"])"
   ]
  },
  {
   "cell_type": "code",
   "execution_count": 0,
   "metadata": {
    "application/vnd.databricks.v1+cell": {
     "cellMetadata": {},
     "inputWidgets": {},
     "nuid": "5faa3d8a-d2ae-495d-8b8b-27c73ecee457",
     "showTitle": false,
     "title": ""
    }
   },
   "outputs": [
    {
     "output_type": "display_data",
     "data": {
      "text/html": [
       "<style scoped>\n",
       "  .ansiout {\n",
       "    display: block;\n",
       "    unicode-bidi: embed;\n",
       "    white-space: pre-wrap;\n",
       "    word-wrap: break-word;\n",
       "    word-break: break-all;\n",
       "    font-family: \"Menlo\", \"Monaco\", \"Consolas\", \"Ubuntu Mono\", \"Source Code Pro\", monospace;\n",
       "    font-size: 13px;\n",
       "    color: #555;\n",
       "    margin-left: 4px;\n",
       "    line-height: 19px;\n",
       "  }\n",
       "</style>\n",
       "<div class=\"ansiout\">+---+----------+----------+\n",
       " id|  an_array|     a_map|\n",
       "+---+----------+----------+\n",
       "  1|[foo, bar]|[x -&gt; 1.0]|\n",
       "  2|        []|        []|\n",
       "  3|      null|      null|\n",
       "+---+----------+----------+\n",
       "\n",
       "</div>"
      ]
     },
     "metadata": {
      "application/vnd.databricks.v1+output": {
       "addedWidgets": {},
       "arguments": {},
       "data": "<div class=\"ansiout\">+---+----------+----------+\n| id|  an_array|     a_map|\n+---+----------+----------+\n|  1|[foo, bar]|[x -&gt; 1.0]|\n|  2|        []|        []|\n|  3|      null|      null|\n+---+----------+----------+\n\n</div>",
       "datasetInfos": [],
       "metadata": {},
       "removedWidgets": [],
       "type": "html"
      }
     },
     "output_type": "display_data"
    }
   ],
   "source": [
    "df22.show()"
   ]
  },
  {
   "cell_type": "code",
   "execution_count": 0,
   "metadata": {
    "application/vnd.databricks.v1+cell": {
     "cellMetadata": {},
     "inputWidgets": {},
     "nuid": "94eb3e20-6032-4efe-b96a-6b1ff3b41404",
     "showTitle": false,
     "title": ""
    }
   },
   "outputs": [
    {
     "output_type": "display_data",
     "data": {
      "text/html": [
       "<style scoped>\n",
       "  .ansiout {\n",
       "    display: block;\n",
       "    unicode-bidi: embed;\n",
       "    white-space: pre-wrap;\n",
       "    word-wrap: break-word;\n",
       "    word-break: break-all;\n",
       "    font-family: \"Menlo\", \"Monaco\", \"Consolas\", \"Ubuntu Mono\", \"Source Code Pro\", monospace;\n",
       "    font-size: 13px;\n",
       "    color: #555;\n",
       "    margin-left: 4px;\n",
       "    line-height: 19px;\n",
       "  }\n",
       "</style>\n",
       "<div class=\"ansiout\">+---+----------+----------+----+----+\n",
       " id|  an_array|     a_map| pos| col|\n",
       "+---+----------+----------+----+----+\n",
       "  1|[foo, bar]|[x -&gt; 1.0]|   0| foo|\n",
       "  1|[foo, bar]|[x -&gt; 1.0]|   1| bar|\n",
       "  2|        []|        []|null|null|\n",
       "  3|      null|      null|null|null|\n",
       "+---+----------+----------+----+----+\n",
       "\n",
       "</div>"
      ]
     },
     "metadata": {
      "application/vnd.databricks.v1+output": {
       "addedWidgets": {},
       "arguments": {},
       "data": "<div class=\"ansiout\">+---+----------+----------+----+----+\n| id|  an_array|     a_map| pos| col|\n+---+----------+----------+----+----+\n|  1|[foo, bar]|[x -&gt; 1.0]|   0| foo|\n|  1|[foo, bar]|[x -&gt; 1.0]|   1| bar|\n|  2|        []|        []|null|null|\n|  3|      null|      null|null|null|\n+---+----------+----------+----+----+\n\n</div>",
       "datasetInfos": [],
       "metadata": {},
       "removedWidgets": [],
       "type": "html"
      }
     },
     "output_type": "display_data"
    }
   ],
   "source": [
    "df22.select(\"*\",posexplode_outer(df22['an_array'])).show()"
   ]
  },
  {
   "cell_type": "code",
   "execution_count": 0,
   "metadata": {
    "application/vnd.databricks.v1+cell": {
     "cellMetadata": {},
     "inputWidgets": {},
     "nuid": "84900735-2988-44ab-9634-f52d6344f897",
     "showTitle": false,
     "title": ""
    }
   },
   "outputs": [
    {
     "output_type": "display_data",
     "data": {
      "text/html": [
       "<style scoped>\n",
       "  .ansiout {\n",
       "    display: block;\n",
       "    unicode-bidi: embed;\n",
       "    white-space: pre-wrap;\n",
       "    word-wrap: break-word;\n",
       "    word-break: break-all;\n",
       "    font-family: \"Menlo\", \"Monaco\", \"Consolas\", \"Ubuntu Mono\", \"Source Code Pro\", monospace;\n",
       "    font-size: 13px;\n",
       "    color: #555;\n",
       "    margin-left: 4px;\n",
       "    line-height: 19px;\n",
       "  }\n",
       "</style>\n",
       "<div class=\"ansiout\">+---+----------+----------+---+---+\n",
       " id|  an_array|     a_map|pos|col|\n",
       "+---+----------+----------+---+---+\n",
       "  1|[foo, bar]|[x -&gt; 1.0]|  0|foo|\n",
       "  1|[foo, bar]|[x -&gt; 1.0]|  1|bar|\n",
       "+---+----------+----------+---+---+\n",
       "\n",
       "</div>"
      ]
     },
     "metadata": {
      "application/vnd.databricks.v1+output": {
       "addedWidgets": {},
       "arguments": {},
       "data": "<div class=\"ansiout\">+---+----------+----------+---+---+\n| id|  an_array|     a_map|pos|col|\n+---+----------+----------+---+---+\n|  1|[foo, bar]|[x -&gt; 1.0]|  0|foo|\n|  1|[foo, bar]|[x -&gt; 1.0]|  1|bar|\n+---+----------+----------+---+---+\n\n</div>",
       "datasetInfos": [],
       "metadata": {},
       "removedWidgets": [],
       "type": "html"
      }
     },
     "output_type": "display_data"
    }
   ],
   "source": [
    "df22.select(\"*\",posexplode(df22['an_array'])).show()"
   ]
  },
  {
   "cell_type": "code",
   "execution_count": 0,
   "metadata": {
    "application/vnd.databricks.v1+cell": {
     "cellMetadata": {},
     "inputWidgets": {},
     "nuid": "68166a52-6aa3-46a4-8381-33029d3f916c",
     "showTitle": false,
     "title": ""
    }
   },
   "outputs": [
    {
     "output_type": "display_data",
     "data": {
      "text/html": [
       "<style scoped>\n",
       "  .ansiout {\n",
       "    display: block;\n",
       "    unicode-bidi: embed;\n",
       "    white-space: pre-wrap;\n",
       "    word-wrap: break-word;\n",
       "    word-break: break-all;\n",
       "    font-family: \"Menlo\", \"Monaco\", \"Consolas\", \"Ubuntu Mono\", \"Source Code Pro\", monospace;\n",
       "    font-size: 13px;\n",
       "    color: #555;\n",
       "    margin-left: 4px;\n",
       "    line-height: 19px;\n",
       "  }\n",
       "</style>\n",
       "<div class=\"ansiout\"></div>"
      ]
     },
     "metadata": {
      "application/vnd.databricks.v1+output": {
       "addedWidgets": {},
       "arguments": {},
       "data": "<div class=\"ansiout\"></div>",
       "datasetInfos": [],
       "metadata": {},
       "removedWidgets": [],
       "type": "html"
      }
     },
     "output_type": "display_data"
    }
   ],
   "source": [
    "# 93. pow\n",
    "from pyspark.sql.functions import pow\n",
    "# Returns the value of the first argument raised to the power of the second argument."
   ]
  },
  {
   "cell_type": "code",
   "execution_count": 0,
   "metadata": {
    "application/vnd.databricks.v1+cell": {
     "cellMetadata": {},
     "inputWidgets": {},
     "nuid": "7186dcdd-9e3b-4803-9ac1-f4e1bda95f68",
     "showTitle": false,
     "title": ""
    }
   },
   "outputs": [
    {
     "output_type": "display_data",
     "data": {
      "text/html": [
       "<style scoped>\n",
       "  .ansiout {\n",
       "    display: block;\n",
       "    unicode-bidi: embed;\n",
       "    white-space: pre-wrap;\n",
       "    word-wrap: break-word;\n",
       "    word-break: break-all;\n",
       "    font-family: \"Menlo\", \"Monaco\", \"Consolas\", \"Ubuntu Mono\", \"Source Code Pro\", monospace;\n",
       "    font-size: 13px;\n",
       "    color: #555;\n",
       "    margin-left: 4px;\n",
       "    line-height: 19px;\n",
       "  }\n",
       "</style>\n",
       "<div class=\"ansiout\">+----------+----+------+------+---+------+----+----------------------+\n",
       "total_bill| tip|   sex|smoker|day|  time|size|POWER(total_bill, tip)|\n",
       "+----------+----+------+------+---+------+----+----------------------+\n",
       "     16.99|1.01|Female|    No|Sun|Dinner|   2|    17.478143981478883|\n",
       "     10.34|1.66|  Male|    No|Sun|Dinner|   3|     48.31745983830698|\n",
       "     21.01| 3.5|  Male|    No|Sun|Dinner|   3|     42510.00767927687|\n",
       "     23.68|3.31|  Male|    No|Sun|Dinner|   2|      35416.3189841523|\n",
       "     24.59|3.61|Female|    No|Sun|Dinner|   4|     104866.8659182668|\n",
       "     25.29|4.71|  Male|    No|Sun|Dinner|   4|     4054048.931335614|\n",
       "      8.77| 2.0|  Male|    No|Sun|Dinner|   2|               76.9129|\n",
       "     26.88|3.12|  Male|    No|Sun|Dinner|   4|    28828.318055287225|\n",
       "     15.04|1.96|  Male|    No|Sun|Dinner|   2|    202.95780581363334|\n",
       "     14.78|3.23|  Male|    No|Sun|Dinner|   2|     5998.579541685887|\n",
       "     10.27|1.71|  Male|    No|Sun|Dinner|   2|     53.67665682110031|\n",
       "     35.26| 5.0|Female|    No|Sun|Dinner|   4|   5.450188710689612E7|\n",
       "     15.42|1.57|  Male|    No|Sun|Dinner|   2|     73.33182050339033|\n",
       "     18.43| 3.0|  Male|    No|Sun|Dinner|   4|     6260.024106999999|\n",
       "     14.83|3.02|Female|    No|Sun|Dinner|   2|     3442.280654226548|\n",
       "     21.58|3.92|  Male|    No|Sun|Dinner|   2|    169621.79164070424|\n",
       "     10.33|1.67|Female|    No|Sun|Dinner|   3|     49.37959651335513|\n",
       "     16.29|3.71|  Male|    No|Sun|Dinner|   3|    31349.254876935727|\n",
       "     16.97| 3.5|Female|    No|Sun|Dinner|   3|     20131.97804536581|\n",
       "     20.65|3.35|  Male|    No|Sat|Dinner|   3|    25408.684906433733|\n",
       "     17.92|4.08|  Male|    No|Sat|Dinner|   2|    129902.96436899502|\n",
       "     20.29|2.75|Female|    No|Sat|Dinner|   2|     3935.733010029709|\n",
       "     15.77|2.23|Female|    No|Sat|Dinner|   2|     468.9911808792816|\n",
       "     39.42|7.58|  Male|    No|Sat|Dinner|   4|  1.246039985751548...|\n",
       "     19.82|3.18|  Male|    No|Sat|Dinner|   2|    13328.755685718988|\n",
       "     17.81|2.34|  Male|    No|Sat|Dinner|   4|     844.4103960731943|\n",
       "     13.37| 2.0|  Male|    No|Sat|Dinner|   2|    178.75689999999997|\n",
       "     12.69| 2.0|  Male|    No|Sat|Dinner|   2|    161.03609999999998|\n",
       "      21.7| 4.3|  Male|    No|Sat|Dinner|   2|     558183.3213812234|\n",
       "     19.65| 3.0|Female|    No|Sat|Dinner|   2|     7587.307124999998|\n",
       "+----------+----+------+------+---+------+----+----------------------+\n",
       "only showing top 30 rows\n",
       "\n",
       "</div>"
      ]
     },
     "metadata": {
      "application/vnd.databricks.v1+output": {
       "addedWidgets": {},
       "arguments": {},
       "data": "<div class=\"ansiout\">+----------+----+------+------+---+------+----+----------------------+\n|total_bill| tip|   sex|smoker|day|  time|size|POWER(total_bill, tip)|\n+----------+----+------+------+---+------+----+----------------------+\n|     16.99|1.01|Female|    No|Sun|Dinner|   2|    17.478143981478883|\n|     10.34|1.66|  Male|    No|Sun|Dinner|   3|     48.31745983830698|\n|     21.01| 3.5|  Male|    No|Sun|Dinner|   3|     42510.00767927687|\n|     23.68|3.31|  Male|    No|Sun|Dinner|   2|      35416.3189841523|\n|     24.59|3.61|Female|    No|Sun|Dinner|   4|     104866.8659182668|\n|     25.29|4.71|  Male|    No|Sun|Dinner|   4|     4054048.931335614|\n|      8.77| 2.0|  Male|    No|Sun|Dinner|   2|               76.9129|\n|     26.88|3.12|  Male|    No|Sun|Dinner|   4|    28828.318055287225|\n|     15.04|1.96|  Male|    No|Sun|Dinner|   2|    202.95780581363334|\n|     14.78|3.23|  Male|    No|Sun|Dinner|   2|     5998.579541685887|\n|     10.27|1.71|  Male|    No|Sun|Dinner|   2|     53.67665682110031|\n|     35.26| 5.0|Female|    No|Sun|Dinner|   4|   5.450188710689612E7|\n|     15.42|1.57|  Male|    No|Sun|Dinner|   2|     73.33182050339033|\n|     18.43| 3.0|  Male|    No|Sun|Dinner|   4|     6260.024106999999|\n|     14.83|3.02|Female|    No|Sun|Dinner|   2|     3442.280654226548|\n|     21.58|3.92|  Male|    No|Sun|Dinner|   2|    169621.79164070424|\n|     10.33|1.67|Female|    No|Sun|Dinner|   3|     49.37959651335513|\n|     16.29|3.71|  Male|    No|Sun|Dinner|   3|    31349.254876935727|\n|     16.97| 3.5|Female|    No|Sun|Dinner|   3|     20131.97804536581|\n|     20.65|3.35|  Male|    No|Sat|Dinner|   3|    25408.684906433733|\n|     17.92|4.08|  Male|    No|Sat|Dinner|   2|    129902.96436899502|\n|     20.29|2.75|Female|    No|Sat|Dinner|   2|     3935.733010029709|\n|     15.77|2.23|Female|    No|Sat|Dinner|   2|     468.9911808792816|\n|     39.42|7.58|  Male|    No|Sat|Dinner|   4|  1.246039985751548...|\n|     19.82|3.18|  Male|    No|Sat|Dinner|   2|    13328.755685718988|\n|     17.81|2.34|  Male|    No|Sat|Dinner|   4|     844.4103960731943|\n|     13.37| 2.0|  Male|    No|Sat|Dinner|   2|    178.75689999999997|\n|     12.69| 2.0|  Male|    No|Sat|Dinner|   2|    161.03609999999998|\n|      21.7| 4.3|  Male|    No|Sat|Dinner|   2|     558183.3213812234|\n|     19.65| 3.0|Female|    No|Sat|Dinner|   2|     7587.307124999998|\n+----------+----+------+------+---+------+----+----------------------+\nonly showing top 30 rows\n\n</div>",
       "datasetInfos": [],
       "metadata": {},
       "removedWidgets": [],
       "type": "html"
      }
     },
     "output_type": "display_data"
    }
   ],
   "source": [
    "tipss.select(\"*\",pow(col1 = tipss['total_bill'], col2 = tipss['tip'])).show(30)"
   ]
  },
  {
   "cell_type": "code",
   "execution_count": 0,
   "metadata": {
    "application/vnd.databricks.v1+cell": {
     "cellMetadata": {},
     "inputWidgets": {},
     "nuid": "5884abfd-8bda-4065-992e-0a0646fd9869",
     "showTitle": false,
     "title": ""
    }
   },
   "outputs": [
    {
     "output_type": "display_data",
     "data": {
      "text/html": [
       "<style scoped>\n",
       "  .ansiout {\n",
       "    display: block;\n",
       "    unicode-bidi: embed;\n",
       "    white-space: pre-wrap;\n",
       "    word-wrap: break-word;\n",
       "    word-break: break-all;\n",
       "    font-family: \"Menlo\", \"Monaco\", \"Consolas\", \"Ubuntu Mono\", \"Source Code Pro\", monospace;\n",
       "    font-size: 13px;\n",
       "    color: #555;\n",
       "    margin-left: 4px;\n",
       "    line-height: 19px;\n",
       "  }\n",
       "</style>\n",
       "<div class=\"ansiout\"></div>"
      ]
     },
     "metadata": {
      "application/vnd.databricks.v1+output": {
       "addedWidgets": {},
       "arguments": {},
       "data": "<div class=\"ansiout\"></div>",
       "datasetInfos": [],
       "metadata": {},
       "removedWidgets": [],
       "type": "html"
      }
     },
     "output_type": "display_data"
    }
   ],
   "source": [
    "# 94. quarter\n",
    "from pyspark.sql.functions import quarter\n",
    "#Extract the quarter of a given date as integer."
   ]
  },
  {
   "cell_type": "code",
   "execution_count": 0,
   "metadata": {
    "application/vnd.databricks.v1+cell": {
     "cellMetadata": {},
     "inputWidgets": {},
     "nuid": "8b2c8f7f-2aa1-4461-9a5a-74b56ca25a9f",
     "showTitle": false,
     "title": ""
    }
   },
   "outputs": [
    {
     "output_type": "display_data",
     "data": {
      "text/html": [
       "<style scoped>\n",
       "  .ansiout {\n",
       "    display: block;\n",
       "    unicode-bidi: embed;\n",
       "    white-space: pre-wrap;\n",
       "    word-wrap: break-word;\n",
       "    word-break: break-all;\n",
       "    font-family: \"Menlo\", \"Monaco\", \"Consolas\", \"Ubuntu Mono\", \"Source Code Pro\", monospace;\n",
       "    font-size: 13px;\n",
       "    color: #555;\n",
       "    margin-left: 4px;\n",
       "    line-height: 19px;\n",
       "  }\n",
       "</style>\n",
       "<div class=\"ansiout\">+----------+----------+\n",
       "        d1|        d2|\n",
       "+----------+----------+\n",
       "2015-04-08|2015-05-10|\n",
       "+----------+----------+\n",
       "\n",
       "</div>"
      ]
     },
     "metadata": {
      "application/vnd.databricks.v1+output": {
       "addedWidgets": {},
       "arguments": {},
       "data": "<div class=\"ansiout\">+----------+----------+\n|        d1|        d2|\n+----------+----------+\n|2015-04-08|2015-05-10|\n+----------+----------+\n\n</div>",
       "datasetInfos": [],
       "metadata": {},
       "removedWidgets": [],
       "type": "html"
      }
     },
     "output_type": "display_data"
    }
   ],
   "source": [
    "df8.show()"
   ]
  },
  {
   "cell_type": "code",
   "execution_count": 0,
   "metadata": {
    "application/vnd.databricks.v1+cell": {
     "cellMetadata": {},
     "inputWidgets": {},
     "nuid": "2d74e33a-9b49-4275-8c03-9e040fa3724e",
     "showTitle": false,
     "title": ""
    }
   },
   "outputs": [
    {
     "output_type": "display_data",
     "data": {
      "text/html": [
       "<style scoped>\n",
       "  .ansiout {\n",
       "    display: block;\n",
       "    unicode-bidi: embed;\n",
       "    white-space: pre-wrap;\n",
       "    word-wrap: break-word;\n",
       "    word-break: break-all;\n",
       "    font-family: \"Menlo\", \"Monaco\", \"Consolas\", \"Ubuntu Mono\", \"Source Code Pro\", monospace;\n",
       "    font-size: 13px;\n",
       "    color: #555;\n",
       "    margin-left: 4px;\n",
       "    line-height: 19px;\n",
       "  }\n",
       "</style>\n",
       "<div class=\"ansiout\">+-----------+\n",
       "quarter(d2)|\n",
       "+-----------+\n",
       "          2|\n",
       "+-----------+\n",
       "\n",
       "</div>"
      ]
     },
     "metadata": {
      "application/vnd.databricks.v1+output": {
       "addedWidgets": {},
       "arguments": {},
       "data": "<div class=\"ansiout\">+-----------+\n|quarter(d2)|\n+-----------+\n|          2|\n+-----------+\n\n</div>",
       "datasetInfos": [],
       "metadata": {},
       "removedWidgets": [],
       "type": "html"
      }
     },
     "output_type": "display_data"
    }
   ],
   "source": [
    "df8.select(quarter(df8['d2'])).show()"
   ]
  },
  {
   "cell_type": "code",
   "execution_count": 0,
   "metadata": {
    "application/vnd.databricks.v1+cell": {
     "cellMetadata": {},
     "inputWidgets": {},
     "nuid": "ea77abef-f00e-4bbf-b47f-d44f3c06b3df",
     "showTitle": false,
     "title": ""
    }
   },
   "outputs": [
    {
     "output_type": "display_data",
     "data": {
      "text/html": [
       "<style scoped>\n",
       "  .ansiout {\n",
       "    display: block;\n",
       "    unicode-bidi: embed;\n",
       "    white-space: pre-wrap;\n",
       "    word-wrap: break-word;\n",
       "    word-break: break-all;\n",
       "    font-family: \"Menlo\", \"Monaco\", \"Consolas\", \"Ubuntu Mono\", \"Source Code Pro\", monospace;\n",
       "    font-size: 13px;\n",
       "    color: #555;\n",
       "    margin-left: 4px;\n",
       "    line-height: 19px;\n",
       "  }\n",
       "</style>\n",
       "<div class=\"ansiout\">+--------------------------+\n",
       "quarter(add_months(d2, 5))|\n",
       "+--------------------------+\n",
       "                         4|\n",
       "+--------------------------+\n",
       "\n",
       "</div>"
      ]
     },
     "metadata": {
      "application/vnd.databricks.v1+output": {
       "addedWidgets": {},
       "arguments": {},
       "data": "<div class=\"ansiout\">+--------------------------+\n|quarter(add_months(d2, 5))|\n+--------------------------+\n|                         4|\n+--------------------------+\n\n</div>",
       "datasetInfos": [],
       "metadata": {},
       "removedWidgets": [],
       "type": "html"
      }
     },
     "output_type": "display_data"
    }
   ],
   "source": [
    "df8.select(quarter(add_months(df8['d2'],5))).show()"
   ]
  },
  {
   "cell_type": "code",
   "execution_count": 0,
   "metadata": {
    "application/vnd.databricks.v1+cell": {
     "cellMetadata": {},
     "inputWidgets": {},
     "nuid": "036acb5b-9699-4779-a2bd-027793d8f0dc",
     "showTitle": false,
     "title": ""
    }
   },
   "outputs": [
    {
     "output_type": "display_data",
     "data": {
      "text/html": [
       "<style scoped>\n",
       "  .ansiout {\n",
       "    display: block;\n",
       "    unicode-bidi: embed;\n",
       "    white-space: pre-wrap;\n",
       "    word-wrap: break-word;\n",
       "    word-break: break-all;\n",
       "    font-family: \"Menlo\", \"Monaco\", \"Consolas\", \"Ubuntu Mono\", \"Source Code Pro\", monospace;\n",
       "    font-size: 13px;\n",
       "    color: #555;\n",
       "    margin-left: 4px;\n",
       "    line-height: 19px;\n",
       "  }\n",
       "</style>\n",
       "<div class=\"ansiout\">Help on function quarter in module pyspark.sql.functions:\n",
       "\n",
       "quarter(col)\n",
       "    Extract the quarter of a given date as integer.\n",
       "    \n",
       "    &gt;&gt;&gt; df = spark.createDataFrame([(&#39;2015-04-08&#39;,)], [&#39;dt&#39;])\n",
       "    &gt;&gt;&gt; df.select(quarter(&#39;dt&#39;).alias(&#39;quarter&#39;)).collect()\n",
       "    [Row(quarter=2)]\n",
       "    \n",
       "    .. versionadded:: 1.5\n",
       "\n",
       "</div>"
      ]
     },
     "metadata": {
      "application/vnd.databricks.v1+output": {
       "addedWidgets": {},
       "arguments": {},
       "data": "<div class=\"ansiout\">Help on function quarter in module pyspark.sql.functions:\n\nquarter(col)\n    Extract the quarter of a given date as integer.\n    \n    &gt;&gt;&gt; df = spark.createDataFrame([(&#39;2015-04-08&#39;,)], [&#39;dt&#39;])\n    &gt;&gt;&gt; df.select(quarter(&#39;dt&#39;).alias(&#39;quarter&#39;)).collect()\n    [Row(quarter=2)]\n    \n    .. versionadded:: 1.5\n\n</div>",
       "datasetInfos": [],
       "metadata": {},
       "removedWidgets": [],
       "type": "html"
      }
     },
     "output_type": "display_data"
    }
   ],
   "source": [
    "help(quarter)"
   ]
  },
  {
   "cell_type": "code",
   "execution_count": 0,
   "metadata": {
    "application/vnd.databricks.v1+cell": {
     "cellMetadata": {},
     "inputWidgets": {},
     "nuid": "0625bffe-6c80-49a6-b958-8846147e40d7",
     "showTitle": false,
     "title": ""
    }
   },
   "outputs": [
    {
     "output_type": "display_data",
     "data": {
      "text/html": [
       "<style scoped>\n",
       "  .ansiout {\n",
       "    display: block;\n",
       "    unicode-bidi: embed;\n",
       "    white-space: pre-wrap;\n",
       "    word-wrap: break-word;\n",
       "    word-break: break-all;\n",
       "    font-family: \"Menlo\", \"Monaco\", \"Consolas\", \"Ubuntu Mono\", \"Source Code Pro\", monospace;\n",
       "    font-size: 13px;\n",
       "    color: #555;\n",
       "    margin-left: 4px;\n",
       "    line-height: 19px;\n",
       "  }\n",
       "</style>\n",
       "<div class=\"ansiout\"></div>"
      ]
     },
     "metadata": {
      "application/vnd.databricks.v1+output": {
       "addedWidgets": {},
       "arguments": {},
       "data": "<div class=\"ansiout\"></div>",
       "datasetInfos": [],
       "metadata": {},
       "removedWidgets": [],
       "type": "html"
      }
     },
     "output_type": "display_data"
    }
   ],
   "source": [
    "# 95. radians\n",
    "from pyspark.sql.functions import radians\n",
    "#Converts an angle measured in degrees to an approximately equivalent angle measured in radians. Param col: angle in degrees :return: angle in radians"
   ]
  },
  {
   "cell_type": "code",
   "execution_count": 0,
   "metadata": {
    "application/vnd.databricks.v1+cell": {
     "cellMetadata": {},
     "inputWidgets": {},
     "nuid": "50097d58-76dc-49b1-808a-759341985f76",
     "showTitle": false,
     "title": ""
    }
   },
   "outputs": [
    {
     "output_type": "display_data",
     "data": {
      "text/html": [
       "<style scoped>\n",
       "  .ansiout {\n",
       "    display: block;\n",
       "    unicode-bidi: embed;\n",
       "    white-space: pre-wrap;\n",
       "    word-wrap: break-word;\n",
       "    word-break: break-all;\n",
       "    font-family: \"Menlo\", \"Monaco\", \"Consolas\", \"Ubuntu Mono\", \"Source Code Pro\", monospace;\n",
       "    font-size: 13px;\n",
       "    color: #555;\n",
       "    margin-left: 4px;\n",
       "    line-height: 19px;\n",
       "  }\n",
       "</style>\n",
       "<div class=\"ansiout\">+----------+-------------------+\n",
       "total_bill| total_bill_radians|\n",
       "+----------+-------------------+\n",
       "     16.99|0.29653143991383657|\n",
       "     10.34|0.18046704465621366|\n",
       "     21.01|0.36669367584400864|\n",
       "     23.68| 0.4132939668722573|\n",
       "     24.59| 0.4291764630654056|\n",
       "     25.29| 0.4413937678293659|\n",
       "      8.77| 0.1530653753999027|\n",
       "     26.88|0.46914450293607574|\n",
       "     15.04|0.26249751949994715|\n",
       "     14.78| 0.2579596634447619|\n",
       "     10.27|0.17924531417981762|\n",
       "     35.26| 0.6154030942532006|\n",
       "     15.42|0.26912977065752564|\n",
       "     18.43| 0.3216641811425549|\n",
       "     14.83|0.25883232807075907|\n",
       "     21.58|0.37664205258037625|\n",
       "     10.33|0.18029251173101424|\n",
       "     16.29|0.28431413514987625|\n",
       "     16.97|0.29618237406343767|\n",
       "     20.65|  0.360410490536829|\n",
       "+----------+-------------------+\n",
       "only showing top 20 rows\n",
       "\n",
       "</div>"
      ]
     },
     "metadata": {
      "application/vnd.databricks.v1+output": {
       "addedWidgets": {},
       "arguments": {},
       "data": "<div class=\"ansiout\">+----------+-------------------+\n|total_bill| total_bill_radians|\n+----------+-------------------+\n|     16.99|0.29653143991383657|\n|     10.34|0.18046704465621366|\n|     21.01|0.36669367584400864|\n|     23.68| 0.4132939668722573|\n|     24.59| 0.4291764630654056|\n|     25.29| 0.4413937678293659|\n|      8.77| 0.1530653753999027|\n|     26.88|0.46914450293607574|\n|     15.04|0.26249751949994715|\n|     14.78| 0.2579596634447619|\n|     10.27|0.17924531417981762|\n|     35.26| 0.6154030942532006|\n|     15.42|0.26912977065752564|\n|     18.43| 0.3216641811425549|\n|     14.83|0.25883232807075907|\n|     21.58|0.37664205258037625|\n|     10.33|0.18029251173101424|\n|     16.29|0.28431413514987625|\n|     16.97|0.29618237406343767|\n|     20.65|  0.360410490536829|\n+----------+-------------------+\nonly showing top 20 rows\n\n</div>",
       "datasetInfos": [],
       "metadata": {},
       "removedWidgets": [],
       "type": "html"
      }
     },
     "output_type": "display_data"
    }
   ],
   "source": [
    "tipss.select(tipss['total_bill'],radians(col = tipss['total_bill']).alias('total_bill_radians')).show()"
   ]
  },
  {
   "cell_type": "code",
   "execution_count": 0,
   "metadata": {
    "application/vnd.databricks.v1+cell": {
     "cellMetadata": {},
     "inputWidgets": {},
     "nuid": "c44b37c9-c3cd-4b3e-946e-e42b4fd03d32",
     "showTitle": false,
     "title": ""
    }
   },
   "outputs": [
    {
     "output_type": "display_data",
     "data": {
      "text/html": [
       "<style scoped>\n",
       "  .ansiout {\n",
       "    display: block;\n",
       "    unicode-bidi: embed;\n",
       "    white-space: pre-wrap;\n",
       "    word-wrap: break-word;\n",
       "    word-break: break-all;\n",
       "    font-family: \"Menlo\", \"Monaco\", \"Consolas\", \"Ubuntu Mono\", \"Source Code Pro\", monospace;\n",
       "    font-size: 13px;\n",
       "    color: #555;\n",
       "    margin-left: 4px;\n",
       "    line-height: 19px;\n",
       "  }\n",
       "</style>\n",
       "<div class=\"ansiout\"></div>"
      ]
     },
     "metadata": {
      "application/vnd.databricks.v1+output": {
       "addedWidgets": {},
       "arguments": {},
       "data": "<div class=\"ansiout\"></div>",
       "datasetInfos": [],
       "metadata": {},
       "removedWidgets": [],
       "type": "html"
      }
     },
     "output_type": "display_data"
    }
   ],
   "source": [
    "#96. rand\n",
    "from pyspark.sql.functions import rand\n",
    "#Generates a random column with independent and identically distributed (i.i.d.) samples from U[0.0, 1.0]."
   ]
  },
  {
   "cell_type": "code",
   "execution_count": 0,
   "metadata": {
    "application/vnd.databricks.v1+cell": {
     "cellMetadata": {},
     "inputWidgets": {},
     "nuid": "2f428c4d-4d54-4971-98f4-1c1cd7e7f5ee",
     "showTitle": false,
     "title": ""
    }
   },
   "outputs": [
    {
     "output_type": "display_data",
     "data": {
      "text/html": [
       "<style scoped>\n",
       "  .ansiout {\n",
       "    display: block;\n",
       "    unicode-bidi: embed;\n",
       "    white-space: pre-wrap;\n",
       "    word-wrap: break-word;\n",
       "    word-break: break-all;\n",
       "    font-family: \"Menlo\", \"Monaco\", \"Consolas\", \"Ubuntu Mono\", \"Source Code Pro\", monospace;\n",
       "    font-size: 13px;\n",
       "    color: #555;\n",
       "    margin-left: 4px;\n",
       "    line-height: 19px;\n",
       "  }\n",
       "</style>\n",
       "<div class=\"ansiout\">+--------------------+\n",
       "            rand(42)|\n",
       "+--------------------+\n",
       "   0.619189370225301|\n",
       "  0.5096018842446481|\n",
       "  0.8325259388871524|\n",
       " 0.26322809041172357|\n",
       "  0.6702867696264135|\n",
       "  0.5173283545794627|\n",
       "  0.9991441647585968|\n",
       " 0.06993233728279169|\n",
       "  0.9696695610826327|\n",
       "  0.7959575617927873|\n",
       "  0.4484250584033179|\n",
       "  0.6793959570375868|\n",
       "  0.3724113862805264|\n",
       "   0.832609472539921|\n",
       "  0.7479557402720448|\n",
       "  0.7216183163402288|\n",
       "0.016051221049720343|\n",
       "  0.6307120027798567|\n",
       "    0.07537082371587|\n",
       "   0.838930558220017|\n",
       "+--------------------+\n",
       "only showing top 20 rows\n",
       "\n",
       "</div>"
      ]
     },
     "metadata": {
      "application/vnd.databricks.v1+output": {
       "addedWidgets": {},
       "arguments": {},
       "data": "<div class=\"ansiout\">+--------------------+\n|            rand(42)|\n+--------------------+\n|   0.619189370225301|\n|  0.5096018842446481|\n|  0.8325259388871524|\n| 0.26322809041172357|\n|  0.6702867696264135|\n|  0.5173283545794627|\n|  0.9991441647585968|\n| 0.06993233728279169|\n|  0.9696695610826327|\n|  0.7959575617927873|\n|  0.4484250584033179|\n|  0.6793959570375868|\n|  0.3724113862805264|\n|   0.832609472539921|\n|  0.7479557402720448|\n|  0.7216183163402288|\n|0.016051221049720343|\n|  0.6307120027798567|\n|    0.07537082371587|\n|   0.838930558220017|\n+--------------------+\nonly showing top 20 rows\n\n</div>",
       "datasetInfos": [],
       "metadata": {},
       "removedWidgets": [],
       "type": "html"
      }
     },
     "output_type": "display_data"
    }
   ],
   "source": [
    "tipss.select(rand(seed = 42)).show()"
   ]
  },
  {
   "cell_type": "code",
   "execution_count": 0,
   "metadata": {
    "application/vnd.databricks.v1+cell": {
     "cellMetadata": {},
     "inputWidgets": {},
     "nuid": "f155c8f8-557c-4425-a289-3190eb900f8e",
     "showTitle": false,
     "title": ""
    }
   },
   "outputs": [
    {
     "output_type": "display_data",
     "data": {
      "text/html": [
       "<style scoped>\n",
       "  .ansiout {\n",
       "    display: block;\n",
       "    unicode-bidi: embed;\n",
       "    white-space: pre-wrap;\n",
       "    word-wrap: break-word;\n",
       "    word-break: break-all;\n",
       "    font-family: \"Menlo\", \"Monaco\", \"Consolas\", \"Ubuntu Mono\", \"Source Code Pro\", monospace;\n",
       "    font-size: 13px;\n",
       "    color: #555;\n",
       "    margin-left: 4px;\n",
       "    line-height: 19px;\n",
       "  }\n",
       "</style>\n",
       "<div class=\"ansiout\"></div>"
      ]
     },
     "metadata": {
      "application/vnd.databricks.v1+output": {
       "addedWidgets": {},
       "arguments": {},
       "data": "<div class=\"ansiout\"></div>",
       "datasetInfos": [],
       "metadata": {},
       "removedWidgets": [],
       "type": "html"
      }
     },
     "output_type": "display_data"
    }
   ],
   "source": [
    "# 97. randn\n",
    "from pyspark.sql.functions import randn\n",
    "#Generates a column with independent and identically distributed (i.i.d.) samples from the standard normal distribution."
   ]
  },
  {
   "cell_type": "code",
   "execution_count": 0,
   "metadata": {
    "application/vnd.databricks.v1+cell": {
     "cellMetadata": {},
     "inputWidgets": {},
     "nuid": "17beac63-8308-4d7f-9bd5-1ee000700776",
     "showTitle": false,
     "title": ""
    }
   },
   "outputs": [
    {
     "output_type": "display_data",
     "data": {
      "text/html": [
       "<style scoped>\n",
       "  .ansiout {\n",
       "    display: block;\n",
       "    unicode-bidi: embed;\n",
       "    white-space: pre-wrap;\n",
       "    word-wrap: break-word;\n",
       "    word-break: break-all;\n",
       "    font-family: \"Menlo\", \"Monaco\", \"Consolas\", \"Ubuntu Mono\", \"Source Code Pro\", monospace;\n",
       "    font-size: 13px;\n",
       "    color: #555;\n",
       "    margin-left: 4px;\n",
       "    line-height: 19px;\n",
       "  }\n",
       "</style>\n",
       "<div class=\"ansiout\">+----+--------------------+\n",
       " tip|           randn(32)|\n",
       "+----+--------------------+\n",
       "1.01|  1.3792681955381285|\n",
       "1.66|  1.3966496657722118|\n",
       " 3.5|  1.1229920787709888|\n",
       "3.31| -1.3932007154275357|\n",
       "3.61|  0.3592664957841673|\n",
       "4.71|0.030278388814355787|\n",
       " 2.0|  1.3674687413337236|\n",
       "3.12| -0.6319070886142141|\n",
       "1.96|  2.7045515092513717|\n",
       "3.23|  0.4543875086641786|\n",
       "1.71| -0.8678825147398846|\n",
       " 5.0| -0.9566678580674648|\n",
       "1.57| -0.7123443974224658|\n",
       " 3.0|  -1.448801912868738|\n",
       "3.02|-0.17792815545177995|\n",
       "3.92|  0.9026359182058644|\n",
       "1.67| -1.5423526686937692|\n",
       "3.71|-0.08821782374189284|\n",
       " 3.5|  0.6826482539037642|\n",
       "3.35|  0.9784556291581671|\n",
       "+----+--------------------+\n",
       "only showing top 20 rows\n",
       "\n",
       "</div>"
      ]
     },
     "metadata": {
      "application/vnd.databricks.v1+output": {
       "addedWidgets": {},
       "arguments": {},
       "data": "<div class=\"ansiout\">+----+--------------------+\n| tip|           randn(32)|\n+----+--------------------+\n|1.01|  1.3792681955381285|\n|1.66|  1.3966496657722118|\n| 3.5|  1.1229920787709888|\n|3.31| -1.3932007154275357|\n|3.61|  0.3592664957841673|\n|4.71|0.030278388814355787|\n| 2.0|  1.3674687413337236|\n|3.12| -0.6319070886142141|\n|1.96|  2.7045515092513717|\n|3.23|  0.4543875086641786|\n|1.71| -0.8678825147398846|\n| 5.0| -0.9566678580674648|\n|1.57| -0.7123443974224658|\n| 3.0|  -1.448801912868738|\n|3.02|-0.17792815545177995|\n|3.92|  0.9026359182058644|\n|1.67| -1.5423526686937692|\n|3.71|-0.08821782374189284|\n| 3.5|  0.6826482539037642|\n|3.35|  0.9784556291581671|\n+----+--------------------+\nonly showing top 20 rows\n\n</div>",
       "datasetInfos": [],
       "metadata": {},
       "removedWidgets": [],
       "type": "html"
      }
     },
     "output_type": "display_data"
    }
   ],
   "source": [
    "tipss.select(\"tip\",randn(seed = 32)).show()"
   ]
  },
  {
   "cell_type": "code",
   "execution_count": 0,
   "metadata": {
    "application/vnd.databricks.v1+cell": {
     "cellMetadata": {},
     "inputWidgets": {},
     "nuid": "99971b7d-aac6-4496-bf76-a29c5ad9be22",
     "showTitle": false,
     "title": ""
    }
   },
   "outputs": [
    {
     "output_type": "display_data",
     "data": {
      "text/html": [
       "<style scoped>\n",
       "  .ansiout {\n",
       "    display: block;\n",
       "    unicode-bidi: embed;\n",
       "    white-space: pre-wrap;\n",
       "    word-wrap: break-word;\n",
       "    word-break: break-all;\n",
       "    font-family: \"Menlo\", \"Monaco\", \"Consolas\", \"Ubuntu Mono\", \"Source Code Pro\", monospace;\n",
       "    font-size: 13px;\n",
       "    color: #555;\n",
       "    margin-left: 4px;\n",
       "    line-height: 19px;\n",
       "  }\n",
       "</style>\n",
       "<div class=\"ansiout\"></div>"
      ]
     },
     "metadata": {
      "application/vnd.databricks.v1+output": {
       "addedWidgets": {},
       "arguments": {},
       "data": "<div class=\"ansiout\"></div>",
       "datasetInfos": [],
       "metadata": {},
       "removedWidgets": [],
       "type": "html"
      }
     },
     "output_type": "display_data"
    }
   ],
   "source": [
    "# 98. rank\n",
    "from pyspark.sql.functions import rank\n",
    "#Window function: returns the rank of rows within a window partition"
   ]
  },
  {
   "cell_type": "code",
   "execution_count": 0,
   "metadata": {
    "application/vnd.databricks.v1+cell": {
     "cellMetadata": {},
     "inputWidgets": {},
     "nuid": "2e0837d0-03e9-4fad-b7b9-4a39df09e872",
     "showTitle": false,
     "title": ""
    }
   },
   "outputs": [
    {
     "output_type": "display_data",
     "data": {
      "text/html": [
       "<style scoped>\n",
       "  .ansiout {\n",
       "    display: block;\n",
       "    unicode-bidi: embed;\n",
       "    white-space: pre-wrap;\n",
       "    word-wrap: break-word;\n",
       "    word-break: break-all;\n",
       "    font-family: \"Menlo\", \"Monaco\", \"Consolas\", \"Ubuntu Mono\", \"Source Code Pro\", monospace;\n",
       "    font-size: 13px;\n",
       "    color: #555;\n",
       "    margin-left: 4px;\n",
       "    line-height: 19px;\n",
       "  }\n",
       "</style>\n",
       "<div class=\"ansiout\">Help on method sort in module pyspark.sql.dataframe:\n",
       "\n",
       "sort(*cols, **kwargs) method of pyspark.sql.dataframe.DataFrame instance\n",
       "    Returns a new :class:`DataFrame` sorted by the specified column(s).\n",
       "    \n",
       "    :param cols: list of :class:`Column` or column names to sort by.\n",
       "    :param ascending: boolean or list of boolean (default ``True``).\n",
       "        Sort ascending vs. descending. Specify list for multiple sort orders.\n",
       "        If a list is specified, length of the list must equal length of the `cols`.\n",
       "    \n",
       "    &gt;&gt;&gt; df.sort(df.age.desc()).collect()\n",
       "    [Row(age=5, name=&#39;Bob&#39;), Row(age=2, name=&#39;Alice&#39;)]\n",
       "    &gt;&gt;&gt; df.sort(&#34;age&#34;, ascending=False).collect()\n",
       "    [Row(age=5, name=&#39;Bob&#39;), Row(age=2, name=&#39;Alice&#39;)]\n",
       "    &gt;&gt;&gt; df.orderBy(df.age.desc()).collect()\n",
       "    [Row(age=5, name=&#39;Bob&#39;), Row(age=2, name=&#39;Alice&#39;)]\n",
       "    &gt;&gt;&gt; from pyspark.sql.functions import *\n",
       "    &gt;&gt;&gt; df.sort(asc(&#34;age&#34;)).collect()\n",
       "    [Row(age=2, name=&#39;Alice&#39;), Row(age=5, name=&#39;Bob&#39;)]\n",
       "    &gt;&gt;&gt; df.orderBy(desc(&#34;age&#34;), &#34;name&#34;).collect()\n",
       "    [Row(age=5, name=&#39;Bob&#39;), Row(age=2, name=&#39;Alice&#39;)]\n",
       "    &gt;&gt;&gt; df.orderBy([&#34;age&#34;, &#34;name&#34;], ascending=[0, 1]).collect()\n",
       "    [Row(age=5, name=&#39;Bob&#39;), Row(age=2, name=&#39;Alice&#39;)]\n",
       "    \n",
       "    .. versionadded:: 1.3\n",
       "\n",
       "</div>"
      ]
     },
     "metadata": {
      "application/vnd.databricks.v1+output": {
       "addedWidgets": {},
       "arguments": {},
       "data": "<div class=\"ansiout\">Help on method sort in module pyspark.sql.dataframe:\n\nsort(*cols, **kwargs) method of pyspark.sql.dataframe.DataFrame instance\n    Returns a new :class:`DataFrame` sorted by the specified column(s).\n    \n    :param cols: list of :class:`Column` or column names to sort by.\n    :param ascending: boolean or list of boolean (default ``True``).\n        Sort ascending vs. descending. Specify list for multiple sort orders.\n        If a list is specified, length of the list must equal length of the `cols`.\n    \n    &gt;&gt;&gt; df.sort(df.age.desc()).collect()\n    [Row(age=5, name=&#39;Bob&#39;), Row(age=2, name=&#39;Alice&#39;)]\n    &gt;&gt;&gt; df.sort(&#34;age&#34;, ascending=False).collect()\n    [Row(age=5, name=&#39;Bob&#39;), Row(age=2, name=&#39;Alice&#39;)]\n    &gt;&gt;&gt; df.orderBy(df.age.desc()).collect()\n    [Row(age=5, name=&#39;Bob&#39;), Row(age=2, name=&#39;Alice&#39;)]\n    &gt;&gt;&gt; from pyspark.sql.functions import *\n    &gt;&gt;&gt; df.sort(asc(&#34;age&#34;)).collect()\n    [Row(age=2, name=&#39;Alice&#39;), Row(age=5, name=&#39;Bob&#39;)]\n    &gt;&gt;&gt; df.orderBy(desc(&#34;age&#34;), &#34;name&#34;).collect()\n    [Row(age=5, name=&#39;Bob&#39;), Row(age=2, name=&#39;Alice&#39;)]\n    &gt;&gt;&gt; df.orderBy([&#34;age&#34;, &#34;name&#34;], ascending=[0, 1]).collect()\n    [Row(age=5, name=&#39;Bob&#39;), Row(age=2, name=&#39;Alice&#39;)]\n    \n    .. versionadded:: 1.3\n\n</div>",
       "datasetInfos": [],
       "metadata": {},
       "removedWidgets": [],
       "type": "html"
      }
     },
     "output_type": "display_data"
    }
   ],
   "source": [
    "help(tipss.orderBy)"
   ]
  },
  {
   "cell_type": "code",
   "execution_count": 0,
   "metadata": {
    "application/vnd.databricks.v1+cell": {
     "cellMetadata": {},
     "inputWidgets": {},
     "nuid": "083c967f-4789-4373-9119-6bf356fbc865",
     "showTitle": false,
     "title": ""
    }
   },
   "outputs": [
    {
     "output_type": "display_data",
     "data": {
      "text/html": [
       "<style scoped>\n",
       "  .ansiout {\n",
       "    display: block;\n",
       "    unicode-bidi: embed;\n",
       "    white-space: pre-wrap;\n",
       "    word-wrap: break-word;\n",
       "    word-break: break-all;\n",
       "    font-family: \"Menlo\", \"Monaco\", \"Consolas\", \"Ubuntu Mono\", \"Source Code Pro\", monospace;\n",
       "    font-size: 13px;\n",
       "    color: #555;\n",
       "    margin-left: 4px;\n",
       "    line-height: 19px;\n",
       "  }\n",
       "</style>\n",
       "<div class=\"ansiout\">+----------+----+------+------+----+------+----+-----------------------+\n",
       "total_bill| tip|   sex|smoker| day|  time|size|Ordered Rank Total Bill|\n",
       "+----------+----+------+------+----+------+----+-----------------------+\n",
       "      7.51| 2.0|  Male|    No|Thur| Lunch|   2|                      1|\n",
       "      7.56|1.44|  Male|    No|Thur| Lunch|   2|                      2|\n",
       "      8.35| 1.5|Female|    No|Thur| Lunch|   2|                      3|\n",
       "      8.51|1.25|Female|    No|Thur| Lunch|   2|                      4|\n",
       "      8.52|1.48|  Male|    No|Thur| Lunch|   2|                      5|\n",
       "      9.78|1.73|  Male|    No|Thur| Lunch|   2|                      6|\n",
       "     10.07|1.83|Female|    No|Thur| Lunch|   1|                      7|\n",
       "     10.33| 2.0|Female|    No|Thur| Lunch|   2|                      8|\n",
       "     10.34| 2.0|  Male|   Yes|Thur| Lunch|   2|                      9|\n",
       "     10.65| 1.5|Female|    No|Thur| Lunch|   2|                     10|\n",
       "     11.17| 1.5|Female|    No|Thur| Lunch|   2|                     11|\n",
       "     11.38| 2.0|Female|    No|Thur| Lunch|   2|                     12|\n",
       "     11.69|2.31|  Male|    No|Thur| Lunch|   2|                     13|\n",
       "     11.87|1.63|Female|    No|Thur| Lunch|   2|                     14|\n",
       "     12.26| 2.0|Female|    No|Thur| Lunch|   2|                     15|\n",
       "     12.43| 1.8|Female|    No|Thur| Lunch|   2|                     16|\n",
       "     12.48|2.52|Female|    No|Thur| Lunch|   2|                     17|\n",
       "     12.74|2.01|Female|   Yes|Thur| Lunch|   2|                     18|\n",
       "      13.0| 2.0|Female|   Yes|Thur| Lunch|   2|                     19|\n",
       "      13.0| 2.0|Female|   Yes|Thur| Lunch|   2|                     19|\n",
       "     13.03| 2.0|  Male|    No|Thur| Lunch|   2|                     21|\n",
       "     13.16|2.75|Female|    No|Thur| Lunch|   2|                     22|\n",
       "     13.42|1.68|Female|    No|Thur| Lunch|   2|                     23|\n",
       "     13.51| 2.0|  Male|   Yes|Thur| Lunch|   2|                     24|\n",
       "     14.15| 2.0|Female|    No|Thur| Lunch|   2|                     25|\n",
       "     14.26| 2.5|  Male|    No|Thur| Lunch|   2|                     26|\n",
       "     14.52| 2.0|Female|    No|Thur| Lunch|   2|                     27|\n",
       "     15.48|2.02|  Male|   Yes|Thur| Lunch|   2|                     28|\n",
       "     15.95| 2.0|  Male|    No|Thur| Lunch|   2|                     29|\n",
       "     15.98|2.03|  Male|    No|Thur| Lunch|   2|                     30|\n",
       "      16.0| 2.0|  Male|   Yes|Thur| Lunch|   2|                     31|\n",
       "      16.4| 2.5|Female|   Yes|Thur| Lunch|   2|                     32|\n",
       "     16.43| 2.3|Female|    No|Thur| Lunch|   2|                     33|\n",
       "     16.47|3.23|Female|   Yes|Thur| Lunch|   3|                     34|\n",
       "     16.58| 4.0|  Male|   Yes|Thur| Lunch|   2|                     35|\n",
       "     16.66| 3.4|  Male|    No|Thur| Lunch|   2|                     36|\n",
       "     17.29|2.71|  Male|    No|Thur| Lunch|   2|                     37|\n",
       "     17.47| 3.5|Female|    No|Thur| Lunch|   2|                     38|\n",
       "     18.26|3.25|Female|    No|Thur| Lunch|   2|                     39|\n",
       "     18.28| 4.0|  Male|    No|Thur| Lunch|   2|                     40|\n",
       "     18.64|1.36|Female|    No|Thur| Lunch|   3|                     41|\n",
       "     18.71| 4.0|  Male|   Yes|Thur| Lunch|   3|                     42|\n",
       "     18.78| 3.0|Female|    No|Thur|Dinner|   2|                     43|\n",
       "     19.08| 1.5|  Male|    No|Thur| Lunch|   2|                     44|\n",
       "     19.44| 3.0|  Male|   Yes|Thur| Lunch|   2|                     45|\n",
       "     19.81|4.19|Female|   Yes|Thur| Lunch|   2|                     46|\n",
       "     20.27|2.83|Female|    No|Thur| Lunch|   2|                     47|\n",
       "     20.53| 4.0|  Male|   Yes|Thur| Lunch|   4|                     48|\n",
       "     21.16| 3.0|  Male|    No|Thur| Lunch|   2|                     49|\n",
       "     22.76| 3.0|  Male|    No|Thur| Lunch|   2|                     50|\n",
       "     22.82|2.18|  Male|    No|Thur| Lunch|   3|                     51|\n",
       "     24.08|2.92|Female|    No|Thur| Lunch|   4|                     52|\n",
       "     24.71|5.85|  Male|    No|Thur| Lunch|   2|                     53|\n",
       "     27.05| 5.0|Female|    No|Thur| Lunch|   6|                     54|\n",
       "      27.2| 4.0|  Male|    No|Thur| Lunch|   4|                     55|\n",
       "     28.44|2.56|  Male|   Yes|Thur| Lunch|   2|                     56|\n",
       "      29.8| 4.2|Female|    No|Thur| Lunch|   6|                     57|\n",
       "     32.68| 5.0|  Male|   Yes|Thur| Lunch|   2|                     58|\n",
       "      34.3| 6.7|  Male|    No|Thur| Lunch|   6|                     59|\n",
       "     34.83|5.17|Female|    No|Thur| Lunch|   4|                     60|\n",
       "     41.19| 5.0|  Male|    No|Thur| Lunch|   5|                     61|\n",
       "     43.11| 5.0|Female|   Yes|Thur| Lunch|   4|                     62|\n",
       "      7.25|5.15|  Male|   Yes| Sun|Dinner|   2|                      1|\n",
       "      8.77| 2.0|  Male|    No| Sun|Dinner|   2|                      2|\n",
       "       9.6| 4.0|Female|   Yes| Sun|Dinner|   2|                      3|\n",
       "      9.68|1.32|  Male|    No| Sun|Dinner|   2|                      4|\n",
       "      9.94|1.56|  Male|    No| Sun|Dinner|   2|                      5|\n",
       "     10.27|1.71|  Male|    No| Sun|Dinner|   2|                      6|\n",
       "     10.29| 2.6|Female|    No| Sun|Dinner|   2|                      7|\n",
       "     10.33|1.67|Female|    No| Sun|Dinner|   3|                      8|\n",
       "     10.34|1.66|  Male|    No| Sun|Dinner|   3|                      9|\n",
       "     12.54| 2.5|  Male|    No| Sun|Dinner|   2|                     10|\n",
       "     12.66| 2.5|  Male|    No| Sun|Dinner|   2|                     11|\n",
       "     13.13| 2.0|  Male|    No| Sun|Dinner|   2|                     12|\n",
       "     13.39|2.61|Female|    No| Sun|Dinner|   2|                     13|\n",
       "     13.81| 2.0|  Male|    No| Sun|Dinner|   2|                     14|\n",
       "     13.94|3.06|  Male|    No| Sun|Dinner|   2|                     15|\n",
       "     14.07| 2.5|  Male|    No| Sun|Dinner|   2|                     16|\n",
       "     14.48| 2.0|  Male|   Yes| Sun|Dinner|   2|                     17|\n",
       "     14.78|3.23|  Male|    No| Sun|Dinner|   2|                     18|\n",
       "     14.83|3.02|Female|    No| Sun|Dinner|   2|                     19|\n",
       "     15.04|1.96|  Male|    No| Sun|Dinner|   2|                     20|\n",
       "     15.42|1.57|  Male|    No| Sun|Dinner|   2|                     21|\n",
       "     15.69| 1.5|  Male|   Yes| Sun|Dinner|   2|                     22|\n",
       "     16.21| 2.0|Female|    No| Sun|Dinner|   3|                     23|\n",
       "     16.29|3.71|  Male|    No| Sun|Dinner|   3|                     24|\n",
       "     16.49| 2.0|  Male|    No| Sun|Dinner|   4|                     25|\n",
       "     16.82| 4.0|  Male|   Yes| Sun|Dinner|   2|                     26|\n",
       "     16.97| 3.5|Female|    No| Sun|Dinner|   3|                     27|\n",
       "     16.99|1.01|Female|    No| Sun|Dinner|   2|                     28|\n",
       "     17.26|2.74|  Male|    No| Sun|Dinner|   3|                     29|\n",
       "     17.31| 3.5|Female|    No| Sun|Dinner|   2|                     30|\n",
       "     17.46|2.54|  Male|    No| Sun|Dinner|   2|                     31|\n",
       "     17.51| 3.0|Female|   Yes| Sun|Dinner|   2|                     32|\n",
       "     17.89| 2.0|  Male|   Yes| Sun|Dinner|   2|                     33|\n",
       "     18.04| 3.0|  Male|    No| Sun|Dinner|   2|                     34|\n",
       "     18.15| 3.5|Female|   Yes| Sun|Dinner|   3|                     35|\n",
       "     18.29| 3.0|  Male|    No| Sun|Dinner|   2|                     36|\n",
       "     18.43| 3.0|  Male|    No| Sun|Dinner|   4|                     37|\n",
       "     19.49|3.51|  Male|    No| Sun|Dinner|   2|                     38|\n",
       "+----------+----+------+------+----+------+----+-----------------------+\n",
       "only showing top 100 rows\n",
       "\n",
       "</div>"
      ]
     },
     "metadata": {
      "application/vnd.databricks.v1+output": {
       "addedWidgets": {},
       "arguments": {},
       "data": "<div class=\"ansiout\">+----------+----+------+------+----+------+----+-----------------------+\n|total_bill| tip|   sex|smoker| day|  time|size|Ordered Rank Total Bill|\n+----------+----+------+------+----+------+----+-----------------------+\n|      7.51| 2.0|  Male|    No|Thur| Lunch|   2|                      1|\n|      7.56|1.44|  Male|    No|Thur| Lunch|   2|                      2|\n|      8.35| 1.5|Female|    No|Thur| Lunch|   2|                      3|\n|      8.51|1.25|Female|    No|Thur| Lunch|   2|                      4|\n|      8.52|1.48|  Male|    No|Thur| Lunch|   2|                      5|\n|      9.78|1.73|  Male|    No|Thur| Lunch|   2|                      6|\n|     10.07|1.83|Female|    No|Thur| Lunch|   1|                      7|\n|     10.33| 2.0|Female|    No|Thur| Lunch|   2|                      8|\n|     10.34| 2.0|  Male|   Yes|Thur| Lunch|   2|                      9|\n|     10.65| 1.5|Female|    No|Thur| Lunch|   2|                     10|\n|     11.17| 1.5|Female|    No|Thur| Lunch|   2|                     11|\n|     11.38| 2.0|Female|    No|Thur| Lunch|   2|                     12|\n|     11.69|2.31|  Male|    No|Thur| Lunch|   2|                     13|\n|     11.87|1.63|Female|    No|Thur| Lunch|   2|                     14|\n|     12.26| 2.0|Female|    No|Thur| Lunch|   2|                     15|\n|     12.43| 1.8|Female|    No|Thur| Lunch|   2|                     16|\n|     12.48|2.52|Female|    No|Thur| Lunch|   2|                     17|\n|     12.74|2.01|Female|   Yes|Thur| Lunch|   2|                     18|\n|      13.0| 2.0|Female|   Yes|Thur| Lunch|   2|                     19|\n|      13.0| 2.0|Female|   Yes|Thur| Lunch|   2|                     19|\n|     13.03| 2.0|  Male|    No|Thur| Lunch|   2|                     21|\n|     13.16|2.75|Female|    No|Thur| Lunch|   2|                     22|\n|     13.42|1.68|Female|    No|Thur| Lunch|   2|                     23|\n|     13.51| 2.0|  Male|   Yes|Thur| Lunch|   2|                     24|\n|     14.15| 2.0|Female|    No|Thur| Lunch|   2|                     25|\n|     14.26| 2.5|  Male|    No|Thur| Lunch|   2|                     26|\n|     14.52| 2.0|Female|    No|Thur| Lunch|   2|                     27|\n|     15.48|2.02|  Male|   Yes|Thur| Lunch|   2|                     28|\n|     15.95| 2.0|  Male|    No|Thur| Lunch|   2|                     29|\n|     15.98|2.03|  Male|    No|Thur| Lunch|   2|                     30|\n|      16.0| 2.0|  Male|   Yes|Thur| Lunch|   2|                     31|\n|      16.4| 2.5|Female|   Yes|Thur| Lunch|   2|                     32|\n|     16.43| 2.3|Female|    No|Thur| Lunch|   2|                     33|\n|     16.47|3.23|Female|   Yes|Thur| Lunch|   3|                     34|\n|     16.58| 4.0|  Male|   Yes|Thur| Lunch|   2|                     35|\n|     16.66| 3.4|  Male|    No|Thur| Lunch|   2|                     36|\n|     17.29|2.71|  Male|    No|Thur| Lunch|   2|                     37|\n|     17.47| 3.5|Female|    No|Thur| Lunch|   2|                     38|\n|     18.26|3.25|Female|    No|Thur| Lunch|   2|                     39|\n|     18.28| 4.0|  Male|    No|Thur| Lunch|   2|                     40|\n|     18.64|1.36|Female|    No|Thur| Lunch|   3|                     41|\n|     18.71| 4.0|  Male|   Yes|Thur| Lunch|   3|                     42|\n|     18.78| 3.0|Female|    No|Thur|Dinner|   2|                     43|\n|     19.08| 1.5|  Male|    No|Thur| Lunch|   2|                     44|\n|     19.44| 3.0|  Male|   Yes|Thur| Lunch|   2|                     45|\n|     19.81|4.19|Female|   Yes|Thur| Lunch|   2|                     46|\n|     20.27|2.83|Female|    No|Thur| Lunch|   2|                     47|\n|     20.53| 4.0|  Male|   Yes|Thur| Lunch|   4|                     48|\n|     21.16| 3.0|  Male|    No|Thur| Lunch|   2|                     49|\n|     22.76| 3.0|  Male|    No|Thur| Lunch|   2|                     50|\n|     22.82|2.18|  Male|    No|Thur| Lunch|   3|                     51|\n|     24.08|2.92|Female|    No|Thur| Lunch|   4|                     52|\n|     24.71|5.85|  Male|    No|Thur| Lunch|   2|                     53|\n|     27.05| 5.0|Female|    No|Thur| Lunch|   6|                     54|\n|      27.2| 4.0|  Male|    No|Thur| Lunch|   4|                     55|\n|     28.44|2.56|  Male|   Yes|Thur| Lunch|   2|                     56|\n|      29.8| 4.2|Female|    No|Thur| Lunch|   6|                     57|\n|     32.68| 5.0|  Male|   Yes|Thur| Lunch|   2|                     58|\n|      34.3| 6.7|  Male|    No|Thur| Lunch|   6|                     59|\n|     34.83|5.17|Female|    No|Thur| Lunch|   4|                     60|\n|     41.19| 5.0|  Male|    No|Thur| Lunch|   5|                     61|\n|     43.11| 5.0|Female|   Yes|Thur| Lunch|   4|                     62|\n|      7.25|5.15|  Male|   Yes| Sun|Dinner|   2|                      1|\n|      8.77| 2.0|  Male|    No| Sun|Dinner|   2|                      2|\n|       9.6| 4.0|Female|   Yes| Sun|Dinner|   2|                      3|\n|      9.68|1.32|  Male|    No| Sun|Dinner|   2|                      4|\n|      9.94|1.56|  Male|    No| Sun|Dinner|   2|                      5|\n|     10.27|1.71|  Male|    No| Sun|Dinner|   2|                      6|\n|     10.29| 2.6|Female|    No| Sun|Dinner|   2|                      7|\n|     10.33|1.67|Female|    No| Sun|Dinner|   3|                      8|\n|     10.34|1.66|  Male|    No| Sun|Dinner|   3|                      9|\n|     12.54| 2.5|  Male|    No| Sun|Dinner|   2|                     10|\n|     12.66| 2.5|  Male|    No| Sun|Dinner|   2|                     11|\n|     13.13| 2.0|  Male|    No| Sun|Dinner|   2|                     12|\n|     13.39|2.61|Female|    No| Sun|Dinner|   2|                     13|\n|     13.81| 2.0|  Male|    No| Sun|Dinner|   2|                     14|\n|     13.94|3.06|  Male|    No| Sun|Dinner|   2|                     15|\n|     14.07| 2.5|  Male|    No| Sun|Dinner|   2|                     16|\n|     14.48| 2.0|  Male|   Yes| Sun|Dinner|   2|                     17|\n|     14.78|3.23|  Male|    No| Sun|Dinner|   2|                     18|\n|     14.83|3.02|Female|    No| Sun|Dinner|   2|                     19|\n|     15.04|1.96|  Male|    No| Sun|Dinner|   2|                     20|\n|     15.42|1.57|  Male|    No| Sun|Dinner|   2|                     21|\n|     15.69| 1.5|  Male|   Yes| Sun|Dinner|   2|                     22|\n|     16.21| 2.0|Female|    No| Sun|Dinner|   3|                     23|\n|     16.29|3.71|  Male|    No| Sun|Dinner|   3|                     24|\n|     16.49| 2.0|  Male|    No| Sun|Dinner|   4|                     25|\n|     16.82| 4.0|  Male|   Yes| Sun|Dinner|   2|                     26|\n|     16.97| 3.5|Female|    No| Sun|Dinner|   3|                     27|\n|     16.99|1.01|Female|    No| Sun|Dinner|   2|                     28|\n|     17.26|2.74|  Male|    No| Sun|Dinner|   3|                     29|\n|     17.31| 3.5|Female|    No| Sun|Dinner|   2|                     30|\n|     17.46|2.54|  Male|    No| Sun|Dinner|   2|                     31|\n|     17.51| 3.0|Female|   Yes| Sun|Dinner|   2|                     32|\n|     17.89| 2.0|  Male|   Yes| Sun|Dinner|   2|                     33|\n|     18.04| 3.0|  Male|    No| Sun|Dinner|   2|                     34|\n|     18.15| 3.5|Female|   Yes| Sun|Dinner|   3|                     35|\n|     18.29| 3.0|  Male|    No| Sun|Dinner|   2|                     36|\n|     18.43| 3.0|  Male|    No| Sun|Dinner|   4|                     37|\n|     19.49|3.51|  Male|    No| Sun|Dinner|   2|                     38|\n+----------+----+------+------+----+------+----+-----------------------+\nonly showing top 100 rows\n\n</div>",
       "datasetInfos": [],
       "metadata": {},
       "removedWidgets": [],
       "type": "html"
      }
     },
     "output_type": "display_data"
    }
   ],
   "source": [
    "tipss.select(\"*\",rank().over(Window.partitionBy('day').orderBy('total_bill')).alias(\"Ordered Rank Total Bill\")).show(100)"
   ]
  },
  {
   "cell_type": "code",
   "execution_count": 0,
   "metadata": {
    "application/vnd.databricks.v1+cell": {
     "cellMetadata": {},
     "inputWidgets": {},
     "nuid": "9735855b-b63e-4c77-9bd2-6cba1c65a8f8",
     "showTitle": false,
     "title": ""
    }
   },
   "outputs": [
    {
     "output_type": "display_data",
     "data": {
      "text/html": [
       "<style scoped>\n",
       "  .ansiout {\n",
       "    display: block;\n",
       "    unicode-bidi: embed;\n",
       "    white-space: pre-wrap;\n",
       "    word-wrap: break-word;\n",
       "    word-break: break-all;\n",
       "    font-family: \"Menlo\", \"Monaco\", \"Consolas\", \"Ubuntu Mono\", \"Source Code Pro\", monospace;\n",
       "    font-size: 13px;\n",
       "    color: #555;\n",
       "    margin-left: 4px;\n",
       "    line-height: 19px;\n",
       "  }\n",
       "</style>\n",
       "<div class=\"ansiout\">+----------+----+------+------+----+------+----+----------------------------+\n",
       "total_bill| tip|   sex|smoker| day|  time|size|Ordered Rank Total Bill Desc|\n",
       "+----------+----+------+------+----+------+----+----------------------------+\n",
       "     43.11| 5.0|Female|   Yes|Thur| Lunch|   4|                           1|\n",
       "     41.19| 5.0|  Male|    No|Thur| Lunch|   5|                           2|\n",
       "     34.83|5.17|Female|    No|Thur| Lunch|   4|                           3|\n",
       "      34.3| 6.7|  Male|    No|Thur| Lunch|   6|                           4|\n",
       "     32.68| 5.0|  Male|   Yes|Thur| Lunch|   2|                           5|\n",
       "      29.8| 4.2|Female|    No|Thur| Lunch|   6|                           6|\n",
       "     28.44|2.56|  Male|   Yes|Thur| Lunch|   2|                           7|\n",
       "      27.2| 4.0|  Male|    No|Thur| Lunch|   4|                           8|\n",
       "     27.05| 5.0|Female|    No|Thur| Lunch|   6|                           9|\n",
       "     24.71|5.85|  Male|    No|Thur| Lunch|   2|                          10|\n",
       "     24.08|2.92|Female|    No|Thur| Lunch|   4|                          11|\n",
       "     22.82|2.18|  Male|    No|Thur| Lunch|   3|                          12|\n",
       "     22.76| 3.0|  Male|    No|Thur| Lunch|   2|                          13|\n",
       "     21.16| 3.0|  Male|    No|Thur| Lunch|   2|                          14|\n",
       "     20.53| 4.0|  Male|   Yes|Thur| Lunch|   4|                          15|\n",
       "     20.27|2.83|Female|    No|Thur| Lunch|   2|                          16|\n",
       "     19.81|4.19|Female|   Yes|Thur| Lunch|   2|                          17|\n",
       "     19.44| 3.0|  Male|   Yes|Thur| Lunch|   2|                          18|\n",
       "     19.08| 1.5|  Male|    No|Thur| Lunch|   2|                          19|\n",
       "     18.78| 3.0|Female|    No|Thur|Dinner|   2|                          20|\n",
       "     18.71| 4.0|  Male|   Yes|Thur| Lunch|   3|                          21|\n",
       "     18.64|1.36|Female|    No|Thur| Lunch|   3|                          22|\n",
       "     18.28| 4.0|  Male|    No|Thur| Lunch|   2|                          23|\n",
       "     18.26|3.25|Female|    No|Thur| Lunch|   2|                          24|\n",
       "     17.47| 3.5|Female|    No|Thur| Lunch|   2|                          25|\n",
       "     17.29|2.71|  Male|    No|Thur| Lunch|   2|                          26|\n",
       "     16.66| 3.4|  Male|    No|Thur| Lunch|   2|                          27|\n",
       "     16.58| 4.0|  Male|   Yes|Thur| Lunch|   2|                          28|\n",
       "     16.47|3.23|Female|   Yes|Thur| Lunch|   3|                          29|\n",
       "     16.43| 2.3|Female|    No|Thur| Lunch|   2|                          30|\n",
       "      16.4| 2.5|Female|   Yes|Thur| Lunch|   2|                          31|\n",
       "      16.0| 2.0|  Male|   Yes|Thur| Lunch|   2|                          32|\n",
       "     15.98|2.03|  Male|    No|Thur| Lunch|   2|                          33|\n",
       "     15.95| 2.0|  Male|    No|Thur| Lunch|   2|                          34|\n",
       "     15.48|2.02|  Male|   Yes|Thur| Lunch|   2|                          35|\n",
       "     14.52| 2.0|Female|    No|Thur| Lunch|   2|                          36|\n",
       "     14.26| 2.5|  Male|    No|Thur| Lunch|   2|                          37|\n",
       "     14.15| 2.0|Female|    No|Thur| Lunch|   2|                          38|\n",
       "     13.51| 2.0|  Male|   Yes|Thur| Lunch|   2|                          39|\n",
       "     13.42|1.68|Female|    No|Thur| Lunch|   2|                          40|\n",
       "     13.16|2.75|Female|    No|Thur| Lunch|   2|                          41|\n",
       "     13.03| 2.0|  Male|    No|Thur| Lunch|   2|                          42|\n",
       "      13.0| 2.0|Female|   Yes|Thur| Lunch|   2|                          43|\n",
       "      13.0| 2.0|Female|   Yes|Thur| Lunch|   2|                          43|\n",
       "     12.74|2.01|Female|   Yes|Thur| Lunch|   2|                          45|\n",
       "     12.48|2.52|Female|    No|Thur| Lunch|   2|                          46|\n",
       "     12.43| 1.8|Female|    No|Thur| Lunch|   2|                          47|\n",
       "     12.26| 2.0|Female|    No|Thur| Lunch|   2|                          48|\n",
       "     11.87|1.63|Female|    No|Thur| Lunch|   2|                          49|\n",
       "     11.69|2.31|  Male|    No|Thur| Lunch|   2|                          50|\n",
       "     11.38| 2.0|Female|    No|Thur| Lunch|   2|                          51|\n",
       "     11.17| 1.5|Female|    No|Thur| Lunch|   2|                          52|\n",
       "     10.65| 1.5|Female|    No|Thur| Lunch|   2|                          53|\n",
       "     10.34| 2.0|  Male|   Yes|Thur| Lunch|   2|                          54|\n",
       "     10.33| 2.0|Female|    No|Thur| Lunch|   2|                          55|\n",
       "     10.07|1.83|Female|    No|Thur| Lunch|   1|                          56|\n",
       "      9.78|1.73|  Male|    No|Thur| Lunch|   2|                          57|\n",
       "      8.52|1.48|  Male|    No|Thur| Lunch|   2|                          58|\n",
       "      8.51|1.25|Female|    No|Thur| Lunch|   2|                          59|\n",
       "      8.35| 1.5|Female|    No|Thur| Lunch|   2|                          60|\n",
       "      7.56|1.44|  Male|    No|Thur| Lunch|   2|                          61|\n",
       "      7.51| 2.0|  Male|    No|Thur| Lunch|   2|                          62|\n",
       "     48.17| 5.0|  Male|    No| Sun|Dinner|   6|                           1|\n",
       "     45.35| 3.5|  Male|   Yes| Sun|Dinner|   3|                           2|\n",
       "     40.55| 3.0|  Male|   Yes| Sun|Dinner|   2|                           3|\n",
       "     38.07| 4.0|  Male|    No| Sun|Dinner|   3|                           4|\n",
       "     35.26| 5.0|Female|    No| Sun|Dinner|   4|                           5|\n",
       "     34.81| 5.2|Female|    No| Sun|Dinner|   4|                           6|\n",
       "     34.65|3.68|  Male|   Yes| Sun|Dinner|   4|                           7|\n",
       "     34.63|3.55|  Male|   Yes| Sun|Dinner|   2|                           8|\n",
       "      32.9|3.11|  Male|   Yes| Sun|Dinner|   2|                           9|\n",
       "      32.4| 6.0|  Male|    No| Sun|Dinner|   4|                          10|\n",
       "     31.85|3.18|  Male|   Yes| Sun|Dinner|   2|                          11|\n",
       "     31.71| 4.5|  Male|    No| Sun|Dinner|   4|                          12|\n",
       "     30.46| 2.0|  Male|   Yes| Sun|Dinner|   5|                          13|\n",
       "      30.4| 5.6|  Male|    No| Sun|Dinner|   4|                          14|\n",
       "     29.93|5.07|  Male|    No| Sun|Dinner|   4|                          15|\n",
       "     29.85|5.14|Female|    No| Sun|Dinner|   5|                          16|\n",
       "     28.55|2.05|  Male|    No| Sun|Dinner|   3|                          17|\n",
       "     26.88|3.12|  Male|    No| Sun|Dinner|   4|                          18|\n",
       "     25.71| 4.0|Female|    No| Sun|Dinner|   3|                          19|\n",
       "     25.56|4.34|  Male|    No| Sun|Dinner|   4|                          20|\n",
       "     25.29|4.71|  Male|    No| Sun|Dinner|   4|                          21|\n",
       "      25.0|3.75|Female|    No| Sun|Dinner|   4|                          22|\n",
       "     24.59|3.61|Female|    No| Sun|Dinner|   4|                          23|\n",
       "     24.55| 2.0|  Male|    No| Sun|Dinner|   4|                          24|\n",
       "     24.52|3.48|  Male|    No| Sun|Dinner|   3|                          25|\n",
       "     23.95|2.55|  Male|    No| Sun|Dinner|   2|                          26|\n",
       "     23.68|3.31|  Male|    No| Sun|Dinner|   2|                          27|\n",
       "     23.33|5.65|  Male|   Yes| Sun|Dinner|   2|                          28|\n",
       "     23.17| 6.5|  Male|   Yes| Sun|Dinner|   4|                          29|\n",
       "      23.1| 4.0|  Male|   Yes| Sun|Dinner|   3|                          30|\n",
       "     22.23| 5.0|  Male|    No| Sun|Dinner|   2|                          31|\n",
       "     21.58|3.92|  Male|    No| Sun|Dinner|   2|                          32|\n",
       "      21.5| 3.5|  Male|    No| Sun|Dinner|   4|                          33|\n",
       "     21.01| 3.5|  Male|    No| Sun|Dinner|   3|                          34|\n",
       "      20.9| 3.5|Female|   Yes| Sun|Dinner|   3|                          35|\n",
       "     20.76|2.24|  Male|    No| Sun|Dinner|   2|                          36|\n",
       "     20.69| 5.0|  Male|    No| Sun|Dinner|   5|                          37|\n",
       "     19.77| 2.0|  Male|    No| Sun|Dinner|   4|                          38|\n",
       "+----------+----+------+------+----+------+----+----------------------------+\n",
       "only showing top 100 rows\n",
       "\n",
       "</div>"
      ]
     },
     "metadata": {
      "application/vnd.databricks.v1+output": {
       "addedWidgets": {},
       "arguments": {},
       "data": "<div class=\"ansiout\">+----------+----+------+------+----+------+----+----------------------------+\n|total_bill| tip|   sex|smoker| day|  time|size|Ordered Rank Total Bill Desc|\n+----------+----+------+------+----+------+----+----------------------------+\n|     43.11| 5.0|Female|   Yes|Thur| Lunch|   4|                           1|\n|     41.19| 5.0|  Male|    No|Thur| Lunch|   5|                           2|\n|     34.83|5.17|Female|    No|Thur| Lunch|   4|                           3|\n|      34.3| 6.7|  Male|    No|Thur| Lunch|   6|                           4|\n|     32.68| 5.0|  Male|   Yes|Thur| Lunch|   2|                           5|\n|      29.8| 4.2|Female|    No|Thur| Lunch|   6|                           6|\n|     28.44|2.56|  Male|   Yes|Thur| Lunch|   2|                           7|\n|      27.2| 4.0|  Male|    No|Thur| Lunch|   4|                           8|\n|     27.05| 5.0|Female|    No|Thur| Lunch|   6|                           9|\n|     24.71|5.85|  Male|    No|Thur| Lunch|   2|                          10|\n|     24.08|2.92|Female|    No|Thur| Lunch|   4|                          11|\n|     22.82|2.18|  Male|    No|Thur| Lunch|   3|                          12|\n|     22.76| 3.0|  Male|    No|Thur| Lunch|   2|                          13|\n|     21.16| 3.0|  Male|    No|Thur| Lunch|   2|                          14|\n|     20.53| 4.0|  Male|   Yes|Thur| Lunch|   4|                          15|\n|     20.27|2.83|Female|    No|Thur| Lunch|   2|                          16|\n|     19.81|4.19|Female|   Yes|Thur| Lunch|   2|                          17|\n|     19.44| 3.0|  Male|   Yes|Thur| Lunch|   2|                          18|\n|     19.08| 1.5|  Male|    No|Thur| Lunch|   2|                          19|\n|     18.78| 3.0|Female|    No|Thur|Dinner|   2|                          20|\n|     18.71| 4.0|  Male|   Yes|Thur| Lunch|   3|                          21|\n|     18.64|1.36|Female|    No|Thur| Lunch|   3|                          22|\n|     18.28| 4.0|  Male|    No|Thur| Lunch|   2|                          23|\n|     18.26|3.25|Female|    No|Thur| Lunch|   2|                          24|\n|     17.47| 3.5|Female|    No|Thur| Lunch|   2|                          25|\n|     17.29|2.71|  Male|    No|Thur| Lunch|   2|                          26|\n|     16.66| 3.4|  Male|    No|Thur| Lunch|   2|                          27|\n|     16.58| 4.0|  Male|   Yes|Thur| Lunch|   2|                          28|\n|     16.47|3.23|Female|   Yes|Thur| Lunch|   3|                          29|\n|     16.43| 2.3|Female|    No|Thur| Lunch|   2|                          30|\n|      16.4| 2.5|Female|   Yes|Thur| Lunch|   2|                          31|\n|      16.0| 2.0|  Male|   Yes|Thur| Lunch|   2|                          32|\n|     15.98|2.03|  Male|    No|Thur| Lunch|   2|                          33|\n|     15.95| 2.0|  Male|    No|Thur| Lunch|   2|                          34|\n|     15.48|2.02|  Male|   Yes|Thur| Lunch|   2|                          35|\n|     14.52| 2.0|Female|    No|Thur| Lunch|   2|                          36|\n|     14.26| 2.5|  Male|    No|Thur| Lunch|   2|                          37|\n|     14.15| 2.0|Female|    No|Thur| Lunch|   2|                          38|\n|     13.51| 2.0|  Male|   Yes|Thur| Lunch|   2|                          39|\n|     13.42|1.68|Female|    No|Thur| Lunch|   2|                          40|\n|     13.16|2.75|Female|    No|Thur| Lunch|   2|                          41|\n|     13.03| 2.0|  Male|    No|Thur| Lunch|   2|                          42|\n|      13.0| 2.0|Female|   Yes|Thur| Lunch|   2|                          43|\n|      13.0| 2.0|Female|   Yes|Thur| Lunch|   2|                          43|\n|     12.74|2.01|Female|   Yes|Thur| Lunch|   2|                          45|\n|     12.48|2.52|Female|    No|Thur| Lunch|   2|                          46|\n|     12.43| 1.8|Female|    No|Thur| Lunch|   2|                          47|\n|     12.26| 2.0|Female|    No|Thur| Lunch|   2|                          48|\n|     11.87|1.63|Female|    No|Thur| Lunch|   2|                          49|\n|     11.69|2.31|  Male|    No|Thur| Lunch|   2|                          50|\n|     11.38| 2.0|Female|    No|Thur| Lunch|   2|                          51|\n|     11.17| 1.5|Female|    No|Thur| Lunch|   2|                          52|\n|     10.65| 1.5|Female|    No|Thur| Lunch|   2|                          53|\n|     10.34| 2.0|  Male|   Yes|Thur| Lunch|   2|                          54|\n|     10.33| 2.0|Female|    No|Thur| Lunch|   2|                          55|\n|     10.07|1.83|Female|    No|Thur| Lunch|   1|                          56|\n|      9.78|1.73|  Male|    No|Thur| Lunch|   2|                          57|\n|      8.52|1.48|  Male|    No|Thur| Lunch|   2|                          58|\n|      8.51|1.25|Female|    No|Thur| Lunch|   2|                          59|\n|      8.35| 1.5|Female|    No|Thur| Lunch|   2|                          60|\n|      7.56|1.44|  Male|    No|Thur| Lunch|   2|                          61|\n|      7.51| 2.0|  Male|    No|Thur| Lunch|   2|                          62|\n|     48.17| 5.0|  Male|    No| Sun|Dinner|   6|                           1|\n|     45.35| 3.5|  Male|   Yes| Sun|Dinner|   3|                           2|\n|     40.55| 3.0|  Male|   Yes| Sun|Dinner|   2|                           3|\n|     38.07| 4.0|  Male|    No| Sun|Dinner|   3|                           4|\n|     35.26| 5.0|Female|    No| Sun|Dinner|   4|                           5|\n|     34.81| 5.2|Female|    No| Sun|Dinner|   4|                           6|\n|     34.65|3.68|  Male|   Yes| Sun|Dinner|   4|                           7|\n|     34.63|3.55|  Male|   Yes| Sun|Dinner|   2|                           8|\n|      32.9|3.11|  Male|   Yes| Sun|Dinner|   2|                           9|\n|      32.4| 6.0|  Male|    No| Sun|Dinner|   4|                          10|\n|     31.85|3.18|  Male|   Yes| Sun|Dinner|   2|                          11|\n|     31.71| 4.5|  Male|    No| Sun|Dinner|   4|                          12|\n|     30.46| 2.0|  Male|   Yes| Sun|Dinner|   5|                          13|\n|      30.4| 5.6|  Male|    No| Sun|Dinner|   4|                          14|\n|     29.93|5.07|  Male|    No| Sun|Dinner|   4|                          15|\n|     29.85|5.14|Female|    No| Sun|Dinner|   5|                          16|\n|     28.55|2.05|  Male|    No| Sun|Dinner|   3|                          17|\n|     26.88|3.12|  Male|    No| Sun|Dinner|   4|                          18|\n|     25.71| 4.0|Female|    No| Sun|Dinner|   3|                          19|\n|     25.56|4.34|  Male|    No| Sun|Dinner|   4|                          20|\n|     25.29|4.71|  Male|    No| Sun|Dinner|   4|                          21|\n|      25.0|3.75|Female|    No| Sun|Dinner|   4|                          22|\n|     24.59|3.61|Female|    No| Sun|Dinner|   4|                          23|\n|     24.55| 2.0|  Male|    No| Sun|Dinner|   4|                          24|\n|     24.52|3.48|  Male|    No| Sun|Dinner|   3|                          25|\n|     23.95|2.55|  Male|    No| Sun|Dinner|   2|                          26|\n|     23.68|3.31|  Male|    No| Sun|Dinner|   2|                          27|\n|     23.33|5.65|  Male|   Yes| Sun|Dinner|   2|                          28|\n|     23.17| 6.5|  Male|   Yes| Sun|Dinner|   4|                          29|\n|      23.1| 4.0|  Male|   Yes| Sun|Dinner|   3|                          30|\n|     22.23| 5.0|  Male|    No| Sun|Dinner|   2|                          31|\n|     21.58|3.92|  Male|    No| Sun|Dinner|   2|                          32|\n|      21.5| 3.5|  Male|    No| Sun|Dinner|   4|                          33|\n|     21.01| 3.5|  Male|    No| Sun|Dinner|   3|                          34|\n|      20.9| 3.5|Female|   Yes| Sun|Dinner|   3|                          35|\n|     20.76|2.24|  Male|    No| Sun|Dinner|   2|                          36|\n|     20.69| 5.0|  Male|    No| Sun|Dinner|   5|                          37|\n|     19.77| 2.0|  Male|    No| Sun|Dinner|   4|                          38|\n+----------+----+------+------+----+------+----+----------------------------+\nonly showing top 100 rows\n\n</div>",
       "datasetInfos": [],
       "metadata": {},
       "removedWidgets": [],
       "type": "html"
      }
     },
     "output_type": "display_data"
    }
   ],
   "source": [
    "from pyspark.sql.functions import desc\n",
    "tipss.select(\"*\",rank().over(Window.partitionBy('day').orderBy(desc('total_bill'))).alias(\"Ordered Rank Total Bill Desc\")).show(100)"
   ]
  },
  {
   "cell_type": "code",
   "execution_count": 0,
   "metadata": {
    "application/vnd.databricks.v1+cell": {
     "cellMetadata": {},
     "inputWidgets": {},
     "nuid": "77589cdb-836e-4bf8-804a-c2cf7bc6ccb3",
     "showTitle": false,
     "title": ""
    }
   },
   "outputs": [
    {
     "output_type": "display_data",
     "data": {
      "text/html": [
       "<style scoped>\n",
       "  .ansiout {\n",
       "    display: block;\n",
       "    unicode-bidi: embed;\n",
       "    white-space: pre-wrap;\n",
       "    word-wrap: break-word;\n",
       "    word-break: break-all;\n",
       "    font-family: \"Menlo\", \"Monaco\", \"Consolas\", \"Ubuntu Mono\", \"Source Code Pro\", monospace;\n",
       "    font-size: 13px;\n",
       "    color: #555;\n",
       "    margin-left: 4px;\n",
       "    line-height: 19px;\n",
       "  }\n",
       "</style>\n",
       "<div class=\"ansiout\"></div>"
      ]
     },
     "metadata": {
      "application/vnd.databricks.v1+output": {
       "addedWidgets": {},
       "arguments": {},
       "data": "<div class=\"ansiout\"></div>",
       "datasetInfos": [
        {
         "name": "df23",
         "schema": {
          "fields": [
           {
            "metadata": {},
            "name": "str",
            "nullable": true,
            "type": "string"
           }
          ],
          "type": "struct"
         },
         "tableIdentifier": null,
         "typeStr": "pyspark.sql.dataframe.DataFrame"
        }
       ],
       "metadata": {},
       "removedWidgets": [],
       "type": "html"
      }
     },
     "output_type": "display_data"
    }
   ],
   "source": [
    "df23 = spark.createDataFrame(data = [('100-200',),\n",
    "                                     ('foo',),\n",
    "                                     ('aaaac',)], \n",
    "                             schema = ['str'])"
   ]
  },
  {
   "cell_type": "code",
   "execution_count": 0,
   "metadata": {
    "application/vnd.databricks.v1+cell": {
     "cellMetadata": {},
     "inputWidgets": {},
     "nuid": "54dfba5b-47ff-440b-8b6e-924f330c2f0b",
     "showTitle": false,
     "title": ""
    }
   },
   "outputs": [
    {
     "output_type": "display_data",
     "data": {
      "text/html": [
       "<style scoped>\n",
       "  .ansiout {\n",
       "    display: block;\n",
       "    unicode-bidi: embed;\n",
       "    white-space: pre-wrap;\n",
       "    word-wrap: break-word;\n",
       "    word-break: break-all;\n",
       "    font-family: \"Menlo\", \"Monaco\", \"Consolas\", \"Ubuntu Mono\", \"Source Code Pro\", monospace;\n",
       "    font-size: 13px;\n",
       "    color: #555;\n",
       "    margin-left: 4px;\n",
       "    line-height: 19px;\n",
       "  }\n",
       "</style>\n",
       "<div class=\"ansiout\">+-------+\n",
       "    str|\n",
       "+-------+\n",
       "100-200|\n",
       "    foo|\n",
       "  aaaac|\n",
       "+-------+\n",
       "\n",
       "</div>"
      ]
     },
     "metadata": {
      "application/vnd.databricks.v1+output": {
       "addedWidgets": {},
       "arguments": {},
       "data": "<div class=\"ansiout\">+-------+\n|    str|\n+-------+\n|100-200|\n|    foo|\n|  aaaac|\n+-------+\n\n</div>",
       "datasetInfos": [],
       "metadata": {},
       "removedWidgets": [],
       "type": "html"
      }
     },
     "output_type": "display_data"
    }
   ],
   "source": [
    "df23.show()"
   ]
  },
  {
   "cell_type": "code",
   "execution_count": 0,
   "metadata": {
    "application/vnd.databricks.v1+cell": {
     "cellMetadata": {},
     "inputWidgets": {},
     "nuid": "8cca6839-3c84-499b-8a45-ae16dc0471c0",
     "showTitle": false,
     "title": ""
    }
   },
   "outputs": [
    {
     "output_type": "display_data",
     "data": {
      "text/html": [
       "<style scoped>\n",
       "  .ansiout {\n",
       "    display: block;\n",
       "    unicode-bidi: embed;\n",
       "    white-space: pre-wrap;\n",
       "    word-wrap: break-word;\n",
       "    word-break: break-all;\n",
       "    font-family: \"Menlo\", \"Monaco\", \"Consolas\", \"Ubuntu Mono\", \"Source Code Pro\", monospace;\n",
       "    font-size: 13px;\n",
       "    color: #555;\n",
       "    margin-left: 4px;\n",
       "    line-height: 19px;\n",
       "  }\n",
       "</style>\n",
       "<div class=\"ansiout\"></div>"
      ]
     },
     "metadata": {
      "application/vnd.databricks.v1+output": {
       "addedWidgets": {},
       "arguments": {},
       "data": "<div class=\"ansiout\"></div>",
       "datasetInfos": [],
       "metadata": {},
       "removedWidgets": [],
       "type": "html"
      }
     },
     "output_type": "display_data"
    }
   ],
   "source": [
    "# 99. regexp_extract\n",
    "from pyspark.sql.functions import regexp_extract\n",
    "#Extract a specific group matched by a Java regex, from the specified string column. If the regex did not match, or the specified group did not match, an empty string is returned."
   ]
  },
  {
   "cell_type": "code",
   "execution_count": 0,
   "metadata": {
    "application/vnd.databricks.v1+cell": {
     "cellMetadata": {},
     "inputWidgets": {},
     "nuid": "b05b1021-2d1a-4956-8a10-ccb513f66207",
     "showTitle": false,
     "title": ""
    }
   },
   "outputs": [
    {
     "output_type": "display_data",
     "data": {
      "text/html": [
       "<style scoped>\n",
       "  .ansiout {\n",
       "    display: block;\n",
       "    unicode-bidi: embed;\n",
       "    white-space: pre-wrap;\n",
       "    word-wrap: break-word;\n",
       "    word-break: break-all;\n",
       "    font-family: \"Menlo\", \"Monaco\", \"Consolas\", \"Ubuntu Mono\", \"Source Code Pro\", monospace;\n",
       "    font-size: 13px;\n",
       "    color: #555;\n",
       "    margin-left: 4px;\n",
       "    line-height: 19px;\n",
       "  }\n",
       "</style>\n",
       "<div class=\"ansiout\">+---------------------------------+\n",
       "regexp_extract(str, (\\d+-\\d+), 0)|\n",
       "+---------------------------------+\n",
       "                          100-200|\n",
       "                                 |\n",
       "                                 |\n",
       "+---------------------------------+\n",
       "\n",
       "</div>"
      ]
     },
     "metadata": {
      "application/vnd.databricks.v1+output": {
       "addedWidgets": {},
       "arguments": {},
       "data": "<div class=\"ansiout\">+---------------------------------+\n|regexp_extract(str, (\\d+-\\d+), 0)|\n+---------------------------------+\n|                          100-200|\n|                                 |\n|                                 |\n+---------------------------------+\n\n</div>",
       "datasetInfos": [],
       "metadata": {},
       "removedWidgets": [],
       "type": "html"
      }
     },
     "output_type": "display_data"
    }
   ],
   "source": [
    "df23.select(regexp_extract(str = 'str', pattern = r'(\\d+-\\d+)', idx = 0)).show()"
   ]
  },
  {
   "cell_type": "code",
   "execution_count": 0,
   "metadata": {
    "application/vnd.databricks.v1+cell": {
     "cellMetadata": {},
     "inputWidgets": {},
     "nuid": "a489c35b-2102-40ee-8c4a-36fd2ac0f77f",
     "showTitle": false,
     "title": ""
    }
   },
   "outputs": [
    {
     "output_type": "display_data",
     "data": {
      "text/html": [
       "<style scoped>\n",
       "  .ansiout {\n",
       "    display: block;\n",
       "    unicode-bidi: embed;\n",
       "    white-space: pre-wrap;\n",
       "    word-wrap: break-word;\n",
       "    word-break: break-all;\n",
       "    font-family: \"Menlo\", \"Monaco\", \"Consolas\", \"Ubuntu Mono\", \"Source Code Pro\", monospace;\n",
       "    font-size: 13px;\n",
       "    color: #555;\n",
       "    margin-left: 4px;\n",
       "    line-height: 19px;\n",
       "  }\n",
       "</style>\n",
       "<div class=\"ansiout\">+-----------------------------+\n",
       "regexp_extract(str, (\\D+), 0)|\n",
       "+-----------------------------+\n",
       "                            -|\n",
       "                          foo|\n",
       "                        aaaac|\n",
       "+-----------------------------+\n",
       "\n",
       "</div>"
      ]
     },
     "metadata": {
      "application/vnd.databricks.v1+output": {
       "addedWidgets": {},
       "arguments": {},
       "data": "<div class=\"ansiout\">+-----------------------------+\n|regexp_extract(str, (\\D+), 0)|\n+-----------------------------+\n|                            -|\n|                          foo|\n|                        aaaac|\n+-----------------------------+\n\n</div>",
       "datasetInfos": [],
       "metadata": {},
       "removedWidgets": [],
       "type": "html"
      }
     },
     "output_type": "display_data"
    }
   ],
   "source": [
    "df23.select(regexp_extract(str = 'str', pattern = r'(\\D+)', idx = 0)).show()"
   ]
  },
  {
   "cell_type": "code",
   "execution_count": 0,
   "metadata": {
    "application/vnd.databricks.v1+cell": {
     "cellMetadata": {},
     "inputWidgets": {},
     "nuid": "2b3dbf6f-d87c-4e7f-baa7-57dadb88722f",
     "showTitle": false,
     "title": ""
    }
   },
   "outputs": [
    {
     "output_type": "display_data",
     "data": {
      "text/html": [
       "<style scoped>\n",
       "  .ansiout {\n",
       "    display: block;\n",
       "    unicode-bidi: embed;\n",
       "    white-space: pre-wrap;\n",
       "    word-wrap: break-word;\n",
       "    word-break: break-all;\n",
       "    font-family: \"Menlo\", \"Monaco\", \"Consolas\", \"Ubuntu Mono\", \"Source Code Pro\", monospace;\n",
       "    font-size: 13px;\n",
       "    color: #555;\n",
       "    margin-left: 4px;\n",
       "    line-height: 19px;\n",
       "  }\n",
       "</style>\n",
       "<div class=\"ansiout\"></div>"
      ]
     },
     "metadata": {
      "application/vnd.databricks.v1+output": {
       "addedWidgets": {},
       "arguments": {},
       "data": "<div class=\"ansiout\"></div>",
       "datasetInfos": [],
       "metadata": {},
       "removedWidgets": [],
       "type": "html"
      }
     },
     "output_type": "display_data"
    }
   ],
   "source": [
    "# 100. regexp_replace\n",
    "from pyspark.sql.functions import regexp_replace\n",
    "#Replace all substrings of the specified string value that match regexp with rep."
   ]
  },
  {
   "cell_type": "code",
   "execution_count": 0,
   "metadata": {
    "application/vnd.databricks.v1+cell": {
     "cellMetadata": {},
     "inputWidgets": {},
     "nuid": "53ab315c-441e-4c47-be96-ffb5073c6814",
     "showTitle": false,
     "title": ""
    }
   },
   "outputs": [
    {
     "output_type": "display_data",
     "data": {
      "text/html": [
       "<style scoped>\n",
       "  .ansiout {\n",
       "    display: block;\n",
       "    unicode-bidi: embed;\n",
       "    white-space: pre-wrap;\n",
       "    word-wrap: break-word;\n",
       "    word-break: break-all;\n",
       "    font-family: \"Menlo\", \"Monaco\", \"Consolas\", \"Ubuntu Mono\", \"Source Code Pro\", monospace;\n",
       "    font-size: 13px;\n",
       "    color: #555;\n",
       "    margin-left: 4px;\n",
       "    line-height: 19px;\n",
       "  }\n",
       "</style>\n",
       "<div class=\"ansiout\">+-------------------------------+\n",
       "regexp_replace(str, (100), 232)|\n",
       "+-------------------------------+\n",
       "                        232-200|\n",
       "                            foo|\n",
       "                          aaaac|\n",
       "+-------------------------------+\n",
       "\n",
       "</div>"
      ]
     },
     "metadata": {
      "application/vnd.databricks.v1+output": {
       "addedWidgets": {},
       "arguments": {},
       "data": "<div class=\"ansiout\">+-------------------------------+\n|regexp_replace(str, (100), 232)|\n+-------------------------------+\n|                        232-200|\n|                            foo|\n|                          aaaac|\n+-------------------------------+\n\n</div>",
       "datasetInfos": [],
       "metadata": {},
       "removedWidgets": [],
       "type": "html"
      }
     },
     "output_type": "display_data"
    }
   ],
   "source": [
    "df23.select(regexp_replace(str ='str', pattern = r'(100)', replacement = '232')).show()"
   ]
  },
  {
   "cell_type": "code",
   "execution_count": 0,
   "metadata": {
    "application/vnd.databricks.v1+cell": {
     "cellMetadata": {},
     "inputWidgets": {},
     "nuid": "a64086d5-fbd4-4f2c-8bcd-b94b2529df73",
     "showTitle": false,
     "title": ""
    }
   },
   "outputs": [
    {
     "output_type": "display_data",
     "data": {
      "text/html": [
       "<style scoped>\n",
       "  .ansiout {\n",
       "    display: block;\n",
       "    unicode-bidi: embed;\n",
       "    white-space: pre-wrap;\n",
       "    word-wrap: break-word;\n",
       "    word-break: break-all;\n",
       "    font-family: \"Menlo\", \"Monaco\", \"Consolas\", \"Ubuntu Mono\", \"Source Code Pro\", monospace;\n",
       "    font-size: 13px;\n",
       "    color: #555;\n",
       "    margin-left: 4px;\n",
       "    line-height: 19px;\n",
       "  }\n",
       "</style>\n",
       "<div class=\"ansiout\">+--------------------------------+\n",
       "regexp_replace(str, (foo), fool)|\n",
       "+--------------------------------+\n",
       "                         100-200|\n",
       "                            fool|\n",
       "                           aaaac|\n",
       "+--------------------------------+\n",
       "\n",
       "</div>"
      ]
     },
     "metadata": {
      "application/vnd.databricks.v1+output": {
       "addedWidgets": {},
       "arguments": {},
       "data": "<div class=\"ansiout\">+--------------------------------+\n|regexp_replace(str, (foo), fool)|\n+--------------------------------+\n|                         100-200|\n|                            fool|\n|                           aaaac|\n+--------------------------------+\n\n</div>",
       "datasetInfos": [],
       "metadata": {},
       "removedWidgets": [],
       "type": "html"
      }
     },
     "output_type": "display_data"
    }
   ],
   "source": [
    "df23.select(regexp_replace(str ='str', pattern = r'(foo)', replacement = 'fool')).show()"
   ]
  },
  {
   "cell_type": "code",
   "execution_count": 0,
   "metadata": {
    "application/vnd.databricks.v1+cell": {
     "cellMetadata": {},
     "inputWidgets": {},
     "nuid": "030c0d75-91ae-482b-b8e3-892e873c510d",
     "showTitle": false,
     "title": ""
    }
   },
   "outputs": [
    {
     "output_type": "display_data",
     "data": {
      "text/html": [
       "<style scoped>\n",
       "  .ansiout {\n",
       "    display: block;\n",
       "    unicode-bidi: embed;\n",
       "    white-space: pre-wrap;\n",
       "    word-wrap: break-word;\n",
       "    word-break: break-all;\n",
       "    font-family: \"Menlo\", \"Monaco\", \"Consolas\", \"Ubuntu Mono\", \"Source Code Pro\", monospace;\n",
       "    font-size: 13px;\n",
       "    color: #555;\n",
       "    margin-left: 4px;\n",
       "    line-height: 19px;\n",
       "  }\n",
       "</style>\n",
       "<div class=\"ansiout\"></div>"
      ]
     },
     "metadata": {
      "application/vnd.databricks.v1+output": {
       "addedWidgets": {},
       "arguments": {},
       "data": "<div class=\"ansiout\"></div>",
       "datasetInfos": [],
       "metadata": {},
       "removedWidgets": [],
       "type": "html"
      }
     },
     "output_type": "display_data"
    }
   ],
   "source": [
    "# 101. repeat\n",
    "from pyspark.sql.functions import repeat"
   ]
  },
  {
   "cell_type": "code",
   "execution_count": 0,
   "metadata": {
    "application/vnd.databricks.v1+cell": {
     "cellMetadata": {},
     "inputWidgets": {},
     "nuid": "1256edc4-a543-4c80-aecb-9004d7a22fb5",
     "showTitle": false,
     "title": ""
    }
   },
   "outputs": [
    {
     "output_type": "display_data",
     "data": {
      "text/html": [
       "<style scoped>\n",
       "  .ansiout {\n",
       "    display: block;\n",
       "    unicode-bidi: embed;\n",
       "    white-space: pre-wrap;\n",
       "    word-wrap: break-word;\n",
       "    word-break: break-all;\n",
       "    font-family: \"Menlo\", \"Monaco\", \"Consolas\", \"Ubuntu Mono\", \"Source Code Pro\", monospace;\n",
       "    font-size: 13px;\n",
       "    color: #555;\n",
       "    margin-left: 4px;\n",
       "    line-height: 19px;\n",
       "  }\n",
       "</style>\n",
       "<div class=\"ansiout\">Help on function repeat in module pyspark.sql.functions:\n",
       "\n",
       "repeat(col, n)\n",
       "    Repeats a string column n times, and returns it as a new string column.\n",
       "    \n",
       "    &gt;&gt;&gt; df = spark.createDataFrame([(&#39;ab&#39;,)], [&#39;s&#39;,])\n",
       "    &gt;&gt;&gt; df.select(repeat(df.s, 3).alias(&#39;s&#39;)).collect()\n",
       "    [Row(s=&#39;ababab&#39;)]\n",
       "    \n",
       "    .. versionadded:: 1.5\n",
       "\n",
       "</div>"
      ]
     },
     "metadata": {
      "application/vnd.databricks.v1+output": {
       "addedWidgets": {},
       "arguments": {},
       "data": "<div class=\"ansiout\">Help on function repeat in module pyspark.sql.functions:\n\nrepeat(col, n)\n    Repeats a string column n times, and returns it as a new string column.\n    \n    &gt;&gt;&gt; df = spark.createDataFrame([(&#39;ab&#39;,)], [&#39;s&#39;,])\n    &gt;&gt;&gt; df.select(repeat(df.s, 3).alias(&#39;s&#39;)).collect()\n    [Row(s=&#39;ababab&#39;)]\n    \n    .. versionadded:: 1.5\n\n</div>",
       "datasetInfos": [],
       "metadata": {},
       "removedWidgets": [],
       "type": "html"
      }
     },
     "output_type": "display_data"
    }
   ],
   "source": [
    "help(repeat)"
   ]
  },
  {
   "cell_type": "code",
   "execution_count": 0,
   "metadata": {
    "application/vnd.databricks.v1+cell": {
     "cellMetadata": {},
     "inputWidgets": {},
     "nuid": "c0566ca5-bdf6-4eeb-8509-a0fc478f51c6",
     "showTitle": false,
     "title": ""
    }
   },
   "outputs": [
    {
     "output_type": "display_data",
     "data": {
      "text/html": [
       "<style scoped>\n",
       "  .ansiout {\n",
       "    display: block;\n",
       "    unicode-bidi: embed;\n",
       "    white-space: pre-wrap;\n",
       "    word-wrap: break-word;\n",
       "    word-break: break-all;\n",
       "    font-family: \"Menlo\", \"Monaco\", \"Consolas\", \"Ubuntu Mono\", \"Source Code Pro\", monospace;\n",
       "    font-size: 13px;\n",
       "    color: #555;\n",
       "    margin-left: 4px;\n",
       "    line-height: 19px;\n",
       "  }\n",
       "</style>\n",
       "<div class=\"ansiout\">+---------------------+\n",
       "repeat(total_bill, 3)|\n",
       "+---------------------+\n",
       "      16.9916.9916.99|\n",
       "      10.3410.3410.34|\n",
       "      21.0121.0121.01|\n",
       "      23.6823.6823.68|\n",
       "      24.5924.5924.59|\n",
       "      25.2925.2925.29|\n",
       "         8.778.778.77|\n",
       "      26.8826.8826.88|\n",
       "      15.0415.0415.04|\n",
       "      14.7814.7814.78|\n",
       "+---------------------+\n",
       "only showing top 10 rows\n",
       "\n",
       "</div>"
      ]
     },
     "metadata": {
      "application/vnd.databricks.v1+output": {
       "addedWidgets": {},
       "arguments": {},
       "data": "<div class=\"ansiout\">+---------------------+\n|repeat(total_bill, 3)|\n+---------------------+\n|      16.9916.9916.99|\n|      10.3410.3410.34|\n|      21.0121.0121.01|\n|      23.6823.6823.68|\n|      24.5924.5924.59|\n|      25.2925.2925.29|\n|         8.778.778.77|\n|      26.8826.8826.88|\n|      15.0415.0415.04|\n|      14.7814.7814.78|\n+---------------------+\nonly showing top 10 rows\n\n</div>",
       "datasetInfos": [],
       "metadata": {},
       "removedWidgets": [],
       "type": "html"
      }
     },
     "output_type": "display_data"
    }
   ],
   "source": [
    "tipss.select(repeat(col = tipss['total_bill'], n = 3)).show(10)"
   ]
  },
  {
   "cell_type": "code",
   "execution_count": 0,
   "metadata": {
    "application/vnd.databricks.v1+cell": {
     "cellMetadata": {},
     "inputWidgets": {},
     "nuid": "5d5c37e4-0aa3-476f-a021-824d0f2c4f29",
     "showTitle": false,
     "title": ""
    }
   },
   "outputs": [
    {
     "output_type": "display_data",
     "data": {
      "text/html": [
       "<style scoped>\n",
       "  .ansiout {\n",
       "    display: block;\n",
       "    unicode-bidi: embed;\n",
       "    white-space: pre-wrap;\n",
       "    word-wrap: break-word;\n",
       "    word-break: break-all;\n",
       "    font-family: \"Menlo\", \"Monaco\", \"Consolas\", \"Ubuntu Mono\", \"Source Code Pro\", monospace;\n",
       "    font-size: 13px;\n",
       "    color: #555;\n",
       "    margin-left: 4px;\n",
       "    line-height: 19px;\n",
       "  }\n",
       "</style>\n",
       "<div class=\"ansiout\">+----------+----+------+------+---+------+----+\n",
       "total_bill| tip|   sex|smoker|day|  time|size|\n",
       "+----------+----+------+------+---+------+----+\n",
       "     16.99|1.01|Female|    No|Sun|Dinner|   2|\n",
       "     10.34|1.66|  Male|    No|Sun|Dinner|   3|\n",
       "     21.01| 3.5|  Male|    No|Sun|Dinner|   3|\n",
       "     23.68|3.31|  Male|    No|Sun|Dinner|   2|\n",
       "     24.59|3.61|Female|    No|Sun|Dinner|   4|\n",
       "     25.29|4.71|  Male|    No|Sun|Dinner|   4|\n",
       "      8.77| 2.0|  Male|    No|Sun|Dinner|   2|\n",
       "     26.88|3.12|  Male|    No|Sun|Dinner|   4|\n",
       "     15.04|1.96|  Male|    No|Sun|Dinner|   2|\n",
       "     14.78|3.23|  Male|    No|Sun|Dinner|   2|\n",
       "     10.27|1.71|  Male|    No|Sun|Dinner|   2|\n",
       "     35.26| 5.0|Female|    No|Sun|Dinner|   4|\n",
       "     15.42|1.57|  Male|    No|Sun|Dinner|   2|\n",
       "     18.43| 3.0|  Male|    No|Sun|Dinner|   4|\n",
       "     14.83|3.02|Female|    No|Sun|Dinner|   2|\n",
       "     21.58|3.92|  Male|    No|Sun|Dinner|   2|\n",
       "     10.33|1.67|Female|    No|Sun|Dinner|   3|\n",
       "     16.29|3.71|  Male|    No|Sun|Dinner|   3|\n",
       "     16.97| 3.5|Female|    No|Sun|Dinner|   3|\n",
       "     20.65|3.35|  Male|    No|Sat|Dinner|   3|\n",
       "+----------+----+------+------+---+------+----+\n",
       "only showing top 20 rows\n",
       "\n",
       "</div>"
      ]
     },
     "metadata": {
      "application/vnd.databricks.v1+output": {
       "addedWidgets": {},
       "arguments": {},
       "data": "<div class=\"ansiout\">+----------+----+------+------+---+------+----+\n|total_bill| tip|   sex|smoker|day|  time|size|\n+----------+----+------+------+---+------+----+\n|     16.99|1.01|Female|    No|Sun|Dinner|   2|\n|     10.34|1.66|  Male|    No|Sun|Dinner|   3|\n|     21.01| 3.5|  Male|    No|Sun|Dinner|   3|\n|     23.68|3.31|  Male|    No|Sun|Dinner|   2|\n|     24.59|3.61|Female|    No|Sun|Dinner|   4|\n|     25.29|4.71|  Male|    No|Sun|Dinner|   4|\n|      8.77| 2.0|  Male|    No|Sun|Dinner|   2|\n|     26.88|3.12|  Male|    No|Sun|Dinner|   4|\n|     15.04|1.96|  Male|    No|Sun|Dinner|   2|\n|     14.78|3.23|  Male|    No|Sun|Dinner|   2|\n|     10.27|1.71|  Male|    No|Sun|Dinner|   2|\n|     35.26| 5.0|Female|    No|Sun|Dinner|   4|\n|     15.42|1.57|  Male|    No|Sun|Dinner|   2|\n|     18.43| 3.0|  Male|    No|Sun|Dinner|   4|\n|     14.83|3.02|Female|    No|Sun|Dinner|   2|\n|     21.58|3.92|  Male|    No|Sun|Dinner|   2|\n|     10.33|1.67|Female|    No|Sun|Dinner|   3|\n|     16.29|3.71|  Male|    No|Sun|Dinner|   3|\n|     16.97| 3.5|Female|    No|Sun|Dinner|   3|\n|     20.65|3.35|  Male|    No|Sat|Dinner|   3|\n+----------+----+------+------+---+------+----+\nonly showing top 20 rows\n\n</div>",
       "datasetInfos": [],
       "metadata": {},
       "removedWidgets": [],
       "type": "html"
      }
     },
     "output_type": "display_data"
    }
   ],
   "source": [
    "tipss.show()"
   ]
  },
  {
   "cell_type": "code",
   "execution_count": 0,
   "metadata": {
    "application/vnd.databricks.v1+cell": {
     "cellMetadata": {},
     "inputWidgets": {},
     "nuid": "43b70ae7-ac3f-4ce3-99b8-90a2c56c1571",
     "showTitle": false,
     "title": ""
    }
   },
   "outputs": [
    {
     "output_type": "display_data",
     "data": {
      "text/html": [
       "<style scoped>\n",
       "  .ansiout {\n",
       "    display: block;\n",
       "    unicode-bidi: embed;\n",
       "    white-space: pre-wrap;\n",
       "    word-wrap: break-word;\n",
       "    word-break: break-all;\n",
       "    font-family: \"Menlo\", \"Monaco\", \"Consolas\", \"Ubuntu Mono\", \"Source Code Pro\", monospace;\n",
       "    font-size: 13px;\n",
       "    color: #555;\n",
       "    margin-left: 4px;\n",
       "    line-height: 19px;\n",
       "  }\n",
       "</style>\n",
       "<div class=\"ansiout\"></div>"
      ]
     },
     "metadata": {
      "application/vnd.databricks.v1+output": {
       "addedWidgets": {},
       "arguments": {},
       "data": "<div class=\"ansiout\"></div>",
       "datasetInfos": [],
       "metadata": {},
       "removedWidgets": [],
       "type": "html"
      }
     },
     "output_type": "display_data"
    }
   ],
   "source": [
    "# 102. reverse\n",
    "from pyspark.sql.functions import reverse\n",
    "#Collection function: returns a reversed string or an array with reverse order of elements."
   ]
  },
  {
   "cell_type": "code",
   "execution_count": 0,
   "metadata": {
    "application/vnd.databricks.v1+cell": {
     "cellMetadata": {},
     "inputWidgets": {},
     "nuid": "04849a50-0d9b-4e17-9189-c48c82f8e6b7",
     "showTitle": false,
     "title": ""
    }
   },
   "outputs": [
    {
     "output_type": "display_data",
     "data": {
      "text/html": [
       "<style scoped>\n",
       "  .ansiout {\n",
       "    display: block;\n",
       "    unicode-bidi: embed;\n",
       "    white-space: pre-wrap;\n",
       "    word-wrap: break-word;\n",
       "    word-break: break-all;\n",
       "    font-family: \"Menlo\", \"Monaco\", \"Consolas\", \"Ubuntu Mono\", \"Source Code Pro\", monospace;\n",
       "    font-size: 13px;\n",
       "    color: #555;\n",
       "    margin-left: 4px;\n",
       "    line-height: 19px;\n",
       "  }\n",
       "</style>\n",
       "<div class=\"ansiout\">+------------+\n",
       "reverse(sex)|\n",
       "+------------+\n",
       "      elameF|\n",
       "        elaM|\n",
       "        elaM|\n",
       "        elaM|\n",
       "      elameF|\n",
       "        elaM|\n",
       "        elaM|\n",
       "        elaM|\n",
       "        elaM|\n",
       "        elaM|\n",
       "+------------+\n",
       "only showing top 10 rows\n",
       "\n",
       "</div>"
      ]
     },
     "metadata": {
      "application/vnd.databricks.v1+output": {
       "addedWidgets": {},
       "arguments": {},
       "data": "<div class=\"ansiout\">+------------+\n|reverse(sex)|\n+------------+\n|      elameF|\n|        elaM|\n|        elaM|\n|        elaM|\n|      elameF|\n|        elaM|\n|        elaM|\n|        elaM|\n|        elaM|\n|        elaM|\n+------------+\nonly showing top 10 rows\n\n</div>",
       "datasetInfos": [],
       "metadata": {},
       "removedWidgets": [],
       "type": "html"
      }
     },
     "output_type": "display_data"
    }
   ],
   "source": [
    "tipss.select(reverse(col = tipss['sex'])).show(10)"
   ]
  },
  {
   "cell_type": "code",
   "execution_count": 0,
   "metadata": {
    "application/vnd.databricks.v1+cell": {
     "cellMetadata": {},
     "inputWidgets": {},
     "nuid": "2b95f977-175c-4826-ac03-a3bafca4ac52",
     "showTitle": false,
     "title": ""
    }
   },
   "outputs": [
    {
     "output_type": "display_data",
     "data": {
      "text/html": [
       "<style scoped>\n",
       "  .ansiout {\n",
       "    display: block;\n",
       "    unicode-bidi: embed;\n",
       "    white-space: pre-wrap;\n",
       "    word-wrap: break-word;\n",
       "    word-break: break-all;\n",
       "    font-family: \"Menlo\", \"Monaco\", \"Consolas\", \"Ubuntu Mono\", \"Source Code Pro\", monospace;\n",
       "    font-size: 13px;\n",
       "    color: #555;\n",
       "    margin-left: 4px;\n",
       "    line-height: 19px;\n",
       "  }\n",
       "</style>\n",
       "<div class=\"ansiout\"></div>"
      ]
     },
     "metadata": {
      "application/vnd.databricks.v1+output": {
       "addedWidgets": {},
       "arguments": {},
       "data": "<div class=\"ansiout\"></div>",
       "datasetInfos": [],
       "metadata": {},
       "removedWidgets": [],
       "type": "html"
      }
     },
     "output_type": "display_data"
    }
   ],
   "source": [
    "# 103. rint\n",
    "from pyspark.sql.functions import rint\n",
    "#Returns the double value that is closest in value to the argument and is equal to a mathematical integer."
   ]
  },
  {
   "cell_type": "code",
   "execution_count": 0,
   "metadata": {
    "application/vnd.databricks.v1+cell": {
     "cellMetadata": {},
     "inputWidgets": {},
     "nuid": "c42503f2-94db-4a04-af9c-8562c2fe672d",
     "showTitle": false,
     "title": ""
    }
   },
   "outputs": [
    {
     "output_type": "display_data",
     "data": {
      "text/html": [
       "<style scoped>\n",
       "  .ansiout {\n",
       "    display: block;\n",
       "    unicode-bidi: embed;\n",
       "    white-space: pre-wrap;\n",
       "    word-wrap: break-word;\n",
       "    word-break: break-all;\n",
       "    font-family: \"Menlo\", \"Monaco\", \"Consolas\", \"Ubuntu Mono\", \"Source Code Pro\", monospace;\n",
       "    font-size: 13px;\n",
       "    color: #555;\n",
       "    margin-left: 4px;\n",
       "    line-height: 19px;\n",
       "  }\n",
       "</style>\n",
       "<div class=\"ansiout\">+----------+----------------+\n",
       "total_bill|rint(total_bill)|\n",
       "+----------+----------------+\n",
       "     16.99|            17.0|\n",
       "     10.34|            10.0|\n",
       "     21.01|            21.0|\n",
       "     23.68|            24.0|\n",
       "     24.59|            25.0|\n",
       "     25.29|            25.0|\n",
       "      8.77|             9.0|\n",
       "     26.88|            27.0|\n",
       "     15.04|            15.0|\n",
       "     14.78|            15.0|\n",
       "     10.27|            10.0|\n",
       "     35.26|            35.0|\n",
       "     15.42|            15.0|\n",
       "     18.43|            18.0|\n",
       "     14.83|            15.0|\n",
       "     21.58|            22.0|\n",
       "     10.33|            10.0|\n",
       "     16.29|            16.0|\n",
       "     16.97|            17.0|\n",
       "     20.65|            21.0|\n",
       "+----------+----------------+\n",
       "only showing top 20 rows\n",
       "\n",
       "</div>"
      ]
     },
     "metadata": {
      "application/vnd.databricks.v1+output": {
       "addedWidgets": {},
       "arguments": {},
       "data": "<div class=\"ansiout\">+----------+----------------+\n|total_bill|rint(total_bill)|\n+----------+----------------+\n|     16.99|            17.0|\n|     10.34|            10.0|\n|     21.01|            21.0|\n|     23.68|            24.0|\n|     24.59|            25.0|\n|     25.29|            25.0|\n|      8.77|             9.0|\n|     26.88|            27.0|\n|     15.04|            15.0|\n|     14.78|            15.0|\n|     10.27|            10.0|\n|     35.26|            35.0|\n|     15.42|            15.0|\n|     18.43|            18.0|\n|     14.83|            15.0|\n|     21.58|            22.0|\n|     10.33|            10.0|\n|     16.29|            16.0|\n|     16.97|            17.0|\n|     20.65|            21.0|\n+----------+----------------+\nonly showing top 20 rows\n\n</div>",
       "datasetInfos": [],
       "metadata": {},
       "removedWidgets": [],
       "type": "html"
      }
     },
     "output_type": "display_data"
    }
   ],
   "source": [
    "tipss.select(tipss['total_bill'],rint(col = tipss['total_bill'])).show()"
   ]
  },
  {
   "cell_type": "code",
   "execution_count": 0,
   "metadata": {
    "application/vnd.databricks.v1+cell": {
     "cellMetadata": {},
     "inputWidgets": {},
     "nuid": "c1911b2d-79df-413c-8b15-402a6ba0d01f",
     "showTitle": false,
     "title": ""
    }
   },
   "outputs": [
    {
     "output_type": "display_data",
     "data": {
      "text/html": [
       "<style scoped>\n",
       "  .ansiout {\n",
       "    display: block;\n",
       "    unicode-bidi: embed;\n",
       "    white-space: pre-wrap;\n",
       "    word-wrap: break-word;\n",
       "    word-break: break-all;\n",
       "    font-family: \"Menlo\", \"Monaco\", \"Consolas\", \"Ubuntu Mono\", \"Source Code Pro\", monospace;\n",
       "    font-size: 13px;\n",
       "    color: #555;\n",
       "    margin-left: 4px;\n",
       "    line-height: 19px;\n",
       "  }\n",
       "</style>\n",
       "<div class=\"ansiout\"></div>"
      ]
     },
     "metadata": {
      "application/vnd.databricks.v1+output": {
       "addedWidgets": {},
       "arguments": {},
       "data": "<div class=\"ansiout\"></div>",
       "datasetInfos": [],
       "metadata": {},
       "removedWidgets": [],
       "type": "html"
      }
     },
     "output_type": "display_data"
    }
   ],
   "source": [
    "# 104. round\n",
    "from pyspark.sql.functions import round\n",
    "# Round the given value to `scale` decimal places using HALF_UP rounding mode if `scale` >= 0 or at integral part when `scale` < 0."
   ]
  },
  {
   "cell_type": "code",
   "execution_count": 0,
   "metadata": {
    "application/vnd.databricks.v1+cell": {
     "cellMetadata": {},
     "inputWidgets": {},
     "nuid": "ac272622-088f-47d3-9fc7-5ea47c08792a",
     "showTitle": false,
     "title": ""
    }
   },
   "outputs": [
    {
     "output_type": "display_data",
     "data": {
      "text/html": [
       "<style scoped>\n",
       "  .ansiout {\n",
       "    display: block;\n",
       "    unicode-bidi: embed;\n",
       "    white-space: pre-wrap;\n",
       "    word-wrap: break-word;\n",
       "    word-break: break-all;\n",
       "    font-family: \"Menlo\", \"Monaco\", \"Consolas\", \"Ubuntu Mono\", \"Source Code Pro\", monospace;\n",
       "    font-size: 13px;\n",
       "    color: #555;\n",
       "    margin-left: 4px;\n",
       "    line-height: 19px;\n",
       "  }\n",
       "</style>\n",
       "<div class=\"ansiout\">+----------+--------------------+\n",
       "total_bill|round(total_bill, 1)|\n",
       "+----------+--------------------+\n",
       "     16.99|                17.0|\n",
       "     10.34|                10.3|\n",
       "     21.01|                21.0|\n",
       "     23.68|                23.7|\n",
       "     24.59|                24.6|\n",
       "     25.29|                25.3|\n",
       "      8.77|                 8.8|\n",
       "     26.88|                26.9|\n",
       "     15.04|                15.0|\n",
       "     14.78|                14.8|\n",
       "     10.27|                10.3|\n",
       "     35.26|                35.3|\n",
       "     15.42|                15.4|\n",
       "     18.43|                18.4|\n",
       "     14.83|                14.8|\n",
       "     21.58|                21.6|\n",
       "     10.33|                10.3|\n",
       "     16.29|                16.3|\n",
       "     16.97|                17.0|\n",
       "     20.65|                20.7|\n",
       "+----------+--------------------+\n",
       "only showing top 20 rows\n",
       "\n",
       "</div>"
      ]
     },
     "metadata": {
      "application/vnd.databricks.v1+output": {
       "addedWidgets": {},
       "arguments": {},
       "data": "<div class=\"ansiout\">+----------+--------------------+\n|total_bill|round(total_bill, 1)|\n+----------+--------------------+\n|     16.99|                17.0|\n|     10.34|                10.3|\n|     21.01|                21.0|\n|     23.68|                23.7|\n|     24.59|                24.6|\n|     25.29|                25.3|\n|      8.77|                 8.8|\n|     26.88|                26.9|\n|     15.04|                15.0|\n|     14.78|                14.8|\n|     10.27|                10.3|\n|     35.26|                35.3|\n|     15.42|                15.4|\n|     18.43|                18.4|\n|     14.83|                14.8|\n|     21.58|                21.6|\n|     10.33|                10.3|\n|     16.29|                16.3|\n|     16.97|                17.0|\n|     20.65|                20.7|\n+----------+--------------------+\nonly showing top 20 rows\n\n</div>",
       "datasetInfos": [],
       "metadata": {},
       "removedWidgets": [],
       "type": "html"
      }
     },
     "output_type": "display_data"
    }
   ],
   "source": [
    "tipss.select(tipss['total_bill'], round(col = tipss['total_bill'], scale = 1)).show()"
   ]
  },
  {
   "cell_type": "code",
   "execution_count": 0,
   "metadata": {
    "application/vnd.databricks.v1+cell": {
     "cellMetadata": {},
     "inputWidgets": {},
     "nuid": "e9fb4476-007f-4d71-9d96-94c2aaf85d4b",
     "showTitle": false,
     "title": ""
    }
   },
   "outputs": [
    {
     "output_type": "display_data",
     "data": {
      "text/html": [
       "<style scoped>\n",
       "  .ansiout {\n",
       "    display: block;\n",
       "    unicode-bidi: embed;\n",
       "    white-space: pre-wrap;\n",
       "    word-wrap: break-word;\n",
       "    word-break: break-all;\n",
       "    font-family: \"Menlo\", \"Monaco\", \"Consolas\", \"Ubuntu Mono\", \"Source Code Pro\", monospace;\n",
       "    font-size: 13px;\n",
       "    color: #555;\n",
       "    margin-left: 4px;\n",
       "    line-height: 19px;\n",
       "  }\n",
       "</style>\n",
       "<div class=\"ansiout\">+----------+----+------+------+---+------+----+\n",
       "total_bill| tip|   sex|smoker|day|  time|size|\n",
       "+----------+----+------+------+---+------+----+\n",
       "     16.99|1.01|Female|    No|Sun|Dinner|   2|\n",
       "     10.34|1.66|  Male|    No|Sun|Dinner|   3|\n",
       "     21.01| 3.5|  Male|    No|Sun|Dinner|   3|\n",
       "     23.68|3.31|  Male|    No|Sun|Dinner|   2|\n",
       "     24.59|3.61|Female|    No|Sun|Dinner|   4|\n",
       "+----------+----+------+------+---+------+----+\n",
       "only showing top 5 rows\n",
       "\n",
       "</div>"
      ]
     },
     "metadata": {
      "application/vnd.databricks.v1+output": {
       "addedWidgets": {},
       "arguments": {},
       "data": "<div class=\"ansiout\">+----------+----+------+------+---+------+----+\n|total_bill| tip|   sex|smoker|day|  time|size|\n+----------+----+------+------+---+------+----+\n|     16.99|1.01|Female|    No|Sun|Dinner|   2|\n|     10.34|1.66|  Male|    No|Sun|Dinner|   3|\n|     21.01| 3.5|  Male|    No|Sun|Dinner|   3|\n|     23.68|3.31|  Male|    No|Sun|Dinner|   2|\n|     24.59|3.61|Female|    No|Sun|Dinner|   4|\n+----------+----+------+------+---+------+----+\nonly showing top 5 rows\n\n</div>",
       "datasetInfos": [],
       "metadata": {},
       "removedWidgets": [],
       "type": "html"
      }
     },
     "output_type": "display_data"
    }
   ],
   "source": [
    "tipss.show(5)"
   ]
  },
  {
   "cell_type": "code",
   "execution_count": 0,
   "metadata": {
    "application/vnd.databricks.v1+cell": {
     "cellMetadata": {},
     "inputWidgets": {},
     "nuid": "58b55595-8bae-4c2e-bc14-75f92d757503",
     "showTitle": false,
     "title": ""
    }
   },
   "outputs": [
    {
     "output_type": "display_data",
     "data": {
      "text/html": [
       "<style scoped>\n",
       "  .ansiout {\n",
       "    display: block;\n",
       "    unicode-bidi: embed;\n",
       "    white-space: pre-wrap;\n",
       "    word-wrap: break-word;\n",
       "    word-break: break-all;\n",
       "    font-family: \"Menlo\", \"Monaco\", \"Consolas\", \"Ubuntu Mono\", \"Source Code Pro\", monospace;\n",
       "    font-size: 13px;\n",
       "    color: #555;\n",
       "    margin-left: 4px;\n",
       "    line-height: 19px;\n",
       "  }\n",
       "</style>\n",
       "<div class=\"ansiout\"></div>"
      ]
     },
     "metadata": {
      "application/vnd.databricks.v1+output": {
       "addedWidgets": {},
       "arguments": {},
       "data": "<div class=\"ansiout\"></div>",
       "datasetInfos": [],
       "metadata": {},
       "removedWidgets": [],
       "type": "html"
      }
     },
     "output_type": "display_data"
    }
   ],
   "source": [
    "# 105. row_number\n",
    "from pyspark.sql.functions import row_number\n",
    "#Window function: returns a sequential number starting at 1 within a window partition."
   ]
  },
  {
   "cell_type": "code",
   "execution_count": 0,
   "metadata": {
    "application/vnd.databricks.v1+cell": {
     "cellMetadata": {},
     "inputWidgets": {},
     "nuid": "b238f876-bc74-4039-9b40-56b66c1b0348",
     "showTitle": false,
     "title": ""
    }
   },
   "outputs": [
    {
     "output_type": "display_data",
     "data": {
      "text/html": [
       "<style scoped>\n",
       "  .ansiout {\n",
       "    display: block;\n",
       "    unicode-bidi: embed;\n",
       "    white-space: pre-wrap;\n",
       "    word-wrap: break-word;\n",
       "    word-break: break-all;\n",
       "    font-family: \"Menlo\", \"Monaco\", \"Consolas\", \"Ubuntu Mono\", \"Source Code Pro\", monospace;\n",
       "    font-size: 13px;\n",
       "    color: #555;\n",
       "    margin-left: 4px;\n",
       "    line-height: 19px;\n",
       "  }\n",
       "</style>\n",
       "<div class=\"ansiout\">+----------+----+------+------+----+------+----+----------+\n",
       "total_bill| tip|   sex|smoker| day|  time|size|Row Number|\n",
       "+----------+----+------+------+----+------+----+----------+\n",
       "     28.97| 3.0|  Male|   Yes| Fri|Dinner|   2|         1|\n",
       "     22.49| 3.5|  Male|    No| Fri|Dinner|   2|         2|\n",
       "      5.75| 1.0|Female|   Yes| Fri|Dinner|   2|         3|\n",
       "     16.32| 4.3|Female|   Yes| Fri|Dinner|   2|         4|\n",
       "     22.75|3.25|Female|    No| Fri|Dinner|   2|         5|\n",
       "     40.17|4.73|  Male|   Yes| Fri|Dinner|   4|         6|\n",
       "     27.28| 4.0|  Male|   Yes| Fri|Dinner|   2|         7|\n",
       "     12.03| 1.5|  Male|   Yes| Fri|Dinner|   2|         8|\n",
       "     21.01| 3.0|  Male|   Yes| Fri|Dinner|   2|         9|\n",
       "     12.46| 1.5|  Male|    No| Fri|Dinner|   2|        10|\n",
       "     11.35| 2.5|Female|   Yes| Fri|Dinner|   2|        11|\n",
       "     15.38| 3.0|Female|   Yes| Fri|Dinner|   2|        12|\n",
       "     12.16| 2.2|  Male|   Yes| Fri| Lunch|   2|        13|\n",
       "     13.42|3.48|Female|   Yes| Fri| Lunch|   2|        14|\n",
       "      8.58|1.92|  Male|   Yes| Fri| Lunch|   1|        15|\n",
       "     15.98| 3.0|Female|    No| Fri| Lunch|   3|        16|\n",
       "     13.42|1.58|  Male|   Yes| Fri| Lunch|   2|        17|\n",
       "     16.27| 2.5|Female|   Yes| Fri| Lunch|   2|        18|\n",
       "     10.09| 2.0|Female|   Yes| Fri| Lunch|   2|        19|\n",
       "     20.65|3.35|  Male|    No| Sat|Dinner|   3|        20|\n",
       "     17.92|4.08|  Male|    No| Sat|Dinner|   2|        21|\n",
       "     20.29|2.75|Female|    No| Sat|Dinner|   2|        22|\n",
       "     15.77|2.23|Female|    No| Sat|Dinner|   2|        23|\n",
       "     39.42|7.58|  Male|    No| Sat|Dinner|   4|        24|\n",
       "     19.82|3.18|  Male|    No| Sat|Dinner|   2|        25|\n",
       "     17.81|2.34|  Male|    No| Sat|Dinner|   4|        26|\n",
       "     13.37| 2.0|  Male|    No| Sat|Dinner|   2|        27|\n",
       "     12.69| 2.0|  Male|    No| Sat|Dinner|   2|        28|\n",
       "      21.7| 4.3|  Male|    No| Sat|Dinner|   2|        29|\n",
       "     19.65| 3.0|Female|    No| Sat|Dinner|   2|        30|\n",
       "      9.55|1.45|  Male|    No| Sat|Dinner|   2|        31|\n",
       "     18.35| 2.5|  Male|    No| Sat|Dinner|   4|        32|\n",
       "     15.06| 3.0|Female|    No| Sat|Dinner|   2|        33|\n",
       "     20.69|2.45|Female|    No| Sat|Dinner|   4|        34|\n",
       "     17.78|3.27|  Male|    No| Sat|Dinner|   2|        35|\n",
       "     24.06| 3.6|  Male|    No| Sat|Dinner|   3|        36|\n",
       "     16.31| 2.0|  Male|    No| Sat|Dinner|   3|        37|\n",
       "     16.93|3.07|Female|    No| Sat|Dinner|   3|        38|\n",
       "     18.69|2.31|  Male|    No| Sat|Dinner|   3|        39|\n",
       "     31.27| 5.0|  Male|    No| Sat|Dinner|   3|        40|\n",
       "     16.04|2.24|  Male|    No| Sat|Dinner|   3|        41|\n",
       "     38.01| 3.0|  Male|   Yes| Sat|Dinner|   4|        42|\n",
       "     26.41| 1.5|Female|    No| Sat|Dinner|   2|        43|\n",
       "     11.24|1.76|  Male|   Yes| Sat|Dinner|   2|        44|\n",
       "     48.27|6.73|  Male|    No| Sat|Dinner|   4|        45|\n",
       "     20.29|3.21|  Male|   Yes| Sat|Dinner|   2|        46|\n",
       "     13.81| 2.0|  Male|   Yes| Sat|Dinner|   2|        47|\n",
       "     11.02|1.98|  Male|   Yes| Sat|Dinner|   2|        48|\n",
       "     18.29|3.76|  Male|   Yes| Sat|Dinner|   4|        49|\n",
       "     17.59|2.64|  Male|    No| Sat|Dinner|   3|        50|\n",
       "     20.08|3.15|  Male|    No| Sat|Dinner|   3|        51|\n",
       "     16.45|2.47|Female|    No| Sat|Dinner|   2|        52|\n",
       "      3.07| 1.0|Female|   Yes| Sat|Dinner|   1|        53|\n",
       "     20.23|2.01|  Male|    No| Sat|Dinner|   2|        54|\n",
       "     15.01|2.09|  Male|   Yes| Sat|Dinner|   2|        55|\n",
       "     12.02|1.97|  Male|    No| Sat|Dinner|   2|        56|\n",
       "     17.07| 3.0|Female|    No| Sat|Dinner|   3|        57|\n",
       "     26.86|3.14|Female|   Yes| Sat|Dinner|   2|        58|\n",
       "     25.28| 5.0|Female|   Yes| Sat|Dinner|   2|        59|\n",
       "     14.73| 2.2|Female|    No| Sat|Dinner|   2|        60|\n",
       "     10.51|1.25|  Male|    No| Sat|Dinner|   2|        61|\n",
       "     17.92|3.08|  Male|   Yes| Sat|Dinner|   2|        62|\n",
       "      44.3| 2.5|Female|   Yes| Sat|Dinner|   3|        63|\n",
       "     22.42|3.48|Female|   Yes| Sat|Dinner|   2|        64|\n",
       "     20.92|4.08|Female|    No| Sat|Dinner|   2|        65|\n",
       "     15.36|1.64|  Male|   Yes| Sat|Dinner|   2|        66|\n",
       "     20.49|4.06|  Male|   Yes| Sat|Dinner|   2|        67|\n",
       "     25.21|4.29|  Male|   Yes| Sat|Dinner|   2|        68|\n",
       "     18.24|3.76|  Male|    No| Sat|Dinner|   2|        69|\n",
       "     14.31| 4.0|Female|   Yes| Sat|Dinner|   2|        70|\n",
       "      14.0| 3.0|  Male|    No| Sat|Dinner|   2|        71|\n",
       "      7.25| 1.0|Female|    No| Sat|Dinner|   1|        72|\n",
       "     10.59|1.61|Female|   Yes| Sat|Dinner|   2|        73|\n",
       "     10.63| 2.0|Female|   Yes| Sat|Dinner|   2|        74|\n",
       "     50.81|10.0|  Male|   Yes| Sat|Dinner|   3|        75|\n",
       "     15.81|3.16|  Male|   Yes| Sat|Dinner|   2|        76|\n",
       "     26.59|3.41|  Male|   Yes| Sat|Dinner|   3|        77|\n",
       "     38.73| 3.0|  Male|   Yes| Sat|Dinner|   4|        78|\n",
       "     24.27|2.03|  Male|   Yes| Sat|Dinner|   2|        79|\n",
       "     12.76|2.23|Female|   Yes| Sat|Dinner|   2|        80|\n",
       "     30.06| 2.0|  Male|   Yes| Sat|Dinner|   3|        81|\n",
       "     25.89|5.16|  Male|   Yes| Sat|Dinner|   4|        82|\n",
       "     48.33| 9.0|  Male|    No| Sat|Dinner|   4|        83|\n",
       "     13.27| 2.5|Female|   Yes| Sat|Dinner|   2|        84|\n",
       "     28.17| 6.5|Female|   Yes| Sat|Dinner|   3|        85|\n",
       "      12.9| 1.1|Female|   Yes| Sat|Dinner|   2|        86|\n",
       "     28.15| 3.0|  Male|   Yes| Sat|Dinner|   5|        87|\n",
       "     11.59| 1.5|  Male|   Yes| Sat|Dinner|   2|        88|\n",
       "      7.74|1.44|  Male|   Yes| Sat|Dinner|   2|        89|\n",
       "     30.14|3.09|Female|   Yes| Sat|Dinner|   4|        90|\n",
       "     20.45| 3.0|  Male|    No| Sat|Dinner|   4|        91|\n",
       "     13.28|2.72|  Male|    No| Sat|Dinner|   2|        92|\n",
       "     22.12|2.88|Female|   Yes| Sat|Dinner|   2|        93|\n",
       "     24.01| 2.0|  Male|   Yes| Sat|Dinner|   4|        94|\n",
       "     15.69| 3.0|  Male|   Yes| Sat|Dinner|   3|        95|\n",
       "     11.61|3.39|  Male|    No| Sat|Dinner|   2|        96|\n",
       "     10.77|1.47|  Male|    No| Sat|Dinner|   2|        97|\n",
       "     15.53| 3.0|  Male|   Yes| Sat|Dinner|   2|        98|\n",
       "     10.07|1.25|  Male|    No| Sat|Dinner|   2|        99|\n",
       "      12.6| 1.0|  Male|   Yes| Sat|Dinner|   2|       100|\n",
       "     32.83|1.17|  Male|   Yes| Sat|Dinner|   2|       101|\n",
       "     35.83|4.67|Female|    No| Sat|Dinner|   3|       102|\n",
       "     29.03|5.92|  Male|    No| Sat|Dinner|   3|       103|\n",
       "     27.18| 2.0|Female|   Yes| Sat|Dinner|   2|       104|\n",
       "     22.67| 2.0|  Male|   Yes| Sat|Dinner|   2|       105|\n",
       "     17.82|1.75|  Male|    No| Sat|Dinner|   2|       106|\n",
       "     16.99|1.01|Female|    No| Sun|Dinner|   2|       107|\n",
       "     10.34|1.66|  Male|    No| Sun|Dinner|   3|       108|\n",
       "     21.01| 3.5|  Male|    No| Sun|Dinner|   3|       109|\n",
       "     23.68|3.31|  Male|    No| Sun|Dinner|   2|       110|\n",
       "     24.59|3.61|Female|    No| Sun|Dinner|   4|       111|\n",
       "     25.29|4.71|  Male|    No| Sun|Dinner|   4|       112|\n",
       "      8.77| 2.0|  Male|    No| Sun|Dinner|   2|       113|\n",
       "     26.88|3.12|  Male|    No| Sun|Dinner|   4|       114|\n",
       "     15.04|1.96|  Male|    No| Sun|Dinner|   2|       115|\n",
       "     14.78|3.23|  Male|    No| Sun|Dinner|   2|       116|\n",
       "     10.27|1.71|  Male|    No| Sun|Dinner|   2|       117|\n",
       "     35.26| 5.0|Female|    No| Sun|Dinner|   4|       118|\n",
       "     15.42|1.57|  Male|    No| Sun|Dinner|   2|       119|\n",
       "     18.43| 3.0|  Male|    No| Sun|Dinner|   4|       120|\n",
       "     14.83|3.02|Female|    No| Sun|Dinner|   2|       121|\n",
       "     21.58|3.92|  Male|    No| Sun|Dinner|   2|       122|\n",
       "     10.33|1.67|Female|    No| Sun|Dinner|   3|       123|\n",
       "     16.29|3.71|  Male|    No| Sun|Dinner|   3|       124|\n",
       "     16.97| 3.5|Female|    No| Sun|Dinner|   3|       125|\n",
       "     17.46|2.54|  Male|    No| Sun|Dinner|   2|       126|\n",
       "     13.94|3.06|  Male|    No| Sun|Dinner|   2|       127|\n",
       "      9.68|1.32|  Male|    No| Sun|Dinner|   2|       128|\n",
       "      30.4| 5.6|  Male|    No| Sun|Dinner|   4|       129|\n",
       "     18.29| 3.0|  Male|    No| Sun|Dinner|   2|       130|\n",
       "     22.23| 5.0|  Male|    No| Sun|Dinner|   2|       131|\n",
       "      32.4| 6.0|  Male|    No| Sun|Dinner|   4|       132|\n",
       "     28.55|2.05|  Male|    No| Sun|Dinner|   3|       133|\n",
       "     18.04| 3.0|  Male|    No| Sun|Dinner|   2|       134|\n",
       "     12.54| 2.5|  Male|    No| Sun|Dinner|   2|       135|\n",
       "     10.29| 2.6|Female|    No| Sun|Dinner|   2|       136|\n",
       "     34.81| 5.2|Female|    No| Sun|Dinner|   4|       137|\n",
       "      9.94|1.56|  Male|    No| Sun|Dinner|   2|       138|\n",
       "     25.56|4.34|  Male|    No| Sun|Dinner|   4|       139|\n",
       "     19.49|3.51|  Male|    No| Sun|Dinner|   2|       140|\n",
       "     38.07| 4.0|  Male|    No| Sun|Dinner|   3|       141|\n",
       "     23.95|2.55|  Male|    No| Sun|Dinner|   2|       142|\n",
       "     25.71| 4.0|Female|    No| Sun|Dinner|   3|       143|\n",
       "     17.31| 3.5|Female|    No| Sun|Dinner|   2|       144|\n",
       "     29.93|5.07|  Male|    No| Sun|Dinner|   4|       145|\n",
       "     14.07| 2.5|  Male|    No| Sun|Dinner|   2|       146|\n",
       "     13.13| 2.0|  Male|    No| Sun|Dinner|   2|       147|\n",
       "     17.26|2.74|  Male|    No| Sun|Dinner|   3|       148|\n",
       "     24.55| 2.0|  Male|    No| Sun|Dinner|   4|       149|\n",
       "     19.77| 2.0|  Male|    No| Sun|Dinner|   4|       150|\n",
       "     29.85|5.14|Female|    No| Sun|Dinner|   5|       151|\n",
       "     48.17| 5.0|  Male|    No| Sun|Dinner|   6|       152|\n",
       "      25.0|3.75|Female|    No| Sun|Dinner|   4|       153|\n",
       "     13.39|2.61|Female|    No| Sun|Dinner|   2|       154|\n",
       "     16.49| 2.0|  Male|    No| Sun|Dinner|   4|       155|\n",
       "      21.5| 3.5|  Male|    No| Sun|Dinner|   4|       156|\n",
       "     12.66| 2.5|  Male|    No| Sun|Dinner|   2|       157|\n",
       "     16.21| 2.0|Female|    No| Sun|Dinner|   3|       158|\n",
       "     13.81| 2.0|  Male|    No| Sun|Dinner|   2|       159|\n",
       "     17.51| 3.0|Female|   Yes| Sun|Dinner|   2|       160|\n",
       "     24.52|3.48|  Male|    No| Sun|Dinner|   3|       161|\n",
       "     20.76|2.24|  Male|    No| Sun|Dinner|   2|       162|\n",
       "     31.71| 4.5|  Male|    No| Sun|Dinner|   4|       163|\n",
       "      7.25|5.15|  Male|   Yes| Sun|Dinner|   2|       164|\n",
       "     31.85|3.18|  Male|   Yes| Sun|Dinner|   2|       165|\n",
       "     16.82| 4.0|  Male|   Yes| Sun|Dinner|   2|       166|\n",
       "      32.9|3.11|  Male|   Yes| Sun|Dinner|   2|       167|\n",
       "     17.89| 2.0|  Male|   Yes| Sun|Dinner|   2|       168|\n",
       "     14.48| 2.0|  Male|   Yes| Sun|Dinner|   2|       169|\n",
       "       9.6| 4.0|Female|   Yes| Sun|Dinner|   2|       170|\n",
       "     34.63|3.55|  Male|   Yes| Sun|Dinner|   2|       171|\n",
       "     34.65|3.68|  Male|   Yes| Sun|Dinner|   4|       172|\n",
       "     23.33|5.65|  Male|   Yes| Sun|Dinner|   2|       173|\n",
       "     45.35| 3.5|  Male|   Yes| Sun|Dinner|   3|       174|\n",
       "     23.17| 6.5|  Male|   Yes| Sun|Dinner|   4|       175|\n",
       "     40.55| 3.0|  Male|   Yes| Sun|Dinner|   2|       176|\n",
       "     20.69| 5.0|  Male|    No| Sun|Dinner|   5|       177|\n",
       "      20.9| 3.5|Female|   Yes| Sun|Dinner|   3|       178|\n",
       "     30.46| 2.0|  Male|   Yes| Sun|Dinner|   5|       179|\n",
       "     18.15| 3.5|Female|   Yes| Sun|Dinner|   3|       180|\n",
       "      23.1| 4.0|  Male|   Yes| Sun|Dinner|   3|       181|\n",
       "     15.69| 1.5|  Male|   Yes| Sun|Dinner|   2|       182|\n",
       "      27.2| 4.0|  Male|    No|Thur| Lunch|   4|       183|\n",
       "     22.76| 3.0|  Male|    No|Thur| Lunch|   2|       184|\n",
       "     17.29|2.71|  Male|    No|Thur| Lunch|   2|       185|\n",
       "     19.44| 3.0|  Male|   Yes|Thur| Lunch|   2|       186|\n",
       "     16.66| 3.4|  Male|    No|Thur| Lunch|   2|       187|\n",
       "     10.07|1.83|Female|    No|Thur| Lunch|   1|       188|\n",
       "     32.68| 5.0|  Male|   Yes|Thur| Lunch|   2|       189|\n",
       "     15.98|2.03|  Male|    No|Thur| Lunch|   2|       190|\n",
       "     34.83|5.17|Female|    No|Thur| Lunch|   4|       191|\n",
       "     13.03| 2.0|  Male|    No|Thur| Lunch|   2|       192|\n",
       "     18.28| 4.0|  Male|    No|Thur| Lunch|   2|       193|\n",
       "     24.71|5.85|  Male|    No|Thur| Lunch|   2|       194|\n",
       "     21.16| 3.0|  Male|    No|Thur| Lunch|   2|       195|\n",
       "     10.65| 1.5|Female|    No|Thur| Lunch|   2|       196|\n",
       "     12.43| 1.8|Female|    No|Thur| Lunch|   2|       197|\n",
       "     24.08|2.92|Female|    No|Thur| Lunch|   4|       198|\n",
       "     11.69|2.31|  Male|    No|Thur| Lunch|   2|       199|\n",
       "     13.42|1.68|Female|    No|Thur| Lunch|   2|       200|\n",
       "     14.26| 2.5|  Male|    No|Thur| Lunch|   2|       201|\n",
       "     15.95| 2.0|  Male|    No|Thur| Lunch|   2|       202|\n",
       "     12.48|2.52|Female|    No|Thur| Lunch|   2|       203|\n",
       "      29.8| 4.2|Female|    No|Thur| Lunch|   6|       204|\n",
       "      8.52|1.48|  Male|    No|Thur| Lunch|   2|       205|\n",
       "     14.52| 2.0|Female|    No|Thur| Lunch|   2|       206|\n",
       "     11.38| 2.0|Female|    No|Thur| Lunch|   2|       207|\n",
       "     22.82|2.18|  Male|    No|Thur| Lunch|   3|       208|\n",
       "     19.08| 1.5|  Male|    No|Thur| Lunch|   2|       209|\n",
       "     20.27|2.83|Female|    No|Thur| Lunch|   2|       210|\n",
       "     11.17| 1.5|Female|    No|Thur| Lunch|   2|       211|\n",
       "     12.26| 2.0|Female|    No|Thur| Lunch|   2|       212|\n",
       "     18.26|3.25|Female|    No|Thur| Lunch|   2|       213|\n",
       "      8.51|1.25|Female|    No|Thur| Lunch|   2|       214|\n",
       "     10.33| 2.0|Female|    No|Thur| Lunch|   2|       215|\n",
       "     14.15| 2.0|Female|    No|Thur| Lunch|   2|       216|\n",
       "      16.0| 2.0|  Male|   Yes|Thur| Lunch|   2|       217|\n",
       "     13.16|2.75|Female|    No|Thur| Lunch|   2|       218|\n",
       "     17.47| 3.5|Female|    No|Thur| Lunch|   2|       219|\n",
       "      34.3| 6.7|  Male|    No|Thur| Lunch|   6|       220|\n",
       "     41.19| 5.0|  Male|    No|Thur| Lunch|   5|       221|\n",
       "     27.05| 5.0|Female|    No|Thur| Lunch|   6|       222|\n",
       "     16.43| 2.3|Female|    No|Thur| Lunch|   2|       223|\n",
       "      8.35| 1.5|Female|    No|Thur| Lunch|   2|       224|\n",
       "     18.64|1.36|Female|    No|Thur| Lunch|   3|       225|\n",
       "     11.87|1.63|Female|    No|Thur| Lunch|   2|       226|\n",
       "      9.78|1.73|  Male|    No|Thur| Lunch|   2|       227|\n",
       "      7.51| 2.0|  Male|    No|Thur| Lunch|   2|       228|\n",
       "     19.81|4.19|Female|   Yes|Thur| Lunch|   2|       229|\n",
       "     28.44|2.56|  Male|   Yes|Thur| Lunch|   2|       230|\n",
       "     15.48|2.02|  Male|   Yes|Thur| Lunch|   2|       231|\n",
       "     16.58| 4.0|  Male|   Yes|Thur| Lunch|   2|       232|\n",
       "      7.56|1.44|  Male|    No|Thur| Lunch|   2|       233|\n",
       "     10.34| 2.0|  Male|   Yes|Thur| Lunch|   2|       234|\n",
       "     43.11| 5.0|Female|   Yes|Thur| Lunch|   4|       235|\n",
       "      13.0| 2.0|Female|   Yes|Thur| Lunch|   2|       236|\n",
       "     13.51| 2.0|  Male|   Yes|Thur| Lunch|   2|       237|\n",
       "     18.71| 4.0|  Male|   Yes|Thur| Lunch|   3|       238|\n",
       "     12.74|2.01|Female|   Yes|Thur| Lunch|   2|       239|\n",
       "      13.0| 2.0|Female|   Yes|Thur| Lunch|   2|       240|\n",
       "      16.4| 2.5|Female|   Yes|Thur| Lunch|   2|       241|\n",
       "     20.53| 4.0|  Male|   Yes|Thur| Lunch|   4|       242|\n",
       "     16.47|3.23|Female|   Yes|Thur| Lunch|   3|       243|\n",
       "     18.78| 3.0|Female|    No|Thur|Dinner|   2|       244|\n",
       "+----------+----+------+------+----+------+----+----------+\n",
       "\n",
       "</div>"
      ]
     },
     "metadata": {
      "application/vnd.databricks.v1+output": {
       "addedWidgets": {},
       "arguments": {},
       "data": "<div class=\"ansiout\">+----------+----+------+------+----+------+----+----------+\n|total_bill| tip|   sex|smoker| day|  time|size|Row Number|\n+----------+----+------+------+----+------+----+----------+\n|     28.97| 3.0|  Male|   Yes| Fri|Dinner|   2|         1|\n|     22.49| 3.5|  Male|    No| Fri|Dinner|   2|         2|\n|      5.75| 1.0|Female|   Yes| Fri|Dinner|   2|         3|\n|     16.32| 4.3|Female|   Yes| Fri|Dinner|   2|         4|\n|     22.75|3.25|Female|    No| Fri|Dinner|   2|         5|\n|     40.17|4.73|  Male|   Yes| Fri|Dinner|   4|         6|\n|     27.28| 4.0|  Male|   Yes| Fri|Dinner|   2|         7|\n|     12.03| 1.5|  Male|   Yes| Fri|Dinner|   2|         8|\n|     21.01| 3.0|  Male|   Yes| Fri|Dinner|   2|         9|\n|     12.46| 1.5|  Male|    No| Fri|Dinner|   2|        10|\n|     11.35| 2.5|Female|   Yes| Fri|Dinner|   2|        11|\n|     15.38| 3.0|Female|   Yes| Fri|Dinner|   2|        12|\n|     12.16| 2.2|  Male|   Yes| Fri| Lunch|   2|        13|\n|     13.42|3.48|Female|   Yes| Fri| Lunch|   2|        14|\n|      8.58|1.92|  Male|   Yes| Fri| Lunch|   1|        15|\n|     15.98| 3.0|Female|    No| Fri| Lunch|   3|        16|\n|     13.42|1.58|  Male|   Yes| Fri| Lunch|   2|        17|\n|     16.27| 2.5|Female|   Yes| Fri| Lunch|   2|        18|\n|     10.09| 2.0|Female|   Yes| Fri| Lunch|   2|        19|\n|     20.65|3.35|  Male|    No| Sat|Dinner|   3|        20|\n|     17.92|4.08|  Male|    No| Sat|Dinner|   2|        21|\n|     20.29|2.75|Female|    No| Sat|Dinner|   2|        22|\n|     15.77|2.23|Female|    No| Sat|Dinner|   2|        23|\n|     39.42|7.58|  Male|    No| Sat|Dinner|   4|        24|\n|     19.82|3.18|  Male|    No| Sat|Dinner|   2|        25|\n|     17.81|2.34|  Male|    No| Sat|Dinner|   4|        26|\n|     13.37| 2.0|  Male|    No| Sat|Dinner|   2|        27|\n|     12.69| 2.0|  Male|    No| Sat|Dinner|   2|        28|\n|      21.7| 4.3|  Male|    No| Sat|Dinner|   2|        29|\n|     19.65| 3.0|Female|    No| Sat|Dinner|   2|        30|\n|      9.55|1.45|  Male|    No| Sat|Dinner|   2|        31|\n|     18.35| 2.5|  Male|    No| Sat|Dinner|   4|        32|\n|     15.06| 3.0|Female|    No| Sat|Dinner|   2|        33|\n|     20.69|2.45|Female|    No| Sat|Dinner|   4|        34|\n|     17.78|3.27|  Male|    No| Sat|Dinner|   2|        35|\n|     24.06| 3.6|  Male|    No| Sat|Dinner|   3|        36|\n|     16.31| 2.0|  Male|    No| Sat|Dinner|   3|        37|\n|     16.93|3.07|Female|    No| Sat|Dinner|   3|        38|\n|     18.69|2.31|  Male|    No| Sat|Dinner|   3|        39|\n|     31.27| 5.0|  Male|    No| Sat|Dinner|   3|        40|\n|     16.04|2.24|  Male|    No| Sat|Dinner|   3|        41|\n|     38.01| 3.0|  Male|   Yes| Sat|Dinner|   4|        42|\n|     26.41| 1.5|Female|    No| Sat|Dinner|   2|        43|\n|     11.24|1.76|  Male|   Yes| Sat|Dinner|   2|        44|\n|     48.27|6.73|  Male|    No| Sat|Dinner|   4|        45|\n|     20.29|3.21|  Male|   Yes| Sat|Dinner|   2|        46|\n|     13.81| 2.0|  Male|   Yes| Sat|Dinner|   2|        47|\n|     11.02|1.98|  Male|   Yes| Sat|Dinner|   2|        48|\n|     18.29|3.76|  Male|   Yes| Sat|Dinner|   4|        49|\n|     17.59|2.64|  Male|    No| Sat|Dinner|   3|        50|\n|     20.08|3.15|  Male|    No| Sat|Dinner|   3|        51|\n|     16.45|2.47|Female|    No| Sat|Dinner|   2|        52|\n|      3.07| 1.0|Female|   Yes| Sat|Dinner|   1|        53|\n|     20.23|2.01|  Male|    No| Sat|Dinner|   2|        54|\n|     15.01|2.09|  Male|   Yes| Sat|Dinner|   2|        55|\n|     12.02|1.97|  Male|    No| Sat|Dinner|   2|        56|\n|     17.07| 3.0|Female|    No| Sat|Dinner|   3|        57|\n|     26.86|3.14|Female|   Yes| Sat|Dinner|   2|        58|\n|     25.28| 5.0|Female|   Yes| Sat|Dinner|   2|        59|\n|     14.73| 2.2|Female|    No| Sat|Dinner|   2|        60|\n|     10.51|1.25|  Male|    No| Sat|Dinner|   2|        61|\n|     17.92|3.08|  Male|   Yes| Sat|Dinner|   2|        62|\n|      44.3| 2.5|Female|   Yes| Sat|Dinner|   3|        63|\n|     22.42|3.48|Female|   Yes| Sat|Dinner|   2|        64|\n|     20.92|4.08|Female|    No| Sat|Dinner|   2|        65|\n|     15.36|1.64|  Male|   Yes| Sat|Dinner|   2|        66|\n|     20.49|4.06|  Male|   Yes| Sat|Dinner|   2|        67|\n|     25.21|4.29|  Male|   Yes| Sat|Dinner|   2|        68|\n|     18.24|3.76|  Male|    No| Sat|Dinner|   2|        69|\n|     14.31| 4.0|Female|   Yes| Sat|Dinner|   2|        70|\n|      14.0| 3.0|  Male|    No| Sat|Dinner|   2|        71|\n|      7.25| 1.0|Female|    No| Sat|Dinner|   1|        72|\n|     10.59|1.61|Female|   Yes| Sat|Dinner|   2|        73|\n|     10.63| 2.0|Female|   Yes| Sat|Dinner|   2|        74|\n|     50.81|10.0|  Male|   Yes| Sat|Dinner|   3|        75|\n|     15.81|3.16|  Male|   Yes| Sat|Dinner|   2|        76|\n|     26.59|3.41|  Male|   Yes| Sat|Dinner|   3|        77|\n|     38.73| 3.0|  Male|   Yes| Sat|Dinner|   4|        78|\n|     24.27|2.03|  Male|   Yes| Sat|Dinner|   2|        79|\n|     12.76|2.23|Female|   Yes| Sat|Dinner|   2|        80|\n|     30.06| 2.0|  Male|   Yes| Sat|Dinner|   3|        81|\n|     25.89|5.16|  Male|   Yes| Sat|Dinner|   4|        82|\n|     48.33| 9.0|  Male|    No| Sat|Dinner|   4|        83|\n|     13.27| 2.5|Female|   Yes| Sat|Dinner|   2|        84|\n|     28.17| 6.5|Female|   Yes| Sat|Dinner|   3|        85|\n|      12.9| 1.1|Female|   Yes| Sat|Dinner|   2|        86|\n|     28.15| 3.0|  Male|   Yes| Sat|Dinner|   5|        87|\n|     11.59| 1.5|  Male|   Yes| Sat|Dinner|   2|        88|\n|      7.74|1.44|  Male|   Yes| Sat|Dinner|   2|        89|\n|     30.14|3.09|Female|   Yes| Sat|Dinner|   4|        90|\n|     20.45| 3.0|  Male|    No| Sat|Dinner|   4|        91|\n|     13.28|2.72|  Male|    No| Sat|Dinner|   2|        92|\n|     22.12|2.88|Female|   Yes| Sat|Dinner|   2|        93|\n|     24.01| 2.0|  Male|   Yes| Sat|Dinner|   4|        94|\n|     15.69| 3.0|  Male|   Yes| Sat|Dinner|   3|        95|\n|     11.61|3.39|  Male|    No| Sat|Dinner|   2|        96|\n|     10.77|1.47|  Male|    No| Sat|Dinner|   2|        97|\n|     15.53| 3.0|  Male|   Yes| Sat|Dinner|   2|        98|\n|     10.07|1.25|  Male|    No| Sat|Dinner|   2|        99|\n|      12.6| 1.0|  Male|   Yes| Sat|Dinner|   2|       100|\n|     32.83|1.17|  Male|   Yes| Sat|Dinner|   2|       101|\n|     35.83|4.67|Female|    No| Sat|Dinner|   3|       102|\n|     29.03|5.92|  Male|    No| Sat|Dinner|   3|       103|\n|     27.18| 2.0|Female|   Yes| Sat|Dinner|   2|       104|\n|     22.67| 2.0|  Male|   Yes| Sat|Dinner|   2|       105|\n|     17.82|1.75|  Male|    No| Sat|Dinner|   2|       106|\n|     16.99|1.01|Female|    No| Sun|Dinner|   2|       107|\n|     10.34|1.66|  Male|    No| Sun|Dinner|   3|       108|\n|     21.01| 3.5|  Male|    No| Sun|Dinner|   3|       109|\n|     23.68|3.31|  Male|    No| Sun|Dinner|   2|       110|\n|     24.59|3.61|Female|    No| Sun|Dinner|   4|       111|\n|     25.29|4.71|  Male|    No| Sun|Dinner|   4|       112|\n|      8.77| 2.0|  Male|    No| Sun|Dinner|   2|       113|\n|     26.88|3.12|  Male|    No| Sun|Dinner|   4|       114|\n|     15.04|1.96|  Male|    No| Sun|Dinner|   2|       115|\n|     14.78|3.23|  Male|    No| Sun|Dinner|   2|       116|\n|     10.27|1.71|  Male|    No| Sun|Dinner|   2|       117|\n|     35.26| 5.0|Female|    No| Sun|Dinner|   4|       118|\n|     15.42|1.57|  Male|    No| Sun|Dinner|   2|       119|\n|     18.43| 3.0|  Male|    No| Sun|Dinner|   4|       120|\n|     14.83|3.02|Female|    No| Sun|Dinner|   2|       121|\n|     21.58|3.92|  Male|    No| Sun|Dinner|   2|       122|\n|     10.33|1.67|Female|    No| Sun|Dinner|   3|       123|\n|     16.29|3.71|  Male|    No| Sun|Dinner|   3|       124|\n|     16.97| 3.5|Female|    No| Sun|Dinner|   3|       125|\n|     17.46|2.54|  Male|    No| Sun|Dinner|   2|       126|\n|     13.94|3.06|  Male|    No| Sun|Dinner|   2|       127|\n|      9.68|1.32|  Male|    No| Sun|Dinner|   2|       128|\n|      30.4| 5.6|  Male|    No| Sun|Dinner|   4|       129|\n|     18.29| 3.0|  Male|    No| Sun|Dinner|   2|       130|\n|     22.23| 5.0|  Male|    No| Sun|Dinner|   2|       131|\n|      32.4| 6.0|  Male|    No| Sun|Dinner|   4|       132|\n|     28.55|2.05|  Male|    No| Sun|Dinner|   3|       133|\n|     18.04| 3.0|  Male|    No| Sun|Dinner|   2|       134|\n|     12.54| 2.5|  Male|    No| Sun|Dinner|   2|       135|\n|     10.29| 2.6|Female|    No| Sun|Dinner|   2|       136|\n|     34.81| 5.2|Female|    No| Sun|Dinner|   4|       137|\n|      9.94|1.56|  Male|    No| Sun|Dinner|   2|       138|\n|     25.56|4.34|  Male|    No| Sun|Dinner|   4|       139|\n|     19.49|3.51|  Male|    No| Sun|Dinner|   2|       140|\n|     38.07| 4.0|  Male|    No| Sun|Dinner|   3|       141|\n|     23.95|2.55|  Male|    No| Sun|Dinner|   2|       142|\n|     25.71| 4.0|Female|    No| Sun|Dinner|   3|       143|\n|     17.31| 3.5|Female|    No| Sun|Dinner|   2|       144|\n|     29.93|5.07|  Male|    No| Sun|Dinner|   4|       145|\n|     14.07| 2.5|  Male|    No| Sun|Dinner|   2|       146|\n|     13.13| 2.0|  Male|    No| Sun|Dinner|   2|       147|\n|     17.26|2.74|  Male|    No| Sun|Dinner|   3|       148|\n|     24.55| 2.0|  Male|    No| Sun|Dinner|   4|       149|\n|     19.77| 2.0|  Male|    No| Sun|Dinner|   4|       150|\n|     29.85|5.14|Female|    No| Sun|Dinner|   5|       151|\n|     48.17| 5.0|  Male|    No| Sun|Dinner|   6|       152|\n|      25.0|3.75|Female|    No| Sun|Dinner|   4|       153|\n|     13.39|2.61|Female|    No| Sun|Dinner|   2|       154|\n|     16.49| 2.0|  Male|    No| Sun|Dinner|   4|       155|\n|      21.5| 3.5|  Male|    No| Sun|Dinner|   4|       156|\n|     12.66| 2.5|  Male|    No| Sun|Dinner|   2|       157|\n|     16.21| 2.0|Female|    No| Sun|Dinner|   3|       158|\n|     13.81| 2.0|  Male|    No| Sun|Dinner|   2|       159|\n|     17.51| 3.0|Female|   Yes| Sun|Dinner|   2|       160|\n|     24.52|3.48|  Male|    No| Sun|Dinner|   3|       161|\n|     20.76|2.24|  Male|    No| Sun|Dinner|   2|       162|\n|     31.71| 4.5|  Male|    No| Sun|Dinner|   4|       163|\n|      7.25|5.15|  Male|   Yes| Sun|Dinner|   2|       164|\n|     31.85|3.18|  Male|   Yes| Sun|Dinner|   2|       165|\n|     16.82| 4.0|  Male|   Yes| Sun|Dinner|   2|       166|\n|      32.9|3.11|  Male|   Yes| Sun|Dinner|   2|       167|\n|     17.89| 2.0|  Male|   Yes| Sun|Dinner|   2|       168|\n|     14.48| 2.0|  Male|   Yes| Sun|Dinner|   2|       169|\n|       9.6| 4.0|Female|   Yes| Sun|Dinner|   2|       170|\n|     34.63|3.55|  Male|   Yes| Sun|Dinner|   2|       171|\n|     34.65|3.68|  Male|   Yes| Sun|Dinner|   4|       172|\n|     23.33|5.65|  Male|   Yes| Sun|Dinner|   2|       173|\n|     45.35| 3.5|  Male|   Yes| Sun|Dinner|   3|       174|\n|     23.17| 6.5|  Male|   Yes| Sun|Dinner|   4|       175|\n|     40.55| 3.0|  Male|   Yes| Sun|Dinner|   2|       176|\n|     20.69| 5.0|  Male|    No| Sun|Dinner|   5|       177|\n|      20.9| 3.5|Female|   Yes| Sun|Dinner|   3|       178|\n|     30.46| 2.0|  Male|   Yes| Sun|Dinner|   5|       179|\n|     18.15| 3.5|Female|   Yes| Sun|Dinner|   3|       180|\n|      23.1| 4.0|  Male|   Yes| Sun|Dinner|   3|       181|\n|     15.69| 1.5|  Male|   Yes| Sun|Dinner|   2|       182|\n|      27.2| 4.0|  Male|    No|Thur| Lunch|   4|       183|\n|     22.76| 3.0|  Male|    No|Thur| Lunch|   2|       184|\n|     17.29|2.71|  Male|    No|Thur| Lunch|   2|       185|\n|     19.44| 3.0|  Male|   Yes|Thur| Lunch|   2|       186|\n|     16.66| 3.4|  Male|    No|Thur| Lunch|   2|       187|\n|     10.07|1.83|Female|    No|Thur| Lunch|   1|       188|\n|     32.68| 5.0|  Male|   Yes|Thur| Lunch|   2|       189|\n|     15.98|2.03|  Male|    No|Thur| Lunch|   2|       190|\n|     34.83|5.17|Female|    No|Thur| Lunch|   4|       191|\n|     13.03| 2.0|  Male|    No|Thur| Lunch|   2|       192|\n|     18.28| 4.0|  Male|    No|Thur| Lunch|   2|       193|\n|     24.71|5.85|  Male|    No|Thur| Lunch|   2|       194|\n|     21.16| 3.0|  Male|    No|Thur| Lunch|   2|       195|\n|     10.65| 1.5|Female|    No|Thur| Lunch|   2|       196|\n|     12.43| 1.8|Female|    No|Thur| Lunch|   2|       197|\n|     24.08|2.92|Female|    No|Thur| Lunch|   4|       198|\n|     11.69|2.31|  Male|    No|Thur| Lunch|   2|       199|\n|     13.42|1.68|Female|    No|Thur| Lunch|   2|       200|\n|     14.26| 2.5|  Male|    No|Thur| Lunch|   2|       201|\n|     15.95| 2.0|  Male|    No|Thur| Lunch|   2|       202|\n|     12.48|2.52|Female|    No|Thur| Lunch|   2|       203|\n|      29.8| 4.2|Female|    No|Thur| Lunch|   6|       204|\n|      8.52|1.48|  Male|    No|Thur| Lunch|   2|       205|\n|     14.52| 2.0|Female|    No|Thur| Lunch|   2|       206|\n|     11.38| 2.0|Female|    No|Thur| Lunch|   2|       207|\n|     22.82|2.18|  Male|    No|Thur| Lunch|   3|       208|\n|     19.08| 1.5|  Male|    No|Thur| Lunch|   2|       209|\n|     20.27|2.83|Female|    No|Thur| Lunch|   2|       210|\n|     11.17| 1.5|Female|    No|Thur| Lunch|   2|       211|\n|     12.26| 2.0|Female|    No|Thur| Lunch|   2|       212|\n|     18.26|3.25|Female|    No|Thur| Lunch|   2|       213|\n|      8.51|1.25|Female|    No|Thur| Lunch|   2|       214|\n|     10.33| 2.0|Female|    No|Thur| Lunch|   2|       215|\n|     14.15| 2.0|Female|    No|Thur| Lunch|   2|       216|\n|      16.0| 2.0|  Male|   Yes|Thur| Lunch|   2|       217|\n|     13.16|2.75|Female|    No|Thur| Lunch|   2|       218|\n|     17.47| 3.5|Female|    No|Thur| Lunch|   2|       219|\n|      34.3| 6.7|  Male|    No|Thur| Lunch|   6|       220|\n|     41.19| 5.0|  Male|    No|Thur| Lunch|   5|       221|\n|     27.05| 5.0|Female|    No|Thur| Lunch|   6|       222|\n|     16.43| 2.3|Female|    No|Thur| Lunch|   2|       223|\n|      8.35| 1.5|Female|    No|Thur| Lunch|   2|       224|\n|     18.64|1.36|Female|    No|Thur| Lunch|   3|       225|\n|     11.87|1.63|Female|    No|Thur| Lunch|   2|       226|\n|      9.78|1.73|  Male|    No|Thur| Lunch|   2|       227|\n|      7.51| 2.0|  Male|    No|Thur| Lunch|   2|       228|\n|     19.81|4.19|Female|   Yes|Thur| Lunch|   2|       229|\n|     28.44|2.56|  Male|   Yes|Thur| Lunch|   2|       230|\n|     15.48|2.02|  Male|   Yes|Thur| Lunch|   2|       231|\n|     16.58| 4.0|  Male|   Yes|Thur| Lunch|   2|       232|\n|      7.56|1.44|  Male|    No|Thur| Lunch|   2|       233|\n|     10.34| 2.0|  Male|   Yes|Thur| Lunch|   2|       234|\n|     43.11| 5.0|Female|   Yes|Thur| Lunch|   4|       235|\n|      13.0| 2.0|Female|   Yes|Thur| Lunch|   2|       236|\n|     13.51| 2.0|  Male|   Yes|Thur| Lunch|   2|       237|\n|     18.71| 4.0|  Male|   Yes|Thur| Lunch|   3|       238|\n|     12.74|2.01|Female|   Yes|Thur| Lunch|   2|       239|\n|      13.0| 2.0|Female|   Yes|Thur| Lunch|   2|       240|\n|      16.4| 2.5|Female|   Yes|Thur| Lunch|   2|       241|\n|     20.53| 4.0|  Male|   Yes|Thur| Lunch|   4|       242|\n|     16.47|3.23|Female|   Yes|Thur| Lunch|   3|       243|\n|     18.78| 3.0|Female|    No|Thur|Dinner|   2|       244|\n+----------+----+------+------+----+------+----+----------+\n\n</div>",
       "datasetInfos": [],
       "metadata": {},
       "removedWidgets": [],
       "type": "html"
      }
     },
     "output_type": "display_data"
    }
   ],
   "source": [
    "tipss.select(\"*\",row_number().over(Window.orderBy('day')).alias(\"Row Number\")).show(244)"
   ]
  },
  {
   "cell_type": "code",
   "execution_count": 0,
   "metadata": {
    "application/vnd.databricks.v1+cell": {
     "cellMetadata": {},
     "inputWidgets": {},
     "nuid": "626f9e03-846c-44e5-8b8c-eaed9e2c17dd",
     "showTitle": false,
     "title": ""
    }
   },
   "outputs": [
    {
     "output_type": "display_data",
     "data": {
      "text/html": [
       "<style scoped>\n",
       "  .ansiout {\n",
       "    display: block;\n",
       "    unicode-bidi: embed;\n",
       "    white-space: pre-wrap;\n",
       "    word-wrap: break-word;\n",
       "    word-break: break-all;\n",
       "    font-family: \"Menlo\", \"Monaco\", \"Consolas\", \"Ubuntu Mono\", \"Source Code Pro\", monospace;\n",
       "    font-size: 13px;\n",
       "    color: #555;\n",
       "    margin-left: 4px;\n",
       "    line-height: 19px;\n",
       "  }\n",
       "</style>\n",
       "<div class=\"ansiout\"></div>"
      ]
     },
     "metadata": {
      "application/vnd.databricks.v1+output": {
       "addedWidgets": {},
       "arguments": {},
       "data": "<div class=\"ansiout\"></div>",
       "datasetInfos": [],
       "metadata": {},
       "removedWidgets": [],
       "type": "html"
      }
     },
     "output_type": "display_data"
    }
   ],
   "source": [
    "# 106. rpad\n",
    "from pyspark.sql.functions import rpad\n",
    "#Right-pad the string column to width len with pad."
   ]
  },
  {
   "cell_type": "code",
   "execution_count": 0,
   "metadata": {
    "application/vnd.databricks.v1+cell": {
     "cellMetadata": {},
     "inputWidgets": {},
     "nuid": "18e66ec6-a10c-469c-80c3-0b5f19fbb55a",
     "showTitle": false,
     "title": ""
    }
   },
   "outputs": [
    {
     "output_type": "display_data",
     "data": {
      "text/html": [
       "<style scoped>\n",
       "  .ansiout {\n",
       "    display: block;\n",
       "    unicode-bidi: embed;\n",
       "    white-space: pre-wrap;\n",
       "    word-wrap: break-word;\n",
       "    word-break: break-all;\n",
       "    font-family: \"Menlo\", \"Monaco\", \"Consolas\", \"Ubuntu Mono\", \"Source Code Pro\", monospace;\n",
       "    font-size: 13px;\n",
       "    color: #555;\n",
       "    margin-left: 4px;\n",
       "    line-height: 19px;\n",
       "  }\n",
       "</style>\n",
       "<div class=\"ansiout\">+---------------+\n",
       "rpad(sex, 6, *)|\n",
       "+---------------+\n",
       "         Female|\n",
       "         Male**|\n",
       "         Male**|\n",
       "         Male**|\n",
       "         Female|\n",
       "         Male**|\n",
       "         Male**|\n",
       "         Male**|\n",
       "         Male**|\n",
       "         Male**|\n",
       "         Male**|\n",
       "         Female|\n",
       "         Male**|\n",
       "         Male**|\n",
       "         Female|\n",
       "         Male**|\n",
       "         Female|\n",
       "         Male**|\n",
       "         Female|\n",
       "         Male**|\n",
       "+---------------+\n",
       "only showing top 20 rows\n",
       "\n",
       "</div>"
      ]
     },
     "metadata": {
      "application/vnd.databricks.v1+output": {
       "addedWidgets": {},
       "arguments": {},
       "data": "<div class=\"ansiout\">+---------------+\n|rpad(sex, 6, *)|\n+---------------+\n|         Female|\n|         Male**|\n|         Male**|\n|         Male**|\n|         Female|\n|         Male**|\n|         Male**|\n|         Male**|\n|         Male**|\n|         Male**|\n|         Male**|\n|         Female|\n|         Male**|\n|         Male**|\n|         Female|\n|         Male**|\n|         Female|\n|         Male**|\n|         Female|\n|         Male**|\n+---------------+\nonly showing top 20 rows\n\n</div>",
       "datasetInfos": [],
       "metadata": {},
       "removedWidgets": [],
       "type": "html"
      }
     },
     "output_type": "display_data"
    }
   ],
   "source": [
    "tipss.select(rpad(col = tipss['sex'], len = 6, pad = '*')).show()"
   ]
  },
  {
   "cell_type": "code",
   "execution_count": 0,
   "metadata": {
    "application/vnd.databricks.v1+cell": {
     "cellMetadata": {},
     "inputWidgets": {},
     "nuid": "6750dc91-66cc-492e-b0b7-9c0e5ccb1849",
     "showTitle": false,
     "title": ""
    }
   },
   "outputs": [
    {
     "output_type": "display_data",
     "data": {
      "text/html": [
       "<style scoped>\n",
       "  .ansiout {\n",
       "    display: block;\n",
       "    unicode-bidi: embed;\n",
       "    white-space: pre-wrap;\n",
       "    word-wrap: break-word;\n",
       "    word-break: break-all;\n",
       "    font-family: \"Menlo\", \"Monaco\", \"Consolas\", \"Ubuntu Mono\", \"Source Code Pro\", monospace;\n",
       "    font-size: 13px;\n",
       "    color: #555;\n",
       "    margin-left: 4px;\n",
       "    line-height: 19px;\n",
       "  }\n",
       "</style>\n",
       "<div class=\"ansiout\"></div>"
      ]
     },
     "metadata": {
      "application/vnd.databricks.v1+output": {
       "addedWidgets": {},
       "arguments": {},
       "data": "<div class=\"ansiout\"></div>",
       "datasetInfos": [],
       "metadata": {},
       "removedWidgets": [],
       "type": "html"
      }
     },
     "output_type": "display_data"
    }
   ],
   "source": [
    "# 107. rtrim\n",
    "from pyspark.sql.functions import rtrim\n",
    "#Right-pad the string column to width len with pad."
   ]
  },
  {
   "cell_type": "code",
   "execution_count": 0,
   "metadata": {
    "application/vnd.databricks.v1+cell": {
     "cellMetadata": {},
     "inputWidgets": {},
     "nuid": "5896f7e9-1da4-4563-8fde-3d3d0a0d7862",
     "showTitle": false,
     "title": ""
    }
   },
   "outputs": [
    {
     "output_type": "display_data",
     "data": {
      "text/html": [
       "<style scoped>\n",
       "  .ansiout {\n",
       "    display: block;\n",
       "    unicode-bidi: embed;\n",
       "    white-space: pre-wrap;\n",
       "    word-wrap: break-word;\n",
       "    word-break: break-all;\n",
       "    font-family: \"Menlo\", \"Monaco\", \"Consolas\", \"Ubuntu Mono\", \"Source Code Pro\", monospace;\n",
       "    font-size: 13px;\n",
       "    color: #555;\n",
       "    margin-left: 4px;\n",
       "    line-height: 19px;\n",
       "  }\n",
       "</style>\n",
       "<div class=\"ansiout\">+----------+\n",
       "rtrim(sex)|\n",
       "+----------+\n",
       "    Female|\n",
       "      Male|\n",
       "      Male|\n",
       "      Male|\n",
       "    Female|\n",
       "      Male|\n",
       "      Male|\n",
       "      Male|\n",
       "      Male|\n",
       "      Male|\n",
       "      Male|\n",
       "    Female|\n",
       "      Male|\n",
       "      Male|\n",
       "    Female|\n",
       "      Male|\n",
       "    Female|\n",
       "      Male|\n",
       "    Female|\n",
       "      Male|\n",
       "+----------+\n",
       "only showing top 20 rows\n",
       "\n",
       "</div>"
      ]
     },
     "metadata": {
      "application/vnd.databricks.v1+output": {
       "addedWidgets": {},
       "arguments": {},
       "data": "<div class=\"ansiout\">+----------+\n|rtrim(sex)|\n+----------+\n|    Female|\n|      Male|\n|      Male|\n|      Male|\n|    Female|\n|      Male|\n|      Male|\n|      Male|\n|      Male|\n|      Male|\n|      Male|\n|    Female|\n|      Male|\n|      Male|\n|    Female|\n|      Male|\n|    Female|\n|      Male|\n|    Female|\n|      Male|\n+----------+\nonly showing top 20 rows\n\n</div>",
       "datasetInfos": [],
       "metadata": {},
       "removedWidgets": [],
       "type": "html"
      }
     },
     "output_type": "display_data"
    }
   ],
   "source": [
    "tipss.select(rtrim(col = tipss['sex'])).show()"
   ]
  },
  {
   "cell_type": "code",
   "execution_count": 0,
   "metadata": {
    "application/vnd.databricks.v1+cell": {
     "cellMetadata": {},
     "inputWidgets": {},
     "nuid": "35e0751d-3253-4986-a7ec-978c0f85c5cf",
     "showTitle": false,
     "title": ""
    }
   },
   "outputs": [
    {
     "output_type": "display_data",
     "data": {
      "text/html": [
       "<style scoped>\n",
       "  .ansiout {\n",
       "    display: block;\n",
       "    unicode-bidi: embed;\n",
       "    white-space: pre-wrap;\n",
       "    word-wrap: break-word;\n",
       "    word-break: break-all;\n",
       "    font-family: \"Menlo\", \"Monaco\", \"Consolas\", \"Ubuntu Mono\", \"Source Code Pro\", monospace;\n",
       "    font-size: 13px;\n",
       "    color: #555;\n",
       "    margin-left: 4px;\n",
       "    line-height: 19px;\n",
       "  }\n",
       "</style>\n",
       "<div class=\"ansiout\"></div>"
      ]
     },
     "metadata": {
      "application/vnd.databricks.v1+output": {
       "addedWidgets": {},
       "arguments": {},
       "data": "<div class=\"ansiout\"></div>",
       "datasetInfos": [],
       "metadata": {},
       "removedWidgets": [],
       "type": "html"
      }
     },
     "output_type": "display_data"
    }
   ],
   "source": [
    "# 108. schema_of_json\n",
    "from pyspark.sql.functions import schema_of_json\n",
    "#Parses a JSON string and infers its schema in DDL format."
   ]
  },
  {
   "cell_type": "code",
   "execution_count": 0,
   "metadata": {
    "application/vnd.databricks.v1+cell": {
     "cellMetadata": {},
     "inputWidgets": {},
     "nuid": "5494b6c4-07ec-4092-81f8-d60328a0f48d",
     "showTitle": false,
     "title": ""
    }
   },
   "outputs": [
    {
     "output_type": "display_data",
     "data": {
      "text/html": [
       "<style scoped>\n",
       "  .ansiout {\n",
       "    display: block;\n",
       "    unicode-bidi: embed;\n",
       "    white-space: pre-wrap;\n",
       "    word-wrap: break-word;\n",
       "    word-break: break-all;\n",
       "    font-family: \"Menlo\", \"Monaco\", \"Consolas\", \"Ubuntu Mono\", \"Source Code Pro\", monospace;\n",
       "    font-size: 13px;\n",
       "    color: #555;\n",
       "    margin-left: 4px;\n",
       "    line-height: 19px;\n",
       "  }\n",
       "</style>\n",
       "<div class=\"ansiout\">Help on function schema_of_json in module pyspark.sql.functions:\n",
       "\n",
       "schema_of_json(json, options={})\n",
       "    Parses a JSON string and infers its schema in DDL format.\n",
       "    \n",
       "    :param json: a JSON string or a string literal containing a JSON string.\n",
       "    :param options: options to control parsing. accepts the same options as the JSON datasource\n",
       "    \n",
       "    .. versionchanged:: 3.0\n",
       "       It accepts `options` parameter to control schema inferring.\n",
       "    \n",
       "    &gt;&gt;&gt; df = spark.range(1)\n",
       "    &gt;&gt;&gt; df.select(schema_of_json(lit(&#39;{&#34;a&#34;: 0}&#39;)).alias(&#34;json&#34;)).collect()\n",
       "    [Row(json=&#39;struct&lt;a:bigint&gt;&#39;)]\n",
       "    &gt;&gt;&gt; schema = schema_of_json(&#39;{a: 1}&#39;, {&#39;allowUnquotedFieldNames&#39;:&#39;true&#39;})\n",
       "    &gt;&gt;&gt; df.select(schema.alias(&#34;json&#34;)).collect()\n",
       "    [Row(json=&#39;struct&lt;a:bigint&gt;&#39;)]\n",
       "    \n",
       "    .. versionadded:: 2.4\n",
       "\n",
       "</div>"
      ]
     },
     "metadata": {
      "application/vnd.databricks.v1+output": {
       "addedWidgets": {},
       "arguments": {},
       "data": "<div class=\"ansiout\">Help on function schema_of_json in module pyspark.sql.functions:\n\nschema_of_json(json, options={})\n    Parses a JSON string and infers its schema in DDL format.\n    \n    :param json: a JSON string or a string literal containing a JSON string.\n    :param options: options to control parsing. accepts the same options as the JSON datasource\n    \n    .. versionchanged:: 3.0\n       It accepts `options` parameter to control schema inferring.\n    \n    &gt;&gt;&gt; df = spark.range(1)\n    &gt;&gt;&gt; df.select(schema_of_json(lit(&#39;{&#34;a&#34;: 0}&#39;)).alias(&#34;json&#34;)).collect()\n    [Row(json=&#39;struct&lt;a:bigint&gt;&#39;)]\n    &gt;&gt;&gt; schema = schema_of_json(&#39;{a: 1}&#39;, {&#39;allowUnquotedFieldNames&#39;:&#39;true&#39;})\n    &gt;&gt;&gt; df.select(schema.alias(&#34;json&#34;)).collect()\n    [Row(json=&#39;struct&lt;a:bigint&gt;&#39;)]\n    \n    .. versionadded:: 2.4\n\n</div>",
       "datasetInfos": [],
       "metadata": {},
       "removedWidgets": [],
       "type": "html"
      }
     },
     "output_type": "display_data"
    }
   ],
   "source": [
    "help(schema_of_json)"
   ]
  },
  {
   "cell_type": "code",
   "execution_count": 0,
   "metadata": {
    "application/vnd.databricks.v1+cell": {
     "cellMetadata": {},
     "inputWidgets": {},
     "nuid": "25ea08cb-312a-4748-b18d-4a5ea0c90500",
     "showTitle": false,
     "title": ""
    }
   },
   "outputs": [
    {
     "output_type": "display_data",
     "data": {
      "text/html": [
       "<style scoped>\n",
       "  .ansiout {\n",
       "    display: block;\n",
       "    unicode-bidi: embed;\n",
       "    white-space: pre-wrap;\n",
       "    word-wrap: break-word;\n",
       "    word-break: break-all;\n",
       "    font-family: \"Menlo\", \"Monaco\", \"Consolas\", \"Ubuntu Mono\", \"Source Code Pro\", monospace;\n",
       "    font-size: 13px;\n",
       "    color: #555;\n",
       "    margin-left: 4px;\n",
       "    line-height: 19px;\n",
       "  }\n",
       "</style>\n",
       "<div class=\"ansiout\">+---+--------+\n",
       "key|   value|\n",
       "+---+--------+\n",
       "  1|{&#34;a&#34;: 1}|\n",
       "+---+--------+\n",
       "\n",
       "</div>"
      ]
     },
     "metadata": {
      "application/vnd.databricks.v1+output": {
       "addedWidgets": {},
       "arguments": {},
       "data": "<div class=\"ansiout\">+---+--------+\n|key|   value|\n+---+--------+\n|  1|{&#34;a&#34;: 1}|\n+---+--------+\n\n</div>",
       "datasetInfos": [],
       "metadata": {},
       "removedWidgets": [],
       "type": "html"
      }
     },
     "output_type": "display_data"
    }
   ],
   "source": [
    "df14.show()"
   ]
  },
  {
   "cell_type": "code",
   "execution_count": 0,
   "metadata": {
    "application/vnd.databricks.v1+cell": {
     "cellMetadata": {},
     "inputWidgets": {},
     "nuid": "4e87dbb2-88ad-40f1-a04f-3ad3010bd968",
     "showTitle": false,
     "title": ""
    }
   },
   "outputs": [
    {
     "output_type": "display_data",
     "data": {
      "text/html": [
       "<style scoped>\n",
       "  .ansiout {\n",
       "    display: block;\n",
       "    unicode-bidi: embed;\n",
       "    white-space: pre-wrap;\n",
       "    word-wrap: break-word;\n",
       "    word-break: break-all;\n",
       "    font-family: \"Menlo\", \"Monaco\", \"Consolas\", \"Ubuntu Mono\", \"Source Code Pro\", monospace;\n",
       "    font-size: 13px;\n",
       "    color: #555;\n",
       "    margin-left: 4px;\n",
       "    line-height: 19px;\n",
       "  }\n",
       "</style>\n",
       "<div class=\"ansiout\">+--------------------------------+\n",
       "schema_of_json({&#34;a&#34;: 1, &#34;b&#34;: 4})|\n",
       "+--------------------------------+\n",
       "struct&lt;a:bigint,b:bigint&gt;       |\n",
       "+--------------------------------+\n",
       "\n",
       "</div>"
      ]
     },
     "metadata": {
      "application/vnd.databricks.v1+output": {
       "addedWidgets": {},
       "arguments": {},
       "data": "<div class=\"ansiout\">+--------------------------------+\n|schema_of_json({&#34;a&#34;: 1, &#34;b&#34;: 4})|\n+--------------------------------+\n|struct&lt;a:bigint,b:bigint&gt;       |\n+--------------------------------+\n\n</div>",
       "datasetInfos": [],
       "metadata": {},
       "removedWidgets": [],
       "type": "html"
      }
     },
     "output_type": "display_data"
    }
   ],
   "source": [
    "df14.select(schema_of_json(json = '{\"a\": 1, \"b\": 4}')).show(truncate = False)"
   ]
  },
  {
   "cell_type": "code",
   "execution_count": 0,
   "metadata": {
    "application/vnd.databricks.v1+cell": {
     "cellMetadata": {},
     "inputWidgets": {},
     "nuid": "28ca370b-6727-41d1-9aa4-50e00b2e6720",
     "showTitle": false,
     "title": ""
    }
   },
   "outputs": [
    {
     "output_type": "display_data",
     "data": {
      "text/html": [
       "<style scoped>\n",
       "  .ansiout {\n",
       "    display: block;\n",
       "    unicode-bidi: embed;\n",
       "    white-space: pre-wrap;\n",
       "    word-wrap: break-word;\n",
       "    word-break: break-all;\n",
       "    font-family: \"Menlo\", \"Monaco\", \"Consolas\", \"Ubuntu Mono\", \"Source Code Pro\", monospace;\n",
       "    font-size: 13px;\n",
       "    color: #555;\n",
       "    margin-left: 4px;\n",
       "    line-height: 19px;\n",
       "  }\n",
       "</style>\n",
       "<div class=\"ansiout\"></div>"
      ]
     },
     "metadata": {
      "application/vnd.databricks.v1+output": {
       "addedWidgets": {},
       "arguments": {},
       "data": "<div class=\"ansiout\"></div>",
       "datasetInfos": [],
       "metadata": {},
       "removedWidgets": [],
       "type": "html"
      }
     },
     "output_type": "display_data"
    }
   ],
   "source": [
    "# 109. second\n",
    "from pyspark.sql.functions import second\n",
    "#Extract the seconds of a given date as integer."
   ]
  },
  {
   "cell_type": "code",
   "execution_count": 0,
   "metadata": {
    "application/vnd.databricks.v1+cell": {
     "cellMetadata": {},
     "inputWidgets": {},
     "nuid": "b2507859-26a4-4bba-a31f-2b556a877d9c",
     "showTitle": false,
     "title": ""
    }
   },
   "outputs": [
    {
     "output_type": "display_data",
     "data": {
      "text/html": [
       "<style scoped>\n",
       "  .ansiout {\n",
       "    display: block;\n",
       "    unicode-bidi: embed;\n",
       "    white-space: pre-wrap;\n",
       "    word-wrap: break-word;\n",
       "    word-break: break-all;\n",
       "    font-family: \"Menlo\", \"Monaco\", \"Consolas\", \"Ubuntu Mono\", \"Source Code Pro\", monospace;\n",
       "    font-size: 13px;\n",
       "    color: #555;\n",
       "    margin-left: 4px;\n",
       "    line-height: 19px;\n",
       "  }\n",
       "</style>\n",
       "<div class=\"ansiout\">+-------------------+\n",
       "                  t|\n",
       "+-------------------+\n",
       "1997-02-28 05:02:11|\n",
       "+-------------------+\n",
       "\n",
       "</div>"
      ]
     },
     "metadata": {
      "application/vnd.databricks.v1+output": {
       "addedWidgets": {},
       "arguments": {},
       "data": "<div class=\"ansiout\">+-------------------+\n|                  t|\n+-------------------+\n|1997-02-28 05:02:11|\n+-------------------+\n\n</div>",
       "datasetInfos": [],
       "metadata": {},
       "removedWidgets": [],
       "type": "html"
      }
     },
     "output_type": "display_data"
    }
   ],
   "source": [
    "df7.show()"
   ]
  },
  {
   "cell_type": "code",
   "execution_count": 0,
   "metadata": {
    "application/vnd.databricks.v1+cell": {
     "cellMetadata": {},
     "inputWidgets": {},
     "nuid": "75321702-87b7-4908-94d0-75797a9ad55e",
     "showTitle": false,
     "title": ""
    }
   },
   "outputs": [
    {
     "output_type": "display_data",
     "data": {
      "text/html": [
       "<style scoped>\n",
       "  .ansiout {\n",
       "    display: block;\n",
       "    unicode-bidi: embed;\n",
       "    white-space: pre-wrap;\n",
       "    word-wrap: break-word;\n",
       "    word-break: break-all;\n",
       "    font-family: \"Menlo\", \"Monaco\", \"Consolas\", \"Ubuntu Mono\", \"Source Code Pro\", monospace;\n",
       "    font-size: 13px;\n",
       "    color: #555;\n",
       "    margin-left: 4px;\n",
       "    line-height: 19px;\n",
       "  }\n",
       "</style>\n",
       "<div class=\"ansiout\">+---------+\n",
       "second(t)|\n",
       "+---------+\n",
       "       11|\n",
       "+---------+\n",
       "\n",
       "</div>"
      ]
     },
     "metadata": {
      "application/vnd.databricks.v1+output": {
       "addedWidgets": {},
       "arguments": {},
       "data": "<div class=\"ansiout\">+---------+\n|second(t)|\n+---------+\n|       11|\n+---------+\n\n</div>",
       "datasetInfos": [],
       "metadata": {},
       "removedWidgets": [],
       "type": "html"
      }
     },
     "output_type": "display_data"
    }
   ],
   "source": [
    "df7.select(second(col = df7['t'])).show()"
   ]
  },
  {
   "cell_type": "code",
   "execution_count": 0,
   "metadata": {
    "application/vnd.databricks.v1+cell": {
     "cellMetadata": {},
     "inputWidgets": {},
     "nuid": "44e6a795-022e-4590-9861-faf79366bc79",
     "showTitle": false,
     "title": ""
    }
   },
   "outputs": [
    {
     "output_type": "display_data",
     "data": {
      "text/html": [
       "<style scoped>\n",
       "  .ansiout {\n",
       "    display: block;\n",
       "    unicode-bidi: embed;\n",
       "    white-space: pre-wrap;\n",
       "    word-wrap: break-word;\n",
       "    word-break: break-all;\n",
       "    font-family: \"Menlo\", \"Monaco\", \"Consolas\", \"Ubuntu Mono\", \"Source Code Pro\", monospace;\n",
       "    font-size: 13px;\n",
       "    color: #555;\n",
       "    margin-left: 4px;\n",
       "    line-height: 19px;\n",
       "  }\n",
       "</style>\n",
       "<div class=\"ansiout\"></div>"
      ]
     },
     "metadata": {
      "application/vnd.databricks.v1+output": {
       "addedWidgets": {},
       "arguments": {},
       "data": "<div class=\"ansiout\"></div>",
       "datasetInfos": [],
       "metadata": {},
       "removedWidgets": [],
       "type": "html"
      }
     },
     "output_type": "display_data"
    }
   ],
   "source": [
    "#110 shiftLeft\n",
    "from pyspark.sql.functions import shiftLeft\n",
    "#Shift the given value numBits left."
   ]
  },
  {
   "cell_type": "code",
   "execution_count": 0,
   "metadata": {
    "application/vnd.databricks.v1+cell": {
     "cellMetadata": {},
     "inputWidgets": {},
     "nuid": "f48a303f-7daf-4467-9927-dd08a8a628cd",
     "showTitle": false,
     "title": ""
    }
   },
   "outputs": [
    {
     "output_type": "display_data",
     "data": {
      "text/html": [
       "<style scoped>\n",
       "  .ansiout {\n",
       "    display: block;\n",
       "    unicode-bidi: embed;\n",
       "    white-space: pre-wrap;\n",
       "    word-wrap: break-word;\n",
       "    word-break: break-all;\n",
       "    font-family: \"Menlo\", \"Monaco\", \"Consolas\", \"Ubuntu Mono\", \"Source Code Pro\", monospace;\n",
       "    font-size: 13px;\n",
       "    color: #555;\n",
       "    margin-left: 4px;\n",
       "    line-height: 19px;\n",
       "  }\n",
       "</style>\n",
       "<div class=\"ansiout\">+----------+----------+\n",
       "total_bill|Left Shift|\n",
       "+----------+----------+\n",
       "     16.99|        64|\n",
       "     10.34|        40|\n",
       "     21.01|        84|\n",
       "     23.68|        92|\n",
       "     24.59|        96|\n",
       "     25.29|       100|\n",
       "      8.77|        32|\n",
       "     26.88|       104|\n",
       "     15.04|        60|\n",
       "     14.78|        56|\n",
       "     10.27|        40|\n",
       "     35.26|       140|\n",
       "     15.42|        60|\n",
       "     18.43|        72|\n",
       "     14.83|        56|\n",
       "     21.58|        84|\n",
       "     10.33|        40|\n",
       "     16.29|        64|\n",
       "     16.97|        64|\n",
       "     20.65|        80|\n",
       "+----------+----------+\n",
       "only showing top 20 rows\n",
       "\n",
       "</div>"
      ]
     },
     "metadata": {
      "application/vnd.databricks.v1+output": {
       "addedWidgets": {},
       "arguments": {},
       "data": "<div class=\"ansiout\">+----------+----------+\n|total_bill|Left Shift|\n+----------+----------+\n|     16.99|        64|\n|     10.34|        40|\n|     21.01|        84|\n|     23.68|        92|\n|     24.59|        96|\n|     25.29|       100|\n|      8.77|        32|\n|     26.88|       104|\n|     15.04|        60|\n|     14.78|        56|\n|     10.27|        40|\n|     35.26|       140|\n|     15.42|        60|\n|     18.43|        72|\n|     14.83|        56|\n|     21.58|        84|\n|     10.33|        40|\n|     16.29|        64|\n|     16.97|        64|\n|     20.65|        80|\n+----------+----------+\nonly showing top 20 rows\n\n</div>",
       "datasetInfos": [],
       "metadata": {},
       "removedWidgets": [],
       "type": "html"
      }
     },
     "output_type": "display_data"
    }
   ],
   "source": [
    "tipss.select(tipss['total_bill'],shiftLeft(col = tipss['total_bill'], numBits = 2).alias(\"Left Shift\")).show() "
   ]
  },
  {
   "cell_type": "code",
   "execution_count": 0,
   "metadata": {
    "application/vnd.databricks.v1+cell": {
     "cellMetadata": {},
     "inputWidgets": {},
     "nuid": "080733f7-d441-4ac7-85a7-8b7bbbab7fe1",
     "showTitle": false,
     "title": ""
    }
   },
   "outputs": [
    {
     "output_type": "display_data",
     "data": {
      "text/html": [
       "<style scoped>\n",
       "  .ansiout {\n",
       "    display: block;\n",
       "    unicode-bidi: embed;\n",
       "    white-space: pre-wrap;\n",
       "    word-wrap: break-word;\n",
       "    word-break: break-all;\n",
       "    font-family: \"Menlo\", \"Monaco\", \"Consolas\", \"Ubuntu Mono\", \"Source Code Pro\", monospace;\n",
       "    font-size: 13px;\n",
       "    color: #555;\n",
       "    margin-left: 4px;\n",
       "    line-height: 19px;\n",
       "  }\n",
       "</style>\n",
       "<div class=\"ansiout\"></div>"
      ]
     },
     "metadata": {
      "application/vnd.databricks.v1+output": {
       "addedWidgets": {},
       "arguments": {},
       "data": "<div class=\"ansiout\"></div>",
       "datasetInfos": [],
       "metadata": {},
       "removedWidgets": [],
       "type": "html"
      }
     },
     "output_type": "display_data"
    }
   ],
   "source": [
    "# 111 shiftRight\n",
    "from pyspark.sql.functions import shiftRight\n",
    "#Shift the given value numBits Right."
   ]
  },
  {
   "cell_type": "code",
   "execution_count": 0,
   "metadata": {
    "application/vnd.databricks.v1+cell": {
     "cellMetadata": {},
     "inputWidgets": {},
     "nuid": "1fe136c9-e377-4b42-963c-25ecd2e21ddc",
     "showTitle": false,
     "title": ""
    }
   },
   "outputs": [
    {
     "output_type": "display_data",
     "data": {
      "text/html": [
       "<style scoped>\n",
       "  .ansiout {\n",
       "    display: block;\n",
       "    unicode-bidi: embed;\n",
       "    white-space: pre-wrap;\n",
       "    word-wrap: break-word;\n",
       "    word-break: break-all;\n",
       "    font-family: \"Menlo\", \"Monaco\", \"Consolas\", \"Ubuntu Mono\", \"Source Code Pro\", monospace;\n",
       "    font-size: 13px;\n",
       "    color: #555;\n",
       "    margin-left: 4px;\n",
       "    line-height: 19px;\n",
       "  }\n",
       "</style>\n",
       "<div class=\"ansiout\">+----------+-----------+\n",
       "total_bill|Right_Shift|\n",
       "+----------+-----------+\n",
       "     16.99|          4|\n",
       "     10.34|          2|\n",
       "     21.01|          5|\n",
       "     23.68|          5|\n",
       "     24.59|          6|\n",
       "     25.29|          6|\n",
       "      8.77|          2|\n",
       "     26.88|          6|\n",
       "     15.04|          3|\n",
       "     14.78|          3|\n",
       "     10.27|          2|\n",
       "     35.26|          8|\n",
       "     15.42|          3|\n",
       "     18.43|          4|\n",
       "     14.83|          3|\n",
       "     21.58|          5|\n",
       "     10.33|          2|\n",
       "     16.29|          4|\n",
       "     16.97|          4|\n",
       "     20.65|          5|\n",
       "+----------+-----------+\n",
       "only showing top 20 rows\n",
       "\n",
       "</div>"
      ]
     },
     "metadata": {
      "application/vnd.databricks.v1+output": {
       "addedWidgets": {},
       "arguments": {},
       "data": "<div class=\"ansiout\">+----------+-----------+\n|total_bill|Right_Shift|\n+----------+-----------+\n|     16.99|          4|\n|     10.34|          2|\n|     21.01|          5|\n|     23.68|          5|\n|     24.59|          6|\n|     25.29|          6|\n|      8.77|          2|\n|     26.88|          6|\n|     15.04|          3|\n|     14.78|          3|\n|     10.27|          2|\n|     35.26|          8|\n|     15.42|          3|\n|     18.43|          4|\n|     14.83|          3|\n|     21.58|          5|\n|     10.33|          2|\n|     16.29|          4|\n|     16.97|          4|\n|     20.65|          5|\n+----------+-----------+\nonly showing top 20 rows\n\n</div>",
       "datasetInfos": [],
       "metadata": {},
       "removedWidgets": [],
       "type": "html"
      }
     },
     "output_type": "display_data"
    }
   ],
   "source": [
    "tipss.select(tipss['total_bill'], shiftRight(col = tipss['total_bill'], numBits = 2).alias(\"Right_Shift\")).show()"
   ]
  },
  {
   "cell_type": "code",
   "execution_count": 0,
   "metadata": {
    "application/vnd.databricks.v1+cell": {
     "cellMetadata": {},
     "inputWidgets": {},
     "nuid": "9aed6c9d-346c-449d-a891-385aae8ef540",
     "showTitle": false,
     "title": ""
    }
   },
   "outputs": [
    {
     "output_type": "display_data",
     "data": {
      "text/html": [
       "<style scoped>\n",
       "  .ansiout {\n",
       "    display: block;\n",
       "    unicode-bidi: embed;\n",
       "    white-space: pre-wrap;\n",
       "    word-wrap: break-word;\n",
       "    word-break: break-all;\n",
       "    font-family: \"Menlo\", \"Monaco\", \"Consolas\", \"Ubuntu Mono\", \"Source Code Pro\", monospace;\n",
       "    font-size: 13px;\n",
       "    color: #555;\n",
       "    margin-left: 4px;\n",
       "    line-height: 19px;\n",
       "  }\n",
       "</style>\n",
       "<div class=\"ansiout\"></div>"
      ]
     },
     "metadata": {
      "application/vnd.databricks.v1+output": {
       "addedWidgets": {},
       "arguments": {},
       "data": "<div class=\"ansiout\"></div>",
       "datasetInfos": [],
       "metadata": {},
       "removedWidgets": [],
       "type": "html"
      }
     },
     "output_type": "display_data"
    }
   ],
   "source": [
    "# 112. shuffle\n",
    "from pyspark.sql.functions import shuffle\n",
    "#Collection function: Generates a random permutation of the given array. Only work with Dataframes containing Arrays."
   ]
  },
  {
   "cell_type": "code",
   "execution_count": 0,
   "metadata": {
    "application/vnd.databricks.v1+cell": {
     "cellMetadata": {},
     "inputWidgets": {},
     "nuid": "06771538-6a81-43d5-b733-9a3c552bea79",
     "showTitle": false,
     "title": ""
    }
   },
   "outputs": [
    {
     "output_type": "display_data",
     "data": {
      "text/html": [
       "<style scoped>\n",
       "  .ansiout {\n",
       "    display: block;\n",
       "    unicode-bidi: embed;\n",
       "    white-space: pre-wrap;\n",
       "    word-wrap: break-word;\n",
       "    word-break: break-all;\n",
       "    font-family: \"Menlo\", \"Monaco\", \"Consolas\", \"Ubuntu Mono\", \"Source Code Pro\", monospace;\n",
       "    font-size: 13px;\n",
       "    color: #555;\n",
       "    margin-left: 4px;\n",
       "    line-height: 19px;\n",
       "  }\n",
       "</style>\n",
       "<div class=\"ansiout\">+---------+\n",
       "     data|\n",
       "+---------+\n",
       "[a, b, c]|\n",
       "       []|\n",
       "+---------+\n",
       "\n",
       "</div>"
      ]
     },
     "metadata": {
      "application/vnd.databricks.v1+output": {
       "addedWidgets": {},
       "arguments": {},
       "data": "<div class=\"ansiout\">+---------+\n|     data|\n+---------+\n|[a, b, c]|\n|       []|\n+---------+\n\n</div>",
       "datasetInfos": [],
       "metadata": {},
       "removedWidgets": [],
       "type": "html"
      }
     },
     "output_type": "display_data"
    }
   ],
   "source": [
    "df1.show()"
   ]
  },
  {
   "cell_type": "code",
   "execution_count": 0,
   "metadata": {
    "application/vnd.databricks.v1+cell": {
     "cellMetadata": {},
     "inputWidgets": {},
     "nuid": "c85860ef-6369-4e5c-9166-17d570c5904d",
     "showTitle": false,
     "title": ""
    }
   },
   "outputs": [
    {
     "output_type": "display_data",
     "data": {
      "text/html": [
       "<style scoped>\n",
       "  .ansiout {\n",
       "    display: block;\n",
       "    unicode-bidi: embed;\n",
       "    white-space: pre-wrap;\n",
       "    word-wrap: break-word;\n",
       "    word-break: break-all;\n",
       "    font-family: \"Menlo\", \"Monaco\", \"Consolas\", \"Ubuntu Mono\", \"Source Code Pro\", monospace;\n",
       "    font-size: 13px;\n",
       "    color: #555;\n",
       "    margin-left: 4px;\n",
       "    line-height: 19px;\n",
       "  }\n",
       "</style>\n",
       "<div class=\"ansiout\">+-------------+\n",
       "shuffle(data)|\n",
       "+-------------+\n",
       "    [b, c, a]|\n",
       "           []|\n",
       "+-------------+\n",
       "\n",
       "</div>"
      ]
     },
     "metadata": {
      "application/vnd.databricks.v1+output": {
       "addedWidgets": {},
       "arguments": {},
       "data": "<div class=\"ansiout\">+-------------+\n|shuffle(data)|\n+-------------+\n|    [b, c, a]|\n|           []|\n+-------------+\n\n</div>",
       "datasetInfos": [],
       "metadata": {},
       "removedWidgets": [],
       "type": "html"
      }
     },
     "output_type": "display_data"
    }
   ],
   "source": [
    "df1.select(shuffle(col = df1['data'])).show()"
   ]
  },
  {
   "cell_type": "code",
   "execution_count": 0,
   "metadata": {
    "application/vnd.databricks.v1+cell": {
     "cellMetadata": {},
     "inputWidgets": {},
     "nuid": "1ce21393-47ad-4a24-bc19-8f3ec83618e3",
     "showTitle": false,
     "title": ""
    }
   },
   "outputs": [
    {
     "output_type": "display_data",
     "data": {
      "text/html": [
       "<style scoped>\n",
       "  .ansiout {\n",
       "    display: block;\n",
       "    unicode-bidi: embed;\n",
       "    white-space: pre-wrap;\n",
       "    word-wrap: break-word;\n",
       "    word-break: break-all;\n",
       "    font-family: \"Menlo\", \"Monaco\", \"Consolas\", \"Ubuntu Mono\", \"Source Code Pro\", monospace;\n",
       "    font-size: 13px;\n",
       "    color: #555;\n",
       "    margin-left: 4px;\n",
       "    line-height: 19px;\n",
       "  }\n",
       "</style>\n",
       "<div class=\"ansiout\"></div>"
      ]
     },
     "metadata": {
      "application/vnd.databricks.v1+output": {
       "addedWidgets": {},
       "arguments": {},
       "data": "<div class=\"ansiout\"></div>",
       "datasetInfos": [],
       "metadata": {},
       "removedWidgets": [],
       "type": "html"
      }
     },
     "output_type": "display_data"
    }
   ],
   "source": [
    "# 113. signum\n",
    "from pyspark.sql.functions import signum\n",
    "#Computes the signum of the given value. 1 if value greater than 0. 0 if value is 0 and -1 if the value is less than 0."
   ]
  },
  {
   "cell_type": "code",
   "execution_count": 0,
   "metadata": {
    "application/vnd.databricks.v1+cell": {
     "cellMetadata": {},
     "inputWidgets": {},
     "nuid": "d660aa42-00c8-4c3f-87d8-8eac451bc98b",
     "showTitle": false,
     "title": ""
    }
   },
   "outputs": [
    {
     "output_type": "display_data",
     "data": {
      "text/html": [
       "<style scoped>\n",
       "  .ansiout {\n",
       "    display: block;\n",
       "    unicode-bidi: embed;\n",
       "    white-space: pre-wrap;\n",
       "    word-wrap: break-word;\n",
       "    word-break: break-all;\n",
       "    font-family: \"Menlo\", \"Monaco\", \"Consolas\", \"Ubuntu Mono\", \"Source Code Pro\", monospace;\n",
       "    font-size: 13px;\n",
       "    color: #555;\n",
       "    margin-left: 4px;\n",
       "    line-height: 19px;\n",
       "  }\n",
       "</style>\n",
       "<div class=\"ansiout\">+--------------------------------+\n",
       "SIGNUM(((total_bill / 8) - tip))|\n",
       "+--------------------------------+\n",
       "                             1.0|\n",
       "                            -1.0|\n",
       "                            -1.0|\n",
       "                            -1.0|\n",
       "                            -1.0|\n",
       "                            -1.0|\n",
       "                            -1.0|\n",
       "                             1.0|\n",
       "                            -1.0|\n",
       "                            -1.0|\n",
       "                            -1.0|\n",
       "                            -1.0|\n",
       "                             1.0|\n",
       "                            -1.0|\n",
       "                            -1.0|\n",
       "                            -1.0|\n",
       "                            -1.0|\n",
       "                            -1.0|\n",
       "                            -1.0|\n",
       "                            -1.0|\n",
       "+--------------------------------+\n",
       "only showing top 20 rows\n",
       "\n",
       "</div>"
      ]
     },
     "metadata": {
      "application/vnd.databricks.v1+output": {
       "addedWidgets": {},
       "arguments": {},
       "data": "<div class=\"ansiout\">+--------------------------------+\n|SIGNUM(((total_bill / 8) - tip))|\n+--------------------------------+\n|                             1.0|\n|                            -1.0|\n|                            -1.0|\n|                            -1.0|\n|                            -1.0|\n|                            -1.0|\n|                            -1.0|\n|                             1.0|\n|                            -1.0|\n|                            -1.0|\n|                            -1.0|\n|                            -1.0|\n|                             1.0|\n|                            -1.0|\n|                            -1.0|\n|                            -1.0|\n|                            -1.0|\n|                            -1.0|\n|                            -1.0|\n|                            -1.0|\n+--------------------------------+\nonly showing top 20 rows\n\n</div>",
       "datasetInfos": [],
       "metadata": {},
       "removedWidgets": [],
       "type": "html"
      }
     },
     "output_type": "display_data"
    }
   ],
   "source": [
    "tipss.select(signum(col = tipss['total_bill']/8 - tipss['tip'])).show()"
   ]
  },
  {
   "cell_type": "code",
   "execution_count": 0,
   "metadata": {
    "application/vnd.databricks.v1+cell": {
     "cellMetadata": {},
     "inputWidgets": {},
     "nuid": "064c7bcb-3954-4b85-b7c2-32a7663603fe",
     "showTitle": false,
     "title": ""
    }
   },
   "outputs": [
    {
     "output_type": "display_data",
     "data": {
      "text/html": [
       "<style scoped>\n",
       "  .ansiout {\n",
       "    display: block;\n",
       "    unicode-bidi: embed;\n",
       "    white-space: pre-wrap;\n",
       "    word-wrap: break-word;\n",
       "    word-break: break-all;\n",
       "    font-family: \"Menlo\", \"Monaco\", \"Consolas\", \"Ubuntu Mono\", \"Source Code Pro\", monospace;\n",
       "    font-size: 13px;\n",
       "    color: #555;\n",
       "    margin-left: 4px;\n",
       "    line-height: 19px;\n",
       "  }\n",
       "</style>\n",
       "<div class=\"ansiout\"></div>"
      ]
     },
     "metadata": {
      "application/vnd.databricks.v1+output": {
       "addedWidgets": {},
       "arguments": {},
       "data": "<div class=\"ansiout\"></div>",
       "datasetInfos": [],
       "metadata": {},
       "removedWidgets": [],
       "type": "html"
      }
     },
     "output_type": "display_data"
    }
   ],
   "source": [
    "# 114. sin\n",
    "from pyspark.sql.functions import sin\n",
    "#sine of the angle, as if computed by java.lang.Math.sin(). col is in radians."
   ]
  },
  {
   "cell_type": "code",
   "execution_count": 0,
   "metadata": {
    "application/vnd.databricks.v1+cell": {
     "cellMetadata": {},
     "inputWidgets": {},
     "nuid": "4953da9c-0465-4a0a-8f19-1e1e331d35c8",
     "showTitle": false,
     "title": ""
    }
   },
   "outputs": [
    {
     "output_type": "display_data",
     "data": {
      "text/html": [
       "<style scoped>\n",
       "  .ansiout {\n",
       "    display: block;\n",
       "    unicode-bidi: embed;\n",
       "    white-space: pre-wrap;\n",
       "    word-wrap: break-word;\n",
       "    word-break: break-all;\n",
       "    font-family: \"Menlo\", \"Monaco\", \"Consolas\", \"Ubuntu Mono\", \"Source Code Pro\", monospace;\n",
       "    font-size: 13px;\n",
       "    color: #555;\n",
       "    margin-left: 4px;\n",
       "    line-height: 19px;\n",
       "  }\n",
       "</style>\n",
       "<div class=\"ansiout\">+----------+--------------------+\n",
       "total_bill|     SIN(total_bill)|\n",
       "+----------+--------------------+\n",
       "     16.99| -0.9585978348853544|\n",
       "     10.34|   -0.79269796476672|\n",
       "     21.01|  0.8311366047882446|\n",
       "     23.68| -0.9930395864893278|\n",
       "     24.59|  -0.516485232684057|\n",
       "     25.29| 0.15661139563795107|\n",
       "      8.77|  0.6089831405628535|\n",
       "     26.88|  0.9844708624710327|\n",
       "     15.04|  0.6193882654204708|\n",
       "     14.78|  0.8004006514223121|\n",
       "     10.27| -0.7481184681190717|\n",
       "     35.26| -0.6461131314375246|\n",
       "     15.42|  0.2839999473358494|\n",
       "     18.43|-0.40735492973497006|\n",
       "     14.83|  0.7694395750206324|\n",
       "     21.58| 0.39966244699214964|\n",
       "     10.33| -0.7865622859965424|\n",
       "     16.29|  -0.549726449225303|\n",
       "     16.97| -0.9527112334921566|\n",
       "     20.65|  0.9737466393007693|\n",
       "+----------+--------------------+\n",
       "only showing top 20 rows\n",
       "\n",
       "</div>"
      ]
     },
     "metadata": {
      "application/vnd.databricks.v1+output": {
       "addedWidgets": {},
       "arguments": {},
       "data": "<div class=\"ansiout\">+----------+--------------------+\n|total_bill|     SIN(total_bill)|\n+----------+--------------------+\n|     16.99| -0.9585978348853544|\n|     10.34|   -0.79269796476672|\n|     21.01|  0.8311366047882446|\n|     23.68| -0.9930395864893278|\n|     24.59|  -0.516485232684057|\n|     25.29| 0.15661139563795107|\n|      8.77|  0.6089831405628535|\n|     26.88|  0.9844708624710327|\n|     15.04|  0.6193882654204708|\n|     14.78|  0.8004006514223121|\n|     10.27| -0.7481184681190717|\n|     35.26| -0.6461131314375246|\n|     15.42|  0.2839999473358494|\n|     18.43|-0.40735492973497006|\n|     14.83|  0.7694395750206324|\n|     21.58| 0.39966244699214964|\n|     10.33| -0.7865622859965424|\n|     16.29|  -0.549726449225303|\n|     16.97| -0.9527112334921566|\n|     20.65|  0.9737466393007693|\n+----------+--------------------+\nonly showing top 20 rows\n\n</div>",
       "datasetInfos": [],
       "metadata": {},
       "removedWidgets": [],
       "type": "html"
      }
     },
     "output_type": "display_data"
    }
   ],
   "source": [
    "tipss.select(tipss['total_bill'],sin(col = tipss['total_bill'])).show()"
   ]
  },
  {
   "cell_type": "code",
   "execution_count": 0,
   "metadata": {
    "application/vnd.databricks.v1+cell": {
     "cellMetadata": {},
     "inputWidgets": {},
     "nuid": "a5fbad1e-52c6-41cf-8051-43691d55661e",
     "showTitle": false,
     "title": ""
    }
   },
   "outputs": [
    {
     "output_type": "display_data",
     "data": {
      "text/html": [
       "<style scoped>\n",
       "  .ansiout {\n",
       "    display: block;\n",
       "    unicode-bidi: embed;\n",
       "    white-space: pre-wrap;\n",
       "    word-wrap: break-word;\n",
       "    word-break: break-all;\n",
       "    font-family: \"Menlo\", \"Monaco\", \"Consolas\", \"Ubuntu Mono\", \"Source Code Pro\", monospace;\n",
       "    font-size: 13px;\n",
       "    color: #555;\n",
       "    margin-left: 4px;\n",
       "    line-height: 19px;\n",
       "  }\n",
       "</style>\n",
       "<div class=\"ansiout\"></div>"
      ]
     },
     "metadata": {
      "application/vnd.databricks.v1+output": {
       "addedWidgets": {},
       "arguments": {},
       "data": "<div class=\"ansiout\"></div>",
       "datasetInfos": [],
       "metadata": {},
       "removedWidgets": [],
       "type": "html"
      }
     },
     "output_type": "display_data"
    }
   ],
   "source": [
    "# 115. sinh\n",
    "from pyspark.sql.functions import sinh\n",
    "#hyperbolic sine of the given value, as if computed by java.lang.Math.sinh(). col – angle in radians"
   ]
  },
  {
   "cell_type": "code",
   "execution_count": 0,
   "metadata": {
    "application/vnd.databricks.v1+cell": {
     "cellMetadata": {},
     "inputWidgets": {},
     "nuid": "c3fb75d5-f91f-44a5-8df7-79c995f9a65b",
     "showTitle": false,
     "title": ""
    }
   },
   "outputs": [
    {
     "output_type": "display_data",
     "data": {
      "text/html": [
       "<style scoped>\n",
       "  .ansiout {\n",
       "    display: block;\n",
       "    unicode-bidi: embed;\n",
       "    white-space: pre-wrap;\n",
       "    word-wrap: break-word;\n",
       "    word-break: break-all;\n",
       "    font-family: \"Menlo\", \"Monaco\", \"Consolas\", \"Ubuntu Mono\", \"Source Code Pro\", monospace;\n",
       "    font-size: 13px;\n",
       "    color: #555;\n",
       "    margin-left: 4px;\n",
       "    line-height: 19px;\n",
       "  }\n",
       "</style>\n",
       "<div class=\"ansiout\">+----------+--------------------+\n",
       "total_bill|    SINH(total_bill)|\n",
       "+----------+--------------------+\n",
       "     16.99|1.1957303478948077E7|\n",
       "     10.34|  15473.015007365393|\n",
       "     21.01| 6.660350264840014E8|\n",
       "     23.68| 9.617525263756615E9|\n",
       "     24.59|2.389303472814831E10|\n",
       "     25.29|4.811466337349475E10|\n",
       "      8.77|  3219.0861545198754|\n",
       "     26.88|2.359422289545710...|\n",
       "     15.04|  1701214.2511453838|\n",
       "     14.78|  1311723.9461371975|\n",
       "     10.27|  14426.943565915626|\n",
       "     35.26|1.028474282080966...|\n",
       "     15.42|  2487659.3827758953|\n",
       "     18.43| 5.046814077615462E7|\n",
       "     14.83|  1378977.4709983564|\n",
       "     21.58| 1.177727792432451E9|\n",
       "     10.33|  15319.055935317343|\n",
       "     16.29|   5937821.180619481|\n",
       "     16.97| 1.172053300639116E7|\n",
       "     20.65|4.6467687031197864E8|\n",
       "+----------+--------------------+\n",
       "only showing top 20 rows\n",
       "\n",
       "</div>"
      ]
     },
     "metadata": {
      "application/vnd.databricks.v1+output": {
       "addedWidgets": {},
       "arguments": {},
       "data": "<div class=\"ansiout\">+----------+--------------------+\n|total_bill|    SINH(total_bill)|\n+----------+--------------------+\n|     16.99|1.1957303478948077E7|\n|     10.34|  15473.015007365393|\n|     21.01| 6.660350264840014E8|\n|     23.68| 9.617525263756615E9|\n|     24.59|2.389303472814831E10|\n|     25.29|4.811466337349475E10|\n|      8.77|  3219.0861545198754|\n|     26.88|2.359422289545710...|\n|     15.04|  1701214.2511453838|\n|     14.78|  1311723.9461371975|\n|     10.27|  14426.943565915626|\n|     35.26|1.028474282080966...|\n|     15.42|  2487659.3827758953|\n|     18.43| 5.046814077615462E7|\n|     14.83|  1378977.4709983564|\n|     21.58| 1.177727792432451E9|\n|     10.33|  15319.055935317343|\n|     16.29|   5937821.180619481|\n|     16.97| 1.172053300639116E7|\n|     20.65|4.6467687031197864E8|\n+----------+--------------------+\nonly showing top 20 rows\n\n</div>",
       "datasetInfos": [],
       "metadata": {},
       "removedWidgets": [],
       "type": "html"
      }
     },
     "output_type": "display_data"
    }
   ],
   "source": [
    "tipss.select(tipss['total_bill'],sinh(col = tipss['total_bill'])).show()"
   ]
  },
  {
   "cell_type": "code",
   "execution_count": 0,
   "metadata": {
    "application/vnd.databricks.v1+cell": {
     "cellMetadata": {},
     "inputWidgets": {},
     "nuid": "6e0f284f-cf4f-483f-84a8-e08f34d96060",
     "showTitle": false,
     "title": ""
    }
   },
   "outputs": [
    {
     "output_type": "display_data",
     "data": {
      "text/html": [
       "<style scoped>\n",
       "  .ansiout {\n",
       "    display: block;\n",
       "    unicode-bidi: embed;\n",
       "    white-space: pre-wrap;\n",
       "    word-wrap: break-word;\n",
       "    word-break: break-all;\n",
       "    font-family: \"Menlo\", \"Monaco\", \"Consolas\", \"Ubuntu Mono\", \"Source Code Pro\", monospace;\n",
       "    font-size: 13px;\n",
       "    color: #555;\n",
       "    margin-left: 4px;\n",
       "    line-height: 19px;\n",
       "  }\n",
       "</style>\n",
       "<div class=\"ansiout\">+------------+------------+\n",
       "      data_1|      data_2|\n",
       "+------------+------------+\n",
       "[1, 2, 3, 4]|[2, 4, 2, 5]|\n",
       "+------------+------------+\n",
       "\n",
       "</div>"
      ]
     },
     "metadata": {
      "application/vnd.databricks.v1+output": {
       "addedWidgets": {},
       "arguments": {},
       "data": "<div class=\"ansiout\">+------------+------------+\n|      data_1|      data_2|\n+------------+------------+\n|[1, 2, 3, 4]|[2, 4, 2, 5]|\n+------------+------------+\n\n</div>",
       "datasetInfos": [],
       "metadata": {},
       "removedWidgets": [],
       "type": "html"
      }
     },
     "output_type": "display_data"
    }
   ],
   "source": [
    "df2.show()"
   ]
  },
  {
   "cell_type": "code",
   "execution_count": 0,
   "metadata": {
    "application/vnd.databricks.v1+cell": {
     "cellMetadata": {},
     "inputWidgets": {},
     "nuid": "80726ab2-dea2-4c71-bfcd-b39e05c02af1",
     "showTitle": false,
     "title": ""
    }
   },
   "outputs": [
    {
     "output_type": "display_data",
     "data": {
      "text/html": [
       "<style scoped>\n",
       "  .ansiout {\n",
       "    display: block;\n",
       "    unicode-bidi: embed;\n",
       "    white-space: pre-wrap;\n",
       "    word-wrap: break-word;\n",
       "    word-break: break-all;\n",
       "    font-family: \"Menlo\", \"Monaco\", \"Consolas\", \"Ubuntu Mono\", \"Source Code Pro\", monospace;\n",
       "    font-size: 13px;\n",
       "    color: #555;\n",
       "    margin-left: 4px;\n",
       "    line-height: 19px;\n",
       "  }\n",
       "</style>\n",
       "<div class=\"ansiout\"></div>"
      ]
     },
     "metadata": {
      "application/vnd.databricks.v1+output": {
       "addedWidgets": {},
       "arguments": {},
       "data": "<div class=\"ansiout\"></div>",
       "datasetInfos": [],
       "metadata": {},
       "removedWidgets": [],
       "type": "html"
      }
     },
     "output_type": "display_data"
    }
   ],
   "source": [
    "# 116. size\n",
    "from pyspark.sql.functions import size\n",
    "#Collection function: returns the length of the array or map stored in the column."
   ]
  },
  {
   "cell_type": "code",
   "execution_count": 0,
   "metadata": {
    "application/vnd.databricks.v1+cell": {
     "cellMetadata": {},
     "inputWidgets": {},
     "nuid": "8c6ab86f-4771-48c8-926d-1c28603912f3",
     "showTitle": false,
     "title": ""
    }
   },
   "outputs": [
    {
     "output_type": "display_data",
     "data": {
      "text/html": [
       "<style scoped>\n",
       "  .ansiout {\n",
       "    display: block;\n",
       "    unicode-bidi: embed;\n",
       "    white-space: pre-wrap;\n",
       "    word-wrap: break-word;\n",
       "    word-break: break-all;\n",
       "    font-family: \"Menlo\", \"Monaco\", \"Consolas\", \"Ubuntu Mono\", \"Source Code Pro\", monospace;\n",
       "    font-size: 13px;\n",
       "    color: #555;\n",
       "    margin-left: 4px;\n",
       "    line-height: 19px;\n",
       "  }\n",
       "</style>\n",
       "<div class=\"ansiout\">+------------+------------+\n",
       "      data_1|      data_2|\n",
       "+------------+------------+\n",
       "[1, 2, 3, 4]|[2, 4, 2, 5]|\n",
       "+------------+------------+\n",
       "\n",
       "</div>"
      ]
     },
     "metadata": {
      "application/vnd.databricks.v1+output": {
       "addedWidgets": {},
       "arguments": {},
       "data": "<div class=\"ansiout\">+------------+------------+\n|      data_1|      data_2|\n+------------+------------+\n|[1, 2, 3, 4]|[2, 4, 2, 5]|\n+------------+------------+\n\n</div>",
       "datasetInfos": [],
       "metadata": {},
       "removedWidgets": [],
       "type": "html"
      }
     },
     "output_type": "display_data"
    }
   ],
   "source": [
    "df2.show()"
   ]
  },
  {
   "cell_type": "code",
   "execution_count": 0,
   "metadata": {
    "application/vnd.databricks.v1+cell": {
     "cellMetadata": {},
     "inputWidgets": {},
     "nuid": "98c83e6a-3b3f-4a70-b132-9306a0afed0c",
     "showTitle": false,
     "title": ""
    }
   },
   "outputs": [
    {
     "output_type": "display_data",
     "data": {
      "text/html": [
       "<style scoped>\n",
       "  .ansiout {\n",
       "    display: block;\n",
       "    unicode-bidi: embed;\n",
       "    white-space: pre-wrap;\n",
       "    word-wrap: break-word;\n",
       "    word-break: break-all;\n",
       "    font-family: \"Menlo\", \"Monaco\", \"Consolas\", \"Ubuntu Mono\", \"Source Code Pro\", monospace;\n",
       "    font-size: 13px;\n",
       "    color: #555;\n",
       "    margin-left: 4px;\n",
       "    line-height: 19px;\n",
       "  }\n",
       "</style>\n",
       "<div class=\"ansiout\">+------------+\n",
       "size(data_1)|\n",
       "+------------+\n",
       "           4|\n",
       "+------------+\n",
       "\n",
       "</div>"
      ]
     },
     "metadata": {
      "application/vnd.databricks.v1+output": {
       "addedWidgets": {},
       "arguments": {},
       "data": "<div class=\"ansiout\">+------------+\n|size(data_1)|\n+------------+\n|           4|\n+------------+\n\n</div>",
       "datasetInfos": [],
       "metadata": {},
       "removedWidgets": [],
       "type": "html"
      }
     },
     "output_type": "display_data"
    }
   ],
   "source": [
    "df2.select(size(col = df2['data_1'])).show()"
   ]
  },
  {
   "cell_type": "code",
   "execution_count": 0,
   "metadata": {
    "application/vnd.databricks.v1+cell": {
     "cellMetadata": {},
     "inputWidgets": {},
     "nuid": "f6a40c10-5559-4a08-b7e5-a0af0222c4f4",
     "showTitle": false,
     "title": ""
    }
   },
   "outputs": [
    {
     "output_type": "display_data",
     "data": {
      "text/html": [
       "<style scoped>\n",
       "  .ansiout {\n",
       "    display: block;\n",
       "    unicode-bidi: embed;\n",
       "    white-space: pre-wrap;\n",
       "    word-wrap: break-word;\n",
       "    word-break: break-all;\n",
       "    font-family: \"Menlo\", \"Monaco\", \"Consolas\", \"Ubuntu Mono\", \"Source Code Pro\", monospace;\n",
       "    font-size: 13px;\n",
       "    color: #555;\n",
       "    margin-left: 4px;\n",
       "    line-height: 19px;\n",
       "  }\n",
       "</style>\n",
       "<div class=\"ansiout\"></div>"
      ]
     },
     "metadata": {
      "application/vnd.databricks.v1+output": {
       "addedWidgets": {},
       "arguments": {},
       "data": "<div class=\"ansiout\"></div>",
       "datasetInfos": [],
       "metadata": {},
       "removedWidgets": [],
       "type": "html"
      }
     },
     "output_type": "display_data"
    }
   ],
   "source": [
    "# 117. skewness\n",
    "from pyspark.sql.functions import skewness\n",
    "#Collection function: returns the length of the array or map stored in the column."
   ]
  },
  {
   "cell_type": "code",
   "execution_count": 0,
   "metadata": {
    "application/vnd.databricks.v1+cell": {
     "cellMetadata": {},
     "inputWidgets": {},
     "nuid": "9789debb-7246-44cc-a58b-5cd6951272ca",
     "showTitle": false,
     "title": ""
    }
   },
   "outputs": [
    {
     "output_type": "display_data",
     "data": {
      "text/html": [
       "<style scoped>\n",
       "  .ansiout {\n",
       "    display: block;\n",
       "    unicode-bidi: embed;\n",
       "    white-space: pre-wrap;\n",
       "    word-wrap: break-word;\n",
       "    word-break: break-all;\n",
       "    font-family: \"Menlo\", \"Monaco\", \"Consolas\", \"Ubuntu Mono\", \"Source Code Pro\", monospace;\n",
       "    font-size: 13px;\n",
       "    color: #555;\n",
       "    margin-left: 4px;\n",
       "    line-height: 19px;\n",
       "  }\n",
       "</style>\n",
       "<div class=\"ansiout\">+--------------------+\n",
       "skewness(total_bill)|\n",
       "+--------------------+\n",
       "   1.126234633481864|\n",
       "+--------------------+\n",
       "\n",
       "</div>"
      ]
     },
     "metadata": {
      "application/vnd.databricks.v1+output": {
       "addedWidgets": {},
       "arguments": {},
       "data": "<div class=\"ansiout\">+--------------------+\n|skewness(total_bill)|\n+--------------------+\n|   1.126234633481864|\n+--------------------+\n\n</div>",
       "datasetInfos": [],
       "metadata": {},
       "removedWidgets": [],
       "type": "html"
      }
     },
     "output_type": "display_data"
    }
   ],
   "source": [
    "tipss.select(skewness(tipss['total_bill'])).show()"
   ]
  },
  {
   "cell_type": "code",
   "execution_count": 0,
   "metadata": {
    "application/vnd.databricks.v1+cell": {
     "cellMetadata": {},
     "inputWidgets": {},
     "nuid": "699626a8-026e-4e2a-90f5-4581732a9429",
     "showTitle": false,
     "title": ""
    }
   },
   "outputs": [
    {
     "output_type": "display_data",
     "data": {
      "text/html": [
       "<style scoped>\n",
       "  .ansiout {\n",
       "    display: block;\n",
       "    unicode-bidi: embed;\n",
       "    white-space: pre-wrap;\n",
       "    word-wrap: break-word;\n",
       "    word-break: break-all;\n",
       "    font-family: \"Menlo\", \"Monaco\", \"Consolas\", \"Ubuntu Mono\", \"Source Code Pro\", monospace;\n",
       "    font-size: 13px;\n",
       "    color: #555;\n",
       "    margin-left: 4px;\n",
       "    line-height: 19px;\n",
       "  }\n",
       "</style>\n",
       "<div class=\"ansiout\">+------+--------------------+\n",
       "   sex|skewness(total_bill)|\n",
       "+------+--------------------+\n",
       "Female|  1.1144047124247207|\n",
       "  Male|  1.0927004021253988|\n",
       "+------+--------------------+\n",
       "\n",
       "</div>"
      ]
     },
     "metadata": {
      "application/vnd.databricks.v1+output": {
       "addedWidgets": {},
       "arguments": {},
       "data": "<div class=\"ansiout\">+------+--------------------+\n|   sex|skewness(total_bill)|\n+------+--------------------+\n|Female|  1.1144047124247207|\n|  Male|  1.0927004021253988|\n+------+--------------------+\n\n</div>",
       "datasetInfos": [],
       "metadata": {},
       "removedWidgets": [],
       "type": "html"
      }
     },
     "output_type": "display_data"
    }
   ],
   "source": [
    "tipss.groupBy('sex').agg(skewness(tipss['total_bill'])).show()"
   ]
  },
  {
   "cell_type": "code",
   "execution_count": 0,
   "metadata": {
    "application/vnd.databricks.v1+cell": {
     "cellMetadata": {},
     "inputWidgets": {},
     "nuid": "6c1be0a3-6a45-45e3-9e6b-22d0b0cc66ca",
     "showTitle": false,
     "title": ""
    }
   },
   "outputs": [
    {
     "output_type": "display_data",
     "data": {
      "text/html": [
       "<style scoped>\n",
       "  .ansiout {\n",
       "    display: block;\n",
       "    unicode-bidi: embed;\n",
       "    white-space: pre-wrap;\n",
       "    word-wrap: break-word;\n",
       "    word-break: break-all;\n",
       "    font-family: \"Menlo\", \"Monaco\", \"Consolas\", \"Ubuntu Mono\", \"Source Code Pro\", monospace;\n",
       "    font-size: 13px;\n",
       "    color: #555;\n",
       "    margin-left: 4px;\n",
       "    line-height: 19px;\n",
       "  }\n",
       "</style>\n",
       "<div class=\"ansiout\"></div>"
      ]
     },
     "metadata": {
      "application/vnd.databricks.v1+output": {
       "addedWidgets": {},
       "arguments": {},
       "data": "<div class=\"ansiout\"></div>",
       "datasetInfos": [],
       "metadata": {},
       "removedWidgets": [],
       "type": "html"
      }
     },
     "output_type": "display_data"
    }
   ],
   "source": [
    "# 118. slice\n",
    "from pyspark.sql.functions import slice\n",
    "#Collection function: returns an array containing all the elements in x from index start (or starting from the end if start is negative) with the specified length."
   ]
  },
  {
   "cell_type": "code",
   "execution_count": 0,
   "metadata": {
    "application/vnd.databricks.v1+cell": {
     "cellMetadata": {},
     "inputWidgets": {},
     "nuid": "4e9a62ee-03ca-4ad6-998d-03bfe3e6fb0f",
     "showTitle": false,
     "title": ""
    }
   },
   "outputs": [
    {
     "output_type": "display_data",
     "data": {
      "text/html": [
       "<style scoped>\n",
       "  .ansiout {\n",
       "    display: block;\n",
       "    unicode-bidi: embed;\n",
       "    white-space: pre-wrap;\n",
       "    word-wrap: break-word;\n",
       "    word-break: break-all;\n",
       "    font-family: \"Menlo\", \"Monaco\", \"Consolas\", \"Ubuntu Mono\", \"Source Code Pro\", monospace;\n",
       "    font-size: 13px;\n",
       "    color: #555;\n",
       "    margin-left: 4px;\n",
       "    line-height: 19px;\n",
       "  }\n",
       "</style>\n",
       "<div class=\"ansiout\">+-------------------+\n",
       "slice(data_1, 1, 2)|\n",
       "+-------------------+\n",
       "             [1, 2]|\n",
       "+-------------------+\n",
       "\n",
       "</div>"
      ]
     },
     "metadata": {
      "application/vnd.databricks.v1+output": {
       "addedWidgets": {},
       "arguments": {},
       "data": "<div class=\"ansiout\">+-------------------+\n|slice(data_1, 1, 2)|\n+-------------------+\n|             [1, 2]|\n+-------------------+\n\n</div>",
       "datasetInfos": [],
       "metadata": {},
       "removedWidgets": [],
       "type": "html"
      }
     },
     "output_type": "display_data"
    }
   ],
   "source": [
    "df2.select(slice(x = df2['data_1'], start = 1, length = 2)).show()"
   ]
  },
  {
   "cell_type": "code",
   "execution_count": 0,
   "metadata": {
    "application/vnd.databricks.v1+cell": {
     "cellMetadata": {},
     "inputWidgets": {},
     "nuid": "2c0dd4bb-5503-4aaa-a02a-4fba67eff699",
     "showTitle": false,
     "title": ""
    }
   },
   "outputs": [
    {
     "output_type": "display_data",
     "data": {
      "text/html": [
       "<style scoped>\n",
       "  .ansiout {\n",
       "    display: block;\n",
       "    unicode-bidi: embed;\n",
       "    white-space: pre-wrap;\n",
       "    word-wrap: break-word;\n",
       "    word-break: break-all;\n",
       "    font-family: \"Menlo\", \"Monaco\", \"Consolas\", \"Ubuntu Mono\", \"Source Code Pro\", monospace;\n",
       "    font-size: 13px;\n",
       "    color: #555;\n",
       "    margin-left: 4px;\n",
       "    line-height: 19px;\n",
       "  }\n",
       "</style>\n",
       "<div class=\"ansiout\"></div>"
      ]
     },
     "metadata": {
      "application/vnd.databricks.v1+output": {
       "addedWidgets": {},
       "arguments": {},
       "data": "<div class=\"ansiout\"></div>",
       "datasetInfos": [],
       "metadata": {},
       "removedWidgets": [],
       "type": "html"
      }
     },
     "output_type": "display_data"
    }
   ],
   "source": [
    "#119. sort_array\n",
    "from pyspark.sql.functions import sort_array\n",
    "#Collection function: sorts the input array in ascending or descending order according to the natural ordering of the array elements."
   ]
  },
  {
   "cell_type": "code",
   "execution_count": 0,
   "metadata": {
    "application/vnd.databricks.v1+cell": {
     "cellMetadata": {},
     "inputWidgets": {},
     "nuid": "ebadb198-9f19-4e05-87be-0a6106b1a858",
     "showTitle": false,
     "title": ""
    }
   },
   "outputs": [
    {
     "output_type": "display_data",
     "data": {
      "text/html": [
       "<style scoped>\n",
       "  .ansiout {\n",
       "    display: block;\n",
       "    unicode-bidi: embed;\n",
       "    white-space: pre-wrap;\n",
       "    word-wrap: break-word;\n",
       "    word-break: break-all;\n",
       "    font-family: \"Menlo\", \"Monaco\", \"Consolas\", \"Ubuntu Mono\", \"Source Code Pro\", monospace;\n",
       "    font-size: 13px;\n",
       "    color: #555;\n",
       "    margin-left: 4px;\n",
       "    line-height: 19px;\n",
       "  }\n",
       "</style>\n",
       "<div class=\"ansiout\">+-------------------------+\n",
       "sort_array(data_2, false)|\n",
       "+-------------------------+\n",
       "             [5, 4, 2, 2]|\n",
       "+-------------------------+\n",
       "\n",
       "</div>"
      ]
     },
     "metadata": {
      "application/vnd.databricks.v1+output": {
       "addedWidgets": {},
       "arguments": {},
       "data": "<div class=\"ansiout\">+-------------------------+\n|sort_array(data_2, false)|\n+-------------------------+\n|             [5, 4, 2, 2]|\n+-------------------------+\n\n</div>",
       "datasetInfos": [],
       "metadata": {},
       "removedWidgets": [],
       "type": "html"
      }
     },
     "output_type": "display_data"
    }
   ],
   "source": [
    "df2.select(sort_array(col=df2['data_2'], asc =False)).show()"
   ]
  },
  {
   "cell_type": "code",
   "execution_count": 0,
   "metadata": {
    "application/vnd.databricks.v1+cell": {
     "cellMetadata": {},
     "inputWidgets": {},
     "nuid": "8bb24f70-34b2-44cb-bb9a-be30ed8c6f4f",
     "showTitle": false,
     "title": ""
    }
   },
   "outputs": [
    {
     "output_type": "display_data",
     "data": {
      "text/html": [
       "<style scoped>\n",
       "  .ansiout {\n",
       "    display: block;\n",
       "    unicode-bidi: embed;\n",
       "    white-space: pre-wrap;\n",
       "    word-wrap: break-word;\n",
       "    word-break: break-all;\n",
       "    font-family: \"Menlo\", \"Monaco\", \"Consolas\", \"Ubuntu Mono\", \"Source Code Pro\", monospace;\n",
       "    font-size: 13px;\n",
       "    color: #555;\n",
       "    margin-left: 4px;\n",
       "    line-height: 19px;\n",
       "  }\n",
       "</style>\n",
       "<div class=\"ansiout\">+------------------------+\n",
       "sort_array(data_2, true)|\n",
       "+------------------------+\n",
       "            [2, 2, 4, 5]|\n",
       "+------------------------+\n",
       "\n",
       "</div>"
      ]
     },
     "metadata": {
      "application/vnd.databricks.v1+output": {
       "addedWidgets": {},
       "arguments": {},
       "data": "<div class=\"ansiout\">+------------------------+\n|sort_array(data_2, true)|\n+------------------------+\n|            [2, 2, 4, 5]|\n+------------------------+\n\n</div>",
       "datasetInfos": [],
       "metadata": {},
       "removedWidgets": [],
       "type": "html"
      }
     },
     "output_type": "display_data"
    }
   ],
   "source": [
    "df2.select(sort_array(col=df2['data_2'], asc =True)).show()"
   ]
  },
  {
   "cell_type": "code",
   "execution_count": 0,
   "metadata": {
    "application/vnd.databricks.v1+cell": {
     "cellMetadata": {},
     "inputWidgets": {},
     "nuid": "031cb65f-d13f-4b66-95c0-7aeb688d0c69",
     "showTitle": false,
     "title": ""
    }
   },
   "outputs": [
    {
     "output_type": "display_data",
     "data": {
      "text/html": [
       "<style scoped>\n",
       "  .ansiout {\n",
       "    display: block;\n",
       "    unicode-bidi: embed;\n",
       "    white-space: pre-wrap;\n",
       "    word-wrap: break-word;\n",
       "    word-break: break-all;\n",
       "    font-family: \"Menlo\", \"Monaco\", \"Consolas\", \"Ubuntu Mono\", \"Source Code Pro\", monospace;\n",
       "    font-size: 13px;\n",
       "    color: #555;\n",
       "    margin-left: 4px;\n",
       "    line-height: 19px;\n",
       "  }\n",
       "</style>\n",
       "<div class=\"ansiout\">+-------+\n",
       "    str|\n",
       "+-------+\n",
       "100-200|\n",
       "    foo|\n",
       "  aaaac|\n",
       "+-------+\n",
       "\n",
       "</div>"
      ]
     },
     "metadata": {
      "application/vnd.databricks.v1+output": {
       "addedWidgets": {},
       "arguments": {},
       "data": "<div class=\"ansiout\">+-------+\n|    str|\n+-------+\n|100-200|\n|    foo|\n|  aaaac|\n+-------+\n\n</div>",
       "datasetInfos": [],
       "metadata": {},
       "removedWidgets": [],
       "type": "html"
      }
     },
     "output_type": "display_data"
    }
   ],
   "source": [
    "df23.show()"
   ]
  },
  {
   "cell_type": "code",
   "execution_count": 0,
   "metadata": {
    "application/vnd.databricks.v1+cell": {
     "cellMetadata": {},
     "inputWidgets": {},
     "nuid": "20dc0259-672d-42c6-b0b4-0210a730e752",
     "showTitle": false,
     "title": ""
    }
   },
   "outputs": [
    {
     "output_type": "display_data",
     "data": {
      "text/html": [
       "<style scoped>\n",
       "  .ansiout {\n",
       "    display: block;\n",
       "    unicode-bidi: embed;\n",
       "    white-space: pre-wrap;\n",
       "    word-wrap: break-word;\n",
       "    word-break: break-all;\n",
       "    font-family: \"Menlo\", \"Monaco\", \"Consolas\", \"Ubuntu Mono\", \"Source Code Pro\", monospace;\n",
       "    font-size: 13px;\n",
       "    color: #555;\n",
       "    margin-left: 4px;\n",
       "    line-height: 19px;\n",
       "  }\n",
       "</style>\n",
       "<div class=\"ansiout\"></div>"
      ]
     },
     "metadata": {
      "application/vnd.databricks.v1+output": {
       "addedWidgets": {},
       "arguments": {},
       "data": "<div class=\"ansiout\"></div>",
       "datasetInfos": [],
       "metadata": {},
       "removedWidgets": [],
       "type": "html"
      }
     },
     "output_type": "display_data"
    }
   ],
   "source": [
    "# 120. split\n",
    "from pyspark.sql.functions import split\n",
    "#Splits str around pattern (pattern is a regular expression)."
   ]
  },
  {
   "cell_type": "code",
   "execution_count": 0,
   "metadata": {
    "application/vnd.databricks.v1+cell": {
     "cellMetadata": {},
     "inputWidgets": {},
     "nuid": "924732b0-54db-4306-977c-e6d6ada9a7eb",
     "showTitle": false,
     "title": ""
    }
   },
   "outputs": [
    {
     "output_type": "display_data",
     "data": {
      "text/html": [
       "<style scoped>\n",
       "  .ansiout {\n",
       "    display: block;\n",
       "    unicode-bidi: embed;\n",
       "    white-space: pre-wrap;\n",
       "    word-wrap: break-word;\n",
       "    word-break: break-all;\n",
       "    font-family: \"Menlo\", \"Monaco\", \"Consolas\", \"Ubuntu Mono\", \"Source Code Pro\", monospace;\n",
       "    font-size: 13px;\n",
       "    color: #555;\n",
       "    margin-left: 4px;\n",
       "    line-height: 19px;\n",
       "  }\n",
       "</style>\n",
       "<div class=\"ansiout\">Help on function split in module pyspark.sql.functions:\n",
       "\n",
       "split(str, pattern, limit=-1)\n",
       "    Splits str around matches of the given pattern.\n",
       "    \n",
       "    :param str: a string expression to split\n",
       "    :param pattern: a string representing a regular expression. The regex string should be\n",
       "        a Java regular expression.\n",
       "    :param limit: an integer which controls the number of times `pattern` is applied.\n",
       "    \n",
       "        * ``limit &gt; 0``: The resulting array&#39;s length will not be more than `limit`, and the\n",
       "                         resulting array&#39;s last entry will contain all input beyond the last\n",
       "                         matched pattern.\n",
       "        * ``limit &lt;= 0``: `pattern` will be applied as many times as possible, and the resulting\n",
       "                          array can be of any size.\n",
       "    \n",
       "    .. versionchanged:: 3.0\n",
       "       `split` now takes an optional `limit` field. If not provided, default limit value is -1.\n",
       "    \n",
       "    &gt;&gt;&gt; df = spark.createDataFrame([(&#39;oneAtwoBthreeC&#39;,)], [&#39;s&#39;,])\n",
       "    &gt;&gt;&gt; df.select(split(df.s, &#39;[ABC]&#39;, 2).alias(&#39;s&#39;)).collect()\n",
       "    [Row(s=[&#39;one&#39;, &#39;twoBthreeC&#39;])]\n",
       "    &gt;&gt;&gt; df.select(split(df.s, &#39;[ABC]&#39;, -1).alias(&#39;s&#39;)).collect()\n",
       "    [Row(s=[&#39;one&#39;, &#39;two&#39;, &#39;three&#39;, &#39;&#39;])]\n",
       "    \n",
       "    .. versionadded:: 1.5\n",
       "\n",
       "</div>"
      ]
     },
     "metadata": {
      "application/vnd.databricks.v1+output": {
       "addedWidgets": {},
       "arguments": {},
       "data": "<div class=\"ansiout\">Help on function split in module pyspark.sql.functions:\n\nsplit(str, pattern, limit=-1)\n    Splits str around matches of the given pattern.\n    \n    :param str: a string expression to split\n    :param pattern: a string representing a regular expression. The regex string should be\n        a Java regular expression.\n    :param limit: an integer which controls the number of times `pattern` is applied.\n    \n        * ``limit &gt; 0``: The resulting array&#39;s length will not be more than `limit`, and the\n                         resulting array&#39;s last entry will contain all input beyond the last\n                         matched pattern.\n        * ``limit &lt;= 0``: `pattern` will be applied as many times as possible, and the resulting\n                          array can be of any size.\n    \n    .. versionchanged:: 3.0\n       `split` now takes an optional `limit` field. If not provided, default limit value is -1.\n    \n    &gt;&gt;&gt; df = spark.createDataFrame([(&#39;oneAtwoBthreeC&#39;,)], [&#39;s&#39;,])\n    &gt;&gt;&gt; df.select(split(df.s, &#39;[ABC]&#39;, 2).alias(&#39;s&#39;)).collect()\n    [Row(s=[&#39;one&#39;, &#39;twoBthreeC&#39;])]\n    &gt;&gt;&gt; df.select(split(df.s, &#39;[ABC]&#39;, -1).alias(&#39;s&#39;)).collect()\n    [Row(s=[&#39;one&#39;, &#39;two&#39;, &#39;three&#39;, &#39;&#39;])]\n    \n    .. versionadded:: 1.5\n\n</div>",
       "datasetInfos": [],
       "metadata": {},
       "removedWidgets": [],
       "type": "html"
      }
     },
     "output_type": "display_data"
    }
   ],
   "source": [
    "help(split)"
   ]
  },
  {
   "cell_type": "code",
   "execution_count": 0,
   "metadata": {
    "application/vnd.databricks.v1+cell": {
     "cellMetadata": {},
     "inputWidgets": {},
     "nuid": "b251f546-2d23-40d5-a69d-f7a031f38890",
     "showTitle": false,
     "title": ""
    }
   },
   "outputs": [
    {
     "output_type": "display_data",
     "data": {
      "text/html": [
       "<style scoped>\n",
       "  .ansiout {\n",
       "    display: block;\n",
       "    unicode-bidi: embed;\n",
       "    white-space: pre-wrap;\n",
       "    word-wrap: break-word;\n",
       "    word-break: break-all;\n",
       "    font-family: \"Menlo\", \"Monaco\", \"Consolas\", \"Ubuntu Mono\", \"Source Code Pro\", monospace;\n",
       "    font-size: 13px;\n",
       "    color: #555;\n",
       "    margin-left: 4px;\n",
       "    line-height: 19px;\n",
       "  }\n",
       "</style>\n",
       "<div class=\"ansiout\">+-------------------+\n",
       "split(str, (-), -1)|\n",
       "+-------------------+\n",
       "         [100, 200]|\n",
       "              [foo]|\n",
       "            [aaaac]|\n",
       "+-------------------+\n",
       "\n",
       "</div>"
      ]
     },
     "metadata": {
      "application/vnd.databricks.v1+output": {
       "addedWidgets": {},
       "arguments": {},
       "data": "<div class=\"ansiout\">+-------------------+\n|split(str, (-), -1)|\n+-------------------+\n|         [100, 200]|\n|              [foo]|\n|            [aaaac]|\n+-------------------+\n\n</div>",
       "datasetInfos": [],
       "metadata": {},
       "removedWidgets": [],
       "type": "html"
      }
     },
     "output_type": "display_data"
    }
   ],
   "source": [
    "df23.select(split(str = 'str', pattern = r'(-)' )).show()"
   ]
  },
  {
   "cell_type": "code",
   "execution_count": 0,
   "metadata": {
    "application/vnd.databricks.v1+cell": {
     "cellMetadata": {},
     "inputWidgets": {},
     "nuid": "31ec7721-4d31-44ec-ab08-dcd920ce4449",
     "showTitle": false,
     "title": ""
    }
   },
   "outputs": [
    {
     "output_type": "display_data",
     "data": {
      "text/html": [
       "<style scoped>\n",
       "  .ansiout {\n",
       "    display: block;\n",
       "    unicode-bidi: embed;\n",
       "    white-space: pre-wrap;\n",
       "    word-wrap: break-word;\n",
       "    word-break: break-all;\n",
       "    font-family: \"Menlo\", \"Monaco\", \"Consolas\", \"Ubuntu Mono\", \"Source Code Pro\", monospace;\n",
       "    font-size: 13px;\n",
       "    color: #555;\n",
       "    margin-left: 4px;\n",
       "    line-height: 19px;\n",
       "  }\n",
       "</style>\n",
       "<div class=\"ansiout\"></div>"
      ]
     },
     "metadata": {
      "application/vnd.databricks.v1+output": {
       "addedWidgets": {},
       "arguments": {},
       "data": "<div class=\"ansiout\"></div>",
       "datasetInfos": [],
       "metadata": {},
       "removedWidgets": [],
       "type": "html"
      }
     },
     "output_type": "display_data"
    }
   ],
   "source": [
    "# 121. sqrt\n",
    "from pyspark.sql.functions import sqrt\n",
    "#Computes the square root of the specified float value."
   ]
  },
  {
   "cell_type": "code",
   "execution_count": 0,
   "metadata": {
    "application/vnd.databricks.v1+cell": {
     "cellMetadata": {},
     "inputWidgets": {},
     "nuid": "6151c8dd-b9a3-4936-9da2-ff269727eb16",
     "showTitle": false,
     "title": ""
    }
   },
   "outputs": [
    {
     "output_type": "display_data",
     "data": {
      "text/html": [
       "<style scoped>\n",
       "  .ansiout {\n",
       "    display: block;\n",
       "    unicode-bidi: embed;\n",
       "    white-space: pre-wrap;\n",
       "    word-wrap: break-word;\n",
       "    word-break: break-all;\n",
       "    font-family: \"Menlo\", \"Monaco\", \"Consolas\", \"Ubuntu Mono\", \"Source Code Pro\", monospace;\n",
       "    font-size: 13px;\n",
       "    color: #555;\n",
       "    margin-left: 4px;\n",
       "    line-height: 19px;\n",
       "  }\n",
       "</style>\n",
       "<div class=\"ansiout\">+----------+------------------+\n",
       "total_bill|  SQRT(total_bill)|\n",
       "+----------+------------------+\n",
       "     16.99| 4.121892769104989|\n",
       "     10.34| 3.215587038162705|\n",
       "     21.01| 4.583666654546336|\n",
       "     23.68| 4.866210024238575|\n",
       "     24.59| 4.958830507286975|\n",
       "     25.29| 5.028916384272063|\n",
       "      8.77|2.9614185789921694|\n",
       "     26.88| 5.184592558726288|\n",
       "     15.04| 3.878143885933063|\n",
       "     14.78| 3.844476557348217|\n",
       "     10.27|3.2046840717924128|\n",
       "     35.26| 5.938013135721409|\n",
       "     15.42|3.9268307832143723|\n",
       "     18.43| 4.293017586733136|\n",
       "     14.83| 3.850973902793941|\n",
       "     21.58| 4.645427859734774|\n",
       "     10.33|3.2140317359976396|\n",
       "     16.29| 4.036087214122113|\n",
       "     16.97| 4.119465984809196|\n",
       "     20.65| 4.544227107000705|\n",
       "+----------+------------------+\n",
       "only showing top 20 rows\n",
       "\n",
       "</div>"
      ]
     },
     "metadata": {
      "application/vnd.databricks.v1+output": {
       "addedWidgets": {},
       "arguments": {},
       "data": "<div class=\"ansiout\">+----------+------------------+\n|total_bill|  SQRT(total_bill)|\n+----------+------------------+\n|     16.99| 4.121892769104989|\n|     10.34| 3.215587038162705|\n|     21.01| 4.583666654546336|\n|     23.68| 4.866210024238575|\n|     24.59| 4.958830507286975|\n|     25.29| 5.028916384272063|\n|      8.77|2.9614185789921694|\n|     26.88| 5.184592558726288|\n|     15.04| 3.878143885933063|\n|     14.78| 3.844476557348217|\n|     10.27|3.2046840717924128|\n|     35.26| 5.938013135721409|\n|     15.42|3.9268307832143723|\n|     18.43| 4.293017586733136|\n|     14.83| 3.850973902793941|\n|     21.58| 4.645427859734774|\n|     10.33|3.2140317359976396|\n|     16.29| 4.036087214122113|\n|     16.97| 4.119465984809196|\n|     20.65| 4.544227107000705|\n+----------+------------------+\nonly showing top 20 rows\n\n</div>",
       "datasetInfos": [],
       "metadata": {},
       "removedWidgets": [],
       "type": "html"
      }
     },
     "output_type": "display_data"
    }
   ],
   "source": [
    "tipss.select(tipss['total_bill'],sqrt(col = tipss['total_bill'])).show()"
   ]
  },
  {
   "cell_type": "code",
   "execution_count": 0,
   "metadata": {
    "application/vnd.databricks.v1+cell": {
     "cellMetadata": {},
     "inputWidgets": {},
     "nuid": "0231e8b9-58f9-4276-baa4-5996a1abadd9",
     "showTitle": false,
     "title": ""
    }
   },
   "outputs": [
    {
     "output_type": "display_data",
     "data": {
      "text/html": [
       "<style scoped>\n",
       "  .ansiout {\n",
       "    display: block;\n",
       "    unicode-bidi: embed;\n",
       "    white-space: pre-wrap;\n",
       "    word-wrap: break-word;\n",
       "    word-break: break-all;\n",
       "    font-family: \"Menlo\", \"Monaco\", \"Consolas\", \"Ubuntu Mono\", \"Source Code Pro\", monospace;\n",
       "    font-size: 13px;\n",
       "    color: #555;\n",
       "    margin-left: 4px;\n",
       "    line-height: 19px;\n",
       "  }\n",
       "</style>\n",
       "<div class=\"ansiout\"></div>"
      ]
     },
     "metadata": {
      "application/vnd.databricks.v1+output": {
       "addedWidgets": {},
       "arguments": {},
       "data": "<div class=\"ansiout\"></div>",
       "datasetInfos": [],
       "metadata": {},
       "removedWidgets": [],
       "type": "html"
      }
     },
     "output_type": "display_data"
    }
   ],
   "source": [
    "# 122. stddev\n",
    "from pyspark.sql.functions import stddev\n",
    "#Aggregate function: alias for stddev_samp"
   ]
  },
  {
   "cell_type": "code",
   "execution_count": 0,
   "metadata": {
    "application/vnd.databricks.v1+cell": {
     "cellMetadata": {},
     "inputWidgets": {},
     "nuid": "f5277394-234b-4f05-adf9-8edf14fa4097",
     "showTitle": false,
     "title": ""
    }
   },
   "outputs": [
    {
     "output_type": "display_data",
     "data": {
      "text/html": [
       "<style scoped>\n",
       "  .ansiout {\n",
       "    display: block;\n",
       "    unicode-bidi: embed;\n",
       "    white-space: pre-wrap;\n",
       "    word-wrap: break-word;\n",
       "    word-break: break-all;\n",
       "    font-family: \"Menlo\", \"Monaco\", \"Consolas\", \"Ubuntu Mono\", \"Source Code Pro\", monospace;\n",
       "    font-size: 13px;\n",
       "    color: #555;\n",
       "    margin-left: 4px;\n",
       "    line-height: 19px;\n",
       "  }\n",
       "</style>\n",
       "<div class=\"ansiout\">+-----------------------+\n",
       "stddev_samp(total_bill)|\n",
       "+-----------------------+\n",
       "      8.902411954856856|\n",
       "+-----------------------+\n",
       "\n",
       "</div>"
      ]
     },
     "metadata": {
      "application/vnd.databricks.v1+output": {
       "addedWidgets": {},
       "arguments": {},
       "data": "<div class=\"ansiout\">+-----------------------+\n|stddev_samp(total_bill)|\n+-----------------------+\n|      8.902411954856856|\n+-----------------------+\n\n</div>",
       "datasetInfos": [],
       "metadata": {},
       "removedWidgets": [],
       "type": "html"
      }
     },
     "output_type": "display_data"
    }
   ],
   "source": [
    "tipss.select(stddev(col = tipss['total_bill'])).show()"
   ]
  },
  {
   "cell_type": "code",
   "execution_count": 0,
   "metadata": {
    "application/vnd.databricks.v1+cell": {
     "cellMetadata": {},
     "inputWidgets": {},
     "nuid": "673bc254-8687-4d99-b238-4785c6053373",
     "showTitle": false,
     "title": ""
    }
   },
   "outputs": [
    {
     "output_type": "display_data",
     "data": {
      "text/html": [
       "<style scoped>\n",
       "  .ansiout {\n",
       "    display: block;\n",
       "    unicode-bidi: embed;\n",
       "    white-space: pre-wrap;\n",
       "    word-wrap: break-word;\n",
       "    word-break: break-all;\n",
       "    font-family: \"Menlo\", \"Monaco\", \"Consolas\", \"Ubuntu Mono\", \"Source Code Pro\", monospace;\n",
       "    font-size: 13px;\n",
       "    color: #555;\n",
       "    margin-left: 4px;\n",
       "    line-height: 19px;\n",
       "  }\n",
       "</style>\n",
       "<div class=\"ansiout\"></div>"
      ]
     },
     "metadata": {
      "application/vnd.databricks.v1+output": {
       "addedWidgets": {},
       "arguments": {},
       "data": "<div class=\"ansiout\"></div>",
       "datasetInfos": [],
       "metadata": {},
       "removedWidgets": [],
       "type": "html"
      }
     },
     "output_type": "display_data"
    }
   ],
   "source": [
    "# 123. stddev_pop\n",
    "from pyspark.sql.functions import stddev_pop\n",
    "#Aggregate function: returns population standard deviation of the expression in a group."
   ]
  },
  {
   "cell_type": "code",
   "execution_count": 0,
   "metadata": {
    "application/vnd.databricks.v1+cell": {
     "cellMetadata": {},
     "inputWidgets": {},
     "nuid": "8ed0596e-ebb6-4283-a978-9ccc8f4b16f1",
     "showTitle": false,
     "title": ""
    }
   },
   "outputs": [
    {
     "output_type": "display_data",
     "data": {
      "text/html": [
       "<style scoped>\n",
       "  .ansiout {\n",
       "    display: block;\n",
       "    unicode-bidi: embed;\n",
       "    white-space: pre-wrap;\n",
       "    word-wrap: break-word;\n",
       "    word-break: break-all;\n",
       "    font-family: \"Menlo\", \"Monaco\", \"Consolas\", \"Ubuntu Mono\", \"Source Code Pro\", monospace;\n",
       "    font-size: 13px;\n",
       "    color: #555;\n",
       "    margin-left: 4px;\n",
       "    line-height: 19px;\n",
       "  }\n",
       "</style>\n",
       "<div class=\"ansiout\">+----------------------+\n",
       "stddev_pop(total_bill)|\n",
       "+----------------------+\n",
       "     8.884150577771132|\n",
       "+----------------------+\n",
       "\n",
       "</div>"
      ]
     },
     "metadata": {
      "application/vnd.databricks.v1+output": {
       "addedWidgets": {},
       "arguments": {},
       "data": "<div class=\"ansiout\">+----------------------+\n|stddev_pop(total_bill)|\n+----------------------+\n|     8.884150577771132|\n+----------------------+\n\n</div>",
       "datasetInfos": [],
       "metadata": {},
       "removedWidgets": [],
       "type": "html"
      }
     },
     "output_type": "display_data"
    }
   ],
   "source": [
    "tipss.select(stddev_pop(col = tipss['total_bill'])).show()"
   ]
  },
  {
   "cell_type": "code",
   "execution_count": 0,
   "metadata": {
    "application/vnd.databricks.v1+cell": {
     "cellMetadata": {},
     "inputWidgets": {},
     "nuid": "de6b7d80-1c2d-44cb-92f1-16ee4beb9489",
     "showTitle": false,
     "title": ""
    }
   },
   "outputs": [
    {
     "output_type": "display_data",
     "data": {
      "text/html": [
       "<style scoped>\n",
       "  .ansiout {\n",
       "    display: block;\n",
       "    unicode-bidi: embed;\n",
       "    white-space: pre-wrap;\n",
       "    word-wrap: break-word;\n",
       "    word-break: break-all;\n",
       "    font-family: \"Menlo\", \"Monaco\", \"Consolas\", \"Ubuntu Mono\", \"Source Code Pro\", monospace;\n",
       "    font-size: 13px;\n",
       "    color: #555;\n",
       "    margin-left: 4px;\n",
       "    line-height: 19px;\n",
       "  }\n",
       "</style>\n",
       "<div class=\"ansiout\"></div>"
      ]
     },
     "metadata": {
      "application/vnd.databricks.v1+output": {
       "addedWidgets": {},
       "arguments": {},
       "data": "<div class=\"ansiout\"></div>",
       "datasetInfos": [],
       "metadata": {},
       "removedWidgets": [],
       "type": "html"
      }
     },
     "output_type": "display_data"
    }
   ],
   "source": [
    "# 124. stddev_samp\n",
    "from pyspark.sql.functions import stddev_samp\n",
    "#Aggregate function: returns the unbiased sample standard deviation of the expression in a group."
   ]
  },
  {
   "cell_type": "code",
   "execution_count": 0,
   "metadata": {
    "application/vnd.databricks.v1+cell": {
     "cellMetadata": {},
     "inputWidgets": {},
     "nuid": "681f7cd4-069d-496c-9a34-a7e83ec6a798",
     "showTitle": false,
     "title": ""
    }
   },
   "outputs": [
    {
     "output_type": "display_data",
     "data": {
      "text/html": [
       "<style scoped>\n",
       "  .ansiout {\n",
       "    display: block;\n",
       "    unicode-bidi: embed;\n",
       "    white-space: pre-wrap;\n",
       "    word-wrap: break-word;\n",
       "    word-break: break-all;\n",
       "    font-family: \"Menlo\", \"Monaco\", \"Consolas\", \"Ubuntu Mono\", \"Source Code Pro\", monospace;\n",
       "    font-size: 13px;\n",
       "    color: #555;\n",
       "    margin-left: 4px;\n",
       "    line-height: 19px;\n",
       "  }\n",
       "</style>\n",
       "<div class=\"ansiout\">+-----------------------+\n",
       "stddev_samp(total_bill)|\n",
       "+-----------------------+\n",
       "      8.902411954856856|\n",
       "+-----------------------+\n",
       "\n",
       "</div>"
      ]
     },
     "metadata": {
      "application/vnd.databricks.v1+output": {
       "addedWidgets": {},
       "arguments": {},
       "data": "<div class=\"ansiout\">+-----------------------+\n|stddev_samp(total_bill)|\n+-----------------------+\n|      8.902411954856856|\n+-----------------------+\n\n</div>",
       "datasetInfos": [],
       "metadata": {},
       "removedWidgets": [],
       "type": "html"
      }
     },
     "output_type": "display_data"
    }
   ],
   "source": [
    "tipss.select(stddev_samp(col = tipss['total_bill'])).show()"
   ]
  },
  {
   "cell_type": "code",
   "execution_count": 0,
   "metadata": {
    "application/vnd.databricks.v1+cell": {
     "cellMetadata": {},
     "inputWidgets": {},
     "nuid": "df1bc139-1d91-4d63-89ab-19b773c4b8e3",
     "showTitle": false,
     "title": ""
    }
   },
   "outputs": [
    {
     "output_type": "display_data",
     "data": {
      "text/html": [
       "<style scoped>\n",
       "  .ansiout {\n",
       "    display: block;\n",
       "    unicode-bidi: embed;\n",
       "    white-space: pre-wrap;\n",
       "    word-wrap: break-word;\n",
       "    word-break: break-all;\n",
       "    font-family: \"Menlo\", \"Monaco\", \"Consolas\", \"Ubuntu Mono\", \"Source Code Pro\", monospace;\n",
       "    font-size: 13px;\n",
       "    color: #555;\n",
       "    margin-left: 4px;\n",
       "    line-height: 19px;\n",
       "  }\n",
       "</style>\n",
       "<div class=\"ansiout\"></div>"
      ]
     },
     "metadata": {
      "application/vnd.databricks.v1+output": {
       "addedWidgets": {},
       "arguments": {},
       "data": "<div class=\"ansiout\"></div>",
       "datasetInfos": [],
       "metadata": {},
       "removedWidgets": [],
       "type": "html"
      }
     },
     "output_type": "display_data"
    }
   ],
   "source": [
    "# 125. struct\n",
    "from pyspark.sql.functions import struct\n",
    "#Creates a new struct column."
   ]
  },
  {
   "cell_type": "code",
   "execution_count": 0,
   "metadata": {
    "application/vnd.databricks.v1+cell": {
     "cellMetadata": {},
     "inputWidgets": {},
     "nuid": "94ab9dd6-6dc3-49ad-ad4e-2b4e8921adbc",
     "showTitle": false,
     "title": ""
    }
   },
   "outputs": [
    {
     "output_type": "display_data",
     "data": {
      "text/html": [
       "<style scoped>\n",
       "  .ansiout {\n",
       "    display: block;\n",
       "    unicode-bidi: embed;\n",
       "    white-space: pre-wrap;\n",
       "    word-wrap: break-word;\n",
       "    word-break: break-all;\n",
       "    font-family: \"Menlo\", \"Monaco\", \"Consolas\", \"Ubuntu Mono\", \"Source Code Pro\", monospace;\n",
       "    font-size: 13px;\n",
       "    color: #555;\n",
       "    margin-left: 4px;\n",
       "    line-height: 19px;\n",
       "  }\n",
       "</style>\n",
       "<div class=\"ansiout\">Help on function struct in module pyspark.sql.functions:\n",
       "\n",
       "struct(*cols)\n",
       "    Creates a new struct column.\n",
       "    \n",
       "    :param cols: list of column names (string) or list of :class:`Column` expressions\n",
       "    \n",
       "    &gt;&gt;&gt; df.select(struct(&#39;age&#39;, &#39;name&#39;).alias(&#34;struct&#34;)).collect()\n",
       "    [Row(struct=Row(age=2, name=&#39;Alice&#39;)), Row(struct=Row(age=5, name=&#39;Bob&#39;))]\n",
       "    &gt;&gt;&gt; df.select(struct([df.age, df.name]).alias(&#34;struct&#34;)).collect()\n",
       "    [Row(struct=Row(age=2, name=&#39;Alice&#39;)), Row(struct=Row(age=5, name=&#39;Bob&#39;))]\n",
       "    \n",
       "    .. versionadded:: 1.4\n",
       "\n",
       "</div>"
      ]
     },
     "metadata": {
      "application/vnd.databricks.v1+output": {
       "addedWidgets": {},
       "arguments": {},
       "data": "<div class=\"ansiout\">Help on function struct in module pyspark.sql.functions:\n\nstruct(*cols)\n    Creates a new struct column.\n    \n    :param cols: list of column names (string) or list of :class:`Column` expressions\n    \n    &gt;&gt;&gt; df.select(struct(&#39;age&#39;, &#39;name&#39;).alias(&#34;struct&#34;)).collect()\n    [Row(struct=Row(age=2, name=&#39;Alice&#39;)), Row(struct=Row(age=5, name=&#39;Bob&#39;))]\n    &gt;&gt;&gt; df.select(struct([df.age, df.name]).alias(&#34;struct&#34;)).collect()\n    [Row(struct=Row(age=2, name=&#39;Alice&#39;)), Row(struct=Row(age=5, name=&#39;Bob&#39;))]\n    \n    .. versionadded:: 1.4\n\n</div>",
       "datasetInfos": [],
       "metadata": {},
       "removedWidgets": [],
       "type": "html"
      }
     },
     "output_type": "display_data"
    }
   ],
   "source": [
    "help(struct)"
   ]
  },
  {
   "cell_type": "code",
   "execution_count": 0,
   "metadata": {
    "application/vnd.databricks.v1+cell": {
     "cellMetadata": {},
     "inputWidgets": {},
     "nuid": "282d1487-29a6-4a8d-8d3d-ff75e5b6543f",
     "showTitle": false,
     "title": ""
    }
   },
   "outputs": [
    {
     "output_type": "display_data",
     "data": {
      "text/html": [
       "<style scoped>\n",
       "  .ansiout {\n",
       "    display: block;\n",
       "    unicode-bidi: embed;\n",
       "    white-space: pre-wrap;\n",
       "    word-wrap: break-word;\n",
       "    word-break: break-all;\n",
       "    font-family: \"Menlo\", \"Monaco\", \"Consolas\", \"Ubuntu Mono\", \"Source Code Pro\", monospace;\n",
       "    font-size: 13px;\n",
       "    color: #555;\n",
       "    margin-left: 4px;\n",
       "    line-height: 19px;\n",
       "  }\n",
       "</style>\n",
       "<div class=\"ansiout\">+-------------+\n",
       "Struct Column|\n",
       "+-------------+\n",
       "[16.99, 1.01]|\n",
       "[10.34, 1.66]|\n",
       " [21.01, 3.5]|\n",
       "[23.68, 3.31]|\n",
       "[24.59, 3.61]|\n",
       "[25.29, 4.71]|\n",
       "  [8.77, 2.0]|\n",
       "[26.88, 3.12]|\n",
       "[15.04, 1.96]|\n",
       "[14.78, 3.23]|\n",
       "[10.27, 1.71]|\n",
       " [35.26, 5.0]|\n",
       "[15.42, 1.57]|\n",
       " [18.43, 3.0]|\n",
       "[14.83, 3.02]|\n",
       "[21.58, 3.92]|\n",
       "[10.33, 1.67]|\n",
       "[16.29, 3.71]|\n",
       " [16.97, 3.5]|\n",
       "[20.65, 3.35]|\n",
       "+-------------+\n",
       "only showing top 20 rows\n",
       "\n",
       "</div>"
      ]
     },
     "metadata": {
      "application/vnd.databricks.v1+output": {
       "addedWidgets": {},
       "arguments": {},
       "data": "<div class=\"ansiout\">+-------------+\n|Struct Column|\n+-------------+\n|[16.99, 1.01]|\n|[10.34, 1.66]|\n| [21.01, 3.5]|\n|[23.68, 3.31]|\n|[24.59, 3.61]|\n|[25.29, 4.71]|\n|  [8.77, 2.0]|\n|[26.88, 3.12]|\n|[15.04, 1.96]|\n|[14.78, 3.23]|\n|[10.27, 1.71]|\n| [35.26, 5.0]|\n|[15.42, 1.57]|\n| [18.43, 3.0]|\n|[14.83, 3.02]|\n|[21.58, 3.92]|\n|[10.33, 1.67]|\n|[16.29, 3.71]|\n| [16.97, 3.5]|\n|[20.65, 3.35]|\n+-------------+\nonly showing top 20 rows\n\n</div>",
       "datasetInfos": [],
       "metadata": {},
       "removedWidgets": [],
       "type": "html"
      }
     },
     "output_type": "display_data"
    }
   ],
   "source": [
    "tipss.select(struct(*[[tipss['total_bill'], tipss['tip']]]).alias(\"Struct Column\")).show()"
   ]
  },
  {
   "cell_type": "code",
   "execution_count": 0,
   "metadata": {
    "application/vnd.databricks.v1+cell": {
     "cellMetadata": {},
     "inputWidgets": {},
     "nuid": "0ed2c17c-f229-486d-b11b-dd05ddeec344",
     "showTitle": false,
     "title": ""
    }
   },
   "outputs": [
    {
     "output_type": "display_data",
     "data": {
      "text/html": [
       "<style scoped>\n",
       "  .ansiout {\n",
       "    display: block;\n",
       "    unicode-bidi: embed;\n",
       "    white-space: pre-wrap;\n",
       "    word-wrap: break-word;\n",
       "    word-break: break-all;\n",
       "    font-family: \"Menlo\", \"Monaco\", \"Consolas\", \"Ubuntu Mono\", \"Source Code Pro\", monospace;\n",
       "    font-size: 13px;\n",
       "    color: #555;\n",
       "    margin-left: 4px;\n",
       "    line-height: 19px;\n",
       "  }\n",
       "</style>\n",
       "<div class=\"ansiout\"></div>"
      ]
     },
     "metadata": {
      "application/vnd.databricks.v1+output": {
       "addedWidgets": {},
       "arguments": {},
       "data": "<div class=\"ansiout\"></div>",
       "datasetInfos": [],
       "metadata": {},
       "removedWidgets": [],
       "type": "html"
      }
     },
     "output_type": "display_data"
    }
   ],
   "source": [
    "# 126. substring \n",
    "from pyspark.sql.functions import substring\n",
    "#Substring starts at pos and is of length len when str is String type or returns the slice of byte array that starts at pos in byte and is of length len when str is Binary type."
   ]
  },
  {
   "cell_type": "code",
   "execution_count": 0,
   "metadata": {
    "application/vnd.databricks.v1+cell": {
     "cellMetadata": {},
     "inputWidgets": {},
     "nuid": "e958c526-9bdf-4064-91e6-133f89c617ad",
     "showTitle": false,
     "title": ""
    }
   },
   "outputs": [
    {
     "output_type": "display_data",
     "data": {
      "text/html": [
       "<style scoped>\n",
       "  .ansiout {\n",
       "    display: block;\n",
       "    unicode-bidi: embed;\n",
       "    white-space: pre-wrap;\n",
       "    word-wrap: break-word;\n",
       "    word-break: break-all;\n",
       "    font-family: \"Menlo\", \"Monaco\", \"Consolas\", \"Ubuntu Mono\", \"Source Code Pro\", monospace;\n",
       "    font-size: 13px;\n",
       "    color: #555;\n",
       "    margin-left: 4px;\n",
       "    line-height: 19px;\n",
       "  }\n",
       "</style>\n",
       "<div class=\"ansiout\">+------+----------------+\n",
       "   sex|Substring Values|\n",
       "+------+----------------+\n",
       "Female|             Fem|\n",
       "  Male|             Mal|\n",
       "  Male|             Mal|\n",
       "  Male|             Mal|\n",
       "Female|             Fem|\n",
       "  Male|             Mal|\n",
       "  Male|             Mal|\n",
       "  Male|             Mal|\n",
       "  Male|             Mal|\n",
       "  Male|             Mal|\n",
       "  Male|             Mal|\n",
       "Female|             Fem|\n",
       "  Male|             Mal|\n",
       "  Male|             Mal|\n",
       "Female|             Fem|\n",
       "  Male|             Mal|\n",
       "Female|             Fem|\n",
       "  Male|             Mal|\n",
       "Female|             Fem|\n",
       "  Male|             Mal|\n",
       "+------+----------------+\n",
       "only showing top 20 rows\n",
       "\n",
       "</div>"
      ]
     },
     "metadata": {
      "application/vnd.databricks.v1+output": {
       "addedWidgets": {},
       "arguments": {},
       "data": "<div class=\"ansiout\">+------+----------------+\n|   sex|Substring Values|\n+------+----------------+\n|Female|             Fem|\n|  Male|             Mal|\n|  Male|             Mal|\n|  Male|             Mal|\n|Female|             Fem|\n|  Male|             Mal|\n|  Male|             Mal|\n|  Male|             Mal|\n|  Male|             Mal|\n|  Male|             Mal|\n|  Male|             Mal|\n|Female|             Fem|\n|  Male|             Mal|\n|  Male|             Mal|\n|Female|             Fem|\n|  Male|             Mal|\n|Female|             Fem|\n|  Male|             Mal|\n|Female|             Fem|\n|  Male|             Mal|\n+------+----------------+\nonly showing top 20 rows\n\n</div>",
       "datasetInfos": [],
       "metadata": {},
       "removedWidgets": [],
       "type": "html"
      }
     },
     "output_type": "display_data"
    }
   ],
   "source": [
    "tipss.select(tipss['sex'],substring(str = tipss['sex'], pos = 1, len = 3).alias('Substring Values')).show()"
   ]
  },
  {
   "cell_type": "code",
   "execution_count": 0,
   "metadata": {
    "application/vnd.databricks.v1+cell": {
     "cellMetadata": {},
     "inputWidgets": {},
     "nuid": "f850ceba-45e4-4337-b615-c239a6d9aae9",
     "showTitle": false,
     "title": ""
    }
   },
   "outputs": [
    {
     "output_type": "display_data",
     "data": {
      "text/html": [
       "<style scoped>\n",
       "  .ansiout {\n",
       "    display: block;\n",
       "    unicode-bidi: embed;\n",
       "    white-space: pre-wrap;\n",
       "    word-wrap: break-word;\n",
       "    word-break: break-all;\n",
       "    font-family: \"Menlo\", \"Monaco\", \"Consolas\", \"Ubuntu Mono\", \"Source Code Pro\", monospace;\n",
       "    font-size: 13px;\n",
       "    color: #555;\n",
       "    margin-left: 4px;\n",
       "    line-height: 19px;\n",
       "  }\n",
       "</style>\n",
       "<div class=\"ansiout\"></div>"
      ]
     },
     "metadata": {
      "application/vnd.databricks.v1+output": {
       "addedWidgets": {},
       "arguments": {},
       "data": "<div class=\"ansiout\"></div>",
       "datasetInfos": [],
       "metadata": {},
       "removedWidgets": [],
       "type": "html"
      }
     },
     "output_type": "display_data"
    }
   ],
   "source": [
    "# 127. substring_index \n",
    "from pyspark.sql.functions import substring_index\n",
    "#Returns the substring from string str before count occurrences of the delimiter delim. If count is positive, everything the left of the final delimiter (counting from left) is returned. If count is negative, every to the right of the final delimiter (counting from the right) is returned."
   ]
  },
  {
   "cell_type": "code",
   "execution_count": 0,
   "metadata": {
    "application/vnd.databricks.v1+cell": {
     "cellMetadata": {},
     "inputWidgets": {},
     "nuid": "a0041047-26e2-40cb-af33-dc826d5c705b",
     "showTitle": false,
     "title": ""
    }
   },
   "outputs": [
    {
     "output_type": "display_data",
     "data": {
      "text/html": [
       "<style scoped>\n",
       "  .ansiout {\n",
       "    display: block;\n",
       "    unicode-bidi: embed;\n",
       "    white-space: pre-wrap;\n",
       "    word-wrap: break-word;\n",
       "    word-break: break-all;\n",
       "    font-family: \"Menlo\", \"Monaco\", \"Consolas\", \"Ubuntu Mono\", \"Source Code Pro\", monospace;\n",
       "    font-size: 13px;\n",
       "    color: #555;\n",
       "    margin-left: 4px;\n",
       "    line-height: 19px;\n",
       "  }\n",
       "</style>\n",
       "<div class=\"ansiout\"></div>"
      ]
     },
     "metadata": {
      "application/vnd.databricks.v1+output": {
       "addedWidgets": {},
       "arguments": {},
       "data": "<div class=\"ansiout\"></div>",
       "datasetInfos": [
        {
         "name": "df24",
         "schema": {
          "fields": [
           {
            "metadata": {},
            "name": "s",
            "nullable": true,
            "type": "string"
           }
          ],
          "type": "struct"
         },
         "tableIdentifier": null,
         "typeStr": "pyspark.sql.dataframe.DataFrame"
        }
       ],
       "metadata": {},
       "removedWidgets": [],
       "type": "html"
      }
     },
     "output_type": "display_data"
    }
   ],
   "source": [
    "df24 = spark.createDataFrame(data=[('a.b.c.d',),\n",
    "                                   ('p.b.k.e.j',)], \n",
    "                             schema=['s'])"
   ]
  },
  {
   "cell_type": "code",
   "execution_count": 0,
   "metadata": {
    "application/vnd.databricks.v1+cell": {
     "cellMetadata": {},
     "inputWidgets": {},
     "nuid": "65c87e99-e77f-44a2-99a5-a7d7f3def30a",
     "showTitle": false,
     "title": ""
    }
   },
   "outputs": [
    {
     "output_type": "display_data",
     "data": {
      "text/html": [
       "<style scoped>\n",
       "  .ansiout {\n",
       "    display: block;\n",
       "    unicode-bidi: embed;\n",
       "    white-space: pre-wrap;\n",
       "    word-wrap: break-word;\n",
       "    word-break: break-all;\n",
       "    font-family: \"Menlo\", \"Monaco\", \"Consolas\", \"Ubuntu Mono\", \"Source Code Pro\", monospace;\n",
       "    font-size: 13px;\n",
       "    color: #555;\n",
       "    margin-left: 4px;\n",
       "    line-height: 19px;\n",
       "  }\n",
       "</style>\n",
       "<div class=\"ansiout\">+---------+\n",
       "        s|\n",
       "+---------+\n",
       "  a.b.c.d|\n",
       "p.b.k.e.j|\n",
       "+---------+\n",
       "\n",
       "</div>"
      ]
     },
     "metadata": {
      "application/vnd.databricks.v1+output": {
       "addedWidgets": {},
       "arguments": {},
       "data": "<div class=\"ansiout\">+---------+\n|        s|\n+---------+\n|  a.b.c.d|\n|p.b.k.e.j|\n+---------+\n\n</div>",
       "datasetInfos": [],
       "metadata": {},
       "removedWidgets": [],
       "type": "html"
      }
     },
     "output_type": "display_data"
    }
   ],
   "source": [
    "df24.show()"
   ]
  },
  {
   "cell_type": "code",
   "execution_count": 0,
   "metadata": {
    "application/vnd.databricks.v1+cell": {
     "cellMetadata": {},
     "inputWidgets": {},
     "nuid": "b3ad1462-35b6-4e31-815d-7e375b61a23d",
     "showTitle": false,
     "title": ""
    }
   },
   "outputs": [
    {
     "output_type": "display_data",
     "data": {
      "text/html": [
       "<style scoped>\n",
       "  .ansiout {\n",
       "    display: block;\n",
       "    unicode-bidi: embed;\n",
       "    white-space: pre-wrap;\n",
       "    word-wrap: break-word;\n",
       "    word-break: break-all;\n",
       "    font-family: \"Menlo\", \"Monaco\", \"Consolas\", \"Ubuntu Mono\", \"Source Code Pro\", monospace;\n",
       "    font-size: 13px;\n",
       "    color: #555;\n",
       "    margin-left: 4px;\n",
       "    line-height: 19px;\n",
       "  }\n",
       "</style>\n",
       "<div class=\"ansiout\">Help on function substring_index in module pyspark.sql.functions:\n",
       "\n",
       "substring_index(str, delim, count)\n",
       "    Returns the substring from string str before count occurrences of the delimiter delim.\n",
       "    If count is positive, everything the left of the final delimiter (counting from left) is\n",
       "    returned. If count is negative, every to the right of the final delimiter (counting from the\n",
       "    right) is returned. substring_index performs a case-sensitive match when searching for delim.\n",
       "    \n",
       "    &gt;&gt;&gt; df = spark.createDataFrame([(&#39;a.b.c.d&#39;,)], [&#39;s&#39;])\n",
       "    &gt;&gt;&gt; df.select(substring_index(df.s, &#39;.&#39;, 2).alias(&#39;s&#39;)).collect()\n",
       "    [Row(s=&#39;a.b&#39;)]\n",
       "    &gt;&gt;&gt; df.select(substring_index(df.s, &#39;.&#39;, -3).alias(&#39;s&#39;)).collect()\n",
       "    [Row(s=&#39;b.c.d&#39;)]\n",
       "    \n",
       "    .. versionadded:: 1.5\n",
       "\n",
       "</div>"
      ]
     },
     "metadata": {
      "application/vnd.databricks.v1+output": {
       "addedWidgets": {},
       "arguments": {},
       "data": "<div class=\"ansiout\">Help on function substring_index in module pyspark.sql.functions:\n\nsubstring_index(str, delim, count)\n    Returns the substring from string str before count occurrences of the delimiter delim.\n    If count is positive, everything the left of the final delimiter (counting from left) is\n    returned. If count is negative, every to the right of the final delimiter (counting from the\n    right) is returned. substring_index performs a case-sensitive match when searching for delim.\n    \n    &gt;&gt;&gt; df = spark.createDataFrame([(&#39;a.b.c.d&#39;,)], [&#39;s&#39;])\n    &gt;&gt;&gt; df.select(substring_index(df.s, &#39;.&#39;, 2).alias(&#39;s&#39;)).collect()\n    [Row(s=&#39;a.b&#39;)]\n    &gt;&gt;&gt; df.select(substring_index(df.s, &#39;.&#39;, -3).alias(&#39;s&#39;)).collect()\n    [Row(s=&#39;b.c.d&#39;)]\n    \n    .. versionadded:: 1.5\n\n</div>",
       "datasetInfos": [],
       "metadata": {},
       "removedWidgets": [],
       "type": "html"
      }
     },
     "output_type": "display_data"
    }
   ],
   "source": [
    "help(substring_index)"
   ]
  },
  {
   "cell_type": "code",
   "execution_count": 0,
   "metadata": {
    "application/vnd.databricks.v1+cell": {
     "cellMetadata": {},
     "inputWidgets": {},
     "nuid": "24919808-c7a4-426b-a1a9-059c7090d0e7",
     "showTitle": false,
     "title": ""
    }
   },
   "outputs": [
    {
     "output_type": "display_data",
     "data": {
      "text/html": [
       "<style scoped>\n",
       "  .ansiout {\n",
       "    display: block;\n",
       "    unicode-bidi: embed;\n",
       "    white-space: pre-wrap;\n",
       "    word-wrap: break-word;\n",
       "    word-break: break-all;\n",
       "    font-family: \"Menlo\", \"Monaco\", \"Consolas\", \"Ubuntu Mono\", \"Source Code Pro\", monospace;\n",
       "    font-size: 13px;\n",
       "    color: #555;\n",
       "    margin-left: 4px;\n",
       "    line-height: 19px;\n",
       "  }\n",
       "</style>\n",
       "<div class=\"ansiout\">+---------+------------------------+\n",
       "        s|substring_index(s, ., 2)|\n",
       "+---------+------------------------+\n",
       "  a.b.c.d|                     a.b|\n",
       "p.b.k.e.j|                     p.b|\n",
       "+---------+------------------------+\n",
       "\n",
       "</div>"
      ]
     },
     "metadata": {
      "application/vnd.databricks.v1+output": {
       "addedWidgets": {},
       "arguments": {},
       "data": "<div class=\"ansiout\">+---------+------------------------+\n|        s|substring_index(s, ., 2)|\n+---------+------------------------+\n|  a.b.c.d|                     a.b|\n|p.b.k.e.j|                     p.b|\n+---------+------------------------+\n\n</div>",
       "datasetInfos": [],
       "metadata": {},
       "removedWidgets": [],
       "type": "html"
      }
     },
     "output_type": "display_data"
    }
   ],
   "source": [
    "df24.select(\"*\",substring_index(str = df24['s'], delim = '.', count = 2)).show()"
   ]
  },
  {
   "cell_type": "code",
   "execution_count": 0,
   "metadata": {
    "application/vnd.databricks.v1+cell": {
     "cellMetadata": {},
     "inputWidgets": {},
     "nuid": "fdccefa3-7078-4de1-be99-f029c8499fb1",
     "showTitle": false,
     "title": ""
    }
   },
   "outputs": [
    {
     "output_type": "display_data",
     "data": {
      "text/html": [
       "<style scoped>\n",
       "  .ansiout {\n",
       "    display: block;\n",
       "    unicode-bidi: embed;\n",
       "    white-space: pre-wrap;\n",
       "    word-wrap: break-word;\n",
       "    word-break: break-all;\n",
       "    font-family: \"Menlo\", \"Monaco\", \"Consolas\", \"Ubuntu Mono\", \"Source Code Pro\", monospace;\n",
       "    font-size: 13px;\n",
       "    color: #555;\n",
       "    margin-left: 4px;\n",
       "    line-height: 19px;\n",
       "  }\n",
       "</style>\n",
       "<div class=\"ansiout\">+---------+-------------------------+\n",
       "        s|substring_index(s, ., -3)|\n",
       "+---------+-------------------------+\n",
       "  a.b.c.d|                    b.c.d|\n",
       "p.b.k.e.j|                    k.e.j|\n",
       "+---------+-------------------------+\n",
       "\n",
       "</div>"
      ]
     },
     "metadata": {
      "application/vnd.databricks.v1+output": {
       "addedWidgets": {},
       "arguments": {},
       "data": "<div class=\"ansiout\">+---------+-------------------------+\n|        s|substring_index(s, ., -3)|\n+---------+-------------------------+\n|  a.b.c.d|                    b.c.d|\n|p.b.k.e.j|                    k.e.j|\n+---------+-------------------------+\n\n</div>",
       "datasetInfos": [],
       "metadata": {},
       "removedWidgets": [],
       "type": "html"
      }
     },
     "output_type": "display_data"
    }
   ],
   "source": [
    "df24.select(\"*\",substring_index(str = df24['s'], delim = '.', count = -3)).show()"
   ]
  },
  {
   "cell_type": "code",
   "execution_count": 0,
   "metadata": {
    "application/vnd.databricks.v1+cell": {
     "cellMetadata": {},
     "inputWidgets": {},
     "nuid": "f037d338-d286-4cc9-9a27-51d65a3c92ae",
     "showTitle": false,
     "title": ""
    }
   },
   "outputs": [
    {
     "output_type": "display_data",
     "data": {
      "text/html": [
       "<style scoped>\n",
       "  .ansiout {\n",
       "    display: block;\n",
       "    unicode-bidi: embed;\n",
       "    white-space: pre-wrap;\n",
       "    word-wrap: break-word;\n",
       "    word-break: break-all;\n",
       "    font-family: \"Menlo\", \"Monaco\", \"Consolas\", \"Ubuntu Mono\", \"Source Code Pro\", monospace;\n",
       "    font-size: 13px;\n",
       "    color: #555;\n",
       "    margin-left: 4px;\n",
       "    line-height: 19px;\n",
       "  }\n",
       "</style>\n",
       "<div class=\"ansiout\"></div>"
      ]
     },
     "metadata": {
      "application/vnd.databricks.v1+output": {
       "addedWidgets": {},
       "arguments": {},
       "data": "<div class=\"ansiout\"></div>",
       "datasetInfos": [],
       "metadata": {},
       "removedWidgets": [],
       "type": "html"
      }
     },
     "output_type": "display_data"
    }
   ],
   "source": [
    "# 128. sum\n",
    "from pyspark.sql.functions import sum\n",
    "#Aggregate function: returns the sum of all values in the expression."
   ]
  },
  {
   "cell_type": "code",
   "execution_count": 0,
   "metadata": {
    "application/vnd.databricks.v1+cell": {
     "cellMetadata": {},
     "inputWidgets": {},
     "nuid": "5b5c4b24-5bcd-478b-aa0f-840330648c44",
     "showTitle": false,
     "title": ""
    }
   },
   "outputs": [
    {
     "output_type": "display_data",
     "data": {
      "text/html": [
       "<style scoped>\n",
       "  .ansiout {\n",
       "    display: block;\n",
       "    unicode-bidi: embed;\n",
       "    white-space: pre-wrap;\n",
       "    word-wrap: break-word;\n",
       "    word-break: break-all;\n",
       "    font-family: \"Menlo\", \"Monaco\", \"Consolas\", \"Ubuntu Mono\", \"Source Code Pro\", monospace;\n",
       "    font-size: 13px;\n",
       "    color: #555;\n",
       "    margin-left: 4px;\n",
       "    line-height: 19px;\n",
       "  }\n",
       "</style>\n",
       "<div class=\"ansiout\">+-----------------+\n",
       "  sum(total_bill)|\n",
       "+-----------------+\n",
       "4827.769999999999|\n",
       "+-----------------+\n",
       "\n",
       "</div>"
      ]
     },
     "metadata": {
      "application/vnd.databricks.v1+output": {
       "addedWidgets": {},
       "arguments": {},
       "data": "<div class=\"ansiout\">+-----------------+\n|  sum(total_bill)|\n+-----------------+\n|4827.769999999999|\n+-----------------+\n\n</div>",
       "datasetInfos": [],
       "metadata": {},
       "removedWidgets": [],
       "type": "html"
      }
     },
     "output_type": "display_data"
    }
   ],
   "source": [
    "tipss.select(sum(col = tipss['total_bill'])).show()"
   ]
  },
  {
   "cell_type": "code",
   "execution_count": 0,
   "metadata": {
    "application/vnd.databricks.v1+cell": {
     "cellMetadata": {},
     "inputWidgets": {},
     "nuid": "3df81701-aff2-46d7-82f9-f3c50ffb1854",
     "showTitle": false,
     "title": ""
    }
   },
   "outputs": [
    {
     "output_type": "display_data",
     "data": {
      "text/html": [
       "<style scoped>\n",
       "  .ansiout {\n",
       "    display: block;\n",
       "    unicode-bidi: embed;\n",
       "    white-space: pre-wrap;\n",
       "    word-wrap: break-word;\n",
       "    word-break: break-all;\n",
       "    font-family: \"Menlo\", \"Monaco\", \"Consolas\", \"Ubuntu Mono\", \"Source Code Pro\", monospace;\n",
       "    font-size: 13px;\n",
       "    color: #555;\n",
       "    margin-left: 4px;\n",
       "    line-height: 19px;\n",
       "  }\n",
       "</style>\n",
       "<div class=\"ansiout\">+------+------------------+\n",
       "   sex|          sum(tip)|\n",
       "+------+------------------+\n",
       "Female|            246.51|\n",
       "  Male|485.07000000000005|\n",
       "+------+------------------+\n",
       "\n",
       "</div>"
      ]
     },
     "metadata": {
      "application/vnd.databricks.v1+output": {
       "addedWidgets": {},
       "arguments": {},
       "data": "<div class=\"ansiout\">+------+------------------+\n|   sex|          sum(tip)|\n+------+------------------+\n|Female|            246.51|\n|  Male|485.07000000000005|\n+------+------------------+\n\n</div>",
       "datasetInfos": [],
       "metadata": {},
       "removedWidgets": [],
       "type": "html"
      }
     },
     "output_type": "display_data"
    }
   ],
   "source": [
    "tipss.groupBy('sex').agg(sum(col= tipss['tip'])).show()"
   ]
  },
  {
   "cell_type": "code",
   "execution_count": 0,
   "metadata": {
    "application/vnd.databricks.v1+cell": {
     "cellMetadata": {},
     "inputWidgets": {},
     "nuid": "1ce2809c-75e9-4f43-be83-6d664246a600",
     "showTitle": false,
     "title": ""
    }
   },
   "outputs": [
    {
     "output_type": "display_data",
     "data": {
      "text/html": [
       "<style scoped>\n",
       "  .ansiout {\n",
       "    display: block;\n",
       "    unicode-bidi: embed;\n",
       "    white-space: pre-wrap;\n",
       "    word-wrap: break-word;\n",
       "    word-break: break-all;\n",
       "    font-family: \"Menlo\", \"Monaco\", \"Consolas\", \"Ubuntu Mono\", \"Source Code Pro\", monospace;\n",
       "    font-size: 13px;\n",
       "    color: #555;\n",
       "    margin-left: 4px;\n",
       "    line-height: 19px;\n",
       "  }\n",
       "</style>\n",
       "<div class=\"ansiout\"></div>"
      ]
     },
     "metadata": {
      "application/vnd.databricks.v1+output": {
       "addedWidgets": {},
       "arguments": {},
       "data": "<div class=\"ansiout\"></div>",
       "datasetInfos": [],
       "metadata": {},
       "removedWidgets": [],
       "type": "html"
      }
     },
     "output_type": "display_data"
    }
   ],
   "source": [
    "#129. sumDistinct\n",
    "from pyspark.sql.functions import sumDistinct\n",
    "# Aggregate function: returns the sum of distinct values in the expression."
   ]
  },
  {
   "cell_type": "code",
   "execution_count": 0,
   "metadata": {
    "application/vnd.databricks.v1+cell": {
     "cellMetadata": {},
     "inputWidgets": {},
     "nuid": "aaebcead-0793-4ed4-8806-8741ccc1e4a8",
     "showTitle": false,
     "title": ""
    }
   },
   "outputs": [
    {
     "output_type": "display_data",
     "data": {
      "text/html": [
       "<style scoped>\n",
       "  .ansiout {\n",
       "    display: block;\n",
       "    unicode-bidi: embed;\n",
       "    white-space: pre-wrap;\n",
       "    word-wrap: break-word;\n",
       "    word-break: break-all;\n",
       "    font-family: \"Menlo\", \"Monaco\", \"Consolas\", \"Ubuntu Mono\", \"Source Code Pro\", monospace;\n",
       "    font-size: 13px;\n",
       "    color: #555;\n",
       "    margin-left: 4px;\n",
       "    line-height: 19px;\n",
       "  }\n",
       "</style>\n",
       "<div class=\"ansiout\">+------------------------+\n",
       "sum(DISTINCT total_bill)|\n",
       "+------------------------+\n",
       "       4606.260000000001|\n",
       "+------------------------+\n",
       "\n",
       "</div>"
      ]
     },
     "metadata": {
      "application/vnd.databricks.v1+output": {
       "addedWidgets": {},
       "arguments": {},
       "data": "<div class=\"ansiout\">+------------------------+\n|sum(DISTINCT total_bill)|\n+------------------------+\n|       4606.260000000001|\n+------------------------+\n\n</div>",
       "datasetInfos": [],
       "metadata": {},
       "removedWidgets": [],
       "type": "html"
      }
     },
     "output_type": "display_data"
    }
   ],
   "source": [
    "tipss.select(sumDistinct(col = tipss['total_bill'])).show()"
   ]
  },
  {
   "cell_type": "code",
   "execution_count": 0,
   "metadata": {
    "application/vnd.databricks.v1+cell": {
     "cellMetadata": {},
     "inputWidgets": {},
     "nuid": "3625d249-a881-4722-9d37-87fcc4b7a84c",
     "showTitle": false,
     "title": ""
    }
   },
   "outputs": [
    {
     "output_type": "display_data",
     "data": {
      "text/html": [
       "<style scoped>\n",
       "  .ansiout {\n",
       "    display: block;\n",
       "    unicode-bidi: embed;\n",
       "    white-space: pre-wrap;\n",
       "    word-wrap: break-word;\n",
       "    word-break: break-all;\n",
       "    font-family: \"Menlo\", \"Monaco\", \"Consolas\", \"Ubuntu Mono\", \"Source Code Pro\", monospace;\n",
       "    font-size: 13px;\n",
       "    color: #555;\n",
       "    margin-left: 4px;\n",
       "    line-height: 19px;\n",
       "  }\n",
       "</style>\n",
       "<div class=\"ansiout\">+----+------------------+------------------------+\n",
       " day|   sum(total_bill)|sum(DISTINCT total_bill)|\n",
       "+----+------------------+------------------------+\n",
       "Thur|           1096.33|                 1083.33|\n",
       " Sun|1627.1599999999996|      1627.1599999999996|\n",
       " Sat|1778.3999999999994|      1740.1899999999994|\n",
       " Fri|            325.88|      312.46000000000004|\n",
       "+----+------------------+------------------------+\n",
       "\n",
       "</div>"
      ]
     },
     "metadata": {
      "application/vnd.databricks.v1+output": {
       "addedWidgets": {},
       "arguments": {},
       "data": "<div class=\"ansiout\">+----+------------------+------------------------+\n| day|   sum(total_bill)|sum(DISTINCT total_bill)|\n+----+------------------+------------------------+\n|Thur|           1096.33|                 1083.33|\n| Sun|1627.1599999999996|      1627.1599999999996|\n| Sat|1778.3999999999994|      1740.1899999999994|\n| Fri|            325.88|      312.46000000000004|\n+----+------------------+------------------------+\n\n</div>",
       "datasetInfos": [],
       "metadata": {},
       "removedWidgets": [],
       "type": "html"
      }
     },
     "output_type": "display_data"
    }
   ],
   "source": [
    "g = tipss.groupBy('day').agg(sum(col = tipss['total_bill']),sumDistinct(col = tipss['total_bill'])).show()"
   ]
  },
  {
   "cell_type": "code",
   "execution_count": 0,
   "metadata": {
    "application/vnd.databricks.v1+cell": {
     "cellMetadata": {},
     "inputWidgets": {},
     "nuid": "9896039b-0ec2-46e4-b089-a23ccca88cd0",
     "showTitle": false,
     "title": ""
    }
   },
   "outputs": [
    {
     "output_type": "display_data",
     "data": {
      "text/html": [
       "<style scoped>\n",
       "  .ansiout {\n",
       "    display: block;\n",
       "    unicode-bidi: embed;\n",
       "    white-space: pre-wrap;\n",
       "    word-wrap: break-word;\n",
       "    word-break: break-all;\n",
       "    font-family: \"Menlo\", \"Monaco\", \"Consolas\", \"Ubuntu Mono\", \"Source Code Pro\", monospace;\n",
       "    font-size: 13px;\n",
       "    color: #555;\n",
       "    margin-left: 4px;\n",
       "    line-height: 19px;\n",
       "  }\n",
       "</style>\n",
       "<div class=\"ansiout\"></div>"
      ]
     },
     "metadata": {
      "application/vnd.databricks.v1+output": {
       "addedWidgets": {},
       "arguments": {},
       "data": "<div class=\"ansiout\"></div>",
       "datasetInfos": [],
       "metadata": {},
       "removedWidgets": [],
       "type": "html"
      }
     },
     "output_type": "display_data"
    }
   ],
   "source": [
    "# 130. tan\n",
    "from pyspark.sql.functions import tan\n",
    "#angle in radians. tangent of the given value, as if computed by `java.lang.Math.tan()"
   ]
  },
  {
   "cell_type": "code",
   "execution_count": 0,
   "metadata": {
    "application/vnd.databricks.v1+cell": {
     "cellMetadata": {},
     "inputWidgets": {},
     "nuid": "3fb49227-7f21-49d7-86ca-7a5251efd4a6",
     "showTitle": false,
     "title": ""
    }
   },
   "outputs": [
    {
     "output_type": "display_data",
     "data": {
      "text/html": [
       "<style scoped>\n",
       "  .ansiout {\n",
       "    display: block;\n",
       "    unicode-bidi: embed;\n",
       "    white-space: pre-wrap;\n",
       "    word-wrap: break-word;\n",
       "    word-break: break-all;\n",
       "    font-family: \"Menlo\", \"Monaco\", \"Consolas\", \"Ubuntu Mono\", \"Source Code Pro\", monospace;\n",
       "    font-size: 13px;\n",
       "    color: #555;\n",
       "    margin-left: 4px;\n",
       "    line-height: 19px;\n",
       "  }\n",
       "</style>\n",
       "<div class=\"ansiout\">+--------------------+\n",
       "     TAN(total_bill)|\n",
       "+--------------------+\n",
       "   3.366295853939641|\n",
       "  1.3003264525381457|\n",
       " -1.4946664255820559|\n",
       "   -8.43123274898598|\n",
       " -0.6031619610994152|\n",
       " 0.15856807794383207|\n",
       "  -0.767771136377834|\n",
       "   -5.60798489739533|\n",
       " -0.7889443899614579|\n",
       " -1.3351906823103616|\n",
       "  1.1274227198080733|\n",
       "  0.8465380900206095|\n",
       "  -0.296196027391769|\n",
       " -0.4460400121442732|\n",
       " -1.2046593885510124|\n",
       "-0.43599743312180883|\n",
       "   1.273762496384046|\n",
       "  0.6580833329394133|\n",
       "  3.1351857805532966|\n",
       "  -4.277675312325092|\n",
       "+--------------------+\n",
       "only showing top 20 rows\n",
       "\n",
       "</div>"
      ]
     },
     "metadata": {
      "application/vnd.databricks.v1+output": {
       "addedWidgets": {},
       "arguments": {},
       "data": "<div class=\"ansiout\">+--------------------+\n|     TAN(total_bill)|\n+--------------------+\n|   3.366295853939641|\n|  1.3003264525381457|\n| -1.4946664255820559|\n|   -8.43123274898598|\n| -0.6031619610994152|\n| 0.15856807794383207|\n|  -0.767771136377834|\n|   -5.60798489739533|\n| -0.7889443899614579|\n| -1.3351906823103616|\n|  1.1274227198080733|\n|  0.8465380900206095|\n|  -0.296196027391769|\n| -0.4460400121442732|\n| -1.2046593885510124|\n|-0.43599743312180883|\n|   1.273762496384046|\n|  0.6580833329394133|\n|  3.1351857805532966|\n|  -4.277675312325092|\n+--------------------+\nonly showing top 20 rows\n\n</div>",
       "datasetInfos": [],
       "metadata": {},
       "removedWidgets": [],
       "type": "html"
      }
     },
     "output_type": "display_data"
    }
   ],
   "source": [
    "tipss.select(tan(col = tipss['total_bill'])).show()"
   ]
  },
  {
   "cell_type": "code",
   "execution_count": 0,
   "metadata": {
    "application/vnd.databricks.v1+cell": {
     "cellMetadata": {},
     "inputWidgets": {},
     "nuid": "9b9f4674-7e90-4a05-b51d-b1ad632be7d1",
     "showTitle": false,
     "title": ""
    }
   },
   "outputs": [
    {
     "output_type": "display_data",
     "data": {
      "text/html": [
       "<style scoped>\n",
       "  .ansiout {\n",
       "    display: block;\n",
       "    unicode-bidi: embed;\n",
       "    white-space: pre-wrap;\n",
       "    word-wrap: break-word;\n",
       "    word-break: break-all;\n",
       "    font-family: \"Menlo\", \"Monaco\", \"Consolas\", \"Ubuntu Mono\", \"Source Code Pro\", monospace;\n",
       "    font-size: 13px;\n",
       "    color: #555;\n",
       "    margin-left: 4px;\n",
       "    line-height: 19px;\n",
       "  }\n",
       "</style>\n",
       "<div class=\"ansiout\"></div>"
      ]
     },
     "metadata": {
      "application/vnd.databricks.v1+output": {
       "addedWidgets": {},
       "arguments": {},
       "data": "<div class=\"ansiout\"></div>",
       "datasetInfos": [],
       "metadata": {},
       "removedWidgets": [],
       "type": "html"
      }
     },
     "output_type": "display_data"
    }
   ],
   "source": [
    "# 131. tanh\n",
    "from pyspark.sql.functions import tanh\n",
    "#col – hyperbolic angle. Hyperbolic tangent of the given value, as if computed by java.lang.Math.tanh()"
   ]
  },
  {
   "cell_type": "code",
   "execution_count": 0,
   "metadata": {
    "application/vnd.databricks.v1+cell": {
     "cellMetadata": {},
     "inputWidgets": {},
     "nuid": "3bd3541c-3d4f-4808-8700-45f8a87de6d5",
     "showTitle": false,
     "title": ""
    }
   },
   "outputs": [
    {
     "output_type": "display_data",
     "data": {
      "text/html": [
       "<style scoped>\n",
       "  .ansiout {\n",
       "    display: block;\n",
       "    unicode-bidi: embed;\n",
       "    white-space: pre-wrap;\n",
       "    word-wrap: break-word;\n",
       "    word-break: break-all;\n",
       "    font-family: \"Menlo\", \"Monaco\", \"Consolas\", \"Ubuntu Mono\", \"Source Code Pro\", monospace;\n",
       "    font-size: 13px;\n",
       "    color: #555;\n",
       "    margin-left: 4px;\n",
       "    line-height: 19px;\n",
       "  }\n",
       "</style>\n",
       "<div class=\"ansiout\">+------------------+\n",
       "  TANH(total_bill)|\n",
       "+------------------+\n",
       "0.9999999999999966|\n",
       "0.9999999979115691|\n",
       "               1.0|\n",
       "               1.0|\n",
       "               1.0|\n",
       "               1.0|\n",
       "0.9999999517491718|\n",
       "               1.0|\n",
       "0.9999999999998272|\n",
       "0.9999999999997095|\n",
       "0.9999999975977326|\n",
       "               1.0|\n",
       "0.9999999999999192|\n",
       "0.9999999999999998|\n",
       "0.9999999999997371|\n",
       "               1.0|\n",
       "  0.99999999786938|\n",
       "0.9999999999999858|\n",
       "0.9999999999999963|\n",
       "               1.0|\n",
       "+------------------+\n",
       "only showing top 20 rows\n",
       "\n",
       "</div>"
      ]
     },
     "metadata": {
      "application/vnd.databricks.v1+output": {
       "addedWidgets": {},
       "arguments": {},
       "data": "<div class=\"ansiout\">+------------------+\n|  TANH(total_bill)|\n+------------------+\n|0.9999999999999966|\n|0.9999999979115691|\n|               1.0|\n|               1.0|\n|               1.0|\n|               1.0|\n|0.9999999517491718|\n|               1.0|\n|0.9999999999998272|\n|0.9999999999997095|\n|0.9999999975977326|\n|               1.0|\n|0.9999999999999192|\n|0.9999999999999998|\n|0.9999999999997371|\n|               1.0|\n|  0.99999999786938|\n|0.9999999999999858|\n|0.9999999999999963|\n|               1.0|\n+------------------+\nonly showing top 20 rows\n\n</div>",
       "datasetInfos": [],
       "metadata": {},
       "removedWidgets": [],
       "type": "html"
      }
     },
     "output_type": "display_data"
    }
   ],
   "source": [
    "tipss.select(tanh(col = tipss['total_bill'])).show()"
   ]
  },
  {
   "cell_type": "code",
   "execution_count": 0,
   "metadata": {
    "application/vnd.databricks.v1+cell": {
     "cellMetadata": {},
     "inputWidgets": {},
     "nuid": "aebb755c-73f5-4604-a8bc-870a8851426e",
     "showTitle": false,
     "title": ""
    }
   },
   "outputs": [
    {
     "output_type": "display_data",
     "data": {
      "text/html": [
       "<style scoped>\n",
       "  .ansiout {\n",
       "    display: block;\n",
       "    unicode-bidi: embed;\n",
       "    white-space: pre-wrap;\n",
       "    word-wrap: break-word;\n",
       "    word-break: break-all;\n",
       "    font-family: \"Menlo\", \"Monaco\", \"Consolas\", \"Ubuntu Mono\", \"Source Code Pro\", monospace;\n",
       "    font-size: 13px;\n",
       "    color: #555;\n",
       "    margin-left: 4px;\n",
       "    line-height: 19px;\n",
       "  }\n",
       "</style>\n",
       "<div class=\"ansiout\"></div>"
      ]
     },
     "metadata": {
      "application/vnd.databricks.v1+output": {
       "addedWidgets": {},
       "arguments": {},
       "data": "<div class=\"ansiout\"></div>",
       "datasetInfos": [],
       "metadata": {},
       "removedWidgets": [],
       "type": "html"
      }
     },
     "output_type": "display_data"
    }
   ],
   "source": [
    "# 132. toDegrees \n",
    "from pyspark.sql.functions import toDegrees, degrees\n",
    "#Converts an angle measured in radians to an approximately equivalent angle measured in degrees."
   ]
  },
  {
   "cell_type": "code",
   "execution_count": 0,
   "metadata": {
    "application/vnd.databricks.v1+cell": {
     "cellMetadata": {},
     "inputWidgets": {},
     "nuid": "6959a049-95eb-46c3-afb9-dd8597299e9f",
     "showTitle": false,
     "title": ""
    }
   },
   "outputs": [
    {
     "output_type": "display_data",
     "data": {
      "text/html": [
       "<style scoped>\n",
       "  .ansiout {\n",
       "    display: block;\n",
       "    unicode-bidi: embed;\n",
       "    white-space: pre-wrap;\n",
       "    word-wrap: break-word;\n",
       "    word-break: break-all;\n",
       "    font-family: \"Menlo\", \"Monaco\", \"Consolas\", \"Ubuntu Mono\", \"Source Code Pro\", monospace;\n",
       "    font-size: 13px;\n",
       "    color: #555;\n",
       "    margin-left: 4px;\n",
       "    line-height: 19px;\n",
       "  }\n",
       "</style>\n",
       "<div class=\"ansiout\">+---------------------+\n",
       "Degrees of Total_Bill|\n",
       "+---------------------+\n",
       "   192.87454502312883|\n",
       "     74.5032177196541|\n",
       "   -85.63807796575634|\n",
       "   -483.0740526093797|\n",
       "   -34.55863473383043|\n",
       "    9.085281631683054|\n",
       "   -43.99004574641303|\n",
       "   -321.3138661938584|\n",
       "   -45.20318381531493|\n",
       "   -76.50079094157643|\n",
       "    64.59656357216295|\n",
       "   48.503059755246674|\n",
       "  -16.970782278089686|\n",
       "   -25.55621018983084|\n",
       "   -69.02189871478338|\n",
       "  -24.980812796417013|\n",
       "     72.9812151448536|\n",
       "   37.705397545330975|\n",
       "    179.6329132151326|\n",
       "  -245.09274152353404|\n",
       "+---------------------+\n",
       "only showing top 20 rows\n",
       "\n",
       "</div>"
      ]
     },
     "metadata": {
      "application/vnd.databricks.v1+output": {
       "addedWidgets": {},
       "arguments": {},
       "data": "<div class=\"ansiout\">+---------------------+\n|Degrees of Total_Bill|\n+---------------------+\n|   192.87454502312883|\n|     74.5032177196541|\n|   -85.63807796575634|\n|   -483.0740526093797|\n|   -34.55863473383043|\n|    9.085281631683054|\n|   -43.99004574641303|\n|   -321.3138661938584|\n|   -45.20318381531493|\n|   -76.50079094157643|\n|    64.59656357216295|\n|   48.503059755246674|\n|  -16.970782278089686|\n|   -25.55621018983084|\n|   -69.02189871478338|\n|  -24.980812796417013|\n|     72.9812151448536|\n|   37.705397545330975|\n|    179.6329132151326|\n|  -245.09274152353404|\n+---------------------+\nonly showing top 20 rows\n\n</div>",
       "datasetInfos": [],
       "metadata": {},
       "removedWidgets": [],
       "type": "html"
      }
     },
     "output_type": "display_data"
    }
   ],
   "source": [
    "tipss.select(degrees(col= tan(col = tipss['total_bill'])).alias('Degrees of Total_Bill')).show()"
   ]
  },
  {
   "cell_type": "code",
   "execution_count": 0,
   "metadata": {
    "application/vnd.databricks.v1+cell": {
     "cellMetadata": {},
     "inputWidgets": {},
     "nuid": "d0b31c1f-ad55-4770-a9b1-5f809106a117",
     "showTitle": false,
     "title": ""
    }
   },
   "outputs": [
    {
     "output_type": "display_data",
     "data": {
      "text/html": [
       "<style scoped>\n",
       "  .ansiout {\n",
       "    display: block;\n",
       "    unicode-bidi: embed;\n",
       "    white-space: pre-wrap;\n",
       "    word-wrap: break-word;\n",
       "    word-break: break-all;\n",
       "    font-family: \"Menlo\", \"Monaco\", \"Consolas\", \"Ubuntu Mono\", \"Source Code Pro\", monospace;\n",
       "    font-size: 13px;\n",
       "    color: #555;\n",
       "    margin-left: 4px;\n",
       "    line-height: 19px;\n",
       "  }\n",
       "</style>\n",
       "<div class=\"ansiout\"></div>"
      ]
     },
     "metadata": {
      "application/vnd.databricks.v1+output": {
       "addedWidgets": {},
       "arguments": {},
       "data": "<div class=\"ansiout\"></div>",
       "datasetInfos": [],
       "metadata": {},
       "removedWidgets": [],
       "type": "html"
      }
     },
     "output_type": "display_data"
    }
   ],
   "source": [
    "# 133. radians\n",
    "from pyspark.sql.functions import radians\n",
    "#  Converts an angle measured in degrees to an approximately equivalent angle measured in radians."
   ]
  },
  {
   "cell_type": "code",
   "execution_count": 0,
   "metadata": {
    "application/vnd.databricks.v1+cell": {
     "cellMetadata": {},
     "inputWidgets": {},
     "nuid": "734999a2-8ae5-4052-ae23-8c2bac6f211a",
     "showTitle": false,
     "title": ""
    }
   },
   "outputs": [
    {
     "output_type": "display_data",
     "data": {
      "text/html": [
       "<style scoped>\n",
       "  .ansiout {\n",
       "    display: block;\n",
       "    unicode-bidi: embed;\n",
       "    white-space: pre-wrap;\n",
       "    word-wrap: break-word;\n",
       "    word-break: break-all;\n",
       "    font-family: \"Menlo\", \"Monaco\", \"Consolas\", \"Ubuntu Mono\", \"Source Code Pro\", monospace;\n",
       "    font-size: 13px;\n",
       "    color: #555;\n",
       "    margin-left: 4px;\n",
       "    line-height: 19px;\n",
       "  }\n",
       "</style>\n",
       "<div class=\"ansiout\">+-------------------+\n",
       "RADIANS(total_bill)|\n",
       "+-------------------+\n",
       "0.29653143991383657|\n",
       "0.18046704465621366|\n",
       "0.36669367584400864|\n",
       " 0.4132939668722573|\n",
       " 0.4291764630654056|\n",
       " 0.4413937678293659|\n",
       " 0.1530653753999027|\n",
       "0.46914450293607574|\n",
       "0.26249751949994715|\n",
       " 0.2579596634447619|\n",
       "0.17924531417981762|\n",
       " 0.6154030942532006|\n",
       "0.26912977065752564|\n",
       " 0.3216641811425549|\n",
       "0.25883232807075907|\n",
       "0.37664205258037625|\n",
       "0.18029251173101424|\n",
       "0.28431413514987625|\n",
       "0.29618237406343767|\n",
       "  0.360410490536829|\n",
       "+-------------------+\n",
       "only showing top 20 rows\n",
       "\n",
       "</div>"
      ]
     },
     "metadata": {
      "application/vnd.databricks.v1+output": {
       "addedWidgets": {},
       "arguments": {},
       "data": "<div class=\"ansiout\">+-------------------+\n|RADIANS(total_bill)|\n+-------------------+\n|0.29653143991383657|\n|0.18046704465621366|\n|0.36669367584400864|\n| 0.4132939668722573|\n| 0.4291764630654056|\n| 0.4413937678293659|\n| 0.1530653753999027|\n|0.46914450293607574|\n|0.26249751949994715|\n| 0.2579596634447619|\n|0.17924531417981762|\n| 0.6154030942532006|\n|0.26912977065752564|\n| 0.3216641811425549|\n|0.25883232807075907|\n|0.37664205258037625|\n|0.18029251173101424|\n|0.28431413514987625|\n|0.29618237406343767|\n|  0.360410490536829|\n+-------------------+\nonly showing top 20 rows\n\n</div>",
       "datasetInfos": [],
       "metadata": {},
       "removedWidgets": [],
       "type": "html"
      }
     },
     "output_type": "display_data"
    }
   ],
   "source": [
    "tipss.select(radians (col = tipss['total_bill'])).show()"
   ]
  },
  {
   "cell_type": "code",
   "execution_count": 0,
   "metadata": {
    "application/vnd.databricks.v1+cell": {
     "cellMetadata": {},
     "inputWidgets": {},
     "nuid": "f148ce45-8f4c-4f7a-8342-24fb0a024aed",
     "showTitle": false,
     "title": ""
    }
   },
   "outputs": [
    {
     "output_type": "display_data",
     "data": {
      "text/html": [
       "<style scoped>\n",
       "  .ansiout {\n",
       "    display: block;\n",
       "    unicode-bidi: embed;\n",
       "    white-space: pre-wrap;\n",
       "    word-wrap: break-word;\n",
       "    word-break: break-all;\n",
       "    font-family: \"Menlo\", \"Monaco\", \"Consolas\", \"Ubuntu Mono\", \"Source Code Pro\", monospace;\n",
       "    font-size: 13px;\n",
       "    color: #555;\n",
       "    margin-left: 4px;\n",
       "    line-height: 19px;\n",
       "  }\n",
       "</style>\n",
       "<div class=\"ansiout\">+----------+----+----+------+---+------+----+-------------------+\n",
       "total_bill| tip| sex|smoker|day|  time|size|              Hello|\n",
       "+----------+----+----+------+---+------+----+-------------------+\n",
       "     19.49|3.51|Male|    No|Sun|Dinner|   2|0.49333333333333335|\n",
       "+----------+----+----+------+---+------+----+-------------------+\n",
       "\n",
       "</div>"
      ]
     },
     "metadata": {
      "application/vnd.databricks.v1+output": {
       "addedWidgets": {},
       "arguments": {},
       "data": "<div class=\"ansiout\">+----------+----+----+------+---+------+----+-------------------+\n|total_bill| tip| sex|smoker|day|  time|size|              Hello|\n+----------+----+----+------+---+------+----+-------------------+\n|     19.49|3.51|Male|    No|Sun|Dinner|   2|0.49333333333333335|\n+----------+----+----+------+---+------+----+-------------------+\n\n</div>",
       "datasetInfos": [
        {
         "name": "xdum",
         "schema": {
          "fields": [
           {
            "metadata": {},
            "name": "total_bill",
            "nullable": true,
            "type": "double"
           },
           {
            "metadata": {},
            "name": "tip",
            "nullable": true,
            "type": "double"
           },
           {
            "metadata": {},
            "name": "sex",
            "nullable": true,
            "type": "string"
           },
           {
            "metadata": {},
            "name": "smoker",
            "nullable": true,
            "type": "string"
           },
           {
            "metadata": {},
            "name": "day",
            "nullable": true,
            "type": "string"
           },
           {
            "metadata": {},
            "name": "time",
            "nullable": true,
            "type": "string"
           },
           {
            "metadata": {},
            "name": "size",
            "nullable": true,
            "type": "long"
           },
           {
            "metadata": {},
            "name": "Hello",
            "nullable": true,
            "type": "double"
           }
          ],
          "type": "struct"
         },
         "tableIdentifier": null,
         "typeStr": "pyspark.sql.dataframe.DataFrame"
        },
        {
         "name": "xdum_sun",
         "schema": {
          "fields": [
           {
            "metadata": {},
            "name": "total_bill",
            "nullable": true,
            "type": "double"
           },
           {
            "metadata": {},
            "name": "tip",
            "nullable": true,
            "type": "double"
           },
           {
            "metadata": {},
            "name": "sex",
            "nullable": true,
            "type": "string"
           },
           {
            "metadata": {},
            "name": "smoker",
            "nullable": true,
            "type": "string"
           },
           {
            "metadata": {},
            "name": "day",
            "nullable": true,
            "type": "string"
           },
           {
            "metadata": {},
            "name": "time",
            "nullable": true,
            "type": "string"
           },
           {
            "metadata": {},
            "name": "size",
            "nullable": true,
            "type": "long"
           },
           {
            "metadata": {},
            "name": "Hello",
            "nullable": true,
            "type": "double"
           }
          ],
          "type": "struct"
         },
         "tableIdentifier": null,
         "typeStr": "pyspark.sql.dataframe.DataFrame"
        }
       ],
       "metadata": {},
       "removedWidgets": [],
       "type": "html"
      }
     },
     "output_type": "display_data"
    }
   ],
   "source": [
    "from pyspark.sql.functions import percent_rank\n",
    "xdum = tipss.select(\"*\",percent_rank().over(Window.partitionBy('day').orderBy('total_bill')).alias(\"Hello\"))\n",
    "xdum_sun = xdum.filter((xdum['Hello']<=0.5) & (xdum['day']=='Sun'))\n",
    "xdum_sun.filter(xdum_sun['Hello'] == xdum_sun.select(max(xdum_sun['Hello'])).collect()[0][0]).show()"
   ]
  },
  {
   "cell_type": "code",
   "execution_count": 0,
   "metadata": {
    "application/vnd.databricks.v1+cell": {
     "cellMetadata": {},
     "inputWidgets": {},
     "nuid": "352c4f3e-56f3-44cf-a9a2-2ad3255fd0dc",
     "showTitle": false,
     "title": ""
    }
   },
   "outputs": [
    {
     "output_type": "display_data",
     "data": {
      "text/html": [
       "<style scoped>\n",
       "  .ansiout {\n",
       "    display: block;\n",
       "    unicode-bidi: embed;\n",
       "    white-space: pre-wrap;\n",
       "    word-wrap: break-word;\n",
       "    word-break: break-all;\n",
       "    font-family: \"Menlo\", \"Monaco\", \"Consolas\", \"Ubuntu Mono\", \"Source Code Pro\", monospace;\n",
       "    font-size: 13px;\n",
       "    color: #555;\n",
       "    margin-left: 4px;\n",
       "    line-height: 19px;\n",
       "  }\n",
       "</style>\n",
       "<div class=\"ansiout\"></div>"
      ]
     },
     "metadata": {
      "application/vnd.databricks.v1+output": {
       "addedWidgets": {},
       "arguments": {},
       "data": "<div class=\"ansiout\"></div>",
       "datasetInfos": [],
       "metadata": {},
       "removedWidgets": [],
       "type": "html"
      }
     },
     "output_type": "display_data"
    }
   ],
   "source": [
    "# 134. to_date\n",
    "from pyspark.sql.functions import to_date\n",
    "#Converts a Column of pyspark.sql.types.StringType or pyspark.sql.types.TimestampType into pyspark.sql.types.DateType using the optionally specified format."
   ]
  },
  {
   "cell_type": "code",
   "execution_count": 0,
   "metadata": {
    "application/vnd.databricks.v1+cell": {
     "cellMetadata": {},
     "inputWidgets": {},
     "nuid": "bb1f0b79-5dce-4c83-a30a-e0d69fc3943d",
     "showTitle": false,
     "title": ""
    }
   },
   "outputs": [
    {
     "output_type": "display_data",
     "data": {
      "text/html": [
       "<style scoped>\n",
       "  .ansiout {\n",
       "    display: block;\n",
       "    unicode-bidi: embed;\n",
       "    white-space: pre-wrap;\n",
       "    word-wrap: break-word;\n",
       "    word-break: break-all;\n",
       "    font-family: \"Menlo\", \"Monaco\", \"Consolas\", \"Ubuntu Mono\", \"Source Code Pro\", monospace;\n",
       "    font-size: 13px;\n",
       "    color: #555;\n",
       "    margin-left: 4px;\n",
       "    line-height: 19px;\n",
       "  }\n",
       "</style>\n",
       "<div class=\"ansiout\"></div>"
      ]
     },
     "metadata": {
      "application/vnd.databricks.v1+output": {
       "addedWidgets": {},
       "arguments": {},
       "data": "<div class=\"ansiout\"></div>",
       "datasetInfos": [],
       "metadata": {},
       "removedWidgets": [],
       "type": "html"
      }
     },
     "output_type": "display_data"
    },
    {
     "output_type": "display_data",
     "data": {
      "text/html": [
       "<style scoped>\n",
       "  .ansiout {\n",
       "    display: block;\n",
       "    unicode-bidi: embed;\n",
       "    white-space: pre-wrap;\n",
       "    word-wrap: break-word;\n",
       "    word-break: break-all;\n",
       "    font-family: \"Menlo\", \"Monaco\", \"Consolas\", \"Ubuntu Mono\", \"Source Code Pro\", monospace;\n",
       "    font-size: 13px;\n",
       "    color: #555;\n",
       "    margin-left: 4px;\n",
       "    line-height: 19px;\n",
       "  }\n",
       "</style>\n",
       "<div class=\"ansiout\"><span class=\"ansi-red-fg\">---------------------------------------------------------------------------</span>\n",
       "<span class=\"ansi-red-fg\">Py4JJavaError</span>                             Traceback (most recent call last)\n",
       "<span class=\"ansi-green-fg\">&lt;command-2638208509834818&gt;</span> in <span class=\"ansi-cyan-fg\">&lt;module&gt;</span>\n",
       "<span class=\"ansi-green-fg\">----&gt; 1</span><span class=\"ansi-red-fg\"> </span>df7<span class=\"ansi-blue-fg\">.</span>select<span class=\"ansi-blue-fg\">(</span>to_date<span class=\"ansi-blue-fg\">(</span>col <span class=\"ansi-blue-fg\">=</span> df7<span class=\"ansi-blue-fg\">[</span><span class=\"ansi-blue-fg\">&#39;t&#39;</span><span class=\"ansi-blue-fg\">]</span><span class=\"ansi-blue-fg\">,</span> format <span class=\"ansi-blue-fg\">=</span> <span class=\"ansi-blue-fg\">&#39;yyyy-mm-dd&#39;</span><span class=\"ansi-blue-fg\">)</span><span class=\"ansi-blue-fg\">)</span><span class=\"ansi-blue-fg\">.</span>show<span class=\"ansi-blue-fg\">(</span><span class=\"ansi-blue-fg\">)</span>\n",
       "\n",
       "<span class=\"ansi-green-fg\">/databricks/spark/python/pyspark/sql/dataframe.py</span> in <span class=\"ansi-cyan-fg\">show</span><span class=\"ansi-blue-fg\">(self, n, truncate, vertical)</span>\n",
       "<span class=\"ansi-green-intense-fg ansi-bold\">    439</span>         &#34;&#34;&#34;\n",
       "<span class=\"ansi-green-intense-fg ansi-bold\">    440</span>         <span class=\"ansi-green-fg\">if</span> isinstance<span class=\"ansi-blue-fg\">(</span>truncate<span class=\"ansi-blue-fg\">,</span> bool<span class=\"ansi-blue-fg\">)</span> <span class=\"ansi-green-fg\">and</span> truncate<span class=\"ansi-blue-fg\">:</span>\n",
       "<span class=\"ansi-green-fg\">--&gt; 441</span><span class=\"ansi-red-fg\">             </span>print<span class=\"ansi-blue-fg\">(</span>self<span class=\"ansi-blue-fg\">.</span>_jdf<span class=\"ansi-blue-fg\">.</span>showString<span class=\"ansi-blue-fg\">(</span>n<span class=\"ansi-blue-fg\">,</span> <span class=\"ansi-cyan-fg\">20</span><span class=\"ansi-blue-fg\">,</span> vertical<span class=\"ansi-blue-fg\">)</span><span class=\"ansi-blue-fg\">)</span>\n",
       "<span class=\"ansi-green-intense-fg ansi-bold\">    442</span>         <span class=\"ansi-green-fg\">else</span><span class=\"ansi-blue-fg\">:</span>\n",
       "<span class=\"ansi-green-intense-fg ansi-bold\">    443</span>             print<span class=\"ansi-blue-fg\">(</span>self<span class=\"ansi-blue-fg\">.</span>_jdf<span class=\"ansi-blue-fg\">.</span>showString<span class=\"ansi-blue-fg\">(</span>n<span class=\"ansi-blue-fg\">,</span> int<span class=\"ansi-blue-fg\">(</span>truncate<span class=\"ansi-blue-fg\">)</span><span class=\"ansi-blue-fg\">,</span> vertical<span class=\"ansi-blue-fg\">)</span><span class=\"ansi-blue-fg\">)</span>\n",
       "\n",
       "<span class=\"ansi-green-fg\">/databricks/spark/python/lib/py4j-0.10.9-src.zip/py4j/java_gateway.py</span> in <span class=\"ansi-cyan-fg\">__call__</span><span class=\"ansi-blue-fg\">(self, *args)</span>\n",
       "<span class=\"ansi-green-intense-fg ansi-bold\">   1303</span>         answer <span class=\"ansi-blue-fg\">=</span> self<span class=\"ansi-blue-fg\">.</span>gateway_client<span class=\"ansi-blue-fg\">.</span>send_command<span class=\"ansi-blue-fg\">(</span>command<span class=\"ansi-blue-fg\">)</span>\n",
       "<span class=\"ansi-green-intense-fg ansi-bold\">   1304</span>         return_value = get_return_value(\n",
       "<span class=\"ansi-green-fg\">-&gt; 1305</span><span class=\"ansi-red-fg\">             answer, self.gateway_client, self.target_id, self.name)\n",
       "</span><span class=\"ansi-green-intense-fg ansi-bold\">   1306</span> \n",
       "<span class=\"ansi-green-intense-fg ansi-bold\">   1307</span>         <span class=\"ansi-green-fg\">for</span> temp_arg <span class=\"ansi-green-fg\">in</span> temp_args<span class=\"ansi-blue-fg\">:</span>\n",
       "\n",
       "<span class=\"ansi-green-fg\">/databricks/spark/python/pyspark/sql/utils.py</span> in <span class=\"ansi-cyan-fg\">deco</span><span class=\"ansi-blue-fg\">(*a, **kw)</span>\n",
       "<span class=\"ansi-green-intense-fg ansi-bold\">    125</span>     <span class=\"ansi-green-fg\">def</span> deco<span class=\"ansi-blue-fg\">(</span><span class=\"ansi-blue-fg\">*</span>a<span class=\"ansi-blue-fg\">,</span> <span class=\"ansi-blue-fg\">**</span>kw<span class=\"ansi-blue-fg\">)</span><span class=\"ansi-blue-fg\">:</span>\n",
       "<span class=\"ansi-green-intense-fg ansi-bold\">    126</span>         <span class=\"ansi-green-fg\">try</span><span class=\"ansi-blue-fg\">:</span>\n",
       "<span class=\"ansi-green-fg\">--&gt; 127</span><span class=\"ansi-red-fg\">             </span><span class=\"ansi-green-fg\">return</span> f<span class=\"ansi-blue-fg\">(</span><span class=\"ansi-blue-fg\">*</span>a<span class=\"ansi-blue-fg\">,</span> <span class=\"ansi-blue-fg\">**</span>kw<span class=\"ansi-blue-fg\">)</span>\n",
       "<span class=\"ansi-green-intense-fg ansi-bold\">    128</span>         <span class=\"ansi-green-fg\">except</span> py4j<span class=\"ansi-blue-fg\">.</span>protocol<span class=\"ansi-blue-fg\">.</span>Py4JJavaError <span class=\"ansi-green-fg\">as</span> e<span class=\"ansi-blue-fg\">:</span>\n",
       "<span class=\"ansi-green-intense-fg ansi-bold\">    129</span>             converted <span class=\"ansi-blue-fg\">=</span> convert_exception<span class=\"ansi-blue-fg\">(</span>e<span class=\"ansi-blue-fg\">.</span>java_exception<span class=\"ansi-blue-fg\">)</span>\n",
       "\n",
       "<span class=\"ansi-green-fg\">/databricks/spark/python/lib/py4j-0.10.9-src.zip/py4j/protocol.py</span> in <span class=\"ansi-cyan-fg\">get_return_value</span><span class=\"ansi-blue-fg\">(answer, gateway_client, target_id, name)</span>\n",
       "<span class=\"ansi-green-intense-fg ansi-bold\">    326</span>                 raise Py4JJavaError(\n",
       "<span class=\"ansi-green-intense-fg ansi-bold\">    327</span>                     <span class=\"ansi-blue-fg\">&#34;An error occurred while calling {0}{1}{2}.\\n&#34;</span><span class=\"ansi-blue-fg\">.</span>\n",
       "<span class=\"ansi-green-fg\">--&gt; 328</span><span class=\"ansi-red-fg\">                     format(target_id, &#34;.&#34;, name), value)\n",
       "</span><span class=\"ansi-green-intense-fg ansi-bold\">    329</span>             <span class=\"ansi-green-fg\">else</span><span class=\"ansi-blue-fg\">:</span>\n",
       "<span class=\"ansi-green-intense-fg ansi-bold\">    330</span>                 raise Py4JError(\n",
       "\n",
       "<span class=\"ansi-red-fg\">Py4JJavaError</span>: An error occurred while calling o14224.showString.\n",
       ": org.apache.spark.SparkException: Job aborted due to stage failure: Task 2 in stage 1258.0 failed 1 times, most recent failure: Lost task 2.0 in stage 1258.0 (TID 16442, ip-10-172-236-159.us-west-2.compute.internal, executor driver): org.apache.spark.SparkUpgradeException: You may get a different result due to the upgrading of Spark 3.0: Fail to parse &#39;1997-02-28 05:02:11&#39; in the new parser. You can set spark.sql.legacy.timeParserPolicy to LEGACY to restore the behavior before Spark 3.0, or set to CORRECTED and treat it as an invalid datetime string.\n",
       "\tat org.apache.spark.sql.catalyst.util.DateTimeFormatterHelper$$anonfun$checkParsedDiff$1.applyOrElse(DateTimeFormatterHelper.scala:150)\n",
       "\tat org.apache.spark.sql.catalyst.util.DateTimeFormatterHelper$$anonfun$checkParsedDiff$1.applyOrElse(DateTimeFormatterHelper.scala:141)\n",
       "\tat scala.runtime.AbstractPartialFunction.apply(AbstractPartialFunction.scala:38)\n",
       "\tat org.apache.spark.sql.catalyst.util.Iso8601TimestampFormatter.$anonfun$parse$1(TimestampFormatter.scala:87)\n",
       "\tat scala.runtime.java8.JFunction0$mcJ$sp.apply(JFunction0$mcJ$sp.java:23)\n",
       "\tat scala.Option.getOrElse(Option.scala:189)\n",
       "\tat org.apache.spark.sql.catalyst.util.Iso8601TimestampFormatter.parse(TimestampFormatter.scala:78)\n",
       "\tat org.apache.spark.sql.catalyst.expressions.GeneratedClass$GeneratedIteratorForCodegenStage1.processNext(Unknown Source)\n",
       "\tat org.apache.spark.sql.execution.BufferedRowIterator.hasNext(BufferedRowIterator.java:43)\n",
       "\tat org.apache.spark.sql.execution.WholeStageCodegenExec$$anon$1.hasNext(WholeStageCodegenExec.scala:731)\n",
       "\tat org.apache.spark.sql.execution.collect.UnsafeRowBatchUtils$.encodeUnsafeRows(UnsafeRowBatchUtils.scala:80)\n",
       "\tat org.apache.spark.sql.execution.collect.Collector.$anonfun$processFunc$1(Collector.scala:187)\n",
       "\tat org.apache.spark.scheduler.ResultTask.runTask(ResultTask.scala:90)\n",
       "\tat org.apache.spark.scheduler.Task.doRunTask(Task.scala:144)\n",
       "\tat org.apache.spark.scheduler.Task.run(Task.scala:117)\n",
       "\tat org.apache.spark.executor.Executor$TaskRunner.$anonfun$run$9(Executor.scala:657)\n",
       "\tat org.apache.spark.util.Utils$.tryWithSafeFinally(Utils.scala:1581)\n",
       "\tat org.apache.spark.executor.Executor$TaskRunner.run(Executor.scala:660)\n",
       "\tat java.util.concurrent.ThreadPoolExecutor.runWorker(ThreadPoolExecutor.java:1149)\n",
       "\tat java.util.concurrent.ThreadPoolExecutor$Worker.run(ThreadPoolExecutor.java:624)\n",
       "\tat java.lang.Thread.run(Thread.java:748)\n",
       "Caused by: java.time.format.DateTimeParseException: Text &#39;1997-02-28 05:02:11&#39; could not be parsed, unparsed text found at index 10\n",
       "\tat java.time.format.DateTimeFormatter.parseResolved0(DateTimeFormatter.java:1952)\n",
       "\tat java.time.format.DateTimeFormatter.parse(DateTimeFormatter.java:1777)\n",
       "\tat org.apache.spark.sql.catalyst.util.Iso8601TimestampFormatter.$anonfun$parse$1(TimestampFormatter.scala:79)\n",
       "\t... 17 more\n",
       "\n",
       "Driver stacktrace:\n",
       "\tat org.apache.spark.scheduler.DAGScheduler.failJobAndIndependentStages(DAGScheduler.scala:2478)\n",
       "\tat org.apache.spark.scheduler.DAGScheduler.$anonfun$abortStage$2(DAGScheduler.scala:2427)\n",
       "\tat org.apache.spark.scheduler.DAGScheduler.$anonfun$abortStage$2$adapted(DAGScheduler.scala:2426)\n",
       "\tat scala.collection.mutable.ResizableArray.foreach(ResizableArray.scala:62)\n",
       "\tat scala.collection.mutable.ResizableArray.foreach$(ResizableArray.scala:55)\n",
       "\tat scala.collection.mutable.ArrayBuffer.foreach(ArrayBuffer.scala:49)\n",
       "\tat org.apache.spark.scheduler.DAGScheduler.abortStage(DAGScheduler.scala:2426)\n",
       "\tat org.apache.spark.scheduler.DAGScheduler.$anonfun$handleTaskSetFailed$1(DAGScheduler.scala:1131)\n",
       "\tat org.apache.spark.scheduler.DAGScheduler.$anonfun$handleTaskSetFailed$1$adapted(DAGScheduler.scala:1131)\n",
       "\tat scala.Option.foreach(Option.scala:407)\n",
       "\tat org.apache.spark.scheduler.DAGScheduler.handleTaskSetFailed(DAGScheduler.scala:1131)\n",
       "\tat org.apache.spark.scheduler.DAGSchedulerEventProcessLoop.doOnReceive(DAGScheduler.scala:2678)\n",
       "\tat org.apache.spark.scheduler.DAGSchedulerEventProcessLoop.onReceive(DAGScheduler.scala:2625)\n",
       "\tat org.apache.spark.scheduler.DAGSchedulerEventProcessLoop.onReceive(DAGScheduler.scala:2613)\n",
       "\tat org.apache.spark.util.EventLoop$$anon$1.run(EventLoop.scala:49)\n",
       "\tat org.apache.spark.scheduler.DAGScheduler.runJob(DAGScheduler.scala:917)\n",
       "\tat org.apache.spark.SparkContext.runJob(SparkContext.scala:2313)\n",
       "\tat org.apache.spark.sql.execution.collect.Collector.runSparkJobs(Collector.scala:298)\n",
       "\tat org.apache.spark.sql.execution.collect.Collector.collect(Collector.scala:308)\n",
       "\tat org.apache.spark.sql.execution.collect.Collector$.collect(Collector.scala:82)\n",
       "\tat org.apache.spark.sql.execution.collect.Collector$.collect(Collector.scala:88)\n",
       "\tat org.apache.spark.sql.execution.ResultCacheManager.getOrComputeResult(ResultCacheManager.scala:508)\n",
       "\tat org.apache.spark.sql.execution.CollectLimitExec.executeCollectResult(limit.scala:58)\n",
       "\tat org.apache.spark.sql.Dataset.collectResult(Dataset.scala:2986)\n",
       "\tat org.apache.spark.sql.Dataset.collectFromPlan(Dataset.scala:3692)\n",
       "\tat org.apache.spark.sql.Dataset.$anonfun$head$1(Dataset.scala:2710)\n",
       "\tat org.apache.spark.sql.Dataset.$anonfun$withAction$1(Dataset.scala:3684)\n",
       "\tat org.apache.spark.sql.execution.SQLExecution$.$anonfun$withCustomExecutionEnv$5(SQLExecution.scala:116)\n",
       "\tat org.apache.spark.sql.execution.SQLExecution$.withSQLConfPropagated(SQLExecution.scala:248)\n",
       "\tat org.apache.spark.sql.execution.SQLExecution$.$anonfun$withCustomExecutionEnv$1(SQLExecution.scala:101)\n",
       "\tat org.apache.spark.sql.SparkSession.withActive(SparkSession.scala:835)\n",
       "\tat org.apache.spark.sql.execution.SQLExecution$.withCustomExecutionEnv(SQLExecution.scala:77)\n",
       "\tat org.apache.spark.sql.execution.SQLExecution$.withNewExecutionId(SQLExecution.scala:198)\n",
       "\tat org.apache.spark.sql.Dataset.withAction(Dataset.scala:3682)\n",
       "\tat org.apache.spark.sql.Dataset.head(Dataset.scala:2710)\n",
       "\tat org.apache.spark.sql.Dataset.take(Dataset.scala:2917)\n",
       "\tat org.apache.spark.sql.Dataset.getRows(Dataset.scala:304)\n",
       "\tat org.apache.spark.sql.Dataset.showString(Dataset.scala:341)\n",
       "\tat sun.reflect.GeneratedMethodAccessor238.invoke(Unknown Source)\n",
       "\tat sun.reflect.DelegatingMethodAccessorImpl.invoke(DelegatingMethodAccessorImpl.java:43)\n",
       "\tat java.lang.reflect.Method.invoke(Method.java:498)\n",
       "\tat py4j.reflection.MethodInvoker.invoke(MethodInvoker.java:244)\n",
       "\tat py4j.reflection.ReflectionEngine.invoke(ReflectionEngine.java:380)\n",
       "\tat py4j.Gateway.invoke(Gateway.java:295)\n",
       "\tat py4j.commands.AbstractCommand.invokeMethod(AbstractCommand.java:132)\n",
       "\tat py4j.commands.CallCommand.execute(CallCommand.java:79)\n",
       "\tat py4j.GatewayConnection.run(GatewayConnection.java:251)\n",
       "\tat java.lang.Thread.run(Thread.java:748)\n",
       "Caused by: org.apache.spark.SparkUpgradeException: You may get a different result due to the upgrading of Spark 3.0: Fail to parse &#39;1997-02-28 05:02:11&#39; in the new parser. You can set spark.sql.legacy.timeParserPolicy to LEGACY to restore the behavior before Spark 3.0, or set to CORRECTED and treat it as an invalid datetime string.\n",
       "\tat org.apache.spark.sql.catalyst.util.DateTimeFormatterHelper$$anonfun$checkParsedDiff$1.applyOrElse(DateTimeFormatterHelper.scala:150)\n",
       "\tat org.apache.spark.sql.catalyst.util.DateTimeFormatterHelper$$anonfun$checkParsedDiff$1.applyOrElse(DateTimeFormatterHelper.scala:141)\n",
       "\tat scala.runtime.AbstractPartialFunction.apply(AbstractPartialFunction.scala:38)\n",
       "\tat org.apache.spark.sql.catalyst.util.Iso8601TimestampFormatter.$anonfun$parse$1(TimestampFormatter.scala:87)\n",
       "\tat scala.runtime.java8.JFunction0$mcJ$sp.apply(JFunction0$mcJ$sp.java:23)\n",
       "\tat scala.Option.getOrElse(Option.scala:189)\n",
       "\tat org.apache.spark.sql.catalyst.util.Iso8601TimestampFormatter.parse(TimestampFormatter.scala:78)\n",
       "\tat org.apache.spark.sql.catalyst.expressions.GeneratedClass$GeneratedIteratorForCodegenStage1.processNext(Unknown Source)\n",
       "\tat org.apache.spark.sql.execution.BufferedRowIterator.hasNext(BufferedRowIterator.java:43)\n",
       "\tat org.apache.spark.sql.execution.WholeStageCodegenExec$$anon$1.hasNext(WholeStageCodegenExec.scala:731)\n",
       "\tat org.apache.spark.sql.execution.collect.UnsafeRowBatchUtils$.encodeUnsafeRows(UnsafeRowBatchUtils.scala:80)\n",
       "\tat org.apache.spark.sql.execution.collect.Collector.$anonfun$processFunc$1(Collector.scala:187)\n",
       "\tat org.apache.spark.scheduler.ResultTask.runTask(ResultTask.scala:90)\n",
       "\tat org.apache.spark.scheduler.Task.doRunTask(Task.scala:144)\n",
       "\tat org.apache.spark.scheduler.Task.run(Task.scala:117)\n",
       "\tat org.apache.spark.executor.Executor$TaskRunner.$anonfun$run$9(Executor.scala:657)\n",
       "\tat org.apache.spark.util.Utils$.tryWithSafeFinally(Utils.scala:1581)\n",
       "\tat org.apache.spark.executor.Executor$TaskRunner.run(Executor.scala:660)\n",
       "\tat java.util.concurrent.ThreadPoolExecutor.runWorker(ThreadPoolExecutor.java:1149)\n",
       "\tat java.util.concurrent.ThreadPoolExecutor$Worker.run(ThreadPoolExecutor.java:624)\n",
       "\t... 1 more\n",
       "Caused by: java.time.format.DateTimeParseException: Text &#39;1997-02-28 05:02:11&#39; could not be parsed, unparsed text found at index 10\n",
       "\tat java.time.format.DateTimeFormatter.parseResolved0(DateTimeFormatter.java:1952)\n",
       "\tat java.time.format.DateTimeFormatter.parse(DateTimeFormatter.java:1777)\n",
       "\tat org.apache.spark.sql.catalyst.util.Iso8601TimestampFormatter.$anonfun$parse$1(TimestampFormatter.scala:79)\n",
       "\t... 17 more\n",
       "</div>"
      ]
     },
     "metadata": {
      "application/vnd.databricks.v1+output": {
       "arguments": {},
       "data": "<div class=\"ansiout\"><span class=\"ansi-red-fg\">---------------------------------------------------------------------------</span>\n<span class=\"ansi-red-fg\">Py4JJavaError</span>                             Traceback (most recent call last)\n<span class=\"ansi-green-fg\">&lt;command-2638208509834818&gt;</span> in <span class=\"ansi-cyan-fg\">&lt;module&gt;</span>\n<span class=\"ansi-green-fg\">----&gt; 1</span><span class=\"ansi-red-fg\"> </span>df7<span class=\"ansi-blue-fg\">.</span>select<span class=\"ansi-blue-fg\">(</span>to_date<span class=\"ansi-blue-fg\">(</span>col <span class=\"ansi-blue-fg\">=</span> df7<span class=\"ansi-blue-fg\">[</span><span class=\"ansi-blue-fg\">&#39;t&#39;</span><span class=\"ansi-blue-fg\">]</span><span class=\"ansi-blue-fg\">,</span> format <span class=\"ansi-blue-fg\">=</span> <span class=\"ansi-blue-fg\">&#39;yyyy-mm-dd&#39;</span><span class=\"ansi-blue-fg\">)</span><span class=\"ansi-blue-fg\">)</span><span class=\"ansi-blue-fg\">.</span>show<span class=\"ansi-blue-fg\">(</span><span class=\"ansi-blue-fg\">)</span>\n\n<span class=\"ansi-green-fg\">/databricks/spark/python/pyspark/sql/dataframe.py</span> in <span class=\"ansi-cyan-fg\">show</span><span class=\"ansi-blue-fg\">(self, n, truncate, vertical)</span>\n<span class=\"ansi-green-intense-fg ansi-bold\">    439</span>         &#34;&#34;&#34;\n<span class=\"ansi-green-intense-fg ansi-bold\">    440</span>         <span class=\"ansi-green-fg\">if</span> isinstance<span class=\"ansi-blue-fg\">(</span>truncate<span class=\"ansi-blue-fg\">,</span> bool<span class=\"ansi-blue-fg\">)</span> <span class=\"ansi-green-fg\">and</span> truncate<span class=\"ansi-blue-fg\">:</span>\n<span class=\"ansi-green-fg\">--&gt; 441</span><span class=\"ansi-red-fg\">             </span>print<span class=\"ansi-blue-fg\">(</span>self<span class=\"ansi-blue-fg\">.</span>_jdf<span class=\"ansi-blue-fg\">.</span>showString<span class=\"ansi-blue-fg\">(</span>n<span class=\"ansi-blue-fg\">,</span> <span class=\"ansi-cyan-fg\">20</span><span class=\"ansi-blue-fg\">,</span> vertical<span class=\"ansi-blue-fg\">)</span><span class=\"ansi-blue-fg\">)</span>\n<span class=\"ansi-green-intense-fg ansi-bold\">    442</span>         <span class=\"ansi-green-fg\">else</span><span class=\"ansi-blue-fg\">:</span>\n<span class=\"ansi-green-intense-fg ansi-bold\">    443</span>             print<span class=\"ansi-blue-fg\">(</span>self<span class=\"ansi-blue-fg\">.</span>_jdf<span class=\"ansi-blue-fg\">.</span>showString<span class=\"ansi-blue-fg\">(</span>n<span class=\"ansi-blue-fg\">,</span> int<span class=\"ansi-blue-fg\">(</span>truncate<span class=\"ansi-blue-fg\">)</span><span class=\"ansi-blue-fg\">,</span> vertical<span class=\"ansi-blue-fg\">)</span><span class=\"ansi-blue-fg\">)</span>\n\n<span class=\"ansi-green-fg\">/databricks/spark/python/lib/py4j-0.10.9-src.zip/py4j/java_gateway.py</span> in <span class=\"ansi-cyan-fg\">__call__</span><span class=\"ansi-blue-fg\">(self, *args)</span>\n<span class=\"ansi-green-intense-fg ansi-bold\">   1303</span>         answer <span class=\"ansi-blue-fg\">=</span> self<span class=\"ansi-blue-fg\">.</span>gateway_client<span class=\"ansi-blue-fg\">.</span>send_command<span class=\"ansi-blue-fg\">(</span>command<span class=\"ansi-blue-fg\">)</span>\n<span class=\"ansi-green-intense-fg ansi-bold\">   1304</span>         return_value = get_return_value(\n<span class=\"ansi-green-fg\">-&gt; 1305</span><span class=\"ansi-red-fg\">             answer, self.gateway_client, self.target_id, self.name)\n</span><span class=\"ansi-green-intense-fg ansi-bold\">   1306</span> \n<span class=\"ansi-green-intense-fg ansi-bold\">   1307</span>         <span class=\"ansi-green-fg\">for</span> temp_arg <span class=\"ansi-green-fg\">in</span> temp_args<span class=\"ansi-blue-fg\">:</span>\n\n<span class=\"ansi-green-fg\">/databricks/spark/python/pyspark/sql/utils.py</span> in <span class=\"ansi-cyan-fg\">deco</span><span class=\"ansi-blue-fg\">(*a, **kw)</span>\n<span class=\"ansi-green-intense-fg ansi-bold\">    125</span>     <span class=\"ansi-green-fg\">def</span> deco<span class=\"ansi-blue-fg\">(</span><span class=\"ansi-blue-fg\">*</span>a<span class=\"ansi-blue-fg\">,</span> <span class=\"ansi-blue-fg\">**</span>kw<span class=\"ansi-blue-fg\">)</span><span class=\"ansi-blue-fg\">:</span>\n<span class=\"ansi-green-intense-fg ansi-bold\">    126</span>         <span class=\"ansi-green-fg\">try</span><span class=\"ansi-blue-fg\">:</span>\n<span class=\"ansi-green-fg\">--&gt; 127</span><span class=\"ansi-red-fg\">             </span><span class=\"ansi-green-fg\">return</span> f<span class=\"ansi-blue-fg\">(</span><span class=\"ansi-blue-fg\">*</span>a<span class=\"ansi-blue-fg\">,</span> <span class=\"ansi-blue-fg\">**</span>kw<span class=\"ansi-blue-fg\">)</span>\n<span class=\"ansi-green-intense-fg ansi-bold\">    128</span>         <span class=\"ansi-green-fg\">except</span> py4j<span class=\"ansi-blue-fg\">.</span>protocol<span class=\"ansi-blue-fg\">.</span>Py4JJavaError <span class=\"ansi-green-fg\">as</span> e<span class=\"ansi-blue-fg\">:</span>\n<span class=\"ansi-green-intense-fg ansi-bold\">    129</span>             converted <span class=\"ansi-blue-fg\">=</span> convert_exception<span class=\"ansi-blue-fg\">(</span>e<span class=\"ansi-blue-fg\">.</span>java_exception<span class=\"ansi-blue-fg\">)</span>\n\n<span class=\"ansi-green-fg\">/databricks/spark/python/lib/py4j-0.10.9-src.zip/py4j/protocol.py</span> in <span class=\"ansi-cyan-fg\">get_return_value</span><span class=\"ansi-blue-fg\">(answer, gateway_client, target_id, name)</span>\n<span class=\"ansi-green-intense-fg ansi-bold\">    326</span>                 raise Py4JJavaError(\n<span class=\"ansi-green-intense-fg ansi-bold\">    327</span>                     <span class=\"ansi-blue-fg\">&#34;An error occurred while calling {0}{1}{2}.\\n&#34;</span><span class=\"ansi-blue-fg\">.</span>\n<span class=\"ansi-green-fg\">--&gt; 328</span><span class=\"ansi-red-fg\">                     format(target_id, &#34;.&#34;, name), value)\n</span><span class=\"ansi-green-intense-fg ansi-bold\">    329</span>             <span class=\"ansi-green-fg\">else</span><span class=\"ansi-blue-fg\">:</span>\n<span class=\"ansi-green-intense-fg ansi-bold\">    330</span>                 raise Py4JError(\n\n<span class=\"ansi-red-fg\">Py4JJavaError</span>: An error occurred while calling o14224.showString.\n: org.apache.spark.SparkException: Job aborted due to stage failure: Task 2 in stage 1258.0 failed 1 times, most recent failure: Lost task 2.0 in stage 1258.0 (TID 16442, ip-10-172-236-159.us-west-2.compute.internal, executor driver): org.apache.spark.SparkUpgradeException: You may get a different result due to the upgrading of Spark 3.0: Fail to parse &#39;1997-02-28 05:02:11&#39; in the new parser. You can set spark.sql.legacy.timeParserPolicy to LEGACY to restore the behavior before Spark 3.0, or set to CORRECTED and treat it as an invalid datetime string.\n\tat org.apache.spark.sql.catalyst.util.DateTimeFormatterHelper$$anonfun$checkParsedDiff$1.applyOrElse(DateTimeFormatterHelper.scala:150)\n\tat org.apache.spark.sql.catalyst.util.DateTimeFormatterHelper$$anonfun$checkParsedDiff$1.applyOrElse(DateTimeFormatterHelper.scala:141)\n\tat scala.runtime.AbstractPartialFunction.apply(AbstractPartialFunction.scala:38)\n\tat org.apache.spark.sql.catalyst.util.Iso8601TimestampFormatter.$anonfun$parse$1(TimestampFormatter.scala:87)\n\tat scala.runtime.java8.JFunction0$mcJ$sp.apply(JFunction0$mcJ$sp.java:23)\n\tat scala.Option.getOrElse(Option.scala:189)\n\tat org.apache.spark.sql.catalyst.util.Iso8601TimestampFormatter.parse(TimestampFormatter.scala:78)\n\tat org.apache.spark.sql.catalyst.expressions.GeneratedClass$GeneratedIteratorForCodegenStage1.processNext(Unknown Source)\n\tat org.apache.spark.sql.execution.BufferedRowIterator.hasNext(BufferedRowIterator.java:43)\n\tat org.apache.spark.sql.execution.WholeStageCodegenExec$$anon$1.hasNext(WholeStageCodegenExec.scala:731)\n\tat org.apache.spark.sql.execution.collect.UnsafeRowBatchUtils$.encodeUnsafeRows(UnsafeRowBatchUtils.scala:80)\n\tat org.apache.spark.sql.execution.collect.Collector.$anonfun$processFunc$1(Collector.scala:187)\n\tat org.apache.spark.scheduler.ResultTask.runTask(ResultTask.scala:90)\n\tat org.apache.spark.scheduler.Task.doRunTask(Task.scala:144)\n\tat org.apache.spark.scheduler.Task.run(Task.scala:117)\n\tat org.apache.spark.executor.Executor$TaskRunner.$anonfun$run$9(Executor.scala:657)\n\tat org.apache.spark.util.Utils$.tryWithSafeFinally(Utils.scala:1581)\n\tat org.apache.spark.executor.Executor$TaskRunner.run(Executor.scala:660)\n\tat java.util.concurrent.ThreadPoolExecutor.runWorker(ThreadPoolExecutor.java:1149)\n\tat java.util.concurrent.ThreadPoolExecutor$Worker.run(ThreadPoolExecutor.java:624)\n\tat java.lang.Thread.run(Thread.java:748)\nCaused by: java.time.format.DateTimeParseException: Text &#39;1997-02-28 05:02:11&#39; could not be parsed, unparsed text found at index 10\n\tat java.time.format.DateTimeFormatter.parseResolved0(DateTimeFormatter.java:1952)\n\tat java.time.format.DateTimeFormatter.parse(DateTimeFormatter.java:1777)\n\tat org.apache.spark.sql.catalyst.util.Iso8601TimestampFormatter.$anonfun$parse$1(TimestampFormatter.scala:79)\n\t... 17 more\n\nDriver stacktrace:\n\tat org.apache.spark.scheduler.DAGScheduler.failJobAndIndependentStages(DAGScheduler.scala:2478)\n\tat org.apache.spark.scheduler.DAGScheduler.$anonfun$abortStage$2(DAGScheduler.scala:2427)\n\tat org.apache.spark.scheduler.DAGScheduler.$anonfun$abortStage$2$adapted(DAGScheduler.scala:2426)\n\tat scala.collection.mutable.ResizableArray.foreach(ResizableArray.scala:62)\n\tat scala.collection.mutable.ResizableArray.foreach$(ResizableArray.scala:55)\n\tat scala.collection.mutable.ArrayBuffer.foreach(ArrayBuffer.scala:49)\n\tat org.apache.spark.scheduler.DAGScheduler.abortStage(DAGScheduler.scala:2426)\n\tat org.apache.spark.scheduler.DAGScheduler.$anonfun$handleTaskSetFailed$1(DAGScheduler.scala:1131)\n\tat org.apache.spark.scheduler.DAGScheduler.$anonfun$handleTaskSetFailed$1$adapted(DAGScheduler.scala:1131)\n\tat scala.Option.foreach(Option.scala:407)\n\tat org.apache.spark.scheduler.DAGScheduler.handleTaskSetFailed(DAGScheduler.scala:1131)\n\tat org.apache.spark.scheduler.DAGSchedulerEventProcessLoop.doOnReceive(DAGScheduler.scala:2678)\n\tat org.apache.spark.scheduler.DAGSchedulerEventProcessLoop.onReceive(DAGScheduler.scala:2625)\n\tat org.apache.spark.scheduler.DAGSchedulerEventProcessLoop.onReceive(DAGScheduler.scala:2613)\n\tat org.apache.spark.util.EventLoop$$anon$1.run(EventLoop.scala:49)\n\tat org.apache.spark.scheduler.DAGScheduler.runJob(DAGScheduler.scala:917)\n\tat org.apache.spark.SparkContext.runJob(SparkContext.scala:2313)\n\tat org.apache.spark.sql.execution.collect.Collector.runSparkJobs(Collector.scala:298)\n\tat org.apache.spark.sql.execution.collect.Collector.collect(Collector.scala:308)\n\tat org.apache.spark.sql.execution.collect.Collector$.collect(Collector.scala:82)\n\tat org.apache.spark.sql.execution.collect.Collector$.collect(Collector.scala:88)\n\tat org.apache.spark.sql.execution.ResultCacheManager.getOrComputeResult(ResultCacheManager.scala:508)\n\tat org.apache.spark.sql.execution.CollectLimitExec.executeCollectResult(limit.scala:58)\n\tat org.apache.spark.sql.Dataset.collectResult(Dataset.scala:2986)\n\tat org.apache.spark.sql.Dataset.collectFromPlan(Dataset.scala:3692)\n\tat org.apache.spark.sql.Dataset.$anonfun$head$1(Dataset.scala:2710)\n\tat org.apache.spark.sql.Dataset.$anonfun$withAction$1(Dataset.scala:3684)\n\tat org.apache.spark.sql.execution.SQLExecution$.$anonfun$withCustomExecutionEnv$5(SQLExecution.scala:116)\n\tat org.apache.spark.sql.execution.SQLExecution$.withSQLConfPropagated(SQLExecution.scala:248)\n\tat org.apache.spark.sql.execution.SQLExecution$.$anonfun$withCustomExecutionEnv$1(SQLExecution.scala:101)\n\tat org.apache.spark.sql.SparkSession.withActive(SparkSession.scala:835)\n\tat org.apache.spark.sql.execution.SQLExecution$.withCustomExecutionEnv(SQLExecution.scala:77)\n\tat org.apache.spark.sql.execution.SQLExecution$.withNewExecutionId(SQLExecution.scala:198)\n\tat org.apache.spark.sql.Dataset.withAction(Dataset.scala:3682)\n\tat org.apache.spark.sql.Dataset.head(Dataset.scala:2710)\n\tat org.apache.spark.sql.Dataset.take(Dataset.scala:2917)\n\tat org.apache.spark.sql.Dataset.getRows(Dataset.scala:304)\n\tat org.apache.spark.sql.Dataset.showString(Dataset.scala:341)\n\tat sun.reflect.GeneratedMethodAccessor238.invoke(Unknown Source)\n\tat sun.reflect.DelegatingMethodAccessorImpl.invoke(DelegatingMethodAccessorImpl.java:43)\n\tat java.lang.reflect.Method.invoke(Method.java:498)\n\tat py4j.reflection.MethodInvoker.invoke(MethodInvoker.java:244)\n\tat py4j.reflection.ReflectionEngine.invoke(ReflectionEngine.java:380)\n\tat py4j.Gateway.invoke(Gateway.java:295)\n\tat py4j.commands.AbstractCommand.invokeMethod(AbstractCommand.java:132)\n\tat py4j.commands.CallCommand.execute(CallCommand.java:79)\n\tat py4j.GatewayConnection.run(GatewayConnection.java:251)\n\tat java.lang.Thread.run(Thread.java:748)\nCaused by: org.apache.spark.SparkUpgradeException: You may get a different result due to the upgrading of Spark 3.0: Fail to parse &#39;1997-02-28 05:02:11&#39; in the new parser. You can set spark.sql.legacy.timeParserPolicy to LEGACY to restore the behavior before Spark 3.0, or set to CORRECTED and treat it as an invalid datetime string.\n\tat org.apache.spark.sql.catalyst.util.DateTimeFormatterHelper$$anonfun$checkParsedDiff$1.applyOrElse(DateTimeFormatterHelper.scala:150)\n\tat org.apache.spark.sql.catalyst.util.DateTimeFormatterHelper$$anonfun$checkParsedDiff$1.applyOrElse(DateTimeFormatterHelper.scala:141)\n\tat scala.runtime.AbstractPartialFunction.apply(AbstractPartialFunction.scala:38)\n\tat org.apache.spark.sql.catalyst.util.Iso8601TimestampFormatter.$anonfun$parse$1(TimestampFormatter.scala:87)\n\tat scala.runtime.java8.JFunction0$mcJ$sp.apply(JFunction0$mcJ$sp.java:23)\n\tat scala.Option.getOrElse(Option.scala:189)\n\tat org.apache.spark.sql.catalyst.util.Iso8601TimestampFormatter.parse(TimestampFormatter.scala:78)\n\tat org.apache.spark.sql.catalyst.expressions.GeneratedClass$GeneratedIteratorForCodegenStage1.processNext(Unknown Source)\n\tat org.apache.spark.sql.execution.BufferedRowIterator.hasNext(BufferedRowIterator.java:43)\n\tat org.apache.spark.sql.execution.WholeStageCodegenExec$$anon$1.hasNext(WholeStageCodegenExec.scala:731)\n\tat org.apache.spark.sql.execution.collect.UnsafeRowBatchUtils$.encodeUnsafeRows(UnsafeRowBatchUtils.scala:80)\n\tat org.apache.spark.sql.execution.collect.Collector.$anonfun$processFunc$1(Collector.scala:187)\n\tat org.apache.spark.scheduler.ResultTask.runTask(ResultTask.scala:90)\n\tat org.apache.spark.scheduler.Task.doRunTask(Task.scala:144)\n\tat org.apache.spark.scheduler.Task.run(Task.scala:117)\n\tat org.apache.spark.executor.Executor$TaskRunner.$anonfun$run$9(Executor.scala:657)\n\tat org.apache.spark.util.Utils$.tryWithSafeFinally(Utils.scala:1581)\n\tat org.apache.spark.executor.Executor$TaskRunner.run(Executor.scala:660)\n\tat java.util.concurrent.ThreadPoolExecutor.runWorker(ThreadPoolExecutor.java:1149)\n\tat java.util.concurrent.ThreadPoolExecutor$Worker.run(ThreadPoolExecutor.java:624)\n\t... 1 more\nCaused by: java.time.format.DateTimeParseException: Text &#39;1997-02-28 05:02:11&#39; could not be parsed, unparsed text found at index 10\n\tat java.time.format.DateTimeFormatter.parseResolved0(DateTimeFormatter.java:1952)\n\tat java.time.format.DateTimeFormatter.parse(DateTimeFormatter.java:1777)\n\tat org.apache.spark.sql.catalyst.util.Iso8601TimestampFormatter.$anonfun$parse$1(TimestampFormatter.scala:79)\n\t... 17 more\n</div>",
       "errorSummary": "org.apache.spark.SparkException: Job aborted due to stage failure: Task 2 in stage 1258.0 failed 1 times, most recent failure: Lost task 2.0 in stage 1258.0 (TID 16442, ip-10-172-236-159.us-west-2.compute.internal, executor driver): org.apache.spark.SparkUpgradeException: You may get a different result due to the upgrading of Spark 3.0: Fail to parse &#39;1997-02-28 05:02:11&#39; in the new parser. You can set spark.sql.legacy.timeParserPolicy to LEGACY to restore the behavior before Spark 3.0, or set to CORRECTED and treat it as an invalid datetime string.",
       "errorTraceType": null,
       "metadata": {},
       "type": "ipynbError"
      }
     },
     "output_type": "display_data"
    }
   ],
   "source": [
    "df7.select(to_date(col = df7['t'], format = 'yyyy-mm-dd')).show()"
   ]
  },
  {
   "cell_type": "code",
   "execution_count": 0,
   "metadata": {
    "application/vnd.databricks.v1+cell": {
     "cellMetadata": {},
     "inputWidgets": {},
     "nuid": "c1862cbf-01f3-4641-9609-136d39f0420b",
     "showTitle": false,
     "title": ""
    }
   },
   "outputs": [
    {
     "output_type": "display_data",
     "data": {
      "text/html": [
       "<style scoped>\n",
       "  .ansiout {\n",
       "    display: block;\n",
       "    unicode-bidi: embed;\n",
       "    white-space: pre-wrap;\n",
       "    word-wrap: break-word;\n",
       "    word-break: break-all;\n",
       "    font-family: \"Menlo\", \"Monaco\", \"Consolas\", \"Ubuntu Mono\", \"Source Code Pro\", monospace;\n",
       "    font-size: 13px;\n",
       "    color: #555;\n",
       "    margin-left: 4px;\n",
       "    line-height: 19px;\n",
       "  }\n",
       "</style>\n",
       "<div class=\"ansiout\"></div>"
      ]
     },
     "metadata": {
      "application/vnd.databricks.v1+output": {
       "addedWidgets": {},
       "arguments": {},
       "data": "<div class=\"ansiout\"></div>",
       "datasetInfos": [
        {
         "name": "df25",
         "schema": {
          "fields": [
           {
            "metadata": {},
            "name": "key",
            "nullable": true,
            "type": "long"
           },
           {
            "metadata": {},
            "name": "value",
            "nullable": true,
            "type": {
             "keyType": "string",
             "type": "map",
             "valueContainsNull": true,
             "valueType": "long"
            }
           }
          ],
          "type": "struct"
         },
         "tableIdentifier": null,
         "typeStr": "pyspark.sql.dataframe.DataFrame"
        }
       ],
       "metadata": {},
       "removedWidgets": [],
       "type": "html"
      }
     },
     "output_type": "display_data"
    }
   ],
   "source": [
    "df25 = spark.createDataFrame(data = [(1, {'alice': 2}), \n",
    "                                     (2, {'jon': 3})], \n",
    "                             schema = [\"key\", \"value\"])\n",
    "                                    "
   ]
  },
  {
   "cell_type": "code",
   "execution_count": 0,
   "metadata": {
    "application/vnd.databricks.v1+cell": {
     "cellMetadata": {},
     "inputWidgets": {},
     "nuid": "9190f4ef-2991-470b-83de-7822f699144c",
     "showTitle": false,
     "title": ""
    }
   },
   "outputs": [
    {
     "output_type": "display_data",
     "data": {
      "text/html": [
       "<style scoped>\n",
       "  .ansiout {\n",
       "    display: block;\n",
       "    unicode-bidi: embed;\n",
       "    white-space: pre-wrap;\n",
       "    word-wrap: break-word;\n",
       "    word-break: break-all;\n",
       "    font-family: \"Menlo\", \"Monaco\", \"Consolas\", \"Ubuntu Mono\", \"Source Code Pro\", monospace;\n",
       "    font-size: 13px;\n",
       "    color: #555;\n",
       "    margin-left: 4px;\n",
       "    line-height: 19px;\n",
       "  }\n",
       "</style>\n",
       "<div class=\"ansiout\">+---+------------+\n",
       "key|       value|\n",
       "+---+------------+\n",
       "  1|[alice -&gt; 2]|\n",
       "  2|  [jon -&gt; 3]|\n",
       "+---+------------+\n",
       "\n",
       "</div>"
      ]
     },
     "metadata": {
      "application/vnd.databricks.v1+output": {
       "addedWidgets": {},
       "arguments": {},
       "data": "<div class=\"ansiout\">+---+------------+\n|key|       value|\n+---+------------+\n|  1|[alice -&gt; 2]|\n|  2|  [jon -&gt; 3]|\n+---+------------+\n\n</div>",
       "datasetInfos": [],
       "metadata": {},
       "removedWidgets": [],
       "type": "html"
      }
     },
     "output_type": "display_data"
    }
   ],
   "source": [
    "df25.show()"
   ]
  },
  {
   "cell_type": "code",
   "execution_count": 0,
   "metadata": {
    "application/vnd.databricks.v1+cell": {
     "cellMetadata": {},
     "inputWidgets": {},
     "nuid": "b866b2e8-c7e3-4f0e-aa0a-6443fb730456",
     "showTitle": false,
     "title": ""
    }
   },
   "outputs": [
    {
     "output_type": "display_data",
     "data": {
      "text/html": [
       "<style scoped>\n",
       "  .ansiout {\n",
       "    display: block;\n",
       "    unicode-bidi: embed;\n",
       "    white-space: pre-wrap;\n",
       "    word-wrap: break-word;\n",
       "    word-break: break-all;\n",
       "    font-family: \"Menlo\", \"Monaco\", \"Consolas\", \"Ubuntu Mono\", \"Source Code Pro\", monospace;\n",
       "    font-size: 13px;\n",
       "    color: #555;\n",
       "    margin-left: 4px;\n",
       "    line-height: 19px;\n",
       "  }\n",
       "</style>\n",
       "<div class=\"ansiout\"></div>"
      ]
     },
     "metadata": {
      "application/vnd.databricks.v1+output": {
       "addedWidgets": {},
       "arguments": {},
       "data": "<div class=\"ansiout\"></div>",
       "datasetInfos": [],
       "metadata": {},
       "removedWidgets": [],
       "type": "html"
      }
     },
     "output_type": "display_data"
    }
   ],
   "source": [
    "# 135. to_json\n",
    "from pyspark.sql.functions import to_json\n",
    "# Converts a column containing a :class:`StructType`, :class:`ArrayType` or a :class:`MapType` into a JSON string."
   ]
  },
  {
   "cell_type": "code",
   "execution_count": 0,
   "metadata": {
    "application/vnd.databricks.v1+cell": {
     "cellMetadata": {},
     "inputWidgets": {},
     "nuid": "e86612ac-b756-4f9f-94b6-1c0d8370730e",
     "showTitle": false,
     "title": ""
    }
   },
   "outputs": [
    {
     "output_type": "display_data",
     "data": {
      "text/html": [
       "<style scoped>\n",
       "  .ansiout {\n",
       "    display: block;\n",
       "    unicode-bidi: embed;\n",
       "    white-space: pre-wrap;\n",
       "    word-wrap: break-word;\n",
       "    word-break: break-all;\n",
       "    font-family: \"Menlo\", \"Monaco\", \"Consolas\", \"Ubuntu Mono\", \"Source Code Pro\", monospace;\n",
       "    font-size: 13px;\n",
       "    color: #555;\n",
       "    margin-left: 4px;\n",
       "    line-height: 19px;\n",
       "  }\n",
       "</style>\n",
       "<div class=\"ansiout\">Help on function to_json in module pyspark.sql.functions:\n",
       "\n",
       "to_json(col, options={})\n",
       "    Converts a column containing a :class:`StructType`, :class:`ArrayType` or a :class:`MapType`\n",
       "    into a JSON string. Throws an exception, in the case of an unsupported type.\n",
       "    \n",
       "    :param col: name of column containing a struct, an array or a map.\n",
       "    :param options: options to control converting. accepts the same options as the JSON datasource.\n",
       "                    Additionally the function supports the `pretty` option which enables\n",
       "                    pretty JSON generation.\n",
       "    \n",
       "    &gt;&gt;&gt; from pyspark.sql import Row\n",
       "    &gt;&gt;&gt; from pyspark.sql.types import *\n",
       "    &gt;&gt;&gt; data = [(1, Row(name=&#39;Alice&#39;, age=2))]\n",
       "    &gt;&gt;&gt; df = spark.createDataFrame(data, (&#34;key&#34;, &#34;value&#34;))\n",
       "    &gt;&gt;&gt; df.select(to_json(df.value).alias(&#34;json&#34;)).collect()\n",
       "    [Row(json=&#39;{&#34;age&#34;:2,&#34;name&#34;:&#34;Alice&#34;}&#39;)]\n",
       "    &gt;&gt;&gt; data = [(1, [Row(name=&#39;Alice&#39;, age=2), Row(name=&#39;Bob&#39;, age=3)])]\n",
       "    &gt;&gt;&gt; df = spark.createDataFrame(data, (&#34;key&#34;, &#34;value&#34;))\n",
       "    &gt;&gt;&gt; df.select(to_json(df.value).alias(&#34;json&#34;)).collect()\n",
       "    [Row(json=&#39;[{&#34;age&#34;:2,&#34;name&#34;:&#34;Alice&#34;},{&#34;age&#34;:3,&#34;name&#34;:&#34;Bob&#34;}]&#39;)]\n",
       "    &gt;&gt;&gt; data = [(1, {&#34;name&#34;: &#34;Alice&#34;})]\n",
       "    &gt;&gt;&gt; df = spark.createDataFrame(data, (&#34;key&#34;, &#34;value&#34;))\n",
       "    &gt;&gt;&gt; df.select(to_json(df.value).alias(&#34;json&#34;)).collect()\n",
       "    [Row(json=&#39;{&#34;name&#34;:&#34;Alice&#34;}&#39;)]\n",
       "    &gt;&gt;&gt; data = [(1, [{&#34;name&#34;: &#34;Alice&#34;}, {&#34;name&#34;: &#34;Bob&#34;}])]\n",
       "    &gt;&gt;&gt; df = spark.createDataFrame(data, (&#34;key&#34;, &#34;value&#34;))\n",
       "    &gt;&gt;&gt; df.select(to_json(df.value).alias(&#34;json&#34;)).collect()\n",
       "    [Row(json=&#39;[{&#34;name&#34;:&#34;Alice&#34;},{&#34;name&#34;:&#34;Bob&#34;}]&#39;)]\n",
       "    &gt;&gt;&gt; data = [(1, [&#34;Alice&#34;, &#34;Bob&#34;])]\n",
       "    &gt;&gt;&gt; df = spark.createDataFrame(data, (&#34;key&#34;, &#34;value&#34;))\n",
       "    &gt;&gt;&gt; df.select(to_json(df.value).alias(&#34;json&#34;)).collect()\n",
       "    [Row(json=&#39;[&#34;Alice&#34;,&#34;Bob&#34;]&#39;)]\n",
       "    \n",
       "    .. versionadded:: 2.1\n",
       "\n",
       "</div>"
      ]
     },
     "metadata": {
      "application/vnd.databricks.v1+output": {
       "addedWidgets": {},
       "arguments": {},
       "data": "<div class=\"ansiout\">Help on function to_json in module pyspark.sql.functions:\n\nto_json(col, options={})\n    Converts a column containing a :class:`StructType`, :class:`ArrayType` or a :class:`MapType`\n    into a JSON string. Throws an exception, in the case of an unsupported type.\n    \n    :param col: name of column containing a struct, an array or a map.\n    :param options: options to control converting. accepts the same options as the JSON datasource.\n                    Additionally the function supports the `pretty` option which enables\n                    pretty JSON generation.\n    \n    &gt;&gt;&gt; from pyspark.sql import Row\n    &gt;&gt;&gt; from pyspark.sql.types import *\n    &gt;&gt;&gt; data = [(1, Row(name=&#39;Alice&#39;, age=2))]\n    &gt;&gt;&gt; df = spark.createDataFrame(data, (&#34;key&#34;, &#34;value&#34;))\n    &gt;&gt;&gt; df.select(to_json(df.value).alias(&#34;json&#34;)).collect()\n    [Row(json=&#39;{&#34;age&#34;:2,&#34;name&#34;:&#34;Alice&#34;}&#39;)]\n    &gt;&gt;&gt; data = [(1, [Row(name=&#39;Alice&#39;, age=2), Row(name=&#39;Bob&#39;, age=3)])]\n    &gt;&gt;&gt; df = spark.createDataFrame(data, (&#34;key&#34;, &#34;value&#34;))\n    &gt;&gt;&gt; df.select(to_json(df.value).alias(&#34;json&#34;)).collect()\n    [Row(json=&#39;[{&#34;age&#34;:2,&#34;name&#34;:&#34;Alice&#34;},{&#34;age&#34;:3,&#34;name&#34;:&#34;Bob&#34;}]&#39;)]\n    &gt;&gt;&gt; data = [(1, {&#34;name&#34;: &#34;Alice&#34;})]\n    &gt;&gt;&gt; df = spark.createDataFrame(data, (&#34;key&#34;, &#34;value&#34;))\n    &gt;&gt;&gt; df.select(to_json(df.value).alias(&#34;json&#34;)).collect()\n    [Row(json=&#39;{&#34;name&#34;:&#34;Alice&#34;}&#39;)]\n    &gt;&gt;&gt; data = [(1, [{&#34;name&#34;: &#34;Alice&#34;}, {&#34;name&#34;: &#34;Bob&#34;}])]\n    &gt;&gt;&gt; df = spark.createDataFrame(data, (&#34;key&#34;, &#34;value&#34;))\n    &gt;&gt;&gt; df.select(to_json(df.value).alias(&#34;json&#34;)).collect()\n    [Row(json=&#39;[{&#34;name&#34;:&#34;Alice&#34;},{&#34;name&#34;:&#34;Bob&#34;}]&#39;)]\n    &gt;&gt;&gt; data = [(1, [&#34;Alice&#34;, &#34;Bob&#34;])]\n    &gt;&gt;&gt; df = spark.createDataFrame(data, (&#34;key&#34;, &#34;value&#34;))\n    &gt;&gt;&gt; df.select(to_json(df.value).alias(&#34;json&#34;)).collect()\n    [Row(json=&#39;[&#34;Alice&#34;,&#34;Bob&#34;]&#39;)]\n    \n    .. versionadded:: 2.1\n\n</div>",
       "datasetInfos": [],
       "metadata": {},
       "removedWidgets": [],
       "type": "html"
      }
     },
     "output_type": "display_data"
    }
   ],
   "source": [
    "help(to_json)"
   ]
  },
  {
   "cell_type": "code",
   "execution_count": 0,
   "metadata": {
    "application/vnd.databricks.v1+cell": {
     "cellMetadata": {},
     "inputWidgets": {},
     "nuid": "dd3c79e4-5288-428b-aa5f-a45eb4b128ac",
     "showTitle": false,
     "title": ""
    }
   },
   "outputs": [
    {
     "output_type": "display_data",
     "data": {
      "text/html": [
       "<style scoped>\n",
       "  .ansiout {\n",
       "    display: block;\n",
       "    unicode-bidi: embed;\n",
       "    white-space: pre-wrap;\n",
       "    word-wrap: break-word;\n",
       "    word-break: break-all;\n",
       "    font-family: \"Menlo\", \"Monaco\", \"Consolas\", \"Ubuntu Mono\", \"Source Code Pro\", monospace;\n",
       "    font-size: 13px;\n",
       "    color: #555;\n",
       "    margin-left: 4px;\n",
       "    line-height: 19px;\n",
       "  }\n",
       "</style>\n",
       "<div class=\"ansiout\">+--------------+\n",
       "to_json(value)|\n",
       "+--------------+\n",
       "   {&#34;alice&#34;:2}|\n",
       "     {&#34;jon&#34;:3}|\n",
       "+--------------+\n",
       "\n",
       "</div>"
      ]
     },
     "metadata": {
      "application/vnd.databricks.v1+output": {
       "addedWidgets": {},
       "arguments": {},
       "data": "<div class=\"ansiout\">+--------------+\n|to_json(value)|\n+--------------+\n|   {&#34;alice&#34;:2}|\n|     {&#34;jon&#34;:3}|\n+--------------+\n\n</div>",
       "datasetInfos": [],
       "metadata": {},
       "removedWidgets": [],
       "type": "html"
      }
     },
     "output_type": "display_data"
    }
   ],
   "source": [
    "df25.select(to_json(col = df25['value'])).show()"
   ]
  },
  {
   "cell_type": "code",
   "execution_count": 0,
   "metadata": {
    "application/vnd.databricks.v1+cell": {
     "cellMetadata": {},
     "inputWidgets": {},
     "nuid": "028ad1b1-112d-4a2f-ba7a-0d6f54f8fa8f",
     "showTitle": false,
     "title": ""
    }
   },
   "outputs": [
    {
     "output_type": "display_data",
     "data": {
      "text/html": [
       "<style scoped>\n",
       "  .ansiout {\n",
       "    display: block;\n",
       "    unicode-bidi: embed;\n",
       "    white-space: pre-wrap;\n",
       "    word-wrap: break-word;\n",
       "    word-break: break-all;\n",
       "    font-family: \"Menlo\", \"Monaco\", \"Consolas\", \"Ubuntu Mono\", \"Source Code Pro\", monospace;\n",
       "    font-size: 13px;\n",
       "    color: #555;\n",
       "    margin-left: 4px;\n",
       "    line-height: 19px;\n",
       "  }\n",
       "</style>\n",
       "<div class=\"ansiout\"></div>"
      ]
     },
     "metadata": {
      "application/vnd.databricks.v1+output": {
       "addedWidgets": {},
       "arguments": {},
       "data": "<div class=\"ansiout\"></div>",
       "datasetInfos": [],
       "metadata": {},
       "removedWidgets": [],
       "type": "html"
      }
     },
     "output_type": "display_data"
    }
   ],
   "source": [
    "# 136. to_timestamp\n",
    "from pyspark.sql.functions import to_timestamp"
   ]
  },
  {
   "cell_type": "code",
   "execution_count": 0,
   "metadata": {
    "application/vnd.databricks.v1+cell": {
     "cellMetadata": {},
     "inputWidgets": {},
     "nuid": "80ac454d-6840-4ffc-a96a-cab1dbe94dbf",
     "showTitle": false,
     "title": ""
    }
   },
   "outputs": [
    {
     "output_type": "display_data",
     "data": {
      "text/html": [
       "<style scoped>\n",
       "  .ansiout {\n",
       "    display: block;\n",
       "    unicode-bidi: embed;\n",
       "    white-space: pre-wrap;\n",
       "    word-wrap: break-word;\n",
       "    word-break: break-all;\n",
       "    font-family: \"Menlo\", \"Monaco\", \"Consolas\", \"Ubuntu Mono\", \"Source Code Pro\", monospace;\n",
       "    font-size: 13px;\n",
       "    color: #555;\n",
       "    margin-left: 4px;\n",
       "    line-height: 19px;\n",
       "  }\n",
       "</style>\n",
       "<div class=\"ansiout\">Help on function to_timestamp in module pyspark.sql.functions:\n",
       "\n",
       "to_timestamp(col, format=None)\n",
       "    Converts a :class:`Column` into :class:`pyspark.sql.types.TimestampType`\n",
       "    using the optionally specified format. Specify formats according to `datetime pattern`_.\n",
       "    By default, it follows casting rules to :class:`pyspark.sql.types.TimestampType` if the format\n",
       "    is omitted. Equivalent to ``col.cast(&#34;timestamp&#34;)``.\n",
       "    \n",
       "    &gt;&gt;&gt; df = spark.createDataFrame([(&#39;1997-02-28 10:30:00&#39;,)], [&#39;t&#39;])\n",
       "    &gt;&gt;&gt; df.select(to_timestamp(df.t).alias(&#39;dt&#39;)).collect()\n",
       "    [Row(dt=datetime.datetime(1997, 2, 28, 10, 30))]\n",
       "    \n",
       "    &gt;&gt;&gt; df = spark.createDataFrame([(&#39;1997-02-28 10:30:00&#39;,)], [&#39;t&#39;])\n",
       "    &gt;&gt;&gt; df.select(to_timestamp(df.t, &#39;yyyy-MM-dd HH:mm:ss&#39;).alias(&#39;dt&#39;)).collect()\n",
       "    [Row(dt=datetime.datetime(1997, 2, 28, 10, 30))]\n",
       "    \n",
       "    .. versionadded:: 2.2\n",
       "\n",
       "</div>"
      ]
     },
     "metadata": {
      "application/vnd.databricks.v1+output": {
       "addedWidgets": {},
       "arguments": {},
       "data": "<div class=\"ansiout\">Help on function to_timestamp in module pyspark.sql.functions:\n\nto_timestamp(col, format=None)\n    Converts a :class:`Column` into :class:`pyspark.sql.types.TimestampType`\n    using the optionally specified format. Specify formats according to `datetime pattern`_.\n    By default, it follows casting rules to :class:`pyspark.sql.types.TimestampType` if the format\n    is omitted. Equivalent to ``col.cast(&#34;timestamp&#34;)``.\n    \n    &gt;&gt;&gt; df = spark.createDataFrame([(&#39;1997-02-28 10:30:00&#39;,)], [&#39;t&#39;])\n    &gt;&gt;&gt; df.select(to_timestamp(df.t).alias(&#39;dt&#39;)).collect()\n    [Row(dt=datetime.datetime(1997, 2, 28, 10, 30))]\n    \n    &gt;&gt;&gt; df = spark.createDataFrame([(&#39;1997-02-28 10:30:00&#39;,)], [&#39;t&#39;])\n    &gt;&gt;&gt; df.select(to_timestamp(df.t, &#39;yyyy-MM-dd HH:mm:ss&#39;).alias(&#39;dt&#39;)).collect()\n    [Row(dt=datetime.datetime(1997, 2, 28, 10, 30))]\n    \n    .. versionadded:: 2.2\n\n</div>",
       "datasetInfos": [],
       "metadata": {},
       "removedWidgets": [],
       "type": "html"
      }
     },
     "output_type": "display_data"
    }
   ],
   "source": [
    "help(to_timestamp)"
   ]
  },
  {
   "cell_type": "code",
   "execution_count": 0,
   "metadata": {
    "application/vnd.databricks.v1+cell": {
     "cellMetadata": {},
     "inputWidgets": {},
     "nuid": "77225a10-2042-4832-b8c1-5a35b1a51c73",
     "showTitle": false,
     "title": ""
    }
   },
   "outputs": [
    {
     "output_type": "display_data",
     "data": {
      "text/html": [
       "<style scoped>\n",
       "  .ansiout {\n",
       "    display: block;\n",
       "    unicode-bidi: embed;\n",
       "    white-space: pre-wrap;\n",
       "    word-wrap: break-word;\n",
       "    word-break: break-all;\n",
       "    font-family: \"Menlo\", \"Monaco\", \"Consolas\", \"Ubuntu Mono\", \"Source Code Pro\", monospace;\n",
       "    font-size: 13px;\n",
       "    color: #555;\n",
       "    margin-left: 4px;\n",
       "    line-height: 19px;\n",
       "  }\n",
       "</style>\n",
       "<div class=\"ansiout\">+-------------------+\n",
       "                  t|\n",
       "+-------------------+\n",
       "1997-02-28 05:02:11|\n",
       "+-------------------+\n",
       "\n",
       "</div>"
      ]
     },
     "metadata": {
      "application/vnd.databricks.v1+output": {
       "addedWidgets": {},
       "arguments": {},
       "data": "<div class=\"ansiout\">+-------------------+\n|                  t|\n+-------------------+\n|1997-02-28 05:02:11|\n+-------------------+\n\n</div>",
       "datasetInfos": [],
       "metadata": {},
       "removedWidgets": [],
       "type": "html"
      }
     },
     "output_type": "display_data"
    }
   ],
   "source": [
    "df7.show()"
   ]
  },
  {
   "cell_type": "code",
   "execution_count": 0,
   "metadata": {
    "application/vnd.databricks.v1+cell": {
     "cellMetadata": {},
     "inputWidgets": {},
     "nuid": "f5ecdbb6-ddb1-4ef2-a958-b95d7a67667d",
     "showTitle": false,
     "title": ""
    }
   },
   "outputs": [
    {
     "output_type": "display_data",
     "data": {
      "text/html": [
       "<style scoped>\n",
       "  .ansiout {\n",
       "    display: block;\n",
       "    unicode-bidi: embed;\n",
       "    white-space: pre-wrap;\n",
       "    word-wrap: break-word;\n",
       "    word-break: break-all;\n",
       "    font-family: \"Menlo\", \"Monaco\", \"Consolas\", \"Ubuntu Mono\", \"Source Code Pro\", monospace;\n",
       "    font-size: 13px;\n",
       "    color: #555;\n",
       "    margin-left: 4px;\n",
       "    line-height: 19px;\n",
       "  }\n",
       "</style>\n",
       "<div class=\"ansiout\">+-------------------+\n",
       "  to_timestamp(`t`)|\n",
       "+-------------------+\n",
       "1997-02-28 05:02:11|\n",
       "+-------------------+\n",
       "\n",
       "</div>"
      ]
     },
     "metadata": {
      "application/vnd.databricks.v1+output": {
       "addedWidgets": {},
       "arguments": {},
       "data": "<div class=\"ansiout\">+-------------------+\n|  to_timestamp(`t`)|\n+-------------------+\n|1997-02-28 05:02:11|\n+-------------------+\n\n</div>",
       "datasetInfos": [],
       "metadata": {},
       "removedWidgets": [],
       "type": "html"
      }
     },
     "output_type": "display_data"
    }
   ],
   "source": [
    "df7.select(to_timestamp(df7['t'])).show()"
   ]
  },
  {
   "cell_type": "code",
   "execution_count": 0,
   "metadata": {
    "application/vnd.databricks.v1+cell": {
     "cellMetadata": {},
     "inputWidgets": {},
     "nuid": "57f531c4-9de8-431e-a698-b7371adfe9a1",
     "showTitle": false,
     "title": ""
    }
   },
   "outputs": [
    {
     "output_type": "display_data",
     "data": {
      "text/html": [
       "<style scoped>\n",
       "  .ansiout {\n",
       "    display: block;\n",
       "    unicode-bidi: embed;\n",
       "    white-space: pre-wrap;\n",
       "    word-wrap: break-word;\n",
       "    word-break: break-all;\n",
       "    font-family: \"Menlo\", \"Monaco\", \"Consolas\", \"Ubuntu Mono\", \"Source Code Pro\", monospace;\n",
       "    font-size: 13px;\n",
       "    color: #555;\n",
       "    margin-left: 4px;\n",
       "    line-height: 19px;\n",
       "  }\n",
       "</style>\n",
       "<div class=\"ansiout\"></div>"
      ]
     },
     "metadata": {
      "application/vnd.databricks.v1+output": {
       "addedWidgets": {},
       "arguments": {},
       "data": "<div class=\"ansiout\"></div>",
       "datasetInfos": [],
       "metadata": {},
       "removedWidgets": [],
       "type": "html"
      }
     },
     "output_type": "display_data"
    }
   ],
   "source": [
    "#137. to_utc_timestamp\n",
    "from pyspark.sql.functions import to_utc_timestamp\n",
    "#This function takes a timestamp which is timezone-agnostic, and interprets it as a timestamp in the given timezone, and renders that timestamp as a timestamp in UTC."
   ]
  },
  {
   "cell_type": "code",
   "execution_count": 0,
   "metadata": {
    "application/vnd.databricks.v1+cell": {
     "cellMetadata": {},
     "inputWidgets": {},
     "nuid": "4dc45969-9157-4e84-a3bf-38d9f78f68ca",
     "showTitle": false,
     "title": ""
    }
   },
   "outputs": [
    {
     "output_type": "display_data",
     "data": {
      "text/html": [
       "<style scoped>\n",
       "  .ansiout {\n",
       "    display: block;\n",
       "    unicode-bidi: embed;\n",
       "    white-space: pre-wrap;\n",
       "    word-wrap: break-word;\n",
       "    word-break: break-all;\n",
       "    font-family: \"Menlo\", \"Monaco\", \"Consolas\", \"Ubuntu Mono\", \"Source Code Pro\", monospace;\n",
       "    font-size: 13px;\n",
       "    color: #555;\n",
       "    margin-left: 4px;\n",
       "    line-height: 19px;\n",
       "  }\n",
       "</style>\n",
       "<div class=\"ansiout\">+------------------------+\n",
       "to_timestamp(`t`, &#39;IST&#39;)|\n",
       "+------------------------+\n",
       "                    null|\n",
       "+------------------------+\n",
       "\n",
       "</div>"
      ]
     },
     "metadata": {
      "application/vnd.databricks.v1+output": {
       "addedWidgets": {},
       "arguments": {},
       "data": "<div class=\"ansiout\">+------------------------+\n|to_timestamp(`t`, &#39;IST&#39;)|\n+------------------------+\n|                    null|\n+------------------------+\n\n</div>",
       "datasetInfos": [],
       "metadata": {},
       "removedWidgets": [],
       "type": "html"
      }
     },
     "output_type": "display_data"
    }
   ],
   "source": [
    "df7.select(to_timestamp(col =df7['t'], format = \"IST\" )).show()"
   ]
  },
  {
   "cell_type": "code",
   "execution_count": 0,
   "metadata": {
    "application/vnd.databricks.v1+cell": {
     "cellMetadata": {},
     "inputWidgets": {},
     "nuid": "4e3f40c5-73ca-4050-8ed2-c84354b1471c",
     "showTitle": false,
     "title": ""
    }
   },
   "outputs": [
    {
     "output_type": "display_data",
     "data": {
      "text/html": [
       "<style scoped>\n",
       "  .ansiout {\n",
       "    display: block;\n",
       "    unicode-bidi: embed;\n",
       "    white-space: pre-wrap;\n",
       "    word-wrap: break-word;\n",
       "    word-break: break-all;\n",
       "    font-family: \"Menlo\", \"Monaco\", \"Consolas\", \"Ubuntu Mono\", \"Source Code Pro\", monospace;\n",
       "    font-size: 13px;\n",
       "    color: #555;\n",
       "    margin-left: 4px;\n",
       "    line-height: 19px;\n",
       "  }\n",
       "</style>\n",
       "<div class=\"ansiout\"></div>"
      ]
     },
     "metadata": {
      "application/vnd.databricks.v1+output": {
       "addedWidgets": {},
       "arguments": {},
       "data": "<div class=\"ansiout\"></div>",
       "datasetInfos": [],
       "metadata": {},
       "removedWidgets": [],
       "type": "html"
      }
     },
     "output_type": "display_data"
    }
   ],
   "source": [
    "# 138. trim\n",
    "from pyspark.sql.functions import trim\n",
    "#Trim the spaces from both ends for the specified string column."
   ]
  },
  {
   "cell_type": "code",
   "execution_count": 0,
   "metadata": {
    "application/vnd.databricks.v1+cell": {
     "cellMetadata": {},
     "inputWidgets": {},
     "nuid": "86e4063d-56b8-48ae-ad8e-b1084457f83d",
     "showTitle": false,
     "title": ""
    }
   },
   "outputs": [
    {
     "output_type": "display_data",
     "data": {
      "text/html": [
       "<style scoped>\n",
       "  .ansiout {\n",
       "    display: block;\n",
       "    unicode-bidi: embed;\n",
       "    white-space: pre-wrap;\n",
       "    word-wrap: break-word;\n",
       "    word-break: break-all;\n",
       "    font-family: \"Menlo\", \"Monaco\", \"Consolas\", \"Ubuntu Mono\", \"Source Code Pro\", monospace;\n",
       "    font-size: 13px;\n",
       "    color: #555;\n",
       "    margin-left: 4px;\n",
       "    line-height: 19px;\n",
       "  }\n",
       "</style>\n",
       "<div class=\"ansiout\">+---------+\n",
       "trim(sex)|\n",
       "+---------+\n",
       "   Female|\n",
       "     Male|\n",
       "     Male|\n",
       "     Male|\n",
       "   Female|\n",
       "     Male|\n",
       "     Male|\n",
       "     Male|\n",
       "     Male|\n",
       "     Male|\n",
       "     Male|\n",
       "   Female|\n",
       "     Male|\n",
       "     Male|\n",
       "   Female|\n",
       "     Male|\n",
       "   Female|\n",
       "     Male|\n",
       "   Female|\n",
       "     Male|\n",
       "+---------+\n",
       "only showing top 20 rows\n",
       "\n",
       "</div>"
      ]
     },
     "metadata": {
      "application/vnd.databricks.v1+output": {
       "addedWidgets": {},
       "arguments": {},
       "data": "<div class=\"ansiout\">+---------+\n|trim(sex)|\n+---------+\n|   Female|\n|     Male|\n|     Male|\n|     Male|\n|   Female|\n|     Male|\n|     Male|\n|     Male|\n|     Male|\n|     Male|\n|     Male|\n|   Female|\n|     Male|\n|     Male|\n|   Female|\n|     Male|\n|   Female|\n|     Male|\n|   Female|\n|     Male|\n+---------+\nonly showing top 20 rows\n\n</div>",
       "datasetInfos": [],
       "metadata": {},
       "removedWidgets": [],
       "type": "html"
      }
     },
     "output_type": "display_data"
    }
   ],
   "source": [
    "tipss.select(trim(col = tipss['sex'])).show()"
   ]
  },
  {
   "cell_type": "code",
   "execution_count": 0,
   "metadata": {
    "application/vnd.databricks.v1+cell": {
     "cellMetadata": {},
     "inputWidgets": {},
     "nuid": "25a96dd5-0dbd-4719-826a-fe4c8e16b3ff",
     "showTitle": false,
     "title": ""
    }
   },
   "outputs": [
    {
     "output_type": "display_data",
     "data": {
      "text/html": [
       "<style scoped>\n",
       "  .ansiout {\n",
       "    display: block;\n",
       "    unicode-bidi: embed;\n",
       "    white-space: pre-wrap;\n",
       "    word-wrap: break-word;\n",
       "    word-break: break-all;\n",
       "    font-family: \"Menlo\", \"Monaco\", \"Consolas\", \"Ubuntu Mono\", \"Source Code Pro\", monospace;\n",
       "    font-size: 13px;\n",
       "    color: #555;\n",
       "    margin-left: 4px;\n",
       "    line-height: 19px;\n",
       "  }\n",
       "</style>\n",
       "<div class=\"ansiout\"></div>"
      ]
     },
     "metadata": {
      "application/vnd.databricks.v1+output": {
       "addedWidgets": {},
       "arguments": {},
       "data": "<div class=\"ansiout\"></div>",
       "datasetInfos": [],
       "metadata": {},
       "removedWidgets": [],
       "type": "html"
      }
     },
     "output_type": "display_data"
    }
   ],
   "source": [
    "# 139. trunc\n",
    "from pyspark.sql.functions import trunc\n",
    "# Returns date truncated to the unit specified by the format."
   ]
  },
  {
   "cell_type": "code",
   "execution_count": 0,
   "metadata": {
    "application/vnd.databricks.v1+cell": {
     "cellMetadata": {},
     "inputWidgets": {},
     "nuid": "0d1d64fe-1a01-44b0-847a-ce3378738b45",
     "showTitle": false,
     "title": ""
    }
   },
   "outputs": [
    {
     "output_type": "display_data",
     "data": {
      "text/html": [
       "<style scoped>\n",
       "  .ansiout {\n",
       "    display: block;\n",
       "    unicode-bidi: embed;\n",
       "    white-space: pre-wrap;\n",
       "    word-wrap: break-word;\n",
       "    word-break: break-all;\n",
       "    font-family: \"Menlo\", \"Monaco\", \"Consolas\", \"Ubuntu Mono\", \"Source Code Pro\", monospace;\n",
       "    font-size: 13px;\n",
       "    color: #555;\n",
       "    margin-left: 4px;\n",
       "    line-height: 19px;\n",
       "  }\n",
       "</style>\n",
       "<div class=\"ansiout\">Help on function trunc in module pyspark.sql.functions:\n",
       "\n",
       "trunc(date, format)\n",
       "    Returns date truncated to the unit specified by the format.\n",
       "    \n",
       "    :param format: &#39;year&#39;, &#39;yyyy&#39;, &#39;yy&#39; or &#39;month&#39;, &#39;mon&#39;, &#39;mm&#39;\n",
       "    \n",
       "    &gt;&gt;&gt; df = spark.createDataFrame([(&#39;1997-02-28&#39;,)], [&#39;d&#39;])\n",
       "    &gt;&gt;&gt; df.select(trunc(df.d, &#39;year&#39;).alias(&#39;year&#39;)).collect()\n",
       "    [Row(year=datetime.date(1997, 1, 1))]\n",
       "    &gt;&gt;&gt; df.select(trunc(df.d, &#39;mon&#39;).alias(&#39;month&#39;)).collect()\n",
       "    [Row(month=datetime.date(1997, 2, 1))]\n",
       "    \n",
       "    .. versionadded:: 1.5\n",
       "\n",
       "</div>"
      ]
     },
     "metadata": {
      "application/vnd.databricks.v1+output": {
       "addedWidgets": {},
       "arguments": {},
       "data": "<div class=\"ansiout\">Help on function trunc in module pyspark.sql.functions:\n\ntrunc(date, format)\n    Returns date truncated to the unit specified by the format.\n    \n    :param format: &#39;year&#39;, &#39;yyyy&#39;, &#39;yy&#39; or &#39;month&#39;, &#39;mon&#39;, &#39;mm&#39;\n    \n    &gt;&gt;&gt; df = spark.createDataFrame([(&#39;1997-02-28&#39;,)], [&#39;d&#39;])\n    &gt;&gt;&gt; df.select(trunc(df.d, &#39;year&#39;).alias(&#39;year&#39;)).collect()\n    [Row(year=datetime.date(1997, 1, 1))]\n    &gt;&gt;&gt; df.select(trunc(df.d, &#39;mon&#39;).alias(&#39;month&#39;)).collect()\n    [Row(month=datetime.date(1997, 2, 1))]\n    \n    .. versionadded:: 1.5\n\n</div>",
       "datasetInfos": [],
       "metadata": {},
       "removedWidgets": [],
       "type": "html"
      }
     },
     "output_type": "display_data"
    }
   ],
   "source": [
    "help(trunc)"
   ]
  },
  {
   "cell_type": "code",
   "execution_count": 0,
   "metadata": {
    "application/vnd.databricks.v1+cell": {
     "cellMetadata": {},
     "inputWidgets": {},
     "nuid": "96ddc27f-138a-4b78-ad54-f33ecd2cb08f",
     "showTitle": false,
     "title": ""
    }
   },
   "outputs": [
    {
     "output_type": "display_data",
     "data": {
      "text/html": [
       "<style scoped>\n",
       "  .ansiout {\n",
       "    display: block;\n",
       "    unicode-bidi: embed;\n",
       "    white-space: pre-wrap;\n",
       "    word-wrap: break-word;\n",
       "    word-break: break-all;\n",
       "    font-family: \"Menlo\", \"Monaco\", \"Consolas\", \"Ubuntu Mono\", \"Source Code Pro\", monospace;\n",
       "    font-size: 13px;\n",
       "    color: #555;\n",
       "    margin-left: 4px;\n",
       "    line-height: 19px;\n",
       "  }\n",
       "</style>\n",
       "<div class=\"ansiout\">+------------+\n",
       "trunc(t, mm)|\n",
       "+------------+\n",
       "  1997-02-01|\n",
       "+------------+\n",
       "\n",
       "</div>"
      ]
     },
     "metadata": {
      "application/vnd.databricks.v1+output": {
       "addedWidgets": {},
       "arguments": {},
       "data": "<div class=\"ansiout\">+------------+\n|trunc(t, mm)|\n+------------+\n|  1997-02-01|\n+------------+\n\n</div>",
       "datasetInfos": [],
       "metadata": {},
       "removedWidgets": [],
       "type": "html"
      }
     },
     "output_type": "display_data"
    }
   ],
   "source": [
    "df7.select(trunc(date = df7['t'], format = 'mm')).show()"
   ]
  },
  {
   "cell_type": "code",
   "execution_count": 0,
   "metadata": {
    "application/vnd.databricks.v1+cell": {
     "cellMetadata": {},
     "inputWidgets": {},
     "nuid": "0552363e-782f-4460-9b31-95e80d52407f",
     "showTitle": false,
     "title": ""
    }
   },
   "outputs": [
    {
     "output_type": "display_data",
     "data": {
      "text/html": [
       "<style scoped>\n",
       "  .ansiout {\n",
       "    display: block;\n",
       "    unicode-bidi: embed;\n",
       "    white-space: pre-wrap;\n",
       "    word-wrap: break-word;\n",
       "    word-break: break-all;\n",
       "    font-family: \"Menlo\", \"Monaco\", \"Consolas\", \"Ubuntu Mono\", \"Source Code Pro\", monospace;\n",
       "    font-size: 13px;\n",
       "    color: #555;\n",
       "    margin-left: 4px;\n",
       "    line-height: 19px;\n",
       "  }\n",
       "</style>\n",
       "<div class=\"ansiout\"></div>"
      ]
     },
     "metadata": {
      "application/vnd.databricks.v1+output": {
       "addedWidgets": {},
       "arguments": {},
       "data": "<div class=\"ansiout\"></div>",
       "datasetInfos": [],
       "metadata": {},
       "removedWidgets": [],
       "type": "html"
      }
     },
     "output_type": "display_data"
    }
   ],
   "source": [
    "# 140. udf\n",
    "from pyspark.sql.functions import udf\n",
    "#Creates a user defined function (UDF).\n",
    "from pyspark.sql.types import FloatType"
   ]
  },
  {
   "cell_type": "code",
   "execution_count": 0,
   "metadata": {
    "application/vnd.databricks.v1+cell": {
     "cellMetadata": {},
     "inputWidgets": {},
     "nuid": "b0dce892-85e7-4a2c-986b-fcecef1ead49",
     "showTitle": false,
     "title": ""
    }
   },
   "outputs": [
    {
     "output_type": "display_data",
     "data": {
      "text/html": [
       "<style scoped>\n",
       "  .ansiout {\n",
       "    display: block;\n",
       "    unicode-bidi: embed;\n",
       "    white-space: pre-wrap;\n",
       "    word-wrap: break-word;\n",
       "    word-break: break-all;\n",
       "    font-family: \"Menlo\", \"Monaco\", \"Consolas\", \"Ubuntu Mono\", \"Source Code Pro\", monospace;\n",
       "    font-size: 13px;\n",
       "    color: #555;\n",
       "    margin-left: 4px;\n",
       "    line-height: 19px;\n",
       "  }\n",
       "</style>\n",
       "<div class=\"ansiout\">Help on function udf in module pyspark.sql.functions:\n",
       "\n",
       "udf(f=None, returnType=StringType)\n",
       "    Creates a user defined function (UDF).\n",
       "    \n",
       "    .. note:: The user-defined functions are considered deterministic by default. Due to\n",
       "        optimization, duplicate invocations may be eliminated or the function may even be invoked\n",
       "        more times than it is present in the query. If your function is not deterministic, call\n",
       "        `asNondeterministic` on the user defined function. E.g.:\n",
       "    \n",
       "    &gt;&gt;&gt; from pyspark.sql.types import IntegerType\n",
       "    &gt;&gt;&gt; import random\n",
       "    &gt;&gt;&gt; random_udf = udf(lambda: int(random.random() * 100), IntegerType()).asNondeterministic()\n",
       "    \n",
       "    .. note:: The user-defined functions do not support conditional expressions or short circuiting\n",
       "        in boolean expressions and it ends up with being executed all internally. If the functions\n",
       "        can fail on special rows, the workaround is to incorporate the condition into the functions.\n",
       "    \n",
       "    .. note:: The user-defined functions do not take keyword arguments on the calling side.\n",
       "    \n",
       "    :param f: python function if used as a standalone function\n",
       "    :param returnType: the return type of the user-defined function. The value can be either a\n",
       "        :class:`pyspark.sql.types.DataType` object or a DDL-formatted type string.\n",
       "    \n",
       "    &gt;&gt;&gt; from pyspark.sql.types import IntegerType\n",
       "    &gt;&gt;&gt; slen = udf(lambda s: len(s), IntegerType())\n",
       "    &gt;&gt;&gt; @udf\n",
       "    ... def to_upper(s):\n",
       "    ...     if s is not None:\n",
       "    ...         return s.upper()\n",
       "    ...\n",
       "    &gt;&gt;&gt; @udf(returnType=IntegerType())\n",
       "    ... def add_one(x):\n",
       "    ...     if x is not None:\n",
       "    ...         return x + 1\n",
       "    ...\n",
       "    &gt;&gt;&gt; df = spark.createDataFrame([(1, &#34;John Doe&#34;, 21)], (&#34;id&#34;, &#34;name&#34;, &#34;age&#34;))\n",
       "    &gt;&gt;&gt; df.select(slen(&#34;name&#34;).alias(&#34;slen(name)&#34;), to_upper(&#34;name&#34;), add_one(&#34;age&#34;)).show()\n",
       "    +----------+--------------+------------+\n",
       "slen(name)|to_upper(name)|add_one(age)|\n",
       "    +----------+--------------+------------+\n",
       "         8|      JOHN DOE|          22|\n",
       "    +----------+--------------+------------+\n",
       "    \n",
       "    .. versionadded:: 1.3\n",
       "\n",
       "</div>"
      ]
     },
     "metadata": {
      "application/vnd.databricks.v1+output": {
       "addedWidgets": {},
       "arguments": {},
       "data": "<div class=\"ansiout\">Help on function udf in module pyspark.sql.functions:\n\nudf(f=None, returnType=StringType)\n    Creates a user defined function (UDF).\n    \n    .. note:: The user-defined functions are considered deterministic by default. Due to\n        optimization, duplicate invocations may be eliminated or the function may even be invoked\n        more times than it is present in the query. If your function is not deterministic, call\n        `asNondeterministic` on the user defined function. E.g.:\n    \n    &gt;&gt;&gt; from pyspark.sql.types import IntegerType\n    &gt;&gt;&gt; import random\n    &gt;&gt;&gt; random_udf = udf(lambda: int(random.random() * 100), IntegerType()).asNondeterministic()\n    \n    .. note:: The user-defined functions do not support conditional expressions or short circuiting\n        in boolean expressions and it ends up with being executed all internally. If the functions\n        can fail on special rows, the workaround is to incorporate the condition into the functions.\n    \n    .. note:: The user-defined functions do not take keyword arguments on the calling side.\n    \n    :param f: python function if used as a standalone function\n    :param returnType: the return type of the user-defined function. The value can be either a\n        :class:`pyspark.sql.types.DataType` object or a DDL-formatted type string.\n    \n    &gt;&gt;&gt; from pyspark.sql.types import IntegerType\n    &gt;&gt;&gt; slen = udf(lambda s: len(s), IntegerType())\n    &gt;&gt;&gt; @udf\n    ... def to_upper(s):\n    ...     if s is not None:\n    ...         return s.upper()\n    ...\n    &gt;&gt;&gt; @udf(returnType=IntegerType())\n    ... def add_one(x):\n    ...     if x is not None:\n    ...         return x + 1\n    ...\n    &gt;&gt;&gt; df = spark.createDataFrame([(1, &#34;John Doe&#34;, 21)], (&#34;id&#34;, &#34;name&#34;, &#34;age&#34;))\n    &gt;&gt;&gt; df.select(slen(&#34;name&#34;).alias(&#34;slen(name)&#34;), to_upper(&#34;name&#34;), add_one(&#34;age&#34;)).show()\n    +----------+--------------+------------+\n    |slen(name)|to_upper(name)|add_one(age)|\n    +----------+--------------+------------+\n    |         8|      JOHN DOE|          22|\n    +----------+--------------+------------+\n    \n    .. versionadded:: 1.3\n\n</div>",
       "datasetInfos": [],
       "metadata": {},
       "removedWidgets": [],
       "type": "html"
      }
     },
     "output_type": "display_data"
    }
   ],
   "source": [
    "help(udf)"
   ]
  },
  {
   "cell_type": "code",
   "execution_count": 0,
   "metadata": {
    "application/vnd.databricks.v1+cell": {
     "cellMetadata": {},
     "inputWidgets": {},
     "nuid": "e2577d5e-8597-4f34-a2a0-30bf6c94e1ea",
     "showTitle": false,
     "title": ""
    }
   },
   "outputs": [
    {
     "output_type": "display_data",
     "data": {
      "text/html": [
       "<style scoped>\n",
       "  .ansiout {\n",
       "    display: block;\n",
       "    unicode-bidi: embed;\n",
       "    white-space: pre-wrap;\n",
       "    word-wrap: break-word;\n",
       "    word-break: break-all;\n",
       "    font-family: \"Menlo\", \"Monaco\", \"Consolas\", \"Ubuntu Mono\", \"Source Code Pro\", monospace;\n",
       "    font-size: 13px;\n",
       "    color: #555;\n",
       "    margin-left: 4px;\n",
       "    line-height: 19px;\n",
       "  }\n",
       "</style>\n",
       "<div class=\"ansiout\"></div>"
      ]
     },
     "metadata": {
      "application/vnd.databricks.v1+output": {
       "addedWidgets": {},
       "arguments": {},
       "data": "<div class=\"ansiout\"></div>",
       "datasetInfos": [],
       "metadata": {},
       "removedWidgets": [],
       "type": "html"
      }
     },
     "output_type": "display_data"
    }
   ],
   "source": [
    "import math"
   ]
  },
  {
   "cell_type": "code",
   "execution_count": 0,
   "metadata": {
    "application/vnd.databricks.v1+cell": {
     "cellMetadata": {},
     "inputWidgets": {},
     "nuid": "456f0575-fc2d-4f46-96ff-182b72b92d50",
     "showTitle": false,
     "title": ""
    }
   },
   "outputs": [
    {
     "output_type": "display_data",
     "data": {
      "text/html": [
       "<style scoped>\n",
       "  .ansiout {\n",
       "    display: block;\n",
       "    unicode-bidi: embed;\n",
       "    white-space: pre-wrap;\n",
       "    word-wrap: break-word;\n",
       "    word-break: break-all;\n",
       "    font-family: \"Menlo\", \"Monaco\", \"Consolas\", \"Ubuntu Mono\", \"Source Code Pro\", monospace;\n",
       "    font-size: 13px;\n",
       "    color: #555;\n",
       "    margin-left: 4px;\n",
       "    line-height: 19px;\n",
       "  }\n",
       "</style>\n",
       "<div class=\"ansiout\"></div>"
      ]
     },
     "metadata": {
      "application/vnd.databricks.v1+output": {
       "addedWidgets": {},
       "arguments": {},
       "data": "<div class=\"ansiout\"></div>",
       "datasetInfos": [],
       "metadata": {},
       "removedWidgets": [],
       "type": "html"
      }
     },
     "output_type": "display_data"
    }
   ],
   "source": [
    "@udf(returnType = FloatType())\n",
    "def total_bill_2(val):\n",
    "  return (math.sin(val))"
   ]
  },
  {
   "cell_type": "code",
   "execution_count": 0,
   "metadata": {
    "application/vnd.databricks.v1+cell": {
     "cellMetadata": {},
     "inputWidgets": {},
     "nuid": "decb3881-3ec3-43dd-9ee7-ea5aa08a1b4b",
     "showTitle": false,
     "title": ""
    }
   },
   "outputs": [
    {
     "output_type": "display_data",
     "data": {
      "text/html": [
       "<style scoped>\n",
       "  .ansiout {\n",
       "    display: block;\n",
       "    unicode-bidi: embed;\n",
       "    white-space: pre-wrap;\n",
       "    word-wrap: break-word;\n",
       "    word-break: break-all;\n",
       "    font-family: \"Menlo\", \"Monaco\", \"Consolas\", \"Ubuntu Mono\", \"Source Code Pro\", monospace;\n",
       "    font-size: 13px;\n",
       "    color: #555;\n",
       "    margin-left: 4px;\n",
       "    line-height: 19px;\n",
       "  }\n",
       "</style>\n",
       "<div class=\"ansiout\"></div>"
      ]
     },
     "metadata": {
      "application/vnd.databricks.v1+output": {
       "addedWidgets": {},
       "arguments": {},
       "data": "<div class=\"ansiout\"></div>",
       "datasetInfos": [],
       "metadata": {},
       "removedWidgets": [],
       "type": "html"
      }
     },
     "output_type": "display_data"
    }
   ],
   "source": [
    "# This function will also work\n",
    "#totall_bill_2 = pandas_udf(f= lambda s : np.sin(s) , returnType=FloatType())\n",
    "\n",
    "@pandas_udf(returnType = FloatType())\n",
    "def totall_bill_2(val):\n",
    "  return (np.sin(val))"
   ]
  },
  {
   "cell_type": "code",
   "execution_count": 0,
   "metadata": {
    "application/vnd.databricks.v1+cell": {
     "cellMetadata": {},
     "inputWidgets": {},
     "nuid": "5529aad9-edad-4358-9579-0224c6e530f2",
     "showTitle": false,
     "title": ""
    }
   },
   "outputs": [
    {
     "output_type": "display_data",
     "data": {
      "text/html": [
       "<style scoped>\n",
       "  .ansiout {\n",
       "    display: block;\n",
       "    unicode-bidi: embed;\n",
       "    white-space: pre-wrap;\n",
       "    word-wrap: break-word;\n",
       "    word-break: break-all;\n",
       "    font-family: \"Menlo\", \"Monaco\", \"Consolas\", \"Ubuntu Mono\", \"Source Code Pro\", monospace;\n",
       "    font-size: 13px;\n",
       "    color: #555;\n",
       "    margin-left: 4px;\n",
       "    line-height: 19px;\n",
       "  }\n",
       "</style>\n",
       "<div class=\"ansiout\">+----------+----+------+------+---+------+----+-------------------------+\n",
       "total_bill| tip|   sex|smoker|day|  time|size|totall_bill_2(total_bill)|\n",
       "+----------+----+------+------+---+------+----+-------------------------+\n",
       "     16.99|1.01|Female|    No|Sun|Dinner|   2|              -0.95859784|\n",
       "     10.34|1.66|  Male|    No|Sun|Dinner|   3|              -0.79269797|\n",
       "     21.01| 3.5|  Male|    No|Sun|Dinner|   3|                0.8311366|\n",
       "     23.68|3.31|  Male|    No|Sun|Dinner|   2|               -0.9930396|\n",
       "     24.59|3.61|Female|    No|Sun|Dinner|   4|               -0.5164852|\n",
       "     25.29|4.71|  Male|    No|Sun|Dinner|   4|                0.1566114|\n",
       "      8.77| 2.0|  Male|    No|Sun|Dinner|   2|               0.60898316|\n",
       "     26.88|3.12|  Male|    No|Sun|Dinner|   4|               0.98447084|\n",
       "     15.04|1.96|  Male|    No|Sun|Dinner|   2|                0.6193883|\n",
       "     14.78|3.23|  Male|    No|Sun|Dinner|   2|                0.8004007|\n",
       "     10.27|1.71|  Male|    No|Sun|Dinner|   2|              -0.74811846|\n",
       "     35.26| 5.0|Female|    No|Sun|Dinner|   4|              -0.64611316|\n",
       "     15.42|1.57|  Male|    No|Sun|Dinner|   2|               0.28399995|\n",
       "     18.43| 3.0|  Male|    No|Sun|Dinner|   4|              -0.40735492|\n",
       "     14.83|3.02|Female|    No|Sun|Dinner|   2|                0.7694396|\n",
       "     21.58|3.92|  Male|    No|Sun|Dinner|   2|               0.39966244|\n",
       "     10.33|1.67|Female|    No|Sun|Dinner|   3|              -0.78656226|\n",
       "     16.29|3.71|  Male|    No|Sun|Dinner|   3|               -0.5497264|\n",
       "     16.97| 3.5|Female|    No|Sun|Dinner|   3|               -0.9527112|\n",
       "     20.65|3.35|  Male|    No|Sat|Dinner|   3|               0.97374666|\n",
       "+----------+----+------+------+---+------+----+-------------------------+\n",
       "only showing top 20 rows\n",
       "\n",
       "</div>"
      ]
     },
     "metadata": {
      "application/vnd.databricks.v1+output": {
       "addedWidgets": {},
       "arguments": {},
       "data": "<div class=\"ansiout\">+----------+----+------+------+---+------+----+-------------------------+\n|total_bill| tip|   sex|smoker|day|  time|size|totall_bill_2(total_bill)|\n+----------+----+------+------+---+------+----+-------------------------+\n|     16.99|1.01|Female|    No|Sun|Dinner|   2|              -0.95859784|\n|     10.34|1.66|  Male|    No|Sun|Dinner|   3|              -0.79269797|\n|     21.01| 3.5|  Male|    No|Sun|Dinner|   3|                0.8311366|\n|     23.68|3.31|  Male|    No|Sun|Dinner|   2|               -0.9930396|\n|     24.59|3.61|Female|    No|Sun|Dinner|   4|               -0.5164852|\n|     25.29|4.71|  Male|    No|Sun|Dinner|   4|                0.1566114|\n|      8.77| 2.0|  Male|    No|Sun|Dinner|   2|               0.60898316|\n|     26.88|3.12|  Male|    No|Sun|Dinner|   4|               0.98447084|\n|     15.04|1.96|  Male|    No|Sun|Dinner|   2|                0.6193883|\n|     14.78|3.23|  Male|    No|Sun|Dinner|   2|                0.8004007|\n|     10.27|1.71|  Male|    No|Sun|Dinner|   2|              -0.74811846|\n|     35.26| 5.0|Female|    No|Sun|Dinner|   4|              -0.64611316|\n|     15.42|1.57|  Male|    No|Sun|Dinner|   2|               0.28399995|\n|     18.43| 3.0|  Male|    No|Sun|Dinner|   4|              -0.40735492|\n|     14.83|3.02|Female|    No|Sun|Dinner|   2|                0.7694396|\n|     21.58|3.92|  Male|    No|Sun|Dinner|   2|               0.39966244|\n|     10.33|1.67|Female|    No|Sun|Dinner|   3|              -0.78656226|\n|     16.29|3.71|  Male|    No|Sun|Dinner|   3|               -0.5497264|\n|     16.97| 3.5|Female|    No|Sun|Dinner|   3|               -0.9527112|\n|     20.65|3.35|  Male|    No|Sat|Dinner|   3|               0.97374666|\n+----------+----+------+------+---+------+----+-------------------------+\nonly showing top 20 rows\n\n</div>",
       "datasetInfos": [],
       "metadata": {},
       "removedWidgets": [],
       "type": "html"
      }
     },
     "output_type": "display_data"
    }
   ],
   "source": [
    "tipss.select('*', totall_bill_2(tipss['total_bill'])).show()"
   ]
  },
  {
   "cell_type": "code",
   "execution_count": 0,
   "metadata": {
    "application/vnd.databricks.v1+cell": {
     "cellMetadata": {},
     "inputWidgets": {},
     "nuid": "11415092-c0b7-4146-acff-1188052e04a1",
     "showTitle": false,
     "title": ""
    }
   },
   "outputs": [
    {
     "output_type": "display_data",
     "data": {
      "text/html": [
       "<style scoped>\n",
       "  .ansiout {\n",
       "    display: block;\n",
       "    unicode-bidi: embed;\n",
       "    white-space: pre-wrap;\n",
       "    word-wrap: break-word;\n",
       "    word-break: break-all;\n",
       "    font-family: \"Menlo\", \"Monaco\", \"Consolas\", \"Ubuntu Mono\", \"Source Code Pro\", monospace;\n",
       "    font-size: 13px;\n",
       "    color: #555;\n",
       "    margin-left: 4px;\n",
       "    line-height: 19px;\n",
       "  }\n",
       "</style>\n",
       "<div class=\"ansiout\"></div>"
      ]
     },
     "metadata": {
      "application/vnd.databricks.v1+output": {
       "addedWidgets": {},
       "arguments": {},
       "data": "<div class=\"ansiout\"></div>",
       "datasetInfos": [],
       "metadata": {},
       "removedWidgets": [],
       "type": "html"
      }
     },
     "output_type": "display_data"
    }
   ],
   "source": [
    "# 141. unix_timestamp\n",
    "from pyspark.sql.functions import unix_timestamp\n",
    "#Convert time string with given pattern (‘yyyy-MM-dd HH:mm:ss’, by default) to Unix time stamp (in seconds), using the default timezone and the default locale, return null if fail."
   ]
  },
  {
   "cell_type": "code",
   "execution_count": 0,
   "metadata": {
    "application/vnd.databricks.v1+cell": {
     "cellMetadata": {},
     "inputWidgets": {},
     "nuid": "c78daf84-9867-4c56-89e0-d40fa8760ebe",
     "showTitle": false,
     "title": ""
    }
   },
   "outputs": [
    {
     "output_type": "display_data",
     "data": {
      "text/html": [
       "<style scoped>\n",
       "  .ansiout {\n",
       "    display: block;\n",
       "    unicode-bidi: embed;\n",
       "    white-space: pre-wrap;\n",
       "    word-wrap: break-word;\n",
       "    word-break: break-all;\n",
       "    font-family: \"Menlo\", \"Monaco\", \"Consolas\", \"Ubuntu Mono\", \"Source Code Pro\", monospace;\n",
       "    font-size: 13px;\n",
       "    color: #555;\n",
       "    margin-left: 4px;\n",
       "    line-height: 19px;\n",
       "  }\n",
       "</style>\n",
       "<div class=\"ansiout\">+--------------------------------------+\n",
       "unix_timestamp(t, yyyy-MM-dd HH:mm:ss)|\n",
       "+--------------------------------------+\n",
       "                             857106131|\n",
       "+--------------------------------------+\n",
       "\n",
       "</div>"
      ]
     },
     "metadata": {
      "application/vnd.databricks.v1+output": {
       "addedWidgets": {},
       "arguments": {},
       "data": "<div class=\"ansiout\">+--------------------------------------+\n|unix_timestamp(t, yyyy-MM-dd HH:mm:ss)|\n+--------------------------------------+\n|                             857106131|\n+--------------------------------------+\n\n</div>",
       "datasetInfos": [],
       "metadata": {},
       "removedWidgets": [],
       "type": "html"
      }
     },
     "output_type": "display_data"
    }
   ],
   "source": [
    "df7.select(unix_timestamp(timestamp = df7['t'], format='yyyy-MM-dd HH:mm:ss')).show()"
   ]
  },
  {
   "cell_type": "code",
   "execution_count": 0,
   "metadata": {
    "application/vnd.databricks.v1+cell": {
     "cellMetadata": {},
     "inputWidgets": {},
     "nuid": "277507f9-e86f-4e73-b36f-f4f4ecdd0013",
     "showTitle": false,
     "title": ""
    }
   },
   "outputs": [
    {
     "output_type": "display_data",
     "data": {
      "text/html": [
       "<style scoped>\n",
       "  .ansiout {\n",
       "    display: block;\n",
       "    unicode-bidi: embed;\n",
       "    white-space: pre-wrap;\n",
       "    word-wrap: break-word;\n",
       "    word-break: break-all;\n",
       "    font-family: \"Menlo\", \"Monaco\", \"Consolas\", \"Ubuntu Mono\", \"Source Code Pro\", monospace;\n",
       "    font-size: 13px;\n",
       "    color: #555;\n",
       "    margin-left: 4px;\n",
       "    line-height: 19px;\n",
       "  }\n",
       "</style>\n",
       "<div class=\"ansiout\"></div>"
      ]
     },
     "metadata": {
      "application/vnd.databricks.v1+output": {
       "addedWidgets": {},
       "arguments": {},
       "data": "<div class=\"ansiout\"></div>",
       "datasetInfos": [],
       "metadata": {},
       "removedWidgets": [],
       "type": "html"
      }
     },
     "output_type": "display_data"
    }
   ],
   "source": [
    "# 142. upper\n",
    "from pyspark.sql.functions import upper\n",
    "# Converts a string column to upper case."
   ]
  },
  {
   "cell_type": "code",
   "execution_count": 0,
   "metadata": {
    "application/vnd.databricks.v1+cell": {
     "cellMetadata": {},
     "inputWidgets": {},
     "nuid": "bbccf81f-a647-4643-b606-727885b9edf2",
     "showTitle": false,
     "title": ""
    }
   },
   "outputs": [
    {
     "output_type": "display_data",
     "data": {
      "text/html": [
       "<style scoped>\n",
       "  .ansiout {\n",
       "    display: block;\n",
       "    unicode-bidi: embed;\n",
       "    white-space: pre-wrap;\n",
       "    word-wrap: break-word;\n",
       "    word-break: break-all;\n",
       "    font-family: \"Menlo\", \"Monaco\", \"Consolas\", \"Ubuntu Mono\", \"Source Code Pro\", monospace;\n",
       "    font-size: 13px;\n",
       "    color: #555;\n",
       "    margin-left: 4px;\n",
       "    line-height: 19px;\n",
       "  }\n",
       "</style>\n",
       "<div class=\"ansiout\">+----------+\n",
       "upper(sex)|\n",
       "+----------+\n",
       "    FEMALE|\n",
       "      MALE|\n",
       "      MALE|\n",
       "      MALE|\n",
       "    FEMALE|\n",
       "      MALE|\n",
       "      MALE|\n",
       "      MALE|\n",
       "      MALE|\n",
       "      MALE|\n",
       "      MALE|\n",
       "    FEMALE|\n",
       "      MALE|\n",
       "      MALE|\n",
       "    FEMALE|\n",
       "      MALE|\n",
       "    FEMALE|\n",
       "      MALE|\n",
       "    FEMALE|\n",
       "      MALE|\n",
       "+----------+\n",
       "only showing top 20 rows\n",
       "\n",
       "</div>"
      ]
     },
     "metadata": {
      "application/vnd.databricks.v1+output": {
       "addedWidgets": {},
       "arguments": {},
       "data": "<div class=\"ansiout\">+----------+\n|upper(sex)|\n+----------+\n|    FEMALE|\n|      MALE|\n|      MALE|\n|      MALE|\n|    FEMALE|\n|      MALE|\n|      MALE|\n|      MALE|\n|      MALE|\n|      MALE|\n|      MALE|\n|    FEMALE|\n|      MALE|\n|      MALE|\n|    FEMALE|\n|      MALE|\n|    FEMALE|\n|      MALE|\n|    FEMALE|\n|      MALE|\n+----------+\nonly showing top 20 rows\n\n</div>",
       "datasetInfos": [],
       "metadata": {},
       "removedWidgets": [],
       "type": "html"
      }
     },
     "output_type": "display_data"
    }
   ],
   "source": [
    "tipss.select(upper(col = tipss['sex'])).show()"
   ]
  },
  {
   "cell_type": "code",
   "execution_count": 0,
   "metadata": {
    "application/vnd.databricks.v1+cell": {
     "cellMetadata": {},
     "inputWidgets": {},
     "nuid": "68be5414-dc22-422f-8528-e68f1e490c3f",
     "showTitle": false,
     "title": ""
    }
   },
   "outputs": [
    {
     "output_type": "display_data",
     "data": {
      "text/html": [
       "<style scoped>\n",
       "  .ansiout {\n",
       "    display: block;\n",
       "    unicode-bidi: embed;\n",
       "    white-space: pre-wrap;\n",
       "    word-wrap: break-word;\n",
       "    word-break: break-all;\n",
       "    font-family: \"Menlo\", \"Monaco\", \"Consolas\", \"Ubuntu Mono\", \"Source Code Pro\", monospace;\n",
       "    font-size: 13px;\n",
       "    color: #555;\n",
       "    margin-left: 4px;\n",
       "    line-height: 19px;\n",
       "  }\n",
       "</style>\n",
       "<div class=\"ansiout\"></div>"
      ]
     },
     "metadata": {
      "application/vnd.databricks.v1+output": {
       "addedWidgets": {},
       "arguments": {},
       "data": "<div class=\"ansiout\"></div>",
       "datasetInfos": [],
       "metadata": {},
       "removedWidgets": [],
       "type": "html"
      }
     },
     "output_type": "display_data"
    }
   ],
   "source": [
    "# 143. var_pop\n",
    "from pyspark.sql.functions import var_pop\n",
    "# returns the population variance of the values in a group."
   ]
  },
  {
   "cell_type": "code",
   "execution_count": 0,
   "metadata": {
    "application/vnd.databricks.v1+cell": {
     "cellMetadata": {},
     "inputWidgets": {},
     "nuid": "378d9604-77b8-4f36-ae1d-4d2a76f5a856",
     "showTitle": false,
     "title": ""
    }
   },
   "outputs": [
    {
     "output_type": "display_data",
     "data": {
      "text/html": [
       "<style scoped>\n",
       "  .ansiout {\n",
       "    display: block;\n",
       "    unicode-bidi: embed;\n",
       "    white-space: pre-wrap;\n",
       "    word-wrap: break-word;\n",
       "    word-break: break-all;\n",
       "    font-family: \"Menlo\", \"Monaco\", \"Consolas\", \"Ubuntu Mono\", \"Source Code Pro\", monospace;\n",
       "    font-size: 13px;\n",
       "    color: #555;\n",
       "    margin-left: 4px;\n",
       "    line-height: 19px;\n",
       "  }\n",
       "</style>\n",
       "<div class=\"ansiout\">+-------------------+\n",
       "var_pop(total_bill)|\n",
       "+-------------------+\n",
       "  78.92813148851114|\n",
       "+-------------------+\n",
       "\n",
       "</div>"
      ]
     },
     "metadata": {
      "application/vnd.databricks.v1+output": {
       "addedWidgets": {},
       "arguments": {},
       "data": "<div class=\"ansiout\">+-------------------+\n|var_pop(total_bill)|\n+-------------------+\n|  78.92813148851114|\n+-------------------+\n\n</div>",
       "datasetInfos": [],
       "metadata": {},
       "removedWidgets": [],
       "type": "html"
      }
     },
     "output_type": "display_data"
    }
   ],
   "source": [
    "tipss.select(var_pop(col = tipss['total_bill'])).show()"
   ]
  },
  {
   "cell_type": "code",
   "execution_count": 0,
   "metadata": {
    "application/vnd.databricks.v1+cell": {
     "cellMetadata": {},
     "inputWidgets": {},
     "nuid": "bd4c9ad4-dadb-410c-8d7e-1e71baf5e861",
     "showTitle": false,
     "title": ""
    }
   },
   "outputs": [
    {
     "output_type": "display_data",
     "data": {
      "text/html": [
       "<style scoped>\n",
       "  .ansiout {\n",
       "    display: block;\n",
       "    unicode-bidi: embed;\n",
       "    white-space: pre-wrap;\n",
       "    word-wrap: break-word;\n",
       "    word-break: break-all;\n",
       "    font-family: \"Menlo\", \"Monaco\", \"Consolas\", \"Ubuntu Mono\", \"Source Code Pro\", monospace;\n",
       "    font-size: 13px;\n",
       "    color: #555;\n",
       "    margin-left: 4px;\n",
       "    line-height: 19px;\n",
       "  }\n",
       "</style>\n",
       "<div class=\"ansiout\"></div>"
      ]
     },
     "metadata": {
      "application/vnd.databricks.v1+output": {
       "addedWidgets": {},
       "arguments": {},
       "data": "<div class=\"ansiout\"></div>",
       "datasetInfos": [],
       "metadata": {},
       "removedWidgets": [],
       "type": "html"
      }
     },
     "output_type": "display_data"
    }
   ],
   "source": [
    "# 144. var_samp\n",
    "from pyspark.sql.functions import var_samp\n",
    "#Aggregate function: returns the unbiased sample variance of the values in a group."
   ]
  },
  {
   "cell_type": "code",
   "execution_count": 0,
   "metadata": {
    "application/vnd.databricks.v1+cell": {
     "cellMetadata": {},
     "inputWidgets": {},
     "nuid": "440ff81f-c39c-4602-9494-1222ed4fdb56",
     "showTitle": false,
     "title": ""
    }
   },
   "outputs": [
    {
     "output_type": "display_data",
     "data": {
      "text/html": [
       "<style scoped>\n",
       "  .ansiout {\n",
       "    display: block;\n",
       "    unicode-bidi: embed;\n",
       "    white-space: pre-wrap;\n",
       "    word-wrap: break-word;\n",
       "    word-break: break-all;\n",
       "    font-family: \"Menlo\", \"Monaco\", \"Consolas\", \"Ubuntu Mono\", \"Source Code Pro\", monospace;\n",
       "    font-size: 13px;\n",
       "    color: #555;\n",
       "    margin-left: 4px;\n",
       "    line-height: 19px;\n",
       "  }\n",
       "</style>\n",
       "<div class=\"ansiout\">+--------------------+\n",
       "var_samp(total_bill)|\n",
       "+--------------------+\n",
       "   79.25293861397827|\n",
       "+--------------------+\n",
       "\n",
       "</div>"
      ]
     },
     "metadata": {
      "application/vnd.databricks.v1+output": {
       "addedWidgets": {},
       "arguments": {},
       "data": "<div class=\"ansiout\">+--------------------+\n|var_samp(total_bill)|\n+--------------------+\n|   79.25293861397827|\n+--------------------+\n\n</div>",
       "datasetInfos": [],
       "metadata": {},
       "removedWidgets": [],
       "type": "html"
      }
     },
     "output_type": "display_data"
    }
   ],
   "source": [
    "tipss.select(var_samp(col = tipss['total_bill'])).show()"
   ]
  },
  {
   "cell_type": "code",
   "execution_count": 0,
   "metadata": {
    "application/vnd.databricks.v1+cell": {
     "cellMetadata": {},
     "inputWidgets": {},
     "nuid": "13122d2d-08ee-4169-a642-b71c3339c68c",
     "showTitle": false,
     "title": ""
    }
   },
   "outputs": [
    {
     "output_type": "display_data",
     "data": {
      "text/html": [
       "<style scoped>\n",
       "  .ansiout {\n",
       "    display: block;\n",
       "    unicode-bidi: embed;\n",
       "    white-space: pre-wrap;\n",
       "    word-wrap: break-word;\n",
       "    word-break: break-all;\n",
       "    font-family: \"Menlo\", \"Monaco\", \"Consolas\", \"Ubuntu Mono\", \"Source Code Pro\", monospace;\n",
       "    font-size: 13px;\n",
       "    color: #555;\n",
       "    margin-left: 4px;\n",
       "    line-height: 19px;\n",
       "  }\n",
       "</style>\n",
       "<div class=\"ansiout\"></div>"
      ]
     },
     "metadata": {
      "application/vnd.databricks.v1+output": {
       "addedWidgets": {},
       "arguments": {},
       "data": "<div class=\"ansiout\"></div>",
       "datasetInfos": [],
       "metadata": {},
       "removedWidgets": [],
       "type": "html"
      }
     },
     "output_type": "display_data"
    }
   ],
   "source": [
    "# 145. variance\n",
    "from pyspark.sql.functions import variance\n",
    "#Aggregate function: alias for var_samp."
   ]
  },
  {
   "cell_type": "code",
   "execution_count": 0,
   "metadata": {
    "application/vnd.databricks.v1+cell": {
     "cellMetadata": {},
     "inputWidgets": {},
     "nuid": "b7686694-efe5-4961-9067-bef8886a5869",
     "showTitle": false,
     "title": ""
    }
   },
   "outputs": [
    {
     "output_type": "display_data",
     "data": {
      "text/html": [
       "<style scoped>\n",
       "  .ansiout {\n",
       "    display: block;\n",
       "    unicode-bidi: embed;\n",
       "    white-space: pre-wrap;\n",
       "    word-wrap: break-word;\n",
       "    word-break: break-all;\n",
       "    font-family: \"Menlo\", \"Monaco\", \"Consolas\", \"Ubuntu Mono\", \"Source Code Pro\", monospace;\n",
       "    font-size: 13px;\n",
       "    color: #555;\n",
       "    margin-left: 4px;\n",
       "    line-height: 19px;\n",
       "  }\n",
       "</style>\n",
       "<div class=\"ansiout\">+--------------------+\n",
       "var_samp(total_bill)|\n",
       "+--------------------+\n",
       "   79.25293861397827|\n",
       "+--------------------+\n",
       "\n",
       "</div>"
      ]
     },
     "metadata": {
      "application/vnd.databricks.v1+output": {
       "addedWidgets": {},
       "arguments": {},
       "data": "<div class=\"ansiout\">+--------------------+\n|var_samp(total_bill)|\n+--------------------+\n|   79.25293861397827|\n+--------------------+\n\n</div>",
       "datasetInfos": [],
       "metadata": {},
       "removedWidgets": [],
       "type": "html"
      }
     },
     "output_type": "display_data"
    }
   ],
   "source": [
    "tipss.select(variance(col = tipss['total_bill'])).show()"
   ]
  },
  {
   "cell_type": "code",
   "execution_count": 0,
   "metadata": {
    "application/vnd.databricks.v1+cell": {
     "cellMetadata": {},
     "inputWidgets": {},
     "nuid": "9ae5f04b-eaa2-4e75-82b2-53ebbcbe48cd",
     "showTitle": false,
     "title": ""
    }
   },
   "outputs": [
    {
     "output_type": "display_data",
     "data": {
      "text/html": [
       "<style scoped>\n",
       "  .ansiout {\n",
       "    display: block;\n",
       "    unicode-bidi: embed;\n",
       "    white-space: pre-wrap;\n",
       "    word-wrap: break-word;\n",
       "    word-break: break-all;\n",
       "    font-family: \"Menlo\", \"Monaco\", \"Consolas\", \"Ubuntu Mono\", \"Source Code Pro\", monospace;\n",
       "    font-size: 13px;\n",
       "    color: #555;\n",
       "    margin-left: 4px;\n",
       "    line-height: 19px;\n",
       "  }\n",
       "</style>\n",
       "<div class=\"ansiout\"></div>"
      ]
     },
     "metadata": {
      "application/vnd.databricks.v1+output": {
       "addedWidgets": {},
       "arguments": {},
       "data": "<div class=\"ansiout\"></div>",
       "datasetInfos": [],
       "metadata": {},
       "removedWidgets": [],
       "type": "html"
      }
     },
     "output_type": "display_data"
    }
   ],
   "source": [
    "# 146. weekofyear\n",
    "from pyspark.sql.functions import weekofyear\n",
    "#Extract the week number of a given date as integer."
   ]
  },
  {
   "cell_type": "code",
   "execution_count": 0,
   "metadata": {
    "application/vnd.databricks.v1+cell": {
     "cellMetadata": {},
     "inputWidgets": {},
     "nuid": "1c071155-cb42-4ca4-a26f-0ea5569624fa",
     "showTitle": false,
     "title": ""
    }
   },
   "outputs": [
    {
     "output_type": "display_data",
     "data": {
      "text/html": [
       "<style scoped>\n",
       "  .ansiout {\n",
       "    display: block;\n",
       "    unicode-bidi: embed;\n",
       "    white-space: pre-wrap;\n",
       "    word-wrap: break-word;\n",
       "    word-break: break-all;\n",
       "    font-family: \"Menlo\", \"Monaco\", \"Consolas\", \"Ubuntu Mono\", \"Source Code Pro\", monospace;\n",
       "    font-size: 13px;\n",
       "    color: #555;\n",
       "    margin-left: 4px;\n",
       "    line-height: 19px;\n",
       "  }\n",
       "</style>\n",
       "<div class=\"ansiout\">+-------------+\n",
       "weekofyear(t)|\n",
       "+-------------+\n",
       "            9|\n",
       "+-------------+\n",
       "\n",
       "</div>"
      ]
     },
     "metadata": {
      "application/vnd.databricks.v1+output": {
       "addedWidgets": {},
       "arguments": {},
       "data": "<div class=\"ansiout\">+-------------+\n|weekofyear(t)|\n+-------------+\n|            9|\n+-------------+\n\n</div>",
       "datasetInfos": [],
       "metadata": {},
       "removedWidgets": [],
       "type": "html"
      }
     },
     "output_type": "display_data"
    }
   ],
   "source": [
    "df7.select(weekofyear(col = df7['t'])).show()"
   ]
  },
  {
   "cell_type": "code",
   "execution_count": 0,
   "metadata": {
    "application/vnd.databricks.v1+cell": {
     "cellMetadata": {},
     "inputWidgets": {},
     "nuid": "a8e76906-902a-49db-87a1-6c0ef19aff26",
     "showTitle": false,
     "title": ""
    }
   },
   "outputs": [
    {
     "output_type": "display_data",
     "data": {
      "text/html": [
       "<style scoped>\n",
       "  .ansiout {\n",
       "    display: block;\n",
       "    unicode-bidi: embed;\n",
       "    white-space: pre-wrap;\n",
       "    word-wrap: break-word;\n",
       "    word-break: break-all;\n",
       "    font-family: \"Menlo\", \"Monaco\", \"Consolas\", \"Ubuntu Mono\", \"Source Code Pro\", monospace;\n",
       "    font-size: 13px;\n",
       "    color: #555;\n",
       "    margin-left: 4px;\n",
       "    line-height: 19px;\n",
       "  }\n",
       "</style>\n",
       "<div class=\"ansiout\"></div>"
      ]
     },
     "metadata": {
      "application/vnd.databricks.v1+output": {
       "addedWidgets": {},
       "arguments": {},
       "data": "<div class=\"ansiout\"></div>",
       "datasetInfos": [],
       "metadata": {},
       "removedWidgets": [],
       "type": "html"
      }
     },
     "output_type": "display_data"
    }
   ],
   "source": [
    "# 147. when\n",
    "from pyspark.sql.functions import when\n",
    "#Evaluates a list of conditions and returns one of multiple possible result expressions. If Column.otherwise() is not invoked, None is returned for unmatched conditions."
   ]
  },
  {
   "cell_type": "code",
   "execution_count": 0,
   "metadata": {
    "application/vnd.databricks.v1+cell": {
     "cellMetadata": {},
     "inputWidgets": {},
     "nuid": "cf7526aa-7115-4488-9252-79a63ec2c065",
     "showTitle": false,
     "title": ""
    }
   },
   "outputs": [
    {
     "output_type": "display_data",
     "data": {
      "text/html": [
       "<style scoped>\n",
       "  .ansiout {\n",
       "    display: block;\n",
       "    unicode-bidi: embed;\n",
       "    white-space: pre-wrap;\n",
       "    word-wrap: break-word;\n",
       "    word-break: break-all;\n",
       "    font-family: \"Menlo\", \"Monaco\", \"Consolas\", \"Ubuntu Mono\", \"Source Code Pro\", monospace;\n",
       "    font-size: 13px;\n",
       "    color: #555;\n",
       "    margin-left: 4px;\n",
       "    line-height: 19px;\n",
       "  }\n",
       "</style>\n",
       "<div class=\"ansiout\">Help on function when in module pyspark.sql.functions:\n",
       "\n",
       "when(condition, value)\n",
       "    Evaluates a list of conditions and returns one of multiple possible result expressions.\n",
       "    If :func:`Column.otherwise` is not invoked, None is returned for unmatched conditions.\n",
       "    \n",
       "    :param condition: a boolean :class:`Column` expression.\n",
       "    :param value: a literal value, or a :class:`Column` expression.\n",
       "    \n",
       "    &gt;&gt;&gt; df.select(when(df[&#39;age&#39;] == 2, 3).otherwise(4).alias(&#34;age&#34;)).collect()\n",
       "    [Row(age=3), Row(age=4)]\n",
       "    \n",
       "    &gt;&gt;&gt; df.select(when(df.age == 2, df.age + 1).alias(&#34;age&#34;)).collect()\n",
       "    [Row(age=3), Row(age=None)]\n",
       "    \n",
       "    .. versionadded:: 1.4\n",
       "\n",
       "</div>"
      ]
     },
     "metadata": {
      "application/vnd.databricks.v1+output": {
       "addedWidgets": {},
       "arguments": {},
       "data": "<div class=\"ansiout\">Help on function when in module pyspark.sql.functions:\n\nwhen(condition, value)\n    Evaluates a list of conditions and returns one of multiple possible result expressions.\n    If :func:`Column.otherwise` is not invoked, None is returned for unmatched conditions.\n    \n    :param condition: a boolean :class:`Column` expression.\n    :param value: a literal value, or a :class:`Column` expression.\n    \n    &gt;&gt;&gt; df.select(when(df[&#39;age&#39;] == 2, 3).otherwise(4).alias(&#34;age&#34;)).collect()\n    [Row(age=3), Row(age=4)]\n    \n    &gt;&gt;&gt; df.select(when(df.age == 2, df.age + 1).alias(&#34;age&#34;)).collect()\n    [Row(age=3), Row(age=None)]\n    \n    .. versionadded:: 1.4\n\n</div>",
       "datasetInfos": [],
       "metadata": {},
       "removedWidgets": [],
       "type": "html"
      }
     },
     "output_type": "display_data"
    }
   ],
   "source": [
    "help(when)"
   ]
  },
  {
   "cell_type": "code",
   "execution_count": 0,
   "metadata": {
    "application/vnd.databricks.v1+cell": {
     "cellMetadata": {},
     "inputWidgets": {},
     "nuid": "787edd4b-80eb-443e-9c24-1cd217de8da4",
     "showTitle": false,
     "title": ""
    }
   },
   "outputs": [
    {
     "output_type": "display_data",
     "data": {
      "text/html": [
       "<style scoped>\n",
       "  .ansiout {\n",
       "    display: block;\n",
       "    unicode-bidi: embed;\n",
       "    white-space: pre-wrap;\n",
       "    word-wrap: break-word;\n",
       "    word-break: break-all;\n",
       "    font-family: \"Menlo\", \"Monaco\", \"Consolas\", \"Ubuntu Mono\", \"Source Code Pro\", monospace;\n",
       "    font-size: 13px;\n",
       "    color: #555;\n",
       "    margin-left: 4px;\n",
       "    line-height: 19px;\n",
       "  }\n",
       "</style>\n",
       "<div class=\"ansiout\">+----------+--------------------+\n",
       "total_bill|      When Statement|\n",
       "+----------+--------------------+\n",
       "     16.99|Greater than Average|\n",
       "     10.34|   Less than Average|\n",
       "     21.01|Greater than Average|\n",
       "     23.68|Greater than Average|\n",
       "     24.59|Greater than Average|\n",
       "     25.29|Greater than Average|\n",
       "      8.77|   Less than Average|\n",
       "     26.88|Greater than Average|\n",
       "     15.04|Greater than Average|\n",
       "     14.78|Greater than Average|\n",
       "     10.27|   Less than Average|\n",
       "     35.26|Greater than Average|\n",
       "     15.42|Greater than Average|\n",
       "     18.43|Greater than Average|\n",
       "     14.83|Greater than Average|\n",
       "     21.58|Greater than Average|\n",
       "     10.33|   Less than Average|\n",
       "     16.29|Greater than Average|\n",
       "     16.97|Greater than Average|\n",
       "     20.65|Greater than Average|\n",
       "+----------+--------------------+\n",
       "only showing top 20 rows\n",
       "\n",
       "</div>"
      ]
     },
     "metadata": {
      "application/vnd.databricks.v1+output": {
       "addedWidgets": {},
       "arguments": {},
       "data": "<div class=\"ansiout\">+----------+--------------------+\n|total_bill|      When Statement|\n+----------+--------------------+\n|     16.99|Greater than Average|\n|     10.34|   Less than Average|\n|     21.01|Greater than Average|\n|     23.68|Greater than Average|\n|     24.59|Greater than Average|\n|     25.29|Greater than Average|\n|      8.77|   Less than Average|\n|     26.88|Greater than Average|\n|     15.04|Greater than Average|\n|     14.78|Greater than Average|\n|     10.27|   Less than Average|\n|     35.26|Greater than Average|\n|     15.42|Greater than Average|\n|     18.43|Greater than Average|\n|     14.83|Greater than Average|\n|     21.58|Greater than Average|\n|     10.33|   Less than Average|\n|     16.29|Greater than Average|\n|     16.97|Greater than Average|\n|     20.65|Greater than Average|\n+----------+--------------------+\nonly showing top 20 rows\n\n</div>",
       "datasetInfos": [],
       "metadata": {},
       "removedWidgets": [],
       "type": "html"
      }
     },
     "output_type": "display_data"
    }
   ],
   "source": [
    "tipss.select(tipss['total_bill'],when(condition = tipss['total_bill']>14, value = 'Greater than Average' ).otherwise(\"Less than Average\").alias(\"When Statement\")).show()"
   ]
  },
  {
   "cell_type": "code",
   "execution_count": 0,
   "metadata": {
    "application/vnd.databricks.v1+cell": {
     "cellMetadata": {},
     "inputWidgets": {},
     "nuid": "7b44908e-e5e3-4800-878c-c5c1d3cd62ec",
     "showTitle": false,
     "title": ""
    }
   },
   "outputs": [
    {
     "output_type": "display_data",
     "data": {
      "text/html": [
       "<style scoped>\n",
       "  .ansiout {\n",
       "    display: block;\n",
       "    unicode-bidi: embed;\n",
       "    white-space: pre-wrap;\n",
       "    word-wrap: break-word;\n",
       "    word-break: break-all;\n",
       "    font-family: \"Menlo\", \"Monaco\", \"Consolas\", \"Ubuntu Mono\", \"Source Code Pro\", monospace;\n",
       "    font-size: 13px;\n",
       "    color: #555;\n",
       "    margin-left: 4px;\n",
       "    line-height: 19px;\n",
       "  }\n",
       "</style>\n",
       "<div class=\"ansiout\">+----------+--------------------+\n",
       "total_bill|      When Statement|\n",
       "+----------+--------------------+\n",
       "     16.99|Greater than Average|\n",
       "     10.34|             Average|\n",
       "     21.01|Greater than Average|\n",
       "     23.68|Greater than Average|\n",
       "     24.59|Greater than Average|\n",
       "     25.29|Greater than Average|\n",
       "      8.77|   Less than Average|\n",
       "     26.88|Greater than Average|\n",
       "     15.04|Greater than Average|\n",
       "     14.78|Greater than Average|\n",
       "     10.27|             Average|\n",
       "     35.26|Greater than Average|\n",
       "     15.42|Greater than Average|\n",
       "     18.43|Greater than Average|\n",
       "     14.83|Greater than Average|\n",
       "     21.58|Greater than Average|\n",
       "     10.33|             Average|\n",
       "     16.29|Greater than Average|\n",
       "     16.97|Greater than Average|\n",
       "     20.65|Greater than Average|\n",
       "+----------+--------------------+\n",
       "only showing top 20 rows\n",
       "\n",
       "</div>"
      ]
     },
     "metadata": {
      "application/vnd.databricks.v1+output": {
       "addedWidgets": {},
       "arguments": {},
       "data": "<div class=\"ansiout\">+----------+--------------------+\n|total_bill|      When Statement|\n+----------+--------------------+\n|     16.99|Greater than Average|\n|     10.34|             Average|\n|     21.01|Greater than Average|\n|     23.68|Greater than Average|\n|     24.59|Greater than Average|\n|     25.29|Greater than Average|\n|      8.77|   Less than Average|\n|     26.88|Greater than Average|\n|     15.04|Greater than Average|\n|     14.78|Greater than Average|\n|     10.27|             Average|\n|     35.26|Greater than Average|\n|     15.42|Greater than Average|\n|     18.43|Greater than Average|\n|     14.83|Greater than Average|\n|     21.58|Greater than Average|\n|     10.33|             Average|\n|     16.29|Greater than Average|\n|     16.97|Greater than Average|\n|     20.65|Greater than Average|\n+----------+--------------------+\nonly showing top 20 rows\n\n</div>",
       "datasetInfos": [],
       "metadata": {},
       "removedWidgets": [],
       "type": "html"
      }
     },
     "output_type": "display_data"
    }
   ],
   "source": [
    "tipss.select(tipss['total_bill'], when(condition = tipss['total_bill']>14, value = 'Greater than Average' ).when(condition = tipss['total_bill']>10, value = 'Average' ).otherwise(\"Less than Average\").alias(\"When Statement\")).show()"
   ]
  },
  {
   "cell_type": "code",
   "execution_count": 0,
   "metadata": {
    "application/vnd.databricks.v1+cell": {
     "cellMetadata": {},
     "inputWidgets": {},
     "nuid": "7dfadfed-212e-4a3f-beb6-d30f37d8a25f",
     "showTitle": false,
     "title": ""
    }
   },
   "outputs": [],
   "source": []
  },
  {
   "cell_type": "code",
   "execution_count": 0,
   "metadata": {
    "application/vnd.databricks.v1+cell": {
     "cellMetadata": {},
     "inputWidgets": {},
     "nuid": "30ec0257-32d1-48ab-959d-d2be18e4088a",
     "showTitle": false,
     "title": ""
    }
   },
   "outputs": [
    {
     "output_type": "display_data",
     "data": {
      "text/html": [
       "<style scoped>\n",
       "  .ansiout {\n",
       "    display: block;\n",
       "    unicode-bidi: embed;\n",
       "    white-space: pre-wrap;\n",
       "    word-wrap: break-word;\n",
       "    word-break: break-all;\n",
       "    font-family: \"Menlo\", \"Monaco\", \"Consolas\", \"Ubuntu Mono\", \"Source Code Pro\", monospace;\n",
       "    font-size: 13px;\n",
       "    color: #555;\n",
       "    margin-left: 4px;\n",
       "    line-height: 19px;\n",
       "  }\n",
       "</style>\n",
       "<div class=\"ansiout\">+----------+----+------+------+----+------+----+--------------------+\n",
       "total_bill| tip|   sex|smoker| day|  time|size|     percentile rank|\n",
       "+----------+----+------+------+----+------+----+--------------------+\n",
       "      7.51| 2.0|  Male|    No|Thur| Lunch|   2|                 0.0|\n",
       "      7.56|1.44|  Male|    No|Thur| Lunch|   2| 0.01639344262295082|\n",
       "      8.35| 1.5|Female|    No|Thur| Lunch|   2| 0.03278688524590164|\n",
       "      8.51|1.25|Female|    No|Thur| Lunch|   2| 0.04918032786885246|\n",
       "      8.52|1.48|  Male|    No|Thur| Lunch|   2| 0.06557377049180328|\n",
       "      9.78|1.73|  Male|    No|Thur| Lunch|   2| 0.08196721311475409|\n",
       "     10.07|1.83|Female|    No|Thur| Lunch|   1| 0.09836065573770492|\n",
       "     10.33| 2.0|Female|    No|Thur| Lunch|   2| 0.11475409836065574|\n",
       "     10.34| 2.0|  Male|   Yes|Thur| Lunch|   2| 0.13114754098360656|\n",
       "     10.65| 1.5|Female|    No|Thur| Lunch|   2| 0.14754098360655737|\n",
       "     11.17| 1.5|Female|    No|Thur| Lunch|   2| 0.16393442622950818|\n",
       "     11.38| 2.0|Female|    No|Thur| Lunch|   2| 0.18032786885245902|\n",
       "     11.69|2.31|  Male|    No|Thur| Lunch|   2| 0.19672131147540983|\n",
       "     11.87|1.63|Female|    No|Thur| Lunch|   2| 0.21311475409836064|\n",
       "     12.26| 2.0|Female|    No|Thur| Lunch|   2| 0.22950819672131148|\n",
       "     12.43| 1.8|Female|    No|Thur| Lunch|   2|  0.2459016393442623|\n",
       "     12.48|2.52|Female|    No|Thur| Lunch|   2| 0.26229508196721313|\n",
       "     12.74|2.01|Female|   Yes|Thur| Lunch|   2|  0.2786885245901639|\n",
       "      13.0| 2.0|Female|   Yes|Thur| Lunch|   2| 0.29508196721311475|\n",
       "      13.0| 2.0|Female|   Yes|Thur| Lunch|   2| 0.29508196721311475|\n",
       "     13.03| 2.0|  Male|    No|Thur| Lunch|   2| 0.32786885245901637|\n",
       "     13.16|2.75|Female|    No|Thur| Lunch|   2|  0.3442622950819672|\n",
       "     13.42|1.68|Female|    No|Thur| Lunch|   2| 0.36065573770491804|\n",
       "     13.51| 2.0|  Male|   Yes|Thur| Lunch|   2|  0.3770491803278688|\n",
       "     14.15| 2.0|Female|    No|Thur| Lunch|   2| 0.39344262295081966|\n",
       "     14.26| 2.5|  Male|    No|Thur| Lunch|   2|  0.4098360655737705|\n",
       "     14.52| 2.0|Female|    No|Thur| Lunch|   2|  0.4262295081967213|\n",
       "     15.48|2.02|  Male|   Yes|Thur| Lunch|   2|  0.4426229508196721|\n",
       "     15.95| 2.0|  Male|    No|Thur| Lunch|   2| 0.45901639344262296|\n",
       "     15.98|2.03|  Male|    No|Thur| Lunch|   2| 0.47540983606557374|\n",
       "      16.0| 2.0|  Male|   Yes|Thur| Lunch|   2|  0.4918032786885246|\n",
       "      16.4| 2.5|Female|   Yes|Thur| Lunch|   2|  0.5081967213114754|\n",
       "     16.43| 2.3|Female|    No|Thur| Lunch|   2|  0.5245901639344263|\n",
       "     16.47|3.23|Female|   Yes|Thur| Lunch|   3|  0.5409836065573771|\n",
       "     16.58| 4.0|  Male|   Yes|Thur| Lunch|   2|  0.5573770491803278|\n",
       "     16.66| 3.4|  Male|    No|Thur| Lunch|   2|  0.5737704918032787|\n",
       "     17.29|2.71|  Male|    No|Thur| Lunch|   2|  0.5901639344262295|\n",
       "     17.47| 3.5|Female|    No|Thur| Lunch|   2|  0.6065573770491803|\n",
       "     18.26|3.25|Female|    No|Thur| Lunch|   2|  0.6229508196721312|\n",
       "     18.28| 4.0|  Male|    No|Thur| Lunch|   2|   0.639344262295082|\n",
       "     18.64|1.36|Female|    No|Thur| Lunch|   3|  0.6557377049180327|\n",
       "     18.71| 4.0|  Male|   Yes|Thur| Lunch|   3|  0.6721311475409836|\n",
       "     18.78| 3.0|Female|    No|Thur|Dinner|   2|  0.6885245901639344|\n",
       "     19.08| 1.5|  Male|    No|Thur| Lunch|   2|  0.7049180327868853|\n",
       "     19.44| 3.0|  Male|   Yes|Thur| Lunch|   2|  0.7213114754098361|\n",
       "     19.81|4.19|Female|   Yes|Thur| Lunch|   2|  0.7377049180327869|\n",
       "     20.27|2.83|Female|    No|Thur| Lunch|   2|  0.7540983606557377|\n",
       "     20.53| 4.0|  Male|   Yes|Thur| Lunch|   4|  0.7704918032786885|\n",
       "     21.16| 3.0|  Male|    No|Thur| Lunch|   2|  0.7868852459016393|\n",
       "     22.76| 3.0|  Male|    No|Thur| Lunch|   2|  0.8032786885245902|\n",
       "     22.82|2.18|  Male|    No|Thur| Lunch|   3|   0.819672131147541|\n",
       "     24.08|2.92|Female|    No|Thur| Lunch|   4|  0.8360655737704918|\n",
       "     24.71|5.85|  Male|    No|Thur| Lunch|   2|  0.8524590163934426|\n",
       "     27.05| 5.0|Female|    No|Thur| Lunch|   6|  0.8688524590163934|\n",
       "      27.2| 4.0|  Male|    No|Thur| Lunch|   4|  0.8852459016393442|\n",
       "     28.44|2.56|  Male|   Yes|Thur| Lunch|   2|  0.9016393442622951|\n",
       "      29.8| 4.2|Female|    No|Thur| Lunch|   6|  0.9180327868852459|\n",
       "     32.68| 5.0|  Male|   Yes|Thur| Lunch|   2|  0.9344262295081968|\n",
       "      34.3| 6.7|  Male|    No|Thur| Lunch|   6|  0.9508196721311475|\n",
       "     34.83|5.17|Female|    No|Thur| Lunch|   4|  0.9672131147540983|\n",
       "     41.19| 5.0|  Male|    No|Thur| Lunch|   5|  0.9836065573770492|\n",
       "     43.11| 5.0|Female|   Yes|Thur| Lunch|   4|                 1.0|\n",
       "      7.25|5.15|  Male|   Yes| Sun|Dinner|   2|                 0.0|\n",
       "      8.77| 2.0|  Male|    No| Sun|Dinner|   2|0.013333333333333334|\n",
       "       9.6| 4.0|Female|   Yes| Sun|Dinner|   2| 0.02666666666666667|\n",
       "      9.68|1.32|  Male|    No| Sun|Dinner|   2|                0.04|\n",
       "      9.94|1.56|  Male|    No| Sun|Dinner|   2| 0.05333333333333334|\n",
       "     10.27|1.71|  Male|    No| Sun|Dinner|   2| 0.06666666666666667|\n",
       "     10.29| 2.6|Female|    No| Sun|Dinner|   2|                0.08|\n",
       "     10.33|1.67|Female|    No| Sun|Dinner|   3| 0.09333333333333334|\n",
       "     10.34|1.66|  Male|    No| Sun|Dinner|   3| 0.10666666666666667|\n",
       "     12.54| 2.5|  Male|    No| Sun|Dinner|   2|                0.12|\n",
       "     12.66| 2.5|  Male|    No| Sun|Dinner|   2| 0.13333333333333333|\n",
       "     13.13| 2.0|  Male|    No| Sun|Dinner|   2| 0.14666666666666667|\n",
       "     13.39|2.61|Female|    No| Sun|Dinner|   2|                0.16|\n",
       "     13.81| 2.0|  Male|    No| Sun|Dinner|   2| 0.17333333333333334|\n",
       "     13.94|3.06|  Male|    No| Sun|Dinner|   2| 0.18666666666666668|\n",
       "     14.07| 2.5|  Male|    No| Sun|Dinner|   2|                 0.2|\n",
       "     14.48| 2.0|  Male|   Yes| Sun|Dinner|   2| 0.21333333333333335|\n",
       "     14.78|3.23|  Male|    No| Sun|Dinner|   2| 0.22666666666666666|\n",
       "     14.83|3.02|Female|    No| Sun|Dinner|   2|                0.24|\n",
       "     15.04|1.96|  Male|    No| Sun|Dinner|   2| 0.25333333333333335|\n",
       "     15.42|1.57|  Male|    No| Sun|Dinner|   2| 0.26666666666666666|\n",
       "     15.69| 1.5|  Male|   Yes| Sun|Dinner|   2|                0.28|\n",
       "     16.21| 2.0|Female|    No| Sun|Dinner|   3| 0.29333333333333333|\n",
       "     16.29|3.71|  Male|    No| Sun|Dinner|   3| 0.30666666666666664|\n",
       "     16.49| 2.0|  Male|    No| Sun|Dinner|   4|                0.32|\n",
       "     16.82| 4.0|  Male|   Yes| Sun|Dinner|   2|  0.3333333333333333|\n",
       "     16.97| 3.5|Female|    No| Sun|Dinner|   3|  0.3466666666666667|\n",
       "     16.99|1.01|Female|    No| Sun|Dinner|   2|                0.36|\n",
       "     17.26|2.74|  Male|    No| Sun|Dinner|   3| 0.37333333333333335|\n",
       "     17.31| 3.5|Female|    No| Sun|Dinner|   2| 0.38666666666666666|\n",
       "     17.46|2.54|  Male|    No| Sun|Dinner|   2|                 0.4|\n",
       "     17.51| 3.0|Female|   Yes| Sun|Dinner|   2| 0.41333333333333333|\n",
       "     17.89| 2.0|  Male|   Yes| Sun|Dinner|   2|  0.4266666666666667|\n",
       "     18.04| 3.0|  Male|    No| Sun|Dinner|   2|                0.44|\n",
       "     18.15| 3.5|Female|   Yes| Sun|Dinner|   3|  0.4533333333333333|\n",
       "     18.29| 3.0|  Male|    No| Sun|Dinner|   2|  0.4666666666666667|\n",
       "     18.43| 3.0|  Male|    No| Sun|Dinner|   4|                0.48|\n",
       "     19.49|3.51|  Male|    No| Sun|Dinner|   2| 0.49333333333333335|\n",
       "     19.77| 2.0|  Male|    No| Sun|Dinner|   4|  0.5066666666666667|\n",
       "     20.69| 5.0|  Male|    No| Sun|Dinner|   5|                0.52|\n",
       "     20.76|2.24|  Male|    No| Sun|Dinner|   2|  0.5333333333333333|\n",
       "      20.9| 3.5|Female|   Yes| Sun|Dinner|   3|  0.5466666666666666|\n",
       "     21.01| 3.5|  Male|    No| Sun|Dinner|   3|                0.56|\n",
       "      21.5| 3.5|  Male|    No| Sun|Dinner|   4|  0.5733333333333334|\n",
       "     21.58|3.92|  Male|    No| Sun|Dinner|   2|  0.5866666666666667|\n",
       "     22.23| 5.0|  Male|    No| Sun|Dinner|   2|                 0.6|\n",
       "      23.1| 4.0|  Male|   Yes| Sun|Dinner|   3|  0.6133333333333333|\n",
       "     23.17| 6.5|  Male|   Yes| Sun|Dinner|   4|  0.6266666666666667|\n",
       "     23.33|5.65|  Male|   Yes| Sun|Dinner|   2|                0.64|\n",
       "     23.68|3.31|  Male|    No| Sun|Dinner|   2|  0.6533333333333333|\n",
       "     23.95|2.55|  Male|    No| Sun|Dinner|   2|  0.6666666666666666|\n",
       "     24.52|3.48|  Male|    No| Sun|Dinner|   3|                0.68|\n",
       "     24.55| 2.0|  Male|    No| Sun|Dinner|   4|  0.6933333333333334|\n",
       "     24.59|3.61|Female|    No| Sun|Dinner|   4|  0.7066666666666667|\n",
       "      25.0|3.75|Female|    No| Sun|Dinner|   4|                0.72|\n",
       "     25.29|4.71|  Male|    No| Sun|Dinner|   4|  0.7333333333333333|\n",
       "     25.56|4.34|  Male|    No| Sun|Dinner|   4|  0.7466666666666667|\n",
       "     25.71| 4.0|Female|    No| Sun|Dinner|   3|                0.76|\n",
       "     26.88|3.12|  Male|    No| Sun|Dinner|   4|  0.7733333333333333|\n",
       "     28.55|2.05|  Male|    No| Sun|Dinner|   3|  0.7866666666666666|\n",
       "     29.85|5.14|Female|    No| Sun|Dinner|   5|                 0.8|\n",
       "     29.93|5.07|  Male|    No| Sun|Dinner|   4|  0.8133333333333334|\n",
       "      30.4| 5.6|  Male|    No| Sun|Dinner|   4|  0.8266666666666667|\n",
       "     30.46| 2.0|  Male|   Yes| Sun|Dinner|   5|                0.84|\n",
       "     31.71| 4.5|  Male|    No| Sun|Dinner|   4|  0.8533333333333334|\n",
       "     31.85|3.18|  Male|   Yes| Sun|Dinner|   2|  0.8666666666666667|\n",
       "      32.4| 6.0|  Male|    No| Sun|Dinner|   4|                0.88|\n",
       "      32.9|3.11|  Male|   Yes| Sun|Dinner|   2|  0.8933333333333333|\n",
       "     34.63|3.55|  Male|   Yes| Sun|Dinner|   2|  0.9066666666666666|\n",
       "     34.65|3.68|  Male|   Yes| Sun|Dinner|   4|                0.92|\n",
       "     34.81| 5.2|Female|    No| Sun|Dinner|   4|  0.9333333333333333|\n",
       "     35.26| 5.0|Female|    No| Sun|Dinner|   4|  0.9466666666666667|\n",
       "     38.07| 4.0|  Male|    No| Sun|Dinner|   3|                0.96|\n",
       "     40.55| 3.0|  Male|   Yes| Sun|Dinner|   2|  0.9733333333333334|\n",
       "     45.35| 3.5|  Male|   Yes| Sun|Dinner|   3|  0.9866666666666667|\n",
       "     48.17| 5.0|  Male|    No| Sun|Dinner|   6|                 1.0|\n",
       "      3.07| 1.0|Female|   Yes| Sat|Dinner|   1|                 0.0|\n",
       "      7.25| 1.0|Female|    No| Sat|Dinner|   1|0.011627906976744186|\n",
       "      7.74|1.44|  Male|   Yes| Sat|Dinner|   2|0.023255813953488372|\n",
       "      9.55|1.45|  Male|    No| Sat|Dinner|   2| 0.03488372093023256|\n",
       "     10.07|1.25|  Male|    No| Sat|Dinner|   2|0.046511627906976744|\n",
       "     10.51|1.25|  Male|    No| Sat|Dinner|   2| 0.05813953488372093|\n",
       "     10.59|1.61|Female|   Yes| Sat|Dinner|   2| 0.06976744186046512|\n",
       "     10.63| 2.0|Female|   Yes| Sat|Dinner|   2| 0.08139534883720931|\n",
       "     10.77|1.47|  Male|    No| Sat|Dinner|   2| 0.09302325581395349|\n",
       "     11.02|1.98|  Male|   Yes| Sat|Dinner|   2| 0.10465116279069768|\n",
       "     11.24|1.76|  Male|   Yes| Sat|Dinner|   2| 0.11627906976744186|\n",
       "     11.59| 1.5|  Male|   Yes| Sat|Dinner|   2| 0.12790697674418605|\n",
       "     11.61|3.39|  Male|    No| Sat|Dinner|   2| 0.13953488372093023|\n",
       "     12.02|1.97|  Male|    No| Sat|Dinner|   2|  0.1511627906976744|\n",
       "      12.6| 1.0|  Male|   Yes| Sat|Dinner|   2| 0.16279069767441862|\n",
       "     12.69| 2.0|  Male|    No| Sat|Dinner|   2|  0.1744186046511628|\n",
       "     12.76|2.23|Female|   Yes| Sat|Dinner|   2| 0.18604651162790697|\n",
       "      12.9| 1.1|Female|   Yes| Sat|Dinner|   2| 0.19767441860465115|\n",
       "     13.27| 2.5|Female|   Yes| Sat|Dinner|   2| 0.20930232558139536|\n",
       "     13.28|2.72|  Male|    No| Sat|Dinner|   2| 0.22093023255813954|\n",
       "     13.37| 2.0|  Male|    No| Sat|Dinner|   2| 0.23255813953488372|\n",
       "     13.81| 2.0|  Male|   Yes| Sat|Dinner|   2|  0.2441860465116279|\n",
       "      14.0| 3.0|  Male|    No| Sat|Dinner|   2|  0.2558139534883721|\n",
       "     14.31| 4.0|Female|   Yes| Sat|Dinner|   2| 0.26744186046511625|\n",
       "     14.73| 2.2|Female|    No| Sat|Dinner|   2| 0.27906976744186046|\n",
       "     15.01|2.09|  Male|   Yes| Sat|Dinner|   2| 0.29069767441860467|\n",
       "     15.06| 3.0|Female|    No| Sat|Dinner|   2|  0.3023255813953488|\n",
       "     15.36|1.64|  Male|   Yes| Sat|Dinner|   2|   0.313953488372093|\n",
       "     15.53| 3.0|  Male|   Yes| Sat|Dinner|   2| 0.32558139534883723|\n",
       "     15.69| 3.0|  Male|   Yes| Sat|Dinner|   3|  0.3372093023255814|\n",
       "     15.77|2.23|Female|    No| Sat|Dinner|   2|  0.3488372093023256|\n",
       "     15.81|3.16|  Male|   Yes| Sat|Dinner|   2| 0.36046511627906974|\n",
       "     16.04|2.24|  Male|    No| Sat|Dinner|   3| 0.37209302325581395|\n",
       "     16.31| 2.0|  Male|    No| Sat|Dinner|   3| 0.38372093023255816|\n",
       "     16.45|2.47|Female|    No| Sat|Dinner|   2|  0.3953488372093023|\n",
       "     16.93|3.07|Female|    No| Sat|Dinner|   3|  0.4069767441860465|\n",
       "     17.07| 3.0|Female|    No| Sat|Dinner|   3|  0.4186046511627907|\n",
       "     17.59|2.64|  Male|    No| Sat|Dinner|   3| 0.43023255813953487|\n",
       "     17.78|3.27|  Male|    No| Sat|Dinner|   2|  0.4418604651162791|\n",
       "     17.81|2.34|  Male|    No| Sat|Dinner|   4| 0.45348837209302323|\n",
       "     17.82|1.75|  Male|    No| Sat|Dinner|   2| 0.46511627906976744|\n",
       "     17.92|4.08|  Male|    No| Sat|Dinner|   2| 0.47674418604651164|\n",
       "     17.92|3.08|  Male|   Yes| Sat|Dinner|   2| 0.47674418604651164|\n",
       "     18.24|3.76|  Male|    No| Sat|Dinner|   2|                 0.5|\n",
       "     18.29|3.76|  Male|   Yes| Sat|Dinner|   4|  0.5116279069767442|\n",
       "     18.35| 2.5|  Male|    No| Sat|Dinner|   4|  0.5232558139534884|\n",
       "     18.69|2.31|  Male|    No| Sat|Dinner|   3|  0.5348837209302325|\n",
       "     19.65| 3.0|Female|    No| Sat|Dinner|   2|  0.5465116279069767|\n",
       "     19.82|3.18|  Male|    No| Sat|Dinner|   2|  0.5581395348837209|\n",
       "     20.08|3.15|  Male|    No| Sat|Dinner|   3|  0.5697674418604651|\n",
       "     20.23|2.01|  Male|    No| Sat|Dinner|   2|  0.5813953488372093|\n",
       "     20.29|2.75|Female|    No| Sat|Dinner|   2|  0.5930232558139535|\n",
       "     20.29|3.21|  Male|   Yes| Sat|Dinner|   2|  0.5930232558139535|\n",
       "     20.45| 3.0|  Male|    No| Sat|Dinner|   4|  0.6162790697674418|\n",
       "     20.49|4.06|  Male|   Yes| Sat|Dinner|   2|   0.627906976744186|\n",
       "     20.65|3.35|  Male|    No| Sat|Dinner|   3|  0.6395348837209303|\n",
       "     20.69|2.45|Female|    No| Sat|Dinner|   4|  0.6511627906976745|\n",
       "     20.92|4.08|Female|    No| Sat|Dinner|   2|  0.6627906976744186|\n",
       "      21.7| 4.3|  Male|    No| Sat|Dinner|   2|  0.6744186046511628|\n",
       "     22.12|2.88|Female|   Yes| Sat|Dinner|   2|   0.686046511627907|\n",
       "     22.42|3.48|Female|   Yes| Sat|Dinner|   2|  0.6976744186046512|\n",
       "     22.67| 2.0|  Male|   Yes| Sat|Dinner|   2|  0.7093023255813954|\n",
       "     24.01| 2.0|  Male|   Yes| Sat|Dinner|   4|  0.7209302325581395|\n",
       "     24.06| 3.6|  Male|    No| Sat|Dinner|   3|  0.7325581395348837|\n",
       "     24.27|2.03|  Male|   Yes| Sat|Dinner|   2|  0.7441860465116279|\n",
       "     25.21|4.29|  Male|   Yes| Sat|Dinner|   2|  0.7558139534883721|\n",
       "     25.28| 5.0|Female|   Yes| Sat|Dinner|   2|  0.7674418604651163|\n",
       "     25.89|5.16|  Male|   Yes| Sat|Dinner|   4|  0.7790697674418605|\n",
       "     26.41| 1.5|Female|    No| Sat|Dinner|   2|  0.7906976744186046|\n",
       "     26.59|3.41|  Male|   Yes| Sat|Dinner|   3|  0.8023255813953488|\n",
       "     26.86|3.14|Female|   Yes| Sat|Dinner|   2|   0.813953488372093|\n",
       "     27.18| 2.0|Female|   Yes| Sat|Dinner|   2|  0.8255813953488372|\n",
       "     28.15| 3.0|  Male|   Yes| Sat|Dinner|   5|  0.8372093023255814|\n",
       "     28.17| 6.5|Female|   Yes| Sat|Dinner|   3|  0.8488372093023255|\n",
       "     29.03|5.92|  Male|    No| Sat|Dinner|   3|  0.8604651162790697|\n",
       "     30.06| 2.0|  Male|   Yes| Sat|Dinner|   3|   0.872093023255814|\n",
       "     30.14|3.09|Female|   Yes| Sat|Dinner|   4|  0.8837209302325582|\n",
       "     31.27| 5.0|  Male|    No| Sat|Dinner|   3|  0.8953488372093024|\n",
       "     32.83|1.17|  Male|   Yes| Sat|Dinner|   2|  0.9069767441860465|\n",
       "     35.83|4.67|Female|    No| Sat|Dinner|   3|  0.9186046511627907|\n",
       "     38.01| 3.0|  Male|   Yes| Sat|Dinner|   4|  0.9302325581395349|\n",
       "     38.73| 3.0|  Male|   Yes| Sat|Dinner|   4|  0.9418604651162791|\n",
       "     39.42|7.58|  Male|    No| Sat|Dinner|   4|  0.9534883720930233|\n",
       "      44.3| 2.5|Female|   Yes| Sat|Dinner|   3|  0.9651162790697675|\n",
       "     48.27|6.73|  Male|    No| Sat|Dinner|   4|  0.9767441860465116|\n",
       "     48.33| 9.0|  Male|    No| Sat|Dinner|   4|  0.9883720930232558|\n",
       "     50.81|10.0|  Male|   Yes| Sat|Dinner|   3|                 1.0|\n",
       "      5.75| 1.0|Female|   Yes| Fri|Dinner|   2|                 0.0|\n",
       "      8.58|1.92|  Male|   Yes| Fri| Lunch|   1| 0.05555555555555555|\n",
       "     10.09| 2.0|Female|   Yes| Fri| Lunch|   2|  0.1111111111111111|\n",
       "     11.35| 2.5|Female|   Yes| Fri|Dinner|   2| 0.16666666666666666|\n",
       "     12.03| 1.5|  Male|   Yes| Fri|Dinner|   2|  0.2222222222222222|\n",
       "     12.16| 2.2|  Male|   Yes| Fri| Lunch|   2|  0.2777777777777778|\n",
       "     12.46| 1.5|  Male|    No| Fri|Dinner|   2|  0.3333333333333333|\n",
       "     13.42|3.48|Female|   Yes| Fri| Lunch|   2|  0.3888888888888889|\n",
       "     13.42|1.58|  Male|   Yes| Fri| Lunch|   2|  0.3888888888888889|\n",
       "     15.38| 3.0|Female|   Yes| Fri|Dinner|   2|                 0.5|\n",
       "     15.98| 3.0|Female|    No| Fri| Lunch|   3|  0.5555555555555556|\n",
       "     16.27| 2.5|Female|   Yes| Fri| Lunch|   2|  0.6111111111111112|\n",
       "     16.32| 4.3|Female|   Yes| Fri|Dinner|   2|  0.6666666666666666|\n",
       "     21.01| 3.0|  Male|   Yes| Fri|Dinner|   2|  0.7222222222222222|\n",
       "     22.49| 3.5|  Male|    No| Fri|Dinner|   2|  0.7777777777777778|\n",
       "     22.75|3.25|Female|    No| Fri|Dinner|   2|  0.8333333333333334|\n",
       "     27.28| 4.0|  Male|   Yes| Fri|Dinner|   2|  0.8888888888888888|\n",
       "     28.97| 3.0|  Male|   Yes| Fri|Dinner|   2|  0.9444444444444444|\n",
       "     40.17|4.73|  Male|   Yes| Fri|Dinner|   4|                 1.0|\n",
       "+----------+----+------+------+----+------+----+--------------------+\n",
       "\n",
       "</div>"
      ]
     },
     "metadata": {
      "application/vnd.databricks.v1+output": {
       "addedWidgets": {},
       "arguments": {},
       "data": "<div class=\"ansiout\">+----------+----+------+------+----+------+----+--------------------+\n|total_bill| tip|   sex|smoker| day|  time|size|     percentile rank|\n+----------+----+------+------+----+------+----+--------------------+\n|      7.51| 2.0|  Male|    No|Thur| Lunch|   2|                 0.0|\n|      7.56|1.44|  Male|    No|Thur| Lunch|   2| 0.01639344262295082|\n|      8.35| 1.5|Female|    No|Thur| Lunch|   2| 0.03278688524590164|\n|      8.51|1.25|Female|    No|Thur| Lunch|   2| 0.04918032786885246|\n|      8.52|1.48|  Male|    No|Thur| Lunch|   2| 0.06557377049180328|\n|      9.78|1.73|  Male|    No|Thur| Lunch|   2| 0.08196721311475409|\n|     10.07|1.83|Female|    No|Thur| Lunch|   1| 0.09836065573770492|\n|     10.33| 2.0|Female|    No|Thur| Lunch|   2| 0.11475409836065574|\n|     10.34| 2.0|  Male|   Yes|Thur| Lunch|   2| 0.13114754098360656|\n|     10.65| 1.5|Female|    No|Thur| Lunch|   2| 0.14754098360655737|\n|     11.17| 1.5|Female|    No|Thur| Lunch|   2| 0.16393442622950818|\n|     11.38| 2.0|Female|    No|Thur| Lunch|   2| 0.18032786885245902|\n|     11.69|2.31|  Male|    No|Thur| Lunch|   2| 0.19672131147540983|\n|     11.87|1.63|Female|    No|Thur| Lunch|   2| 0.21311475409836064|\n|     12.26| 2.0|Female|    No|Thur| Lunch|   2| 0.22950819672131148|\n|     12.43| 1.8|Female|    No|Thur| Lunch|   2|  0.2459016393442623|\n|     12.48|2.52|Female|    No|Thur| Lunch|   2| 0.26229508196721313|\n|     12.74|2.01|Female|   Yes|Thur| Lunch|   2|  0.2786885245901639|\n|      13.0| 2.0|Female|   Yes|Thur| Lunch|   2| 0.29508196721311475|\n|      13.0| 2.0|Female|   Yes|Thur| Lunch|   2| 0.29508196721311475|\n|     13.03| 2.0|  Male|    No|Thur| Lunch|   2| 0.32786885245901637|\n|     13.16|2.75|Female|    No|Thur| Lunch|   2|  0.3442622950819672|\n|     13.42|1.68|Female|    No|Thur| Lunch|   2| 0.36065573770491804|\n|     13.51| 2.0|  Male|   Yes|Thur| Lunch|   2|  0.3770491803278688|\n|     14.15| 2.0|Female|    No|Thur| Lunch|   2| 0.39344262295081966|\n|     14.26| 2.5|  Male|    No|Thur| Lunch|   2|  0.4098360655737705|\n|     14.52| 2.0|Female|    No|Thur| Lunch|   2|  0.4262295081967213|\n|     15.48|2.02|  Male|   Yes|Thur| Lunch|   2|  0.4426229508196721|\n|     15.95| 2.0|  Male|    No|Thur| Lunch|   2| 0.45901639344262296|\n|     15.98|2.03|  Male|    No|Thur| Lunch|   2| 0.47540983606557374|\n|      16.0| 2.0|  Male|   Yes|Thur| Lunch|   2|  0.4918032786885246|\n|      16.4| 2.5|Female|   Yes|Thur| Lunch|   2|  0.5081967213114754|\n|     16.43| 2.3|Female|    No|Thur| Lunch|   2|  0.5245901639344263|\n|     16.47|3.23|Female|   Yes|Thur| Lunch|   3|  0.5409836065573771|\n|     16.58| 4.0|  Male|   Yes|Thur| Lunch|   2|  0.5573770491803278|\n|     16.66| 3.4|  Male|    No|Thur| Lunch|   2|  0.5737704918032787|\n|     17.29|2.71|  Male|    No|Thur| Lunch|   2|  0.5901639344262295|\n|     17.47| 3.5|Female|    No|Thur| Lunch|   2|  0.6065573770491803|\n|     18.26|3.25|Female|    No|Thur| Lunch|   2|  0.6229508196721312|\n|     18.28| 4.0|  Male|    No|Thur| Lunch|   2|   0.639344262295082|\n|     18.64|1.36|Female|    No|Thur| Lunch|   3|  0.6557377049180327|\n|     18.71| 4.0|  Male|   Yes|Thur| Lunch|   3|  0.6721311475409836|\n|     18.78| 3.0|Female|    No|Thur|Dinner|   2|  0.6885245901639344|\n|     19.08| 1.5|  Male|    No|Thur| Lunch|   2|  0.7049180327868853|\n|     19.44| 3.0|  Male|   Yes|Thur| Lunch|   2|  0.7213114754098361|\n|     19.81|4.19|Female|   Yes|Thur| Lunch|   2|  0.7377049180327869|\n|     20.27|2.83|Female|    No|Thur| Lunch|   2|  0.7540983606557377|\n|     20.53| 4.0|  Male|   Yes|Thur| Lunch|   4|  0.7704918032786885|\n|     21.16| 3.0|  Male|    No|Thur| Lunch|   2|  0.7868852459016393|\n|     22.76| 3.0|  Male|    No|Thur| Lunch|   2|  0.8032786885245902|\n|     22.82|2.18|  Male|    No|Thur| Lunch|   3|   0.819672131147541|\n|     24.08|2.92|Female|    No|Thur| Lunch|   4|  0.8360655737704918|\n|     24.71|5.85|  Male|    No|Thur| Lunch|   2|  0.8524590163934426|\n|     27.05| 5.0|Female|    No|Thur| Lunch|   6|  0.8688524590163934|\n|      27.2| 4.0|  Male|    No|Thur| Lunch|   4|  0.8852459016393442|\n|     28.44|2.56|  Male|   Yes|Thur| Lunch|   2|  0.9016393442622951|\n|      29.8| 4.2|Female|    No|Thur| Lunch|   6|  0.9180327868852459|\n|     32.68| 5.0|  Male|   Yes|Thur| Lunch|   2|  0.9344262295081968|\n|      34.3| 6.7|  Male|    No|Thur| Lunch|   6|  0.9508196721311475|\n|     34.83|5.17|Female|    No|Thur| Lunch|   4|  0.9672131147540983|\n|     41.19| 5.0|  Male|    No|Thur| Lunch|   5|  0.9836065573770492|\n|     43.11| 5.0|Female|   Yes|Thur| Lunch|   4|                 1.0|\n|      7.25|5.15|  Male|   Yes| Sun|Dinner|   2|                 0.0|\n|      8.77| 2.0|  Male|    No| Sun|Dinner|   2|0.013333333333333334|\n|       9.6| 4.0|Female|   Yes| Sun|Dinner|   2| 0.02666666666666667|\n|      9.68|1.32|  Male|    No| Sun|Dinner|   2|                0.04|\n|      9.94|1.56|  Male|    No| Sun|Dinner|   2| 0.05333333333333334|\n|     10.27|1.71|  Male|    No| Sun|Dinner|   2| 0.06666666666666667|\n|     10.29| 2.6|Female|    No| Sun|Dinner|   2|                0.08|\n|     10.33|1.67|Female|    No| Sun|Dinner|   3| 0.09333333333333334|\n|     10.34|1.66|  Male|    No| Sun|Dinner|   3| 0.10666666666666667|\n|     12.54| 2.5|  Male|    No| Sun|Dinner|   2|                0.12|\n|     12.66| 2.5|  Male|    No| Sun|Dinner|   2| 0.13333333333333333|\n|     13.13| 2.0|  Male|    No| Sun|Dinner|   2| 0.14666666666666667|\n|     13.39|2.61|Female|    No| Sun|Dinner|   2|                0.16|\n|     13.81| 2.0|  Male|    No| Sun|Dinner|   2| 0.17333333333333334|\n|     13.94|3.06|  Male|    No| Sun|Dinner|   2| 0.18666666666666668|\n|     14.07| 2.5|  Male|    No| Sun|Dinner|   2|                 0.2|\n|     14.48| 2.0|  Male|   Yes| Sun|Dinner|   2| 0.21333333333333335|\n|     14.78|3.23|  Male|    No| Sun|Dinner|   2| 0.22666666666666666|\n|     14.83|3.02|Female|    No| Sun|Dinner|   2|                0.24|\n|     15.04|1.96|  Male|    No| Sun|Dinner|   2| 0.25333333333333335|\n|     15.42|1.57|  Male|    No| Sun|Dinner|   2| 0.26666666666666666|\n|     15.69| 1.5|  Male|   Yes| Sun|Dinner|   2|                0.28|\n|     16.21| 2.0|Female|    No| Sun|Dinner|   3| 0.29333333333333333|\n|     16.29|3.71|  Male|    No| Sun|Dinner|   3| 0.30666666666666664|\n|     16.49| 2.0|  Male|    No| Sun|Dinner|   4|                0.32|\n|     16.82| 4.0|  Male|   Yes| Sun|Dinner|   2|  0.3333333333333333|\n|     16.97| 3.5|Female|    No| Sun|Dinner|   3|  0.3466666666666667|\n|     16.99|1.01|Female|    No| Sun|Dinner|   2|                0.36|\n|     17.26|2.74|  Male|    No| Sun|Dinner|   3| 0.37333333333333335|\n|     17.31| 3.5|Female|    No| Sun|Dinner|   2| 0.38666666666666666|\n|     17.46|2.54|  Male|    No| Sun|Dinner|   2|                 0.4|\n|     17.51| 3.0|Female|   Yes| Sun|Dinner|   2| 0.41333333333333333|\n|     17.89| 2.0|  Male|   Yes| Sun|Dinner|   2|  0.4266666666666667|\n|     18.04| 3.0|  Male|    No| Sun|Dinner|   2|                0.44|\n|     18.15| 3.5|Female|   Yes| Sun|Dinner|   3|  0.4533333333333333|\n|     18.29| 3.0|  Male|    No| Sun|Dinner|   2|  0.4666666666666667|\n|     18.43| 3.0|  Male|    No| Sun|Dinner|   4|                0.48|\n|     19.49|3.51|  Male|    No| Sun|Dinner|   2| 0.49333333333333335|\n|     19.77| 2.0|  Male|    No| Sun|Dinner|   4|  0.5066666666666667|\n|     20.69| 5.0|  Male|    No| Sun|Dinner|   5|                0.52|\n|     20.76|2.24|  Male|    No| Sun|Dinner|   2|  0.5333333333333333|\n|      20.9| 3.5|Female|   Yes| Sun|Dinner|   3|  0.5466666666666666|\n|     21.01| 3.5|  Male|    No| Sun|Dinner|   3|                0.56|\n|      21.5| 3.5|  Male|    No| Sun|Dinner|   4|  0.5733333333333334|\n|     21.58|3.92|  Male|    No| Sun|Dinner|   2|  0.5866666666666667|\n|     22.23| 5.0|  Male|    No| Sun|Dinner|   2|                 0.6|\n|      23.1| 4.0|  Male|   Yes| Sun|Dinner|   3|  0.6133333333333333|\n|     23.17| 6.5|  Male|   Yes| Sun|Dinner|   4|  0.6266666666666667|\n|     23.33|5.65|  Male|   Yes| Sun|Dinner|   2|                0.64|\n|     23.68|3.31|  Male|    No| Sun|Dinner|   2|  0.6533333333333333|\n|     23.95|2.55|  Male|    No| Sun|Dinner|   2|  0.6666666666666666|\n|     24.52|3.48|  Male|    No| Sun|Dinner|   3|                0.68|\n|     24.55| 2.0|  Male|    No| Sun|Dinner|   4|  0.6933333333333334|\n|     24.59|3.61|Female|    No| Sun|Dinner|   4|  0.7066666666666667|\n|      25.0|3.75|Female|    No| Sun|Dinner|   4|                0.72|\n|     25.29|4.71|  Male|    No| Sun|Dinner|   4|  0.7333333333333333|\n|     25.56|4.34|  Male|    No| Sun|Dinner|   4|  0.7466666666666667|\n|     25.71| 4.0|Female|    No| Sun|Dinner|   3|                0.76|\n|     26.88|3.12|  Male|    No| Sun|Dinner|   4|  0.7733333333333333|\n|     28.55|2.05|  Male|    No| Sun|Dinner|   3|  0.7866666666666666|\n|     29.85|5.14|Female|    No| Sun|Dinner|   5|                 0.8|\n|     29.93|5.07|  Male|    No| Sun|Dinner|   4|  0.8133333333333334|\n|      30.4| 5.6|  Male|    No| Sun|Dinner|   4|  0.8266666666666667|\n|     30.46| 2.0|  Male|   Yes| Sun|Dinner|   5|                0.84|\n|     31.71| 4.5|  Male|    No| Sun|Dinner|   4|  0.8533333333333334|\n|     31.85|3.18|  Male|   Yes| Sun|Dinner|   2|  0.8666666666666667|\n|      32.4| 6.0|  Male|    No| Sun|Dinner|   4|                0.88|\n|      32.9|3.11|  Male|   Yes| Sun|Dinner|   2|  0.8933333333333333|\n|     34.63|3.55|  Male|   Yes| Sun|Dinner|   2|  0.9066666666666666|\n|     34.65|3.68|  Male|   Yes| Sun|Dinner|   4|                0.92|\n|     34.81| 5.2|Female|    No| Sun|Dinner|   4|  0.9333333333333333|\n|     35.26| 5.0|Female|    No| Sun|Dinner|   4|  0.9466666666666667|\n|     38.07| 4.0|  Male|    No| Sun|Dinner|   3|                0.96|\n|     40.55| 3.0|  Male|   Yes| Sun|Dinner|   2|  0.9733333333333334|\n|     45.35| 3.5|  Male|   Yes| Sun|Dinner|   3|  0.9866666666666667|\n|     48.17| 5.0|  Male|    No| Sun|Dinner|   6|                 1.0|\n|      3.07| 1.0|Female|   Yes| Sat|Dinner|   1|                 0.0|\n|      7.25| 1.0|Female|    No| Sat|Dinner|   1|0.011627906976744186|\n|      7.74|1.44|  Male|   Yes| Sat|Dinner|   2|0.023255813953488372|\n|      9.55|1.45|  Male|    No| Sat|Dinner|   2| 0.03488372093023256|\n|     10.07|1.25|  Male|    No| Sat|Dinner|   2|0.046511627906976744|\n|     10.51|1.25|  Male|    No| Sat|Dinner|   2| 0.05813953488372093|\n|     10.59|1.61|Female|   Yes| Sat|Dinner|   2| 0.06976744186046512|\n|     10.63| 2.0|Female|   Yes| Sat|Dinner|   2| 0.08139534883720931|\n|     10.77|1.47|  Male|    No| Sat|Dinner|   2| 0.09302325581395349|\n|     11.02|1.98|  Male|   Yes| Sat|Dinner|   2| 0.10465116279069768|\n|     11.24|1.76|  Male|   Yes| Sat|Dinner|   2| 0.11627906976744186|\n|     11.59| 1.5|  Male|   Yes| Sat|Dinner|   2| 0.12790697674418605|\n|     11.61|3.39|  Male|    No| Sat|Dinner|   2| 0.13953488372093023|\n|     12.02|1.97|  Male|    No| Sat|Dinner|   2|  0.1511627906976744|\n|      12.6| 1.0|  Male|   Yes| Sat|Dinner|   2| 0.16279069767441862|\n|     12.69| 2.0|  Male|    No| Sat|Dinner|   2|  0.1744186046511628|\n|     12.76|2.23|Female|   Yes| Sat|Dinner|   2| 0.18604651162790697|\n|      12.9| 1.1|Female|   Yes| Sat|Dinner|   2| 0.19767441860465115|\n|     13.27| 2.5|Female|   Yes| Sat|Dinner|   2| 0.20930232558139536|\n|     13.28|2.72|  Male|    No| Sat|Dinner|   2| 0.22093023255813954|\n|     13.37| 2.0|  Male|    No| Sat|Dinner|   2| 0.23255813953488372|\n|     13.81| 2.0|  Male|   Yes| Sat|Dinner|   2|  0.2441860465116279|\n|      14.0| 3.0|  Male|    No| Sat|Dinner|   2|  0.2558139534883721|\n|     14.31| 4.0|Female|   Yes| Sat|Dinner|   2| 0.26744186046511625|\n|     14.73| 2.2|Female|    No| Sat|Dinner|   2| 0.27906976744186046|\n|     15.01|2.09|  Male|   Yes| Sat|Dinner|   2| 0.29069767441860467|\n|     15.06| 3.0|Female|    No| Sat|Dinner|   2|  0.3023255813953488|\n|     15.36|1.64|  Male|   Yes| Sat|Dinner|   2|   0.313953488372093|\n|     15.53| 3.0|  Male|   Yes| Sat|Dinner|   2| 0.32558139534883723|\n|     15.69| 3.0|  Male|   Yes| Sat|Dinner|   3|  0.3372093023255814|\n|     15.77|2.23|Female|    No| Sat|Dinner|   2|  0.3488372093023256|\n|     15.81|3.16|  Male|   Yes| Sat|Dinner|   2| 0.36046511627906974|\n|     16.04|2.24|  Male|    No| Sat|Dinner|   3| 0.37209302325581395|\n|     16.31| 2.0|  Male|    No| Sat|Dinner|   3| 0.38372093023255816|\n|     16.45|2.47|Female|    No| Sat|Dinner|   2|  0.3953488372093023|\n|     16.93|3.07|Female|    No| Sat|Dinner|   3|  0.4069767441860465|\n|     17.07| 3.0|Female|    No| Sat|Dinner|   3|  0.4186046511627907|\n|     17.59|2.64|  Male|    No| Sat|Dinner|   3| 0.43023255813953487|\n|     17.78|3.27|  Male|    No| Sat|Dinner|   2|  0.4418604651162791|\n|     17.81|2.34|  Male|    No| Sat|Dinner|   4| 0.45348837209302323|\n|     17.82|1.75|  Male|    No| Sat|Dinner|   2| 0.46511627906976744|\n|     17.92|4.08|  Male|    No| Sat|Dinner|   2| 0.47674418604651164|\n|     17.92|3.08|  Male|   Yes| Sat|Dinner|   2| 0.47674418604651164|\n|     18.24|3.76|  Male|    No| Sat|Dinner|   2|                 0.5|\n|     18.29|3.76|  Male|   Yes| Sat|Dinner|   4|  0.5116279069767442|\n|     18.35| 2.5|  Male|    No| Sat|Dinner|   4|  0.5232558139534884|\n|     18.69|2.31|  Male|    No| Sat|Dinner|   3|  0.5348837209302325|\n|     19.65| 3.0|Female|    No| Sat|Dinner|   2|  0.5465116279069767|\n|     19.82|3.18|  Male|    No| Sat|Dinner|   2|  0.5581395348837209|\n|     20.08|3.15|  Male|    No| Sat|Dinner|   3|  0.5697674418604651|\n|     20.23|2.01|  Male|    No| Sat|Dinner|   2|  0.5813953488372093|\n|     20.29|2.75|Female|    No| Sat|Dinner|   2|  0.5930232558139535|\n|     20.29|3.21|  Male|   Yes| Sat|Dinner|   2|  0.5930232558139535|\n|     20.45| 3.0|  Male|    No| Sat|Dinner|   4|  0.6162790697674418|\n|     20.49|4.06|  Male|   Yes| Sat|Dinner|   2|   0.627906976744186|\n|     20.65|3.35|  Male|    No| Sat|Dinner|   3|  0.6395348837209303|\n|     20.69|2.45|Female|    No| Sat|Dinner|   4|  0.6511627906976745|\n|     20.92|4.08|Female|    No| Sat|Dinner|   2|  0.6627906976744186|\n|      21.7| 4.3|  Male|    No| Sat|Dinner|   2|  0.6744186046511628|\n|     22.12|2.88|Female|   Yes| Sat|Dinner|   2|   0.686046511627907|\n|     22.42|3.48|Female|   Yes| Sat|Dinner|   2|  0.6976744186046512|\n|     22.67| 2.0|  Male|   Yes| Sat|Dinner|   2|  0.7093023255813954|\n|     24.01| 2.0|  Male|   Yes| Sat|Dinner|   4|  0.7209302325581395|\n|     24.06| 3.6|  Male|    No| Sat|Dinner|   3|  0.7325581395348837|\n|     24.27|2.03|  Male|   Yes| Sat|Dinner|   2|  0.7441860465116279|\n|     25.21|4.29|  Male|   Yes| Sat|Dinner|   2|  0.7558139534883721|\n|     25.28| 5.0|Female|   Yes| Sat|Dinner|   2|  0.7674418604651163|\n|     25.89|5.16|  Male|   Yes| Sat|Dinner|   4|  0.7790697674418605|\n|     26.41| 1.5|Female|    No| Sat|Dinner|   2|  0.7906976744186046|\n|     26.59|3.41|  Male|   Yes| Sat|Dinner|   3|  0.8023255813953488|\n|     26.86|3.14|Female|   Yes| Sat|Dinner|   2|   0.813953488372093|\n|     27.18| 2.0|Female|   Yes| Sat|Dinner|   2|  0.8255813953488372|\n|     28.15| 3.0|  Male|   Yes| Sat|Dinner|   5|  0.8372093023255814|\n|     28.17| 6.5|Female|   Yes| Sat|Dinner|   3|  0.8488372093023255|\n|     29.03|5.92|  Male|    No| Sat|Dinner|   3|  0.8604651162790697|\n|     30.06| 2.0|  Male|   Yes| Sat|Dinner|   3|   0.872093023255814|\n|     30.14|3.09|Female|   Yes| Sat|Dinner|   4|  0.8837209302325582|\n|     31.27| 5.0|  Male|    No| Sat|Dinner|   3|  0.8953488372093024|\n|     32.83|1.17|  Male|   Yes| Sat|Dinner|   2|  0.9069767441860465|\n|     35.83|4.67|Female|    No| Sat|Dinner|   3|  0.9186046511627907|\n|     38.01| 3.0|  Male|   Yes| Sat|Dinner|   4|  0.9302325581395349|\n|     38.73| 3.0|  Male|   Yes| Sat|Dinner|   4|  0.9418604651162791|\n|     39.42|7.58|  Male|    No| Sat|Dinner|   4|  0.9534883720930233|\n|      44.3| 2.5|Female|   Yes| Sat|Dinner|   3|  0.9651162790697675|\n|     48.27|6.73|  Male|    No| Sat|Dinner|   4|  0.9767441860465116|\n|     48.33| 9.0|  Male|    No| Sat|Dinner|   4|  0.9883720930232558|\n|     50.81|10.0|  Male|   Yes| Sat|Dinner|   3|                 1.0|\n|      5.75| 1.0|Female|   Yes| Fri|Dinner|   2|                 0.0|\n|      8.58|1.92|  Male|   Yes| Fri| Lunch|   1| 0.05555555555555555|\n|     10.09| 2.0|Female|   Yes| Fri| Lunch|   2|  0.1111111111111111|\n|     11.35| 2.5|Female|   Yes| Fri|Dinner|   2| 0.16666666666666666|\n|     12.03| 1.5|  Male|   Yes| Fri|Dinner|   2|  0.2222222222222222|\n|     12.16| 2.2|  Male|   Yes| Fri| Lunch|   2|  0.2777777777777778|\n|     12.46| 1.5|  Male|    No| Fri|Dinner|   2|  0.3333333333333333|\n|     13.42|3.48|Female|   Yes| Fri| Lunch|   2|  0.3888888888888889|\n|     13.42|1.58|  Male|   Yes| Fri| Lunch|   2|  0.3888888888888889|\n|     15.38| 3.0|Female|   Yes| Fri|Dinner|   2|                 0.5|\n|     15.98| 3.0|Female|    No| Fri| Lunch|   3|  0.5555555555555556|\n|     16.27| 2.5|Female|   Yes| Fri| Lunch|   2|  0.6111111111111112|\n|     16.32| 4.3|Female|   Yes| Fri|Dinner|   2|  0.6666666666666666|\n|     21.01| 3.0|  Male|   Yes| Fri|Dinner|   2|  0.7222222222222222|\n|     22.49| 3.5|  Male|    No| Fri|Dinner|   2|  0.7777777777777778|\n|     22.75|3.25|Female|    No| Fri|Dinner|   2|  0.8333333333333334|\n|     27.28| 4.0|  Male|   Yes| Fri|Dinner|   2|  0.8888888888888888|\n|     28.97| 3.0|  Male|   Yes| Fri|Dinner|   2|  0.9444444444444444|\n|     40.17|4.73|  Male|   Yes| Fri|Dinner|   4|                 1.0|\n+----------+----+------+------+----+------+----+--------------------+\n\n</div>",
       "datasetInfos": [
        {
         "name": "x",
         "schema": {
          "fields": [
           {
            "metadata": {},
            "name": "total_bill",
            "nullable": true,
            "type": "double"
           },
           {
            "metadata": {},
            "name": "tip",
            "nullable": true,
            "type": "double"
           },
           {
            "metadata": {},
            "name": "sex",
            "nullable": true,
            "type": "string"
           },
           {
            "metadata": {},
            "name": "smoker",
            "nullable": true,
            "type": "string"
           },
           {
            "metadata": {},
            "name": "day",
            "nullable": true,
            "type": "string"
           },
           {
            "metadata": {},
            "name": "time",
            "nullable": true,
            "type": "string"
           },
           {
            "metadata": {},
            "name": "size",
            "nullable": true,
            "type": "long"
           },
           {
            "metadata": {},
            "name": "percentile rank",
            "nullable": true,
            "type": "double"
           }
          ],
          "type": "struct"
         },
         "tableIdentifier": null,
         "typeStr": "pyspark.sql.dataframe.DataFrame"
        }
       ],
       "metadata": {},
       "removedWidgets": [],
       "type": "html"
      }
     },
     "output_type": "display_data"
    }
   ],
   "source": [
    "x = tipss.select(\"*\",percent_rank().over(Window.partitionBy('day').orderBy('total_bill')).alias(\"percentile rank\"))\n",
    "x.show(x.count())"
   ]
  },
  {
   "cell_type": "code",
   "execution_count": 0,
   "metadata": {
    "application/vnd.databricks.v1+cell": {
     "cellMetadata": {},
     "inputWidgets": {},
     "nuid": "cc657812-1257-4ff4-a908-3f2305ea58d6",
     "showTitle": false,
     "title": ""
    }
   },
   "outputs": [
    {
     "output_type": "display_data",
     "data": {
      "text/html": [
       "<style scoped>\n",
       "  .ansiout {\n",
       "    display: block;\n",
       "    unicode-bidi: embed;\n",
       "    white-space: pre-wrap;\n",
       "    word-wrap: break-word;\n",
       "    word-break: break-all;\n",
       "    font-family: \"Menlo\", \"Monaco\", \"Consolas\", \"Ubuntu Mono\", \"Source Code Pro\", monospace;\n",
       "    font-size: 13px;\n",
       "    color: #555;\n",
       "    margin-left: 4px;\n",
       "    line-height: 19px;\n",
       "  }\n",
       "</style>\n",
       "<div class=\"ansiout\">+----+----------+------------------+\n",
       " day|total_bill|   percentile_rank|\n",
       "+----+----------+------------------+\n",
       "Thur|      16.4|0.5081967213114754|\n",
       " Sun|     19.77|0.5066666666666667|\n",
       " Sat|     18.24|               0.5|\n",
       " Fri|     15.38|               0.5|\n",
       "+----+----------+------------------+\n",
       "\n",
       "</div>"
      ]
     },
     "metadata": {
      "application/vnd.databricks.v1+output": {
       "addedWidgets": {},
       "arguments": {},
       "data": "<div class=\"ansiout\">+----+----------+------------------+\n| day|total_bill|   percentile_rank|\n+----+----------+------------------+\n|Thur|      16.4|0.5081967213114754|\n| Sun|     19.77|0.5066666666666667|\n| Sat|     18.24|               0.5|\n| Fri|     15.38|               0.5|\n+----+----------+------------------+\n\n</div>",
       "datasetInfos": [],
       "metadata": {},
       "removedWidgets": [],
       "type": "html"
      }
     },
     "output_type": "display_data"
    }
   ],
   "source": [
    "#x.filter(round(x['percentile rank'], 1)==0.5).groupBy('day').agg(max(col = 'percentile rank')).show()\n",
    "x.filter((x['percentile rank']>0.49) & (x['percentile rank']<0.51)).groupBy('day').agg(max(col = 'total_bill').alias('total_bill'), max(col = 'percentile rank').alias('percentile_rank')).show()"
   ]
  },
  {
   "cell_type": "code",
   "execution_count": 0,
   "metadata": {
    "application/vnd.databricks.v1+cell": {
     "cellMetadata": {},
     "inputWidgets": {},
     "nuid": "4fd9695a-ac12-4773-9f8d-f227480fc7bf",
     "showTitle": false,
     "title": ""
    }
   },
   "outputs": [],
   "source": []
  }
 ],
 "metadata": {
  "accelerator": "TPU",
  "application/vnd.databricks.v1+notebook": {
   "dashboards": [],
   "environmentMetadata": null,
   "language": "python",
   "notebookMetadata": {
    "pythonIndentUnit": 2
   },
   "notebookName": "Pyspark_SQL_Function_Code_Along",
   "widgets": {}
  },
  "colab": {
   "collapsed_sections": [],
   "name": "Pyspark SQL Function Code Along.ipynb",
   "provenance": [],
   "version": "0.3.2"
  },
  "kernelspec": {
   "display_name": "Python 3",
   "name": "python3"
  }
 },
 "nbformat": 4,
 "nbformat_minor": 0
}
