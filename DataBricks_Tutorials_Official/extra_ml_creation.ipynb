{
 "cells": [
  {
   "cell_type": "code",
   "execution_count": 0,
   "metadata": {
    "application/vnd.databricks.v1+cell": {
     "cellMetadata": {},
     "inputWidgets": {},
     "nuid": "db2627d6-47b1-4ad5-87a3-6f6a75319f1d",
     "showTitle": false,
     "title": ""
    }
   },
   "outputs": [
    {
     "output_type": "stream",
     "name": "stdout",
     "output_type": "stream",
     "text": [
      "Cloning into 'spark'...\r\nremote: Enumerating objects: 884764, done.\u001B[K\r\nremote: Counting objects:   0% (1/1077)\u001B[K\rremote: Counting objects:   1% (11/1077)\u001B[K\rremote: Counting objects:   2% (22/1077)\u001B[K\rremote: Counting objects:   3% (33/1077)\u001B[K\rremote: Counting objects:   4% (44/1077)\u001B[K\rremote: Counting objects:   5% (54/1077)\u001B[K\rremote: Counting objects:   6% (65/1077)\u001B[K\rremote: Counting objects:   7% (76/1077)\u001B[K\rremote: Counting objects:   8% (87/1077)\u001B[K\rremote: Counting objects:   9% (97/1077)\u001B[K\rremote: Counting objects:  10% (108/1077)\u001B[K\rremote: Counting objects:  11% (119/1077)\u001B[K\rremote: Counting objects:  12% (130/1077)\u001B[K\rremote: Counting objects:  13% (141/1077)\u001B[K\rremote: Counting objects:  14% (151/1077)\u001B[K\rremote: Counting objects:  15% (162/1077)\u001B[K\rremote: Counting objects:  16% (173/1077)\u001B[K\rremote: Counting objects:  17% (184/1077)\u001B[K\rremote: Counting objects:  18% (194/1077)\u001B[K\rremote: Counting objects:  19% (205/1077)\u001B[K\rremote: Counting objects:  20% (216/1077)\u001B[K\rremote: Counting objects:  21% (227/1077)\u001B[K\rremote: Counting objects:  22% (237/1077)\u001B[K\rremote: Counting objects:  23% (248/1077)\u001B[K\rremote: Counting objects:  24% (259/1077)\u001B[K\rremote: Counting objects:  25% (270/1077)\u001B[K\rremote: Counting objects:  26% (281/1077)\u001B[K\rremote: Counting objects:  27% (291/1077)\u001B[K\rremote: Counting objects:  28% (302/1077)\u001B[K\rremote: Counting objects:  29% (313/1077)\u001B[K\rremote: Counting objects:  30% (324/1077)\u001B[K\rremote: Counting objects:  31% (334/1077)\u001B[K\rremote: Counting objects:  32% (345/1077)\u001B[K\rremote: Counting objects:  33% (356/1077)\u001B[K\rremote: Counting objects:  34% (367/1077)\u001B[K\rremote: Counting objects:  35% (377/1077)\u001B[K\rremote: Counting objects:  36% (388/1077)\u001B[K\rremote: Counting objects:  37% (399/1077)\u001B[K\rremote: Counting objects:  38% (410/1077)\u001B[K\rremote: Counting objects:  39% (421/1077)\u001B[K\rremote: Counting objects:  40% (431/1077)\u001B[K\rremote: Counting objects:  41% (442/1077)\u001B[K\rremote: Counting objects:  42% (453/1077)\u001B[K\rremote: Counting objects:  43% (464/1077)\u001B[K\rremote: Counting objects:  44% (474/1077)\u001B[K\rremote: Counting objects:  45% (485/1077)\u001B[K\rremote: Counting objects:  46% (496/1077)\u001B[K\rremote: Counting objects:  47% (507/1077)\u001B[K\rremote: Counting objects:  48% (517/1077)\u001B[K\rremote: Counting objects:  49% (528/1077)\u001B[K\rremote: Counting objects:  50% (539/1077)\u001B[K\rremote: Counting objects:  51% (550/1077)\u001B[K\rremote: Counting objects:  52% (561/1077)\u001B[K\rremote: Counting objects:  53% (571/1077)\u001B[K\rremote: Counting objects:  54% (582/1077)\u001B[K\rremote: Counting objects:  55% (593/1077)\u001B[K\rremote: Counting objects:  56% (604/1077)\u001B[K\rremote: Counting objects:  57% (614/1077)\u001B[K\rremote: Counting objects:  58% (625/1077)\u001B[K\rremote: Counting objects:  59% (636/1077)\u001B[K\rremote: Counting objects:  60% (647/1077)\u001B[K\rremote: Counting objects:  61% (657/1077)\u001B[K\rremote: Counting objects:  62% (668/1077)\u001B[K\rremote: Counting objects:  63% (679/1077)\u001B[K\rremote: Counting objects:  64% (690/1077)\u001B[K\rremote: Counting objects:  65% (701/1077)\u001B[K\rremote: Counting objects:  66% (711/1077)\u001B[K\rremote: Counting objects:  67% (722/1077)\u001B[K\rremote: Counting objects:  68% (733/1077)\u001B[K\rremote: Counting objects:  69% (744/1077)\u001B[K\rremote: Counting objects:  70% (754/1077)\u001B[K\rremote: Counting objects:  71% (765/1077)\u001B[K\rremote: Counting objects:  72% (776/1077)\u001B[K\rremote: Counting objects:  73% (787/1077)\u001B[K\rremote: Counting objects:  74% (797/1077)\u001B[K\rremote: Counting objects:  75% (808/1077)\u001B[K\rremote: Counting objects:  76% (819/1077)\u001B[K\rremote: Counting objects:  77% (830/1077)\u001B[K\rremote: Counting objects:  78% (841/1077)\u001B[K\rremote: Counting objects:  79% (851/1077)\u001B[K\rremote: Counting objects:  80% (862/1077)\u001B[K\rremote: Counting objects:  81% (873/1077)\u001B[K\rremote: Counting objects:  82% (884/1077)\u001B[K\rremote: Counting objects:  83% (894/1077)\u001B[K\rremote: Counting objects:  84% (905/1077)\u001B[K\rremote: Counting objects:  85% (916/1077)\u001B[K\rremote: Counting objects:  86% (927/1077)\u001B[K\rremote: Counting objects:  87% (937/1077)\u001B[K\rremote: Counting objects:  88% (948/1077)\u001B[K\rremote: Counting objects:  89% (959/1077)\u001B[K\rremote: Counting objects:  90% (970/1077)\u001B[K\rremote: Counting objects:  91% (981/1077)\u001B[K\rremote: Counting objects:  92% (991/1077)\u001B[K\rremote: Counting objects:  93% (1002/1077)\u001B[K\rremote: Counting objects:  94% (1013/1077)\u001B[K\rremote: Counting objects:  95% (1024/1077)\u001B[K\rremote: Counting objects:  96% (1034/1077)\u001B[K\rremote: Counting objects:  97% (1045/1077)\u001B[K\rremote: Counting objects:  98% (1056/1077)\u001B[K\rremote: Counting objects:  99% (1067/1077)\u001B[K\rremote: Counting objects: 100% (1077/1077)\u001B[K\rremote: Counting objects: 100% (1077/1077), done.\u001B[K\r\nremote: Compressing objects:   0% (1/516)\u001B[K\rremote: Compressing objects:   1% (6/516)\u001B[K\rremote: Compressing objects:   2% (11/516)\u001B[K\rremote: Compressing objects:   3% (16/516)\u001B[K\rremote: Compressing objects:   4% (21/516)\u001B[K\rremote: Compressing objects:   5% (26/516)\u001B[K\rremote: Compressing objects:   6% (31/516)\u001B[K\rremote: Compressing objects:   7% (37/516)\u001B[K\rremote: Compressing objects:   8% (42/516)\u001B[K\rremote: Compressing objects:   9% (47/516)\u001B[K\rremote: Compressing objects:  10% (52/516)\u001B[K\rremote: Compressing objects:  11% (57/516)\u001B[K\rremote: Compressing objects:  12% (62/516)\u001B[K\rremote: Compressing objects:  13% (68/516)\u001B[K\rremote: Compressing objects:  14% (73/516)\u001B[K\rremote: Compressing objects:  15% (78/516)\u001B[K\rremote: Compressing objects:  16% (83/516)\u001B[K\rremote: Compressing objects:  17% (88/516)\u001B[K\rremote: Compressing objects:  18% (93/516)\u001B[K\rremote: Compressing objects:  19% (99/516)\u001B[K\rremote: Compressing objects:  20% (104/516)\u001B[K\rremote: Compressing objects:  21% (109/516)\u001B[K\rremote: Compressing objects:  22% (114/516)\u001B[K\rremote: Compressing objects:  23% (119/516)\u001B[K\rremote: Compressing objects:  24% (124/516)\u001B[K\rremote: Compressing objects:  25% (129/516)\u001B[K\rremote: Compressing objects:  26% (135/516)\u001B[K\rremote: Compressing objects:  27% (140/516)\u001B[K\rremote: Compressing objects:  28% (145/516)\u001B[K\rremote: Compressing objects:  29% (150/516)\u001B[K\rremote: Compressing objects:  30% (155/516)\u001B[K\rremote: Compressing objects:  31% (160/516)\u001B[K\rremote: Compressing objects:  32% (166/516)\u001B[K\rremote: Compressing objects:  33% (171/516)\u001B[K\rremote: Compressing objects:  34% (176/516)\u001B[K\rremote: Compressing objects:  35% (181/516)\u001B[K\rremote: Compressing objects:  36% (186/516)\u001B[K\rremote: Compressing objects:  37% (191/516)\u001B[K\rremote: Compressing objects:  38% (197/516)\u001B[K\rremote: Compressing objects:  39% (202/516)\u001B[K\rremote: Compressing objects:  40% (207/516)\u001B[K\rremote: Compressing objects:  41% (212/516)\u001B[K\rremote: Compressing objects:  42% (217/516)\u001B[K\rremote: Compressing objects:  43% (222/516)\u001B[K\rremote: Compressing objects:  44% (228/516)\u001B[K\rremote: Compressing objects:  45% (233/516)\u001B[K\rremote: Compressing objects:  46% (238/516)\u001B[K\rremote: Compressing objects:  47% (243/516)\u001B[K\rremote: Compressing objects:  48% (248/516)\u001B[K\rremote: Compressing objects:  49% (253/516)\u001B[K\rremote: Compressing objects:  50% (258/516)\u001B[K\rremote: Compressing objects:  51% (264/516)\u001B[K\rremote: Compressing objects:  52% (269/516)\u001B[K\rremote: Compressing objects:  53% (274/516)\u001B[K\rremote: Compressing objects:  54% (279/516)\u001B[K\rremote: Compressing objects:  55% (284/516)\u001B[K\rremote: Compressing objects:  56% (289/516)\u001B[K\rremote: Compressing objects:  57% (295/516)\u001B[K\rremote: Compressing objects:  58% (300/516)\u001B[K\rremote: Compressing objects:  59% (305/516)\u001B[K\rremote: Compressing objects:  60% (310/516)\u001B[K\rremote: Compressing objects:  61% (315/516)\u001B[K\rremote: Compressing objects:  62% (320/516)\u001B[K\rremote: Compressing objects:  63% (326/516)\u001B[K\rremote: Compressing objects:  64% (331/516)\u001B[K\rremote: Compressing objects:  65% (336/516)\u001B[K\rremote: Compressing objects:  66% (341/516)\u001B[K\rremote: Compressing objects:  67% (346/516)\u001B[K\rremote: Compressing objects:  68% (351/516)\u001B[K\rremote: Compressing objects:  69% (357/516)\u001B[K\rremote: Compressing objects:  70% (362/516)\u001B[K\rremote: Compressing objects:  71% (367/516)\u001B[K\rremote: Compressing objects:  72% (372/516)\u001B[K\rremote: Compressing objects:  73% (377/516)\u001B[K\rremote: Compressing objects:  74% (382/516)\u001B[K\rremote: Compressing objects:  75% (387/516)\u001B[K\rremote: Compressing objects:  76% (393/516)\u001B[K\rremote: Compressing objects:  77% (398/516)\u001B[K\rremote: Compressing objects:  78% (403/516)\u001B[K\rremote: Compressing objects:  79% (408/516)\u001B[K\rremote: Compressing objects:  80% (413/516)\u001B[K\rremote: Compressing objects:  81% (418/516)\u001B[K\rremote: Compressing objects:  82% (424/516)\u001B[K\rremote: Compressing objects:  83% (429/516)\u001B[K\rremote: Compressing objects:  84% (434/516)\u001B[K\rremote: Compressing objects:  85% (439/516)\u001B[K\rremote: Compressing objects:  86% (444/516)\u001B[K\rremote: Compressing objects:  87% (449/516)\u001B[K\rremote: Compressing objects:  88% (455/516)\u001B[K\rremote: Compressing objects:  89% (460/516)\u001B[K\rremote: Compressing objects:  90% (465/516)\u001B[K\rremote: Compressing objects:  91% (470/516)\u001B[K\rremote: Compressing objects:  92% (475/516)\u001B[K\rremote: Compressing objects:  93% (480/516)\u001B[K\rremote: Compressing objects:  94% (486/516)\u001B[K\rremote: Compressing objects:  95% (491/516)\u001B[K\rremote: Compressing objects:  96% (496/516)\u001B[K\rremote: Compressing objects:  97% (501/516)\u001B[K\rremote: Compressing objects:  98% (506/516)\u001B[K\rremote: Compressing objects:  99% (511/516)\u001B[K\rremote: Compressing objects: 100% (516/516)\u001B[K\rremote: Compressing objects: 100% (516/516), done.\u001B[K\r\nReceiving objects:   0% (1/884764)\rReceiving objects:   0% (7266/884764), 2.53 MiB | 5.05 MiB/s\rReceiving objects:   1% (8848/884764), 5.27 MiB | 5.21 MiB/s\rReceiving objects:   1% (16491/884764), 11.12 MiB | 5.53 MiB/s\rReceiving objects:   2% (17696/884764), 11.12 MiB | 5.53 MiB/s\rReceiving objects:   2% (21443/884764), 12.50 MiB | 4.98 MiB/s\rReceiving objects:   3% (26543/884764), 15.90 MiB | 4.53 MiB/s\rReceiving objects:   3% (27465/884764), 15.90 MiB | 4.53 MiB/s\rReceiving objects:   4% (35391/884764), 19.24 MiB | 4.26 MiB/s\rReceiving objects:   4% (37471/884764), 19.24 MiB | 4.26 MiB/s\rReceiving objects:   5% (44239/884764), 22.41 MiB | 4.40 MiB/s\rReceiving objects:   5% (51125/884764), 25.23 MiB | 4.43 MiB/s\rReceiving objects:   6% (53086/884764), 40.50 MiB | 6.52 MiB/s\rReceiving objects:   6% (54085/884764), 40.50 MiB | 6.52 MiB/s\rReceiving objects:   6% (57700/884764), 46.21 MiB | 7.12 MiB/s\rReceiving objects:   7% (61934/884764), 53.36 MiB | 7.93 MiB/s\rReceiving objects:   7% (63282/884764), 53.36 MiB | 7.93 MiB/s\rReceiving objects:   8% (70782/884764), 59.67 MiB | 8.26 MiB/s\rReceiving objects:   8% (72851/884764), 59.67 MiB | 8.26 MiB/s\rReceiving objects:   9% (79629/884764), 68.60 MiB | 8.11 MiB/s\rReceiving objects:   9% (82650/884764), 68.60 MiB | 8.11 MiB/s\rReceiving objects:  10% (88477/884764), 77.09 MiB | 7.48 MiB/s\rReceiving objects:  10% (90762/884764), 77.09 MiB | 7.48 MiB/s\rReceiving objects:  11% (97325/884764), 85.20 MiB | 7.93 MiB/s\rReceiving objects:  11% (97731/884764), 85.20 MiB | 7.93 MiB/s\rReceiving objects:  12% (106172/884764), 93.19 MiB | 8.17 MiB/s\rReceiving objects:  12% (110218/884764), 93.19 MiB | 8.17 MiB/s\rReceiving objects:  13% (115020/884764), 97.81 MiB | 8.47 MiB/s\rReceiving objects:  13% (123184/884764), 102.64 MiB | 8.35 MiB/s\rReceiving objects:  14% (123867/884764), 102.64 MiB | 8.35 MiB/s\rReceiving objects:  15% (132715/884764), 113.06 MiB | 8.72 MiB/s\rReceiving objects:  16% (141563/884764), 113.06 MiB | 8.72 MiB/s\rReceiving objects:  16% (144147/884764), 113.06 MiB | 8.72 MiB/s\rReceiving objects:  17% (150410/884764), 118.87 MiB | 9.27 MiB/s\rReceiving objects:  18% (159258/884764), 123.92 MiB | 9.33 MiB/s\rReceiving objects:  19% (168106/884764), 123.92 MiB | 9.33 MiB/s\rReceiving objects:  19% (170430/884764), 123.92 MiB | 9.33 MiB/s\rReceiving objects:  20% (176953/884764), 131.47 MiB | 9.52 MiB/s\rReceiving objects:  20% (181937/884764), 131.47 MiB | 9.52 MiB/s\rReceiving objects:  21% (185801/884764), 134.72 MiB | 9.22 MiB/s\rReceiving objects:  22% (194649/884764), 137.45 MiB | 8.81 MiB/s\rReceiving objects:  22% (195176/884764), 137.45 MiB | 8.81 MiB/s\rReceiving objects:  23% (203496/884764), 140.48 MiB | 8.41 MiB/s\rReceiving objects:  24% (212344/884764), 143.84 MiB | 7.85 MiB/s\rReceiving objects:  24% (215943/884764), 143.84 MiB | 7.85 MiB/s\rReceiving objects:  25% (221191/884764), 146.66 MiB | 7.47 MiB/s\rReceiving objects:  26% (230039/884764), 149.05 MiB | 6.71 MiB/s\rReceiving objects:  26% (233943/884764), 149.05 MiB | 6.71 MiB/s\rReceiving objects:  27% (238887/884764), 152.33 MiB | 6.31 MiB/s\rReceiving objects:  27% (247573/884764), 155.94 MiB | 5.95 MiB/s\rReceiving objects:  28% (247734/884764), 155.94 MiB | 5.95 MiB/s\rReceiving objects:  29% (256582/884764), 159.75 MiB | 6.28 MiB/s\rReceiving objects:  30% (265430/884764), 159.75 MiB | 6.28 MiB/s\rReceiving objects:  31% (274277/884764), 166.94 MiB | 7.16 MiB/s\rReceiving objects:  32% (283125/884764), 166.94 MiB | 7.16 MiB/s\rReceiving objects:  32% (286242/884764), 166.94 MiB | 7.16 MiB/s\rReceiving objects:  33% (291973/884764), 172.75 MiB | 7.85 MiB/s\rReceiving objects:  34% (300820/884764), 178.70 MiB | 8.49 MiB/s\rReceiving objects:  34% (301899/884764), 178.70 MiB | 8.49 MiB/s\rReceiving objects:  35% (309668/884764), 192.77 MiB | 10.24 MiB/s\rReceiving objects:  36% (318516/884764), 192.77 MiB | 10.24 MiB/s\rReceiving objects:  36% (319050/884764), 192.77 MiB | 10.24 MiB/s\rReceiving objects:  37% (327363/884764), 201.97 MiB | 11.75 MiB/s\rReceiving objects:  38% (336211/884764), 201.97 MiB | 11.75 MiB/s\rReceiving objects:  39% (345058/884764), 210.49 MiB | 12.91 MiB/s\rReceiving objects:  40% (353906/884764), 210.49 MiB | 12.91 MiB/s\rReceiving objects:  41% (362754/884764), 210.49 MiB | 12.91 MiB/s\rReceiving objects:  41% (370090/884764), 210.49 MiB | 12.91 MiB/s\rReceiving objects:  42% (371601/884764), 210.49 MiB | 12.91 MiB/s\rReceiving objects:  43% (380449/884764), 217.33 MiB | 13.62 MiB/s\rReceiving objects:  44% (389297/884764), 217.33 MiB | 13.62 MiB/s\rReceiving objects:  45% (398144/884764), 224.45 MiB | 14.36 MiB/s\rReceiving objects:  46% (406992/884764), 224.45 MiB | 14.36 MiB/s\rReceiving objects:  47% (415840/884764), 224.45 MiB | 14.36 MiB/s\rReceiving objects:  48% (424687/884764), 224.45 MiB | 14.36 MiB/s\rReceiving objects:  48% (425320/884764), 224.45 MiB | 14.36 MiB/s\rReceiving objects:  49% (433535/884764), 224.45 MiB | 14.36 MiB/s\rReceiving objects:  50% (442382/884764), 232.47 MiB | 14.54 MiB/s\rReceiving objects:  51% (451230/884764), 232.47 MiB | 14.54 MiB/s\rReceiving objects:  52% (460078/884764), 232.47 MiB | 14.54 MiB/s\rReceiving objects:  53% (468925/884764), 232.47 MiB | 14.54 MiB/s\rReceiving objects:  54% (477773/884764), 232.47 MiB | 14.54 MiB/s\rReceiving objects:  55% (486621/884764), 238.64 MiB | 14.62 MiB/s\rReceiving objects:  56% (495468/884764), 238.64 MiB | 14.62 MiB/s\rReceiving objects:  57% (504316/884764), 238.64 MiB | 14.62 MiB/s\rReceiving objects:  58% (513164/884764), 238.64 MiB | 14.62 MiB/s\rReceiving objects:  58% (518777/884764), 238.64 MiB | 14.62 MiB/s\rReceiving objects:  59% (522011/884764), 247.20 MiB | 15.19 MiB/s\rReceiving objects:  60% (530859/884764), 253.95 MiB | 14.75 MiB/s\rReceiving objects:  61% (539707/884764), 253.95 MiB | 14.75 MiB/s\rReceiving objects:  61% (541709/884764), 253.95 MiB | 14.75 MiB/s\rReceiving objects:  62% (548554/884764), 265.57 MiB | 14.12 MiB/s\rReceiving objects:  63% (557402/884764), 265.57 MiB | 14.12 MiB/s\rReceiving objects:  63% (557623/884764), 265.57 MiB | 14.12 MiB/s\rReceiving objects:  64% (566249/884764), 272.55 MiB | 13.78 MiB/s\rReceiving objects:  65% (575097/884764), 278.71 MiB | 13.63 MiB/s\rReceiving objects:  65% (575982/884764), 278.71 MiB | 13.63 MiB/s\rReceiving objects:  66% (583945/884764), 285.01 MiB | 13.45 MiB/s\rReceiving objects:  67% (592792/884764), 291.39 MiB | 13.08 MiB/s\rReceiving objects:  68% (601640/884764), 291.39 MiB | 13.08 MiB/s\rReceiving objects:  68% (601710/884764), 291.39 MiB | 13.08 MiB/s\rReceiving objects:  69% (610488/884764), 304.27 MiB | 12.68 MiB/s\rReceiving objects:  70% (619335/884764), 304.27 MiB | 12.68 MiB/s\rReceiving objects:  70% (620768/884764), 304.27 MiB | 12.68 MiB/s\rReceiving objects:  70% (621148/884764), 324.63 MiB | 13.12 MiB/s\rReceiving objects:  71% (628183/884764), 324.63 MiB | 13.12 MiB/s\rReceiving objects:  72% (637031/884764), 324.63 MiB | 13.12 MiB/s\rReceiving objects:  73% (645878/884764), 324.63 MiB | 13.12 MiB/s\rReceiving objects:  74% (654726/884764), 331.32 MiB | 13.06 MiB/s\rReceiving objects:  75% (663573/884764), 331.32 MiB | 13.06 MiB/s\rReceiving objects:  76% (672421/884764), 331.32 MiB | 13.06 MiB/s\rReceiving objects:  77% (681269/884764), 331.32 MiB | 13.06 MiB/s\rReceiving objects:  78% (690116/884764), 331.32 MiB | 13.06 MiB/s\rReceiving objects:  79% (698964/884764), 331.32 MiB | 13.06 MiB/s\rReceiving objects:  79% (700339/884764), 331.32 MiB | 13.06 MiB/s\rReceiving objects:  80% (707812/884764), 338.02 MiB | 13.18 MiB/s\rReceiving objects:  81% (716659/884764), 338.02 MiB | 13.18 MiB/s\rReceiving objects:  82% (725507/884764), 338.02 MiB | 13.18 MiB/s\rReceiving objects:  83% (734355/884764), 338.02 MiB | 13.18 MiB/s\rReceiving objects:  84% (743202/884764), 338.02 MiB | 13.18 MiB/s\rReceiving objects:  85% (752050/884764), 344.64 MiB | 13.25 MiB/s\rReceiving objects:  86% (760898/884764), 344.64 MiB | 13.25 MiB/s\rReceiving objects:  87% (769745/884764), 344.64 MiB | 13.25 MiB/s\rReceiving objects:  88% (778593/884764), 344.64 MiB | 13.25 MiB/s\rReceiving objects:  88% (782850/884764), 348.43 MiB | 12.63 MiB/s\rReceiving objects:  88% (785860/884764), 358.89 MiB | 11.90 MiB/s\rReceiving objects:  89% (787440/884764), 358.89 MiB | 11.90 MiB/s\rReceiving objects:  90% (796288/884764), 366.49 MiB | 12.22 MiB/s\rReceiving objects:  90% (797572/884764), 366.49 MiB | 12.22 MiB/s\rReceiving objects:  91% (805136/884764), 371.24 MiB | 11.59 MiB/s\rReceiving objects:  92% (813983/884764), 376.66 MiB | 11.34 MiB/s\rReceiving objects:  92% (821638/884764), 376.66 MiB | 11.34 MiB/s\rReceiving objects:  93% (822831/884764), 376.66 MiB | 11.34 MiB/s\rReceiving objects:  94% (831679/884764), 386.19 MiB | 11.95 MiB/s\rReceiving objects:  95% (840526/884764), 386.19 MiB | 11.95 MiB/s\rReceiving objects:  96% (849374/884764), 392.29 MiB | 11.82 MiB/s\rReceiving objects:  97% (858222/884764), 392.29 MiB | 11.82 MiB/s\rReceiving objects:  98% (867069/884764), 392.29 MiB | 11.82 MiB/s\rReceiving objects:  99% (875917/884764), 392.29 MiB | 11.82 MiB/s\rReceiving objects:  99% (880278/884764), 392.29 MiB | 11.82 MiB/s\rremote: Total 884764 (delta 351), reused 891 (delta 288), pack-reused 883687\u001B[K\r\nReceiving objects: 100% (884764/884764), 392.29 MiB | 11.82 MiB/s\rReceiving objects: 100% (884764/884764), 401.70 MiB | 10.01 MiB/s, done.\r\nResolving deltas:   0% (0/384181)\rResolving deltas:   1% (3854/384181)\rResolving deltas:   2% (7684/384181)\rResolving deltas:   3% (11526/384181)\rResolving deltas:   3% (14303/384181)\rResolving deltas:   4% (15374/384181)\rResolving deltas:   5% (19216/384181)\rResolving deltas:   6% (23089/384181)\rResolving deltas:   7% (26894/384181)\rResolving deltas:   7% (27027/384181)\rResolving deltas:   8% (30737/384181)\rResolving deltas:   8% (31654/384181)\rResolving deltas:   9% (34580/384181)\rResolving deltas:  10% (38425/384181)\rResolving deltas:  10% (39475/384181)\rResolving deltas:  11% (42266/384181)\rResolving deltas:  12% (46112/384181)\rResolving deltas:  12% (49081/384181)\rResolving deltas:  13% (49952/384181)\rResolving deltas:  14% (53792/384181)\rResolving deltas:  14% (56600/384181)\rResolving deltas:  15% (57642/384181)\rResolving deltas:  15% (61415/384181)\rResolving deltas:  16% (61472/384181)\rResolving deltas:  17% (65337/384181)\rResolving deltas:  17% (67865/384181)\rResolving deltas:  18% (69153/384181)\rResolving deltas:  19% (72998/384181)\rResolving deltas:  20% (77247/384181)\rResolving deltas:  20% (79960/384181)\rResolving deltas:  21% (80683/384181)\rResolving deltas:  22% (84540/384181)\rResolving deltas:  23% (88413/384181)\rResolving deltas:  23% (88806/384181)\rResolving deltas:  24% (92209/384181)\rResolving deltas:  25% (96071/384181)\rResolving deltas:  25% (98407/384181)\rResolving deltas:  26% (99949/384181)\rResolving deltas:  27% (103729/384181)\rResolving deltas:  28% (107575/384181)\rResolving deltas:  28% (107762/384181)\rResolving deltas:  29% (111443/384181)\rResolving deltas:  30% (115286/384181)\rResolving deltas:  30% (117200/384181)\rResolving deltas:  31% (119102/384181)\rResolving deltas:  32% (123009/384181)\rResolving deltas:  32% (125754/384181)\rResolving deltas:  33% (126789/384181)\rResolving deltas:  34% (130657/384181)\rResolving deltas:  35% (134493/384181)\rResolving deltas:  36% (138465/384181)\rResolving deltas:  37% (142147/384181)\rResolving deltas:  37% (143382/384181)\rResolving deltas:  38% (145991/384181)\rResolving deltas:  39% (149842/384181)\rResolving deltas:  40% (153677/384181)\rResolving deltas:  41% (157539/384181)\rResolving deltas:  42% (161413/384181)\rResolving deltas:  43% (165222/384181)\rResolving deltas:  44% (169044/384181)\rResolving deltas:  44% (171953/384181)\rResolving deltas:  45% (172890/384181)\rResolving deltas:  46% (176731/384181)\rResolving deltas:  47% (180573/384181)\rResolving deltas:  48% (184433/384181)\rResolving deltas:  49% (188250/384181)\rResolving deltas:  50% (192129/384181)\rResolving deltas:  51% (195939/384181)\rResolving deltas:  52% (199798/384181)\rResolving deltas:  52% (203264/384181)\rResolving deltas:  53% (203644/384181)\rResolving deltas:  54% (207469/384181)\rResolving deltas:  55% (211311/384181)\rResolving deltas:  56% (215324/384181)\rResolving deltas:  57% (218984/384181)\rResolving deltas:  58% (223008/384181)\rResolving deltas:  59% (226701/384181)\rResolving deltas:  59% (226957/384181)\rResolving deltas:  60% (230510/384181)\rResolving deltas:  61% (234352/384181)\rResolving deltas:  62% (238212/384181)\rResolving deltas:  63% (242164/384181)\rResolving deltas:  63% (244058/384181)\rResolving deltas:  64% (245878/384181)\rResolving deltas:  65% (249727/384181)\rResolving deltas:  66% (253580/384181)\rResolving deltas:  66% (256142/384181)\rResolving deltas:  67% (257408/384181)\rResolving deltas:  68% (261248/384181)\rResolving deltas:  69% (265094/384181)\rResolving deltas:  70% (268927/384181)\rResolving deltas:  71% (272777/384181)\rResolving deltas:  72% (276611/384181)\rResolving deltas:  72% (279379/384181)\rResolving deltas:  73% (280454/384181)\rResolving deltas:  74% (284294/384181)\rResolving deltas:  75% (288142/384181)\rResolving deltas:  76% (291979/384181)\rResolving deltas:  77% (295821/384181)\rResolving deltas:  78% (299674/384181)\rResolving deltas:  79% (303509/384181)\rResolving deltas:  80% (307345/384181)\rResolving deltas:  81% (311195/384181)\rResolving deltas:  81% (311782/384181)\rResolving deltas:  82% (315037/384181)\rResolving deltas:  83% (318871/384181)\rResolving deltas:  84% (322741/384181)\rResolving deltas:  85% (326554/384181)\rResolving deltas:  86% (330497/384181)\rResolving deltas:  87% (334240/384181)\rResolving deltas:  88% (338141/384181)\rResolving deltas:  89% (342363/384181)\rResolving deltas:  90% (345765/384181)\rResolving deltas:  91% (349646/384181)\rResolving deltas:  92% (353447/384181)\rResolving deltas:  92% (356568/384181)\rResolving deltas:  93% (357290/384181)\rResolving deltas:  94% (361138/384181)\rResolving deltas:  95% (364972/384181)\rResolving deltas:  96% (368849/384181)\rResolving deltas:  97% (372671/384181)\rResolving deltas:  98% (376513/384181)\rResolving deltas:  99% (380341/384181)\rResolving deltas: 100% (384181/384181)\rResolving deltas: 100% (384181/384181), done.\r\nUpdating files:  33% (6094/18236)\rUpdating files:  34% (6201/18236)\rUpdating files:  35% (6383/18236)\rUpdating files:  36% (6565/18236)\rUpdating files:  37% (6748/18236)\rUpdating files:  38% (6930/18236)\rUpdating files:  39% (7113/18236)\rUpdating files:  40% (7295/18236)\rUpdating files:  41% (7477/18236)\rUpdating files:  42% (7660/18236)\rUpdating files:  43% (7842/18236)\rUpdating files:  44% (8024/18236)\rUpdating files:  45% (8207/18236)\rUpdating files:  46% (8389/18236)\rUpdating files:  47% (8571/18236)\rUpdating files:  48% (8754/18236)\rUpdating files:  49% (8936/18236)\rUpdating files:  50% (9118/18236)\rUpdating files:  51% (9301/18236)\rUpdating files:  52% (9483/18236)\rUpdating files:  53% (9666/18236)\rUpdating files:  54% (9848/18236)\rUpdating files:  55% (10030/18236)\rUpdating files:  56% (10213/18236)\rUpdating files:  57% (10395/18236)\rUpdating files:  58% (10577/18236)\rUpdating files:  59% (10760/18236)\rUpdating files:  60% (10942/18236)\rUpdating files:  61% (11124/18236)\rUpdating files:  62% (11307/18236)\rUpdating files:  63% (11489/18236)\rUpdating files:  64% (11672/18236)\rUpdating files:  65% (11854/18236)\rUpdating files:  66% (12036/18236)\rUpdating files:  67% (12219/18236)\rUpdating files:  68% (12401/18236)\rUpdating files:  69% (12583/18236)\rUpdating files:  70% (12766/18236)\rUpdating files:  71% (12948/18236)\rUpdating files:  72% (13130/18236)\rUpdating files:  73% (13313/18236)\rUpdating files:  74% (13495/18236)\rUpdating files:  75% (13677/18236)\rUpdating files:  76% (13860/18236)\rUpdating files:  77% (14042/18236)\rUpdating files:  78% (14225/18236)\rUpdating files:  79% (14407/18236)\rUpdating files:  80% (14589/18236)\rUpdating files:  81% (14772/18236)\rUpdating files:  82% (14954/18236)\rUpdating files:  83% (15136/18236)\rUpdating files:  84% (15319/18236)\rUpdating files:  85% (15501/18236)\rUpdating files:  86% (15683/18236)\rUpdating files:  87% (15866/18236)\rUpdating files:  88% (16048/18236)\rUpdating files:  89% (16231/18236)\rUpdating files:  90% (16413/18236)\rUpdating files:  91% (16595/18236)\rUpdating files:  92% (16778/18236)\rUpdating files:  93% (16960/18236)\rUpdating files:  94% (17142/18236)\rUpdating files:  95% (17325/18236)\rUpdating files:  96% (17507/18236)\rUpdating files:  97% (17689/18236)\rUpdating files:  98% (17872/18236)\rUpdating files:  99% (18054/18236)\rUpdating files: 100% (18236/18236)\rUpdating files: 100% (18236/18236), done.\r\n"
     ]
    }
   ],
   "source": [
    "! git clone https://github.com/apache/spark.git"
   ]
  },
  {
   "cell_type": "code",
   "execution_count": 0,
   "metadata": {
    "application/vnd.databricks.v1+cell": {
     "cellMetadata": {},
     "inputWidgets": {},
     "nuid": "3dc56394-b599-4fab-a167-d87960bea236",
     "showTitle": false,
     "title": ""
    }
   },
   "outputs": [
    {
     "output_type": "stream",
     "name": "stdout",
     "output_type": "stream",
     "text": [
      "\u001B[0m\u001B[01;34mconf\u001B[0m/  \u001B[01;34meventlogs\u001B[0m/  \u001B[01;34mlogs\u001B[0m/  \u001B[01;34mmetastore_db\u001B[0m/  \u001B[01;32mpreload_class.lst\u001B[0m*  \u001B[01;34mspark\u001B[0m/\r\n"
     ]
    }
   ],
   "source": [
    "ls /databricks/driver"
   ]
  },
  {
   "cell_type": "code",
   "execution_count": 0,
   "metadata": {
    "application/vnd.databricks.v1+cell": {
     "cellMetadata": {},
     "inputWidgets": {},
     "nuid": "1fc9455a-7d1c-4808-a1e9-c13b18e84e3c",
     "showTitle": false,
     "title": ""
    }
   },
   "outputs": [
    {
     "output_type": "stream",
     "name": "stdout",
     "output_type": "stream",
     "text": [
      "\u001B[0m\u001B[01;34mconf\u001B[0m/  \u001B[01;34meventlogs\u001B[0m/  \u001B[01;34mlogs\u001B[0m/  \u001B[01;34mmetastore_db\u001B[0m/  \u001B[01;32mpreload_class.lst\u001B[0m*  \u001B[01;34mspark\u001B[0m/\r\n"
     ]
    }
   ],
   "source": [
    "ls"
   ]
  },
  {
   "cell_type": "code",
   "execution_count": 0,
   "metadata": {
    "application/vnd.databricks.v1+cell": {
     "cellMetadata": {},
     "inputWidgets": {},
     "nuid": "ab7886e1-f5a3-48ea-a005-09dad13c071f",
     "showTitle": false,
     "title": ""
    }
   },
   "outputs": [],
   "source": [
    "from pyspark.sql import SparkSession\n",
    "spark = SparkSession.builder.appName(name='ML_Tutorial_Creation').getOrCreate()"
   ]
  },
  {
   "cell_type": "code",
   "execution_count": 0,
   "metadata": {
    "application/vnd.databricks.v1+cell": {
     "cellMetadata": {},
     "inputWidgets": {},
     "nuid": "44c9d0d9-157e-4a2a-97ea-0a4f543a76c4",
     "showTitle": false,
     "title": ""
    }
   },
   "outputs": [],
   "source": [
    "# Binomial Logistic Regression\n",
    "from pyspark.ml.classification import LogisticRegression"
   ]
  },
  {
   "cell_type": "code",
   "execution_count": 0,
   "metadata": {
    "application/vnd.databricks.v1+cell": {
     "cellMetadata": {},
     "inputWidgets": {},
     "nuid": "90786d4c-3c1d-43e1-88a6-fb93d75efdd8",
     "showTitle": false,
     "title": ""
    }
   },
   "outputs": [],
   "source": [
    "training = spark.read.format(source=\"libsvm\").load(\"file:///databricks/driver/spark/data/mllib/sample_libsvm_data.txt\")"
   ]
  },
  {
   "cell_type": "code",
   "execution_count": 0,
   "metadata": {
    "application/vnd.databricks.v1+cell": {
     "cellMetadata": {},
     "inputWidgets": {},
     "nuid": "3a196fd4-aee4-4595-9c21-a2552ce77c3d",
     "showTitle": false,
     "title": ""
    }
   },
   "outputs": [
    {
     "output_type": "stream",
     "name": "stdout",
     "output_type": "stream",
     "text": [
      "+-----+---------------------------------------------------------------------------------------------------------------------------------------------------------------------------------------------------------------------------------------------------------------------------------------------------------------------------------------------------------------------------------------------------------------------------------------------------------------------------------------------------------------------------------------------------------------------------------------------------------------------------------------------------------------------------------------------------------------------------------------------------------------------------------------------------------------------------------------------------------------------------------------------------------------------------------------------------------------------------------------------------------------------------------------------------------------------------------------------------------------------------------------------------------------------------------------------------------------------------------------------------------------------------------------------------------------------------------------------------------------------------------------------------------------------------------------------------------------------------------------------------------------------------------------------------------------------------------------------------------------------------------------------------------------------------------------------------------------------------------------------------------------------------------------+\n|label|features                                                                                                                                                                                                                                                                                                                                                                                                                                                                                                                                                                                                                                                                                                                                                                                                                                                                                                                                                                                                                                                                                                                                                                                                                                                                                                                                                                                                                                                                                                                                                                                                                                                                                                                                                                               |\n+-----+---------------------------------------------------------------------------------------------------------------------------------------------------------------------------------------------------------------------------------------------------------------------------------------------------------------------------------------------------------------------------------------------------------------------------------------------------------------------------------------------------------------------------------------------------------------------------------------------------------------------------------------------------------------------------------------------------------------------------------------------------------------------------------------------------------------------------------------------------------------------------------------------------------------------------------------------------------------------------------------------------------------------------------------------------------------------------------------------------------------------------------------------------------------------------------------------------------------------------------------------------------------------------------------------------------------------------------------------------------------------------------------------------------------------------------------------------------------------------------------------------------------------------------------------------------------------------------------------------------------------------------------------------------------------------------------------------------------------------------------------------------------------------------------+\n|0.0  |(692,[127,128,129,130,131,154,155,156,157,158,159,181,182,183,184,185,186,187,188,189,207,208,209,210,211,212,213,214,215,216,217,235,236,237,238,239,240,241,242,243,244,245,262,263,264,265,266,267,268,269,270,271,272,273,289,290,291,292,293,294,295,296,297,300,301,302,316,317,318,319,320,321,328,329,330,343,344,345,346,347,348,349,356,357,358,371,372,373,374,384,385,386,399,400,401,412,413,414,426,427,428,429,440,441,442,454,455,456,457,466,467,468,469,470,482,483,484,493,494,495,496,497,510,511,512,520,521,522,523,538,539,540,547,548,549,550,566,567,568,569,570,571,572,573,574,575,576,577,578,594,595,596,597,598,599,600,601,602,603,604,622,623,624,625,626,627,628,629,630,651,652,653,654,655,656,657],[51.0,159.0,253.0,159.0,50.0,48.0,238.0,252.0,252.0,252.0,237.0,54.0,227.0,253.0,252.0,239.0,233.0,252.0,57.0,6.0,10.0,60.0,224.0,252.0,253.0,252.0,202.0,84.0,252.0,253.0,122.0,163.0,252.0,252.0,252.0,253.0,252.0,252.0,96.0,189.0,253.0,167.0,51.0,238.0,253.0,253.0,190.0,114.0,253.0,228.0,47.0,79.0,255.0,168.0,48.0,238.0,252.0,252.0,179.0,12.0,75.0,121.0,21.0,253.0,243.0,50.0,38.0,165.0,253.0,233.0,208.0,84.0,253.0,252.0,165.0,7.0,178.0,252.0,240.0,71.0,19.0,28.0,253.0,252.0,195.0,57.0,252.0,252.0,63.0,253.0,252.0,195.0,198.0,253.0,190.0,255.0,253.0,196.0,76.0,246.0,252.0,112.0,253.0,252.0,148.0,85.0,252.0,230.0,25.0,7.0,135.0,253.0,186.0,12.0,85.0,252.0,223.0,7.0,131.0,252.0,225.0,71.0,85.0,252.0,145.0,48.0,165.0,252.0,173.0,86.0,253.0,225.0,114.0,238.0,253.0,162.0,85.0,252.0,249.0,146.0,48.0,29.0,85.0,178.0,225.0,253.0,223.0,167.0,56.0,85.0,252.0,252.0,252.0,229.0,215.0,252.0,252.0,252.0,196.0,130.0,28.0,199.0,252.0,252.0,253.0,252.0,252.0,233.0,145.0,25.0,128.0,252.0,253.0,252.0,141.0,37.0])|\n|1.0  |(692,[158,159,160,161,185,186,187,188,189,213,214,215,216,217,240,241,242,243,244,245,267,268,269,270,271,295,296,297,298,322,323,324,325,326,349,350,351,352,353,377,378,379,380,381,404,405,406,407,408,431,432,433,434,435,459,460,461,462,463,486,487,488,489,490,514,515,516,517,518,542,543,544,545,569,570,571,572,573,596,597,598,599,600,601,624,625,626,627,652,653,654,655,680,681,682,683],[124.0,253.0,255.0,63.0,96.0,244.0,251.0,253.0,62.0,127.0,251.0,251.0,253.0,62.0,68.0,236.0,251.0,211.0,31.0,8.0,60.0,228.0,251.0,251.0,94.0,155.0,253.0,253.0,189.0,20.0,253.0,251.0,235.0,66.0,32.0,205.0,253.0,251.0,126.0,104.0,251.0,253.0,184.0,15.0,80.0,240.0,251.0,193.0,23.0,32.0,253.0,253.0,253.0,159.0,151.0,251.0,251.0,251.0,39.0,48.0,221.0,251.0,251.0,172.0,234.0,251.0,251.0,196.0,12.0,253.0,251.0,251.0,89.0,159.0,255.0,253.0,253.0,31.0,48.0,228.0,253.0,247.0,140.0,8.0,64.0,251.0,253.0,220.0,64.0,251.0,253.0,220.0,24.0,193.0,253.0,220.0])                                                                                                                                                                                                                                                                                                                                                                                                                                                                                                                                                                                                                                                                                                                                                                                                          |\n|1.0  |(692,[124,125,126,127,151,152,153,154,155,179,180,181,182,183,208,209,210,211,235,236,237,238,239,263,264,265,266,267,268,292,293,294,295,296,321,322,323,324,349,350,351,352,377,378,379,380,405,406,407,408,433,434,435,436,461,462,463,464,489,490,491,492,493,517,518,519,520,521,545,546,547,548,549,574,575,576,577,578,602,603,604,605,606,630,631,632,633,634,658,659,660,661,662],[145.0,255.0,211.0,31.0,32.0,237.0,253.0,252.0,71.0,11.0,175.0,253.0,252.0,71.0,144.0,253.0,252.0,71.0,16.0,191.0,253.0,252.0,71.0,26.0,221.0,253.0,252.0,124.0,31.0,125.0,253.0,252.0,252.0,108.0,253.0,252.0,252.0,108.0,255.0,253.0,253.0,108.0,253.0,252.0,252.0,108.0,253.0,252.0,252.0,108.0,253.0,252.0,252.0,108.0,255.0,253.0,253.0,170.0,253.0,252.0,252.0,252.0,42.0,149.0,252.0,252.0,252.0,144.0,109.0,252.0,252.0,252.0,144.0,218.0,253.0,253.0,255.0,35.0,175.0,252.0,252.0,253.0,35.0,73.0,252.0,252.0,253.0,35.0,31.0,211.0,252.0,253.0,35.0])                                                                                                                                                                                                                                                                                                                                                                                                                                                                                                                                                                                                                                                                                                                                                                                                                             |\n|1.0  |(692,[152,153,154,180,181,182,183,208,209,210,211,236,237,238,239,264,265,266,267,292,293,294,295,320,321,322,323,349,350,351,377,378,379,405,406,407,433,434,435,461,462,463,489,490,491,492,517,518,519,520,546,547,548,574,575,576,602,603,604,630,631,632,658,659,660,686,687,688],[5.0,63.0,197.0,20.0,254.0,230.0,24.0,20.0,254.0,254.0,48.0,20.0,254.0,255.0,48.0,20.0,254.0,254.0,57.0,20.0,254.0,254.0,108.0,16.0,239.0,254.0,143.0,178.0,254.0,143.0,178.0,254.0,143.0,178.0,254.0,162.0,178.0,254.0,240.0,113.0,254.0,240.0,83.0,254.0,245.0,31.0,79.0,254.0,246.0,38.0,214.0,254.0,150.0,144.0,241.0,8.0,144.0,240.0,2.0,144.0,254.0,82.0,230.0,247.0,40.0,168.0,209.0,31.0])                                                                                                                                                                                                                                                                                                                                                                                                                                                                                                                                                                                                                                                                                                                                                                                                                                                                                                                                                                                                                                                                                              |\n|1.0  |(692,[151,152,153,154,179,180,181,182,208,209,210,236,237,238,264,265,266,267,292,293,294,295,320,321,322,323,348,349,350,351,376,377,378,379,404,405,406,407,432,433,434,435,460,461,462,463,488,489,490,491,516,517,518,519,544,545,546,547,572,573,574,575,600,601,602,603,629,630,631,657,658,659,685,686,687],[1.0,168.0,242.0,28.0,10.0,228.0,254.0,100.0,190.0,254.0,122.0,83.0,254.0,162.0,29.0,254.0,248.0,25.0,29.0,255.0,254.0,103.0,29.0,254.0,254.0,109.0,29.0,254.0,254.0,109.0,29.0,254.0,254.0,109.0,29.0,255.0,254.0,109.0,29.0,254.0,254.0,109.0,29.0,254.0,254.0,63.0,29.0,254.0,254.0,28.0,29.0,254.0,254.0,28.0,29.0,254.0,254.0,35.0,29.0,254.0,254.0,109.0,6.0,212.0,254.0,109.0,203.0,254.0,178.0,155.0,254.0,190.0,32.0,199.0,104.0])                                                                                                                                                                                                                                                                                                                                                                                                                                                                                                                                                                                                                                                                                                                                                                                                                                                                                                                                                                                                                         |\n+-----+---------------------------------------------------------------------------------------------------------------------------------------------------------------------------------------------------------------------------------------------------------------------------------------------------------------------------------------------------------------------------------------------------------------------------------------------------------------------------------------------------------------------------------------------------------------------------------------------------------------------------------------------------------------------------------------------------------------------------------------------------------------------------------------------------------------------------------------------------------------------------------------------------------------------------------------------------------------------------------------------------------------------------------------------------------------------------------------------------------------------------------------------------------------------------------------------------------------------------------------------------------------------------------------------------------------------------------------------------------------------------------------------------------------------------------------------------------------------------------------------------------------------------------------------------------------------------------------------------------------------------------------------------------------------------------------------------------------------------------------------------------------------------------------+\nonly showing top 5 rows\n\n"
     ]
    }
   ],
   "source": [
    "training.show(truncate=False,n=5)"
   ]
  },
  {
   "cell_type": "code",
   "execution_count": 0,
   "metadata": {
    "application/vnd.databricks.v1+cell": {
     "cellMetadata": {},
     "inputWidgets": {},
     "nuid": "5adc82de-6416-488f-8fc5-8fc03c7f535f",
     "showTitle": false,
     "title": ""
    }
   },
   "outputs": [],
   "source": [
    "lr=LogisticRegression(featuresCol=\"features\", labelCol=\"label\",maxIter=10,elasticNetParam=0.8)\n",
    "\n",
    "lrModel=lr.fit(dataset=training)"
   ]
  },
  {
   "cell_type": "code",
   "execution_count": 0,
   "metadata": {
    "application/vnd.databricks.v1+cell": {
     "cellMetadata": {},
     "inputWidgets": {},
     "nuid": "60eb7e05-0fce-43fc-8da7-e2588479825e",
     "showTitle": false,
     "title": ""
    }
   },
   "outputs": [
    {
     "output_type": "stream",
     "name": "stdout",
     "output_type": "stream",
     "text": [
      "1 X 692 CSRMatrix\n(0,95) -0.0013\n(0,96) -0.0003\n(0,97) 0.0034\n(0,98) 0.0051\n(0,99) 0.0023\n(0,100) 0.0003\n(0,101) -0.0039\n(0,102) -0.0016\n(0,119) 0.0047\n(0,120) 0.0016\n(0,121) 0.0023\n(0,122) -0.0004\n(0,123) 0.0001\n(0,124) 0.0004\n(0,125) 0.0004\n(0,126) 0.0003\n..\n..\n"
     ]
    }
   ],
   "source": [
    "print(lrModel.coefficientMatrix)"
   ]
  },
  {
   "cell_type": "code",
   "execution_count": 0,
   "metadata": {
    "application/vnd.databricks.v1+cell": {
     "cellMetadata": {},
     "inputWidgets": {},
     "nuid": "05f94661-061b-4ca7-9550-115be05026f2",
     "showTitle": false,
     "title": ""
    }
   },
   "outputs": [
    {
     "output_type": "stream",
     "name": "stdout",
     "output_type": "stream",
     "text": [
      "3.0451245076622677\n"
     ]
    }
   ],
   "source": [
    "print(lrModel.intercept)"
   ]
  },
  {
   "cell_type": "code",
   "execution_count": 0,
   "metadata": {
    "application/vnd.databricks.v1+cell": {
     "cellMetadata": {},
     "inputWidgets": {},
     "nuid": "9dd50c49-1f23-4db9-8896-f5d42c8658f2",
     "showTitle": false,
     "title": ""
    }
   },
   "outputs": [],
   "source": [
    "# Multinomial Logistics Regression\n",
    "\n",
    "mlr=LogisticRegression(featuresCol=\"features\",labelCol=\"label\",maxIter=10,elasticNetParam=0.8,family=\"multinomial\")\n",
    "\n",
    "mlrModel=mlr.fit(dataset=training)"
   ]
  },
  {
   "cell_type": "code",
   "execution_count": 0,
   "metadata": {
    "application/vnd.databricks.v1+cell": {
     "cellMetadata": {},
     "inputWidgets": {},
     "nuid": "c5ea04f5-7f5c-475a-96a4-c45e926a7557",
     "showTitle": false,
     "title": ""
    }
   },
   "outputs": [
    {
     "output_type": "stream",
     "name": "stdout",
     "output_type": "stream",
     "text": [
      "2 X 692 CSRMatrix\n(0,95) 0.0013\n(0,96) 0.0003\n(0,97) -0.0012\n(0,98) -0.0021\n(0,99) -0.0007\n(0,100) 0.0003\n(0,101) 0.0019\n(0,102) 0.0001\n(0,119) -0.0025\n(0,120) -0.0008\n(0,121) -0.0011\n(0,122) 0.0004\n(0,123) 0.0001\n(0,124) -0.0\n(0,125) -0.0001\n(0,126) -0.0\n..\n..\n"
     ]
    }
   ],
   "source": [
    "print(mlrModel.coefficientMatrix)"
   ]
  },
  {
   "cell_type": "code",
   "execution_count": 0,
   "metadata": {
    "application/vnd.databricks.v1+cell": {
     "cellMetadata": {},
     "inputWidgets": {},
     "nuid": "b15f8e09-9334-4a67-8da3-db7916ecdb54",
     "showTitle": false,
     "title": ""
    }
   },
   "outputs": [
    {
     "output_type": "stream",
     "name": "stdout",
     "output_type": "stream",
     "text": [
      "[-2.72615312578918,2.72615312578918]\n"
     ]
    }
   ],
   "source": [
    "print(mlrModel.interceptVector)"
   ]
  },
  {
   "cell_type": "code",
   "execution_count": 0,
   "metadata": {
    "application/vnd.databricks.v1+cell": {
     "cellMetadata": {},
     "inputWidgets": {},
     "nuid": "76920c91-28e4-4180-8dad-8fa27c2d2d41",
     "showTitle": false,
     "title": ""
    }
   },
   "outputs": [
    {
     "output_type": "stream",
     "name": "stdout",
     "output_type": "stream",
     "text": [
      "[0.6833149135741672, 0.013093751340219123, 0.010701411598307595, 0.003694038375993432, 0.002139976133815725, 0.0011363374603547175, 0.0006407228823852678, 0.0003670542855157364, 0.00022600264220548632, 0.0001509437536659315, 0.00010710631663632266]\n"
     ]
    }
   ],
   "source": [
    "# Get the Training Summary\n",
    "trainingSummary=lrModel.summary\n",
    "\n",
    "objectiveHistory=trainingSummary.objectiveHistory\n",
    "\n",
    "print(objectiveHistory)"
   ]
  },
  {
   "cell_type": "code",
   "execution_count": 0,
   "metadata": {
    "application/vnd.databricks.v1+cell": {
     "cellMetadata": {},
     "inputWidgets": {},
     "nuid": "e76f4fdf-2338-4feb-9637-0025e2f55565",
     "showTitle": false,
     "title": ""
    }
   },
   "outputs": [
    {
     "output_type": "stream",
     "name": "stdout",
     "output_type": "stream",
     "text": [
      "+---+--------------------+\n|FPR|                 TPR|\n+---+--------------------+\n|0.0|                 0.0|\n|0.0|0.017543859649122806|\n|0.0| 0.03508771929824561|\n|0.0| 0.05263157894736842|\n|0.0| 0.07017543859649122|\n|0.0| 0.08771929824561403|\n|0.0| 0.10526315789473684|\n|0.0| 0.12280701754385964|\n|0.0| 0.14035087719298245|\n|0.0| 0.15789473684210525|\n|0.0| 0.17543859649122806|\n|0.0| 0.19298245614035087|\n|0.0| 0.21052631578947367|\n|0.0| 0.22807017543859648|\n|0.0| 0.24561403508771928|\n|0.0|  0.2631578947368421|\n|0.0|  0.2807017543859649|\n|0.0|  0.2982456140350877|\n|0.0|  0.3157894736842105|\n|0.0|  0.3333333333333333|\n+---+--------------------+\nonly showing top 20 rows\n\n/databricks/spark/python/pyspark/sql/context.py:134: FutureWarning: Deprecated in 3.0.0. Use SparkSession.builder.getOrCreate() instead.\n  warnings.warn(\n"
     ]
    }
   ],
   "source": [
    "  # Receiver Operator Characteristics\n",
    "  trainingSummary.roc.show()"
   ]
  },
  {
   "cell_type": "code",
   "execution_count": 0,
   "metadata": {
    "application/vnd.databricks.v1+cell": {
     "cellMetadata": {},
     "inputWidgets": {},
     "nuid": "cebb2ade-c9cd-4439-9934-87a332512fc3",
     "showTitle": false,
     "title": ""
    }
   },
   "outputs": [
    {
     "output_type": "stream",
     "name": "stdout",
     "output_type": "stream",
     "text": [
      "1.0\n"
     ]
    }
   ],
   "source": [
    "print(trainingSummary.areaUnderROC)"
   ]
  },
  {
   "cell_type": "code",
   "execution_count": 0,
   "metadata": {
    "application/vnd.databricks.v1+cell": {
     "cellMetadata": {},
     "inputWidgets": {},
     "nuid": "990d7ef2-9645-4a9c-963b-003298cd7006",
     "showTitle": false,
     "title": ""
    }
   },
   "outputs": [
    {
     "output_type": "stream",
     "name": "stdout",
     "output_type": "stream",
     "text": [
      "/databricks/spark/python/pyspark/sql/context.py:134: FutureWarning: Deprecated in 3.0.0. Use SparkSession.builder.getOrCreate() instead.\n  warnings.warn(\n+--------------------+--------------------+\n|           threshold|           F-Measure|\n+--------------------+--------------------+\n|  0.9999985497923128|0.034482758620689655|\n|  0.9999979962514823| 0.06779661016949151|\n|  0.9999974837508653|                 0.1|\n|  0.9999974388920254| 0.13114754098360656|\n|   0.999996973155266| 0.16129032258064516|\n|  0.9999964677287961|  0.1904761904761905|\n|  0.9999960750090817|             0.21875|\n|  0.9999950517518691| 0.24615384615384614|\n|  0.9999883840314531|  0.2727272727272727|\n|  0.9999878745085975| 0.29850746268656714|\n|  0.9999818567132517|  0.3235294117647059|\n|  0.9999761032094638| 0.34782608695652173|\n|  0.9999753944048935|  0.3714285714285714|\n|  0.9999751144701023|  0.3943661971830986|\n|  0.9999746999974123|  0.4166666666666667|\n|  0.9999736302538365|  0.4383561643835616|\n|  0.9999725708911685| 0.45945945945945943|\n|  0.9999703150528119|  0.4799999999999999|\n|  0.9999644721895113|                 0.5|\n|  0.9999531461261703|  0.5194805194805194|\n|  0.9999480880551224|  0.5384615384615384|\n|  0.9999441035423677|  0.5569620253164557|\n|  0.9999407436178329|               0.575|\n|  0.9999318606212344|  0.5925925925925926|\n|  0.9999284064452526|  0.6097560975609756|\n|  0.9999242058471826|  0.6265060240963854|\n|   0.999923629201956|  0.6428571428571429|\n|  0.9999234973405949|  0.6588235294117647|\n|  0.9999211527713991|  0.6744186046511628|\n|    0.99991540149018|  0.6896551724137931|\n|  0.9999151857895766|  0.7045454545454546|\n|  0.9998999978110287|  0.7191011235955056|\n|  0.9998907490934912|  0.7333333333333334|\n|  0.9998865271452483|  0.7472527472527472|\n|  0.9998824534097706|  0.7608695652173912|\n|  0.9998823829345643|  0.7741935483870968|\n|  0.9998811559470903|  0.7872340425531915|\n|  0.9998732791836218|                 0.8|\n|  0.9998508932868394|  0.8125000000000001|\n|  0.9998451345003695|  0.8247422680412371|\n|  0.9998445573088128|  0.8367346938775511|\n|  0.9998248889674527|  0.8484848484848484|\n|  0.9998222037016582|                0.86|\n|  0.9998174315567901|  0.8712871287128713|\n|  0.9998027308381167|  0.8823529411764706|\n|  0.9997904299953713|  0.8932038834951457|\n|  0.9997785656849247|  0.9038461538461539|\n|  0.9997491105236793|  0.9142857142857143|\n|  0.9997142867083244|  0.9245283018867925|\n|  0.9997080274205004|  0.9345794392523363|\n|  0.9997046327710539|  0.9444444444444444|\n|  0.9996620317416696|  0.9541284403669724|\n|  0.9996463868557295|  0.9636363636363636|\n|  0.9995707415801289|   0.972972972972973|\n|  0.9995573282479612|  0.9821428571428572|\n|  0.9994470078564499|  0.9911504424778761|\n|  0.9993099582238999|                 1.0|\n|5.506866042453984E-4|  0.9913043478260869|\n| 5.00238638511119E-4|  0.9827586206896551|\n|4.128655602004816E-4|  0.9743589743589743|\n|3.599070896640466E-4|  0.9661016949152543|\n|2.268751568372806...|  0.9579831932773109|\n|2.057713062079136...|  0.9500000000000001|\n|1.986735053340904...|  0.9421487603305785|\n|1.948928374948533E-4|  0.9344262295081968|\n|1.392879853095996...|  0.9268292682926829|\n|1.053917683806471...|  0.9193548387096774|\n|6.873556938302716E-5|  0.9119999999999999|\n|5.715905997683013E-5|  0.9047619047619047|\n|4.174115609312245...|  0.8976377952755905|\n| 3.76365372052323E-5|            0.890625|\n|2.786773583829394E-5|  0.8837209302325582|\n|1.803061782457149...|  0.8769230769230769|\n|1.499564957707644...|  0.8702290076335879|\n|1.468127017789644...|  0.8636363636363636|\n|1.167829151282884...|  0.8571428571428571|\n|1.136982074811943E-5|  0.8507462686567165|\n|6.637505834294899E-6|  0.8444444444444443|\n|5.872742504742234E-6|  0.8382352941176471|\n|4.774518608363643E-6|   0.832116788321168|\n|3.734511307085242E-6|  0.8260869565217391|\n|3.546425895950555...|  0.8201438848920863|\n|3.054646667721705...|  0.8142857142857143|\n|2.671448834257184E-6|  0.8085106382978724|\n|2.170592331762755E-6|  0.8028169014084507|\n|1.878985080527861...|  0.7972027972027972|\n|1.648786725372275...|  0.7916666666666666|\n|1.641425701137677...|  0.7862068965517242|\n|6.336531669370871E-7|  0.7808219178082192|\n|2.473002419511871...|  0.7755102040816326|\n|2.069971591911468E-7|  0.7702702702702703|\n|1.432727282368873E-7|  0.7651006711409396|\n|1.397916964407386...|                0.76|\n|1.162245055752464...|  0.7549668874172186|\n|4.398688913109794E-8|  0.7499999999999999|\n|4.315537893706533...|  0.7450980392156863|\n|3.375892343449038...|  0.7402597402597402|\n|1.801237370369079...|  0.7354838709677418|\n|1.671094229660497E-8|  0.7307692307692308|\n|1.509521108111755...|  0.7261146496815287|\n+--------------------+--------------------+\n\n"
     ]
    }
   ],
   "source": [
    "trainingSummary.fMeasureByThreshold.show(300)"
   ]
  },
  {
   "cell_type": "code",
   "execution_count": 0,
   "metadata": {
    "application/vnd.databricks.v1+cell": {
     "cellMetadata": {},
     "inputWidgets": {},
     "nuid": "c63d169a-f4e3-4094-b742-88b9a9a6482e",
     "showTitle": false,
     "title": ""
    }
   },
   "outputs": [
    {
     "output_type": "stream",
     "name": "stdout",
     "output_type": "stream",
     "text": [
      "Out[59]: Row(max(F-Measure)=1.0)"
     ]
    }
   ],
   "source": [
    "fMeasure=trainingSummary.fMeasureByThreshold\n",
    "\n",
    "fMeasure.groupBy().max('F-Measure').select(\"max(F-Measure)\").show()"
   ]
  },
  {
   "cell_type": "code",
   "execution_count": 0,
   "metadata": {
    "application/vnd.databricks.v1+cell": {
     "cellMetadata": {},
     "inputWidgets": {},
     "nuid": "2ef9b6fc-8db1-42fb-9ccf-42043d988ba3",
     "showTitle": false,
     "title": ""
    }
   },
   "outputs": [
    {
     "output_type": "stream",
     "name": "stdout",
     "output_type": "stream",
     "text": [
      "Out[60]: Row(max(F-Measure)=1.0)"
     ]
    }
   ],
   "source": [
    "maxFMeasure=fMeasure.groupBy().max('F-Measure').select(\"max(F-Measure)\").head()\n",
    "maxFMeasure"
   ]
  },
  {
   "cell_type": "code",
   "execution_count": 0,
   "metadata": {
    "application/vnd.databricks.v1+cell": {
     "cellMetadata": {},
     "inputWidgets": {},
     "nuid": "703de728-6d14-4f16-87ce-a962ff87d9f8",
     "showTitle": false,
     "title": ""
    }
   },
   "outputs": [
    {
     "output_type": "stream",
     "name": "stdout",
     "output_type": "stream",
     "text": [
      "+------------------+---------+\n|         threshold|F-Measure|\n+------------------+---------+\n|0.9993099582238999|      1.0|\n+------------------+---------+\n\n"
     ]
    }
   ],
   "source": [
    "fMeasure.where(fMeasure['F-Measure']==maxFMeasure['max(F-Measure)']).show()"
   ]
  },
  {
   "cell_type": "code",
   "execution_count": 0,
   "metadata": {
    "application/vnd.databricks.v1+cell": {
     "cellMetadata": {},
     "inputWidgets": {},
     "nuid": "01936cbd-6041-405d-abea-6c311fd097bb",
     "showTitle": false,
     "title": ""
    }
   },
   "outputs": [
    {
     "output_type": "stream",
     "name": "stdout",
     "output_type": "stream",
     "text": [
      "Out[66]: 0.9993099582238999"
     ]
    }
   ],
   "source": [
    "bestThreshold = fMeasure.where(fMeasure['F-Measure']==maxFMeasure['max(F-Measure)']).select('threshold').head()['threshold']\n",
    "bestThreshold"
   ]
  },
  {
   "cell_type": "code",
   "execution_count": 0,
   "metadata": {
    "application/vnd.databricks.v1+cell": {
     "cellMetadata": {},
     "inputWidgets": {},
     "nuid": "197893c7-1aec-4bd2-8dcc-d1dc6fbd2a3c",
     "showTitle": false,
     "title": ""
    }
   },
   "outputs": [
    {
     "output_type": "stream",
     "name": "stdout",
     "output_type": "stream",
     "text": [
      "Out[67]: LogisticRegression_cd35e0dc8ae4"
     ]
    }
   ],
   "source": [
    "lr.setThreshold(value=bestThreshold)"
   ]
  },
  {
   "cell_type": "code",
   "execution_count": 0,
   "metadata": {
    "application/vnd.databricks.v1+cell": {
     "cellMetadata": {},
     "inputWidgets": {},
     "nuid": "66212a36-8bcd-439e-bfe2-95a30bad2f77",
     "showTitle": false,
     "title": ""
    }
   },
   "outputs": [],
   "source": [
    "# Multinomial Logistic Regression - Continued"
   ]
  },
  {
   "cell_type": "code",
   "execution_count": 0,
   "metadata": {
    "application/vnd.databricks.v1+cell": {
     "cellMetadata": {},
     "inputWidgets": {},
     "nuid": "e4a90f5c-2223-44ba-b3bc-d2c6f20b0dbe",
     "showTitle": false,
     "title": ""
    }
   },
   "outputs": [
    {
     "output_type": "stream",
     "name": "stdout",
     "output_type": "stream",
     "text": [
      "+-----+-------------------------------------------------------+\n|label|features                                               |\n+-----+-------------------------------------------------------+\n|1.0  |(4,[0,1,2,3],[-0.222222,0.5,-0.762712,-0.833333])      |\n|1.0  |(4,[0,1,2,3],[-0.555556,0.25,-0.864407,-0.916667])     |\n|1.0  |(4,[0,1,2,3],[-0.722222,-0.166667,-0.864407,-0.833333])|\n|1.0  |(4,[0,1,2,3],[-0.722222,0.166667,-0.694915,-0.916667]) |\n+-----+-------------------------------------------------------+\nonly showing top 4 rows\n\n"
     ]
    }
   ],
   "source": [
    "training=spark.read.format(source=\"libsvm\").load(\"file:///databricks/driver/spark/data/mllib/sample_multiclass_classification_data.txt\")\n",
    "training.show(truncate=False, n=4)"
   ]
  },
  {
   "cell_type": "code",
   "execution_count": 0,
   "metadata": {
    "application/vnd.databricks.v1+cell": {
     "cellMetadata": {},
     "inputWidgets": {},
     "nuid": "b71d7950-55ea-43a8-93c7-8fc3d4058ff9",
     "showTitle": false,
     "title": ""
    }
   },
   "outputs": [],
   "source": [
    "lr=LogisticRegression(featuresCol=\"features\",labelCol=\"label\",maxIter=10,regParam=0.3,elasticNetParam=0.8)\n",
    "\n",
    "lrModel=lr.fit(dataset=training)"
   ]
  },
  {
   "cell_type": "code",
   "execution_count": 0,
   "metadata": {
    "application/vnd.databricks.v1+cell": {
     "cellMetadata": {},
     "inputWidgets": {},
     "nuid": "447572de-f248-4eaf-9cc0-5e932f25aefe",
     "showTitle": false,
     "title": ""
    }
   },
   "outputs": [
    {
     "output_type": "stream",
     "name": "stdout",
     "output_type": "stream",
     "text": [
      "3 X 4 CSRMatrix\n(0,3) 0.305\n(1,2) -0.7666\n(1,3) -0.3854\n"
     ]
    }
   ],
   "source": [
    "# Coeficients\n",
    "print(lrModel.coefficientMatrix)"
   ]
  },
  {
   "cell_type": "code",
   "execution_count": 0,
   "metadata": {
    "application/vnd.databricks.v1+cell": {
     "cellMetadata": {},
     "inputWidgets": {},
     "nuid": "20efc593-41c6-4623-b1c9-2a232735dd31",
     "showTitle": false,
     "title": ""
    }
   },
   "outputs": [
    {
     "output_type": "stream",
     "name": "stdout",
     "output_type": "stream",
     "text": [
      "[0.051925800207288736,-0.12619173083599086,0.0742659306287021]\n"
     ]
    }
   ],
   "source": [
    "# Intercept\n",
    "print(lrModel.interceptVector)"
   ]
  },
  {
   "cell_type": "code",
   "execution_count": 0,
   "metadata": {
    "application/vnd.databricks.v1+cell": {
     "cellMetadata": {},
     "inputWidgets": {},
     "nuid": "b7e7580e-8bf4-49d3-b1aa-942eb6b25343",
     "showTitle": false,
     "title": ""
    }
   },
   "outputs": [],
   "source": [
    "trainingSummary=lrModel.summary"
   ]
  },
  {
   "cell_type": "code",
   "execution_count": 0,
   "metadata": {
    "application/vnd.databricks.v1+cell": {
     "cellMetadata": {},
     "inputWidgets": {},
     "nuid": "7a7d64db-1a4b-4f83-b1e6-87a99f269896",
     "showTitle": false,
     "title": ""
    }
   },
   "outputs": [
    {
     "output_type": "stream",
     "name": "stdout",
     "output_type": "stream",
     "text": [
      "Out[80]: [0.22, 0.05, 0.0]"
     ]
    }
   ],
   "source": [
    "# False Positive Rate by Label\n",
    "\n",
    "trainingSummary.falsePositiveRateByLabel"
   ]
  },
  {
   "cell_type": "code",
   "execution_count": 0,
   "metadata": {
    "application/vnd.databricks.v1+cell": {
     "cellMetadata": {},
     "inputWidgets": {},
     "nuid": "c96cc6c9-10aa-4fb1-a4da-9a9fced62e3d",
     "showTitle": false,
     "title": ""
    }
   },
   "outputs": [
    {
     "output_type": "stream",
     "name": "stdout",
     "output_type": "stream",
     "text": [
      "Out[81]: [1.0, 1.0, 0.46]"
     ]
    }
   ],
   "source": [
    "# True Positive Rate by Label\n",
    "\n",
    "trainingSummary.truePositiveRateByLabel"
   ]
  },
  {
   "cell_type": "code",
   "execution_count": 0,
   "metadata": {
    "application/vnd.databricks.v1+cell": {
     "cellMetadata": {},
     "inputWidgets": {},
     "nuid": "cb24a744-f882-43aa-ab74-51d31c59c3c5",
     "showTitle": false,
     "title": ""
    }
   },
   "outputs": [
    {
     "output_type": "stream",
     "name": "stdout",
     "output_type": "stream",
     "text": [
      "Out[82]: [0.6944444444444444, 0.9090909090909091, 1.0]"
     ]
    }
   ],
   "source": [
    "# Precision by Label\n",
    "\n",
    "trainingSummary.precisionByLabel"
   ]
  },
  {
   "cell_type": "code",
   "execution_count": 0,
   "metadata": {
    "application/vnd.databricks.v1+cell": {
     "cellMetadata": {},
     "inputWidgets": {},
     "nuid": "86002d9e-faf9-4a28-88c2-2b1731043b77",
     "showTitle": false,
     "title": ""
    }
   },
   "outputs": [
    {
     "output_type": "stream",
     "name": "stdout",
     "output_type": "stream",
     "text": [
      "Out[83]: [1.0, 1.0, 0.46]"
     ]
    }
   ],
   "source": [
    "# Recall by Label\n",
    "\n",
    "trainingSummary.recallByLabel"
   ]
  },
  {
   "cell_type": "code",
   "execution_count": 0,
   "metadata": {
    "application/vnd.databricks.v1+cell": {
     "cellMetadata": {},
     "inputWidgets": {},
     "nuid": "0085202e-1b3e-44ab-8385-ad15e828a24f",
     "showTitle": false,
     "title": ""
    }
   },
   "outputs": [
    {
     "output_type": "stream",
     "name": "stdout",
     "output_type": "stream",
     "text": [
      "Out[85]: [0.819672131147541, 0.9523809523809523, 0.6301369863013699]"
     ]
    }
   ],
   "source": [
    "# F-Measure by Label\n",
    "\n",
    "trainingSummary.fMeasureByLabel()"
   ]
  },
  {
   "cell_type": "code",
   "execution_count": 0,
   "metadata": {
    "application/vnd.databricks.v1+cell": {
     "cellMetadata": {},
     "inputWidgets": {},
     "nuid": "1b98fc03-8d9d-4be0-9886-9950309decc1",
     "showTitle": false,
     "title": ""
    }
   },
   "outputs": [
    {
     "output_type": "stream",
     "name": "stdout",
     "output_type": "stream",
     "text": [
      "Accuracy: 0.82\nFPR: 0.09\nTPR: 0.82\nF-measure: 0.800730023276621\nPrecision: 0.8678451178451179\nRecall: 0.82\n"
     ]
    }
   ],
   "source": [
    "accuracy=trainingSummary.accuracy\n",
    "falsePositiveRate=trainingSummary.weightedFalsePositiveRate\n",
    "truePositiveRate=trainingSummary.weightedTruePositiveRate\n",
    "fMeasure=trainingSummary.weightedFMeasure()\n",
    "precision=trainingSummary.weightedPrecision\n",
    "recall=trainingSummary.weightedRecall\n",
    "\n",
    "print(\"Accuracy: %s\\nFPR: %s\\nTPR: %s\\nF-measure: %s\\nPrecision: %s\\nRecall: %s\"\n",
    "      % (accuracy, falsePositiveRate, truePositiveRate, fMeasure, precision, recall))"
   ]
  },
  {
   "cell_type": "code",
   "execution_count": 0,
   "metadata": {
    "application/vnd.databricks.v1+cell": {
     "cellMetadata": {},
     "inputWidgets": {},
     "nuid": "f1e17f79-a476-44da-90d2-9c73cecdaa42",
     "showTitle": false,
     "title": ""
    }
   },
   "outputs": [],
   "source": [
    "# Decision Tree Classifier\n",
    "from pyspark.ml import Pipeline\n",
    "from pyspark.ml.classification import DecisionTreeClassifier\n",
    "from pyspark.ml.feature import StringIndexer, VectorIndexer\n",
    "from pyspark.ml.evaluation import MulticlassClassificationEvaluator\n",
    "from pyspark.sql.functions import countDistinct "
   ]
  },
  {
   "cell_type": "code",
   "execution_count": 0,
   "metadata": {
    "application/vnd.databricks.v1+cell": {
     "cellMetadata": {},
     "inputWidgets": {},
     "nuid": "10e39a6b-aa17-44ea-8389-ea87bfc3b69e",
     "showTitle": false,
     "title": ""
    }
   },
   "outputs": [
    {
     "output_type": "stream",
     "name": "stdout",
     "output_type": "stream",
     "text": [
      "+-----+---------------------------------------------------------------------------------------------------------------------------------------------------------------------------------------------------------------------------------------------------------------------------------------------------------------------------------------------------------------------------------------------------------------------------------------------------------------------------------------------------------------------------------------------------------------------------------------------------------------------------------------------------------------------------------------------------------------------------------------------------------------------------------------------------------------------------------------------------------------------------------------------------------------------------------------------------------------------------------------------------------------------------------------------------------------------------------------------------------------------------------------------------------------------------------------------------------------------------------------------------------------------------------------------------------------------------------------------------------------------------------------------------------------------------------------------------------------------------------------------------------------------------------------------------------------------------------------------------------------------------------------------------------------------------------------------------------------------------------------------------------------------------------------+\n|label|features                                                                                                                                                                                                                                                                                                                                                                                                                                                                                                                                                                                                                                                                                                                                                                                                                                                                                                                                                                                                                                                                                                                                                                                                                                                                                                                                                                                                                                                                                                                                                                                                                                                                                                                                                                               |\n+-----+---------------------------------------------------------------------------------------------------------------------------------------------------------------------------------------------------------------------------------------------------------------------------------------------------------------------------------------------------------------------------------------------------------------------------------------------------------------------------------------------------------------------------------------------------------------------------------------------------------------------------------------------------------------------------------------------------------------------------------------------------------------------------------------------------------------------------------------------------------------------------------------------------------------------------------------------------------------------------------------------------------------------------------------------------------------------------------------------------------------------------------------------------------------------------------------------------------------------------------------------------------------------------------------------------------------------------------------------------------------------------------------------------------------------------------------------------------------------------------------------------------------------------------------------------------------------------------------------------------------------------------------------------------------------------------------------------------------------------------------------------------------------------------------+\n|0.0  |(692,[127,128,129,130,131,154,155,156,157,158,159,181,182,183,184,185,186,187,188,189,207,208,209,210,211,212,213,214,215,216,217,235,236,237,238,239,240,241,242,243,244,245,262,263,264,265,266,267,268,269,270,271,272,273,289,290,291,292,293,294,295,296,297,300,301,302,316,317,318,319,320,321,328,329,330,343,344,345,346,347,348,349,356,357,358,371,372,373,374,384,385,386,399,400,401,412,413,414,426,427,428,429,440,441,442,454,455,456,457,466,467,468,469,470,482,483,484,493,494,495,496,497,510,511,512,520,521,522,523,538,539,540,547,548,549,550,566,567,568,569,570,571,572,573,574,575,576,577,578,594,595,596,597,598,599,600,601,602,603,604,622,623,624,625,626,627,628,629,630,651,652,653,654,655,656,657],[51.0,159.0,253.0,159.0,50.0,48.0,238.0,252.0,252.0,252.0,237.0,54.0,227.0,253.0,252.0,239.0,233.0,252.0,57.0,6.0,10.0,60.0,224.0,252.0,253.0,252.0,202.0,84.0,252.0,253.0,122.0,163.0,252.0,252.0,252.0,253.0,252.0,252.0,96.0,189.0,253.0,167.0,51.0,238.0,253.0,253.0,190.0,114.0,253.0,228.0,47.0,79.0,255.0,168.0,48.0,238.0,252.0,252.0,179.0,12.0,75.0,121.0,21.0,253.0,243.0,50.0,38.0,165.0,253.0,233.0,208.0,84.0,253.0,252.0,165.0,7.0,178.0,252.0,240.0,71.0,19.0,28.0,253.0,252.0,195.0,57.0,252.0,252.0,63.0,253.0,252.0,195.0,198.0,253.0,190.0,255.0,253.0,196.0,76.0,246.0,252.0,112.0,253.0,252.0,148.0,85.0,252.0,230.0,25.0,7.0,135.0,253.0,186.0,12.0,85.0,252.0,223.0,7.0,131.0,252.0,225.0,71.0,85.0,252.0,145.0,48.0,165.0,252.0,173.0,86.0,253.0,225.0,114.0,238.0,253.0,162.0,85.0,252.0,249.0,146.0,48.0,29.0,85.0,178.0,225.0,253.0,223.0,167.0,56.0,85.0,252.0,252.0,252.0,229.0,215.0,252.0,252.0,252.0,196.0,130.0,28.0,199.0,252.0,252.0,253.0,252.0,252.0,233.0,145.0,25.0,128.0,252.0,253.0,252.0,141.0,37.0])|\n|1.0  |(692,[158,159,160,161,185,186,187,188,189,213,214,215,216,217,240,241,242,243,244,245,267,268,269,270,271,295,296,297,298,322,323,324,325,326,349,350,351,352,353,377,378,379,380,381,404,405,406,407,408,431,432,433,434,435,459,460,461,462,463,486,487,488,489,490,514,515,516,517,518,542,543,544,545,569,570,571,572,573,596,597,598,599,600,601,624,625,626,627,652,653,654,655,680,681,682,683],[124.0,253.0,255.0,63.0,96.0,244.0,251.0,253.0,62.0,127.0,251.0,251.0,253.0,62.0,68.0,236.0,251.0,211.0,31.0,8.0,60.0,228.0,251.0,251.0,94.0,155.0,253.0,253.0,189.0,20.0,253.0,251.0,235.0,66.0,32.0,205.0,253.0,251.0,126.0,104.0,251.0,253.0,184.0,15.0,80.0,240.0,251.0,193.0,23.0,32.0,253.0,253.0,253.0,159.0,151.0,251.0,251.0,251.0,39.0,48.0,221.0,251.0,251.0,172.0,234.0,251.0,251.0,196.0,12.0,253.0,251.0,251.0,89.0,159.0,255.0,253.0,253.0,31.0,48.0,228.0,253.0,247.0,140.0,8.0,64.0,251.0,253.0,220.0,64.0,251.0,253.0,220.0,24.0,193.0,253.0,220.0])                                                                                                                                                                                                                                                                                                                                                                                                                                                                                                                                                                                                                                                                                                                                                                                                          |\n+-----+---------------------------------------------------------------------------------------------------------------------------------------------------------------------------------------------------------------------------------------------------------------------------------------------------------------------------------------------------------------------------------------------------------------------------------------------------------------------------------------------------------------------------------------------------------------------------------------------------------------------------------------------------------------------------------------------------------------------------------------------------------------------------------------------------------------------------------------------------------------------------------------------------------------------------------------------------------------------------------------------------------------------------------------------------------------------------------------------------------------------------------------------------------------------------------------------------------------------------------------------------------------------------------------------------------------------------------------------------------------------------------------------------------------------------------------------------------------------------------------------------------------------------------------------------------------------------------------------------------------------------------------------------------------------------------------------------------------------------------------------------------------------------------------+\nonly showing top 2 rows\n\n"
     ]
    }
   ],
   "source": [
    "data=spark.read.format(source=\"libsvm\").load(\"file:///databricks/driver/spark/data/mllib/sample_libsvm_data.txt\")\n",
    "\n",
    "data.show(truncate=False,n=2)"
   ]
  },
  {
   "cell_type": "code",
   "execution_count": 0,
   "metadata": {
    "application/vnd.databricks.v1+cell": {
     "cellMetadata": {},
     "inputWidgets": {},
     "nuid": "7f231db2-abae-46ea-b95a-bd95f9ed88f7",
     "showTitle": false,
     "title": ""
    }
   },
   "outputs": [
    {
     "output_type": "stream",
     "name": "stdout",
     "output_type": "stream",
     "text": [
      "+---------------------+\n|count(DISTINCT label)|\n+---------------------+\n|                    2|\n+---------------------+\n\n"
     ]
    }
   ],
   "source": [
    "data.select(countDistinct('label')).show()"
   ]
  },
  {
   "cell_type": "code",
   "execution_count": 0,
   "metadata": {
    "application/vnd.databricks.v1+cell": {
     "cellMetadata": {},
     "inputWidgets": {},
     "nuid": "82919f2d-9193-43b1-9f5a-cf19619531a1",
     "showTitle": false,
     "title": ""
    }
   },
   "outputs": [],
   "source": [
    "labelIndexer=StringIndexer(inputCol=\"label\",outputCol=\"indexedLabel\").fit(dataset=data)\n",
    "\n",
    "featureIndexer=VectorIndexer(inputCol=\"features\",outputCol=\"indexedFeatures\", maxCategories=4).fit(dataset=data)"
   ]
  },
  {
   "cell_type": "code",
   "execution_count": 0,
   "metadata": {
    "application/vnd.databricks.v1+cell": {
     "cellMetadata": {},
     "inputWidgets": {},
     "nuid": "0b505458-c56d-4f56-8871-aa0570e2ce0b",
     "showTitle": false,
     "title": ""
    }
   },
   "outputs": [],
   "source": [
    "trainingData, testData=data.randomSplit(weights=(0.7,0.3,),seed=101)\n",
    "\n",
    "dt=DecisionTreeClassifier(featuresCol=\"indexedFeatures\", labelCol=\"indexedLabel\")"
   ]
  },
  {
   "cell_type": "code",
   "execution_count": 0,
   "metadata": {
    "application/vnd.databricks.v1+cell": {
     "cellMetadata": {},
     "inputWidgets": {},
     "nuid": "225f3a5a-da5a-4214-b264-f213841b4222",
     "showTitle": false,
     "title": ""
    }
   },
   "outputs": [],
   "source": [
    "pipeline=Pipeline(stages=(labelIndexer,featureIndexer,dt))"
   ]
  },
  {
   "cell_type": "code",
   "execution_count": 0,
   "metadata": {
    "application/vnd.databricks.v1+cell": {
     "cellMetadata": {},
     "inputWidgets": {},
     "nuid": "a3a6206e-9408-4b6c-81b0-a10c8513a285",
     "showTitle": false,
     "title": ""
    }
   },
   "outputs": [],
   "source": [
    "model=pipeline.fit(dataset=trainingData)"
   ]
  },
  {
   "cell_type": "code",
   "execution_count": 0,
   "metadata": {
    "application/vnd.databricks.v1+cell": {
     "cellMetadata": {},
     "inputWidgets": {},
     "nuid": "3ce1d63d-321a-4398-9491-a4709f646842",
     "showTitle": false,
     "title": ""
    }
   },
   "outputs": [
    {
     "output_type": "stream",
     "name": "stdout",
     "output_type": "stream",
     "text": [
      "+-----+---------------------------------------------------------------------------------------------------------------------------------------------------------------------------------------------------------------------------------------------------------------------------------------------------------------------------------------------------------------------------------------------------------------------------------------------------------------------------------------------------------------------------------------------------------------------------------------------------------------------------------------------------------------------------------------------------------------------------------------------------------------------------------------------------------------------------------------------------------------------------------------------------------------------------------------------------------------------------------------------------------------------------------------------------------------------------------------------------------------------------------------------------------------------------------------------------------------------------------------------------------------------------------------------------------------------------------------------------------------------------------------------------------------------------------------------------------------------------------------------------------------------------------------------------------------------------------------------------------------------------------------------------------------------------------------------------------------------------------------------------------------------------------------------------------------------------------------------------------------------------------------------------------------------------------------------------------------------------------------------------------------------------------------------------------------------------------------------------------------------------------------------------------------------------------------------------------------------------------------------------------------------------------------------------------------------------------------------------------------------------------------------------------------------------------------------------------------------------------------------------------------------------------------------------------------------------------------------------------------------------------------------------------------------------+------------+--------------------------------------------------------------------------------------------------------------------------------------------------------------------------------------------------------------------------------------------------------------------------------------------------------------------------------------------------------------------------------------------------------------------------------------------------------------------------------------------------------------------------------------------------------------------------------------------------------------------------------------------------------------------------------------------------------------------------------------------------------------------------------------------------------------------------------------------------------------------------------------------------------------------------------------------------------------------------------------------------------------------------------------------------------------------------------------------------------------------------------------------------------------------------------------------------------------------------------------------------------------------------------------------------------------------------------------------------------------------------------------------------------------------------------------------------------------------------------------------------------------------------------------------------------------------------------------------------------------------------------------------------------------------------------------------------------------------------------------------------------------------------------------------------------------------------------------------------------------------------------------------------------------------------------------------------------------------------------------------------------------------------------------------------------------------------------------------------------------------------------------------------------------------------------------------------------------------------------------------------------------------------------------------------------------------------------------------------------------------------------------------------------------------------------------------------------------------------------------------------------------------------------------------------------------------------------------------------------------------------------------------------------------------------+-------------+-----------+----------+\n|label|features                                                                                                                                                                                                                                                                                                                                                                                                                                                                                                                                                                                                                                                                                                                                                                                                                                                                                                                                                                                                                                                                                                                                                                                                                                                                                                                                                                                                                                                                                                                                                                                                                                                                                                                                                                                                                                                                                                                                                                                                                                                                                                                                                                                                                                                                                                                                                                                                                                                                                                                                                                                                                                                                   |indexedLabel|indexedFeatures                                                                                                                                                                                                                                                                                                                                                                                                                                                                                                                                                                                                                                                                                                                                                                                                                                                                                                                                                                                                                                                                                                                                                                                                                                                                                                                                                                                                                                                                                                                                                                                                                                                                                                                                                                                                                                                                                                                                                                                                                                                                                                                                                                                                                                                                                                                                                                                                                                                                                                                                                                                                                                                           |rawPrediction|probability|prediction|\n+-----+---------------------------------------------------------------------------------------------------------------------------------------------------------------------------------------------------------------------------------------------------------------------------------------------------------------------------------------------------------------------------------------------------------------------------------------------------------------------------------------------------------------------------------------------------------------------------------------------------------------------------------------------------------------------------------------------------------------------------------------------------------------------------------------------------------------------------------------------------------------------------------------------------------------------------------------------------------------------------------------------------------------------------------------------------------------------------------------------------------------------------------------------------------------------------------------------------------------------------------------------------------------------------------------------------------------------------------------------------------------------------------------------------------------------------------------------------------------------------------------------------------------------------------------------------------------------------------------------------------------------------------------------------------------------------------------------------------------------------------------------------------------------------------------------------------------------------------------------------------------------------------------------------------------------------------------------------------------------------------------------------------------------------------------------------------------------------------------------------------------------------------------------------------------------------------------------------------------------------------------------------------------------------------------------------------------------------------------------------------------------------------------------------------------------------------------------------------------------------------------------------------------------------------------------------------------------------------------------------------------------------------------------------------------------------+------------+--------------------------------------------------------------------------------------------------------------------------------------------------------------------------------------------------------------------------------------------------------------------------------------------------------------------------------------------------------------------------------------------------------------------------------------------------------------------------------------------------------------------------------------------------------------------------------------------------------------------------------------------------------------------------------------------------------------------------------------------------------------------------------------------------------------------------------------------------------------------------------------------------------------------------------------------------------------------------------------------------------------------------------------------------------------------------------------------------------------------------------------------------------------------------------------------------------------------------------------------------------------------------------------------------------------------------------------------------------------------------------------------------------------------------------------------------------------------------------------------------------------------------------------------------------------------------------------------------------------------------------------------------------------------------------------------------------------------------------------------------------------------------------------------------------------------------------------------------------------------------------------------------------------------------------------------------------------------------------------------------------------------------------------------------------------------------------------------------------------------------------------------------------------------------------------------------------------------------------------------------------------------------------------------------------------------------------------------------------------------------------------------------------------------------------------------------------------------------------------------------------------------------------------------------------------------------------------------------------------------------------------------------------------------------+-------------+-----------+----------+\n|0.0  |(692,[122,123,124,125,126,127,128,129,149,150,151,152,153,154,155,156,157,176,177,178,179,180,181,182,183,184,185,186,204,205,206,207,208,209,210,211,212,213,214,215,231,232,233,234,235,236,237,238,239,240,241,242,243,244,259,260,261,262,263,264,265,266,269,270,271,272,273,286,287,288,289,290,292,293,294,298,299,300,301,302,314,315,316,317,318,327,328,329,330,342,343,344,345,355,356,357,358,359,370,371,372,373,384,385,386,387,398,399,400,401,412,413,414,415,426,427,428,429,440,441,442,443,454,455,456,457,468,469,470,471,482,483,484,485,495,496,497,498,499,510,511,512,513,514,523,524,525,526,539,540,541,542,550,551,552,553,554,567,568,569,570,577,578,579,580,581,595,596,597,598,599,603,604,605,606,607,608,609,623,624,625,626,627,628,629,630,631,632,633,634,635,652,653,654,655,656,657,658,659,660,661,662],[8.0,76.0,202.0,254.0,255.0,163.0,37.0,2.0,13.0,182.0,253.0,253.0,253.0,253.0,253.0,253.0,23.0,15.0,179.0,253.0,253.0,212.0,91.0,218.0,253.0,253.0,179.0,109.0,105.0,253.0,253.0,160.0,35.0,156.0,253.0,253.0,253.0,253.0,250.0,113.0,19.0,212.0,253.0,253.0,88.0,121.0,253.0,233.0,128.0,91.0,245.0,253.0,248.0,114.0,104.0,253.0,253.0,110.0,2.0,142.0,253.0,90.0,26.0,199.0,253.0,248.0,63.0,1.0,173.0,253.0,253.0,29.0,84.0,228.0,39.0,72.0,251.0,253.0,215.0,29.0,36.0,253.0,253.0,203.0,13.0,82.0,253.0,253.0,170.0,36.0,253.0,253.0,164.0,11.0,198.0,253.0,184.0,6.0,36.0,253.0,253.0,82.0,138.0,253.0,253.0,35.0,128.0,253.0,253.0,47.0,48.0,253.0,253.0,35.0,154.0,253.0,253.0,47.0,48.0,253.0,253.0,35.0,102.0,253.0,253.0,99.0,48.0,253.0,253.0,35.0,36.0,253.0,253.0,164.0,16.0,208.0,253.0,211.0,17.0,32.0,244.0,253.0,175.0,4.0,44.0,253.0,253.0,156.0,171.0,253.0,253.0,29.0,30.0,217.0,253.0,188.0,19.0,171.0,253.0,253.0,59.0,60.0,217.0,253.0,253.0,70.0,78.0,253.0,253.0,231.0,48.0,26.0,128.0,249.0,253.0,244.0,94.0,15.0,8.0,151.0,253.0,253.0,234.0,101.0,121.0,219.0,229.0,253.0,253.0,201.0,80.0,38.0,232.0,253.0,253.0,253.0,253.0,253.0,253.0,253.0,201.0,66.0])                                                                                                                                                                                                                                                                                                                                                                                                                                                                                                                                                                                                                                  |1.0         |(692,[122,123,124,125,126,127,128,129,149,150,151,152,153,154,155,156,157,176,177,178,179,180,181,182,183,184,185,186,204,205,206,207,208,209,210,211,212,213,214,215,231,232,233,234,235,236,237,238,239,240,241,242,243,244,259,260,261,262,263,264,265,266,269,270,271,272,273,286,287,288,289,290,292,293,294,298,299,300,301,302,314,315,316,317,318,327,328,329,330,342,343,344,345,355,356,357,358,359,370,371,372,373,384,385,386,387,398,399,400,401,412,413,414,415,426,427,428,429,440,441,442,443,454,455,456,457,468,469,470,471,482,483,484,485,495,496,497,498,499,510,511,512,513,514,523,524,525,526,539,540,541,542,550,551,552,553,554,567,568,569,570,577,578,579,580,581,595,596,597,598,599,603,604,605,606,607,608,609,623,624,625,626,627,628,629,630,631,632,633,634,635,652,653,654,655,656,657,658,659,660,661,662],[8.0,76.0,202.0,254.0,255.0,163.0,37.0,2.0,13.0,182.0,253.0,253.0,253.0,253.0,253.0,253.0,23.0,15.0,179.0,253.0,253.0,212.0,91.0,218.0,253.0,253.0,179.0,109.0,105.0,253.0,253.0,160.0,35.0,156.0,253.0,253.0,253.0,253.0,250.0,113.0,19.0,212.0,253.0,253.0,88.0,121.0,253.0,233.0,128.0,91.0,245.0,253.0,248.0,114.0,104.0,253.0,253.0,110.0,2.0,142.0,253.0,90.0,26.0,199.0,253.0,248.0,63.0,1.0,173.0,253.0,253.0,29.0,84.0,228.0,39.0,72.0,251.0,253.0,215.0,29.0,36.0,253.0,253.0,203.0,13.0,82.0,253.0,253.0,170.0,36.0,253.0,253.0,164.0,11.0,198.0,253.0,184.0,6.0,36.0,253.0,253.0,82.0,138.0,253.0,253.0,35.0,128.0,253.0,253.0,47.0,48.0,253.0,253.0,35.0,154.0,253.0,253.0,47.0,48.0,253.0,253.0,35.0,102.0,253.0,253.0,99.0,48.0,253.0,253.0,35.0,36.0,253.0,253.0,164.0,16.0,208.0,253.0,211.0,17.0,32.0,244.0,253.0,175.0,4.0,44.0,253.0,253.0,156.0,171.0,253.0,253.0,29.0,30.0,217.0,253.0,188.0,19.0,171.0,253.0,253.0,59.0,60.0,217.0,253.0,253.0,70.0,78.0,253.0,253.0,231.0,48.0,26.0,128.0,249.0,253.0,244.0,94.0,15.0,8.0,151.0,253.0,253.0,234.0,101.0,121.0,219.0,229.0,253.0,253.0,201.0,80.0,38.0,232.0,253.0,253.0,253.0,253.0,253.0,253.0,253.0,201.0,66.0])                                                                                                                                                                                                                                                                                                                                                                                                                                                                                                                                                                                                                                 |[0.0,31.0]   |[0.0,1.0]  |1.0       |\n|0.0  |(692,[122,123,148,149,150,151,152,153,175,176,177,178,179,180,181,182,183,184,185,186,187,202,203,204,205,206,207,208,209,210,211,212,213,214,215,216,217,229,230,231,232,237,238,240,241,242,243,244,245,246,257,258,259,260,265,271,272,273,274,275,285,286,287,300,301,302,303,313,314,315,329,330,331,332,341,342,343,357,358,359,360,369,370,371,386,387,388,397,398,399,414,415,416,425,426,427,428,442,443,444,453,454,455,456,470,471,472,482,483,484,485,498,499,500,510,511,512,513,514,526,527,528,539,540,541,542,543,544,552,553,554,555,556,568,569,570,571,572,573,574,575,576,577,578,579,580,581,582,583,597,598,599,600,601,602,603,604,605,606,607,608,609,610,626,627,628,629,630,631,632,633,634,635,636,637,658,659],[59.0,55.0,71.0,192.0,254.0,250.0,147.0,17.0,123.0,247.0,253.0,254.0,253.0,253.0,196.0,79.0,176.0,175.0,175.0,124.0,48.0,87.0,247.0,247.0,176.0,95.0,102.0,117.0,243.0,237.0,192.0,232.0,253.0,253.0,245.0,152.0,6.0,23.0,229.0,253.0,138.0,219.0,58.0,95.0,118.0,80.0,230.0,254.0,196.0,30.0,120.0,254.0,205.0,8.0,114.0,38.0,255.0,254.0,155.0,5.0,156.0,253.0,92.0,61.0,235.0,253.0,102.0,224.0,253.0,78.0,117.0,253.0,196.0,18.0,254.0,253.0,78.0,9.0,211.0,253.0,73.0,254.0,253.0,78.0,175.0,253.0,155.0,194.0,254.0,101.0,79.0,254.0,155.0,112.0,253.0,211.0,9.0,73.0,251.0,200.0,41.0,241.0,253.0,87.0,25.0,240.0,253.0,147.0,253.0,227.0,47.0,94.0,253.0,200.0,5.0,193.0,253.0,230.0,76.0,175.0,253.0,155.0,31.0,219.0,254.0,255.0,126.0,18.0,14.0,149.0,254.0,244.0,45.0,21.0,158.0,254.0,253.0,226.0,162.0,118.0,96.0,20.0,20.0,73.0,118.0,224.0,253.0,247.0,85.0,30.0,155.0,253.0,253.0,253.0,253.0,254.0,253.0,253.0,253.0,253.0,254.0,247.0,84.0,5.0,27.0,117.0,206.0,244.0,229.0,213.0,213.0,213.0,176.0,117.0,32.0,45.0,23.0])                                                                                                                                                                                                                                                                                                                                                                                                                                                                                                                                                                                                                                                                                                                                                                                                                                                                                   |1.0         |(692,[122,123,148,149,150,151,152,153,175,176,177,178,179,180,181,182,183,184,185,186,187,202,203,204,205,206,207,208,209,210,211,212,213,214,215,216,217,229,230,231,232,237,238,240,241,242,243,244,245,246,257,258,259,260,265,271,272,273,274,275,285,286,287,300,301,302,303,313,314,315,329,330,331,332,341,342,343,357,358,359,360,369,370,371,386,387,388,397,398,399,414,415,416,425,426,427,428,442,443,444,453,454,455,456,470,471,472,482,483,484,485,498,499,500,510,511,512,513,514,526,527,528,539,540,541,542,543,544,552,553,554,555,556,568,569,570,571,572,573,574,575,576,577,578,579,580,581,582,583,597,598,599,600,601,602,603,604,605,606,607,608,609,610,626,627,628,629,630,631,632,633,634,635,636,637,658,659],[59.0,55.0,1.0,192.0,254.0,250.0,147.0,17.0,123.0,247.0,253.0,254.0,253.0,253.0,196.0,79.0,176.0,175.0,175.0,124.0,48.0,3.0,247.0,247.0,176.0,95.0,102.0,117.0,243.0,237.0,192.0,232.0,253.0,253.0,245.0,152.0,6.0,1.0,229.0,253.0,138.0,219.0,58.0,95.0,118.0,80.0,230.0,254.0,196.0,30.0,2.0,254.0,205.0,8.0,114.0,38.0,255.0,254.0,155.0,5.0,156.0,253.0,92.0,61.0,235.0,253.0,102.0,224.0,253.0,78.0,117.0,253.0,196.0,18.0,254.0,253.0,78.0,9.0,211.0,253.0,73.0,254.0,253.0,78.0,175.0,253.0,155.0,194.0,254.0,101.0,79.0,254.0,155.0,112.0,253.0,211.0,9.0,73.0,251.0,200.0,41.0,241.0,253.0,87.0,25.0,240.0,253.0,147.0,253.0,227.0,47.0,94.0,253.0,200.0,5.0,193.0,253.0,230.0,76.0,175.0,253.0,155.0,31.0,219.0,254.0,255.0,126.0,18.0,14.0,149.0,254.0,244.0,45.0,21.0,158.0,254.0,253.0,226.0,162.0,118.0,96.0,20.0,20.0,73.0,118.0,224.0,253.0,247.0,85.0,30.0,155.0,253.0,253.0,253.0,253.0,254.0,253.0,253\n\n*** WARNING: max output size exceeded, skipping output. ***\n\n                                                                                                                                                                                                                                                                                                                                                                                                                                                                                                                                                                                                                                                                                                                                                                                                                                                                                                                                                                                                                                                                                                                                                                                                                                                                                                                                                                                                                                                                                                                                                                                                           |0.0         |(692,[124,125,126,152,153,154,181,182,183,209,210,211,237,238,239,265,266,267,293,294,295,321,322,323,349,350,351,377,378,379,405,406,407,433,434,435,461,462,463,489,490,491,516,517,518,519,544,545,546,547,572,573,574,600,601,602,628,629,630,656,657,658],[26.0,240.0,72.0,25.0,238.0,208.0,209.0,226.0,14.0,209.0,254.0,43.0,175.0,254.0,128.0,63.0,254.0,204.0,107.0,254.0,204.0,88.0,254.0,204.0,55.0,254.0,204.0,126.0,254.0,204.0,126.0,254.0,189.0,169.0,254.0,121.0,209.0,254.0,193.0,209.0,254.0,111.0,22.0,235.0,254.0,37.0,137.0,254.0,227.0,16.0,205.0,255.0,185.0,205.0,254.0,125.0,205.0,254.0,125.0,111.0,212.0,43.0])                                                                                                                                                                                                                                                                                                                                                                                                                                                                                                                                                                                                                                                                                                                                                                                                                                                                                                                                                                                                                                                                                                                                                                                                                                                                                                                                                                                                                                                                                                                                                                                                                                                                                                                                                                                                                                                                                                                                                                                                                                 |[38.0,0.0]   |[1.0,0.0]  |0.0       |\n|1.0  |(692,[125,126,127,153,154,155,181,182,183,209,210,211,237,238,239,265,266,267,293,294,295,321,322,323,349,350,351,377,378,379,405,406,407,433,434,435,461,462,463,489,490,491,517,518,519,545,546,547,548,573,574,575,576,601,602,603,604,629,630,631,632,657,658,659],[94.0,254.0,75.0,166.0,253.0,231.0,208.0,253.0,147.0,208.0,253.0,116.0,208.0,253.0,168.0,146.0,254.0,222.0,166.0,253.0,116.0,208.0,253.0,116.0,166.0,253.0,158.0,145.0,253.0,231.0,209.0,254.0,169.0,187.0,253.0,168.0,93.0,253.0,116.0,93.0,253.0,116.0,93.0,253.0,116.0,94.0,254.0,179.0,11.0,93.0,253.0,246.0,101.0,145.0,253.0,255.0,92.0,93.0,253.0,246.0,59.0,93.0,253.0,74.0])                                                                                                                                                                                                                                                                                                                                                                                                                                                                                                                                                                                                                                                                                                                                                                                                                                                                                                                                                                                                                                                                                                                                                                                                                                                                                                                                                                                                                                                                                                                                                                                                                                                                                                                                                                                                                                                                                                                                                                                                               |0.0         |(692,[125,126,127,153,154,155,181,182,183,209,210,211,237,238,239,265,266,267,293,294,295,321,322,323,349,350,351,377,378,379,405,406,407,433,434,435,461,462,463,489,490,491,517,518,519,545,546,547,548,573,574,575,576,601,602,603,604,629,630,631,632,657,658,659],[94.0,254.0,75.0,166.0,253.0,231.0,208.0,253.0,147.0,208.0,253.0,116.0,208.0,253.0,168.0,146.0,254.0,222.0,166.0,253.0,116.0,208.0,253.0,116.0,166.0,253.0,158.0,145.0,253.0,231.0,209.0,254.0,169.0,187.0,253.0,168.0,93.0,253.0,116.0,93.0,253.0,116.0,93.0,253.0,116.0,94.0,254.0,179.0,11.0,93.0,253.0,246.0,101.0,145.0,253.0,255.0,92.0,93.0,253.0,246.0,59.0,93.0,253.0,74.0])                                                                                                                                                                                                                                                                                                                                                                                                                                                                                                                                                                                                                                                                                                                                                                                                                                                                                                                                                                                                                                                                                                                                                                                                                                                                                                                                                                                                                                                                                                                                                                                                                                                                                                                                                                                                                                                                                                                                                                                                              |[38.0,0.0]   |[1.0,0.0]  |0.0       |\n|1.0  |(692,[126,127,128,129,154,155,156,157,182,183,184,185,186,210,211,212,213,214,238,239,240,241,242,266,267,268,269,270,293,294,295,296,297,298,321,322,323,324,325,348,349,350,351,352,353,376,377,378,379,380,381,404,405,406,407,408,409,432,433,434,435,436,437,459,460,461,462,463,464,487,488,489,490,491,492,515,516,517,518,519,520,543,544,545,546,547,571,572,573,574,575,599,600,601,602,614,627,628,629,630,655,656,657,658],[20.0,254.0,255.0,37.0,19.0,253.0,253.0,134.0,19.0,253.0,253.0,246.0,125.0,76.0,253.0,253.0,253.0,158.0,207.0,253.0,253.0,253.0,158.0,207.0,253.0,253.0,253.0,158.0,48.0,223.0,253.0,253.0,243.0,106.0,141.0,253.0,253.0,253.0,113.0,65.0,237.0,253.0,253.0,253.0,36.0,76.0,253.0,253.0,253.0,253.0,36.0,76.0,253.0,253.0,253.0,253.0,36.0,76.0,253.0,253.0,253.0,118.0,4.0,4.0,148.0,253.0,253.0,253.0,103.0,10.0,253.0,253.0,253.0,253.0,103.0,10.0,253.0,253.0,253.0,173.0,7.0,10.0,253.0,253.0,253.0,168.0,143.0,253.0,253.0,239.0,49.0,198.0,253.0,253.0,234.0,140.0,198.0,253.0,253.0,234.0,198.0,253.0,253.0,234.0])                                                                                                                                                                                                                                                                                                                                                                                                                                                                                                                                                                                                                                                                                                                                                                                                                                                                                                                                                                                                                                                                                                                                                                                                                                                                                                                                                                                                                                                                                                                                                                                                         |0.0         |(692,[126,127,128,129,154,155,156,157,182,183,184,185,186,210,211,212,213,214,238,239,240,241,242,266,267,268,269,270,293,294,295,296,297,298,321,322,323,324,325,348,349,350,351,352,353,376,377,378,379,380,381,404,405,406,407,408,409,432,433,434,435,436,437,459,460,461,462,463,464,487,488,489,490,491,492,515,516,517,518,519,520,543,544,545,546,547,571,572,573,574,575,599,600,601,602,614,627,628,629,630,655,656,657,658],[20.0,254.0,255.0,37.0,19.0,253.0,253.0,134.0,19.0,253.0,253.0,246.0,125.0,76.0,253.0,253.0,253.0,158.0,207.0,253.0,253.0,253.0,158.0,207.0,253.0,253.0,253.0,158.0,48.0,223.0,253.0,253.0,243.0,106.0,141.0,253.0,253.0,253.0,113.0,65.0,237.0,253.0,253.0,253.0,36.0,76.0,253.0,253.0,253.0,253.0,36.0,76.0,253.0,253.0,253.0,253.0,36.0,76.0,253.0,253.0,253.0,118.0,4.0,4.0,148.0,253.0,253.0,253.0,103.0,10.0,253.0,253.0,253.0,253.0,103.0,10.0,253.0,253.0,253.0,173.0,7.0,10.0,253.0,253.0,253.0,168.0,143.0,253.0,253.0,239.0,49.0,198.0,253.0,253.0,234.0,1.0,198.0,253.0,253.0,234.0,198.0,253.0,253.0,234.0])                                                                                                                                                                                                                                                                                                                                                                                                                                                                                                                                                                                                                                                                                                                                                                                                                                                                                                                                                                                                                                                                                                                                                                                                                                                                                                                                                                                                                                                                                                                                                                                                          |[38.0,0.0]   |[1.0,0.0]  |0.0       |\n|1.0  |(692,[126,127,128,154,155,156,157,182,183,184,185,210,211,212,213,238,239,240,241,266,267,268,269,292,293,294,295,296,297,320,321,322,323,324,348,349,350,351,352,376,377,378,379,380,404,405,406,407,432,433,434,435,459,460,461,462,463,486,487,488,489,490,491,514,515,516,517,518,542,543,544,545,546,570,571,572,573,574,598,599,600,601,626,627,628,629,630,654,655,656,657],[155.0,253.0,126.0,253.0,251.0,141.0,4.0,253.0,251.0,251.0,31.0,253.0,251.0,251.0,31.0,253.0,251.0,251.0,31.0,255.0,253.0,253.0,31.0,8.0,131.0,253.0,251.0,235.0,27.0,64.0,251.0,253.0,251.0,126.0,64.0,251.0,253.0,251.0,126.0,64.0,251.0,253.0,251.0,126.0,64.0,253.0,255.0,221.0,182.0,251.0,253.0,200.0,64.0,236.0,251.0,253.0,62.0,8.0,158.0,251.0,251.0,169.0,8.0,32.0,251.0,251.0,251.0,158.0,32.0,253.0,253.0,253.0,159.0,32.0,251.0,251.0,251.0,39.0,32.0,251.0,251.0,251.0,32.0,251.0,251.0,251.0,100.0,32.0,251.0,251.0,251.0])                                                                                                                                                                                                                                                                                                                                                                                                                                                                                                                                                                                                                                                                                                                                                                                                                                                                                                                                                                                                                                                                                                                                                                                                                                                                                                                                                                                                                                                                                                                                                                                                                                                                                                                                              |0.0         |(692,[126,127,128,154,155,156,157,182,183,184,185,210,211,212,213,238,239,240,241,266,267,268,269,292,293,294,295,296,297,320,321,322,323,324,348,349,350,351,352,376,377,378,379,380,404,405,406,407,432,433,434,435,459,460,461,462,463,486,487,488,489,490,491,514,515,516,517,518,542,543,544,545,546,570,571,572,573,574,598,599,600,601,626,627,628,629,630,654,655,656,657],[155.0,253.0,126.0,253.0,251.0,141.0,4.0,253.0,251.0,251.0,31.0,253.0,251.0,251.0,31.0,253.0,251.0,251.0,31.0,255.0,253.0,253.0,31.0,8.0,131.0,253.0,251.0,235.0,27.0,64.0,251.0,253.0,251.0,126.0,64.0,251.0,253.0,251.0,126.0,64.0,251.0,253.0,251.0,126.0,64.0,253.0,255.0,221.0,182.0,251.0,253.0,200.0,64.0,236.0,251.0,253.0,62.0,8.0,158.0,251.0,251.0,169.0,8.0,32.0,251.0,251.0,251.0,158.0,32.0,253.0,253.0,253.0,159.0,32.0,251.0,251.0,251.0,39.0,32.0,251.0,251.0,251.0,32.0,251.0,251.0,251.0,100.0,32.0,251.0,251.0,251.0])                                                                                                                                                                                                                                                                                                                                                                                                                                                                                                                                                                                                                                                                                                                                                                                                                                                                                                                                                                                                                                                                                                                                                                                                                                                                                                                                                                                                                                                                                                                                                                                                                                                                                                                                             |[38.0,0.0]   |[1.0,0.0]  |0.0       |\n+-----+---------------------------------------------------------------------------------------------------------------------------------------------------------------------------------------------------------------------------------------------------------------------------------------------------------------------------------------------------------------------------------------------------------------------------------------------------------------------------------------------------------------------------------------------------------------------------------------------------------------------------------------------------------------------------------------------------------------------------------------------------------------------------------------------------------------------------------------------------------------------------------------------------------------------------------------------------------------------------------------------------------------------------------------------------------------------------------------------------------------------------------------------------------------------------------------------------------------------------------------------------------------------------------------------------------------------------------------------------------------------------------------------------------------------------------------------------------------------------------------------------------------------------------------------------------------------------------------------------------------------------------------------------------------------------------------------------------------------------------------------------------------------------------------------------------------------------------------------------------------------------------------------------------------------------------------------------------------------------------------------------------------------------------------------------------------------------------------------------------------------------------------------------------------------------------------------------------------------------------------------------------------------------------------------------------------------------------------------------------------------------------------------------------------------------------------------------------------------------------------------------------------------------------------------------------------------------------------------------------------------------------------------------------------------------+------------+--------------------------------------------------------------------------------------------------------------------------------------------------------------------------------------------------------------------------------------------------------------------------------------------------------------------------------------------------------------------------------------------------------------------------------------------------------------------------------------------------------------------------------------------------------------------------------------------------------------------------------------------------------------------------------------------------------------------------------------------------------------------------------------------------------------------------------------------------------------------------------------------------------------------------------------------------------------------------------------------------------------------------------------------------------------------------------------------------------------------------------------------------------------------------------------------------------------------------------------------------------------------------------------------------------------------------------------------------------------------------------------------------------------------------------------------------------------------------------------------------------------------------------------------------------------------------------------------------------------------------------------------------------------------------------------------------------------------------------------------------------------------------------------------------------------------------------------------------------------------------------------------------------------------------------------------------------------------------------------------------------------------------------------------------------------------------------------------------------------------------------------------------------------------------------------------------------------------------------------------------------------------------------------------------------------------------------------------------------------------------------------------------------------------------------------------------------------------------------------------------------------------------------------------------------------------------------------------------------------------------------------------------------------------------+-------------+-----------+----------+\nonly showing top 20 rows\n\n"
     ]
    }
   ],
   "source": [
    "predictions=model.transform(dataset=testData)\n",
    "\n",
    "predictions.show(truncate=False)"
   ]
  },
  {
   "cell_type": "code",
   "execution_count": 0,
   "metadata": {
    "application/vnd.databricks.v1+cell": {
     "cellMetadata": {},
     "inputWidgets": {},
     "nuid": "4c5b3b6a-9ef8-4264-b702-4712b98cbd1a",
     "showTitle": false,
     "title": ""
    }
   },
   "outputs": [
    {
     "output_type": "stream",
     "name": "stdout",
     "output_type": "stream",
     "text": [
      "+------------+----------------------------------------------------------------------------------------------------------------------------------------------------------------------------------------------------------------------------------------------------------------------------------------------------------------------------------------------------------------------------------------------------------------------------------------------------------------------------------------------------------------------------------------------------------------------------------------------------------------------------------------------------------------------------------------------------------------------------------------------------------------------------------------------------------------------------------------------------------------------------------------------------------------------------------------------------------------------------------------------------------------------------------------------------------------------------------------------------------------------------------------------------------------------------------------------------------------------------------------------------------------------------------------------------------------------------------------------------------------------------------------------------------------------------------------------------------------------------------------------------------------------------------------------------------------------------------------------------------------------------------------------------------------------------------------------------------------------------------------------------------------------------------------------------------------------------------------------------------------------------------------------------------------------------------------------------------------------------------------------------------------------------------------------------------------------------------------------------------------------------------------------------------------------------------------------------------------------------------------------------------------------------------------------------------------------------------------------------------------------------------------------------------------------------------------------------------------------------------+----------+\n|indexedLabel|indexedFeatures                                                                                                                                                                                                                                                                                                                                                                                                                                                                                                                                                                                                                                                                                                                                                                                                                                                                                                                                                                                                                                                                                                                                                                                                                                                                                                                                                                                                                                                                                                                                                                                                                                                                                                                                                                                                                                                                                                                                                                                                                                                                                                                                                                                                                                                                                                                                                                                                                                                                   |prediction|\n+------------+----------------------------------------------------------------------------------------------------------------------------------------------------------------------------------------------------------------------------------------------------------------------------------------------------------------------------------------------------------------------------------------------------------------------------------------------------------------------------------------------------------------------------------------------------------------------------------------------------------------------------------------------------------------------------------------------------------------------------------------------------------------------------------------------------------------------------------------------------------------------------------------------------------------------------------------------------------------------------------------------------------------------------------------------------------------------------------------------------------------------------------------------------------------------------------------------------------------------------------------------------------------------------------------------------------------------------------------------------------------------------------------------------------------------------------------------------------------------------------------------------------------------------------------------------------------------------------------------------------------------------------------------------------------------------------------------------------------------------------------------------------------------------------------------------------------------------------------------------------------------------------------------------------------------------------------------------------------------------------------------------------------------------------------------------------------------------------------------------------------------------------------------------------------------------------------------------------------------------------------------------------------------------------------------------------------------------------------------------------------------------------------------------------------------------------------------------------------------------------+----------+\n|1.0         |(692,[95,96,97,123,124,125,126,152,153,154,155,156,180,181,182,183,184,185,186,187,205,206,207,208,209,210,211,212,213,214,215,216,217,232,233,234,235,238,239,240,241,242,243,244,245,246,259,260,261,262,268,269,270,271,272,273,274,287,288,289,290,299,300,301,302,303,315,316,317,328,329,330,331,343,344,345,356,357,358,370,371,372,373,383,384,385,386,398,399,400,401,410,411,412,413,414,426,427,428,429,438,439,440,441,442,454,455,456,457,466,467,468,469,482,483,484,485,493,494,495,496,510,511,512,513,514,520,521,522,523,524,539,540,541,542,543,544,547,548,549,550,551,552,567,568,569,570,571,572,573,574,575,576,577,578,579,595,596,597,598,599,600,601,602,603,604,605,606,625,626,627,628,629,630,631,632,633],[1.0,1.0,2.0,24.0,242.0,245.0,122.0,231.0,253.0,253.0,104.0,12.0,90.0,253.0,253.0,254.0,221.0,120.0,120.0,85.0,67.0,75.0,36.0,11.0,56.0,222.0,254.0,253.0,253.0,253.0,245.0,207.0,36.0,86.0,245.0,249.0,105.0,44.0,224.0,230.0,253.0,253.0,253.0,253.0,214.0,10.0,8.0,191.0,253.0,143.0,29.0,119.0,119.0,158.0,253.0,253.0,94.0,15.0,253.0,226.0,48.0,4.0,183.0,253.0,248.0,56.0,42.0,253.0,178.0,179.0,253.0,184.0,14.0,164.0,253.0,178.0,179.0,253.0,163.0,61.0,254.0,254.0,179.0,76.0,254.0,254.0,164.0,60.0,253.0,253.0,178.0,29.0,206.0,253.0,253.0,40.0,60.0,253.0,253.0,178.0,120.0,253.0,253.0,245.0,13.0,60.0,253.0,253.0,178.0,120.0,253.0,239.0,63.0,60.0,253.0,253.0,178.0,14.0,238.0,253.0,179.0,18.0,190.0,253.0,231.0,70.0,43.0,184.0,253.0,253.0,74.0,86.0,253.0,253.0,239.0,134.0,8.0,56.0,163.0,253.0,253.0,213.0,35.0,16.0,253.0,253.0,253.0,253.0,240.0,239.0,239.0,247.0,253.0,253.0,210.0,27.0,4.0,59.0,204.0,253.0,253.0,253.0,253.0,253.0,254.0,253.0,250.0,110.0,31.0,122.0,253.0,253.0,253.0,253.0,255.0,217.0,98.0])                                                                                                                                                                                                                                                                                                                                                                                                                                                                                                                                                                                                                                                                                           |1.0       |\n|1.0         |(692,[98,99,100,101,126,127,128,129,130,154,155,156,157,158,159,182,183,184,185,186,187,188,208,209,210,211,212,213,214,215,216,234,235,236,237,238,239,240,241,242,243,244,245,261,262,263,264,269,270,271,272,273,288,289,290,291,292,297,298,299,300,301,316,317,318,319,320,326,327,328,329,344,345,346,347,348,355,356,357,358,371,372,373,374,375,383,384,385,386,399,400,401,402,411,412,413,414,427,428,429,430,438,439,440,441,442,455,456,457,458,466,467,468,469,483,484,485,486,493,494,495,496,497,511,512,513,514,520,521,522,523,524,525,539,540,541,542,547,548,549,550,551,552,567,568,569,570,571,572,573,574,575,576,577,578,579,580,596,597,598,599,600,601,602,603,604,605,606,625,626,627,628,629,630,631,632],[1.0,3.0,165.0,114.0,122.0,253.0,253.0,253.0,120.0,165.0,253.0,253.0,253.0,234.0,52.0,99.0,253.0,253.0,253.0,253.0,228.0,26.0,60.0,168.0,238.0,202.0,174.0,253.0,253.0,253.0,127.0,91.0,81.0,1.0,215.0,128.0,28.0,12.0,181.0,253.0,253.0,175.0,3.0,18.0,204.0,253.0,77.0,7.0,253.0,253.0,253.0,54.0,54.0,248.0,253.0,253.0,143.0,1.0,127.0,253.0,253.0,188.0,104.0,253.0,253.0,253.0,20.0,81.0,249.0,253.0,191.0,192.0,253.0,253.0,218.0,5.0,203.0,253.0,208.0,21.0,56.0,237.0,253.0,250.0,100.0,104.0,253.0,253.0,75.0,76.0,253.0,253.0,224.0,119.0,253.0,253.0,75.0,80.0,253.0,253.0,103.0,4.0,241.0,253.0,218.0,32.0,213.0,253.0,253.0,103.0,125.0,253.0,253.0,191.0,213.0,253.0,253.0,103.0,3.0,176.0,253.0,253.0,135.0,213.0,253.0,253.0,103.0,9.0,162.0,253.0,253.0,226.0,37.0,179.0,253.0,253.0,135.0,46.0,157.0,253.0,253.0,253.0,63.0,23.0,188.0,253.0,249.0,179.0,179.0,179.0,179.0,233.0,253.0,253.0,233.0,156.0,10.0,51.0,235.0,253.0,253.0,253.0,253.0,253.0,253.0,251.0,232.0,120.0,16.0,124.0,253.0,253.0,253.0,253.0,152.0,104.0])                                                                                                                                                                                                                                                                                                                                                                                                                                                                                                                                                                                                                                                                                           |1.0       |\n|1.0         |(692,[100,101,102,125,126,127,128,129,130,151,152,153,154,155,156,157,158,179,180,181,182,183,186,187,207,208,209,214,215,234,235,236,242,243,262,263,264,270,271,290,291,298,299,318,319,326,327,346,347,354,355,373,374,375,382,383,401,402,403,410,411,429,430,431,438,439,457,458,459,466,467,485,486,487,493,494,495,514,515,516,520,521,522,523,542,543,544,545,547,548,549,550,551,570,571,572,573,574,575,576,577,578,599,600,601,602,603,604,605,627,628,629,630,631,632],[88.0,127.0,1.0,19.0,58.0,20.0,14.0,217.0,19.0,7.0,146.0,247.0,253.0,235.0,27.0,84.0,81.0,126.0,253.0,164.0,19.0,15.0,156.0,9.0,214.0,222.0,34.0,234.0,58.0,59.0,254.0,116.0,235.0,58.0,141.0,251.0,72.0,151.0,140.0,224.0,233.0,136.0,223.0,254.0,218.0,136.0,253.0,254.0,135.0,136.0,253.0,23.0,255.0,114.0,137.0,231.0,98.0,254.0,122.0,136.0,155.0,98.0,254.0,106.0,166.0,155.0,98.0,254.0,128.0,234.0,193.0,98.0,254.0,135.0,61.0,248.0,118.0,255.0,238.0,18.0,13.0,224.0,254.0,58.0,201.0,253.0,128.0,2.0,5.0,150.0,253.0,167.0,9.0,18.0,226.0,253.0,49.0,31.0,156.0,253.0,228.0,13.0,147.0,253.0,243.0,241.0,254.0,227.0,43.0,5.0,126.0,245.0,253.0,231.0,46.0])                                                                                                                                                                                                                                                                                                                                                                                                                                                                                                                                                                                                                                                                                                                                                                                                                                                                                                                                                                                                                                                                                                                                                                                                                                                                                                                        |1.0       |\n|1.0         |(692,[121,122,123,124,125,126,127,149,150,151,152,153,154,155,156,157,176,177,178,179,180,181,182,183,184,185,186,187,203,204,205,206,207,208,209,210,211,212,213,214,215,216,217,231,232,233,234,235,236,237,238,239,240,241,242,243,244,245,246,259,260,261,262,269,270,271,272,273,274,286,287,288,289,298,299,300,301,302,303,314,315,316,317,328,329,330,331,342,343,344,345,356,357,358,359,369,370,371,372,385,386,387,397,398,399,400,413,414,415,416,425,426,427,441,442,443,444,453,454,455,469,470,471,472,481,482,483,484,496,497,498,499,509,510,511,512,523,524,525,526,527,537,538,539,540,541,542,549,550,551,552,553,554,565,566,567,568,569,570,571,572,573,575,576,577,578,579,580,581,582,594,595,596,597,598,599,600,601,602,603,604,605,606,607,608,609,623,624,625,626,627,628,629,630,631,632,633,634,635,653,654,655,656,657,658,659,660,661],[1.0,176.0,253.0,253.0,159.0,113.0,63.0,140.0,253.0,252.0,252.0,252.0,252.0,241.0,100.0,66.0,54.0,227.0,253.0,252.0,252.0,252.0,252.0,253.0,252.0,239.0,181.0,57.0,38.0,224.0,252.0,253.0,226.0,246.0,252.0,252.0,253.0,252.0,252.0,252.0,252.0,108.0,3.0,57.0,252.0,252.0,253.0,27.0,88.0,112.0,112.0,112.0,112.0,142.0,252.0,252.0,253.0,152.0,31.0,198.0,253.0,253.0,79.0,32.0,153.0,253.0,255.0,253.0,196.0,76.0,246.0,252.0,127.0,3.0,106.0,253.0,252.0,214.0,28.0,194.0,252.0,252.0,112.0,143.0,252.0,252.0,193.0,225.0,252.0,217.0,37.0,38.0,234.0,252.0,223.0,63.0,240.0,252.0,84.0,146.0,252.0,223.0,114.0,253.0,228.0,47.0,147.0,253.0,253.0,112.0,159.0,252.0,195.0,225.0,252.0,252.0,112.0,253.0,252.0,195.0,225.0,252.0,230.0,25.0,159.0,252.0,202.0,10.0,92.0,243.0,252.0,208.0,113.0,252.0,252.0,161.0,79.0,253.0,252.0,220.0,37.0,114.0,253.0,253.0,253.0,174.0,63.0,26.0,128.0,253.0,255.0,253.0,133.0,12.0,228.0,252.0,252.0,252.0,241.0,100.0,85.0,76.0,85.0,131.0,231.0,252.0,252.0,253.0,129.0,6.0,97.0,208.0,252.0,252.0,253.0,252.0,252.0,246.0,197.0,253.0,252.0,252.0,252.0,220.0,133.0,6.0,19.0,99.0,239.0,253.0,252.0,252.0,252.0,252.0,253.0,252.0,245.0,223.0,99.0,63.0,112.0,112.0,221.0,252.0,252.0,253.0,127.0,87.0])                                                                                                                                                                                                                                                                                                                                                      |1.0       |\n|1.0         |(692,[123,124,125,126,127,128,129,130,131,132,133,150,151,152,153,154,155,156,157,158,159,160,161,162,177,178,179,180,181,182,183,184,185,186,187,188,189,190,205,206,207,208,209,210,212,213,214,215,216,217,218,233,234,235,236,237,238,241,242,243,244,245,246,261,262,263,264,265,266,270,271,272,273,274,275,288,289,290,291,292,293,299,300,301,302,303,315,316,317,318,319,327,328,329,330,331,342,343,344,345,346,347,355,356,357,358,359,370,371,372,373,374,375,383,384,385,386,387,398,399,400,401,402,403,411,412,413,414,415,426,427,428,429,430,431,439,440,441,442,443,454,455,456,457,458,459,467,468,469,470,471,482,483,484,485,486,493,494,495,496,497,498,510,511,512,513,514,515,520,521,522,523,524,525,526,538,539,540,541,542,543,544,545,546,547,548,549,550,551,552,553,554,566,567,568,569,570,571,572,573,574,575,576,577,578,579,580,581,594,595,596,597,598,599,600,601,602,603,604,605,606,607,622,623,624,625,626,627,628,629,630,631,632,633,634,652,653,654,655,656,657,658,659,660,661],[41.0,254.0,254.0,157.0,34.0,34.0,218.0,255.0,206.0,34.0,2.0,53.0,238.0,252.0,252.0,252.0,252.0,252.0,252.0,252.0,252.0,252.0,162.0,26.0,66.0,220.0,252.0,252.0,252.0,209.0,153.0,223.0,252.0,252.0,252.0,252.0,252.0,98.0,166.0,252.0,252.0,252.0,252.0,141.0,85.0,230.0,252.0,252.0,252.0,252.0,98.0,166.0,252.0,252.0,252.0,252.0,141.0,73.0,102.0,252.0,252.0,252.0,98.0,166.0,252.0,252.0,252.0,191.0,30.0,5.0,97.0,252.0,252.0,220.0,51.0,123.0,245.0,252.0,252.0,202.0,14.0,56.0,252.0,252.0,252.0,65.0,18.0,154.0,252.0,252.0,241.0,56.0,252.0,252.0,252.0,65.0,21.0,146.0,252.0,252.0,252.0,241.0,56.0,252.0,252.0,252.0,65.0,67.0,252.0,252.0,252.0,252.0,241.0,56.0,252.0,252.0,252.0,65.0,67.0,252.0,252.0,252.0,252.0,116.0,56.0,252.0,252.0,252.0,65.0,67.0,252.0,252.0,252.0,252.0,20.0,56.0,252.0,252.0,252.0,65.0,67.0,252.0,252.0,252.0,87.0,4.0,56.0,252.0,252.0,124.0,11.0,67.0,252.0,252.0,252.0,54.0,19.0,236.0,245.0,252.0,252.0,98.0,67.0,252.0,252.0,252.0,97.0,5.0,39.0,219.0,252.0,252.0,252.0,252.0,98.0,67.0,252.0,252.0,252.0,252.0,102.0,89.0,89.0,89.0,89.0,203.0,252.0,252.0,252.0,252.0,209.0,64.0,67.0,252.0,252.0,252.0,252.0,252.0,252.0,252.0,252.0,252.0,252.0,252.0,252.0,226.0,130.0,68.0,67.0,252.0,252.0,252.0,252.0,252.0,252.0,252.0,252.0,252.0,252.0,252.0,239.0,77.0,17.0,65.0,163.0,252.0,252.0,252.0,252.0,252.0,252.0,252.0,252.0,96.0,59.0,17.0,176.0,252.0,252.0,252.0,252.0,155.0,32.0,32.0,6.0])|1.0       |\n+------------+----------------------------------------------------------------------------------------------------------------------------------------------------------------------------------------------------------------------------------------------------------------------------------------------------------------------------------------------------------------------------------------------------------------------------------------------------------------------------------------------------------------------------------------------------------------------------------------------------------------------------------------------------------------------------------------------------------------------------------------------------------------------------------------------------------------------------------------------------------------------------------------------------------------------------------------------------------------------------------------------------------------------------------------------------------------------------------------------------------------------------------------------------------------------------------------------------------------------------------------------------------------------------------------------------------------------------------------------------------------------------------------------------------------------------------------------------------------------------------------------------------------------------------------------------------------------------------------------------------------------------------------------------------------------------------------------------------------------------------------------------------------------------------------------------------------------------------------------------------------------------------------------------------------------------------------------------------------------------------------------------------------------------------------------------------------------------------------------------------------------------------------------------------------------------------------------------------------------------------------------------------------------------------------------------------------------------------------------------------------------------------------------------------------------------------------------------------------------------------+----------+\nonly showing top 5 rows\n\n"
     ]
    }
   ],
   "source": [
    "predictions.select('indexedLabel','indexedFeatures','prediction').show(n=5,truncate=False)"
   ]
  },
  {
   "cell_type": "code",
   "execution_count": 0,
   "metadata": {
    "application/vnd.databricks.v1+cell": {
     "cellMetadata": {},
     "inputWidgets": {},
     "nuid": "fbd843f9-e8ed-411c-a5f3-3f303443af39",
     "showTitle": false,
     "title": ""
    }
   },
   "outputs": [
    {
     "output_type": "stream",
     "name": "stdout",
     "output_type": "stream",
     "text": [
      "Test Error: 0.0\n"
     ]
    }
   ],
   "source": [
    "evaluator=MulticlassClassificationEvaluator(predictionCol=\"prediction\",labelCol=\"indexedLabel\",metricName=\"accuracy\")\n",
    "\n",
    "\n",
    "accuracy=evaluator.evaluate(dataset=predictions)\n",
    "\n",
    "print(f\"Test Error: {1-accuracy}\")"
   ]
  },
  {
   "cell_type": "code",
   "execution_count": 0,
   "metadata": {
    "application/vnd.databricks.v1+cell": {
     "cellMetadata": {},
     "inputWidgets": {},
     "nuid": "364b68cb-b529-4fd9-a812-0737b3a3fb99",
     "showTitle": false,
     "title": ""
    }
   },
   "outputs": [
    {
     "output_type": "stream",
     "name": "stdout",
     "output_type": "stream",
     "text": [
      "Out[119]: DecisionTreeClassificationModel: uid=DecisionTreeClassifier_fbd5a20af2cc, depth=2, numNodes=5, numClasses=2, numFeatures=692"
     ]
    }
   ],
   "source": [
    "# Model Summary\n",
    "model.stages[2]"
   ]
  },
  {
   "cell_type": "code",
   "execution_count": 0,
   "metadata": {
    "application/vnd.databricks.v1+cell": {
     "cellMetadata": {},
     "inputWidgets": {},
     "nuid": "88a8ddbc-1449-4b50-bc44-e4579f9ccd83",
     "showTitle": false,
     "title": ""
    }
   },
   "outputs": [],
   "source": [
    "# Random Forest Classifier\n",
    "from pyspark.ml.classification import RandomForestClassifier\n",
    "from pyspark.ml.feature import IndexToString"
   ]
  },
  {
   "cell_type": "code",
   "execution_count": 0,
   "metadata": {
    "application/vnd.databricks.v1+cell": {
     "cellMetadata": {},
     "inputWidgets": {},
     "nuid": "f39125d5-03f8-423a-b477-5be2b348fd56",
     "showTitle": false,
     "title": ""
    }
   },
   "outputs": [],
   "source": [
    "rf=RandomForestClassifier(featuresCol=\"indexedFeatures\", labelCol=\"indexedLabel\",numTrees=10)\n"
   ]
  },
  {
   "cell_type": "code",
   "execution_count": 0,
   "metadata": {
    "application/vnd.databricks.v1+cell": {
     "cellMetadata": {},
     "inputWidgets": {},
     "nuid": "400a7b35-c8b9-4f41-bb63-dcfb0f675f8a",
     "showTitle": false,
     "title": ""
    }
   },
   "outputs": [
    {
     "output_type": "stream",
     "name": "stdout",
     "output_type": "stream",
     "text": [
      "Out[178]: ['1.0', '0.0']"
     ]
    }
   ],
   "source": [
    "labelIndexer.labels"
   ]
  },
  {
   "cell_type": "code",
   "execution_count": 0,
   "metadata": {
    "application/vnd.databricks.v1+cell": {
     "cellMetadata": {},
     "inputWidgets": {},
     "nuid": "b766b237-3efb-45c7-b33d-caabb6345f72",
     "showTitle": false,
     "title": ""
    }
   },
   "outputs": [],
   "source": [
    "labelConverter=IndexToString(inputCol=\"prediction\",outputCol=\"predictedLabel\",labels=labelIndexer.labels)\n"
   ]
  },
  {
   "cell_type": "code",
   "execution_count": 0,
   "metadata": {
    "application/vnd.databricks.v1+cell": {
     "cellMetadata": {},
     "inputWidgets": {},
     "nuid": "69cda80c-813c-4b17-aa24-244bb6b3501f",
     "showTitle": false,
     "title": ""
    }
   },
   "outputs": [],
   "source": [
    "pipeline=Pipeline(stages=(labelIndexer,featureIndexer,rf,labelConverter,))"
   ]
  },
  {
   "cell_type": "code",
   "execution_count": 0,
   "metadata": {
    "application/vnd.databricks.v1+cell": {
     "cellMetadata": {},
     "inputWidgets": {},
     "nuid": "2fe03301-4753-4d40-a4e6-bd8c9a379cce",
     "showTitle": false,
     "title": ""
    }
   },
   "outputs": [],
   "source": [
    "model=pipeline.fit(dataset=trainingData)"
   ]
  },
  {
   "cell_type": "code",
   "execution_count": 0,
   "metadata": {
    "application/vnd.databricks.v1+cell": {
     "cellMetadata": {},
     "inputWidgets": {},
     "nuid": "7527da8b-1bb5-49a6-8b1a-70e733685078",
     "showTitle": false,
     "title": ""
    }
   },
   "outputs": [
    {
     "output_type": "stream",
     "name": "stdout",
     "output_type": "stream",
     "text": [
      "+-----+-----------------------------------------------------------------------------------------------------------------------------------------------------------------------------------------------------------------------------------------------------------------------------------------------------------------------------------------------------------------------------------------------------------------------------------------------------------------------------------------------------------------------------------------------------------------------------------------------------------------------------------------------------------------------------------------------------------------------------------------------------------------------------------------------------------------------------------------------------------------------------------------------------------------------------------------------------------------------------------------------------------------------------------------------------------------------------------------------------------------------------------------------------------------------------------------------------------------------------------------------------------------------------------------------------------------------------------------------------------------------------------------------------------------------------------------------------------------------------------------------------------------------------------------------------------------------------------------------------------------------------------------------------------------------------------------------------------------------------------------------------------------------------------------------------------------------------------------------------------------------------------------------------------------------------------------------------------------------------------------------------------------------------------------------------------------------------------------------------------------------------------------------------------------------------------------------------------------------------------------------------------------------------------------------------------------------------------------------------------------------------------------------------------------------------------------------------------------------------------+------------+----------------------------------------------------------------------------------------------------------------------------------------------------------------------------------------------------------------------------------------------------------------------------------------------------------------------------------------------------------------------------------------------------------------------------------------------------------------------------------------------------------------------------------------------------------------------------------------------------------------------------------------------------------------------------------------------------------------------------------------------------------------------------------------------------------------------------------------------------------------------------------------------------------------------------------------------------------------------------------------------------------------------------------------------------------------------------------------------------------------------------------------------------------------------------------------------------------------------------------------------------------------------------------------------------------------------------------------------------------------------------------------------------------------------------------------------------------------------------------------------------------------------------------------------------------------------------------------------------------------------------------------------------------------------------------------------------------------------------------------------------------------------------------------------------------------------------------------------------------------------------------------------------------------------------------------------------------------------------------------------------------------------------------------------------------------------------------------------------------------------------------------------------------------------------------------------------------------------------------------------------------------------------------------------------------------------------------------------------------------------------------------------------------------------------------------------------------------------------------+-------------+-----------+----------+--------------+\n|label|features                                                                                                                                                                                                                                                                                                                                                                                                                                                                                                                                                                                                                                                                                                                                                                                                                                                                                                                                                                                                                                                                                                                                                                                                                                                                                                                                                                                                                                                                                                                                                                                                                                                                                                                                                                                                                                                                                                                                                                                                                                                                                                                                                                                                                                                                                                                                                                                                                                                                           |indexedLabel|indexedFeatures                                                                                                                                                                                                                                                                                                                                                                                                                                                                                                                                                                                                                                                                                                                                                                                                                                                                                                                                                                                                                                                                                                                                                                                                                                                                                                                                                                                                                                                                                                                                                                                                                                                                                                                                                                                                                                                                                                                                                                                                                                                                                                                                                                                                                                                                                                                                                                                                                                                                   |rawPrediction|probability|prediction|predictedLabel|\n+-----+-----------------------------------------------------------------------------------------------------------------------------------------------------------------------------------------------------------------------------------------------------------------------------------------------------------------------------------------------------------------------------------------------------------------------------------------------------------------------------------------------------------------------------------------------------------------------------------------------------------------------------------------------------------------------------------------------------------------------------------------------------------------------------------------------------------------------------------------------------------------------------------------------------------------------------------------------------------------------------------------------------------------------------------------------------------------------------------------------------------------------------------------------------------------------------------------------------------------------------------------------------------------------------------------------------------------------------------------------------------------------------------------------------------------------------------------------------------------------------------------------------------------------------------------------------------------------------------------------------------------------------------------------------------------------------------------------------------------------------------------------------------------------------------------------------------------------------------------------------------------------------------------------------------------------------------------------------------------------------------------------------------------------------------------------------------------------------------------------------------------------------------------------------------------------------------------------------------------------------------------------------------------------------------------------------------------------------------------------------------------------------------------------------------------------------------------------------------------------------------+------------+----------------------------------------------------------------------------------------------------------------------------------------------------------------------------------------------------------------------------------------------------------------------------------------------------------------------------------------------------------------------------------------------------------------------------------------------------------------------------------------------------------------------------------------------------------------------------------------------------------------------------------------------------------------------------------------------------------------------------------------------------------------------------------------------------------------------------------------------------------------------------------------------------------------------------------------------------------------------------------------------------------------------------------------------------------------------------------------------------------------------------------------------------------------------------------------------------------------------------------------------------------------------------------------------------------------------------------------------------------------------------------------------------------------------------------------------------------------------------------------------------------------------------------------------------------------------------------------------------------------------------------------------------------------------------------------------------------------------------------------------------------------------------------------------------------------------------------------------------------------------------------------------------------------------------------------------------------------------------------------------------------------------------------------------------------------------------------------------------------------------------------------------------------------------------------------------------------------------------------------------------------------------------------------------------------------------------------------------------------------------------------------------------------------------------------------------------------------------------------+-------------+-----------+----------+--------------+\n|0.0  |(692,[121,122,123,124,125,126,127,149,150,151,152,153,154,155,156,157,176,177,178,179,180,181,182,183,184,185,186,187,203,204,205,206,207,208,209,210,211,212,213,214,215,216,217,231,232,233,234,235,236,237,238,239,240,241,242,243,244,245,246,259,260,261,262,269,270,271,272,273,274,286,287,288,289,298,299,300,301,302,303,314,315,316,317,328,329,330,331,342,343,344,345,356,357,358,359,369,370,371,372,385,386,387,397,398,399,400,413,414,415,416,425,426,427,441,442,443,444,453,454,455,469,470,471,472,481,482,483,484,496,497,498,499,509,510,511,512,523,524,525,526,527,537,538,539,540,541,542,549,550,551,552,553,554,565,566,567,568,569,570,571,572,573,575,576,577,578,579,580,581,582,594,595,596,597,598,599,600,601,602,603,604,605,606,607,608,609,623,624,625,626,627,628,629,630,631,632,633,634,635,653,654,655,656,657,658,659,660,661],[63.0,176.0,253.0,253.0,159.0,113.0,63.0,140.0,253.0,252.0,252.0,252.0,252.0,241.0,100.0,66.0,54.0,227.0,253.0,252.0,252.0,252.0,252.0,253.0,252.0,239.0,181.0,57.0,38.0,224.0,252.0,253.0,226.0,246.0,252.0,252.0,253.0,252.0,252.0,252.0,252.0,108.0,3.0,57.0,252.0,252.0,253.0,27.0,88.0,112.0,112.0,112.0,112.0,142.0,252.0,252.0,253.0,152.0,31.0,198.0,253.0,253.0,79.0,32.0,153.0,253.0,255.0,253.0,196.0,76.0,246.0,252.0,127.0,3.0,106.0,253.0,252.0,214.0,28.0,194.0,252.0,252.0,112.0,143.0,252.0,252.0,193.0,225.0,252.0,217.0,37.0,38.0,234.0,252.0,223.0,63.0,240.0,252.0,84.0,146.0,252.0,223.0,114.0,253.0,228.0,47.0,147.0,253.0,253.0,112.0,159.0,252.0,195.0,225.0,252.0,252.0,112.0,253.0,252.0,195.0,225.0,252.0,230.0,25.0,159.0,252.0,202.0,10.0,92.0,243.0,252.0,208.0,113.0,252.0,252.0,161.0,79.0,253.0,252.0,220.0,37.0,114.0,253.0,253.0,253.0,174.0,63.0,26.0,128.0,253.0,255.0,253.0,133.0,12.0,228.0,252.0,252.0,252.0,241.0,100.0,85.0,76.0,85.0,131.0,231.0,252.0,252.0,253.0,129.0,6.0,97.0,208.0,252.0,252.0,253.0,252.0,252.0,246.0,197.0,253.0,252.0,252.0,252.0,220.0,133.0,6.0,19.0,99.0,239.0,253.0,252.0,252.0,252.0,252.0,253.0,252.0,245.0,223.0,99.0,63.0,112.0,112.0,221.0,252.0,252.0,253.0,127.0,87.0])                                                                                                                                                                                                                                                                                                                                                      |1.0         |(692,[121,122,123,124,125,126,127,149,150,151,152,153,154,155,156,157,176,177,178,179,180,181,182,183,184,185,186,187,203,204,205,206,207,208,209,210,211,212,213,214,215,216,217,231,232,233,234,235,236,237,238,239,240,241,242,243,244,245,246,259,260,261,262,269,270,271,272,273,274,286,287,288,289,298,299,300,301,302,303,314,315,316,317,328,329,330,331,342,343,344,345,356,357,358,359,369,370,371,372,385,386,387,397,398,399,400,413,414,415,416,425,426,427,441,442,443,444,453,454,455,469,470,471,472,481,482,483,484,496,497,498,499,509,510,511,512,523,524,525,526,527,537,538,539,540,541,542,549,550,551,552,553,554,565,566,567,568,569,570,571,572,573,575,576,577,578,579,580,581,582,594,595,596,597,598,599,600,601,602,603,604,605,606,607,608,609,623,624,625,626,627,628,629,630,631,632,633,634,635,653,654,655,656,657,658,659,660,661],[1.0,176.0,253.0,253.0,159.0,113.0,63.0,140.0,253.0,252.0,252.0,252.0,252.0,241.0,100.0,66.0,54.0,227.0,253.0,252.0,252.0,252.0,252.0,253.0,252.0,239.0,181.0,57.0,38.0,224.0,252.0,253.0,226.0,246.0,252.0,252.0,253.0,252.0,252.0,252.0,252.0,108.0,3.0,57.0,252.0,252.0,253.0,27.0,88.0,112.0,112.0,112.0,112.0,142.0,252.0,252.0,253.0,152.0,31.0,198.0,253.0,253.0,79.0,32.0,153.0,253.0,255.0,253.0,196.0,76.0,246.0,252.0,127.0,3.0,106.0,253.0,252.0,214.0,28.0,194.0,252.0,252.0,112.0,143.0,252.0,252.0,193.0,225.0,252.0,217.0,37.0,38.0,234.0,252.0,223.0,63.0,240.0,252.0,84.0,146.0,252.0,223.0,114.0,253.0,228.0,47.0,147.0,253.0,253.0,112.0,159.0,252.0,195.0,225.0,252.0,252.0,112.0,253.0,252.0,195.0,225.0,252.0,230.0,25.0,159.0,252.0,202.0,10.0,92.0,243.0,252.0,208.0,113.0,252.0,252.0,161.0,79.0,253.0,252.0,220.0,37.0,114.0,253.0,253.0,253.0,174.0,63.0,26.0,128.0,253.0,255.0,253.0,133.0,12.0,228.0,252.0,252.0,252.0,241.0,100.0,85.0,76.0,85.0,131.0,231.0,252.0,252.0,253.0,129.0,6.0,97.0,208.0,252.0,252.0,253.0,252.0,252.0,246.0,197.0,253.0,252.0,252.0,252.0,220.0,133.0,6.0,19.0,99.0,239.0,253.0,252.0,252.0,252.0,252.0,253.0,252.0,245.0,223.0,99.0,63.0,112.0,112.0,221.0,252.0,252.0,253.0,127.0,87.0])                                                                                                                                                                                                                                                                                                                                                      |[0.0,10.0]   |[0.0,1.0]  |1.0       |0.0           |\n|0.0  |(692,[123,124,125,126,127,128,129,130,131,132,133,150,151,152,153,154,155,156,157,158,159,160,161,162,177,178,179,180,181,182,183,184,185,186,187,188,189,190,205,206,207,208,209,210,212,213,214,215,216,217,218,233,234,235,236,237,238,241,242,243,244,245,246,261,262,263,264,265,266,270,271,272,273,274,275,288,289,290,291,292,293,299,300,301,302,303,315,316,317,318,319,327,328,329,330,331,342,343,344,345,346,347,355,356,357,358,359,370,371,372,373,374,375,383,384,385,386,387,398,399,400,401,402,403,411,412,413,414,415,426,427,428,429,430,431,439,440,441,442,443,454,455,456,457,458,459,467,468,469,470,471,482,483,484,485,486,493,494,495,496,497,498,510,511,512,513,514,515,520,521,522,523,524,525,526,538,539,540,541,542,543,544,545,546,547,548,549,550,551,552,553,554,566,567,568,569,570,571,572,573,574,575,576,577,578,579,580,581,594,595,596,597,598,599,600,601,602,603,604,605,606,607,622,623,624,625,626,627,628,629,630,631,632,633,634,652,653,654,655,656,657,658,659,660,661],[41.0,254.0,254.0,157.0,34.0,34.0,218.0,255.0,206.0,34.0,18.0,53.0,238.0,252.0,252.0,252.0,252.0,252.0,252.0,252.0,252.0,252.0,162.0,26.0,66.0,220.0,252.0,252.0,252.0,209.0,153.0,223.0,252.0,252.0,252.0,252.0,252.0,98.0,166.0,252.0,252.0,252.0,252.0,141.0,85.0,230.0,252.0,252.0,252.0,252.0,98.0,166.0,252.0,252.0,252.0,252.0,141.0,73.0,102.0,252.0,252.0,252.0,98.0,166.0,252.0,252.0,252.0,191.0,30.0,5.0,97.0,252.0,252.0,220.0,51.0,123.0,245.0,252.0,252.0,202.0,14.0,56.0,252.0,252.0,252.0,65.0,18.0,154.0,252.0,252.0,241.0,56.0,252.0,252.0,252.0,65.0,21.0,146.0,252.0,252.0,252.0,241.0,56.0,252.0,252.0,252.0,65.0,67.0,252.0,252.0,252.0,252.0,241.0,56.0,252.0,252.0,252.0,65.0,67.0,252.0,252.0,252.0,252.0,116.0,56.0,252.0,252.0,252.0,65.0,67.0,252.0,252.0,252.0,252.0,20.0,56.0,252.0,252.0,252.0,65.0,67.0,252.0,252.0,252.0,87.0,4.0,56.0,252.0,252.0,124.0,11.0,67.0,252.0,252.0,252.0,54.0,19.0,236.0,245.0,252.0,252.0,98.0,67.0,252.0,252.0,252.0,97.0,5.0,39.0,219.0,252.0,252.0,252.0,252.0,98.0,67.0,252.0,252.0,252.0,252.0,102.0,89.0,89.0,89.0,89.0,203.0,252.0,252.0,252.0,252.0,209.0,64.0,67.0,252.0,252.0,252.0,252.0,252.0,252.0,252.0,252.0,252.0,252.0,252.0,252.0,226.0,130.0,68.0,67.0,252.0,252.0,252.0,252.0,252.0,252.0,252.0,252.0,252.0,252.0,252.0,239.0,77.0,17.0,65.0,163.0,252.0,252.0,252.0,252.0,252.0,252.0,252.0,252.0,96.0,59.0,17.0,176.0,252.0,252.0,252.0,252.0,155.0,32.0,32.0,6.0])|1.0         |(692,[123,124,125,126,127,128,129,130,131,132,133,150,151,152,153,154,155,156,157,158,159,160,161,162,177,178,179,180,181,182,183,184,185,186,187,188,189,190,205,206,207,208,209,210,212,213,214,215,216,217,218,233,234,235,236,237,238,241,242,243,244,245,246,261,262,263,264,265,266,270,271,272,273,274,275,288,289,290,291,292,293,299,300,301,302,303,315,316,317,318,319,327,328,329,330,331,342,343,344,345,346,347,355,356,357,358,359,370,371,372,373,374,375,383,384,385,386,387,398,399,400,401,402,403,411,412,413,414,415,426,427,428,429,430,431,439,440,441,442,443,454,455,456,457,458,459,467,468,469,470,471,482,483,484,485,486,493,494,495,496,497,498,510,511,512,513,514,515,520,521,522,523,524,525,526,538,539,540,541,542,543,544,545,546,547,548,549,550,551,552,553,554,566,567,568,569,570,571,572,573,574,575,576,577,578,579,580,581,594,595,596,597,598,599,600,601,602,603,604,605,606,607,622,623,624,625,626,627,628,629,630,631,632,633,634,652,653,654,655,656,657,658,659,660,661],[41.0,254.0,254.0,157.0,34.0,34.0,218.0,255.0,206.0,34.0,2.0,53.0,238.0,252.0,252.0,252.0,252.0,252.0,252.0,252.0,252.0,252.0,162.0,26.0,66.0,220.0,252.0,252.0,252.0,209.0,153.0,223.0,252.0,252.0,252.0,252.0,252.0,98.0,166.0,252.0,252.0,252.0,252.0,141.0,85.0,230.0,252.0,252.0,252.0,252.0,98.0,166.0,252.0,252.0,252.0,252.0,141.0,73.0,102.0,252.0,252.0,252.0,98.0,166.0,252.0,252.0,252.0,191.0,30.0,5.0,97.0,252.0,252.0,220.0,51.0,123.0,245.0,252.0,252.0,202.0,14.0,56.0,252.0,252.0,252.0,65.0,18.0,154.0,252.0,252.0,241.0,56.0,252.0,252.0,252.0,65.0,21.0,146.0,252.0,252.0,252.0,241.0,56.0,252.0,252.0,252.0,65.0,67.0,252.0,252.0,252.0,252.0,241.0,56.0,252.0,252.0,252.0,65.0,67.0,252.0,252.0,252.0,252.0,116.0,56.0,252.0,252.0,252.0,65.0,67.0,252.0,252.0,252.0,252.0,20.0,56.0,252.0,252.0,252.0,65.0,67.0,252.0,252.0,252.0,87.0,4.0,56.0,252.0,252.0,124.0,11.0,67.0,252.0,252.0,252.0,54.0,19.0,236.0,245.0,252.0,252.0,98.0,67.0,252.0,252.0,252.0,97.0,5.0,39.0,219.0,252.0,252.0,252.0,252.0,98.0,67.0,252.0,252.0,252.0,252.0,102.0,89.0,89.0,89.0,89.0,203.0,252.0,252.0,252.0,252.0,209.0,64.0,67.0,252.0,252.0,252.0,252.0,252.0,252.0,252.0,252.0,252.0,252.0,252.0,252.0,226.0,130.0,68.0,67.0,252.0,252.0,252.0,252.0,252.0,252.0,252.0,252.0,252.0,252.0,252.0,239.0,77.0,17.0,65.0,163.0,252.0,252.0,252.0,252.0,252.0,252.0,252.0,252.0,96.0,59.0,17.0,176.0,252.0,252.0,252.0,252.0,155.0,32.0,32.0,6.0])|[0.0,10.0]   |[0.0,1.0]  |1.0       |0.0           |\n|0.0  |(692,[123,124,125,126,127,128,129,130,150,151,152,153,154,155,156,157,158,159,178,179,180,181,182,183,184,185,186,187,188,189,204,205,206,207,208,209,210,211,212,213,214,215,216,217,218,232,233,234,235,236,241,242,243,244,245,246,260,261,262,263,270,271,272,273,274,275,286,287,288,289,290,291,299,300,301,302,303,304,314,315,316,317,318,319,327,328,329,330,331,332,341,342,343,344,345,346,356,357,358,359,360,369,370,371,372,373,374,384,385,386,387,388,397,398,399,400,401,412,413,414,415,416,425,426,427,428,429,440,441,442,443,444,453,454,455,456,457,468,469,470,471,472,481,482,483,484,485,486,495,496,497,498,499,500,509,510,511,512,513,514,515,523,524,525,526,527,537,538,539,540,541,542,543,544,550,551,552,553,554,565,566,567,568,569,570,571,572,573,574,575,576,577,578,579,580,581,582,596,597,598,599,600,601,602,603,604,605,606,607,608,609,624,625,626,627,628,629,630,631,632,633,634,635,636,654,655,656,657,658,659,660,661,662,663],[66.0,254.0,254.0,58.0,60.0,59.0,59.0,50.0,73.0,233.0,253.0,253.0,148.0,254.0,253.0,253.0,232.0,73.0,156.0,253.0,253.0,253.0,117.0,255.0,253.0,253.0,253.0,223.0,176.0,162.0,37.0,116.0,246.0,253.0,180.0,18.0,4.0,18.0,109.0,241.0,253.0,253.0,253.0,236.0,28.0,235.0,253.0,253.0,245.0,107.0,109.0,170.0,253.0,253.0,253.0,174.0,235.0,253.0,253.0,233.0,15.0,156.0,253.0,253.0,223.0,72.0,10.0,156.0,250.0,253.0,253.0,67.0,99.0,253.0,253.0,253.0,127.0,5.0,118.0,253.0,253.0,253.0,204.0,26.0,68.0,223.0,253.0,253.0,253.0,57.0,32.0,191.0,253.0,253.0,253.0,97.0,156.0,253.0,253.0,253.0,57.0,59.0,253.0,253.0,253.0,253.0,97.0,36.0,224.0,253.0,253.0,57.0,60.0,254.0,255.0,254.0,156.0,37.0,226.0,254.0,254.0,58.0,59.0,253.0,253.0,253.0,154.0,156.0,253.0,253.0,253.0,57.0,59.0,253.0,253.0,253.0,154.0,156.0,253.0,253.0,253.0,57.0,59.0,253.0,253.0,253.0,246.0,90.0,16.0,171.0,253.0,253.0,231.0,49.0,59.0,253.0,253.0,253.0,253.0,156.0,91.0,99.0,253.0,253.0,222.0,71.0,59.0,253.0,253.0,253.0,253.0,253.0,245.0,109.0,145.0,194.0,253.0,253.0,174.0,9.0,38.0,174.0,251.0,253.0,253.0,253.0,241.0,215.0,215.0,217.0,215.0,215.0,250.0,253.0,253.0,221.0,26.0,235.0,253.0,253.0,253.0,253.0,253.0,253.0,254.0,253.0,253.0,253.0,253.0,204.0,26.0,108.0,116.0,200.0,253.0,253.0,253.0,253.0,254.0,253.0,253.0,253.0,199.0,44.0,36.0,57.0,118.0,253.0,253.0,58.0,57.0,57.0,57.0,35.0])                                                                                                  |1.0         |(692,[123,124,125,126,127,128,129,130,150,151,152,153,154,155,156,157,158,159,178,179,180,181,182,183,184,185,186,187,188,189,204,205,206,207,208,209,210,211,212,213,214,215,216,217,218,232,233,234,235,236,241,242,243,244,245,246,260,261,262,263,270,271,272,273,274,275,286,287,288,289,290,291,299,300,301,302,303,304,314,315,316,317,318,319,327,328,329,330,331,332,341,342,343,344,345,346,356,357,358,359,360,369,370,371,372,373,374,384,385,386,387,388,397,398,399,400,401,412,413,414,415,416,425,426,427,428,429,440,441,442,443,444,453,454,455,456,457,468,469,470,471,472,481,482,483,484,485,486,495,496,497,498,499,500,509,510,511,512,513,514,515,523,524,525,526,527,537,538,539,540,541,542,543,544,550,551,552,553,554,565,566,567,568,569,570,571,572,573,574,575,576,577,578,579,580,581,582,596,597,598,599,600,601,602,603,604,605,606,607,608,609,624,625,626,627,628,629,630,631,632,633,634,635,636,654,655,656,657,658,659,660,661,662,663],[66.0,254.0,254.0,58.0,60.0,59.0,59.0,50.0,73.0,233.0,253.0,253.0,148.0,254.0,253.0,253.0,232.0,73.0,156.0,253.0,253.0,253.0,117.0,255.0,253.0,253.0,253.0,223.0,176.0,162.0,37.0,116.0,246.0,253.0,180.0,18.0,4.0,18.0,109.0,241.0,253.0,253.0,253.0,236.0,28.0,235.0,253.0,253.0,245.0,107.0,109.0,170.0,253.0,253.0,253.0,174.0,235.0,253.0,253.0,233.0,15.0,156.0,253.0,253.0,223.0,72.0,10.0,156.0,250.0,253.0,253.0,67.0,99.0,253.0,253.0,253.0,127.0,5.0,118.0,253.0,253.0,253.0,204.0,26.0,68.0,223.0,253.0,253.0,253.0,57.0,32.0,191.0,253.0,253.0,253.0,97.0,156.0,253.0,253.0,253.0,57.0,59.0,253.0,253.0,253.0,253.0,97.0,36.0,224.0,253.0,253.0,57.0,60.0,254.0,255.0,254.0,156.0,37.0,226.0,254.0,254.0,58.0,59.0,253.0,253.0,253.0,154.0,156.0,253.0,253.0,253.0,57.0,59.0,253.0,253.0,253.0,154.0,156.0,253.0,253.0,253.0,57.0,59.0,253.0,253.0,253.0,246.0,90.0,16.0,171.0,253.0,253.0,231.0,49.0,59.0,253.0,253.0,253.0,253.0,156.0,91.0,99.0,253.0,253.0,222.0,71.0,59.0,253.0,253.0,253.0,253.0,253.0,245.0,109.0,145.0,194.0,253.0,253.0,174.0,9.0,38.0,174.0,251.0,253.0,253.0,253.0,241.0,215.0,215.0,217.0,215.0,215.0,250.0,253.0,253.0,221.0,26.0,235.0,253.0,253.0,253.0,253.0,253.0,253.0,254.0,253.0,253.0,253.0,253.0,204.0,26.0,108.0,116.0,200.0,253.0,253.0,253.0,253.0,254.0,253.0,253.0,253.0,199.0,44.0,36.0,57.0,118.0,253.0,253.0,58.0,57.0,57.0,57.0,35.0])                                                                                                 |[1.0,9.0]    |[0.1,0.9]  |1.0       |0.0           |\n+-----+-----------------------------------------------------------------------------------------------------------------------------------------------------------------------------------------------------------------------------------------------------------------------------------------------------------------------------------------------------------------------------------------------------------------------------------------------------------------------------------------------------------------------------------------------------------------------------------------------------------------------------------------------------------------------------------------------------------------------------------------------------------------------------------------------------------------------------------------------------------------------------------------------------------------------------------------------------------------------------------------------------------------------------------------------------------------------------------------------------------------------------------------------------------------------------------------------------------------------------------------------------------------------------------------------------------------------------------------------------------------------------------------------------------------------------------------------------------------------------------------------------------------------------------------------------------------------------------------------------------------------------------------------------------------------------------------------------------------------------------------------------------------------------------------------------------------------------------------------------------------------------------------------------------------------------------------------------------------------------------------------------------------------------------------------------------------------------------------------------------------------------------------------------------------------------------------------------------------------------------------------------------------------------------------------------------------------------------------------------------------------------------------------------------------------------------------------------------------------------------+------------+----------------------------------------------------------------------------------------------------------------------------------------------------------------------------------------------------------------------------------------------------------------------------------------------------------------------------------------------------------------------------------------------------------------------------------------------------------------------------------------------------------------------------------------------------------------------------------------------------------------------------------------------------------------------------------------------------------------------------------------------------------------------------------------------------------------------------------------------------------------------------------------------------------------------------------------------------------------------------------------------------------------------------------------------------------------------------------------------------------------------------------------------------------------------------------------------------------------------------------------------------------------------------------------------------------------------------------------------------------------------------------------------------------------------------------------------------------------------------------------------------------------------------------------------------------------------------------------------------------------------------------------------------------------------------------------------------------------------------------------------------------------------------------------------------------------------------------------------------------------------------------------------------------------------------------------------------------------------------------------------------------------------------------------------------------------------------------------------------------------------------------------------------------------------------------------------------------------------------------------------------------------------------------------------------------------------------------------------------------------------------------------------------------------------------------------------------------------------------------+-------------+-----------+----------+--------------+\nonly showing top 3 rows\n\n"
     ]
    }
   ],
   "source": [
    "predictions = model.transform(testData)\n",
    "predictions.show(n=3,truncate=False)"
   ]
  },
  {
   "cell_type": "code",
   "execution_count": 0,
   "metadata": {
    "application/vnd.databricks.v1+cell": {
     "cellMetadata": {},
     "inputWidgets": {},
     "nuid": "1f568330-f781-4f1e-a44b-e52d3115c6e8",
     "showTitle": false,
     "title": ""
    }
   },
   "outputs": [
    {
     "output_type": "stream",
     "name": "stdout",
     "output_type": "stream",
     "text": [
      "+--------------+-----+---------------------------------------------------------------------------------------------------------------------------------------------------------------------------------------------------------------------------------------------------------------------------------------------------------------------------------------------------------------------------------------------------------------------------------------------------------------------------------------------------------------------------------------------------------------------------------------------------------------------------------------------------------------------------------------------------------------------------------------------------------------------------------------------------------------------------------------------------------------------------------------------------------------------------------------------------------------------------------------------------------------------------------------------------------------------------------------------------------------------------------------------------------------------------------------------------------------------------------------------------------------------------------------------------------------------------------------------------------------------------------------------------------------------------------------------------------------------------------------------------------------------------------------------------------------------------------------------------------------------------------------------------------------------------------------------------------------------------------------------------------------------------------------------------------------------------------------------------------------------------------------------------------------------------------------------------------------------------------------------------------------------------------------------------------------------------------------------------------------------------------------------------------------------------------------------------------------------------------------------------------------------------------------------------------------------------------------------------------------------------------------------------------------------------------------------------------------------------------------------------------------------------------------------------------------------------------------------------------------------------------------------------------------------------+\n|predictedLabel|label|features                                                                                                                                                                                                                                                                                                                                                                                                                                                                                                                                                                                                                                                                                                                                                                                                                                                                                                                                                                                                                                                                                                                                                                                                                                                                                                                                                                                                                                                                                                                                                                                                                                                                                                                                                                                                                                                                                                                                                                                                                                                                                                                                                                                                                                                                                                                                                                                                                                                                                                                                                                                                                                                                   |\n+--------------+-----+---------------------------------------------------------------------------------------------------------------------------------------------------------------------------------------------------------------------------------------------------------------------------------------------------------------------------------------------------------------------------------------------------------------------------------------------------------------------------------------------------------------------------------------------------------------------------------------------------------------------------------------------------------------------------------------------------------------------------------------------------------------------------------------------------------------------------------------------------------------------------------------------------------------------------------------------------------------------------------------------------------------------------------------------------------------------------------------------------------------------------------------------------------------------------------------------------------------------------------------------------------------------------------------------------------------------------------------------------------------------------------------------------------------------------------------------------------------------------------------------------------------------------------------------------------------------------------------------------------------------------------------------------------------------------------------------------------------------------------------------------------------------------------------------------------------------------------------------------------------------------------------------------------------------------------------------------------------------------------------------------------------------------------------------------------------------------------------------------------------------------------------------------------------------------------------------------------------------------------------------------------------------------------------------------------------------------------------------------------------------------------------------------------------------------------------------------------------------------------------------------------------------------------------------------------------------------------------------------------------------------------------------------------------------------+\n|0.0           |0.0  |(692,[121,122,123,124,125,126,127,149,150,151,152,153,154,155,156,157,176,177,178,179,180,181,182,183,184,185,186,187,203,204,205,206,207,208,209,210,211,212,213,214,215,216,217,231,232,233,234,235,236,237,238,239,240,241,242,243,244,245,246,259,260,261,262,269,270,271,272,273,274,286,287,288,289,298,299,300,301,302,303,314,315,316,317,328,329,330,331,342,343,344,345,356,357,358,359,369,370,371,372,385,386,387,397,398,399,400,413,414,415,416,425,426,427,441,442,443,444,453,454,455,469,470,471,472,481,482,483,484,496,497,498,499,509,510,511,512,523,524,525,526,527,537,538,539,540,541,542,549,550,551,552,553,554,565,566,567,568,569,570,571,572,573,575,576,577,578,579,580,581,582,594,595,596,597,598,599,600,601,602,603,604,605,606,607,608,609,623,624,625,626,627,628,629,630,631,632,633,634,635,653,654,655,656,657,658,659,660,661],[63.0,176.0,253.0,253.0,159.0,113.0,63.0,140.0,253.0,252.0,252.0,252.0,252.0,241.0,100.0,66.0,54.0,227.0,253.0,252.0,252.0,252.0,252.0,253.0,252.0,239.0,181.0,57.0,38.0,224.0,252.0,253.0,226.0,246.0,252.0,252.0,253.0,252.0,252.0,252.0,252.0,108.0,3.0,57.0,252.0,252.0,253.0,27.0,88.0,112.0,112.0,112.0,112.0,142.0,252.0,252.0,253.0,152.0,31.0,198.0,253.0,253.0,79.0,32.0,153.0,253.0,255.0,253.0,196.0,76.0,246.0,252.0,127.0,3.0,106.0,253.0,252.0,214.0,28.0,194.0,252.0,252.0,112.0,143.0,252.0,252.0,193.0,225.0,252.0,217.0,37.0,38.0,234.0,252.0,223.0,63.0,240.0,252.0,84.0,146.0,252.0,223.0,114.0,253.0,228.0,47.0,147.0,253.0,253.0,112.0,159.0,252.0,195.0,225.0,252.0,252.0,112.0,253.0,252.0,195.0,225.0,252.0,230.0,25.0,159.0,252.0,202.0,10.0,92.0,243.0,252.0,208.0,113.0,252.0,252.0,161.0,79.0,253.0,252.0,220.0,37.0,114.0,253.0,253.0,253.0,174.0,63.0,26.0,128.0,253.0,255.0,253.0,133.0,12.0,228.0,252.0,252.0,252.0,241.0,100.0,85.0,76.0,85.0,131.0,231.0,252.0,252.0,253.0,129.0,6.0,97.0,208.0,252.0,252.0,253.0,252.0,252.0,246.0,197.0,253.0,252.0,252.0,252.0,220.0,133.0,6.0,19.0,99.0,239.0,253.0,252.0,252.0,252.0,252.0,253.0,252.0,245.0,223.0,99.0,63.0,112.0,112.0,221.0,252.0,252.0,253.0,127.0,87.0])                                                                                                                                                                                                                                                                                                                                                                                                                                                                                                                                              |\n|0.0           |0.0  |(692,[123,124,125,126,127,128,129,130,131,132,133,150,151,152,153,154,155,156,157,158,159,160,161,162,177,178,179,180,181,182,183,184,185,186,187,188,189,190,205,206,207,208,209,210,212,213,214,215,216,217,218,233,234,235,236,237,238,241,242,243,244,245,246,261,262,263,264,265,266,270,271,272,273,274,275,288,289,290,291,292,293,299,300,301,302,303,315,316,317,318,319,327,328,329,330,331,342,343,344,345,346,347,355,356,357,358,359,370,371,372,373,374,375,383,384,385,386,387,398,399,400,401,402,403,411,412,413,414,415,426,427,428,429,430,431,439,440,441,442,443,454,455,456,457,458,459,467,468,469,470,471,482,483,484,485,486,493,494,495,496,497,498,510,511,512,513,514,515,520,521,522,523,524,525,526,538,539,540,541,542,543,544,545,546,547,548,549,550,551,552,553,554,566,567,568,569,570,571,572,573,574,575,576,577,578,579,580,581,594,595,596,597,598,599,600,601,602,603,604,605,606,607,622,623,624,625,626,627,628,629,630,631,632,633,634,652,653,654,655,656,657,658,659,660,661],[41.0,254.0,254.0,157.0,34.0,34.0,218.0,255.0,206.0,34.0,18.0,53.0,238.0,252.0,252.0,252.0,252.0,252.0,252.0,252.0,252.0,252.0,162.0,26.0,66.0,220.0,252.0,252.0,252.0,209.0,153.0,223.0,252.0,252.0,252.0,252.0,252.0,98.0,166.0,252.0,252.0,252.0,252.0,141.0,85.0,230.0,252.0,252.0,252.0,252.0,98.0,166.0,252.0,252.0,252.0,252.0,141.0,73.0,102.0,252.0,252.0,252.0,98.0,166.0,252.0,252.0,252.0,191.0,30.0,5.0,97.0,252.0,252.0,220.0,51.0,123.0,245.0,252.0,252.0,202.0,14.0,56.0,252.0,252.0,252.0,65.0,18.0,154.0,252.0,252.0,241.0,56.0,252.0,252.0,252.0,65.0,21.0,146.0,252.0,252.0,252.0,241.0,56.0,252.0,252.0,252.0,65.0,67.0,252.0,252.0,252.0,252.0,241.0,56.0,252.0,252.0,252.0,65.0,67.0,252.0,252.0,252.0,252.0,116.0,56.0,252.0,252.0,252.0,65.0,67.0,252.0,252.0,252.0,252.0,20.0,56.0,252.0,252.0,252.0,65.0,67.0,252.0,252.0,252.0,87.0,4.0,56.0,252.0,252.0,124.0,11.0,67.0,252.0,252.0,252.0,54.0,19.0,236.0,245.0,252.0,252.0,98.0,67.0,252.0,252.0,252.0,97.0,5.0,39.0,219.0,252.0,252.0,252.0,252.0,98.0,67.0,252.0,252.0,252.0,252.0,102.0,89.0,89.0,89.0,89.0,203.0,252.0,252.0,252.0,252.0,209.0,64.0,67.0,252.0,252.0,252.0,252.0,252.0,252.0,252.0,252.0,252.0,252.0,252.0,252.0,226.0,130.0,68.0,67.0,252.0,252.0,252.0,252.0,252.0,252.0,252.0,252.0,252.0,252.0,252.0,239.0,77.0,17.0,65.0,163.0,252.0,252.0,252.0,252.0,252.0,252.0,252.0,252.0,96.0,59.0,17.0,176.0,252.0,252.0,252.0,252.0,155.0,32.0,32.0,6.0])                                                                                                                                                                                        |\n|0.0           |0.0  |(692,[123,124,125,126,127,128,129,130,150,151,152,153,154,155,156,157,158,159,178,179,180,181,182,183,184,185,186,187,188,189,204,205,206,207,208,209,210,211,212,213,214,215,216,217,218,232,233,234,235,236,241,242,243,244,245,246,260,261,262,263,270,271,272,273,274,275,286,287,288,289,290,291,299,300,301,302,303,304,314,315,316,317,318,319,327,328,329,330,331,332,341,342,343,344,345,346,356,357,358,359,360,369,370,371,372,373,374,384,385,386,387,388,397,398,399,400,401,412,413,414,415,416,425,426,427,428,429,440,441,442,443,444,453,454,455,456,457,468,469,470,471,472,481,482,483,484,485,486,495,496,497,498,499,500,509,510,511,512,513,514,515,523,524,525,526,527,537,538,539,540,541,542,543,544,550,551,552,553,554,565,566,567,568,569,570,571,572,573,574,575,576,577,578,579,580,581,582,596,597,598,599,600,601,602,603,604,605,606,607,608,609,624,625,626,627,628,629,630,631,632,633,634,635,636,654,655,656,657,658,659,660,661,662,663],[66.0,254.0,254.0,58.0,60.0,59.0,59.0,50.0,73.0,233.0,253.0,253.0,148.0,254.0,253.0,253.0,232.0,73.0,156.0,253.0,253.0,253.0,117.0,255.0,253.0,253.0,253.0,223.0,176.0,162.0,37.0,116.0,246.0,253.0,180.0,18.0,4.0,18.0,109.0,241.0,253.0,253.0,253.0,236.0,28.0,235.0,253.0,253.0,245.0,107.0,109.0,170.0,253.0,253.0,253.0,174.0,235.0,253.0,253.0,233.0,15.0,156.0,253.0,253.0,223.0,72.0,10.0,156.0,250.0,253.0,253.0,67.0,99.0,253.0,253.0,253.0,127.0,5.0,118.0,253.0,253.0,253.0,204.0,26.0,68.0,223.0,253.0,253.0,253.0,57.0,32.0,191.0,253.0,253.0,253.0,97.0,156.0,253.0,253.0,253.0,57.0,59.0,253.0,253.0,253.0,253.0,97.0,36.0,224.0,253.0,253.0,57.0,60.0,254.0,255.0,254.0,156.0,37.0,226.0,254.0,254.0,58.0,59.0,253.0,253.0,253.0,154.0,156.0,253.0,253.0,253.0,57.0,59.0,253.0,253.0,253.0,154.0,156.0,253.0,253.0,253.0,57.0,59.0,253.0,253.0,253.0,246.0,90.0,16.0,171.0,253.0,253.0,231.0,49.0,59.0,253.0,253.0,253.0,253.0,156.0,91.0,99.0,253.0,253.0,222.0,71.0,59.0,253.0,253.0,253.0,253.0,253.0,245.0,109.0,145.0,194.0,253.0,253.0,174.0,9.0,38.0,174.0,251.0,253.0,253.0,253.0,241.0,215.0,215.0,217.0,215.0,215.0,250.0,253.0,253.0,221.0,26.0,235.0,253.0,253.0,253.0,253.0,253.0,253.0,254.0,253.0,253.0,253.0,253.0,204.0,26.0,108.0,116.0,200.0,253.0,253.0,253.0,253.0,254.0,253.0,253.0,253.0,199.0,44.0,36.0,57.0,118.0,253.0,253.0,58.0,57.0,57.0,57.0,35.0])                                                                                                                                                                                                                                                                                          |\n|0.0           |0.0  |(692,[124,125,126,127,128,150,151,152,153,154,155,156,157,177,178,179,180,181,183,184,185,186,203,204,205,206,207,212,213,214,215,216,230,231,232,233,240,241,242,243,244,245,258,259,260,268,269,272,273,274,285,286,287,301,302,303,313,314,330,331,332,341,342,359,360,369,370,387,388,397,398,415,416,425,426,443,444,453,454,455,471,472,481,482,483,499,500,510,511,512,527,528,538,539,540,541,554,555,556,567,568,569,570,581,582,583,597,598,599,600,601,606,607,608,609,610,611,626,627,628,629,630,631,632,633,634,635,636,637,638,656,657,658,659,660,661,662,663],[29.0,170.0,255.0,255.0,141.0,29.0,198.0,255.0,255.0,255.0,226.0,255.0,86.0,141.0,255.0,255.0,170.0,29.0,86.0,255.0,255.0,141.0,29.0,226.0,255.0,198.0,57.0,226.0,255.0,255.0,226.0,114.0,29.0,255.0,255.0,114.0,141.0,170.0,114.0,255.0,255.0,141.0,226.0,255.0,170.0,29.0,57.0,141.0,255.0,226.0,57.0,255.0,170.0,114.0,255.0,198.0,226.0,255.0,170.0,255.0,57.0,255.0,226.0,255.0,170.0,255.0,170.0,114.0,198.0,255.0,226.0,86.0,255.0,198.0,255.0,86.0,255.0,114.0,255.0,57.0,86.0,255.0,29.0,255.0,226.0,141.0,255.0,170.0,255.0,170.0,226.0,198.0,29.0,226.0,255.0,170.0,29.0,255.0,114.0,29.0,226.0,255.0,141.0,57.0,226.0,226.0,141.0,255.0,255.0,170.0,86.0,29.0,86.0,226.0,255.0,226.0,29.0,86.0,198.0,255.0,255.0,255.0,255.0,255.0,255.0,255.0,255.0,255.0,141.0,29.0,29.0,114.0,170.0,170.0,170.0,170.0,170.0,86.0])                                                                                                                                                                                                                                                                                                                                                                                                                                                                                                                                                                                                                                                                                                                                                                                                                                                                                                                                                                                                                                                                                                                                                                                                                                                           |\n|0.0           |0.0  |(692,[126,127,128,129,130,131,132,133,154,155,156,157,158,159,160,161,181,182,183,184,185,186,187,188,189,190,207,208,209,210,211,212,213,214,215,216,217,218,219,235,236,237,238,239,240,241,242,243,244,245,246,247,263,264,265,266,267,270,271,272,273,274,275,289,290,291,292,293,294,295,298,299,300,301,302,303,316,317,318,319,320,321,322,328,329,330,331,344,345,346,347,348,349,350,356,357,358,359,371,372,373,374,375,376,377,384,385,386,387,398,399,400,401,402,403,404,411,412,413,414,415,426,427,428,429,430,431,438,439,440,441,442,443,453,454,455,456,457,458,459,465,466,467,468,469,470,481,482,483,484,485,486,487,490,491,492,493,494,495,496,497,498,509,510,511,512,513,517,518,519,520,521,522,523,524,525,537,538,539,540,541,542,543,544,545,546,547,548,549,550,551,552,553,565,566,567,568,569,570,571,572,573,574,575,576,577,578,579,594,595,596,597,598,599,600,601,602,603,604,605,606,622,623,624,625,626,627,628,629,630,631,632,652,653,654,655,656,657,658],[46.0,105.0,254.0,254.0,224.0,59.0,59.0,9.0,196.0,254.0,253.0,253.0,253.0,253.0,253.0,128.0,96.0,235.0,254.0,253.0,253.0,253.0,253.0,253.0,247.0,122.0,4.0,101.0,244.0,253.0,254.0,234.0,241.0,253.0,253.0,253.0,253.0,186.0,18.0,96.0,253.0,253.0,253.0,232.0,83.0,109.0,170.0,253.0,253.0,253.0,253.0,116.0,215.0,253.0,253.0,253.0,196.0,40.0,253.0,253.0,253.0,253.0,116.0,8.0,141.0,247.0,253.0,253.0,237.0,29.0,6.0,38.0,171.0,253.0,253.0,116.0,13.0,146.0,253.0,253.0,253.0,253.0,57.0,156.0,253.0,253.0,116.0,40.0,253.0,253.0,253.0,253.0,178.0,27.0,156.0,253.0,253.0,116.0,136.0,204.0,253.0,253.0,253.0,192.0,27.0,156.0,253.0,253.0,116.0,28.0,195.0,254.0,254.0,254.0,250.0,135.0,99.0,255.0,254.0,254.0,117.0,118.0,253.0,253.0,253.0,253.0,142.0,19.0,170.0,253.0,253.0,216.0,62.0,42.0,212.0,253.0,253.0,253.0,253.0,38.0,124.0,188.0,253.0,253.0,253.0,174.0,59.0,253.0,253.0,253.0,237.0,93.0,3.0,31.0,40.0,130.0,247.0,253.0,253.0,253.0,204.0,13.0,59.0,253.0,253.0,253.0,154.0,54.0,218.0,254.0,253.0,253.0,253.0,253.0,253.0,38.0,59.0,253.0,253.0,253.0,215.0,156.0,156.0,156.0,209.0,253.0,255.0,253.0,253.0,253.0,192.0,97.0,15.0,55.0,242.0,253.0,253.0,253.0,253.0,253.0,253.0,253.0,253.0,254.0,253.0,253.0,204.0,23.0,118.0,253.0,253.0,253.0,253.0,253.0,253.0,253.0,253.0,254.0,216.0,174.0,13.0,54.0,116.0,243.0,253.0,253.0,253.0,253.0,253.0,146.0,117.0,62.0,53.0,132.0,253.0,253.0,192.0,57.0,13.0])                                                                                                                                                                                                                              |\n|0.0           |0.0  |(692,[126,127,128,129,130,131,132,153,154,155,156,157,158,159,160,161,180,181,182,183,184,185,186,187,188,189,207,208,209,210,211,212,213,214,215,216,217,218,234,235,236,237,238,239,240,241,242,243,244,245,246,261,262,263,264,265,266,267,268,269,270,271,272,273,274,275,288,289,290,291,292,293,294,298,299,300,301,302,303,315,316,317,318,319,320,321,322,326,327,328,329,330,331,343,344,345,346,347,348,349,354,355,356,357,358,359,370,371,372,373,374,375,376,377,383,384,385,386,387,397,398,399,400,401,402,403,404,410,411,412,413,414,415,424,425,426,427,428,429,430,431,438,439,440,441,442,443,452,453,454,455,456,457,458,465,466,467,468,469,470,480,481,482,483,484,485,486,491,492,493,494,495,496,497,498,508,509,510,511,512,513,514,515,516,517,518,519,520,521,522,523,524,525,536,537,538,539,540,541,542,543,544,545,546,547,548,549,550,551,552,553,564,565,566,567,568,569,570,571,572,573,574,575,576,577,578,579,580,593,594,595,596,597,598,599,600,601,602,603,604,605,606,622,623,624,625,626,627,628,629,630,631,632,633,651,652,653,654,655,656,657,658,659],[45.0,254.0,254.0,254.0,148.0,24.0,9.0,43.0,254.0,252.0,252.0,252.0,252.0,252.0,121.0,13.0,58.0,237.0,254.0,252.0,252.0,252.0,252.0,252.0,252.0,68.0,69.0,224.0,252.0,254.0,252.0,252.0,252.0,252.0,252.0,252.0,135.0,17.0,75.0,216.0,252.0,252.0,254.0,231.0,168.0,252.0,252.0,252.0,252.0,252.0,45.0,77.0,212.0,252.0,252.0,252.0,242.0,93.0,32.0,114.0,177.0,252.0,252.0,252.0,158.0,12.0,75.0,212.0,252.0,252.0,252.0,252.0,231.0,116.0,252.0,252.0,252.0,252.0,21.0,69.0,216.0,252.0,252.0,252.0,252.0,252.0,62.0,116.0,252.0,252.0,252.0,252.0,21.0,93.0,252.0,252.0,252.0,252.0,252.0,62.0,21.0,158.0,252.0,252.0,252.0,21.0,64.0,239.0,252.0,252.0,252.0,252.0,252.0,21.0,139.0,252.0,252.0,252.0,21.0,5.0,87.0,254.0,254.0,254.0,254.0,237.0,41.0,11.0,150.0,254.0,254.0,254.0,22.0,5.0,85.0,252.0,252.0,252.0,252.0,222.0,55.0,116.0,252.0,252.0,252.0,214.0,18.0,24.0,252.0,252.0,252.0,252.0,252.0,91.0,26.0,153.0,252.0,252.0,252.0,45.0,24.0,252.0,252.0,252.0,252.0,252.0,91.0,18.0,93.0,151.0,252.0,252.0,252.0,184.0,28.0,24.0,252.0,252.0,252.0,252.0,252.0,164.0,116.0,116.0,116.0,117.0,141.0,252.0,252.0,252.0,252.0,252.0,68.0,24.0,252.0,252.0,252.0,252.0,252.0,252.0,252.0,252.0,252.0,254.0,252.0,252.0,252.0,252.0,252.0,163.0,31.0,9.0,121.0,252.0,252.0,252.0,252.0,252.0,252.0,252.0,252.0,254.0,252.0,252.0,252.0,178.0,91.0,33.0,13.0,119.0,252.0,252.0,252.0,252.0,252.0,252.0,252.0,254.0,252.0,252.0,184.0,37.0,13.0,121.0,252.0,252.0,252.0,252.0,252.0,252.0,254.0,214.0,45.0,28.0,8.0,21.0,21.0,169.0,252.0,252.0,41.0,22.0,18.0])|\n|0.0           |0.0  |(692,[129,130,131,132,156,157,158,159,160,161,162,183,184,185,186,187,188,189,190,208,209,210,211,212,213,214,215,216,217,218,235,236,237,238,239,240,241,242,243,244,245,246,262,263,264,265,266,267,268,269,270,271,272,273,274,289,290,291,292,293,294,295,296,297,298,299,300,301,302,316,317,318,319,320,322,323,324,325,327,328,329,330,343,344,345,346,347,348,350,351,352,353,355,356,357,358,371,372,373,374,378,379,384,385,386,398,399,400,412,413,414,425,426,427,428,439,440,441,442,453,454,455,456,467,468,469,470,481,482,483,484,494,495,496,497,498,509,510,511,512,521,522,523,524,525,537,538,539,540,547,548,549,550,551,552,565,566,567,568,569,570,571,572,573,574,575,576,577,578,579,594,595,596,597,598,599,600,601,602,603,604,605,623,624,625,626,627,628,629,630,631,632,653,654,655,656,657,658],[64.0,253.0,255.0,63.0,96.0,205.0,251.0,253.0,205.0,111.0,4.0,96.0,189.0,251.0,251.0,253.0,251.0,251.0,31.0,16.0,64.0,223.0,244.0,251.0,251.0,211.0,213.0,251.0,251.0,31.0,80.0,181.0,251.0,253.0,251.0,251.0,251.0,94.0,96.0,251.0,251.0,31.0,92.0,253.0,253.0,253.0,255.0,253.0,253.0,253.0,95.0,96.0,253.0,253.0,31.0,92.0,236.0,251.0,243.0,220.0,233.0,251.0,251.0,243.0,82.0,96.0,251.0,251.0,31.0,80.0,253.0,251.0,251.0,188.0,96.0,251.0,251.0,109.0,96.0,251.0,251.0,31.0,96.0,240.0,253.0,243.0,188.0,42.0,96.0,204.0,109.0,4.0,12.0,197.0,251.0,31.0,221.0,251.0,253.0,121.0,36.0,23.0,190.0,251.0,31.0,48.0,234.0,253.0,191.0,253.0,31.0,44.0,221.0,251.0,251.0,12.0,197.0,251.0,31.0,190.0,251.0,251.0,251.0,96.0,251.0,251.0,31.0,190.0,251.0,251.0,113.0,40.0,234.0,251.0,219.0,23.0,190.0,251.0,251.0,94.0,40.0,217.0,253.0,231.0,47.0,1\n\n*** WARNING: max output size exceeded, skipping output. ***\n\n,253.0,251.0,251.0,251.0,221.0,67.0,72.0,251.0,251.0,251.0,251.0,96.0,36.0,199.0,251.0,251.0,251.0,155.0,15.0,45.0,204.0,251.0,251.0,251.0,157.0,161.0,249.0,251.0,251.0,248.0,147.0,233.0,251.0,251.0,251.0,173.0,233.0,251.0,251.0,251.0,173.0,53.0,131.0,251.0,251.0,173.0])                                                                                                                                                                                                                                                                                                                                                                                                                                                                                                                                                                                                                                                                                                                                                                                                                                                                                                                                                                                                                                                                                                                                                                                                                                                                                                                                                                                                  |\n|1.0           |1.0  |(692,[124,125,126,127,152,153,154,155,180,181,182,183,208,209,210,211,236,237,238,239,264,265,266,267,292,293,294,295,320,321,322,323,348,349,350,351,376,377,378,379,404,405,406,407,432,433,434,435,460,461,462,463,464,488,489,490,491,492,517,518,519,520,545,546,547,548,549,573,574,575,576,577,578,602,603,604,605,606,607,631,632,633,634,635,660,661,662,663],[42.0,232.0,254.0,58.0,86.0,253.0,253.0,58.0,86.0,253.0,253.0,58.0,206.0,253.0,253.0,58.0,215.0,253.0,253.0,58.0,215.0,253.0,253.0,58.0,215.0,253.0,253.0,58.0,215.0,253.0,253.0,58.0,215.0,253.0,253.0,58.0,215.0,253.0,253.0,58.0,215.0,253.0,253.0,58.0,188.0,253.0,253.0,85.0,86.0,253.0,253.0,200.0,12.0,29.0,223.0,253.0,253.0,151.0,209.0,253.0,253.0,194.0,128.0,253.0,253.0,200.0,8.0,32.0,213.0,253.0,253.0,152.0,6.0,32.0,221.0,253.0,253.0,153.0,5.0,90.0,215.0,253.0,253.0,151.0,59.0,253.0,253.0,84.0])                                                                                                                                                                                                                                                                                                                                                                                                                                                                                                                                                                                                                                                                                                                                                                                                                                                                                                                                                                                                                                                                                                                                                                                                                                                                                                                                                                                                                                                                                                                                                                                                                                                                                                                                                                               |\n|1.0           |1.0  |(692,[125,126,153,154,155,181,182,183,209,210,211,237,238,239,265,266,267,293,294,295,321,322,323,349,350,351,377,378,379,405,406,407,433,434,435,461,462,463,489,490,491,517,518,519,545,546,547,572,573,574,575,599,600,601,602,626,627,628,629,630,654,655,656,657],[134.0,230.0,133.0,231.0,10.0,133.0,253.0,96.0,133.0,253.0,96.0,133.0,253.0,183.0,133.0,253.0,217.0,133.0,253.0,217.0,133.0,253.0,217.0,133.0,253.0,217.0,133.0,253.0,217.0,134.0,254.0,218.0,133.0,253.0,159.0,133.0,253.0,199.0,156.0,253.0,96.0,254.0,247.0,73.0,254.0,248.0,74.0,99.0,254.0,245.0,64.0,89.0,230.0,254.0,125.0,140.0,251.0,253.0,243.0,10.0,114.0,242.0,195.0,69.0])                                                                                                                                                                                                                                                                                                                                                                                                                                                                                                                                                                                                                                                                                                                                                                                                                                                                                                                                                                                                                                                                                                                                                                                                                                                                                                                                                                                                                                                                                                                                                                                                                                                                                                                                                                                                                                                                                                                                                                                                             |\n|1.0           |1.0  |(692,[126,127,128,129,154,155,156,157,182,183,184,185,186,210,211,212,213,214,238,239,240,241,242,266,267,268,269,270,293,294,295,296,297,298,321,322,323,324,325,348,349,350,351,352,353,376,377,378,379,380,381,404,405,406,407,408,409,432,433,434,435,436,437,459,460,461,462,463,464,487,488,489,490,491,492,515,516,517,518,519,520,543,544,545,546,547,571,572,573,574,575,599,600,601,602,614,627,628,629,630,655,656,657,658],[20.0,254.0,255.0,37.0,19.0,253.0,253.0,134.0,19.0,253.0,253.0,246.0,125.0,76.0,253.0,253.0,253.0,158.0,207.0,253.0,253.0,253.0,158.0,207.0,253.0,253.0,253.0,158.0,48.0,223.0,253.0,253.0,243.0,106.0,141.0,253.0,253.0,253.0,113.0,65.0,237.0,253.0,253.0,253.0,36.0,76.0,253.0,253.0,253.0,253.0,36.0,76.0,253.0,253.0,253.0,253.0,36.0,76.0,253.0,253.0,253.0,118.0,4.0,4.0,148.0,253.0,253.0,253.0,103.0,10.0,253.0,253.0,253.0,253.0,103.0,10.0,253.0,253.0,253.0,173.0,7.0,10.0,253.0,253.0,253.0,168.0,143.0,253.0,253.0,239.0,49.0,198.0,253.0,253.0,234.0,140.0,198.0,253.0,253.0,234.0,198.0,253.0,253.0,234.0])                                                                                                                                                                                                                                                                                                                                                                                                                                                                                                                                                                                                                                                                                                                                                                                                                                                                                                                                                                                                                                                                                                                                                                                                                                                                                                                                                                                                                                                                                                                                                                                                         |\n|1.0           |1.0  |(692,[126,127,128,154,155,156,157,182,183,184,185,210,211,212,213,238,239,240,241,266,267,268,269,292,293,294,295,296,297,320,321,322,323,324,348,349,350,351,352,376,377,378,379,380,404,405,406,407,432,433,434,435,459,460,461,462,463,486,487,488,489,490,491,514,515,516,517,518,542,543,544,545,546,570,571,572,573,574,598,599,600,601,626,627,628,629,630,654,655,656,657],[155.0,253.0,126.0,253.0,251.0,141.0,4.0,253.0,251.0,251.0,31.0,253.0,251.0,251.0,31.0,253.0,251.0,251.0,31.0,255.0,253.0,253.0,31.0,8.0,131.0,253.0,251.0,235.0,27.0,64.0,251.0,253.0,251.0,126.0,64.0,251.0,253.0,251.0,126.0,64.0,251.0,253.0,251.0,126.0,64.0,253.0,255.0,221.0,182.0,251.0,253.0,200.0,64.0,236.0,251.0,253.0,62.0,8.0,158.0,251.0,251.0,169.0,8.0,32.0,251.0,251.0,251.0,158.0,32.0,253.0,253.0,253.0,159.0,32.0,251.0,251.0,251.0,39.0,32.0,251.0,251.0,251.0,32.0,251.0,251.0,251.0,100.0,32.0,251.0,251.0,251.0])                                                                                                                                                                                                                                                                                                                                                                                                                                                                                                                                                                                                                                                                                                                                                                                                                                                                                                                                                                                                                                                                                                                                                                                                                                                                                                                                                                                                                                                                                                                                                                                                                                                                                                                                              |\n|1.0           |1.0  |(692,[127,128,129,130,155,156,157,158,182,183,184,185,186,210,211,212,213,214,238,239,240,241,242,265,266,267,268,269,293,294,295,296,321,322,323,324,349,350,351,352,377,378,379,380,404,405,406,407,432,433,434,435,459,460,461,462,463,487,488,489,490,515,516,517,518,542,543,544,545,546,569,570,571,572,573,597,598,599,600,601,625,626,627,628,629,653,654,655,656],[166.0,255.0,187.0,6.0,165.0,253.0,253.0,13.0,15.0,191.0,253.0,253.0,13.0,49.0,253.0,253.0,253.0,13.0,141.0,253.0,253.0,169.0,4.0,4.0,189.0,253.0,249.0,53.0,69.0,253.0,253.0,246.0,69.0,253.0,253.0,246.0,118.0,253.0,253.0,124.0,206.0,253.0,231.0,21.0,66.0,241.0,253.0,199.0,105.0,253.0,253.0,89.0,3.0,228.0,253.0,252.0,86.0,111.0,253.0,253.0,205.0,166.0,253.0,253.0,75.0,43.0,249.0,253.0,193.0,9.0,4.0,160.0,253.0,253.0,184.0,37.0,253.0,253.0,253.0,88.0,140.0,253.0,253.0,186.0,18.0,14.0,253.0,253.0,27.0])                                                                                                                                                                                                                                                                                                                                                                                                                                                                                                                                                                                                                                                                                                                                                                                                                                                                                                                                                                                                                                                                                                                                                                                                                                                                                                                                                                                                                                                                                                                                                                                                                                                                                                                                                                       |\n|1.0           |1.0  |(692,[128,129,130,131,155,156,157,158,159,183,184,185,186,187,211,212,213,214,215,239,240,241,242,266,267,268,269,270,293,294,295,296,297,320,321,322,323,324,325,348,349,350,351,352,353,376,377,378,379,380,381,404,405,406,407,408,409,431,432,433,434,435,436,437,458,459,460,461,462,463,464,486,487,488,489,490,491,513,514,515,516,517,518,540,541,542,543,544,545,567,568,569,570,571,572,595,596,597,598,599,600,623,624,625,626,627,651,652,653,654],[28.0,247.0,255.0,165.0,47.0,221.0,252.0,252.0,164.0,177.0,252.0,252.0,252.0,164.0,177.0,252.0,252.0,223.0,78.0,177.0,252.0,252.0,197.0,114.0,236.0,252.0,235.0,42.0,5.0,148.0,252.0,252.0,230.0,14.0,135.0,252.0,252.0,252.0,230.0,78.0,252.0,252.0,252.0,252.0,162.0,78.0,252.0,252.0,252.0,252.0,9.0,78.0,252.0,252.0,252.0,252.0,9.0,32.0,200.0,252.0,252.0,252.0,105.0,3.0,10.0,218.0,252.0,252.0,252.0,105.0,8.0,225.0,252.0,252.0,252.0,240.0,69.0,44.0,237.0,252.0,252.0,228.0,85.0,59.0,218.0,252.0,252.0,225.0,93.0,65.0,208.0,252.0,252.0,252.0,175.0,133.0,252.0,252.0,252.0,225.0,68.0,133.0,252.0,252.0,244.0,54.0,133.0,252.0,252.0,48.0])                                                                                                                                                                                                                                                                                                                                                                                                                                                                                                                                                                                                                                                                                                                                                                                                                                                                                                                                                                                                                                                                                                                                                                                                                                                                                                                                                                                                                                                                                                                                                   |\n|1.0           |1.0  |(692,[128,129,130,131,156,157,158,159,184,185,186,187,211,212,213,214,215,239,240,241,242,243,266,267,268,269,270,271,294,295,296,297,298,321,322,323,324,325,326,349,350,351,352,353,354,377,378,379,380,381,403,404,405,406,407,408,409,431,432,433,434,435,436,458,459,460,461,462,463,485,486,487,488,489,490,513,514,515,516,517,518,540,541,542,543,544,545,567,568,569,570,571,572,573,595,596,597,598,599,600,623,624,625,626,627,651,652,653,654,655],[17.0,206.0,229.0,44.0,2.0,125.0,254.0,123.0,95.0,254.0,254.0,123.0,78.0,240.0,254.0,254.0,123.0,100.0,254.0,254.0,254.0,123.0,2.0,129.0,254.0,254.0,220.0,20.0,9.0,254.0,254.0,254.0,123.0,22.0,179.0,254.0,254.0,254.0,49.0,83.0,254.0,254.0,254.0,183.0,19.0,136.0,254.0,254.0,254.0,139.0,3.0,111.0,252.0,254.0,254.0,232.0,45.0,67.0,254.0,254.0,254.0,216.0,40.0,14.0,192.0,254.0,254.0,254.0,140.0,23.0,192.0,254.0,254.0,254.0,246.0,77.0,254.0,254.0,255.0,241.0,100.0,65.0,235.0,254.0,254.0,254.0,172.0,30.0,238.0,254.0,254.0,254.0,219.0,26.0,34.0,254.0,254.0,254.0,216.0,41.0,34.0,254.0,254.0,254.0,188.0,12.0,170.0,254.0,254.0,82.0])                                                                                                                                                                                                                                                                                                                                                                                                                                                                                                                                                                                                                                                                                                                                                                                                                                                                                                                                                                                                                                                                                                                                                                                                                                                                                                                                                                                                                                                                                                                                                     |\n|1.0           |1.0  |(692,[128,129,155,156,157,183,184,185,211,212,213,239,240,241,266,267,268,294,295,296,322,323,324,349,350,351,352,377,378,379,380,405,406,407,408,433,434,435,460,461,462,463,488,489,490,491,516,517,518,519,544,545,546,572,573,574,600,601,602,628,629,630,656,657,658],[159.0,142.0,11.0,220.0,141.0,78.0,254.0,141.0,111.0,254.0,109.0,196.0,221.0,15.0,26.0,221.0,159.0,63.0,254.0,159.0,178.0,254.0,93.0,7.0,191.0,254.0,97.0,42.0,255.0,254.0,41.0,42.0,254.0,195.0,10.0,141.0,255.0,78.0,11.0,202.0,254.0,59.0,86.0,254.0,254.0,59.0,142.0,254.0,248.0,52.0,142.0,254.0,195.0,142.0,254.0,164.0,142.0,254.0,77.0,142.0,254.0,131.0,77.0,172.0,5.0])                                                                                                                                                                                                                                                                                                                                                                                                                                                                                                                                                                                                                                                                                                                                                                                                                                                                                                                                                                                                                                                                                                                                                                                                                                                                                                                                                                                                                                                                                                                                                                                                                                                                                                                                                                                                                                                                                                                                                                                                               |\n+--------------+-----+---------------------------------------------------------------------------------------------------------------------------------------------------------------------------------------------------------------------------------------------------------------------------------------------------------------------------------------------------------------------------------------------------------------------------------------------------------------------------------------------------------------------------------------------------------------------------------------------------------------------------------------------------------------------------------------------------------------------------------------------------------------------------------------------------------------------------------------------------------------------------------------------------------------------------------------------------------------------------------------------------------------------------------------------------------------------------------------------------------------------------------------------------------------------------------------------------------------------------------------------------------------------------------------------------------------------------------------------------------------------------------------------------------------------------------------------------------------------------------------------------------------------------------------------------------------------------------------------------------------------------------------------------------------------------------------------------------------------------------------------------------------------------------------------------------------------------------------------------------------------------------------------------------------------------------------------------------------------------------------------------------------------------------------------------------------------------------------------------------------------------------------------------------------------------------------------------------------------------------------------------------------------------------------------------------------------------------------------------------------------------------------------------------------------------------------------------------------------------------------------------------------------------------------------------------------------------------------------------------------------------------------------------------------------------+\nonly showing top 20 rows\n\n"
     ]
    }
   ],
   "source": [
    "predictions.select(\"predictedLabel\", \"label\", \"features\").show(truncate=False)"
   ]
  },
  {
   "cell_type": "code",
   "execution_count": 0,
   "metadata": {
    "application/vnd.databricks.v1+cell": {
     "cellMetadata": {},
     "inputWidgets": {},
     "nuid": "595a145b-7805-4a7f-a67f-4f772d28d78d",
     "showTitle": false,
     "title": ""
    }
   },
   "outputs": [
    {
     "output_type": "stream",
     "name": "stdout",
     "output_type": "stream",
     "text": [
      "Test Error: 0.0\n"
     ]
    }
   ],
   "source": [
    "evaluator=MulticlassClassificationEvaluator(predictionCol=\"prediction\",labelCol=\"indexedLabel\",metricName=\"accuracy\")\n",
    "\n",
    "\n",
    "accuracy=evaluator.evaluate(dataset=predictions)\n",
    "\n",
    "print(f\"Test Error: {1-accuracy}\")"
   ]
  },
  {
   "cell_type": "code",
   "execution_count": 0,
   "metadata": {
    "application/vnd.databricks.v1+cell": {
     "cellMetadata": {},
     "inputWidgets": {},
     "nuid": "4ad0740b-8eb3-4187-a4dd-0a5e2c4b9e82",
     "showTitle": false,
     "title": ""
    }
   },
   "outputs": [
    {
     "output_type": "stream",
     "name": "stdout",
     "output_type": "stream",
     "text": [
      "Out[187]: RandomForestClassificationModel: uid=RandomForestClassifier_3ff86916abb7, numTrees=10, numClasses=2, numFeatures=692"
     ]
    }
   ],
   "source": [
    "rfModel=model.stages[2]\n",
    "rfModel"
   ]
  },
  {
   "cell_type": "code",
   "execution_count": 0,
   "metadata": {
    "application/vnd.databricks.v1+cell": {
     "cellMetadata": {},
     "inputWidgets": {},
     "nuid": "283bdab0-bd86-42db-b94b-cf8a03a4ad01",
     "showTitle": false,
     "title": ""
    }
   },
   "outputs": [],
   "source": [
    "# Gradient Boost Tree Classifier\n",
    "from pyspark.ml.classification import GBTClassifier\n"
   ]
  },
  {
   "cell_type": "code",
   "execution_count": 0,
   "metadata": {
    "application/vnd.databricks.v1+cell": {
     "cellMetadata": {},
     "inputWidgets": {},
     "nuid": "5d3debf7-75e3-496c-ad96-07b1a54d95cf",
     "showTitle": false,
     "title": ""
    }
   },
   "outputs": [],
   "source": [
    "gbt=GBTClassifier(labelCol=\"indexedLabel\",featuresCol=\"indexedFeatures\",maxIter=10)"
   ]
  },
  {
   "cell_type": "code",
   "execution_count": 0,
   "metadata": {
    "application/vnd.databricks.v1+cell": {
     "cellMetadata": {},
     "inputWidgets": {},
     "nuid": "8bcf404a-84e7-4020-a8e5-c560127c1fbf",
     "showTitle": false,
     "title": ""
    }
   },
   "outputs": [],
   "source": [
    "pipeline=Pipeline(stages=(labelIndexer,featureIndexer,gbt,))"
   ]
  },
  {
   "cell_type": "code",
   "execution_count": 0,
   "metadata": {
    "application/vnd.databricks.v1+cell": {
     "cellMetadata": {},
     "inputWidgets": {},
     "nuid": "fd86baf6-cb33-4a71-9089-150dc5b0b7a6",
     "showTitle": false,
     "title": ""
    }
   },
   "outputs": [],
   "source": [
    "model=pipeline.fit(dataset=trainingData)"
   ]
  },
  {
   "cell_type": "code",
   "execution_count": 0,
   "metadata": {
    "application/vnd.databricks.v1+cell": {
     "cellMetadata": {},
     "inputWidgets": {},
     "nuid": "c38f5213-ca3f-4dcf-ba4d-84685dca686c",
     "showTitle": false,
     "title": ""
    }
   },
   "outputs": [],
   "source": [
    "predictions=model.transform(dataset=testData)"
   ]
  },
  {
   "cell_type": "code",
   "execution_count": 0,
   "metadata": {
    "application/vnd.databricks.v1+cell": {
     "cellMetadata": {},
     "inputWidgets": {},
     "nuid": "19388eb0-9b0e-45a1-aa41-1b7e46e08e87",
     "showTitle": false,
     "title": ""
    }
   },
   "outputs": [],
   "source": [
    "evaluator=MulticlassClassificationEvaluator(labelCol=\"indexedLabel\",predictionCol=\"prediction\",metricName=\"accuracy\")"
   ]
  },
  {
   "cell_type": "code",
   "execution_count": 0,
   "metadata": {
    "application/vnd.databricks.v1+cell": {
     "cellMetadata": {},
     "inputWidgets": {},
     "nuid": "f8d9f874-0f14-4849-8dc0-20b16bda9c94",
     "showTitle": false,
     "title": ""
    }
   },
   "outputs": [
    {
     "output_type": "stream",
     "name": "stdout",
     "output_type": "stream",
     "text": [
      "Test Error: 0.10344827586206895\n"
     ]
    }
   ],
   "source": [
    "accuracy=evaluator.evaluate(dataset=predictions)\n",
    "print(f\"Test Error: {1-accuracy}\")"
   ]
  },
  {
   "cell_type": "code",
   "execution_count": 0,
   "metadata": {
    "application/vnd.databricks.v1+cell": {
     "cellMetadata": {},
     "inputWidgets": {},
     "nuid": "7412ad5e-721e-4568-8e69-eb593e697812",
     "showTitle": false,
     "title": ""
    }
   },
   "outputs": [
    {
     "output_type": "stream",
     "name": "stdout",
     "output_type": "stream",
     "text": [
      "GBTClassificationModel: uid = GBTClassifier_2c71a2cfaa37, numTrees=10, numClasses=2, numFeatures=692\n"
     ]
    }
   ],
   "source": [
    "gbtModel=model.stages[2]\n",
    "print(gbtModel)"
   ]
  },
  {
   "cell_type": "code",
   "execution_count": 0,
   "metadata": {
    "application/vnd.databricks.v1+cell": {
     "cellMetadata": {},
     "inputWidgets": {},
     "nuid": "7493fea3-4bd9-49d7-a0f9-c7800e94407f",
     "showTitle": false,
     "title": ""
    }
   },
   "outputs": [],
   "source": [
    "# Multilayer Perceptron Classifier\n",
    "from pyspark.ml.classification import MultilayerPerceptronClassifier\n",
    "from typing import List"
   ]
  },
  {
   "cell_type": "code",
   "execution_count": 0,
   "metadata": {
    "application/vnd.databricks.v1+cell": {
     "cellMetadata": {},
     "inputWidgets": {},
     "nuid": "a0aea97b-fef5-49d5-9ca2-a9f65f0eae5b",
     "showTitle": false,
     "title": ""
    }
   },
   "outputs": [],
   "source": [
    "layers:List=[4,5,4,3]\n",
    "trainer=MultilayerPerceptronClassifier(maxIter=100,layers=layers,blockSize=128,seed=1234)"
   ]
  },
  {
   "cell_type": "code",
   "execution_count": 0,
   "metadata": {
    "application/vnd.databricks.v1+cell": {
     "cellMetadata": {},
     "inputWidgets": {},
     "nuid": "50672c30-d257-422c-9acd-5aed5debc411",
     "showTitle": false,
     "title": ""
    }
   },
   "outputs": [],
   "source": [
    "# pipeline=Pipeline(stages=(labelIndexer,featureIndexer,trainer,))\n",
    "pipeline=Pipeline(stages=(labelIndexer,featureIndexer,gbt,))"
   ]
  },
  {
   "cell_type": "code",
   "execution_count": 0,
   "metadata": {
    "application/vnd.databricks.v1+cell": {
     "cellMetadata": {},
     "inputWidgets": {},
     "nuid": "2b73f523-6d5b-4b7c-9df5-695b96d1af76",
     "showTitle": false,
     "title": ""
    }
   },
   "outputs": [],
   "source": [
    "model=pipeline.fit(dataset=trainingData)"
   ]
  },
  {
   "cell_type": "code",
   "execution_count": 0,
   "metadata": {
    "application/vnd.databricks.v1+cell": {
     "cellMetadata": {},
     "inputWidgets": {},
     "nuid": "7f732ea7-35ea-4460-8064-607bc0c6144c",
     "showTitle": false,
     "title": ""
    }
   },
   "outputs": [],
   "source": [
    "predictions=model.transform(dataset=testData)"
   ]
  },
  {
   "cell_type": "code",
   "execution_count": 0,
   "metadata": {
    "application/vnd.databricks.v1+cell": {
     "cellMetadata": {},
     "inputWidgets": {},
     "nuid": "1ee89b57-1662-49d1-b6d3-c499370c7558",
     "showTitle": false,
     "title": ""
    }
   },
   "outputs": [
    {
     "output_type": "stream",
     "name": "stdout",
     "output_type": "stream",
     "text": [
      "+-----+---------------------------------------------------------------------------------------------------------------------------------------------------------------------------------------------------------------------------------------------------------------------------------------------------------------------------------------------------------------------------------------------------------------------------------------------------------------------------------------------------------------------------------------------------------------------------------------------------------------------------------------------------------------------------------------------------------------------------------------------------------------------------------------------------------------------------------------------------------------------------------------------------------------------------------------------------------------------------------------------------------------------------------------------------------------------------------------------------------------------------------------------------------------------------------------------------------------------------------------------------------------------------------------------------------------------------------------------------------------------------------------------------------------------------------------------------------------------------------------------------------------------------------------------------------------------------------------------------------------------------------------------------------------------------------------------------------------------------------------------------------------------------------------------------------------------------------------------------------------------------------------------------------------------------------------------------------------------------------------------------------------------------------------------------------------------------------------------------------------------------------------------------------------------------------------------------------------------------------------------------------------------------------------------------------------------------------------------------------------------------------------------------------------------------------------------------------------------------------------------------------------------------------------------------------------------------------------------------------------------------------------------------------------------------+------------+--------------------------------------------------------------------------------------------------------------------------------------------------------------------------------------------------------------------------------------------------------------------------------------------------------------------------------------------------------------------------------------------------------------------------------------------------------------------------------------------------------------------------------------------------------------------------------------------------------------------------------------------------------------------------------------------------------------------------------------------------------------------------------------------------------------------------------------------------------------------------------------------------------------------------------------------------------------------------------------------------------------------------------------------------------------------------------------------------------------------------------------------------------------------------------------------------------------------------------------------------------------------------------------------------------------------------------------------------------------------------------------------------------------------------------------------------------------------------------------------------------------------------------------------------------------------------------------------------------------------------------------------------------------------------------------------------------------------------------------------------------------------------------------------------------------------------------------------------------------------------------------------------------------------------------------------------------------------------------------------------------------------------------------------------------------------------------------------------------------------------------------------------------------------------------------------------------------------------------------------------------------------------------------------------------------------------------------------------------------------------------------------------------------------------------------------------------------------------------------------------------------------------------------------------------------------------------------------------------------------------------------------------------------------------+--------------------------------------+----------------------------------------+----------+\n|label|features                                                                                                                                                                                                                                                                                                                                                                                                                                                                                                                                                                                                                                                                                                                                                                                                                                                                                                                                                                                                                                                                                                                                                                                                                                                                                                                                                                                                                                                                                                                                                                                                                                                                                                                                                                                                                                                                                                                                                                                                                                                                                                                                                                                                                                                                                                                                                                                                                                                                                                                                                                                                                                                                   |indexedLabel|indexedFeatures                                                                                                                                                                                                                                                                                                                                                                                                                                                                                                                                                                                                                                                                                                                                                                                                                                                                                                                                                                                                                                                                                                                                                                                                                                                                                                                                                                                                                                                                                                                                                                                                                                                                                                                                                                                                                                                                                                                                                                                                                                                                                                                                                                                                                                                                                                                                                                                                                                                                                                                                                                                                                                                           |rawPrediction                         |probability                             |prediction|\n+-----+---------------------------------------------------------------------------------------------------------------------------------------------------------------------------------------------------------------------------------------------------------------------------------------------------------------------------------------------------------------------------------------------------------------------------------------------------------------------------------------------------------------------------------------------------------------------------------------------------------------------------------------------------------------------------------------------------------------------------------------------------------------------------------------------------------------------------------------------------------------------------------------------------------------------------------------------------------------------------------------------------------------------------------------------------------------------------------------------------------------------------------------------------------------------------------------------------------------------------------------------------------------------------------------------------------------------------------------------------------------------------------------------------------------------------------------------------------------------------------------------------------------------------------------------------------------------------------------------------------------------------------------------------------------------------------------------------------------------------------------------------------------------------------------------------------------------------------------------------------------------------------------------------------------------------------------------------------------------------------------------------------------------------------------------------------------------------------------------------------------------------------------------------------------------------------------------------------------------------------------------------------------------------------------------------------------------------------------------------------------------------------------------------------------------------------------------------------------------------------------------------------------------------------------------------------------------------------------------------------------------------------------------------------------------------+------------+--------------------------------------------------------------------------------------------------------------------------------------------------------------------------------------------------------------------------------------------------------------------------------------------------------------------------------------------------------------------------------------------------------------------------------------------------------------------------------------------------------------------------------------------------------------------------------------------------------------------------------------------------------------------------------------------------------------------------------------------------------------------------------------------------------------------------------------------------------------------------------------------------------------------------------------------------------------------------------------------------------------------------------------------------------------------------------------------------------------------------------------------------------------------------------------------------------------------------------------------------------------------------------------------------------------------------------------------------------------------------------------------------------------------------------------------------------------------------------------------------------------------------------------------------------------------------------------------------------------------------------------------------------------------------------------------------------------------------------------------------------------------------------------------------------------------------------------------------------------------------------------------------------------------------------------------------------------------------------------------------------------------------------------------------------------------------------------------------------------------------------------------------------------------------------------------------------------------------------------------------------------------------------------------------------------------------------------------------------------------------------------------------------------------------------------------------------------------------------------------------------------------------------------------------------------------------------------------------------------------------------------------------------------------------+--------------------------------------+----------------------------------------+----------+\n|0.0  |(692,[121,122,123,124,125,126,127,149,150,151,152,153,154,155,156,157,176,177,178,179,180,181,182,183,184,185,186,187,203,204,205,206,207,208,209,210,211,212,213,214,215,216,217,231,232,233,234,235,236,237,238,239,240,241,242,243,244,245,246,259,260,261,262,269,270,271,272,273,274,286,287,288,289,298,299,300,301,302,303,314,315,316,317,328,329,330,331,342,343,344,345,356,357,358,359,369,370,371,372,385,386,387,397,398,399,400,413,414,415,416,425,426,427,441,442,443,444,453,454,455,469,470,471,472,481,482,483,484,496,497,498,499,509,510,511,512,523,524,525,526,527,537,538,539,540,541,542,549,550,551,552,553,554,565,566,567,568,569,570,571,572,573,575,576,577,578,579,580,581,582,594,595,596,597,598,599,600,601,602,603,604,605,606,607,608,609,623,624,625,626,627,628,629,630,631,632,633,634,635,653,654,655,656,657,658,659,660,661],[63.0,176.0,253.0,253.0,159.0,113.0,63.0,140.0,253.0,252.0,252.0,252.0,252.0,241.0,100.0,66.0,54.0,227.0,253.0,252.0,252.0,252.0,252.0,253.0,252.0,239.0,181.0,57.0,38.0,224.0,252.0,253.0,226.0,246.0,252.0,252.0,253.0,252.0,252.0,252.0,252.0,108.0,3.0,57.0,252.0,252.0,253.0,27.0,88.0,112.0,112.0,112.0,112.0,142.0,252.0,252.0,253.0,152.0,31.0,198.0,253.0,253.0,79.0,32.0,153.0,253.0,255.0,253.0,196.0,76.0,246.0,252.0,127.0,3.0,106.0,253.0,252.0,214.0,28.0,194.0,252.0,252.0,112.0,143.0,252.0,252.0,193.0,225.0,252.0,217.0,37.0,38.0,234.0,252.0,223.0,63.0,240.0,252.0,84.0,146.0,252.0,223.0,114.0,253.0,228.0,47.0,147.0,253.0,253.0,112.0,159.0,252.0,195.0,225.0,252.0,252.0,112.0,253.0,252.0,195.0,225.0,252.0,230.0,25.0,159.0,252.0,202.0,10.0,92.0,243.0,252.0,208.0,113.0,252.0,252.0,161.0,79.0,253.0,252.0,220.0,37.0,114.0,253.0,253.0,253.0,174.0,63.0,26.0,128.0,253.0,255.0,253.0,133.0,12.0,228.0,252.0,252.0,252.0,241.0,100.0,85.0,76.0,85.0,131.0,231.0,252.0,252.0,253.0,129.0,6.0,97.0,208.0,252.0,252.0,253.0,252.0,252.0,246.0,197.0,253.0,252.0,252.0,252.0,220.0,133.0,6.0,19.0,99.0,239.0,253.0,252.0,252.0,252.0,252.0,253.0,252.0,245.0,223.0,99.0,63.0,112.0,112.0,221.0,252.0,252.0,253.0,127.0,87.0])                                                                                                                                                                                                                                                                                                                                                                                                                                                                                                                                              |1.0         |(692,[121,122,123,124,125,126,127,149,150,151,152,153,154,155,156,157,176,177,178,179,180,181,182,183,184,185,186,187,203,204,205,206,207,208,209,210,211,212,213,214,215,216,217,231,232,233,234,235,236,237,238,239,240,241,242,243,244,245,246,259,260,261,262,269,270,271,272,273,274,286,287,288,289,298,299,300,301,302,303,314,315,316,317,328,329,330,331,342,343,344,345,356,357,358,359,369,370,371,372,385,386,387,397,398,399,400,413,414,415,416,425,426,427,441,442,443,444,453,454,455,469,470,471,472,481,482,483,484,496,497,498,499,509,510,511,512,523,524,525,526,527,537,538,539,540,541,542,549,550,551,552,553,554,565,566,567,568,569,570,571,572,573,575,576,577,578,579,580,581,582,594,595,596,597,598,599,600,601,602,603,604,605,606,607,608,609,623,624,625,626,627,628,629,630,631,632,633,634,635,653,654,655,656,657,658,659,660,661],[1.0,176.0,253.0,253.0,159.0,113.0,63.0,140.0,253.0,252.0,252.0,252.0,252.0,241.0,100.0,66.0,54.0,227.0,253.0,252.0,252.0,252.0,252.0,253.0,252.0,239.0,181.0,57.0,38.0,224.0,252.0,253.0,226.0,246.0,252.0,252.0,253.0,252.0,252.0,252.0,252.0,108.0,3.0,57.0,252.0,252.0,253.0,27.0,88.0,112.0,112.0,112.0,112.0,142.0,252.0,252.0,253.0,152.0,31.0,198.0,253.0,253.0,79.0,32.0,153.0,253.0,255.0,253.0,196.0,76.0,246.0,252.0,127.0,3.0,106.0,253.0,252.0,214.0,28.0,194.0,252.0,252.0,112.0,143.0,252.0,252.0,193.0,225.0,252.0,217.0,37.0,38.0,234.0,252.0,223.0,63.0,240.0,252.0,84.0,146.0,252.0,223.0,114.0,253.0,228.0,47.0,147.0,253.0,253.0,112.0,159.0,252.0,195.0,225.0,252.0,252.0,112.0,253.0,252.0,195.0,225.0,252.0,230.0,25.0,159.0,252.0,202.0,10.0,92.0,243.0,252.0,208.0,113.0,252.0,252.0,161.0,79.0,253.0,252.0,220.0,37.0,114.0,253.0,253.0,253.0,174.0,63.0,26.0,128.0,253.0,255.0,253.0,133.0,12.0,228.0,252.0,252.0,252.0,241.0,100.0,85.0,76.0,85.0,131.0,231.0,252.0,252.0,253.0,129.0,6.0,97.0,208.0,252.0,252.0,253.0,252.0,252.0,246.0,197.0,253.0,252.0,252.0,252.0,220.0,133.0,6.0,19.0,99.0,239.0,253.0,252.0,252.0,252.0,252.0,253.0,252.0,245.0,223.0,99.0,63.0,112.0,112.0,221.0,252.0,252.0,253.0,127.0,87.0])                                                                                                                                                                                                                                                                                                                                                                                                                                                                                                                                              |[-1.325902679220332,1.325902679220332]|[0.06587782434721742,0.9341221756527825]|1.0       |\n|0.0  |(692,[123,124,125,126,127,128,129,130,131,132,133,150,151,152,153,154,155,156,157,158,159,160,161,162,177,178,179,180,181,182,183,184,185,186,187,188,189,190,205,206,207,208,209,210,212,213,214,215,216,217,218,233,234,235,236,237,238,241,242,243,244,245,246,261,262,263,264,265,266,270,271,272,273,274,275,288,289,290,291,292,293,299,300,301,302,303,315,316,317,318,319,327,328,329,330,331,342,343,344,345,346,347,355,356,357,358,359,370,371,372,373,374,375,383,384,385,386,387,398,399,400,401,402,403,411,412,413,414,415,426,427,428,429,430,431,439,440,441,442,443,454,455,456,457,458,459,467,468,469,470,471,482,483,484,485,486,493,494,495,496,497,498,510,511,512,513,514,515,520,521,522,523,524,525,526,538,539,540,541,542,543,544,545,546,547,548,549,550,551,552,553,554,566,567,568,569,570,571,572,573,574,575,576,577,578,579,580,581,594,595,596,597,598,599,600,601,602,603,604,605,606,607,622,623,624,625,626,627,628,629,630,631,632,633,634,652,653,654,655,656,657,658,659,660,661],[41.0,254.0,254.0,157.0,34.0,34.0,218.0,255.0,206.0,34.0,18.0,53.0,238.0,252.0,252.0,252.0,252.0,252.0,252.0,252.0,252.0,252.0,162.0,26.0,66.0,220.0,252.0,252.0,252.0,209.0,153.0,223.0,252.0,252.0,252.0,252.0,252.0,98.0,166.0,252.0,252.0,252.0,252.0,141.0,85.0,230.0,252.0,252.0,252.0,252.0,98.0,166.0,252.0,252.0,252.0,252.0,141.0,73.0,102.0,252.0,252.0,252.0,98.0,166.0,252.0,252.0,252.0,191.0,30.0,5.0,97.0,252.0,252.0,220.0,51.0,123.0,245.0,252.0,252.0,202.0,14.0,56.0,252.0,252.0,252.0,65.0,18.0,154.0,252.0,252.0,241.0,56.0,252.0,252.0,252.0,65.0,21.0,146.0,252.0,252.0,252.0,241.0,56.0,252.0,252.0,252.0,65.0,67.0,252.0,252.0,252.0,252.0,241.0,56.0,252.0,252.0,252.0,65.0,67.0,252.0,252.0,252.0,252.0,116.0,56.0,252.0,252.0,252.0,65.0,67.0,252.0,252.0,252.0,252.0,20.0,56.0,252.0,252.0,252.0,65.0,67.0,252.0,252.0,252.0,87.0,4.0,56.0,252.0,252.0,124.0,11.0,67.0,252.0,252.0,252.0,54.0,19.0,236.0,245.0,252.0,252.0,98.0,67.0,252.0,252.0,252.0,97.0,5.0,39.0,219.0,252.0,252.0,252.0,252.0,98.0,67.0,252.0,252.0,252.0,252.0,102.0,89.0,89.0,89.0,89.0,203.0,252.0,252.0,252.0,252.0,209.0,64.0,67.0,252.0,252.0,252.0,252.0,252.0,252.0,252.0,252.0,252.0,252.0,252.0,252.0,226.0,130.0,68.0,67.0,252.0,252.0,252.0,252.0,252.0,252.0,252.0,252.0,252.0,252.0,252.0,239.0,77.0,17.0,65.0,163.0,252.0,252.0,252.0,252.0,252.0,252.0,252.0,252.0,96.0,59.0,17.0,176.0,252.0,252.0,252.0,252.0,155.0,32.0,32.0,6.0])                                                                                                                                                                                        |1.0         |(692,[123,124,125,126,127,128,129,130,131,132,133,150,151,152,153,154,155,156,157,158,159,160,161,162,177,178,179,180,181,182,183,184,185,186,187,188,189,190,205,206,207,208,209,210,212,213,214,215,216,217,218,233,234,235,236,237,238,241,242,243,244,245,246,261,262,263,264,265,266,270,271,272,273,274,275,288,289,290,291,292,293,299,300,301,302,303,315,316,317,318,319,327,328,329,330,331,342,343,344,345,346,347,355,356,357,358,359,370,371,372,373,374,375,383,384,385,386,387,398,399,400,401,402,403,411,412,413,414,415,426,427,428,429,430,431,439,440,441,442,443,454,455,456,457,458,459,467,468,469,470,471,482,483,484,485,486,493,494,495,496,497,498,510,511,512,513,514,515,520,521,522,523,524,525,526,538,539,540,541,542,543,544,545,546,547,548,549,550,551,552,553,554,566,567,568,569,570,571,572,573,574,575,576,577,578,579,580,581,594,595,596,597,598,599,600,601,602,603,604,605,606,607,622,623,624,625,626,627,628,629,630,631,632,633,634,652,653,654,655,656,657,658,659,660,661],[41.0,254.0,254.0,157.0,34.0,34.0,218.0,255.0,206.0,34.0,2.0,53.0,238.0,252.0,252.0,252.0,252.0,252.0,252.0,252.0,252.0,252.0,162.0,26.0,66.0,220.0,252.0,252.0,252.0,209.0,153.0,223.0,252.0,252.0,252.0,252.0,252.0,98.0,166.0,252.0,252.0,252.0,252.0,141.0,85.0,230.0,252.0,252.0,252.0,252.0,98.0,166.0,252.0,252.0,252.0,252.0,141.0,73.0,102.0,252.0,252.0,252.0,98.0,166.0,252.0,252.0,252.0,191.0,30.0,5\n\n*** WARNING: max output size exceeded, skipping output. ***\n\n                                                                                                                                                                                                                                                                                                                                                                                                                                                                                                                                                                                                                                                                                                                                                                                                                                                                                                                                                                                                                                                                                                                                                                                                                                                                                                                             |0.0         |(692,[127,128,129,130,155,156,157,158,182,183,184,185,186,210,211,212,213,214,238,239,240,241,242,265,266,267,268,269,293,294,295,296,321,322,323,324,349,350,351,352,377,378,379,380,404,405,406,407,432,433,434,435,459,460,461,462,463,487,488,489,490,515,516,517,518,542,543,544,545,546,569,570,571,572,573,597,598,599,600,601,625,626,627,628,629,653,654,655,656],[166.0,255.0,187.0,6.0,165.0,253.0,253.0,13.0,15.0,191.0,253.0,253.0,13.0,49.0,253.0,253.0,253.0,13.0,141.0,253.0,253.0,169.0,4.0,4.0,189.0,253.0,249.0,53.0,69.0,253.0,253.0,246.0,69.0,253.0,253.0,246.0,118.0,253.0,253.0,124.0,206.0,253.0,231.0,21.0,66.0,241.0,253.0,199.0,105.0,253.0,253.0,89.0,3.0,228.0,253.0,252.0,86.0,111.0,253.0,253.0,205.0,166.0,253.0,253.0,75.0,43.0,249.0,253.0,193.0,9.0,4.0,160.0,253.0,253.0,184.0,37.0,253.0,253.0,253.0,88.0,140.0,253.0,253.0,186.0,18.0,14.0,253.0,253.0,27.0])                                                                                                                                                                                                                                                                                                                                                                                                                                                                                                                                                                                                                                                                                                                                                                                                                                                                                                                                                                                                                                                                                                                                                                                                                                                                                                                                                                                                                                                                                                                                                                                                                                                                                                                                                                      |[1.325902679220332,-1.325902679220332]|[0.9341221756527827,0.06587782434721734]|0.0       |\n|1.0  |(692,[128,129,130,131,155,156,157,158,159,183,184,185,186,187,211,212,213,214,215,239,240,241,242,266,267,268,269,270,293,294,295,296,297,320,321,322,323,324,325,348,349,350,351,352,353,376,377,378,379,380,381,404,405,406,407,408,409,431,432,433,434,435,436,437,458,459,460,461,462,463,464,486,487,488,489,490,491,513,514,515,516,517,518,540,541,542,543,544,545,567,568,569,570,571,572,595,596,597,598,599,600,623,624,625,626,627,651,652,653,654],[28.0,247.0,255.0,165.0,47.0,221.0,252.0,252.0,164.0,177.0,252.0,252.0,252.0,164.0,177.0,252.0,252.0,223.0,78.0,177.0,252.0,252.0,197.0,114.0,236.0,252.0,235.0,42.0,5.0,148.0,252.0,252.0,230.0,14.0,135.0,252.0,252.0,252.0,230.0,78.0,252.0,252.0,252.0,252.0,162.0,78.0,252.0,252.0,252.0,252.0,9.0,78.0,252.0,252.0,252.0,252.0,9.0,32.0,200.0,252.0,252.0,252.0,105.0,3.0,10.0,218.0,252.0,252.0,252.0,105.0,8.0,225.0,252.0,252.0,252.0,240.0,69.0,44.0,237.0,252.0,252.0,228.0,85.0,59.0,218.0,252.0,252.0,225.0,93.0,65.0,208.0,252.0,252.0,252.0,175.0,133.0,252.0,252.0,252.0,225.0,68.0,133.0,252.0,252.0,244.0,54.0,133.0,252.0,252.0,48.0])                                                                                                                                                                                                                                                                                                                                                                                                                                                                                                                                                                                                                                                                                                                                                                                                                                                                                                                                                                                                                                                                                                                                                                                                                                                                                                                                                                                                                                                                                                                                                   |0.0         |(692,[128,129,130,131,155,156,157,158,159,183,184,185,186,187,211,212,213,214,215,239,240,241,242,266,267,268,269,270,293,294,295,296,297,320,321,322,323,324,325,348,349,350,351,352,353,376,377,378,379,380,381,404,405,406,407,408,409,431,432,433,434,435,436,437,458,459,460,461,462,463,464,486,487,488,489,490,491,513,514,515,516,517,518,540,541,542,543,544,545,567,568,569,570,571,572,595,596,597,598,599,600,623,624,625,626,627,651,652,653,654],[28.0,247.0,255.0,165.0,47.0,221.0,252.0,252.0,164.0,177.0,252.0,252.0,252.0,164.0,177.0,252.0,252.0,223.0,78.0,177.0,252.0,252.0,197.0,114.0,236.0,252.0,235.0,42.0,5.0,148.0,252.0,252.0,230.0,14.0,135.0,252.0,252.0,252.0,230.0,78.0,252.0,252.0,252.0,252.0,162.0,78.0,252.0,252.0,252.0,252.0,9.0,78.0,252.0,252.0,252.0,252.0,9.0,32.0,200.0,252.0,252.0,252.0,105.0,3.0,10.0,218.0,252.0,252.0,252.0,105.0,8.0,225.0,252.0,252.0,252.0,240.0,69.0,44.0,237.0,252.0,252.0,228.0,85.0,59.0,218.0,252.0,252.0,225.0,93.0,65.0,208.0,252.0,252.0,252.0,175.0,133.0,252.0,252.0,252.0,225.0,68.0,133.0,252.0,252.0,244.0,54.0,133.0,252.0,252.0,48.0])                                                                                                                                                                                                                                                                                                                                                                                                                                                                                                                                                                                                                                                                                                                                                                                                                                                                                                                                                                                                                                                                                                                                                                                                                                                                                                                                                                                                                                                                                                                                                  |[1.325902679220332,-1.325902679220332]|[0.9341221756527827,0.06587782434721734]|0.0       |\n|1.0  |(692,[128,129,130,131,156,157,158,159,184,185,186,187,211,212,213,214,215,239,240,241,242,243,266,267,268,269,270,271,294,295,296,297,298,321,322,323,324,325,326,349,350,351,352,353,354,377,378,379,380,381,403,404,405,406,407,408,409,431,432,433,434,435,436,458,459,460,461,462,463,485,486,487,488,489,490,513,514,515,516,517,518,540,541,542,543,544,545,567,568,569,570,571,572,573,595,596,597,598,599,600,623,624,625,626,627,651,652,653,654,655],[17.0,206.0,229.0,44.0,2.0,125.0,254.0,123.0,95.0,254.0,254.0,123.0,78.0,240.0,254.0,254.0,123.0,100.0,254.0,254.0,254.0,123.0,2.0,129.0,254.0,254.0,220.0,20.0,9.0,254.0,254.0,254.0,123.0,22.0,179.0,254.0,254.0,254.0,49.0,83.0,254.0,254.0,254.0,183.0,19.0,136.0,254.0,254.0,254.0,139.0,3.0,111.0,252.0,254.0,254.0,232.0,45.0,67.0,254.0,254.0,254.0,216.0,40.0,14.0,192.0,254.0,254.0,254.0,140.0,23.0,192.0,254.0,254.0,254.0,246.0,77.0,254.0,254.0,255.0,241.0,100.0,65.0,235.0,254.0,254.0,254.0,172.0,30.0,238.0,254.0,254.0,254.0,219.0,26.0,34.0,254.0,254.0,254.0,216.0,41.0,34.0,254.0,254.0,254.0,188.0,12.0,170.0,254.0,254.0,82.0])                                                                                                                                                                                                                                                                                                                                                                                                                                                                                                                                                                                                                                                                                                                                                                                                                                                                                                                                                                                                                                                                                                                                                                                                                                                                                                                                                                                                                                                                                                                                                     |0.0         |(692,[128,129,130,131,156,157,158,159,184,185,186,187,211,212,213,214,215,239,240,241,242,243,266,267,268,269,270,271,294,295,296,297,298,321,322,323,324,325,326,349,350,351,352,353,354,377,378,379,380,381,403,404,405,406,407,408,409,431,432,433,434,435,436,458,459,460,461,462,463,485,486,487,488,489,490,513,514,515,516,517,518,540,541,542,543,544,545,567,568,569,570,571,572,573,595,596,597,598,599,600,623,624,625,626,627,651,652,653,654,655],[17.0,206.0,229.0,44.0,2.0,125.0,254.0,123.0,95.0,254.0,254.0,123.0,78.0,240.0,254.0,254.0,123.0,100.0,254.0,254.0,254.0,123.0,2.0,129.0,254.0,254.0,220.0,20.0,9.0,254.0,254.0,254.0,123.0,22.0,179.0,254.0,254.0,254.0,49.0,83.0,254.0,254.0,254.0,183.0,19.0,136.0,254.0,254.0,254.0,139.0,3.0,111.0,252.0,254.0,254.0,232.0,45.0,67.0,254.0,254.0,254.0,216.0,40.0,14.0,192.0,254.0,254.0,254.0,140.0,23.0,192.0,254.0,254.0,254.0,246.0,77.0,254.0,254.0,255.0,241.0,100.0,65.0,235.0,254.0,254.0,254.0,172.0,30.0,238.0,254.0,254.0,254.0,219.0,26.0,34.0,254.0,254.0,254.0,216.0,41.0,34.0,254.0,254.0,254.0,188.0,12.0,170.0,254.0,254.0,82.0])                                                                                                                                                                                                                                                                                                                                                                                                                                                                                                                                                                                                                                                                                                                                                                                                                                                                                                                                                                                                                                                                                                                                                                                                                                                                                                                                                                                                                                                                                                                                                    |[1.325902679220332,-1.325902679220332]|[0.9341221756527827,0.06587782434721734]|0.0       |\n|1.0  |(692,[128,129,155,156,157,183,184,185,211,212,213,239,240,241,266,267,268,294,295,296,322,323,324,349,350,351,352,377,378,379,380,405,406,407,408,433,434,435,460,461,462,463,488,489,490,491,516,517,518,519,544,545,546,572,573,574,600,601,602,628,629,630,656,657,658],[159.0,142.0,11.0,220.0,141.0,78.0,254.0,141.0,111.0,254.0,109.0,196.0,221.0,15.0,26.0,221.0,159.0,63.0,254.0,159.0,178.0,254.0,93.0,7.0,191.0,254.0,97.0,42.0,255.0,254.0,41.0,42.0,254.0,195.0,10.0,141.0,255.0,78.0,11.0,202.0,254.0,59.0,86.0,254.0,254.0,59.0,142.0,254.0,248.0,52.0,142.0,254.0,195.0,142.0,254.0,164.0,142.0,254.0,77.0,142.0,254.0,131.0,77.0,172.0,5.0])                                                                                                                                                                                                                                                                                                                                                                                                                                                                                                                                                                                                                                                                                                                                                                                                                                                                                                                                                                                                                                                                                                                                                                                                                                                                                                                                                                                                                                                                                                                                                                                                                                                                                                                                                                                                                                                                                                                                                                                                               |0.0         |(692,[128,129,155,156,157,183,184,185,211,212,213,239,240,241,266,267,268,294,295,296,322,323,324,349,350,351,352,377,378,379,380,405,406,407,408,433,434,435,460,461,462,463,488,489,490,491,516,517,518,519,544,545,546,572,573,574,600,601,602,628,629,630,656,657,658],[159.0,142.0,11.0,220.0,141.0,78.0,254.0,141.0,111.0,254.0,109.0,196.0,221.0,15.0,26.0,221.0,159.0,63.0,254.0,159.0,178.0,254.0,93.0,7.0,191.0,254.0,97.0,42.0,255.0,254.0,41.0,42.0,254.0,195.0,10.0,141.0,255.0,78.0,11.0,202.0,254.0,59.0,86.0,254.0,254.0,59.0,142.0,254.0,248.0,52.0,142.0,254.0,195.0,142.0,254.0,164.0,142.0,254.0,77.0,142.0,254.0,131.0,77.0,172.0,5.0])                                                                                                                                                                                                                                                                                                                                                                                                                                                                                                                                                                                                                                                                                                                                                                                                                                                                                                                                                                                                                                                                                                                                                                                                                                                                                                                                                                                                                                                                                                                                                                                                                                                                                                                                                                                                                                                                                                                                                                                                              |[1.325902679220332,-1.325902679220332]|[0.9341221756527827,0.06587782434721734]|0.0       |\n+-----+---------------------------------------------------------------------------------------------------------------------------------------------------------------------------------------------------------------------------------------------------------------------------------------------------------------------------------------------------------------------------------------------------------------------------------------------------------------------------------------------------------------------------------------------------------------------------------------------------------------------------------------------------------------------------------------------------------------------------------------------------------------------------------------------------------------------------------------------------------------------------------------------------------------------------------------------------------------------------------------------------------------------------------------------------------------------------------------------------------------------------------------------------------------------------------------------------------------------------------------------------------------------------------------------------------------------------------------------------------------------------------------------------------------------------------------------------------------------------------------------------------------------------------------------------------------------------------------------------------------------------------------------------------------------------------------------------------------------------------------------------------------------------------------------------------------------------------------------------------------------------------------------------------------------------------------------------------------------------------------------------------------------------------------------------------------------------------------------------------------------------------------------------------------------------------------------------------------------------------------------------------------------------------------------------------------------------------------------------------------------------------------------------------------------------------------------------------------------------------------------------------------------------------------------------------------------------------------------------------------------------------------------------------------------------+------------+--------------------------------------------------------------------------------------------------------------------------------------------------------------------------------------------------------------------------------------------------------------------------------------------------------------------------------------------------------------------------------------------------------------------------------------------------------------------------------------------------------------------------------------------------------------------------------------------------------------------------------------------------------------------------------------------------------------------------------------------------------------------------------------------------------------------------------------------------------------------------------------------------------------------------------------------------------------------------------------------------------------------------------------------------------------------------------------------------------------------------------------------------------------------------------------------------------------------------------------------------------------------------------------------------------------------------------------------------------------------------------------------------------------------------------------------------------------------------------------------------------------------------------------------------------------------------------------------------------------------------------------------------------------------------------------------------------------------------------------------------------------------------------------------------------------------------------------------------------------------------------------------------------------------------------------------------------------------------------------------------------------------------------------------------------------------------------------------------------------------------------------------------------------------------------------------------------------------------------------------------------------------------------------------------------------------------------------------------------------------------------------------------------------------------------------------------------------------------------------------------------------------------------------------------------------------------------------------------------------------------------------------------------------------------+--------------------------------------+----------------------------------------+----------+\nonly showing top 20 rows\n\n"
     ]
    }
   ],
   "source": [
    "predictions.show(truncate=False)"
   ]
  },
  {
   "cell_type": "code",
   "execution_count": 0,
   "metadata": {
    "application/vnd.databricks.v1+cell": {
     "cellMetadata": {},
     "inputWidgets": {},
     "nuid": "0651799c-f1a6-461e-9b35-c2c2747f375a",
     "showTitle": false,
     "title": ""
    }
   },
   "outputs": [],
   "source": [
    "evaluator.evaluate(dataset=predictions)"
   ]
  },
  {
   "cell_type": "code",
   "execution_count": 0,
   "metadata": {
    "application/vnd.databricks.v1+cell": {
     "cellMetadata": {},
     "inputWidgets": {},
     "nuid": "562e7971-93bd-49e7-a6d5-6862e07ee6a0",
     "showTitle": false,
     "title": ""
    }
   },
   "outputs": [],
   "source": [
    "data=spark.read.format(source=\"libsvm\").load(\"file:///databricks/driver/spark/data/mllib/sample_multiclass_classification_data.txt\")\n",
    "trainingData,testdata=data.randomSplit(weights=(0.7,0.3),seed=101)"
   ]
  },
  {
   "cell_type": "code",
   "execution_count": 0,
   "metadata": {
    "application/vnd.databricks.v1+cell": {
     "cellMetadata": {},
     "inputWidgets": {},
     "nuid": "ed8b746f-1df3-4ad2-ba30-b9f4cdf192b1",
     "showTitle": false,
     "title": ""
    }
   },
   "outputs": [
    {
     "output_type": "stream",
     "name": "stdout",
     "output_type": "stream",
     "text": [
      "+-----+-----------------------------------------------------+\n|label|features                                             |\n+-----+-----------------------------------------------------+\n|0.0  |(4,[0,1,2,3],[-0.666667,-0.583333,0.186441,0.333333])|\n|0.0  |(4,[0,1,2,3],[-0.277778,-0.333333,0.322034,0.583333])|\n+-----+-----------------------------------------------------+\nonly showing top 2 rows\n\n"
     ]
    }
   ],
   "source": [
    "trainingData.show(truncate=False,n=2)"
   ]
  },
  {
   "cell_type": "code",
   "execution_count": 0,
   "metadata": {
    "application/vnd.databricks.v1+cell": {
     "cellMetadata": {},
     "inputWidgets": {},
     "nuid": "ef8baed8-d103-4d7e-9666-4134d13551f1",
     "showTitle": false,
     "title": ""
    }
   },
   "outputs": [],
   "source": [
    "layers:List=[4,5,4,3]\n",
    "trainer=MultilayerPerceptronClassifier(maxIter=100,layers=layers,blockSize=128,seed=1234)"
   ]
  },
  {
   "cell_type": "code",
   "execution_count": 0,
   "metadata": {
    "application/vnd.databricks.v1+cell": {
     "cellMetadata": {},
     "inputWidgets": {},
     "nuid": "6d9a3bf2-afd8-491b-b39a-3fa6c6a38b22",
     "showTitle": false,
     "title": ""
    }
   },
   "outputs": [],
   "source": []
  },
  {
   "cell_type": "code",
   "execution_count": 0,
   "metadata": {
    "application/vnd.databricks.v1+cell": {
     "cellMetadata": {},
     "inputWidgets": {},
     "nuid": "7dd78746-0572-42e1-89a5-d20fd585ac7f",
     "showTitle": false,
     "title": ""
    }
   },
   "outputs": [],
   "source": [
    "model=trainer.fit(dataset=trainingData)"
   ]
  },
  {
   "cell_type": "code",
   "execution_count": 0,
   "metadata": {
    "application/vnd.databricks.v1+cell": {
     "cellMetadata": {},
     "inputWidgets": {},
     "nuid": "acaeaf01-947d-44c6-8dfa-ba7ad8723a2d",
     "showTitle": false,
     "title": ""
    }
   },
   "outputs": [],
   "source": [
    "result=model.transform(dataset=testData)\n",
    "result = model.transform(test)"
   ]
  },
  {
   "cell_type": "code",
   "execution_count": 0,
   "metadata": {
    "application/vnd.databricks.v1+cell": {
     "cellMetadata": {},
     "inputWidgets": {},
     "nuid": "ef0922b8-ce82-4b18-9e14-50225d90d697",
     "showTitle": false,
     "title": ""
    }
   },
   "outputs": [
    {
     "output_type": "stream",
     "name": "stdout",
     "output_type": "stream",
     "text": [
      "+-----+----------------------------------------------------+------------------------------------------------------------+----------------------------------------------------------------+----------+\n|label|features                                            |rawPrediction                                               |probability                                                     |prediction|\n+-----+----------------------------------------------------+------------------------------------------------------------+----------------------------------------------------------------+----------+\n|0.0  |(4,[0,1,2,3],[-0.166667,-0.416667,0.38983,0.5])     |[20.563021846146164,-25.376755248819688,1.7402215241246344] |[0.9999999933109924,1.1184287049192863E-20,6.689007505728463E-9]|0.0       |\n|0.0  |(4,[0,1,2,3],[-0.166667,-0.333333,0.38983,0.916667])|[20.560188293342435,-25.37160175857221,1.739057831940901]   |[0.9999999932998134,1.127397412169848E-20,6.7001865469970105E-9]|0.0       |\n|0.0  |(4,[0,1,2,3],[0.111111,-0.416667,0.322034,0.416667])|[20.633705414691992,-25.505313583385327,1.7692532181455585] |[0.9999999935838795,9.163864225259879E-21,6.416120387229864E-9] |0.0       |\n|0.0  |(4,[0,1,2,3],[0.111111,-0.333333,0.38983,0.166667]) |[-0.5697173932096095,-18.272922518022433,18.727127085342687]|[4.163771833532239E-9,8.532624332836777E-17,0.999999995836228]  |2.0       |\n+-----+----------------------------------------------------+------------------------------------------------------------+----------------------------------------------------------------+----------+\nonly showing top 4 rows\n\n"
     ]
    }
   ],
   "source": [
    "result.show(truncate=False, n=4)"
   ]
  },
  {
   "cell_type": "code",
   "execution_count": 0,
   "metadata": {
    "application/vnd.databricks.v1+cell": {
     "cellMetadata": {},
     "inputWidgets": {},
     "nuid": "b90fcc07-239e-48a5-9f13-3d1af5237bf5",
     "showTitle": false,
     "title": ""
    }
   },
   "outputs": [
    {
     "output_type": "stream",
     "name": "stdout",
     "output_type": "stream",
     "text": [
      "Test Error: 0.08333333333333337\n"
     ]
    }
   ],
   "source": [
    "evaluator=MulticlassClassificationEvaluator(metricName=\"accuracy\")\n",
    "accuracy=evaluator.evaluate(dataset=result)\n",
    "print(f\"Test Error: {1-accuracy}\")"
   ]
  },
  {
   "cell_type": "code",
   "execution_count": 0,
   "metadata": {
    "application/vnd.databricks.v1+cell": {
     "cellMetadata": {},
     "inputWidgets": {},
     "nuid": "da15ab59-cfe5-46f8-8900-6730b7f1e7b8",
     "showTitle": false,
     "title": ""
    }
   },
   "outputs": [],
   "source": [
    "# Linear Support Vector Machine\n",
    "from pyspark.ml.classification import LinearSVC"
   ]
  },
  {
   "cell_type": "code",
   "execution_count": 0,
   "metadata": {
    "application/vnd.databricks.v1+cell": {
     "cellMetadata": {},
     "inputWidgets": {},
     "nuid": "30fd22c8-4abd-49a3-8b9c-990ee3084c0c",
     "showTitle": false,
     "title": ""
    }
   },
   "outputs": [
    {
     "output_type": "stream",
     "name": "stdout",
     "output_type": "stream",
     "text": [
      "+-----+-----------------------------------------------------------------------------------------------------------------------------------------------------------------------------------------------------------------------------------------------------------------------------------------------------------------------------------------------------------------------------------------------------------------------------------------------------------------------------------------------------------------------------------------------------------------------------------------------------------------------------------------------------------------------------------------------------------------------------------------------------------------------------------------------------------------------------------------------------------------------------------------------------------------------------------------------------------------------------------------------------------------------------------------------------------------------------------------------------------------------------------------------------------------------------------------------------------------------------------------------------------------------------------------------------------------------------------------------------------------------------------------------------------------------------------------------------------------------------------------------------------------------------------------------------------------------------------------------------------------------------------------------------------------------------------------------------------------------------------------------------------------------------------------------------------------------------------------------------------------------------------------------------------------------------------------------------------------------------------------------------------------------------------------------------------------------------------------------------------------------------------------------------------------------------------------------------------------------------------------------------------------------------------------------------------------------------------------------------------------------------------------------------------------------------------------------------------------------------------+\n|label|features                                                                                                                                                                                                                                                                                                                                                                                                                                                                                                                                                                                                                                                                                                                                                                                                                                                                                                                                                                                                                                                                                                                                                                                                                                                                                                                                                                                                                                                                                                                                                                                                                                                                                                                                                                                                                                                                                                                                                                                                                                                                                                                                                                                                                                                                                                                                                                                                                                                                           |\n+-----+-----------------------------------------------------------------------------------------------------------------------------------------------------------------------------------------------------------------------------------------------------------------------------------------------------------------------------------------------------------------------------------------------------------------------------------------------------------------------------------------------------------------------------------------------------------------------------------------------------------------------------------------------------------------------------------------------------------------------------------------------------------------------------------------------------------------------------------------------------------------------------------------------------------------------------------------------------------------------------------------------------------------------------------------------------------------------------------------------------------------------------------------------------------------------------------------------------------------------------------------------------------------------------------------------------------------------------------------------------------------------------------------------------------------------------------------------------------------------------------------------------------------------------------------------------------------------------------------------------------------------------------------------------------------------------------------------------------------------------------------------------------------------------------------------------------------------------------------------------------------------------------------------------------------------------------------------------------------------------------------------------------------------------------------------------------------------------------------------------------------------------------------------------------------------------------------------------------------------------------------------------------------------------------------------------------------------------------------------------------------------------------------------------------------------------------------------------------------------------------+\n|0.0  |(692,[95,96,97,123,124,125,126,152,153,154,155,156,180,181,182,183,184,185,186,187,205,206,207,208,209,210,211,212,213,214,215,216,217,232,233,234,235,238,239,240,241,242,243,244,245,246,259,260,261,262,268,269,270,271,272,273,274,287,288,289,290,299,300,301,302,303,315,316,317,328,329,330,331,343,344,345,356,357,358,370,371,372,373,383,384,385,386,398,399,400,401,410,411,412,413,414,426,427,428,429,438,439,440,441,442,454,455,456,457,466,467,468,469,482,483,484,485,493,494,495,496,510,511,512,513,514,520,521,522,523,524,539,540,541,542,543,544,547,548,549,550,551,552,567,568,569,570,571,572,573,574,575,576,577,578,579,595,596,597,598,599,600,601,602,603,604,605,606,625,626,627,628,629,630,631,632,633],[56.0,247.0,121.0,24.0,242.0,245.0,122.0,231.0,253.0,253.0,104.0,12.0,90.0,253.0,253.0,254.0,221.0,120.0,120.0,85.0,67.0,75.0,36.0,11.0,56.0,222.0,254.0,253.0,253.0,253.0,245.0,207.0,36.0,86.0,245.0,249.0,105.0,44.0,224.0,230.0,253.0,253.0,253.0,253.0,214.0,10.0,8.0,191.0,253.0,143.0,29.0,119.0,119.0,158.0,253.0,253.0,94.0,15.0,253.0,226.0,48.0,4.0,183.0,253.0,248.0,56.0,42.0,253.0,178.0,179.0,253.0,184.0,14.0,164.0,253.0,178.0,179.0,253.0,163.0,61.0,254.0,254.0,179.0,76.0,254.0,254.0,164.0,60.0,253.0,253.0,178.0,29.0,206.0,253.0,253.0,40.0,60.0,253.0,253.0,178.0,120.0,253.0,253.0,245.0,13.0,60.0,253.0,253.0,178.0,120.0,253.0,239.0,63.0,60.0,253.0,253.0,178.0,14.0,238.0,253.0,179.0,18.0,190.0,253.0,231.0,70.0,43.0,184.0,253.0,253.0,74.0,86.0,253.0,253.0,239.0,134.0,8.0,56.0,163.0,253.0,253.0,213.0,35.0,16.0,253.0,253.0,253.0,253.0,240.0,239.0,239.0,247.0,253.0,253.0,210.0,27.0,4.0,59.0,204.0,253.0,253.0,253.0,253.0,253.0,254.0,253.0,250.0,110.0,31.0,122.0,253.0,253.0,253.0,253.0,255.0,217.0,98.0])                                                                                                                                                                                                                                                                                                                                                                                                                                                                                                                                                                                                                                                                                       |\n|0.0  |(692,[98,99,100,101,126,127,128,129,130,154,155,156,157,158,159,182,183,184,185,186,187,188,208,209,210,211,212,213,214,215,216,234,235,236,237,238,239,240,241,242,243,244,245,261,262,263,264,269,270,271,272,273,288,289,290,291,292,297,298,299,300,301,316,317,318,319,320,326,327,328,329,344,345,346,347,348,355,356,357,358,371,372,373,374,375,383,384,385,386,399,400,401,402,411,412,413,414,427,428,429,430,438,439,440,441,442,455,456,457,458,466,467,468,469,483,484,485,486,493,494,495,496,497,511,512,513,514,520,521,522,523,524,525,539,540,541,542,547,548,549,550,551,552,567,568,569,570,571,572,573,574,575,576,577,578,579,580,596,597,598,599,600,601,602,603,604,605,606,625,626,627,628,629,630,631,632],[70.0,255.0,165.0,114.0,122.0,253.0,253.0,253.0,120.0,165.0,253.0,253.0,253.0,234.0,52.0,99.0,253.0,253.0,253.0,253.0,228.0,26.0,60.0,168.0,238.0,202.0,174.0,253.0,253.0,253.0,127.0,91.0,81.0,1.0,215.0,128.0,28.0,12.0,181.0,253.0,253.0,175.0,3.0,18.0,204.0,253.0,77.0,7.0,253.0,253.0,253.0,54.0,54.0,248.0,253.0,253.0,143.0,1.0,127.0,253.0,253.0,188.0,104.0,253.0,253.0,253.0,20.0,81.0,249.0,253.0,191.0,192.0,253.0,253.0,218.0,5.0,203.0,253.0,208.0,21.0,56.0,237.0,253.0,250.0,100.0,104.0,253.0,253.0,75.0,76.0,253.0,253.0,224.0,119.0,253.0,253.0,75.0,80.0,253.0,253.0,103.0,4.0,241.0,253.0,218.0,32.0,213.0,253.0,253.0,103.0,125.0,253.0,253.0,191.0,213.0,253.0,253.0,103.0,3.0,176.0,253.0,253.0,135.0,213.0,253.0,253.0,103.0,9.0,162.0,253.0,253.0,226.0,37.0,179.0,253.0,253.0,135.0,46.0,157.0,253.0,253.0,253.0,63.0,23.0,188.0,253.0,249.0,179.0,179.0,179.0,179.0,233.0,253.0,253.0,233.0,156.0,10.0,51.0,235.0,253.0,253.0,253.0,253.0,253.0,253.0,251.0,232.0,120.0,16.0,124.0,253.0,253.0,253.0,253.0,152.0,104.0])                                                                                                                                                                                                                                                                                                                                                                                                                                                                                                                                                                                                                                                                                         |\n|0.0  |(692,[100,101,102,125,126,127,128,129,130,151,152,153,154,155,156,157,158,179,180,181,182,183,186,187,207,208,209,214,215,234,235,236,242,243,262,263,264,270,271,290,291,298,299,318,319,326,327,346,347,354,355,373,374,375,382,383,401,402,403,410,411,429,430,431,438,439,457,458,459,466,467,485,486,487,493,494,495,514,515,516,520,521,522,523,542,543,544,545,547,548,549,550,551,570,571,572,573,574,575,576,577,578,599,600,601,602,603,604,605,627,628,629,630,631,632],[88.0,127.0,5.0,19.0,58.0,20.0,14.0,217.0,19.0,7.0,146.0,247.0,253.0,235.0,27.0,84.0,81.0,126.0,253.0,164.0,19.0,15.0,156.0,9.0,214.0,222.0,34.0,234.0,58.0,59.0,254.0,116.0,235.0,58.0,141.0,251.0,72.0,151.0,140.0,224.0,233.0,136.0,223.0,254.0,218.0,136.0,253.0,254.0,135.0,136.0,253.0,23.0,255.0,114.0,137.0,231.0,98.0,254.0,122.0,136.0,155.0,98.0,254.0,106.0,166.0,155.0,98.0,254.0,128.0,234.0,193.0,98.0,254.0,135.0,61.0,248.0,118.0,255.0,238.0,18.0,13.0,224.0,254.0,58.0,201.0,253.0,128.0,2.0,5.0,150.0,253.0,167.0,9.0,18.0,226.0,253.0,49.0,31.0,156.0,253.0,228.0,13.0,147.0,253.0,243.0,241.0,254.0,227.0,43.0,5.0,126.0,245.0,253.0,231.0,46.0])                                                                                                                                                                                                                                                                                                                                                                                                                                                                                                                                                                                                                                                                                                                                                                                                                                                                                                                                                                                                                                                                                                                                                                                                                                                                                                                         |\n|0.0  |(692,[121,122,123,124,125,126,127,149,150,151,152,153,154,155,156,157,176,177,178,179,180,181,182,183,184,185,186,187,203,204,205,206,207,208,209,210,211,212,213,214,215,216,217,231,232,233,234,235,236,237,238,239,240,241,242,243,244,245,246,259,260,261,262,269,270,271,272,273,274,286,287,288,289,298,299,300,301,302,303,314,315,316,317,328,329,330,331,342,343,344,345,356,357,358,359,369,370,371,372,385,386,387,397,398,399,400,413,414,415,416,425,426,427,441,442,443,444,453,454,455,469,470,471,472,481,482,483,484,496,497,498,499,509,510,511,512,523,524,525,526,527,537,538,539,540,541,542,549,550,551,552,553,554,565,566,567,568,569,570,571,572,573,575,576,577,578,579,580,581,582,594,595,596,597,598,599,600,601,602,603,604,605,606,607,608,609,623,624,625,626,627,628,629,630,631,632,633,634,635,653,654,655,656,657,658,659,660,661],[63.0,176.0,253.0,253.0,159.0,113.0,63.0,140.0,253.0,252.0,252.0,252.0,252.0,241.0,100.0,66.0,54.0,227.0,253.0,252.0,252.0,252.0,252.0,253.0,252.0,239.0,181.0,57.0,38.0,224.0,252.0,253.0,226.0,246.0,252.0,252.0,253.0,252.0,252.0,252.0,252.0,108.0,3.0,57.0,252.0,252.0,253.0,27.0,88.0,112.0,112.0,112.0,112.0,142.0,252.0,252.0,253.0,152.0,31.0,198.0,253.0,253.0,79.0,32.0,153.0,253.0,255.0,253.0,196.0,76.0,246.0,252.0,127.0,3.0,106.0,253.0,252.0,214.0,28.0,194.0,252.0,252.0,112.0,143.0,252.0,252.0,193.0,225.0,252.0,217.0,37.0,38.0,234.0,252.0,223.0,63.0,240.0,252.0,84.0,146.0,252.0,223.0,114.0,253.0,228.0,47.0,147.0,253.0,253.0,112.0,159.0,252.0,195.0,225.0,252.0,252.0,112.0,253.0,252.0,195.0,225.0,252.0,230.0,25.0,159.0,252.0,202.0,10.0,92.0,243.0,252.0,208.0,113.0,252.0,252.0,161.0,79.0,253.0,252.0,220.0,37.0,114.0,253.0,253.0,253.0,174.0,63.0,26.0,128.0,253.0,255.0,253.0,133.0,12.0,228.0,252.0,252.0,252.0,241.0,100.0,85.0,76.0,85.0,131.0,231.0,252.0,252.0,253.0,129.0,6.0,97.0,208.0,252.0,252.0,253.0,252.0,252.0,246.0,197.0,253.0,252.0,252.0,252.0,220.0,133.0,6.0,19.0,99.0,239.0,253.0,252.0,252.0,252.0,252.0,253.0,252.0,245.0,223.0,99.0,63.0,112.0,112.0,221.0,252.0,252.0,253.0,127.0,87.0])                                                                                                                                                                                                                                                                                                                                                      |\n|0.0  |(692,[123,124,125,126,127,128,129,130,131,132,133,150,151,152,153,154,155,156,157,158,159,160,161,162,177,178,179,180,181,182,183,184,185,186,187,188,189,190,205,206,207,208,209,210,212,213,214,215,216,217,218,233,234,235,236,237,238,241,242,243,244,245,246,261,262,263,264,265,266,270,271,272,273,274,275,288,289,290,291,292,293,299,300,301,302,303,315,316,317,318,319,327,328,329,330,331,342,343,344,345,346,347,355,356,357,358,359,370,371,372,373,374,375,383,384,385,386,387,398,399,400,401,402,403,411,412,413,414,415,426,427,428,429,430,431,439,440,441,442,443,454,455,456,457,458,459,467,468,469,470,471,482,483,484,485,486,493,494,495,496,497,498,510,511,512,513,514,515,520,521,522,523,524,525,526,538,539,540,541,542,543,544,545,546,547,548,549,550,551,552,553,554,566,567,568,569,570,571,572,573,574,575,576,577,578,579,580,581,594,595,596,597,598,599,600,601,602,603,604,605,606,607,622,623,624,625,626,627,628,629,630,631,632,633,634,652,653,654,655,656,657,658,659,660,661],[41.0,254.0,254.0,157.0,34.0,34.0,218.0,255.0,206.0,34.0,18.0,53.0,238.0,252.0,252.0,252.0,252.0,252.0,252.0,252.0,252.0,252.0,162.0,26.0,66.0,220.0,252.0,252.0,252.0,209.0,153.0,223.0,252.0,252.0,252.0,252.0,252.0,98.0,166.0,252.0,252.0,252.0,252.0,141.0,85.0,230.0,252.0,252.0,252.0,252.0,98.0,166.0,252.0,252.0,252.0,252.0,141.0,73.0,102.0,252.0,252.0,252.0,98.0,166.0,252.0,252.0,252.0,191.0,30.0,5.0,97.0,252.0,252.0,220.0,51.0,123.0,245.0,252.0,252.0,202.0,14.0,56.0,252.0,252.0,252.0,65.0,18.0,154.0,252.0,252.0,241.0,56.0,252.0,252.0,252.0,65.0,21.0,146.0,252.0,252.0,252.0,241.0,56.0,252.0,252.0,252.0,65.0,67.0,252.0,252.0,252.0,252.0,241.0,56.0,252.0,252.0,252.0,65.0,67.0,252.0,252.0,252.0,252.0,116.0,56.0,252.0,252.0,252.0,65.0,67.0,252.0,252.0,252.0,252.0,20.0,56.0,252.0,252.0,252.0,65.0,67.0,252.0,252.0,252.0,87.0,4.0,56.0,252.0,252.0,124.0,11.0,67.0,252.0,252.0,252.0,54.0,19.0,236.0,245.0,252.0,252.0,98.0,67.0,252.0,252.0,252.0,97.0,5.0,39.0,219.0,252.0,252.0,252.0,252.0,98.0,67.0,252.0,252.0,252.0,252.0,102.0,89.0,89.0,89.0,89.0,203.0,252.0,252.0,252.0,252.0,209.0,64.0,67.0,252.0,252.0,252.0,252.0,252.0,252.0,252.0,252.0,252.0,252.0,252.0,252.0,226.0,130.0,68.0,67.0,252.0,252.0,252.0,252.0,252.0,252.0,252.0,252.0,252.0,252.0,252.0,239.0,77.0,17.0,65.0,163.0,252.0,252.0,252.0,252.0,252.0,252.0,252.0,252.0,96.0,59.0,17.0,176.0,252.0,252.0,252.0,252.0,155.0,32.0,32.0,6.0])|\n|0.0  |(692,[123,124,125,126,127,128,129,130,150,151,152,153,154,155,156,157,158,159,178,179,180,181,182,183,184,185,186,187,188,189,204,205,206,207,208,209,210,211,212,213,214,215,216,217,218,232,233,234,235,236,241,242,243,244,245,246,260,261,262,263,270,271,272,273,274,275,286,287,288,289,290,291,299,300,301,302,303,304,314,315,316,317,318,319,327,328,329,330,331,332,341,342,343,344,345,346,356,357,358,359,360,369,370,371,372,373,374,384,385,386,387,388,397,398,399,400,401,412,413,414,415,416,425,426,427,428,429,440,441,442,443,444,453,454,455,456,457,468,469,470,471,472,481,482,483,484,485,486,495,496,497,498,499,500,509,510,511,512,513,514,515,523,524,525,526,527,537,538,539,540,541,542,543,544,550,551,552,553,554,565,566,567,568,569,570,571,572,573,574,575,576,577,578,579,580,581,582,596,597,598,599,600,601,602,603,604,605,606,607,608,609,624,625,626,627,628,629,630,631,632,633,634,635,636,654,655,656,657,658,659,660,661,662,663],[66.0,254.0,254.0,58.0,60.0,59.0,59.0,50.0,73.0,233.0,253.0,253.0,148.0,254.0,253.0,253.0,232.0,73.0,156.0,253.0,253.0,253.0,117.0,255.0,253.0,253.0,253.0,223.0,176.0,162.0,37.0,116.0,246.0,253.0,180.0,18.0,4.0,18.0,109.0,241.0,253.0,253.0,253.0,236.0,28.0,235.0,253.0,253.0,245.0,107.0,109.0,170.0,253.0,253.0,253.0,174.0,235.0,253.0,253.0,233.0,15.0,156.0,253.0,253.0,223.0,72.0,10.0,156.0,250.0,253.0,253.0,67.0,99.0,253.0,253.0,253.0,127.0,5.0,118.0,253.0,253.0,253.0,204.0,26.0,68.0,223.0,253.0,253.0,253.0,57.0,32.0,191.0,253.0,253.0,253.0,97.0,156.0,253.0,253.0,253.0,57.0,59.0,253.0,253.0,253.0,253.0,97.0,36.0,224.0,253.0,253.0,57.0,60.0,254.0,255.0,254.0,156.0,37.0,226.0,254.0,254.0,58.0,59.0,253.0,253.0,253.0,154.0,156.0,253.0,253.0,253.0,57.0,59.0,253.0,253.0,253.0,154.0,156.0,253.0,253.0,253.0,57.0,59.0,253.0,253.0,253.0,246.0,90.0,16.0,171.0,253.0,253.0,231.0,49.0,59.0,253.0,253.0,253.0,253.0,156.0,91.0,99.0,253.0,253.0,222.0,71.0,59.0,253.0,253.0,253.0,253.0,253.0,245.0,109.0,145.0,194.0,253.0,253.0,174.0,9.0,38.0,174.0,251.0,253.0,253.0,253.0,241.0,215.0,215.0,217.0,215.0,215.0,250.0,253.0,253.0,221.0,26.0,235.0,253.0,253.0,253.0,253.0,253.0,253.0,254.0,253.0,253.0,253.0,253.0,204.0,26.0,108.0,116.0,200.0,253.0,253.0,253.0,253.0,254.0,253.0,253.0,253.0,199.0,44.0,36.0,57.0,118.0,253.0,253.0,58.0,57.0,57.0,57.0,35.0])                                                                                                  |\n|0.0  |(692,[123,124,125,126,127,150,151,152,153,154,155,156,177,178,179,180,181,182,183,184,185,186,204,205,206,207,208,209,210,211,212,213,214,215,216,232,233,234,235,236,237,238,239,240,241,242,243,244,245,259,260,261,262,265,266,269,270,271,272,273,274,286,287,288,289,290,299,300,301,302,303,313,314,315,316,317,327,328,329,330,331,341,342,343,344,356,357,358,359,360,369,370,371,372,384,385,386,387,388,397,398,399,413,414,415,416,425,426,427,442,443,444,453,454,455,470,471,472,481,482,483,484,498,499,500,509,510,511,512,525,526,527,528,537,538,539,540,541,551,552,553,554,555,556,565,566,567,568,569,570,571,572,573,574,575,576,577,578,579,580,581,582,583,595,596,597,598,599,600,601,602,603,604,605,606,607,608,609,610,624,625,626,627,628,629,630,631,632,633,634,635,636,637,655,656,657,658,659,660,661,662],[20.0,121.0,197.0,253.0,64.0,23.0,200.0,252.0,252.0,252.0,184.0,6.0,25.0,197.0,252.0,252.0,252.0,252.0,253.0,228.0,107.0,15.0,26.0,196.0,252.0,252.0,252.0,252.0,252.0,253.0,252.0,252.0,219.0,178.0,21.0,186.0,252.0,238.0,94.0,67.0,224.0,217.0,53.0,109.0,245.0,252.0,252.0,213.0,63.0,98.0,242.0,252.0,101.0,39.0,31.0,109.0,128.0,241.0,252.0,207.0,97.0,17.0,230.0,252.0,241.0,56.0,109.0,252.0,252.0,229.0,17.0,13.0,192.0,252.0,243.0,96.0,25.0,127.0,252.0,252.0,120.0,121.0,252.0,252.0,165.0,125.0,252.0,252.0,246.0,70.0,190.0,252.0,252.0,39.0,26.0,210.0,252.0,252.0,119.0,255.0,253.0,159.0,22.0,209.0,253.0,183.0,253.0,252.0,103.0,34.0,252.0,252.0,253.0,252.0,26.0,27.0,252.0,252.0,253.0,252.0,168.0,13.0,70.0,252.0,209.0,147.0,252.0,252.0,75.0,68.0,233.0,252.0,119.0,121.0,252.0,252.0,189.0,40.0,15.0,82.0,231.0,252.0,214.0,31.0,38.0,135.0,248.0,252.0,231.0,145.0,41.0,41.0,41.0,41.0,20.0,24.0,37.0,83.0,194.0,252.0,252.0,212.0,33.0,83.0,213.0,252.0,252.0,252.0,252.0,252.0,252.0,204.0,213.0,243.0,252.0,252.0,252.0,212.0,34.0,34.0,140.0,238.0,248.0,252.0,252.0,252.0,253.0,252.0,252.0,241.0,238.0,238.0,75.0,82.0,119.0,119.0,119.0,120.0,119.0,119.0,19.0])                                                                                                                                                                                                                                                                                                                                                                                                                                      |\n|0.0  |(692,[124,125,126,127,128,129,130,131,150,151,152,153,154,155,156,157,158,159,160,162,163,164,177,178,179,180,181,182,183,184,185,186,187,188,190,191,192,204,205,206,207,208,209,210,211,212,213,214,215,216,218,219,220,231,232,233,234,235,236,237,238,239,240,241,242,243,244,246,247,248,258,259,260,261,262,263,264,274,275,276,285,286,287,288,289,290,291,302,303,304,313,314,315,316,317,330,331,332,341,342,343,344,345,357,358,359,360,369,370,371,372,373,385,386,387,388,397,398,399,400,413,414,415,416,425,426,427,428,429,440,441,442,443,444,453,454,455,456,457,468,469,470,471,472,481,482,483,484,485,496,497,498,499,500,509,510,511,512,513,523,524,525,526,527,528,537,538,539,540,541,542,543,544,545,546,548,549,550,551,552,553,554,566,567,568,569,570,571,572,573,574,575,576,577,578,579,580,581,582,594,595,596,597,598,599,600,601,602,603,604,605,606,607,608,609,623,624,625,626,627,628,629,630,631,632,633,634,635,651,652,653,654,655,656,657,658,659,660,661,662],[22.0,183.0,252.0,254.0,252.0,252.0,252.0,76.0,85.0,85.0,168.0,250\n\n*** WARNING: max output size exceeded, skipping output. ***\n\n                                                                                                                                                                                                                                                                                                                                                                                                                                                                                                                                                                                                                                                                                                                                                                                                                                                                                                                                                                                                                                                    |\n|0.0  |(692,[124,125,126,127,128,152,153,154,155,156,157,158,179,180,181,182,183,184,185,186,187,207,208,209,210,211,212,213,214,215,216,234,235,236,237,238,240,241,242,243,244,261,262,263,264,265,269,270,271,272,289,290,291,292,297,298,299,300,317,318,319,320,326,327,328,344,345,346,347,354,355,356,357,372,373,374,375,382,383,384,385,400,401,402,411,412,428,429,430,439,440,455,456,457,458,466,467,468,483,484,485,486,493,494,495,496,511,512,513,514,520,521,522,523,524,540,541,542,543,544,546,547,548,549,550,551,552,568,569,570,571,572,573,574,575,576,577,578,579,580,596,597,598,599,600,601,602,603,604,605,606,607,625,626,627,628,629,630,631,632,633,634,654,655,656,657,658,659,660,661],[57.0,255.0,253.0,198.0,85.0,168.0,253.0,251.0,253.0,251.0,169.0,56.0,86.0,253.0,254.0,253.0,254.0,253.0,254.0,253.0,57.0,197.0,251.0,253.0,251.0,253.0,251.0,253.0,251.0,225.0,56.0,169.0,255.0,253.0,226.0,56.0,114.0,254.0,253.0,254.0,84.0,57.0,224.0,253.0,251.0,56.0,139.0,251.0,253.0,83.0,141.0,253.0,255.0,84.0,57.0,225.0,254.0,196.0,253.0,251.0,253.0,83.0,168.0,253.0,83.0,169.0,254.0,253.0,169.0,169.0,254.0,253.0,169.0,168.0,253.0,251.0,56.0,168.0,253.0,251.0,56.0,169.0,254.0,84.0,254.0,253.0,168.0,253.0,83.0,253.0,251.0,29.0,197.0,254.0,84.0,169.0,254.0,196.0,85.0,251.0,253.0,83.0,57.0,224.0,253.0,83.0,57.0,225.0,254.0,139.0,57.0,141.0,253.0,254.0,84.0,168.0,253.0,251.0,169.0,56.0,114.0,169.0,224.0,253.0,251.0,253.0,83.0,169.0,254.0,253.0,254.0,253.0,254.0,253.0,254.0,253.0,254.0,253.0,226.0,56.0,56.0,253.0,251.0,253.0,251.0,253.0,251.0,253.0,251.0,253.0,251.0,56.0,169.0,225.0,254.0,253.0,254.0,253.0,254.0,253.0,226.0,56.0,56.0,253.0,251.0,253.0,251.0,84.0,83.0,56.0])                                                                                                                                                                                                                                                                                                                                                                                                                                                                                                                                                                                                                                                                                                                                            |\n|0.0  |(692,[126,127,128,129,130,131,132,133,154,155,156,157,158,159,160,161,181,182,183,184,185,186,187,188,189,190,207,208,209,210,211,212,213,214,215,216,217,218,219,235,236,237,238,239,240,241,242,243,244,245,246,247,263,264,265,266,267,270,271,272,273,274,275,289,290,291,292,293,294,295,298,299,300,301,302,303,316,317,318,319,320,321,322,328,329,330,331,344,345,346,347,348,349,350,356,357,358,359,371,372,373,374,375,376,377,384,385,386,387,398,399,400,401,402,403,404,411,412,413,414,415,426,427,428,429,430,431,438,439,440,441,442,443,453,454,455,456,457,458,459,465,466,467,468,469,470,481,482,483,484,485,486,487,490,491,492,493,494,495,496,497,498,509,510,511,512,513,517,518,519,520,521,522,523,524,525,537,538,539,540,541,542,543,544,545,546,547,548,549,550,551,552,553,565,566,567,568,569,570,571,572,573,574,575,576,577,578,579,594,595,596,597,598,599,600,601,602,603,604,605,606,622,623,624,625,626,627,628,629,630,631,632,652,653,654,655,656,657,658],[46.0,105.0,254.0,254.0,224.0,59.0,59.0,9.0,196.0,254.0,253.0,253.0,253.0,253.0,253.0,128.0,96.0,235.0,254.0,253.0,253.0,253.0,253.0,253.0,247.0,122.0,4.0,101.0,244.0,253.0,254.0,234.0,241.0,253.0,253.0,253.0,253.0,186.0,18.0,96.0,253.0,253.0,253.0,232.0,83.0,109.0,170.0,253.0,253.0,253.0,253.0,116.0,215.0,253.0,253.0,253.0,196.0,40.0,253.0,253.0,253.0,253.0,116.0,8.0,141.0,247.0,253.0,253.0,237.0,29.0,6.0,38.0,171.0,253.0,253.0,116.0,13.0,146.0,253.0,253.0,253.0,253.0,57.0,156.0,253.0,253.0,116.0,40.0,253.0,253.0,253.0,253.0,178.0,27.0,156.0,253.0,253.0,116.0,136.0,204.0,253.0,253.0,253.0,192.0,27.0,156.0,253.0,253.0,116.0,28.0,195.0,254.0,254.0,254.0,250.0,135.0,99.0,255.0,254.0,254.0,117.0,118.0,253.0,253.0,253.0,253.0,142.0,19.0,170.0,253.0,253.0,216.0,62.0,42.0,212.0,253.0,253.0,253.0,253.0,38.0,124.0,188.0,253.0,253.0,253.0,174.0,59.0,253.0,253.0,253.0,237.0,93.0,3.0,31.0,40.0,130.0,247.0,253.0,253.0,253.0,204.0,13.0,59.0,253.0,253.0,253.0,154.0,54.0,218.0,254.0,253.0,253.0,253.0,253.0,253.0,38.0,59.0,253.0,253.0,253.0,215.0,156.0,156.0,156.0,209.0,253.0,255.0,253.0,253.0,253.0,192.0,97.0,15.0,55.0,242.0,253.0,253.0,253.0,253.0,253.0,253.0,253.0,253.0,254.0,253.0,253.0,204.0,23.0,118.0,253.0,253.0,253.0,253.0,253.0,253.0,253.0,253.0,254.0,216.0,174.0,13.0,54.0,116.0,243.0,253.0,253.0,253.0,253.0,253.0,146.0,117.0,62.0,53.0,132.0,253.0,253.0,192.0,57.0,13.0])                                      |\n|0.0  |(692,[126,127,128,129,130,131,132,152,153,154,155,156,157,158,159,160,179,180,181,182,183,184,185,186,187,188,189,206,207,208,209,210,215,216,217,234,235,236,237,243,244,245,261,262,263,264,268,269,271,272,273,288,289,290,291,295,296,297,298,299,300,301,316,317,318,319,323,324,325,326,327,328,329,343,344,345,346,351,352,353,354,355,371,372,373,374,381,382,383,399,400,401,402,409,410,411,412,427,428,429,437,438,439,440,454,455,456,457,466,467,468,482,483,484,494,495,496,510,511,512,513,522,523,524,539,540,541,542,549,550,551,552,567,568,569,570,571,575,576,577,578,579,595,596,597,598,599,600,601,602,603,604,605,606,607,624,625,626,627,628,629,630,631,632,633,634,654,655,656,657,658,659,660],[37.0,141.0,156.0,156.0,194.0,194.0,47.0,11.0,132.0,239.0,253.0,253.0,253.0,253.0,254.0,181.0,25.0,172.0,253.0,235.0,167.0,78.0,93.0,174.0,254.0,247.0,54.0,26.0,210.0,253.0,237.0,90.0,201.0,253.0,78.0,192.0,253.0,237.0,58.0,156.0,253.0,78.0,141.0,254.0,235.0,53.0,19.0,5.0,156.0,254.0,78.0,46.0,254.0,253.0,92.0,17.0,226.0,217.0,49.0,148.0,253.0,78.0,165.0,254.0,239.0,24.0,20.0,253.0,253.0,58.0,18.0,115.0,24.0,37.0,248.0,254.0,91.0,2.0,117.0,250.0,163.0,91.0,77.0,253.0,254.0,39.0,196.0,253.0,173.0,159.0,254.0,218.0,15.0,77.0,254.0,255.0,61.0,234.0,253.0,113.0,21.0,226.0,254.0,135.0,25.0,240.0,253.0,68.0,195.0,254.0,135.0,79.0,253.0,253.0,195.0,254.0,135.0,79.0,253.0,253.0,76.0,195.0,254.0,99.0,212.0,254.0,209.0,9.0,10.0,209.0,196.0,15.0,54.0,253.0,254.0,137.0,36.0,2.0,20.0,168.0,253.0,60.0,28.0,235.0,254.0,253.0,199.0,124.0,79.0,79.0,167.0,253.0,253.0,185.0,30.0,15.0,117.0,217.0,253.0,253.0,253.0,254.0,253.0,240.0,109.0,12.0,27.0,126.0,208.0,253.0,193.0,147.0,40.0])                                                                                                                                                                                                                                                                                                                                                                                                                                                                                                                                                                                                                                                                                                                                      |\n|0.0  |(692,[126,127,128,129,130,131,153,154,155,156,157,158,159,181,182,183,184,185,186,187,188,207,208,209,210,211,214,215,216,234,235,236,237,238,243,244,245,261,262,263,264,265,266,267,271,272,273,289,290,291,292,293,294,300,301,316,317,318,319,320,321,328,329,330,344,345,346,348,349,356,357,358,372,373,374,376,377,384,385,386,399,400,401,412,413,414,427,428,429,430,439,440,441,442,455,456,457,467,468,469,483,484,485,495,496,497,511,512,513,523,524,525,540,541,542,550,551,552,553,568,569,570,576,577,578,579,580,596,597,598,599,600,601,602,603,604,605,606,607,625,626,627,628,629,630,631,632,633,634,654,655,656,657,658,659,660],[28.0,164.0,254.0,233.0,148.0,11.0,3.0,164.0,254.0,234.0,225.0,254.0,204.0,91.0,254.0,235.0,48.0,32.0,166.0,251.0,92.0,33.0,111.0,214.0,205.0,49.0,24.0,216.0,210.0,34.0,217.0,254.0,254.0,211.0,87.0,237.0,43.0,34.0,216.0,254.0,254.0,252.0,243.0,61.0,38.0,248.0,182.0,171.0,254.0,184.0,205.0,175.0,36.0,171.0,227.0,28.0,234.0,190.0,13.0,193.0,157.0,124.0,238.0,26.0,140.0,254.0,131.0,129.0,157.0,124.0,254.0,95.0,201.0,238.0,56.0,70.0,103.0,124.0,254.0,148.0,62.0,255.0,210.0,150.0,254.0,122.0,86.0,254.0,201.0,15.0,28.0,237.0,246.0,44.0,128.0,254.0,143.0,34.0,243.0,227.0,62.0,254.0,210.0,58.0,249.0,179.0,30.0,240.0,210.0,207.0,254.0,64.0,216.0,231.0,34.0,129.0,248.0,170.0,9.0,131.0,254.0,170.0,17.0,129.0,248.0,225.0,24.0,50.0,245.0,245.0,184.0,106.0,106.0,106.0,133.0,231.0,254.0,244.0,53.0,67.0,249.0,254.0,254.0,254.0,254.0,254.0,251.0,193.0,40.0,38.0,157.0,248.0,166.0,166.0,139.0,57.0])                                                                                                                                                                                                                                                                                                                                                                                                                                                                                                                                                                                                                                                                                                                                                                                                                                                                                               |\n|0.0  |(692,[126,127,128,129,130,152,153,154,155,156,157,158,179,180,181,182,183,184,185,186,187,188,207,208,209,210,211,212,213,214,215,216,234,235,236,237,238,239,240,241,242,243,244,261,262,263,264,265,266,267,268,269,270,271,272,289,290,291,292,293,294,296,297,298,299,300,317,318,319,320,321,322,324,325,326,327,328,344,345,346,347,348,349,353,354,355,356,371,372,373,374,375,376,377,381,382,383,384,399,400,401,402,403,410,411,412,427,428,429,430,431,438,439,440,455,456,457,458,459,466,467,468,483,484,485,486,487,493,494,495,496,511,512,513,514,520,521,522,523,524,539,540,541,542,546,547,548,549,550,551,567,568,569,570,571,572,573,574,575,576,577,578,595,596,597,598,599,600,601,602,603,604,605,606,623,624,625,626,627,628,629,630,631,632,633,634,651,652,653,654,655,656,657,658,659,660],[68.0,254.0,255.0,254.0,107.0,11.0,176.0,230.0,253.0,253.0,253.0,212.0,28.0,197.0,253.0,253.0,253.0,253.0,253.0,229.0,107.0,14.0,194.0,253.0,253.0,253.0,253.0,253.0,253.0,253.0,253.0,53.0,69.0,241.0,253.0,253.0,253.0,253.0,241.0,186.0,253.0,253.0,195.0,10.0,161.0,253.0,253.0,253.0,246.0,40.0,57.0,231.0,253.0,253.0,195.0,140.0,253.0,253.0,253.0,253.0,154.0,25.0,253.0,253.0,253.0,195.0,213.0,253.0,253.0,253.0,135.0,8.0,3.0,128.0,253.0,253.0,195.0,77.0,238.0,253.0,253.0,253.0,7.0,116.0,253.0,253.0,195.0,11.0,165.0,253.0,253.0,231.0,70.0,1.0,78.0,237.0,253.0,195.0,33.0,253.0,253.0,253.0,182.0,200.0,253.0,195.0,98.0,253.0,253.0,253.0,24.0,42.0,253.0,195.0,197.0,253.0,253.0,253.0,24.0,163.0,253.0,195.0,197.0,253.0,253.0,189.0,13.0,53.0,227.0,253.0,121.0,197.0,253.0,253.0,114.0,21.0,227.0,253.0,231.0,27.0,197.0,253.0,253.0,114.0,5.0,131.0,143.0,253.0,231.0,59.0,197.0,253.0,253.0,236.0,73.0,58.0,217.0,223.0,253.0,253.0,253.0,174.0,197.0,253.0,253.0,253.0,253.0,253.0,253.0,253.0,253.0,253.0,253.0,48.0,149.0,253.0,253.0,253.0,253.0,253.0,253.0,253.0,253.0,182.0,15.0,3.0,12.0,168.0,253.0,253.0,253.0,253.0,253.0,248.0,89.0,23.0])                                                                                                                                                                                                                                                                                                                                                                                                                                                                             |\n|0.0  |(692,[127,128,129,130,131,154,155,156,157,158,159,181,182,183,184,185,186,187,188,189,207,208,209,210,211,212,213,214,215,216,217,235,236,237,238,239,240,241,242,243,244,245,262,263,264,265,266,267,268,269,270,271,272,273,289,290,291,292,293,294,295,296,297,300,301,302,316,317,318,319,320,321,328,329,330,343,344,345,346,347,348,349,356,357,358,371,372,373,374,384,385,386,399,400,401,412,413,414,426,427,428,429,440,441,442,454,455,456,457,466,467,468,469,470,482,483,484,493,494,495,496,497,510,511,512,520,521,522,523,538,539,540,547,548,549,550,566,567,568,569,570,571,572,573,574,575,576,577,578,594,595,596,597,598,599,600,601,602,603,604,622,623,624,625,626,627,628,629,630,651,652,653,654,655,656,657],[51.0,159.0,253.0,159.0,50.0,48.0,238.0,252.0,252.0,252.0,237.0,54.0,227.0,253.0,252.0,239.0,233.0,252.0,57.0,6.0,10.0,60.0,224.0,252.0,253.0,252.0,202.0,84.0,252.0,253.0,122.0,163.0,252.0,252.0,252.0,253.0,252.0,252.0,96.0,189.0,253.0,167.0,51.0,238.0,253.0,253.0,190.0,114.0,253.0,228.0,47.0,79.0,255.0,168.0,48.0,238.0,252.0,252.0,179.0,12.0,75.0,121.0,21.0,253.0,243.0,50.0,38.0,165.0,253.0,233.0,208.0,84.0,253.0,252.0,165.0,7.0,178.0,252.0,240.0,71.0,19.0,28.0,253.0,252.0,195.0,57.0,252.0,252.0,63.0,253.0,252.0,195.0,198.0,253.0,190.0,255.0,253.0,196.0,76.0,246.0,252.0,112.0,253.0,252.0,148.0,85.0,252.0,230.0,25.0,7.0,135.0,253.0,186.0,12.0,85.0,252.0,223.0,7.0,131.0,252.0,225.0,71.0,85.0,252.0,145.0,48.0,165.0,252.0,173.0,86.0,253.0,225.0,114.0,238.0,253.0,162.0,85.0,252.0,249.0,146.0,48.0,29.0,85.0,178.0,225.0,253.0,223.0,167.0,56.0,85.0,252.0,252.0,252.0,229.0,215.0,252.0,252.0,252.0,196.0,130.0,28.0,199.0,252.0,252.0,253.0,252.0,252.0,233.0,145.0,25.0,128.0,252.0,253.0,252.0,141.0,37.0])                                                                                                                                                                                                                                                                                                                                                                                                                                                                                                                                                                                                                                                                                            |\n|0.0  |(692,[127,128,129,130,131,155,156,157,158,159,181,182,183,184,185,186,187,209,210,211,212,213,214,215,216,237,238,239,240,241,242,243,244,245,263,264,265,266,267,268,269,270,271,272,273,291,292,293,294,295,296,297,298,299,300,301,302,317,318,319,320,321,322,323,324,325,326,327,328,329,330,344,345,346,347,348,349,353,354,355,356,357,358,372,373,374,375,376,377,381,382,383,384,385,386,399,400,401,402,403,404,409,410,411,412,413,414,427,428,429,430,431,437,438,439,440,441,455,456,457,458,459,460,465,466,467,468,483,484,485,486,487,488,491,492,493,494,495,496,511,512,513,514,515,519,520,521,522,523,539,540,541,542,543,544,545,546,547,548,549,550,567,568,569,570,571,572,573,574,575,576,577,578,595,596,597,598,599,600,601,602,603,604,605,623,624,625,626,627,628,629,630,631,652,653,654,655,656,657,658],[73.0,253.0,227.0,73.0,21.0,73.0,251.0,251.0,251.0,174.0,16.0,166.0,228.0,251.0,251.0,251.0,122.0,62.0,220.0,253.0,251.0,251.0,251.0,251.0,79.0,79.0,231.0,253.0,251.0,251.0,251.0,251.0,232.0,77.0,145.0,253.0,253.0,253.0,255.0,253.0,253.0,253.0,253.0,255.0,108.0,144.0,251.0,251.0,251.0,253.0,168.0,107.0,169.0,251.0,253.0,189.0,20.0,27.0,89.0,236.0,251.0,235.0,215.0,164.0,15.0,6.0,129.0,251.0,253.0,251.0,35.0,47.0,211.0,253.0,251.0,251.0,142.0,37.0,251.0,251.0,253.0,251.0,35.0,109.0,251.0,253.0,251.0,251.0,142.0,11.0,148.0,251.0,253.0,251.0,164.0,11.0,150.0,253.0,255.0,211.0,25.0,11.0,150.0,253.0,255.0,211.0,25.0,140.0,251.0,251.0,253.0,107.0,37.0,251.0,251.0,211.0,46.0,190.0,251.0,251.0,253.0,128.0,5.0,37.0,251.0,251.0,51.0,115.0,251.0,251.0,253.0,188.0,20.0,32.0,109.0,129.0,251.0,173.0,103.0,217.0,251.0,251.0,201.0,30.0,73.0,251.0,251.0,251.0,71.0,166.0,253.0,253.0,255.0,149.0,73.0,150.0,253.0,255.0,253.0,253.0,143.0,140.0,251.0,251.0,253.0,251.0,251.0,251.0,251.0,253.0,251.0,230.0,61.0,190.0,251.0,251.0,253.0,251.0,251.0,251.0,251.0,242.0,215.0,55.0,21.0,189.0,251.0,253.0,251.0,251.0,251.0,173.0,103.0,31.0,200.0,253.0,251.0,96.0,71.0,20.0])                                                                                                                                                                                                                                                                                                                                                                                                                                     |\n|0.0  |(692,[127,128,129,154,155,156,157,181,182,183,184,185,186,187,208,209,210,211,212,213,214,215,216,217,235,236,237,238,239,240,241,242,243,244,245,262,263,264,265,266,267,268,269,270,271,272,273,274,290,291,292,293,296,297,298,299,300,301,302,317,318,319,320,321,326,327,328,329,330,331,344,345,346,347,348,357,358,359,371,372,373,374,375,376,385,386,387,399,400,401,402,403,412,413,414,415,426,427,428,429,430,440,441,442,443,454,455,456,457,468,469,470,471,482,483,484,485,495,496,497,498,510,511,512,523,524,525,526,538,539,540,548,549,550,551,552,553,566,567,568,569,574,575,576,577,578,579,580,581,594,595,596,597,598,599,600,601,602,603,604,605,606,607,608,623,624,625,626,627,628,629,630,631,632,633,651,652,653,654,655,656,657,658,659],[87.0,208.0,249.0,27.0,212.0,254.0,195.0,118.0,225.0,254.0,254.0,232.0,147.0,46.0,115.0,248.0,254.0,254.0,254.0,254.0,254.0,230.0,148.0,12.0,18.0,250.0,254.0,245.0,226.0,254.0,254.0,254.0,254.0,254.0,148.0,92.0,205.0,254.0,250.0,101.0,20.0,194.0,254.0,254.0,254.0,254.0,229.0,53.0,152.0,254.0,254.0,94.0,14.0,124.0,187.0,254.0,254.0,254.0,213.0,95.0,252.0,254.0,206.0,15.0,3.0,6.0,51.0,231.0,254.0,94.0,50.0,246.0,254.0,254.0,20.0,200.0,254.0,96.0,21.0,184.0,254.0,254.0,147.0,2.0,200.0,254.0,96.0,177.0,254.0,254.0,218.0,33.0,16.0,211.0,254.0,96.0,11.0,219.0,254.0,251.0,92.0,84.0,254.0,232.0,44.0,101.0,254.0,254.0,141.0,162.0,254.0,231.0,42.0,235.0,254.0,227.0,42.0,51.0,238.0,254.0,213.0,235.0,254.0,199.0,160.0,254.0,229.0,52.0,235.0,254.0,199.0,10.0,84.0,150.0,253.0,254.0,147.0,235.0,254.0,213.0,20.0,17.0,63.0,158.0,254.0,254.0,254.0,155.0,12.0,122.0,248.0,254.0,204.0,98.0,42.0,177.0,180.0,200.0,254.0,254.0,253.0,213.0,82.0,10.0,203.0,254.0,254.0,254.0,254.0,254.0,254.0,254.0,251.0,219.0,94.0,35.0,221.0,254.0,254.0,254.0,254.0,254.0,217.0,95.0])                                                                                                                                                                                                                                                                                                                                                                                                                                                                                                                                                                                                           |\n|0.0  |(692,[128,129,130,131,132,133,155,156,157,158,159,160,161,162,181,182,183,184,185,186,187,188,189,190,208,209,210,211,212,213,214,215,216,217,218,219,236,237,238,239,240,241,242,243,244,245,246,247,261,262,263,264,265,266,267,268,269,270,271,272,273,274,275,289,290,291,292,293,294,295,296,297,298,300,301,302,303,316,317,318,319,320,321,322,323,324,325,326,328,329,330,331,343,344,345,346,347,348,349,350,352,353,356,357,358,359,370,371,372,373,374,375,376,384,385,386,387,398,399,400,401,402,411,412,413,414,415,425,426,427,428,429,438,439,440,441,442,453,454,455,456,457,466,467,468,469,470,480,481,482,483,484,492,493,494,495,496,497,498,508,509,510,511,512,513,519,520,521,522,523,524,525,536,537,538,539,540,541,545,546,547,548,549,550,551,552,564,565,566,567,568,569,570,571,572,573,574,575,576,577,578,593,594,595,596,597,598,599,600,601,602,603,604,605,606,622,623,624,625,626,627,628,629,630,631,650,651,652,653,654,655,656,657,658],[105.0,255.0,219.0,67.0,67.0,52.0,20.0,181.0,253.0,253.0,253.0,253.0,226.0,69.0,4.0,129.0,206.0,253.0,253.0,253.0,253.0,253.0,253.0,130.0,9.0,141.0,253.0,253.0,253.0,253.0,253.0,253.0,253.0,253.0,166.0,20.0,134.0,253.0,253.0,253.0,253.0,253.0,253.0,253.0,253.0,253.0,253.0,65.0,2.0,83.0,207.0,246.0,253.0,253.0,253.0,253.0,253.0,249.0,234.0,247.0,253.0,253.0,65.0,83.0,253.0,253.0,253.0,253.0,253.0,189.0,253.0,253.0,205.0,179.0,253.0,253.0,65.0,85.0,234.0,253.0,253.0,253.0,253.0,157.0,26.0,164.0,151.0,83.0,179.0,253.0,253.0,65.0,65.0,237.0,253.0,253.0,253.0,67.0,36.0,14.0,15.0,12.0,179.0,253.0,253.0,65.0,4.0,141.0,253.0,253.0,221.0,158.0,23.0,179.0,253.0,253.0,65.0,129.0,253.0,253.0,241.0,62.0,72.0,226.0,253.0,175.0,24.0,119.0,247.0,253.0,253.0,206.0,8.0,134.0,253.0,253.0,130.0,132.0,253.0,253.0,194.0,27.0,125.0,253.0,253.0,253.0,130.0,45.0,213.0,253.0,253.0,112.0,70.0,170.0,247.0,253.0,253.0,89.0,43.0,67.0,253.0,253.0,196.0,55.0,9.0,8.0,131.0,253.0,253.0,253.0,86.0,1.0,67.0,253.0,253.0,253.0,253.0,129.0,43.0,114.0,134.0,253.0,253.0,231.0,139.0,41.0,20.0,167.0,253.0,253.0,253.0,247.0,179.0,179.0,179.0,206.0,253.0,253.0,253.0,253.0,72.0,103.0,240.0,253.0,253.0,253.0,253.0,253.0,253.0,253.0,253.0,244.0,119.0,8.0,1.0,107.0,253.0,253.0,253.0,253.0,253.0,253.0,253.0,175.0,111.0,3.0,121.0,253.0,253.0,253.0,253.0,253.0,182.0,24.0])                                                                                                     |\n+-----+-----------------------------------------------------------------------------------------------------------------------------------------------------------------------------------------------------------------------------------------------------------------------------------------------------------------------------------------------------------------------------------------------------------------------------------------------------------------------------------------------------------------------------------------------------------------------------------------------------------------------------------------------------------------------------------------------------------------------------------------------------------------------------------------------------------------------------------------------------------------------------------------------------------------------------------------------------------------------------------------------------------------------------------------------------------------------------------------------------------------------------------------------------------------------------------------------------------------------------------------------------------------------------------------------------------------------------------------------------------------------------------------------------------------------------------------------------------------------------------------------------------------------------------------------------------------------------------------------------------------------------------------------------------------------------------------------------------------------------------------------------------------------------------------------------------------------------------------------------------------------------------------------------------------------------------------------------------------------------------------------------------------------------------------------------------------------------------------------------------------------------------------------------------------------------------------------------------------------------------------------------------------------------------------------------------------------------------------------------------------------------------------------------------------------------------------------------------------------------------+\nonly showing top 20 rows\n\n"
     ]
    }
   ],
   "source": [
    "trainingData.show(truncate=False)"
   ]
  },
  {
   "cell_type": "code",
   "execution_count": 0,
   "metadata": {
    "application/vnd.databricks.v1+cell": {
     "cellMetadata": {},
     "inputWidgets": {},
     "nuid": "18a2912a-aa86-43be-8948-388acd98cabc",
     "showTitle": false,
     "title": ""
    }
   },
   "outputs": [],
   "source": [
    "lsvc=LinearSVC(featuresCol=\"indexedFeatures\",labelCol=\"indexedLabel\")\n",
    "\n",
    "pipeline=Pipeline(stages=(labelIndexer,featureIndexer,lsvc,))"
   ]
  },
  {
   "cell_type": "code",
   "execution_count": 0,
   "metadata": {
    "application/vnd.databricks.v1+cell": {
     "cellMetadata": {},
     "inputWidgets": {},
     "nuid": "1d8ed59b-14d1-4c91-aadc-ed063bcbddc0",
     "showTitle": false,
     "title": ""
    }
   },
   "outputs": [],
   "source": [
    "model=pipeline.fit(dataset=trainingData)"
   ]
  },
  {
   "cell_type": "code",
   "execution_count": 0,
   "metadata": {
    "application/vnd.databricks.v1+cell": {
     "cellMetadata": {},
     "inputWidgets": {},
     "nuid": "0cac6bab-adf4-43c2-9a0e-2ff7b3851ab9",
     "showTitle": false,
     "title": ""
    }
   },
   "outputs": [],
   "source": [
    "predictions=model.transform(dataset=testData)"
   ]
  },
  {
   "cell_type": "code",
   "execution_count": 0,
   "metadata": {
    "application/vnd.databricks.v1+cell": {
     "cellMetadata": {},
     "inputWidgets": {},
     "nuid": "f093fc37-6a76-46b9-904b-48af9191f7c8",
     "showTitle": false,
     "title": ""
    }
   },
   "outputs": [
    {
     "output_type": "stream",
     "name": "stdout",
     "output_type": "stream",
     "text": [
      "+-----+---------------------------------------------------------------------------------------------------------------------------------------------------------------------------------------------------------------------------------------------------------------------------------------------------------------------------------------------------------------------------------------------------------------------------------------------------------------------------------------------------------------------------------------------------------------------------------------------------------------------------------------------------------------------------------------------------------------------------------------------------------------------------------------------------------------------------------------------------------------------------------------------------------------------------------------------------------------------------------------------------------------------------------------------------------------------------------------------------------------------------------------------------------------------------------------------------------------------------------------------------------------------------------------------------------------------------------------------------------------------------------------------------------------------------------------------------------------------------------------------------------------------------------------------------------------------------------------------------------------------------------------------------------------------------------------------------------------------------------------------------------------------------------------------------------------------------------------------------------------------------------------------------------------------------------------------------------------------------------------------------------------------------------------------------------------------------------------------------------------------------------------------------------------------------------------------------------------------------------------------------------------------------------------------------------------------------------------------------------------------------------------------------------------------------------------------------------------------------------------------------------------------------------------------------------------------------------------------------------------------------------------------------------------------------+------------+--------------------------------------------------------------------------------------------------------------------------------------------------------------------------------------------------------------------------------------------------------------------------------------------------------------------------------------------------------------------------------------------------------------------------------------------------------------------------------------------------------------------------------------------------------------------------------------------------------------------------------------------------------------------------------------------------------------------------------------------------------------------------------------------------------------------------------------------------------------------------------------------------------------------------------------------------------------------------------------------------------------------------------------------------------------------------------------------------------------------------------------------------------------------------------------------------------------------------------------------------------------------------------------------------------------------------------------------------------------------------------------------------------------------------------------------------------------------------------------------------------------------------------------------------------------------------------------------------------------------------------------------------------------------------------------------------------------------------------------------------------------------------------------------------------------------------------------------------------------------------------------------------------------------------------------------------------------------------------------------------------------------------------------------------------------------------------------------------------------------------------------------------------------------------------------------------------------------------------------------------------------------------------------------------------------------------------------------------------------------------------------------------------------------------------------------------------------------------------------------------------------------------------------------------------------------------------------------------------------------------------------------------------------------------+--------------------------------------------+----------+\n|label|features                                                                                                                                                                                                                                                                                                                                                                                                                                                                                                                                                                                                                                                                                                                                                                                                                                                                                                                                                                                                                                                                                                                                                                                                                                                                                                                                                                                                                                                                                                                                                                                                                                                                                                                                                                                                                                                                                                                                                                                                                                                                                                                                                                                                                                                                                                                                                                                                                                                                                                                                                                                                                                                                   |indexedLabel|indexedFeatures                                                                                                                                                                                                                                                                                                                                                                                                                                                                                                                                                                                                                                                                                                                                                                                                                                                                                                                                                                                                                                                                                                                                                                                                                                                                                                                                                                                                                                                                                                                                                                                                                                                                                                                                                                                                                                                                                                                                                                                                                                                                                                                                                                                                                                                                                                                                                                                                                                                                                                                                                                                                                                                           |rawPrediction                               |prediction|\n+-----+---------------------------------------------------------------------------------------------------------------------------------------------------------------------------------------------------------------------------------------------------------------------------------------------------------------------------------------------------------------------------------------------------------------------------------------------------------------------------------------------------------------------------------------------------------------------------------------------------------------------------------------------------------------------------------------------------------------------------------------------------------------------------------------------------------------------------------------------------------------------------------------------------------------------------------------------------------------------------------------------------------------------------------------------------------------------------------------------------------------------------------------------------------------------------------------------------------------------------------------------------------------------------------------------------------------------------------------------------------------------------------------------------------------------------------------------------------------------------------------------------------------------------------------------------------------------------------------------------------------------------------------------------------------------------------------------------------------------------------------------------------------------------------------------------------------------------------------------------------------------------------------------------------------------------------------------------------------------------------------------------------------------------------------------------------------------------------------------------------------------------------------------------------------------------------------------------------------------------------------------------------------------------------------------------------------------------------------------------------------------------------------------------------------------------------------------------------------------------------------------------------------------------------------------------------------------------------------------------------------------------------------------------------------------------+------------+--------------------------------------------------------------------------------------------------------------------------------------------------------------------------------------------------------------------------------------------------------------------------------------------------------------------------------------------------------------------------------------------------------------------------------------------------------------------------------------------------------------------------------------------------------------------------------------------------------------------------------------------------------------------------------------------------------------------------------------------------------------------------------------------------------------------------------------------------------------------------------------------------------------------------------------------------------------------------------------------------------------------------------------------------------------------------------------------------------------------------------------------------------------------------------------------------------------------------------------------------------------------------------------------------------------------------------------------------------------------------------------------------------------------------------------------------------------------------------------------------------------------------------------------------------------------------------------------------------------------------------------------------------------------------------------------------------------------------------------------------------------------------------------------------------------------------------------------------------------------------------------------------------------------------------------------------------------------------------------------------------------------------------------------------------------------------------------------------------------------------------------------------------------------------------------------------------------------------------------------------------------------------------------------------------------------------------------------------------------------------------------------------------------------------------------------------------------------------------------------------------------------------------------------------------------------------------------------------------------------------------------------------------------------------+--------------------------------------------+----------+\n|0.0  |(692,[122,123,124,125,126,127,128,129,149,150,151,152,153,154,155,156,157,176,177,178,179,180,181,182,183,184,185,186,204,205,206,207,208,209,210,211,212,213,214,215,231,232,233,234,235,236,237,238,239,240,241,242,243,244,259,260,261,262,263,264,265,266,269,270,271,272,273,286,287,288,289,290,292,293,294,298,299,300,301,302,314,315,316,317,318,327,328,329,330,342,343,344,345,355,356,357,358,359,370,371,372,373,384,385,386,387,398,399,400,401,412,413,414,415,426,427,428,429,440,441,442,443,454,455,456,457,468,469,470,471,482,483,484,485,495,496,497,498,499,510,511,512,513,514,523,524,525,526,539,540,541,542,550,551,552,553,554,567,568,569,570,577,578,579,580,581,595,596,597,598,599,603,604,605,606,607,608,609,623,624,625,626,627,628,629,630,631,632,633,634,635,652,653,654,655,656,657,658,659,660,661,662],[8.0,76.0,202.0,254.0,255.0,163.0,37.0,2.0,13.0,182.0,253.0,253.0,253.0,253.0,253.0,253.0,23.0,15.0,179.0,253.0,253.0,212.0,91.0,218.0,253.0,253.0,179.0,109.0,105.0,253.0,253.0,160.0,35.0,156.0,253.0,253.0,253.0,253.0,250.0,113.0,19.0,212.0,253.0,253.0,88.0,121.0,253.0,233.0,128.0,91.0,245.0,253.0,248.0,114.0,104.0,253.0,253.0,110.0,2.0,142.0,253.0,90.0,26.0,199.0,253.0,248.0,63.0,1.0,173.0,253.0,253.0,29.0,84.0,228.0,39.0,72.0,251.0,253.0,215.0,29.0,36.0,253.0,253.0,203.0,13.0,82.0,253.0,253.0,170.0,36.0,253.0,253.0,164.0,11.0,198.0,253.0,184.0,6.0,36.0,253.0,253.0,82.0,138.0,253.0,253.0,35.0,128.0,253.0,253.0,47.0,48.0,253.0,253.0,35.0,154.0,253.0,253.0,47.0,48.0,253.0,253.0,35.0,102.0,253.0,253.0,99.0,48.0,253.0,253.0,35.0,36.0,253.0,253.0,164.0,16.0,208.0,253.0,211.0,17.0,32.0,244.0,253.0,175.0,4.0,44.0,253.0,253.0,156.0,171.0,253.0,253.0,29.0,30.0,217.0,253.0,188.0,19.0,171.0,253.0,253.0,59.0,60.0,217.0,253.0,253.0,70.0,78.0,253.0,253.0,231.0,48.0,26.0,128.0,249.0,253.0,244.0,94.0,15.0,8.0,151.0,253.0,253.0,234.0,101.0,121.0,219.0,229.0,253.0,253.0,201.0,80.0,38.0,232.0,253.0,253.0,253.0,253.0,253.0,253.0,253.0,201.0,66.0])                                                                                                                                                                                                                                                                                                                                                                                                                                                                                                                                                                                                                                  |1.0         |(692,[122,123,124,125,126,127,128,129,149,150,151,152,153,154,155,156,157,176,177,178,179,180,181,182,183,184,185,186,204,205,206,207,208,209,210,211,212,213,214,215,231,232,233,234,235,236,237,238,239,240,241,242,243,244,259,260,261,262,263,264,265,266,269,270,271,272,273,286,287,288,289,290,292,293,294,298,299,300,301,302,314,315,316,317,318,327,328,329,330,342,343,344,345,355,356,357,358,359,370,371,372,373,384,385,386,387,398,399,400,401,412,413,414,415,426,427,428,429,440,441,442,443,454,455,456,457,468,469,470,471,482,483,484,485,495,496,497,498,499,510,511,512,513,514,523,524,525,526,539,540,541,542,550,551,552,553,554,567,568,569,570,577,578,579,580,581,595,596,597,598,599,603,604,605,606,607,608,609,623,624,625,626,627,628,629,630,631,632,633,634,635,652,653,654,655,656,657,658,659,660,661,662],[8.0,76.0,202.0,254.0,255.0,163.0,37.0,2.0,13.0,182.0,253.0,253.0,253.0,253.0,253.0,253.0,23.0,15.0,179.0,253.0,253.0,212.0,91.0,218.0,253.0,253.0,179.0,109.0,105.0,253.0,253.0,160.0,35.0,156.0,253.0,253.0,253.0,253.0,250.0,113.0,19.0,212.0,253.0,253.0,88.0,121.0,253.0,233.0,128.0,91.0,245.0,253.0,248.0,114.0,104.0,253.0,253.0,110.0,2.0,142.0,253.0,90.0,26.0,199.0,253.0,248.0,63.0,1.0,173.0,253.0,253.0,29.0,84.0,228.0,39.0,72.0,251.0,253.0,215.0,29.0,36.0,253.0,253.0,203.0,13.0,82.0,253.0,253.0,170.0,36.0,253.0,253.0,164.0,11.0,198.0,253.0,184.0,6.0,36.0,253.0,253.0,82.0,138.0,253.0,253.0,35.0,128.0,253.0,253.0,47.0,48.0,253.0,253.0,35.0,154.0,253.0,253.0,47.0,48.0,253.0,253.0,35.0,102.0,253.0,253.0,99.0,48.0,253.0,253.0,35.0,36.0,253.0,253.0,164.0,16.0,208.0,253.0,211.0,17.0,32.0,244.0,253.0,175.0,4.0,44.0,253.0,253.0,156.0,171.0,253.0,253.0,29.0,30.0,217.0,253.0,188.0,19.0,171.0,253.0,253.0,59.0,60.0,217.0,253.0,253.0,70.0,78.0,253.0,253.0,231.0,48.0,26.0,128.0,249.0,253.0,244.0,94.0,15.0,8.0,151.0,253.0,253.0,234.0,101.0,121.0,219.0,229.0,253.0,253.0,201.0,80.0,38.0,232.0,253.0,253.0,253.0,253.0,253.0,253.0,253.0,201.0,66.0])                                                                                                                                                                                                                                                                                                                                                                                                                                                                                                                                                                                                                                 |[-1.5588087429915054,1.5588087429915054]    |1.0       |\n|0.0  |(692,[122,123,148,149,150,151,152,153,175,176,177,178,179,180,181,182,183,184,185,186,187,202,203,204,205,206,207,208,209,210,211,212,213,214,215,216,217,229,230,231,232,237,238,240,241,242,243,244,245,246,257,258,259,260,265,271,272,273,274,275,285,286,287,300,301,302,303,313,314,315,329,330,331,332,341,342,343,357,358,359,360,369,370,371,386,387,388,397,398,399,414,415,416,425,426,427,428,442,443,444,453,454,455,456,470,471,472,482,483,484,485,498,499,500,510,511,512,513,514,526,527,528,539,540,541,542,543,544,552,553,554,555,556,568,569,570,571,572,573,574,575,576,577,578,579,580,581,582,583,597,598,599,600,601,602,603,604,605,606,607,608,609,610,626,627,628,629,630,631,632,633,634,635,636,637,658,659],[59.0,55.0,71.0,192.0,254.0,250.0,147.0,17.0,123.0,247.0,253.0,254.0,253.0,253.0,196.0,79.0,176.0,175.0,175.0,124.0,48.0,87.0,247.0,247.0,176.0,95.0,102.0,117.0,243.0,237.0,192.0,232.0,253.0,253.0,245.0,152.0,6.0,23.0,229.0,253.0,138.0,219.0,58.0,95.0,118.0,80.0,230.0,254.0,196.0,30.0,120.0,254.0,205.0,8.0,114.0,38.0,255.0,254.0,155.0,5.0,156.0,253.0,92.0,61.0,235.0,253.0,102.0,224.0,253.0,78.0,117.0,253.0,196.0,18.0,254.0,253.0,78.0,9.0,211.0,253.0,73.0,254.0,253.0,78.0,175.0,253.0,155.0,194.0,254.0,101.0,79.0,254.0,155.0,112.0,253.0,211.0,9.0,73.0,251.0,200.0,41.0,241.0,253.0,87.0,25.0,240.0,253.0,147.0,253.0,227.0,47.0,94.0,253.0,200.0,5.0,193.0,253.0,230.0,76.0,175.0,253.0,155.0,31.0,219.0,254.0,255.0,126.0,18.0,14.0,149.0,254.0,244.0,45.0,21.0,158.0,254.0,253.0,226.0,162.0,118.0,96.0,20.0,20.0,73.0,118.0,224.0,253.0,247.0,85.0,30.0,155.0,253.0,253.0,253.0,253.0,254.0,253.0,253.0,253.0,253.0,254.0,247.0,84.0,5.0,27.0,117.0,206.0,244.0,229.0,213.0,213.0,213.0,176.0,117.0,32.0,45.0,23.0])                                                                                                                                                                                                                                                                                                                                                                                                                                                                                                                                                                                                                                                                                                                                                                                                                                                                                   |1.0         |(692,[122,123,148,149,150,151,152,153,175,176,177,178,179,180,181,182,183,184,185,186,187,202,203,204,205,206,207,208,209,210,211,212,213,214,215,216,217,229,230,231,232,237,238,240,241,242,243,244,245,246,257,258,259,260,265,271,272,273,274,275,285,286,287,300,301,302,303,313,314,315,329,330,331,332,341,342,343,357,358,359,360,369,370,371,386,387,388,397,398,399,414,415,416,425,426,427,428,442,443,444,453,454,455,456,470,471,472,482,483,484,485,498,499,500,510,511,512,513,514,526,527,528,539,540,541,542,543,544,552,553,554,555,556,568,569,570,571,572,573,574,575,576,577,578,579,580,581,582,583,597,598,599,600,601,602,603,604,605,606,607,608,609,610,626,627,628,629,630,631,632,633,634,635,636,637,658,659],[59.0,55.0,1.0,192.0,254.0,250.0,147.0,17.0,123.0,247.0,253.0,254.0,253.0,253.0,196.0,79.0,176.0,175.0,175.0,124.0,48.0,3.0,247.0,247.0,176.0,95.0,102.0,117.0,243.0,237.0,192.0,232.0,253.0,253.0,245.0,152.0,6.0,1.0,229.0,253.0,138.0,219.0,58.0,95.0,118.0,80.0,230.0,254.0,196.0,30.0,2.0,254.0,205.0,8.0,114.0,38.0,255.0,254.0,155.0,5.0,156.0,253.0,92.0,61.0,235.0,253.0,102.0,224.0,253.0,78.0,117.0,253.0,196.0,18.0,254.0,253.0,78.0,9.0,211.0,253.0,73.0,254.0,253.0,78.0,175.0,253.0,155.0,194.0,254.0,101.0,79.0,254.0,155.0,112.0,253.0,211.0,9.0,73.0,251.0,200.0,41.0,241.0,253.0,87.0,25.0,240.0,253.0,147.0,253.0,227.0,47.0,94.0,253.0,200.0,5.0,193.0,253.0,230.0,76.0,175.0,253.0,155.0,31.0,219.0,254.0,255.0,126.0,18.0,14.0,149.0,254.0,244.0,45.0,21.0,158.0,254.0,253.0,226.0,162.0,118.0,96.0,20.0,20.0,73.0,118\n\n*** WARNING: max output size exceeded, skipping output. ***\n\n                                                                                                                                                                                                                                                                                                                                                                                                                                                                                                                                                                                                                                                                                                                                                                                                                                                                                                                                                                                                                                                                                                                                                                                                                                                                                                                                                                                                                                                                                                            |0.0         |(692,[124,125,126,152,153,154,181,182,183,209,210,211,237,238,239,265,266,267,293,294,295,321,322,323,349,350,351,377,378,379,405,406,407,433,434,435,461,462,463,489,490,491,516,517,518,519,544,545,546,547,572,573,574,600,601,602,628,629,630,656,657,658],[26.0,240.0,72.0,25.0,238.0,208.0,209.0,226.0,14.0,209.0,254.0,43.0,175.0,254.0,128.0,63.0,254.0,204.0,107.0,254.0,204.0,88.0,254.0,204.0,55.0,254.0,204.0,126.0,254.0,204.0,126.0,254.0,189.0,169.0,254.0,121.0,209.0,254.0,193.0,209.0,254.0,111.0,22.0,235.0,254.0,37.0,137.0,254.0,227.0,16.0,205.0,255.0,185.0,205.0,254.0,125.0,205.0,254.0,125.0,111.0,212.0,43.0])                                                                                                                                                                                                                                                                                                                                                                                                                                                                                                                                                                                                                                                                                                                                                                                                                                                                                                                                                                                                                                                                                                                                                                                                                                                                                                                                                                                                                                                                                                                                                                                                                                                                                                                                                                                                                                                                                                                                                                                                                                 |[1.6567358522193718,-1.6567358522193718]    |0.0       |\n|1.0  |(692,[125,126,127,153,154,155,181,182,183,209,210,211,237,238,239,265,266,267,293,294,295,321,322,323,349,350,351,377,378,379,405,406,407,433,434,435,461,462,463,489,490,491,517,518,519,545,546,547,548,573,574,575,576,601,602,603,604,629,630,631,632,657,658,659],[94.0,254.0,75.0,166.0,253.0,231.0,208.0,253.0,147.0,208.0,253.0,116.0,208.0,253.0,168.0,146.0,254.0,222.0,166.0,253.0,116.0,208.0,253.0,116.0,166.0,253.0,158.0,145.0,253.0,231.0,209.0,254.0,169.0,187.0,253.0,168.0,93.0,253.0,116.0,93.0,253.0,116.0,93.0,253.0,116.0,94.0,254.0,179.0,11.0,93.0,253.0,246.0,101.0,145.0,253.0,255.0,92.0,93.0,253.0,246.0,59.0,93.0,253.0,74.0])                                                                                                                                                                                                                                                                                                                                                                                                                                                                                                                                                                                                                                                                                                                                                                                                                                                                                                                                                                                                                                                                                                                                                                                                                                                                                                                                                                                                                                                                                                                                                                                                                                                                                                                                                                                                                                                                                                                                                                                                               |0.0         |(692,[125,126,127,153,154,155,181,182,183,209,210,211,237,238,239,265,266,267,293,294,295,321,322,323,349,350,351,377,378,379,405,406,407,433,434,435,461,462,463,489,490,491,517,518,519,545,546,547,548,573,574,575,576,601,602,603,604,629,630,631,632,657,658,659],[94.0,254.0,75.0,166.0,253.0,231.0,208.0,253.0,147.0,208.0,253.0,116.0,208.0,253.0,168.0,146.0,254.0,222.0,166.0,253.0,116.0,208.0,253.0,116.0,166.0,253.0,158.0,145.0,253.0,231.0,209.0,254.0,169.0,187.0,253.0,168.0,93.0,253.0,116.0,93.0,253.0,116.0,93.0,253.0,116.0,94.0,254.0,179.0,11.0,93.0,253.0,246.0,101.0,145.0,253.0,255.0,92.0,93.0,253.0,246.0,59.0,93.0,253.0,74.0])                                                                                                                                                                                                                                                                                                                                                                                                                                                                                                                                                                                                                                                                                                                                                                                                                                                                                                                                                                                                                                                                                                                                                                                                                                                                                                                                                                                                                                                                                                                                                                                                                                                                                                                                                                                                                                                                                                                                                                                                              |[1.5434723040525637,-1.5434723040525637]    |0.0       |\n|1.0  |(692,[126,127,128,129,154,155,156,157,182,183,184,185,186,210,211,212,213,214,238,239,240,241,242,266,267,268,269,270,293,294,295,296,297,298,321,322,323,324,325,348,349,350,351,352,353,376,377,378,379,380,381,404,405,406,407,408,409,432,433,434,435,436,437,459,460,461,462,463,464,487,488,489,490,491,492,515,516,517,518,519,520,543,544,545,546,547,571,572,573,574,575,599,600,601,602,614,627,628,629,630,655,656,657,658],[20.0,254.0,255.0,37.0,19.0,253.0,253.0,134.0,19.0,253.0,253.0,246.0,125.0,76.0,253.0,253.0,253.0,158.0,207.0,253.0,253.0,253.0,158.0,207.0,253.0,253.0,253.0,158.0,48.0,223.0,253.0,253.0,243.0,106.0,141.0,253.0,253.0,253.0,113.0,65.0,237.0,253.0,253.0,253.0,36.0,76.0,253.0,253.0,253.0,253.0,36.0,76.0,253.0,253.0,253.0,253.0,36.0,76.0,253.0,253.0,253.0,118.0,4.0,4.0,148.0,253.0,253.0,253.0,103.0,10.0,253.0,253.0,253.0,253.0,103.0,10.0,253.0,253.0,253.0,173.0,7.0,10.0,253.0,253.0,253.0,168.0,143.0,253.0,253.0,239.0,49.0,198.0,253.0,253.0,234.0,140.0,198.0,253.0,253.0,234.0,198.0,253.0,253.0,234.0])                                                                                                                                                                                                                                                                                                                                                                                                                                                                                                                                                                                                                                                                                                                                                                                                                                                                                                                                                                                                                                                                                                                                                                                                                                                                                                                                                                                                                                                                                                                                                                                                         |0.0         |(692,[126,127,128,129,154,155,156,157,182,183,184,185,186,210,211,212,213,214,238,239,240,241,242,266,267,268,269,270,293,294,295,296,297,298,321,322,323,324,325,348,349,350,351,352,353,376,377,378,379,380,381,404,405,406,407,408,409,432,433,434,435,436,437,459,460,461,462,463,464,487,488,489,490,491,492,515,516,517,518,519,520,543,544,545,546,547,571,572,573,574,575,599,600,601,602,614,627,628,629,630,655,656,657,658],[20.0,254.0,255.0,37.0,19.0,253.0,253.0,134.0,19.0,253.0,253.0,246.0,125.0,76.0,253.0,253.0,253.0,158.0,207.0,253.0,253.0,253.0,158.0,207.0,253.0,253.0,253.0,158.0,48.0,223.0,253.0,253.0,243.0,106.0,141.0,253.0,253.0,253.0,113.0,65.0,237.0,253.0,253.0,253.0,36.0,76.0,253.0,253.0,253.0,253.0,36.0,76.0,253.0,253.0,253.0,253.0,36.0,76.0,253.0,253.0,253.0,118.0,4.0,4.0,148.0,253.0,253.0,253.0,103.0,10.0,253.0,253.0,253.0,253.0,103.0,10.0,253.0,253.0,253.0,173.0,7.0,10.0,253.0,253.0,253.0,168.0,143.0,253.0,253.0,239.0,49.0,198.0,253.0,253.0,234.0,1.0,198.0,253.0,253.0,234.0,198.0,253.0,253.0,234.0])                                                                                                                                                                                                                                                                                                                                                                                                                                                                                                                                                                                                                                                                                                                                                                                                                                                                                                                                                                                                                                                                                                                                                                                                                                                                                                                                                                                                                                                                                                                                                                                                          |[2.04197411712619,-2.04197411712619]        |0.0       |\n|1.0  |(692,[126,127,128,154,155,156,157,182,183,184,185,210,211,212,213,238,239,240,241,266,267,268,269,292,293,294,295,296,297,320,321,322,323,324,348,349,350,351,352,376,377,378,379,380,404,405,406,407,432,433,434,435,459,460,461,462,463,486,487,488,489,490,491,514,515,516,517,518,542,543,544,545,546,570,571,572,573,574,598,599,600,601,626,627,628,629,630,654,655,656,657],[155.0,253.0,126.0,253.0,251.0,141.0,4.0,253.0,251.0,251.0,31.0,253.0,251.0,251.0,31.0,253.0,251.0,251.0,31.0,255.0,253.0,253.0,31.0,8.0,131.0,253.0,251.0,235.0,27.0,64.0,251.0,253.0,251.0,126.0,64.0,251.0,253.0,251.0,126.0,64.0,251.0,253.0,251.0,126.0,64.0,253.0,255.0,221.0,182.0,251.0,253.0,200.0,64.0,236.0,251.0,253.0,62.0,8.0,158.0,251.0,251.0,169.0,8.0,32.0,251.0,251.0,251.0,158.0,32.0,253.0,253.0,253.0,159.0,32.0,251.0,251.0,251.0,39.0,32.0,251.0,251.0,251.0,32.0,251.0,251.0,251.0,100.0,32.0,251.0,251.0,251.0])                                                                                                                                                                                                                                                                                                                                                                                                                                                                                                                                                                                                                                                                                                                                                                                                                                                                                                                                                                                                                                                                                                                                                                                                                                                                                                                                                                                                                                                                                                                                                                                                                                                                                                                                              |0.0         |(692,[126,127,128,154,155,156,157,182,183,184,185,210,211,212,213,238,239,240,241,266,267,268,269,292,293,294,295,296,297,320,321,322,323,324,348,349,350,351,352,376,377,378,379,380,404,405,406,407,432,433,434,435,459,460,461,462,463,486,487,488,489,490,491,514,515,516,517,518,542,543,544,545,546,570,571,572,573,574,598,599,600,601,626,627,628,629,630,654,655,656,657],[155.0,253.0,126.0,253.0,251.0,141.0,4.0,253.0,251.0,251.0,31.0,253.0,251.0,251.0,31.0,253.0,251.0,251.0,31.0,255.0,253.0,253.0,31.0,8.0,131.0,253.0,251.0,235.0,27.0,64.0,251.0,253.0,251.0,126.0,64.0,251.0,253.0,251.0,126.0,64.0,251.0,253.0,251.0,126.0,64.0,253.0,255.0,221.0,182.0,251.0,253.0,200.0,64.0,236.0,251.0,253.0,62.0,8.0,158.0,251.0,251.0,169.0,8.0,32.0,251.0,251.0,251.0,158.0,32.0,253.0,253.0,253.0,159.0,32.0,251.0,251.0,251.0,39.0,32.0,251.0,251.0,251.0,32.0,251.0,251.0,251.0,100.0,32.0,251.0,251.0,251.0])                                                                                                                                                                                                                                                                                                                                                                                                                                                                                                                                                                                                                                                                                                                                                                                                                                                                                                                                                                                                                                                                                                                                                                                                                                                                                                                                                                                                                                                                                                                                                                                                                                                                                                                                             |[1.6652476518064332,-1.6652476518064332]    |0.0       |\n+-----+---------------------------------------------------------------------------------------------------------------------------------------------------------------------------------------------------------------------------------------------------------------------------------------------------------------------------------------------------------------------------------------------------------------------------------------------------------------------------------------------------------------------------------------------------------------------------------------------------------------------------------------------------------------------------------------------------------------------------------------------------------------------------------------------------------------------------------------------------------------------------------------------------------------------------------------------------------------------------------------------------------------------------------------------------------------------------------------------------------------------------------------------------------------------------------------------------------------------------------------------------------------------------------------------------------------------------------------------------------------------------------------------------------------------------------------------------------------------------------------------------------------------------------------------------------------------------------------------------------------------------------------------------------------------------------------------------------------------------------------------------------------------------------------------------------------------------------------------------------------------------------------------------------------------------------------------------------------------------------------------------------------------------------------------------------------------------------------------------------------------------------------------------------------------------------------------------------------------------------------------------------------------------------------------------------------------------------------------------------------------------------------------------------------------------------------------------------------------------------------------------------------------------------------------------------------------------------------------------------------------------------------------------------------------------+------------+--------------------------------------------------------------------------------------------------------------------------------------------------------------------------------------------------------------------------------------------------------------------------------------------------------------------------------------------------------------------------------------------------------------------------------------------------------------------------------------------------------------------------------------------------------------------------------------------------------------------------------------------------------------------------------------------------------------------------------------------------------------------------------------------------------------------------------------------------------------------------------------------------------------------------------------------------------------------------------------------------------------------------------------------------------------------------------------------------------------------------------------------------------------------------------------------------------------------------------------------------------------------------------------------------------------------------------------------------------------------------------------------------------------------------------------------------------------------------------------------------------------------------------------------------------------------------------------------------------------------------------------------------------------------------------------------------------------------------------------------------------------------------------------------------------------------------------------------------------------------------------------------------------------------------------------------------------------------------------------------------------------------------------------------------------------------------------------------------------------------------------------------------------------------------------------------------------------------------------------------------------------------------------------------------------------------------------------------------------------------------------------------------------------------------------------------------------------------------------------------------------------------------------------------------------------------------------------------------------------------------------------------------------------------------+--------------------------------------------+----------+\nonly showing top 20 rows\n\n"
     ]
    }
   ],
   "source": [
    "predictions.show(truncate=False)"
   ]
  },
  {
   "cell_type": "code",
   "execution_count": 0,
   "metadata": {
    "application/vnd.databricks.v1+cell": {
     "cellMetadata": {},
     "inputWidgets": {},
     "nuid": "fbb01472-0102-429c-ad0f-175495c384c5",
     "showTitle": false,
     "title": ""
    }
   },
   "outputs": [],
   "source": [
    "evaluator=MulticlassClassificationEvaluator(metricName=\"accuracy\",predictionCol='prediction',labelCol='indexedLabel')"
   ]
  },
  {
   "cell_type": "code",
   "execution_count": 0,
   "metadata": {
    "application/vnd.databricks.v1+cell": {
     "cellMetadata": {},
     "inputWidgets": {},
     "nuid": "ff04b943-2e34-43eb-a12d-031072fd5c97",
     "showTitle": false,
     "title": ""
    }
   },
   "outputs": [
    {
     "output_type": "stream",
     "name": "stdout",
     "output_type": "stream",
     "text": [
      "Test Error: 0.033333333333333326\n"
     ]
    }
   ],
   "source": [
    "accuracy=evaluator.evaluate(predictions)\n",
    "print(f\"Test Error: {1-accuracy}\")"
   ]
  },
  {
   "cell_type": "code",
   "execution_count": 0,
   "metadata": {
    "application/vnd.databricks.v1+cell": {
     "cellMetadata": {},
     "inputWidgets": {},
     "nuid": "e5408cde-c8be-4d7e-9ddc-c29635f04e1e",
     "showTitle": false,
     "title": ""
    }
   },
   "outputs": [],
   "source": [
    "# NaiveBias\n",
    "\n",
    "from pyspark.ml.classification import NaiveBayes"
   ]
  },
  {
   "cell_type": "code",
   "execution_count": 0,
   "metadata": {
    "application/vnd.databricks.v1+cell": {
     "cellMetadata": {},
     "inputWidgets": {},
     "nuid": "cd7164fa-c763-43ce-81ce-226fd7790ed8",
     "showTitle": false,
     "title": ""
    }
   },
   "outputs": [],
   "source": [
    "nb=NaiveBayes(featuresCol='indexedFeatures',labelCol='indexedLabel',modelType='multinomial')\n",
    "pipeline=Pipeline(stages=(labelIndexer,featureIndexer,nb,))\n",
    "\n",
    "model=pipeline.fit(dataset=trainingData)"
   ]
  },
  {
   "cell_type": "code",
   "execution_count": 0,
   "metadata": {
    "application/vnd.databricks.v1+cell": {
     "cellMetadata": {},
     "inputWidgets": {},
     "nuid": "52ffd7a6-92a2-470d-b2cf-3e936d0b2f95",
     "showTitle": false,
     "title": ""
    }
   },
   "outputs": [],
   "source": [
    "results=model.transform(dataset=testData)"
   ]
  },
  {
   "cell_type": "code",
   "execution_count": 0,
   "metadata": {
    "application/vnd.databricks.v1+cell": {
     "cellMetadata": {},
     "inputWidgets": {},
     "nuid": "38f0c07e-3f5e-48bb-b583-ea152c219b53",
     "showTitle": false,
     "title": ""
    }
   },
   "outputs": [
    {
     "output_type": "stream",
     "name": "stdout",
     "output_type": "stream",
     "text": [
      "Test Error: 0.0\n"
     ]
    }
   ],
   "source": [
    "evaluator=MulticlassClassificationEvaluator(metricName=\"accuracy\",predictionCol='prediction',labelCol='indexedLabel')\n",
    "accuracy=evaluator.evaluate(results)\n",
    "print(f\"Test Error: {1-accuracy}\")"
   ]
  },
  {
   "cell_type": "code",
   "execution_count": 0,
   "metadata": {
    "application/vnd.databricks.v1+cell": {
     "cellMetadata": {},
     "inputWidgets": {},
     "nuid": "5ed81114-2339-4d3f-be2b-058b2d6af2f4",
     "showTitle": false,
     "title": ""
    }
   },
   "outputs": [],
   "source": [
    "# Factorization Machines Classifier\n",
    "\n",
    "from pyspark.ml.classification import FMClassifier\n",
    "from pyspark.ml.feature import MinMaxScaler"
   ]
  },
  {
   "cell_type": "code",
   "execution_count": 0,
   "metadata": {
    "application/vnd.databricks.v1+cell": {
     "cellMetadata": {},
     "inputWidgets": {},
     "nuid": "12466342-6c93-4a86-9e16-df8e52ef86a0",
     "showTitle": false,
     "title": ""
    }
   },
   "outputs": [],
   "source": [
    "data=spark.read.format(source=\"libsvm\").load(\"file:///databricks/driver/spark/data/mllib/sample_libsvm_data.txt\")"
   ]
  },
  {
   "cell_type": "code",
   "execution_count": 0,
   "metadata": {
    "application/vnd.databricks.v1+cell": {
     "cellMetadata": {},
     "inputWidgets": {},
     "nuid": "983ef1c7-6c49-40be-af45-a11aca1c10e5",
     "showTitle": false,
     "title": ""
    }
   },
   "outputs": [],
   "source": [
    "trainingData,testData=data.randomSplit(weights=(.75,.25),seed=101)\n"
   ]
  },
  {
   "cell_type": "code",
   "execution_count": 0,
   "metadata": {
    "application/vnd.databricks.v1+cell": {
     "cellMetadata": {},
     "inputWidgets": {},
     "nuid": "8af81c5e-d05c-4eb6-9444-122fddb833e8",
     "showTitle": false,
     "title": ""
    }
   },
   "outputs": [],
   "source": [
    "labelIndexer=StringIndexer(inputCol='label',outputCol='indexedLabel').fit(data)\n",
    "\n",
    "featureScaler=MinMaxScaler(inputCol='features',outputCol='scaledFeatures').fit(data)"
   ]
  },
  {
   "cell_type": "code",
   "execution_count": 0,
   "metadata": {
    "application/vnd.databricks.v1+cell": {
     "cellMetadata": {},
     "inputWidgets": {},
     "nuid": "204adce0-0425-4227-abbb-98d23d812327",
     "showTitle": false,
     "title": ""
    }
   },
   "outputs": [],
   "source": [
    "fm=FMClassifier(featuresCol='scaledFeatures',labelCol='indexedLabel',stepSize=1e-3)\n"
   ]
  },
  {
   "cell_type": "code",
   "execution_count": 0,
   "metadata": {
    "application/vnd.databricks.v1+cell": {
     "cellMetadata": {},
     "inputWidgets": {},
     "nuid": "049c1a85-ec47-48e1-b0c5-4b6ad126b9dc",
     "showTitle": false,
     "title": ""
    }
   },
   "outputs": [],
   "source": [
    "pipeline=Pipeline(stages=(labelIndexer,featureScaler,fm,))"
   ]
  },
  {
   "cell_type": "code",
   "execution_count": 0,
   "metadata": {
    "application/vnd.databricks.v1+cell": {
     "cellMetadata": {},
     "inputWidgets": {},
     "nuid": "ad0628ce-f4be-4dc9-8760-9e3f3d97605a",
     "showTitle": false,
     "title": ""
    }
   },
   "outputs": [],
   "source": [
    "model=pipeline.fit(dataset=trainingData)"
   ]
  },
  {
   "cell_type": "code",
   "execution_count": 0,
   "metadata": {
    "application/vnd.databricks.v1+cell": {
     "cellMetadata": {},
     "inputWidgets": {},
     "nuid": "ee8b5e14-3f42-4dd0-8ad3-26075e0d9603",
     "showTitle": false,
     "title": ""
    }
   },
   "outputs": [],
   "source": [
    "results=model.transform(dataset=testData)"
   ]
  },
  {
   "cell_type": "code",
   "execution_count": 0,
   "metadata": {
    "application/vnd.databricks.v1+cell": {
     "cellMetadata": {},
     "inputWidgets": {},
     "nuid": "e6f323d1-87bd-454d-a8d8-030b372015b1",
     "showTitle": false,
     "title": ""
    }
   },
   "outputs": [
    {
     "output_type": "stream",
     "name": "stdout",
     "output_type": "stream",
     "text": [
      "+-----+------------------------------------------------------------------------------------------------------------------------------------------------------------------------------------------------------------------------------------------------------------------------------------------------------------------------------------------------------------------------------------------------------------------------------------------------------------------------------------------------------------------------------------------------------------------------------------------------------------------------------------------------------------------------------------------------------------------------------------------------------------------------------------------------------------------------------------------------------------------------------------------------------------------------------------------------------------------------------------------------------------------------------------------------------------------------------------------------------------------------------------------------------------------------------------------------------------------------------------------------------------------------------------------------------------------------------------------------------------------------------------------------------------------------------------------------------------------------------------------------------------------------------------------------------------------------------------------------------------------------------------------------------------------------------------------------------------------------------------------------------------------------------------------------------------------------------------------------------------------------------------------------------------------------------------------------------------------------------------------------------------------------------------------------------------------------------------------------------------------------------------------------------------------------------------------------------------------------------------------------------------------------------------------------------------------------------------------------------------+------------+----------------------------------------------------------------------------------------------------------------------------------------------------------------------------------------------------------------------------------------------------------------------------------------------------------------------------------------------------------------------------------------------------------------------------------------------------------------------------------------------------------------------------------------------------------------------------------------------------------------------------------------------------------------------------------------------------------------------------------------------------------------------------------------------------------------------------------------------------------------------------------------------------------------------------------------------------------------------------------------------------------------------------------------------------------------------------------------------------------------------------------------------------------------------------------------------------------------------------------------------------------------------------------------------------------------------------------------------------------------------------------------------------------------------------------------------------------------------------------------------------------------------------------------------------------------------------------------------------------------------------------------------------------------------------------------------------------------------------------------------------------------------------------------------------------------------------------------------------------------------------------------------------------------------------------------------------------------------------------------------------------------------------------------------------------------------------------------------------------------------------------------------------------------------------------------------------------------------------------------------------------------------------------------------------------------------------------------------------------------------------------------------------------------------------------------------------------------------------------------------------------------------------------------------------------------------------------------------------------------------------------------------------------------------------------------------------------------------------------------------------------------------------------------------------------------------------------------------------------------------------------------------------------------------------------------------------------------------------------------------------------------------------------------------------------------------------------------------------------------------------------------------------------------------------------------------------------------------------------------------------------------------------------------------------------------------------------------------------------------------------------------------------------------------------------------------------------------------------------------------------------------------------------------------------------------------------------------------------------------------------------------------------------------------------------------------------------------------------------------------------------------------------------------------------------------------------------------------------------------------------------------------------------------------------------------------------------------------------------------------------------------------------------------------------------------------------------------------------------------------------------------------------------------------------------------------------------------------------------------------------------------------------------------------------------------------------------------------------------------------------------------------------------------------------------------------------------------------------------------------------------------------------------------------------------------------------------------------------------------------------------------------------------------------------------------------------------------------------------------------------------------------------------------------------------------------------------------------------------------------------------------------------------------------------------------------------------------------------------------------------------------------------------------------------------------------------------------------------------------------------------------------------------------------------------------------------------------------------------------------------------------------------------------------------------------------------------------------------------------------------------------------------------------------------------------------------------------------------------------------------------------------------------------------------------------------------------------------------------------------------------------------------------------------------------------------------------------------------------------------------------------------------------------------------------------------------------------------------------------------------------------------------------------------------------------------------------------------------------------------------------------------------------------------------------------------------------------------------------------------------------------------------------------------------------------------------------------------------------------------------------------------------------------------------------------------------------------------------------------------+----------------------------------------+------------------------------------------+----------+\n|label|features                                                                                                                                                                                                                                                                                                                                                                                                                                                                                                                                                                                                                                                                                                                                                                                                                                                                                                                                                                                                                                                                                                                                                                                                                                                                                                                                                                                                                                                                                                                                                                                                                                                                                                                                                                                                                                                                                                                                                                                                                                                                                                                                                                                                                                                                                                                                                    |indexedLabel|scaledFeatures                                                                                                                                                                                                                                                                                                                                                                                                                                                                                                                                                                                                                                                                                                                                                                                                                                                                                                                                                                                                                                                                                                                                                                                                                                                                                                                                                                                                                                                                                                                                                                                                                                                                                                                                                                                                                                                                                                                                                                                                                                                                                                                                                                                                                                                                                                                                                                                                                                                                                                                                                                                                                                                                                                                                                                                                                                                                                                                                                                                                                                                                                                                                                                                                                                                                                                                                                                                                                                                                                                                                                                                                                                                                                                                                                                                                                                                                                                                                                                                                                                                                                                                                                                                                                                                                                                                                                                                                                                                                                                                                                                                                                                                                                                                                                                                                                                                                                                                                                                                                                                                                                                                                                                                                                                                                                                                                                                                                                                                                                                                                                                                                                                                                                                                                                                                                                                                                                                                                                                                                                                                                                                                                                                                                                                                                                                                                                        |rawPrediction                           |probability                               |prediction|\n+-----+------------------------------------------------------------------------------------------------------------------------------------------------------------------------------------------------------------------------------------------------------------------------------------------------------------------------------------------------------------------------------------------------------------------------------------------------------------------------------------------------------------------------------------------------------------------------------------------------------------------------------------------------------------------------------------------------------------------------------------------------------------------------------------------------------------------------------------------------------------------------------------------------------------------------------------------------------------------------------------------------------------------------------------------------------------------------------------------------------------------------------------------------------------------------------------------------------------------------------------------------------------------------------------------------------------------------------------------------------------------------------------------------------------------------------------------------------------------------------------------------------------------------------------------------------------------------------------------------------------------------------------------------------------------------------------------------------------------------------------------------------------------------------------------------------------------------------------------------------------------------------------------------------------------------------------------------------------------------------------------------------------------------------------------------------------------------------------------------------------------------------------------------------------------------------------------------------------------------------------------------------------------------------------------------------------------------------------------------------------+------------+---------------------------------------------------------------------------------------------------------------------------------------------------------------------------------------------------------------------------------------------------------------------------------------------------------------------------------------------------------------------------------------------------------------------------------------------------------------------------------------------------------------------------------------------------------------------------------------------------------------------------------------------------------------------------------------------------------------------------------------------------------------------------------------------------------------------------------------------------------------------------------------------------------------------------------------------------------------------------------------------------------------------------------------------------------------------------------------------------------------------------------------------------------------------------------------------------------------------------------------------------------------------------------------------------------------------------------------------------------------------------------------------------------------------------------------------------------------------------------------------------------------------------------------------------------------------------------------------------------------------------------------------------------------------------------------------------------------------------------------------------------------------------------------------------------------------------------------------------------------------------------------------------------------------------------------------------------------------------------------------------------------------------------------------------------------------------------------------------------------------------------------------------------------------------------------------------------------------------------------------------------------------------------------------------------------------------------------------------------------------------------------------------------------------------------------------------------------------------------------------------------------------------------------------------------------------------------------------------------------------------------------------------------------------------------------------------------------------------------------------------------------------------------------------------------------------------------------------------------------------------------------------------------------------------------------------------------------------------------------------------------------------------------------------------------------------------------------------------------------------------------------------------------------------------------------------------------------------------------------------------------------------------------------------------------------------------------------------------------------------------------------------------------------------------------------------------------------------------------------------------------------------------------------------------------------------------------------------------------------------------------------------------------------------------------------------------------------------------------------------------------------------------------------------------------------------------------------------------------------------------------------------------------------------------------------------------------------------------------------------------------------------------------------------------------------------------------------------------------------------------------------------------------------------------------------------------------------------------------------------------------------------------------------------------------------------------------------------------------------------------------------------------------------------------------------------------------------------------------------------------------------------------------------------------------------------------------------------------------------------------------------------------------------------------------------------------------------------------------------------------------------------------------------------------------------------------------------------------------------------------------------------------------------------------------------------------------------------------------------------------------------------------------------------------------------------------------------------------------------------------------------------------------------------------------------------------------------------------------------------------------------------------------------------------------------------------------------------------------------------------------------------------------------------------------------------------------------------------------------------------------------------------------------------------------------------------------------------------------------------------------------------------------------------------------------------------------------------------------------------------------------------------------------------------------------------------------------------------------------------------------------------------------------------------------------\n\n*** WARNING: max output size exceeded, skipping output. ***\n\n525,526,527,528,537,538,539,540,552,553,554,555,556,565,566,567,568,569,578,579,580,581,582,583,594,595,596,597,598,599,600,601,602,603,604,605,606,607,608,609,610,611,622,623,624,625,626,627,628,629,630,631,632,633,634,635,636,637,652,653,654,655,656,657,658,659,660,661,662,663],[120.0,253.0,253.0,63.0,38.0,131.0,246.0,252.0,252.0,203.0,15.0,222.0,252.0,252.0,252.0,252.0,166.0,38.0,4.0,107.0,253.0,252.0,252.0,252.0,252.0,253.0,224.0,137.0,26.0,107.0,252.0,253.0,252.0,220.0,128.0,252.0,253.0,252.0,252.0,239.0,140.0,170.0,253.0,255.0,168.0,79.0,192.0,253.0,253.0,253.0,253.0,255.0,90.0,51.0,243.0,252.0,215.0,33.0,12.0,74.0,233.0,252.0,252.0,253.0,195.0,19.0,166.0,252.0,252.0,31.0,43.0,149.0,195.0,253.0,252.0,177.0,19.0,57.0,234.0,252.0,252.0,237.0,252.0,252.0,180.0,13.0,85.0,252.0,252.0,173.0,50.0,237.0,252.0,252.0,112.0,226.0,253.0,240.0,63.0,163.0,253.0,253.0,112.0,38.0,234.0,252.0,176.0,85.0,252.0,252.0,158.0,113.0,252.0,252.0,84.0,19.0,209.0,252.0,252.0,207.0,252.0,252.0,84.0,10.0,203.0,252.0,236.0,253.0,252.0,252.0,84.0,85.0,252.0,252.0,112.0,114.0,253.0,253.0,146.0,51.0,159.0,253.0,240.0,63.0,75.0,243.0,252.0,249.0,146.0,57.0,85.0,238.0,252.0,252.0,99.0,116.0,252.0,252.0,252.0,198.0,197.0,165.0,57.0,57.0,57.0,182.0,197.0,234.0,252.0,253.0,233.0,164.0,19.0,28.0,84.0,180.0,252.0,253.0,252.0,252.0,252.0,252.0,253.0,252.0,252.0,252.0,252.0,225.0,71.0,13.0,112.0,253.0,252.0,252.0,252.0,252.0,253.0,252.0,252.0,157.0,112.0])                                                                                                                                                                                                                                                                                                     |1.0         |[0.5,0.5,0.5,0.5,0.5,0.5,0.5,0.5,0.5,0.5,0.5,0.5,0.5,0.5,0.5,0.5,0.5,0.5,0.5,0.5,0.5,0.5,0.5,0.5,0.5,0.5,0.5,0.5,0.5,0.5,0.5,0.5,0.5,0.5,0.5,0.5,0.5,0.5,0.5,0.5,0.5,0.5,0.5,0.5,0.5,0.5,0.5,0.5,0.5,0.5,0.5,0.5,0.5,0.5,0.5,0.5,0.5,0.5,0.5,0.5,0.5,0.5,0.5,0.5,0.5,0.5,0.5,0.5,0.5,0.5,0.5,0.5,0.5,0.5,0.5,0.5,0.5,0.5,0.5,0.5,0.5,0.5,0.5,0.5,0.5,0.5,0.5,0.5,0.5,0.5,0.5,0.5,0.5,0.5,0.5,0.0,0.0,0.0,0.0,0.0,0.0,0.0,0.0,0.5,0.5,0.5,0.5,0.5,0.5,0.5,0.5,0.5,0.5,0.5,0.5,0.5,0.5,0.5,0.5,0.0,0.0,0.0,0.0,0.0,0.47058823529411764,0.9921568627450981,0.9921568627450981,0.24705882352941178,0.0,0.0,0.0,0.0,0.0,0.0,0.5,0.5,0.5,0.5,0.5,0.5,0.5,0.5,0.5,0.5,0.5,0.5,0.0,0.0,0.0,0.0,0.14960629921259844,0.5177865612648221,0.9647058823529412,0.9882352941176471,0.9882352941176471,0.796078431372549,0.058823529411764705,0.0,0.0,0.0,0.0,0.0,0.0,0.0,0.0,0.5,0.5,0.5,0.5,0.5,0.5,0.5,0.5,0.5,0.0,0.0,0.0,0.0,0.8705882352941177,0.9882352941176471,0.9921259842519685,0.9921259842519685,0.9921259842519685,0.6509803921568628,0.14901960784313725,0.0,0.0,0.0,0.0,0.0,0.0,0.0,0.0,0.5,0.5,0.5,0.5,0.5,0.5,0.5,0.5,0.5,0.0,0.0,0.015748031496062992,0.4196078431372549,0.9960629921259843,0.9921259842519685,0.9921259842519685,0.9921259842519685,0.9921259842519685,0.9960629921259843,0.8818897637795275,0.5372549019607843,0.10196078431372549,0.0,0.0,0.0,0.0,0.0,0.0,0.5,0.5,0.5,0.5,0.5,0.5,0.5,0.5,0.0,0.0,0.0,0.4196078431372549,0.9960474308300394,0.9999999999999999,0.9882352941176471,0.8661417322834646,0.5039370078740157,0.9882352941176471,0.9960629921259843,0.9921259842519685,0.9921259842519685,0.9409448818897638,0.5490196078431373,0.0,0.0,0.0,0.0,0.0,0.5,0.5,0.5,0.5,0.5,0.5,0.5,0.5,0.0,0.0,0.0,0.6666666666666666,0.9921568627450981,1.0,0.6614173228346456,0.0,0.0,0.30980392156862746,0.7529411764705882,0.9960629921259843,0.9960629921259843,0.9960629921259843,0.9960629921259843,1.0,0.3529411764705882,0.0,0.0,0.0,0.5,0.5,0.5,0.5,0.5,0.5,0.5,0.5,0.0,0.0,0.20238095238095238,0.9604743083003952,0.9921259842519685,0.8464566929133858,0.12941176470588234,0.0,0.0,0.0,0.047058823529411764,0.29133858267716534,0.9173228346456693,0.9921259842519685,0.9882352941176471,0.9921568627450981,0.7677165354330708,0.07450980392156863,0.0,0.0,0.5,0.5,0.5,0.5,0.5,0.5,0.5,0.5,0.0,0.0,0.6561264822134387,0.9921259842519685,0.9921259842519685,0.1220472440944882,0.0,0.0,0.0,0.0,0.0,0.0,0.16929133858267717,0.5889328063241106,0.7707509881422925,0.9999999999999999,0.9960474308300394,0.6968503937007874,0.07450980392156863,0.0,0.5,0.5,0.5,0.5,0.5,0.5,0.5,0.5,0.0,0.225296442687747,0.9212598425196851,0.9921259842519685,0.9921259842519685,0.0,0.0,0.0,0.0,0.0,0.0,0.0,0.0,0.0,0.0,0.9367588932806323,0.9921259842519685,0.9921259842519685,0.7058823529411764,0.051587301587301584,0.5,0.5,0.5,0.5,0.5,0.5,0.5,0.5,0.0,0.3346456692913386,0.9921259842519685,0.9921259842519685,0.6811023622047244,0.0,0.0,0.0,0.0,0.0,0.0,0.0,0.0,0.0,0.0,0.19685039370078738,0.9330708661417323,0.9921259842519685,0.9960474308300394,0.4426877470355731,0.5,0.5,0.5,0.5,0.5,0.5,0.5,0.0,0.0,0.889763779527559,0.9921568627450981,0.9411764705882353,0.24803149606299213,0.0,0.0,0.0,0.0,0.0,0.0,0.0,0.0,0.0,0.0,0.0,0.6417322834645669,0.9960629921259843,0.9960629921259843,0.4392156862745098,0.5,0.5,0.5,0.5,0.5,0.5,0.5,0.0,0.14901960784313725,0.9176470588235294,0.9921259842519685,0.6929133858267716,0.0,0.0,0.0,0.0,0.0,0.0,0.0,0.0,0.0,0.0,0.0,0.0,0.3346456692913386,0.9882352941176471,0.9882352941176471,0.6196078431372549,0.5,0.5,0.5,0.5,0.5,0.5,0.5,0.0,0.4448818897637795,0.9882352941176471,0.9921259842519685,0.3307086614173228,0.0,0.0,0.0,0.0,0.0,0.0,0.0,0.0,0.0,0.0,0.0,0.0,0.07480314960629922,0.826086956521739,0.9960474308300394,0.9882352941176471,0.5,0.5,0.5,0.5,0.5,0.5,0.5,0.0,0.8149606299212598,0.9882352941176471,0.9921259842519685,0.3307086614173228,0.0,0.0,0.0,0.0,0.0,0.0,0.0,0.0,0.0,0.0,0.0,0.0,0.03937007874015748,0.8023715415019762,0.9960474308300394,0.9254901960784314,0.5,0.5,0.5,0.5,0.5,0.5,0.5,0.0,0.9999999999999999,0.9960474308300394,0.9882352941176471,0.3307086614173228,0.0,0.0,0.0,0.0,0.0,0.0,0.0,0.0,0.0,0.0,0.0,0.0,0.3359683794466403,0.9960474308300394,0.9960474308300394,0.5656565656565657,0.5,0.5,0.5,0.5,0.5,0.5,0.5,0.0,0.450592885375494,0.9999999999999999,0.9960629921259843,0.5725490196078431,0.0,0.0,0.0,0.0,0.0,0.0,0.0,0.0,0.0,0.0,0.0,0.2,0.6284584980237153,0.9960629921259843,0.9411764705882353,0.5526315789473684,0.5,0.5,0.5,0.5,0.5,0.5,0.5,0.0,0.2964426877470355,0.9604743083003952,0.9921259842519685,0.9803149606299213,0.5725490196078431,0.0,0.0,0.0,0.0,0.0,0.0,0.0,0.0,0.22440944881889763,0.3346456692913386,0.9407114624505928,0.9960474308300394,1.0,0.43805309734513276,0.5,0.5,0.5,0.5,0.5,0.5,0.5,0.5,0.0,0.0,0.458498023715415,0.9921259842519685,0.9921259842519685,0.9882352941176471,0.7764705882352941,0.7725490196078432,0.6496062992125984,0.22440944881889763,0.22440944881889763,0.22352941176470587,0.7165354330708661,0.7755905511811023,0.924901185770751,0.9960474308300394,0.9960629921259843,0.9137254901960784,0.7256637168141593,0.6551724137931034,0.5,0.5,0.0,0.5,0.5,0.5,0.5,0.5,0.0,0.0,0.11155378486055777,0.3307086614173228,0.7086614173228346,0.9921259842519685,0.9921568627450981,0.9921259842519685,0.9882352941176471,0.9882352941176471,0.9882352941176471,0.9921568627450981,0.9882352941176471,0.9882352941176471,0.9882352941176471,0.9882352941176471,0.8823529411764706,0.2828685258964143,0.0,0.5,0.5,0.5,0.5,0.5,0.5,0.5,0.5,0.5,0.5,0.0,0.0,0.0,0.05138339920948616,0.4409448818897638,0.9960629921259843,0.9921259842519685,0.9921259842519685,0.9921259842519685,0.9921259842519685,0.9960629921259843,0.9960474308300394,0.9960474308300394,0.6205533596837944,0.44621513944223107,0.0,0.0,0.0,0.5,0.5,0.5,0.5,0.5,0.5,0.5,0.5,0.5,0.5,0.5,0.0,0.0,0.0,0.0,0.0,0.0,0.0,0.0,0.0,0.0,0.0,0.0,0.0,0.0]                                                                                                                                                                                                                                                                                                                                                                                |[-18.016280434893748,18.016280434893748]|[1.4984036234011455E-8,0.9999999850159638]|1.0       |\n|0.0  |(692,[125,126,127,128,129,130,131,151,152,153,154,155,156,157,158,159,175,176,177,178,179,180,181,182,183,184,185,186,187,188,203,204,205,206,207,208,209,210,211,212,213,214,215,216,230,231,232,233,234,235,236,237,238,239,240,241,242,243,244,257,258,259,260,261,262,263,264,265,285,286,287,288,289,290,291,292,293,313,314,315,316,317,319,320,321,329,330,331,341,342,343,344,345,348,349,356,357,358,359,369,370,371,372,373,376,377,384,385,386,387,397,398,399,400,401,404,405,412,413,414,415,416,425,426,427,428,429,440,441,442,443,444,453,454,455,456,457,468,469,470,471,472,481,482,483,484,485,486,496,497,498,499,500,510,511,512,513,514,515,524,525,526,527,528,539,540,541,542,543,544,545,546,552,553,554,555,567,568,569,570,571,572,573,574,575,578,579,580,581,582,583,596,597,598,599,600,601,602,603,604,605,606,607,608,609,610,611,626,627,628,629,630,631,632,633,634,635,636,637,638,656,657,658,659,660,661,662,663,664,665,666],[32.0,202.0,255.0,253.0,253.0,175.0,21.0,84.0,144.0,190.0,251.0,253.0,251.0,251.0,251.0,174.0,6.0,37.0,166.0,218.0,236.0,251.0,251.0,251.0,253.0,251.0,251.0,251.0,251.0,156.0,115.0,251.0,251.0,253.0,251.0,251.0,251.0,251.0,253.0,251.0,251.0,251.0,251.0,180.0,105.0,241.0,251.0,251.0,253.0,251.0,251.0,251.0,122.0,72.0,71.0,71.0,148.0,251.0,180.0,73.0,253.0,253.0,253.0,253.0,202.0,253.0,253.0,143.0,31.0,189.0,251.0,251.0,251.0,31.0,189.0,251.0,142.0,63.0,236.0,251.0,251.0,96.0,124.0,246.0,142.0,21.0,166.0,21.0,73.0,251.0,251.0,251.0,71.0,217.0,142.0,32.0,190.0,251.0,142.0,73.0,251.0,251.0,251.0,71.0,217.0,142.0,73.0,251.0,251.0,142.0,73.0,253.0,253.0,253.0,72.0,156.0,103.0,73.0,253.0,253.0,253.0,72.0,73.0,251.0,251.0,251.0,174.0,73.0,251.0,251.0,251.0,71.0,73.0,251.0,251.0,251.0,251.0,73.0,251.0,251.0,251.0,71.0,42.0,205.0,251.0,251.0,251.0,79.0,73.0,251.0,251.0,251.0,71.0,41.0,226.0,251.0,251.0,232.0,77.0,73.0,251.0,251.0,251.0,71.0,166.0,253.0,253.0,255.0,253.0,227.0,73.0,21.0,125.0,253.0,253.0,143.0,16.0,169.0,251.0,253.0,251.0,251.0,251.0,174.0,105.0,63.0,144.0,253.0,251.0,251.0,142.0,15.0,35.0,253.0,251.0,251.0,251.0,251.0,243.0,217.0,217.0,231.0,251.0,253.0,251.0,220.0,20.0,143.0,142.0,236.0,251.0,251.0,253.0,251.0,251.0,251.0,251.0,253.0,251.0,137.0,61.0,71.0,200.0,253.0,251.0,251.0,251.0,251.0,201.0,71.0,10.0])|1.0         |[0.5,0.5,0.5,0.5,0.5,0.5,0.5,0.5,0.5,0.5,0.5,0.5,0.5,0.5,0.5,0.5,0.5,0.5,0.5,0.5,0.5,0.5,0.5,0.5,0.5,0.5,0.5,0.5,0.5,0.5,0.5,0.5,0.5,0.5,0.5,0.5,0.5,0.5,0.5,0.5,0.5,0.5,0.5,0.5,0.5,0.5,0.5,0.5,0.5,0.5,0.5,0.5,0.5,0.5,0.5,0.5,0.5,0.5,0.5,0.5,0.5,0.5,0.5,0.5,0.5,0.5,0.5,0.5,0.5,0.5,0.5,0.5,0.5,0.5,0.5,0.5,0.5,0.5,0.5,0.5,0.5,0.5,0.5,0.5,0.5,0.5,0.5,0.5,0.5,0.5,0.5,0.5,0.5,0.5,0.5,0.0,0.0,0.0,0.0,0.0,0.0,0.0,0.0,0.5,0.5,0.5,0.5,0.5,0.5,0.5,0.5,0.5,0.5,0.5,0.5,0.5,0.5,0.5,0.5,0.0,0.0,0.0,0.0,0.0,0.0,0.12549019607843137,0.792156862745098,1.0,0.9921568627450981,0.9921568627450981,0.6862745098039216,0.08235294117647059,0.0,0.0,0.5,0.5,0.5,0.5,0.5,0.5,0.5,0.5,0.5,0.5,0.5,0.5,0.0,0.0,0.0,0.0,0.0,0.3320158102766798,0.5647058823529412,0.7450980392156863,0.984313725490196,0.9921568627450981,0.984313725490196,0.984313725490196,0.9881889763779528,0.6823529411764706,0.0,0.0,0.0,0.0,0.0,0.5,0.5,0.5,0.5,0.5,0.5,0.5,0.5,0.5,0.0,0.02390438247011952,0.14741035856573706,0.6561264822134387,0.8549019607843137,0.9254901960784314,0.9881889763779528,0.9881889763779528,0.9881889763779528,0.9921568627450981,0.984313725490196,0.984313725490196,0.9881889763779528,0.9881889763779528,0.616600790513834,0.0,0.0,0.0,0.0,0.5,0.5,0.5,0.5,0.5,0.5,0.5,0.5,0.5,0.0,0.46558704453441296,0.9881889763779528,0.984313725490196,0.9960629921259843,0.9881889763779528,0.9881889763779528,0.9881889763779528,0.9881889763779528,0.9960629921259843,0.9881889763779528,0.984313725490196,0.984313725490196,0.9881889763779528,0.7086614173228346,0.0,0.0,0.0,0.0,0.5,0.5,0.5,0.5,0.5,0.5,0.5,0.5,0.0,0.4585152838427947,0.9450980392156862,0.984313725490196,0.992094861660079,0.9999999999999999,0.984313725490196,0.9881889763779528,0.9881889763779528,0.4784313725490196,0.28346456692913385,0.2795275590551181,0.2795275590551181,0.5826771653543307,0.984313725490196,0.7058823529411764,0.0,0.0,0.0,0.0,0.5,0.5,0.5,0.5,0.5,0.5,0.5,0.5,0.6083333333333333,0.9960629921259843,0.9921568627450981,0.9921568627450981,0.9921568627450981,0.792156862745098,0.9960629921259843,0.9960629921259843,0.562992125984252,0.0,0.0,0.0,0.0,0.0,0.0,0.0,0.0,0.0,0.0,0.0,0.5,0.5,0.5,0.5,0.5,0.5,0.5,0.5,0.1987179487179487,0.7411764705882353,0.9960317460317459,0.992094861660079,0.9881889763779528,0.1220472440944882,0.7411764705882353,0.9881889763779528,0.5568627450980392,0.0,0.0,0.0,0.0,0.0,0.0,0.0,0.0,0.0,0.0,0.0,0.5,0.5,0.5,0.5,0.5,0.5,0.5,0.5,0.27876106194690264,0.9254901960784314,0.992094861660079,0.9881889763779528,0.3779527559055118,0.0,0.4881889763779528,0.968503937007874,0.5590551181102362,0.0,0.0,0.0,0.0,0.0,0.0,0.0,0.08300395256916995,0.6535433070866141,0.08235294117647059,0.0,0.5,0.5,0.5,0.5,0.5,0.5,0.5,0.5,0.28627450980392155,0.992094861660079,0.9881889763779528,0.9881889763779528,0.2795275590551181,0.0,0.0,0.8543307086614174,0.5568627450980392,0.0,0.0,0.0,0.0,0.0,0.0,0.12648221343873517,0.7480314960629921,0.9881889763779528,0.5568627450980392,0.0,0.5,0.5,0.5,0.5,0.5,0.5,0.5,0.5,0.28627450980392155,0.9881889763779528,0.9881889763779528,0.9881889763779528,0.2795275590551181,0.0,0.0,0.8577075098814229,0.5590551181102362,0.0,0.0,0.0,0.0,0.0,0.0,0.2874015748031496,0.9881889763779528,0.9881889763779528,0.5612648221343873,0.0,0.5,0.5,0.5,0.5,0.5,0.5,0.5,0.0,0.28627450980392155,0.9960629921259843,0.9921568627450981,0.9921568627450981,0.28346456692913385,0.0,0.0,0.6141732283464567,0.403921568627451,0.0,0.0,0.0,0.0,0.0,0.0,0.28627450980392155,0.9960629921259843,0.9960629921259843,0.9960629921259843,0.2823529411764706,0.5,0.5,0.5,0.5,0.5,0.5,0.5,0.0,0.28627450980392155,0.984313725490196,0.9881889763779528,0.9881889763779528,0.6823529411764706,0.0,0.0,0.0,0.0,0.0,0.0,0.0,0.0,0.0,0.0,0.2874015748031496,0.9881889763779528,0.984313725490196,0.984313725490196,0.2784313725490196,0.5,0.5,0.5,0.5,0.5,0.5,0.5,0.0,0.2874015748031496,0.984313725490196,0.9881889763779528,0.9881889763779528,0.9881889763779528,0.0,0.0,0.0,0.0,0.0,0.0,0.0,0.0,0.0,0.0,0.2885375494071146,0.9881889763779528,0.992094861660079,0.992094861660079,0.2784313725490196,0.5,0.5,0.5,0.5,0.5,0.5,0.5,0.0,0.1653543307086614,0.803921568627451,0.9881889763779528,0.9881889763779528,0.9881889763779528,0.3110236220472441,0.0,0.0,0.0,0.0,0.0,0.0,0.0,0.0,0.0,0.2885375494071146,0.9881889763779528,0.992094861660079,0.992094861660079,0.2784313725490196,0.5,0.5,0.5,0.5,0.5,0.5,0.5,0.0,0.0,0.16205533596837943,0.8862745098039215,0.9881889763779528,0.9881889763779528,0.9098039215686274,0.3031496062992126,0.0,0.0,0.0,0.0,0.0,0.0,0.0,0.0,0.2874015748031496,0.992094861660079,0.992094861660079,0.992094861660079,0.3585858585858586,0.5,0.5,0.5,0.5,0.5,0.5,0.5,0.0,0.0,0.0,0.6535433070866141,0.9921568627450981,0.9921568627450981,1.0,0.9960629921259843,0.8937007874015748,0.2874015748031496,0.0826771653543307,0.0,0.0,0.0,0.0,0.0,0.49019607843137253,0.9999999999999999,0.9960629921259843,0.5607843137254902,0.0,0.5,0.5,0.5,0.5,0.5,0.5,0.5,0.0,0.0,0.0,0.06299212598425197,0.6653543307086615,0.984313725490196,0.9921568627450981,0.9881889763779528,0.984313725490196,0.984313725490196,0.6823529411764706,0.4117647058823529,0.0,0.0,0.24803149606299213,0.5669291338582677,0.9999999999999999,0.992094861660079,0.9960317460317459,0.6283185840707964,0.5,0.5,0.5,0.5,0.5,0.5,0.5,0.5,0.0,0.0,0.0,0.0,0.05905511811023622,0.13725490196078433,0.9921568627450981,0.984313725490196,0.9881889763779528,0.9881889763779528,0.9881889763779528,0.9529411764705882,0.8543307086614174,0.8543307086614174,0.9130434782608695,0.992094861660079,0.9960629921259843,0.984313725490196,0.9734513274336283,0.6896551724137931,0.5,0.5,0.0,0.5,0.5,0.5,0.5,0.5,0.0,0.0,0.0,0.0,0.0,0.0,0.5607843137254902,0.5590551181102362,0.9254901960784314,0.984313725490196,0.984313725490196,0.9921568627450981,0.984313725490196,0.984313725490196,0.984313725490196,0.984313725490196,0.9921568627450981,1.0,1.0,0.5,0.5,0.5,0.5,0.5,0.5,0.5,0.5,0.5,0.5,0.0,0.0,0.0,0.0,0.0,0.0,0.0,0.24015748031496062,0.2795275590551181,0.7874015748031495,0.9960629921259843,0.992094861660079,0.992094861660079,0.992094861660079,1.0,0.8007968127490039,0.4104046242774566,1.0,0.5,0.5,0.5,0.5,0.5,0.5,0.5,0.5,0.5,0.5,0.5,0.0,0.0,0.0,0.0,0.0,0.0,0.0,0.0,0.0,0.0,0.0,0.0,0.0,0.0]|[-19.92235276396508,19.92235276396508]  |[2.2275739031130115E-9,0.9999999977724261]|1.0       |\n+-----+------------------------------------------------------------------------------------------------------------------------------------------------------------------------------------------------------------------------------------------------------------------------------------------------------------------------------------------------------------------------------------------------------------------------------------------------------------------------------------------------------------------------------------------------------------------------------------------------------------------------------------------------------------------------------------------------------------------------------------------------------------------------------------------------------------------------------------------------------------------------------------------------------------------------------------------------------------------------------------------------------------------------------------------------------------------------------------------------------------------------------------------------------------------------------------------------------------------------------------------------------------------------------------------------------------------------------------------------------------------------------------------------------------------------------------------------------------------------------------------------------------------------------------------------------------------------------------------------------------------------------------------------------------------------------------------------------------------------------------------------------------------------------------------------------------------------------------------------------------------------------------------------------------------------------------------------------------------------------------------------------------------------------------------------------------------------------------------------------------------------------------------------------------------------------------------------------------------------------------------------------------------------------------------------------------------------------------------------------------+------------+----------------------------------------------------------------------------------------------------------------------------------------------------------------------------------------------------------------------------------------------------------------------------------------------------------------------------------------------------------------------------------------------------------------------------------------------------------------------------------------------------------------------------------------------------------------------------------------------------------------------------------------------------------------------------------------------------------------------------------------------------------------------------------------------------------------------------------------------------------------------------------------------------------------------------------------------------------------------------------------------------------------------------------------------------------------------------------------------------------------------------------------------------------------------------------------------------------------------------------------------------------------------------------------------------------------------------------------------------------------------------------------------------------------------------------------------------------------------------------------------------------------------------------------------------------------------------------------------------------------------------------------------------------------------------------------------------------------------------------------------------------------------------------------------------------------------------------------------------------------------------------------------------------------------------------------------------------------------------------------------------------------------------------------------------------------------------------------------------------------------------------------------------------------------------------------------------------------------------------------------------------------------------------------------------------------------------------------------------------------------------------------------------------------------------------------------------------------------------------------------------------------------------------------------------------------------------------------------------------------------------------------------------------------------------------------------------------------------------------------------------------------------------------------------------------------------------------------------------------------------------------------------------------------------------------------------------------------------------------------------------------------------------------------------------------------------------------------------------------------------------------------------------------------------------------------------------------------------------------------------------------------------------------------------------------------------------------------------------------------------------------------------------------------------------------------------------------------------------------------------------------------------------------------------------------------------------------------------------------------------------------------------------------------------------------------------------------------------------------------------------------------------------------------------------------------------------------------------------------------------------------------------------------------------------------------------------------------------------------------------------------------------------------------------------------------------------------------------------------------------------------------------------------------------------------------------------------------------------------------------------------------------------------------------------------------------------------------------------------------------------------------------------------------------------------------------------------------------------------------------------------------------------------------------------------------------------------------------------------------------------------------------------------------------------------------------------------------------------------------------------------------------------------------------------------------------------------------------------------------------------------------------------------------------------------------------------------------------------------------------------------------------------------------------------------------------------------------------------------------------------------------------------------------------------------------------------------------------------------------------------------------------------------------------------------------------------------------------------------------------------------------------------------------------------------------------------------------------------------------------------------------------------------------------------------------------------------------------------------------------------------------------------------------------------------------------------------------------------------------------------------------------------------------------------------------------------------------------------------------------------------------------------------------------------------------------------------------------------------------------------------------------------------------------------------------------------------------------------------------------------------------------------------------------------------------------------------------------------------------------------------------------------------------------------------------------------------------------------------------------+----------------------------------------+------------------------------------------+----------+\nonly showing top 4 rows\n\n"
     ]
    }
   ],
   "source": [
    "results.show(truncate=False, n=4)"
   ]
  },
  {
   "cell_type": "code",
   "execution_count": 0,
   "metadata": {
    "application/vnd.databricks.v1+cell": {
     "cellMetadata": {},
     "inputWidgets": {},
     "nuid": "6e4cfa30-011a-4f73-bfbb-118ea56f04d4",
     "showTitle": false,
     "title": ""
    }
   },
   "outputs": [],
   "source": [
    "evaluator = MulticlassClassificationEvaluator(labelCol=\"indexedLabel\", predictionCol=\"prediction\", metricName=\"accuracy\")\n",
    "accuracy = evaluator.evaluate(results)"
   ]
  },
  {
   "cell_type": "code",
   "execution_count": 0,
   "metadata": {
    "application/vnd.databricks.v1+cell": {
     "cellMetadata": {},
     "inputWidgets": {},
     "nuid": "db345c1e-9027-404d-976c-97e9a3a4afd2",
     "showTitle": false,
     "title": ""
    }
   },
   "outputs": [
    {
     "output_type": "stream",
     "name": "stdout",
     "output_type": "stream",
     "text": [
      "Test Error: 0.03703703703703709\n"
     ]
    }
   ],
   "source": [
    "print(f\"Test Error: {1-accuracy}\")"
   ]
  },
  {
   "cell_type": "code",
   "execution_count": 0,
   "metadata": {
    "application/vnd.databricks.v1+cell": {
     "cellMetadata": {},
     "inputWidgets": {},
     "nuid": "b7281ea2-469c-434d-aad5-c25deaf4b1d3",
     "showTitle": false,
     "title": ""
    }
   },
   "outputs": [],
   "source": [
    "# Regression"
   ]
  },
  {
   "cell_type": "code",
   "execution_count": 0,
   "metadata": {
    "application/vnd.databricks.v1+cell": {
     "cellMetadata": {},
     "inputWidgets": {},
     "nuid": "51684fbb-bde3-401e-948a-c07b944c538c",
     "showTitle": false,
     "title": ""
    }
   },
   "outputs": [],
   "source": [
    "# Linear Regression\n",
    "from pyspark.ml.regression import LinearRegression"
   ]
  },
  {
   "cell_type": "code",
   "execution_count": 0,
   "metadata": {
    "application/vnd.databricks.v1+cell": {
     "cellMetadata": {},
     "inputWidgets": {},
     "nuid": "8d182fee-d40d-4eb5-bb24-9c7007ba5090",
     "showTitle": false,
     "title": ""
    }
   },
   "outputs": [],
   "source": [
    "training=spark.read.format(source=\"libsvm\").load(\"file:///databricks/driver/spark/data/mllib/sample_linear_regression_data.txt\")"
   ]
  },
  {
   "cell_type": "code",
   "execution_count": 0,
   "metadata": {
    "application/vnd.databricks.v1+cell": {
     "cellMetadata": {},
     "inputWidgets": {},
     "nuid": "153fb349-4af5-45dc-8534-9ed9cfe945a8",
     "showTitle": false,
     "title": ""
    }
   },
   "outputs": [
    {
     "output_type": "stream",
     "name": "stdout",
     "output_type": "stream",
     "text": [
      "+-------------------+------------------------------------------------------------------------------------------------------------------------------------------------------------------------------------------------------------------------------------+\n|label              |features                                                                                                                                                                                                                            |\n+-------------------+------------------------------------------------------------------------------------------------------------------------------------------------------------------------------------------------------------------------------------+\n|-9.490009878824548 |(10,[0,1,2,3,4,5,6,7,8,9],[0.4551273600657362,0.36644694351969087,-0.38256108933468047,-0.4458430198517267,0.33109790358914726,0.8067445293443565,-0.2624341731773887,-0.44850386111659524,-0.07269284838169332,0.5658035575800715])|\n|0.2577820163584905 |(10,[0,1,2,3,4,5,6,7,8,9],[0.8386555657374337,-0.1270180511534269,0.499812362510895,-0.22686625128130267,-0.6452430441812433,0.18869982177936828,-0.5804648622673358,0.651931743775642,-0.6555641246242951,0.17485476357259122])    |\n|-4.438869807456516 |(10,[0,1,2,3,4,5,6,7,8,9],[0.5025608135349202,0.14208069682973434,0.16004976900412138,0.505019897181302,-0.9371635223468384,-0.2841601610457427,0.6355938616712786,-0.1646249064941625,0.9480713629917628,0.42681251564645817])     |\n|-19.782762789614537|(10,[0,1,2,3,4,5,6,7,8,9],[-0.0388509668871313,-0.4166870051763918,0.8997202693189332,0.6409836467726933,0.273289095712564,-0.26175701211620517,-0.2794902492677298,-0.1306778297187794,-0.08536581111046115,-0.05462315824828923]) |\n+-------------------+------------------------------------------------------------------------------------------------------------------------------------------------------------------------------------------------------------------------------------+\nonly showing top 4 rows\n\n"
     ]
    }
   ],
   "source": [
    "training.show(truncate=False, n=4)"
   ]
  },
  {
   "cell_type": "code",
   "execution_count": 0,
   "metadata": {
    "application/vnd.databricks.v1+cell": {
     "cellMetadata": {},
     "inputWidgets": {},
     "nuid": "98de09fe-947f-4b73-af0c-c7247eeadf51",
     "showTitle": false,
     "title": ""
    }
   },
   "outputs": [],
   "source": [
    "lr=LinearRegression(featuresCol=\"features\",labelCol=\"label\",maxIter=10,regParam=0.3,elasticNetParam=0.8)\n",
    "\n",
    "lrModel=lr.fit(dataset=training)"
   ]
  },
  {
   "cell_type": "code",
   "execution_count": 0,
   "metadata": {
    "application/vnd.databricks.v1+cell": {
     "cellMetadata": {},
     "inputWidgets": {},
     "nuid": "181d6bfe-c11d-42d6-9d6e-4874c5d3577a",
     "showTitle": false,
     "title": ""
    }
   },
   "outputs": [
    {
     "output_type": "stream",
     "name": "stdout",
     "output_type": "stream",
     "text": [
      "[0.0,0.32292516677405936,-0.3438548034562218,1.9156017023458414,0.05288058680386263,0.765962720459771,0.0,-0.15105392669186682,-0.21587930360904642,0.22025369188813426]\n"
     ]
    }
   ],
   "source": [
    "print(lrModel.coefficients)"
   ]
  },
  {
   "cell_type": "code",
   "execution_count": 0,
   "metadata": {
    "application/vnd.databricks.v1+cell": {
     "cellMetadata": {},
     "inputWidgets": {},
     "nuid": "ee70a669-bb08-4323-8da2-b7403345c719",
     "showTitle": false,
     "title": ""
    }
   },
   "outputs": [
    {
     "output_type": "stream",
     "name": "stdout",
     "output_type": "stream",
     "text": [
      "0.1598936844239736\n"
     ]
    }
   ],
   "source": [
    "print(lrModel.intercept)"
   ]
  },
  {
   "cell_type": "code",
   "execution_count": 0,
   "metadata": {
    "application/vnd.databricks.v1+cell": {
     "cellMetadata": {},
     "inputWidgets": {},
     "nuid": "8b120d8d-d6bf-49ea-9faf-91fb7c8b15a8",
     "showTitle": false,
     "title": ""
    }
   },
   "outputs": [],
   "source": [
    "trainingSummary=lrModel.summary"
   ]
  },
  {
   "cell_type": "code",
   "execution_count": 0,
   "metadata": {
    "application/vnd.databricks.v1+cell": {
     "cellMetadata": {},
     "inputWidgets": {},
     "nuid": "1d54bb98-dafb-46fa-a31e-bc90fd0128a2",
     "showTitle": false,
     "title": ""
    }
   },
   "outputs": [
    {
     "output_type": "stream",
     "name": "stdout",
     "output_type": "stream",
     "text": [
      "Total Number of Iterations: 6\n"
     ]
    }
   ],
   "source": [
    "print(f\"Total Number of Iterations: {trainingSummary.totalIterations}\")"
   ]
  },
  {
   "cell_type": "code",
   "execution_count": 0,
   "metadata": {
    "application/vnd.databricks.v1+cell": {
     "cellMetadata": {},
     "inputWidgets": {},
     "nuid": "869be0f0-e0f0-4c2f-bb4b-7e8e16e6026f",
     "showTitle": false,
     "title": ""
    }
   },
   "outputs": [
    {
     "output_type": "stream",
     "name": "stdout",
     "output_type": "stream",
     "text": [
      "Objective History: [0.49999999999999994, 0.4967620357443381, 0.4936361664340463, 0.4936351537897608, 0.4936351214177871, 0.49363512062528014, 0.4936351206216114]\n"
     ]
    }
   ],
   "source": [
    "print(f\"Objective History: {trainingSummary.objectiveHistory}\")"
   ]
  },
  {
   "cell_type": "code",
   "execution_count": 0,
   "metadata": {
    "application/vnd.databricks.v1+cell": {
     "cellMetadata": {},
     "inputWidgets": {},
     "nuid": "8f40c0fc-bee6-4230-a879-d2b13dc45796",
     "showTitle": false,
     "title": ""
    }
   },
   "outputs": [
    {
     "output_type": "stream",
     "name": "stdout",
     "output_type": "stream",
     "text": [
      "+--------------------+\n|residuals           |\n+--------------------+\n|-9.889232683103197  |\n|0.5533794340053554  |\n|-5.204019455758823  |\n|-20.566686715507508 |\n|-9.4497405180564    |\n|-6.909112502719486  |\n|-10.00431602969873  |\n|2.062397807050484   |\n|3.1117508432954772  |\n|-15.893608229419382 |\n|-5.036284254673026  |\n|6.483215876994333   |\n|12.429497299109002  |\n|-20.32003219007654  |\n|-2.0049838218725005 |\n|-17.867901734183793 |\n|7.646455887420495   |\n|-2.2653482182417406 |\n|-0.10308920436195645|\n|-1.380034070385301  |\n+--------------------+\nonly showing top 20 rows\n\n"
     ]
    }
   ],
   "source": [
    "trainingSummary.residuals.show(truncate=False)"
   ]
  },
  {
   "cell_type": "code",
   "execution_count": 0,
   "metadata": {
    "application/vnd.databricks.v1+cell": {
     "cellMetadata": {},
     "inputWidgets": {},
     "nuid": "86f24739-6995-4740-b83f-7e4af3270ded",
     "showTitle": false,
     "title": ""
    }
   },
   "outputs": [
    {
     "output_type": "stream",
     "name": "stdout",
     "output_type": "stream",
     "text": [
      "RMSE: 10.189077167598475\n"
     ]
    }
   ],
   "source": [
    "print(f\"RMSE: {trainingSummary.rootMeanSquaredError}\")"
   ]
  },
  {
   "cell_type": "code",
   "execution_count": 0,
   "metadata": {
    "application/vnd.databricks.v1+cell": {
     "cellMetadata": {},
     "inputWidgets": {},
     "nuid": "6b44ac18-a700-4396-bc37-bcce43d2ab9b",
     "showTitle": false,
     "title": ""
    }
   },
   "outputs": [
    {
     "output_type": "stream",
     "name": "stdout",
     "output_type": "stream",
     "text": [
      "r2: 0.022861466913958184\n"
     ]
    }
   ],
   "source": [
    "print(f\"r2: {trainingSummary.r2}\")"
   ]
  },
  {
   "cell_type": "code",
   "execution_count": 0,
   "metadata": {
    "application/vnd.databricks.v1+cell": {
     "cellMetadata": {},
     "inputWidgets": {},
     "nuid": "76c41ff3-3052-45dd-b82f-6d82064ecad0",
     "showTitle": false,
     "title": ""
    }
   },
   "outputs": [],
   "source": [
    "# Generalized Linear Regression\n",
    "from pyspark.ml.regression import GeneralizedLinearRegression\n"
   ]
  },
  {
   "cell_type": "code",
   "execution_count": 0,
   "metadata": {
    "application/vnd.databricks.v1+cell": {
     "cellMetadata": {},
     "inputWidgets": {},
     "nuid": "43fef867-53d2-4308-a454-580b6184a84a",
     "showTitle": false,
     "title": ""
    }
   },
   "outputs": [],
   "source": [
    "glr=GeneralizedLinearRegression(labelCol=\"label\",featuresCol=\"features\", family=\"gaussian\",link=\"identity\",maxIter=10,regParam=0.3)\n",
    "\n",
    "\n",
    "model=glr.fit(training)"
   ]
  },
  {
   "cell_type": "code",
   "execution_count": 0,
   "metadata": {
    "application/vnd.databricks.v1+cell": {
     "cellMetadata": {},
     "inputWidgets": {},
     "nuid": "6b49ad4b-4b74-4477-a151-d40959b13eec",
     "showTitle": false,
     "title": ""
    }
   },
   "outputs": [
    {
     "output_type": "stream",
     "name": "stdout",
     "output_type": "stream",
     "text": [
      "Out[23]: DenseVector([0.0105, 0.8003, -0.7845, 2.368, 0.501, 1.1222, -0.2927, -0.4984, -0.6036, 0.6726])"
     ]
    }
   ],
   "source": [
    "model.coefficients"
   ]
  },
  {
   "cell_type": "code",
   "execution_count": 0,
   "metadata": {
    "application/vnd.databricks.v1+cell": {
     "cellMetadata": {},
     "inputWidgets": {},
     "nuid": "0a0bc1c8-1000-48a9-8746-14656cb8b334",
     "showTitle": false,
     "title": ""
    }
   },
   "outputs": [
    {
     "output_type": "stream",
     "name": "stdout",
     "output_type": "stream",
     "text": [
      "Out[24]: 0.14592176145232041"
     ]
    }
   ],
   "source": [
    "model.intercept"
   ]
  },
  {
   "cell_type": "code",
   "execution_count": 0,
   "metadata": {
    "application/vnd.databricks.v1+cell": {
     "cellMetadata": {},
     "inputWidgets": {},
     "nuid": "94c95ae3-9842-4f05-a1ed-01927da5eb3e",
     "showTitle": false,
     "title": ""
    }
   },
   "outputs": [],
   "source": [
    "summary=model.summary"
   ]
  },
  {
   "cell_type": "code",
   "execution_count": 0,
   "metadata": {
    "application/vnd.databricks.v1+cell": {
     "cellMetadata": {},
     "inputWidgets": {},
     "nuid": "cca4131d-002f-4c3a-ae60-5944eba0843a",
     "showTitle": false,
     "title": ""
    }
   },
   "outputs": [
    {
     "output_type": "stream",
     "name": "stdout",
     "output_type": "stream",
     "text": [
      "Coeficient Standard Errors: [0.7950428434287478, 0.8049713176546897, 0.7975916824772489, 0.8312649247659919, 0.7945436200517938, 0.8118992572197593, 0.7919506385542777, 0.7973378214726764, 0.8300714999626418, 0.7771333489686802, 0.463930109648428]\nT Values: [0.013259446542269243, 0.9942283563442594, -0.9836067393599172, 2.848657084633759, 0.6305509179635714, 1.382234441029355, -0.3695715687490668, -0.6250446546128238, -0.7271418403049983, 0.8654306337661122, 0.31453393176593286]\nP Values: [0.989426199114056, 0.32060241580811044, 0.3257943227369877, 0.004575078538306521, 0.5286281628105467, 0.16752945248679119, 0.7118614002322872, 0.5322327097421431, 0.467486325282384, 0.3872259825794293, 0.753249430501097]\nDispersion: 105.60988356821714\nNull Deviance: 53229.3654338832\nResidual Degree of Freedom Null: 500\nDeviance: 51748.8429484264\nResidual Degree of Freedom: 490\nAIC 3769.1895871765314\n+-------------------+\n|  devianceResiduals|\n+-------------------+\n|-10.974359174246889|\n| 0.8872320138420559|\n| -4.596541837478908|\n|-20.411667435019638|\n|-10.270419345342642|\n|-6.0156058956799905|\n|-10.663939415849267|\n| 2.1153960525024713|\n| 3.9807132379137675|\n|-17.225218272069533|\n| -4.611647633532147|\n| 6.4176669407698546|\n| 11.407137945300537|\n| -20.70176540467664|\n| -2.683748540510967|\n|-16.755494794232536|\n|  8.154668342638725|\n|-1.4355057987358848|\n|-0.6435058688185704|\n|  -1.13802589316832|\n+-------------------+\nonly showing top 20 rows\n\nDeviance Residuals: None\n"
     ]
    }
   ],
   "source": [
    "print(f\"Coeficient Standard Errors: {summary.coefficientStandardErrors}\")\n",
    "\n",
    "print(f\"T Values: {summary.tValues}\")\n",
    "\n",
    "print(f\"P Values: {summary.pValues}\")\n",
    "\n",
    "print(f\"Dispersion: {summary.dispersion}\")\n",
    "\n",
    "print(f\"Null Deviance: {summary.nullDeviance}\")\n",
    "\n",
    "print(f\"Residual Degree of Freedom Null: {summary.residualDegreeOfFreedomNull}\")\n",
    "\n",
    "print(f\"Deviance: {summary.deviance}\")\n",
    "\n",
    "print(f\"Residual Degree of Freedom: {summary.residualDegreeOfFreedom}\")\n",
    "\n",
    "print(f\"AIC {summary.aic}\")\n",
    "\n",
    "print(f\"Deviance Residuals: {summary.residuals().show()}\")\n"
   ]
  },
  {
   "cell_type": "code",
   "execution_count": 0,
   "metadata": {
    "application/vnd.databricks.v1+cell": {
     "cellMetadata": {},
     "inputWidgets": {},
     "nuid": "a3e5bfac-0202-41ab-885e-a4197ffb1637",
     "showTitle": false,
     "title": ""
    }
   },
   "outputs": [],
   "source": [
    "from pyspark.ml.regression import DecisionTreeRegressor\n",
    "from pyspark.ml import Pipeline\n",
    "from pyspark.ml.feature import VectorIndexer\n",
    "from pyspark.ml.evaluation import RegressionEvaluator"
   ]
  },
  {
   "cell_type": "code",
   "execution_count": 0,
   "metadata": {
    "application/vnd.databricks.v1+cell": {
     "cellMetadata": {},
     "inputWidgets": {},
     "nuid": "8f93a0c5-58ca-422d-8e3e-06ca462b44cf",
     "showTitle": false,
     "title": ""
    }
   },
   "outputs": [],
   "source": [
    "data=spark.read.format(\"libsvm\").load(\"file:///databricks/driver/spark/data/mllib/sample_libsvm_data.txt\")"
   ]
  },
  {
   "cell_type": "code",
   "execution_count": 0,
   "metadata": {
    "application/vnd.databricks.v1+cell": {
     "cellMetadata": {},
     "inputWidgets": {},
     "nuid": "8ba365fc-34c9-414d-bab7-3df5ecd11c6a",
     "showTitle": false,
     "title": ""
    }
   },
   "outputs": [
    {
     "output_type": "stream",
     "name": "stdout",
     "output_type": "stream",
     "text": [
      "+-----+---------------------------------------------------------------------------------------------------------------------------------------------------------------------------------------------------------------------------------------------------------------------------------------------------------------------------------------------------------------------------------------------------------------------------------------------------------------------------------------------------------------------------------------------------------------------------------------------------------------------------------------------------------------------------------------------------------------------------------------------------------------------------------------------------------------------------------------------------------------------------------------------------------------------------------------------------------------------------------------------------------------------------------------------------------------------------------------------------------------------------------------------------------------------------------------------------------------------------------------------------------------------------------------------------------------------------------------------------------------------------------------------------------------------------------------------------------------------------------------------------------------------------------------------------------------------------------------------------------------------------------------------------------------------------------------------------------------------------------------------------------------------------------------+\n|label|features                                                                                                                                                                                                                                                                                                                                                                                                                                                                                                                                                                                                                                                                                                                                                                                                                                                                                                                                                                                                                                                                                                                                                                                                                                                                                                                                                                                                                                                                                                                                                                                                                                                                                                                                                                               |\n+-----+---------------------------------------------------------------------------------------------------------------------------------------------------------------------------------------------------------------------------------------------------------------------------------------------------------------------------------------------------------------------------------------------------------------------------------------------------------------------------------------------------------------------------------------------------------------------------------------------------------------------------------------------------------------------------------------------------------------------------------------------------------------------------------------------------------------------------------------------------------------------------------------------------------------------------------------------------------------------------------------------------------------------------------------------------------------------------------------------------------------------------------------------------------------------------------------------------------------------------------------------------------------------------------------------------------------------------------------------------------------------------------------------------------------------------------------------------------------------------------------------------------------------------------------------------------------------------------------------------------------------------------------------------------------------------------------------------------------------------------------------------------------------------------------+\n|0.0  |(692,[127,128,129,130,131,154,155,156,157,158,159,181,182,183,184,185,186,187,188,189,207,208,209,210,211,212,213,214,215,216,217,235,236,237,238,239,240,241,242,243,244,245,262,263,264,265,266,267,268,269,270,271,272,273,289,290,291,292,293,294,295,296,297,300,301,302,316,317,318,319,320,321,328,329,330,343,344,345,346,347,348,349,356,357,358,371,372,373,374,384,385,386,399,400,401,412,413,414,426,427,428,429,440,441,442,454,455,456,457,466,467,468,469,470,482,483,484,493,494,495,496,497,510,511,512,520,521,522,523,538,539,540,547,548,549,550,566,567,568,569,570,571,572,573,574,575,576,577,578,594,595,596,597,598,599,600,601,602,603,604,622,623,624,625,626,627,628,629,630,651,652,653,654,655,656,657],[51.0,159.0,253.0,159.0,50.0,48.0,238.0,252.0,252.0,252.0,237.0,54.0,227.0,253.0,252.0,239.0,233.0,252.0,57.0,6.0,10.0,60.0,224.0,252.0,253.0,252.0,202.0,84.0,252.0,253.0,122.0,163.0,252.0,252.0,252.0,253.0,252.0,252.0,96.0,189.0,253.0,167.0,51.0,238.0,253.0,253.0,190.0,114.0,253.0,228.0,47.0,79.0,255.0,168.0,48.0,238.0,252.0,252.0,179.0,12.0,75.0,121.0,21.0,253.0,243.0,50.0,38.0,165.0,253.0,233.0,208.0,84.0,253.0,252.0,165.0,7.0,178.0,252.0,240.0,71.0,19.0,28.0,253.0,252.0,195.0,57.0,252.0,252.0,63.0,253.0,252.0,195.0,198.0,253.0,190.0,255.0,253.0,196.0,76.0,246.0,252.0,112.0,253.0,252.0,148.0,85.0,252.0,230.0,25.0,7.0,135.0,253.0,186.0,12.0,85.0,252.0,223.0,7.0,131.0,252.0,225.0,71.0,85.0,252.0,145.0,48.0,165.0,252.0,173.0,86.0,253.0,225.0,114.0,238.0,253.0,162.0,85.0,252.0,249.0,146.0,48.0,29.0,85.0,178.0,225.0,253.0,223.0,167.0,56.0,85.0,252.0,252.0,252.0,229.0,215.0,252.0,252.0,252.0,196.0,130.0,28.0,199.0,252.0,252.0,253.0,252.0,252.0,233.0,145.0,25.0,128.0,252.0,253.0,252.0,141.0,37.0])|\n|1.0  |(692,[158,159,160,161,185,186,187,188,189,213,214,215,216,217,240,241,242,243,244,245,267,268,269,270,271,295,296,297,298,322,323,324,325,326,349,350,351,352,353,377,378,379,380,381,404,405,406,407,408,431,432,433,434,435,459,460,461,462,463,486,487,488,489,490,514,515,516,517,518,542,543,544,545,569,570,571,572,573,596,597,598,599,600,601,624,625,626,627,652,653,654,655,680,681,682,683],[124.0,253.0,255.0,63.0,96.0,244.0,251.0,253.0,62.0,127.0,251.0,251.0,253.0,62.0,68.0,236.0,251.0,211.0,31.0,8.0,60.0,228.0,251.0,251.0,94.0,155.0,253.0,253.0,189.0,20.0,253.0,251.0,235.0,66.0,32.0,205.0,253.0,251.0,126.0,104.0,251.0,253.0,184.0,15.0,80.0,240.0,251.0,193.0,23.0,32.0,253.0,253.0,253.0,159.0,151.0,251.0,251.0,251.0,39.0,48.0,221.0,251.0,251.0,172.0,234.0,251.0,251.0,196.0,12.0,253.0,251.0,251.0,89.0,159.0,255.0,253.0,253.0,31.0,48.0,228.0,253.0,247.0,140.0,8.0,64.0,251.0,253.0,220.0,64.0,251.0,253.0,220.0,24.0,193.0,253.0,220.0])                                                                                                                                                                                                                                                                                                                                                                                                                                                                                                                                                                                                                                                                                                                                                                                                          |\n|1.0  |(692,[124,125,126,127,151,152,153,154,155,179,180,181,182,183,208,209,210,211,235,236,237,238,239,263,264,265,266,267,268,292,293,294,295,296,321,322,323,324,349,350,351,352,377,378,379,380,405,406,407,408,433,434,435,436,461,462,463,464,489,490,491,492,493,517,518,519,520,521,545,546,547,548,549,574,575,576,577,578,602,603,604,605,606,630,631,632,633,634,658,659,660,661,662],[145.0,255.0,211.0,31.0,32.0,237.0,253.0,252.0,71.0,11.0,175.0,253.0,252.0,71.0,144.0,253.0,252.0,71.0,16.0,191.0,253.0,252.0,71.0,26.0,221.0,253.0,252.0,124.0,31.0,125.0,253.0,252.0,252.0,108.0,253.0,252.0,252.0,108.0,255.0,253.0,253.0,108.0,253.0,252.0,252.0,108.0,253.0,252.0,252.0,108.0,253.0,252.0,252.0,108.0,255.0,253.0,253.0,170.0,253.0,252.0,252.0,252.0,42.0,149.0,252.0,252.0,252.0,144.0,109.0,252.0,252.0,252.0,144.0,218.0,253.0,253.0,255.0,35.0,175.0,252.0,252.0,253.0,35.0,73.0,252.0,252.0,253.0,35.0,31.0,211.0,252.0,253.0,35.0])                                                                                                                                                                                                                                                                                                                                                                                                                                                                                                                                                                                                                                                                                                                                                                                                                             |\n|1.0  |(692,[152,153,154,180,181,182,183,208,209,210,211,236,237,238,239,264,265,266,267,292,293,294,295,320,321,322,323,349,350,351,377,378,379,405,406,407,433,434,435,461,462,463,489,490,491,492,517,518,519,520,546,547,548,574,575,576,602,603,604,630,631,632,658,659,660,686,687,688],[5.0,63.0,197.0,20.0,254.0,230.0,24.0,20.0,254.0,254.0,48.0,20.0,254.0,255.0,48.0,20.0,254.0,254.0,57.0,20.0,254.0,254.0,108.0,16.0,239.0,254.0,143.0,178.0,254.0,143.0,178.0,254.0,143.0,178.0,254.0,162.0,178.0,254.0,240.0,113.0,254.0,240.0,83.0,254.0,245.0,31.0,79.0,254.0,246.0,38.0,214.0,254.0,150.0,144.0,241.0,8.0,144.0,240.0,2.0,144.0,254.0,82.0,230.0,247.0,40.0,168.0,209.0,31.0])                                                                                                                                                                                                                                                                                                                                                                                                                                                                                                                                                                                                                                                                                                                                                                                                                                                                                                                                                                                                                                                                                              |\n+-----+---------------------------------------------------------------------------------------------------------------------------------------------------------------------------------------------------------------------------------------------------------------------------------------------------------------------------------------------------------------------------------------------------------------------------------------------------------------------------------------------------------------------------------------------------------------------------------------------------------------------------------------------------------------------------------------------------------------------------------------------------------------------------------------------------------------------------------------------------------------------------------------------------------------------------------------------------------------------------------------------------------------------------------------------------------------------------------------------------------------------------------------------------------------------------------------------------------------------------------------------------------------------------------------------------------------------------------------------------------------------------------------------------------------------------------------------------------------------------------------------------------------------------------------------------------------------------------------------------------------------------------------------------------------------------------------------------------------------------------------------------------------------------------------+\nonly showing top 4 rows\n\n"
     ]
    }
   ],
   "source": [
    "data.show(truncate=False,n=4)"
   ]
  },
  {
   "cell_type": "code",
   "execution_count": 0,
   "metadata": {
    "application/vnd.databricks.v1+cell": {
     "cellMetadata": {},
     "inputWidgets": {},
     "nuid": "23081b07-cef7-4424-a9b6-5f96bda68531",
     "showTitle": false,
     "title": ""
    }
   },
   "outputs": [],
   "source": [
    "featureIndexer=VectorIndexer(maxCategories=4,inputCol=\"features\",outputCol=\"indexedFeatures\").fit(dataset=data)"
   ]
  },
  {
   "cell_type": "code",
   "execution_count": 0,
   "metadata": {
    "application/vnd.databricks.v1+cell": {
     "cellMetadata": {},
     "inputWidgets": {},
     "nuid": "c472aff2-b621-4229-8745-1cb3b86fd4a3",
     "showTitle": false,
     "title": ""
    }
   },
   "outputs": [],
   "source": [
    "trainingData,testData=data.randomSplit(weights=(0.7,0.3),seed=101)"
   ]
  },
  {
   "cell_type": "code",
   "execution_count": 0,
   "metadata": {
    "application/vnd.databricks.v1+cell": {
     "cellMetadata": {},
     "inputWidgets": {},
     "nuid": "a84bf3da-a435-40f6-a45c-ec95c532152a",
     "showTitle": false,
     "title": ""
    }
   },
   "outputs": [],
   "source": [
    "dt=DecisionTreeRegressor(featuresCol=\"indexedFeatures\")"
   ]
  },
  {
   "cell_type": "code",
   "execution_count": 0,
   "metadata": {
    "application/vnd.databricks.v1+cell": {
     "cellMetadata": {},
     "inputWidgets": {},
     "nuid": "5a874e48-515c-4981-a5e1-c0e24db11655",
     "showTitle": false,
     "title": ""
    }
   },
   "outputs": [],
   "source": [
    "pipeline=Pipeline(stages=(featureIndexer,dt,))"
   ]
  },
  {
   "cell_type": "code",
   "execution_count": 0,
   "metadata": {
    "application/vnd.databricks.v1+cell": {
     "cellMetadata": {},
     "inputWidgets": {},
     "nuid": "9ae5d1ed-8af3-4fd5-b39b-5d208cc3c3a0",
     "showTitle": false,
     "title": ""
    }
   },
   "outputs": [],
   "source": [
    "model=pipeline.fit(dataset=trainingData)"
   ]
  },
  {
   "cell_type": "code",
   "execution_count": 0,
   "metadata": {
    "application/vnd.databricks.v1+cell": {
     "cellMetadata": {},
     "inputWidgets": {},
     "nuid": "ff912070-6c5f-4781-8ec5-af82df89fe21",
     "showTitle": false,
     "title": ""
    }
   },
   "outputs": [],
   "source": [
    "predictions=model.transform(dataset=testData)"
   ]
  },
  {
   "cell_type": "code",
   "execution_count": 0,
   "metadata": {
    "application/vnd.databricks.v1+cell": {
     "cellMetadata": {},
     "inputWidgets": {},
     "nuid": "53eb7af2-1e91-4553-8769-a2429fa97ff4",
     "showTitle": false,
     "title": ""
    }
   },
   "outputs": [
    {
     "output_type": "stream",
     "name": "stdout",
     "output_type": "stream",
     "text": [
      "+-----+------------------------------------------------------------------------------------------------------------------------------------------------------------------------------------------------------------------------------------------------------------------------------------------------------------------------------------------------------------------------------------------------------------------------------------------------------------------------------------------------------------------------------------------------------------------------------------------------------------------------------------------------------------------------------------------------------------------------------------------------------------------------------------------------------------------------------------------------------------------------------------------------------------------------------------------------------------------------------------------------------------------------------------------------------------------------------------------------------------------------------------------------------------------------------------------------------------------------------------------------------------------------------------------------------------------------------------------------------------------------------------------------------------------------------------------------------------------------------------------------------------------------------------------------------------------------------------------------------------------------------------------------------------------------------------------------------------------------------------------------------------------------------------------------------------------------------------------------------------------------------------------------------------------------------------------------------------------------------------------------------------------------------------------------------------------------------------------------------------------------------------------------------------------------------------------------------------------------------------------------------------------------------------------------------------------------------------------------------------+------------------------------------------------------------------------------------------------------------------------------------------------------------------------------------------------------------------------------------------------------------------------------------------------------------------------------------------------------------------------------------------------------------------------------------------------------------------------------------------------------------------------------------------------------------------------------------------------------------------------------------------------------------------------------------------------------------------------------------------------------------------------------------------------------------------------------------------------------------------------------------------------------------------------------------------------------------------------------------------------------------------------------------------------------------------------------------------------------------------------------------------------------------------------------------------------------------------------------------------------------------------------------------------------------------------------------------------------------------------------------------------------------------------------------------------------------------------------------------------------------------------------------------------------------------------------------------------------------------------------------------------------------------------------------------------------------------------------------------------------------------------------------------------------------------------------------------------------------------------------------------------------------------------------------------------------------------------------------------------------------------------------------------------------------------------------------------------------------------------------------------------------------------------------------------------------------------------------------------------------------------------------------------------------------------------------------------------------------+----------+\n|label|features                                                                                                                                                                                                                                                                                                                                                                                                                                                                                                                                                                                                                                                                                                                                                                                                                                                                                                                                                                                                                                                                                                                                                                                                                                                                                                                                                                                                                                                                                                                                                                                                                                                                                                                                                                                                                                                                                                                                                                                                                                                                                                                                                                                                                                                                                                                                                    |indexedFeatures                                                                                                                                                                                                                                                                                                                                                                                                                                                                                                                                                                                                                                                                                                                                                                                                                                                                                                                                                                                                                                                                                                                                                                                                                                                                                                                                                                                                                                                                                                                                                                                                                                                                                                                                                                                                                                                                                                                                                                                                                                                                                                                                                                                                                                                                                                                                       |prediction|\n+-----+------------------------------------------------------------------------------------------------------------------------------------------------------------------------------------------------------------------------------------------------------------------------------------------------------------------------------------------------------------------------------------------------------------------------------------------------------------------------------------------------------------------------------------------------------------------------------------------------------------------------------------------------------------------------------------------------------------------------------------------------------------------------------------------------------------------------------------------------------------------------------------------------------------------------------------------------------------------------------------------------------------------------------------------------------------------------------------------------------------------------------------------------------------------------------------------------------------------------------------------------------------------------------------------------------------------------------------------------------------------------------------------------------------------------------------------------------------------------------------------------------------------------------------------------------------------------------------------------------------------------------------------------------------------------------------------------------------------------------------------------------------------------------------------------------------------------------------------------------------------------------------------------------------------------------------------------------------------------------------------------------------------------------------------------------------------------------------------------------------------------------------------------------------------------------------------------------------------------------------------------------------------------------------------------------------------------------------------------------------+------------------------------------------------------------------------------------------------------------------------------------------------------------------------------------------------------------------------------------------------------------------------------------------------------------------------------------------------------------------------------------------------------------------------------------------------------------------------------------------------------------------------------------------------------------------------------------------------------------------------------------------------------------------------------------------------------------------------------------------------------------------------------------------------------------------------------------------------------------------------------------------------------------------------------------------------------------------------------------------------------------------------------------------------------------------------------------------------------------------------------------------------------------------------------------------------------------------------------------------------------------------------------------------------------------------------------------------------------------------------------------------------------------------------------------------------------------------------------------------------------------------------------------------------------------------------------------------------------------------------------------------------------------------------------------------------------------------------------------------------------------------------------------------------------------------------------------------------------------------------------------------------------------------------------------------------------------------------------------------------------------------------------------------------------------------------------------------------------------------------------------------------------------------------------------------------------------------------------------------------------------------------------------------------------------------------------------------------------+----------+\n|0.0  |(692,[122,123,124,125,126,127,128,129,149,150,151,152,153,154,155,156,157,176,177,178,179,180,181,182,183,184,185,186,204,205,206,207,208,209,210,211,212,213,214,215,231,232,233,234,235,236,237,238,239,240,241,242,243,244,259,260,261,262,263,264,265,266,269,270,271,272,273,286,287,288,289,290,292,293,294,298,299,300,301,302,314,315,316,317,318,327,328,329,330,342,343,344,345,355,356,357,358,359,370,371,372,373,384,385,386,387,398,399,400,401,412,413,414,415,426,427,428,429,440,441,442,443,454,455,456,457,468,469,470,471,482,483,484,485,495,496,497,498,499,510,511,512,513,514,523,524,525,526,539,540,541,542,550,551,552,553,554,567,568,569,570,577,578,579,580,581,595,596,597,598,599,603,604,605,606,607,608,609,623,624,625,626,627,628,629,630,631,632,633,634,635,652,653,654,655,656,657,658,659,660,661,662],[8.0,76.0,202.0,254.0,255.0,163.0,37.0,2.0,13.0,182.0,253.0,253.0,253.0,253.0,253.0,253.0,23.0,15.0,179.0,253.0,253.0,212.0,91.0,218.0,253.0,253.0,179.0,109.0,105.0,253.0,253.0,160.0,35.0,156.0,253.0,253.0,253.0,253.0,250.0,113.0,19.0,212.0,253.0,253.0,88.0,121.0,253.0,233.0,128.0,91.0,245.0,253.0,248.0,114.0,104.0,253.0,253.0,110.0,2.0,142.0,253.0,90.0,26.0,199.0,253.0,248.0,63.0,1.0,173.0,253.0,253.0,29.0,84.0,228.0,39.0,72.0,251.0,253.0,215.0,29.0,36.0,253.0,253.0,203.0,13.0,82.0,253.0,253.0,170.0,36.0,253.0,253.0,164.0,11.0,198.0,253.0,184.0,6.0,36.0,253.0,253.0,82.0,138.0,253.0,253.0,35.0,128.0,253.0,253.0,47.0,48.0,253.0,253.0,35.0,154.0,253.0,253.0,47.0,48.0,253.0,253.0,35.0,102.0,253.0,253.0,99.0,48.0,253.0,253.0,35.0,36.0,253.0,253.0,164.0,16.0,208.0,253.0,211.0,17.0,32.0,244.0,253.0,175.0,4.0,44.0,253.0,253.0,156.0,171.0,253.0,253.0,29.0,30.0,217.0,253.0,188.0,19.0,171.0,253.0,253.0,59.0,60.0,217.0,253.0,253.0,70.0,78.0,253.0,253.0,231.0,48.0,26.0,128.0,249.0,253.0,244.0,94.0,15.0,8.0,151.0,253.0,253.0,234.0,101.0,121.0,219.0,229.0,253.0,253.0,201.0,80.0,38.0,232.0,253.0,253.0,253.0,253.0,253.0,253.0,253.0,201.0,66.0])                                                                                                                                                                                                                                                                                                                   |(692,[122,123,124,125,126,127,128,129,149,150,151,152,153,154,155,156,157,176,177,178,179,180,181,182,183,184,185,186,204,205,206,207,208,209,210,211,212,213,214,215,231,232,233,234,235,236,237,238,239,240,241,242,243,244,259,260,261,262,263,264,265,266,269,270,271,272,273,286,287,288,289,290,292,293,294,298,299,300,301,302,314,315,316,317,318,327,328,329,330,342,343,344,345,355,356,357,358,359,370,371,372,373,384,385,386,387,398,399,400,401,412,413,414,415,426,427,428,429,440,441,442,443,454,455,456,457,468,469,470,471,482,483,484,485,495,496,497,498,499,510,511,512,513,514,523,524,525,526,539,540,541,542,550,551,552,553,554,567,568,569,570,577,578,579,580,581,595,596,597,598,599,603,604,605,606,607,608,609,623,624,625,626,627,628,629,630,631,632,633,634,635,652,653,654,655,656,657,658,659,660,661,662],[8.0,76.0,202.0,254.0,255.0,163.0,37.0,2.0,13.0,182.0,253.0,253.0,253.0,253.0,253.0,253.0,23.0,15.0,179.0,253.0,253.0,212.0,91.0,218.0,253.0,253.0,179.0,109.0,105.0,253.0,253.0,160.0,35.0,156.0,253.0,253.0,253.0,253.0,250.0,113.0,19.0,212.0,253.0,253.0,88.0,121.0,253.0,233.0,128.0,91.0,245.0,253.0,248.0,114.0,104.0,253.0,253.0,110.0,2.0,142.0,253.0,90.0,26.0,199.0,253.0,248.0,63.0,1.0,173.0,253.0,253.0,29.0,84.0,228.0,39.0,72.0,251.0,253.0,215.0,29.0,36.0,253.0,253.0,203.0,13.0,82.0,253.0,253.0,170.0,36.0,253.0,253.0,164.0,11.0,198.0,253.0,184.0,6.0,36.0,253.0,253.0,82.0,138.0,253.0,253.0,35.0,128.0,253.0,253.0,47.0,48.0,253.0,253.0,35.0,154.0,253.0,253.0,47.0,48.0,253.0,253.0,35.0,102.0,253.0,253.0,99.0,48.0,253.0,253.0,35.0,36.0,253.0,253.0,164.0,16.0,208.0,253.0,211.0,17.0,32.0,244.0,253.0,175.0,4.0,44.0,253.0,253.0,156.0,171.0,253.0,253.0,29.0,30.0,217.0,253.0,188.0,19.0,171.0,253.0,253.0,59.0,60.0,217.0,253.0,253.0,70.0,78.0,253.0,253.0,231.0,48.0,26.0,128.0,249.0,253.0,244.0,94.0,15.0,8.0,151.0,253.0,253.0,234.0,101.0,121.0,219.0,229.0,253.0,253.0,201.0,80.0,38.0,232.0,253.0,253.0,253.0,253.0,253.0,253.0,253.0,201.0,66.0])                                                                                                                                                                                                                                                                                                             |0.0       |\n|0.0  |(692,[122,123,148,149,150,151,152,153,175,176,177,178,179,180,181,182,183,184,185,186,187,202,203,204,205,206,207,208,209,210,211,212,213,214,215,216,217,229,230,231,232,237,238,240,241,242,243,244,245,246,257,258,259,260,265,271,272,273,274,275,285,286,287,300,301,302,303,313,314,315,329,330,331,332,341,342,343,357,358,359,360,369,370,371,386,387,388,397,398,399,414,415,416,425,426,427,428,442,443,444,453,454,455,456,470,471,472,482,483,484,485,498,499,500,510,511,512,513,514,526,527,528,539,540,541,542,543,544,552,553,554,555,556,568,569,570,571,572,573,574,575,576,577,578,579,580,581,582,583,597,598,599,600,601,602,603,604,605,606,607,608,609,610,626,627,628,629,630,631,632,633,634,635,636,637,658,659],[59.0,55.0,71.0,192.0,254.0,250.0,147.0,17.0,123.0,247.0,253.0,254.0,253.0,253.0,196.0,79.0,176.0,175.0,175.0,124.0,48.0,87.0,247.0,247.0,176.0,95.0,102.0,117.0,243.0,237.0,192.0,232.0,253.0,253.0,245.0,152.0,6.0,23.0,229.0,253.0,138.0,219.0,58.0,95.0,118.0,80.0,230.0,254.0,196.0,30.0,120.0,254.0,205.0,8.0,114.0,38.0,255.0,254.0,155.0,5.0,156.0,253.0,92.0,61.0,235.0,253.0,102.0,224.0,253.0,78.0,117.0,253.0,196.0,18.0,254.0,253.0,78.0,9.0,211.0,253.0,73.0,254.0,253.0,78.0,175.0,253.0,155.0,194.0,254.0,101.0,79.0,254.0,155.0,112.0,253.0,211.0,9.0,73.0,251.0,200.0,41.0,241.0,253.0,87.0,25.0,240.0,253.0,147.0,253.0,227.0,47.0,94.0,253.0,200.0,5.0,193.0,253.0,230.0,76.0,175.0,253.0,155.0,31.0,219.0,254.0,255.0,126.0,18.0,14.0,149.0,254.0,244.0,45.0,21.0,158.0,254.0,253.0,226.0,162.0,118.0,96.0,20.0,20.0,73.0,118.0,224.0,253.0,247.0,85.0,30.0,155.0,253.0,253.0,253.0,253.0,254.0,253.0,253.0,253.0,253.0,254.0,247.0,84.0,5.0,27.0,117.0,206.0,244.0,229.0,213.0,213.0,213.0,176.0,117.0,32.0,45.0,23.0])                                                                                                                                                                                                                                                                                                                                                                                                                                                                                                                                                                    |(692,[122,123,148,149,150,151,152,153,175,176,177,178,179,180,181,182,183,184,185,186,187,202,203,204,205,206,207,208,209,210,211,212,213,214,215,216,217,229,230,231,232,237,238,240,241,242,243,244,245,246,257,258,259,260,265,271,272,273,274,275,285,286,287,300,301,302,303,313,314,315,329,330,331,332,341,342,343,357,358,359,360,369,370,371,386,387,388,397,398,399,414,415,416,425,426,427,428,442,443,444,453,454,455,456,470,471,472,482,483,484,485,498,499,500,510,511,512,513,514,526,527,528,539,540,541,542,543,544,552,553,554,555,556,568,569,570,571,572,573,574,575,576,577,578,579,580,581,582,583,597,598,599,600,601,602,603,604,605,606,607,608,609,610,626,627,628,629,630,631,632,633,634,635,636,637,658,659],[59.0,55.0,1.0,192.0,254.0,250.0,147.0,17.0,123.0,247.0,253.0,254.0,253.0,253.0,196.0,79.0,176.0,175.0,175.0,124.0,48.0,3.0,247.0,247.0,176.0,95.0,102.0,117.0,243.0,237.0,192.0,232.0,253.0,253.0,245.0,152.0,6.0,1.0,229.0,253.0,138.0,219.0,58.0,95.0,118.0,80.0,230.0,254.0,196.0,30.0,2.0,254.0,205.0,8.0,114.0,38.0,255.0,254.0,155.0,5.0,156.0,253.0,92.0,61.0,235.0,253.0,102.0,224.0,253.0,78.0,117.0,253.0,196.0,18.0,254.0,253.0,78.0,9.0,211.0,253.0,73.0,254.0,253.0,78.0,175.0,253.0,155.0,194.0,254.0,101.0,79.0,254.0,155.0,112.0,253.0,211.0,9.0,73.0,251.0,200.0,41.0,241.0,253.0,87.0,25.0,240.0,253.0,147.0,253.0,227.0,47.0,94.0,253.0,200.0,5.0,193.0,253.0,230.0,76.0,175.0,253.0,155.0,31.0,219.0,254.0,255.0,126.0,18.0,14.0,149.0,254.0,244.0,45.0,21.0,158.0,254.0,253.0,226.0,162.0,118.0,96.0,20.0,20.0,73.0,118.0,224.0,253.0,247.0,85.0,30.0,155.0,253.0,253.0,253.0,253.0,254.0,253.0,253.0,253.0,253.0,254.0,247.0,84.0,5.0,27.0,117.0,206.0,244.0,229.0,213.0,213.0,213.0,176.0,117.0,32.0,45.0,23.0])                                                                                                                                                                                                                                                                                                                                                                                                                                                                                                                                                                   |0.0       |\n|0.0  |(692,[124,125,126,127,150,151,152,153,154,155,156,178,179,180,181,182,183,184,204,205,206,207,208,209,210,211,212,213,214,232,233,234,235,236,237,238,239,240,241,242,243,260,261,262,263,266,267,268,269,270,271,272,273,287,288,289,290,291,295,296,297,298,299,300,301,302,315,316,317,318,325,326,327,328,329,330,331,342,343,344,345,356,357,358,359,360,370,371,372,373,384,385,386,387,388,398,399,400,401,413,414,415,416,425,426,427,428,441,442,443,444,453,454,455,456,469,470,471,472,481,482,483,484,497,498,499,500,509,510,511,512,525,526,527,528,537,538,539,540,552,553,554,555,556,565,566,567,568,569,578,579,580,581,582,583,594,595,596,597,598,599,600,601,602,603,604,605,606,607,608,609,610,611,622,623,624,625,626,627,628,629,630,631,632,633,634,635,636,637,652,653,654,655,656,657,658,659,660,661,662,663],[120.0,253.0,253.0,63.0,38.0,131.0,246.0,252.0,252.0,203.0,15.0,222.0,252.0,252.0,252.0,252.0,166.0,38.0,4.0,107.0,253.0,252.0,252.0,252.0,252.0,253.0,224.0,137.0,26.0,107.0,252.0,253.0,252.0,220.0,128.0,252.0,253.0,252.0,252.0,239.0,140.0,170.0,253.0,255.0,168.0,79.0,192.0,253.0,253.0,253.0,253.0,255.0,90.0,51.0,243.0,252.0,215.0,33.0,12.0,74.0,233.0,252.0,252.0,253.0,195.0,19.0,166.0,252.0,252.0,31.0,43.0,149.0,195.0,253.0,252.0,177.0,19.0,57.0,234.0,252.0,252.0,237.0,252.0,252.0,180.0,13.0,85.0,252.0,252.0,173.0,50.0,237.0,252.0,252.0,112.0,226.0,253.0,240.0,63.0,163.0,253.0,253.0,112.0,38.0,234.0,252.0,176.0,85.0,252.0,252.0,158.0,113.0,252.0,252.0,84.0,19.0,209.0,252.0,252.0,207.0,252.0,252.0,84.0,10.0,203.0,252.0,236.0,253.0,252.0,252.0,84.0,85.0,252.0,252.0,112.0,114.0,253.0,253.0,146.0,51.0,159.0,253.0,240.0,63.0,75.0,243.0,252.0,249.0,146.0,57.0,85.0,238.0,252.0,252.0,99.0,116.0,252.0,252.0,252.0,198.0,197.0,165.0,57.0,57.0,57.0,182.0,197.0,234.0,252.0,253.0,233.0,164.0,19.0,28.0,84.0,180.0,252.0,253.0,252.0,252.0,252.0,252.0,253.0,252.0,252.0,252.0,252.0,225.0,71.0,13.0,112.0,253.0,252.0,252.0,252.0,252.0,253.0,252.0,252.0,157.0,112.0])                                                                                                                                                                                                                                                                                                     |(692,[124,125,126,127,150,151,152,153,154,155,156,178,179,180,181,182,183,184,204,205,206,207,208,209,210,211,212,213,214,232,233,234,235,236,237,238,239,240,241,242,243,260,261,262,263,266,267,268,269,270,271,272,273,287,288,289,290,291,295,296,297,298,299,300,301,302,315,316,317,318,325,326,327,328,329,330,331,342,343,344,345,356,357,358,359,360,370,371,372,373,384,385,386,387,388,398,399,400,401,413,414,415,416,425,426,427,428,441,442,443,444,453,454,455,456,469,470,471,472,481,482,483,484,497,498,499,500,509,510,511,512,525,526,527,528,537,538,539,540,552,553,554,555,556,565,566,567,568,569,578,579,580,581,582,583,594,595,596,597,598,599,600,601,602,603,604,605,606,607,608,609,610,611,622,623,624,625,626,627,628,629,630,631,632,633,634,635,636,637,652,653,654,655,656,657,658,659,660,661,662,663],[120.0,253.0,253.0,63.0,38.0,131.0,246.0,252.0,252.0,203.0,15.0,222.0,252.0,252.0,252.0,252.0,166.0,38.0,4.0,107.0,253.0,252.0,252.0,252.0,252.0,253.0,224.0,137.0,26.0,107.0,252.0,253.0,252.0,220.0,128.0,252.0,253.0,252.0,252.0,239.0,140.0,170.0,253.0,255.0,168.0,79.0,192.0,253.0,253.0,253.0,253.0,255.0,90.0,51.0,243.0,252.0,215.0,33.0,12.0,74.0,233.0,252.0,252.0,253.0,195.0,19.0,166.0,252.0,252.0,31.0,43.0,149.0,195.0,253.0,252.0,177.0,19.0,57.0,234.0,252.0,252.0,237.0,252.0,252.0,180.0,13.0,85.0,252.0,252.0,173.0,50.0,237.0,252.0,252.0,112.0,226.0,253.0,240.0,63.0,163.0,253.0,253.0,112.0,38.0,234.0,252.0,176.0,85.0,252.0,252.0,158.0,113.0,252.0,252.0,84.0,19.0,209.0,252.0,252.0,207.0,252.0,252.0,84.0,10.0,203.0,252.0,236.0,253.0,252.0,252.0,84.0,85.0,252.0,252.0,112.0,114.0,253.0,253.0,146.0,51.0,159.0,253.0,240.0,63.0,75.0,243.0,252.0,249.0,146.0,57.0,85.0,238.0,252.0,252.0,99.0,116.0,252.0,252.0,252.0,198.0,197.0,165.0,57.0,57.0,57.0,182.0,197.0,234.0,252.0,253.0,233.0,164.0,1.0,28.0,84.0,180.0,252.0,253.0,252.0,252.0,252.0,252.0,253.0,252.0,252.0,252.0,252.0,225.0,71.0,13.0,112.0,253.0,252.0,252.0,252.0,252.0,253.0,252.0,252.0,157.0,112.0])                                                                                                                                                                                                                                                                                                |0.0       |\n|0.0  |(692,[125,126,127,128,129,130,131,151,152,153,154,155,156,157,158,159,175,176,177,178,179,180,181,182,183,184,185,186,187,188,203,204,205,206,207,208,209,210,211,212,213,214,215,216,230,231,232,233,234,235,236,237,238,239,240,241,242,243,244,257,258,259,260,261,262,263,264,265,285,286,287,288,289,290,291,292,293,313,314,315,316,317,319,320,321,329,330,331,341,342,343,344,345,348,349,356,357,358,359,369,370,371,372,373,376,377,384,385,386,387,397,398,399,400,401,404,405,412,413,414,415,416,425,426,427,428,429,440,441,442,443,444,453,454,455,456,457,468,469,470,471,472,481,482,483,484,485,486,496,497,498,499,500,510,511,512,513,514,515,524,525,526,527,528,539,540,541,542,543,544,545,546,552,553,554,555,567,568,569,570,571,572,573,574,575,578,579,580,581,582,583,596,597,598,599,600,601,602,603,604,605,606,607,608,609,610,611,626,627,628,629,630,631,632,633,634,635,636,637,638,656,657,658,659,660,661,662,663,664,665,666],[32.0,202.0,255.0,253.0,253.0,175.0,21.0,84.0,144.0,190.0,251.0,253.0,251.0,251.0,251.0,174.0,6.0,37.0,166.0,218.0,236.0,251.0,251.0,251.0,253.0,251.0,251.0,251.0,251.0,156.0,115.0,251.0,251.0,253.0,251.0,251.0,251.0,251.0,253.0,251.0,251.0,251.0,251.0,180.0,105.0,241.0,251.0,251.0,253.0,251.0,251.0,251.0,122.0,72.0,71.0,71.0,148.0,251.0,180.0,73.0,253.0,253.0,253.0,253.0,202.0,253.0,253.0,143.0,31.0,189.0,251.0,251.0,251.0,31.0,189.0,251.0,142.0,63.0,236.0,251.0,251.0,96.0,124.0,246.0,142.0,21.0,166.0,21.0,73.0,251.0,251.0,251.0,71.0,217.0,142.0,32.0,190.0,251.0,142.0,73.0,251.0,251.0,251.0,71.0,217.0,142.0,73.0,251.0,251.0,142.0,73.0,253.0,253.0,253.0,72.0,156.0,103.0,73.0,253.0,253.0,253.0,72.0,73.0,251.0,251.0,251.0,174.0,73.0,251.0,251.0,251.0,71.0,73.0,251.0,251.0,251.0,251.0,73.0,251.0,251.0,251.0,71.0,42.0,205.0,251.0,251.0,251.0,79.0,73.0,251.0,251.0,251.0,71.0,41.0,226.0,251.0,251.0,232.0,77.0,73.0,251.0,251.0,251.0,71.0,166.0,253.0,253.0,255.0,253.0,227.0,73.0,21.0,125.0,253.0,253.0,143.0,16.0,169.0,251.0,253.0,251.0,251.0,251.0,174.0,105.0,63.0,144.0,253.0,251.0,251.0,142.0,15.0,35.0,253.0,251.0,251.0,251.0,251.0,243.0,217.0,217.0,231.0,251.0,253.0,251.0,220.0,20.0,143.0,142.0,236.0,251.0,251.0,253.0,251.0,251.0,251.0,251.0,253.0,251.0,137.0,61.0,71.0,200.0,253.0,251.0,251.0,251.0,251.0,201.0,71.0,10.0])|(692,[125,126,127,128,129,130,131,151,152,153,154,155,156,157,158,159,175,176,177,178,179,180,181,182,183,184,185,186,187,188,203,204,205,206,207,208,209,210,211,212,213,214,215,216,230,231,232,233,234,235,236,237,238,239,240,241,242,243,244,257,258,259,260,261,262,263,264,265,285,286,287,288,289,290,291,292,293,313,314,315,316,317,319,320,321,329,330,331,341,342,343,344,345,348,349,356,357,358,359,369,370,371,372,373,376,377,384,385,386,387,397,398,399,400,401,404,405,412,413,414,415,416,425,426,427,428,429,440,441,442,443,444,453,454,455,456,457,468,469,470,471,472,481,482,483,484,485,486,496,497,498,499,500,510,511,512,513,514,515,524,525,526,527,528,539,540,541,542,543,544,545,546,552,553,554,555,567,568,569,570,571,572,573,574,575,578,579,580,581,582,583,596,597,598,599,600,601,602,603,604,605,606,607,608,609,610,611,626,627,628,629,630,631,632,633,634,635,636,637,638,656,657,658,659,660,661,662,663,664,665,666],[32.0,202.0,255.0,253.0,253.0,175.0,21.0,84.0,144.0,190.0,251.0,253.0,251.0,251.0,251.0,174.0,6.0,37.0,166.0,218.0,236.0,251.0,251.0,251.0,253.0,251.0,251.0,251.0,251.0,156.0,115.0,251.0,251.0,253.0,251.0,251.0,251.0,251.0,253.0,251.0,251.0,251.0,251.0,180.0,105.0,241.0,251.0,251.0,253.0,251.0,251.0,251.0,122.0,72.0,71.0,71.0,148.0,251.0,180.0,1.0,253.0,253.0,253.0,253.0,202.0,253.0,253.0,143.0,31.0,189.0,251.0,251.0,251.0,31.0,189.0,251.0,142.0,63.0,236.0,251.0,251.0,96.0,124.0,246.0,142.0,21.0,166.0,21.0,73.0,251.0,251.0,251.0,71.0,217.0,142.0,32.0,190.0,251.0,142.0,73.0,251.0,251.0,251.0,71.0,217.0,142.0,73.0,251.0,251.0,142.0,73.0,253.0,253.0,253.0,72.0,156.0,103.0,73.0,253.0,253.0,253.0,72.0,73.0,251.0,251.0,251.0,174.0,73.0,251.0,251.0,251.0,71.0,73.0,251.0,251.0,251.0,251.0,73.0,251.0,251.0,251.0,71.0,42.0,205.0,251.0,251.0,251.0,79.0,73.0,251.0,251.0,251.0,71.0,41.0,226.0,251.0,251.0,232.0,77.0,73.0,251.0,251.0,251.0,71.0,166.0,253.0,253.0,255.0,253.0,227.0,73.0,21.0,125.0,253.0,253.0,143.0,16.0,169.0,251.0,253.0,251.0,251.0,251.0,174.0,105.0,63.0,144.0,253.0,251.0,251.0,142.0,15.0,35.0,253.0,251.0,251.0,251.0,251.0,243.0,217.0,217.0,231.0,251.0,253.0,251.0,220.0,2.0,143.0,142.0,236.0,251.0,251.0,253.0,251.0,251.0,251.0,251.0,253.0,251.0,3.0,61.0,71.0,200.0,253.0,251.0,251.0,251.0,251.0,201.0,2.0,1.0])|0.0       |\n+-----+------------------------------------------------------------------------------------------------------------------------------------------------------------------------------------------------------------------------------------------------------------------------------------------------------------------------------------------------------------------------------------------------------------------------------------------------------------------------------------------------------------------------------------------------------------------------------------------------------------------------------------------------------------------------------------------------------------------------------------------------------------------------------------------------------------------------------------------------------------------------------------------------------------------------------------------------------------------------------------------------------------------------------------------------------------------------------------------------------------------------------------------------------------------------------------------------------------------------------------------------------------------------------------------------------------------------------------------------------------------------------------------------------------------------------------------------------------------------------------------------------------------------------------------------------------------------------------------------------------------------------------------------------------------------------------------------------------------------------------------------------------------------------------------------------------------------------------------------------------------------------------------------------------------------------------------------------------------------------------------------------------------------------------------------------------------------------------------------------------------------------------------------------------------------------------------------------------------------------------------------------------------------------------------------------------------------------------------------------------+------------------------------------------------------------------------------------------------------------------------------------------------------------------------------------------------------------------------------------------------------------------------------------------------------------------------------------------------------------------------------------------------------------------------------------------------------------------------------------------------------------------------------------------------------------------------------------------------------------------------------------------------------------------------------------------------------------------------------------------------------------------------------------------------------------------------------------------------------------------------------------------------------------------------------------------------------------------------------------------------------------------------------------------------------------------------------------------------------------------------------------------------------------------------------------------------------------------------------------------------------------------------------------------------------------------------------------------------------------------------------------------------------------------------------------------------------------------------------------------------------------------------------------------------------------------------------------------------------------------------------------------------------------------------------------------------------------------------------------------------------------------------------------------------------------------------------------------------------------------------------------------------------------------------------------------------------------------------------------------------------------------------------------------------------------------------------------------------------------------------------------------------------------------------------------------------------------------------------------------------------------------------------------------------------------------------------------------------------+----------+\nonly showing top 4 rows\n\n"
     ]
    }
   ],
   "source": [
    "predictions.show(truncate=False,n=4)"
   ]
  },
  {
   "cell_type": "code",
   "execution_count": 0,
   "metadata": {
    "application/vnd.databricks.v1+cell": {
     "cellMetadata": {},
     "inputWidgets": {},
     "nuid": "0873711c-aaa3-4ad4-a21f-9d40a658c0d4",
     "showTitle": false,
     "title": ""
    }
   },
   "outputs": [],
   "source": [
    "evaluator=RegressionEvaluator(labelCol=\"label\",predictionCol=\"prediction\",metricName=\"rmse\")"
   ]
  },
  {
   "cell_type": "code",
   "execution_count": 0,
   "metadata": {
    "application/vnd.databricks.v1+cell": {
     "cellMetadata": {},
     "inputWidgets": {},
     "nuid": "0914c8d4-16db-49da-b49a-029bca1ddb02",
     "showTitle": false,
     "title": ""
    }
   },
   "outputs": [
    {
     "output_type": "stream",
     "name": "stdout",
     "output_type": "stream",
     "text": [
      "Root Mean Squared Error : 0.0\n"
     ]
    }
   ],
   "source": [
    "rmse=evaluator.evaluate(dataset=predictions)\n",
    "\n",
    "print(f\"Root Mean Squared Error : {rmse}\")"
   ]
  },
  {
   "cell_type": "code",
   "execution_count": 0,
   "metadata": {
    "application/vnd.databricks.v1+cell": {
     "cellMetadata": {},
     "inputWidgets": {},
     "nuid": "ed022bf0-103f-48ac-8081-561b0702f688",
     "showTitle": false,
     "title": ""
    }
   },
   "outputs": [
    {
     "output_type": "stream",
     "name": "stdout",
     "output_type": "stream",
     "text": [
      "Out[26]: DecisionTreeRegressionModel: uid=DecisionTreeRegressor_2858580476de, depth=2, numNodes=5, numFeatures=692"
     ]
    }
   ],
   "source": [
    "# Summary:\n",
    "\n",
    "model.stages[1]"
   ]
  },
  {
   "cell_type": "code",
   "execution_count": 0,
   "metadata": {
    "application/vnd.databricks.v1+cell": {
     "cellMetadata": {},
     "inputWidgets": {},
     "nuid": "315e4f1c-382c-4a3e-a4c4-3b3ef3866355",
     "showTitle": false,
     "title": ""
    }
   },
   "outputs": [],
   "source": [
    "# Random Forest Regression\n",
    "\n",
    "from pyspark.ml.regression import RandomForestRegressor"
   ]
  },
  {
   "cell_type": "code",
   "execution_count": 0,
   "metadata": {
    "application/vnd.databricks.v1+cell": {
     "cellMetadata": {},
     "inputWidgets": {},
     "nuid": "29bb3c76-0a4a-482d-b413-2f6977f48264",
     "showTitle": false,
     "title": ""
    }
   },
   "outputs": [],
   "source": [
    "rf=RandomForestRegressor(featuresCol=\"indexedFeatures\")"
   ]
  },
  {
   "cell_type": "code",
   "execution_count": 0,
   "metadata": {
    "application/vnd.databricks.v1+cell": {
     "cellMetadata": {},
     "inputWidgets": {},
     "nuid": "072d2694-bd47-4e76-88de-1c5dc10b8a52",
     "showTitle": false,
     "title": ""
    }
   },
   "outputs": [],
   "source": [
    "pipeline=Pipeline(stages=(featureIndexer,rf,))"
   ]
  },
  {
   "cell_type": "code",
   "execution_count": 0,
   "metadata": {
    "application/vnd.databricks.v1+cell": {
     "cellMetadata": {},
     "inputWidgets": {},
     "nuid": "f271ea04-7361-494b-bc93-4d57a1a4d4dc",
     "showTitle": false,
     "title": ""
    }
   },
   "outputs": [],
   "source": [
    "model=pipeline.fit(dataset=trainingData)"
   ]
  },
  {
   "cell_type": "code",
   "execution_count": 0,
   "metadata": {
    "application/vnd.databricks.v1+cell": {
     "cellMetadata": {},
     "inputWidgets": {},
     "nuid": "e3804062-650f-4140-a5db-cc12b6c20524",
     "showTitle": false,
     "title": ""
    }
   },
   "outputs": [],
   "source": [
    "predictions=model.transform(dataset=testData)"
   ]
  },
  {
   "cell_type": "code",
   "execution_count": 0,
   "metadata": {
    "application/vnd.databricks.v1+cell": {
     "cellMetadata": {},
     "inputWidgets": {},
     "nuid": "246686a0-27ab-4960-8737-573ff9f99e1f",
     "showTitle": false,
     "title": ""
    }
   },
   "outputs": [
    {
     "output_type": "stream",
     "name": "stdout",
     "output_type": "stream",
     "text": [
      "Root Mean Squared Error : 0.0570087712549569\n"
     ]
    }
   ],
   "source": [
    "rmse=evaluator.evaluate(dataset=predictions)\n",
    "\n",
    "print(f\"Root Mean Squared Error : {rmse}\")"
   ]
  },
  {
   "cell_type": "code",
   "execution_count": 0,
   "metadata": {
    "application/vnd.databricks.v1+cell": {
     "cellMetadata": {},
     "inputWidgets": {},
     "nuid": "cd048dcb-e38b-48f2-9ea1-53913ff15b5b",
     "showTitle": false,
     "title": ""
    }
   },
   "outputs": [
    {
     "output_type": "stream",
     "name": "stdout",
     "output_type": "stream",
     "text": [
      "Out[34]: RandomForestRegressionModel: uid=RandomForestRegressor_56f88eeae2a4, numTrees=20, numFeatures=692"
     ]
    }
   ],
   "source": [
    "# Summary:\n",
    "\n",
    "model.stages[1]"
   ]
  },
  {
   "cell_type": "code",
   "execution_count": 0,
   "metadata": {
    "application/vnd.databricks.v1+cell": {
     "cellMetadata": {},
     "inputWidgets": {},
     "nuid": "e1d5a238-bf0e-4204-9b5d-fccb2fadd6a5",
     "showTitle": false,
     "title": ""
    }
   },
   "outputs": [],
   "source": [
    "# Gradient Boosted Tree Regression\n",
    "\n",
    "from pyspark.ml.regression import GBTRegressor"
   ]
  },
  {
   "cell_type": "code",
   "execution_count": 0,
   "metadata": {
    "application/vnd.databricks.v1+cell": {
     "cellMetadata": {},
     "inputWidgets": {},
     "nuid": "af001d50-33e9-400a-b794-3bb38a136e1b",
     "showTitle": false,
     "title": ""
    }
   },
   "outputs": [],
   "source": [
    "gbt=GBTRegressor(featuresCol=\"indexedFeatures\", maxIter=10)"
   ]
  },
  {
   "cell_type": "code",
   "execution_count": 0,
   "metadata": {
    "application/vnd.databricks.v1+cell": {
     "cellMetadata": {},
     "inputWidgets": {},
     "nuid": "033c935f-e92c-4425-8572-c5aa17801c2b",
     "showTitle": false,
     "title": ""
    }
   },
   "outputs": [],
   "source": [
    "pipeline=Pipeline(stages=[featureIndexer,gbt])"
   ]
  },
  {
   "cell_type": "code",
   "execution_count": 0,
   "metadata": {
    "application/vnd.databricks.v1+cell": {
     "cellMetadata": {},
     "inputWidgets": {},
     "nuid": "e2eed321-623a-49a4-883d-9e3f1004f629",
     "showTitle": false,
     "title": ""
    }
   },
   "outputs": [],
   "source": [
    "model=pipeline.fit(dataset=trainingData)"
   ]
  },
  {
   "cell_type": "code",
   "execution_count": 0,
   "metadata": {
    "application/vnd.databricks.v1+cell": {
     "cellMetadata": {},
     "inputWidgets": {},
     "nuid": "1ac8eb8a-8561-4ed3-8de0-cabb00a647c0",
     "showTitle": false,
     "title": ""
    }
   },
   "outputs": [],
   "source": [
    "predictions=model.transform(dataset=testData)"
   ]
  },
  {
   "cell_type": "code",
   "execution_count": 0,
   "metadata": {
    "application/vnd.databricks.v1+cell": {
     "cellMetadata": {},
     "inputWidgets": {},
     "nuid": "0cef5d5f-77a1-4f5a-b648-4234d5476385",
     "showTitle": false,
     "title": ""
    }
   },
   "outputs": [
    {
     "output_type": "stream",
     "name": "stdout",
     "output_type": "stream",
     "text": [
      "Root Mean Squared Error : 0.0\n"
     ]
    }
   ],
   "source": [
    "rmse=evaluator.evaluate(dataset=predictions)\n",
    "print(f\"Root Mean Squared Error : {rmse}\")"
   ]
  },
  {
   "cell_type": "code",
   "execution_count": 0,
   "metadata": {
    "application/vnd.databricks.v1+cell": {
     "cellMetadata": {},
     "inputWidgets": {},
     "nuid": "cb59ca4b-b80c-4960-aca4-673b9ced361f",
     "showTitle": false,
     "title": ""
    }
   },
   "outputs": [
    {
     "output_type": "stream",
     "name": "stdout",
     "output_type": "stream",
     "text": [
      "Out[42]: GBTRegressionModel: uid=GBTRegressor_b6ef5bda5e9c, numTrees=10, numFeatures=692"
     ]
    }
   ],
   "source": [
    "# summary\n",
    "\n",
    "model.stages[1]"
   ]
  },
  {
   "cell_type": "code",
   "execution_count": 0,
   "metadata": {
    "application/vnd.databricks.v1+cell": {
     "cellMetadata": {},
     "inputWidgets": {},
     "nuid": "d0fc895c-5b6b-4e2e-b806-d44552cedf94",
     "showTitle": false,
     "title": ""
    }
   },
   "outputs": [],
   "source": [
    "# Factorizations Machines Regressor\n",
    "\n",
    "from pyspark.ml.regression import FMRegressor\n",
    "from pyspark.ml.feature import MinMaxScaler"
   ]
  },
  {
   "cell_type": "code",
   "execution_count": 0,
   "metadata": {
    "application/vnd.databricks.v1+cell": {
     "cellMetadata": {},
     "inputWidgets": {},
     "nuid": "df015bf5-6d88-4ee2-880f-beb6c59be56b",
     "showTitle": false,
     "title": ""
    }
   },
   "outputs": [],
   "source": [
    "featureScaler=MinMaxScaler(inputCol=\"features\",outputCol=\"scaledFeatures\").fit(trainingData)"
   ]
  },
  {
   "cell_type": "code",
   "execution_count": 0,
   "metadata": {
    "application/vnd.databricks.v1+cell": {
     "cellMetadata": {},
     "inputWidgets": {},
     "nuid": "589ae3c5-22a0-4751-8f84-5efb075ef10d",
     "showTitle": false,
     "title": ""
    }
   },
   "outputs": [],
   "source": [
    "fm=FMRegressor(featuresCol=\"scaledFeatures\",labelCol=\"label\",stepSize=0.001)"
   ]
  },
  {
   "cell_type": "code",
   "execution_count": 0,
   "metadata": {
    "application/vnd.databricks.v1+cell": {
     "cellMetadata": {},
     "inputWidgets": {},
     "nuid": "b55b9d6a-302f-41ad-b57c-62490dbc5d52",
     "showTitle": false,
     "title": ""
    }
   },
   "outputs": [],
   "source": [
    "pipeline=Pipeline(stages=(featureScaler,fm,))"
   ]
  },
  {
   "cell_type": "code",
   "execution_count": 0,
   "metadata": {
    "application/vnd.databricks.v1+cell": {
     "cellMetadata": {},
     "inputWidgets": {},
     "nuid": "92ee6170-e021-4861-80c5-bc9a39b32629",
     "showTitle": false,
     "title": ""
    }
   },
   "outputs": [],
   "source": [
    "model=pipeline.fit(dataset=trainingData)"
   ]
  },
  {
   "cell_type": "code",
   "execution_count": 0,
   "metadata": {
    "application/vnd.databricks.v1+cell": {
     "cellMetadata": {},
     "inputWidgets": {},
     "nuid": "7125f0d4-c1cf-47be-b476-a1b7730ba942",
     "showTitle": false,
     "title": ""
    }
   },
   "outputs": [],
   "source": [
    "predictions=model.transform(dataset=testData)"
   ]
  },
  {
   "cell_type": "code",
   "execution_count": 0,
   "metadata": {
    "application/vnd.databricks.v1+cell": {
     "cellMetadata": {},
     "inputWidgets": {},
     "nuid": "f6b22e9b-80fc-40ce-951f-db4af34c7b30",
     "showTitle": false,
     "title": ""
    }
   },
   "outputs": [
    {
     "output_type": "stream",
     "name": "stdout",
     "output_type": "stream",
     "text": [
      "Root Mean Squared Error : 0.08249159337841676\n"
     ]
    }
   ],
   "source": [
    "rmse=evaluator.evaluate(dataset=predictions)\n",
    "\n",
    "print(f\"Root Mean Squared Error : {rmse}\")"
   ]
  },
  {
   "cell_type": "code",
   "execution_count": 0,
   "metadata": {
    "application/vnd.databricks.v1+cell": {
     "cellMetadata": {},
     "inputWidgets": {},
     "nuid": "7123cb8d-307c-4ae9-83cf-76781acee2f7",
     "showTitle": false,
     "title": ""
    }
   },
   "outputs": [],
   "source": [
    " \n",
    "  \n",
    "  "
   ]
  }
 ],
 "metadata": {
  "application/vnd.databricks.v1+notebook": {
   "dashboards": [],
   "environmentMetadata": null,
   "language": "python",
   "notebookMetadata": {
    "pythonIndentUnit": 2
   },
   "notebookName": "ml_creation",
   "widgets": {}
  }
 },
 "nbformat": 4,
 "nbformat_minor": 0
}
