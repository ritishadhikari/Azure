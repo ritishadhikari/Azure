{
 "cells": [
  {
   "cell_type": "code",
   "execution_count": 1,
   "metadata": {},
   "outputs": [
    {
     "name": "stdout",
     "output_type": "stream",
     "text": [
      "Requirement already satisfied: requests in c:\\users\\ritis\\anaconda3\\envs\\oaienv2\\lib\\site-packages (2.32.2)\n",
      "Requirement already satisfied: charset-normalizer<4,>=2 in c:\\users\\ritis\\anaconda3\\envs\\oaienv2\\lib\\site-packages (from requests) (3.3.2)\n",
      "Requirement already satisfied: idna<4,>=2.5 in c:\\users\\ritis\\anaconda3\\envs\\oaienv2\\lib\\site-packages (from requests) (3.7)\n",
      "Requirement already satisfied: urllib3<3,>=1.21.1 in c:\\users\\ritis\\anaconda3\\envs\\oaienv2\\lib\\site-packages (from requests) (2.2.1)\n",
      "Requirement already satisfied: certifi>=2017.4.17 in c:\\users\\ritis\\anaconda3\\envs\\oaienv2\\lib\\site-packages (from requests) (2024.2.2)\n"
     ]
    }
   ],
   "source": [
    "! pip install requests"
   ]
  },
  {
   "cell_type": "code",
   "execution_count": null,
   "metadata": {},
   "outputs": [],
   "source": [
    "import requests\n",
    "import os\n",
    "\n",
    "# Airtable details (Replace with actual values)\n",
    "AIRTABLE_BASE_ID = \"patsOIVXxww7468Z6.057f38cfd214ca67b9bf72aab152f6aa5ffd672f3c9b7dda1b32792bc4311995\"\n",
    "TABLE_NAME = \"your_table_name\"\n",
    "API_KEY = \"patsOIVXxww7468Z6.057f38cfd214ca67b9bf72aab152f6aa5ffd672f3c9b7dda1b32792bc4311995\"  # Store API key securely\n",
    "\n",
    "# Airtable API endpoint\n",
    "AIRTABLE_URL = f\"https://api.airtable.com/v0/{AIRTABLE_BASE_ID}/{TABLE_NAME}\"\n",
    "\n",
    "# Record to add (modify fields accordingly)\n",
    "record_data = {\n",
    "    \"fields\": {\n",
    "        \"Question\": \"What is the capital of France?\",\n",
    "        \"Answer\": \"Paris\"\n",
    "    }\n",
    "}\n",
    "\n",
    "# Headers for authentication\n",
    "headers = {\n",
    "    \"Authorization\": f\"Bearer {API_KEY}\",\n",
    "    \"Content-Type\": \"application/json\"\n",
    "}\n",
    "\n",
    "# Send POST request\n",
    "response = requests.post(AIRTABLE_URL, json=record_data, headers=headers)\n",
    "\n",
    "# Check response\n",
    "if response.status_code == 200:\n",
    "    print(\"Record added successfully:\", response.json())\n",
    "else:\n",
    "    print(\"Error:\", response.status_code, response.text)\n"
   ]
  }
 ],
 "metadata": {
  "kernelspec": {
   "display_name": "oaienv2",
   "language": "python",
   "name": "python3"
  },
  "language_info": {
   "codemirror_mode": {
    "name": "ipython",
    "version": 3
   },
   "file_extension": ".py",
   "mimetype": "text/x-python",
   "name": "python",
   "nbconvert_exporter": "python",
   "pygments_lexer": "ipython3",
   "version": "3.10.14"
  }
 },
 "nbformat": 4,
 "nbformat_minor": 2
}
