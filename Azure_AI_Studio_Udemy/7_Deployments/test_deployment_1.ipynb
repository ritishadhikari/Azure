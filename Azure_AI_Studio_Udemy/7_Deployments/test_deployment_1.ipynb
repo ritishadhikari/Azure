{
 "cells": [
  {
   "cell_type": "code",
   "execution_count": 1,
   "id": "67b899ab-04da-4e6f-bcdb-12b59dc40024",
   "metadata": {},
   "outputs": [],
   "source": [
    "import urllib.request\n",
    "import json\n",
    "import os\n",
    "import ssl"
   ]
  },
  {
   "cell_type": "code",
   "execution_count": 2,
   "id": "6d7ac1a3-bd79-4a7b-b41d-a31da4114261",
   "metadata": {},
   "outputs": [],
   "source": [
    "def allowSelfSignedHttps(allowed):\n",
    "    # bypass the server certificate verification on client side\n",
    "    if allowed and not os.environ.get('PYTHONHTTPSVERIFY', '') and getattr(ssl, '_create_unverified_context', None):\n",
    "        ssl._create_default_https_context = ssl._create_unverified_context\n"
   ]
  },
  {
   "cell_type": "code",
   "execution_count": 3,
   "id": "2678b4cd-a961-4ad4-bd7c-2c55d6d39b2f",
   "metadata": {},
   "outputs": [],
   "source": [
    "allowSelfSignedHttps(True) # this line is needed if you use self-signed certificate in your scoring service."
   ]
  },
  {
   "cell_type": "code",
   "execution_count": 4,
   "id": "3a7d0e28-20d5-485b-a39f-9ae4a16fa542",
   "metadata": {},
   "outputs": [],
   "source": [
    "data = {'question':'How much rent does Christopher Nguyen Pay?'}\n",
    "\n",
    "body = str.encode(json.dumps(data))"
   ]
  },
  {
   "cell_type": "code",
   "execution_count": 5,
   "id": "59210a0e-d907-40bd-b23c-b8cc0cab9e6b",
   "metadata": {},
   "outputs": [],
   "source": [
    "url = 'https://ai-training-izhhe.eastus.inference.ml.azure.com/score'"
   ]
  },
  {
   "cell_type": "code",
   "execution_count": 6,
   "id": "a0945a46-fabf-43d5-ab87-54ecb3dbe9a6",
   "metadata": {},
   "outputs": [],
   "source": [
    "api_key = '6scL0d7IL08N6uiFawraciUT4FV8FfmBh9dSMUjaIZMgSNNb5vPXJQQJ99BCAAAAAAAAAAAAINFRAZML4YBl'\n",
    "if not api_key:\n",
    "    raise Exception(\"A key should be provided to invoke the endpoint\")"
   ]
  },
  {
   "cell_type": "code",
   "execution_count": 7,
   "id": "00e9a003-5cea-46b3-a0e5-4d49fa9b7dd0",
   "metadata": {},
   "outputs": [],
   "source": [
    "headers = {'Content-Type':'application/json', 'Accept': 'application/json', 'Authorization':('Bearer '+ api_key)}"
   ]
  },
  {
   "cell_type": "code",
   "execution_count": 8,
   "id": "5c6ffc23-6909-40c0-8a5e-6731484ea832",
   "metadata": {},
   "outputs": [],
   "source": [
    "req = urllib.request.Request(url, body, headers)"
   ]
  },
  {
   "cell_type": "code",
   "execution_count": 11,
   "id": "9167e15d-4548-4f5e-82a6-0d1d86cd286f",
   "metadata": {},
   "outputs": [
    {
     "name": "stdout",
     "output_type": "stream",
     "text": [
      "{\"answer\":\"Christopher Nguyen agrees to pay One Thousand Eight Hundred Canadian Dollars (CAD $1,800) monthly in rent.\"}\n",
      "\n"
     ]
    }
   ],
   "source": [
    "try:\n",
    "    response = urllib.request.urlopen(req)\n",
    "\n",
    "    result = response.read()\n",
    "    print(result.decode(encoding='utf-8'))\n",
    "except urllib.error.HTTPError as error:\n",
    "    print(\"The request failed with status code: \" + str(error.code))\n",
    "\n",
    "    # Print the headers - they include the requert ID and the timestamp, which are useful for debugging the failure\n",
    "    print(error.info())\n",
    "    print(error.read().decode(\"utf8\", 'ignore'))\n"
   ]
  },
  {
   "cell_type": "code",
   "execution_count": null,
   "id": "e42fa39f-18a5-4101-b624-29aea71c8f6c",
   "metadata": {},
   "outputs": [],
   "source": []
  }
 ],
 "metadata": {
  "kernelspec": {
   "display_name": "Python 3 (ipykernel)",
   "language": "python",
   "name": "python3"
  },
  "language_info": {
   "codemirror_mode": {
    "name": "ipython",
    "version": 3
   },
   "file_extension": ".py",
   "mimetype": "text/x-python",
   "name": "python",
   "nbconvert_exporter": "python",
   "pygments_lexer": "ipython3",
   "version": "3.10.14"
  }
 },
 "nbformat": 4,
 "nbformat_minor": 5
}
