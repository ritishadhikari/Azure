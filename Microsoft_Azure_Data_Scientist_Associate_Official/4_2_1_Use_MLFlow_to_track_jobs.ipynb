{
  "cells": [
    {
      "cell_type": "code",
      "execution_count": 1,
      "metadata": {
        "gather": {
          "logged": 1690532955418
        }
      },
      "outputs": [
        {
          "name": "stdout",
          "output_type": "stream",
          "text": [
            "Name: azure-ai-ml\r\n",
            "Version: 1.8.0\r\n",
            "Summary: Microsoft Azure Machine Learning Client Library for Python\r\n",
            "Home-page: https://github.com/Azure/azure-sdk-for-python\r\n",
            "Author: Microsoft Corporation\r\n",
            "Author-email: azuresdkengsysadmins@microsoft.com\r\n",
            "License: MIT License\r\n",
            "Location: /anaconda/envs/azureml_py310_sdkv2/lib/python3.10/site-packages\r\n",
            "Requires: azure-common, azure-core, azure-mgmt-core, azure-storage-blob, azure-storage-file-datalake, azure-storage-file-share, colorama, isodate, jsonschema, marshmallow, msrest, opencensus-ext-azure, pydash, pyjwt, pyyaml, strictyaml, tqdm, typing-extensions\r\n",
            "Required-by: \r\n",
            "Note: you may need to restart the kernel to use updated packages.\n"
          ]
        }
      ],
      "source": [
        "pip show azure-ai-ml"
      ]
    },
    {
      "cell_type": "code",
      "execution_count": 2,
      "metadata": {
        "gather": {
          "logged": 1690532957557
        },
        "jupyter": {
          "outputs_hidden": false,
          "source_hidden": false
        },
        "nteract": {
          "transient": {
            "deleting": false
          }
        }
      },
      "outputs": [],
      "source": [
        "from azure.identity import DefaultAzureCredential, InteractiveBrowserCredential\n",
        "from azure.ai.ml import MLClient\n",
        "\n",
        "try:\n",
        "    credential = DefaultAzureCredential()\n",
        "    # Check if given credential can get token successfully.\n",
        "    credential.get_token(\"https://management.azure.com/.default\")\n",
        "except Exception as ex:\n",
        "    # Fall back to InteractiveBrowserCredential in case DefaultAzureCredential not work\n",
        "    credential = InteractiveBrowserCredential()"
      ]
    },
    {
      "cell_type": "code",
      "execution_count": 3,
      "metadata": {
        "gather": {
          "logged": 1690532957923
        },
        "jupyter": {
          "outputs_hidden": false,
          "source_hidden": false
        },
        "nteract": {
          "transient": {
            "deleting": false
          }
        }
      },
      "outputs": [
        {
          "name": "stderr",
          "output_type": "stream",
          "text": [
            "Found the config file in: /config.json\n"
          ]
        }
      ],
      "source": [
        "ml_client=MLClient.from_config(credential=credential)"
      ]
    },
    {
      "cell_type": "code",
      "execution_count": 7,
      "metadata": {
        "gather": {
          "logged": 1690533306454
        },
        "jupyter": {
          "outputs_hidden": false,
          "source_hidden": false
        },
        "nteract": {
          "transient": {
            "deleting": false
          }
        }
      },
      "outputs": [
        {
          "name": "stdout",
          "output_type": "stream",
          "text": [
            "src folder created\n"
          ]
        }
      ],
      "source": [
        "import os\n",
        "\n",
        "script_folder=\"src\"\n",
        "os.makedirs(name=script_folder,exist_ok=True)\n",
        "print(f\"{script_folder} folder created\")"
      ]
    },
    {
      "cell_type": "code",
      "execution_count": 13,
      "metadata": {
        "jupyter": {
          "outputs_hidden": false,
          "source_hidden": false
        },
        "nteract": {
          "transient": {
            "deleting": false
          }
        }
      },
      "outputs": [
        {
          "name": "stdout",
          "output_type": "stream",
          "text": [
            "Overwriting src/train-model-mlflow.py\n"
          ]
        }
      ],
      "source": [
        "%%writefile $script_folder/train-model-mlflow.py\n",
        "import mlflow\n",
        "import argparse\n",
        "import pandas as pd\n",
        "import numpy as np\n",
        "from sklearn.model_selection import train_test_split\n",
        "from sklearn.linear_model import LogisticRegression\n",
        "from sklearn.metrics import roc_auc_score\n",
        "from sklearn.metrics import roc_curve\n",
        "import matplotlib.pyplot as plt\n",
        "\n",
        "\n",
        "def main(args):\n",
        "    df=get_data(args.training_data)\n",
        "    X_train, X_test, y_train, y_test=split_data(df)\n",
        "    model=train_model(args.reg_rate,X_train,y_train)\n",
        "    evaluate_model(model,X_test,y_test)\n",
        "\n",
        "\n",
        "def parse_args():\n",
        "    parser=argparse.ArgumentParser()\n",
        "    parser.add_argument(\"--training_data\",dest=\"training_data\",type=str)\n",
        "    parser.add_argument(\"--reg_rate\",dest=\"reg_rate\",type=float, default=0.01)\n",
        "    args=parser.parse_args()\n",
        "    return args\n",
        "\n",
        "def get_data(path):\n",
        "    df=pd.read_csv(path)\n",
        "    return df\n",
        "\n",
        "def split_data(df):\n",
        "    X= df[['Pregnancies','PlasmaGlucose','DiastolicBloodPressure','TricepsThickness',\n",
        "    'SerumInsulin','BMI','DiabetesPedigree','Age']].values \n",
        "    y=df['Diabetic'].values\n",
        "    X_train, X_test, y_train, y_test=train_test_split(X,y,test_size=0.30, random_state=0)\n",
        "    return X_train, X_test, y_train, y_test\n",
        "\n",
        "def train_model(reg_rate,X_train,y_train):\n",
        "    mlflow.log_param(key=\"Regularization Rate\", value=reg_rate)\n",
        "    model=LogisticRegression(C=1/reg_rate,solver=\"liblinear\")\n",
        "    model.fit(X_train,y_train)\n",
        "    return model\n",
        "\n",
        "def evaluate_model(model,X_test,y_test):\n",
        "    y_hat=model.predict(X_test)\n",
        "    acc=np.average(y_test==y_hat)\n",
        "    print(f\"Accuracy:{acc}\")\n",
        "    mlflow.log_metric(key=\"Accuracy\", value=acc)\n",
        "\n",
        "    y_scores=model.predict_proba(X_test)\n",
        "    auc=roc_auc_score(y_test, y_scores[:,1])\n",
        "    print(f\"AUC:{auc}\")\n",
        "    mlflow.log_metric(key=\"AUC\", value=auc)\n",
        "\n",
        "    fpr, tpr, thresholds=roc_curve(y_test,y_scores[:,1])\n",
        "    fig=plt.figure(figsize=(6,4))\n",
        "    plt.plot([0,1],[1,0],\"k--\")\n",
        "    plt.plot(fpr, tpr)\n",
        "    plt.xlabel(\"False Positive Rate\")\n",
        "    plt.ylabel(\"True Positive Rate\")\n",
        "    plt.title('ROC Curve')\n",
        "    plt.savefig(\"ROC-Curve.png\")\n",
        "    mlflow.log_artifact(local_path=\"ROC-Curve.png\")\n",
        "\n",
        "if __name__==\"__main__\":\n",
        "    args=parse_args()\n",
        "    main(args)\n",
        "    print(\"*\" * 60)\n",
        "    print(\"\\n\\n\")"
      ]
    },
    {
      "cell_type": "code",
      "execution_count": 14,
      "metadata": {
        "gather": {
          "logged": 1690534246723
        },
        "jupyter": {
          "outputs_hidden": false,
          "source_hidden": false
        },
        "nteract": {
          "transient": {
            "deleting": false
          }
        }
      },
      "outputs": [
        {
          "name": "stderr",
          "output_type": "stream",
          "text": [
            "\r\u001b[32mUploading src (0.53 MBs):   0%|          | 0/529814 [00:00<?, ?it/s]\r\u001b[32mUploading src (0.53 MBs):   2%|▏         | 10098/529814 [00:00<00:07, 74119.07it/s]\r\u001b[32mUploading src (0.53 MBs): 100%|██████████| 529814/529814 [00:00<00:00, 3831599.00it/s]\n",
            "\u001b[39m\n",
            "\n"
          ]
        },
        {
          "name": "stdout",
          "output_type": "stream",
          "text": [
            "Monitor your Job at: https://ml.azure.com/runs/magenta_basket_56g5msb8md?wsid=/subscriptions/18a1f27f-edf5-495e-9acb-753c93335294/resourcegroups/rg-dp100-lc88cedc90b76441796/workspaces/mlw-dp100-lc88cedc90b76441796&tid=6a1d2f96-8cdf-4d1a-943d-7b73f4dfbb6d\n"
          ]
        }
      ],
      "source": [
        "from azure.ai.ml import command\n",
        "\n",
        "\n",
        "job=command(\n",
        "    code=\"./src\",\n",
        "    command=\"python train-model-mlflow.py --training_data diabetes.csv\",\n",
        "    environment=\"AzureML-sklearn-0.24-ubuntu18.04-py37-cpu@latest\",\n",
        "    compute=\"aml-cluster\",\n",
        "    display_name=\"diabetes-train-mlflow\",\n",
        "    experiment_name=\"diabetes_training\",\n",
        "    tags={\"model_type\":\"LogisticRegression\"}\n",
        "    )\n",
        "\n",
        "returned_job=ml_client.create_or_update(entity=job)\n",
        "\n",
        "aml_url=returned_job.studio_url\n",
        "\n",
        "print(f\"Monitor your Job at: {aml_url}\")"
      ]
    },
    {
      "cell_type": "code",
      "execution_count": 11,
      "metadata": {
        "jupyter": {
          "outputs_hidden": false,
          "source_hidden": false
        },
        "nteract": {
          "transient": {
            "deleting": false
          }
        }
      },
      "outputs": [
        {
          "name": "stdout",
          "output_type": "stream",
          "text": [
            "Writing src/train-model-autolog.py\n"
          ]
        }
      ],
      "source": [
        "%%writefile $script_folder/train-model-autolog.py\n",
        "import mlflow\n",
        "import argparse\n",
        "import pandas as pd\n",
        "import numpy as np\n",
        "from sklearn.model_selection import train_test_split\n",
        "from sklearn.linear_model import LogisticRegression\n",
        "from sklearn.metrics import roc_auc_score\n",
        "from sklearn.metrics import roc_curve\n",
        "import matplotlib.pyplot as plt\n",
        "\n",
        "\n",
        "def main(args):\n",
        "    mlflow.autolog()\n",
        "    df=get_data(args.training_data)\n",
        "    X_train, X_test, y_train, y_test=split_data(df)\n",
        "    model=train_model(args.reg_rate,X_train,y_train)\n",
        "    evaluate_model(model,X_test,y_test)\n",
        "\n",
        "def parse_args():\n",
        "    parser=argparse.ArgumentParser()\n",
        "    parser.add_argument(\"--training_data\",dest=\"training_data\",type=str)\n",
        "    parser.add_argument(\"--reg_rate\",dest=\"reg_rate\",type=float, default=0.01)\n",
        "    args=parser.parse_args()\n",
        "    return args\n",
        "\n",
        "def get_data(path):\n",
        "    df=pd.read_csv(path)\n",
        "    return df\n",
        "\n",
        "def split_data(df):\n",
        "    X= df[['Pregnancies','PlasmaGlucose','DiastolicBloodPressure','TricepsThickness',\n",
        "    'SerumInsulin','BMI','DiabetesPedigree','Age']].values \n",
        "    y=df['Diabetic'].values\n",
        "    X_train, X_test, y_train, y_test=train_test_split(X,y,test_size=0.30, random_state=0)\n",
        "    return X_train, X_test, y_train, y_test\n",
        "\n",
        "def train_model(reg_rate,X_train,y_train):\n",
        "    mlflow.log_param(key=\"Regularization Rate\", value=reg_rate)\n",
        "    model=LogisticRegression(C=1/reg_rate,solver=\"liblinear\")\n",
        "    model.fit(X_train,y_train)\n",
        "    return model\n",
        "\n",
        "def evaluate_model(model,X_test,y_test):\n",
        "    y_hat=model.predict(X_test)\n",
        "    acc=np.average(y_test==y_hat)\n",
        "    print(f\"Accuracy:{acc}\")\n",
        "\n",
        "    y_scores=model.predict_proba(X_test)\n",
        "    auc=roc_auc_score(y_test, y_scores[:,1])\n",
        "    print(f\"AUC:{auc}\")\n",
        "\n",
        "    fpr, tpr, thresholds=roc_curve(y_test,y_scores[:,1])\n",
        "    fig=plt.figure(figsize=(6,4))\n",
        "    plt.plot([0,1],[1,0],\"k--\")\n",
        "    plt.plot(fpr, tpr)\n",
        "    plt.xlabel(\"False Positive Rate\")\n",
        "    plt.ylabel(\"True Positive Rate\")\n",
        "    plt.title('ROC Curve')\n",
        "\n",
        "if __name__==\"__main__\":\n",
        "    args=parse_args()\n",
        "    main(args)\n",
        "    print(\"*\" * 60)\n",
        "    print(\"\\n\\n\")"
      ]
    },
    {
      "cell_type": "code",
      "execution_count": 12,
      "metadata": {
        "gather": {
          "logged": 1690534102806
        },
        "jupyter": {
          "outputs_hidden": false,
          "source_hidden": false
        },
        "nteract": {
          "transient": {
            "deleting": false
          }
        }
      },
      "outputs": [
        {
          "name": "stderr",
          "output_type": "stream",
          "text": [
            "\u001b[32mUploading src (0.53 MBs): 100%|██████████| 529814/529814 [00:00<00:00, 3717317.05it/s]\n",
            "\u001b[39m\n",
            "\n"
          ]
        },
        {
          "name": "stdout",
          "output_type": "stream",
          "text": [
            "Monitor Your Job at: https://ml.azure.com/runs/happy_yak_958khbzz4g?wsid=/subscriptions/18a1f27f-edf5-495e-9acb-753c93335294/resourcegroups/rg-dp100-lc88cedc90b76441796/workspaces/mlw-dp100-lc88cedc90b76441796&tid=6a1d2f96-8cdf-4d1a-943d-7b73f4dfbb6d\n"
          ]
        }
      ],
      "source": [
        "from azure.ai.ml import command\n",
        "\n",
        "job=command(\n",
        "    code=\"./src\",\n",
        "    command=\"python train-model-autolog.py --training_data=diabetes.csv\",\n",
        "    environment=\"AzureML-sklearn-0.24-ubuntu18.04-py37-cpu@latest\",\n",
        "    compute=\"aml-cluster\",\n",
        "    display_name=\"diabetes-train-autolog\",\n",
        "    experiment_name=\"diabetes_training\",\n",
        "    )\n",
        "\n",
        "returned_job=ml_client.create_or_update(entity=job)\n",
        "aml_url=returned_job.studio_url\n",
        "print(f\"Monitor Your Job at: {aml_url}\")"
      ]
    },
    {
      "cell_type": "markdown",
      "metadata": {
        "nteract": {
          "transient": {
            "deleting": false
          }
        }
      },
      "source": [
        "<h2> List the Experiments in the Workspace </h2>"
      ]
    },
    {
      "cell_type": "code",
      "execution_count": 15,
      "metadata": {
        "gather": {
          "logged": 1690534886461
        },
        "jupyter": {
          "outputs_hidden": false,
          "source_hidden": false
        },
        "nteract": {
          "transient": {
            "deleting": false
          }
        }
      },
      "outputs": [
        {
          "name": "stdout",
          "output_type": "stream",
          "text": [
            "diabetes_training\n"
          ]
        }
      ],
      "source": [
        "import mlflow\n",
        "\n",
        "experiments=mlflow.search_experiments()\n",
        "\n",
        "for exp in experiments:\n",
        "    print(exp.name)"
      ]
    },
    {
      "cell_type": "markdown",
      "metadata": {
        "nteract": {
          "transient": {
            "deleting": false
          }
        }
      },
      "source": [
        "<h2> Retrieve a Specific Experiment by Name</h2>"
      ]
    },
    {
      "cell_type": "code",
      "execution_count": 16,
      "metadata": {
        "gather": {
          "logged": 1690535014053
        },
        "jupyter": {
          "outputs_hidden": false,
          "source_hidden": false
        },
        "nteract": {
          "transient": {
            "deleting": false
          }
        }
      },
      "outputs": [
        {
          "name": "stdout",
          "output_type": "stream",
          "text": [
            "<Experiment: artifact_location='', creation_time=1690533650515, experiment_id='e3592d90-8f22-464a-9fd1-7e5aac494842', last_update_time=None, lifecycle_stage='active', name='diabetes_training', tags={}>\n"
          ]
        }
      ],
      "source": [
        "experiment_name=\"diabetes_training\"\n",
        "exp=mlflow.get_experiment_by_name(name=experiment_name)\n",
        "print(exp)"
      ]
    },
    {
      "cell_type": "markdown",
      "metadata": {
        "nteract": {
          "transient": {
            "deleting": false
          }
        }
      },
      "source": [
        "<h2> Retrieve all jobs of a specific Experiment </h2>"
      ]
    },
    {
      "cell_type": "code",
      "execution_count": 17,
      "metadata": {
        "gather": {
          "logged": 1690535100847
        },
        "jupyter": {
          "outputs_hidden": false,
          "source_hidden": false
        },
        "nteract": {
          "transient": {
            "deleting": false
          }
        }
      },
      "outputs": [
        {
          "data": {
            "text/html": [
              "<div>\n",
              "<style scoped>\n",
              "    .dataframe tbody tr th:only-of-type {\n",
              "        vertical-align: middle;\n",
              "    }\n",
              "\n",
              "    .dataframe tbody tr th {\n",
              "        vertical-align: top;\n",
              "    }\n",
              "\n",
              "    .dataframe thead th {\n",
              "        text-align: right;\n",
              "    }\n",
              "</style>\n",
              "<table border=\"1\" class=\"dataframe\">\n",
              "  <thead>\n",
              "    <tr style=\"text-align: right;\">\n",
              "      <th></th>\n",
              "      <th>run_id</th>\n",
              "      <th>experiment_id</th>\n",
              "      <th>status</th>\n",
              "      <th>artifact_uri</th>\n",
              "      <th>start_time</th>\n",
              "      <th>end_time</th>\n",
              "      <th>metrics.AUC</th>\n",
              "      <th>metrics.Accuracy</th>\n",
              "      <th>metrics.training_precision_score</th>\n",
              "      <th>metrics.training_accuracy_score</th>\n",
              "      <th>...</th>\n",
              "      <th>params.n_jobs</th>\n",
              "      <th>params.solver</th>\n",
              "      <th>params.intercept_scaling</th>\n",
              "      <th>params.fit_intercept</th>\n",
              "      <th>tags.mlflow.user</th>\n",
              "      <th>tags.model_type</th>\n",
              "      <th>tags.mlflow.rootRunId</th>\n",
              "      <th>tags.mlflow.runName</th>\n",
              "      <th>tags.estimator_name</th>\n",
              "      <th>tags.estimator_class</th>\n",
              "    </tr>\n",
              "  </thead>\n",
              "  <tbody>\n",
              "    <tr>\n",
              "      <th>0</th>\n",
              "      <td>sincere_planet_11yjdlybsd</td>\n",
              "      <td>e3592d90-8f22-464a-9fd1-7e5aac494842</td>\n",
              "      <td>FAILED</td>\n",
              "      <td></td>\n",
              "      <td>2023-07-28 08:43:30.273000+00:00</td>\n",
              "      <td>2023-07-28 08:44:37.925000+00:00</td>\n",
              "      <td>0.848321</td>\n",
              "      <td>0.774</td>\n",
              "      <td>NaN</td>\n",
              "      <td>NaN</td>\n",
              "      <td>...</td>\n",
              "      <td>None</td>\n",
              "      <td>None</td>\n",
              "      <td>None</td>\n",
              "      <td>None</td>\n",
              "      <td>Ritish Adhikari</td>\n",
              "      <td>LogisticRegression</td>\n",
              "      <td>sincere_planet_11yjdlybsd</td>\n",
              "      <td>diabetes-train-mlflow</td>\n",
              "      <td>None</td>\n",
              "      <td>None</td>\n",
              "    </tr>\n",
              "    <tr>\n",
              "      <th>1</th>\n",
              "      <td>happy_yak_958khbzz4g</td>\n",
              "      <td>e3592d90-8f22-464a-9fd1-7e5aac494842</td>\n",
              "      <td>FINISHED</td>\n",
              "      <td></td>\n",
              "      <td>2023-07-28 08:51:07.119000+00:00</td>\n",
              "      <td>2023-07-28 08:52:32.727000+00:00</td>\n",
              "      <td>NaN</td>\n",
              "      <td>NaN</td>\n",
              "      <td>0.78576</td>\n",
              "      <td>0.790857</td>\n",
              "      <td>...</td>\n",
              "      <td>None</td>\n",
              "      <td>liblinear</td>\n",
              "      <td>1</td>\n",
              "      <td>True</td>\n",
              "      <td>Ritish Adhikari</td>\n",
              "      <td>None</td>\n",
              "      <td>happy_yak_958khbzz4g</td>\n",
              "      <td>diabetes-train-autolog</td>\n",
              "      <td>LogisticRegression</td>\n",
              "      <td>sklearn.linear_model._logistic.LogisticRegression</td>\n",
              "    </tr>\n",
              "    <tr>\n",
              "      <th>2</th>\n",
              "      <td>magenta_basket_56g5msb8md</td>\n",
              "      <td>e3592d90-8f22-464a-9fd1-7e5aac494842</td>\n",
              "      <td>FINISHED</td>\n",
              "      <td></td>\n",
              "      <td>2023-07-28 08:52:37.560000+00:00</td>\n",
              "      <td>2023-07-28 08:52:50.731000+00:00</td>\n",
              "      <td>0.848320</td>\n",
              "      <td>0.774</td>\n",
              "      <td>NaN</td>\n",
              "      <td>NaN</td>\n",
              "      <td>...</td>\n",
              "      <td>None</td>\n",
              "      <td>None</td>\n",
              "      <td>None</td>\n",
              "      <td>None</td>\n",
              "      <td>Ritish Adhikari</td>\n",
              "      <td>LogisticRegression</td>\n",
              "      <td>magenta_basket_56g5msb8md</td>\n",
              "      <td>diabetes-train-mlflow</td>\n",
              "      <td>None</td>\n",
              "      <td>None</td>\n",
              "    </tr>\n",
              "  </tbody>\n",
              "</table>\n",
              "<p>3 rows × 37 columns</p>\n",
              "</div>"
            ],
            "text/plain": [
              "                      run_id                         experiment_id    status  \\\n",
              "0  sincere_planet_11yjdlybsd  e3592d90-8f22-464a-9fd1-7e5aac494842    FAILED   \n",
              "1       happy_yak_958khbzz4g  e3592d90-8f22-464a-9fd1-7e5aac494842  FINISHED   \n",
              "2  magenta_basket_56g5msb8md  e3592d90-8f22-464a-9fd1-7e5aac494842  FINISHED   \n",
              "\n",
              "  artifact_uri                       start_time  \\\n",
              "0              2023-07-28 08:43:30.273000+00:00   \n",
              "1              2023-07-28 08:51:07.119000+00:00   \n",
              "2              2023-07-28 08:52:37.560000+00:00   \n",
              "\n",
              "                          end_time  metrics.AUC  metrics.Accuracy  \\\n",
              "0 2023-07-28 08:44:37.925000+00:00     0.848321             0.774   \n",
              "1 2023-07-28 08:52:32.727000+00:00          NaN               NaN   \n",
              "2 2023-07-28 08:52:50.731000+00:00     0.848320             0.774   \n",
              "\n",
              "   metrics.training_precision_score  metrics.training_accuracy_score  ...  \\\n",
              "0                               NaN                              NaN  ...   \n",
              "1                           0.78576                         0.790857  ...   \n",
              "2                               NaN                              NaN  ...   \n",
              "\n",
              "   params.n_jobs  params.solver  params.intercept_scaling  \\\n",
              "0           None           None                      None   \n",
              "1           None      liblinear                         1   \n",
              "2           None           None                      None   \n",
              "\n",
              "   params.fit_intercept  tags.mlflow.user     tags.model_type  \\\n",
              "0                  None   Ritish Adhikari  LogisticRegression   \n",
              "1                  True   Ritish Adhikari                None   \n",
              "2                  None   Ritish Adhikari  LogisticRegression   \n",
              "\n",
              "       tags.mlflow.rootRunId     tags.mlflow.runName tags.estimator_name  \\\n",
              "0  sincere_planet_11yjdlybsd   diabetes-train-mlflow                None   \n",
              "1       happy_yak_958khbzz4g  diabetes-train-autolog  LogisticRegression   \n",
              "2  magenta_basket_56g5msb8md   diabetes-train-mlflow                None   \n",
              "\n",
              "                                tags.estimator_class  \n",
              "0                                               None  \n",
              "1  sklearn.linear_model._logistic.LogisticRegression  \n",
              "2                                               None  \n",
              "\n",
              "[3 rows x 37 columns]"
            ]
          },
          "execution_count": 17,
          "metadata": {},
          "output_type": "execute_result"
        }
      ],
      "source": [
        "mlflow.search_runs(experiment_ids=exp.experiment_id)"
      ]
    },
    {
      "cell_type": "markdown",
      "metadata": {
        "nteract": {
          "transient": {
            "deleting": false
          }
        }
      },
      "source": [
        "<h2> Sorts by Start Time and only Generates 2 Results</h2>"
      ]
    },
    {
      "cell_type": "code",
      "execution_count": 22,
      "metadata": {
        "gather": {
          "logged": 1690535369640
        },
        "jupyter": {
          "outputs_hidden": false,
          "source_hidden": false
        },
        "nteract": {
          "transient": {
            "deleting": false
          }
        }
      },
      "outputs": [
        {
          "data": {
            "text/html": [
              "<div>\n",
              "<style scoped>\n",
              "    .dataframe tbody tr th:only-of-type {\n",
              "        vertical-align: middle;\n",
              "    }\n",
              "\n",
              "    .dataframe tbody tr th {\n",
              "        vertical-align: top;\n",
              "    }\n",
              "\n",
              "    .dataframe thead th {\n",
              "        text-align: right;\n",
              "    }\n",
              "</style>\n",
              "<table border=\"1\" class=\"dataframe\">\n",
              "  <thead>\n",
              "    <tr style=\"text-align: right;\">\n",
              "      <th></th>\n",
              "      <th>run_id</th>\n",
              "      <th>experiment_id</th>\n",
              "      <th>status</th>\n",
              "      <th>artifact_uri</th>\n",
              "      <th>start_time</th>\n",
              "      <th>end_time</th>\n",
              "      <th>metrics.AUC</th>\n",
              "      <th>metrics.Accuracy</th>\n",
              "      <th>metrics.training_precision_score</th>\n",
              "      <th>metrics.training_accuracy_score</th>\n",
              "      <th>...</th>\n",
              "      <th>params.n_jobs</th>\n",
              "      <th>params.solver</th>\n",
              "      <th>params.intercept_scaling</th>\n",
              "      <th>params.fit_intercept</th>\n",
              "      <th>tags.mlflow.user</th>\n",
              "      <th>tags.model_type</th>\n",
              "      <th>tags.mlflow.rootRunId</th>\n",
              "      <th>tags.mlflow.runName</th>\n",
              "      <th>tags.estimator_name</th>\n",
              "      <th>tags.estimator_class</th>\n",
              "    </tr>\n",
              "  </thead>\n",
              "  <tbody>\n",
              "    <tr>\n",
              "      <th>0</th>\n",
              "      <td>magenta_basket_56g5msb8md</td>\n",
              "      <td>e3592d90-8f22-464a-9fd1-7e5aac494842</td>\n",
              "      <td>FINISHED</td>\n",
              "      <td></td>\n",
              "      <td>2023-07-28 08:52:37.560000+00:00</td>\n",
              "      <td>2023-07-28 08:52:50.731000+00:00</td>\n",
              "      <td>0.84832</td>\n",
              "      <td>0.774</td>\n",
              "      <td>NaN</td>\n",
              "      <td>NaN</td>\n",
              "      <td>...</td>\n",
              "      <td>None</td>\n",
              "      <td>None</td>\n",
              "      <td>None</td>\n",
              "      <td>None</td>\n",
              "      <td>Ritish Adhikari</td>\n",
              "      <td>LogisticRegression</td>\n",
              "      <td>magenta_basket_56g5msb8md</td>\n",
              "      <td>diabetes-train-mlflow</td>\n",
              "      <td>None</td>\n",
              "      <td>None</td>\n",
              "    </tr>\n",
              "    <tr>\n",
              "      <th>1</th>\n",
              "      <td>happy_yak_958khbzz4g</td>\n",
              "      <td>e3592d90-8f22-464a-9fd1-7e5aac494842</td>\n",
              "      <td>FINISHED</td>\n",
              "      <td></td>\n",
              "      <td>2023-07-28 08:51:07.119000+00:00</td>\n",
              "      <td>2023-07-28 08:52:32.727000+00:00</td>\n",
              "      <td>NaN</td>\n",
              "      <td>NaN</td>\n",
              "      <td>0.78576</td>\n",
              "      <td>0.790857</td>\n",
              "      <td>...</td>\n",
              "      <td>None</td>\n",
              "      <td>liblinear</td>\n",
              "      <td>1</td>\n",
              "      <td>True</td>\n",
              "      <td>Ritish Adhikari</td>\n",
              "      <td>None</td>\n",
              "      <td>happy_yak_958khbzz4g</td>\n",
              "      <td>diabetes-train-autolog</td>\n",
              "      <td>LogisticRegression</td>\n",
              "      <td>sklearn.linear_model._logistic.LogisticRegression</td>\n",
              "    </tr>\n",
              "  </tbody>\n",
              "</table>\n",
              "<p>2 rows × 37 columns</p>\n",
              "</div>"
            ],
            "text/plain": [
              "                      run_id                         experiment_id    status  \\\n",
              "0  magenta_basket_56g5msb8md  e3592d90-8f22-464a-9fd1-7e5aac494842  FINISHED   \n",
              "1       happy_yak_958khbzz4g  e3592d90-8f22-464a-9fd1-7e5aac494842  FINISHED   \n",
              "\n",
              "  artifact_uri                       start_time  \\\n",
              "0              2023-07-28 08:52:37.560000+00:00   \n",
              "1              2023-07-28 08:51:07.119000+00:00   \n",
              "\n",
              "                          end_time  metrics.AUC  metrics.Accuracy  \\\n",
              "0 2023-07-28 08:52:50.731000+00:00      0.84832             0.774   \n",
              "1 2023-07-28 08:52:32.727000+00:00          NaN               NaN   \n",
              "\n",
              "   metrics.training_precision_score  metrics.training_accuracy_score  ...  \\\n",
              "0                               NaN                              NaN  ...   \n",
              "1                           0.78576                         0.790857  ...   \n",
              "\n",
              "   params.n_jobs  params.solver  params.intercept_scaling  \\\n",
              "0           None           None                      None   \n",
              "1           None      liblinear                         1   \n",
              "\n",
              "   params.fit_intercept  tags.mlflow.user     tags.model_type  \\\n",
              "0                  None   Ritish Adhikari  LogisticRegression   \n",
              "1                  True   Ritish Adhikari                None   \n",
              "\n",
              "       tags.mlflow.rootRunId     tags.mlflow.runName tags.estimator_name  \\\n",
              "0  magenta_basket_56g5msb8md   diabetes-train-mlflow                None   \n",
              "1       happy_yak_958khbzz4g  diabetes-train-autolog  LogisticRegression   \n",
              "\n",
              "                                tags.estimator_class  \n",
              "0                                               None  \n",
              "1  sklearn.linear_model._logistic.LogisticRegression  \n",
              "\n",
              "[2 rows x 37 columns]"
            ]
          },
          "execution_count": 22,
          "metadata": {},
          "output_type": "execute_result"
        }
      ],
      "source": [
        "mlflow.search_runs(experiment_ids=exp.experiment_id,order_by=['start_time DESC'], max_results=2)"
      ]
    },
    {
      "cell_type": "code",
      "execution_count": 37,
      "metadata": {
        "gather": {
          "logged": 1690535965969
        },
        "jupyter": {
          "outputs_hidden": false,
          "source_hidden": false
        },
        "nteract": {
          "transient": {
            "deleting": false
          }
        }
      },
      "outputs": [
        {
          "data": {
            "text/html": [
              "<div>\n",
              "<style scoped>\n",
              "    .dataframe tbody tr th:only-of-type {\n",
              "        vertical-align: middle;\n",
              "    }\n",
              "\n",
              "    .dataframe tbody tr th {\n",
              "        vertical-align: top;\n",
              "    }\n",
              "\n",
              "    .dataframe thead th {\n",
              "        text-align: right;\n",
              "    }\n",
              "</style>\n",
              "<table border=\"1\" class=\"dataframe\">\n",
              "  <thead>\n",
              "    <tr style=\"text-align: right;\">\n",
              "      <th></th>\n",
              "      <th>run_id</th>\n",
              "      <th>experiment_id</th>\n",
              "      <th>status</th>\n",
              "      <th>artifact_uri</th>\n",
              "      <th>start_time</th>\n",
              "      <th>end_time</th>\n",
              "      <th>metrics.AUC</th>\n",
              "      <th>metrics.Accuracy</th>\n",
              "      <th>params.Regularization Rate</th>\n",
              "      <th>tags.mlflow.user</th>\n",
              "      <th>tags.model_type</th>\n",
              "      <th>tags.mlflow.rootRunId</th>\n",
              "      <th>tags.mlflow.runName</th>\n",
              "    </tr>\n",
              "  </thead>\n",
              "  <tbody>\n",
              "    <tr>\n",
              "      <th>0</th>\n",
              "      <td>sincere_planet_11yjdlybsd</td>\n",
              "      <td>e3592d90-8f22-464a-9fd1-7e5aac494842</td>\n",
              "      <td>FAILED</td>\n",
              "      <td></td>\n",
              "      <td>2023-07-28 08:43:30.273000+00:00</td>\n",
              "      <td>2023-07-28 08:44:37.925000+00:00</td>\n",
              "      <td>0.848321</td>\n",
              "      <td>0.774</td>\n",
              "      <td>0.01</td>\n",
              "      <td>Ritish Adhikari</td>\n",
              "      <td>LogisticRegression</td>\n",
              "      <td>sincere_planet_11yjdlybsd</td>\n",
              "      <td>diabetes-train-mlflow</td>\n",
              "    </tr>\n",
              "  </tbody>\n",
              "</table>\n",
              "</div>"
            ],
            "text/plain": [
              "                      run_id                         experiment_id  status  \\\n",
              "0  sincere_planet_11yjdlybsd  e3592d90-8f22-464a-9fd1-7e5aac494842  FAILED   \n",
              "\n",
              "  artifact_uri                       start_time  \\\n",
              "0              2023-07-28 08:43:30.273000+00:00   \n",
              "\n",
              "                          end_time  metrics.AUC  metrics.Accuracy  \\\n",
              "0 2023-07-28 08:44:37.925000+00:00     0.848321             0.774   \n",
              "\n",
              "  params.Regularization Rate tags.mlflow.user     tags.model_type  \\\n",
              "0                       0.01  Ritish Adhikari  LogisticRegression   \n",
              "\n",
              "       tags.mlflow.rootRunId    tags.mlflow.runName  \n",
              "0  sincere_planet_11yjdlybsd  diabetes-train-mlflow  "
            ]
          },
          "execution_count": 37,
          "metadata": {},
          "output_type": "execute_result"
        }
      ],
      "source": [
        "query=\"metrics.AUC > 0.8 and tags.model_type='LogisticRegression' and attributes.status = 'Failed' \"\n",
        "\n",
        "mlflow.search_runs(experiment_ids=exp.experiment_id, filter_string=query)"
      ]
    },
    {
      "cell_type": "markdown",
      "metadata": {
        "nteract": {
          "transient": {
            "deleting": false
          }
        }
      },
      "source": [
        "<a href=\"https://learn.microsoft.com/en-us/azure/machine-learning/how-to-track-experiments-mlflow?view=azureml-api-2\">  Link to Azure MLFlow  </a>"
      ]
    },
    {
      "cell_type": "code",
      "execution_count": null,
      "metadata": {
        "jupyter": {
          "outputs_hidden": false,
          "source_hidden": false
        },
        "nteract": {
          "transient": {
            "deleting": false
          }
        }
      },
      "outputs": [],
      "source": []
    }
  ],
  "metadata": {
    "kernel_info": {
      "name": "python310-sdkv2"
    },
    "kernelspec": {
      "display_name": "Python 3.10 - SDK v2",
      "language": "python",
      "name": "python310-sdkv2"
    },
    "language_info": {
      "codemirror_mode": {
        "name": "ipython",
        "version": 3
      },
      "file_extension": ".py",
      "mimetype": "text/x-python",
      "name": "python",
      "nbconvert_exporter": "python",
      "pygments_lexer": "ipython3",
      "version": "3.10.11"
    },
    "microsoft": {
      "host": {
        "AzureML": {
          "notebookHasBeenCompleted": true
        }
      },
      "ms_spell_check": {
        "ms_spell_check_language": "en"
      }
    },
    "nteract": {
      "version": "nteract-front-end@1.0.0"
    }
  },
  "nbformat": 4,
  "nbformat_minor": 2
}
