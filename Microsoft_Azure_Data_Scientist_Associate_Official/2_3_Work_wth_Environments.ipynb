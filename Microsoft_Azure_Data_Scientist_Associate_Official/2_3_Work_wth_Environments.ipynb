{
  "cells": [
    {
      "cell_type": "code",
      "source": [
        "from azure.identity import DefaultAzureCredential, InteractiveBrowserCredential\n",
        "from azure.ai.ml import MLClient\n",
        "from azure.ai.ml import command\n",
        "from azure.ai.ml.entities import Environment"
      ],
      "outputs": [],
      "execution_count": 27,
      "metadata": {
        "jupyter": {
          "source_hidden": false,
          "outputs_hidden": false
        },
        "nteract": {
          "transient": {
            "deleting": false
          }
        },
        "gather": {
          "logged": 1724529060360
        }
      }
    },
    {
      "cell_type": "code",
      "source": [
        "pip show azure-ai-ml"
      ],
      "outputs": [
        {
          "output_type": "stream",
          "name": "stdout",
          "text": "Name: azure-ai-ml\r\nVersion: 1.16.1\r\nSummary: Microsoft Azure Machine Learning Client Library for Python\r\nHome-page: https://github.com/Azure/azure-sdk-for-python\r\nAuthor: Microsoft Corporation\r\nAuthor-email: azuresdkengsysadmins@microsoft.com\r\nLicense: MIT License\r\nLocation: /anaconda/envs/azureml_py310_sdkv2/lib/python3.10/site-packages\r\nRequires: azure-common, azure-core, azure-mgmt-core, azure-storage-blob, azure-storage-file-datalake, azure-storage-file-share, colorama, isodate, jsonschema, marshmallow, msrest, opencensus-ext-azure, opencensus-ext-logging, pydash, pyjwt, pyyaml, strictyaml, tqdm, typing-extensions\r\nRequired-by: \r\nNote: you may need to restart the kernel to use updated packages.\n"
        }
      ],
      "execution_count": 1,
      "metadata": {
        "gather": {
          "logged": 1724527225731
        }
      }
    },
    {
      "cell_type": "code",
      "source": [
        "try:\n",
        "    credential=DefaultAzureCredential()\n",
        "    credential.get_token(\"https://management.azure.com/.default\")\n",
        "except Exception as ex:\n",
        "    credential=InteractiveBrowserCredential()"
      ],
      "outputs": [],
      "execution_count": 3,
      "metadata": {
        "jupyter": {
          "source_hidden": false,
          "outputs_hidden": false
        },
        "nteract": {
          "transient": {
            "deleting": false
          }
        },
        "gather": {
          "logged": 1724527389052
        }
      }
    },
    {
      "cell_type": "code",
      "source": [
        "credential.get_token(\"https://management.azure.com/.default\")"
      ],
      "outputs": [
        {
          "output_type": "execute_result",
          "execution_count": 5,
          "data": {
            "text/plain": "AccessToken(token='eyJ0eXAiOiJKV1QiLCJhbGciOiJSUzI1NiIsIng1dCI6IktRMnRBY3JFN2xCYVZWR0JtYzVGb2JnZEpvNCIsImtpZCI6IktRMnRBY3JFN2xCYVZWR0JtYzVGb2JnZEpvNCJ9.eyJhdWQiOiJodHRwczovL21hbmFnZW1lbnQuYXp1cmUuY29tIiwiaXNzIjoiaHR0cHM6Ly9zdHMud2luZG93cy5uZXQvNmExZDJmOTYtOGNkZi00ZDFhLTk0M2QtN2I3M2Y0ZGZiYjZkLyIsImlhdCI6MTcyNDUyNjU3MCwibmJmIjoxNzI0NTI2NTcwLCJleHAiOjE3MjQ1MzE0ODYsImFjciI6IjEiLCJhaW8iOiJBWVFBZS84WEFBQUE4SUZ4bVJxc0grMTBDZGpENlNVbXp1Mml5UEU5VzlKNkFEWnl0Q1FYTng0Qm0wRUFwcnVrMDRZOTRLR1UyQ1JKM3pjeU9XWG5qUFFMMWo2d1Z0ckdzdW53dmhyZFpTMGlTZHdWclJsWnBQMEo1eFFSZXM3aEFMYndteUY5cDVzSjNCMHVCVk9OaE1Vc3Q2Z1ZuZWNZWEhwWXBvQjhESVh0bDBFeTd6Ymhad2s9IiwiYWx0c2VjaWQiOiIxOmxpdmUuY29tOjAwMDNCRkZERERDRjk0ODEiLCJhbXIiOlsicHdkIiwibWZhIl0sImFwcGlkIjoiNTc5MzU5ZWYtMDlhYi00Mjc3LTlhODQtNWVjZjJmMjA5ZmI0IiwiYXBwaWRhY3IiOiIyIiwiZW1haWwiOiJyaXRpc2hhZGhpa2FyaUBnbWFpbC5jb20iLCJmYW1pbHlfbmFtZSI6IkFkaGlrYXJpIiwiZ2l2ZW5fbmFtZSI6IlJpdGlzaCIsImdyb3VwcyI6WyI5MmVmZTA4Yi0zYmFiLTRkMGUtOGNjZi00MjA1OTBhZGUwZWEiXSwiaWRwIjoibGl2ZS5jb20iLCJpZHR5cCI6InVzZXIiLCJpcGFkZHIiOiIxMDMuMjQyLjE5OS4xNTYiLCJuYW1lIjoiUml0aXNoIEFkaGlrYXJpIiwib2lkIjoiNGU3ODNlZTAtZTRmYS00ZjA5LWIwNTctZDI4YTgzYjkwOTMxIiwicHVpZCI6IjEwMDMyMDAwOUYxQ0YzOTkiLCJyaCI6IjAuQVVrQWxpOGRhdC1NR2syVVBYdHo5Ti03YlVaSWYza0F1dGRQdWtQYXdmajJNQk1vQVRjLiIsInNjcCI6InVzZXJfaW1wZXJzb25hdGlvbiIsInN1YiI6InI2b1FPSDU2UUdaeWFJal9RSUhzdjc1STJlc09sWHEwVG9wcXBXejI3R2siLCJ0aWQiOiI2YTFkMmY5Ni04Y2RmLTRkMWEtOTQzZC03YjczZjRkZmJiNmQiLCJ1bmlxdWVfbmFtZSI6ImxpdmUuY29tI3JpdGlzaGFkaGlrYXJpQGdtYWlsLmNvbSIsInV0aSI6IkFIZ0NLRnRjbGtlbThKTWdRZlVQQUEiLCJ2ZXIiOiIxLjAiLCJ3aWRzIjpbIjYyZTkwMzk0LTY5ZjUtNDIzNy05MTkwLTAxMjE3NzE0NWUxMCIsImI3OWZiZjRkLTNlZjktNDY4OS04MTQzLTc2YjE5NGU4NTUwOSJdLCJ4bXNfZWRvdiI6dHJ1ZSwieG1zX2lkcmVsIjoiNiAxIiwieG1zX3RjZHQiOjE1ODMyNTUzMjd9.a3m_3Z18IjsHJfGNV1Uzf0JABEx6PAuSwsDCVtFL9C6_zodsKA5kN2oX5JQMSLxD4wEgh21wtlVbuAmnQVpv4x2wjV5ke_s1TYIgc82SJoo_PYBgYWIjD5azdsxyLArqIzdWkbmdPZYyKcf3Vq4l-yKX0hKPjghSp_e0zcN-Ev6Cez0SADap91812T1_v-m4irm4zdG4XgOgEtnUcRS9eX_gXORuaYsYZMldkyLw_SxJg1X95pWlpWgKdUtbqcFHNCuUTOBbtDczvIhWCHI89NFNEdaTI8_SaD5Ada3AnwwY1aWL-ECnNeiX2C754iYvZvQjaCw4jH6I0bFzLYRNeQ', expires_on=1724531485)"
          },
          "metadata": {}
        }
      ],
      "execution_count": 5,
      "metadata": {
        "jupyter": {
          "source_hidden": false,
          "outputs_hidden": false
        },
        "nteract": {
          "transient": {
            "deleting": false
          }
        },
        "gather": {
          "logged": 1724527420645
        }
      }
    },
    {
      "cell_type": "code",
      "source": [
        "mlClient=MLClient.from_config(credential=credential)"
      ],
      "outputs": [
        {
          "output_type": "stream",
          "name": "stderr",
          "text": "Found the config file in: /config.json\n"
        }
      ],
      "execution_count": 4,
      "metadata": {
        "jupyter": {
          "source_hidden": false,
          "outputs_hidden": false
        },
        "nteract": {
          "transient": {
            "deleting": false
          }
        },
        "gather": {
          "logged": 1724527412731
        }
      }
    },
    {
      "cell_type": "code",
      "source": [
        "mlClient"
      ],
      "outputs": [
        {
          "output_type": "execute_result",
          "execution_count": 6,
          "data": {
            "text/plain": "MLClient(credential=<azure.identity._credentials.default.DefaultAzureCredential object at 0x7f633a9face0>,\n         subscription_id=18a1f27f-edf5-495e-9acb-753c93335294,\n         resource_group_name=rg-dp100-labs,\n         workspace_name=mlw-dp100-labs)"
          },
          "metadata": {}
        }
      ],
      "execution_count": 6,
      "metadata": {
        "jupyter": {
          "source_hidden": false,
          "outputs_hidden": false
        },
        "nteract": {
          "transient": {
            "deleting": false
          }
        },
        "gather": {
          "logged": 1724527445439
        }
      }
    },
    {
      "cell_type": "code",
      "source": [
        "%%writefile src/diabetes-trainingEnv.py\n",
        "\n",
        "import pandas as pd\n",
        "import numpy as np\n",
        "from sklearn.model_selection import train_test_split\n",
        "from sklearn.linear_model import LogisticRegression\n",
        "from sklearn.metrics import roc_auc_score,roc_curve\n",
        "\n",
        "print(\"Loading Data ...\")\n",
        "diabetes=pd.read_csv(\"diabetes.csv\")\n",
        "\n",
        "X=diabetes[\n",
        "    ['Pregnancies','PlasmaGlucose','DiastolicBloodPressure',\n",
        "    'TricepsThickness','SerumInsulin','BMI','DiabetesPedigree','Age']\n",
        "].values\n",
        "y=diabetes['Diabetic'].values\n",
        "\n",
        "X_train, X_test, y_train, y_test=train_test_split(X, y, test_size=0.30, random_state=0)\n",
        "reg=0.01\n",
        "print('Training a logistic regression model with regularization rate of', reg)\n",
        "model=LogisticRegression(C=1/reg, solver=\"liblinear\").fit(X_train, y_train)\n",
        "\n",
        "# Calculate the Accuracy\n",
        "yHat=model.predict(X=X_test)\n",
        "acc=np.average(yHat==y_test)\n",
        "print(f\"Accuracy:{acc}\")\n",
        "\n",
        "# Calculate AUC\n",
        "yScores=model.predict_proba(X=X_test)\n",
        "auc=roc_auc_score(y_true=y_test,y_score=yScores[:,1])\n",
        "print(\"AUC: \"+str(auc))"
      ],
      "outputs": [
        {
          "output_type": "stream",
          "name": "stdout",
          "text": "Writing src/diabetes-trainingEnv.py\n"
        }
      ],
      "execution_count": 7,
      "metadata": {
        "jupyter": {
          "source_hidden": false,
          "outputs_hidden": false
        },
        "nteract": {
          "transient": {
            "deleting": false
          }
        }
      }
    },
    {
      "cell_type": "code",
      "source": [
        "returnedJobCurated=mlClient.jobs.create_or_update(\n",
        "    job=command(\n",
        "        code=\"src\",\n",
        "        command=\"python diabetes-trainingEnv.py\",\n",
        "        environment=\"AzureML-sklearn-0.24-ubuntu18.04-py37-cpu@latest\",\n",
        "        compute=\"aml-cluster\",\n",
        "        display_name=\"diabetes-train-curated-env\",\n",
        "        experiment_name=\"diabetes-training\"\n",
        "        )\n",
        "    )  \n",
        "amlURLCurated=returnedJobCurated.studio_url\n",
        "print(amlURLCurated)"
      ],
      "outputs": [
        {
          "output_type": "stream",
          "name": "stderr",
          "text": "Uploading src (0.52 MBs): 100%|██████████| 519945/519945 [00:00<00:00, 8890803.44it/s]\n\n\n"
        },
        {
          "output_type": "stream",
          "name": "stdout",
          "text": "https://ml.azure.com/runs/olive_gas_gjnb7ww17b?wsid=/subscriptions/18a1f27f-edf5-495e-9acb-753c93335294/resourcegroups/rg-dp100-labs/workspaces/mlw-dp100-labs&tid=6a1d2f96-8cdf-4d1a-943d-7b73f4dfbb6d\n"
        }
      ],
      "execution_count": 10,
      "metadata": {
        "jupyter": {
          "source_hidden": false,
          "outputs_hidden": false
        },
        "nteract": {
          "transient": {
            "deleting": false
          }
        },
        "gather": {
          "logged": 1724528475014
        }
      }
    },
    {
      "cell_type": "markdown",
      "source": [
        "<h3> List Environments </h3>"
      ],
      "metadata": {
        "nteract": {
          "transient": {
            "deleting": false
          }
        }
      }
    },
    {
      "cell_type": "code",
      "source": [
        "envs=mlClient.environments.list()\n",
        "for env in envs:\n",
        "    print(env.name)\n",
        "    print(env.description)\n",
        "    print(env.tags)"
      ],
      "outputs": [
        {
          "output_type": "stream",
          "name": "stdout",
          "text": "AzureML-ACPT-pytorch-1.13-py38-cuda11.7-gpu\n"
        }
      ],
      "execution_count": 26,
      "metadata": {
        "jupyter": {
          "source_hidden": false,
          "outputs_hidden": false
        },
        "nteract": {
          "transient": {
            "deleting": false
          }
        },
        "gather": {
          "logged": 1724528976194
        }
      }
    },
    {
      "cell_type": "code",
      "source": [
        "env=mlClient.environments.get(\n",
        "    name=\"AzureML-sklearn-0.24-ubuntu18.04-py37-cpu\",\n",
        "    version=44\n",
        "    )\n",
        "print(env.description,env.tags)"
      ],
      "outputs": [
        {
          "output_type": "stream",
          "name": "stdout",
          "text": "An environment for tasks such as regression, clustering, and classification with Scikit-learn. Contains the Azure ML SDK and additional python packages. {'Scikit-learn': '0.24.1', 'OS': 'Ubuntu18.04', 'Training': ''}\n"
        }
      ],
      "execution_count": 24,
      "metadata": {
        "jupyter": {
          "source_hidden": false,
          "outputs_hidden": false
        },
        "nteract": {
          "transient": {
            "deleting": false
          }
        },
        "gather": {
          "logged": 1724528870011
        }
      }
    },
    {
      "cell_type": "markdown",
      "source": [
        "<h3> Create a Custom Environment </h3>"
      ],
      "metadata": {
        "nteract": {
          "transient": {
            "deleting": false
          }
        }
      }
    },
    {
      "cell_type": "code",
      "source": [
        "%%writefile src/conda-env.yml\n",
        "name: basic-env-cpu\n",
        "channels:\n",
        "- conda-forge\n",
        "dependencies:\n",
        "    - python=3.11\n",
        "    - scikit-learn\n",
        "    - pandas\n",
        "    - numpy\n",
        "    - matplotlib"
      ],
      "outputs": [
        {
          "output_type": "stream",
          "name": "stdout",
          "text": "Writing src/conda-env.yml\n"
        }
      ],
      "execution_count": 29,
      "metadata": {
        "jupyter": {
          "source_hidden": false,
          "outputs_hidden": false
        },
        "nteract": {
          "transient": {
            "deleting": false
          }
        }
      }
    },
    {
      "cell_type": "code",
      "source": [
        "envDockerConda=Environment(\n",
        "        image=\"mcr.microsoft.com/azureml/openmpi3.1.2-ubuntu18.04\",\n",
        "        conda_file=\"./src/conda-env.yml\",\n",
        "        name=\"docker-image-plus-conda-example\",\n",
        "        description=\"Environment created from a Docker Image plus Conda environment\"\n",
        "    )\n",
        "mlClient.environments.create_or_update(environment=envDockerConda)"
      ],
      "outputs": [
        {
          "output_type": "execute_result",
          "execution_count": 31,
          "data": {
            "text/plain": "Environment({'arm_type': 'environment_version', 'latest_version': None, 'image': 'mcr.microsoft.com/azureml/openmpi3.1.2-ubuntu18.04', 'intellectual_property': None, 'is_anonymous': False, 'auto_increment_version': False, 'auto_delete_setting': None, 'name': 'docker-image-plus-conda-example', 'description': 'Environment created from a Docker Image plus Conda environment', 'tags': {}, 'properties': {'azureml.labels': 'latest'}, 'print_as_yaml': False, 'id': '/subscriptions/18a1f27f-edf5-495e-9acb-753c93335294/resourceGroups/rg-dp100-labs/providers/Microsoft.MachineLearningServices/workspaces/mlw-dp100-labs/environments/docker-image-plus-conda-example/versions/1', 'Resource__source_path': '', 'base_path': '/mnt/batch/tasks/shared/LS_root/mounts/clusters/ritishadhikaricompute/code/Users/ritishadhikari', 'creation_context': <azure.ai.ml.entities._system_data.SystemData object at 0x7f631eacffa0>, 'serialize': <msrest.serialization.Serializer object at 0x7f631eacdf30>, 'version': '1', 'conda_file': {'channels': ['conda-forge'], 'dependencies': ['python=3.11', 'scikit-learn', 'pandas', 'numpy', 'matplotlib'], 'name': 'basic-env-cpu'}, 'build': None, 'inference_config': None, 'os_type': 'Linux', 'conda_file_path': None, 'path': None, 'datastore': None, 'upload_hash': None, 'translated_conda_file': '{\\n  \"channels\": [\\n    \"conda-forge\"\\n  ],\\n  \"dependencies\": [\\n    \"python=3.11\",\\n    \"scikit-learn\",\\n    \"pandas\",\\n    \"numpy\",\\n    \"matplotlib\"\\n  ],\\n  \"name\": \"basic-env-cpu\"\\n}'})"
          },
          "metadata": {}
        }
      ],
      "execution_count": 31,
      "metadata": {
        "jupyter": {
          "source_hidden": false,
          "outputs_hidden": false
        },
        "nteract": {
          "transient": {
            "deleting": false
          }
        },
        "gather": {
          "logged": 1724529805106
        }
      }
    },
    {
      "cell_type": "code",
      "source": [
        "returnedJobCustom=mlClient.jobs.create_or_update(\n",
        "    job=command(\n",
        "        code=\"src\",\n",
        "        command=\"python diabetes-trainingEnv.py\",\n",
        "        compute=\"aml-cluster\",\n",
        "        environment=\"docker-image-plus-conda-example@latest\",\n",
        "        experiment_name=\"diabetes-training\",\n",
        "        display_name=\"diabetes-training-custom-env\"\n",
        "    )\n",
        ")\n",
        "\n",
        "amlURLCustom=mlClient.jobs.create_or_update(job=returnedJobCustom)\n",
        "print(amlURLCustom)"
      ],
      "outputs": [
        {
          "output_type": "stream",
          "name": "stderr",
          "text": "pathOnCompute is not a known attribute of class <class 'azure.ai.ml._restclient.v2023_04_01_preview.models._models_py3.UriFolderJobOutput'> and will be ignored\nReadonly attribute status will be ignored in class <class 'azure.ai.ml._restclient.v2023_04_01_preview.models._models_py3.JobService'>\nReadonly attribute status will be ignored in class <class 'azure.ai.ml._restclient.v2023_04_01_preview.models._models_py3.JobService'>\n"
        },
        {
          "output_type": "stream",
          "name": "stdout",
          "text": "type: command\noutputs:\n  default:\n    mode: rw_mount\n    type: uri_folder\n    path: azureml://datastores/workspaceartifactstore/ExperimentRun/dcid.careful_king_g97w8dbc5x\nenvironment: azureml:docker-image-plus-conda-example:1\nresources:\n  instance_count: 1\n  shm_size: 2g\ncomponent:\n  name: careful_king_g97w8dbc5x\n  display_name: diabetes-training-custom-env\n  type: command\n  outputs:\n    default:\n      type: uri_folder\n      mode: rw_mount\n  command: python diabetes-trainingEnv.py\n  environment: azureml:/subscriptions/18a1f27f-edf5-495e-9acb-753c93335294/resourceGroups/rg-dp100-labs/providers/Microsoft.MachineLearningServices/workspaces/mlw-dp100-labs/environments/docker-image-plus-conda-example/versions/1\n  code: azureml:/subscriptions/18a1f27f-edf5-495e-9acb-753c93335294/resourceGroups/rg-dp100-labs/providers/Microsoft.MachineLearningServices/workspaces/mlw-dp100-labs/codes/583cecb3-fdd1-43b8-b100-9507711869ce/versions/1\n  creation_context:\n    created_at: '2024-08-24T20:10:45.176590+00:00'\n    created_by: Ritish Adhikari\n    created_by_type: User\n  is_deterministic: true\ncompute: azureml:aml-cluster\nproperties:\n  _azureml.ComputeTargetType: amlctrain\n  _azureml.ClusterName: aml-cluster\n  ContentSnapshotId: 371d5645-10e2-49cc-b47f-f84c4a934ef9\nservices:\n  Tracking:\n    endpoint: azureml://eastus.api.azureml.ms/mlflow/v1.0/subscriptions/18a1f27f-edf5-495e-9acb-753c93335294/resourceGroups/rg-dp100-labs/providers/Microsoft.MachineLearningServices/workspaces/mlw-dp100-labs?\n    type: Tracking\n  Studio:\n    endpoint: https://ml.azure.com/runs/careful_king_g97w8dbc5x?wsid=/subscriptions/18a1f27f-edf5-495e-9acb-753c93335294/resourcegroups/rg-dp100-labs/workspaces/mlw-dp100-labs&tid=6a1d2f96-8cdf-4d1a-943d-7b73f4dfbb6d\n    type: Studio\n\n"
        }
      ],
      "execution_count": 34,
      "metadata": {
        "jupyter": {
          "source_hidden": false,
          "outputs_hidden": false
        },
        "nteract": {
          "transient": {
            "deleting": false
          }
        },
        "gather": {
          "logged": 1724530245749
        }
      }
    },
    {
      "cell_type": "code",
      "source": [],
      "outputs": [],
      "execution_count": null,
      "metadata": {
        "jupyter": {
          "source_hidden": false,
          "outputs_hidden": false
        },
        "nteract": {
          "transient": {
            "deleting": false
          }
        }
      }
    }
  ],
  "metadata": {
    "kernelspec": {
      "name": "python310-sdkv2",
      "language": "python",
      "display_name": "Python 3.10 - SDK v2"
    },
    "language_info": {
      "name": "python",
      "version": "3.10.14",
      "mimetype": "text/x-python",
      "codemirror_mode": {
        "name": "ipython",
        "version": 3
      },
      "pygments_lexer": "ipython3",
      "nbconvert_exporter": "python",
      "file_extension": ".py"
    },
    "microsoft": {
      "ms_spell_check": {
        "ms_spell_check_language": "en"
      },
      "host": {
        "AzureML": {
          "notebookHasBeenCompleted": true
        }
      }
    },
    "kernel_info": {
      "name": "python310-sdkv2"
    },
    "nteract": {
      "version": "nteract-front-end@1.0.0"
    }
  },
  "nbformat": 4,
  "nbformat_minor": 2
}