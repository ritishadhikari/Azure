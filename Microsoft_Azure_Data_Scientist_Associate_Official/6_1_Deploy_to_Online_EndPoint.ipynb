{
  "cells": [
    {
      "cell_type": "code",
      "execution_count": 9,
      "metadata": {},
      "outputs": [
        {
          "name": "stdout",
          "output_type": "stream",
          "text": [
            "Name: azure-ai-ml\r\n",
            "Version: 1.9.0\r\n",
            "Summary: Microsoft Azure Machine Learning Client Library for Python\r\n",
            "Home-page: https://github.com/Azure/azure-sdk-for-python\r\n",
            "Author: Microsoft Corporation\r\n",
            "Author-email: azuresdkengsysadmins@microsoft.com\r\n",
            "License: MIT License\r\n",
            "Location: /anaconda/envs/azureml_py38/lib/python3.8/site-packages\r\n",
            "Requires: azure-common, azure-storage-file-share, isodate, msrest, pydash, strictyaml, pyjwt, opencensus-ext-azure, marshmallow, azure-core, pyyaml, tqdm, azure-storage-blob, azure-storage-file-datalake, typing-extensions, azure-mgmt-core, colorama, jsonschema\r\n",
            "Required-by: \r\n"
          ]
        }
      ],
      "source": [
        "!pip show azure-ai-ml"
      ]
    },
    {
      "cell_type": "code",
      "execution_count": 10,
      "metadata": {
        "gather": {
          "logged": 1691644573970
        },
        "jupyter": {
          "outputs_hidden": false,
          "source_hidden": false
        },
        "nteract": {
          "transient": {
            "deleting": false
          }
        }
      },
      "outputs": [],
      "source": [
        "from azure.identity import DefaultAzureCredential, InteractiveBrowserCredential\n",
        "from azure.ai.ml import MLClient\n",
        "\n",
        "try:\n",
        "    credential = DefaultAzureCredential()\n",
        "    # Check if given credential can get token successfully.\n",
        "    credential.get_token(\"https://management.azure.com/.default\")\n",
        "except Exception as ex:\n",
        "    # Fall back to InteractiveBrowserCredential in case DefaultAzureCredential not work\n",
        "    credential = InteractiveBrowserCredential()"
      ]
    },
    {
      "cell_type": "code",
      "execution_count": 11,
      "metadata": {
        "gather": {
          "logged": 1691644574107
        },
        "jupyter": {
          "outputs_hidden": false,
          "source_hidden": false
        },
        "nteract": {
          "transient": {
            "deleting": false
          }
        }
      },
      "outputs": [
        {
          "name": "stderr",
          "output_type": "stream",
          "text": [
            "Found the config file in: /config.json\n"
          ]
        }
      ],
      "source": [
        "ml_client=MLClient.from_config(credential=credential)"
      ]
    },
    {
      "cell_type": "code",
      "execution_count": 12,
      "metadata": {
        "gather": {
          "logged": 1691644574205
        },
        "jupyter": {
          "outputs_hidden": false,
          "source_hidden": false
        },
        "nteract": {
          "transient": {
            "deleting": false
          }
        }
      },
      "outputs": [],
      "source": [
        "from azure.ai.ml.entities import ManagedOnlineEndpoint\n",
        "import datetime\n",
        "\n",
        "\n",
        "online_endpoint_name=\"endpoint-\"+datetime.datetime.now().strftime(\"%m%d%H%M%f\")\n",
        "\n",
        "# Create an online endpoint\n",
        "endpoint=ManagedOnlineEndpoint(\n",
        "    name=online_endpoint_name,\n",
        "    description=\"Online Endpoint for MLFLOW diabetes model\",\n",
        "    auth_mode=\"key\"\n",
        "    )"
      ]
    },
    {
      "cell_type": "markdown",
      "metadata": {
        "nteract": {
          "transient": {
            "deleting": false
          }
        }
      },
      "source": [
        "<h3> <a>https://learn.microsoft.com/en-us/azure/machine-learning/how-to-deploy-online-endpoints?view=azureml-api-2&wt.mc_id=aiml-17954-sejuare&tabs=python </a></h3>"
      ]
    },
    {
      "cell_type": "code",
      "execution_count": 13,
      "metadata": {
        "gather": {
          "logged": 1691644667802
        },
        "jupyter": {
          "outputs_hidden": false,
          "source_hidden": false
        },
        "nteract": {
          "transient": {
            "deleting": false
          }
        }
      },
      "outputs": [
        {
          "data": {
            "text/plain": [
              "ManagedOnlineEndpoint({'public_network_access': 'Enabled', 'provisioning_state': 'Succeeded', 'scoring_uri': 'https://endpoint-08100516018674.westus.inference.ml.azure.com/score', 'openapi_uri': 'https://endpoint-08100516018674.westus.inference.ml.azure.com/swagger.json', 'name': 'endpoint-08100516018674', 'description': 'Online Endpoint for MLFLOW diabetes model', 'tags': {}, 'properties': {'azureml.onlineendpointid': '/subscriptions/18a1f27f-edf5-495e-9acb-753c93335294/resourcegroups/rg-dp100-la4e97039a08e47518e/providers/microsoft.machinelearningservices/workspaces/mlw-dp100-la4e97039a08e47518e/onlineendpoints/endpoint-08100516018674', 'AzureAsyncOperationUri': 'https://management.azure.com/subscriptions/18a1f27f-edf5-495e-9acb-753c93335294/providers/Microsoft.MachineLearningServices/locations/westus/mfeOperationsStatus/oe:483d469a-b0ea-488d-8ffe-c1fe9008d232:5cf5c775-2ca7-4485-8ee7-ff56c1a75c5d?api-version=2022-02-01-preview'}, 'print_as_yaml': True, 'id': '/subscriptions/18a1f27f-edf5-495e-9acb-753c93335294/resourceGroups/rg-dp100-la4e97039a08e47518e/providers/Microsoft.MachineLearningServices/workspaces/mlw-dp100-la4e97039a08e47518e/onlineEndpoints/endpoint-08100516018674', 'Resource__source_path': None, 'base_path': '/mnt/batch/tasks/shared/LS_root/mounts/clusters/cia4e97039a08e47518e/code/Users/ritishadhikari/azure-ml-labs/Labs/11', 'creation_context': None, 'serialize': <msrest.serialization.Serializer object at 0x7f1682d5f820>, 'auth_mode': 'key', 'location': 'westus', 'identity': <azure.ai.ml.entities._credentials.IdentityConfiguration object at 0x7f1682d5f4f0>, 'traffic': {}, 'mirror_traffic': {}, 'kind': 'Managed'})"
            ]
          },
          "execution_count": 13,
          "metadata": {},
          "output_type": "execute_result"
        }
      ],
      "source": [
        "# Create the endpoint\n",
        "ml_client.begin_create_or_update(endpoint).result()"
      ]
    },
    {
      "cell_type": "code",
      "execution_count": 14,
      "metadata": {
        "gather": {
          "logged": 1691644667933
        },
        "jupyter": {
          "outputs_hidden": false,
          "source_hidden": false
        },
        "nteract": {
          "transient": {
            "deleting": false
          }
        }
      },
      "outputs": [],
      "source": [
        "from azure.ai.ml.entities import Model, ManagedOnlineDeployment\n",
        "from azure.ai.ml.constants import AssetTypes\n",
        "\n",
        "# create a blue deployment\n",
        "model=Model(\n",
        "    path=\"./model\",\n",
        "    type=AssetTypes.MLFLOW_MODEL,\n",
        "    description=\"My Sample mlflow model\"\n",
        "    )\n",
        "\n",
        "blue_deployment=ManagedOnlineDeployment(\n",
        "    name=\"blue\",\n",
        "    endpoint_name=online_endpoint_name,\n",
        "    model=model, \n",
        "    instance_type=\"Standard_F4s_v2\",\n",
        "    instance_count=1\n",
        "    )\n"
      ]
    },
    {
      "cell_type": "code",
      "execution_count": 15,
      "metadata": {
        "gather": {
          "logged": 1691645114283
        },
        "jupyter": {
          "outputs_hidden": false,
          "source_hidden": false
        },
        "nteract": {
          "transient": {
            "deleting": false
          }
        }
      },
      "outputs": [
        {
          "name": "stderr",
          "output_type": "stream",
          "text": [
            "Check: endpoint endpoint-08100516018674 exists\n",
            "\u001b[32mUploading model (0.0 MBs): 100%|██████████| 2424/2424 [00:00<00:00, 15179.17it/s]\n",
            "\u001b[39m\n",
            "\n"
          ]
        },
        {
          "name": "stdout",
          "output_type": "stream",
          "text": [
            "...................................................................................."
          ]
        },
        {
          "data": {
            "text/plain": [
              "ManagedOnlineDeployment({'private_network_connection': None, 'provisioning_state': 'Succeeded', 'endpoint_name': 'endpoint-08100516018674', 'type': 'Managed', 'name': 'blue', 'description': None, 'tags': {}, 'properties': {'AzureAsyncOperationUri': 'https://management.azure.com/subscriptions/18a1f27f-edf5-495e-9acb-753c93335294/providers/Microsoft.MachineLearningServices/locations/westus/mfeOperationsStatus/od:483d469a-b0ea-488d-8ffe-c1fe9008d232:1fbe6121-6911-4948-9c2b-4d2827cf75e5?api-version=2023-04-01-preview'}, 'print_as_yaml': True, 'id': '/subscriptions/18a1f27f-edf5-495e-9acb-753c93335294/resourceGroups/rg-dp100-la4e97039a08e47518e/providers/Microsoft.MachineLearningServices/workspaces/mlw-dp100-la4e97039a08e47518e/onlineEndpoints/endpoint-08100516018674/deployments/blue', 'Resource__source_path': None, 'base_path': '/mnt/batch/tasks/shared/LS_root/mounts/clusters/cia4e97039a08e47518e/code/Users/ritishadhikari/azure-ml-labs/Labs/11', 'creation_context': None, 'serialize': <msrest.serialization.Serializer object at 0x7f1682de8c10>, 'model': '/subscriptions/18a1f27f-edf5-495e-9acb-753c93335294/resourceGroups/rg-dp100-la4e97039a08e47518e/providers/Microsoft.MachineLearningServices/workspaces/mlw-dp100-la4e97039a08e47518e/models/edb0dcf7ef1f92adbbf4aeae11a91c21/versions/1', 'code_configuration': None, 'environment': None, 'environment_variables': {}, 'app_insights_enabled': False, 'scale_settings': <azure.ai.ml.entities._deployment.scale_settings.DefaultScaleSettings object at 0x7f1682de9360>, 'request_settings': <azure.ai.ml.entities._deployment.deployment_settings.OnlineRequestSettings object at 0x7f1682de8100>, 'liveness_probe': <azure.ai.ml.entities._deployment.deployment_settings.ProbeSettings object at 0x7f1682de80a0>, 'readiness_probe': <azure.ai.ml.entities._deployment.deployment_settings.ProbeSettings object at 0x7f1682de9390>, 'instance_count': 1, 'arm_type': 'online_deployment', 'model_mount_path': None, 'instance_type': 'Standard_F4s_v2', 'data_collector': None, 'egress_public_network_access': 'Enabled'})"
            ]
          },
          "execution_count": 15,
          "metadata": {},
          "output_type": "execute_result"
        }
      ],
      "source": [
        "ml_client.online_deployments.begin_create_or_update(deployment=blue_deployment).result()"
      ]
    },
    {
      "cell_type": "code",
      "execution_count": 16,
      "metadata": {
        "gather": {
          "logged": 1691645751003
        },
        "jupyter": {
          "outputs_hidden": false,
          "source_hidden": false
        },
        "nteract": {
          "transient": {
            "deleting": false
          }
        }
      },
      "outputs": [
        {
          "data": {
            "text/plain": [
              "ManagedOnlineEndpoint({'public_network_access': 'Enabled', 'provisioning_state': 'Succeeded', 'scoring_uri': 'https://endpoint-08100516018674.westus.inference.ml.azure.com/score', 'openapi_uri': 'https://endpoint-08100516018674.westus.inference.ml.azure.com/swagger.json', 'name': 'endpoint-08100516018674', 'description': 'Online Endpoint for MLFLOW diabetes model', 'tags': {}, 'properties': {'azureml.onlineendpointid': '/subscriptions/18a1f27f-edf5-495e-9acb-753c93335294/resourcegroups/rg-dp100-la4e97039a08e47518e/providers/microsoft.machinelearningservices/workspaces/mlw-dp100-la4e97039a08e47518e/onlineendpoints/endpoint-08100516018674', 'AzureAsyncOperationUri': 'https://management.azure.com/subscriptions/18a1f27f-edf5-495e-9acb-753c93335294/providers/Microsoft.MachineLearningServices/locations/westus/mfeOperationsStatus/oe:483d469a-b0ea-488d-8ffe-c1fe9008d232:f3261168-dd73-46d5-bab1-9e0bc4e275af?api-version=2022-02-01-preview'}, 'print_as_yaml': True, 'id': '/subscriptions/18a1f27f-edf5-495e-9acb-753c93335294/resourceGroups/rg-dp100-la4e97039a08e47518e/providers/Microsoft.MachineLearningServices/workspaces/mlw-dp100-la4e97039a08e47518e/onlineEndpoints/endpoint-08100516018674', 'Resource__source_path': None, 'base_path': '/mnt/batch/tasks/shared/LS_root/mounts/clusters/cia4e97039a08e47518e/code/Users/ritishadhikari/azure-ml-labs/Labs/11', 'creation_context': None, 'serialize': <msrest.serialization.Serializer object at 0x7f1680398eb0>, 'auth_mode': 'key', 'location': 'westus', 'identity': <azure.ai.ml.entities._credentials.IdentityConfiguration object at 0x7f168039fc70>, 'traffic': {'blue': 100}, 'mirror_traffic': {}, 'kind': 'Managed'})"
            ]
          },
          "execution_count": 16,
          "metadata": {},
          "output_type": "execute_result"
        }
      ],
      "source": [
        "endpoint.traffic={\"blue\":100}\n",
        "\n",
        "ml_client.begin_create_or_update(entity=endpoint).result()"
      ]
    },
    {
      "cell_type": "markdown",
      "metadata": {
        "nteract": {
          "transient": {
            "deleting": false
          }
        }
      },
      "source": [
        "<h3> Test the Deployment</h3>"
      ]
    },
    {
      "cell_type": "code",
      "execution_count": 21,
      "metadata": {
        "gather": {
          "logged": 1691645958887
        },
        "jupyter": {
          "outputs_hidden": false,
          "source_hidden": false
        },
        "nteract": {
          "transient": {
            "deleting": false
          }
        }
      },
      "outputs": [
        {
          "name": "stdout",
          "output_type": "stream",
          "text": [
            "[1]\n",
            "Diabetic\n"
          ]
        }
      ],
      "source": [
        "response=ml_client.online_endpoints.invoke(\n",
        "    endpoint_name=online_endpoint_name,\n",
        "    deployment_name=\"blue\",\n",
        "    request_file=\"sample-data.json\"\n",
        ")\n",
        "\n",
        "if response[1]==\"1\":\n",
        "    print(\"Diabetic\")\n",
        "else:\n",
        "    print(\"Not Diabetic\")"
      ]
    },
    {
      "cell_type": "markdown",
      "metadata": {
        "nteract": {
          "transient": {
            "deleting": false
          }
        }
      },
      "source": [
        "<h3> List all endpoints </h3>\n",
        "\n"
      ]
    },
    {
      "cell_type": "code",
      "execution_count": 22,
      "metadata": {
        "gather": {
          "logged": 1691646049387
        },
        "jupyter": {
          "outputs_hidden": false,
          "source_hidden": false
        },
        "nteract": {
          "transient": {
            "deleting": false
          }
        }
      },
      "outputs": [
        {
          "name": "stdout",
          "output_type": "stream",
          "text": [
            "endpoint-08100454495046\n",
            "endpoint-08100516018674\n"
          ]
        }
      ],
      "source": [
        "endpoints=ml_client.online_endpoints.list()\n",
        "\n",
        "for endp in endpoints:\n",
        "    print(endp.name)"
      ]
    },
    {
      "cell_type": "code",
      "execution_count": 24,
      "metadata": {
        "gather": {
          "logged": 1691646142871
        },
        "jupyter": {
          "outputs_hidden": false,
          "source_hidden": false
        },
        "nteract": {
          "transient": {
            "deleting": false
          }
        }
      },
      "outputs": [
        {
          "name": "stdout",
          "output_type": "stream",
          "text": [
            "{'blue': 100}\n",
            "https://endpoint-08100516018674.westus.inference.ml.azure.com/score\n"
          ]
        }
      ],
      "source": [
        "endpoint=ml_client.online_endpoints.get(name=online_endpoint_name)\n",
        "\n",
        "# get existing traffic details\n",
        "print(endpoint.traffic)\n",
        "\n",
        "# get scoring uri\n",
        "print(endpoint.scoring_uri)"
      ]
    },
    {
      "cell_type": "markdown",
      "metadata": {
        "nteract": {
          "transient": {
            "deleting": false
          }
        }
      },
      "source": [
        "<h3> Delete the endpoint </h3>\n",
        "\n"
      ]
    },
    {
      "cell_type": "code",
      "execution_count": 25,
      "metadata": {
        "gather": {
          "logged": 1691646207377
        },
        "jupyter": {
          "outputs_hidden": false,
          "source_hidden": false
        },
        "nteract": {
          "transient": {
            "deleting": false
          }
        }
      },
      "outputs": [
        {
          "data": {
            "text/plain": [
              "<azure.core.polling._poller.LROPoller at 0x7f1676f75b40>"
            ]
          },
          "execution_count": 25,
          "metadata": {},
          "output_type": "execute_result"
        },
        {
          "name": "stdout",
          "output_type": "stream",
          "text": [
            "........"
          ]
        }
      ],
      "source": [
        "ml_client.online_endpoints.begin_delete(name=online_endpoint_name)"
      ]
    },
    {
      "cell_type": "code",
      "execution_count": null,
      "metadata": {
        "jupyter": {
          "outputs_hidden": false,
          "source_hidden": false
        },
        "nteract": {
          "transient": {
            "deleting": false
          }
        }
      },
      "outputs": [],
      "source": []
    }
  ],
  "metadata": {
    "kernel_info": {
      "name": "python310-sdkv2"
    },
    "kernelspec": {
      "display_name": "Python 3.10 - SDK v2",
      "language": "python",
      "name": "python310-sdkv2"
    },
    "language_info": {
      "codemirror_mode": {
        "name": "ipython",
        "version": 3
      },
      "file_extension": ".py",
      "mimetype": "text/x-python",
      "name": "python",
      "nbconvert_exporter": "python",
      "pygments_lexer": "ipython3",
      "version": "3.10.11"
    },
    "microsoft": {
      "host": {
        "AzureML": {
          "notebookHasBeenCompleted": true
        }
      },
      "ms_spell_check": {
        "ms_spell_check_language": "en"
      }
    },
    "nteract": {
      "version": "nteract-front-end@1.0.0"
    }
  },
  "nbformat": 4,
  "nbformat_minor": 2
}
