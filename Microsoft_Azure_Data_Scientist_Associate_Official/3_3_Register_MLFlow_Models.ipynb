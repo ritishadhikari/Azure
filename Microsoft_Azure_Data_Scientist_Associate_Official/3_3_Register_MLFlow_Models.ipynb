{
  "cells": [
    {
      "cell_type": "code",
      "execution_count": 1,
      "metadata": {
        "gather": {
          "logged": 1724751676317
        }
      },
      "outputs": [
        {
          "name": "stderr",
          "output_type": "stream",
          "text": [
            "Found the config file in: /config.json\n"
          ]
        }
      ],
      "source": [
        "from azure.identity import DefaultAzureCredential, InteractiveBrowserCredential\n",
        "from azure.ai.ml import MLClient\n",
        "\n",
        "try:\n",
        "    credential=DefaultAzureCredential()\n",
        "    credential.get_token(\"https://management.azure.com/.default\")\n",
        "except Exception as ex:\n",
        "    credential=InteractiveBrowserCredential()\n",
        "\n",
        "mlClient=MLClient.from_config(credential=credential)"
      ]
    },
    {
      "cell_type": "code",
      "execution_count": 29,
      "metadata": {
        "gather": {
          "logged": 1724761665367
        },
        "jupyter": {
          "outputs_hidden": false,
          "source_hidden": false
        },
        "nteract": {
          "transient": {
            "deleting": false
          }
        }
      },
      "outputs": [],
      "source": [
        "from azure.ai.ml import command\n",
        "import mlflow\n",
        "from azure.ai.ml.entities import Model\n",
        "from azure.ai.ml.constants import AssetTypes"
      ]
    },
    {
      "cell_type": "code",
      "execution_count": 2,
      "metadata": {
        "gather": {
          "logged": 1724752789937
        },
        "jupyter": {
          "outputs_hidden": false,
          "source_hidden": false
        },
        "nteract": {
          "transient": {
            "deleting": false
          }
        }
      },
      "outputs": [],
      "source": [
        "scriptFolder=\"src\""
      ]
    },
    {
      "cell_type": "code",
      "execution_count": 4,
      "metadata": {
        "jupyter": {
          "outputs_hidden": false,
          "source_hidden": false
        },
        "nteract": {
          "transient": {
            "deleting": false
          }
        }
      },
      "outputs": [
        {
          "name": "stdout",
          "output_type": "stream",
          "text": [
            "Writing src/train-model-autolog.py\n"
          ]
        }
      ],
      "source": [
        "%%writefile $scriptFolder/train-model-autolog.py\n",
        "import mlflow\n",
        "import argparse\n",
        "import pandas as pd\n",
        "import numpy as np\n",
        "from sklearn.model_selection import train_test_split\n",
        "from sklearn.linear_model import LogisticRegression\n",
        "from sklearn.metrics import roc_auc_score,roc_curve\n",
        "from matplotlib import pyplot as plt\n",
        "\n",
        "def main(args):\n",
        "    mlflow.autolog()\n",
        "    df=getData(path=args.trainingData)\n",
        "    XTrain, XTest, yTrain, yTest=splitData(df=df)\n",
        "    model=trainModel(regRate=args.regRate,XTrain=XTrain,XTest=XTest,yTrain=yTrain,yTest=yTest)\n",
        "    evalModel(model=model,XTest=XTest,yTest=yTest)\n",
        "\n",
        "\n",
        "def getData(path):\n",
        "    print(\"Reading Data\")\n",
        "    df=pd.read_csv(filepath_or_buffer=path)\n",
        "    return df\n",
        "\n",
        "def splitData(df:pd.DataFrame):\n",
        "    print(\"Splitting Data\")\n",
        "    X=df[\n",
        "            [\n",
        "                'Pregnancies','PlasmaGlucose','DiastolicBloodPressure',\n",
        "                'TricepsThickness', 'SerumInsulin','BMI','DiabetesPedigree','Age'\n",
        "            ]\n",
        "        ].values\n",
        "    y=df['Diabetic'].values\n",
        "    XTrain, XTest, yTrain, yTest = train_test_split(X, y, test_size=0.30, random_state=0)\n",
        "    return XTrain, XTest, yTrain, yTest\n",
        "\n",
        "def trainModel(regRate,XTrain, XTest, yTrain, yTest):\n",
        "    print(\"Training Model\")\n",
        "    model=LogisticRegression(C=1/regRate,solver=\"liblinear\")\n",
        "    model.fit(X=XTrain,y=yTrain)\n",
        "    return model\n",
        "\n",
        "def evalModel(model,XTest,yTest):\n",
        "    yHat=model.predict(X=XTest)\n",
        "    acc=np.average(yHat==yTest)\n",
        "    print(f\"Accuracy:{acc}\")\n",
        "\n",
        "def parseArgs():\n",
        "    parser=argparse.ArgumentParser()\n",
        "    parser.add_argument(\"--trainingData\",dest=\"trainingData\",type=str)\n",
        "    parser.add_argument(\"--regRate\",dest=\"regRate\",type=float,default=0.01)\n",
        "    \n",
        "    args=parser.parse_args()\n",
        "    return args\n",
        "\n",
        "\n",
        "if __name__==\"__main__\":\n",
        "    print(\"*\"*60)\n",
        "    args=parseArgs()\n",
        "    main(args=args)\n",
        "    print(\"*\"*60)"
      ]
    },
    {
      "cell_type": "code",
      "execution_count": 11,
      "metadata": {
        "gather": {
          "logged": 1724757358668
        },
        "jupyter": {
          "outputs_hidden": false,
          "source_hidden": false
        },
        "nteract": {
          "transient": {
            "deleting": false
          }
        }
      },
      "outputs": [
        {
          "name": "stderr",
          "output_type": "stream",
          "text": [
            "\u001b[32mUploading src (0.52 MBs): 100%|██████████| 523899/523899 [00:01<00:00, 436461.86it/s]\n",
            "\u001b[39m\n",
            "\n"
          ]
        },
        {
          "name": "stdout",
          "output_type": "stream",
          "text": [
            "https://ml.azure.com/runs/joyful_fish_m6jxy8m9c4?wsid=/subscriptions/18a1f27f-edf5-495e-9acb-753c93335294/resourcegroups/rg-dp100-labs/workspaces/mlw-dp100-labs&tid=6a1d2f96-8cdf-4d1a-943d-7b73f4dfbb6d\n"
          ]
        }
      ],
      "source": [
        "job=command(\n",
        "    code=\"./src\",\n",
        "    command=\"python train-model-autolog.py --trainingData data/diabetes.csv\",\n",
        "    environment=\"AzureML-sklearn-0.24-ubuntu18.04-py37-cpu@latest\",\n",
        "    compute=\"aml-cluster\",\n",
        "    display_name=\"diabetes-train-autolog\",\n",
        "    experiment_name=\"diabetes-training\"\n",
        ")\n",
        "\n",
        "returnedJobAuto=mlClient.jobs.create_or_update(job=job)\n",
        "amlURLAuto=returnedJobAuto.studio_url\n",
        "print(amlURLAuto)"
      ]
    },
    {
      "cell_type": "markdown",
      "metadata": {
        "nteract": {
          "transient": {
            "deleting": false
          }
        }
      },
      "source": [
        "Enabling AutoLog with SKLearn"
      ]
    },
    {
      "cell_type": "code",
      "execution_count": 7,
      "metadata": {
        "jupyter": {
          "outputs_hidden": false,
          "source_hidden": false
        },
        "nteract": {
          "transient": {
            "deleting": false
          }
        }
      },
      "outputs": [
        {
          "name": "stdout",
          "output_type": "stream",
          "text": [
            "Writing src/train-model-sklearn-autolog.py\n"
          ]
        }
      ],
      "source": [
        "%%writefile $scriptFolder/train-model-sklearn-autolog.py\n",
        "import mlflow\n",
        "import argparse\n",
        "import pandas as pd\n",
        "import numpy as np\n",
        "from sklearn.model_selection import train_test_split\n",
        "from sklearn.linear_model import LogisticRegression\n",
        "from sklearn.metrics import roc_auc_score,roc_curve\n",
        "from matplotlib import pyplot as plt\n",
        "\n",
        "def main(args):\n",
        "    mlflow.sklearn.autolog()\n",
        "    df=getData(path=args.trainingData)\n",
        "    XTrain, XTest, yTrain, yTest=splitData(df=df)\n",
        "    model=trainModel(regRate=args.regRate,XTrain=XTrain,XTest=XTest,yTrain=yTrain,yTest=yTest)\n",
        "    evalModel(model=model,XTest=XTest,yTest=yTest)\n",
        "\n",
        "\n",
        "def getData(path):\n",
        "    print(\"Reading Data\")\n",
        "    df=pd.read_csv(filepath_or_buffer=path)\n",
        "    return df\n",
        "\n",
        "def splitData(df:pd.DataFrame):\n",
        "    print(\"Splitting Data\")\n",
        "    X=df[\n",
        "            [\n",
        "                'Pregnancies','PlasmaGlucose','DiastolicBloodPressure',\n",
        "                'TricepsThickness', 'SerumInsulin','BMI','DiabetesPedigree','Age'\n",
        "            ]\n",
        "        ].values\n",
        "    y=df['Diabetic'].values\n",
        "    XTrain, XTest, yTrain, yTest = train_test_split(X, y, test_size=0.30, random_state=0)\n",
        "    return XTrain, XTest, yTrain, yTest\n",
        "\n",
        "def trainModel(regRate,XTrain, XTest, yTrain, yTest):\n",
        "    print(\"Training Model\")\n",
        "    model=LogisticRegression(C=1/regRate,solver=\"liblinear\")\n",
        "    model.fit(X=XTrain,y=yTrain)\n",
        "    return model\n",
        "\n",
        "def evalModel(model,XTest,yTest):\n",
        "    yHat=model.predict(X=XTest)\n",
        "    acc=np.average(yHat==yTest)\n",
        "    print(f\"Accuracy:{acc}\")\n",
        "\n",
        "def parseArgs():\n",
        "    parser=argparse.ArgumentParser()\n",
        "    parser.add_argument(\"--trainingData\",dest=\"trainingData\",type=str)\n",
        "    parser.add_argument(\"--regRate\",dest=\"regRate\",type=float,default=0.01)\n",
        "    \n",
        "    args=parser.parse_args()\n",
        "    return args\n",
        "\n",
        "\n",
        "if __name__==\"__main__\":\n",
        "    print(\"*\"*60)\n",
        "    args=parseArgs()\n",
        "    main(args=args)\n",
        "    print(\"*\"*60)"
      ]
    },
    {
      "cell_type": "code",
      "execution_count": 12,
      "metadata": {
        "gather": {
          "logged": 1724757362820
        },
        "jupyter": {
          "outputs_hidden": false,
          "source_hidden": false
        },
        "nteract": {
          "transient": {
            "deleting": false
          }
        }
      },
      "outputs": [
        {
          "name": "stdout",
          "output_type": "stream",
          "text": [
            "https://ml.azure.com/runs/khaki_vase_brfgpzbh34?wsid=/subscriptions/18a1f27f-edf5-495e-9acb-753c93335294/resourcegroups/rg-dp100-labs/workspaces/mlw-dp100-labs&tid=6a1d2f96-8cdf-4d1a-943d-7b73f4dfbb6d\n"
          ]
        }
      ],
      "source": [
        "job=command(\n",
        "    code=\"./src\",\n",
        "    command=\"python train-model-sklearn-autolog.py --trainingData data/diabetes.csv\",\n",
        "    environment=\"AzureML-sklearn-0.24-ubuntu18.04-py37-cpu@latest\",\n",
        "    compute=\"aml-cluster\",\n",
        "    display_name=\"diabetes-train-autolog-sklearn\",\n",
        "    experiment_name=\"diabetes-training\"\n",
        ")\n",
        "\n",
        "returnedJobSklearn=mlClient.jobs.create_or_update(job=job)\n",
        "amlURLSklearn=returnedJobSklearn.studio_url\n",
        "print(amlURLSklearn)"
      ]
    },
    {
      "cell_type": "markdown",
      "metadata": {
        "nteract": {
          "transient": {
            "deleting": false
          }
        }
      },
      "source": [
        "<h5> Customizing Models with Inferred Signatures </h5>"
      ]
    },
    {
      "cell_type": "code",
      "execution_count": 24,
      "metadata": {
        "gather": {
          "logged": 1724757311930
        },
        "jupyter": {
          "outputs_hidden": false,
          "source_hidden": false
        },
        "nteract": {
          "transient": {
            "deleting": false
          }
        }
      },
      "outputs": [
        {
          "name": "stdout",
          "output_type": "stream",
          "text": [
            "Overwriting src/train-model-inferred.py\n"
          ]
        }
      ],
      "source": [
        "%%writefile $scriptFolder/train-model-inferred.py\n",
        "import mlflow\n",
        "import argparse\n",
        "import pandas as pd\n",
        "import numpy as np\n",
        "from sklearn.model_selection import train_test_split\n",
        "from sklearn.linear_model import LogisticRegression\n",
        "from sklearn.metrics import roc_auc_score,roc_curve\n",
        "from matplotlib import pyplot as plt\n",
        "import mlflow.sklearn\n",
        "from mlflow.models.signature import infer_signature\n",
        "\n",
        "def main(args):\n",
        "    mlflow.autolog(log_models=False)\n",
        "    df=getData(path=args.trainingData)\n",
        "    XTrain, XTest, yTrain, yTest=splitData(df=df)\n",
        "    model=trainModel(regRate=args.regRate,XTrain=XTrain,XTest=XTest,yTrain=yTrain,yTest=yTest)\n",
        "    yHat=evalModel(model=model,XTest=XTest,yTest=yTest)\n",
        "    signature=infer_signature(XTrain,yHat)\n",
        "    mlflow.sklearn.log_model(sk_model=model,artifact_path=\"modelRitishLearn\",signature=signature)\n",
        "\n",
        "\n",
        "def getData(path):\n",
        "    print(\"Reading Data\")\n",
        "    df=pd.read_csv(filepath_or_buffer=path)\n",
        "    return df\n",
        "\n",
        "def splitData(df:pd.DataFrame):\n",
        "    print(\"Splitting Data\")\n",
        "    X=df[\n",
        "            [\n",
        "                'Pregnancies','PlasmaGlucose','DiastolicBloodPressure',\n",
        "                'TricepsThickness', 'SerumInsulin','BMI','DiabetesPedigree','Age'\n",
        "            ]\n",
        "        ].values\n",
        "    y=df['Diabetic'].values\n",
        "    XTrain, XTest, yTrain, yTest = train_test_split(X, y, test_size=0.30, random_state=0)\n",
        "    return XTrain, XTest, yTrain, yTest\n",
        "\n",
        "def trainModel(regRate,XTrain, XTest, yTrain, yTest):\n",
        "    print(\"Training Model\")\n",
        "    model=LogisticRegression(C=1/regRate,solver=\"liblinear\")\n",
        "    model.fit(X=XTrain,y=yTrain)\n",
        "    return model\n",
        "\n",
        "def evalModel(model,XTest,yTest):\n",
        "    yHat=model.predict(X=XTest)\n",
        "    acc=np.average(yHat==yTest)\n",
        "    print(f\"Accuracy:{acc}\")\n",
        "    return yHat\n",
        "\n",
        "def parseArgs():\n",
        "    parser=argparse.ArgumentParser()\n",
        "    parser.add_argument(\"--trainingData\",dest=\"trainingData\",type=str)\n",
        "    parser.add_argument(\"--regRate\",dest=\"regRate\",type=float,default=0.01)\n",
        "    \n",
        "    args=parser.parse_args()\n",
        "    return args\n",
        "\n",
        "\n",
        "if __name__==\"__main__\":\n",
        "    print(\"*\"*60)\n",
        "    args=parseArgs()\n",
        "    main(args=args)\n",
        "    print(\"*\"*60)"
      ]
    },
    {
      "cell_type": "code",
      "execution_count": 25,
      "metadata": {
        "gather": {
          "logged": 1724760474707
        },
        "jupyter": {
          "outputs_hidden": false,
          "source_hidden": false
        },
        "nteract": {
          "transient": {
            "deleting": false
          }
        }
      },
      "outputs": [
        {
          "name": "stderr",
          "output_type": "stream",
          "text": [
            "\r\u001b[32mUploading src (0.53 MBs):   0%|          | 0/525898 [00:00<?, ?it/s]\r\u001b[32mUploading src (0.53 MBs): 100%|██████████| 525898/525898 [00:00<00:00, 7508104.83it/s]\n",
            "\u001b[39m\n",
            "\n"
          ]
        },
        {
          "name": "stdout",
          "output_type": "stream",
          "text": [
            "https://ml.azure.com/runs/cyan_pear_ws0nncz2mx?wsid=/subscriptions/18a1f27f-edf5-495e-9acb-753c93335294/resourcegroups/rg-dp100-labs/workspaces/mlw-dp100-labs&tid=6a1d2f96-8cdf-4d1a-943d-7b73f4dfbb6d\n"
          ]
        }
      ],
      "source": [
        "job=command(\n",
        "    code=\"./src\",\n",
        "    command=\"python train-model-inferred.py --trainingData data/diabetes.csv\",\n",
        "    environment=\"AzureML-sklearn-0.24-ubuntu18.04-py37-cpu@latest\",\n",
        "    compute=\"aml-cluster\",\n",
        "    display_name=\"diabetes-train-inferred\",\n",
        "    experiment_name=\"diabetes-training\"\n",
        ")\n",
        "\n",
        "returnedJobInferred=mlClient.jobs.create_or_update(job=job)\n",
        "amlURLInferred=returnedJobInferred.studio_url\n",
        "print(amlURLInferred)"
      ]
    },
    {
      "cell_type": "markdown",
      "metadata": {
        "nteract": {
          "transient": {
            "deleting": false
          }
        }
      },
      "source": [
        "<h3> Manually Create Signature </h3>"
      ]
    },
    {
      "cell_type": "code",
      "execution_count": 27,
      "metadata": {
        "jupyter": {
          "outputs_hidden": false,
          "source_hidden": false
        },
        "nteract": {
          "transient": {
            "deleting": false
          }
        }
      },
      "outputs": [
        {
          "name": "stdout",
          "output_type": "stream",
          "text": [
            "Writing src/train-model-manualSignature.py\n"
          ]
        }
      ],
      "source": [
        "%%writefile $scriptFolder/train-model-manualSignature.py\n",
        "import mlflow\n",
        "import argparse\n",
        "import pandas as pd\n",
        "import numpy as np\n",
        "from sklearn.model_selection import train_test_split\n",
        "from sklearn.linear_model import LogisticRegression\n",
        "from sklearn.metrics import roc_auc_score,roc_curve\n",
        "from matplotlib import pyplot as plt\n",
        "import mlflow.sklearn\n",
        "from mlflow.models.signature import ModelSignature\n",
        "from mlflow.types.schema import Schema, ColSpec\n",
        "\n",
        "def main(args):\n",
        "    mlflow.autolog(log_models=False)\n",
        "    df=getData(path=args.trainingData)\n",
        "    XTrain, XTest, yTrain, yTest=splitData(df=df)\n",
        "    model=trainModel(regRate=args.regRate,XTrain=XTrain,XTest=XTest,yTrain=yTrain,yTest=yTest)\n",
        "    yHat=evalModel(model=model,XTest=XTest,yTest=yTest)\n",
        "    signature=ModelSignature(\n",
        "        Schema([\n",
        "            ColSpec(\"integer\",\"Pregnancies\"),\n",
        "            ColSpec(\"integer\", \"PlasmaGlucose\"),\n",
        "            ColSpec(\"integer\", \"DiastolicBloodPressure\"),\n",
        "            ColSpec(\"integer\", \"TricepsThickness\"),\n",
        "            ColSpec(\"integer\", \"DiastolicBloodPressure\"),\n",
        "            ColSpec(\"integer\", \"SerumInsulin\"),\n",
        "            ColSpec(\"double\", \"BMI\"),\n",
        "            ColSpec(\"double\", \"DiabetesPedigree\"),\n",
        "            ColSpec(\"integer\", \"Age\"),\n",
        "        ]),\n",
        "        Schema([ColSpec(\"boolean\")])\n",
        "    )\n",
        "    mlflow.sklearn.log_model(sk_model=model,artifact_path=\"modelRitishLearnModel\",signature=signature)\n",
        "\n",
        "\n",
        "def getData(path):\n",
        "    print(\"Reading Data\")\n",
        "    df=pd.read_csv(filepath_or_buffer=path)\n",
        "    return df\n",
        "\n",
        "def splitData(df:pd.DataFrame):\n",
        "    print(\"Splitting Data\")\n",
        "    X=df[\n",
        "            [\n",
        "                'Pregnancies','PlasmaGlucose','DiastolicBloodPressure',\n",
        "                'TricepsThickness', 'SerumInsulin','BMI','DiabetesPedigree','Age'\n",
        "            ]\n",
        "        ].values\n",
        "    y=df['Diabetic'].values\n",
        "    XTrain, XTest, yTrain, yTest = train_test_split(X, y, test_size=0.30, random_state=0)\n",
        "    return XTrain, XTest, yTrain, yTest\n",
        "\n",
        "def trainModel(regRate,XTrain, XTest, yTrain, yTest):\n",
        "    print(\"Training Model\")\n",
        "    model=LogisticRegression(C=1/regRate,solver=\"liblinear\")\n",
        "    model.fit(X=XTrain,y=yTrain)\n",
        "    return model\n",
        "\n",
        "def evalModel(model,XTest,yTest):\n",
        "    yHat=model.predict(X=XTest)\n",
        "    acc=np.average(yHat==yTest)\n",
        "    print(f\"Accuracy:{acc}\")\n",
        "    return yHat\n",
        "\n",
        "def parseArgs():\n",
        "    parser=argparse.ArgumentParser()\n",
        "    parser.add_argument(\"--trainingData\",dest=\"trainingData\",type=str)\n",
        "    parser.add_argument(\"--regRate\",dest=\"regRate\",type=float,default=0.01)\n",
        "    \n",
        "    args=parser.parse_args()\n",
        "    return args\n",
        "\n",
        "\n",
        "if __name__==\"__main__\":\n",
        "    print(\"*\"*60)\n",
        "    args=parseArgs()\n",
        "    main(args=args)\n",
        "    print(\"*\"*60)"
      ]
    },
    {
      "cell_type": "code",
      "execution_count": 28,
      "metadata": {
        "gather": {
          "logged": 1724761039214
        },
        "jupyter": {
          "outputs_hidden": false,
          "source_hidden": false
        },
        "nteract": {
          "transient": {
            "deleting": false
          }
        }
      },
      "outputs": [
        {
          "name": "stderr",
          "output_type": "stream",
          "text": [
            "\r\u001b[32mUploading src (0.53 MBs):   0%|          | 0/530996 [00:00<?, ?it/s]\r\u001b[32mUploading src (0.53 MBs):  99%|█████████▉| 524693/530996 [00:00<00:00, 5178754.19it/s]\r\u001b[32mUploading src (0.53 MBs): 100%|██████████| 530996/530996 [00:00<00:00, 4166971.29it/s]\n",
            "\u001b[39m\n",
            "\n"
          ]
        },
        {
          "name": "stdout",
          "output_type": "stream",
          "text": [
            "https://ml.azure.com/runs/amusing_planet_cs33z0dcn6?wsid=/subscriptions/18a1f27f-edf5-495e-9acb-753c93335294/resourcegroups/rg-dp100-labs/workspaces/mlw-dp100-labs&tid=6a1d2f96-8cdf-4d1a-943d-7b73f4dfbb6d\n"
          ]
        }
      ],
      "source": [
        "job=command(\n",
        "    code=\"./src\",\n",
        "    command=\"python train-model-manualSignature.py --trainingData data/diabetes.csv\",\n",
        "    environment=\"AzureML-sklearn-0.24-ubuntu18.04-py37-cpu@latest\",\n",
        "    compute=\"aml-cluster\",\n",
        "    display_name=\"diabetes-train-ModelSignature\",\n",
        "    experiment_name=\"diabetes-training\"\n",
        ")\n",
        "\n",
        "returnedJobManual=mlClient.jobs.create_or_update(job=job)\n",
        "amlURLManual=returnedJobManual.studio_url\n",
        "print(amlURLManual)"
      ]
    },
    {
      "cell_type": "markdown",
      "metadata": {
        "nteract": {
          "transient": {
            "deleting": false
          }
        }
      },
      "source": [
        "<h3> Register the Model </h3>"
      ]
    },
    {
      "cell_type": "code",
      "execution_count": 41,
      "metadata": {
        "gather": {
          "logged": 1724762472026
        },
        "jupyter": {
          "outputs_hidden": false,
          "source_hidden": false
        },
        "nteract": {
          "transient": {
            "deleting": false
          }
        }
      },
      "outputs": [
        {
          "data": {
            "text/plain": [
              "'khaki_vase_brfgpzbh34'"
            ]
          },
          "execution_count": 41,
          "metadata": {},
          "output_type": "execute_result"
        }
      ],
      "source": [
        "jobName=returnedJobSklearn.name\n",
        "jobName"
      ]
    },
    {
      "cell_type": "code",
      "execution_count": 42,
      "metadata": {
        "gather": {
          "logged": 1724762478711
        },
        "jupyter": {
          "outputs_hidden": false,
          "source_hidden": false
        },
        "nteract": {
          "transient": {
            "deleting": false
          }
        }
      },
      "outputs": [
        {
          "data": {
            "text/plain": [
              "Model({'job_name': 'khaki_vase_brfgpzbh34', 'intellectual_property': None, 'is_anonymous': False, 'auto_increment_version': False, 'auto_delete_setting': None, 'name': 'mlflow-diabetes', 'description': 'Model created from run.', 'tags': {}, 'properties': {}, 'print_as_yaml': False, 'id': '/subscriptions/18a1f27f-edf5-495e-9acb-753c93335294/resourceGroups/rg-dp100-labs/providers/Microsoft.MachineLearningServices/workspaces/mlw-dp100-labs/models/mlflow-diabetes/versions/1', 'Resource__source_path': '', 'base_path': '/mnt/batch/tasks/shared/LS_root/mounts/clusters/ritishadhikaricompute/code/Users/ritishadhikari', 'creation_context': <azure.ai.ml.entities._system_data.SystemData object at 0x7fdbb98991e0>, 'serialize': <msrest.serialization.Serializer object at 0x7fdbb98996f0>, 'version': '1', 'latest_version': None, 'path': 'azureml://subscriptions/18a1f27f-edf5-495e-9acb-753c93335294/resourceGroups/rg-dp100-labs/workspaces/mlw-dp100-labs/datastores/workspaceartifactstore/paths/ExperimentRun/dcid.khaki_vase_brfgpzbh34/model', 'datastore': None, 'utc_time_created': None, 'flavors': {'python_function': {'env': 'conda.yaml', 'loader_module': 'mlflow.sklearn', 'model_path': 'model.pkl', 'predict_fn': 'predict', 'python_version': '3.7.16'}, 'sklearn': {'code': '', 'pickled_model': 'model.pkl', 'serialization_format': 'cloudpickle', 'sklearn_version': '0.24.1'}}, 'arm_type': 'model_version', 'type': 'mlflow_model', 'stage': 'Development'})"
            ]
          },
          "execution_count": 42,
          "metadata": {},
          "output_type": "execute_result"
        }
      ],
      "source": [
        "runModel = Model(\n",
        "    path=f\"azureml://jobs/{jobName}/outputs/artifacts/paths/model/\",\n",
        "    name=\"mlflow-diabetes\",\n",
        "    description=\"Model created from run.\",\n",
        "    type=AssetTypes.MLFLOW_MODEL,\n",
        ")\n",
        "mlClient.models.create_or_update(runModel)"
      ]
    },
    {
      "cell_type": "markdown",
      "metadata": {},
      "source": []
    }
  ],
  "metadata": {
    "kernel_info": {
      "name": "python310-sdkv2"
    },
    "kernelspec": {
      "display_name": "oaivenv",
      "language": "python",
      "name": "python3"
    },
    "language_info": {
      "codemirror_mode": {
        "name": "ipython",
        "version": 3
      },
      "file_extension": ".py",
      "mimetype": "text/x-python",
      "name": "python",
      "nbconvert_exporter": "python",
      "pygments_lexer": "ipython3",
      "version": "3.11.9"
    },
    "microsoft": {
      "host": {
        "AzureML": {
          "notebookHasBeenCompleted": true
        }
      },
      "ms_spell_check": {
        "ms_spell_check_language": "en"
      }
    },
    "nteract": {
      "version": "nteract-front-end@1.0.0"
    }
  },
  "nbformat": 4,
  "nbformat_minor": 2
}
