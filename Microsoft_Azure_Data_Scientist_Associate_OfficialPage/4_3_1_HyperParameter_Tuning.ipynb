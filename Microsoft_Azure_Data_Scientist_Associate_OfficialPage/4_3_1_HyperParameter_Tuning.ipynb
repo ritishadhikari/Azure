{
  "cells": [
    {
      "cell_type": "code",
      "source": [
        "pip show azure-ai-ml"
      ],
      "outputs": [
        {
          "output_type": "stream",
          "name": "stdout",
          "text": "Name: azure-ai-ml\r\nVersion: 1.8.0\r\nSummary: Microsoft Azure Machine Learning Client Library for Python\r\nHome-page: https://github.com/Azure/azure-sdk-for-python\r\nAuthor: Microsoft Corporation\r\nAuthor-email: azuresdkengsysadmins@microsoft.com\r\nLicense: MIT License\r\nLocation: /anaconda/envs/azureml_py310_sdkv2/lib/python3.10/site-packages\r\nRequires: azure-common, azure-core, azure-mgmt-core, azure-storage-blob, azure-storage-file-datalake, azure-storage-file-share, colorama, isodate, jsonschema, marshmallow, msrest, opencensus-ext-azure, pydash, pyjwt, pyyaml, strictyaml, tqdm, typing-extensions\r\nRequired-by: \r\nNote: you may need to restart the kernel to use updated packages.\n"
        }
      ],
      "execution_count": 1,
      "metadata": {
        "gather": {
          "logged": 1690618697427
        }
      }
    },
    {
      "cell_type": "code",
      "source": [
        "from azure.identity import DefaultAzureCredential, InteractiveBrowserCredential\r\n",
        "from azure.ai.ml import MLClient\r\n",
        "\r\n",
        "\r\n",
        "try:\r\n",
        "    credential=DefaultAzureCredential()\r\n",
        "    credential.get_token(\"https://management.azure.com/.default\")\r\n",
        "except Exception as Ex:\r\n",
        "    credential=InteractiveBrowserCredential()"
      ],
      "outputs": [],
      "execution_count": 3,
      "metadata": {
        "jupyter": {
          "source_hidden": false,
          "outputs_hidden": false
        },
        "nteract": {
          "transient": {
            "deleting": false
          }
        },
        "gather": {
          "logged": 1690618858326
        }
      }
    },
    {
      "cell_type": "code",
      "source": [
        "ml_client=MLClient.from_config(credential=credential)"
      ],
      "outputs": [
        {
          "output_type": "stream",
          "name": "stderr",
          "text": "Found the config file in: /config.json\n"
        }
      ],
      "execution_count": 4,
      "metadata": {
        "jupyter": {
          "source_hidden": false,
          "outputs_hidden": false
        },
        "nteract": {
          "transient": {
            "deleting": false
          }
        },
        "gather": {
          "logged": 1690618911478
        }
      }
    },
    {
      "cell_type": "code",
      "source": [
        "import os\r\n",
        "\r\n",
        "script_folder=\"src\"\r\n",
        "os.makedirs(name=script_folder,exist_ok=True)\r\n",
        "print(script_folder, 'folder created')"
      ],
      "outputs": [
        {
          "output_type": "stream",
          "name": "stdout",
          "text": "src folder created\n"
        }
      ],
      "execution_count": 6,
      "metadata": {
        "jupyter": {
          "source_hidden": false,
          "outputs_hidden": false
        },
        "nteract": {
          "transient": {
            "deleting": false
          }
        },
        "gather": {
          "logged": 1690619018685
        }
      }
    },
    {
      "cell_type": "code",
      "source": [
        "%%writefile $script_folder/train.py\r\n",
        "import mlflow\r\n",
        "import argparse\r\n",
        "import pandas as pd\r\n",
        "import numpy as np\r\n",
        "from sklearn.model_selection import train_test_split\r\n",
        "from sklearn.linear_model import LogisticRegression\r\n",
        "from sklearn.metrics import roc_auc_score\r\n",
        "from sklearn.metrics import roc_curve\r\n",
        "import matplotlib.pyplot as plt\r\n",
        "\r\n",
        "\r\n",
        "def main(args):\r\n",
        "    df=get_data(args.training_data)\r\n",
        "    X_train, X_test, y_train, y_test=split_data(df)\r\n",
        "    model=train_model(args.reg_rate,X_train,y_train)\r\n",
        "    evaluate_model(model,X_test,y_test)\r\n",
        "\r\n",
        "def parse_args():\r\n",
        "    parser=argparse.ArgumentParser()\r\n",
        "    parser.add_argument(\"--training_data\",dest=\"training_data\",type=str)\r\n",
        "    parser.add_argument(\"--reg_rate\",dest=\"reg_rate\",type=float, default=0.01)\r\n",
        "    args=parser.parse_args()\r\n",
        "    return args\r\n",
        "\r\n",
        "def get_data(path):\r\n",
        "    df=pd.read_csv(path)\r\n",
        "    return df\r\n",
        "\r\n",
        "def split_data(df):\r\n",
        "    X= df[['Pregnancies','PlasmaGlucose','DiastolicBloodPressure','TricepsThickness',\r\n",
        "    'SerumInsulin','BMI','DiabetesPedigree','Age']].values \r\n",
        "    y=df['Diabetic'].values\r\n",
        "    X_train, X_test, y_train, y_test=train_test_split(X,y,test_size=0.30, random_state=0)\r\n",
        "    return X_train, X_test, y_train, y_test\r\n",
        "\r\n",
        "def train_model(reg_rate,X_train,y_train):\r\n",
        "    mlflow.log_param(key=\"Regularization Rate\", value=reg_rate)\r\n",
        "    model=LogisticRegression(C=1/reg_rate,solver=\"liblinear\")\r\n",
        "    model.fit(X_train,y_train)\r\n",
        "    return model\r\n",
        "\r\n",
        "def evaluate_model(model,X_test,y_test):\r\n",
        "    y_hat=model.predict(X_test)\r\n",
        "    acc=np.average(y_test==y_hat)\r\n",
        "    print(f\"Accuracy:{acc}\")\r\n",
        "    mlflow.log_metric(key=\"Accuracy\", value=acc)\r\n",
        "\r\n",
        "    y_scores=model.predict_proba(X_test)\r\n",
        "    auc=roc_auc_score(y_test, y_scores[:,1])\r\n",
        "    print(f\"AUC:{auc}\")\r\n",
        "    mlflow.log_metric(key=\"AUC\", value=auc)\r\n",
        "\r\n",
        "    fpr, tpr, thresholds=roc_curve(y_test,y_scores[:,1])\r\n",
        "    fig=plt.figure(figsize=(6,4))\r\n",
        "    plt.plot([0,1],[1,0],\"k--\")\r\n",
        "    plt.plot(fpr, tpr)\r\n",
        "    plt.xlabel(\"False Positive Rate\")\r\n",
        "    plt.ylabel(\"True Positive Rate\")\r\n",
        "    plt.title('ROC Curve')\r\n",
        "    plt.savefig(\"ROC-Curve.jpeg\")\r\n",
        "    mlflow.log_artifact(\"ROC-Curve.jpeg\")\r\n",
        "\r\n",
        "if __name__==\"__main__\":\r\n",
        "    args=parse_args()\r\n",
        "    main(args)\r\n",
        "    print(\"*\" * 60)\r\n",
        "    print(\"\\n\\n\")"
      ],
      "outputs": [
        {
          "output_type": "stream",
          "name": "stdout",
          "text": "Writing src/train.py\n"
        }
      ],
      "execution_count": 7,
      "metadata": {
        "jupyter": {
          "source_hidden": false,
          "outputs_hidden": false
        },
        "nteract": {
          "transient": {
            "deleting": false
          }
        }
      }
    },
    {
      "cell_type": "code",
      "source": [
        "from azure.ai.ml import command, Input\r\n",
        "from azure.ai.ml.constants import AssetTypes\r\n",
        "\r\n",
        "job=command(\r\n",
        "    code=\"./src\",\r\n",
        "    inputs={\r\n",
        "        \"diabetes_data\":Input(type=AssetTypes.URI_FILE,\r\n",
        "                            path=\"azureml:diabetes-data:1\"),\r\n",
        "        \"reg_rate\":0.01\r\n",
        "    },\r\n",
        "    command=\"python train.py --training_data=${{inputs.diabetes_data}} --reg_rate=${{inputs.reg_rate}}\",\r\n",
        "    environment=\"AzureML-sklearn-0.24-ubuntu18.04-py37-cpu@latest\",\r\n",
        "    compute=\"aml-cluster\",\r\n",
        "    display_name=\"diabetes-train-mlflow\",\r\n",
        "    experiment_name=\"diabetes-training\",\r\n",
        "    tags={\"model_type\":\"LogosticRegression\"}\r\n",
        "\r\n",
        ")\r\n",
        "\r\n",
        "returned_job=ml_client.create_or_update(entity=job)\r\n",
        "aml_url=returned_job.studio_url\r\n",
        "print(f\"Monitor Your Job at: {aml_url}\")"
      ],
      "outputs": [
        {
          "output_type": "stream",
          "name": "stderr",
          "text": "Class AutoDeleteSettingSchema: This is an experimental class, and may change at any time. Please see https://aka.ms/azuremlexperimental for more information.\nClass AutoDeleteConditionSchema: This is an experimental class, and may change at any time. Please see https://aka.ms/azuremlexperimental for more information.\nClass BaseAutoDeleteSettingSchema: This is an experimental class, and may change at any time. Please see https://aka.ms/azuremlexperimental for more information.\nClass IntellectualPropertySchema: This is an experimental class, and may change at any time. Please see https://aka.ms/azuremlexperimental for more information.\nClass ProtectionLevelSchema: This is an experimental class, and may change at any time. Please see https://aka.ms/azuremlexperimental for more information.\nClass BaseIntellectualPropertySchema: This is an experimental class, and may change at any time. Please see https://aka.ms/azuremlexperimental for more information.\n\u001b[32mUploading src (0.0 MBs): 100%|██████████| 2427/2427 [00:00<00:00, 24789.24it/s]\n\u001b[39m\n\n"
        },
        {
          "output_type": "stream",
          "name": "stdout",
          "text": "Monitor Your Job at: {aml_url}\n"
        }
      ],
      "execution_count": 11,
      "metadata": {
        "jupyter": {
          "source_hidden": false,
          "outputs_hidden": false
        },
        "nteract": {
          "transient": {
            "deleting": false
          }
        },
        "gather": {
          "logged": 1690620013022
        }
      }
    },
    {
      "cell_type": "markdown",
      "source": [
        "<h2> Define the Search Space </h2>"
      ],
      "metadata": {
        "nteract": {
          "transient": {
            "deleting": false
          }
        }
      }
    },
    {
      "cell_type": "code",
      "source": [
        "from azure.ai.ml.sweep import Choice\r\n",
        "\r\n",
        "command_job_for_sweep=job(reg_rate=Choice(values=[0.01,0.1,1]))"
      ],
      "outputs": [],
      "execution_count": 13,
      "metadata": {
        "jupyter": {
          "source_hidden": false,
          "outputs_hidden": false
        },
        "nteract": {
          "transient": {
            "deleting": false
          }
        },
        "gather": {
          "logged": 1690620230745
        }
      }
    },
    {
      "cell_type": "code",
      "source": [
        "sweep_job=command_job_for_sweep.sweep(\r\n",
        "    primary_metric=\"Accuracy\",\r\n",
        "    compute=\"aml-cluster\",\r\n",
        "    sampling_algorithm=\"grid\",\r\n",
        "    goal=\"Maximize\"\r\n",
        "    )\r\n",
        "\r\n",
        "sweep_job.experiment_name=\"Sweep-Diabetes\"\r\n",
        "\r\n",
        "sweep_job.set_limits(\r\n",
        "                    max_total_trials=6, \r\n",
        "                    max_concurrent_trials=2, \r\n",
        "                    timeout=7200\r\n",
        "                    )"
      ],
      "outputs": [],
      "execution_count": 14,
      "metadata": {
        "jupyter": {
          "source_hidden": false,
          "outputs_hidden": false
        },
        "nteract": {
          "transient": {
            "deleting": false
          }
        },
        "gather": {
          "logged": 1690620517580
        }
      }
    },
    {
      "cell_type": "markdown",
      "source": [
        "# Submit the Sweep Job"
      ],
      "metadata": {
        "nteract": {
          "transient": {
            "deleting": false
          }
        }
      }
    },
    {
      "cell_type": "code",
      "source": [
        "returned_sweep_job=ml_client.create_or_update(entity=sweep_job)\r\n",
        "aml_url=returned_sweep_job.studio_url\r\n",
        "print(f\"Monitor URL {aml_url}\")"
      ],
      "outputs": [
        {
          "output_type": "stream",
          "name": "stdout",
          "text": "Monitor URL https://ml.azure.com/runs/honest_box_lgpn76wrcs?wsid=/subscriptions/18a1f27f-edf5-495e-9acb-753c93335294/resourcegroups/rg-dp100-l6898101080734451a3/workspaces/mlw-dp100-l6898101080734451a3&tid=6a1d2f96-8cdf-4d1a-943d-7b73f4dfbb6d\n"
        }
      ],
      "execution_count": 15,
      "metadata": {
        "jupyter": {
          "source_hidden": false,
          "outputs_hidden": false
        },
        "nteract": {
          "transient": {
            "deleting": false
          }
        },
        "gather": {
          "logged": 1690620784936
        }
      }
    },
    {
      "cell_type": "code",
      "source": [],
      "outputs": [],
      "execution_count": null,
      "metadata": {
        "jupyter": {
          "source_hidden": false,
          "outputs_hidden": false
        },
        "nteract": {
          "transient": {
            "deleting": false
          }
        }
      }
    }
  ],
  "metadata": {
    "kernelspec": {
      "name": "python310-sdkv2",
      "language": "python",
      "display_name": "Python 3.10 - SDK v2"
    },
    "language_info": {
      "name": "python",
      "version": "3.10.11",
      "mimetype": "text/x-python",
      "codemirror_mode": {
        "name": "ipython",
        "version": 3
      },
      "pygments_lexer": "ipython3",
      "nbconvert_exporter": "python",
      "file_extension": ".py"
    },
    "microsoft": {
      "ms_spell_check": {
        "ms_spell_check_language": "en"
      }
    },
    "kernel_info": {
      "name": "python310-sdkv2"
    },
    "nteract": {
      "version": "nteract-front-end@1.0.0"
    }
  },
  "nbformat": 4,
  "nbformat_minor": 2
}