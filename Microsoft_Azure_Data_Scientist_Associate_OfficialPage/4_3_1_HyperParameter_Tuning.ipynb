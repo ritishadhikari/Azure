{
  "cells": [
    {
      "cell_type": "code",
      "execution_count": 1,
      "metadata": {
        "gather": {
          "logged": 1690618697427
        }
      },
      "outputs": [
        {
          "name": "stdout",
          "output_type": "stream",
          "text": [
            "Name: azure-ai-ml\r\n",
            "Version: 1.8.0\r\n",
            "Summary: Microsoft Azure Machine Learning Client Library for Python\r\n",
            "Home-page: https://github.com/Azure/azure-sdk-for-python\r\n",
            "Author: Microsoft Corporation\r\n",
            "Author-email: azuresdkengsysadmins@microsoft.com\r\n",
            "License: MIT License\r\n",
            "Location: /anaconda/envs/azureml_py310_sdkv2/lib/python3.10/site-packages\r\n",
            "Requires: azure-common, azure-core, azure-mgmt-core, azure-storage-blob, azure-storage-file-datalake, azure-storage-file-share, colorama, isodate, jsonschema, marshmallow, msrest, opencensus-ext-azure, pydash, pyjwt, pyyaml, strictyaml, tqdm, typing-extensions\r\n",
            "Required-by: \r\n",
            "Note: you may need to restart the kernel to use updated packages.\n"
          ]
        }
      ],
      "source": [
        "pip show azure-ai-ml"
      ]
    },
    {
      "cell_type": "code",
      "execution_count": 3,
      "metadata": {
        "gather": {
          "logged": 1690618858326
        },
        "jupyter": {
          "outputs_hidden": false,
          "source_hidden": false
        },
        "nteract": {
          "transient": {
            "deleting": false
          }
        }
      },
      "outputs": [],
      "source": [
        "from azure.identity import DefaultAzureCredential, InteractiveBrowserCredential\n",
        "from azure.ai.ml import MLClient\n",
        "\n",
        "\n",
        "try:\n",
        "    credential=DefaultAzureCredential()\n",
        "    credential.get_token(\"https://management.azure.com/.default\")\n",
        "except Exception as Ex:\n",
        "    credential=InteractiveBrowserCredential()"
      ]
    },
    {
      "cell_type": "code",
      "execution_count": 4,
      "metadata": {
        "gather": {
          "logged": 1690618911478
        },
        "jupyter": {
          "outputs_hidden": false,
          "source_hidden": false
        },
        "nteract": {
          "transient": {
            "deleting": false
          }
        }
      },
      "outputs": [
        {
          "name": "stderr",
          "output_type": "stream",
          "text": [
            "Found the config file in: /config.json\n"
          ]
        }
      ],
      "source": [
        "ml_client=MLClient.from_config(credential=credential)"
      ]
    },
    {
      "cell_type": "code",
      "execution_count": 6,
      "metadata": {
        "gather": {
          "logged": 1690619018685
        },
        "jupyter": {
          "outputs_hidden": false,
          "source_hidden": false
        },
        "nteract": {
          "transient": {
            "deleting": false
          }
        }
      },
      "outputs": [
        {
          "name": "stdout",
          "output_type": "stream",
          "text": [
            "src folder created\n"
          ]
        }
      ],
      "source": [
        "import os\n",
        "\n",
        "script_folder=\"src\"\n",
        "os.makedirs(name=script_folder,exist_ok=True)\n",
        "print(script_folder, 'folder created')"
      ]
    },
    {
      "cell_type": "code",
      "execution_count": 7,
      "metadata": {
        "jupyter": {
          "outputs_hidden": false,
          "source_hidden": false
        },
        "nteract": {
          "transient": {
            "deleting": false
          }
        }
      },
      "outputs": [
        {
          "name": "stdout",
          "output_type": "stream",
          "text": [
            "Writing src/train.py\n"
          ]
        }
      ],
      "source": [
        "%%writefile $script_folder/train.py\n",
        "import mlflow\n",
        "import argparse\n",
        "import pandas as pd\n",
        "import numpy as np\n",
        "from sklearn.model_selection import train_test_split\n",
        "from sklearn.linear_model import LogisticRegression\n",
        "from sklearn.metrics import roc_auc_score\n",
        "from sklearn.metrics import roc_curve\n",
        "import matplotlib.pyplot as plt\n",
        "\n",
        "\n",
        "def main(args):\n",
        "    df=get_data(args.training_data)\n",
        "    X_train, X_test, y_train, y_test=split_data(df)\n",
        "    model=train_model(args.reg_rate,X_train,y_train)\n",
        "    evaluate_model(model,X_test,y_test)\n",
        "\n",
        "def parse_args():\n",
        "    parser=argparse.ArgumentParser()\n",
        "    parser.add_argument(\"--training_data\",dest=\"training_data\",type=str)\n",
        "    parser.add_argument(\"--reg_rate\",dest=\"reg_rate\",type=float, default=0.01)\n",
        "    args=parser.parse_args()\n",
        "    return args\n",
        "\n",
        "def get_data(path):\n",
        "    df=pd.read_csv(path)\n",
        "    return df\n",
        "\n",
        "def split_data(df):\n",
        "    X= df[['Pregnancies','PlasmaGlucose','DiastolicBloodPressure','TricepsThickness',\n",
        "    'SerumInsulin','BMI','DiabetesPedigree','Age']].values \n",
        "    y=df['Diabetic'].values\n",
        "    X_train, X_test, y_train, y_test=train_test_split(X,y,test_size=0.30, random_state=0)\n",
        "    return X_train, X_test, y_train, y_test\n",
        "\n",
        "def train_model(reg_rate,X_train,y_train):\n",
        "    mlflow.log_param(key=\"Regularization Rate\", value=reg_rate)\n",
        "    model=LogisticRegression(C=1/reg_rate,solver=\"liblinear\")\n",
        "    model.fit(X_train,y_train)\n",
        "    return model\n",
        "\n",
        "def evaluate_model(model,X_test,y_test):\n",
        "    y_hat=model.predict(X_test)\n",
        "    acc=np.average(y_test==y_hat)\n",
        "    print(f\"Accuracy:{acc}\")\n",
        "    mlflow.log_metric(key=\"Accuracy\", value=acc)\n",
        "\n",
        "    y_scores=model.predict_proba(X_test)\n",
        "    auc=roc_auc_score(y_test, y_scores[:,1])\n",
        "    print(f\"AUC:{auc}\")\n",
        "    mlflow.log_metric(key=\"AUC\", value=auc)\n",
        "\n",
        "    fpr, tpr, thresholds=roc_curve(y_test,y_scores[:,1])\n",
        "    fig=plt.figure(figsize=(6,4))\n",
        "    plt.plot([0,1],[1,0],\"k--\")\n",
        "    plt.plot(fpr, tpr)\n",
        "    plt.xlabel(\"False Positive Rate\")\n",
        "    plt.ylabel(\"True Positive Rate\")\n",
        "    plt.title('ROC Curve')\n",
        "    plt.savefig(\"ROC-Curve.jpeg\")\n",
        "    mlflow.log_artifact(\"ROC-Curve.jpeg\")\n",
        "\n",
        "if __name__==\"__main__\":\n",
        "    args=parse_args()\n",
        "    main(args)\n",
        "    print(\"*\" * 60)\n",
        "    print(\"\\n\\n\")"
      ]
    },
    {
      "cell_type": "code",
      "execution_count": 11,
      "metadata": {
        "gather": {
          "logged": 1690620013022
        },
        "jupyter": {
          "outputs_hidden": false,
          "source_hidden": false
        },
        "nteract": {
          "transient": {
            "deleting": false
          }
        }
      },
      "outputs": [
        {
          "name": "stderr",
          "output_type": "stream",
          "text": [
            "Class AutoDeleteSettingSchema: This is an experimental class, and may change at any time. Please see https://aka.ms/azuremlexperimental for more information.\n",
            "Class AutoDeleteConditionSchema: This is an experimental class, and may change at any time. Please see https://aka.ms/azuremlexperimental for more information.\n",
            "Class BaseAutoDeleteSettingSchema: This is an experimental class, and may change at any time. Please see https://aka.ms/azuremlexperimental for more information.\n",
            "Class IntellectualPropertySchema: This is an experimental class, and may change at any time. Please see https://aka.ms/azuremlexperimental for more information.\n",
            "Class ProtectionLevelSchema: This is an experimental class, and may change at any time. Please see https://aka.ms/azuremlexperimental for more information.\n",
            "Class BaseIntellectualPropertySchema: This is an experimental class, and may change at any time. Please see https://aka.ms/azuremlexperimental for more information.\n",
            "\u001b[32mUploading src (0.0 MBs): 100%|██████████| 2427/2427 [00:00<00:00, 24789.24it/s]\n",
            "\u001b[39m\n",
            "\n"
          ]
        },
        {
          "name": "stdout",
          "output_type": "stream",
          "text": [
            "Monitor Your Job at: {aml_url}\n"
          ]
        }
      ],
      "source": [
        "from azure.ai.ml import command, Input\n",
        "from azure.ai.ml.constants import AssetTypes\n",
        "\n",
        "job=command(\n",
        "    code=\"./src\",\n",
        "    inputs={\n",
        "        \"diabetes_data\":Input(type=AssetTypes.URI_FILE,\n",
        "                            path=\"azureml:diabetes-data:1\"),\n",
        "        \"reg_rate\":0.01\n",
        "    },\n",
        "    command=\"python train.py --training_data=${{inputs.diabetes_data}} --reg_rate=${{inputs.reg_rate}}\",\n",
        "    environment=\"AzureML-sklearn-0.24-ubuntu18.04-py37-cpu@latest\",\n",
        "    compute=\"aml-cluster\",\n",
        "    display_name=\"diabetes-train-mlflow\",\n",
        "    experiment_name=\"diabetes-training\",\n",
        "    tags={\"model_type\":\"LogosticRegression\"}\n",
        "\n",
        ")\n",
        "\n",
        "returned_job=ml_client.create_or_update(entity=job)\n",
        "aml_url=returned_job.studio_url\n",
        "print(f\"Monitor Your Job at: {aml_url}\")"
      ]
    },
    {
      "cell_type": "markdown",
      "metadata": {
        "nteract": {
          "transient": {
            "deleting": false
          }
        }
      },
      "source": [
        "<h2> Define the Search Space </h2>"
      ]
    },
    {
      "cell_type": "code",
      "execution_count": 13,
      "metadata": {
        "gather": {
          "logged": 1690620230745
        },
        "jupyter": {
          "outputs_hidden": false,
          "source_hidden": false
        },
        "nteract": {
          "transient": {
            "deleting": false
          }
        }
      },
      "outputs": [],
      "source": [
        "from azure.ai.ml.sweep import Choice\n",
        "\n",
        "command_job_for_sweep=job(reg_rate=Choice(values=[0.01,0.1,1]))"
      ]
    },
    {
      "cell_type": "code",
      "execution_count": 14,
      "metadata": {
        "gather": {
          "logged": 1690620517580
        },
        "jupyter": {
          "outputs_hidden": false,
          "source_hidden": false
        },
        "nteract": {
          "transient": {
            "deleting": false
          }
        }
      },
      "outputs": [],
      "source": [
        "sweep_job=command_job_for_sweep.sweep(\n",
        "    primary_metric=\"Accuracy\",\n",
        "    compute=\"aml-cluster\",\n",
        "    sampling_algorithm=\"grid\",\n",
        "    goal=\"Maximize\"\n",
        "    )\n",
        "\n",
        "sweep_job.experiment_name=\"Sweep-Diabetes\"\n",
        "\n",
        "sweep_job.set_limits(\n",
        "                    max_total_trials=6, \n",
        "                    max_concurrent_trials=2, \n",
        "                    timeout=7200\n",
        "                    )"
      ]
    },
    {
      "cell_type": "markdown",
      "metadata": {
        "nteract": {
          "transient": {
            "deleting": false
          }
        }
      },
      "source": [
        "# Submit the Sweep Job"
      ]
    },
    {
      "cell_type": "code",
      "execution_count": 15,
      "metadata": {
        "gather": {
          "logged": 1690620784936
        },
        "jupyter": {
          "outputs_hidden": false,
          "source_hidden": false
        },
        "nteract": {
          "transient": {
            "deleting": false
          }
        }
      },
      "outputs": [
        {
          "name": "stdout",
          "output_type": "stream",
          "text": [
            "Monitor URL https://ml.azure.com/runs/honest_box_lgpn76wrcs?wsid=/subscriptions/18a1f27f-edf5-495e-9acb-753c93335294/resourcegroups/rg-dp100-l6898101080734451a3/workspaces/mlw-dp100-l6898101080734451a3&tid=6a1d2f96-8cdf-4d1a-943d-7b73f4dfbb6d\n"
          ]
        }
      ],
      "source": [
        "returned_sweep_job=ml_client.create_or_update(entity=sweep_job)\n",
        "aml_url=returned_sweep_job.studio_url\n",
        "print(f\"Monitor URL {aml_url}\")"
      ]
    },
    {
      "cell_type": "code",
      "execution_count": null,
      "metadata": {
        "jupyter": {
          "outputs_hidden": false,
          "source_hidden": false
        },
        "nteract": {
          "transient": {
            "deleting": false
          }
        }
      },
      "outputs": [],
      "source": []
    }
  ],
  "metadata": {
    "kernel_info": {
      "name": "python310-sdkv2"
    },
    "kernelspec": {
      "display_name": "Python 3.10 - SDK v2",
      "language": "python",
      "name": "python310-sdkv2"
    },
    "language_info": {
      "codemirror_mode": {
        "name": "ipython",
        "version": 3
      },
      "file_extension": ".py",
      "mimetype": "text/x-python",
      "name": "python",
      "nbconvert_exporter": "python",
      "pygments_lexer": "ipython3",
      "version": "3.10.11"
    },
    "microsoft": {
      "ms_spell_check": {
        "ms_spell_check_language": "en"
      }
    },
    "nteract": {
      "version": "nteract-front-end@1.0.0"
    }
  },
  "nbformat": 4,
  "nbformat_minor": 2
}
