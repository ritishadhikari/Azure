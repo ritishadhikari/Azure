{
  "cells": [
    {
      "cell_type": "code",
      "source": [
        "pip show azure-ai-ml"
      ],
      "outputs": [
        {
          "output_type": "stream",
          "name": "stdout",
          "text": "Name: azure-ai-ml\r\nVersion: 1.8.0\r\nSummary: Microsoft Azure Machine Learning Client Library for Python\r\nHome-page: https://github.com/Azure/azure-sdk-for-python\r\nAuthor: Microsoft Corporation\r\nAuthor-email: azuresdkengsysadmins@microsoft.com\r\nLicense: MIT License\r\nLocation: /anaconda/envs/azureml_py310_sdkv2/lib/python3.10/site-packages\r\nRequires: azure-common, azure-core, azure-mgmt-core, azure-storage-blob, azure-storage-file-datalake, azure-storage-file-share, colorama, isodate, jsonschema, marshmallow, msrest, opencensus-ext-azure, pydash, pyjwt, pyyaml, strictyaml, tqdm, typing-extensions\r\nRequired-by: \r\nNote: you may need to restart the kernel to use updated packages.\n"
        }
      ],
      "execution_count": 1,
      "metadata": {
        "gather": {
          "logged": 1690532955418
        }
      }
    },
    {
      "cell_type": "code",
      "source": [
        "from azure.identity import DefaultAzureCredential, InteractiveBrowserCredential\r\n",
        "from azure.ai.ml import MLClient\r\n",
        "\r\n",
        "try:\r\n",
        "    credential = DefaultAzureCredential()\r\n",
        "    # Check if given credential can get token successfully.\r\n",
        "    credential.get_token(\"https://management.azure.com/.default\")\r\n",
        "except Exception as ex:\r\n",
        "    # Fall back to InteractiveBrowserCredential in case DefaultAzureCredential not work\r\n",
        "    credential = InteractiveBrowserCredential()"
      ],
      "outputs": [],
      "execution_count": 2,
      "metadata": {
        "jupyter": {
          "source_hidden": false,
          "outputs_hidden": false
        },
        "nteract": {
          "transient": {
            "deleting": false
          }
        },
        "gather": {
          "logged": 1690532957557
        }
      }
    },
    {
      "cell_type": "code",
      "source": [
        "ml_client=MLClient.from_config(credential=credential)"
      ],
      "outputs": [
        {
          "output_type": "stream",
          "name": "stderr",
          "text": "Found the config file in: /config.json\n"
        }
      ],
      "execution_count": 3,
      "metadata": {
        "jupyter": {
          "source_hidden": false,
          "outputs_hidden": false
        },
        "nteract": {
          "transient": {
            "deleting": false
          }
        },
        "gather": {
          "logged": 1690532957923
        }
      }
    },
    {
      "cell_type": "code",
      "source": [
        "import os\r\n",
        "\r\n",
        "script_folder=\"src\"\r\n",
        "os.makedirs(name=script_folder,exist_ok=True)\r\n",
        "print(f\"{script_folder} folder created\")"
      ],
      "outputs": [
        {
          "output_type": "stream",
          "name": "stdout",
          "text": "src folder created\n"
        }
      ],
      "execution_count": 7,
      "metadata": {
        "jupyter": {
          "source_hidden": false,
          "outputs_hidden": false
        },
        "nteract": {
          "transient": {
            "deleting": false
          }
        },
        "gather": {
          "logged": 1690533306454
        }
      }
    },
    {
      "cell_type": "code",
      "source": [
        "%%writefile $script_folder/train-model-mlflow.py\r\n",
        "import mlflow\r\n",
        "import argparse\r\n",
        "import pandas as pd\r\n",
        "import numpy as np\r\n",
        "from sklearn.model_selection import train_test_split\r\n",
        "from sklearn.linear_model import LogisticRegression\r\n",
        "from sklearn.metrics import roc_auc_score\r\n",
        "from sklearn.metrics import roc_curve\r\n",
        "import matplotlib.pyplot as plt\r\n",
        "\r\n",
        "\r\n",
        "def main(args):\r\n",
        "    df=get_data(args.training_data)\r\n",
        "    X_train, X_test, y_train, y_test=split_data(df)\r\n",
        "    model=train_model(args.reg_rate,X_train,y_train)\r\n",
        "    evaluate_model(model,X_test,y_test)\r\n",
        "\r\n",
        "def parse_args():\r\n",
        "    parser=argparse.ArgumentParser()\r\n",
        "    parser.add_argument(\"--training_data\",dest=\"training_data\",type=str)\r\n",
        "    parser.add_argument(\"--reg_rate\",dest=\"reg_rate\",type=float, default=0.01)\r\n",
        "    args=parser.parse_args()\r\n",
        "    return args\r\n",
        "\r\n",
        "def get_data(path):\r\n",
        "    df=pd.read_csv(path)\r\n",
        "    return df\r\n",
        "\r\n",
        "def split_data(df):\r\n",
        "    X= df[['Pregnancies','PlasmaGlucose','DiastolicBloodPressure','TricepsThickness',\r\n",
        "    'SerumInsulin','BMI','DiabetesPedigree','Age']].values \r\n",
        "    y=df['Diabetic'].values\r\n",
        "    X_train, X_test, y_train, y_test=train_test_split(X,y,test_size=0.30, random_state=0)\r\n",
        "    return X_train, X_test, y_train, y_test\r\n",
        "\r\n",
        "def train_model(reg_rate,X_train,y_train):\r\n",
        "    mlflow.log_param(key=\"Regularization Rate\", value=reg_rate)\r\n",
        "    model=LogisticRegression(C=1/reg_rate,solver=\"liblinear\")\r\n",
        "    model.fit(X_train,y_train)\r\n",
        "    return model\r\n",
        "\r\n",
        "def evaluate_model(model,X_test,y_test):\r\n",
        "    y_hat=model.predict(X_test)\r\n",
        "    acc=np.average(y_test==y_hat)\r\n",
        "    print(f\"Accuracy:{acc}\")\r\n",
        "    mlflow.log_metric(key=\"Accuracy\", value=acc)\r\n",
        "\r\n",
        "    y_scores=model.predict_proba(X_test)\r\n",
        "    auc=roc_auc_score(y_test, y_scores[:,1])\r\n",
        "    print(f\"AUC:{auc}\")\r\n",
        "    mlflow.log_metric(key=\"AUC\", value=auc)\r\n",
        "\r\n",
        "    fpr, tpr, thresholds=roc_curve(y_test,y_scores[:,1])\r\n",
        "    fig=plt.figure(figsize=(6,4))\r\n",
        "    plt.plot([0,1],[1,0],\"k--\")\r\n",
        "    plt.plot(fpr, tpr)\r\n",
        "    plt.xlabel(\"False Positive Rate\")\r\n",
        "    plt.ylabel(\"True Positive Rate\")\r\n",
        "    plt.title('ROC Curve')\r\n",
        "    plt.savefig(\"ROC-Curve.png\")\r\n",
        "    mlflow.log_artifact(local_path=\"ROC-Curve.png\")\r\n",
        "\r\n",
        "if __name__==\"__main__\":\r\n",
        "    args=parse_args()\r\n",
        "    main(args)\r\n",
        "    print(\"*\" * 60)\r\n",
        "    print(\"\\n\\n\")"
      ],
      "outputs": [
        {
          "output_type": "stream",
          "name": "stdout",
          "text": "Overwriting src/train-model-mlflow.py\n"
        }
      ],
      "execution_count": 13,
      "metadata": {
        "jupyter": {
          "source_hidden": false,
          "outputs_hidden": false
        },
        "nteract": {
          "transient": {
            "deleting": false
          }
        }
      }
    },
    {
      "cell_type": "code",
      "source": [
        "from azure.ai.ml import command\r\n",
        "\r\n",
        "\r\n",
        "job=command(\r\n",
        "    code=\"./src\",\r\n",
        "    command=\"python train-model-mlflow.py --training_data diabetes.csv\",\r\n",
        "    environment=\"AzureML-sklearn-0.24-ubuntu18.04-py37-cpu@latest\",\r\n",
        "    compute=\"aml-cluster\",\r\n",
        "    display_name=\"diabetes-train-mlflow\",\r\n",
        "    experiment_name=\"diabetes_training\",\r\n",
        "    tags={\"model_type\":\"LogisticRegression\"}\r\n",
        "    )\r\n",
        "\r\n",
        "returned_job=ml_client.create_or_update(entity=job)\r\n",
        "\r\n",
        "aml_url=returned_job.studio_url\r\n",
        "\r\n",
        "print(f\"Monitor your Job at: {aml_url}\")"
      ],
      "outputs": [
        {
          "output_type": "stream",
          "name": "stderr",
          "text": "\r\u001b[32mUploading src (0.53 MBs):   0%|          | 0/529814 [00:00<?, ?it/s]\r\u001b[32mUploading src (0.53 MBs):   2%|▏         | 10098/529814 [00:00<00:07, 74119.07it/s]\r\u001b[32mUploading src (0.53 MBs): 100%|██████████| 529814/529814 [00:00<00:00, 3831599.00it/s]\n\u001b[39m\n\n"
        },
        {
          "output_type": "stream",
          "name": "stdout",
          "text": "Monitor your Job at: https://ml.azure.com/runs/magenta_basket_56g5msb8md?wsid=/subscriptions/18a1f27f-edf5-495e-9acb-753c93335294/resourcegroups/rg-dp100-lc88cedc90b76441796/workspaces/mlw-dp100-lc88cedc90b76441796&tid=6a1d2f96-8cdf-4d1a-943d-7b73f4dfbb6d\n"
        }
      ],
      "execution_count": 14,
      "metadata": {
        "jupyter": {
          "source_hidden": false,
          "outputs_hidden": false
        },
        "nteract": {
          "transient": {
            "deleting": false
          }
        },
        "gather": {
          "logged": 1690534246723
        }
      }
    },
    {
      "cell_type": "code",
      "source": [
        "%%writefile $script_folder/train-model-autolog.py\r\n",
        "import mlflow\r\n",
        "import argparse\r\n",
        "import pandas as pd\r\n",
        "import numpy as np\r\n",
        "from sklearn.model_selection import train_test_split\r\n",
        "from sklearn.linear_model import LogisticRegression\r\n",
        "from sklearn.metrics import roc_auc_score\r\n",
        "from sklearn.metrics import roc_curve\r\n",
        "import matplotlib.pyplot as plt\r\n",
        "\r\n",
        "\r\n",
        "def main(args):\r\n",
        "    mlflow.autolog()\r\n",
        "    df=get_data(args.training_data)\r\n",
        "    X_train, X_test, y_train, y_test=split_data(df)\r\n",
        "    model=train_model(args.reg_rate,X_train,y_train)\r\n",
        "    evaluate_model(model,X_test,y_test)\r\n",
        "\r\n",
        "def parse_args():\r\n",
        "    parser=argparse.ArgumentParser()\r\n",
        "    parser.add_argument(\"--training_data\",dest=\"training_data\",type=str)\r\n",
        "    parser.add_argument(\"--reg_rate\",dest=\"reg_rate\",type=float, default=0.01)\r\n",
        "    args=parser.parse_args()\r\n",
        "    return args\r\n",
        "\r\n",
        "def get_data(path):\r\n",
        "    df=pd.read_csv(path)\r\n",
        "    return df\r\n",
        "\r\n",
        "def split_data(df):\r\n",
        "    X= df[['Pregnancies','PlasmaGlucose','DiastolicBloodPressure','TricepsThickness',\r\n",
        "    'SerumInsulin','BMI','DiabetesPedigree','Age']].values \r\n",
        "    y=df['Diabetic'].values\r\n",
        "    X_train, X_test, y_train, y_test=train_test_split(X,y,test_size=0.30, random_state=0)\r\n",
        "    return X_train, X_test, y_train, y_test\r\n",
        "\r\n",
        "def train_model(reg_rate,X_train,y_train):\r\n",
        "    mlflow.log_param(key=\"Regularization Rate\", value=reg_rate)\r\n",
        "    model=LogisticRegression(C=1/reg_rate,solver=\"liblinear\")\r\n",
        "    model.fit(X_train,y_train)\r\n",
        "    return model\r\n",
        "\r\n",
        "def evaluate_model(model,X_test,y_test):\r\n",
        "    y_hat=model.predict(X_test)\r\n",
        "    acc=np.average(y_test==y_hat)\r\n",
        "    print(f\"Accuracy:{acc}\")\r\n",
        "\r\n",
        "    y_scores=model.predict_proba(X_test)\r\n",
        "    auc=roc_auc_score(y_test, y_scores[:,1])\r\n",
        "    print(f\"AUC:{auc}\")\r\n",
        "\r\n",
        "    fpr, tpr, thresholds=roc_curve(y_test,y_scores[:,1])\r\n",
        "    fig=plt.figure(figsize=(6,4))\r\n",
        "    plt.plot([0,1],[1,0],\"k--\")\r\n",
        "    plt.plot(fpr, tpr)\r\n",
        "    plt.xlabel(\"False Positive Rate\")\r\n",
        "    plt.ylabel(\"True Positive Rate\")\r\n",
        "    plt.title('ROC Curve')\r\n",
        "\r\n",
        "if __name__==\"__main__\":\r\n",
        "    args=parse_args()\r\n",
        "    main(args)\r\n",
        "    print(\"*\" * 60)\r\n",
        "    print(\"\\n\\n\")"
      ],
      "outputs": [
        {
          "output_type": "stream",
          "name": "stdout",
          "text": "Writing src/train-model-autolog.py\n"
        }
      ],
      "execution_count": 11,
      "metadata": {
        "jupyter": {
          "source_hidden": false,
          "outputs_hidden": false
        },
        "nteract": {
          "transient": {
            "deleting": false
          }
        }
      }
    },
    {
      "cell_type": "code",
      "source": [
        "from azure.ai.ml import command\r\n",
        "\r\n",
        "job=command(\r\n",
        "    code=\"./src\",\r\n",
        "    command=\"python train-model-autolog.py --training_data=diabetes.csv\",\r\n",
        "    environment=\"AzureML-sklearn-0.24-ubuntu18.04-py37-cpu@latest\",\r\n",
        "    compute=\"aml-cluster\",\r\n",
        "    display_name=\"diabetes-train-autolog\",\r\n",
        "    experiment_name=\"diabetes_training\",\r\n",
        "    )\r\n",
        "\r\n",
        "returned_job=ml_client.create_or_update(entity=job)\r\n",
        "aml_url=returned_job.studio_url\r\n",
        "print(f\"Monitor Your Job at: {aml_url}\")"
      ],
      "outputs": [
        {
          "output_type": "stream",
          "name": "stderr",
          "text": "\u001b[32mUploading src (0.53 MBs): 100%|██████████| 529814/529814 [00:00<00:00, 3717317.05it/s]\n\u001b[39m\n\n"
        },
        {
          "output_type": "stream",
          "name": "stdout",
          "text": "Monitor Your Job at: https://ml.azure.com/runs/happy_yak_958khbzz4g?wsid=/subscriptions/18a1f27f-edf5-495e-9acb-753c93335294/resourcegroups/rg-dp100-lc88cedc90b76441796/workspaces/mlw-dp100-lc88cedc90b76441796&tid=6a1d2f96-8cdf-4d1a-943d-7b73f4dfbb6d\n"
        }
      ],
      "execution_count": 12,
      "metadata": {
        "jupyter": {
          "source_hidden": false,
          "outputs_hidden": false
        },
        "nteract": {
          "transient": {
            "deleting": false
          }
        },
        "gather": {
          "logged": 1690534102806
        }
      }
    },
    {
      "cell_type": "markdown",
      "source": [
        "<h2> List the Experiments in the Workspace </h2>"
      ],
      "metadata": {
        "nteract": {
          "transient": {
            "deleting": false
          }
        }
      }
    },
    {
      "cell_type": "code",
      "source": [
        "import mlflow\r\n",
        "\r\n",
        "experiments=mlflow.search_experiments()\r\n",
        "\r\n",
        "for exp in experiments:\r\n",
        "    print(exp.name)"
      ],
      "outputs": [
        {
          "output_type": "stream",
          "name": "stdout",
          "text": "diabetes_training\n"
        }
      ],
      "execution_count": 15,
      "metadata": {
        "jupyter": {
          "source_hidden": false,
          "outputs_hidden": false
        },
        "nteract": {
          "transient": {
            "deleting": false
          }
        },
        "gather": {
          "logged": 1690534886461
        }
      }
    },
    {
      "cell_type": "markdown",
      "source": [
        "<h2> Retrieve a Specific Experiment by Name</h2>"
      ],
      "metadata": {
        "nteract": {
          "transient": {
            "deleting": false
          }
        }
      }
    },
    {
      "cell_type": "code",
      "source": [
        "experiment_name=\"diabetes_training\"\r\n",
        "exp=mlflow.get_experiment_by_name(name=experiment_name)\r\n",
        "print(exp)"
      ],
      "outputs": [
        {
          "output_type": "stream",
          "name": "stdout",
          "text": "<Experiment: artifact_location='', creation_time=1690533650515, experiment_id='e3592d90-8f22-464a-9fd1-7e5aac494842', last_update_time=None, lifecycle_stage='active', name='diabetes_training', tags={}>\n"
        }
      ],
      "execution_count": 16,
      "metadata": {
        "jupyter": {
          "source_hidden": false,
          "outputs_hidden": false
        },
        "nteract": {
          "transient": {
            "deleting": false
          }
        },
        "gather": {
          "logged": 1690535014053
        }
      }
    },
    {
      "cell_type": "markdown",
      "source": [
        "<h2> Retrieve all jobs of a specific Experiment </h2>"
      ],
      "metadata": {
        "nteract": {
          "transient": {
            "deleting": false
          }
        }
      }
    },
    {
      "cell_type": "code",
      "source": [
        "mlflow.search_runs(experiment_ids=exp.experiment_id)"
      ],
      "outputs": [
        {
          "output_type": "execute_result",
          "execution_count": 17,
          "data": {
            "text/plain": "                      run_id                         experiment_id    status  \\\n0  sincere_planet_11yjdlybsd  e3592d90-8f22-464a-9fd1-7e5aac494842    FAILED   \n1       happy_yak_958khbzz4g  e3592d90-8f22-464a-9fd1-7e5aac494842  FINISHED   \n2  magenta_basket_56g5msb8md  e3592d90-8f22-464a-9fd1-7e5aac494842  FINISHED   \n\n  artifact_uri                       start_time  \\\n0              2023-07-28 08:43:30.273000+00:00   \n1              2023-07-28 08:51:07.119000+00:00   \n2              2023-07-28 08:52:37.560000+00:00   \n\n                          end_time  metrics.AUC  metrics.Accuracy  \\\n0 2023-07-28 08:44:37.925000+00:00     0.848321             0.774   \n1 2023-07-28 08:52:32.727000+00:00          NaN               NaN   \n2 2023-07-28 08:52:50.731000+00:00     0.848320             0.774   \n\n   metrics.training_precision_score  metrics.training_accuracy_score  ...  \\\n0                               NaN                              NaN  ...   \n1                           0.78576                         0.790857  ...   \n2                               NaN                              NaN  ...   \n\n   params.n_jobs  params.solver  params.intercept_scaling  \\\n0           None           None                      None   \n1           None      liblinear                         1   \n2           None           None                      None   \n\n   params.fit_intercept  tags.mlflow.user     tags.model_type  \\\n0                  None   Ritish Adhikari  LogisticRegression   \n1                  True   Ritish Adhikari                None   \n2                  None   Ritish Adhikari  LogisticRegression   \n\n       tags.mlflow.rootRunId     tags.mlflow.runName tags.estimator_name  \\\n0  sincere_planet_11yjdlybsd   diabetes-train-mlflow                None   \n1       happy_yak_958khbzz4g  diabetes-train-autolog  LogisticRegression   \n2  magenta_basket_56g5msb8md   diabetes-train-mlflow                None   \n\n                                tags.estimator_class  \n0                                               None  \n1  sklearn.linear_model._logistic.LogisticRegression  \n2                                               None  \n\n[3 rows x 37 columns]",
            "text/html": "<div>\n<style scoped>\n    .dataframe tbody tr th:only-of-type {\n        vertical-align: middle;\n    }\n\n    .dataframe tbody tr th {\n        vertical-align: top;\n    }\n\n    .dataframe thead th {\n        text-align: right;\n    }\n</style>\n<table border=\"1\" class=\"dataframe\">\n  <thead>\n    <tr style=\"text-align: right;\">\n      <th></th>\n      <th>run_id</th>\n      <th>experiment_id</th>\n      <th>status</th>\n      <th>artifact_uri</th>\n      <th>start_time</th>\n      <th>end_time</th>\n      <th>metrics.AUC</th>\n      <th>metrics.Accuracy</th>\n      <th>metrics.training_precision_score</th>\n      <th>metrics.training_accuracy_score</th>\n      <th>...</th>\n      <th>params.n_jobs</th>\n      <th>params.solver</th>\n      <th>params.intercept_scaling</th>\n      <th>params.fit_intercept</th>\n      <th>tags.mlflow.user</th>\n      <th>tags.model_type</th>\n      <th>tags.mlflow.rootRunId</th>\n      <th>tags.mlflow.runName</th>\n      <th>tags.estimator_name</th>\n      <th>tags.estimator_class</th>\n    </tr>\n  </thead>\n  <tbody>\n    <tr>\n      <th>0</th>\n      <td>sincere_planet_11yjdlybsd</td>\n      <td>e3592d90-8f22-464a-9fd1-7e5aac494842</td>\n      <td>FAILED</td>\n      <td></td>\n      <td>2023-07-28 08:43:30.273000+00:00</td>\n      <td>2023-07-28 08:44:37.925000+00:00</td>\n      <td>0.848321</td>\n      <td>0.774</td>\n      <td>NaN</td>\n      <td>NaN</td>\n      <td>...</td>\n      <td>None</td>\n      <td>None</td>\n      <td>None</td>\n      <td>None</td>\n      <td>Ritish Adhikari</td>\n      <td>LogisticRegression</td>\n      <td>sincere_planet_11yjdlybsd</td>\n      <td>diabetes-train-mlflow</td>\n      <td>None</td>\n      <td>None</td>\n    </tr>\n    <tr>\n      <th>1</th>\n      <td>happy_yak_958khbzz4g</td>\n      <td>e3592d90-8f22-464a-9fd1-7e5aac494842</td>\n      <td>FINISHED</td>\n      <td></td>\n      <td>2023-07-28 08:51:07.119000+00:00</td>\n      <td>2023-07-28 08:52:32.727000+00:00</td>\n      <td>NaN</td>\n      <td>NaN</td>\n      <td>0.78576</td>\n      <td>0.790857</td>\n      <td>...</td>\n      <td>None</td>\n      <td>liblinear</td>\n      <td>1</td>\n      <td>True</td>\n      <td>Ritish Adhikari</td>\n      <td>None</td>\n      <td>happy_yak_958khbzz4g</td>\n      <td>diabetes-train-autolog</td>\n      <td>LogisticRegression</td>\n      <td>sklearn.linear_model._logistic.LogisticRegression</td>\n    </tr>\n    <tr>\n      <th>2</th>\n      <td>magenta_basket_56g5msb8md</td>\n      <td>e3592d90-8f22-464a-9fd1-7e5aac494842</td>\n      <td>FINISHED</td>\n      <td></td>\n      <td>2023-07-28 08:52:37.560000+00:00</td>\n      <td>2023-07-28 08:52:50.731000+00:00</td>\n      <td>0.848320</td>\n      <td>0.774</td>\n      <td>NaN</td>\n      <td>NaN</td>\n      <td>...</td>\n      <td>None</td>\n      <td>None</td>\n      <td>None</td>\n      <td>None</td>\n      <td>Ritish Adhikari</td>\n      <td>LogisticRegression</td>\n      <td>magenta_basket_56g5msb8md</td>\n      <td>diabetes-train-mlflow</td>\n      <td>None</td>\n      <td>None</td>\n    </tr>\n  </tbody>\n</table>\n<p>3 rows × 37 columns</p>\n</div>"
          },
          "metadata": {}
        }
      ],
      "execution_count": 17,
      "metadata": {
        "jupyter": {
          "source_hidden": false,
          "outputs_hidden": false
        },
        "nteract": {
          "transient": {
            "deleting": false
          }
        },
        "gather": {
          "logged": 1690535100847
        }
      }
    },
    {
      "cell_type": "markdown",
      "source": [
        "<h2> Sorts by Start Time and only Generates 2 Results</h2>"
      ],
      "metadata": {
        "nteract": {
          "transient": {
            "deleting": false
          }
        }
      }
    },
    {
      "cell_type": "code",
      "source": [
        "mlflow.search_runs(experiment_ids=exp.experiment_id,order_by=['start_time DESC'], max_results=2)"
      ],
      "outputs": [
        {
          "output_type": "execute_result",
          "execution_count": 22,
          "data": {
            "text/plain": "                      run_id                         experiment_id    status  \\\n0  magenta_basket_56g5msb8md  e3592d90-8f22-464a-9fd1-7e5aac494842  FINISHED   \n1       happy_yak_958khbzz4g  e3592d90-8f22-464a-9fd1-7e5aac494842  FINISHED   \n\n  artifact_uri                       start_time  \\\n0              2023-07-28 08:52:37.560000+00:00   \n1              2023-07-28 08:51:07.119000+00:00   \n\n                          end_time  metrics.AUC  metrics.Accuracy  \\\n0 2023-07-28 08:52:50.731000+00:00      0.84832             0.774   \n1 2023-07-28 08:52:32.727000+00:00          NaN               NaN   \n\n   metrics.training_precision_score  metrics.training_accuracy_score  ...  \\\n0                               NaN                              NaN  ...   \n1                           0.78576                         0.790857  ...   \n\n   params.n_jobs  params.solver  params.intercept_scaling  \\\n0           None           None                      None   \n1           None      liblinear                         1   \n\n   params.fit_intercept  tags.mlflow.user     tags.model_type  \\\n0                  None   Ritish Adhikari  LogisticRegression   \n1                  True   Ritish Adhikari                None   \n\n       tags.mlflow.rootRunId     tags.mlflow.runName tags.estimator_name  \\\n0  magenta_basket_56g5msb8md   diabetes-train-mlflow                None   \n1       happy_yak_958khbzz4g  diabetes-train-autolog  LogisticRegression   \n\n                                tags.estimator_class  \n0                                               None  \n1  sklearn.linear_model._logistic.LogisticRegression  \n\n[2 rows x 37 columns]",
            "text/html": "<div>\n<style scoped>\n    .dataframe tbody tr th:only-of-type {\n        vertical-align: middle;\n    }\n\n    .dataframe tbody tr th {\n        vertical-align: top;\n    }\n\n    .dataframe thead th {\n        text-align: right;\n    }\n</style>\n<table border=\"1\" class=\"dataframe\">\n  <thead>\n    <tr style=\"text-align: right;\">\n      <th></th>\n      <th>run_id</th>\n      <th>experiment_id</th>\n      <th>status</th>\n      <th>artifact_uri</th>\n      <th>start_time</th>\n      <th>end_time</th>\n      <th>metrics.AUC</th>\n      <th>metrics.Accuracy</th>\n      <th>metrics.training_precision_score</th>\n      <th>metrics.training_accuracy_score</th>\n      <th>...</th>\n      <th>params.n_jobs</th>\n      <th>params.solver</th>\n      <th>params.intercept_scaling</th>\n      <th>params.fit_intercept</th>\n      <th>tags.mlflow.user</th>\n      <th>tags.model_type</th>\n      <th>tags.mlflow.rootRunId</th>\n      <th>tags.mlflow.runName</th>\n      <th>tags.estimator_name</th>\n      <th>tags.estimator_class</th>\n    </tr>\n  </thead>\n  <tbody>\n    <tr>\n      <th>0</th>\n      <td>magenta_basket_56g5msb8md</td>\n      <td>e3592d90-8f22-464a-9fd1-7e5aac494842</td>\n      <td>FINISHED</td>\n      <td></td>\n      <td>2023-07-28 08:52:37.560000+00:00</td>\n      <td>2023-07-28 08:52:50.731000+00:00</td>\n      <td>0.84832</td>\n      <td>0.774</td>\n      <td>NaN</td>\n      <td>NaN</td>\n      <td>...</td>\n      <td>None</td>\n      <td>None</td>\n      <td>None</td>\n      <td>None</td>\n      <td>Ritish Adhikari</td>\n      <td>LogisticRegression</td>\n      <td>magenta_basket_56g5msb8md</td>\n      <td>diabetes-train-mlflow</td>\n      <td>None</td>\n      <td>None</td>\n    </tr>\n    <tr>\n      <th>1</th>\n      <td>happy_yak_958khbzz4g</td>\n      <td>e3592d90-8f22-464a-9fd1-7e5aac494842</td>\n      <td>FINISHED</td>\n      <td></td>\n      <td>2023-07-28 08:51:07.119000+00:00</td>\n      <td>2023-07-28 08:52:32.727000+00:00</td>\n      <td>NaN</td>\n      <td>NaN</td>\n      <td>0.78576</td>\n      <td>0.790857</td>\n      <td>...</td>\n      <td>None</td>\n      <td>liblinear</td>\n      <td>1</td>\n      <td>True</td>\n      <td>Ritish Adhikari</td>\n      <td>None</td>\n      <td>happy_yak_958khbzz4g</td>\n      <td>diabetes-train-autolog</td>\n      <td>LogisticRegression</td>\n      <td>sklearn.linear_model._logistic.LogisticRegression</td>\n    </tr>\n  </tbody>\n</table>\n<p>2 rows × 37 columns</p>\n</div>"
          },
          "metadata": {}
        }
      ],
      "execution_count": 22,
      "metadata": {
        "jupyter": {
          "source_hidden": false,
          "outputs_hidden": false
        },
        "nteract": {
          "transient": {
            "deleting": false
          }
        },
        "gather": {
          "logged": 1690535369640
        }
      }
    },
    {
      "cell_type": "code",
      "source": [
        "query=\"metrics.AUC > 0.8 and tags.model_type='LogisticRegression' and attributes.status = 'Failed' \"\r\n",
        "\r\n",
        "mlflow.search_runs(experiment_ids=exp.experiment_id, filter_string=query)"
      ],
      "outputs": [
        {
          "output_type": "execute_result",
          "execution_count": 37,
          "data": {
            "text/plain": "                      run_id                         experiment_id  status  \\\n0  sincere_planet_11yjdlybsd  e3592d90-8f22-464a-9fd1-7e5aac494842  FAILED   \n\n  artifact_uri                       start_time  \\\n0              2023-07-28 08:43:30.273000+00:00   \n\n                          end_time  metrics.AUC  metrics.Accuracy  \\\n0 2023-07-28 08:44:37.925000+00:00     0.848321             0.774   \n\n  params.Regularization Rate tags.mlflow.user     tags.model_type  \\\n0                       0.01  Ritish Adhikari  LogisticRegression   \n\n       tags.mlflow.rootRunId    tags.mlflow.runName  \n0  sincere_planet_11yjdlybsd  diabetes-train-mlflow  ",
            "text/html": "<div>\n<style scoped>\n    .dataframe tbody tr th:only-of-type {\n        vertical-align: middle;\n    }\n\n    .dataframe tbody tr th {\n        vertical-align: top;\n    }\n\n    .dataframe thead th {\n        text-align: right;\n    }\n</style>\n<table border=\"1\" class=\"dataframe\">\n  <thead>\n    <tr style=\"text-align: right;\">\n      <th></th>\n      <th>run_id</th>\n      <th>experiment_id</th>\n      <th>status</th>\n      <th>artifact_uri</th>\n      <th>start_time</th>\n      <th>end_time</th>\n      <th>metrics.AUC</th>\n      <th>metrics.Accuracy</th>\n      <th>params.Regularization Rate</th>\n      <th>tags.mlflow.user</th>\n      <th>tags.model_type</th>\n      <th>tags.mlflow.rootRunId</th>\n      <th>tags.mlflow.runName</th>\n    </tr>\n  </thead>\n  <tbody>\n    <tr>\n      <th>0</th>\n      <td>sincere_planet_11yjdlybsd</td>\n      <td>e3592d90-8f22-464a-9fd1-7e5aac494842</td>\n      <td>FAILED</td>\n      <td></td>\n      <td>2023-07-28 08:43:30.273000+00:00</td>\n      <td>2023-07-28 08:44:37.925000+00:00</td>\n      <td>0.848321</td>\n      <td>0.774</td>\n      <td>0.01</td>\n      <td>Ritish Adhikari</td>\n      <td>LogisticRegression</td>\n      <td>sincere_planet_11yjdlybsd</td>\n      <td>diabetes-train-mlflow</td>\n    </tr>\n  </tbody>\n</table>\n</div>"
          },
          "metadata": {}
        }
      ],
      "execution_count": 37,
      "metadata": {
        "jupyter": {
          "source_hidden": false,
          "outputs_hidden": false
        },
        "nteract": {
          "transient": {
            "deleting": false
          }
        },
        "gather": {
          "logged": 1690535965969
        }
      }
    },
    {
      "cell_type": "markdown",
      "source": [
        "<a href=\"https://learn.microsoft.com/en-us/azure/machine-learning/how-to-track-experiments-mlflow?view=azureml-api-2\">  Link to Azure MLFlow  </a>"
      ],
      "metadata": {
        "nteract": {
          "transient": {
            "deleting": false
          }
        }
      }
    },
    {
      "cell_type": "code",
      "source": [],
      "outputs": [],
      "execution_count": null,
      "metadata": {
        "jupyter": {
          "source_hidden": false,
          "outputs_hidden": false
        },
        "nteract": {
          "transient": {
            "deleting": false
          }
        }
      }
    }
  ],
  "metadata": {
    "kernelspec": {
      "name": "python310-sdkv2",
      "language": "python",
      "display_name": "Python 3.10 - SDK v2"
    },
    "language_info": {
      "name": "python",
      "version": "3.10.11",
      "mimetype": "text/x-python",
      "codemirror_mode": {
        "name": "ipython",
        "version": 3
      },
      "pygments_lexer": "ipython3",
      "nbconvert_exporter": "python",
      "file_extension": ".py"
    },
    "microsoft": {
      "ms_spell_check": {
        "ms_spell_check_language": "en"
      },
      "host": {
        "AzureML": {
          "notebookHasBeenCompleted": true
        }
      }
    },
    "kernel_info": {
      "name": "python310-sdkv2"
    },
    "nteract": {
      "version": "nteract-front-end@1.0.0"
    }
  },
  "nbformat": 4,
  "nbformat_minor": 2
}