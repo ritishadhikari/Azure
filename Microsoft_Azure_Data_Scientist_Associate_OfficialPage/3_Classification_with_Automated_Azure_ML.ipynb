{
  "cells": [
    {
      "cell_type": "code",
      "source": [
        "pip show azure-ai-ml"
      ],
      "outputs": [
        {
          "output_type": "stream",
          "name": "stdout",
          "text": "Name: azure-ai-ml\r\nVersion: 1.8.0\r\nSummary: Microsoft Azure Machine Learning Client Library for Python\r\nHome-page: https://github.com/Azure/azure-sdk-for-python\r\nAuthor: Microsoft Corporation\r\nAuthor-email: azuresdkengsysadmins@microsoft.com\r\nLicense: MIT License\r\nLocation: /anaconda/envs/azureml_py310_sdkv2/lib/python3.10/site-packages\r\nRequires: azure-common, azure-core, azure-mgmt-core, azure-storage-blob, azure-storage-file-datalake, azure-storage-file-share, colorama, isodate, jsonschema, marshmallow, msrest, opencensus-ext-azure, pydash, pyjwt, pyyaml, strictyaml, tqdm, typing-extensions\r\nRequired-by: \r\nNote: you may need to restart the kernel to use updated packages.\n"
        }
      ],
      "execution_count": 1,
      "metadata": {
        "gather": {
          "logged": 1690357747338
        }
      }
    },
    {
      "cell_type": "code",
      "source": [
        "from azure.identity import DefaultAzureCredential, InteractiveBrowserCredential\r\n",
        "from azure.ai.ml import MLClient\r\n",
        "\r\n",
        "try:\r\n",
        "    credential=DefaultAzureCredential()\r\n",
        "    credential.get_token(\"https://management.azure.com/.default\")\r\n",
        "except Exception as ex:\r\n",
        "    credential=InteractiveBrowserCredential()"
      ],
      "outputs": [],
      "execution_count": 3,
      "metadata": {
        "jupyter": {
          "source_hidden": false,
          "outputs_hidden": false
        },
        "nteract": {
          "transient": {
            "deleting": false
          }
        },
        "gather": {
          "logged": 1690357928449
        }
      }
    },
    {
      "cell_type": "code",
      "source": [
        "ml_client=MLClient.from_config(credential=credential)"
      ],
      "outputs": [
        {
          "output_type": "stream",
          "name": "stderr",
          "text": "Found the config file in: /config.json\n"
        }
      ],
      "execution_count": 4,
      "metadata": {
        "jupyter": {
          "source_hidden": false,
          "outputs_hidden": false
        },
        "nteract": {
          "transient": {
            "deleting": false
          }
        },
        "gather": {
          "logged": 1690357968198
        }
      }
    },
    {
      "cell_type": "code",
      "source": [
        "MLClient.from_config(credential=credential)"
      ],
      "outputs": [
        {
          "output_type": "stream",
          "name": "stderr",
          "text": "Found the config file in: /config.json\n"
        },
        {
          "output_type": "execute_result",
          "execution_count": 5,
          "data": {
            "text/plain": "MLClient(credential=<azure.identity._credentials.default.DefaultAzureCredential object at 0x7f6979416110>,\n         subscription_id=18a1f27f-edf5-495e-9acb-753c93335294,\n         resource_group_name=rg-dp100-l73933f31d0c94dca80,\n         workspace_name=mlw-dp100-l73933f31d0c94dca80)"
          },
          "metadata": {}
        }
      ],
      "execution_count": 5,
      "metadata": {
        "jupyter": {
          "source_hidden": false,
          "outputs_hidden": false
        },
        "nteract": {
          "transient": {
            "deleting": false
          }
        },
        "gather": {
          "logged": 1690357975565
        }
      }
    },
    {
      "cell_type": "code",
      "source": [
        "from azure.ai.ml.constants import AssetTypes\r\n",
        "from azure.ai.ml import Input\r\n",
        "\r\n",
        "# creates a dataset based on the files in the local data folder\r\n",
        "# check for this uri in Named asset URI under the data asset name: diabetes-training\r\n",
        "my_training_data_input=Input(type=AssetTypes.MLTABLE, path=\"azureml:diabetes-training:1\")"
      ],
      "outputs": [],
      "execution_count": 6,
      "metadata": {
        "jupyter": {
          "source_hidden": false,
          "outputs_hidden": false
        },
        "nteract": {
          "transient": {
            "deleting": false
          }
        },
        "gather": {
          "logged": 1690358347653
        }
      }
    },
    {
      "cell_type": "code",
      "source": [
        "from azure.ai.ml import automl\r\n",
        "\r\n",
        "# configure the classification job\r\n",
        "classification_job=automl.classification(\r\n",
        "    compute=\"aml-cluster\",\r\n",
        "    experiment_name=\"auto-ml-class-dev\",\r\n",
        "    training_data=my_training_data_input,\r\n",
        "    target_column_name=\"Diabetic\",\r\n",
        "    primary_metric=\"accuracy\",\r\n",
        "    n_cross_validations=5,\r\n",
        "    enable_model_explainability=True\r\n",
        ")\r\n",
        "\r\n",
        "# Set the Limits (optional)\r\n",
        "classification_job.set_limits(\r\n",
        "    enable_early_termination=True,\r\n",
        "    timeout_minutes=60,\r\n",
        "    trial_timeout_minutes=20,\r\n",
        "    max_trials=5\r\n",
        "    )\r\n",
        "\r\n",
        "# Set the Training Properties (Optional)\r\n",
        "classification_job.set_training(\r\n",
        "    blocked_training_algorithms=['LogisticRegression'],\r\n",
        "    # Stack Ensemble is disabled if set to True\r\n",
        "    enable_onnx_compatible_models=True\r\n",
        "\r\n",
        ")\r\n"
      ],
      "outputs": [],
      "execution_count": 7,
      "metadata": {
        "jupyter": {
          "source_hidden": false,
          "outputs_hidden": false
        },
        "nteract": {
          "transient": {
            "deleting": false
          }
        },
        "gather": {
          "logged": 1690358968676
        }
      }
    },
    {
      "cell_type": "code",
      "source": [
        "returned_job=ml_client.jobs.create_or_update(job=classification_job)\r\n",
        "\r\n",
        "aml_url=returned_job.studio_url\r\n",
        "print(f\"Monitor Results at: {aml_url}\")"
      ],
      "outputs": [
        {
          "output_type": "stream",
          "name": "stdout",
          "text": "Monitor Results at: https://ml.azure.com/runs/dynamic_berry_z5ydkr8dnf?wsid=/subscriptions/18a1f27f-edf5-495e-9acb-753c93335294/resourcegroups/rg-dp100-l73933f31d0c94dca80/workspaces/mlw-dp100-l73933f31d0c94dca80&tid=6a1d2f96-8cdf-4d1a-943d-7b73f4dfbb6d\n"
        }
      ],
      "execution_count": 8,
      "metadata": {
        "jupyter": {
          "source_hidden": false,
          "outputs_hidden": false
        },
        "nteract": {
          "transient": {
            "deleting": false
          }
        },
        "gather": {
          "logged": 1690359063702
        }
      }
    },
    {
      "cell_type": "code",
      "source": [],
      "outputs": [],
      "execution_count": null,
      "metadata": {
        "jupyter": {
          "source_hidden": false,
          "outputs_hidden": false
        },
        "nteract": {
          "transient": {
            "deleting": false
          }
        }
      }
    }
  ],
  "metadata": {
    "kernelspec": {
      "name": "python310-sdkv2",
      "language": "python",
      "display_name": "Python 3.10 - SDK v2"
    },
    "language_info": {
      "name": "python",
      "version": "3.10.11",
      "mimetype": "text/x-python",
      "codemirror_mode": {
        "name": "ipython",
        "version": 3
      },
      "pygments_lexer": "ipython3",
      "nbconvert_exporter": "python",
      "file_extension": ".py"
    },
    "microsoft": {
      "ms_spell_check": {
        "ms_spell_check_language": "en"
      }
    },
    "kernel_info": {
      "name": "python310-sdkv2"
    },
    "nteract": {
      "version": "nteract-front-end@1.0.0"
    }
  },
  "nbformat": 4,
  "nbformat_minor": 2
}